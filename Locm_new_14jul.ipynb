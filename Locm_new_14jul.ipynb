{
 "cells": [
  {
   "cell_type": "markdown",
   "metadata": {},
   "source": [
    "# Learn the domain model in PDDL using iLOCM\n",
    "\n",
    "**interactive-LOCM**\n",
    "This code combines LOCM1 and LOCM2 algorithms and is last part of the pipeline that I use in my thesis to generate PDDL models from instructional texts.\n",
    "\n",
    "- Step 0: Preprocess: Lemmatize, Coref resolve, action override rename and replacing empty parameters.\n",
    "- Step 1: Find classes and make transition graphs.\n",
    "- Step 2: Get transistion sets from LOCM2 algorithm\n",
    "- Step 3: Create FSMs\n",
    "- Step 4: Perform Zero Analysis and add new FSM if necessary.\n",
    "- Step 5: Create and test hypothesis for state parameters\n",
    "- Step 6: Create and merge state parameters\n",
    "- Step 7: Remove parameter flaws\n",
    "- Step 8: Extract static preconditions\n",
    "- Step 9: Form action schemas"
   ]
  },
  {
   "cell_type": "code",
   "execution_count": 31,
   "metadata": {},
   "outputs": [],
   "source": [
    "from collections import defaultdict\n",
    "import itertools\n",
    "import os\n",
    "from tabulate import tabulate\n",
    "from pprint import pprint\n",
    "import matplotlib.pyplot as plt\n",
    "%matplotlib inline\n",
    "import networkx as nx\n",
    "import pandas as pd\n",
    "pd.options.display.max_columns = 100\n",
    "from IPython.display import display, Markdown\n",
    "from ipycytoscape import *"
   ]
  },
  {
   "cell_type": "markdown",
   "metadata": {},
   "source": [
    "## Read input file"
   ]
  },
  {
   "cell_type": "code",
   "execution_count": 32,
   "metadata": {},
   "outputs": [],
   "source": [
    "import string\n",
    "def read_file(input_file_name):\n",
    "    '''\n",
    "    Read the input data and return list of action sequences.\n",
    "    Each sequence is a list of action-argumentlist tuples.\n",
    "    '''\n",
    "    file = open(input_file_name, 'r')\n",
    "    sequences = []\n",
    "    for line in file:\n",
    "        \n",
    "        actions = []\n",
    "        arguments = []\n",
    "        if line and not line.isspace() and len(line)>1:\n",
    "            sequence = line.rstrip(\"\\n\\r\").lstrip(\"\\n\\r\").lower() \n",
    "            action_defs = sequence.split(\"),\")\n",
    "\n",
    "            for action_def in action_defs:\n",
    "                action = action_def.split('(')[0].strip(\")\\n\\r\").strip()\n",
    "                argument = action_def.split('(')[1].strip(\")\\n\\r\")\n",
    "                actions.append(action.translate(str.maketrans('', '', string.punctuation)))\n",
    "                argument_list = argument.split(',')\n",
    "                argument_list = [x.strip() for x in argument_list]\n",
    "                #argument_list.insert(0,'zero')\n",
    "                arguments.append(argument_list)\n",
    "                \n",
    "            \n",
    "            actarg_tuples = zip(actions,arguments)\n",
    "            sequences.append(list(actarg_tuples))\n",
    "    return sequences\n",
    "\n",
    "def print_sequences(sequences):\n",
    "    for seq in sequences:\n",
    "        for index,action in enumerate(seq):\n",
    "            print(str(index) + \": \" + str(action))\n",
    "        print()"
   ]
  },
  {
   "cell_type": "code",
   "execution_count": 33,
   "metadata": {
    "lines_to_next_cell": 2,
    "scrolled": false
   },
   "outputs": [],
   "source": [
    "# sequences = read_file(input_file_name)\n",
    "sequences = read_file('./locm_data/tyre_locmfeb.txt')\n",
    "# print_sequences(sequences)\n",
    "domain_name = 'tyre' #specify domain name to  be used in PDDL here."
   ]
  },
  {
   "cell_type": "markdown",
   "metadata": {},
   "source": [
    "## Step 1.1: Find classes "
   ]
  },
  {
   "cell_type": "code",
   "execution_count": 34,
   "metadata": {},
   "outputs": [
    {
     "name": "stdout",
     "output_type": "stream",
     "text": [
      "\n",
      "Actions\n",
      "{'doup', 'fetchjack', 'removewheel', 'tighten', 'fetchwrench', 'opencontainer', 'fetchwheel', 'undo', 'putawaywrench', 'jackdown', 'putonwheel', 'putawaywheel', 'putawayjack', 'loosen', 'closecontainer', 'jackup'}\n",
      "\n",
      "Arguments/Objects\n",
      "{'wheel2', 'nuts1', 'wheel1', 'jack1', 'hub0', 'boot1', 'nuts0', 'wrench0', 'boot0', 'jack0', 'wrench1', 'hub1', 'wheel0'}\n"
     ]
    }
   ],
   "source": [
    "transitions = set() # A transition is denoted by action_name + argument position\n",
    "arguments = set()\n",
    "actions = set()\n",
    "for seq in sequences:\n",
    "    for actarg_tuple in seq:\n",
    "        actions.add(actarg_tuple[0])\n",
    "        for j, arg in enumerate(actarg_tuple[1]):\n",
    "            transitions.add(actarg_tuple[0]+\".\"+str(j))\n",
    "            arguments.add(arg)\n",
    "\n",
    "print(\"\\nActions\")\n",
    "print(actions)\n",
    "# print(\"\\nTransitions\")\n",
    "# print(transitions)\n",
    "print(\"\\nArguments/Objects\")\n",
    "print(arguments)"
   ]
  },
  {
   "cell_type": "code",
   "execution_count": 35,
   "metadata": {},
   "outputs": [],
   "source": [
    "def get_actarg_dictionary(sequences):\n",
    "    d = defaultdict(list)\n",
    "    for seq in sequences:\n",
    "        for actarg_tuple in seq:\n",
    "            d[actarg_tuple[0]].append(actarg_tuple[1])\n",
    "    return d\n",
    "d = get_actarg_dictionary(sequences)"
   ]
  },
  {
   "cell_type": "code",
   "execution_count": 36,
   "metadata": {},
   "outputs": [],
   "source": [
    "# class util functions.\n",
    "def get_classes(d):\n",
    "    # TODO incorporate word similarity in get classes.\n",
    "    c = defaultdict(set)\n",
    "    for k,v in d.items():\n",
    "        for arg_list in v:\n",
    "            for i,object in enumerate(arg_list):\n",
    "                c[k,i].add(object)\n",
    "\n",
    "    sets = c.values()\n",
    "    classes = []\n",
    "    # remove duplicate classes\n",
    "    for s in sets:\n",
    "        if s not in classes:\n",
    "            classes.append(s)\n",
    "\n",
    "    # now do pairwise intersections of all values. If intersection, combine them; then return the final sets.\n",
    "    classes_copy = list(classes)\n",
    "    while True:\n",
    "        combinations = list(itertools.combinations(classes_copy,2))\n",
    "        intersections_count = 0\n",
    "        for combination in combinations:\n",
    "            if combination[0].intersection(combination[1]):\n",
    "                intersections_count +=1\n",
    "\n",
    "                if combination[0] in classes_copy:\n",
    "                    classes_copy.remove(combination[0])\n",
    "                if combination[1] in classes_copy:\n",
    "                    classes_copy.remove(combination[1])\n",
    "                classes_copy.append(combination[0].union(combination[1]))\n",
    "\n",
    "        if intersections_count==0:\n",
    "            # print(\"no intersections left\")\n",
    "            break\n",
    "\n",
    "    return classes_copy\n",
    "\n",
    "# TODO: Can use better approach here. NER might help.\n",
    "def get_class_names(classes):\n",
    "    # Name the class to first object found ignoring the digits in it\n",
    "    class_names = []\n",
    "    for c in classes:\n",
    "        for object in c:\n",
    "#             object = ''.join([i for i in object if not i.isdigit()])\n",
    "            class_names.append(object)\n",
    "            break\n",
    "    return class_names\n",
    "\n",
    "def get_class_index(arg,classes):\n",
    "    for class_index, c in enumerate(classes):\n",
    "        if arg in c:\n",
    "            return class_index #it is like breaking out of the loop\n",
    "    print(\"Error:class index not found\") #this statement is only executed if class index is not returned."
   ]
  },
  {
   "cell_type": "code",
   "execution_count": 37,
   "metadata": {
    "lines_to_next_cell": 0
   },
   "outputs": [
    {
     "name": "stdout",
     "output_type": "stream",
     "text": [
      "\n",
      "Sorts/Classes\n",
      "[{'jack0', 'jack1'}, {'boot1', 'boot0'}, {'wheel2', 'wheel0', 'wheel1'}, {'hub1', 'hub0'}, {'wrench1', 'wrench0'}, {'nuts1', 'nuts0'}]\n",
      "\n",
      "Extracted class names\n",
      "['jack0', 'boot1', 'wheel2', 'hub1', 'wrench1', 'nuts1']\n"
     ]
    }
   ],
   "source": [
    "classes = get_classes(d) #sorts of object\n",
    "print(\"\\nSorts/Classes\")\n",
    "print(classes)\n",
    "\n",
    "class_names = get_class_names(classes)\n",
    "print(\"\\nExtracted class names\")\n",
    "print(class_names)"
   ]
  },
  {
   "cell_type": "markdown",
   "metadata": {},
   "source": [
    "## USER INPUT 1: Enter Correct Class names\n",
    "Editing the extracted class names to more readable object classes will make the final PDDL model more readable."
   ]
  },
  {
   "cell_type": "code",
   "execution_count": 38,
   "metadata": {
    "lines_to_next_cell": 2
   },
   "outputs": [
    {
     "name": "stdout",
     "output_type": "stream",
     "text": [
      "\n",
      "Renamed class names\n",
      "['Jack', 'Boot', 'Wheel', 'Hub', 'Wrench', 'Nut']\n"
     ]
    }
   ],
   "source": [
    "############ (Optional) User Input ############\n",
    "# Give user an option to change class names.\n",
    "# class_names[0] = 'rocket'\n",
    "\n",
    "#tyre\n",
    "class_names[0] = 'Jack'\n",
    "class_names[1] = 'Boot'\n",
    "class_names[2] = 'Wheel'\n",
    "class_names[3] = 'Hub'\n",
    "class_names[4] = 'Wrench'\n",
    "class_names[5] = 'Nut'\n",
    "\n",
    "#driverlog\n",
    "# class_names[0] = 'Driver'\n",
    "# class_names[1] = 'Truck'\n",
    "# class_names[2] = 'Package'\n",
    "# class_names[3] = 'Location'\n",
    "\n",
    "# #blocksworld\n",
    "# class_names[0] = 'Block'\n",
    "# class_names[1] = 'Gripper'\n",
    "\n",
    "\n",
    "print(\"\\nRenamed class names\")\n",
    "print(class_names)"
   ]
  },
  {
   "cell_type": "markdown",
   "metadata": {},
   "source": [
    " **Assumptions of LOCM2**\n",
    "- Each object of a same class undergoes similar kind of transition.\n",
    "- Objects of same class in a same action undergo similar kind of transition."
   ]
  },
  {
   "cell_type": "code",
   "execution_count": 39,
   "metadata": {},
   "outputs": [
    {
     "name": "stdout",
     "output_type": "stream",
     "text": [
      "\n",
      "Actions\n",
      "{'doup', 'fetchjack', 'removewheel', 'tighten', 'fetchwrench', 'opencontainer', 'fetchwheel', 'undo', 'putawaywrench', 'jackdown', 'putonwheel', 'putawaywheel', 'putawayjack', 'loosen', 'closecontainer', 'jackup'}\n",
      "\n",
      "Transitions\n",
      "{'putonwheel.Wheel.#0', 'putawaywheel.Boot.#1', 'fetchwrench.Wrench.#0', 'jackdown.Hub.#0', 'tighten.Nut.#0', 'jackdown.Jack.#1', 'loosen.Wrench.#2', 'putawayjack.Boot.#1', 'removewheel.Hub.#1', 'tighten.Wrench.#2', 'undo.Hub.#1', 'doup.Nut.#0', 'doup.Wrench.#2', 'undo.Jack.#3', 'fetchwheel.Boot.#1', 'undo.Wrench.#2', 'putawaywrench.Wrench.#0', 'fetchwheel.Wheel.#0', 'undo.Nut.#0', 'doup.Jack.#3', 'loosen.Hub.#1', 'opencontainer.Boot.#0', 'tighten.Hub.#1', 'removewheel.Wheel.#0', 'putawayjack.Jack.#0', 'putonwheel.Hub.#1', 'doup.Hub.#1', 'removewheel.Jack.#2', 'jackup.Jack.#1', 'putonwheel.Jack.#2', 'fetchjack.Jack.#0', 'putawaywrench.Boot.#1', 'closecontainer.Boot.#0', 'loosen.Nut.#0', 'putawaywheel.Wheel.#0', 'fetchjack.Boot.#1', 'jackup.Hub.#0', 'fetchwrench.Boot.#1'}\n",
      "\n",
      "Arguments/Objects\n",
      "{'wheel2', 'nuts1', 'wheel1', 'jack1', 'hub0', 'boot1', 'nuts0', 'wrench0', 'boot0', 'jack0', 'wrench1', 'hub1', 'wheel0'}\n"
     ]
    }
   ],
   "source": [
    "# change transitions to be more meaningful by incorporating class_names.\n",
    "full_transitions = set()\n",
    "for seq in sequences:\n",
    "    for actarg_tuple in seq:\n",
    "        actions.add(actarg_tuple[0])\n",
    "        for j, arg in enumerate(actarg_tuple[1]):\n",
    "            full_transitions.add(actarg_tuple[0]+\".\"+class_names[get_class_index(arg,classes)]+\".#\"+str(j))\n",
    "            arguments.add(arg)\n",
    "\n",
    "print(\"\\nActions\")\n",
    "print(actions)\n",
    "print(\"\\nTransitions\")\n",
    "print(full_transitions)\n",
    "print(\"\\nArguments/Objects\")\n",
    "print(arguments)"
   ]
  },
  {
   "cell_type": "code",
   "execution_count": 40,
   "metadata": {},
   "outputs": [
    {
     "name": "stdout",
     "output_type": "stream",
     "text": [
      "\n",
      "Number of Actions: 16,\n",
      "Number of unique transitions: 38,\n",
      "Number of unique objects (arguments): 13,\n",
      "Number of classes/sorts: 6\n"
     ]
    }
   ],
   "source": [
    "print(\"\\nNumber of Actions: {},\\nNumber of unique transitions: {},\\nNumber of unique objects (arguments): {},\\nNumber of classes/sorts: {}\".format(len(actions), len(transitions), len(arguments), len(classes)))"
   ]
  },
  {
   "cell_type": "markdown",
   "metadata": {},
   "source": [
    "## Building Transition graphs"
   ]
  },
  {
   "cell_type": "markdown",
   "metadata": {},
   "source": [
    "### Utils"
   ]
  },
  {
   "cell_type": "code",
   "execution_count": 41,
   "metadata": {
    "lines_to_next_cell": 0
   },
   "outputs": [],
   "source": [
    "def empty_directory(folder):\n",
    "    for the_file in os.listdir(folder):\n",
    "        file_path = os.path.join(folder, the_file)\n",
    "        try:\n",
    "            if os.path.isfile(file_path):\n",
    "                os.unlink(file_path)\n",
    "            # elif os.path.isdir(file_path): shutil.rmtree(file_path)\n",
    "        except Exception as e:\n",
    "            print(e)\n",
    "\n",
    "def findsubsets(S,m):\n",
    "    return set(itertools.combinations(S, m))\n",
    "\n",
    "def print_table(matrix):\n",
    "    display(tabulate(matrix, headers='keys', tablefmt='html'))\n",
    "    \n",
    "def printmd(string):\n",
    "    display(Markdown(string))"
   ]
  },
  {
   "cell_type": "markdown",
   "metadata": {},
   "source": [
    "### Save graphs in graphml format (used in cytoscape)"
   ]
  },
  {
   "cell_type": "code",
   "execution_count": 42,
   "metadata": {},
   "outputs": [],
   "source": [
    "def save(graphs, domain_name):\n",
    "    adjacency_matrix_list = [] # list of adjacency matrices per class\n",
    "    \n",
    "    for index, G in enumerate(graphs):\n",
    "        nx.write_graphml(G, \"output/\"+ domain_name + \"/\" +  class_names[index] + \".graphml\")\n",
    "        df = nx.to_pandas_adjacency(G, nodelist=G.nodes(), dtype=int)\n",
    "        adjacency_matrix_list.append(df)\n",
    "#         print_table(df)\n",
    "    return adjacency_matrix_list"
   ]
  },
  {
   "cell_type": "code",
   "execution_count": 43,
   "metadata": {},
   "outputs": [],
   "source": [
    "def plot_cytographs(graphs, domain_name, aml):\n",
    "    cytoscapeobs = []\n",
    "    for index, G in enumerate(graphs):\n",
    "            cytoscapeobj = CytoscapeWidget()\n",
    "            cytoscapeobj.graph.add_graph_from_networkx(G)\n",
    "            edge_list = list()\n",
    "            for source, target, data in G.edges(data=True):\n",
    "                edge_instance = Edge()\n",
    "                edge_instance.data['source'] = source\n",
    "                edge_instance.data['target'] = target\n",
    "                for k, v in data.items():\n",
    "                    cyto_attrs = ['group', 'removed', 'selected', 'selectable',\n",
    "                        'locked', 'grabbed', 'grabbable', 'classes', 'position', 'data']\n",
    "                    if k in cyto_attrs:\n",
    "                        setattr(edge_instance, k, v)\n",
    "                    else:\n",
    "                        edge_instance.data[k] = v\n",
    "                    edge_list.append(edge_instance)\n",
    "            cytoscapeobj.graph.edges = edge_list\n",
    "#             cytoscapeobj.graph.add_graph_from_df(aml[index],aml[index].columns.tolist())\n",
    "            cytoscapeobs.append(cytoscapeobj)\n",
    "#             print(cytoscapeobj)\n",
    "            printmd('## class **'+class_names[index]+'**')\n",
    "            print_table(aml[index])\n",
    "    #         print(\"Nodes:{}\".format(G.nodes()))\n",
    "    #         print(\"Edges:{}\".format(G.edges()))\n",
    "            cytoscapeobj.set_style([{\n",
    "                            'width':400,\n",
    "                            'height':400,\n",
    "\n",
    "                            'selector': 'node',\n",
    "                            'style': {\n",
    "                                'label': 'data(id)',\n",
    "                                'font-family': 'helvetica',\n",
    "                                'font-size': '8px',\n",
    "                                'background-color': '#11479e',\n",
    "                                'height':'10px',\n",
    "                                'width':'10px',\n",
    "\n",
    "\n",
    "                                }\n",
    "\n",
    "                            },\n",
    "                            {\n",
    "                            'selector': 'node:parent',\n",
    "                            'css': {\n",
    "                                'background-opacity': 0.333,\n",
    "                                'background-color': '#bbb'\n",
    "                                }\n",
    "                            },\n",
    "                            {\n",
    "                            'selector': '$node > node',\n",
    "                            'css': {\n",
    "                                'padding-top': '10px',\n",
    "                                'padding-left': '10px',\n",
    "                                'padding-bottom': '10px',\n",
    "                                'padding-right': '10px',\n",
    "                                'text-valign': 'top',\n",
    "                                'text-halign': 'center',\n",
    "                                'background-color': '#bbb'\n",
    "                              }\n",
    "                            },\n",
    "                           {\n",
    "                                'selector': 'edge',\n",
    "\n",
    "                                'style': {\n",
    "                                    'label':'data(weight)',\n",
    "                                    'width': 1,\n",
    "                                    'line-color': '#9dbaea',\n",
    "                                    'target-arrow-shape': 'triangle',\n",
    "                                    'target-arrow-color': '#9dbaea',\n",
    "                                    'arrow-scale': 0.5,\n",
    "                                    'curve-style': 'bezier',\n",
    "                                    'font-family': 'helvetica',\n",
    "                                    'font-size': '8px',\n",
    "                                    'text-valign': 'top',\n",
    "                                    'text-halign':'center'\n",
    "                                }\n",
    "                            },\n",
    "                            ])\n",
    "            cytoscapeobj.max_zoom = 4.0\n",
    "            cytoscapeobj.min_zoom = 0.5\n",
    "            display(cytoscapeobj)\n",
    "    return cytoscapeobs"
   ]
  },
  {
   "cell_type": "markdown",
   "metadata": {},
   "source": [
    "#### Build transitions graphs and call save function"
   ]
  },
  {
   "cell_type": "code",
   "execution_count": 44,
   "metadata": {},
   "outputs": [],
   "source": [
    "def build_and_save_transition_graphs(classes, domain_name, class_names):\n",
    "    # There should be a graph for each class of objects.\n",
    "    graphs = []\n",
    "    # Initialize all graphs empty\n",
    "    for sort in classes:\n",
    "        graphs.append(nx.DiGraph())\n",
    "\n",
    "    consecutive_transition_lists = [] #list of consecutive transitions per object instance per sequence.\n",
    "\n",
    "    for m, arg in enumerate(arguments):  # for all arguments (objects found in sequences)\n",
    "        for n, seq in enumerate(sequences):  # for all sequences\n",
    "            consecutive_transition_list = list()  # consecutive transition list for a sequence and an object (arg)\n",
    "            for i, actarg_tuple in enumerate(seq):\n",
    "                for j, arg_prime in enumerate(actarg_tuple[1]):  # for all arguments in actarg tuples\n",
    "                    if arg == arg_prime:  # if argument matches arg\n",
    "                        node = actarg_tuple[0] + \".\" +  str(j)\n",
    "                        # node = actarg_tuple[0] +  \".\" + class_names[get_class_index(arg,classes)] + \".\" +  str(j)  # name the node of graph which represents a transition\n",
    "                        consecutive_transition_list.append(node)  # add node to the cons_transition for sequence and argument\n",
    "\n",
    "                        # for each class append the nodes to the graph of that class\n",
    "                        class_index = get_class_index(arg_prime, classes)  # get index of class to which the object belongs to\n",
    "                        graphs[class_index].add_node(node)  # add node to the graph of that class\n",
    "\n",
    "            consecutive_transition_lists.append([n, arg, consecutive_transition_list])\n",
    "\n",
    "    # print(consecutive_transition_lists)\n",
    "    # for all consecutive transitions add edges to the appropriate graphs.\n",
    "    for cons_trans_list in consecutive_transition_lists:\n",
    "        # print(cons_trans_list)\n",
    "        seq_no = cons_trans_list[0]  # get sequence number\n",
    "        arg = cons_trans_list[1]  # get argument\n",
    "        class_index = get_class_index(arg, classes)  # get index of class\n",
    "        # add directed edges to graph of that class\n",
    "        for i in range(0, len(cons_trans_list[2]) - 1):\n",
    "                if graphs[class_index].has_edge(cons_trans_list[2][i], cons_trans_list[2][i + 1]):\n",
    "                    graphs[class_index][cons_trans_list[2][i]][cons_trans_list[2][i + 1]]['weight'] += 1\n",
    "                else:\n",
    "                    graphs[class_index].add_edge(cons_trans_list[2][i], cons_trans_list[2][i + 1], weight=1)\n",
    "\n",
    "\n",
    "    \n",
    "    # make directory if doesn't exist\n",
    "    dirName = \"output/\"+ domain_name\n",
    "    if not os.path.exists(dirName):\n",
    "        os.makedirs(dirName)\n",
    "        print(\"Directory \", dirName, \" Created \")\n",
    "    else:\n",
    "        print(\"Directory \", dirName, \" already exists\")\n",
    "    empty_directory(dirName)\n",
    "     \n",
    "    # save all the graphs\n",
    "    adjacency_matrix_list = save(graphs, domain_name) # list of adjacency matrices per class\n",
    "    \n",
    "    # plot cytoscape interactive graphs\n",
    "    cytoscapeobs = plot_cytographs(graphs,domain_name, adjacency_matrix_list)\n",
    "    \n",
    "    return adjacency_matrix_list, graphs, cytoscapeobs"
   ]
  },
  {
   "cell_type": "markdown",
   "metadata": {},
   "source": [
    "##### Transition Graphs"
   ]
  },
  {
   "cell_type": "code",
   "execution_count": 45,
   "metadata": {
    "scrolled": false
   },
   "outputs": [
    {
     "data": {
      "text/markdown": [
       "## TYRE"
      ],
      "text/plain": [
       "<IPython.core.display.Markdown object>"
      ]
     },
     "metadata": {},
     "output_type": "display_data"
    },
    {
     "name": "stdout",
     "output_type": "stream",
     "text": [
      "Directory  output/tyre  already exists\n"
     ]
    },
    {
     "data": {
      "text/markdown": [
       "## class **Jack**"
      ],
      "text/plain": [
       "<IPython.core.display.Markdown object>"
      ]
     },
     "metadata": {},
     "output_type": "display_data"
    },
    {
     "data": {
      "text/html": [
       "<table>\n",
       "<thead>\n",
       "<tr><th>             </th><th style=\"text-align: right;\">  fetchjack.0</th><th style=\"text-align: right;\">  jackup.1</th><th style=\"text-align: right;\">  jackdown.1</th><th style=\"text-align: right;\">  putawayjack.0</th><th style=\"text-align: right;\">  undo.3</th><th style=\"text-align: right;\">  removewheel.2</th><th style=\"text-align: right;\">  putonwheel.2</th><th style=\"text-align: right;\">  doup.3</th></tr>\n",
       "</thead>\n",
       "<tbody>\n",
       "<tr><td>fetchjack.0  </td><td style=\"text-align: right;\">            0</td><td style=\"text-align: right;\">       160</td><td style=\"text-align: right;\">           0</td><td style=\"text-align: right;\">             82</td><td style=\"text-align: right;\">       0</td><td style=\"text-align: right;\">              0</td><td style=\"text-align: right;\">             0</td><td style=\"text-align: right;\">       0</td></tr>\n",
       "<tr><td>jackup.1     </td><td style=\"text-align: right;\">            0</td><td style=\"text-align: right;\">         0</td><td style=\"text-align: right;\">         255</td><td style=\"text-align: right;\">              0</td><td style=\"text-align: right;\">      77</td><td style=\"text-align: right;\">              0</td><td style=\"text-align: right;\">             0</td><td style=\"text-align: right;\">       0</td></tr>\n",
       "<tr><td>jackdown.1   </td><td style=\"text-align: right;\">            0</td><td style=\"text-align: right;\">       187</td><td style=\"text-align: right;\">           0</td><td style=\"text-align: right;\">            151</td><td style=\"text-align: right;\">       0</td><td style=\"text-align: right;\">              0</td><td style=\"text-align: right;\">             0</td><td style=\"text-align: right;\">       0</td></tr>\n",
       "<tr><td>putawayjack.0</td><td style=\"text-align: right;\">          191</td><td style=\"text-align: right;\">         0</td><td style=\"text-align: right;\">           0</td><td style=\"text-align: right;\">              0</td><td style=\"text-align: right;\">       0</td><td style=\"text-align: right;\">              0</td><td style=\"text-align: right;\">             0</td><td style=\"text-align: right;\">       0</td></tr>\n",
       "<tr><td>undo.3       </td><td style=\"text-align: right;\">            0</td><td style=\"text-align: right;\">         0</td><td style=\"text-align: right;\">           0</td><td style=\"text-align: right;\">              0</td><td style=\"text-align: right;\">       0</td><td style=\"text-align: right;\">             69</td><td style=\"text-align: right;\">             0</td><td style=\"text-align: right;\">      50</td></tr>\n",
       "<tr><td>removewheel.2</td><td style=\"text-align: right;\">            0</td><td style=\"text-align: right;\">         0</td><td style=\"text-align: right;\">           0</td><td style=\"text-align: right;\">              0</td><td style=\"text-align: right;\">       0</td><td style=\"text-align: right;\">              0</td><td style=\"text-align: right;\">           149</td><td style=\"text-align: right;\">       0</td></tr>\n",
       "<tr><td>putonwheel.2 </td><td style=\"text-align: right;\">            0</td><td style=\"text-align: right;\">         0</td><td style=\"text-align: right;\">           0</td><td style=\"text-align: right;\">              0</td><td style=\"text-align: right;\">       0</td><td style=\"text-align: right;\">             83</td><td style=\"text-align: right;\">             0</td><td style=\"text-align: right;\">      85</td></tr>\n",
       "<tr><td>doup.3       </td><td style=\"text-align: right;\">            0</td><td style=\"text-align: right;\">         0</td><td style=\"text-align: right;\">          85</td><td style=\"text-align: right;\">              0</td><td style=\"text-align: right;\">      46</td><td style=\"text-align: right;\">              0</td><td style=\"text-align: right;\">             0</td><td style=\"text-align: right;\">       0</td></tr>\n",
       "</tbody>\n",
       "</table>"
      ],
      "text/plain": [
       "'<table>\\n<thead>\\n<tr><th>             </th><th style=\"text-align: right;\">  fetchjack.0</th><th style=\"text-align: right;\">  jackup.1</th><th style=\"text-align: right;\">  jackdown.1</th><th style=\"text-align: right;\">  putawayjack.0</th><th style=\"text-align: right;\">  undo.3</th><th style=\"text-align: right;\">  removewheel.2</th><th style=\"text-align: right;\">  putonwheel.2</th><th style=\"text-align: right;\">  doup.3</th></tr>\\n</thead>\\n<tbody>\\n<tr><td>fetchjack.0  </td><td style=\"text-align: right;\">            0</td><td style=\"text-align: right;\">       160</td><td style=\"text-align: right;\">           0</td><td style=\"text-align: right;\">             82</td><td style=\"text-align: right;\">       0</td><td style=\"text-align: right;\">              0</td><td style=\"text-align: right;\">             0</td><td style=\"text-align: right;\">       0</td></tr>\\n<tr><td>jackup.1     </td><td style=\"text-align: right;\">            0</td><td style=\"text-align: right;\">         0</td><td style=\"text-align: right;\">         255</td><td style=\"text-align: right;\">              0</td><td style=\"text-align: right;\">      77</td><td style=\"text-align: right;\">              0</td><td style=\"text-align: right;\">             0</td><td style=\"text-align: right;\">       0</td></tr>\\n<tr><td>jackdown.1   </td><td style=\"text-align: right;\">            0</td><td style=\"text-align: right;\">       187</td><td style=\"text-align: right;\">           0</td><td style=\"text-align: right;\">            151</td><td style=\"text-align: right;\">       0</td><td style=\"text-align: right;\">              0</td><td style=\"text-align: right;\">             0</td><td style=\"text-align: right;\">       0</td></tr>\\n<tr><td>putawayjack.0</td><td style=\"text-align: right;\">          191</td><td style=\"text-align: right;\">         0</td><td style=\"text-align: right;\">           0</td><td style=\"text-align: right;\">              0</td><td style=\"text-align: right;\">       0</td><td style=\"text-align: right;\">              0</td><td style=\"text-align: right;\">             0</td><td style=\"text-align: right;\">       0</td></tr>\\n<tr><td>undo.3       </td><td style=\"text-align: right;\">            0</td><td style=\"text-align: right;\">         0</td><td style=\"text-align: right;\">           0</td><td style=\"text-align: right;\">              0</td><td style=\"text-align: right;\">       0</td><td style=\"text-align: right;\">             69</td><td style=\"text-align: right;\">             0</td><td style=\"text-align: right;\">      50</td></tr>\\n<tr><td>removewheel.2</td><td style=\"text-align: right;\">            0</td><td style=\"text-align: right;\">         0</td><td style=\"text-align: right;\">           0</td><td style=\"text-align: right;\">              0</td><td style=\"text-align: right;\">       0</td><td style=\"text-align: right;\">              0</td><td style=\"text-align: right;\">           149</td><td style=\"text-align: right;\">       0</td></tr>\\n<tr><td>putonwheel.2 </td><td style=\"text-align: right;\">            0</td><td style=\"text-align: right;\">         0</td><td style=\"text-align: right;\">           0</td><td style=\"text-align: right;\">              0</td><td style=\"text-align: right;\">       0</td><td style=\"text-align: right;\">             83</td><td style=\"text-align: right;\">             0</td><td style=\"text-align: right;\">      85</td></tr>\\n<tr><td>doup.3       </td><td style=\"text-align: right;\">            0</td><td style=\"text-align: right;\">         0</td><td style=\"text-align: right;\">          85</td><td style=\"text-align: right;\">              0</td><td style=\"text-align: right;\">      46</td><td style=\"text-align: right;\">              0</td><td style=\"text-align: right;\">             0</td><td style=\"text-align: right;\">       0</td></tr>\\n</tbody>\\n</table>'"
      ]
     },
     "metadata": {},
     "output_type": "display_data"
    },
    {
     "data": {
      "application/vnd.jupyter.widget-view+json": {
       "model_id": "2c8f67c94dc44f729160b226a8769cf8",
       "version_major": 2,
       "version_minor": 0
      },
      "text/plain": [
       "CytoscapeWidget(cytoscape_layout={'name': 'cola'}, cytoscape_style=[{'width': 400, 'height': 400, 'selector': …"
      ]
     },
     "metadata": {},
     "output_type": "display_data"
    },
    {
     "data": {
      "text/markdown": [
       "## class **Boot**"
      ],
      "text/plain": [
       "<IPython.core.display.Markdown object>"
      ]
     },
     "metadata": {},
     "output_type": "display_data"
    },
    {
     "data": {
      "text/html": [
       "<table>\n",
       "<thead>\n",
       "<tr><th>                </th><th style=\"text-align: right;\">  fetchjack.1</th><th style=\"text-align: right;\">  putawaywheel.1</th><th style=\"text-align: right;\">  putawayjack.1</th><th style=\"text-align: right;\">  closecontainer.0</th><th style=\"text-align: right;\">  opencontainer.0</th><th style=\"text-align: right;\">  fetchwheel.1</th><th style=\"text-align: right;\">  putawaywrench.1</th><th style=\"text-align: right;\">  fetchwrench.1</th></tr>\n",
       "</thead>\n",
       "<tbody>\n",
       "<tr><td>fetchjack.1     </td><td style=\"text-align: right;\">            6</td><td style=\"text-align: right;\">              23</td><td style=\"text-align: right;\">             21</td><td style=\"text-align: right;\">                75</td><td style=\"text-align: right;\">                0</td><td style=\"text-align: right;\">            27</td><td style=\"text-align: right;\">               47</td><td style=\"text-align: right;\">             49</td></tr>\n",
       "<tr><td>putawaywheel.1  </td><td style=\"text-align: right;\">           31</td><td style=\"text-align: right;\">              15</td><td style=\"text-align: right;\">             23</td><td style=\"text-align: right;\">               117</td><td style=\"text-align: right;\">                0</td><td style=\"text-align: right;\">            63</td><td style=\"text-align: right;\">               75</td><td style=\"text-align: right;\">             60</td></tr>\n",
       "<tr><td>putawayjack.1   </td><td style=\"text-align: right;\">           40</td><td style=\"text-align: right;\">              27</td><td style=\"text-align: right;\">              7</td><td style=\"text-align: right;\">                72</td><td style=\"text-align: right;\">                0</td><td style=\"text-align: right;\">            28</td><td style=\"text-align: right;\">               29</td><td style=\"text-align: right;\">             41</td></tr>\n",
       "<tr><td>closecontainer.0</td><td style=\"text-align: right;\">            0</td><td style=\"text-align: right;\">               0</td><td style=\"text-align: right;\">              0</td><td style=\"text-align: right;\">                 0</td><td style=\"text-align: right;\">              764</td><td style=\"text-align: right;\">             0</td><td style=\"text-align: right;\">                0</td><td style=\"text-align: right;\">              0</td></tr>\n",
       "<tr><td>opencontainer.0 </td><td style=\"text-align: right;\">           79</td><td style=\"text-align: right;\">             139</td><td style=\"text-align: right;\">             64</td><td style=\"text-align: right;\">               124</td><td style=\"text-align: right;\">                0</td><td style=\"text-align: right;\">           122</td><td style=\"text-align: right;\">              147</td><td style=\"text-align: right;\">            145</td></tr>\n",
       "<tr><td>fetchwheel.1    </td><td style=\"text-align: right;\">           24</td><td style=\"text-align: right;\">              67</td><td style=\"text-align: right;\">             33</td><td style=\"text-align: right;\">               127</td><td style=\"text-align: right;\">                0</td><td style=\"text-align: right;\">            11</td><td style=\"text-align: right;\">               61</td><td style=\"text-align: right;\">             62</td></tr>\n",
       "<tr><td>putawaywrench.1 </td><td style=\"text-align: right;\">           38</td><td style=\"text-align: right;\">              56</td><td style=\"text-align: right;\">             45</td><td style=\"text-align: right;\">               137</td><td style=\"text-align: right;\">                0</td><td style=\"text-align: right;\">            68</td><td style=\"text-align: right;\">               46</td><td style=\"text-align: right;\">            109</td></tr>\n",
       "<tr><td>fetchwrench.1   </td><td style=\"text-align: right;\">           30</td><td style=\"text-align: right;\">              55</td><td style=\"text-align: right;\">             49</td><td style=\"text-align: right;\">               158</td><td style=\"text-align: right;\">                0</td><td style=\"text-align: right;\">            69</td><td style=\"text-align: right;\">              100</td><td style=\"text-align: right;\">             51</td></tr>\n",
       "</tbody>\n",
       "</table>"
      ],
      "text/plain": [
       "'<table>\\n<thead>\\n<tr><th>                </th><th style=\"text-align: right;\">  fetchjack.1</th><th style=\"text-align: right;\">  putawaywheel.1</th><th style=\"text-align: right;\">  putawayjack.1</th><th style=\"text-align: right;\">  closecontainer.0</th><th style=\"text-align: right;\">  opencontainer.0</th><th style=\"text-align: right;\">  fetchwheel.1</th><th style=\"text-align: right;\">  putawaywrench.1</th><th style=\"text-align: right;\">  fetchwrench.1</th></tr>\\n</thead>\\n<tbody>\\n<tr><td>fetchjack.1     </td><td style=\"text-align: right;\">            6</td><td style=\"text-align: right;\">              23</td><td style=\"text-align: right;\">             21</td><td style=\"text-align: right;\">                75</td><td style=\"text-align: right;\">                0</td><td style=\"text-align: right;\">            27</td><td style=\"text-align: right;\">               47</td><td style=\"text-align: right;\">             49</td></tr>\\n<tr><td>putawaywheel.1  </td><td style=\"text-align: right;\">           31</td><td style=\"text-align: right;\">              15</td><td style=\"text-align: right;\">             23</td><td style=\"text-align: right;\">               117</td><td style=\"text-align: right;\">                0</td><td style=\"text-align: right;\">            63</td><td style=\"text-align: right;\">               75</td><td style=\"text-align: right;\">             60</td></tr>\\n<tr><td>putawayjack.1   </td><td style=\"text-align: right;\">           40</td><td style=\"text-align: right;\">              27</td><td style=\"text-align: right;\">              7</td><td style=\"text-align: right;\">                72</td><td style=\"text-align: right;\">                0</td><td style=\"text-align: right;\">            28</td><td style=\"text-align: right;\">               29</td><td style=\"text-align: right;\">             41</td></tr>\\n<tr><td>closecontainer.0</td><td style=\"text-align: right;\">            0</td><td style=\"text-align: right;\">               0</td><td style=\"text-align: right;\">              0</td><td style=\"text-align: right;\">                 0</td><td style=\"text-align: right;\">              764</td><td style=\"text-align: right;\">             0</td><td style=\"text-align: right;\">                0</td><td style=\"text-align: right;\">              0</td></tr>\\n<tr><td>opencontainer.0 </td><td style=\"text-align: right;\">           79</td><td style=\"text-align: right;\">             139</td><td style=\"text-align: right;\">             64</td><td style=\"text-align: right;\">               124</td><td style=\"text-align: right;\">                0</td><td style=\"text-align: right;\">           122</td><td style=\"text-align: right;\">              147</td><td style=\"text-align: right;\">            145</td></tr>\\n<tr><td>fetchwheel.1    </td><td style=\"text-align: right;\">           24</td><td style=\"text-align: right;\">              67</td><td style=\"text-align: right;\">             33</td><td style=\"text-align: right;\">               127</td><td style=\"text-align: right;\">                0</td><td style=\"text-align: right;\">            11</td><td style=\"text-align: right;\">               61</td><td style=\"text-align: right;\">             62</td></tr>\\n<tr><td>putawaywrench.1 </td><td style=\"text-align: right;\">           38</td><td style=\"text-align: right;\">              56</td><td style=\"text-align: right;\">             45</td><td style=\"text-align: right;\">               137</td><td style=\"text-align: right;\">                0</td><td style=\"text-align: right;\">            68</td><td style=\"text-align: right;\">               46</td><td style=\"text-align: right;\">            109</td></tr>\\n<tr><td>fetchwrench.1   </td><td style=\"text-align: right;\">           30</td><td style=\"text-align: right;\">              55</td><td style=\"text-align: right;\">             49</td><td style=\"text-align: right;\">               158</td><td style=\"text-align: right;\">                0</td><td style=\"text-align: right;\">            69</td><td style=\"text-align: right;\">              100</td><td style=\"text-align: right;\">             51</td></tr>\\n</tbody>\\n</table>'"
      ]
     },
     "metadata": {},
     "output_type": "display_data"
    },
    {
     "data": {
      "application/vnd.jupyter.widget-view+json": {
       "model_id": "557a5c21acc14510886bf3990327d1f2",
       "version_major": 2,
       "version_minor": 0
      },
      "text/plain": [
       "CytoscapeWidget(cytoscape_layout={'name': 'cola'}, cytoscape_style=[{'width': 400, 'height': 400, 'selector': …"
      ]
     },
     "metadata": {},
     "output_type": "display_data"
    },
    {
     "data": {
      "text/markdown": [
       "## class **Wheel**"
      ],
      "text/plain": [
       "<IPython.core.display.Markdown object>"
      ]
     },
     "metadata": {},
     "output_type": "display_data"
    },
    {
     "data": {
      "text/html": [
       "<table>\n",
       "<thead>\n",
       "<tr><th>              </th><th style=\"text-align: right;\">  putonwheel.0</th><th style=\"text-align: right;\">  removewheel.0</th><th style=\"text-align: right;\">  putawaywheel.0</th><th style=\"text-align: right;\">  fetchwheel.0</th></tr>\n",
       "</thead>\n",
       "<tbody>\n",
       "<tr><td>putonwheel.0  </td><td style=\"text-align: right;\">             0</td><td style=\"text-align: right;\">            104</td><td style=\"text-align: right;\">               0</td><td style=\"text-align: right;\">             0</td></tr>\n",
       "<tr><td>removewheel.0 </td><td style=\"text-align: right;\">            51</td><td style=\"text-align: right;\">              0</td><td style=\"text-align: right;\">             105</td><td style=\"text-align: right;\">             0</td></tr>\n",
       "<tr><td>putawaywheel.0</td><td style=\"text-align: right;\">             0</td><td style=\"text-align: right;\">              0</td><td style=\"text-align: right;\">               0</td><td style=\"text-align: right;\">           311</td></tr>\n",
       "<tr><td>fetchwheel.0  </td><td style=\"text-align: right;\">           113</td><td style=\"text-align: right;\">              0</td><td style=\"text-align: right;\">             262</td><td style=\"text-align: right;\">             0</td></tr>\n",
       "</tbody>\n",
       "</table>"
      ],
      "text/plain": [
       "'<table>\\n<thead>\\n<tr><th>              </th><th style=\"text-align: right;\">  putonwheel.0</th><th style=\"text-align: right;\">  removewheel.0</th><th style=\"text-align: right;\">  putawaywheel.0</th><th style=\"text-align: right;\">  fetchwheel.0</th></tr>\\n</thead>\\n<tbody>\\n<tr><td>putonwheel.0  </td><td style=\"text-align: right;\">             0</td><td style=\"text-align: right;\">            104</td><td style=\"text-align: right;\">               0</td><td style=\"text-align: right;\">             0</td></tr>\\n<tr><td>removewheel.0 </td><td style=\"text-align: right;\">            51</td><td style=\"text-align: right;\">              0</td><td style=\"text-align: right;\">             105</td><td style=\"text-align: right;\">             0</td></tr>\\n<tr><td>putawaywheel.0</td><td style=\"text-align: right;\">             0</td><td style=\"text-align: right;\">              0</td><td style=\"text-align: right;\">               0</td><td style=\"text-align: right;\">           311</td></tr>\\n<tr><td>fetchwheel.0  </td><td style=\"text-align: right;\">           113</td><td style=\"text-align: right;\">              0</td><td style=\"text-align: right;\">             262</td><td style=\"text-align: right;\">             0</td></tr>\\n</tbody>\\n</table>'"
      ]
     },
     "metadata": {},
     "output_type": "display_data"
    },
    {
     "data": {
      "application/vnd.jupyter.widget-view+json": {
       "model_id": "6d41b40c8df847c1ac759ff44c929469",
       "version_major": 2,
       "version_minor": 0
      },
      "text/plain": [
       "CytoscapeWidget(cytoscape_layout={'name': 'cola'}, cytoscape_style=[{'width': 400, 'height': 400, 'selector': …"
      ]
     },
     "metadata": {},
     "output_type": "display_data"
    },
    {
     "data": {
      "text/markdown": [
       "## class **Hub**"
      ],
      "text/plain": [
       "<IPython.core.display.Markdown object>"
      ]
     },
     "metadata": {},
     "output_type": "display_data"
    },
    {
     "data": {
      "text/html": [
       "<table>\n",
       "<thead>\n",
       "<tr><th>             </th><th style=\"text-align: right;\">  removewheel.1</th><th style=\"text-align: right;\">  putonwheel.1</th><th style=\"text-align: right;\">  doup.1</th><th style=\"text-align: right;\">  undo.1</th><th style=\"text-align: right;\">  jackdown.0</th><th style=\"text-align: right;\">  jackup.0</th><th style=\"text-align: right;\">  tighten.1</th><th style=\"text-align: right;\">  loosen.1</th></tr>\n",
       "</thead>\n",
       "<tbody>\n",
       "<tr><td>removewheel.1</td><td style=\"text-align: right;\">              0</td><td style=\"text-align: right;\">           149</td><td style=\"text-align: right;\">       0</td><td style=\"text-align: right;\">       0</td><td style=\"text-align: right;\">           0</td><td style=\"text-align: right;\">         0</td><td style=\"text-align: right;\">          0</td><td style=\"text-align: right;\">         0</td></tr>\n",
       "<tr><td>putonwheel.1 </td><td style=\"text-align: right;\">             83</td><td style=\"text-align: right;\">             0</td><td style=\"text-align: right;\">      85</td><td style=\"text-align: right;\">       0</td><td style=\"text-align: right;\">           0</td><td style=\"text-align: right;\">         0</td><td style=\"text-align: right;\">          0</td><td style=\"text-align: right;\">         0</td></tr>\n",
       "<tr><td>doup.1       </td><td style=\"text-align: right;\">              0</td><td style=\"text-align: right;\">             0</td><td style=\"text-align: right;\">       0</td><td style=\"text-align: right;\">      46</td><td style=\"text-align: right;\">          85</td><td style=\"text-align: right;\">         0</td><td style=\"text-align: right;\">          0</td><td style=\"text-align: right;\">         0</td></tr>\n",
       "<tr><td>undo.1       </td><td style=\"text-align: right;\">             69</td><td style=\"text-align: right;\">             0</td><td style=\"text-align: right;\">      50</td><td style=\"text-align: right;\">       0</td><td style=\"text-align: right;\">           0</td><td style=\"text-align: right;\">         0</td><td style=\"text-align: right;\">          0</td><td style=\"text-align: right;\">         0</td></tr>\n",
       "<tr><td>jackdown.0   </td><td style=\"text-align: right;\">              0</td><td style=\"text-align: right;\">             0</td><td style=\"text-align: right;\">       0</td><td style=\"text-align: right;\">       0</td><td style=\"text-align: right;\">           0</td><td style=\"text-align: right;\">       155</td><td style=\"text-align: right;\">         83</td><td style=\"text-align: right;\">        81</td></tr>\n",
       "<tr><td>jackup.0     </td><td style=\"text-align: right;\">              0</td><td style=\"text-align: right;\">             0</td><td style=\"text-align: right;\">       0</td><td style=\"text-align: right;\">      77</td><td style=\"text-align: right;\">         255</td><td style=\"text-align: right;\">         0</td><td style=\"text-align: right;\">          0</td><td style=\"text-align: right;\">         0</td></tr>\n",
       "<tr><td>tighten.1    </td><td style=\"text-align: right;\">              0</td><td style=\"text-align: right;\">             0</td><td style=\"text-align: right;\">       0</td><td style=\"text-align: right;\">       0</td><td style=\"text-align: right;\">           0</td><td style=\"text-align: right;\">        84</td><td style=\"text-align: right;\">          0</td><td style=\"text-align: right;\">       142</td></tr>\n",
       "<tr><td>loosen.1     </td><td style=\"text-align: right;\">              0</td><td style=\"text-align: right;\">             0</td><td style=\"text-align: right;\">       0</td><td style=\"text-align: right;\">       0</td><td style=\"text-align: right;\">           0</td><td style=\"text-align: right;\">        86</td><td style=\"text-align: right;\">        141</td><td style=\"text-align: right;\">         0</td></tr>\n",
       "</tbody>\n",
       "</table>"
      ],
      "text/plain": [
       "'<table>\\n<thead>\\n<tr><th>             </th><th style=\"text-align: right;\">  removewheel.1</th><th style=\"text-align: right;\">  putonwheel.1</th><th style=\"text-align: right;\">  doup.1</th><th style=\"text-align: right;\">  undo.1</th><th style=\"text-align: right;\">  jackdown.0</th><th style=\"text-align: right;\">  jackup.0</th><th style=\"text-align: right;\">  tighten.1</th><th style=\"text-align: right;\">  loosen.1</th></tr>\\n</thead>\\n<tbody>\\n<tr><td>removewheel.1</td><td style=\"text-align: right;\">              0</td><td style=\"text-align: right;\">           149</td><td style=\"text-align: right;\">       0</td><td style=\"text-align: right;\">       0</td><td style=\"text-align: right;\">           0</td><td style=\"text-align: right;\">         0</td><td style=\"text-align: right;\">          0</td><td style=\"text-align: right;\">         0</td></tr>\\n<tr><td>putonwheel.1 </td><td style=\"text-align: right;\">             83</td><td style=\"text-align: right;\">             0</td><td style=\"text-align: right;\">      85</td><td style=\"text-align: right;\">       0</td><td style=\"text-align: right;\">           0</td><td style=\"text-align: right;\">         0</td><td style=\"text-align: right;\">          0</td><td style=\"text-align: right;\">         0</td></tr>\\n<tr><td>doup.1       </td><td style=\"text-align: right;\">              0</td><td style=\"text-align: right;\">             0</td><td style=\"text-align: right;\">       0</td><td style=\"text-align: right;\">      46</td><td style=\"text-align: right;\">          85</td><td style=\"text-align: right;\">         0</td><td style=\"text-align: right;\">          0</td><td style=\"text-align: right;\">         0</td></tr>\\n<tr><td>undo.1       </td><td style=\"text-align: right;\">             69</td><td style=\"text-align: right;\">             0</td><td style=\"text-align: right;\">      50</td><td style=\"text-align: right;\">       0</td><td style=\"text-align: right;\">           0</td><td style=\"text-align: right;\">         0</td><td style=\"text-align: right;\">          0</td><td style=\"text-align: right;\">         0</td></tr>\\n<tr><td>jackdown.0   </td><td style=\"text-align: right;\">              0</td><td style=\"text-align: right;\">             0</td><td style=\"text-align: right;\">       0</td><td style=\"text-align: right;\">       0</td><td style=\"text-align: right;\">           0</td><td style=\"text-align: right;\">       155</td><td style=\"text-align: right;\">         83</td><td style=\"text-align: right;\">        81</td></tr>\\n<tr><td>jackup.0     </td><td style=\"text-align: right;\">              0</td><td style=\"text-align: right;\">             0</td><td style=\"text-align: right;\">       0</td><td style=\"text-align: right;\">      77</td><td style=\"text-align: right;\">         255</td><td style=\"text-align: right;\">         0</td><td style=\"text-align: right;\">          0</td><td style=\"text-align: right;\">         0</td></tr>\\n<tr><td>tighten.1    </td><td style=\"text-align: right;\">              0</td><td style=\"text-align: right;\">             0</td><td style=\"text-align: right;\">       0</td><td style=\"text-align: right;\">       0</td><td style=\"text-align: right;\">           0</td><td style=\"text-align: right;\">        84</td><td style=\"text-align: right;\">          0</td><td style=\"text-align: right;\">       142</td></tr>\\n<tr><td>loosen.1     </td><td style=\"text-align: right;\">              0</td><td style=\"text-align: right;\">             0</td><td style=\"text-align: right;\">       0</td><td style=\"text-align: right;\">       0</td><td style=\"text-align: right;\">           0</td><td style=\"text-align: right;\">        86</td><td style=\"text-align: right;\">        141</td><td style=\"text-align: right;\">         0</td></tr>\\n</tbody>\\n</table>'"
      ]
     },
     "metadata": {},
     "output_type": "display_data"
    },
    {
     "data": {
      "application/vnd.jupyter.widget-view+json": {
       "model_id": "3e60986bd4714e68ae3dd29dbaf7a791",
       "version_major": 2,
       "version_minor": 0
      },
      "text/plain": [
       "CytoscapeWidget(cytoscape_layout={'name': 'cola'}, cytoscape_style=[{'width': 400, 'height': 400, 'selector': …"
      ]
     },
     "metadata": {},
     "output_type": "display_data"
    },
    {
     "data": {
      "text/markdown": [
       "## class **Wrench**"
      ],
      "text/plain": [
       "<IPython.core.display.Markdown object>"
      ]
     },
     "metadata": {},
     "output_type": "display_data"
    },
    {
     "data": {
      "text/html": [
       "<table>\n",
       "<thead>\n",
       "<tr><th>               </th><th style=\"text-align: right;\">  fetchwrench.0</th><th style=\"text-align: right;\">  putawaywrench.0</th><th style=\"text-align: right;\">  doup.2</th><th style=\"text-align: right;\">  undo.2</th><th style=\"text-align: right;\">  tighten.2</th><th style=\"text-align: right;\">  loosen.2</th></tr>\n",
       "</thead>\n",
       "<tbody>\n",
       "<tr><td>fetchwrench.0  </td><td style=\"text-align: right;\">              0</td><td style=\"text-align: right;\">              183</td><td style=\"text-align: right;\">      65</td><td style=\"text-align: right;\">      50</td><td style=\"text-align: right;\">        102</td><td style=\"text-align: right;\">       105</td></tr>\n",
       "<tr><td>putawaywrench.0</td><td style=\"text-align: right;\">            406</td><td style=\"text-align: right;\">                0</td><td style=\"text-align: right;\">       0</td><td style=\"text-align: right;\">       0</td><td style=\"text-align: right;\">          0</td><td style=\"text-align: right;\">         0</td></tr>\n",
       "<tr><td>doup.2         </td><td style=\"text-align: right;\">              0</td><td style=\"text-align: right;\">               61</td><td style=\"text-align: right;\">       5</td><td style=\"text-align: right;\">      25</td><td style=\"text-align: right;\">         25</td><td style=\"text-align: right;\">        17</td></tr>\n",
       "<tr><td>undo.2         </td><td style=\"text-align: right;\">              0</td><td style=\"text-align: right;\">               48</td><td style=\"text-align: right;\">      38</td><td style=\"text-align: right;\">       2</td><td style=\"text-align: right;\">         19</td><td style=\"text-align: right;\">        15</td></tr>\n",
       "<tr><td>tighten.2      </td><td style=\"text-align: right;\">              0</td><td style=\"text-align: right;\">              106</td><td style=\"text-align: right;\">      15</td><td style=\"text-align: right;\">      19</td><td style=\"text-align: right;\">         17</td><td style=\"text-align: right;\">        81</td></tr>\n",
       "<tr><td>loosen.2       </td><td style=\"text-align: right;\">              0</td><td style=\"text-align: right;\">               93</td><td style=\"text-align: right;\">      13</td><td style=\"text-align: right;\">      31</td><td style=\"text-align: right;\">         80</td><td style=\"text-align: right;\">        22</td></tr>\n",
       "</tbody>\n",
       "</table>"
      ],
      "text/plain": [
       "'<table>\\n<thead>\\n<tr><th>               </th><th style=\"text-align: right;\">  fetchwrench.0</th><th style=\"text-align: right;\">  putawaywrench.0</th><th style=\"text-align: right;\">  doup.2</th><th style=\"text-align: right;\">  undo.2</th><th style=\"text-align: right;\">  tighten.2</th><th style=\"text-align: right;\">  loosen.2</th></tr>\\n</thead>\\n<tbody>\\n<tr><td>fetchwrench.0  </td><td style=\"text-align: right;\">              0</td><td style=\"text-align: right;\">              183</td><td style=\"text-align: right;\">      65</td><td style=\"text-align: right;\">      50</td><td style=\"text-align: right;\">        102</td><td style=\"text-align: right;\">       105</td></tr>\\n<tr><td>putawaywrench.0</td><td style=\"text-align: right;\">            406</td><td style=\"text-align: right;\">                0</td><td style=\"text-align: right;\">       0</td><td style=\"text-align: right;\">       0</td><td style=\"text-align: right;\">          0</td><td style=\"text-align: right;\">         0</td></tr>\\n<tr><td>doup.2         </td><td style=\"text-align: right;\">              0</td><td style=\"text-align: right;\">               61</td><td style=\"text-align: right;\">       5</td><td style=\"text-align: right;\">      25</td><td style=\"text-align: right;\">         25</td><td style=\"text-align: right;\">        17</td></tr>\\n<tr><td>undo.2         </td><td style=\"text-align: right;\">              0</td><td style=\"text-align: right;\">               48</td><td style=\"text-align: right;\">      38</td><td style=\"text-align: right;\">       2</td><td style=\"text-align: right;\">         19</td><td style=\"text-align: right;\">        15</td></tr>\\n<tr><td>tighten.2      </td><td style=\"text-align: right;\">              0</td><td style=\"text-align: right;\">              106</td><td style=\"text-align: right;\">      15</td><td style=\"text-align: right;\">      19</td><td style=\"text-align: right;\">         17</td><td style=\"text-align: right;\">        81</td></tr>\\n<tr><td>loosen.2       </td><td style=\"text-align: right;\">              0</td><td style=\"text-align: right;\">               93</td><td style=\"text-align: right;\">      13</td><td style=\"text-align: right;\">      31</td><td style=\"text-align: right;\">         80</td><td style=\"text-align: right;\">        22</td></tr>\\n</tbody>\\n</table>'"
      ]
     },
     "metadata": {},
     "output_type": "display_data"
    },
    {
     "data": {
      "application/vnd.jupyter.widget-view+json": {
       "model_id": "aca167e94fcf4513a0f670ba34486fb4",
       "version_major": 2,
       "version_minor": 0
      },
      "text/plain": [
       "CytoscapeWidget(cytoscape_layout={'name': 'cola'}, cytoscape_style=[{'width': 400, 'height': 400, 'selector': …"
      ]
     },
     "metadata": {},
     "output_type": "display_data"
    },
    {
     "data": {
      "text/markdown": [
       "## class **Nut**"
      ],
      "text/plain": [
       "<IPython.core.display.Markdown object>"
      ]
     },
     "metadata": {},
     "output_type": "display_data"
    },
    {
     "data": {
      "text/html": [
       "<table>\n",
       "<thead>\n",
       "<tr><th>         </th><th style=\"text-align: right;\">  undo.0</th><th style=\"text-align: right;\">  doup.0</th><th style=\"text-align: right;\">  tighten.0</th><th style=\"text-align: right;\">  loosen.0</th></tr>\n",
       "</thead>\n",
       "<tbody>\n",
       "<tr><td>undo.0   </td><td style=\"text-align: right;\">       0</td><td style=\"text-align: right;\">      86</td><td style=\"text-align: right;\">          0</td><td style=\"text-align: right;\">         0</td></tr>\n",
       "<tr><td>doup.0   </td><td style=\"text-align: right;\">      61</td><td style=\"text-align: right;\">       0</td><td style=\"text-align: right;\">         47</td><td style=\"text-align: right;\">         0</td></tr>\n",
       "<tr><td>tighten.0</td><td style=\"text-align: right;\">       0</td><td style=\"text-align: right;\">       0</td><td style=\"text-align: right;\">          0</td><td style=\"text-align: right;\">       189</td></tr>\n",
       "<tr><td>loosen.0 </td><td style=\"text-align: right;\">      46</td><td style=\"text-align: right;\">       0</td><td style=\"text-align: right;\">        164</td><td style=\"text-align: right;\">         0</td></tr>\n",
       "</tbody>\n",
       "</table>"
      ],
      "text/plain": [
       "'<table>\\n<thead>\\n<tr><th>         </th><th style=\"text-align: right;\">  undo.0</th><th style=\"text-align: right;\">  doup.0</th><th style=\"text-align: right;\">  tighten.0</th><th style=\"text-align: right;\">  loosen.0</th></tr>\\n</thead>\\n<tbody>\\n<tr><td>undo.0   </td><td style=\"text-align: right;\">       0</td><td style=\"text-align: right;\">      86</td><td style=\"text-align: right;\">          0</td><td style=\"text-align: right;\">         0</td></tr>\\n<tr><td>doup.0   </td><td style=\"text-align: right;\">      61</td><td style=\"text-align: right;\">       0</td><td style=\"text-align: right;\">         47</td><td style=\"text-align: right;\">         0</td></tr>\\n<tr><td>tighten.0</td><td style=\"text-align: right;\">       0</td><td style=\"text-align: right;\">       0</td><td style=\"text-align: right;\">          0</td><td style=\"text-align: right;\">       189</td></tr>\\n<tr><td>loosen.0 </td><td style=\"text-align: right;\">      46</td><td style=\"text-align: right;\">       0</td><td style=\"text-align: right;\">        164</td><td style=\"text-align: right;\">         0</td></tr>\\n</tbody>\\n</table>'"
      ]
     },
     "metadata": {},
     "output_type": "display_data"
    },
    {
     "data": {
      "application/vnd.jupyter.widget-view+json": {
       "model_id": "fbcc58ac7d7640c397a17fa72ac2158a",
       "version_major": 2,
       "version_minor": 0
      },
      "text/plain": [
       "CytoscapeWidget(cytoscape_layout={'name': 'cola'}, cytoscape_style=[{'width': 400, 'height': 400, 'selector': …"
      ]
     },
     "metadata": {},
     "output_type": "display_data"
    }
   ],
   "source": [
    "#### Build weighted directed graphs for transitions.\n",
    "printmd(\"## \"+ domain_name.upper())\n",
    "adjacency_matrix_list, graphs, cytoscapeobjs = build_and_save_transition_graphs(classes, domain_name, class_names)"
   ]
  },
  {
   "cell_type": "markdown",
   "metadata": {},
   "source": [
    "## USER INPUT 2: Edit transition graphs\n",
    "For meaningful LOCM models, here one can edit the transition graphs to make them accurate. However, in the paper we don't do that in order to estimate what kind of models are learned automatically from natural language data."
   ]
  },
  {
   "cell_type": "markdown",
   "metadata": {},
   "source": [
    "Option 1. **You can add or delete nodes/edges in transition graphs by following methods like add_node, delete_edges shown in the following library.**\n",
    "https://github.com/QuantStack/ipycytoscape/blob/master/ipycytoscape/cytoscape.py\n",
    "\n",
    "Option 2. **Alternatively you can use the saved .graphml file. Open it up in Cytoscape, edit it within the GUI and load that graph into the graphs list.**"
   ]
  },
  {
   "cell_type": "markdown",
   "metadata": {},
   "source": [
    "## Step 2: Get Transition Sets from LOCM2\n",
    "\n",
    "**Algorithm**: LOCM2\n",
    "\n",
    "**Input** : \n",
    "- T_all = set of observed transitions for a sort/class\n",
    "- H : Set of holes - each hole is a set of two transitions.\n",
    "- P : Set of pairs <t1,t2> i.e. consecutive transitions.\n",
    "- E : Set of example sequences of actions.\n",
    "\n",
    "**Output**:\n",
    "- S : Set of transition sets.\n",
    "### Finding holes\n",
    "Holes are transitions that LOCM1 will assume to be true due to the flaw of overgeneralizing"
   ]
  },
  {
   "cell_type": "code",
   "execution_count": 46,
   "metadata": {},
   "outputs": [],
   "source": [
    "def get_adjacency_matrix_with_holes(adjacency_matrix_list):\n",
    "    adjacency_matrix_list_with_holes = []\n",
    "    for index,adjacency_matrix in enumerate(adjacency_matrix_list):\n",
    "        # print(\"\\n ROWS ===========\")\n",
    "        df = adjacency_matrix.copy()\n",
    "        df1 = adjacency_matrix.copy()\n",
    "\n",
    "        # for particular adjacency matrix's copy, loop over all pairs of rows\n",
    "        for i in range(df.shape[0] - 1):\n",
    "            for j in range(i+1, df.shape[0]):\n",
    "                idx1, idx2 = i, j\n",
    "                row1, row2 = df.iloc[idx1,:], df.iloc[idx2, :] #we have now all pairs of rows\n",
    "\n",
    "                common_values_flag = False #for each two rows we have a common_values_flag\n",
    "\n",
    "                # if there is a common value between two rows, turn common value flag to true\n",
    "                for col in range(row1.shape[0]):\n",
    "                    if row1.iloc[col] > 0 and row2.iloc[col] > 0:\n",
    "                        common_values_flag = True\n",
    "                        break\n",
    "\n",
    "                # now if two rows have common values, we need to check for holes.\n",
    "                if common_values_flag:\n",
    "                    for col in range(row1.shape[0]):\n",
    "                        if row1.iloc[col] > 0 and row2.iloc[col] == 0:\n",
    "                            df1.iloc[idx2,col] = 'hole'\n",
    "                        elif row1.iloc[col] == 0 and row2.iloc[col] > 0:\n",
    "                            df1.iloc[idx1, col] = 'hole'\n",
    "\n",
    "        adjacency_matrix_list_with_holes.append(df1)\n",
    "    return adjacency_matrix_list_with_holes"
   ]
  },
  {
   "cell_type": "code",
   "execution_count": 47,
   "metadata": {
    "lines_to_next_cell": 2,
    "scrolled": false
   },
   "outputs": [
    {
     "data": {
      "text/markdown": [
       "\n",
       "#### Jack"
      ],
      "text/plain": [
       "<IPython.core.display.Markdown object>"
      ]
     },
     "metadata": {},
     "output_type": "display_data"
    },
    {
     "data": {
      "text/html": [
       "<table>\n",
       "<thead>\n",
       "<tr><th>             </th><th style=\"text-align: right;\">  fetchjack.0</th><th style=\"text-align: right;\">  jackup.1</th><th style=\"text-align: right;\">  jackdown.1</th><th style=\"text-align: right;\">  putawayjack.0</th><th style=\"text-align: right;\">  undo.3</th><th style=\"text-align: right;\">  removewheel.2</th><th style=\"text-align: right;\">  putonwheel.2</th><th style=\"text-align: right;\">  doup.3</th></tr>\n",
       "</thead>\n",
       "<tbody>\n",
       "<tr><td>fetchjack.0  </td><td style=\"text-align: right;\">            0</td><td style=\"text-align: right;\">       160</td><td style=\"text-align: right;\">           0</td><td style=\"text-align: right;\">             82</td><td style=\"text-align: right;\">       0</td><td style=\"text-align: right;\">              0</td><td style=\"text-align: right;\">             0</td><td style=\"text-align: right;\">       0</td></tr>\n",
       "<tr><td>jackup.1     </td><td style=\"text-align: right;\">            0</td><td style=\"text-align: right;\">         0</td><td style=\"text-align: right;\">         255</td><td style=\"text-align: right;\">              0</td><td style=\"text-align: right;\">      77</td><td style=\"text-align: right;\">              0</td><td style=\"text-align: right;\">             0</td><td style=\"text-align: right;\">       0</td></tr>\n",
       "<tr><td>jackdown.1   </td><td style=\"text-align: right;\">            0</td><td style=\"text-align: right;\">       187</td><td style=\"text-align: right;\">           0</td><td style=\"text-align: right;\">            151</td><td style=\"text-align: right;\">       0</td><td style=\"text-align: right;\">              0</td><td style=\"text-align: right;\">             0</td><td style=\"text-align: right;\">       0</td></tr>\n",
       "<tr><td>putawayjack.0</td><td style=\"text-align: right;\">          191</td><td style=\"text-align: right;\">         0</td><td style=\"text-align: right;\">           0</td><td style=\"text-align: right;\">              0</td><td style=\"text-align: right;\">       0</td><td style=\"text-align: right;\">              0</td><td style=\"text-align: right;\">             0</td><td style=\"text-align: right;\">       0</td></tr>\n",
       "<tr><td>undo.3       </td><td style=\"text-align: right;\">            0</td><td style=\"text-align: right;\">         0</td><td style=\"text-align: right;\">           0</td><td style=\"text-align: right;\">              0</td><td style=\"text-align: right;\">       0</td><td style=\"text-align: right;\">             69</td><td style=\"text-align: right;\">             0</td><td style=\"text-align: right;\">      50</td></tr>\n",
       "<tr><td>removewheel.2</td><td style=\"text-align: right;\">            0</td><td style=\"text-align: right;\">         0</td><td style=\"text-align: right;\">           0</td><td style=\"text-align: right;\">              0</td><td style=\"text-align: right;\">       0</td><td style=\"text-align: right;\">              0</td><td style=\"text-align: right;\">           149</td><td style=\"text-align: right;\">       0</td></tr>\n",
       "<tr><td>putonwheel.2 </td><td style=\"text-align: right;\">            0</td><td style=\"text-align: right;\">         0</td><td style=\"text-align: right;\">           0</td><td style=\"text-align: right;\">              0</td><td style=\"text-align: right;\">       0</td><td style=\"text-align: right;\">             83</td><td style=\"text-align: right;\">             0</td><td style=\"text-align: right;\">      85</td></tr>\n",
       "<tr><td>doup.3       </td><td style=\"text-align: right;\">            0</td><td style=\"text-align: right;\">         0</td><td style=\"text-align: right;\">          85</td><td style=\"text-align: right;\">              0</td><td style=\"text-align: right;\">      46</td><td style=\"text-align: right;\">              0</td><td style=\"text-align: right;\">             0</td><td style=\"text-align: right;\">       0</td></tr>\n",
       "</tbody>\n",
       "</table>"
      ],
      "text/plain": [
       "'<table>\\n<thead>\\n<tr><th>             </th><th style=\"text-align: right;\">  fetchjack.0</th><th style=\"text-align: right;\">  jackup.1</th><th style=\"text-align: right;\">  jackdown.1</th><th style=\"text-align: right;\">  putawayjack.0</th><th style=\"text-align: right;\">  undo.3</th><th style=\"text-align: right;\">  removewheel.2</th><th style=\"text-align: right;\">  putonwheel.2</th><th style=\"text-align: right;\">  doup.3</th></tr>\\n</thead>\\n<tbody>\\n<tr><td>fetchjack.0  </td><td style=\"text-align: right;\">            0</td><td style=\"text-align: right;\">       160</td><td style=\"text-align: right;\">           0</td><td style=\"text-align: right;\">             82</td><td style=\"text-align: right;\">       0</td><td style=\"text-align: right;\">              0</td><td style=\"text-align: right;\">             0</td><td style=\"text-align: right;\">       0</td></tr>\\n<tr><td>jackup.1     </td><td style=\"text-align: right;\">            0</td><td style=\"text-align: right;\">         0</td><td style=\"text-align: right;\">         255</td><td style=\"text-align: right;\">              0</td><td style=\"text-align: right;\">      77</td><td style=\"text-align: right;\">              0</td><td style=\"text-align: right;\">             0</td><td style=\"text-align: right;\">       0</td></tr>\\n<tr><td>jackdown.1   </td><td style=\"text-align: right;\">            0</td><td style=\"text-align: right;\">       187</td><td style=\"text-align: right;\">           0</td><td style=\"text-align: right;\">            151</td><td style=\"text-align: right;\">       0</td><td style=\"text-align: right;\">              0</td><td style=\"text-align: right;\">             0</td><td style=\"text-align: right;\">       0</td></tr>\\n<tr><td>putawayjack.0</td><td style=\"text-align: right;\">          191</td><td style=\"text-align: right;\">         0</td><td style=\"text-align: right;\">           0</td><td style=\"text-align: right;\">              0</td><td style=\"text-align: right;\">       0</td><td style=\"text-align: right;\">              0</td><td style=\"text-align: right;\">             0</td><td style=\"text-align: right;\">       0</td></tr>\\n<tr><td>undo.3       </td><td style=\"text-align: right;\">            0</td><td style=\"text-align: right;\">         0</td><td style=\"text-align: right;\">           0</td><td style=\"text-align: right;\">              0</td><td style=\"text-align: right;\">       0</td><td style=\"text-align: right;\">             69</td><td style=\"text-align: right;\">             0</td><td style=\"text-align: right;\">      50</td></tr>\\n<tr><td>removewheel.2</td><td style=\"text-align: right;\">            0</td><td style=\"text-align: right;\">         0</td><td style=\"text-align: right;\">           0</td><td style=\"text-align: right;\">              0</td><td style=\"text-align: right;\">       0</td><td style=\"text-align: right;\">              0</td><td style=\"text-align: right;\">           149</td><td style=\"text-align: right;\">       0</td></tr>\\n<tr><td>putonwheel.2 </td><td style=\"text-align: right;\">            0</td><td style=\"text-align: right;\">         0</td><td style=\"text-align: right;\">           0</td><td style=\"text-align: right;\">              0</td><td style=\"text-align: right;\">       0</td><td style=\"text-align: right;\">             83</td><td style=\"text-align: right;\">             0</td><td style=\"text-align: right;\">      85</td></tr>\\n<tr><td>doup.3       </td><td style=\"text-align: right;\">            0</td><td style=\"text-align: right;\">         0</td><td style=\"text-align: right;\">          85</td><td style=\"text-align: right;\">              0</td><td style=\"text-align: right;\">      46</td><td style=\"text-align: right;\">              0</td><td style=\"text-align: right;\">             0</td><td style=\"text-align: right;\">       0</td></tr>\\n</tbody>\\n</table>'"
      ]
     },
     "metadata": {},
     "output_type": "display_data"
    },
    {
     "data": {
      "text/markdown": [
       "\n",
       "#### HOLES: Jack"
      ],
      "text/plain": [
       "<IPython.core.display.Markdown object>"
      ]
     },
     "metadata": {},
     "output_type": "display_data"
    },
    {
     "data": {
      "text/html": [
       "<table>\n",
       "<thead>\n",
       "<tr><th>             </th><th style=\"text-align: right;\">  fetchjack.0</th><th style=\"text-align: right;\">  jackup.1</th><th style=\"text-align: right;\">  jackdown.1</th><th style=\"text-align: right;\">  putawayjack.0</th><th style=\"text-align: right;\">  undo.3</th><th style=\"text-align: right;\">  removewheel.2</th><th style=\"text-align: right;\">  putonwheel.2</th><th style=\"text-align: right;\">  doup.3</th></tr>\n",
       "</thead>\n",
       "<tbody>\n",
       "<tr><td>fetchjack.0  </td><td style=\"text-align: right;\">            0</td><td style=\"text-align: right;\">       160</td><td style=\"text-align: right;\">           0</td><td style=\"text-align: right;\">             82</td><td style=\"text-align: right;\">       0</td><td style=\"text-align: right;\">              0</td><td style=\"text-align: right;\">             0</td><td style=\"text-align: right;\">       0</td></tr>\n",
       "<tr><td>jackup.1     </td><td style=\"text-align: right;\">            0</td><td style=\"text-align: right;\">         0</td><td style=\"text-align: right;\">         255</td><td style=\"text-align: right;\">              0</td><td style=\"text-align: right;\">      77</td><td style=\"text-align: right;\">              0</td><td style=\"text-align: right;\">             0</td><td style=\"text-align: right;\">       0</td></tr>\n",
       "<tr><td>jackdown.1   </td><td style=\"text-align: right;\">            0</td><td style=\"text-align: right;\">       187</td><td style=\"text-align: right;\">           0</td><td style=\"text-align: right;\">            151</td><td style=\"text-align: right;\">       0</td><td style=\"text-align: right;\">              0</td><td style=\"text-align: right;\">             0</td><td style=\"text-align: right;\">       0</td></tr>\n",
       "<tr><td>putawayjack.0</td><td style=\"text-align: right;\">          191</td><td style=\"text-align: right;\">         0</td><td style=\"text-align: right;\">           0</td><td style=\"text-align: right;\">              0</td><td style=\"text-align: right;\">       0</td><td style=\"text-align: right;\">              0</td><td style=\"text-align: right;\">             0</td><td style=\"text-align: right;\">       0</td></tr>\n",
       "<tr><td>undo.3       </td><td style=\"text-align: right;\">            0</td><td style=\"text-align: right;\">         0</td><td style=\"text-align: right;\">           0</td><td style=\"text-align: right;\">              0</td><td style=\"text-align: right;\">       0</td><td style=\"text-align: right;\">             69</td><td style=\"text-align: right;\">             0</td><td style=\"text-align: right;\">      50</td></tr>\n",
       "<tr><td>removewheel.2</td><td style=\"text-align: right;\">            0</td><td style=\"text-align: right;\">         0</td><td style=\"text-align: right;\">           0</td><td style=\"text-align: right;\">              0</td><td style=\"text-align: right;\">       0</td><td style=\"text-align: right;\">              0</td><td style=\"text-align: right;\">           149</td><td style=\"text-align: right;\">       0</td></tr>\n",
       "<tr><td>putonwheel.2 </td><td style=\"text-align: right;\">            0</td><td style=\"text-align: right;\">         0</td><td style=\"text-align: right;\">           0</td><td style=\"text-align: right;\">              0</td><td style=\"text-align: right;\">       0</td><td style=\"text-align: right;\">             83</td><td style=\"text-align: right;\">             0</td><td style=\"text-align: right;\">      85</td></tr>\n",
       "<tr><td>doup.3       </td><td style=\"text-align: right;\">            0</td><td style=\"text-align: right;\">         0</td><td style=\"text-align: right;\">          85</td><td style=\"text-align: right;\">              0</td><td style=\"text-align: right;\">      46</td><td style=\"text-align: right;\">              0</td><td style=\"text-align: right;\">             0</td><td style=\"text-align: right;\">       0</td></tr>\n",
       "</tbody>\n",
       "</table>"
      ],
      "text/plain": [
       "'<table>\\n<thead>\\n<tr><th>             </th><th style=\"text-align: right;\">  fetchjack.0</th><th style=\"text-align: right;\">  jackup.1</th><th style=\"text-align: right;\">  jackdown.1</th><th style=\"text-align: right;\">  putawayjack.0</th><th style=\"text-align: right;\">  undo.3</th><th style=\"text-align: right;\">  removewheel.2</th><th style=\"text-align: right;\">  putonwheel.2</th><th style=\"text-align: right;\">  doup.3</th></tr>\\n</thead>\\n<tbody>\\n<tr><td>fetchjack.0  </td><td style=\"text-align: right;\">            0</td><td style=\"text-align: right;\">       160</td><td style=\"text-align: right;\">           0</td><td style=\"text-align: right;\">             82</td><td style=\"text-align: right;\">       0</td><td style=\"text-align: right;\">              0</td><td style=\"text-align: right;\">             0</td><td style=\"text-align: right;\">       0</td></tr>\\n<tr><td>jackup.1     </td><td style=\"text-align: right;\">            0</td><td style=\"text-align: right;\">         0</td><td style=\"text-align: right;\">         255</td><td style=\"text-align: right;\">              0</td><td style=\"text-align: right;\">      77</td><td style=\"text-align: right;\">              0</td><td style=\"text-align: right;\">             0</td><td style=\"text-align: right;\">       0</td></tr>\\n<tr><td>jackdown.1   </td><td style=\"text-align: right;\">            0</td><td style=\"text-align: right;\">       187</td><td style=\"text-align: right;\">           0</td><td style=\"text-align: right;\">            151</td><td style=\"text-align: right;\">       0</td><td style=\"text-align: right;\">              0</td><td style=\"text-align: right;\">             0</td><td style=\"text-align: right;\">       0</td></tr>\\n<tr><td>putawayjack.0</td><td style=\"text-align: right;\">          191</td><td style=\"text-align: right;\">         0</td><td style=\"text-align: right;\">           0</td><td style=\"text-align: right;\">              0</td><td style=\"text-align: right;\">       0</td><td style=\"text-align: right;\">              0</td><td style=\"text-align: right;\">             0</td><td style=\"text-align: right;\">       0</td></tr>\\n<tr><td>undo.3       </td><td style=\"text-align: right;\">            0</td><td style=\"text-align: right;\">         0</td><td style=\"text-align: right;\">           0</td><td style=\"text-align: right;\">              0</td><td style=\"text-align: right;\">       0</td><td style=\"text-align: right;\">             69</td><td style=\"text-align: right;\">             0</td><td style=\"text-align: right;\">      50</td></tr>\\n<tr><td>removewheel.2</td><td style=\"text-align: right;\">            0</td><td style=\"text-align: right;\">         0</td><td style=\"text-align: right;\">           0</td><td style=\"text-align: right;\">              0</td><td style=\"text-align: right;\">       0</td><td style=\"text-align: right;\">              0</td><td style=\"text-align: right;\">           149</td><td style=\"text-align: right;\">       0</td></tr>\\n<tr><td>putonwheel.2 </td><td style=\"text-align: right;\">            0</td><td style=\"text-align: right;\">         0</td><td style=\"text-align: right;\">           0</td><td style=\"text-align: right;\">              0</td><td style=\"text-align: right;\">       0</td><td style=\"text-align: right;\">             83</td><td style=\"text-align: right;\">             0</td><td style=\"text-align: right;\">      85</td></tr>\\n<tr><td>doup.3       </td><td style=\"text-align: right;\">            0</td><td style=\"text-align: right;\">         0</td><td style=\"text-align: right;\">          85</td><td style=\"text-align: right;\">              0</td><td style=\"text-align: right;\">      46</td><td style=\"text-align: right;\">              0</td><td style=\"text-align: right;\">             0</td><td style=\"text-align: right;\">       0</td></tr>\\n</tbody>\\n</table>'"
      ]
     },
     "metadata": {},
     "output_type": "display_data"
    },
    {
     "data": {
      "text/markdown": [
       "\n",
       "#### Boot"
      ],
      "text/plain": [
       "<IPython.core.display.Markdown object>"
      ]
     },
     "metadata": {},
     "output_type": "display_data"
    },
    {
     "data": {
      "text/html": [
       "<table>\n",
       "<thead>\n",
       "<tr><th>                </th><th style=\"text-align: right;\">  fetchjack.1</th><th style=\"text-align: right;\">  putawaywheel.1</th><th style=\"text-align: right;\">  putawayjack.1</th><th style=\"text-align: right;\">  closecontainer.0</th><th style=\"text-align: right;\">  opencontainer.0</th><th style=\"text-align: right;\">  fetchwheel.1</th><th style=\"text-align: right;\">  putawaywrench.1</th><th style=\"text-align: right;\">  fetchwrench.1</th></tr>\n",
       "</thead>\n",
       "<tbody>\n",
       "<tr><td>fetchjack.1     </td><td style=\"text-align: right;\">            6</td><td style=\"text-align: right;\">              23</td><td style=\"text-align: right;\">             21</td><td style=\"text-align: right;\">                75</td><td style=\"text-align: right;\">                0</td><td style=\"text-align: right;\">            27</td><td style=\"text-align: right;\">               47</td><td style=\"text-align: right;\">             49</td></tr>\n",
       "<tr><td>putawaywheel.1  </td><td style=\"text-align: right;\">           31</td><td style=\"text-align: right;\">              15</td><td style=\"text-align: right;\">             23</td><td style=\"text-align: right;\">               117</td><td style=\"text-align: right;\">                0</td><td style=\"text-align: right;\">            63</td><td style=\"text-align: right;\">               75</td><td style=\"text-align: right;\">             60</td></tr>\n",
       "<tr><td>putawayjack.1   </td><td style=\"text-align: right;\">           40</td><td style=\"text-align: right;\">              27</td><td style=\"text-align: right;\">              7</td><td style=\"text-align: right;\">                72</td><td style=\"text-align: right;\">                0</td><td style=\"text-align: right;\">            28</td><td style=\"text-align: right;\">               29</td><td style=\"text-align: right;\">             41</td></tr>\n",
       "<tr><td>closecontainer.0</td><td style=\"text-align: right;\">            0</td><td style=\"text-align: right;\">               0</td><td style=\"text-align: right;\">              0</td><td style=\"text-align: right;\">                 0</td><td style=\"text-align: right;\">              764</td><td style=\"text-align: right;\">             0</td><td style=\"text-align: right;\">                0</td><td style=\"text-align: right;\">              0</td></tr>\n",
       "<tr><td>opencontainer.0 </td><td style=\"text-align: right;\">           79</td><td style=\"text-align: right;\">             139</td><td style=\"text-align: right;\">             64</td><td style=\"text-align: right;\">               124</td><td style=\"text-align: right;\">                0</td><td style=\"text-align: right;\">           122</td><td style=\"text-align: right;\">              147</td><td style=\"text-align: right;\">            145</td></tr>\n",
       "<tr><td>fetchwheel.1    </td><td style=\"text-align: right;\">           24</td><td style=\"text-align: right;\">              67</td><td style=\"text-align: right;\">             33</td><td style=\"text-align: right;\">               127</td><td style=\"text-align: right;\">                0</td><td style=\"text-align: right;\">            11</td><td style=\"text-align: right;\">               61</td><td style=\"text-align: right;\">             62</td></tr>\n",
       "<tr><td>putawaywrench.1 </td><td style=\"text-align: right;\">           38</td><td style=\"text-align: right;\">              56</td><td style=\"text-align: right;\">             45</td><td style=\"text-align: right;\">               137</td><td style=\"text-align: right;\">                0</td><td style=\"text-align: right;\">            68</td><td style=\"text-align: right;\">               46</td><td style=\"text-align: right;\">            109</td></tr>\n",
       "<tr><td>fetchwrench.1   </td><td style=\"text-align: right;\">           30</td><td style=\"text-align: right;\">              55</td><td style=\"text-align: right;\">             49</td><td style=\"text-align: right;\">               158</td><td style=\"text-align: right;\">                0</td><td style=\"text-align: right;\">            69</td><td style=\"text-align: right;\">              100</td><td style=\"text-align: right;\">             51</td></tr>\n",
       "</tbody>\n",
       "</table>"
      ],
      "text/plain": [
       "'<table>\\n<thead>\\n<tr><th>                </th><th style=\"text-align: right;\">  fetchjack.1</th><th style=\"text-align: right;\">  putawaywheel.1</th><th style=\"text-align: right;\">  putawayjack.1</th><th style=\"text-align: right;\">  closecontainer.0</th><th style=\"text-align: right;\">  opencontainer.0</th><th style=\"text-align: right;\">  fetchwheel.1</th><th style=\"text-align: right;\">  putawaywrench.1</th><th style=\"text-align: right;\">  fetchwrench.1</th></tr>\\n</thead>\\n<tbody>\\n<tr><td>fetchjack.1     </td><td style=\"text-align: right;\">            6</td><td style=\"text-align: right;\">              23</td><td style=\"text-align: right;\">             21</td><td style=\"text-align: right;\">                75</td><td style=\"text-align: right;\">                0</td><td style=\"text-align: right;\">            27</td><td style=\"text-align: right;\">               47</td><td style=\"text-align: right;\">             49</td></tr>\\n<tr><td>putawaywheel.1  </td><td style=\"text-align: right;\">           31</td><td style=\"text-align: right;\">              15</td><td style=\"text-align: right;\">             23</td><td style=\"text-align: right;\">               117</td><td style=\"text-align: right;\">                0</td><td style=\"text-align: right;\">            63</td><td style=\"text-align: right;\">               75</td><td style=\"text-align: right;\">             60</td></tr>\\n<tr><td>putawayjack.1   </td><td style=\"text-align: right;\">           40</td><td style=\"text-align: right;\">              27</td><td style=\"text-align: right;\">              7</td><td style=\"text-align: right;\">                72</td><td style=\"text-align: right;\">                0</td><td style=\"text-align: right;\">            28</td><td style=\"text-align: right;\">               29</td><td style=\"text-align: right;\">             41</td></tr>\\n<tr><td>closecontainer.0</td><td style=\"text-align: right;\">            0</td><td style=\"text-align: right;\">               0</td><td style=\"text-align: right;\">              0</td><td style=\"text-align: right;\">                 0</td><td style=\"text-align: right;\">              764</td><td style=\"text-align: right;\">             0</td><td style=\"text-align: right;\">                0</td><td style=\"text-align: right;\">              0</td></tr>\\n<tr><td>opencontainer.0 </td><td style=\"text-align: right;\">           79</td><td style=\"text-align: right;\">             139</td><td style=\"text-align: right;\">             64</td><td style=\"text-align: right;\">               124</td><td style=\"text-align: right;\">                0</td><td style=\"text-align: right;\">           122</td><td style=\"text-align: right;\">              147</td><td style=\"text-align: right;\">            145</td></tr>\\n<tr><td>fetchwheel.1    </td><td style=\"text-align: right;\">           24</td><td style=\"text-align: right;\">              67</td><td style=\"text-align: right;\">             33</td><td style=\"text-align: right;\">               127</td><td style=\"text-align: right;\">                0</td><td style=\"text-align: right;\">            11</td><td style=\"text-align: right;\">               61</td><td style=\"text-align: right;\">             62</td></tr>\\n<tr><td>putawaywrench.1 </td><td style=\"text-align: right;\">           38</td><td style=\"text-align: right;\">              56</td><td style=\"text-align: right;\">             45</td><td style=\"text-align: right;\">               137</td><td style=\"text-align: right;\">                0</td><td style=\"text-align: right;\">            68</td><td style=\"text-align: right;\">               46</td><td style=\"text-align: right;\">            109</td></tr>\\n<tr><td>fetchwrench.1   </td><td style=\"text-align: right;\">           30</td><td style=\"text-align: right;\">              55</td><td style=\"text-align: right;\">             49</td><td style=\"text-align: right;\">               158</td><td style=\"text-align: right;\">                0</td><td style=\"text-align: right;\">            69</td><td style=\"text-align: right;\">              100</td><td style=\"text-align: right;\">             51</td></tr>\\n</tbody>\\n</table>'"
      ]
     },
     "metadata": {},
     "output_type": "display_data"
    },
    {
     "data": {
      "text/markdown": [
       "\n",
       "#### HOLES: Boot"
      ],
      "text/plain": [
       "<IPython.core.display.Markdown object>"
      ]
     },
     "metadata": {},
     "output_type": "display_data"
    },
    {
     "data": {
      "text/html": [
       "<table>\n",
       "<thead>\n",
       "<tr><th>                </th><th style=\"text-align: right;\">  fetchjack.1</th><th style=\"text-align: right;\">  putawaywheel.1</th><th style=\"text-align: right;\">  putawayjack.1</th><th style=\"text-align: right;\">  closecontainer.0</th><th style=\"text-align: right;\">  opencontainer.0</th><th style=\"text-align: right;\">  fetchwheel.1</th><th style=\"text-align: right;\">  putawaywrench.1</th><th style=\"text-align: right;\">  fetchwrench.1</th></tr>\n",
       "</thead>\n",
       "<tbody>\n",
       "<tr><td>fetchjack.1     </td><td style=\"text-align: right;\">            6</td><td style=\"text-align: right;\">              23</td><td style=\"text-align: right;\">             21</td><td style=\"text-align: right;\">                75</td><td style=\"text-align: right;\">                0</td><td style=\"text-align: right;\">            27</td><td style=\"text-align: right;\">               47</td><td style=\"text-align: right;\">             49</td></tr>\n",
       "<tr><td>putawaywheel.1  </td><td style=\"text-align: right;\">           31</td><td style=\"text-align: right;\">              15</td><td style=\"text-align: right;\">             23</td><td style=\"text-align: right;\">               117</td><td style=\"text-align: right;\">                0</td><td style=\"text-align: right;\">            63</td><td style=\"text-align: right;\">               75</td><td style=\"text-align: right;\">             60</td></tr>\n",
       "<tr><td>putawayjack.1   </td><td style=\"text-align: right;\">           40</td><td style=\"text-align: right;\">              27</td><td style=\"text-align: right;\">              7</td><td style=\"text-align: right;\">                72</td><td style=\"text-align: right;\">                0</td><td style=\"text-align: right;\">            28</td><td style=\"text-align: right;\">               29</td><td style=\"text-align: right;\">             41</td></tr>\n",
       "<tr><td>closecontainer.0</td><td style=\"text-align: right;\">            0</td><td style=\"text-align: right;\">               0</td><td style=\"text-align: right;\">              0</td><td style=\"text-align: right;\">                 0</td><td style=\"text-align: right;\">              764</td><td style=\"text-align: right;\">             0</td><td style=\"text-align: right;\">                0</td><td style=\"text-align: right;\">              0</td></tr>\n",
       "<tr><td>opencontainer.0 </td><td style=\"text-align: right;\">           79</td><td style=\"text-align: right;\">             139</td><td style=\"text-align: right;\">             64</td><td style=\"text-align: right;\">               124</td><td style=\"text-align: right;\">                0</td><td style=\"text-align: right;\">           122</td><td style=\"text-align: right;\">              147</td><td style=\"text-align: right;\">            145</td></tr>\n",
       "<tr><td>fetchwheel.1    </td><td style=\"text-align: right;\">           24</td><td style=\"text-align: right;\">              67</td><td style=\"text-align: right;\">             33</td><td style=\"text-align: right;\">               127</td><td style=\"text-align: right;\">                0</td><td style=\"text-align: right;\">            11</td><td style=\"text-align: right;\">               61</td><td style=\"text-align: right;\">             62</td></tr>\n",
       "<tr><td>putawaywrench.1 </td><td style=\"text-align: right;\">           38</td><td style=\"text-align: right;\">              56</td><td style=\"text-align: right;\">             45</td><td style=\"text-align: right;\">               137</td><td style=\"text-align: right;\">                0</td><td style=\"text-align: right;\">            68</td><td style=\"text-align: right;\">               46</td><td style=\"text-align: right;\">            109</td></tr>\n",
       "<tr><td>fetchwrench.1   </td><td style=\"text-align: right;\">           30</td><td style=\"text-align: right;\">              55</td><td style=\"text-align: right;\">             49</td><td style=\"text-align: right;\">               158</td><td style=\"text-align: right;\">                0</td><td style=\"text-align: right;\">            69</td><td style=\"text-align: right;\">              100</td><td style=\"text-align: right;\">             51</td></tr>\n",
       "</tbody>\n",
       "</table>"
      ],
      "text/plain": [
       "'<table>\\n<thead>\\n<tr><th>                </th><th style=\"text-align: right;\">  fetchjack.1</th><th style=\"text-align: right;\">  putawaywheel.1</th><th style=\"text-align: right;\">  putawayjack.1</th><th style=\"text-align: right;\">  closecontainer.0</th><th style=\"text-align: right;\">  opencontainer.0</th><th style=\"text-align: right;\">  fetchwheel.1</th><th style=\"text-align: right;\">  putawaywrench.1</th><th style=\"text-align: right;\">  fetchwrench.1</th></tr>\\n</thead>\\n<tbody>\\n<tr><td>fetchjack.1     </td><td style=\"text-align: right;\">            6</td><td style=\"text-align: right;\">              23</td><td style=\"text-align: right;\">             21</td><td style=\"text-align: right;\">                75</td><td style=\"text-align: right;\">                0</td><td style=\"text-align: right;\">            27</td><td style=\"text-align: right;\">               47</td><td style=\"text-align: right;\">             49</td></tr>\\n<tr><td>putawaywheel.1  </td><td style=\"text-align: right;\">           31</td><td style=\"text-align: right;\">              15</td><td style=\"text-align: right;\">             23</td><td style=\"text-align: right;\">               117</td><td style=\"text-align: right;\">                0</td><td style=\"text-align: right;\">            63</td><td style=\"text-align: right;\">               75</td><td style=\"text-align: right;\">             60</td></tr>\\n<tr><td>putawayjack.1   </td><td style=\"text-align: right;\">           40</td><td style=\"text-align: right;\">              27</td><td style=\"text-align: right;\">              7</td><td style=\"text-align: right;\">                72</td><td style=\"text-align: right;\">                0</td><td style=\"text-align: right;\">            28</td><td style=\"text-align: right;\">               29</td><td style=\"text-align: right;\">             41</td></tr>\\n<tr><td>closecontainer.0</td><td style=\"text-align: right;\">            0</td><td style=\"text-align: right;\">               0</td><td style=\"text-align: right;\">              0</td><td style=\"text-align: right;\">                 0</td><td style=\"text-align: right;\">              764</td><td style=\"text-align: right;\">             0</td><td style=\"text-align: right;\">                0</td><td style=\"text-align: right;\">              0</td></tr>\\n<tr><td>opencontainer.0 </td><td style=\"text-align: right;\">           79</td><td style=\"text-align: right;\">             139</td><td style=\"text-align: right;\">             64</td><td style=\"text-align: right;\">               124</td><td style=\"text-align: right;\">                0</td><td style=\"text-align: right;\">           122</td><td style=\"text-align: right;\">              147</td><td style=\"text-align: right;\">            145</td></tr>\\n<tr><td>fetchwheel.1    </td><td style=\"text-align: right;\">           24</td><td style=\"text-align: right;\">              67</td><td style=\"text-align: right;\">             33</td><td style=\"text-align: right;\">               127</td><td style=\"text-align: right;\">                0</td><td style=\"text-align: right;\">            11</td><td style=\"text-align: right;\">               61</td><td style=\"text-align: right;\">             62</td></tr>\\n<tr><td>putawaywrench.1 </td><td style=\"text-align: right;\">           38</td><td style=\"text-align: right;\">              56</td><td style=\"text-align: right;\">             45</td><td style=\"text-align: right;\">               137</td><td style=\"text-align: right;\">                0</td><td style=\"text-align: right;\">            68</td><td style=\"text-align: right;\">               46</td><td style=\"text-align: right;\">            109</td></tr>\\n<tr><td>fetchwrench.1   </td><td style=\"text-align: right;\">           30</td><td style=\"text-align: right;\">              55</td><td style=\"text-align: right;\">             49</td><td style=\"text-align: right;\">               158</td><td style=\"text-align: right;\">                0</td><td style=\"text-align: right;\">            69</td><td style=\"text-align: right;\">              100</td><td style=\"text-align: right;\">             51</td></tr>\\n</tbody>\\n</table>'"
      ]
     },
     "metadata": {},
     "output_type": "display_data"
    },
    {
     "data": {
      "text/markdown": [
       "\n",
       "#### Wheel"
      ],
      "text/plain": [
       "<IPython.core.display.Markdown object>"
      ]
     },
     "metadata": {},
     "output_type": "display_data"
    },
    {
     "data": {
      "text/html": [
       "<table>\n",
       "<thead>\n",
       "<tr><th>              </th><th style=\"text-align: right;\">  putonwheel.0</th><th style=\"text-align: right;\">  removewheel.0</th><th style=\"text-align: right;\">  putawaywheel.0</th><th style=\"text-align: right;\">  fetchwheel.0</th></tr>\n",
       "</thead>\n",
       "<tbody>\n",
       "<tr><td>putonwheel.0  </td><td style=\"text-align: right;\">             0</td><td style=\"text-align: right;\">            104</td><td style=\"text-align: right;\">               0</td><td style=\"text-align: right;\">             0</td></tr>\n",
       "<tr><td>removewheel.0 </td><td style=\"text-align: right;\">            51</td><td style=\"text-align: right;\">              0</td><td style=\"text-align: right;\">             105</td><td style=\"text-align: right;\">             0</td></tr>\n",
       "<tr><td>putawaywheel.0</td><td style=\"text-align: right;\">             0</td><td style=\"text-align: right;\">              0</td><td style=\"text-align: right;\">               0</td><td style=\"text-align: right;\">           311</td></tr>\n",
       "<tr><td>fetchwheel.0  </td><td style=\"text-align: right;\">           113</td><td style=\"text-align: right;\">              0</td><td style=\"text-align: right;\">             262</td><td style=\"text-align: right;\">             0</td></tr>\n",
       "</tbody>\n",
       "</table>"
      ],
      "text/plain": [
       "'<table>\\n<thead>\\n<tr><th>              </th><th style=\"text-align: right;\">  putonwheel.0</th><th style=\"text-align: right;\">  removewheel.0</th><th style=\"text-align: right;\">  putawaywheel.0</th><th style=\"text-align: right;\">  fetchwheel.0</th></tr>\\n</thead>\\n<tbody>\\n<tr><td>putonwheel.0  </td><td style=\"text-align: right;\">             0</td><td style=\"text-align: right;\">            104</td><td style=\"text-align: right;\">               0</td><td style=\"text-align: right;\">             0</td></tr>\\n<tr><td>removewheel.0 </td><td style=\"text-align: right;\">            51</td><td style=\"text-align: right;\">              0</td><td style=\"text-align: right;\">             105</td><td style=\"text-align: right;\">             0</td></tr>\\n<tr><td>putawaywheel.0</td><td style=\"text-align: right;\">             0</td><td style=\"text-align: right;\">              0</td><td style=\"text-align: right;\">               0</td><td style=\"text-align: right;\">           311</td></tr>\\n<tr><td>fetchwheel.0  </td><td style=\"text-align: right;\">           113</td><td style=\"text-align: right;\">              0</td><td style=\"text-align: right;\">             262</td><td style=\"text-align: right;\">             0</td></tr>\\n</tbody>\\n</table>'"
      ]
     },
     "metadata": {},
     "output_type": "display_data"
    },
    {
     "data": {
      "text/markdown": [
       "\n",
       "#### HOLES: Wheel"
      ],
      "text/plain": [
       "<IPython.core.display.Markdown object>"
      ]
     },
     "metadata": {},
     "output_type": "display_data"
    },
    {
     "data": {
      "text/html": [
       "<table>\n",
       "<thead>\n",
       "<tr><th>              </th><th style=\"text-align: right;\">  putonwheel.0</th><th style=\"text-align: right;\">  removewheel.0</th><th style=\"text-align: right;\">  putawaywheel.0</th><th style=\"text-align: right;\">  fetchwheel.0</th></tr>\n",
       "</thead>\n",
       "<tbody>\n",
       "<tr><td>putonwheel.0  </td><td style=\"text-align: right;\">             0</td><td style=\"text-align: right;\">            104</td><td style=\"text-align: right;\">               0</td><td style=\"text-align: right;\">             0</td></tr>\n",
       "<tr><td>removewheel.0 </td><td style=\"text-align: right;\">            51</td><td style=\"text-align: right;\">              0</td><td style=\"text-align: right;\">             105</td><td style=\"text-align: right;\">             0</td></tr>\n",
       "<tr><td>putawaywheel.0</td><td style=\"text-align: right;\">             0</td><td style=\"text-align: right;\">              0</td><td style=\"text-align: right;\">               0</td><td style=\"text-align: right;\">           311</td></tr>\n",
       "<tr><td>fetchwheel.0  </td><td style=\"text-align: right;\">           113</td><td style=\"text-align: right;\">              0</td><td style=\"text-align: right;\">             262</td><td style=\"text-align: right;\">             0</td></tr>\n",
       "</tbody>\n",
       "</table>"
      ],
      "text/plain": [
       "'<table>\\n<thead>\\n<tr><th>              </th><th style=\"text-align: right;\">  putonwheel.0</th><th style=\"text-align: right;\">  removewheel.0</th><th style=\"text-align: right;\">  putawaywheel.0</th><th style=\"text-align: right;\">  fetchwheel.0</th></tr>\\n</thead>\\n<tbody>\\n<tr><td>putonwheel.0  </td><td style=\"text-align: right;\">             0</td><td style=\"text-align: right;\">            104</td><td style=\"text-align: right;\">               0</td><td style=\"text-align: right;\">             0</td></tr>\\n<tr><td>removewheel.0 </td><td style=\"text-align: right;\">            51</td><td style=\"text-align: right;\">              0</td><td style=\"text-align: right;\">             105</td><td style=\"text-align: right;\">             0</td></tr>\\n<tr><td>putawaywheel.0</td><td style=\"text-align: right;\">             0</td><td style=\"text-align: right;\">              0</td><td style=\"text-align: right;\">               0</td><td style=\"text-align: right;\">           311</td></tr>\\n<tr><td>fetchwheel.0  </td><td style=\"text-align: right;\">           113</td><td style=\"text-align: right;\">              0</td><td style=\"text-align: right;\">             262</td><td style=\"text-align: right;\">             0</td></tr>\\n</tbody>\\n</table>'"
      ]
     },
     "metadata": {},
     "output_type": "display_data"
    },
    {
     "data": {
      "text/markdown": [
       "\n",
       "#### Hub"
      ],
      "text/plain": [
       "<IPython.core.display.Markdown object>"
      ]
     },
     "metadata": {},
     "output_type": "display_data"
    },
    {
     "data": {
      "text/html": [
       "<table>\n",
       "<thead>\n",
       "<tr><th>             </th><th style=\"text-align: right;\">  removewheel.1</th><th style=\"text-align: right;\">  putonwheel.1</th><th style=\"text-align: right;\">  doup.1</th><th style=\"text-align: right;\">  undo.1</th><th style=\"text-align: right;\">  jackdown.0</th><th style=\"text-align: right;\">  jackup.0</th><th style=\"text-align: right;\">  tighten.1</th><th style=\"text-align: right;\">  loosen.1</th></tr>\n",
       "</thead>\n",
       "<tbody>\n",
       "<tr><td>removewheel.1</td><td style=\"text-align: right;\">              0</td><td style=\"text-align: right;\">           149</td><td style=\"text-align: right;\">       0</td><td style=\"text-align: right;\">       0</td><td style=\"text-align: right;\">           0</td><td style=\"text-align: right;\">         0</td><td style=\"text-align: right;\">          0</td><td style=\"text-align: right;\">         0</td></tr>\n",
       "<tr><td>putonwheel.1 </td><td style=\"text-align: right;\">             83</td><td style=\"text-align: right;\">             0</td><td style=\"text-align: right;\">      85</td><td style=\"text-align: right;\">       0</td><td style=\"text-align: right;\">           0</td><td style=\"text-align: right;\">         0</td><td style=\"text-align: right;\">          0</td><td style=\"text-align: right;\">         0</td></tr>\n",
       "<tr><td>doup.1       </td><td style=\"text-align: right;\">              0</td><td style=\"text-align: right;\">             0</td><td style=\"text-align: right;\">       0</td><td style=\"text-align: right;\">      46</td><td style=\"text-align: right;\">          85</td><td style=\"text-align: right;\">         0</td><td style=\"text-align: right;\">          0</td><td style=\"text-align: right;\">         0</td></tr>\n",
       "<tr><td>undo.1       </td><td style=\"text-align: right;\">             69</td><td style=\"text-align: right;\">             0</td><td style=\"text-align: right;\">      50</td><td style=\"text-align: right;\">       0</td><td style=\"text-align: right;\">           0</td><td style=\"text-align: right;\">         0</td><td style=\"text-align: right;\">          0</td><td style=\"text-align: right;\">         0</td></tr>\n",
       "<tr><td>jackdown.0   </td><td style=\"text-align: right;\">              0</td><td style=\"text-align: right;\">             0</td><td style=\"text-align: right;\">       0</td><td style=\"text-align: right;\">       0</td><td style=\"text-align: right;\">           0</td><td style=\"text-align: right;\">       155</td><td style=\"text-align: right;\">         83</td><td style=\"text-align: right;\">        81</td></tr>\n",
       "<tr><td>jackup.0     </td><td style=\"text-align: right;\">              0</td><td style=\"text-align: right;\">             0</td><td style=\"text-align: right;\">       0</td><td style=\"text-align: right;\">      77</td><td style=\"text-align: right;\">         255</td><td style=\"text-align: right;\">         0</td><td style=\"text-align: right;\">          0</td><td style=\"text-align: right;\">         0</td></tr>\n",
       "<tr><td>tighten.1    </td><td style=\"text-align: right;\">              0</td><td style=\"text-align: right;\">             0</td><td style=\"text-align: right;\">       0</td><td style=\"text-align: right;\">       0</td><td style=\"text-align: right;\">           0</td><td style=\"text-align: right;\">        84</td><td style=\"text-align: right;\">          0</td><td style=\"text-align: right;\">       142</td></tr>\n",
       "<tr><td>loosen.1     </td><td style=\"text-align: right;\">              0</td><td style=\"text-align: right;\">             0</td><td style=\"text-align: right;\">       0</td><td style=\"text-align: right;\">       0</td><td style=\"text-align: right;\">           0</td><td style=\"text-align: right;\">        86</td><td style=\"text-align: right;\">        141</td><td style=\"text-align: right;\">         0</td></tr>\n",
       "</tbody>\n",
       "</table>"
      ],
      "text/plain": [
       "'<table>\\n<thead>\\n<tr><th>             </th><th style=\"text-align: right;\">  removewheel.1</th><th style=\"text-align: right;\">  putonwheel.1</th><th style=\"text-align: right;\">  doup.1</th><th style=\"text-align: right;\">  undo.1</th><th style=\"text-align: right;\">  jackdown.0</th><th style=\"text-align: right;\">  jackup.0</th><th style=\"text-align: right;\">  tighten.1</th><th style=\"text-align: right;\">  loosen.1</th></tr>\\n</thead>\\n<tbody>\\n<tr><td>removewheel.1</td><td style=\"text-align: right;\">              0</td><td style=\"text-align: right;\">           149</td><td style=\"text-align: right;\">       0</td><td style=\"text-align: right;\">       0</td><td style=\"text-align: right;\">           0</td><td style=\"text-align: right;\">         0</td><td style=\"text-align: right;\">          0</td><td style=\"text-align: right;\">         0</td></tr>\\n<tr><td>putonwheel.1 </td><td style=\"text-align: right;\">             83</td><td style=\"text-align: right;\">             0</td><td style=\"text-align: right;\">      85</td><td style=\"text-align: right;\">       0</td><td style=\"text-align: right;\">           0</td><td style=\"text-align: right;\">         0</td><td style=\"text-align: right;\">          0</td><td style=\"text-align: right;\">         0</td></tr>\\n<tr><td>doup.1       </td><td style=\"text-align: right;\">              0</td><td style=\"text-align: right;\">             0</td><td style=\"text-align: right;\">       0</td><td style=\"text-align: right;\">      46</td><td style=\"text-align: right;\">          85</td><td style=\"text-align: right;\">         0</td><td style=\"text-align: right;\">          0</td><td style=\"text-align: right;\">         0</td></tr>\\n<tr><td>undo.1       </td><td style=\"text-align: right;\">             69</td><td style=\"text-align: right;\">             0</td><td style=\"text-align: right;\">      50</td><td style=\"text-align: right;\">       0</td><td style=\"text-align: right;\">           0</td><td style=\"text-align: right;\">         0</td><td style=\"text-align: right;\">          0</td><td style=\"text-align: right;\">         0</td></tr>\\n<tr><td>jackdown.0   </td><td style=\"text-align: right;\">              0</td><td style=\"text-align: right;\">             0</td><td style=\"text-align: right;\">       0</td><td style=\"text-align: right;\">       0</td><td style=\"text-align: right;\">           0</td><td style=\"text-align: right;\">       155</td><td style=\"text-align: right;\">         83</td><td style=\"text-align: right;\">        81</td></tr>\\n<tr><td>jackup.0     </td><td style=\"text-align: right;\">              0</td><td style=\"text-align: right;\">             0</td><td style=\"text-align: right;\">       0</td><td style=\"text-align: right;\">      77</td><td style=\"text-align: right;\">         255</td><td style=\"text-align: right;\">         0</td><td style=\"text-align: right;\">          0</td><td style=\"text-align: right;\">         0</td></tr>\\n<tr><td>tighten.1    </td><td style=\"text-align: right;\">              0</td><td style=\"text-align: right;\">             0</td><td style=\"text-align: right;\">       0</td><td style=\"text-align: right;\">       0</td><td style=\"text-align: right;\">           0</td><td style=\"text-align: right;\">        84</td><td style=\"text-align: right;\">          0</td><td style=\"text-align: right;\">       142</td></tr>\\n<tr><td>loosen.1     </td><td style=\"text-align: right;\">              0</td><td style=\"text-align: right;\">             0</td><td style=\"text-align: right;\">       0</td><td style=\"text-align: right;\">       0</td><td style=\"text-align: right;\">           0</td><td style=\"text-align: right;\">        86</td><td style=\"text-align: right;\">        141</td><td style=\"text-align: right;\">         0</td></tr>\\n</tbody>\\n</table>'"
      ]
     },
     "metadata": {},
     "output_type": "display_data"
    },
    {
     "data": {
      "text/markdown": [
       "\n",
       "#### HOLES: Hub"
      ],
      "text/plain": [
       "<IPython.core.display.Markdown object>"
      ]
     },
     "metadata": {},
     "output_type": "display_data"
    },
    {
     "data": {
      "text/html": [
       "<table>\n",
       "<thead>\n",
       "<tr><th>             </th><th style=\"text-align: right;\">  removewheel.1</th><th style=\"text-align: right;\">  putonwheel.1</th><th style=\"text-align: right;\">  doup.1</th><th style=\"text-align: right;\">  undo.1</th><th style=\"text-align: right;\">  jackdown.0</th><th style=\"text-align: right;\">  jackup.0</th><th>tighten.1  </th><th>loosen.1  </th></tr>\n",
       "</thead>\n",
       "<tbody>\n",
       "<tr><td>removewheel.1</td><td style=\"text-align: right;\">              0</td><td style=\"text-align: right;\">           149</td><td style=\"text-align: right;\">       0</td><td style=\"text-align: right;\">       0</td><td style=\"text-align: right;\">           0</td><td style=\"text-align: right;\">         0</td><td>0          </td><td>0         </td></tr>\n",
       "<tr><td>putonwheel.1 </td><td style=\"text-align: right;\">             83</td><td style=\"text-align: right;\">             0</td><td style=\"text-align: right;\">      85</td><td style=\"text-align: right;\">       0</td><td style=\"text-align: right;\">           0</td><td style=\"text-align: right;\">         0</td><td>0          </td><td>0         </td></tr>\n",
       "<tr><td>doup.1       </td><td style=\"text-align: right;\">              0</td><td style=\"text-align: right;\">             0</td><td style=\"text-align: right;\">       0</td><td style=\"text-align: right;\">      46</td><td style=\"text-align: right;\">          85</td><td style=\"text-align: right;\">         0</td><td>0          </td><td>0         </td></tr>\n",
       "<tr><td>undo.1       </td><td style=\"text-align: right;\">             69</td><td style=\"text-align: right;\">             0</td><td style=\"text-align: right;\">      50</td><td style=\"text-align: right;\">       0</td><td style=\"text-align: right;\">           0</td><td style=\"text-align: right;\">         0</td><td>0          </td><td>0         </td></tr>\n",
       "<tr><td>jackdown.0   </td><td style=\"text-align: right;\">              0</td><td style=\"text-align: right;\">             0</td><td style=\"text-align: right;\">       0</td><td style=\"text-align: right;\">       0</td><td style=\"text-align: right;\">           0</td><td style=\"text-align: right;\">       155</td><td>83         </td><td>81        </td></tr>\n",
       "<tr><td>jackup.0     </td><td style=\"text-align: right;\">              0</td><td style=\"text-align: right;\">             0</td><td style=\"text-align: right;\">       0</td><td style=\"text-align: right;\">      77</td><td style=\"text-align: right;\">         255</td><td style=\"text-align: right;\">         0</td><td>0          </td><td>0         </td></tr>\n",
       "<tr><td>tighten.1    </td><td style=\"text-align: right;\">              0</td><td style=\"text-align: right;\">             0</td><td style=\"text-align: right;\">       0</td><td style=\"text-align: right;\">       0</td><td style=\"text-align: right;\">           0</td><td style=\"text-align: right;\">        84</td><td>hole       </td><td>142       </td></tr>\n",
       "<tr><td>loosen.1     </td><td style=\"text-align: right;\">              0</td><td style=\"text-align: right;\">             0</td><td style=\"text-align: right;\">       0</td><td style=\"text-align: right;\">       0</td><td style=\"text-align: right;\">           0</td><td style=\"text-align: right;\">        86</td><td>141        </td><td>hole      </td></tr>\n",
       "</tbody>\n",
       "</table>"
      ],
      "text/plain": [
       "'<table>\\n<thead>\\n<tr><th>             </th><th style=\"text-align: right;\">  removewheel.1</th><th style=\"text-align: right;\">  putonwheel.1</th><th style=\"text-align: right;\">  doup.1</th><th style=\"text-align: right;\">  undo.1</th><th style=\"text-align: right;\">  jackdown.0</th><th style=\"text-align: right;\">  jackup.0</th><th>tighten.1  </th><th>loosen.1  </th></tr>\\n</thead>\\n<tbody>\\n<tr><td>removewheel.1</td><td style=\"text-align: right;\">              0</td><td style=\"text-align: right;\">           149</td><td style=\"text-align: right;\">       0</td><td style=\"text-align: right;\">       0</td><td style=\"text-align: right;\">           0</td><td style=\"text-align: right;\">         0</td><td>0          </td><td>0         </td></tr>\\n<tr><td>putonwheel.1 </td><td style=\"text-align: right;\">             83</td><td style=\"text-align: right;\">             0</td><td style=\"text-align: right;\">      85</td><td style=\"text-align: right;\">       0</td><td style=\"text-align: right;\">           0</td><td style=\"text-align: right;\">         0</td><td>0          </td><td>0         </td></tr>\\n<tr><td>doup.1       </td><td style=\"text-align: right;\">              0</td><td style=\"text-align: right;\">             0</td><td style=\"text-align: right;\">       0</td><td style=\"text-align: right;\">      46</td><td style=\"text-align: right;\">          85</td><td style=\"text-align: right;\">         0</td><td>0          </td><td>0         </td></tr>\\n<tr><td>undo.1       </td><td style=\"text-align: right;\">             69</td><td style=\"text-align: right;\">             0</td><td style=\"text-align: right;\">      50</td><td style=\"text-align: right;\">       0</td><td style=\"text-align: right;\">           0</td><td style=\"text-align: right;\">         0</td><td>0          </td><td>0         </td></tr>\\n<tr><td>jackdown.0   </td><td style=\"text-align: right;\">              0</td><td style=\"text-align: right;\">             0</td><td style=\"text-align: right;\">       0</td><td style=\"text-align: right;\">       0</td><td style=\"text-align: right;\">           0</td><td style=\"text-align: right;\">       155</td><td>83         </td><td>81        </td></tr>\\n<tr><td>jackup.0     </td><td style=\"text-align: right;\">              0</td><td style=\"text-align: right;\">             0</td><td style=\"text-align: right;\">       0</td><td style=\"text-align: right;\">      77</td><td style=\"text-align: right;\">         255</td><td style=\"text-align: right;\">         0</td><td>0          </td><td>0         </td></tr>\\n<tr><td>tighten.1    </td><td style=\"text-align: right;\">              0</td><td style=\"text-align: right;\">             0</td><td style=\"text-align: right;\">       0</td><td style=\"text-align: right;\">       0</td><td style=\"text-align: right;\">           0</td><td style=\"text-align: right;\">        84</td><td>hole       </td><td>142       </td></tr>\\n<tr><td>loosen.1     </td><td style=\"text-align: right;\">              0</td><td style=\"text-align: right;\">             0</td><td style=\"text-align: right;\">       0</td><td style=\"text-align: right;\">       0</td><td style=\"text-align: right;\">           0</td><td style=\"text-align: right;\">        86</td><td>141        </td><td>hole      </td></tr>\\n</tbody>\\n</table>'"
      ]
     },
     "metadata": {},
     "output_type": "display_data"
    },
    {
     "data": {
      "text/markdown": [
       "\n",
       "#### Wrench"
      ],
      "text/plain": [
       "<IPython.core.display.Markdown object>"
      ]
     },
     "metadata": {},
     "output_type": "display_data"
    },
    {
     "data": {
      "text/html": [
       "<table>\n",
       "<thead>\n",
       "<tr><th>               </th><th style=\"text-align: right;\">  fetchwrench.0</th><th style=\"text-align: right;\">  putawaywrench.0</th><th style=\"text-align: right;\">  doup.2</th><th style=\"text-align: right;\">  undo.2</th><th style=\"text-align: right;\">  tighten.2</th><th style=\"text-align: right;\">  loosen.2</th></tr>\n",
       "</thead>\n",
       "<tbody>\n",
       "<tr><td>fetchwrench.0  </td><td style=\"text-align: right;\">              0</td><td style=\"text-align: right;\">              183</td><td style=\"text-align: right;\">      65</td><td style=\"text-align: right;\">      50</td><td style=\"text-align: right;\">        102</td><td style=\"text-align: right;\">       105</td></tr>\n",
       "<tr><td>putawaywrench.0</td><td style=\"text-align: right;\">            406</td><td style=\"text-align: right;\">                0</td><td style=\"text-align: right;\">       0</td><td style=\"text-align: right;\">       0</td><td style=\"text-align: right;\">          0</td><td style=\"text-align: right;\">         0</td></tr>\n",
       "<tr><td>doup.2         </td><td style=\"text-align: right;\">              0</td><td style=\"text-align: right;\">               61</td><td style=\"text-align: right;\">       5</td><td style=\"text-align: right;\">      25</td><td style=\"text-align: right;\">         25</td><td style=\"text-align: right;\">        17</td></tr>\n",
       "<tr><td>undo.2         </td><td style=\"text-align: right;\">              0</td><td style=\"text-align: right;\">               48</td><td style=\"text-align: right;\">      38</td><td style=\"text-align: right;\">       2</td><td style=\"text-align: right;\">         19</td><td style=\"text-align: right;\">        15</td></tr>\n",
       "<tr><td>tighten.2      </td><td style=\"text-align: right;\">              0</td><td style=\"text-align: right;\">              106</td><td style=\"text-align: right;\">      15</td><td style=\"text-align: right;\">      19</td><td style=\"text-align: right;\">         17</td><td style=\"text-align: right;\">        81</td></tr>\n",
       "<tr><td>loosen.2       </td><td style=\"text-align: right;\">              0</td><td style=\"text-align: right;\">               93</td><td style=\"text-align: right;\">      13</td><td style=\"text-align: right;\">      31</td><td style=\"text-align: right;\">         80</td><td style=\"text-align: right;\">        22</td></tr>\n",
       "</tbody>\n",
       "</table>"
      ],
      "text/plain": [
       "'<table>\\n<thead>\\n<tr><th>               </th><th style=\"text-align: right;\">  fetchwrench.0</th><th style=\"text-align: right;\">  putawaywrench.0</th><th style=\"text-align: right;\">  doup.2</th><th style=\"text-align: right;\">  undo.2</th><th style=\"text-align: right;\">  tighten.2</th><th style=\"text-align: right;\">  loosen.2</th></tr>\\n</thead>\\n<tbody>\\n<tr><td>fetchwrench.0  </td><td style=\"text-align: right;\">              0</td><td style=\"text-align: right;\">              183</td><td style=\"text-align: right;\">      65</td><td style=\"text-align: right;\">      50</td><td style=\"text-align: right;\">        102</td><td style=\"text-align: right;\">       105</td></tr>\\n<tr><td>putawaywrench.0</td><td style=\"text-align: right;\">            406</td><td style=\"text-align: right;\">                0</td><td style=\"text-align: right;\">       0</td><td style=\"text-align: right;\">       0</td><td style=\"text-align: right;\">          0</td><td style=\"text-align: right;\">         0</td></tr>\\n<tr><td>doup.2         </td><td style=\"text-align: right;\">              0</td><td style=\"text-align: right;\">               61</td><td style=\"text-align: right;\">       5</td><td style=\"text-align: right;\">      25</td><td style=\"text-align: right;\">         25</td><td style=\"text-align: right;\">        17</td></tr>\\n<tr><td>undo.2         </td><td style=\"text-align: right;\">              0</td><td style=\"text-align: right;\">               48</td><td style=\"text-align: right;\">      38</td><td style=\"text-align: right;\">       2</td><td style=\"text-align: right;\">         19</td><td style=\"text-align: right;\">        15</td></tr>\\n<tr><td>tighten.2      </td><td style=\"text-align: right;\">              0</td><td style=\"text-align: right;\">              106</td><td style=\"text-align: right;\">      15</td><td style=\"text-align: right;\">      19</td><td style=\"text-align: right;\">         17</td><td style=\"text-align: right;\">        81</td></tr>\\n<tr><td>loosen.2       </td><td style=\"text-align: right;\">              0</td><td style=\"text-align: right;\">               93</td><td style=\"text-align: right;\">      13</td><td style=\"text-align: right;\">      31</td><td style=\"text-align: right;\">         80</td><td style=\"text-align: right;\">        22</td></tr>\\n</tbody>\\n</table>'"
      ]
     },
     "metadata": {},
     "output_type": "display_data"
    },
    {
     "data": {
      "text/markdown": [
       "\n",
       "#### HOLES: Wrench"
      ],
      "text/plain": [
       "<IPython.core.display.Markdown object>"
      ]
     },
     "metadata": {},
     "output_type": "display_data"
    },
    {
     "data": {
      "text/html": [
       "<table>\n",
       "<thead>\n",
       "<tr><th>               </th><th style=\"text-align: right;\">  fetchwrench.0</th><th style=\"text-align: right;\">  putawaywrench.0</th><th style=\"text-align: right;\">  doup.2</th><th style=\"text-align: right;\">  undo.2</th><th style=\"text-align: right;\">  tighten.2</th><th style=\"text-align: right;\">  loosen.2</th></tr>\n",
       "</thead>\n",
       "<tbody>\n",
       "<tr><td>fetchwrench.0  </td><td style=\"text-align: right;\">              0</td><td style=\"text-align: right;\">              183</td><td style=\"text-align: right;\">      65</td><td style=\"text-align: right;\">      50</td><td style=\"text-align: right;\">        102</td><td style=\"text-align: right;\">       105</td></tr>\n",
       "<tr><td>putawaywrench.0</td><td style=\"text-align: right;\">            406</td><td style=\"text-align: right;\">                0</td><td style=\"text-align: right;\">       0</td><td style=\"text-align: right;\">       0</td><td style=\"text-align: right;\">          0</td><td style=\"text-align: right;\">         0</td></tr>\n",
       "<tr><td>doup.2         </td><td style=\"text-align: right;\">              0</td><td style=\"text-align: right;\">               61</td><td style=\"text-align: right;\">       5</td><td style=\"text-align: right;\">      25</td><td style=\"text-align: right;\">         25</td><td style=\"text-align: right;\">        17</td></tr>\n",
       "<tr><td>undo.2         </td><td style=\"text-align: right;\">              0</td><td style=\"text-align: right;\">               48</td><td style=\"text-align: right;\">      38</td><td style=\"text-align: right;\">       2</td><td style=\"text-align: right;\">         19</td><td style=\"text-align: right;\">        15</td></tr>\n",
       "<tr><td>tighten.2      </td><td style=\"text-align: right;\">              0</td><td style=\"text-align: right;\">              106</td><td style=\"text-align: right;\">      15</td><td style=\"text-align: right;\">      19</td><td style=\"text-align: right;\">         17</td><td style=\"text-align: right;\">        81</td></tr>\n",
       "<tr><td>loosen.2       </td><td style=\"text-align: right;\">              0</td><td style=\"text-align: right;\">               93</td><td style=\"text-align: right;\">      13</td><td style=\"text-align: right;\">      31</td><td style=\"text-align: right;\">         80</td><td style=\"text-align: right;\">        22</td></tr>\n",
       "</tbody>\n",
       "</table>"
      ],
      "text/plain": [
       "'<table>\\n<thead>\\n<tr><th>               </th><th style=\"text-align: right;\">  fetchwrench.0</th><th style=\"text-align: right;\">  putawaywrench.0</th><th style=\"text-align: right;\">  doup.2</th><th style=\"text-align: right;\">  undo.2</th><th style=\"text-align: right;\">  tighten.2</th><th style=\"text-align: right;\">  loosen.2</th></tr>\\n</thead>\\n<tbody>\\n<tr><td>fetchwrench.0  </td><td style=\"text-align: right;\">              0</td><td style=\"text-align: right;\">              183</td><td style=\"text-align: right;\">      65</td><td style=\"text-align: right;\">      50</td><td style=\"text-align: right;\">        102</td><td style=\"text-align: right;\">       105</td></tr>\\n<tr><td>putawaywrench.0</td><td style=\"text-align: right;\">            406</td><td style=\"text-align: right;\">                0</td><td style=\"text-align: right;\">       0</td><td style=\"text-align: right;\">       0</td><td style=\"text-align: right;\">          0</td><td style=\"text-align: right;\">         0</td></tr>\\n<tr><td>doup.2         </td><td style=\"text-align: right;\">              0</td><td style=\"text-align: right;\">               61</td><td style=\"text-align: right;\">       5</td><td style=\"text-align: right;\">      25</td><td style=\"text-align: right;\">         25</td><td style=\"text-align: right;\">        17</td></tr>\\n<tr><td>undo.2         </td><td style=\"text-align: right;\">              0</td><td style=\"text-align: right;\">               48</td><td style=\"text-align: right;\">      38</td><td style=\"text-align: right;\">       2</td><td style=\"text-align: right;\">         19</td><td style=\"text-align: right;\">        15</td></tr>\\n<tr><td>tighten.2      </td><td style=\"text-align: right;\">              0</td><td style=\"text-align: right;\">              106</td><td style=\"text-align: right;\">      15</td><td style=\"text-align: right;\">      19</td><td style=\"text-align: right;\">         17</td><td style=\"text-align: right;\">        81</td></tr>\\n<tr><td>loosen.2       </td><td style=\"text-align: right;\">              0</td><td style=\"text-align: right;\">               93</td><td style=\"text-align: right;\">      13</td><td style=\"text-align: right;\">      31</td><td style=\"text-align: right;\">         80</td><td style=\"text-align: right;\">        22</td></tr>\\n</tbody>\\n</table>'"
      ]
     },
     "metadata": {},
     "output_type": "display_data"
    },
    {
     "data": {
      "text/markdown": [
       "\n",
       "#### Nut"
      ],
      "text/plain": [
       "<IPython.core.display.Markdown object>"
      ]
     },
     "metadata": {},
     "output_type": "display_data"
    },
    {
     "data": {
      "text/html": [
       "<table>\n",
       "<thead>\n",
       "<tr><th>         </th><th style=\"text-align: right;\">  undo.0</th><th style=\"text-align: right;\">  doup.0</th><th style=\"text-align: right;\">  tighten.0</th><th style=\"text-align: right;\">  loosen.0</th></tr>\n",
       "</thead>\n",
       "<tbody>\n",
       "<tr><td>undo.0   </td><td style=\"text-align: right;\">       0</td><td style=\"text-align: right;\">      86</td><td style=\"text-align: right;\">          0</td><td style=\"text-align: right;\">         0</td></tr>\n",
       "<tr><td>doup.0   </td><td style=\"text-align: right;\">      61</td><td style=\"text-align: right;\">       0</td><td style=\"text-align: right;\">         47</td><td style=\"text-align: right;\">         0</td></tr>\n",
       "<tr><td>tighten.0</td><td style=\"text-align: right;\">       0</td><td style=\"text-align: right;\">       0</td><td style=\"text-align: right;\">          0</td><td style=\"text-align: right;\">       189</td></tr>\n",
       "<tr><td>loosen.0 </td><td style=\"text-align: right;\">      46</td><td style=\"text-align: right;\">       0</td><td style=\"text-align: right;\">        164</td><td style=\"text-align: right;\">         0</td></tr>\n",
       "</tbody>\n",
       "</table>"
      ],
      "text/plain": [
       "'<table>\\n<thead>\\n<tr><th>         </th><th style=\"text-align: right;\">  undo.0</th><th style=\"text-align: right;\">  doup.0</th><th style=\"text-align: right;\">  tighten.0</th><th style=\"text-align: right;\">  loosen.0</th></tr>\\n</thead>\\n<tbody>\\n<tr><td>undo.0   </td><td style=\"text-align: right;\">       0</td><td style=\"text-align: right;\">      86</td><td style=\"text-align: right;\">          0</td><td style=\"text-align: right;\">         0</td></tr>\\n<tr><td>doup.0   </td><td style=\"text-align: right;\">      61</td><td style=\"text-align: right;\">       0</td><td style=\"text-align: right;\">         47</td><td style=\"text-align: right;\">         0</td></tr>\\n<tr><td>tighten.0</td><td style=\"text-align: right;\">       0</td><td style=\"text-align: right;\">       0</td><td style=\"text-align: right;\">          0</td><td style=\"text-align: right;\">       189</td></tr>\\n<tr><td>loosen.0 </td><td style=\"text-align: right;\">      46</td><td style=\"text-align: right;\">       0</td><td style=\"text-align: right;\">        164</td><td style=\"text-align: right;\">         0</td></tr>\\n</tbody>\\n</table>'"
      ]
     },
     "metadata": {},
     "output_type": "display_data"
    },
    {
     "data": {
      "text/markdown": [
       "\n",
       "#### HOLES: Nut"
      ],
      "text/plain": [
       "<IPython.core.display.Markdown object>"
      ]
     },
     "metadata": {},
     "output_type": "display_data"
    },
    {
     "data": {
      "text/html": [
       "<table>\n",
       "<thead>\n",
       "<tr><th>         </th><th style=\"text-align: right;\">  undo.0</th><th style=\"text-align: right;\">  doup.0</th><th style=\"text-align: right;\">  tighten.0</th><th style=\"text-align: right;\">  loosen.0</th></tr>\n",
       "</thead>\n",
       "<tbody>\n",
       "<tr><td>undo.0   </td><td style=\"text-align: right;\">       0</td><td style=\"text-align: right;\">      86</td><td style=\"text-align: right;\">          0</td><td style=\"text-align: right;\">         0</td></tr>\n",
       "<tr><td>doup.0   </td><td style=\"text-align: right;\">      61</td><td style=\"text-align: right;\">       0</td><td style=\"text-align: right;\">         47</td><td style=\"text-align: right;\">         0</td></tr>\n",
       "<tr><td>tighten.0</td><td style=\"text-align: right;\">       0</td><td style=\"text-align: right;\">       0</td><td style=\"text-align: right;\">          0</td><td style=\"text-align: right;\">       189</td></tr>\n",
       "<tr><td>loosen.0 </td><td style=\"text-align: right;\">      46</td><td style=\"text-align: right;\">       0</td><td style=\"text-align: right;\">        164</td><td style=\"text-align: right;\">         0</td></tr>\n",
       "</tbody>\n",
       "</table>"
      ],
      "text/plain": [
       "'<table>\\n<thead>\\n<tr><th>         </th><th style=\"text-align: right;\">  undo.0</th><th style=\"text-align: right;\">  doup.0</th><th style=\"text-align: right;\">  tighten.0</th><th style=\"text-align: right;\">  loosen.0</th></tr>\\n</thead>\\n<tbody>\\n<tr><td>undo.0   </td><td style=\"text-align: right;\">       0</td><td style=\"text-align: right;\">      86</td><td style=\"text-align: right;\">          0</td><td style=\"text-align: right;\">         0</td></tr>\\n<tr><td>doup.0   </td><td style=\"text-align: right;\">      61</td><td style=\"text-align: right;\">       0</td><td style=\"text-align: right;\">         47</td><td style=\"text-align: right;\">         0</td></tr>\\n<tr><td>tighten.0</td><td style=\"text-align: right;\">       0</td><td style=\"text-align: right;\">       0</td><td style=\"text-align: right;\">          0</td><td style=\"text-align: right;\">       189</td></tr>\\n<tr><td>loosen.0 </td><td style=\"text-align: right;\">      46</td><td style=\"text-align: right;\">       0</td><td style=\"text-align: right;\">        164</td><td style=\"text-align: right;\">         0</td></tr>\\n</tbody>\\n</table>'"
      ]
     },
     "metadata": {},
     "output_type": "display_data"
    }
   ],
   "source": [
    "adjacency_matrix_list_with_holes = get_adjacency_matrix_with_holes(adjacency_matrix_list)\n",
    "\n",
    "# Printing FSM matrices with and without holes\n",
    "for index,adjacency_matrix in enumerate(adjacency_matrix_list):\n",
    "    printmd(\"\\n#### \" + class_names[index] )\n",
    "    print_table(adjacency_matrix)\n",
    "\n",
    "    printmd(\"\\n#### HOLES: \" + class_names[index])\n",
    "    print_table(adjacency_matrix_list_with_holes[index])"
   ]
  },
  {
   "cell_type": "code",
   "execution_count": 48,
   "metadata": {},
   "outputs": [
    {
     "name": "stdout",
     "output_type": "stream",
     "text": [
      "#holes in class Jack:0\n",
      "#holes in class Boot:0\n",
      "#holes in class Wheel:0\n",
      "#holes in class Hub:2\n",
      "#holes in class Wrench:0\n",
      "#holes in class Nut:0\n"
     ]
    }
   ],
   "source": [
    "# Create list of set of holes per class (H)\n",
    "holes_per_class = []\n",
    "\n",
    "for index,df in enumerate(adjacency_matrix_list_with_holes):\n",
    "    holes = set()\n",
    "    for i in range(df.shape[0]):\n",
    "        for j in range(df.shape[1]):\n",
    "            if df.iloc[i,j] == 'hole':\n",
    "                holes.add(frozenset({df.index[i] , df.columns[j]}))\n",
    "    holes_per_class.append(holes)\n",
    "for i, hole in enumerate(holes_per_class):\n",
    "    print(\"#holes in class \" + class_names[i]+\":\" + str(len(hole)))\n",
    "#     for h in hole:\n",
    "#         print(list(h))"
   ]
  },
  {
   "cell_type": "markdown",
   "metadata": {},
   "source": [
    "#### T_all - Set of observed transitions for a class."
   ]
  },
  {
   "cell_type": "code",
   "execution_count": 49,
   "metadata": {},
   "outputs": [],
   "source": [
    "# List of transitions per class (T_all). It is just a set of transitions that occur for a class.\n",
    "transitions_per_class = []\n",
    "for index, df in enumerate(adjacency_matrix_list_with_holes):\n",
    "    transitions_per_class.append(df.columns.values)\n",
    "# for i, transition in enumerate(transitions_per_class):\n",
    "#     print('{}:{}'.format(class_names[i], transition))"
   ]
  },
  {
   "cell_type": "markdown",
   "metadata": {},
   "source": [
    "#### P - set of pairs <t1,t2> (consecutive transitions)"
   ]
  },
  {
   "cell_type": "code",
   "execution_count": 50,
   "metadata": {},
   "outputs": [],
   "source": [
    "def get_consecutive_transitions_per_class(adjacency_matrix_list_with_holes):\n",
    "    consecutive_transitions_per_class = []\n",
    "    for index, df in enumerate(adjacency_matrix_list_with_holes):\n",
    "        consecutive_transitions = set()  # for a class\n",
    "        for i in range(df.shape[0]):\n",
    "            for j in range(df.shape[1]):\n",
    "                if df.iloc[i, j] != 'hole':\n",
    "                    if df.iloc[i, j] > 0:\n",
    "#                         print(\"(\" + df.index[i] + \",\" + df.columns[j] + \")\")\n",
    "                        consecutive_transitions.add((df.index[i], df.columns[j]))\n",
    "        consecutive_transitions_per_class.append(consecutive_transitions)\n",
    "    return consecutive_transitions_per_class"
   ]
  },
  {
   "cell_type": "code",
   "execution_count": 51,
   "metadata": {},
   "outputs": [],
   "source": [
    "#  Create list of consecutive transitions per class (P). If value is not null, ordered pair i,j would be consecutive transitions per class\n",
    "consecutive_transitions_per_class = get_consecutive_transitions_per_class(adjacency_matrix_list_with_holes)\n",
    "# printmd(\"###  Consecutive transitions per class\")\n",
    "# for i, transition in enumerate(consecutive_transitions_per_class):\n",
    "#     printmd(\"#### \"+class_names[i]+\":\")\n",
    "#     for x in list(transition):\n",
    "#         print(x)\n",
    "# #     print('{}:{}'.format(class_names[i], transition))\n",
    "#     print()"
   ]
  },
  {
   "cell_type": "markdown",
   "metadata": {},
   "source": [
    "### Check Well Formed"
   ]
  },
  {
   "cell_type": "code",
   "execution_count": 52,
   "metadata": {},
   "outputs": [],
   "source": [
    "def check_well_formed(subset_df):\n",
    "    # got the adjacency matrix subset\n",
    "    df = subset_df.copy()\n",
    "    well_formed_flag = True\n",
    "    \n",
    "    \n",
    "    if (df == 0).all(axis=None): # all elements are zero\n",
    "        well_formed_flag = False\n",
    "        \n",
    "    # for particular adjacency matrix's copy, loop over all pairs of rows\n",
    "    for i in range(0, df.shape[0]-1):\n",
    "        for j in range(i + 1, df.shape[0]):\n",
    "            print(i,j)\n",
    "            idx1, idx2 = i, j\n",
    "            row1, row2 = df.iloc[idx1, :], df.iloc[idx2, :]  # we have now all pairs of rows\n",
    "\n",
    "            common_values_flag = False  # for each two rows we have a common_values_flag\n",
    "\n",
    "            # if there is a common value between two rows, turn common value flag to true\n",
    "            for col in range(row1.shape[0]):\n",
    "                if row1.iloc[col] > 0 and row2.iloc[col] > 0:\n",
    "                    common_values_flag = True\n",
    "                    break\n",
    "          \n",
    "            if common_values_flag:\n",
    "                for col in range(row1.shape[0]): # check for holes if common value\n",
    "                    if row1.iloc[col] > 0 and row2.iloc[col] == 0:\n",
    "                        well_formed_flag = False\n",
    "                    elif row1.iloc[col] == 0 and row2.iloc[col] > 0:\n",
    "                        well_formed_flag = False\n",
    "    \n",
    "    if not well_formed_flag:\n",
    "        return False\n",
    "    elif well_formed_flag:\n",
    "        return True\n",
    "     \n",
    "                    \n",
    "    "
   ]
  },
  {
   "cell_type": "markdown",
   "metadata": {},
   "source": [
    "### Check Valid Transitions"
   ]
  },
  {
   "cell_type": "code",
   "execution_count": 53,
   "metadata": {},
   "outputs": [],
   "source": [
    "def check_valid(subset_df,consecutive_transitions_per_class):\n",
    "    \n",
    "    # Note: Essentially we check validity against P instead of E. \n",
    "    # In the paper of LOCM2, it isn't mentioned how to check against E.\n",
    "    \n",
    "    # Reasoning: If we check against all consecutive transitions per class, \n",
    "    # we essentially check against all example sequences.\n",
    "    # check the candidate set which is well-formed (subset df against all consecutive transitions)\n",
    "\n",
    "    # got the adjacency matrix subset\n",
    "    df = subset_df.copy()\n",
    "\n",
    "    # for particular adjacency matrix's copy, loop over all pairs of rows\n",
    "    for i in range(df.shape[0]):\n",
    "        for j in range(df.shape[0]):\n",
    "            if df.iloc[i,j] > 0:\n",
    "                valid_val_flag = False\n",
    "                ordered_pair = (df.index[i], df.columns[j])\n",
    "                for ct_list in consecutive_transitions_per_class:\n",
    "                    for ct in ct_list:\n",
    "                        if ordered_pair == ct:\n",
    "                            valid_val_flag=True\n",
    "                # if after all iteration ordered pair is not found, mark the subset as invalid.\n",
    "                if not valid_val_flag:\n",
    "                    return False\n",
    "                \n",
    "    # return True if all ordered pairs found.\n",
    "    return True"
   ]
  },
  {
   "cell_type": "markdown",
   "metadata": {},
   "source": [
    "### LOCM2 transition sets"
   ]
  },
  {
   "cell_type": "code",
   "execution_count": 54,
   "metadata": {
    "scrolled": false
   },
   "outputs": [
    {
     "data": {
      "text/markdown": [
       "### Getting transitions sets for each class using LOCM2"
      ],
      "text/plain": [
       "<IPython.core.display.Markdown object>"
      ]
     },
     "metadata": {},
     "output_type": "display_data"
    },
    {
     "data": {
      "text/markdown": [
       "### Jack"
      ],
      "text/plain": [
       "<IPython.core.display.Markdown object>"
      ]
     },
     "metadata": {},
     "output_type": "display_data"
    },
    {
     "name": "stdout",
     "output_type": "stream",
     "text": [
      "no holes\n",
      "[]\n",
      "\n",
      "Removed redundancy transition set list\n",
      "[]\n"
     ]
    },
    {
     "data": {
      "text/markdown": [
       "#### Final transition set list"
      ],
      "text/plain": [
       "<IPython.core.display.Markdown object>"
      ]
     },
     "metadata": {},
     "output_type": "display_data"
    },
    {
     "name": "stdout",
     "output_type": "stream",
     "text": [
      "[{'putonwheel.2', 'jackdown.1', 'putawayjack.0', 'fetchjack.0', 'removewheel.2', 'doup.3', 'undo.3', 'jackup.1'}]\n"
     ]
    },
    {
     "data": {
      "text/markdown": [
       "### Boot"
      ],
      "text/plain": [
       "<IPython.core.display.Markdown object>"
      ]
     },
     "metadata": {},
     "output_type": "display_data"
    },
    {
     "name": "stdout",
     "output_type": "stream",
     "text": [
      "no holes\n",
      "[]\n",
      "\n",
      "Removed redundancy transition set list\n",
      "[]\n"
     ]
    },
    {
     "data": {
      "text/markdown": [
       "#### Final transition set list"
      ],
      "text/plain": [
       "<IPython.core.display.Markdown object>"
      ]
     },
     "metadata": {},
     "output_type": "display_data"
    },
    {
     "name": "stdout",
     "output_type": "stream",
     "text": [
      "[{'fetchwheel.1', 'putawayjack.1', 'opencontainer.0', 'putawaywrench.1', 'closecontainer.0', 'putawaywheel.1', 'fetchwrench.1', 'fetchjack.1'}]\n"
     ]
    },
    {
     "data": {
      "text/markdown": [
       "### Wheel"
      ],
      "text/plain": [
       "<IPython.core.display.Markdown object>"
      ]
     },
     "metadata": {},
     "output_type": "display_data"
    },
    {
     "name": "stdout",
     "output_type": "stream",
     "text": [
      "no holes\n",
      "[]\n",
      "\n",
      "Removed redundancy transition set list\n",
      "[]\n"
     ]
    },
    {
     "data": {
      "text/markdown": [
       "#### Final transition set list"
      ],
      "text/plain": [
       "<IPython.core.display.Markdown object>"
      ]
     },
     "metadata": {},
     "output_type": "display_data"
    },
    {
     "name": "stdout",
     "output_type": "stream",
     "text": [
      "[{'fetchwheel.0', 'putonwheel.0', 'removewheel.0', 'putawaywheel.0'}]\n"
     ]
    },
    {
     "data": {
      "text/markdown": [
       "### Hub"
      ],
      "text/plain": [
       "<IPython.core.display.Markdown object>"
      ]
     },
     "metadata": {},
     "output_type": "display_data"
    },
    {
     "name": "stdout",
     "output_type": "stream",
     "text": [
      "2 holes\n"
     ]
    },
    {
     "data": {
      "text/markdown": [
       "#### Hole 1: {'tighten.1'}"
      ],
      "text/plain": [
       "<IPython.core.display.Markdown object>"
      ]
     },
     "metadata": {},
     "output_type": "display_data"
    },
    {
     "data": {
      "text/markdown": [
       "Checking candidate set *{'tighten.1', 'undo.1'}* of class **Hub** for well formedness and Validity"
      ],
      "text/plain": [
       "<IPython.core.display.Markdown object>"
      ]
     },
     "metadata": {},
     "output_type": "display_data"
    },
    {
     "data": {
      "text/html": [
       "<table>\n",
       "<thead>\n",
       "<tr><th>         </th><th style=\"text-align: right;\">  tighten.1</th><th style=\"text-align: right;\">  undo.1</th></tr>\n",
       "</thead>\n",
       "<tbody>\n",
       "<tr><td>tighten.1</td><td style=\"text-align: right;\">          0</td><td style=\"text-align: right;\">       0</td></tr>\n",
       "<tr><td>undo.1   </td><td style=\"text-align: right;\">          0</td><td style=\"text-align: right;\">       0</td></tr>\n",
       "</tbody>\n",
       "</table>"
      ],
      "text/plain": [
       "'<table>\\n<thead>\\n<tr><th>         </th><th style=\"text-align: right;\">  tighten.1</th><th style=\"text-align: right;\">  undo.1</th></tr>\\n</thead>\\n<tbody>\\n<tr><td>tighten.1</td><td style=\"text-align: right;\">          0</td><td style=\"text-align: right;\">       0</td></tr>\\n<tr><td>undo.1   </td><td style=\"text-align: right;\">          0</td><td style=\"text-align: right;\">       0</td></tr>\\n</tbody>\\n</table>'"
      ]
     },
     "metadata": {},
     "output_type": "display_data"
    },
    {
     "name": "stdout",
     "output_type": "stream",
     "text": [
      "0 1\n",
      "This subset is NOT well-formed\n"
     ]
    },
    {
     "data": {
      "text/markdown": [
       "Checking candidate set *{'tighten.1', 'jackup.0'}* of class **Hub** for well formedness and Validity"
      ],
      "text/plain": [
       "<IPython.core.display.Markdown object>"
      ]
     },
     "metadata": {},
     "output_type": "display_data"
    },
    {
     "data": {
      "text/html": [
       "<table>\n",
       "<thead>\n",
       "<tr><th>         </th><th style=\"text-align: right;\">  tighten.1</th><th style=\"text-align: right;\">  jackup.0</th></tr>\n",
       "</thead>\n",
       "<tbody>\n",
       "<tr><td>tighten.1</td><td style=\"text-align: right;\">          0</td><td style=\"text-align: right;\">        84</td></tr>\n",
       "<tr><td>jackup.0 </td><td style=\"text-align: right;\">          0</td><td style=\"text-align: right;\">         0</td></tr>\n",
       "</tbody>\n",
       "</table>"
      ],
      "text/plain": [
       "'<table>\\n<thead>\\n<tr><th>         </th><th style=\"text-align: right;\">  tighten.1</th><th style=\"text-align: right;\">  jackup.0</th></tr>\\n</thead>\\n<tbody>\\n<tr><td>tighten.1</td><td style=\"text-align: right;\">          0</td><td style=\"text-align: right;\">        84</td></tr>\\n<tr><td>jackup.0 </td><td style=\"text-align: right;\">          0</td><td style=\"text-align: right;\">         0</td></tr>\\n</tbody>\\n</table>'"
      ]
     },
     "metadata": {},
     "output_type": "display_data"
    },
    {
     "name": "stdout",
     "output_type": "stream",
     "text": [
      "0 1\n",
      "This subset is well-formed.\n",
      "This subset is valid.\n",
      "Adding this subset {'tighten.1', 'jackup.0'} to the locm2 transition set.\n",
      "Hole that is covered now:\n",
      "['tighten.1']\n"
     ]
    },
    {
     "data": {
      "text/markdown": [
       "#### Hole 2: {'loosen.1'}"
      ],
      "text/plain": [
       "<IPython.core.display.Markdown object>"
      ]
     },
     "metadata": {},
     "output_type": "display_data"
    },
    {
     "data": {
      "text/markdown": [
       "Checking candidate set *{'loosen.1', 'removewheel.1'}* of class **Hub** for well formedness and Validity"
      ],
      "text/plain": [
       "<IPython.core.display.Markdown object>"
      ]
     },
     "metadata": {},
     "output_type": "display_data"
    },
    {
     "data": {
      "text/html": [
       "<table>\n",
       "<thead>\n",
       "<tr><th>             </th><th style=\"text-align: right;\">  loosen.1</th><th style=\"text-align: right;\">  removewheel.1</th></tr>\n",
       "</thead>\n",
       "<tbody>\n",
       "<tr><td>loosen.1     </td><td style=\"text-align: right;\">         0</td><td style=\"text-align: right;\">              0</td></tr>\n",
       "<tr><td>removewheel.1</td><td style=\"text-align: right;\">         0</td><td style=\"text-align: right;\">              0</td></tr>\n",
       "</tbody>\n",
       "</table>"
      ],
      "text/plain": [
       "'<table>\\n<thead>\\n<tr><th>             </th><th style=\"text-align: right;\">  loosen.1</th><th style=\"text-align: right;\">  removewheel.1</th></tr>\\n</thead>\\n<tbody>\\n<tr><td>loosen.1     </td><td style=\"text-align: right;\">         0</td><td style=\"text-align: right;\">              0</td></tr>\\n<tr><td>removewheel.1</td><td style=\"text-align: right;\">         0</td><td style=\"text-align: right;\">              0</td></tr>\\n</tbody>\\n</table>'"
      ]
     },
     "metadata": {},
     "output_type": "display_data"
    },
    {
     "name": "stdout",
     "output_type": "stream",
     "text": [
      "0 1\n",
      "This subset is NOT well-formed\n"
     ]
    },
    {
     "data": {
      "text/markdown": [
       "Checking candidate set *{'loosen.1', 'putonwheel.1'}* of class **Hub** for well formedness and Validity"
      ],
      "text/plain": [
       "<IPython.core.display.Markdown object>"
      ]
     },
     "metadata": {},
     "output_type": "display_data"
    },
    {
     "data": {
      "text/html": [
       "<table>\n",
       "<thead>\n",
       "<tr><th>            </th><th style=\"text-align: right;\">  loosen.1</th><th style=\"text-align: right;\">  putonwheel.1</th></tr>\n",
       "</thead>\n",
       "<tbody>\n",
       "<tr><td>loosen.1    </td><td style=\"text-align: right;\">         0</td><td style=\"text-align: right;\">             0</td></tr>\n",
       "<tr><td>putonwheel.1</td><td style=\"text-align: right;\">         0</td><td style=\"text-align: right;\">             0</td></tr>\n",
       "</tbody>\n",
       "</table>"
      ],
      "text/plain": [
       "'<table>\\n<thead>\\n<tr><th>            </th><th style=\"text-align: right;\">  loosen.1</th><th style=\"text-align: right;\">  putonwheel.1</th></tr>\\n</thead>\\n<tbody>\\n<tr><td>loosen.1    </td><td style=\"text-align: right;\">         0</td><td style=\"text-align: right;\">             0</td></tr>\\n<tr><td>putonwheel.1</td><td style=\"text-align: right;\">         0</td><td style=\"text-align: right;\">             0</td></tr>\\n</tbody>\\n</table>'"
      ]
     },
     "metadata": {},
     "output_type": "display_data"
    },
    {
     "name": "stdout",
     "output_type": "stream",
     "text": [
      "0 1\n",
      "This subset is NOT well-formed\n"
     ]
    },
    {
     "data": {
      "text/markdown": [
       "Checking candidate set *{'loosen.1', 'doup.1'}* of class **Hub** for well formedness and Validity"
      ],
      "text/plain": [
       "<IPython.core.display.Markdown object>"
      ]
     },
     "metadata": {},
     "output_type": "display_data"
    },
    {
     "data": {
      "text/html": [
       "<table>\n",
       "<thead>\n",
       "<tr><th>        </th><th style=\"text-align: right;\">  loosen.1</th><th style=\"text-align: right;\">  doup.1</th></tr>\n",
       "</thead>\n",
       "<tbody>\n",
       "<tr><td>loosen.1</td><td style=\"text-align: right;\">         0</td><td style=\"text-align: right;\">       0</td></tr>\n",
       "<tr><td>doup.1  </td><td style=\"text-align: right;\">         0</td><td style=\"text-align: right;\">       0</td></tr>\n",
       "</tbody>\n",
       "</table>"
      ],
      "text/plain": [
       "'<table>\\n<thead>\\n<tr><th>        </th><th style=\"text-align: right;\">  loosen.1</th><th style=\"text-align: right;\">  doup.1</th></tr>\\n</thead>\\n<tbody>\\n<tr><td>loosen.1</td><td style=\"text-align: right;\">         0</td><td style=\"text-align: right;\">       0</td></tr>\\n<tr><td>doup.1  </td><td style=\"text-align: right;\">         0</td><td style=\"text-align: right;\">       0</td></tr>\\n</tbody>\\n</table>'"
      ]
     },
     "metadata": {},
     "output_type": "display_data"
    },
    {
     "name": "stdout",
     "output_type": "stream",
     "text": [
      "0 1\n",
      "This subset is NOT well-formed\n"
     ]
    },
    {
     "data": {
      "text/markdown": [
       "Checking candidate set *{'loosen.1', 'tighten.1'}* of class **Hub** for well formedness and Validity"
      ],
      "text/plain": [
       "<IPython.core.display.Markdown object>"
      ]
     },
     "metadata": {},
     "output_type": "display_data"
    },
    {
     "data": {
      "text/html": [
       "<table>\n",
       "<thead>\n",
       "<tr><th>         </th><th style=\"text-align: right;\">  loosen.1</th><th style=\"text-align: right;\">  tighten.1</th></tr>\n",
       "</thead>\n",
       "<tbody>\n",
       "<tr><td>loosen.1 </td><td style=\"text-align: right;\">         0</td><td style=\"text-align: right;\">        141</td></tr>\n",
       "<tr><td>tighten.1</td><td style=\"text-align: right;\">       142</td><td style=\"text-align: right;\">          0</td></tr>\n",
       "</tbody>\n",
       "</table>"
      ],
      "text/plain": [
       "'<table>\\n<thead>\\n<tr><th>         </th><th style=\"text-align: right;\">  loosen.1</th><th style=\"text-align: right;\">  tighten.1</th></tr>\\n</thead>\\n<tbody>\\n<tr><td>loosen.1 </td><td style=\"text-align: right;\">         0</td><td style=\"text-align: right;\">        141</td></tr>\\n<tr><td>tighten.1</td><td style=\"text-align: right;\">       142</td><td style=\"text-align: right;\">          0</td></tr>\\n</tbody>\\n</table>'"
      ]
     },
     "metadata": {},
     "output_type": "display_data"
    },
    {
     "name": "stdout",
     "output_type": "stream",
     "text": [
      "0 1\n",
      "This subset is well-formed.\n",
      "This subset is valid.\n",
      "Adding this subset {'loosen.1', 'tighten.1'} to the locm2 transition set.\n",
      "Hole that is covered now:\n",
      "['loosen.1']\n",
      "[{'tighten.1', 'jackup.0'}, {'loosen.1', 'tighten.1'}]\n",
      "\n",
      "Removed redundancy transition set list\n",
      "[{'tighten.1', 'jackup.0'}, {'loosen.1', 'tighten.1'}]\n"
     ]
    },
    {
     "data": {
      "text/markdown": [
       "#### Final transition set list"
      ],
      "text/plain": [
       "<IPython.core.display.Markdown object>"
      ]
     },
     "metadata": {},
     "output_type": "display_data"
    },
    {
     "name": "stdout",
     "output_type": "stream",
     "text": [
      "[{'tighten.1', 'jackup.0'}, {'loosen.1', 'tighten.1'}, {'removewheel.1', 'doup.1', 'jackup.0', 'loosen.1', 'putonwheel.1', 'tighten.1', 'jackdown.0', 'undo.1'}]\n"
     ]
    },
    {
     "data": {
      "text/markdown": [
       "### Wrench"
      ],
      "text/plain": [
       "<IPython.core.display.Markdown object>"
      ]
     },
     "metadata": {},
     "output_type": "display_data"
    },
    {
     "name": "stdout",
     "output_type": "stream",
     "text": [
      "no holes\n",
      "[]\n",
      "\n",
      "Removed redundancy transition set list\n",
      "[]\n"
     ]
    },
    {
     "data": {
      "text/markdown": [
       "#### Final transition set list"
      ],
      "text/plain": [
       "<IPython.core.display.Markdown object>"
      ]
     },
     "metadata": {},
     "output_type": "display_data"
    },
    {
     "name": "stdout",
     "output_type": "stream",
     "text": [
      "[{'doup.2', 'tighten.2', 'loosen.2', 'fetchwrench.0', 'undo.2', 'putawaywrench.0'}]\n"
     ]
    },
    {
     "data": {
      "text/markdown": [
       "### Nut"
      ],
      "text/plain": [
       "<IPython.core.display.Markdown object>"
      ]
     },
     "metadata": {},
     "output_type": "display_data"
    },
    {
     "name": "stdout",
     "output_type": "stream",
     "text": [
      "no holes\n",
      "[]\n",
      "\n",
      "Removed redundancy transition set list\n",
      "[]\n"
     ]
    },
    {
     "data": {
      "text/markdown": [
       "#### Final transition set list"
      ],
      "text/plain": [
       "<IPython.core.display.Markdown object>"
      ]
     },
     "metadata": {},
     "output_type": "display_data"
    },
    {
     "name": "stdout",
     "output_type": "stream",
     "text": [
      "[{'tighten.0', 'loosen.0', 'undo.0', 'doup.0'}]\n"
     ]
    }
   ],
   "source": [
    "def locm2_get_transition_sets_per_class(holes_per_class, transitions_per_class, consecutive_transitions_per_class):\n",
    "    \"\"\"LOCM 2 Algorithm in the original LOCM2 paper\"\"\"\n",
    "    \n",
    "    # contains Solution Set S for each class.\n",
    "    transition_sets_per_class = []\n",
    "\n",
    "    # for each hole for a class/sort\n",
    "    for index, holes in enumerate(holes_per_class):\n",
    "        class_name = class_names[index]\n",
    "        printmd(\"### \"+  class_name)\n",
    "        \n",
    "        # S\n",
    "        transition_set_list = [] #transition_sets_of_a_class, # intially it's empty\n",
    "        \n",
    "        if len(holes)==0:\n",
    "            print(\"no holes\") # S will contain just T_all\n",
    "        \n",
    "        if len(holes) > 0: # if there are any holes for a class\n",
    "            print(str(len(holes)) + \" holes\")\n",
    "            for ind, hole in enumerate(holes):\n",
    "                printmd(\"#### Hole \" + str(ind + 1) + \": \" + str(set(hole)))\n",
    "                is_hole_already_covered_flag = False\n",
    "                if len(transition_set_list)>0:\n",
    "                    for s_prime in transition_set_list:\n",
    "                        if hole.issubset(s_prime):\n",
    "                            printmd(\"Hole \"+ str(set(hole)) + \" is already covered.\")\n",
    "                            is_hole_already_covered_flag = True\n",
    "                            break\n",
    "                     \n",
    "                # discover a set which includes hole and is well-formed and valid against test data.\n",
    "                # if hole is not covered, do BFS with sets of increasing sizes starting with s=hole\n",
    "                if not is_hole_already_covered_flag: \n",
    "                    h = hole.copy()\n",
    "                    candidate_sets = []\n",
    "                    # all subsets of T_all starting from hole's len +1 to T_all-1.\n",
    "                    for i in range(len(h)+1,len(transitions_per_class[index])): \n",
    "                        subsets = findsubsets(transitions_per_class[index],i) # all subsets of length i\n",
    "\n",
    "                        for s in subsets:\n",
    "                            if h.issubset(s): # if  is subset of s\n",
    "                                candidate_sets.append(set(s))\n",
    "                        \n",
    "                        s_well_formed_and_valid = False\n",
    "                        for s in candidate_sets:\n",
    "                            if len(s)>=i:\n",
    "                                printmd(\"Checking candidate set *\" + str(s) + \"* of class **\" + class_name + \"** for well formedness and Validity\")\n",
    "                                subset_df = adjacency_matrix_list[index].loc[list(s),list(s)]\n",
    "                                print_table(subset_df)\n",
    "\n",
    "                                # checking for well-formedness\n",
    "                                well_formed_flag = False\n",
    "                                well_formed_flag = check_well_formed(subset_df)\n",
    "                                if not well_formed_flag:\n",
    "                                    print(\"This subset is NOT well-formed\")\n",
    "                                    \n",
    "                                elif well_formed_flag:\n",
    "                                    print(\"This subset is well-formed.\")\n",
    "                                    # if well-formed validate across the data E\n",
    "                                    # to remove inappropriate dead-ends\n",
    "                                    valid_against_data_flag = False\n",
    "                                    valid_against_data_flag = check_valid(subset_df, consecutive_transitions_per_class)\n",
    "                                    if not valid_against_data_flag:\n",
    "                                        print(\"This subset is well-formed but invalid against example data\")\n",
    "\n",
    "                                    if valid_against_data_flag:\n",
    "                                        print(\"This subset is valid.\")\n",
    "                                        print(\"Adding this subset \" + str(s) +\" to the locm2 transition set.\")\n",
    "                                        if s not in transition_set_list: # do not allow copies.\n",
    "                                            transition_set_list.append(s)\n",
    "                                        \n",
    "                                        print(\"Hole that is covered now:\")\n",
    "                                        print(list(h))\n",
    "                                        s_well_formed_and_valid = True\n",
    "                                        break \n",
    "                        if s_well_formed_and_valid:\n",
    "                                break\n",
    "                                        \n",
    "                                        \n",
    "\n",
    "        print(transition_set_list)                                    \n",
    "        #step 7 : remove redundant sets S - {s1}\n",
    "        ts_copy = transition_set_list.copy()\n",
    "        for i in range(len(ts_copy)):\n",
    "            for j in range(len(ts_copy)):\n",
    "                if ts_copy[i] < ts_copy[j]: #if subset\n",
    "                    if ts_copy[i] in transition_set_list:\n",
    "                        transition_set_list.remove(ts_copy[i])\n",
    "                elif ts_copy[i] > ts_copy[j]:\n",
    "                    if ts_copy[j] in transition_set_list:\n",
    "                        transition_set_list.remove(ts_copy[j])\n",
    "        print(\"\\nRemoved redundancy transition set list\")\n",
    "        print(transition_set_list)\n",
    "\n",
    "        #step-8: include all-transitions machine, even if it is not well-formed.\n",
    "        transition_set_list.append(set(transitions_per_class[index])) #fallback\n",
    "        printmd(\"#### Final transition set list\")\n",
    "        print(transition_set_list)\n",
    "        transition_sets_per_class.append(transition_set_list)\n",
    "        \n",
    "\n",
    "    return transition_sets_per_class\n",
    "\n",
    "\n",
    "############    LOCM2 #################\n",
    "####    Input ready for LOCM2, Starting LOCM2 algorithm now\n",
    "####    Step 8:  selecting transition sets (TS) [Main LOCM2 Algorithm]\n",
    "printmd(\"### Getting transitions sets for each class using LOCM2\")\n",
    "transition_sets_per_class = locm2_get_transition_sets_per_class(holes_per_class, transitions_per_class, consecutive_transitions_per_class)"
   ]
  },
  {
   "cell_type": "markdown",
   "metadata": {},
   "source": [
    "## Step 3: Algorithm For Induction of State Machines\n",
    "\n",
    "- Input: Action training sequence of length N\n",
    "- Output: Transition Set TS, Object states OS.\n",
    "\n",
    "We already have transition set TS per class."
   ]
  },
  {
   "cell_type": "code",
   "execution_count": 55,
   "metadata": {
    "lines_to_next_cell": 2
   },
   "outputs": [],
   "source": [
    "def plot_cytographs_fsm(graph, domain_name):\n",
    "    cytoscapeobj = CytoscapeWidget()\n",
    "    cytoscapeobj.graph.add_graph_from_networkx(graph)\n",
    "    edge_list = list()\n",
    "    for source, target, data in graph.edges(data=True):\n",
    "        edge_instance = Edge()\n",
    "        edge_instance.data['source'] = source\n",
    "        edge_instance.data['target'] = target\n",
    "        for k, v in data.items():\n",
    "            cyto_attrs = ['group', 'removed', 'selected', 'selectable',\n",
    "                'locked', 'grabbed', 'grabbable', 'classes', 'position', 'data']\n",
    "            if k in cyto_attrs:\n",
    "                setattr(edge_instance, k, v)\n",
    "            else:\n",
    "                edge_instance.data[k] = v\n",
    "            edge_list.append(edge_instance)\n",
    "\n",
    "    cytoscapeobj.graph.edges = edge_list\n",
    "#     print(\"Nodes:{}\".format(graph.nodes()))\n",
    "#     print(\"Edges:{}\".format(graph.edges()))\n",
    "    cytoscapeobj.set_style([{\n",
    "                    'width':400,\n",
    "                    'height':500,\n",
    "\n",
    "                    'selector': 'node',\n",
    "                    'style': {\n",
    "                        'label': 'data(id)',\n",
    "                        'font-family': 'helvetica',\n",
    "                        'font-size': '8px',\n",
    "                        'background-color': '#11479e',\n",
    "                        'height':'10px',\n",
    "                        'width':'10px',\n",
    "\n",
    "\n",
    "                        }\n",
    "\n",
    "                    },\n",
    "                    {\n",
    "                    'selector': 'node:parent',\n",
    "                    'css': {\n",
    "                        'background-opacity': 0.333,\n",
    "                        'background-color': '#bbb'\n",
    "                        }\n",
    "                    },\n",
    "                    {\n",
    "                    'selector': '$node > node',\n",
    "                    'css': {\n",
    "                        'padding-top': '10px',\n",
    "                        'padding-left': '10px',\n",
    "                        'padding-bottom': '10px',\n",
    "                        'padding-right': '10px',\n",
    "                        'text-valign': 'top',\n",
    "                        'text-halign': 'center',\n",
    "                        'background-color': '#bbb'\n",
    "                      }\n",
    "                    },\n",
    "                   {\n",
    "                        'selector': 'edge',\n",
    "\n",
    "                        'style': {\n",
    "                            'label':'data(weight)',\n",
    "                            'width': 1,\n",
    "                            'line-color': '#9dbaea',\n",
    "                            'target-arrow-shape': 'triangle',\n",
    "                            'target-arrow-color': '#9dbaea',\n",
    "                            'arrow-scale': 0.5,\n",
    "                            'curve-style': 'bezier',\n",
    "                            'font-family': 'helvetica',\n",
    "                            'font-size': '8px',\n",
    "                            'text-valign': 'top',\n",
    "                            'text-halign':'center'\n",
    "                        }\n",
    "                    },\n",
    "                    ])\n",
    "    cytoscapeobj.max_zoom = 2.0\n",
    "    cytoscapeobj.min_zoom = 0.5\n",
    "    display(cytoscapeobj)"
   ]
  },
  {
   "cell_type": "markdown",
   "metadata": {},
   "source": [
    "#### First make start(t) and end(t) as state for each transition in FSM."
   ]
  },
  {
   "cell_type": "code",
   "execution_count": 72,
   "metadata": {
    "lines_to_next_cell": 2,
    "scrolled": false
   },
   "outputs": [
    {
     "data": {
      "text/markdown": [
       "### Jack"
      ],
      "text/plain": [
       "<IPython.core.display.Markdown object>"
      ]
     },
     "metadata": {},
     "output_type": "display_data"
    },
    {
     "name": "stdout",
     "output_type": "stream",
     "text": [
      "Number of FSMS:1\n"
     ]
    },
    {
     "data": {
      "text/markdown": [
       "#### FSM 0"
      ],
      "text/plain": [
       "<IPython.core.display.Markdown object>"
      ]
     },
     "metadata": {},
     "output_type": "display_data"
    },
    {
     "data": {
      "text/html": [
       "<table>\n",
       "<thead>\n",
       "<tr><th>             </th><th style=\"text-align: right;\">  putonwheel.2</th><th style=\"text-align: right;\">  jackdown.1</th><th style=\"text-align: right;\">  putawayjack.0</th><th style=\"text-align: right;\">  fetchjack.0</th><th style=\"text-align: right;\">  removewheel.2</th><th style=\"text-align: right;\">  doup.3</th><th style=\"text-align: right;\">  undo.3</th><th style=\"text-align: right;\">  jackup.1</th></tr>\n",
       "</thead>\n",
       "<tbody>\n",
       "<tr><td>putonwheel.2 </td><td style=\"text-align: right;\">             0</td><td style=\"text-align: right;\">           0</td><td style=\"text-align: right;\">              0</td><td style=\"text-align: right;\">            0</td><td style=\"text-align: right;\">             83</td><td style=\"text-align: right;\">      85</td><td style=\"text-align: right;\">       0</td><td style=\"text-align: right;\">         0</td></tr>\n",
       "<tr><td>jackdown.1   </td><td style=\"text-align: right;\">             0</td><td style=\"text-align: right;\">           0</td><td style=\"text-align: right;\">            151</td><td style=\"text-align: right;\">            0</td><td style=\"text-align: right;\">              0</td><td style=\"text-align: right;\">       0</td><td style=\"text-align: right;\">       0</td><td style=\"text-align: right;\">       187</td></tr>\n",
       "<tr><td>putawayjack.0</td><td style=\"text-align: right;\">             0</td><td style=\"text-align: right;\">           0</td><td style=\"text-align: right;\">              0</td><td style=\"text-align: right;\">          191</td><td style=\"text-align: right;\">              0</td><td style=\"text-align: right;\">       0</td><td style=\"text-align: right;\">       0</td><td style=\"text-align: right;\">         0</td></tr>\n",
       "<tr><td>fetchjack.0  </td><td style=\"text-align: right;\">             0</td><td style=\"text-align: right;\">           0</td><td style=\"text-align: right;\">             82</td><td style=\"text-align: right;\">            0</td><td style=\"text-align: right;\">              0</td><td style=\"text-align: right;\">       0</td><td style=\"text-align: right;\">       0</td><td style=\"text-align: right;\">       160</td></tr>\n",
       "<tr><td>removewheel.2</td><td style=\"text-align: right;\">           149</td><td style=\"text-align: right;\">           0</td><td style=\"text-align: right;\">              0</td><td style=\"text-align: right;\">            0</td><td style=\"text-align: right;\">              0</td><td style=\"text-align: right;\">       0</td><td style=\"text-align: right;\">       0</td><td style=\"text-align: right;\">         0</td></tr>\n",
       "<tr><td>doup.3       </td><td style=\"text-align: right;\">             0</td><td style=\"text-align: right;\">          85</td><td style=\"text-align: right;\">              0</td><td style=\"text-align: right;\">            0</td><td style=\"text-align: right;\">              0</td><td style=\"text-align: right;\">       0</td><td style=\"text-align: right;\">      46</td><td style=\"text-align: right;\">         0</td></tr>\n",
       "<tr><td>undo.3       </td><td style=\"text-align: right;\">             0</td><td style=\"text-align: right;\">           0</td><td style=\"text-align: right;\">              0</td><td style=\"text-align: right;\">            0</td><td style=\"text-align: right;\">             69</td><td style=\"text-align: right;\">      50</td><td style=\"text-align: right;\">       0</td><td style=\"text-align: right;\">         0</td></tr>\n",
       "<tr><td>jackup.1     </td><td style=\"text-align: right;\">             0</td><td style=\"text-align: right;\">         255</td><td style=\"text-align: right;\">              0</td><td style=\"text-align: right;\">            0</td><td style=\"text-align: right;\">              0</td><td style=\"text-align: right;\">       0</td><td style=\"text-align: right;\">      77</td><td style=\"text-align: right;\">         0</td></tr>\n",
       "</tbody>\n",
       "</table>"
      ],
      "text/plain": [
       "'<table>\\n<thead>\\n<tr><th>             </th><th style=\"text-align: right;\">  putonwheel.2</th><th style=\"text-align: right;\">  jackdown.1</th><th style=\"text-align: right;\">  putawayjack.0</th><th style=\"text-align: right;\">  fetchjack.0</th><th style=\"text-align: right;\">  removewheel.2</th><th style=\"text-align: right;\">  doup.3</th><th style=\"text-align: right;\">  undo.3</th><th style=\"text-align: right;\">  jackup.1</th></tr>\\n</thead>\\n<tbody>\\n<tr><td>putonwheel.2 </td><td style=\"text-align: right;\">             0</td><td style=\"text-align: right;\">           0</td><td style=\"text-align: right;\">              0</td><td style=\"text-align: right;\">            0</td><td style=\"text-align: right;\">             83</td><td style=\"text-align: right;\">      85</td><td style=\"text-align: right;\">       0</td><td style=\"text-align: right;\">         0</td></tr>\\n<tr><td>jackdown.1   </td><td style=\"text-align: right;\">             0</td><td style=\"text-align: right;\">           0</td><td style=\"text-align: right;\">            151</td><td style=\"text-align: right;\">            0</td><td style=\"text-align: right;\">              0</td><td style=\"text-align: right;\">       0</td><td style=\"text-align: right;\">       0</td><td style=\"text-align: right;\">       187</td></tr>\\n<tr><td>putawayjack.0</td><td style=\"text-align: right;\">             0</td><td style=\"text-align: right;\">           0</td><td style=\"text-align: right;\">              0</td><td style=\"text-align: right;\">          191</td><td style=\"text-align: right;\">              0</td><td style=\"text-align: right;\">       0</td><td style=\"text-align: right;\">       0</td><td style=\"text-align: right;\">         0</td></tr>\\n<tr><td>fetchjack.0  </td><td style=\"text-align: right;\">             0</td><td style=\"text-align: right;\">           0</td><td style=\"text-align: right;\">             82</td><td style=\"text-align: right;\">            0</td><td style=\"text-align: right;\">              0</td><td style=\"text-align: right;\">       0</td><td style=\"text-align: right;\">       0</td><td style=\"text-align: right;\">       160</td></tr>\\n<tr><td>removewheel.2</td><td style=\"text-align: right;\">           149</td><td style=\"text-align: right;\">           0</td><td style=\"text-align: right;\">              0</td><td style=\"text-align: right;\">            0</td><td style=\"text-align: right;\">              0</td><td style=\"text-align: right;\">       0</td><td style=\"text-align: right;\">       0</td><td style=\"text-align: right;\">         0</td></tr>\\n<tr><td>doup.3       </td><td style=\"text-align: right;\">             0</td><td style=\"text-align: right;\">          85</td><td style=\"text-align: right;\">              0</td><td style=\"text-align: right;\">            0</td><td style=\"text-align: right;\">              0</td><td style=\"text-align: right;\">       0</td><td style=\"text-align: right;\">      46</td><td style=\"text-align: right;\">         0</td></tr>\\n<tr><td>undo.3       </td><td style=\"text-align: right;\">             0</td><td style=\"text-align: right;\">           0</td><td style=\"text-align: right;\">              0</td><td style=\"text-align: right;\">            0</td><td style=\"text-align: right;\">             69</td><td style=\"text-align: right;\">      50</td><td style=\"text-align: right;\">       0</td><td style=\"text-align: right;\">         0</td></tr>\\n<tr><td>jackup.1     </td><td style=\"text-align: right;\">             0</td><td style=\"text-align: right;\">         255</td><td style=\"text-align: right;\">              0</td><td style=\"text-align: right;\">            0</td><td style=\"text-align: right;\">              0</td><td style=\"text-align: right;\">       0</td><td style=\"text-align: right;\">      77</td><td style=\"text-align: right;\">         0</td></tr>\\n</tbody>\\n</table>'"
      ]
     },
     "metadata": {},
     "output_type": "display_data"
    },
    {
     "data": {
      "application/vnd.jupyter.widget-view+json": {
       "model_id": "e06634f1129a4dc0ae0aaee12ba7b34e",
       "version_major": 2,
       "version_minor": 0
      },
      "text/plain": [
       "CytoscapeWidget(cytoscape_layout={'name': 'cola'}, cytoscape_style=[{'width': 400, 'height': 500, 'selector': …"
      ]
     },
     "metadata": {},
     "output_type": "display_data"
    },
    {
     "data": {
      "text/html": [
       "<table>\n",
       "<thead>\n",
       "<tr><th>                                                         </th><th style=\"text-align: right;\">  e(putawayjack.0)|s(fetchjack.0)</th><th style=\"text-align: right;\">  e(removewheel.2)|s(putonwheel.2)</th><th style=\"text-align: right;\">  e(fetchjack.0)|e(jackdown.1)|s(putawayjack.0)|s(jackup.1)</th><th style=\"text-align: right;\">  e(undo.3)|e(putonwheel.2)|s(removewheel.2)|s(doup.3)</th><th style=\"text-align: right;\">  e(jackup.1)|e(doup.3)|s(jackdown.1)|s(undo.3)</th></tr>\n",
       "</thead>\n",
       "<tbody>\n",
       "<tr><td>e(putawayjack.0)|s(fetchjack.0)                          </td><td style=\"text-align: right;\">                                0</td><td style=\"text-align: right;\">                                 0</td><td style=\"text-align: right;\">                                                          1</td><td style=\"text-align: right;\">                                                     0</td><td style=\"text-align: right;\">                                              0</td></tr>\n",
       "<tr><td>e(removewheel.2)|s(putonwheel.2)                         </td><td style=\"text-align: right;\">                                0</td><td style=\"text-align: right;\">                                 0</td><td style=\"text-align: right;\">                                                          0</td><td style=\"text-align: right;\">                                                     1</td><td style=\"text-align: right;\">                                              0</td></tr>\n",
       "<tr><td>e(fetchjack.0)|e(jackdown.1)|s(putawayjack.0)|s(jackup.1)</td><td style=\"text-align: right;\">                                1</td><td style=\"text-align: right;\">                                 0</td><td style=\"text-align: right;\">                                                          0</td><td style=\"text-align: right;\">                                                     0</td><td style=\"text-align: right;\">                                              1</td></tr>\n",
       "<tr><td>e(undo.3)|e(putonwheel.2)|s(removewheel.2)|s(doup.3)     </td><td style=\"text-align: right;\">                                0</td><td style=\"text-align: right;\">                                 1</td><td style=\"text-align: right;\">                                                          0</td><td style=\"text-align: right;\">                                                     0</td><td style=\"text-align: right;\">                                              1</td></tr>\n",
       "<tr><td>e(jackup.1)|e(doup.3)|s(jackdown.1)|s(undo.3)            </td><td style=\"text-align: right;\">                                0</td><td style=\"text-align: right;\">                                 0</td><td style=\"text-align: right;\">                                                          1</td><td style=\"text-align: right;\">                                                     1</td><td style=\"text-align: right;\">                                              0</td></tr>\n",
       "</tbody>\n",
       "</table>"
      ],
      "text/plain": [
       "'<table>\\n<thead>\\n<tr><th>                                                         </th><th style=\"text-align: right;\">  e(putawayjack.0)|s(fetchjack.0)</th><th style=\"text-align: right;\">  e(removewheel.2)|s(putonwheel.2)</th><th style=\"text-align: right;\">  e(fetchjack.0)|e(jackdown.1)|s(putawayjack.0)|s(jackup.1)</th><th style=\"text-align: right;\">  e(undo.3)|e(putonwheel.2)|s(removewheel.2)|s(doup.3)</th><th style=\"text-align: right;\">  e(jackup.1)|e(doup.3)|s(jackdown.1)|s(undo.3)</th></tr>\\n</thead>\\n<tbody>\\n<tr><td>e(putawayjack.0)|s(fetchjack.0)                          </td><td style=\"text-align: right;\">                                0</td><td style=\"text-align: right;\">                                 0</td><td style=\"text-align: right;\">                                                          1</td><td style=\"text-align: right;\">                                                     0</td><td style=\"text-align: right;\">                                              0</td></tr>\\n<tr><td>e(removewheel.2)|s(putonwheel.2)                         </td><td style=\"text-align: right;\">                                0</td><td style=\"text-align: right;\">                                 0</td><td style=\"text-align: right;\">                                                          0</td><td style=\"text-align: right;\">                                                     1</td><td style=\"text-align: right;\">                                              0</td></tr>\\n<tr><td>e(fetchjack.0)|e(jackdown.1)|s(putawayjack.0)|s(jackup.1)</td><td style=\"text-align: right;\">                                1</td><td style=\"text-align: right;\">                                 0</td><td style=\"text-align: right;\">                                                          0</td><td style=\"text-align: right;\">                                                     0</td><td style=\"text-align: right;\">                                              1</td></tr>\\n<tr><td>e(undo.3)|e(putonwheel.2)|s(removewheel.2)|s(doup.3)     </td><td style=\"text-align: right;\">                                0</td><td style=\"text-align: right;\">                                 1</td><td style=\"text-align: right;\">                                                          0</td><td style=\"text-align: right;\">                                                     0</td><td style=\"text-align: right;\">                                              1</td></tr>\\n<tr><td>e(jackup.1)|e(doup.3)|s(jackdown.1)|s(undo.3)            </td><td style=\"text-align: right;\">                                0</td><td style=\"text-align: right;\">                                 0</td><td style=\"text-align: right;\">                                                          1</td><td style=\"text-align: right;\">                                                     1</td><td style=\"text-align: right;\">                                              0</td></tr>\\n</tbody>\\n</table>'"
      ]
     },
     "metadata": {},
     "output_type": "display_data"
    },
    {
     "data": {
      "text/markdown": [
       "### Boot"
      ],
      "text/plain": [
       "<IPython.core.display.Markdown object>"
      ]
     },
     "metadata": {},
     "output_type": "display_data"
    },
    {
     "name": "stdout",
     "output_type": "stream",
     "text": [
      "Number of FSMS:1\n"
     ]
    },
    {
     "data": {
      "text/markdown": [
       "#### FSM 0"
      ],
      "text/plain": [
       "<IPython.core.display.Markdown object>"
      ]
     },
     "metadata": {},
     "output_type": "display_data"
    },
    {
     "data": {
      "text/html": [
       "<table>\n",
       "<thead>\n",
       "<tr><th>                </th><th style=\"text-align: right;\">  fetchwheel.1</th><th style=\"text-align: right;\">  putawayjack.1</th><th style=\"text-align: right;\">  opencontainer.0</th><th style=\"text-align: right;\">  putawaywrench.1</th><th style=\"text-align: right;\">  closecontainer.0</th><th style=\"text-align: right;\">  putawaywheel.1</th><th style=\"text-align: right;\">  fetchwrench.1</th><th style=\"text-align: right;\">  fetchjack.1</th></tr>\n",
       "</thead>\n",
       "<tbody>\n",
       "<tr><td>fetchwheel.1    </td><td style=\"text-align: right;\">            11</td><td style=\"text-align: right;\">             33</td><td style=\"text-align: right;\">                0</td><td style=\"text-align: right;\">               61</td><td style=\"text-align: right;\">               127</td><td style=\"text-align: right;\">              67</td><td style=\"text-align: right;\">             62</td><td style=\"text-align: right;\">           24</td></tr>\n",
       "<tr><td>putawayjack.1   </td><td style=\"text-align: right;\">            28</td><td style=\"text-align: right;\">              7</td><td style=\"text-align: right;\">                0</td><td style=\"text-align: right;\">               29</td><td style=\"text-align: right;\">                72</td><td style=\"text-align: right;\">              27</td><td style=\"text-align: right;\">             41</td><td style=\"text-align: right;\">           40</td></tr>\n",
       "<tr><td>opencontainer.0 </td><td style=\"text-align: right;\">           122</td><td style=\"text-align: right;\">             64</td><td style=\"text-align: right;\">                0</td><td style=\"text-align: right;\">              147</td><td style=\"text-align: right;\">               124</td><td style=\"text-align: right;\">             139</td><td style=\"text-align: right;\">            145</td><td style=\"text-align: right;\">           79</td></tr>\n",
       "<tr><td>putawaywrench.1 </td><td style=\"text-align: right;\">            68</td><td style=\"text-align: right;\">             45</td><td style=\"text-align: right;\">                0</td><td style=\"text-align: right;\">               46</td><td style=\"text-align: right;\">               137</td><td style=\"text-align: right;\">              56</td><td style=\"text-align: right;\">            109</td><td style=\"text-align: right;\">           38</td></tr>\n",
       "<tr><td>closecontainer.0</td><td style=\"text-align: right;\">             0</td><td style=\"text-align: right;\">              0</td><td style=\"text-align: right;\">              764</td><td style=\"text-align: right;\">                0</td><td style=\"text-align: right;\">                 0</td><td style=\"text-align: right;\">               0</td><td style=\"text-align: right;\">              0</td><td style=\"text-align: right;\">            0</td></tr>\n",
       "<tr><td>putawaywheel.1  </td><td style=\"text-align: right;\">            63</td><td style=\"text-align: right;\">             23</td><td style=\"text-align: right;\">                0</td><td style=\"text-align: right;\">               75</td><td style=\"text-align: right;\">               117</td><td style=\"text-align: right;\">              15</td><td style=\"text-align: right;\">             60</td><td style=\"text-align: right;\">           31</td></tr>\n",
       "<tr><td>fetchwrench.1   </td><td style=\"text-align: right;\">            69</td><td style=\"text-align: right;\">             49</td><td style=\"text-align: right;\">                0</td><td style=\"text-align: right;\">              100</td><td style=\"text-align: right;\">               158</td><td style=\"text-align: right;\">              55</td><td style=\"text-align: right;\">             51</td><td style=\"text-align: right;\">           30</td></tr>\n",
       "<tr><td>fetchjack.1     </td><td style=\"text-align: right;\">            27</td><td style=\"text-align: right;\">             21</td><td style=\"text-align: right;\">                0</td><td style=\"text-align: right;\">               47</td><td style=\"text-align: right;\">                75</td><td style=\"text-align: right;\">              23</td><td style=\"text-align: right;\">             49</td><td style=\"text-align: right;\">            6</td></tr>\n",
       "</tbody>\n",
       "</table>"
      ],
      "text/plain": [
       "'<table>\\n<thead>\\n<tr><th>                </th><th style=\"text-align: right;\">  fetchwheel.1</th><th style=\"text-align: right;\">  putawayjack.1</th><th style=\"text-align: right;\">  opencontainer.0</th><th style=\"text-align: right;\">  putawaywrench.1</th><th style=\"text-align: right;\">  closecontainer.0</th><th style=\"text-align: right;\">  putawaywheel.1</th><th style=\"text-align: right;\">  fetchwrench.1</th><th style=\"text-align: right;\">  fetchjack.1</th></tr>\\n</thead>\\n<tbody>\\n<tr><td>fetchwheel.1    </td><td style=\"text-align: right;\">            11</td><td style=\"text-align: right;\">             33</td><td style=\"text-align: right;\">                0</td><td style=\"text-align: right;\">               61</td><td style=\"text-align: right;\">               127</td><td style=\"text-align: right;\">              67</td><td style=\"text-align: right;\">             62</td><td style=\"text-align: right;\">           24</td></tr>\\n<tr><td>putawayjack.1   </td><td style=\"text-align: right;\">            28</td><td style=\"text-align: right;\">              7</td><td style=\"text-align: right;\">                0</td><td style=\"text-align: right;\">               29</td><td style=\"text-align: right;\">                72</td><td style=\"text-align: right;\">              27</td><td style=\"text-align: right;\">             41</td><td style=\"text-align: right;\">           40</td></tr>\\n<tr><td>opencontainer.0 </td><td style=\"text-align: right;\">           122</td><td style=\"text-align: right;\">             64</td><td style=\"text-align: right;\">                0</td><td style=\"text-align: right;\">              147</td><td style=\"text-align: right;\">               124</td><td style=\"text-align: right;\">             139</td><td style=\"text-align: right;\">            145</td><td style=\"text-align: right;\">           79</td></tr>\\n<tr><td>putawaywrench.1 </td><td style=\"text-align: right;\">            68</td><td style=\"text-align: right;\">             45</td><td style=\"text-align: right;\">                0</td><td style=\"text-align: right;\">               46</td><td style=\"text-align: right;\">               137</td><td style=\"text-align: right;\">              56</td><td style=\"text-align: right;\">            109</td><td style=\"text-align: right;\">           38</td></tr>\\n<tr><td>closecontainer.0</td><td style=\"text-align: right;\">             0</td><td style=\"text-align: right;\">              0</td><td style=\"text-align: right;\">              764</td><td style=\"text-align: right;\">                0</td><td style=\"text-align: right;\">                 0</td><td style=\"text-align: right;\">               0</td><td style=\"text-align: right;\">              0</td><td style=\"text-align: right;\">            0</td></tr>\\n<tr><td>putawaywheel.1  </td><td style=\"text-align: right;\">            63</td><td style=\"text-align: right;\">             23</td><td style=\"text-align: right;\">                0</td><td style=\"text-align: right;\">               75</td><td style=\"text-align: right;\">               117</td><td style=\"text-align: right;\">              15</td><td style=\"text-align: right;\">             60</td><td style=\"text-align: right;\">           31</td></tr>\\n<tr><td>fetchwrench.1   </td><td style=\"text-align: right;\">            69</td><td style=\"text-align: right;\">             49</td><td style=\"text-align: right;\">                0</td><td style=\"text-align: right;\">              100</td><td style=\"text-align: right;\">               158</td><td style=\"text-align: right;\">              55</td><td style=\"text-align: right;\">             51</td><td style=\"text-align: right;\">           30</td></tr>\\n<tr><td>fetchjack.1     </td><td style=\"text-align: right;\">            27</td><td style=\"text-align: right;\">             21</td><td style=\"text-align: right;\">                0</td><td style=\"text-align: right;\">               47</td><td style=\"text-align: right;\">                75</td><td style=\"text-align: right;\">              23</td><td style=\"text-align: right;\">             49</td><td style=\"text-align: right;\">            6</td></tr>\\n</tbody>\\n</table>'"
      ]
     },
     "metadata": {},
     "output_type": "display_data"
    },
    {
     "data": {
      "application/vnd.jupyter.widget-view+json": {
       "model_id": "bf6635a0643345fea2540534e143ba83",
       "version_major": 2,
       "version_minor": 0
      },
      "text/plain": [
       "CytoscapeWidget(cytoscape_layout={'name': 'cola'}, cytoscape_style=[{'width': 400, 'height': 500, 'selector': …"
      ]
     },
     "metadata": {},
     "output_type": "display_data"
    },
    {
     "data": {
      "text/html": [
       "<table>\n",
       "<thead>\n",
       "<tr><th>                                                                                                                                                                                                                                                  </th><th style=\"text-align: right;\">  e(closecontainer.0)|s(opencontainer.0)</th><th style=\"text-align: right;\">  e(fetchjack.1)|e(fetchwrench.1)|e(putawaywheel.1)|e(putawaywrench.1)|e(opencontainer.0)|e(putawayjack.1)|e(fetchwheel.1)|s(fetchwheel.1)|s(putawayjack.1)|s(putawaywrench.1)|s(closecontainer.0)|s(putawaywheel.1)|s(fetchwrench.1)|s(fetchjack.1)</th></tr>\n",
       "</thead>\n",
       "<tbody>\n",
       "<tr><td>e(closecontainer.0)|s(opencontainer.0)                                                                                                                                                                                                            </td><td style=\"text-align: right;\">                                       0</td><td style=\"text-align: right;\">                                                                                                                                                                                                                                                   1</td></tr>\n",
       "<tr><td>e(fetchjack.1)|e(fetchwrench.1)|e(putawaywheel.1)|e(putawaywrench.1)|e(opencontainer.0)|e(putawayjack.1)|e(fetchwheel.1)|s(fetchwheel.1)|s(putawayjack.1)|s(putawaywrench.1)|s(closecontainer.0)|s(putawaywheel.1)|s(fetchwrench.1)|s(fetchjack.1)</td><td style=\"text-align: right;\">                                       1</td><td style=\"text-align: right;\">                                                                                                                                                                                                                                                   1</td></tr>\n",
       "</tbody>\n",
       "</table>"
      ],
      "text/plain": [
       "'<table>\\n<thead>\\n<tr><th>                                                                                                                                                                                                                                                  </th><th style=\"text-align: right;\">  e(closecontainer.0)|s(opencontainer.0)</th><th style=\"text-align: right;\">  e(fetchjack.1)|e(fetchwrench.1)|e(putawaywheel.1)|e(putawaywrench.1)|e(opencontainer.0)|e(putawayjack.1)|e(fetchwheel.1)|s(fetchwheel.1)|s(putawayjack.1)|s(putawaywrench.1)|s(closecontainer.0)|s(putawaywheel.1)|s(fetchwrench.1)|s(fetchjack.1)</th></tr>\\n</thead>\\n<tbody>\\n<tr><td>e(closecontainer.0)|s(opencontainer.0)                                                                                                                                                                                                            </td><td style=\"text-align: right;\">                                       0</td><td style=\"text-align: right;\">                                                                                                                                                                                                                                                   1</td></tr>\\n<tr><td>e(fetchjack.1)|e(fetchwrench.1)|e(putawaywheel.1)|e(putawaywrench.1)|e(opencontainer.0)|e(putawayjack.1)|e(fetchwheel.1)|s(fetchwheel.1)|s(putawayjack.1)|s(putawaywrench.1)|s(closecontainer.0)|s(putawaywheel.1)|s(fetchwrench.1)|s(fetchjack.1)</td><td style=\"text-align: right;\">                                       1</td><td style=\"text-align: right;\">                                                                                                                                                                                                                                                   1</td></tr>\\n</tbody>\\n</table>'"
      ]
     },
     "metadata": {},
     "output_type": "display_data"
    },
    {
     "data": {
      "text/markdown": [
       "### Wheel"
      ],
      "text/plain": [
       "<IPython.core.display.Markdown object>"
      ]
     },
     "metadata": {},
     "output_type": "display_data"
    },
    {
     "name": "stdout",
     "output_type": "stream",
     "text": [
      "Number of FSMS:1\n"
     ]
    },
    {
     "data": {
      "text/markdown": [
       "#### FSM 0"
      ],
      "text/plain": [
       "<IPython.core.display.Markdown object>"
      ]
     },
     "metadata": {},
     "output_type": "display_data"
    },
    {
     "data": {
      "text/html": [
       "<table>\n",
       "<thead>\n",
       "<tr><th>              </th><th style=\"text-align: right;\">  fetchwheel.0</th><th style=\"text-align: right;\">  putonwheel.0</th><th style=\"text-align: right;\">  removewheel.0</th><th style=\"text-align: right;\">  putawaywheel.0</th></tr>\n",
       "</thead>\n",
       "<tbody>\n",
       "<tr><td>fetchwheel.0  </td><td style=\"text-align: right;\">             0</td><td style=\"text-align: right;\">           113</td><td style=\"text-align: right;\">              0</td><td style=\"text-align: right;\">             262</td></tr>\n",
       "<tr><td>putonwheel.0  </td><td style=\"text-align: right;\">             0</td><td style=\"text-align: right;\">             0</td><td style=\"text-align: right;\">            104</td><td style=\"text-align: right;\">               0</td></tr>\n",
       "<tr><td>removewheel.0 </td><td style=\"text-align: right;\">             0</td><td style=\"text-align: right;\">            51</td><td style=\"text-align: right;\">              0</td><td style=\"text-align: right;\">             105</td></tr>\n",
       "<tr><td>putawaywheel.0</td><td style=\"text-align: right;\">           311</td><td style=\"text-align: right;\">             0</td><td style=\"text-align: right;\">              0</td><td style=\"text-align: right;\">               0</td></tr>\n",
       "</tbody>\n",
       "</table>"
      ],
      "text/plain": [
       "'<table>\\n<thead>\\n<tr><th>              </th><th style=\"text-align: right;\">  fetchwheel.0</th><th style=\"text-align: right;\">  putonwheel.0</th><th style=\"text-align: right;\">  removewheel.0</th><th style=\"text-align: right;\">  putawaywheel.0</th></tr>\\n</thead>\\n<tbody>\\n<tr><td>fetchwheel.0  </td><td style=\"text-align: right;\">             0</td><td style=\"text-align: right;\">           113</td><td style=\"text-align: right;\">              0</td><td style=\"text-align: right;\">             262</td></tr>\\n<tr><td>putonwheel.0  </td><td style=\"text-align: right;\">             0</td><td style=\"text-align: right;\">             0</td><td style=\"text-align: right;\">            104</td><td style=\"text-align: right;\">               0</td></tr>\\n<tr><td>removewheel.0 </td><td style=\"text-align: right;\">             0</td><td style=\"text-align: right;\">            51</td><td style=\"text-align: right;\">              0</td><td style=\"text-align: right;\">             105</td></tr>\\n<tr><td>putawaywheel.0</td><td style=\"text-align: right;\">           311</td><td style=\"text-align: right;\">             0</td><td style=\"text-align: right;\">              0</td><td style=\"text-align: right;\">               0</td></tr>\\n</tbody>\\n</table>'"
      ]
     },
     "metadata": {},
     "output_type": "display_data"
    },
    {
     "data": {
      "application/vnd.jupyter.widget-view+json": {
       "model_id": "3377aeedb3ea4547b511f5198ff41a89",
       "version_major": 2,
       "version_minor": 0
      },
      "text/plain": [
       "CytoscapeWidget(cytoscape_layout={'name': 'cola'}, cytoscape_style=[{'width': 400, 'height': 500, 'selector': …"
      ]
     },
     "metadata": {},
     "output_type": "display_data"
    },
    {
     "data": {
      "text/html": [
       "<table>\n",
       "<thead>\n",
       "<tr><th>                                                                  </th><th style=\"text-align: right;\">  e(putonwheel.0)|s(removewheel.0)</th><th style=\"text-align: right;\">  e(putawaywheel.0)|s(fetchwheel.0)</th><th style=\"text-align: right;\">  e(removewheel.0)|e(fetchwheel.0)|s(putonwheel.0)|s(putawaywheel.0)</th></tr>\n",
       "</thead>\n",
       "<tbody>\n",
       "<tr><td>e(putonwheel.0)|s(removewheel.0)                                  </td><td style=\"text-align: right;\">                                 0</td><td style=\"text-align: right;\">                                  0</td><td style=\"text-align: right;\">                                                                   1</td></tr>\n",
       "<tr><td>e(putawaywheel.0)|s(fetchwheel.0)                                 </td><td style=\"text-align: right;\">                                 0</td><td style=\"text-align: right;\">                                  0</td><td style=\"text-align: right;\">                                                                   1</td></tr>\n",
       "<tr><td>e(removewheel.0)|e(fetchwheel.0)|s(putonwheel.0)|s(putawaywheel.0)</td><td style=\"text-align: right;\">                                 1</td><td style=\"text-align: right;\">                                  1</td><td style=\"text-align: right;\">                                                                   0</td></tr>\n",
       "</tbody>\n",
       "</table>"
      ],
      "text/plain": [
       "'<table>\\n<thead>\\n<tr><th>                                                                  </th><th style=\"text-align: right;\">  e(putonwheel.0)|s(removewheel.0)</th><th style=\"text-align: right;\">  e(putawaywheel.0)|s(fetchwheel.0)</th><th style=\"text-align: right;\">  e(removewheel.0)|e(fetchwheel.0)|s(putonwheel.0)|s(putawaywheel.0)</th></tr>\\n</thead>\\n<tbody>\\n<tr><td>e(putonwheel.0)|s(removewheel.0)                                  </td><td style=\"text-align: right;\">                                 0</td><td style=\"text-align: right;\">                                  0</td><td style=\"text-align: right;\">                                                                   1</td></tr>\\n<tr><td>e(putawaywheel.0)|s(fetchwheel.0)                                 </td><td style=\"text-align: right;\">                                 0</td><td style=\"text-align: right;\">                                  0</td><td style=\"text-align: right;\">                                                                   1</td></tr>\\n<tr><td>e(removewheel.0)|e(fetchwheel.0)|s(putonwheel.0)|s(putawaywheel.0)</td><td style=\"text-align: right;\">                                 1</td><td style=\"text-align: right;\">                                  1</td><td style=\"text-align: right;\">                                                                   0</td></tr>\\n</tbody>\\n</table>'"
      ]
     },
     "metadata": {},
     "output_type": "display_data"
    },
    {
     "data": {
      "text/markdown": [
       "### Hub"
      ],
      "text/plain": [
       "<IPython.core.display.Markdown object>"
      ]
     },
     "metadata": {},
     "output_type": "display_data"
    },
    {
     "name": "stdout",
     "output_type": "stream",
     "text": [
      "Number of FSMS:3\n"
     ]
    },
    {
     "data": {
      "text/markdown": [
       "#### FSM 0"
      ],
      "text/plain": [
       "<IPython.core.display.Markdown object>"
      ]
     },
     "metadata": {},
     "output_type": "display_data"
    },
    {
     "data": {
      "text/html": [
       "<table>\n",
       "<thead>\n",
       "<tr><th>         </th><th style=\"text-align: right;\">  tighten.1</th><th style=\"text-align: right;\">  jackup.0</th></tr>\n",
       "</thead>\n",
       "<tbody>\n",
       "<tr><td>tighten.1</td><td style=\"text-align: right;\">          0</td><td style=\"text-align: right;\">        84</td></tr>\n",
       "<tr><td>jackup.0 </td><td style=\"text-align: right;\">          0</td><td style=\"text-align: right;\">         0</td></tr>\n",
       "</tbody>\n",
       "</table>"
      ],
      "text/plain": [
       "'<table>\\n<thead>\\n<tr><th>         </th><th style=\"text-align: right;\">  tighten.1</th><th style=\"text-align: right;\">  jackup.0</th></tr>\\n</thead>\\n<tbody>\\n<tr><td>tighten.1</td><td style=\"text-align: right;\">          0</td><td style=\"text-align: right;\">        84</td></tr>\\n<tr><td>jackup.0 </td><td style=\"text-align: right;\">          0</td><td style=\"text-align: right;\">         0</td></tr>\\n</tbody>\\n</table>'"
      ]
     },
     "metadata": {},
     "output_type": "display_data"
    },
    {
     "data": {
      "application/vnd.jupyter.widget-view+json": {
       "model_id": "065ebfa591574bcf84830046b29d2466",
       "version_major": 2,
       "version_minor": 0
      },
      "text/plain": [
       "CytoscapeWidget(cytoscape_layout={'name': 'cola'}, cytoscape_style=[{'width': 400, 'height': 500, 'selector': …"
      ]
     },
     "metadata": {},
     "output_type": "display_data"
    },
    {
     "data": {
      "text/html": [
       "<table>\n",
       "<thead>\n",
       "<tr><th>                        </th><th style=\"text-align: right;\">  s(tighten.1)</th><th style=\"text-align: right;\">  e(tighten.1)|s(jackup.0)</th><th style=\"text-align: right;\">  e(jackup.0)</th></tr>\n",
       "</thead>\n",
       "<tbody>\n",
       "<tr><td>s(tighten.1)            </td><td style=\"text-align: right;\">             0</td><td style=\"text-align: right;\">                         1</td><td style=\"text-align: right;\">            0</td></tr>\n",
       "<tr><td>e(tighten.1)|s(jackup.0)</td><td style=\"text-align: right;\">             0</td><td style=\"text-align: right;\">                         0</td><td style=\"text-align: right;\">            1</td></tr>\n",
       "<tr><td>e(jackup.0)             </td><td style=\"text-align: right;\">             0</td><td style=\"text-align: right;\">                         0</td><td style=\"text-align: right;\">            0</td></tr>\n",
       "</tbody>\n",
       "</table>"
      ],
      "text/plain": [
       "'<table>\\n<thead>\\n<tr><th>                        </th><th style=\"text-align: right;\">  s(tighten.1)</th><th style=\"text-align: right;\">  e(tighten.1)|s(jackup.0)</th><th style=\"text-align: right;\">  e(jackup.0)</th></tr>\\n</thead>\\n<tbody>\\n<tr><td>s(tighten.1)            </td><td style=\"text-align: right;\">             0</td><td style=\"text-align: right;\">                         1</td><td style=\"text-align: right;\">            0</td></tr>\\n<tr><td>e(tighten.1)|s(jackup.0)</td><td style=\"text-align: right;\">             0</td><td style=\"text-align: right;\">                         0</td><td style=\"text-align: right;\">            1</td></tr>\\n<tr><td>e(jackup.0)             </td><td style=\"text-align: right;\">             0</td><td style=\"text-align: right;\">                         0</td><td style=\"text-align: right;\">            0</td></tr>\\n</tbody>\\n</table>'"
      ]
     },
     "metadata": {},
     "output_type": "display_data"
    },
    {
     "data": {
      "text/markdown": [
       "#### FSM 1"
      ],
      "text/plain": [
       "<IPython.core.display.Markdown object>"
      ]
     },
     "metadata": {},
     "output_type": "display_data"
    },
    {
     "data": {
      "text/html": [
       "<table>\n",
       "<thead>\n",
       "<tr><th>         </th><th style=\"text-align: right;\">  loosen.1</th><th style=\"text-align: right;\">  tighten.1</th></tr>\n",
       "</thead>\n",
       "<tbody>\n",
       "<tr><td>loosen.1 </td><td style=\"text-align: right;\">         0</td><td style=\"text-align: right;\">        141</td></tr>\n",
       "<tr><td>tighten.1</td><td style=\"text-align: right;\">       142</td><td style=\"text-align: right;\">          0</td></tr>\n",
       "</tbody>\n",
       "</table>"
      ],
      "text/plain": [
       "'<table>\\n<thead>\\n<tr><th>         </th><th style=\"text-align: right;\">  loosen.1</th><th style=\"text-align: right;\">  tighten.1</th></tr>\\n</thead>\\n<tbody>\\n<tr><td>loosen.1 </td><td style=\"text-align: right;\">         0</td><td style=\"text-align: right;\">        141</td></tr>\\n<tr><td>tighten.1</td><td style=\"text-align: right;\">       142</td><td style=\"text-align: right;\">          0</td></tr>\\n</tbody>\\n</table>'"
      ]
     },
     "metadata": {},
     "output_type": "display_data"
    },
    {
     "data": {
      "application/vnd.jupyter.widget-view+json": {
       "model_id": "52e31543082f4945868d3f20f4ead4ee",
       "version_major": 2,
       "version_minor": 0
      },
      "text/plain": [
       "CytoscapeWidget(cytoscape_layout={'name': 'cola'}, cytoscape_style=[{'width': 400, 'height': 500, 'selector': …"
      ]
     },
     "metadata": {},
     "output_type": "display_data"
    },
    {
     "data": {
      "text/html": [
       "<table>\n",
       "<thead>\n",
       "<tr><th>                        </th><th style=\"text-align: right;\">  e(loosen.1)|s(tighten.1)</th><th style=\"text-align: right;\">  e(tighten.1)|s(loosen.1)</th></tr>\n",
       "</thead>\n",
       "<tbody>\n",
       "<tr><td>e(loosen.1)|s(tighten.1)</td><td style=\"text-align: right;\">                         0</td><td style=\"text-align: right;\">                         1</td></tr>\n",
       "<tr><td>e(tighten.1)|s(loosen.1)</td><td style=\"text-align: right;\">                         1</td><td style=\"text-align: right;\">                         0</td></tr>\n",
       "</tbody>\n",
       "</table>"
      ],
      "text/plain": [
       "'<table>\\n<thead>\\n<tr><th>                        </th><th style=\"text-align: right;\">  e(loosen.1)|s(tighten.1)</th><th style=\"text-align: right;\">  e(tighten.1)|s(loosen.1)</th></tr>\\n</thead>\\n<tbody>\\n<tr><td>e(loosen.1)|s(tighten.1)</td><td style=\"text-align: right;\">                         0</td><td style=\"text-align: right;\">                         1</td></tr>\\n<tr><td>e(tighten.1)|s(loosen.1)</td><td style=\"text-align: right;\">                         1</td><td style=\"text-align: right;\">                         0</td></tr>\\n</tbody>\\n</table>'"
      ]
     },
     "metadata": {},
     "output_type": "display_data"
    },
    {
     "data": {
      "text/markdown": [
       "#### FSM 2"
      ],
      "text/plain": [
       "<IPython.core.display.Markdown object>"
      ]
     },
     "metadata": {},
     "output_type": "display_data"
    },
    {
     "data": {
      "text/html": [
       "<table>\n",
       "<thead>\n",
       "<tr><th>             </th><th style=\"text-align: right;\">  removewheel.1</th><th style=\"text-align: right;\">  doup.1</th><th style=\"text-align: right;\">  jackup.0</th><th style=\"text-align: right;\">  loosen.1</th><th style=\"text-align: right;\">  putonwheel.1</th><th style=\"text-align: right;\">  tighten.1</th><th style=\"text-align: right;\">  jackdown.0</th><th style=\"text-align: right;\">  undo.1</th></tr>\n",
       "</thead>\n",
       "<tbody>\n",
       "<tr><td>removewheel.1</td><td style=\"text-align: right;\">              0</td><td style=\"text-align: right;\">       0</td><td style=\"text-align: right;\">         0</td><td style=\"text-align: right;\">         0</td><td style=\"text-align: right;\">           149</td><td style=\"text-align: right;\">          0</td><td style=\"text-align: right;\">           0</td><td style=\"text-align: right;\">       0</td></tr>\n",
       "<tr><td>doup.1       </td><td style=\"text-align: right;\">              0</td><td style=\"text-align: right;\">       0</td><td style=\"text-align: right;\">         0</td><td style=\"text-align: right;\">         0</td><td style=\"text-align: right;\">             0</td><td style=\"text-align: right;\">          0</td><td style=\"text-align: right;\">          85</td><td style=\"text-align: right;\">      46</td></tr>\n",
       "<tr><td>jackup.0     </td><td style=\"text-align: right;\">              0</td><td style=\"text-align: right;\">       0</td><td style=\"text-align: right;\">         0</td><td style=\"text-align: right;\">         0</td><td style=\"text-align: right;\">             0</td><td style=\"text-align: right;\">          0</td><td style=\"text-align: right;\">         255</td><td style=\"text-align: right;\">      77</td></tr>\n",
       "<tr><td>loosen.1     </td><td style=\"text-align: right;\">              0</td><td style=\"text-align: right;\">       0</td><td style=\"text-align: right;\">        86</td><td style=\"text-align: right;\">         0</td><td style=\"text-align: right;\">             0</td><td style=\"text-align: right;\">        141</td><td style=\"text-align: right;\">           0</td><td style=\"text-align: right;\">       0</td></tr>\n",
       "<tr><td>putonwheel.1 </td><td style=\"text-align: right;\">             83</td><td style=\"text-align: right;\">      85</td><td style=\"text-align: right;\">         0</td><td style=\"text-align: right;\">         0</td><td style=\"text-align: right;\">             0</td><td style=\"text-align: right;\">          0</td><td style=\"text-align: right;\">           0</td><td style=\"text-align: right;\">       0</td></tr>\n",
       "<tr><td>tighten.1    </td><td style=\"text-align: right;\">              0</td><td style=\"text-align: right;\">       0</td><td style=\"text-align: right;\">        84</td><td style=\"text-align: right;\">       142</td><td style=\"text-align: right;\">             0</td><td style=\"text-align: right;\">          0</td><td style=\"text-align: right;\">           0</td><td style=\"text-align: right;\">       0</td></tr>\n",
       "<tr><td>jackdown.0   </td><td style=\"text-align: right;\">              0</td><td style=\"text-align: right;\">       0</td><td style=\"text-align: right;\">       155</td><td style=\"text-align: right;\">        81</td><td style=\"text-align: right;\">             0</td><td style=\"text-align: right;\">         83</td><td style=\"text-align: right;\">           0</td><td style=\"text-align: right;\">       0</td></tr>\n",
       "<tr><td>undo.1       </td><td style=\"text-align: right;\">             69</td><td style=\"text-align: right;\">      50</td><td style=\"text-align: right;\">         0</td><td style=\"text-align: right;\">         0</td><td style=\"text-align: right;\">             0</td><td style=\"text-align: right;\">          0</td><td style=\"text-align: right;\">           0</td><td style=\"text-align: right;\">       0</td></tr>\n",
       "</tbody>\n",
       "</table>"
      ],
      "text/plain": [
       "'<table>\\n<thead>\\n<tr><th>             </th><th style=\"text-align: right;\">  removewheel.1</th><th style=\"text-align: right;\">  doup.1</th><th style=\"text-align: right;\">  jackup.0</th><th style=\"text-align: right;\">  loosen.1</th><th style=\"text-align: right;\">  putonwheel.1</th><th style=\"text-align: right;\">  tighten.1</th><th style=\"text-align: right;\">  jackdown.0</th><th style=\"text-align: right;\">  undo.1</th></tr>\\n</thead>\\n<tbody>\\n<tr><td>removewheel.1</td><td style=\"text-align: right;\">              0</td><td style=\"text-align: right;\">       0</td><td style=\"text-align: right;\">         0</td><td style=\"text-align: right;\">         0</td><td style=\"text-align: right;\">           149</td><td style=\"text-align: right;\">          0</td><td style=\"text-align: right;\">           0</td><td style=\"text-align: right;\">       0</td></tr>\\n<tr><td>doup.1       </td><td style=\"text-align: right;\">              0</td><td style=\"text-align: right;\">       0</td><td style=\"text-align: right;\">         0</td><td style=\"text-align: right;\">         0</td><td style=\"text-align: right;\">             0</td><td style=\"text-align: right;\">          0</td><td style=\"text-align: right;\">          85</td><td style=\"text-align: right;\">      46</td></tr>\\n<tr><td>jackup.0     </td><td style=\"text-align: right;\">              0</td><td style=\"text-align: right;\">       0</td><td style=\"text-align: right;\">         0</td><td style=\"text-align: right;\">         0</td><td style=\"text-align: right;\">             0</td><td style=\"text-align: right;\">          0</td><td style=\"text-align: right;\">         255</td><td style=\"text-align: right;\">      77</td></tr>\\n<tr><td>loosen.1     </td><td style=\"text-align: right;\">              0</td><td style=\"text-align: right;\">       0</td><td style=\"text-align: right;\">        86</td><td style=\"text-align: right;\">         0</td><td style=\"text-align: right;\">             0</td><td style=\"text-align: right;\">        141</td><td style=\"text-align: right;\">           0</td><td style=\"text-align: right;\">       0</td></tr>\\n<tr><td>putonwheel.1 </td><td style=\"text-align: right;\">             83</td><td style=\"text-align: right;\">      85</td><td style=\"text-align: right;\">         0</td><td style=\"text-align: right;\">         0</td><td style=\"text-align: right;\">             0</td><td style=\"text-align: right;\">          0</td><td style=\"text-align: right;\">           0</td><td style=\"text-align: right;\">       0</td></tr>\\n<tr><td>tighten.1    </td><td style=\"text-align: right;\">              0</td><td style=\"text-align: right;\">       0</td><td style=\"text-align: right;\">        84</td><td style=\"text-align: right;\">       142</td><td style=\"text-align: right;\">             0</td><td style=\"text-align: right;\">          0</td><td style=\"text-align: right;\">           0</td><td style=\"text-align: right;\">       0</td></tr>\\n<tr><td>jackdown.0   </td><td style=\"text-align: right;\">              0</td><td style=\"text-align: right;\">       0</td><td style=\"text-align: right;\">       155</td><td style=\"text-align: right;\">        81</td><td style=\"text-align: right;\">             0</td><td style=\"text-align: right;\">         83</td><td style=\"text-align: right;\">           0</td><td style=\"text-align: right;\">       0</td></tr>\\n<tr><td>undo.1       </td><td style=\"text-align: right;\">             69</td><td style=\"text-align: right;\">      50</td><td style=\"text-align: right;\">         0</td><td style=\"text-align: right;\">         0</td><td style=\"text-align: right;\">             0</td><td style=\"text-align: right;\">          0</td><td style=\"text-align: right;\">           0</td><td style=\"text-align: right;\">       0</td></tr>\\n</tbody>\\n</table>'"
      ]
     },
     "metadata": {},
     "output_type": "display_data"
    },
    {
     "data": {
      "application/vnd.jupyter.widget-view+json": {
       "model_id": "25ce81b5f8c34a96b7fa2181f0040d45",
       "version_major": 2,
       "version_minor": 0
      },
      "text/plain": [
       "CytoscapeWidget(cytoscape_layout={'name': 'cola'}, cytoscape_style=[{'width': 400, 'height': 500, 'selector': …"
      ]
     },
     "metadata": {},
     "output_type": "display_data"
    },
    {
     "data": {
      "text/html": [
       "<table>\n",
       "<thead>\n",
       "<tr><th>                                                                           </th><th style=\"text-align: right;\">  e(removewheel.1)|s(putonwheel.1)</th><th style=\"text-align: right;\">  e(jackup.0)|e(doup.1)|s(jackdown.0)|s(undo.1)</th><th style=\"text-align: right;\">  e(jackdown.0)|e(tighten.1)|e(loosen.1)|s(jackup.0)|s(tighten.1)|s(loosen.1)</th><th style=\"text-align: right;\">  e(undo.1)|e(putonwheel.1)|s(removewheel.1)|s(doup.1)</th></tr>\n",
       "</thead>\n",
       "<tbody>\n",
       "<tr><td>e(removewheel.1)|s(putonwheel.1)                                           </td><td style=\"text-align: right;\">                                 0</td><td style=\"text-align: right;\">                                              0</td><td style=\"text-align: right;\">                                                                            0</td><td style=\"text-align: right;\">                                                     1</td></tr>\n",
       "<tr><td>e(jackup.0)|e(doup.1)|s(jackdown.0)|s(undo.1)                              </td><td style=\"text-align: right;\">                                 0</td><td style=\"text-align: right;\">                                              0</td><td style=\"text-align: right;\">                                                                            1</td><td style=\"text-align: right;\">                                                     1</td></tr>\n",
       "<tr><td>e(jackdown.0)|e(tighten.1)|e(loosen.1)|s(jackup.0)|s(tighten.1)|s(loosen.1)</td><td style=\"text-align: right;\">                                 0</td><td style=\"text-align: right;\">                                              1</td><td style=\"text-align: right;\">                                                                            1</td><td style=\"text-align: right;\">                                                     0</td></tr>\n",
       "<tr><td>e(undo.1)|e(putonwheel.1)|s(removewheel.1)|s(doup.1)                       </td><td style=\"text-align: right;\">                                 1</td><td style=\"text-align: right;\">                                              1</td><td style=\"text-align: right;\">                                                                            0</td><td style=\"text-align: right;\">                                                     0</td></tr>\n",
       "</tbody>\n",
       "</table>"
      ],
      "text/plain": [
       "'<table>\\n<thead>\\n<tr><th>                                                                           </th><th style=\"text-align: right;\">  e(removewheel.1)|s(putonwheel.1)</th><th style=\"text-align: right;\">  e(jackup.0)|e(doup.1)|s(jackdown.0)|s(undo.1)</th><th style=\"text-align: right;\">  e(jackdown.0)|e(tighten.1)|e(loosen.1)|s(jackup.0)|s(tighten.1)|s(loosen.1)</th><th style=\"text-align: right;\">  e(undo.1)|e(putonwheel.1)|s(removewheel.1)|s(doup.1)</th></tr>\\n</thead>\\n<tbody>\\n<tr><td>e(removewheel.1)|s(putonwheel.1)                                           </td><td style=\"text-align: right;\">                                 0</td><td style=\"text-align: right;\">                                              0</td><td style=\"text-align: right;\">                                                                            0</td><td style=\"text-align: right;\">                                                     1</td></tr>\\n<tr><td>e(jackup.0)|e(doup.1)|s(jackdown.0)|s(undo.1)                              </td><td style=\"text-align: right;\">                                 0</td><td style=\"text-align: right;\">                                              0</td><td style=\"text-align: right;\">                                                                            1</td><td style=\"text-align: right;\">                                                     1</td></tr>\\n<tr><td>e(jackdown.0)|e(tighten.1)|e(loosen.1)|s(jackup.0)|s(tighten.1)|s(loosen.1)</td><td style=\"text-align: right;\">                                 0</td><td style=\"text-align: right;\">                                              1</td><td style=\"text-align: right;\">                                                                            1</td><td style=\"text-align: right;\">                                                     0</td></tr>\\n<tr><td>e(undo.1)|e(putonwheel.1)|s(removewheel.1)|s(doup.1)                       </td><td style=\"text-align: right;\">                                 1</td><td style=\"text-align: right;\">                                              1</td><td style=\"text-align: right;\">                                                                            0</td><td style=\"text-align: right;\">                                                     0</td></tr>\\n</tbody>\\n</table>'"
      ]
     },
     "metadata": {},
     "output_type": "display_data"
    },
    {
     "data": {
      "text/markdown": [
       "### Wrench"
      ],
      "text/plain": [
       "<IPython.core.display.Markdown object>"
      ]
     },
     "metadata": {},
     "output_type": "display_data"
    },
    {
     "name": "stdout",
     "output_type": "stream",
     "text": [
      "Number of FSMS:1\n"
     ]
    },
    {
     "data": {
      "text/markdown": [
       "#### FSM 0"
      ],
      "text/plain": [
       "<IPython.core.display.Markdown object>"
      ]
     },
     "metadata": {},
     "output_type": "display_data"
    },
    {
     "data": {
      "text/html": [
       "<table>\n",
       "<thead>\n",
       "<tr><th>               </th><th style=\"text-align: right;\">  doup.2</th><th style=\"text-align: right;\">  tighten.2</th><th style=\"text-align: right;\">  loosen.2</th><th style=\"text-align: right;\">  fetchwrench.0</th><th style=\"text-align: right;\">  undo.2</th><th style=\"text-align: right;\">  putawaywrench.0</th></tr>\n",
       "</thead>\n",
       "<tbody>\n",
       "<tr><td>doup.2         </td><td style=\"text-align: right;\">       5</td><td style=\"text-align: right;\">         25</td><td style=\"text-align: right;\">        17</td><td style=\"text-align: right;\">              0</td><td style=\"text-align: right;\">      25</td><td style=\"text-align: right;\">               61</td></tr>\n",
       "<tr><td>tighten.2      </td><td style=\"text-align: right;\">      15</td><td style=\"text-align: right;\">         17</td><td style=\"text-align: right;\">        81</td><td style=\"text-align: right;\">              0</td><td style=\"text-align: right;\">      19</td><td style=\"text-align: right;\">              106</td></tr>\n",
       "<tr><td>loosen.2       </td><td style=\"text-align: right;\">      13</td><td style=\"text-align: right;\">         80</td><td style=\"text-align: right;\">        22</td><td style=\"text-align: right;\">              0</td><td style=\"text-align: right;\">      31</td><td style=\"text-align: right;\">               93</td></tr>\n",
       "<tr><td>fetchwrench.0  </td><td style=\"text-align: right;\">      65</td><td style=\"text-align: right;\">        102</td><td style=\"text-align: right;\">       105</td><td style=\"text-align: right;\">              0</td><td style=\"text-align: right;\">      50</td><td style=\"text-align: right;\">              183</td></tr>\n",
       "<tr><td>undo.2         </td><td style=\"text-align: right;\">      38</td><td style=\"text-align: right;\">         19</td><td style=\"text-align: right;\">        15</td><td style=\"text-align: right;\">              0</td><td style=\"text-align: right;\">       2</td><td style=\"text-align: right;\">               48</td></tr>\n",
       "<tr><td>putawaywrench.0</td><td style=\"text-align: right;\">       0</td><td style=\"text-align: right;\">          0</td><td style=\"text-align: right;\">         0</td><td style=\"text-align: right;\">            406</td><td style=\"text-align: right;\">       0</td><td style=\"text-align: right;\">                0</td></tr>\n",
       "</tbody>\n",
       "</table>"
      ],
      "text/plain": [
       "'<table>\\n<thead>\\n<tr><th>               </th><th style=\"text-align: right;\">  doup.2</th><th style=\"text-align: right;\">  tighten.2</th><th style=\"text-align: right;\">  loosen.2</th><th style=\"text-align: right;\">  fetchwrench.0</th><th style=\"text-align: right;\">  undo.2</th><th style=\"text-align: right;\">  putawaywrench.0</th></tr>\\n</thead>\\n<tbody>\\n<tr><td>doup.2         </td><td style=\"text-align: right;\">       5</td><td style=\"text-align: right;\">         25</td><td style=\"text-align: right;\">        17</td><td style=\"text-align: right;\">              0</td><td style=\"text-align: right;\">      25</td><td style=\"text-align: right;\">               61</td></tr>\\n<tr><td>tighten.2      </td><td style=\"text-align: right;\">      15</td><td style=\"text-align: right;\">         17</td><td style=\"text-align: right;\">        81</td><td style=\"text-align: right;\">              0</td><td style=\"text-align: right;\">      19</td><td style=\"text-align: right;\">              106</td></tr>\\n<tr><td>loosen.2       </td><td style=\"text-align: right;\">      13</td><td style=\"text-align: right;\">         80</td><td style=\"text-align: right;\">        22</td><td style=\"text-align: right;\">              0</td><td style=\"text-align: right;\">      31</td><td style=\"text-align: right;\">               93</td></tr>\\n<tr><td>fetchwrench.0  </td><td style=\"text-align: right;\">      65</td><td style=\"text-align: right;\">        102</td><td style=\"text-align: right;\">       105</td><td style=\"text-align: right;\">              0</td><td style=\"text-align: right;\">      50</td><td style=\"text-align: right;\">              183</td></tr>\\n<tr><td>undo.2         </td><td style=\"text-align: right;\">      38</td><td style=\"text-align: right;\">         19</td><td style=\"text-align: right;\">        15</td><td style=\"text-align: right;\">              0</td><td style=\"text-align: right;\">       2</td><td style=\"text-align: right;\">               48</td></tr>\\n<tr><td>putawaywrench.0</td><td style=\"text-align: right;\">       0</td><td style=\"text-align: right;\">          0</td><td style=\"text-align: right;\">         0</td><td style=\"text-align: right;\">            406</td><td style=\"text-align: right;\">       0</td><td style=\"text-align: right;\">                0</td></tr>\\n</tbody>\\n</table>'"
      ]
     },
     "metadata": {},
     "output_type": "display_data"
    },
    {
     "data": {
      "application/vnd.jupyter.widget-view+json": {
       "model_id": "794035509183424fb46bbb1134413eb8",
       "version_major": 2,
       "version_minor": 0
      },
      "text/plain": [
       "CytoscapeWidget(cytoscape_layout={'name': 'cola'}, cytoscape_style=[{'width': 400, 'height': 500, 'selector': …"
      ]
     },
     "metadata": {},
     "output_type": "display_data"
    },
    {
     "data": {
      "text/html": [
       "<table>\n",
       "<thead>\n",
       "<tr><th>                                                                                                                             </th><th style=\"text-align: right;\">  e(putawaywrench.0)|s(fetchwrench.0)</th><th style=\"text-align: right;\">  e(undo.2)|e(fetchwrench.0)|e(loosen.2)|e(tighten.2)|e(doup.2)|s(doup.2)|s(tighten.2)|s(loosen.2)|s(undo.2)|s(putawaywrench.0)</th></tr>\n",
       "</thead>\n",
       "<tbody>\n",
       "<tr><td>e(putawaywrench.0)|s(fetchwrench.0)                                                                                          </td><td style=\"text-align: right;\">                                    0</td><td style=\"text-align: right;\">                                                                                                                              1</td></tr>\n",
       "<tr><td>e(undo.2)|e(fetchwrench.0)|e(loosen.2)|e(tighten.2)|e(doup.2)|s(doup.2)|s(tighten.2)|s(loosen.2)|s(undo.2)|s(putawaywrench.0)</td><td style=\"text-align: right;\">                                    1</td><td style=\"text-align: right;\">                                                                                                                              1</td></tr>\n",
       "</tbody>\n",
       "</table>"
      ],
      "text/plain": [
       "'<table>\\n<thead>\\n<tr><th>                                                                                                                             </th><th style=\"text-align: right;\">  e(putawaywrench.0)|s(fetchwrench.0)</th><th style=\"text-align: right;\">  e(undo.2)|e(fetchwrench.0)|e(loosen.2)|e(tighten.2)|e(doup.2)|s(doup.2)|s(tighten.2)|s(loosen.2)|s(undo.2)|s(putawaywrench.0)</th></tr>\\n</thead>\\n<tbody>\\n<tr><td>e(putawaywrench.0)|s(fetchwrench.0)                                                                                          </td><td style=\"text-align: right;\">                                    0</td><td style=\"text-align: right;\">                                                                                                                              1</td></tr>\\n<tr><td>e(undo.2)|e(fetchwrench.0)|e(loosen.2)|e(tighten.2)|e(doup.2)|s(doup.2)|s(tighten.2)|s(loosen.2)|s(undo.2)|s(putawaywrench.0)</td><td style=\"text-align: right;\">                                    1</td><td style=\"text-align: right;\">                                                                                                                              1</td></tr>\\n</tbody>\\n</table>'"
      ]
     },
     "metadata": {},
     "output_type": "display_data"
    },
    {
     "data": {
      "text/markdown": [
       "### Nut"
      ],
      "text/plain": [
       "<IPython.core.display.Markdown object>"
      ]
     },
     "metadata": {},
     "output_type": "display_data"
    },
    {
     "name": "stdout",
     "output_type": "stream",
     "text": [
      "Number of FSMS:1\n"
     ]
    },
    {
     "data": {
      "text/markdown": [
       "#### FSM 0"
      ],
      "text/plain": [
       "<IPython.core.display.Markdown object>"
      ]
     },
     "metadata": {},
     "output_type": "display_data"
    },
    {
     "data": {
      "text/html": [
       "<table>\n",
       "<thead>\n",
       "<tr><th>         </th><th style=\"text-align: right;\">  tighten.0</th><th style=\"text-align: right;\">  loosen.0</th><th style=\"text-align: right;\">  undo.0</th><th style=\"text-align: right;\">  doup.0</th></tr>\n",
       "</thead>\n",
       "<tbody>\n",
       "<tr><td>tighten.0</td><td style=\"text-align: right;\">          0</td><td style=\"text-align: right;\">       189</td><td style=\"text-align: right;\">       0</td><td style=\"text-align: right;\">       0</td></tr>\n",
       "<tr><td>loosen.0 </td><td style=\"text-align: right;\">        164</td><td style=\"text-align: right;\">         0</td><td style=\"text-align: right;\">      46</td><td style=\"text-align: right;\">       0</td></tr>\n",
       "<tr><td>undo.0   </td><td style=\"text-align: right;\">          0</td><td style=\"text-align: right;\">         0</td><td style=\"text-align: right;\">       0</td><td style=\"text-align: right;\">      86</td></tr>\n",
       "<tr><td>doup.0   </td><td style=\"text-align: right;\">         47</td><td style=\"text-align: right;\">         0</td><td style=\"text-align: right;\">      61</td><td style=\"text-align: right;\">       0</td></tr>\n",
       "</tbody>\n",
       "</table>"
      ],
      "text/plain": [
       "'<table>\\n<thead>\\n<tr><th>         </th><th style=\"text-align: right;\">  tighten.0</th><th style=\"text-align: right;\">  loosen.0</th><th style=\"text-align: right;\">  undo.0</th><th style=\"text-align: right;\">  doup.0</th></tr>\\n</thead>\\n<tbody>\\n<tr><td>tighten.0</td><td style=\"text-align: right;\">          0</td><td style=\"text-align: right;\">       189</td><td style=\"text-align: right;\">       0</td><td style=\"text-align: right;\">       0</td></tr>\\n<tr><td>loosen.0 </td><td style=\"text-align: right;\">        164</td><td style=\"text-align: right;\">         0</td><td style=\"text-align: right;\">      46</td><td style=\"text-align: right;\">       0</td></tr>\\n<tr><td>undo.0   </td><td style=\"text-align: right;\">          0</td><td style=\"text-align: right;\">         0</td><td style=\"text-align: right;\">       0</td><td style=\"text-align: right;\">      86</td></tr>\\n<tr><td>doup.0   </td><td style=\"text-align: right;\">         47</td><td style=\"text-align: right;\">         0</td><td style=\"text-align: right;\">      61</td><td style=\"text-align: right;\">       0</td></tr>\\n</tbody>\\n</table>'"
      ]
     },
     "metadata": {},
     "output_type": "display_data"
    },
    {
     "data": {
      "application/vnd.jupyter.widget-view+json": {
       "model_id": "24100c589ed04223970a00716dac5eaf",
       "version_major": 2,
       "version_minor": 0
      },
      "text/plain": [
       "CytoscapeWidget(cytoscape_layout={'name': 'cola'}, cytoscape_style=[{'width': 400, 'height': 500, 'selector': …"
      ]
     },
     "metadata": {},
     "output_type": "display_data"
    },
    {
     "data": {
      "text/html": [
       "<table>\n",
       "<thead>\n",
       "<tr><th>                                            </th><th style=\"text-align: right;\">  e(tighten.0)|s(loosen.0)</th><th style=\"text-align: right;\">  e(undo.0)|s(doup.0)</th><th style=\"text-align: right;\">  e(doup.0)|e(loosen.0)|s(tighten.0)|s(undo.0)</th></tr>\n",
       "</thead>\n",
       "<tbody>\n",
       "<tr><td>e(tighten.0)|s(loosen.0)                    </td><td style=\"text-align: right;\">                         0</td><td style=\"text-align: right;\">                    0</td><td style=\"text-align: right;\">                                             1</td></tr>\n",
       "<tr><td>e(undo.0)|s(doup.0)                         </td><td style=\"text-align: right;\">                         0</td><td style=\"text-align: right;\">                    0</td><td style=\"text-align: right;\">                                             1</td></tr>\n",
       "<tr><td>e(doup.0)|e(loosen.0)|s(tighten.0)|s(undo.0)</td><td style=\"text-align: right;\">                         1</td><td style=\"text-align: right;\">                    1</td><td style=\"text-align: right;\">                                             0</td></tr>\n",
       "</tbody>\n",
       "</table>"
      ],
      "text/plain": [
       "'<table>\\n<thead>\\n<tr><th>                                            </th><th style=\"text-align: right;\">  e(tighten.0)|s(loosen.0)</th><th style=\"text-align: right;\">  e(undo.0)|s(doup.0)</th><th style=\"text-align: right;\">  e(doup.0)|e(loosen.0)|s(tighten.0)|s(undo.0)</th></tr>\\n</thead>\\n<tbody>\\n<tr><td>e(tighten.0)|s(loosen.0)                    </td><td style=\"text-align: right;\">                         0</td><td style=\"text-align: right;\">                    0</td><td style=\"text-align: right;\">                                             1</td></tr>\\n<tr><td>e(undo.0)|s(doup.0)                         </td><td style=\"text-align: right;\">                         0</td><td style=\"text-align: right;\">                    0</td><td style=\"text-align: right;\">                                             1</td></tr>\\n<tr><td>e(doup.0)|e(loosen.0)|s(tighten.0)|s(undo.0)</td><td style=\"text-align: right;\">                         1</td><td style=\"text-align: right;\">                    1</td><td style=\"text-align: right;\">                                             0</td></tr>\\n</tbody>\\n</table>'"
      ]
     },
     "metadata": {},
     "output_type": "display_data"
    }
   ],
   "source": [
    "state_machines_overall_list = []\n",
    "\n",
    "\n",
    "for index, ts_class in enumerate(transition_sets_per_class):\n",
    "    fsms_per_class = []\n",
    "    printmd(\"### \"+ class_names[index])\n",
    "    num_fsms = len(ts_class)\n",
    "    print(\"Number of FSMS:\" + str(num_fsms))\n",
    "    \n",
    "    for fsm_no, ts in enumerate(ts_class):\n",
    "        fsm_graph = nx.DiGraph()\n",
    "        \n",
    "        printmd(\"#### FSM \" + str(fsm_no))\n",
    "        for t in ts:\n",
    "            source = \"s(\" + str(t) + \")\"\n",
    "            target = \"e(\" + str(t) + \")\"\n",
    "            fsm_graph.add_edge(source,target,weight=t)\n",
    "        \n",
    "       \n",
    "        t_df = adjacency_matrix_list[index].loc[list(ts), list(ts)] #transition df for this fsm\n",
    "        print_table(t_df)\n",
    "        \n",
    "        \n",
    "        # merge end(t1) = start(t2) from transition df\n",
    "        \n",
    "        edge_t_list = [] # edge transition list\n",
    "        for i in range(t_df.shape[0]):\n",
    "            for j in range(t_df.shape[1]):\n",
    "                \n",
    "                if t_df.iloc[i, j] != 'hole':\n",
    "                    if t_df.iloc[i, j] > 0:\n",
    "                        for node in fsm_graph.nodes():\n",
    "                            if \"e(\"+t_df.index[i]+\")\" in node:\n",
    "                                merge_node1 = node\n",
    "                            if \"s(\"+t_df.index[j]+\")\" in node:\n",
    "                                merge_node2 = node\n",
    "                        \n",
    "                        \n",
    "                        \n",
    "\n",
    "                        fsm_graph = nx.contracted_nodes(fsm_graph, merge_node1, merge_node2 , self_loops=True)\n",
    "\n",
    "                        if merge_node1 != merge_node2:\n",
    "                            mapping = {merge_node1: merge_node1 + \"|\" + merge_node2} \n",
    "                            fsm_graph = nx.relabel_nodes(fsm_graph, mapping)\n",
    "\n",
    "        # we need to complete the list of transitions \n",
    "        # that can happen on self-loop nodes \n",
    "        # as these have been overwritten (as graph is not MultiDiGraph)\n",
    "        \n",
    "        sl_state_list = list(nx.nodes_with_selfloops(fsm_graph)) # self looping states.\n",
    "        # if state is self-looping\n",
    "        t_list = []\n",
    "        if len(sl_state_list)>0: \n",
    "            # if s(T1) and e(T1) are there for same node, this T1 can self-loop occur.\n",
    "            for s in sl_state_list:\n",
    "                for sub_s in s.split('|'):\n",
    "                    if sub_s[0] == 'e':\n",
    "                        if ('s' + sub_s[1:]) in s.split('|'):\n",
    "                            t_list.append(sub_s[2:-1])\n",
    "                fsm_graph[s][s]['weight'] = '|'.join(t_list)\n",
    "        \n",
    "        \n",
    "\n",
    "               \n",
    "        plot_cytographs_fsm(fsm_graph,domain_name)\n",
    "        df = nx.to_pandas_adjacency(fsm_graph, nodelist=fsm_graph.nodes(), weight = 1)\n",
    "        print_table(df)\n",
    "        fsms_per_class.append(fsm_graph)\n",
    "    state_machines_overall_list.append(fsms_per_class)"
   ]
  },
  {
   "cell_type": "markdown",
   "metadata": {},
   "source": [
    "## USER INPUT 3: Rename States. \n",
    "As states are shown in terms of end and start of transitions, user can rename them for easy readability later on.\n",
    "\n",
    "\n",
    "This also makes it easier to specify problem statements."
   ]
  },
  {
   "cell_type": "markdown",
   "metadata": {},
   "source": [
    "### Explanations: Any object of a class occupies one state in each of its FSM.\n",
    "#### Driver log\n",
    "- For Driver sort there is only one FSM.  Driver is either inside the truck (state 0) or outside the truck (state 1).\n",
    "- For truck sort there are four FSMs. Four FSMs, essentially look at states whether the driver is inside or outside. And whether the truck is loaded or not. \n",
    "\n",
    "\n",
    "\n"
   ]
  },
  {
   "cell_type": "markdown",
   "metadata": {},
   "source": [
    "## Step 5: Induction of parameterized state machines\n",
    "Create and test hypothesis for state parameters"
   ]
  },
  {
   "cell_type": "markdown",
   "metadata": {},
   "source": [
    "### Form Hyp for HS (Hypothesis set)"
   ]
  },
  {
   "cell_type": "code",
   "execution_count": null,
   "metadata": {
    "lines_to_next_cell": 2
   },
   "outputs": [],
   "source": [
    "#input: Seq, TS, Object set Obs, Object state set OS\n",
    "#Output: HS retained hypotheses for state params\n",
    "\n",
    "#For each pair B.k and C.l in TS s.t. end(B.k) = S = start(C.l)\n",
    "\n",
    "\n"
   ]
  },
  {
   "cell_type": "code",
   "execution_count": null,
   "metadata": {
    "scrolled": false
   },
   "outputs": [],
   "source": [
    "HS_list = []\n",
    "ct_list = []\n",
    "\n",
    "# for transition set of each class\n",
    "for index, ts_class in enumerate(transition_sets_per_class):\n",
    "    printmd(\"### \"+ class_names[index])\n",
    "    \n",
    "    ct_per_class = []\n",
    "    HS_per_class = []\n",
    "    \n",
    "    # for transition set of each fsm in a class\n",
    "    for fsm_no, ts in enumerate(ts_class):\n",
    "        printmd(\"#### FSM: \" + str(fsm_no) + \" Hypothesis Set\")\n",
    "        \n",
    "        # transition matrix for the ts\n",
    "        t_df = adjacency_matrix_list[index].loc[list(ts), list(ts)]\n",
    "        ct_in_fsm = set()  # find consecutive transition set for a state machine in a class.\n",
    "        for i in range(t_df.shape[0]):\n",
    "            for j in range(t_df.shape[1]):\n",
    "                if t_df.iloc[i, j] != 'hole':\n",
    "                    if t_df.iloc[i, j] > 0:\n",
    "                        ct_in_fsm.add((t_df.index[i], t_df.columns[j]))\n",
    "        \n",
    "        ct_per_class.append(ct_in_fsm)\n",
    "        \n",
    "        # add to hypothesis set\n",
    "        HS = set()\n",
    "        \n",
    "        # for each pair B.k and C.l in TS s.t. e(B.k) = S = s(C.l)\n",
    "        for ct in ct_in_fsm:\n",
    "            B = ct[0].split('.')[0] # action name of T1\n",
    "            k = int(ct[0].split('.')[1]) # argument index of T1\n",
    "            \n",
    "            C = ct[1].split('.')[0] # action name of T2\n",
    "            l = int(ct[1].split('.')[1]) # argument index of T2\n",
    "            \n",
    "            \n",
    "            \n",
    "            \n",
    "            # When both actions B and C contain another argument of the same sort G' in position k' and l' respectively, \n",
    "            # we hypothesise that there may be a relation between sorts G and G'.\n",
    "            for seq in sequences:\n",
    "                for actarg_tuple in seq:\n",
    "                    arglist1 = []\n",
    "                    arglist2 = []\n",
    "                    if actarg_tuple[0] == B: #if action name is same as B\n",
    "                        arglist1 = actarg_tuple[1].copy()\n",
    "#                         arglist1.remove(actarg_tuple[1][k]) # remove k from arglist\n",
    "                        for actarg_tuple_prime in seq: #loop through seq again.\n",
    "                            if actarg_tuple_prime[0] == C:\n",
    "                                arglist2 = actarg_tuple_prime[1].copy()\n",
    "#                                 arglist2.remove(actarg_tuple_prime[1][l]) # remove l from arglist\n",
    "                                \n",
    "\n",
    "                        # for arg lists of actions B and C, if class is same add a hypothesis set.\n",
    "                        for i in range(len(arglist1)): # if len is 0, we don't go in\n",
    "                            for j in range(len(arglist2)):\n",
    "                                class1 = get_class_index(arglist1[i], classes)\n",
    "                                class2 = get_class_index(arglist2[j], classes)\n",
    "                                if class1 == class2: # if object at same position have same classes\n",
    "                                    # add hypothesis to hypothesis set.\n",
    "                                    if (k!=i) and (l!=j):\n",
    "                                        HS.add((frozenset({\"e(\"+B+\".\"+ str(k)+\")\", \"s(\"+C+\".\"+str(l)+\")\"}),B,k,i,C,l,j,index,class1))\n",
    "        print(str(len(HS))+ \" hypothesis created\")\n",
    "#         for h in HS:\n",
    "#             print(h)\n",
    "        \n",
    "        HS_per_class.append(HS)\n",
    "    HS_list.append(HS_per_class)\n",
    "    ct_list.append(ct_per_class)"
   ]
  },
  {
   "cell_type": "markdown",
   "metadata": {},
   "source": [
    "### Test hyp against E"
   ]
  },
  {
   "cell_type": "code",
   "execution_count": null,
   "metadata": {
    "scrolled": false
   },
   "outputs": [],
   "source": [
    "\n",
    "\n",
    "HS_list_retained = []\n",
    "for index, HS_class in enumerate(HS_list):\n",
    "    printmd(\"### \"+ class_names[index])\n",
    "    HS_per_class_retained = []\n",
    "    \n",
    "  \n",
    "    for fsm_no, HS in enumerate(HS_class):\n",
    "        printmd(\"#### FSM: \" + str(fsm_no) + \" Hypothesis Set\")\n",
    "\n",
    "        count=0\n",
    "        HS_copy = HS.copy()\n",
    "        HS_copy2 = HS.copy()\n",
    "        \n",
    "        # state machine\n",
    "        plot_cytographs_fsm(state_machines_overall_list[index][fsm_no],domain_name)\n",
    "        # for each object O occuring in Ou\n",
    "        for O in arguments:\n",
    "            #   for each pair of transitions Ap.m and Aq.n consecutive for O in seq\n",
    "            ct = []\n",
    "            for seq in sequences:\n",
    "                for actarg_tuple in seq:\n",
    "                    act = actarg_tuple[0]\n",
    "                    for j, arg in enumerate(actarg_tuple[1]):\n",
    "                        if arg == O:\n",
    "                            ct.append((act + '.' + str(j), actarg_tuple[1]))\n",
    "\n",
    "\n",
    "            for i in range(len(ct)-1):\n",
    "                A_p = ct[i][0].split('.')[0]\n",
    "                m = int(ct[i][0].split('.')[1])\n",
    "                A_q = ct[i+1][0].split('.')[0]\n",
    "                n = int(ct[i+1][0].split('.')[1]) \n",
    "\n",
    "                # for each hypothesis H s.t. A_p = B, m = k, A_q = C, n = l\n",
    "\n",
    "                for H in HS_copy2:\n",
    "                    if A_p == H[1] and m == H[2] and A_q == H[4] and n == H[5]:\n",
    "                        k_prime = H[3]\n",
    "                        l_prime = H[6]\n",
    "\n",
    "                        # if O_p,k_prime = Q_q,l_prime\n",
    "                        if ct[i][1][k_prime] != ct[i+1][1][l_prime]:\n",
    "                            if H in HS_copy:\n",
    "                                HS_copy.remove(H)\n",
    "                                count += 1\n",
    "\n",
    "                HS_copy2 = HS_copy.copy() \n",
    "        print(str(len(HS_copy2))+ \" hypothesis retained\")        \n",
    "        for H in HS_copy2:\n",
    "            print(H)\n",
    "        HS_per_class_retained.append(HS_copy2)\n",
    "    HS_list_retained.append(HS_per_class_retained)\n",
    "            "
   ]
  },
  {
   "cell_type": "markdown",
   "metadata": {},
   "source": [
    "## Step 6: Creation and merging of state parameters"
   ]
  },
  {
   "cell_type": "code",
   "execution_count": null,
   "metadata": {
    "lines_to_end_of_cell_marker": 2
   },
   "outputs": [],
   "source": [
    "# Each hypothesis refers to an incoming and outgoing transition \n",
    "# through a particular state of an FSM\n",
    "# and matching associated transitions can be considered\n",
    "# to set and read parameters of a state.\n",
    "# Since there maybe multiple transitions through a give state,\n",
    "# it is possible for the same parameter to have multiple\n",
    "# pairwise occurences.\n",
    "\n",
    "print(\"Step 6: creating and merging state params\")\n",
    "param_bindings_list_overall = []\n",
    "for classindex, HS_per_class in enumerate(HS_list_retained):\n",
    "    param_bind_per_class = []\n",
    "    for HS_per_fsm in HS_per_class:\n",
    "        param_binding_list = []\n",
    "        \n",
    "        # creation\n",
    "        for index,h in enumerate(HS_per_fsm):\n",
    "            param_binding_list.append((h,\"v\"+str(index)))\n",
    "\n",
    "        if len(param_binding_list)>1:\n",
    "            # merging\n",
    "            for i in range(len(param_binding_list)-1):\n",
    "                for j in range(i+1, len(param_binding_list)):\n",
    "                    h_1 = param_binding_list[i][0]\n",
    "                    h_2 = param_binding_list[j][0]\n",
    "\n",
    "\n",
    "                    # How to check if state is equivalent???\n",
    "                    # State is object ??? n2? No.\n",
    "\n",
    "                    # TODO: check from state machine\n",
    "\n",
    "                    if ((h_1[1] == h_2[1] and h_1[2] == h_2[2] and h_1[3] == h_2[3]) or (h_1[4] == h_2[4] and h_1[5] == h_2[5] and h_1[6] == h_2[6])):\n",
    "                        new_tuple = (param_binding_list[j][0], param_binding_list[i][1])\n",
    "                        param_binding_list.remove((param_binding_list[j][0], param_binding_list[j][1]))\n",
    "                        param_binding_list.insert(j,new_tuple)\n",
    "        param_bind_per_class.append(param_binding_list)\n",
    "        print(class_names[classindex])\n",
    "        for pb in param_binding_list:\n",
    "            print(pb)\n",
    "        print()\n",
    "    param_bindings_list_overall.append(param_bind_per_class)"
   ]
  },
  {
   "cell_type": "markdown",
   "metadata": {},
   "source": [
    "## Step 7: Remove Parameter Flaws"
   ]
  },
  {
   "cell_type": "code",
   "execution_count": null,
   "metadata": {},
   "outputs": [],
   "source": [
    "########### Step 5: Removing parameter flaws\n",
    "# A parameter P associated with an FSM state S is said to be flawed if \n",
    "# there exists a transition into S, which does not supply P with a value.\n",
    "# This may occur when there exists a transition B.k where end(B.k)=S, \n",
    "# but there exists no h containing end(B.k)\n",
    "\n",
    "para_bind_overall_fault_removed = []\n",
    "for class_index, para_bind_per_class in enumerate(param_bindings_list_overall):\n",
    "#     print(class_names[class_index])\n",
    "    para_bind_per_class_fault_removed = []\n",
    "\n",
    "    # print(state_machines_overall_list[class_index][fsm_index].index.values)\n",
    "    for fsm_index, transition_set in enumerate(transition_sets_per_class[class_index]):\n",
    "        transition_df = adjacency_matrix_list[class_index].loc[list(transition_set), list(transition_set)]\n",
    "        consecutive_transitions_state_machines_per_class = set()  # find consecutive transitions for a state machine in a class.\n",
    "        for i in range(transition_df.shape[0]):\n",
    "            for j in range(transition_df.shape[1]):\n",
    "                if transition_df.iloc[i, j] != 'hole':\n",
    "                    if transition_df.iloc[i, j] > 0:\n",
    "                        consecutive_transitions_state_machines_per_class.add(\n",
    "                            (transition_df.index[i], transition_df.columns[j]))\n",
    "\n",
    "        # initialize h_exists with false\n",
    "        h_exists = []\n",
    "        for param_index, param_bind in enumerate(para_bind_per_class[fsm_index]):\n",
    "            h_exists.append(False)\n",
    "\n",
    "        for ct in consecutive_transitions_state_machines_per_class:\n",
    "            for state in state_machines_overall_list[class_index][fsm_index].index.values:\n",
    "                if {\"end(\"+ ct[0] + \")\"} <= state_dict_overall[class_index][fsm_index][state]:\n",
    "                    current_state = state_dict_overall[class_index][fsm_index][state]\n",
    "\n",
    "                    # for every parameter binding which contains subset of current_state, if B and k are there, hypothesis exists\n",
    "                    for param_index,param_bind in enumerate(para_bind_per_class[fsm_index]):\n",
    "                        if param_bind[0][0] <= current_state: #subset of current_state of FSM\n",
    "                            # print(param_bind[0][1])\n",
    "                            # print(param_bind[0][2])\n",
    "                            # print(ct[0].split('.')[0])\n",
    "                            # print(ct[0].split('.')[1])\n",
    "                            # print()\n",
    "                            if param_bind[0][1] == ct[0].split('.')[0]:\n",
    "                                if param_bind[0][2] == int(ct[0].split('.')[1]): #TODO: Do we need to check other things here\n",
    "                                    h_exists[param_index] = True\n",
    "\n",
    "        param_bind_per_fsm_copy = para_bind_per_class[fsm_index].copy()\n",
    "        for param_index, param_bind in enumerate(para_bind_per_class[fsm_index]):\n",
    "            # if h_exists[param_index]:\n",
    "            #     print(param_bind[1])\n",
    "            if not h_exists[param_index]:\n",
    "                param_bind_per_fsm_copy.remove(param_bind)\n",
    "\n",
    "        para_bind_per_class_fault_removed.append(param_bind_per_fsm_copy)\n",
    "    para_bind_overall_fault_removed.append(para_bind_per_class_fault_removed)"
   ]
  },
  {
   "cell_type": "code",
   "execution_count": null,
   "metadata": {},
   "outputs": [],
   "source": [
    "print(\"Fault Removed Parameter Bindings\")\n",
    "for class_index, para_bind_per_class in enumerate(para_bind_overall_fault_removed):\n",
    "    print(class_names[class_index])\n",
    "    for fsm_no, para_bind_per_fsm in enumerate(para_bind_per_class):\n",
    "        print(\"Fsm_no:\" + str(fsm_no))\n",
    "        for p in para_bind_per_fsm:\n",
    "            print(p)\n",
    "        print()"
   ]
  },
  {
   "cell_type": "markdown",
   "metadata": {},
   "source": [
    "## Step 9:  Formation of PDDL Schema"
   ]
  },
  {
   "cell_type": "code",
   "execution_count": null,
   "metadata": {
    "lines_to_end_of_cell_marker": 2,
    "lines_to_next_cell": 2,
    "scrolled": false
   },
   "outputs": [],
   "source": [
    "# get action schema\n",
    "print(\";;********************Learned PDDL domain******************\")\n",
    "output_file = \"output/\"+ domain_name + \"/\" +  domain_name + \".pddl\"\n",
    "write_file = open(output_file, 'w')\n",
    "write_line = \"(define\"\n",
    "write_line += \"  (domain \"+ domain_name+\")\\n\"\n",
    "write_line += \"  (:requirements :typing)\\n\"\n",
    "write_line += \"  (:types\"\n",
    "for class_name in class_names:\n",
    "    write_line += \" \" + class_name\n",
    "write_line += \")\\n\"\n",
    "write_line += \"  (:predicates\\n\"\n",
    "\n",
    "predicates = []\n",
    "line_count = 0\n",
    "for class_index, para_bind_per_class in enumerate(para_bind_overall_fault_removed):\n",
    "    for fsm_no, para_bind_per_fsm in enumerate(para_bind_per_class):\n",
    "        for state_index, state in enumerate(state_machines_overall_list[class_index][fsm_no]):\n",
    "            predicate = \"\"\n",
    "            write_line += \"    (\" + class_names[class_index] + \"_fsm\" + str(fsm_no) + \"_state\" + str(state_index)\n",
    "            predicate += \"    (\" + class_names[class_index] + \"_fsm\" + str(fsm_no) + \"_state\" + str(state_index)\n",
    "            for para_bind in para_bind_per_fsm:\n",
    "                if para_bind[0][0] <= state_dict_overall[class_index][fsm_no][state]:\n",
    "                    write_line += \" ?\"+para_bind[1] + \" - \" + str(class_names[para_bind[0][8]])\n",
    "                    predicate += \" ?\"+para_bind[1] + \" - \" + str(class_names[para_bind[0][8]])\n",
    "            if (line_count % 4) == 0:\n",
    "                write_line += \")\\n\"\n",
    "            else:\n",
    "                write_line += \")\"\n",
    "            line_count+=1\n",
    "            predicate += \")\"\n",
    "            predicates.append(predicate)\n",
    "write_line += \"  )\\n\"\n",
    "            \n",
    "for action_index, action in enumerate(actions):\n",
    "    write_line += \"  (:action\"\n",
    "    write_line += \"  \" + action + \" \"\n",
    "    write_line += \"  :parameters\"\n",
    "    write_line += \"  (\"\n",
    "    arg_already_written_flag = False\n",
    "    params_per_action = []\n",
    "    args_per_action = []\n",
    "    for seq in sequences:\n",
    "        for actarg_tuple in seq:\n",
    "            if not arg_already_written_flag:\n",
    "                if actarg_tuple[0] == action:\n",
    "                    arglist = []\n",
    "                    for arg in actarg_tuple[1]:\n",
    "                        write_line += \"?\"+arg + \" - \" + class_names[get_class_index(arg,classes)] + \" \"\n",
    "                        arglist.append(arg)\n",
    "                    args_per_action.append(arglist)\n",
    "                    params_per_action.append(actarg_tuple[1])\n",
    "                    arg_already_written_flag = True\n",
    "    write_line += \")\\n\"\n",
    "\n",
    "\n",
    "    # need to use finite STATE machines to get preconditions and effects.\n",
    "    # Start-state = precondition. End state= Effect\n",
    "    preconditions = []\n",
    "    effects = []\n",
    "    for arglist in params_per_action:\n",
    "        for arg in arglist:\n",
    "            current_class_index = get_class_index(arg, classes)\n",
    "            for fsm_no, fsm in enumerate(state_machines_overall_list[current_class_index]):\n",
    "                # print_table(fsm)\n",
    "                df = fsm\n",
    "\n",
    "                for i in range(df.shape[0]):\n",
    "                    for j in range(df.shape[1]):\n",
    "                        if df.iloc[i, j] > 0:\n",
    "                            # print(\"(\" + df.index[i] + \",\" + df.columns[j] + \")\")\n",
    "                            start_state = state_dict_overall[current_class_index][fsm_no][df.index[i]]\n",
    "                            end_state = state_dict_overall[current_class_index][fsm_no][df.columns[j]]\n",
    "\n",
    "                            start_state_index, end_state_index = -1, -1\n",
    "                            for k,v in state_dict_overall[current_class_index][fsm_no].items():\n",
    "                                if v == start_state:\n",
    "                                    start_state_index = k\n",
    "                                if v == end_state:\n",
    "                                    end_state_index = k\n",
    "\n",
    "                            for predicate in predicates:\n",
    "                                pred = predicate.split()[0].lstrip('(').rstrip(')')\n",
    "                                if pred == class_names[current_class_index]+\"_fsm\"+str(fsm_no)+\"_\"+str(start_state_index):\n",
    "\n",
    "                                    if predicate not in preconditions:\n",
    "                                        preconditions.append(predicate)\n",
    "                                if pred == class_names[current_class_index]+\"_fsm\"+str(fsm_no)+\"_\"+str(end_state_index):\n",
    "                                    if predicate not in effects:\n",
    "                                        effects.append(predicate)\n",
    "\n",
    "\n",
    "\n",
    "\n",
    "#     print(preconditions)\n",
    "#     print(effects)\n",
    "    write_line += \"   :precondition\"\n",
    "    write_line += \"   (and\\n\"\n",
    "    for precondition in preconditions:\n",
    "        # precondition = precondition.replace(?)\n",
    "        write_line += \"    \"+precondition+\"\\n\"\n",
    "    write_line += \"   )\\n\"\n",
    "    write_line += \"   :effect\"\n",
    "    write_line += \"   (and\\n\"\n",
    "    for effect in effects:\n",
    "        write_line += \"    \" + effect + \"\\n\"\n",
    "    write_line += \"  )\"\n",
    "\n",
    "    write_line += \")\\n\"\n",
    "\n",
    "write_line += \")\\n\" #domain ending bracket\n",
    "\n",
    "\n",
    "print(write_line)\n",
    "\n",
    "write_file.write(write_line)\n",
    "write_file.close()"
   ]
  },
  {
   "cell_type": "code",
   "execution_count": null,
   "metadata": {
    "scrolled": false
   },
   "outputs": [],
   "source": [
    "# state dictionary\n",
    "print_state_dictionary(state_dict_overall)"
   ]
  },
  {
   "cell_type": "code",
   "execution_count": null,
   "metadata": {},
   "outputs": [],
   "source": []
  },
  {
   "cell_type": "markdown",
   "metadata": {},
   "source": [
    "# NER "
   ]
  },
  {
   "cell_type": "code",
   "execution_count": null,
   "metadata": {},
   "outputs": [],
   "source": [
    "# finding entities using spacy\n",
    "import spacy\n",
    "from spacy import displacy\n",
    "import en_core_web_sm\n",
    "nlp = spacy.load('en_core_web_sm')\n",
    "doc = nlp(coref_resolved_instructions)"
   ]
  },
  {
   "cell_type": "code",
   "execution_count": null,
   "metadata": {},
   "outputs": [],
   "source": [
    "displacy.render(nlp(str(doc)), jupyter=True, style='ent', options = {'ents':['QUANTITY', 'TIME', 'LOC', 'DATE']})"
   ]
  },
  {
   "cell_type": "code",
   "execution_count": null,
   "metadata": {},
   "outputs": [],
   "source": []
  }
 ],
 "metadata": {
  "jupytext": {
   "encoding": "# -*- coding: utf-8 -*-",
   "text_representation": {
    "extension": ".py",
    "format_name": "light",
    "format_version": "1.5",
    "jupytext_version": "1.4.2"
   }
  },
  "kernelspec": {
   "display_name": ".contextual_drl",
   "language": "python",
   "name": ".contextual_drl"
  },
  "language_info": {
   "codemirror_mode": {
    "name": "ipython",
    "version": 3
   },
   "file_extension": ".py",
   "mimetype": "text/x-python",
   "name": "python",
   "nbconvert_exporter": "python",
   "pygments_lexer": "ipython3",
   "version": "3.6.2"
  },
  "toc": {
   "base_numbering": 1,
   "nav_menu": {},
   "number_sections": true,
   "sideBar": true,
   "skip_h1_title": false,
   "title_cell": "Table of Contents",
   "title_sidebar": "Contents",
   "toc_cell": false,
   "toc_position": {
    "height": "calc(100% - 180px)",
    "left": "10px",
    "top": "150px",
    "width": "165px"
   },
   "toc_section_display": true,
   "toc_window_display": true
  },
  "varInspector": {
   "cols": {
    "lenName": 16,
    "lenType": 16,
    "lenVar": 40
   },
   "kernels_config": {
    "python": {
     "delete_cmd_postfix": "",
     "delete_cmd_prefix": "del ",
     "library": "var_list.py",
     "varRefreshCmd": "print(var_dic_list())"
    },
    "r": {
     "delete_cmd_postfix": ") ",
     "delete_cmd_prefix": "rm(",
     "library": "var_list.r",
     "varRefreshCmd": "cat(var_dic_list()) "
    }
   },
   "types_to_exclude": [
    "module",
    "function",
    "builtin_function_or_method",
    "instance",
    "_Feature"
   ],
   "window_display": false
  }
 },
 "nbformat": 4,
 "nbformat_minor": 2
}
