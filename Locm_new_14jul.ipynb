{
 "cells": [
  {
   "cell_type": "markdown",
   "metadata": {},
   "source": [
    "# Learn the domain model in PDDL using iLOCM\n",
    "\n",
    "**interactive-LOCM**\n",
    "This code combines LOCM1 and LOCM2 algorithms and is last part of the pipeline that I use in my thesis to generate PDDL models from instructional texts.\n",
    "\n",
    "- Step 0: Preprocess: Lemmatize, Coref resolve, action override rename and replacing empty parameters.\n",
    "- Step 1: Find classes and make transition graphs.\n",
    "- Step 2: Get transistion sets from LOCM2 algorithm\n",
    "- Step 3: Create FSMs\n",
    "- Step 4: Perform Zero Analysis and add new FSM if necessary.\n",
    "- Step 5: Create and test hypothesis for state parameters\n",
    "- Step 6: Create and merge state parameters\n",
    "- Step 7: Remove parameter flaws\n",
    "- Step 8: Extract static preconditions\n",
    "- Step 9: Form action schemas"
   ]
  },
  {
   "cell_type": "code",
   "execution_count": 93,
   "metadata": {},
   "outputs": [],
   "source": [
    "from collections import defaultdict\n",
    "import itertools\n",
    "import os\n",
    "from tabulate import tabulate\n",
    "from pprint import pprint\n",
    "import matplotlib.pyplot as plt\n",
    "%matplotlib inline\n",
    "import networkx as nx\n",
    "import pandas as pd\n",
    "pd.options.display.max_columns = 100\n",
    "from IPython.display import display, Markdown\n",
    "from ipycytoscape import *"
   ]
  },
  {
   "cell_type": "markdown",
   "metadata": {},
   "source": [
    "## Read input file"
   ]
  },
  {
   "cell_type": "code",
   "execution_count": 43,
   "metadata": {},
   "outputs": [],
   "source": [
    "import string\n",
    "def read_file(input_file_name):\n",
    "    '''\n",
    "    Read the input data and return list of action sequences.\n",
    "    Each sequence is a list of action-argumentlist tuples.\n",
    "    '''\n",
    "    file = open(input_file_name, 'r')\n",
    "    sequences = []\n",
    "    for line in file:\n",
    "        \n",
    "        actions = []\n",
    "        arguments = []\n",
    "        if line and not line.isspace() and len(line)>1:\n",
    "            sequence = line.rstrip(\"\\n\\r\").lstrip(\"\\n\\r\").lower() \n",
    "            action_defs = sequence.split(\"),\")\n",
    "\n",
    "            for action_def in action_defs:\n",
    "                action = action_def.split('(')[0].strip(\")\\n\\r\").strip()\n",
    "                argument = action_def.split('(')[1].strip(\")\\n\\r\")\n",
    "                actions.append(action.translate(str.maketrans('', '', string.punctuation)))\n",
    "                argument_list = argument.split(',')\n",
    "                argument_list = [x.strip() for x in argument_list]\n",
    "                #argument_list.insert(0,'zero')\n",
    "                arguments.append(argument_list)\n",
    "                \n",
    "            \n",
    "            actarg_tuples = zip(actions,arguments)\n",
    "            sequences.append(list(actarg_tuples))\n",
    "    return sequences\n",
    "\n",
    "def print_sequences(sequences):\n",
    "    for seq in sequences:\n",
    "        for index,action in enumerate(seq):\n",
    "            print(str(index) + \": \" + str(action))\n",
    "        print()"
   ]
  },
  {
   "cell_type": "code",
   "execution_count": 126,
   "metadata": {
    "lines_to_next_cell": 2,
    "scrolled": false
   },
   "outputs": [
    {
     "name": "stdout",
     "output_type": "stream",
     "text": [
      "0: ('walk', ['driver1', 's2', 'p1-2'])\n",
      "1: ('walk', ['driver1', 'p1-2', 's1'])\n",
      "2: ('walk', ['driver1', 's1', 'p1-0'])\n",
      "3: ('walk', ['driver1', 'p1-0', 's0'])\n",
      "4: ('boardtruck', ['driver1', 'truck1', 's0'])\n",
      "5: ('drivetruck', ['truck1', 's0', 's1', 'driver1'])\n",
      "6: ('disembarktruck', ['driver1', 'truck1', 's1'])\n",
      "\n",
      "0: ('boardtruck', ['driver1', 'truck3', 's3'])\n",
      "1: ('unloadtruck', ['package5', 'truck3', 's3'])\n",
      "2: ('disembarktruck', ['driver1', 'truck3', 's3'])\n",
      "\n",
      "0: ('unloadtruck', ['package5', 'truck3', 's3'])\n",
      "1: ('boardtruck', ['driver1', 'truck3', 's3'])\n",
      "2: ('loadtruck', ['package5', 'truck3', 's3'])\n",
      "\n",
      "0: ('unloadtruck', ['package5', 'truck3', 's3'])\n",
      "1: ('loadtruck', ['package5', 'truck3', 's3'])\n",
      "\n",
      "0: ('loadtruck', ['package5', 'truck3', 's3'])\n",
      "1: ('disembarktruck', ['driver1', 'truck3', 's3'])\n",
      "\n",
      "0: ('boardtruck', ['driver1', 'truck3', 's3'])\n",
      "1: ('disembarktruck', ['driver1', 'truck3', 's3'])\n",
      "2: ('loadtruck', ['package5', 'truck3', 's3'])\n",
      "3: ('boardtruck', ['driver1', 'truck3', 's3'])\n",
      "\n",
      "0: ('walk', ['driver1', 's2', 'p1-2'])\n",
      "1: ('walk', ['driver1', 'p1-2', 's1'])\n",
      "2: ('walk', ['driver1', 's1', 'p1-0'])\n",
      "3: ('walk', ['driver1', 'p1-0', 's0'])\n",
      "4: ('boardtruck', ['driver1', 'truck1', 's0'])\n",
      "5: ('loadtruck', ['package1', 'truck1', 's0'])\n",
      "6: ('drivetruck', ['truck1', 's0', 's1', 'driver1'])\n",
      "7: ('disembarktruck', ['driver1', 'truck1', 's1'])\n",
      "8: ('unloadtruck', ['package1', 'truck1', 's1'])\n",
      "\n",
      "0: ('boardtruck', ['driver1', 'truck2', 's4'])\n",
      "1: ('loadtruck', ['package5', 'truck2', 's4'])\n",
      "2: ('drivetruck', ['truck2', 's4', 's1', 'driver1'])\n",
      "3: ('drivetruck', ['truck2', 's1', 's3', 'driver1'])\n",
      "4: ('unloadtruck', ['package5', 'truck2', 's3'])\n",
      "5: ('drivetruck', ['truck2', 's3', 's5', 'driver1'])\n",
      "6: ('drivetruck', ['truck2', 's5', 's1', 'driver1'])\n",
      "7: ('disembarktruck', ['driver1', 'truck2', 's1'])\n",
      "8: ('boardtruck', ['driver2', 'truck1', 's0'])\n",
      "9: ('loadtruck', ['package2', 'truck1', 's0'])\n",
      "10: ('drivetruck', ['truck1', 's0', 's1', 'driver2'])\n",
      "11: ('unloadtruck', ['package2', 'truck1', 's1'])\n",
      "12: ('drivetruck', ['truck1', 's1', 's0', 'driver2'])\n",
      "13: ('disembarktruck', ['driver2', 'truck1', 's0'])\n",
      "14: ('boardtruck', ['driver1', 'truck2', 's1'])\n",
      "15: ('loadtruck', ['package1', 'truck2', 's1'])\n",
      "16: ('drivetruck', ['truck2', 's1', 's4', 'driver1'])\n",
      "17: ('drivetruck', ['truck2', 's4', 's5', 'driver1'])\n",
      "18: ('unloadtruck', ['package1', 'truck2', 's5'])\n",
      "19: ('drivetruck', ['truck2', 's5', 's1', 'driver1'])\n",
      "20: ('disembarktruck', ['driver1', 'truck2', 's1'])\n",
      "21: ('boardtruck', ['driver1', 'truck2', 's1'])\n",
      "22: ('drivetruck', ['truck2', 's1', 's4', 'driver1'])\n",
      "23: ('loadtruck', ['package4', 'truck2', 's4'])\n",
      "24: ('drivetruck', ['truck2', 's4', 's1', 'driver1'])\n",
      "25: ('unloadtruck', ['package4', 'truck2', 's1'])\n",
      "26: ('disembarktruck', ['driver1', 'truck2', 's1'])\n",
      "27: ('boardtruck', ['driver1', 'truck2', 's1'])\n",
      "28: ('drivetruck', ['truck2', 's1', 's4', 'driver1'])\n",
      "29: ('loadtruck', ['package3', 'truck2', 's4'])\n",
      "30: ('drivetruck', ['truck2', 's4', 's5', 'driver1'])\n",
      "31: ('unloadtruck', ['package3', 'truck2', 's5'])\n",
      "32: ('drivetruck', ['truck2', 's5', 's1', 'driver1'])\n",
      "33: ('disembarktruck', ['driver1', 'truck2', 's1'])\n",
      "\n",
      "0: ('walk', ['driver1', 's4', 'p3-4'])\n",
      "1: ('walk', ['driver1', 'p3-4', 's3'])\n",
      "2: ('walk', ['driver2', 's1', 'p0-1'])\n",
      "3: ('walk', ['driver2', 'p0-1', 's0'])\n",
      "4: ('boardtruck', ['driver2', 'truck2', 's0'])\n",
      "5: ('drivetruck', ['truck2', 's0', 's3', 'driver2'])\n",
      "6: ('drivetruck', ['truck2', 's3', 's0', 'driver2'])\n",
      "7: ('drivetruck', ['truck2', 's0', 's2', 'driver2'])\n",
      "8: ('loadtruck', ['package1', 'truck2', 's2'])\n",
      "9: ('drivetruck', ['truck2', 's2', 's3', 'driver2'])\n",
      "10: ('unloadtruck', ['package1', 'truck2', 's3'])\n",
      "11: ('disembarktruck', ['driver2', 'truck2', 's3'])\n",
      "12: ('walk', ['driver2', 's3', 'p3-2'])\n",
      "13: ('walk', ['driver2', 'p3-2', 's2'])\n",
      "14: ('boardtruck', ['driver2', 'truck1', 's2'])\n",
      "15: ('drivetruck', ['truck1', 's2', 's3', 'driver2'])\n",
      "16: ('drivetruck', ['truck1', 's3', 's4', 'driver2'])\n",
      "17: ('disembarktruck', ['driver2', 'truck1', 's4'])\n",
      "18: ('boardtruck', ['driver2', 'truck1', 's4'])\n",
      "19: ('drivetruck', ['truck1', 's4', 's3', 'driver2'])\n",
      "20: ('loadtruck', ['package3', 'truck1', 's3'])\n",
      "21: ('drivetruck', ['truck1', 's3', 's0', 'driver2'])\n",
      "22: ('drivetruck', ['truck1', 's0', 's2', 'driver2'])\n",
      "23: ('drivetruck', ['truck1', 's2', 's1', 'driver2'])\n",
      "24: ('loadtruck', ['package2', 'truck1', 's1'])\n",
      "25: ('unloadtruck', ['package3', 'truck1', 's1'])\n",
      "26: ('drivetruck', ['truck1', 's1', 's2', 'driver2'])\n",
      "27: ('drivetruck', ['truck1', 's2', 's3', 'driver2'])\n",
      "28: ('drivetruck', ['truck1', 's3', 's4', 'driver2'])\n",
      "29: ('disembarktruck', ['driver2', 'truck1', 's4'])\n",
      "30: ('boardtruck', ['driver2', 'truck1', 's4'])\n",
      "31: ('drivetruck', ['truck1', 's4', 's2', 'driver2'])\n",
      "32: ('unloadtruck', ['package2', 'truck1', 's2'])\n",
      "33: ('drivetruck', ['truck1', 's2', 's3', 'driver2'])\n",
      "34: ('disembarktruck', ['driver2', 'truck1', 's3'])\n",
      "35: ('walk', ['driver2', 's3', 'p3-4'])\n",
      "36: ('walk', ['driver2', 'p3-4', 's4'])\n",
      "\n"
     ]
    }
   ],
   "source": [
    "# sequences = read_file(input_file_name)\n",
    "sequences = read_file('./locm_data/driverlog1.txt')\n",
    "print_sequences(sequences)\n",
    "domain_name = 'driverlog' #specify domain name to  be used in PDDL here."
   ]
  },
  {
   "cell_type": "markdown",
   "metadata": {},
   "source": [
    "## Step 1.1: Find classes "
   ]
  },
  {
   "cell_type": "code",
   "execution_count": 127,
   "metadata": {},
   "outputs": [
    {
     "name": "stdout",
     "output_type": "stream",
     "text": [
      "\n",
      "Actions\n",
      "{'disembarktruck', 'drivetruck', 'unloadtruck', 'boardtruck', 'loadtruck', 'walk'}\n",
      "\n",
      "Arguments/Objects\n",
      "{'p1-0', 's4', 'package3', 'p1-2', 'p0-1', 's3', 'p3-4', 'driver1', 'p3-2', 's1', 's0', 'package1', 'truck1', 'package4', 'driver2', 's2', 'truck2', 's5', 'truck3', 'package2', 'package5'}\n"
     ]
    }
   ],
   "source": [
    "transitions = set() # A transition is denoted by action_name + argument position\n",
    "arguments = set()\n",
    "actions = set()\n",
    "for seq in sequences:\n",
    "    for actarg_tuple in seq:\n",
    "        actions.add(actarg_tuple[0])\n",
    "        for j, arg in enumerate(actarg_tuple[1]):\n",
    "            transitions.add(actarg_tuple[0]+\".\"+str(j))\n",
    "            arguments.add(arg)\n",
    "\n",
    "print(\"\\nActions\")\n",
    "print(actions)\n",
    "# print(\"\\nTransitions\")\n",
    "# print(transitions)\n",
    "print(\"\\nArguments/Objects\")\n",
    "print(arguments)"
   ]
  },
  {
   "cell_type": "code",
   "execution_count": 128,
   "metadata": {},
   "outputs": [],
   "source": [
    "def get_actarg_dictionary(sequences):\n",
    "    d = defaultdict(list)\n",
    "    for seq in sequences:\n",
    "        for actarg_tuple in seq:\n",
    "            d[actarg_tuple[0]].append(actarg_tuple[1])\n",
    "    return d\n",
    "d = get_actarg_dictionary(sequences)"
   ]
  },
  {
   "cell_type": "code",
   "execution_count": 129,
   "metadata": {},
   "outputs": [],
   "source": [
    "# class util functions.\n",
    "def get_classes(d):\n",
    "    # TODO incorporate word similarity in get classes.\n",
    "    c = defaultdict(set)\n",
    "    for k,v in d.items():\n",
    "        for arg_list in v:\n",
    "            for i,object in enumerate(arg_list):\n",
    "                c[k,i].add(object)\n",
    "\n",
    "    sets = c.values()\n",
    "    classes = []\n",
    "    # remove duplicate classes\n",
    "    for s in sets:\n",
    "        if s not in classes:\n",
    "            classes.append(s)\n",
    "\n",
    "    # now do pairwise intersections of all values. If intersection, combine them; then return the final sets.\n",
    "    classes_copy = list(classes)\n",
    "    while True:\n",
    "        combinations = list(itertools.combinations(classes_copy,2))\n",
    "        intersections_count = 0\n",
    "        for combination in combinations:\n",
    "            if combination[0].intersection(combination[1]):\n",
    "                intersections_count +=1\n",
    "\n",
    "                if combination[0] in classes_copy:\n",
    "                    classes_copy.remove(combination[0])\n",
    "                if combination[1] in classes_copy:\n",
    "                    classes_copy.remove(combination[1])\n",
    "                classes_copy.append(combination[0].union(combination[1]))\n",
    "\n",
    "        if intersections_count==0:\n",
    "            # print(\"no intersections left\")\n",
    "            break\n",
    "\n",
    "    return classes_copy\n",
    "\n",
    "# TODO: Can use better approach here. NER might help.\n",
    "def get_class_names(classes):\n",
    "    # Name the class to first object found ignoring the digits in it\n",
    "    class_names = []\n",
    "    for c in classes:\n",
    "        for object in c:\n",
    "#             object = ''.join([i for i in object if not i.isdigit()])\n",
    "            class_names.append(object)\n",
    "            break\n",
    "    return class_names\n",
    "\n",
    "def get_class_index(arg,classes):\n",
    "    for class_index, c in enumerate(classes):\n",
    "        if arg in c:\n",
    "            return class_index #it is like breaking out of the loop\n",
    "    print(\"Error:class index not found\") #this statement is only executed if class index is not returned."
   ]
  },
  {
   "cell_type": "code",
   "execution_count": 130,
   "metadata": {
    "lines_to_next_cell": 0
   },
   "outputs": [
    {
     "name": "stdout",
     "output_type": "stream",
     "text": [
      "\n",
      "Sorts/Classes\n",
      "[{'driver1', 'driver2'}, {'package3', 'package2', 'package5', 'package1', 'package4'}, {'truck3', 'truck2', 'truck1'}, {'p1-0', 's3', 's4', 'p3-4', 's5', 'p3-2', 's1', 's0', 'p1-2', 'p0-1', 's2'}]\n",
      "\n",
      "Extracted class names\n",
      "['driver1', 'package3', 'truck3', 'p1-0']\n"
     ]
    }
   ],
   "source": [
    "classes = get_classes(d) #sorts of object\n",
    "print(\"\\nSorts/Classes\")\n",
    "print(classes)\n",
    "\n",
    "class_names = get_class_names(classes)\n",
    "print(\"\\nExtracted class names\")\n",
    "print(class_names)"
   ]
  },
  {
   "cell_type": "markdown",
   "metadata": {},
   "source": [
    "## User Input 1: Enter Correct Class names\n",
    "Editing the extracted class names to more readable object classes will make the final PDDL model more readable."
   ]
  },
  {
   "cell_type": "code",
   "execution_count": 131,
   "metadata": {
    "lines_to_next_cell": 2
   },
   "outputs": [
    {
     "name": "stdout",
     "output_type": "stream",
     "text": [
      "\n",
      "Renamed class names\n",
      "['Driver', 'Truck', 'Package', 'Location']\n"
     ]
    }
   ],
   "source": [
    "############ (Optional) User Input ############\n",
    "# Give user an option to change class names.\n",
    "# class_names[0] = 'rocket'\n",
    "\n",
    "class_names[0] = 'Driver'\n",
    "class_names[1] = 'Truck'\n",
    "class_names[2] = 'Package'\n",
    "class_names[3] = 'Location'\n",
    "\n",
    "print(\"\\nRenamed class names\")\n",
    "print(class_names)"
   ]
  },
  {
   "cell_type": "markdown",
   "metadata": {},
   "source": [
    " **Assumptions of LOCM2**\n",
    "- Each object of a same class undergoes similar kind of transition.\n",
    "- Objects of same class in a same action undergo similar kind of transition."
   ]
  },
  {
   "cell_type": "code",
   "execution_count": 132,
   "metadata": {},
   "outputs": [
    {
     "name": "stdout",
     "output_type": "stream",
     "text": [
      "\n",
      "Actions\n",
      "{'disembarktruck', 'drivetruck', 'unloadtruck', 'boardtruck', 'loadtruck', 'walk'}\n",
      "\n",
      "Transitions\n",
      "{'loadtruck.Package.#1', 'unloadtruck.Truck.#0', 'disembarktruck.Package.#1', 'loadtruck.Truck.#0', 'drivetruck.Driver.#3', 'drivetruck.Location.#2', 'walk.Driver.#0', 'drivetruck.Package.#0', 'unloadtruck.Package.#1', 'drivetruck.Location.#1', 'boardtruck.Driver.#0', 'disembarktruck.Location.#2', 'walk.Location.#1', 'unloadtruck.Location.#2', 'disembarktruck.Driver.#0', 'walk.Location.#2', 'boardtruck.Package.#1', 'boardtruck.Location.#2', 'loadtruck.Location.#2'}\n",
      "\n",
      "Arguments/Objects\n",
      "{'p1-0', 's4', 'package3', 'p1-2', 'p0-1', 's3', 'p3-4', 'driver1', 'p3-2', 's1', 's0', 'package1', 'truck1', 'package4', 'driver2', 's2', 'truck2', 's5', 'truck3', 'package2', 'package5'}\n"
     ]
    }
   ],
   "source": [
    "# change transitions to be more meaningful by incorporating class_names.\n",
    "full_transitions = set()\n",
    "for seq in sequences:\n",
    "    for actarg_tuple in seq:\n",
    "        actions.add(actarg_tuple[0])\n",
    "        for j, arg in enumerate(actarg_tuple[1]):\n",
    "            full_transitions.add(actarg_tuple[0]+\".\"+class_names[get_class_index(arg,classes)]+\".#\"+str(j))\n",
    "            arguments.add(arg)\n",
    "\n",
    "print(\"\\nActions\")\n",
    "print(actions)\n",
    "print(\"\\nTransitions\")\n",
    "print(full_transitions)\n",
    "print(\"\\nArguments/Objects\")\n",
    "print(arguments)"
   ]
  },
  {
   "cell_type": "code",
   "execution_count": 133,
   "metadata": {},
   "outputs": [
    {
     "name": "stdout",
     "output_type": "stream",
     "text": [
      "\n",
      "Number of Actions: 6,\n",
      "Number of unique transitions: 19,\n",
      "Number of unique objects (arguments): 21,\n",
      "Number of classes/sorts: 4\n"
     ]
    }
   ],
   "source": [
    "print(\"\\nNumber of Actions: {},\\nNumber of unique transitions: {},\\nNumber of unique objects (arguments): {},\\nNumber of classes/sorts: {}\".format(len(actions), len(transitions), len(arguments), len(classes)))"
   ]
  },
  {
   "cell_type": "markdown",
   "metadata": {},
   "source": [
    "## Building Transition graphs"
   ]
  },
  {
   "cell_type": "markdown",
   "metadata": {},
   "source": [
    "### Utils"
   ]
  },
  {
   "cell_type": "code",
   "execution_count": 146,
   "metadata": {
    "lines_to_next_cell": 0
   },
   "outputs": [],
   "source": [
    "def empty_directory(folder):\n",
    "    for the_file in os.listdir(folder):\n",
    "        file_path = os.path.join(folder, the_file)\n",
    "        try:\n",
    "            if os.path.isfile(file_path):\n",
    "                os.unlink(file_path)\n",
    "            # elif os.path.isdir(file_path): shutil.rmtree(file_path)\n",
    "        except Exception as e:\n",
    "            print(e)\n",
    "\n",
    "def findsubsets(S,m):\n",
    "    return set(itertools.combinations(S, m))\n",
    "\n",
    "def print_table(matrix):\n",
    "    display(tabulate(matrix, headers='keys', tablefmt='html'))\n",
    "    \n",
    "def printmd(string):\n",
    "    display(Markdown(string))"
   ]
  },
  {
   "cell_type": "markdown",
   "metadata": {},
   "source": [
    "### Save graphs in graphml format (used in cytoscape)"
   ]
  },
  {
   "cell_type": "code",
   "execution_count": 143,
   "metadata": {},
   "outputs": [],
   "source": [
    "def save(graphs, domain_name):\n",
    "    adjacency_matrix_list = [] # list of adjacency matrices per class\n",
    "    \n",
    "    for index, G in enumerate(graphs):\n",
    "        nx.write_graphml(G, \"output/\"+ domain_name + \"/\" +  class_names[index] + \".graphml\")\n",
    "        df = nx.to_pandas_adjacency(G, nodelist=G.nodes(), dtype=int)\n",
    "        adjacency_matrix_list.append(df)\n",
    "    return adjacency_matrix_list"
   ]
  },
  {
   "cell_type": "code",
   "execution_count": 144,
   "metadata": {},
   "outputs": [],
   "source": [
    "def plot_cytographs(graphs, domain_name):\n",
    "    cytoscapeobs = []\n",
    "    for index, G in enumerate(graphs):\n",
    "        cytoscapeobj = CytoscapeWidget()\n",
    "        cytoscapeobj.graph.add_graph_from_networkx(G)\n",
    "        cytoscapeobs.append(cytoscapeobj)\n",
    "        printmd('## class **'+class_names[index]+'**')\n",
    "        print(\"Nodes:{}\".format(G.nodes()))\n",
    "        print(\"Edges:{}\".format(G.edges()))\n",
    "        cytoscapeobj.set_style([{\n",
    "                        'width':300,\n",
    "                        'height':300,\n",
    "            \n",
    "                        'selector': 'node',\n",
    "                        'style': {\n",
    "                            'label': 'data(id)',\n",
    "                            'font-family': 'helvetica',\n",
    "                            'font-size': '8px',\n",
    "                            'background-color': '#11479e',\n",
    "                            'height':'10px',\n",
    "                            'width':'10px',\n",
    "                            \n",
    "                            \n",
    "                            }\n",
    "    \n",
    "                        },\n",
    "                        {\n",
    "                        'selector': 'node:parent',\n",
    "                        'css': {\n",
    "                            'background-opacity': 0.333,\n",
    "                            'background-color': '#bbb'\n",
    "                            }\n",
    "                        },\n",
    "                        {\n",
    "                        'selector': '$node > node',\n",
    "                        'css': {\n",
    "                            'padding-top': '10px',\n",
    "                            'padding-left': '10px',\n",
    "                            'padding-bottom': '10px',\n",
    "                            'padding-right': '10px',\n",
    "                            'text-valign': 'top',\n",
    "                            'text-halign': 'center',\n",
    "                            'background-color': '#bbb'\n",
    "                          }\n",
    "                        },\n",
    "                       {\n",
    "                            'selector': 'edge',\n",
    "                            \n",
    "                            'style': {\n",
    "                                'label':'data(weight)',\n",
    "                                'width': 1,\n",
    "                                'line-color': '#9dbaea',\n",
    "                                'target-arrow-shape': 'triangle',\n",
    "                                'target-arrow-color': '#9dbaea',\n",
    "                                'arrow-scale': 0.5,\n",
    "                                'curve-style': 'bezier',\n",
    "                                'font-family': 'helvetica',\n",
    "                                'font-size': '8px',\n",
    "                                'text-valign': 'top',\n",
    "                                'text-halign':'center'\n",
    "                            }\n",
    "                        },\n",
    "                        ])\n",
    "        cytoscapeobj.max_zoom = 4.0\n",
    "        cytoscapeobj.min_zoom = 0.5\n",
    "        display(cytoscapeobj)\n",
    "    return cytoscapeobs"
   ]
  },
  {
   "cell_type": "markdown",
   "metadata": {},
   "source": [
    "#### Build transitions graphs and call save function"
   ]
  },
  {
   "cell_type": "code",
   "execution_count": 137,
   "metadata": {},
   "outputs": [],
   "source": [
    "def build_and_save_transition_graphs(classes, domain_name, class_names):\n",
    "    # There should be a graph for each class of objects.\n",
    "    graphs = []\n",
    "    # Initialize all graphs empty\n",
    "    for sort in classes:\n",
    "        graphs.append(nx.DiGraph())\n",
    "\n",
    "    consecutive_transition_lists = [] #list of consecutive transitions per object instance per sequence.\n",
    "\n",
    "    for m, arg in enumerate(arguments):  # for all arguments (objects found in sequences)\n",
    "        for n, seq in enumerate(sequences):  # for all sequences\n",
    "            consecutive_transition_list = list()  # consecutive transition list for a sequence and an object (arg)\n",
    "            for i, actarg_tuple in enumerate(seq):\n",
    "                for j, arg_prime in enumerate(actarg_tuple[1]):  # for all arguments in actarg tuples\n",
    "                    if arg == arg_prime:  # if argument matches arg\n",
    "                        node = actarg_tuple[0] + \".\" +  str(j)\n",
    "                        # node = actarg_tuple[0] +  \".\" + class_names[get_class_index(arg,classes)] + \".\" +  str(j)  # name the node of graph which represents a transition\n",
    "                        consecutive_transition_list.append(node)  # add node to the cons_transition for sequence and argument\n",
    "\n",
    "                        # for each class append the nodes to the graph of that class\n",
    "                        class_index = get_class_index(arg_prime, classes)  # get index of class to which the object belongs to\n",
    "                        graphs[class_index].add_node(node)  # add node to the graph of that class\n",
    "\n",
    "            consecutive_transition_lists.append([n, arg, consecutive_transition_list])\n",
    "\n",
    "    # print(consecutive_transition_lists)\n",
    "    # for all consecutive transitions add edges to the appropriate graphs.\n",
    "    for cons_trans_list in consecutive_transition_lists:\n",
    "        # print(cons_trans_list)\n",
    "        seq_no = cons_trans_list[0]  # get sequence number\n",
    "        arg = cons_trans_list[1]  # get argument\n",
    "        class_index = get_class_index(arg, classes)  # get index of class\n",
    "        # add directed edges to graph of that class\n",
    "        for i in range(0, len(cons_trans_list[2]) - 1):\n",
    "                if graphs[class_index].has_edge(cons_trans_list[2][i], cons_trans_list[2][i + 1]):\n",
    "                    graphs[class_index][cons_trans_list[2][i]][cons_trans_list[2][i + 1]]['weight'] += 1\n",
    "                else:\n",
    "                    graphs[class_index].add_edge(cons_trans_list[2][i], cons_trans_list[2][i + 1], weight=1)\n",
    "\n",
    "\n",
    "    \n",
    "    # make directory if doesn't exist\n",
    "    dirName = \"output/\"+ domain_name\n",
    "    if not os.path.exists(dirName):\n",
    "        os.makedirs(dirName)\n",
    "        print(\"Directory \", dirName, \" Created \")\n",
    "    else:\n",
    "        print(\"Directory \", dirName, \" already exists\")\n",
    "    empty_directory(dirName)\n",
    "\n",
    "    # save all the graphs\n",
    "    adjacency_matrix_list = save(graphs, domain_name) # list of adjacency matrices per class\n",
    "    \n",
    "    # plot cytoscape interactive graphs\n",
    "    cytoscapeobs = plot_cytographs(graphs,domain_name)\n",
    "    \n",
    "    return adjacency_matrix_list, graphs, cytoscapeobs"
   ]
  },
  {
   "cell_type": "markdown",
   "metadata": {},
   "source": [
    "##### Transition Graphs"
   ]
  },
  {
   "cell_type": "code",
   "execution_count": 138,
   "metadata": {
    "scrolled": false
   },
   "outputs": [
    {
     "data": {
      "text/markdown": [
       "## DRIVERLOG"
      ],
      "text/plain": [
       "<IPython.core.display.Markdown object>"
      ]
     },
     "metadata": {},
     "output_type": "display_data"
    },
    {
     "name": "stdout",
     "output_type": "stream",
     "text": [
      "Directory  output/driverlog  already exists\n"
     ]
    },
    {
     "data": {
      "text/markdown": [
       "## class **Driver**"
      ],
      "text/plain": [
       "<IPython.core.display.Markdown object>"
      ]
     },
     "metadata": {},
     "output_type": "display_data"
    },
    {
     "name": "stdout",
     "output_type": "stream",
     "text": [
      "Nodes:['walk.0', 'boardtruck.0', 'drivetruck.3', 'disembarktruck.0']\n",
      "Edges:[('walk.0', 'walk.0'), ('walk.0', 'boardtruck.0'), ('boardtruck.0', 'drivetruck.3'), ('boardtruck.0', 'disembarktruck.0'), ('drivetruck.3', 'disembarktruck.0'), ('drivetruck.3', 'drivetruck.3'), ('disembarktruck.0', 'boardtruck.0'), ('disembarktruck.0', 'walk.0')]\n"
     ]
    },
    {
     "data": {
      "application/vnd.jupyter.widget-view+json": {
       "model_id": "1ef0dc4c09474f46a83e0f88c0660ec7",
       "version_major": 2,
       "version_minor": 0
      },
      "text/plain": [
       "CytoscapeWidget(cytoscape_layout={'name': 'cola'}, cytoscape_style=[{'width': 300, 'height': 300, 'selector': …"
      ]
     },
     "metadata": {},
     "output_type": "display_data"
    },
    {
     "data": {
      "text/markdown": [
       "## class **Truck**"
      ],
      "text/plain": [
       "<IPython.core.display.Markdown object>"
      ]
     },
     "metadata": {},
     "output_type": "display_data"
    },
    {
     "name": "stdout",
     "output_type": "stream",
     "text": [
      "Nodes:['loadtruck.0', 'unloadtruck.0']\n",
      "Edges:[('loadtruck.0', 'unloadtruck.0'), ('unloadtruck.0', 'loadtruck.0')]\n"
     ]
    },
    {
     "data": {
      "application/vnd.jupyter.widget-view+json": {
       "model_id": "c88e2a51041c4bc6b484ff9460293b90",
       "version_major": 2,
       "version_minor": 0
      },
      "text/plain": [
       "CytoscapeWidget(cytoscape_layout={'name': 'cola'}, cytoscape_style=[{'width': 300, 'height': 300, 'selector': …"
      ]
     },
     "metadata": {},
     "output_type": "display_data"
    },
    {
     "data": {
      "text/markdown": [
       "## class **Package**"
      ],
      "text/plain": [
       "<IPython.core.display.Markdown object>"
      ]
     },
     "metadata": {},
     "output_type": "display_data"
    },
    {
     "name": "stdout",
     "output_type": "stream",
     "text": [
      "Nodes:['boardtruck.1', 'drivetruck.0', 'disembarktruck.1', 'loadtruck.1', 'unloadtruck.1']\n",
      "Edges:[('boardtruck.1', 'drivetruck.0'), ('boardtruck.1', 'loadtruck.1'), ('boardtruck.1', 'unloadtruck.1'), ('boardtruck.1', 'disembarktruck.1'), ('drivetruck.0', 'disembarktruck.1'), ('drivetruck.0', 'unloadtruck.1'), ('drivetruck.0', 'drivetruck.0'), ('drivetruck.0', 'loadtruck.1'), ('disembarktruck.1', 'unloadtruck.1'), ('disembarktruck.1', 'boardtruck.1'), ('disembarktruck.1', 'loadtruck.1'), ('loadtruck.1', 'drivetruck.0'), ('loadtruck.1', 'unloadtruck.1'), ('loadtruck.1', 'disembarktruck.1'), ('loadtruck.1', 'boardtruck.1'), ('unloadtruck.1', 'drivetruck.0'), ('unloadtruck.1', 'disembarktruck.1'), ('unloadtruck.1', 'boardtruck.1'), ('unloadtruck.1', 'loadtruck.1')]\n"
     ]
    },
    {
     "data": {
      "application/vnd.jupyter.widget-view+json": {
       "model_id": "f1573297464245c3b63ea2338f034ce3",
       "version_major": 2,
       "version_minor": 0
      },
      "text/plain": [
       "CytoscapeWidget(cytoscape_layout={'name': 'cola'}, cytoscape_style=[{'width': 300, 'height': 300, 'selector': …"
      ]
     },
     "metadata": {},
     "output_type": "display_data"
    },
    {
     "data": {
      "text/markdown": [
       "## class **Location**"
      ],
      "text/plain": [
       "<IPython.core.display.Markdown object>"
      ]
     },
     "metadata": {},
     "output_type": "display_data"
    },
    {
     "name": "stdout",
     "output_type": "stream",
     "text": [
      "Nodes:['walk.2', 'walk.1', 'boardtruck.2', 'loadtruck.2', 'drivetruck.1', 'drivetruck.2', 'disembarktruck.2', 'unloadtruck.2']\n",
      "Edges:[('walk.2', 'walk.1'), ('walk.2', 'drivetruck.2'), ('walk.2', 'boardtruck.2'), ('walk.1', 'drivetruck.2'), ('walk.1', 'walk.2'), ('boardtruck.2', 'loadtruck.2'), ('boardtruck.2', 'drivetruck.1'), ('boardtruck.2', 'unloadtruck.2'), ('boardtruck.2', 'disembarktruck.2'), ('loadtruck.2', 'drivetruck.1'), ('loadtruck.2', 'disembarktruck.2'), ('loadtruck.2', 'boardtruck.2'), ('loadtruck.2', 'unloadtruck.2'), ('drivetruck.1', 'drivetruck.2'), ('drivetruck.1', 'walk.2'), ('drivetruck.1', 'boardtruck.2'), ('drivetruck.2', 'drivetruck.1'), ('drivetruck.2', 'loadtruck.2'), ('drivetruck.2', 'disembarktruck.2'), ('drivetruck.2', 'unloadtruck.2'), ('disembarktruck.2', 'boardtruck.2'), ('disembarktruck.2', 'loadtruck.2'), ('disembarktruck.2', 'walk.1'), ('disembarktruck.2', 'unloadtruck.2'), ('disembarktruck.2', 'drivetruck.2'), ('unloadtruck.2', 'disembarktruck.2'), ('unloadtruck.2', 'boardtruck.2'), ('unloadtruck.2', 'loadtruck.2'), ('unloadtruck.2', 'drivetruck.1')]\n"
     ]
    },
    {
     "data": {
      "application/vnd.jupyter.widget-view+json": {
       "model_id": "853c6af4662249bf8552d96035d26c2e",
       "version_major": 2,
       "version_minor": 0
      },
      "text/plain": [
       "CytoscapeWidget(cytoscape_layout={'name': 'cola'}, cytoscape_style=[{'width': 300, 'height': 300, 'selector': …"
      ]
     },
     "metadata": {},
     "output_type": "display_data"
    }
   ],
   "source": [
    "#### Build weighted directed graphs for transitions.\n",
    "printmd(\"## \"+ domain_name.upper())\n",
    "adjacency_matrix_list, graphs, cytoscapeobjs = build_and_save_transition_graphs(classes, domain_name, class_names)"
   ]
  },
  {
   "cell_type": "markdown",
   "metadata": {},
   "source": [
    "## User Input 2: Edit transition graphs\n",
    "For meaningful LOCM models, here one can edit the transition graphs to make them accurate. However, in the paper we don't do that in order to estimate what kind of models are learned automatically from natural language data."
   ]
  },
  {
   "cell_type": "markdown",
   "metadata": {},
   "source": [
    "Option 1. **You can add or delete nodes/edges in transition graphs by following methods like add_node, delete_edges shown in the following library.**\n",
    "https://github.com/QuantStack/ipycytoscape/blob/master/ipycytoscape/cytoscape.py\n",
    "\n",
    "Option 2. **Alternatively you can use the saved .graphml file. Open it up in Cytoscape, edit it within the GUI and load that graph into the graphs list.**"
   ]
  },
  {
   "cell_type": "markdown",
   "metadata": {},
   "source": [
    "## Step 2: Get Transition Sets from LOCM2\n",
    "\n",
    "**Algorithm**: LOCM2\n",
    "\n",
    "**Input** : \n",
    "- T_all = set of observed transitions for a sort/class\n",
    "- H : Set of holes - each hole is a set of two transitions.\n",
    "- P : Set of pairs <t1,t2> i.e. consecutive transitions.\n",
    "- E : Set of example sequences of actions.\n",
    "\n",
    "**Output**:\n",
    "- S : Set of transition sets.\n",
    "### Finding holes\n",
    "Holes are transitions that LOCM1 will assume to be true due to the flaw of overgeneralizing"
   ]
  },
  {
   "cell_type": "code",
   "execution_count": 139,
   "metadata": {},
   "outputs": [],
   "source": [
    "def get_adjacency_matrix_with_holes(adjacency_matrix_list):\n",
    "    adjacency_matrix_list_with_holes = []\n",
    "    for index,adjacency_matrix in enumerate(adjacency_matrix_list):\n",
    "        # print(\"\\n ROWS ===========\")\n",
    "        df = adjacency_matrix.copy()\n",
    "        df1 = adjacency_matrix.copy()\n",
    "\n",
    "        # for particular adjacency matrix's copy, loop over all pairs of rows\n",
    "        for i in range(df.shape[0] - 1):\n",
    "            for j in range(i+1, df.shape[0]):\n",
    "                idx1, idx2 = i, j\n",
    "                row1, row2 = df.iloc[idx1,:], df.iloc[idx2, :] #we have now all pairs of rows\n",
    "\n",
    "                common_values_flag = False #for each two rows we have a common_values_flag\n",
    "\n",
    "                # if there is a common value between two rows, turn common value flag to true\n",
    "                for col in range(row1.shape[0]):\n",
    "                    if row1.iloc[col] > 0 and row2.iloc[col] > 0:\n",
    "                        common_values_flag = True\n",
    "                        break\n",
    "\n",
    "                # now if two rows have common values, we need to check for holes.\n",
    "                if common_values_flag:\n",
    "                    for col in range(row1.shape[0]):\n",
    "                        if row1.iloc[col] > 0 and row2.iloc[col] == 0:\n",
    "                            df1.iloc[idx2,col] = 'hole'\n",
    "                        elif row1.iloc[col] == 0 and row2.iloc[col] > 0:\n",
    "                            df1.iloc[idx1, col] = 'hole'\n",
    "\n",
    "        adjacency_matrix_list_with_holes.append(df1)\n",
    "    return adjacency_matrix_list_with_holes"
   ]
  },
  {
   "cell_type": "code",
   "execution_count": 149,
   "metadata": {
    "lines_to_next_cell": 2,
    "scrolled": false
   },
   "outputs": [
    {
     "data": {
      "text/markdown": [
       "\n",
       "#### Driver"
      ],
      "text/plain": [
       "<IPython.core.display.Markdown object>"
      ]
     },
     "metadata": {},
     "output_type": "display_data"
    },
    {
     "data": {
      "text/html": [
       "<table>\n",
       "<thead>\n",
       "<tr><th>                </th><th style=\"text-align: right;\">  walk.0</th><th style=\"text-align: right;\">  boardtruck.0</th><th style=\"text-align: right;\">  drivetruck.3</th><th style=\"text-align: right;\">  disembarktruck.0</th></tr>\n",
       "</thead>\n",
       "<tbody>\n",
       "<tr><td>walk.0          </td><td style=\"text-align: right;\">      10</td><td style=\"text-align: right;\">             4</td><td style=\"text-align: right;\">             0</td><td style=\"text-align: right;\">                 0</td></tr>\n",
       "<tr><td>boardtruck.0    </td><td style=\"text-align: right;\">       0</td><td style=\"text-align: right;\">             0</td><td style=\"text-align: right;\">            11</td><td style=\"text-align: right;\">                 2</td></tr>\n",
       "<tr><td>drivetruck.3    </td><td style=\"text-align: right;\">       0</td><td style=\"text-align: right;\">             0</td><td style=\"text-align: right;\">            20</td><td style=\"text-align: right;\">                11</td></tr>\n",
       "<tr><td>disembarktruck.0</td><td style=\"text-align: right;\">       2</td><td style=\"text-align: right;\">             6</td><td style=\"text-align: right;\">             0</td><td style=\"text-align: right;\">                 0</td></tr>\n",
       "</tbody>\n",
       "</table>"
      ],
      "text/plain": [
       "'<table>\\n<thead>\\n<tr><th>                </th><th style=\"text-align: right;\">  walk.0</th><th style=\"text-align: right;\">  boardtruck.0</th><th style=\"text-align: right;\">  drivetruck.3</th><th style=\"text-align: right;\">  disembarktruck.0</th></tr>\\n</thead>\\n<tbody>\\n<tr><td>walk.0          </td><td style=\"text-align: right;\">      10</td><td style=\"text-align: right;\">             4</td><td style=\"text-align: right;\">             0</td><td style=\"text-align: right;\">                 0</td></tr>\\n<tr><td>boardtruck.0    </td><td style=\"text-align: right;\">       0</td><td style=\"text-align: right;\">             0</td><td style=\"text-align: right;\">            11</td><td style=\"text-align: right;\">                 2</td></tr>\\n<tr><td>drivetruck.3    </td><td style=\"text-align: right;\">       0</td><td style=\"text-align: right;\">             0</td><td style=\"text-align: right;\">            20</td><td style=\"text-align: right;\">                11</td></tr>\\n<tr><td>disembarktruck.0</td><td style=\"text-align: right;\">       2</td><td style=\"text-align: right;\">             6</td><td style=\"text-align: right;\">             0</td><td style=\"text-align: right;\">                 0</td></tr>\\n</tbody>\\n</table>'"
      ]
     },
     "metadata": {},
     "output_type": "display_data"
    },
    {
     "data": {
      "text/markdown": [
       "\n",
       "#### HOLES: Driver"
      ],
      "text/plain": [
       "<IPython.core.display.Markdown object>"
      ]
     },
     "metadata": {},
     "output_type": "display_data"
    },
    {
     "data": {
      "text/html": [
       "<table>\n",
       "<thead>\n",
       "<tr><th>                </th><th style=\"text-align: right;\">  walk.0</th><th style=\"text-align: right;\">  boardtruck.0</th><th style=\"text-align: right;\">  drivetruck.3</th><th style=\"text-align: right;\">  disembarktruck.0</th></tr>\n",
       "</thead>\n",
       "<tbody>\n",
       "<tr><td>walk.0          </td><td style=\"text-align: right;\">      10</td><td style=\"text-align: right;\">             4</td><td style=\"text-align: right;\">             0</td><td style=\"text-align: right;\">                 0</td></tr>\n",
       "<tr><td>boardtruck.0    </td><td style=\"text-align: right;\">       0</td><td style=\"text-align: right;\">             0</td><td style=\"text-align: right;\">            11</td><td style=\"text-align: right;\">                 2</td></tr>\n",
       "<tr><td>drivetruck.3    </td><td style=\"text-align: right;\">       0</td><td style=\"text-align: right;\">             0</td><td style=\"text-align: right;\">            20</td><td style=\"text-align: right;\">                11</td></tr>\n",
       "<tr><td>disembarktruck.0</td><td style=\"text-align: right;\">       2</td><td style=\"text-align: right;\">             6</td><td style=\"text-align: right;\">             0</td><td style=\"text-align: right;\">                 0</td></tr>\n",
       "</tbody>\n",
       "</table>"
      ],
      "text/plain": [
       "'<table>\\n<thead>\\n<tr><th>                </th><th style=\"text-align: right;\">  walk.0</th><th style=\"text-align: right;\">  boardtruck.0</th><th style=\"text-align: right;\">  drivetruck.3</th><th style=\"text-align: right;\">  disembarktruck.0</th></tr>\\n</thead>\\n<tbody>\\n<tr><td>walk.0          </td><td style=\"text-align: right;\">      10</td><td style=\"text-align: right;\">             4</td><td style=\"text-align: right;\">             0</td><td style=\"text-align: right;\">                 0</td></tr>\\n<tr><td>boardtruck.0    </td><td style=\"text-align: right;\">       0</td><td style=\"text-align: right;\">             0</td><td style=\"text-align: right;\">            11</td><td style=\"text-align: right;\">                 2</td></tr>\\n<tr><td>drivetruck.3    </td><td style=\"text-align: right;\">       0</td><td style=\"text-align: right;\">             0</td><td style=\"text-align: right;\">            20</td><td style=\"text-align: right;\">                11</td></tr>\\n<tr><td>disembarktruck.0</td><td style=\"text-align: right;\">       2</td><td style=\"text-align: right;\">             6</td><td style=\"text-align: right;\">             0</td><td style=\"text-align: right;\">                 0</td></tr>\\n</tbody>\\n</table>'"
      ]
     },
     "metadata": {},
     "output_type": "display_data"
    },
    {
     "data": {
      "text/markdown": [
       "\n",
       "#### Truck"
      ],
      "text/plain": [
       "<IPython.core.display.Markdown object>"
      ]
     },
     "metadata": {},
     "output_type": "display_data"
    },
    {
     "data": {
      "text/html": [
       "<table>\n",
       "<thead>\n",
       "<tr><th>             </th><th style=\"text-align: right;\">  loadtruck.0</th><th style=\"text-align: right;\">  unloadtruck.0</th></tr>\n",
       "</thead>\n",
       "<tbody>\n",
       "<tr><td>loadtruck.0  </td><td style=\"text-align: right;\">            0</td><td style=\"text-align: right;\">              9</td></tr>\n",
       "<tr><td>unloadtruck.0</td><td style=\"text-align: right;\">            2</td><td style=\"text-align: right;\">              0</td></tr>\n",
       "</tbody>\n",
       "</table>"
      ],
      "text/plain": [
       "'<table>\\n<thead>\\n<tr><th>             </th><th style=\"text-align: right;\">  loadtruck.0</th><th style=\"text-align: right;\">  unloadtruck.0</th></tr>\\n</thead>\\n<tbody>\\n<tr><td>loadtruck.0  </td><td style=\"text-align: right;\">            0</td><td style=\"text-align: right;\">              9</td></tr>\\n<tr><td>unloadtruck.0</td><td style=\"text-align: right;\">            2</td><td style=\"text-align: right;\">              0</td></tr>\\n</tbody>\\n</table>'"
      ]
     },
     "metadata": {},
     "output_type": "display_data"
    },
    {
     "data": {
      "text/markdown": [
       "\n",
       "#### HOLES: Truck"
      ],
      "text/plain": [
       "<IPython.core.display.Markdown object>"
      ]
     },
     "metadata": {},
     "output_type": "display_data"
    },
    {
     "data": {
      "text/html": [
       "<table>\n",
       "<thead>\n",
       "<tr><th>             </th><th style=\"text-align: right;\">  loadtruck.0</th><th style=\"text-align: right;\">  unloadtruck.0</th></tr>\n",
       "</thead>\n",
       "<tbody>\n",
       "<tr><td>loadtruck.0  </td><td style=\"text-align: right;\">            0</td><td style=\"text-align: right;\">              9</td></tr>\n",
       "<tr><td>unloadtruck.0</td><td style=\"text-align: right;\">            2</td><td style=\"text-align: right;\">              0</td></tr>\n",
       "</tbody>\n",
       "</table>"
      ],
      "text/plain": [
       "'<table>\\n<thead>\\n<tr><th>             </th><th style=\"text-align: right;\">  loadtruck.0</th><th style=\"text-align: right;\">  unloadtruck.0</th></tr>\\n</thead>\\n<tbody>\\n<tr><td>loadtruck.0  </td><td style=\"text-align: right;\">            0</td><td style=\"text-align: right;\">              9</td></tr>\\n<tr><td>unloadtruck.0</td><td style=\"text-align: right;\">            2</td><td style=\"text-align: right;\">              0</td></tr>\\n</tbody>\\n</table>'"
      ]
     },
     "metadata": {},
     "output_type": "display_data"
    },
    {
     "data": {
      "text/markdown": [
       "\n",
       "#### Package"
      ],
      "text/plain": [
       "<IPython.core.display.Markdown object>"
      ]
     },
     "metadata": {},
     "output_type": "display_data"
    },
    {
     "data": {
      "text/html": [
       "<table>\n",
       "<thead>\n",
       "<tr><th>                </th><th style=\"text-align: right;\">  boardtruck.1</th><th style=\"text-align: right;\">  drivetruck.0</th><th style=\"text-align: right;\">  disembarktruck.1</th><th style=\"text-align: right;\">  loadtruck.1</th><th style=\"text-align: right;\">  unloadtruck.1</th></tr>\n",
       "</thead>\n",
       "<tbody>\n",
       "<tr><td>boardtruck.1    </td><td style=\"text-align: right;\">             0</td><td style=\"text-align: right;\">             7</td><td style=\"text-align: right;\">                 1</td><td style=\"text-align: right;\">            5</td><td style=\"text-align: right;\">              1</td></tr>\n",
       "<tr><td>drivetruck.0    </td><td style=\"text-align: right;\">             0</td><td style=\"text-align: right;\">            10</td><td style=\"text-align: right;\">                 9</td><td style=\"text-align: right;\">            5</td><td style=\"text-align: right;\">              7</td></tr>\n",
       "<tr><td>disembarktruck.1</td><td style=\"text-align: right;\">             5</td><td style=\"text-align: right;\">             0</td><td style=\"text-align: right;\">                 0</td><td style=\"text-align: right;\">            1</td><td style=\"text-align: right;\">              1</td></tr>\n",
       "<tr><td>loadtruck.1     </td><td style=\"text-align: right;\">             1</td><td style=\"text-align: right;\">             8</td><td style=\"text-align: right;\">                 1</td><td style=\"text-align: right;\">            0</td><td style=\"text-align: right;\">              1</td></tr>\n",
       "<tr><td>unloadtruck.1   </td><td style=\"text-align: right;\">             1</td><td style=\"text-align: right;\">             6</td><td style=\"text-align: right;\">                 3</td><td style=\"text-align: right;\">            1</td><td style=\"text-align: right;\">              0</td></tr>\n",
       "</tbody>\n",
       "</table>"
      ],
      "text/plain": [
       "'<table>\\n<thead>\\n<tr><th>                </th><th style=\"text-align: right;\">  boardtruck.1</th><th style=\"text-align: right;\">  drivetruck.0</th><th style=\"text-align: right;\">  disembarktruck.1</th><th style=\"text-align: right;\">  loadtruck.1</th><th style=\"text-align: right;\">  unloadtruck.1</th></tr>\\n</thead>\\n<tbody>\\n<tr><td>boardtruck.1    </td><td style=\"text-align: right;\">             0</td><td style=\"text-align: right;\">             7</td><td style=\"text-align: right;\">                 1</td><td style=\"text-align: right;\">            5</td><td style=\"text-align: right;\">              1</td></tr>\\n<tr><td>drivetruck.0    </td><td style=\"text-align: right;\">             0</td><td style=\"text-align: right;\">            10</td><td style=\"text-align: right;\">                 9</td><td style=\"text-align: right;\">            5</td><td style=\"text-align: right;\">              7</td></tr>\\n<tr><td>disembarktruck.1</td><td style=\"text-align: right;\">             5</td><td style=\"text-align: right;\">             0</td><td style=\"text-align: right;\">                 0</td><td style=\"text-align: right;\">            1</td><td style=\"text-align: right;\">              1</td></tr>\\n<tr><td>loadtruck.1     </td><td style=\"text-align: right;\">             1</td><td style=\"text-align: right;\">             8</td><td style=\"text-align: right;\">                 1</td><td style=\"text-align: right;\">            0</td><td style=\"text-align: right;\">              1</td></tr>\\n<tr><td>unloadtruck.1   </td><td style=\"text-align: right;\">             1</td><td style=\"text-align: right;\">             6</td><td style=\"text-align: right;\">                 3</td><td style=\"text-align: right;\">            1</td><td style=\"text-align: right;\">              0</td></tr>\\n</tbody>\\n</table>'"
      ]
     },
     "metadata": {},
     "output_type": "display_data"
    },
    {
     "data": {
      "text/markdown": [
       "\n",
       "#### HOLES: Package"
      ],
      "text/plain": [
       "<IPython.core.display.Markdown object>"
      ]
     },
     "metadata": {},
     "output_type": "display_data"
    },
    {
     "data": {
      "text/html": [
       "<table>\n",
       "<thead>\n",
       "<tr><th>                </th><th>boardtruck.1  </th><th>drivetruck.0  </th><th>disembarktruck.1  </th><th>loadtruck.1  </th><th>unloadtruck.1  </th></tr>\n",
       "</thead>\n",
       "<tbody>\n",
       "<tr><td>boardtruck.1    </td><td>hole          </td><td>7             </td><td>1                 </td><td>5            </td><td>1              </td></tr>\n",
       "<tr><td>drivetruck.0    </td><td>hole          </td><td>10            </td><td>9                 </td><td>5            </td><td>7              </td></tr>\n",
       "<tr><td>disembarktruck.1</td><td>5             </td><td>hole          </td><td>hole              </td><td>1            </td><td>1              </td></tr>\n",
       "<tr><td>loadtruck.1     </td><td>1             </td><td>8             </td><td>1                 </td><td>hole         </td><td>1              </td></tr>\n",
       "<tr><td>unloadtruck.1   </td><td>1             </td><td>6             </td><td>3                 </td><td>1            </td><td>hole           </td></tr>\n",
       "</tbody>\n",
       "</table>"
      ],
      "text/plain": [
       "'<table>\\n<thead>\\n<tr><th>                </th><th>boardtruck.1  </th><th>drivetruck.0  </th><th>disembarktruck.1  </th><th>loadtruck.1  </th><th>unloadtruck.1  </th></tr>\\n</thead>\\n<tbody>\\n<tr><td>boardtruck.1    </td><td>hole          </td><td>7             </td><td>1                 </td><td>5            </td><td>1              </td></tr>\\n<tr><td>drivetruck.0    </td><td>hole          </td><td>10            </td><td>9                 </td><td>5            </td><td>7              </td></tr>\\n<tr><td>disembarktruck.1</td><td>5             </td><td>hole          </td><td>hole              </td><td>1            </td><td>1              </td></tr>\\n<tr><td>loadtruck.1     </td><td>1             </td><td>8             </td><td>1                 </td><td>hole         </td><td>1              </td></tr>\\n<tr><td>unloadtruck.1   </td><td>1             </td><td>6             </td><td>3                 </td><td>1            </td><td>hole           </td></tr>\\n</tbody>\\n</table>'"
      ]
     },
     "metadata": {},
     "output_type": "display_data"
    },
    {
     "data": {
      "text/markdown": [
       "\n",
       "#### Location"
      ],
      "text/plain": [
       "<IPython.core.display.Markdown object>"
      ]
     },
     "metadata": {},
     "output_type": "display_data"
    },
    {
     "data": {
      "text/html": [
       "<table>\n",
       "<thead>\n",
       "<tr><th>                </th><th style=\"text-align: right;\">  walk.2</th><th style=\"text-align: right;\">  walk.1</th><th style=\"text-align: right;\">  boardtruck.2</th><th style=\"text-align: right;\">  loadtruck.2</th><th style=\"text-align: right;\">  drivetruck.1</th><th style=\"text-align: right;\">  drivetruck.2</th><th style=\"text-align: right;\">  disembarktruck.2</th><th style=\"text-align: right;\">  unloadtruck.2</th></tr>\n",
       "</thead>\n",
       "<tbody>\n",
       "<tr><td>walk.2          </td><td style=\"text-align: right;\">       0</td><td style=\"text-align: right;\">      10</td><td style=\"text-align: right;\">             4</td><td style=\"text-align: right;\">            0</td><td style=\"text-align: right;\">             0</td><td style=\"text-align: right;\">             1</td><td style=\"text-align: right;\">                 0</td><td style=\"text-align: right;\">              0</td></tr>\n",
       "<tr><td>walk.1          </td><td style=\"text-align: right;\">       1</td><td style=\"text-align: right;\">       0</td><td style=\"text-align: right;\">             0</td><td style=\"text-align: right;\">            0</td><td style=\"text-align: right;\">             0</td><td style=\"text-align: right;\">             5</td><td style=\"text-align: right;\">                 0</td><td style=\"text-align: right;\">              0</td></tr>\n",
       "<tr><td>boardtruck.2    </td><td style=\"text-align: right;\">       0</td><td style=\"text-align: right;\">       0</td><td style=\"text-align: right;\">             0</td><td style=\"text-align: right;\">            5</td><td style=\"text-align: right;\">             7</td><td style=\"text-align: right;\">             0</td><td style=\"text-align: right;\">                 1</td><td style=\"text-align: right;\">              1</td></tr>\n",
       "<tr><td>loadtruck.2     </td><td style=\"text-align: right;\">       0</td><td style=\"text-align: right;\">       0</td><td style=\"text-align: right;\">             1</td><td style=\"text-align: right;\">            0</td><td style=\"text-align: right;\">             8</td><td style=\"text-align: right;\">             0</td><td style=\"text-align: right;\">                 1</td><td style=\"text-align: right;\">              1</td></tr>\n",
       "<tr><td>drivetruck.1    </td><td style=\"text-align: right;\">       2</td><td style=\"text-align: right;\">       0</td><td style=\"text-align: right;\">             1</td><td style=\"text-align: right;\">            0</td><td style=\"text-align: right;\">             0</td><td style=\"text-align: right;\">            20</td><td style=\"text-align: right;\">                 0</td><td style=\"text-align: right;\">              0</td></tr>\n",
       "<tr><td>drivetruck.2    </td><td style=\"text-align: right;\">       0</td><td style=\"text-align: right;\">       0</td><td style=\"text-align: right;\">             0</td><td style=\"text-align: right;\">            5</td><td style=\"text-align: right;\">            10</td><td style=\"text-align: right;\">             0</td><td style=\"text-align: right;\">                 9</td><td style=\"text-align: right;\">              7</td></tr>\n",
       "<tr><td>disembarktruck.2</td><td style=\"text-align: right;\">       0</td><td style=\"text-align: right;\">       2</td><td style=\"text-align: right;\">             4</td><td style=\"text-align: right;\">            1</td><td style=\"text-align: right;\">             0</td><td style=\"text-align: right;\">             1</td><td style=\"text-align: right;\">                 0</td><td style=\"text-align: right;\">              1</td></tr>\n",
       "<tr><td>unloadtruck.2   </td><td style=\"text-align: right;\">       0</td><td style=\"text-align: right;\">       0</td><td style=\"text-align: right;\">             1</td><td style=\"text-align: right;\">            1</td><td style=\"text-align: right;\">             6</td><td style=\"text-align: right;\">             0</td><td style=\"text-align: right;\">                 3</td><td style=\"text-align: right;\">              0</td></tr>\n",
       "</tbody>\n",
       "</table>"
      ],
      "text/plain": [
       "'<table>\\n<thead>\\n<tr><th>                </th><th style=\"text-align: right;\">  walk.2</th><th style=\"text-align: right;\">  walk.1</th><th style=\"text-align: right;\">  boardtruck.2</th><th style=\"text-align: right;\">  loadtruck.2</th><th style=\"text-align: right;\">  drivetruck.1</th><th style=\"text-align: right;\">  drivetruck.2</th><th style=\"text-align: right;\">  disembarktruck.2</th><th style=\"text-align: right;\">  unloadtruck.2</th></tr>\\n</thead>\\n<tbody>\\n<tr><td>walk.2          </td><td style=\"text-align: right;\">       0</td><td style=\"text-align: right;\">      10</td><td style=\"text-align: right;\">             4</td><td style=\"text-align: right;\">            0</td><td style=\"text-align: right;\">             0</td><td style=\"text-align: right;\">             1</td><td style=\"text-align: right;\">                 0</td><td style=\"text-align: right;\">              0</td></tr>\\n<tr><td>walk.1          </td><td style=\"text-align: right;\">       1</td><td style=\"text-align: right;\">       0</td><td style=\"text-align: right;\">             0</td><td style=\"text-align: right;\">            0</td><td style=\"text-align: right;\">             0</td><td style=\"text-align: right;\">             5</td><td style=\"text-align: right;\">                 0</td><td style=\"text-align: right;\">              0</td></tr>\\n<tr><td>boardtruck.2    </td><td style=\"text-align: right;\">       0</td><td style=\"text-align: right;\">       0</td><td style=\"text-align: right;\">             0</td><td style=\"text-align: right;\">            5</td><td style=\"text-align: right;\">             7</td><td style=\"text-align: right;\">             0</td><td style=\"text-align: right;\">                 1</td><td style=\"text-align: right;\">              1</td></tr>\\n<tr><td>loadtruck.2     </td><td style=\"text-align: right;\">       0</td><td style=\"text-align: right;\">       0</td><td style=\"text-align: right;\">             1</td><td style=\"text-align: right;\">            0</td><td style=\"text-align: right;\">             8</td><td style=\"text-align: right;\">             0</td><td style=\"text-align: right;\">                 1</td><td style=\"text-align: right;\">              1</td></tr>\\n<tr><td>drivetruck.1    </td><td style=\"text-align: right;\">       2</td><td style=\"text-align: right;\">       0</td><td style=\"text-align: right;\">             1</td><td style=\"text-align: right;\">            0</td><td style=\"text-align: right;\">             0</td><td style=\"text-align: right;\">            20</td><td style=\"text-align: right;\">                 0</td><td style=\"text-align: right;\">              0</td></tr>\\n<tr><td>drivetruck.2    </td><td style=\"text-align: right;\">       0</td><td style=\"text-align: right;\">       0</td><td style=\"text-align: right;\">             0</td><td style=\"text-align: right;\">            5</td><td style=\"text-align: right;\">            10</td><td style=\"text-align: right;\">             0</td><td style=\"text-align: right;\">                 9</td><td style=\"text-align: right;\">              7</td></tr>\\n<tr><td>disembarktruck.2</td><td style=\"text-align: right;\">       0</td><td style=\"text-align: right;\">       2</td><td style=\"text-align: right;\">             4</td><td style=\"text-align: right;\">            1</td><td style=\"text-align: right;\">             0</td><td style=\"text-align: right;\">             1</td><td style=\"text-align: right;\">                 0</td><td style=\"text-align: right;\">              1</td></tr>\\n<tr><td>unloadtruck.2   </td><td style=\"text-align: right;\">       0</td><td style=\"text-align: right;\">       0</td><td style=\"text-align: right;\">             1</td><td style=\"text-align: right;\">            1</td><td style=\"text-align: right;\">             6</td><td style=\"text-align: right;\">             0</td><td style=\"text-align: right;\">                 3</td><td style=\"text-align: right;\">              0</td></tr>\\n</tbody>\\n</table>'"
      ]
     },
     "metadata": {},
     "output_type": "display_data"
    },
    {
     "data": {
      "text/markdown": [
       "\n",
       "#### HOLES: Location"
      ],
      "text/plain": [
       "<IPython.core.display.Markdown object>"
      ]
     },
     "metadata": {},
     "output_type": "display_data"
    },
    {
     "data": {
      "text/html": [
       "<table>\n",
       "<thead>\n",
       "<tr><th>                </th><th>walk.2  </th><th>walk.1  </th><th>boardtruck.2  </th><th>loadtruck.2  </th><th>drivetruck.1  </th><th>drivetruck.2  </th><th>disembarktruck.2  </th><th>unloadtruck.2  </th></tr>\n",
       "</thead>\n",
       "<tbody>\n",
       "<tr><td>walk.2          </td><td>hole    </td><td>10      </td><td>4             </td><td>hole         </td><td>hole          </td><td>1             </td><td>hole              </td><td>hole           </td></tr>\n",
       "<tr><td>walk.1          </td><td>1       </td><td>hole    </td><td>hole          </td><td>hole         </td><td>0             </td><td>5             </td><td>0                 </td><td>hole           </td></tr>\n",
       "<tr><td>boardtruck.2    </td><td>0       </td><td>hole    </td><td>hole          </td><td>5            </td><td>7             </td><td>hole          </td><td>1                 </td><td>1              </td></tr>\n",
       "<tr><td>loadtruck.2     </td><td>hole    </td><td>hole    </td><td>1             </td><td>hole         </td><td>8             </td><td>hole          </td><td>1                 </td><td>1              </td></tr>\n",
       "<tr><td>drivetruck.1    </td><td>2       </td><td>hole    </td><td>1             </td><td>hole         </td><td>hole          </td><td>20            </td><td>hole              </td><td>hole           </td></tr>\n",
       "<tr><td>drivetruck.2    </td><td>0       </td><td>hole    </td><td>hole          </td><td>5            </td><td>10            </td><td>hole          </td><td>9                 </td><td>7              </td></tr>\n",
       "<tr><td>disembarktruck.2</td><td>hole    </td><td>2       </td><td>4             </td><td>1            </td><td>hole          </td><td>1             </td><td>hole              </td><td>1              </td></tr>\n",
       "<tr><td>unloadtruck.2   </td><td>hole    </td><td>hole    </td><td>1             </td><td>1            </td><td>6             </td><td>hole          </td><td>3                 </td><td>hole           </td></tr>\n",
       "</tbody>\n",
       "</table>"
      ],
      "text/plain": [
       "'<table>\\n<thead>\\n<tr><th>                </th><th>walk.2  </th><th>walk.1  </th><th>boardtruck.2  </th><th>loadtruck.2  </th><th>drivetruck.1  </th><th>drivetruck.2  </th><th>disembarktruck.2  </th><th>unloadtruck.2  </th></tr>\\n</thead>\\n<tbody>\\n<tr><td>walk.2          </td><td>hole    </td><td>10      </td><td>4             </td><td>hole         </td><td>hole          </td><td>1             </td><td>hole              </td><td>hole           </td></tr>\\n<tr><td>walk.1          </td><td>1       </td><td>hole    </td><td>hole          </td><td>hole         </td><td>0             </td><td>5             </td><td>0                 </td><td>hole           </td></tr>\\n<tr><td>boardtruck.2    </td><td>0       </td><td>hole    </td><td>hole          </td><td>5            </td><td>7             </td><td>hole          </td><td>1                 </td><td>1              </td></tr>\\n<tr><td>loadtruck.2     </td><td>hole    </td><td>hole    </td><td>1             </td><td>hole         </td><td>8             </td><td>hole          </td><td>1                 </td><td>1              </td></tr>\\n<tr><td>drivetruck.1    </td><td>2       </td><td>hole    </td><td>1             </td><td>hole         </td><td>hole          </td><td>20            </td><td>hole              </td><td>hole           </td></tr>\\n<tr><td>drivetruck.2    </td><td>0       </td><td>hole    </td><td>hole          </td><td>5            </td><td>10            </td><td>hole          </td><td>9                 </td><td>7              </td></tr>\\n<tr><td>disembarktruck.2</td><td>hole    </td><td>2       </td><td>4             </td><td>1            </td><td>hole          </td><td>1             </td><td>hole              </td><td>1              </td></tr>\\n<tr><td>unloadtruck.2   </td><td>hole    </td><td>hole    </td><td>1             </td><td>1            </td><td>6             </td><td>hole          </td><td>3                 </td><td>hole           </td></tr>\\n</tbody>\\n</table>'"
      ]
     },
     "metadata": {},
     "output_type": "display_data"
    }
   ],
   "source": [
    "adjacency_matrix_list_with_holes = get_adjacency_matrix_with_holes(adjacency_matrix_list)\n",
    "\n",
    "# Printing FSM matrices with and without holes\n",
    "for index,adjacency_matrix in enumerate(adjacency_matrix_list):\n",
    "    printmd(\"\\n#### \" + class_names[index] )\n",
    "    print_table(adjacency_matrix)\n",
    "\n",
    "    printmd(\"\\n#### HOLES: \" + class_names[index])\n",
    "    print_table(adjacency_matrix_list_with_holes[index])"
   ]
  },
  {
   "cell_type": "code",
   "execution_count": 160,
   "metadata": {},
   "outputs": [
    {
     "name": "stdout",
     "output_type": "stream",
     "text": [
      "#holes in class Driver:0\n",
      "#holes in class Truck:0\n",
      "#holes in class Package:6\n",
      "#holes in class Location:23\n"
     ]
    }
   ],
   "source": [
    "# Create list of set of holes per class (H)\n",
    "holes_per_class = []\n",
    "\n",
    "for index,df in enumerate(adjacency_matrix_list_with_holes):\n",
    "    holes = set()\n",
    "    for i in range(df.shape[0]):\n",
    "        for j in range(df.shape[1]):\n",
    "            if df.iloc[i,j] == 'hole':\n",
    "                holes.add(frozenset({df.index[i] , df.columns[j]}))\n",
    "    holes_per_class.append(holes)\n",
    "for i, hole in enumerate(holes_per_class):\n",
    "    print(\"#holes in class \" + class_names[i]+\":\" + str(len(hole)))\n",
    "#     for h in hole:\n",
    "#         print(list(h))"
   ]
  },
  {
   "cell_type": "code",
   "execution_count": 172,
   "metadata": {},
   "outputs": [
    {
     "name": "stdout",
     "output_type": "stream",
     "text": [
      "Driver:['walk.0' 'boardtruck.0' 'drivetruck.3' 'disembarktruck.0']\n",
      "Truck:['loadtruck.0' 'unloadtruck.0']\n",
      "Package:['boardtruck.1' 'drivetruck.0' 'disembarktruck.1' 'loadtruck.1'\n",
      " 'unloadtruck.1']\n",
      "Location:['walk.2' 'walk.1' 'boardtruck.2' 'loadtruck.2' 'drivetruck.1'\n",
      " 'drivetruck.2' 'disembarktruck.2' 'unloadtruck.2']\n"
     ]
    }
   ],
   "source": [
    "# List of transitions per class (T_all). It is just a set of transitions that occur for a class.\n",
    "transitions_per_class = []\n",
    "for index, df in enumerate(adjacency_matrix_list_with_holes):\n",
    "    transitions_per_class.append(df.columns.values)\n",
    "for i, transition in enumerate(transitions_per_class):\n",
    "    print('{}:{}'.format(class_names[i], transition))"
   ]
  },
  {
   "cell_type": "code",
   "execution_count": 173,
   "metadata": {},
   "outputs": [],
   "source": [
    "def get_consecutive_transitions_per_class(adjacency_matrix_list_with_holes):\n",
    "    consecutive_transitions_per_class = []\n",
    "    for index, df in enumerate(adjacency_matrix_list_with_holes):\n",
    "        consecutive_transitions = set()  # for a class\n",
    "        for i in range(df.shape[0]):\n",
    "            for j in range(df.shape[1]):\n",
    "                if df.iloc[i, j] != 'hole':\n",
    "                    if df.iloc[i, j] > 0:\n",
    "#                         print(\"(\" + df.index[i] + \",\" + df.columns[j] + \")\")\n",
    "                        consecutive_transitions.add((df.index[i], df.columns[j]))\n",
    "        consecutive_transitions_per_class.append(consecutive_transitions)\n",
    "    return consecutive_transitions_per_class"
   ]
  },
  {
   "cell_type": "code",
   "execution_count": 174,
   "metadata": {},
   "outputs": [
    {
     "data": {
      "text/markdown": [
       "#### Driver:"
      ],
      "text/plain": [
       "<IPython.core.display.Markdown object>"
      ]
     },
     "metadata": {},
     "output_type": "display_data"
    },
    {
     "name": "stdout",
     "output_type": "stream",
     "text": [
      "('walk.0', 'walk.0')\n",
      "('boardtruck.0', 'drivetruck.3')\n",
      "('drivetruck.3', 'disembarktruck.0')\n",
      "('disembarktruck.0', 'walk.0')\n",
      "('drivetruck.3', 'drivetruck.3')\n",
      "('walk.0', 'boardtruck.0')\n",
      "('disembarktruck.0', 'boardtruck.0')\n",
      "('boardtruck.0', 'disembarktruck.0')\n",
      "\n"
     ]
    },
    {
     "data": {
      "text/markdown": [
       "#### Truck:"
      ],
      "text/plain": [
       "<IPython.core.display.Markdown object>"
      ]
     },
     "metadata": {},
     "output_type": "display_data"
    },
    {
     "name": "stdout",
     "output_type": "stream",
     "text": [
      "('loadtruck.0', 'unloadtruck.0')\n",
      "('unloadtruck.0', 'loadtruck.0')\n",
      "\n"
     ]
    },
    {
     "data": {
      "text/markdown": [
       "#### Package:"
      ],
      "text/plain": [
       "<IPython.core.display.Markdown object>"
      ]
     },
     "metadata": {},
     "output_type": "display_data"
    },
    {
     "name": "stdout",
     "output_type": "stream",
     "text": [
      "('drivetruck.0', 'disembarktruck.1')\n",
      "('boardtruck.1', 'disembarktruck.1')\n",
      "('boardtruck.1', 'drivetruck.0')\n",
      "('unloadtruck.1', 'drivetruck.0')\n",
      "('drivetruck.0', 'drivetruck.0')\n",
      "('disembarktruck.1', 'unloadtruck.1')\n",
      "('drivetruck.0', 'unloadtruck.1')\n",
      "('disembarktruck.1', 'loadtruck.1')\n",
      "('boardtruck.1', 'unloadtruck.1')\n",
      "('loadtruck.1', 'boardtruck.1')\n",
      "('disembarktruck.1', 'boardtruck.1')\n",
      "('unloadtruck.1', 'disembarktruck.1')\n",
      "('unloadtruck.1', 'loadtruck.1')\n",
      "('loadtruck.1', 'drivetruck.0')\n",
      "('boardtruck.1', 'loadtruck.1')\n",
      "('unloadtruck.1', 'boardtruck.1')\n",
      "('loadtruck.1', 'disembarktruck.1')\n",
      "('drivetruck.0', 'loadtruck.1')\n",
      "('loadtruck.1', 'unloadtruck.1')\n",
      "\n"
     ]
    },
    {
     "data": {
      "text/markdown": [
       "#### Location:"
      ],
      "text/plain": [
       "<IPython.core.display.Markdown object>"
      ]
     },
     "metadata": {},
     "output_type": "display_data"
    },
    {
     "name": "stdout",
     "output_type": "stream",
     "text": [
      "('walk.2', 'boardtruck.2')\n",
      "('boardtruck.2', 'disembarktruck.2')\n",
      "('boardtruck.2', 'drivetruck.1')\n",
      "('boardtruck.2', 'loadtruck.2')\n",
      "('loadtruck.2', 'disembarktruck.2')\n",
      "('unloadtruck.2', 'disembarktruck.2')\n",
      "('drivetruck.1', 'boardtruck.2')\n",
      "('unloadtruck.2', 'drivetruck.1')\n",
      "('disembarktruck.2', 'walk.1')\n",
      "('walk.1', 'drivetruck.2')\n",
      "('drivetruck.1', 'drivetruck.2')\n",
      "('drivetruck.2', 'drivetruck.1')\n",
      "('drivetruck.1', 'walk.2')\n",
      "('disembarktruck.2', 'boardtruck.2')\n",
      "('drivetruck.2', 'disembarktruck.2')\n",
      "('walk.2', 'drivetruck.2')\n",
      "('disembarktruck.2', 'drivetruck.2')\n",
      "('disembarktruck.2', 'loadtruck.2')\n",
      "('drivetruck.2', 'unloadtruck.2')\n",
      "('walk.1', 'walk.2')\n",
      "('unloadtruck.2', 'loadtruck.2')\n",
      "('walk.2', 'walk.1')\n",
      "('loadtruck.2', 'unloadtruck.2')\n",
      "('disembarktruck.2', 'unloadtruck.2')\n",
      "('boardtruck.2', 'unloadtruck.2')\n",
      "('unloadtruck.2', 'boardtruck.2')\n",
      "('loadtruck.2', 'boardtruck.2')\n",
      "('drivetruck.2', 'loadtruck.2')\n",
      "('loadtruck.2', 'drivetruck.1')\n",
      "\n"
     ]
    }
   ],
   "source": [
    "#  Create list of consecutive transitions per class (P). If value is not null, ordered pair i,j would be consecutive transitions per class\n",
    "consecutive_transitions_per_class = get_consecutive_transitions_per_class(adjacency_matrix_list_with_holes)\n",
    "for i, transition in enumerate(consecutive_transitions_per_class):\n",
    "    printmd(\"#### \"+class_names[i]+\":\")\n",
    "    for x in list(transition):\n",
    "        print(x)\n",
    "#     print('{}:{}'.format(class_names[i], transition))\n",
    "    print()"
   ]
  },
  {
   "cell_type": "markdown",
   "metadata": {},
   "source": [
    "### Check Well Formed"
   ]
  },
  {
   "cell_type": "code",
   "execution_count": null,
   "metadata": {},
   "outputs": [],
   "source": [
    "def check_well_formed(subset_df):\n",
    "    # got the adjacency matrix subset\n",
    "    df = subset_df.copy()\n",
    "\n",
    "    # for particular adjacency matrix's copy, loop over all pairs of rows\n",
    "    for i in range(df.shape[0] - 1):\n",
    "        for j in range(i + 1, df.shape[0]):\n",
    "            idx1, idx2 = i, j\n",
    "            row1, row2 = df.iloc[idx1, :], df.iloc[idx2, :]  # we have now all pairs of rows\n",
    "\n",
    "            common_values_flag = False  # for each two rows we have a common_values_flag\n",
    "\n",
    "            # if there is a common value between two rows, turn common value flag to true\n",
    "            for col in range(row1.shape[0]):\n",
    "                if row1.iloc[col] > 0 and row2.iloc[col] > 0:\n",
    "                    common_values_flag = True\n",
    "                    break\n",
    "\n",
    "            # now if two rows have common values, we need to check for holes.\n",
    "            if common_values_flag:\n",
    "                for col in range(row1.shape[0]):\n",
    "                    if row1.iloc[col] > 0 and row2.iloc[col] == 0:\n",
    "                        return False\n",
    "                    elif row1.iloc[col] == 0 and row2.iloc[col] > 0:\n",
    "                        return False\n",
    "    return True"
   ]
  },
  {
   "cell_type": "markdown",
   "metadata": {},
   "source": [
    "### Check Valid Transitions"
   ]
  },
  {
   "cell_type": "code",
   "execution_count": null,
   "metadata": {},
   "outputs": [],
   "source": [
    "def check_valid(subset_df,consecutive_transitions_per_class):\n",
    "\n",
    "    \n",
    "    # Reasoning: If we check against all consecutive transitions per class, \n",
    "    # we essentially check against all example sequences.\n",
    "    # check the candidate set which is well-formed (subset df against all consecutive transitions)\n",
    "\n",
    "    # got the adjacency matrix subset\n",
    "    df = subset_df.copy()\n",
    "\n",
    "    # for particular adjacency matrix's copy, loop over all pairs of rows\n",
    "    for i in range(df.shape[0]):\n",
    "        for j in range(df.shape[0]):\n",
    "            if df.iloc[i,j] > 0:\n",
    "                valid_val_flag = False\n",
    "                ordered_pair = (df.index[i], df.columns[j])\n",
    "                for ct_list in consecutive_transitions_per_class:\n",
    "                    for ct in ct_list:\n",
    "                        if ordered_pair == ct:\n",
    "                            valid_val_flag=True\n",
    "                # if after all iteration ordered pair is not found, mark the subset as invalid.\n",
    "                if not valid_val_flag:\n",
    "                    return False\n",
    "    return True"
   ]
  },
  {
   "cell_type": "code",
   "execution_count": 192,
   "metadata": {},
   "outputs": [],
   "source": [
    "def check_validity_in_E(subset_df,sequences):\n",
    "\n",
    "    # got the adjacency matrix subset\n",
    "    df = subset_df.copy()\n",
    "\n",
    "    # for particular adjacency matrix's copy, loop over all pairs of rows\n",
    "    for i in range(df.shape[0]):\n",
    "        for j in range(df.shape[0]):\n",
    "            if df.iloc[i,j] > 0:\n",
    "                valid_val_flag = False\n",
    "                ordered_pair = (df.index[i], df.columns[j])\n",
    "                \n",
    "                for sequence in sequences:\n",
    "                    for actarg_tuple in sequence:\n",
    "                        print(actarg_tuple)\n",
    "#                 for ct_list in consecutive_transitions_per_class:\n",
    "#                     for ct in ct_list:\n",
    "#                         if ordered_pair == ct:\n",
    "#                             valid_val_flag=True\n",
    "                # if after all iteration ordered pair is not found, mark the subset as invalid.\n",
    "                if not valid_val_flag:\n",
    "                    return False\n",
    "    return True"
   ]
  },
  {
   "cell_type": "markdown",
   "metadata": {},
   "source": [
    "### LOCM2 transition sets"
   ]
  },
  {
   "cell_type": "code",
   "execution_count": 220,
   "metadata": {
    "scrolled": false
   },
   "outputs": [
    {
     "data": {
      "text/markdown": [
       "### Getting transitions sets for each class using LOCM2"
      ],
      "text/plain": [
       "<IPython.core.display.Markdown object>"
      ]
     },
     "metadata": {},
     "output_type": "display_data"
    },
    {
     "data": {
      "text/markdown": [
       "### Driver"
      ],
      "text/plain": [
       "<IPython.core.display.Markdown object>"
      ]
     },
     "metadata": {},
     "output_type": "display_data"
    },
    {
     "name": "stdout",
     "output_type": "stream",
     "text": [
      "no holes\n"
     ]
    },
    {
     "data": {
      "text/markdown": [
       "### Truck"
      ],
      "text/plain": [
       "<IPython.core.display.Markdown object>"
      ]
     },
     "metadata": {},
     "output_type": "display_data"
    },
    {
     "name": "stdout",
     "output_type": "stream",
     "text": [
      "no holes\n"
     ]
    },
    {
     "data": {
      "text/markdown": [
       "### Package"
      ],
      "text/plain": [
       "<IPython.core.display.Markdown object>"
      ]
     },
     "metadata": {},
     "output_type": "display_data"
    },
    {
     "name": "stdout",
     "output_type": "stream",
     "text": [
      "6 holes\n"
     ]
    },
    {
     "data": {
      "text/markdown": [
       "#### Hole 1: {'boardtruck.1'}"
      ],
      "text/plain": [
       "<IPython.core.display.Markdown object>"
      ]
     },
     "metadata": {},
     "output_type": "display_data"
    },
    {
     "name": "stdout",
     "output_type": "stream",
     "text": [
      "{'disembarktruck.1', 'boardtruck.1'}\n",
      "{'drivetruck.0', 'boardtruck.1'}\n",
      "{'unloadtruck.1', 'boardtruck.1'}\n",
      "{'loadtruck.1', 'boardtruck.1'}\n"
     ]
    },
    {
     "data": {
      "text/markdown": [
       "Checking candidate set *{'loadtruck.1', 'boardtruck.1'}* of class **Package** for well formedness and Validity"
      ],
      "text/plain": [
       "<IPython.core.display.Markdown object>"
      ]
     },
     "metadata": {},
     "output_type": "display_data"
    },
    {
     "data": {
      "text/html": [
       "<table>\n",
       "<thead>\n",
       "<tr><th>                </th><th style=\"text-align: right;\">  disembarktruck.1</th><th style=\"text-align: right;\">  boardtruck.1</th></tr>\n",
       "</thead>\n",
       "<tbody>\n",
       "<tr><td>disembarktruck.1</td><td style=\"text-align: right;\">                 0</td><td style=\"text-align: right;\">             5</td></tr>\n",
       "<tr><td>boardtruck.1    </td><td style=\"text-align: right;\">                 1</td><td style=\"text-align: right;\">             0</td></tr>\n",
       "</tbody>\n",
       "</table>"
      ],
      "text/plain": [
       "'<table>\\n<thead>\\n<tr><th>                </th><th style=\"text-align: right;\">  disembarktruck.1</th><th style=\"text-align: right;\">  boardtruck.1</th></tr>\\n</thead>\\n<tbody>\\n<tr><td>disembarktruck.1</td><td style=\"text-align: right;\">                 0</td><td style=\"text-align: right;\">             5</td></tr>\\n<tr><td>boardtruck.1    </td><td style=\"text-align: right;\">                 1</td><td style=\"text-align: right;\">             0</td></tr>\\n</tbody>\\n</table>'"
      ]
     },
     "metadata": {},
     "output_type": "display_data"
    },
    {
     "name": "stdout",
     "output_type": "stream",
     "text": [
      "This subset is well-formed.\n",
      "This subset is valid.\n",
      "Adding this subset {'disembarktruck.1', 'boardtruck.1'} to the locm2 transition set.\n",
      "Hole that is covered now:\n",
      "['boardtruck.1']\n",
      "{'disembarktruck.1', 'boardtruck.1'}\n",
      "{'drivetruck.0', 'boardtruck.1'}\n",
      "{'unloadtruck.1', 'boardtruck.1'}\n",
      "{'loadtruck.1', 'boardtruck.1'}\n",
      "{'unloadtruck.1', 'loadtruck.1', 'boardtruck.1'}\n",
      "{'drivetruck.0', 'disembarktruck.1', 'boardtruck.1'}\n",
      "{'drivetruck.0', 'loadtruck.1', 'boardtruck.1'}\n",
      "{'unloadtruck.1', 'disembarktruck.1', 'boardtruck.1'}\n",
      "{'disembarktruck.1', 'loadtruck.1', 'boardtruck.1'}\n",
      "{'drivetruck.0', 'unloadtruck.1', 'boardtruck.1'}\n"
     ]
    },
    {
     "data": {
      "text/markdown": [
       "Checking candidate set *{'drivetruck.0', 'unloadtruck.1', 'boardtruck.1'}* of class **Package** for well formedness and Validity"
      ],
      "text/plain": [
       "<IPython.core.display.Markdown object>"
      ]
     },
     "metadata": {},
     "output_type": "display_data"
    },
    {
     "data": {
      "text/html": [
       "<table>\n",
       "<thead>\n",
       "<tr><th>                </th><th style=\"text-align: right;\">  disembarktruck.1</th><th style=\"text-align: right;\">  boardtruck.1</th></tr>\n",
       "</thead>\n",
       "<tbody>\n",
       "<tr><td>disembarktruck.1</td><td style=\"text-align: right;\">                 0</td><td style=\"text-align: right;\">             5</td></tr>\n",
       "<tr><td>boardtruck.1    </td><td style=\"text-align: right;\">                 1</td><td style=\"text-align: right;\">             0</td></tr>\n",
       "</tbody>\n",
       "</table>"
      ],
      "text/plain": [
       "'<table>\\n<thead>\\n<tr><th>                </th><th style=\"text-align: right;\">  disembarktruck.1</th><th style=\"text-align: right;\">  boardtruck.1</th></tr>\\n</thead>\\n<tbody>\\n<tr><td>disembarktruck.1</td><td style=\"text-align: right;\">                 0</td><td style=\"text-align: right;\">             5</td></tr>\\n<tr><td>boardtruck.1    </td><td style=\"text-align: right;\">                 1</td><td style=\"text-align: right;\">             0</td></tr>\\n</tbody>\\n</table>'"
      ]
     },
     "metadata": {},
     "output_type": "display_data"
    },
    {
     "name": "stdout",
     "output_type": "stream",
     "text": [
      "This subset is well-formed.\n",
      "This subset is valid.\n",
      "Adding this subset {'disembarktruck.1', 'boardtruck.1'} to the locm2 transition set.\n",
      "Hole that is covered now:\n",
      "['boardtruck.1']\n",
      "{'disembarktruck.1', 'boardtruck.1'}\n",
      "{'drivetruck.0', 'boardtruck.1'}\n",
      "{'unloadtruck.1', 'boardtruck.1'}\n",
      "{'loadtruck.1', 'boardtruck.1'}\n",
      "{'unloadtruck.1', 'loadtruck.1', 'boardtruck.1'}\n",
      "{'drivetruck.0', 'disembarktruck.1', 'boardtruck.1'}\n",
      "{'drivetruck.0', 'loadtruck.1', 'boardtruck.1'}\n",
      "{'unloadtruck.1', 'disembarktruck.1', 'boardtruck.1'}\n",
      "{'disembarktruck.1', 'loadtruck.1', 'boardtruck.1'}\n",
      "{'drivetruck.0', 'unloadtruck.1', 'boardtruck.1'}\n",
      "{'unloadtruck.1', 'disembarktruck.1', 'loadtruck.1', 'boardtruck.1'}\n",
      "{'drivetruck.0', 'unloadtruck.1', 'loadtruck.1', 'boardtruck.1'}\n",
      "{'unloadtruck.1', 'drivetruck.0', 'disembarktruck.1', 'boardtruck.1'}\n",
      "{'drivetruck.0', 'disembarktruck.1', 'loadtruck.1', 'boardtruck.1'}\n"
     ]
    },
    {
     "data": {
      "text/markdown": [
       "Checking candidate set *{'drivetruck.0', 'disembarktruck.1', 'loadtruck.1', 'boardtruck.1'}* of class **Package** for well formedness and Validity"
      ],
      "text/plain": [
       "<IPython.core.display.Markdown object>"
      ]
     },
     "metadata": {},
     "output_type": "display_data"
    },
    {
     "data": {
      "text/html": [
       "<table>\n",
       "<thead>\n",
       "<tr><th>                </th><th style=\"text-align: right;\">  disembarktruck.1</th><th style=\"text-align: right;\">  boardtruck.1</th></tr>\n",
       "</thead>\n",
       "<tbody>\n",
       "<tr><td>disembarktruck.1</td><td style=\"text-align: right;\">                 0</td><td style=\"text-align: right;\">             5</td></tr>\n",
       "<tr><td>boardtruck.1    </td><td style=\"text-align: right;\">                 1</td><td style=\"text-align: right;\">             0</td></tr>\n",
       "</tbody>\n",
       "</table>"
      ],
      "text/plain": [
       "'<table>\\n<thead>\\n<tr><th>                </th><th style=\"text-align: right;\">  disembarktruck.1</th><th style=\"text-align: right;\">  boardtruck.1</th></tr>\\n</thead>\\n<tbody>\\n<tr><td>disembarktruck.1</td><td style=\"text-align: right;\">                 0</td><td style=\"text-align: right;\">             5</td></tr>\\n<tr><td>boardtruck.1    </td><td style=\"text-align: right;\">                 1</td><td style=\"text-align: right;\">             0</td></tr>\\n</tbody>\\n</table>'"
      ]
     },
     "metadata": {},
     "output_type": "display_data"
    },
    {
     "name": "stdout",
     "output_type": "stream",
     "text": [
      "This subset is well-formed.\n",
      "This subset is valid.\n",
      "Adding this subset {'disembarktruck.1', 'boardtruck.1'} to the locm2 transition set.\n",
      "Hole that is covered now:\n",
      "['boardtruck.1']\n"
     ]
    },
    {
     "data": {
      "text/markdown": [
       "#### Hole 2: {'loadtruck.1'}"
      ],
      "text/plain": [
       "<IPython.core.display.Markdown object>"
      ]
     },
     "metadata": {},
     "output_type": "display_data"
    },
    {
     "name": "stdout",
     "output_type": "stream",
     "text": [
      "{'loadtruck.1', 'disembarktruck.1'}\n",
      "{'loadtruck.1', 'boardtruck.1'}\n",
      "{'drivetruck.0', 'loadtruck.1'}\n",
      "{'unloadtruck.1', 'loadtruck.1'}\n"
     ]
    },
    {
     "data": {
      "text/markdown": [
       "Checking candidate set *{'unloadtruck.1', 'loadtruck.1'}* of class **Package** for well formedness and Validity"
      ],
      "text/plain": [
       "<IPython.core.display.Markdown object>"
      ]
     },
     "metadata": {},
     "output_type": "display_data"
    },
    {
     "data": {
      "text/html": [
       "<table>\n",
       "<thead>\n",
       "<tr><th>                </th><th style=\"text-align: right;\">  loadtruck.1</th><th style=\"text-align: right;\">  disembarktruck.1</th></tr>\n",
       "</thead>\n",
       "<tbody>\n",
       "<tr><td>loadtruck.1     </td><td style=\"text-align: right;\">            0</td><td style=\"text-align: right;\">                 1</td></tr>\n",
       "<tr><td>disembarktruck.1</td><td style=\"text-align: right;\">            1</td><td style=\"text-align: right;\">                 0</td></tr>\n",
       "</tbody>\n",
       "</table>"
      ],
      "text/plain": [
       "'<table>\\n<thead>\\n<tr><th>                </th><th style=\"text-align: right;\">  loadtruck.1</th><th style=\"text-align: right;\">  disembarktruck.1</th></tr>\\n</thead>\\n<tbody>\\n<tr><td>loadtruck.1     </td><td style=\"text-align: right;\">            0</td><td style=\"text-align: right;\">                 1</td></tr>\\n<tr><td>disembarktruck.1</td><td style=\"text-align: right;\">            1</td><td style=\"text-align: right;\">                 0</td></tr>\\n</tbody>\\n</table>'"
      ]
     },
     "metadata": {},
     "output_type": "display_data"
    },
    {
     "name": "stdout",
     "output_type": "stream",
     "text": [
      "This subset is well-formed.\n",
      "This subset is valid.\n",
      "Adding this subset {'loadtruck.1', 'disembarktruck.1'} to the locm2 transition set.\n",
      "Hole that is covered now:\n",
      "['loadtruck.1']\n",
      "{'loadtruck.1', 'disembarktruck.1'}\n",
      "{'loadtruck.1', 'boardtruck.1'}\n",
      "{'drivetruck.0', 'loadtruck.1'}\n",
      "{'unloadtruck.1', 'loadtruck.1'}\n",
      "{'unloadtruck.1', 'loadtruck.1', 'boardtruck.1'}\n",
      "{'drivetruck.0', 'loadtruck.1', 'disembarktruck.1'}\n",
      "{'drivetruck.0', 'unloadtruck.1', 'loadtruck.1'}\n",
      "{'drivetruck.0', 'loadtruck.1', 'boardtruck.1'}\n",
      "{'unloadtruck.1', 'loadtruck.1', 'disembarktruck.1'}\n",
      "{'disembarktruck.1', 'loadtruck.1', 'boardtruck.1'}\n"
     ]
    },
    {
     "data": {
      "text/markdown": [
       "Checking candidate set *{'disembarktruck.1', 'loadtruck.1', 'boardtruck.1'}* of class **Package** for well formedness and Validity"
      ],
      "text/plain": [
       "<IPython.core.display.Markdown object>"
      ]
     },
     "metadata": {},
     "output_type": "display_data"
    },
    {
     "data": {
      "text/html": [
       "<table>\n",
       "<thead>\n",
       "<tr><th>                </th><th style=\"text-align: right;\">  loadtruck.1</th><th style=\"text-align: right;\">  disembarktruck.1</th></tr>\n",
       "</thead>\n",
       "<tbody>\n",
       "<tr><td>loadtruck.1     </td><td style=\"text-align: right;\">            0</td><td style=\"text-align: right;\">                 1</td></tr>\n",
       "<tr><td>disembarktruck.1</td><td style=\"text-align: right;\">            1</td><td style=\"text-align: right;\">                 0</td></tr>\n",
       "</tbody>\n",
       "</table>"
      ],
      "text/plain": [
       "'<table>\\n<thead>\\n<tr><th>                </th><th style=\"text-align: right;\">  loadtruck.1</th><th style=\"text-align: right;\">  disembarktruck.1</th></tr>\\n</thead>\\n<tbody>\\n<tr><td>loadtruck.1     </td><td style=\"text-align: right;\">            0</td><td style=\"text-align: right;\">                 1</td></tr>\\n<tr><td>disembarktruck.1</td><td style=\"text-align: right;\">            1</td><td style=\"text-align: right;\">                 0</td></tr>\\n</tbody>\\n</table>'"
      ]
     },
     "metadata": {},
     "output_type": "display_data"
    },
    {
     "name": "stdout",
     "output_type": "stream",
     "text": [
      "This subset is well-formed.\n",
      "This subset is valid.\n",
      "Adding this subset {'loadtruck.1', 'disembarktruck.1'} to the locm2 transition set.\n",
      "Hole that is covered now:\n",
      "['loadtruck.1']\n",
      "{'loadtruck.1', 'disembarktruck.1'}\n",
      "{'loadtruck.1', 'boardtruck.1'}\n",
      "{'drivetruck.0', 'loadtruck.1'}\n",
      "{'unloadtruck.1', 'loadtruck.1'}\n",
      "{'unloadtruck.1', 'loadtruck.1', 'boardtruck.1'}\n",
      "{'drivetruck.0', 'loadtruck.1', 'disembarktruck.1'}\n",
      "{'drivetruck.0', 'unloadtruck.1', 'loadtruck.1'}\n",
      "{'drivetruck.0', 'loadtruck.1', 'boardtruck.1'}\n",
      "{'unloadtruck.1', 'loadtruck.1', 'disembarktruck.1'}\n",
      "{'disembarktruck.1', 'loadtruck.1', 'boardtruck.1'}\n",
      "{'unloadtruck.1', 'disembarktruck.1', 'loadtruck.1', 'boardtruck.1'}\n",
      "{'drivetruck.0', 'unloadtruck.1', 'loadtruck.1', 'disembarktruck.1'}\n",
      "{'drivetruck.0', 'unloadtruck.1', 'loadtruck.1', 'boardtruck.1'}\n",
      "{'drivetruck.0', 'disembarktruck.1', 'loadtruck.1', 'boardtruck.1'}\n"
     ]
    },
    {
     "data": {
      "text/markdown": [
       "Checking candidate set *{'drivetruck.0', 'disembarktruck.1', 'loadtruck.1', 'boardtruck.1'}* of class **Package** for well formedness and Validity"
      ],
      "text/plain": [
       "<IPython.core.display.Markdown object>"
      ]
     },
     "metadata": {},
     "output_type": "display_data"
    },
    {
     "data": {
      "text/html": [
       "<table>\n",
       "<thead>\n",
       "<tr><th>                </th><th style=\"text-align: right;\">  loadtruck.1</th><th style=\"text-align: right;\">  disembarktruck.1</th></tr>\n",
       "</thead>\n",
       "<tbody>\n",
       "<tr><td>loadtruck.1     </td><td style=\"text-align: right;\">            0</td><td style=\"text-align: right;\">                 1</td></tr>\n",
       "<tr><td>disembarktruck.1</td><td style=\"text-align: right;\">            1</td><td style=\"text-align: right;\">                 0</td></tr>\n",
       "</tbody>\n",
       "</table>"
      ],
      "text/plain": [
       "'<table>\\n<thead>\\n<tr><th>                </th><th style=\"text-align: right;\">  loadtruck.1</th><th style=\"text-align: right;\">  disembarktruck.1</th></tr>\\n</thead>\\n<tbody>\\n<tr><td>loadtruck.1     </td><td style=\"text-align: right;\">            0</td><td style=\"text-align: right;\">                 1</td></tr>\\n<tr><td>disembarktruck.1</td><td style=\"text-align: right;\">            1</td><td style=\"text-align: right;\">                 0</td></tr>\\n</tbody>\\n</table>'"
      ]
     },
     "metadata": {},
     "output_type": "display_data"
    },
    {
     "name": "stdout",
     "output_type": "stream",
     "text": [
      "This subset is well-formed.\n",
      "This subset is valid.\n",
      "Adding this subset {'loadtruck.1', 'disembarktruck.1'} to the locm2 transition set.\n",
      "Hole that is covered now:\n",
      "['loadtruck.1']\n"
     ]
    },
    {
     "data": {
      "text/markdown": [
       "#### Hole 3: {'disembarktruck.1'}"
      ],
      "text/plain": [
       "<IPython.core.display.Markdown object>"
      ]
     },
     "metadata": {},
     "output_type": "display_data"
    },
    {
     "data": {
      "text/markdown": [
       "Hole frozenset({'disembarktruck.1'}) is already covered."
      ],
      "text/plain": [
       "<IPython.core.display.Markdown object>"
      ]
     },
     "metadata": {},
     "output_type": "display_data"
    },
    {
     "data": {
      "text/markdown": [
       "#### Hole 4: {'drivetruck.0', 'disembarktruck.1'}"
      ],
      "text/plain": [
       "<IPython.core.display.Markdown object>"
      ]
     },
     "metadata": {},
     "output_type": "display_data"
    },
    {
     "name": "stdout",
     "output_type": "stream",
     "text": [
      "{'drivetruck.0', 'loadtruck.1', 'disembarktruck.1'}\n",
      "{'drivetruck.0', 'unloadtruck.1', 'disembarktruck.1'}\n",
      "{'drivetruck.0', 'disembarktruck.1', 'boardtruck.1'}\n"
     ]
    },
    {
     "data": {
      "text/markdown": [
       "Checking candidate set *{'drivetruck.0', 'disembarktruck.1', 'boardtruck.1'}* of class **Package** for well formedness and Validity"
      ],
      "text/plain": [
       "<IPython.core.display.Markdown object>"
      ]
     },
     "metadata": {},
     "output_type": "display_data"
    },
    {
     "data": {
      "text/html": [
       "<table>\n",
       "<thead>\n",
       "<tr><th>                </th><th style=\"text-align: right;\">  drivetruck.0</th><th style=\"text-align: right;\">  loadtruck.1</th><th style=\"text-align: right;\">  disembarktruck.1</th></tr>\n",
       "</thead>\n",
       "<tbody>\n",
       "<tr><td>drivetruck.0    </td><td style=\"text-align: right;\">            10</td><td style=\"text-align: right;\">            5</td><td style=\"text-align: right;\">                 9</td></tr>\n",
       "<tr><td>loadtruck.1     </td><td style=\"text-align: right;\">             8</td><td style=\"text-align: right;\">            0</td><td style=\"text-align: right;\">                 1</td></tr>\n",
       "<tr><td>disembarktruck.1</td><td style=\"text-align: right;\">             0</td><td style=\"text-align: right;\">            1</td><td style=\"text-align: right;\">                 0</td></tr>\n",
       "</tbody>\n",
       "</table>"
      ],
      "text/plain": [
       "'<table>\\n<thead>\\n<tr><th>                </th><th style=\"text-align: right;\">  drivetruck.0</th><th style=\"text-align: right;\">  loadtruck.1</th><th style=\"text-align: right;\">  disembarktruck.1</th></tr>\\n</thead>\\n<tbody>\\n<tr><td>drivetruck.0    </td><td style=\"text-align: right;\">            10</td><td style=\"text-align: right;\">            5</td><td style=\"text-align: right;\">                 9</td></tr>\\n<tr><td>loadtruck.1     </td><td style=\"text-align: right;\">             8</td><td style=\"text-align: right;\">            0</td><td style=\"text-align: right;\">                 1</td></tr>\\n<tr><td>disembarktruck.1</td><td style=\"text-align: right;\">             0</td><td style=\"text-align: right;\">            1</td><td style=\"text-align: right;\">                 0</td></tr>\\n</tbody>\\n</table>'"
      ]
     },
     "metadata": {},
     "output_type": "display_data"
    },
    {
     "name": "stdout",
     "output_type": "stream",
     "text": [
      "This subset is NOT well-formed\n"
     ]
    },
    {
     "data": {
      "text/html": [
       "<table>\n",
       "<thead>\n",
       "<tr><th>                </th><th style=\"text-align: right;\">  drivetruck.0</th><th style=\"text-align: right;\">  unloadtruck.1</th><th style=\"text-align: right;\">  disembarktruck.1</th></tr>\n",
       "</thead>\n",
       "<tbody>\n",
       "<tr><td>drivetruck.0    </td><td style=\"text-align: right;\">            10</td><td style=\"text-align: right;\">              7</td><td style=\"text-align: right;\">                 9</td></tr>\n",
       "<tr><td>unloadtruck.1   </td><td style=\"text-align: right;\">             6</td><td style=\"text-align: right;\">              0</td><td style=\"text-align: right;\">                 3</td></tr>\n",
       "<tr><td>disembarktruck.1</td><td style=\"text-align: right;\">             0</td><td style=\"text-align: right;\">              1</td><td style=\"text-align: right;\">                 0</td></tr>\n",
       "</tbody>\n",
       "</table>"
      ],
      "text/plain": [
       "'<table>\\n<thead>\\n<tr><th>                </th><th style=\"text-align: right;\">  drivetruck.0</th><th style=\"text-align: right;\">  unloadtruck.1</th><th style=\"text-align: right;\">  disembarktruck.1</th></tr>\\n</thead>\\n<tbody>\\n<tr><td>drivetruck.0    </td><td style=\"text-align: right;\">            10</td><td style=\"text-align: right;\">              7</td><td style=\"text-align: right;\">                 9</td></tr>\\n<tr><td>unloadtruck.1   </td><td style=\"text-align: right;\">             6</td><td style=\"text-align: right;\">              0</td><td style=\"text-align: right;\">                 3</td></tr>\\n<tr><td>disembarktruck.1</td><td style=\"text-align: right;\">             0</td><td style=\"text-align: right;\">              1</td><td style=\"text-align: right;\">                 0</td></tr>\\n</tbody>\\n</table>'"
      ]
     },
     "metadata": {},
     "output_type": "display_data"
    },
    {
     "name": "stdout",
     "output_type": "stream",
     "text": [
      "This subset is NOT well-formed\n"
     ]
    },
    {
     "data": {
      "text/html": [
       "<table>\n",
       "<thead>\n",
       "<tr><th>                </th><th style=\"text-align: right;\">  drivetruck.0</th><th style=\"text-align: right;\">  disembarktruck.1</th><th style=\"text-align: right;\">  boardtruck.1</th></tr>\n",
       "</thead>\n",
       "<tbody>\n",
       "<tr><td>drivetruck.0    </td><td style=\"text-align: right;\">            10</td><td style=\"text-align: right;\">                 9</td><td style=\"text-align: right;\">             0</td></tr>\n",
       "<tr><td>disembarktruck.1</td><td style=\"text-align: right;\">             0</td><td style=\"text-align: right;\">                 0</td><td style=\"text-align: right;\">             5</td></tr>\n",
       "<tr><td>boardtruck.1    </td><td style=\"text-align: right;\">             7</td><td style=\"text-align: right;\">                 1</td><td style=\"text-align: right;\">             0</td></tr>\n",
       "</tbody>\n",
       "</table>"
      ],
      "text/plain": [
       "'<table>\\n<thead>\\n<tr><th>                </th><th style=\"text-align: right;\">  drivetruck.0</th><th style=\"text-align: right;\">  disembarktruck.1</th><th style=\"text-align: right;\">  boardtruck.1</th></tr>\\n</thead>\\n<tbody>\\n<tr><td>drivetruck.0    </td><td style=\"text-align: right;\">            10</td><td style=\"text-align: right;\">                 9</td><td style=\"text-align: right;\">             0</td></tr>\\n<tr><td>disembarktruck.1</td><td style=\"text-align: right;\">             0</td><td style=\"text-align: right;\">                 0</td><td style=\"text-align: right;\">             5</td></tr>\\n<tr><td>boardtruck.1    </td><td style=\"text-align: right;\">             7</td><td style=\"text-align: right;\">                 1</td><td style=\"text-align: right;\">             0</td></tr>\\n</tbody>\\n</table>'"
      ]
     },
     "metadata": {},
     "output_type": "display_data"
    },
    {
     "name": "stdout",
     "output_type": "stream",
     "text": [
      "This subset is well-formed.\n",
      "This subset is valid.\n",
      "Adding this subset {'drivetruck.0', 'disembarktruck.1', 'boardtruck.1'} to the locm2 transition set.\n",
      "Hole that is covered now:\n",
      "['drivetruck.0', 'disembarktruck.1']\n",
      "{'drivetruck.0', 'loadtruck.1', 'disembarktruck.1'}\n",
      "{'drivetruck.0', 'unloadtruck.1', 'disembarktruck.1'}\n",
      "{'drivetruck.0', 'disembarktruck.1', 'boardtruck.1'}\n",
      "{'drivetruck.0', 'unloadtruck.1', 'loadtruck.1', 'disembarktruck.1'}\n",
      "{'unloadtruck.1', 'drivetruck.0', 'disembarktruck.1', 'boardtruck.1'}\n",
      "{'drivetruck.0', 'disembarktruck.1', 'loadtruck.1', 'boardtruck.1'}\n"
     ]
    },
    {
     "data": {
      "text/markdown": [
       "Checking candidate set *{'drivetruck.0', 'disembarktruck.1', 'loadtruck.1', 'boardtruck.1'}* of class **Package** for well formedness and Validity"
      ],
      "text/plain": [
       "<IPython.core.display.Markdown object>"
      ]
     },
     "metadata": {},
     "output_type": "display_data"
    },
    {
     "data": {
      "text/html": [
       "<table>\n",
       "<thead>\n",
       "<tr><th>                </th><th style=\"text-align: right;\">  drivetruck.0</th><th style=\"text-align: right;\">  loadtruck.1</th><th style=\"text-align: right;\">  disembarktruck.1</th></tr>\n",
       "</thead>\n",
       "<tbody>\n",
       "<tr><td>drivetruck.0    </td><td style=\"text-align: right;\">            10</td><td style=\"text-align: right;\">            5</td><td style=\"text-align: right;\">                 9</td></tr>\n",
       "<tr><td>loadtruck.1     </td><td style=\"text-align: right;\">             8</td><td style=\"text-align: right;\">            0</td><td style=\"text-align: right;\">                 1</td></tr>\n",
       "<tr><td>disembarktruck.1</td><td style=\"text-align: right;\">             0</td><td style=\"text-align: right;\">            1</td><td style=\"text-align: right;\">                 0</td></tr>\n",
       "</tbody>\n",
       "</table>"
      ],
      "text/plain": [
       "'<table>\\n<thead>\\n<tr><th>                </th><th style=\"text-align: right;\">  drivetruck.0</th><th style=\"text-align: right;\">  loadtruck.1</th><th style=\"text-align: right;\">  disembarktruck.1</th></tr>\\n</thead>\\n<tbody>\\n<tr><td>drivetruck.0    </td><td style=\"text-align: right;\">            10</td><td style=\"text-align: right;\">            5</td><td style=\"text-align: right;\">                 9</td></tr>\\n<tr><td>loadtruck.1     </td><td style=\"text-align: right;\">             8</td><td style=\"text-align: right;\">            0</td><td style=\"text-align: right;\">                 1</td></tr>\\n<tr><td>disembarktruck.1</td><td style=\"text-align: right;\">             0</td><td style=\"text-align: right;\">            1</td><td style=\"text-align: right;\">                 0</td></tr>\\n</tbody>\\n</table>'"
      ]
     },
     "metadata": {},
     "output_type": "display_data"
    },
    {
     "name": "stdout",
     "output_type": "stream",
     "text": [
      "This subset is NOT well-formed\n"
     ]
    },
    {
     "data": {
      "text/html": [
       "<table>\n",
       "<thead>\n",
       "<tr><th>                </th><th style=\"text-align: right;\">  drivetruck.0</th><th style=\"text-align: right;\">  unloadtruck.1</th><th style=\"text-align: right;\">  disembarktruck.1</th></tr>\n",
       "</thead>\n",
       "<tbody>\n",
       "<tr><td>drivetruck.0    </td><td style=\"text-align: right;\">            10</td><td style=\"text-align: right;\">              7</td><td style=\"text-align: right;\">                 9</td></tr>\n",
       "<tr><td>unloadtruck.1   </td><td style=\"text-align: right;\">             6</td><td style=\"text-align: right;\">              0</td><td style=\"text-align: right;\">                 3</td></tr>\n",
       "<tr><td>disembarktruck.1</td><td style=\"text-align: right;\">             0</td><td style=\"text-align: right;\">              1</td><td style=\"text-align: right;\">                 0</td></tr>\n",
       "</tbody>\n",
       "</table>"
      ],
      "text/plain": [
       "'<table>\\n<thead>\\n<tr><th>                </th><th style=\"text-align: right;\">  drivetruck.0</th><th style=\"text-align: right;\">  unloadtruck.1</th><th style=\"text-align: right;\">  disembarktruck.1</th></tr>\\n</thead>\\n<tbody>\\n<tr><td>drivetruck.0    </td><td style=\"text-align: right;\">            10</td><td style=\"text-align: right;\">              7</td><td style=\"text-align: right;\">                 9</td></tr>\\n<tr><td>unloadtruck.1   </td><td style=\"text-align: right;\">             6</td><td style=\"text-align: right;\">              0</td><td style=\"text-align: right;\">                 3</td></tr>\\n<tr><td>disembarktruck.1</td><td style=\"text-align: right;\">             0</td><td style=\"text-align: right;\">              1</td><td style=\"text-align: right;\">                 0</td></tr>\\n</tbody>\\n</table>'"
      ]
     },
     "metadata": {},
     "output_type": "display_data"
    },
    {
     "name": "stdout",
     "output_type": "stream",
     "text": [
      "This subset is NOT well-formed\n"
     ]
    },
    {
     "data": {
      "text/html": [
       "<table>\n",
       "<thead>\n",
       "<tr><th>                </th><th style=\"text-align: right;\">  drivetruck.0</th><th style=\"text-align: right;\">  disembarktruck.1</th><th style=\"text-align: right;\">  boardtruck.1</th></tr>\n",
       "</thead>\n",
       "<tbody>\n",
       "<tr><td>drivetruck.0    </td><td style=\"text-align: right;\">            10</td><td style=\"text-align: right;\">                 9</td><td style=\"text-align: right;\">             0</td></tr>\n",
       "<tr><td>disembarktruck.1</td><td style=\"text-align: right;\">             0</td><td style=\"text-align: right;\">                 0</td><td style=\"text-align: right;\">             5</td></tr>\n",
       "<tr><td>boardtruck.1    </td><td style=\"text-align: right;\">             7</td><td style=\"text-align: right;\">                 1</td><td style=\"text-align: right;\">             0</td></tr>\n",
       "</tbody>\n",
       "</table>"
      ],
      "text/plain": [
       "'<table>\\n<thead>\\n<tr><th>                </th><th style=\"text-align: right;\">  drivetruck.0</th><th style=\"text-align: right;\">  disembarktruck.1</th><th style=\"text-align: right;\">  boardtruck.1</th></tr>\\n</thead>\\n<tbody>\\n<tr><td>drivetruck.0    </td><td style=\"text-align: right;\">            10</td><td style=\"text-align: right;\">                 9</td><td style=\"text-align: right;\">             0</td></tr>\\n<tr><td>disembarktruck.1</td><td style=\"text-align: right;\">             0</td><td style=\"text-align: right;\">                 0</td><td style=\"text-align: right;\">             5</td></tr>\\n<tr><td>boardtruck.1    </td><td style=\"text-align: right;\">             7</td><td style=\"text-align: right;\">                 1</td><td style=\"text-align: right;\">             0</td></tr>\\n</tbody>\\n</table>'"
      ]
     },
     "metadata": {},
     "output_type": "display_data"
    },
    {
     "name": "stdout",
     "output_type": "stream",
     "text": [
      "This subset is well-formed.\n",
      "This subset is valid.\n",
      "Adding this subset {'drivetruck.0', 'disembarktruck.1', 'boardtruck.1'} to the locm2 transition set.\n",
      "Hole that is covered now:\n",
      "['drivetruck.0', 'disembarktruck.1']\n"
     ]
    },
    {
     "data": {
      "text/markdown": [
       "#### Hole 5: {'unloadtruck.1'}"
      ],
      "text/plain": [
       "<IPython.core.display.Markdown object>"
      ]
     },
     "metadata": {},
     "output_type": "display_data"
    },
    {
     "name": "stdout",
     "output_type": "stream",
     "text": [
      "{'unloadtruck.1', 'disembarktruck.1'}\n",
      "{'drivetruck.0', 'unloadtruck.1'}\n",
      "{'unloadtruck.1', 'boardtruck.1'}\n",
      "{'unloadtruck.1', 'loadtruck.1'}\n"
     ]
    },
    {
     "data": {
      "text/markdown": [
       "Checking candidate set *{'unloadtruck.1', 'loadtruck.1'}* of class **Package** for well formedness and Validity"
      ],
      "text/plain": [
       "<IPython.core.display.Markdown object>"
      ]
     },
     "metadata": {},
     "output_type": "display_data"
    },
    {
     "data": {
      "text/html": [
       "<table>\n",
       "<thead>\n",
       "<tr><th>                </th><th style=\"text-align: right;\">  unloadtruck.1</th><th style=\"text-align: right;\">  disembarktruck.1</th></tr>\n",
       "</thead>\n",
       "<tbody>\n",
       "<tr><td>unloadtruck.1   </td><td style=\"text-align: right;\">              0</td><td style=\"text-align: right;\">                 3</td></tr>\n",
       "<tr><td>disembarktruck.1</td><td style=\"text-align: right;\">              1</td><td style=\"text-align: right;\">                 0</td></tr>\n",
       "</tbody>\n",
       "</table>"
      ],
      "text/plain": [
       "'<table>\\n<thead>\\n<tr><th>                </th><th style=\"text-align: right;\">  unloadtruck.1</th><th style=\"text-align: right;\">  disembarktruck.1</th></tr>\\n</thead>\\n<tbody>\\n<tr><td>unloadtruck.1   </td><td style=\"text-align: right;\">              0</td><td style=\"text-align: right;\">                 3</td></tr>\\n<tr><td>disembarktruck.1</td><td style=\"text-align: right;\">              1</td><td style=\"text-align: right;\">                 0</td></tr>\\n</tbody>\\n</table>'"
      ]
     },
     "metadata": {},
     "output_type": "display_data"
    },
    {
     "name": "stdout",
     "output_type": "stream",
     "text": [
      "This subset is well-formed.\n",
      "This subset is valid.\n",
      "Adding this subset {'unloadtruck.1', 'disembarktruck.1'} to the locm2 transition set.\n",
      "Hole that is covered now:\n",
      "['unloadtruck.1']\n",
      "{'unloadtruck.1', 'disembarktruck.1'}\n",
      "{'drivetruck.0', 'unloadtruck.1'}\n",
      "{'unloadtruck.1', 'boardtruck.1'}\n",
      "{'unloadtruck.1', 'loadtruck.1'}\n",
      "{'unloadtruck.1', 'loadtruck.1', 'boardtruck.1'}\n",
      "{'drivetruck.0', 'unloadtruck.1', 'disembarktruck.1'}\n",
      "{'drivetruck.0', 'unloadtruck.1', 'loadtruck.1'}\n",
      "{'unloadtruck.1', 'disembarktruck.1', 'boardtruck.1'}\n",
      "{'unloadtruck.1', 'loadtruck.1', 'disembarktruck.1'}\n",
      "{'drivetruck.0', 'unloadtruck.1', 'boardtruck.1'}\n"
     ]
    },
    {
     "data": {
      "text/markdown": [
       "Checking candidate set *{'drivetruck.0', 'unloadtruck.1', 'boardtruck.1'}* of class **Package** for well formedness and Validity"
      ],
      "text/plain": [
       "<IPython.core.display.Markdown object>"
      ]
     },
     "metadata": {},
     "output_type": "display_data"
    },
    {
     "data": {
      "text/html": [
       "<table>\n",
       "<thead>\n",
       "<tr><th>                </th><th style=\"text-align: right;\">  unloadtruck.1</th><th style=\"text-align: right;\">  disembarktruck.1</th></tr>\n",
       "</thead>\n",
       "<tbody>\n",
       "<tr><td>unloadtruck.1   </td><td style=\"text-align: right;\">              0</td><td style=\"text-align: right;\">                 3</td></tr>\n",
       "<tr><td>disembarktruck.1</td><td style=\"text-align: right;\">              1</td><td style=\"text-align: right;\">                 0</td></tr>\n",
       "</tbody>\n",
       "</table>"
      ],
      "text/plain": [
       "'<table>\\n<thead>\\n<tr><th>                </th><th style=\"text-align: right;\">  unloadtruck.1</th><th style=\"text-align: right;\">  disembarktruck.1</th></tr>\\n</thead>\\n<tbody>\\n<tr><td>unloadtruck.1   </td><td style=\"text-align: right;\">              0</td><td style=\"text-align: right;\">                 3</td></tr>\\n<tr><td>disembarktruck.1</td><td style=\"text-align: right;\">              1</td><td style=\"text-align: right;\">                 0</td></tr>\\n</tbody>\\n</table>'"
      ]
     },
     "metadata": {},
     "output_type": "display_data"
    },
    {
     "name": "stdout",
     "output_type": "stream",
     "text": [
      "This subset is well-formed.\n",
      "This subset is valid.\n",
      "Adding this subset {'unloadtruck.1', 'disembarktruck.1'} to the locm2 transition set.\n",
      "Hole that is covered now:\n",
      "['unloadtruck.1']\n",
      "{'unloadtruck.1', 'disembarktruck.1'}\n",
      "{'drivetruck.0', 'unloadtruck.1'}\n",
      "{'unloadtruck.1', 'boardtruck.1'}\n",
      "{'unloadtruck.1', 'loadtruck.1'}\n",
      "{'unloadtruck.1', 'loadtruck.1', 'boardtruck.1'}\n",
      "{'drivetruck.0', 'unloadtruck.1', 'disembarktruck.1'}\n",
      "{'drivetruck.0', 'unloadtruck.1', 'loadtruck.1'}\n",
      "{'unloadtruck.1', 'disembarktruck.1', 'boardtruck.1'}\n",
      "{'unloadtruck.1', 'loadtruck.1', 'disembarktruck.1'}\n",
      "{'drivetruck.0', 'unloadtruck.1', 'boardtruck.1'}\n",
      "{'unloadtruck.1', 'disembarktruck.1', 'loadtruck.1', 'boardtruck.1'}\n",
      "{'drivetruck.0', 'unloadtruck.1', 'loadtruck.1', 'disembarktruck.1'}\n",
      "{'drivetruck.0', 'unloadtruck.1', 'loadtruck.1', 'boardtruck.1'}\n",
      "{'unloadtruck.1', 'drivetruck.0', 'disembarktruck.1', 'boardtruck.1'}\n"
     ]
    },
    {
     "data": {
      "text/markdown": [
       "Checking candidate set *{'unloadtruck.1', 'drivetruck.0', 'disembarktruck.1', 'boardtruck.1'}* of class **Package** for well formedness and Validity"
      ],
      "text/plain": [
       "<IPython.core.display.Markdown object>"
      ]
     },
     "metadata": {},
     "output_type": "display_data"
    },
    {
     "data": {
      "text/html": [
       "<table>\n",
       "<thead>\n",
       "<tr><th>                </th><th style=\"text-align: right;\">  unloadtruck.1</th><th style=\"text-align: right;\">  disembarktruck.1</th></tr>\n",
       "</thead>\n",
       "<tbody>\n",
       "<tr><td>unloadtruck.1   </td><td style=\"text-align: right;\">              0</td><td style=\"text-align: right;\">                 3</td></tr>\n",
       "<tr><td>disembarktruck.1</td><td style=\"text-align: right;\">              1</td><td style=\"text-align: right;\">                 0</td></tr>\n",
       "</tbody>\n",
       "</table>"
      ],
      "text/plain": [
       "'<table>\\n<thead>\\n<tr><th>                </th><th style=\"text-align: right;\">  unloadtruck.1</th><th style=\"text-align: right;\">  disembarktruck.1</th></tr>\\n</thead>\\n<tbody>\\n<tr><td>unloadtruck.1   </td><td style=\"text-align: right;\">              0</td><td style=\"text-align: right;\">                 3</td></tr>\\n<tr><td>disembarktruck.1</td><td style=\"text-align: right;\">              1</td><td style=\"text-align: right;\">                 0</td></tr>\\n</tbody>\\n</table>'"
      ]
     },
     "metadata": {},
     "output_type": "display_data"
    },
    {
     "name": "stdout",
     "output_type": "stream",
     "text": [
      "This subset is well-formed.\n",
      "This subset is valid.\n",
      "Adding this subset {'unloadtruck.1', 'disembarktruck.1'} to the locm2 transition set.\n",
      "Hole that is covered now:\n",
      "['unloadtruck.1']\n"
     ]
    },
    {
     "data": {
      "text/markdown": [
       "#### Hole 6: {'drivetruck.0', 'boardtruck.1'}"
      ],
      "text/plain": [
       "<IPython.core.display.Markdown object>"
      ]
     },
     "metadata": {},
     "output_type": "display_data"
    },
    {
     "data": {
      "text/markdown": [
       "Hole frozenset({'drivetruck.0', 'boardtruck.1'}) is already covered."
      ],
      "text/plain": [
       "<IPython.core.display.Markdown object>"
      ]
     },
     "metadata": {},
     "output_type": "display_data"
    },
    {
     "data": {
      "text/markdown": [
       "### Location"
      ],
      "text/plain": [
       "<IPython.core.display.Markdown object>"
      ]
     },
     "metadata": {},
     "output_type": "display_data"
    },
    {
     "name": "stdout",
     "output_type": "stream",
     "text": [
      "23 holes\n"
     ]
    },
    {
     "data": {
      "text/markdown": [
       "#### Hole 1: {'unloadtruck.2', 'drivetruck.2'}"
      ],
      "text/plain": [
       "<IPython.core.display.Markdown object>"
      ]
     },
     "metadata": {},
     "output_type": "display_data"
    },
    {
     "name": "stdout",
     "output_type": "stream",
     "text": [
      "{'unloadtruck.2', 'drivetruck.2', 'loadtruck.2'}\n",
      "{'drivetruck.1', 'drivetruck.2', 'unloadtruck.2'}\n",
      "{'unloadtruck.2', 'drivetruck.2', 'walk.2'}\n",
      "{'unloadtruck.2', 'drivetruck.2', 'disembarktruck.2'}\n",
      "{'boardtruck.2', 'drivetruck.2', 'unloadtruck.2'}\n",
      "{'unloadtruck.2', 'drivetruck.2', 'walk.1'}\n"
     ]
    },
    {
     "data": {
      "text/markdown": [
       "Checking candidate set *{'unloadtruck.2', 'drivetruck.2', 'walk.1'}* of class **Location** for well formedness and Validity"
      ],
      "text/plain": [
       "<IPython.core.display.Markdown object>"
      ]
     },
     "metadata": {},
     "output_type": "display_data"
    },
    {
     "data": {
      "text/html": [
       "<table>\n",
       "<thead>\n",
       "<tr><th>             </th><th style=\"text-align: right;\">  unloadtruck.2</th><th style=\"text-align: right;\">  drivetruck.2</th><th style=\"text-align: right;\">  loadtruck.2</th></tr>\n",
       "</thead>\n",
       "<tbody>\n",
       "<tr><td>unloadtruck.2</td><td style=\"text-align: right;\">              0</td><td style=\"text-align: right;\">             0</td><td style=\"text-align: right;\">            1</td></tr>\n",
       "<tr><td>drivetruck.2 </td><td style=\"text-align: right;\">              7</td><td style=\"text-align: right;\">             0</td><td style=\"text-align: right;\">            5</td></tr>\n",
       "<tr><td>loadtruck.2  </td><td style=\"text-align: right;\">              1</td><td style=\"text-align: right;\">             0</td><td style=\"text-align: right;\">            0</td></tr>\n",
       "</tbody>\n",
       "</table>"
      ],
      "text/plain": [
       "'<table>\\n<thead>\\n<tr><th>             </th><th style=\"text-align: right;\">  unloadtruck.2</th><th style=\"text-align: right;\">  drivetruck.2</th><th style=\"text-align: right;\">  loadtruck.2</th></tr>\\n</thead>\\n<tbody>\\n<tr><td>unloadtruck.2</td><td style=\"text-align: right;\">              0</td><td style=\"text-align: right;\">             0</td><td style=\"text-align: right;\">            1</td></tr>\\n<tr><td>drivetruck.2 </td><td style=\"text-align: right;\">              7</td><td style=\"text-align: right;\">             0</td><td style=\"text-align: right;\">            5</td></tr>\\n<tr><td>loadtruck.2  </td><td style=\"text-align: right;\">              1</td><td style=\"text-align: right;\">             0</td><td style=\"text-align: right;\">            0</td></tr>\\n</tbody>\\n</table>'"
      ]
     },
     "metadata": {},
     "output_type": "display_data"
    },
    {
     "name": "stdout",
     "output_type": "stream",
     "text": [
      "This subset is NOT well-formed\n"
     ]
    },
    {
     "data": {
      "text/html": [
       "<table>\n",
       "<thead>\n",
       "<tr><th>             </th><th style=\"text-align: right;\">  drivetruck.1</th><th style=\"text-align: right;\">  drivetruck.2</th><th style=\"text-align: right;\">  unloadtruck.2</th></tr>\n",
       "</thead>\n",
       "<tbody>\n",
       "<tr><td>drivetruck.1 </td><td style=\"text-align: right;\">             0</td><td style=\"text-align: right;\">            20</td><td style=\"text-align: right;\">              0</td></tr>\n",
       "<tr><td>drivetruck.2 </td><td style=\"text-align: right;\">            10</td><td style=\"text-align: right;\">             0</td><td style=\"text-align: right;\">              7</td></tr>\n",
       "<tr><td>unloadtruck.2</td><td style=\"text-align: right;\">             6</td><td style=\"text-align: right;\">             0</td><td style=\"text-align: right;\">              0</td></tr>\n",
       "</tbody>\n",
       "</table>"
      ],
      "text/plain": [
       "'<table>\\n<thead>\\n<tr><th>             </th><th style=\"text-align: right;\">  drivetruck.1</th><th style=\"text-align: right;\">  drivetruck.2</th><th style=\"text-align: right;\">  unloadtruck.2</th></tr>\\n</thead>\\n<tbody>\\n<tr><td>drivetruck.1 </td><td style=\"text-align: right;\">             0</td><td style=\"text-align: right;\">            20</td><td style=\"text-align: right;\">              0</td></tr>\\n<tr><td>drivetruck.2 </td><td style=\"text-align: right;\">            10</td><td style=\"text-align: right;\">             0</td><td style=\"text-align: right;\">              7</td></tr>\\n<tr><td>unloadtruck.2</td><td style=\"text-align: right;\">             6</td><td style=\"text-align: right;\">             0</td><td style=\"text-align: right;\">              0</td></tr>\\n</tbody>\\n</table>'"
      ]
     },
     "metadata": {},
     "output_type": "display_data"
    },
    {
     "name": "stdout",
     "output_type": "stream",
     "text": [
      "This subset is NOT well-formed\n"
     ]
    },
    {
     "data": {
      "text/html": [
       "<table>\n",
       "<thead>\n",
       "<tr><th>             </th><th style=\"text-align: right;\">  unloadtruck.2</th><th style=\"text-align: right;\">  drivetruck.2</th><th style=\"text-align: right;\">  walk.2</th></tr>\n",
       "</thead>\n",
       "<tbody>\n",
       "<tr><td>unloadtruck.2</td><td style=\"text-align: right;\">              0</td><td style=\"text-align: right;\">             0</td><td style=\"text-align: right;\">       0</td></tr>\n",
       "<tr><td>drivetruck.2 </td><td style=\"text-align: right;\">              7</td><td style=\"text-align: right;\">             0</td><td style=\"text-align: right;\">       0</td></tr>\n",
       "<tr><td>walk.2       </td><td style=\"text-align: right;\">              0</td><td style=\"text-align: right;\">             1</td><td style=\"text-align: right;\">       0</td></tr>\n",
       "</tbody>\n",
       "</table>"
      ],
      "text/plain": [
       "'<table>\\n<thead>\\n<tr><th>             </th><th style=\"text-align: right;\">  unloadtruck.2</th><th style=\"text-align: right;\">  drivetruck.2</th><th style=\"text-align: right;\">  walk.2</th></tr>\\n</thead>\\n<tbody>\\n<tr><td>unloadtruck.2</td><td style=\"text-align: right;\">              0</td><td style=\"text-align: right;\">             0</td><td style=\"text-align: right;\">       0</td></tr>\\n<tr><td>drivetruck.2 </td><td style=\"text-align: right;\">              7</td><td style=\"text-align: right;\">             0</td><td style=\"text-align: right;\">       0</td></tr>\\n<tr><td>walk.2       </td><td style=\"text-align: right;\">              0</td><td style=\"text-align: right;\">             1</td><td style=\"text-align: right;\">       0</td></tr>\\n</tbody>\\n</table>'"
      ]
     },
     "metadata": {},
     "output_type": "display_data"
    },
    {
     "name": "stdout",
     "output_type": "stream",
     "text": [
      "This subset is well-formed.\n",
      "This subset is valid.\n",
      "Adding this subset {'unloadtruck.2', 'drivetruck.2', 'walk.2'} to the locm2 transition set.\n",
      "Hole that is covered now:\n",
      "['unloadtruck.2', 'drivetruck.2']\n",
      "{'unloadtruck.2', 'drivetruck.2', 'loadtruck.2'}\n",
      "{'drivetruck.1', 'drivetruck.2', 'unloadtruck.2'}\n",
      "{'unloadtruck.2', 'drivetruck.2', 'walk.2'}\n",
      "{'unloadtruck.2', 'drivetruck.2', 'disembarktruck.2'}\n",
      "{'boardtruck.2', 'drivetruck.2', 'unloadtruck.2'}\n",
      "{'unloadtruck.2', 'drivetruck.2', 'walk.1'}\n",
      "{'drivetruck.1', 'drivetruck.2', 'unloadtruck.2', 'walk.1'}\n",
      "{'unloadtruck.2', 'drivetruck.2', 'walk.2', 'disembarktruck.2'}\n",
      "{'boardtruck.2', 'drivetruck.2', 'drivetruck.1', 'unloadtruck.2'}\n",
      "{'unloadtruck.2', 'drivetruck.2', 'loadtruck.2', 'walk.1'}\n",
      "{'unloadtruck.2', 'drivetruck.2', 'disembarktruck.2', 'walk.1'}\n",
      "{'drivetruck.1', 'drivetruck.2', 'unloadtruck.2', 'loadtruck.2'}\n",
      "{'boardtruck.2', 'drivetruck.2', 'unloadtruck.2', 'loadtruck.2'}\n",
      "{'boardtruck.2', 'drivetruck.2', 'walk.2', 'unloadtruck.2'}\n",
      "{'boardtruck.2', 'drivetruck.2', 'disembarktruck.2', 'unloadtruck.2'}\n",
      "{'boardtruck.2', 'drivetruck.2', 'unloadtruck.2', 'walk.1'}\n",
      "{'unloadtruck.2', 'drivetruck.2', 'walk.2', 'walk.1'}\n",
      "{'drivetruck.1', 'drivetruck.2', 'disembarktruck.2', 'unloadtruck.2'}\n",
      "{'unloadtruck.2', 'drivetruck.2', 'disembarktruck.2', 'loadtruck.2'}\n",
      "{'drivetruck.1', 'drivetruck.2', 'walk.2', 'unloadtruck.2'}\n",
      "{'unloadtruck.2', 'drivetruck.2', 'walk.2', 'loadtruck.2'}\n"
     ]
    },
    {
     "data": {
      "text/markdown": [
       "Checking candidate set *{'unloadtruck.2', 'drivetruck.2', 'walk.2', 'loadtruck.2'}* of class **Location** for well formedness and Validity"
      ],
      "text/plain": [
       "<IPython.core.display.Markdown object>"
      ]
     },
     "metadata": {},
     "output_type": "display_data"
    },
    {
     "data": {
      "text/html": [
       "<table>\n",
       "<thead>\n",
       "<tr><th>             </th><th style=\"text-align: right;\">  unloadtruck.2</th><th style=\"text-align: right;\">  drivetruck.2</th><th style=\"text-align: right;\">  loadtruck.2</th></tr>\n",
       "</thead>\n",
       "<tbody>\n",
       "<tr><td>unloadtruck.2</td><td style=\"text-align: right;\">              0</td><td style=\"text-align: right;\">             0</td><td style=\"text-align: right;\">            1</td></tr>\n",
       "<tr><td>drivetruck.2 </td><td style=\"text-align: right;\">              7</td><td style=\"text-align: right;\">             0</td><td style=\"text-align: right;\">            5</td></tr>\n",
       "<tr><td>loadtruck.2  </td><td style=\"text-align: right;\">              1</td><td style=\"text-align: right;\">             0</td><td style=\"text-align: right;\">            0</td></tr>\n",
       "</tbody>\n",
       "</table>"
      ],
      "text/plain": [
       "'<table>\\n<thead>\\n<tr><th>             </th><th style=\"text-align: right;\">  unloadtruck.2</th><th style=\"text-align: right;\">  drivetruck.2</th><th style=\"text-align: right;\">  loadtruck.2</th></tr>\\n</thead>\\n<tbody>\\n<tr><td>unloadtruck.2</td><td style=\"text-align: right;\">              0</td><td style=\"text-align: right;\">             0</td><td style=\"text-align: right;\">            1</td></tr>\\n<tr><td>drivetruck.2 </td><td style=\"text-align: right;\">              7</td><td style=\"text-align: right;\">             0</td><td style=\"text-align: right;\">            5</td></tr>\\n<tr><td>loadtruck.2  </td><td style=\"text-align: right;\">              1</td><td style=\"text-align: right;\">             0</td><td style=\"text-align: right;\">            0</td></tr>\\n</tbody>\\n</table>'"
      ]
     },
     "metadata": {},
     "output_type": "display_data"
    },
    {
     "name": "stdout",
     "output_type": "stream",
     "text": [
      "This subset is NOT well-formed\n"
     ]
    },
    {
     "data": {
      "text/html": [
       "<table>\n",
       "<thead>\n",
       "<tr><th>             </th><th style=\"text-align: right;\">  drivetruck.1</th><th style=\"text-align: right;\">  drivetruck.2</th><th style=\"text-align: right;\">  unloadtruck.2</th></tr>\n",
       "</thead>\n",
       "<tbody>\n",
       "<tr><td>drivetruck.1 </td><td style=\"text-align: right;\">             0</td><td style=\"text-align: right;\">            20</td><td style=\"text-align: right;\">              0</td></tr>\n",
       "<tr><td>drivetruck.2 </td><td style=\"text-align: right;\">            10</td><td style=\"text-align: right;\">             0</td><td style=\"text-align: right;\">              7</td></tr>\n",
       "<tr><td>unloadtruck.2</td><td style=\"text-align: right;\">             6</td><td style=\"text-align: right;\">             0</td><td style=\"text-align: right;\">              0</td></tr>\n",
       "</tbody>\n",
       "</table>"
      ],
      "text/plain": [
       "'<table>\\n<thead>\\n<tr><th>             </th><th style=\"text-align: right;\">  drivetruck.1</th><th style=\"text-align: right;\">  drivetruck.2</th><th style=\"text-align: right;\">  unloadtruck.2</th></tr>\\n</thead>\\n<tbody>\\n<tr><td>drivetruck.1 </td><td style=\"text-align: right;\">             0</td><td style=\"text-align: right;\">            20</td><td style=\"text-align: right;\">              0</td></tr>\\n<tr><td>drivetruck.2 </td><td style=\"text-align: right;\">            10</td><td style=\"text-align: right;\">             0</td><td style=\"text-align: right;\">              7</td></tr>\\n<tr><td>unloadtruck.2</td><td style=\"text-align: right;\">             6</td><td style=\"text-align: right;\">             0</td><td style=\"text-align: right;\">              0</td></tr>\\n</tbody>\\n</table>'"
      ]
     },
     "metadata": {},
     "output_type": "display_data"
    },
    {
     "name": "stdout",
     "output_type": "stream",
     "text": [
      "This subset is NOT well-formed\n"
     ]
    },
    {
     "data": {
      "text/html": [
       "<table>\n",
       "<thead>\n",
       "<tr><th>             </th><th style=\"text-align: right;\">  unloadtruck.2</th><th style=\"text-align: right;\">  drivetruck.2</th><th style=\"text-align: right;\">  walk.2</th></tr>\n",
       "</thead>\n",
       "<tbody>\n",
       "<tr><td>unloadtruck.2</td><td style=\"text-align: right;\">              0</td><td style=\"text-align: right;\">             0</td><td style=\"text-align: right;\">       0</td></tr>\n",
       "<tr><td>drivetruck.2 </td><td style=\"text-align: right;\">              7</td><td style=\"text-align: right;\">             0</td><td style=\"text-align: right;\">       0</td></tr>\n",
       "<tr><td>walk.2       </td><td style=\"text-align: right;\">              0</td><td style=\"text-align: right;\">             1</td><td style=\"text-align: right;\">       0</td></tr>\n",
       "</tbody>\n",
       "</table>"
      ],
      "text/plain": [
       "'<table>\\n<thead>\\n<tr><th>             </th><th style=\"text-align: right;\">  unloadtruck.2</th><th style=\"text-align: right;\">  drivetruck.2</th><th style=\"text-align: right;\">  walk.2</th></tr>\\n</thead>\\n<tbody>\\n<tr><td>unloadtruck.2</td><td style=\"text-align: right;\">              0</td><td style=\"text-align: right;\">             0</td><td style=\"text-align: right;\">       0</td></tr>\\n<tr><td>drivetruck.2 </td><td style=\"text-align: right;\">              7</td><td style=\"text-align: right;\">             0</td><td style=\"text-align: right;\">       0</td></tr>\\n<tr><td>walk.2       </td><td style=\"text-align: right;\">              0</td><td style=\"text-align: right;\">             1</td><td style=\"text-align: right;\">       0</td></tr>\\n</tbody>\\n</table>'"
      ]
     },
     "metadata": {},
     "output_type": "display_data"
    },
    {
     "name": "stdout",
     "output_type": "stream",
     "text": [
      "This subset is well-formed.\n",
      "This subset is valid.\n",
      "Adding this subset {'unloadtruck.2', 'drivetruck.2', 'walk.2'} to the locm2 transition set.\n",
      "Hole that is covered now:\n",
      "['unloadtruck.2', 'drivetruck.2']\n",
      "{'unloadtruck.2', 'drivetruck.2', 'loadtruck.2'}\n",
      "{'drivetruck.1', 'drivetruck.2', 'unloadtruck.2'}\n",
      "{'unloadtruck.2', 'drivetruck.2', 'walk.2'}\n",
      "{'unloadtruck.2', 'drivetruck.2', 'disembarktruck.2'}\n",
      "{'boardtruck.2', 'drivetruck.2', 'unloadtruck.2'}\n",
      "{'unloadtruck.2', 'drivetruck.2', 'walk.1'}\n",
      "{'drivetruck.1', 'drivetruck.2', 'unloadtruck.2', 'walk.1'}\n",
      "{'unloadtruck.2', 'drivetruck.2', 'walk.2', 'disembarktruck.2'}\n",
      "{'boardtruck.2', 'drivetruck.2', 'drivetruck.1', 'unloadtruck.2'}\n",
      "{'unloadtruck.2', 'drivetruck.2', 'loadtruck.2', 'walk.1'}\n",
      "{'unloadtruck.2', 'drivetruck.2', 'disembarktruck.2', 'walk.1'}\n",
      "{'drivetruck.1', 'drivetruck.2', 'unloadtruck.2', 'loadtruck.2'}\n",
      "{'boardtruck.2', 'drivetruck.2', 'unloadtruck.2', 'loadtruck.2'}\n",
      "{'boardtruck.2', 'drivetruck.2', 'walk.2', 'unloadtruck.2'}\n",
      "{'boardtruck.2', 'drivetruck.2', 'disembarktruck.2', 'unloadtruck.2'}\n",
      "{'boardtruck.2', 'drivetruck.2', 'unloadtruck.2', 'walk.1'}\n",
      "{'unloadtruck.2', 'drivetruck.2', 'walk.2', 'walk.1'}\n",
      "{'drivetruck.1', 'drivetruck.2', 'disembarktruck.2', 'unloadtruck.2'}\n",
      "{'unloadtruck.2', 'drivetruck.2', 'disembarktruck.2', 'loadtruck.2'}\n",
      "{'drivetruck.1', 'drivetruck.2', 'walk.2', 'unloadtruck.2'}\n",
      "{'unloadtruck.2', 'drivetruck.2', 'walk.2', 'loadtruck.2'}\n",
      "{'unloadtruck.2', 'drivetruck.1', 'walk.1', 'drivetruck.2', 'walk.2'}\n",
      "{'unloadtruck.2', 'disembarktruck.2', 'walk.1', 'drivetruck.2', 'walk.2'}\n",
      "{'unloadtruck.2', 'walk.1', 'boardtruck.2', 'drivetruck.2', 'walk.2'}\n",
      "{'unloadtruck.2', 'disembarktruck.2', 'loadtruck.2', 'drivetruck.1', 'drivetruck.2'}\n",
      "{'unloadtruck.2', 'disembarktruck.2', 'drivetruck.1', 'walk.1', 'drivetruck.2'}\n",
      "{'unloadtruck.2', 'loadtruck.2', 'walk.1', 'boardtruck.2', 'drivetruck.2'}\n",
      "{'unloadtruck.2', 'loadtruck.2', 'boardtruck.2', 'drivetruck.2', 'walk.2'}\n",
      "{'unloadtruck.2', 'disembarktruck.2', 'drivetruck.1', 'boardtruck.2', 'drivetruck.2'}\n",
      "{'unloadtruck.2', 'disembarktruck.2', 'loadtruck.2', 'boardtruck.2', 'drivetruck.2'}\n",
      "{'unloadtruck.2', 'disembarktruck.2', 'drivetruck.1', 'drivetruck.2', 'walk.2'}\n",
      "{'unloadtruck.2', 'drivetruck.1', 'walk.1', 'boardtruck.2', 'drivetruck.2'}\n",
      "{'unloadtruck.2', 'disembarktruck.2', 'walk.1', 'boardtruck.2', 'drivetruck.2'}\n",
      "{'unloadtruck.2', 'disembarktruck.2', 'boardtruck.2', 'drivetruck.2', 'walk.2'}\n",
      "{'unloadtruck.2', 'drivetruck.1', 'boardtruck.2', 'drivetruck.2', 'walk.2'}\n",
      "{'unloadtruck.2', 'loadtruck.2', 'drivetruck.1', 'walk.1', 'drivetruck.2'}\n",
      "{'unloadtruck.2', 'disembarktruck.2', 'loadtruck.2', 'drivetruck.2', 'walk.2'}\n",
      "{'unloadtruck.2', 'loadtruck.2', 'drivetruck.1', 'boardtruck.2', 'drivetruck.2'}\n",
      "{'unloadtruck.2', 'disembarktruck.2', 'loadtruck.2', 'walk.1', 'drivetruck.2'}\n",
      "{'unloadtruck.2', 'loadtruck.2', 'drivetruck.1', 'drivetruck.2', 'walk.2'}\n",
      "{'unloadtruck.2', 'loadtruck.2', 'walk.1', 'drivetruck.2', 'walk.2'}\n"
     ]
    },
    {
     "data": {
      "text/markdown": [
       "Checking candidate set *{'unloadtruck.2', 'loadtruck.2', 'walk.1', 'drivetruck.2', 'walk.2'}* of class **Location** for well formedness and Validity"
      ],
      "text/plain": [
       "<IPython.core.display.Markdown object>"
      ]
     },
     "metadata": {},
     "output_type": "display_data"
    },
    {
     "data": {
      "text/html": [
       "<table>\n",
       "<thead>\n",
       "<tr><th>             </th><th style=\"text-align: right;\">  unloadtruck.2</th><th style=\"text-align: right;\">  drivetruck.2</th><th style=\"text-align: right;\">  loadtruck.2</th></tr>\n",
       "</thead>\n",
       "<tbody>\n",
       "<tr><td>unloadtruck.2</td><td style=\"text-align: right;\">              0</td><td style=\"text-align: right;\">             0</td><td style=\"text-align: right;\">            1</td></tr>\n",
       "<tr><td>drivetruck.2 </td><td style=\"text-align: right;\">              7</td><td style=\"text-align: right;\">             0</td><td style=\"text-align: right;\">            5</td></tr>\n",
       "<tr><td>loadtruck.2  </td><td style=\"text-align: right;\">              1</td><td style=\"text-align: right;\">             0</td><td style=\"text-align: right;\">            0</td></tr>\n",
       "</tbody>\n",
       "</table>"
      ],
      "text/plain": [
       "'<table>\\n<thead>\\n<tr><th>             </th><th style=\"text-align: right;\">  unloadtruck.2</th><th style=\"text-align: right;\">  drivetruck.2</th><th style=\"text-align: right;\">  loadtruck.2</th></tr>\\n</thead>\\n<tbody>\\n<tr><td>unloadtruck.2</td><td style=\"text-align: right;\">              0</td><td style=\"text-align: right;\">             0</td><td style=\"text-align: right;\">            1</td></tr>\\n<tr><td>drivetruck.2 </td><td style=\"text-align: right;\">              7</td><td style=\"text-align: right;\">             0</td><td style=\"text-align: right;\">            5</td></tr>\\n<tr><td>loadtruck.2  </td><td style=\"text-align: right;\">              1</td><td style=\"text-align: right;\">             0</td><td style=\"text-align: right;\">            0</td></tr>\\n</tbody>\\n</table>'"
      ]
     },
     "metadata": {},
     "output_type": "display_data"
    },
    {
     "name": "stdout",
     "output_type": "stream",
     "text": [
      "This subset is NOT well-formed\n"
     ]
    },
    {
     "data": {
      "text/html": [
       "<table>\n",
       "<thead>\n",
       "<tr><th>             </th><th style=\"text-align: right;\">  drivetruck.1</th><th style=\"text-align: right;\">  drivetruck.2</th><th style=\"text-align: right;\">  unloadtruck.2</th></tr>\n",
       "</thead>\n",
       "<tbody>\n",
       "<tr><td>drivetruck.1 </td><td style=\"text-align: right;\">             0</td><td style=\"text-align: right;\">            20</td><td style=\"text-align: right;\">              0</td></tr>\n",
       "<tr><td>drivetruck.2 </td><td style=\"text-align: right;\">            10</td><td style=\"text-align: right;\">             0</td><td style=\"text-align: right;\">              7</td></tr>\n",
       "<tr><td>unloadtruck.2</td><td style=\"text-align: right;\">             6</td><td style=\"text-align: right;\">             0</td><td style=\"text-align: right;\">              0</td></tr>\n",
       "</tbody>\n",
       "</table>"
      ],
      "text/plain": [
       "'<table>\\n<thead>\\n<tr><th>             </th><th style=\"text-align: right;\">  drivetruck.1</th><th style=\"text-align: right;\">  drivetruck.2</th><th style=\"text-align: right;\">  unloadtruck.2</th></tr>\\n</thead>\\n<tbody>\\n<tr><td>drivetruck.1 </td><td style=\"text-align: right;\">             0</td><td style=\"text-align: right;\">            20</td><td style=\"text-align: right;\">              0</td></tr>\\n<tr><td>drivetruck.2 </td><td style=\"text-align: right;\">            10</td><td style=\"text-align: right;\">             0</td><td style=\"text-align: right;\">              7</td></tr>\\n<tr><td>unloadtruck.2</td><td style=\"text-align: right;\">             6</td><td style=\"text-align: right;\">             0</td><td style=\"text-align: right;\">              0</td></tr>\\n</tbody>\\n</table>'"
      ]
     },
     "metadata": {},
     "output_type": "display_data"
    },
    {
     "name": "stdout",
     "output_type": "stream",
     "text": [
      "This subset is NOT well-formed\n"
     ]
    },
    {
     "data": {
      "text/html": [
       "<table>\n",
       "<thead>\n",
       "<tr><th>             </th><th style=\"text-align: right;\">  unloadtruck.2</th><th style=\"text-align: right;\">  drivetruck.2</th><th style=\"text-align: right;\">  walk.2</th></tr>\n",
       "</thead>\n",
       "<tbody>\n",
       "<tr><td>unloadtruck.2</td><td style=\"text-align: right;\">              0</td><td style=\"text-align: right;\">             0</td><td style=\"text-align: right;\">       0</td></tr>\n",
       "<tr><td>drivetruck.2 </td><td style=\"text-align: right;\">              7</td><td style=\"text-align: right;\">             0</td><td style=\"text-align: right;\">       0</td></tr>\n",
       "<tr><td>walk.2       </td><td style=\"text-align: right;\">              0</td><td style=\"text-align: right;\">             1</td><td style=\"text-align: right;\">       0</td></tr>\n",
       "</tbody>\n",
       "</table>"
      ],
      "text/plain": [
       "'<table>\\n<thead>\\n<tr><th>             </th><th style=\"text-align: right;\">  unloadtruck.2</th><th style=\"text-align: right;\">  drivetruck.2</th><th style=\"text-align: right;\">  walk.2</th></tr>\\n</thead>\\n<tbody>\\n<tr><td>unloadtruck.2</td><td style=\"text-align: right;\">              0</td><td style=\"text-align: right;\">             0</td><td style=\"text-align: right;\">       0</td></tr>\\n<tr><td>drivetruck.2 </td><td style=\"text-align: right;\">              7</td><td style=\"text-align: right;\">             0</td><td style=\"text-align: right;\">       0</td></tr>\\n<tr><td>walk.2       </td><td style=\"text-align: right;\">              0</td><td style=\"text-align: right;\">             1</td><td style=\"text-align: right;\">       0</td></tr>\\n</tbody>\\n</table>'"
      ]
     },
     "metadata": {},
     "output_type": "display_data"
    },
    {
     "name": "stdout",
     "output_type": "stream",
     "text": [
      "This subset is well-formed.\n",
      "This subset is valid.\n",
      "Adding this subset {'unloadtruck.2', 'drivetruck.2', 'walk.2'} to the locm2 transition set.\n",
      "Hole that is covered now:\n",
      "['unloadtruck.2', 'drivetruck.2']\n",
      "{'unloadtruck.2', 'drivetruck.2', 'loadtruck.2'}\n",
      "{'drivetruck.1', 'drivetruck.2', 'unloadtruck.2'}\n",
      "{'unloadtruck.2', 'drivetruck.2', 'walk.2'}\n",
      "{'unloadtruck.2', 'drivetruck.2', 'disembarktruck.2'}\n",
      "{'boardtruck.2', 'drivetruck.2', 'unloadtruck.2'}\n",
      "{'unloadtruck.2', 'drivetruck.2', 'walk.1'}\n",
      "{'drivetruck.1', 'drivetruck.2', 'unloadtruck.2', 'walk.1'}\n",
      "{'unloadtruck.2', 'drivetruck.2', 'walk.2', 'disembarktruck.2'}\n",
      "{'boardtruck.2', 'drivetruck.2', 'drivetruck.1', 'unloadtruck.2'}\n",
      "{'unloadtruck.2', 'drivetruck.2', 'loadtruck.2', 'walk.1'}\n",
      "{'unloadtruck.2', 'drivetruck.2', 'disembarktruck.2', 'walk.1'}\n",
      "{'drivetruck.1', 'drivetruck.2', 'unloadtruck.2', 'loadtruck.2'}\n",
      "{'boardtruck.2', 'drivetruck.2', 'unloadtruck.2', 'loadtruck.2'}\n",
      "{'boardtruck.2', 'drivetruck.2', 'walk.2', 'unloadtruck.2'}\n",
      "{'boardtruck.2', 'drivetruck.2', 'disembarktruck.2', 'unloadtruck.2'}\n",
      "{'boardtruck.2', 'drivetruck.2', 'unloadtruck.2', 'walk.1'}\n",
      "{'unloadtruck.2', 'drivetruck.2', 'walk.2', 'walk.1'}\n",
      "{'drivetruck.1', 'drivetruck.2', 'disembarktruck.2', 'unloadtruck.2'}\n",
      "{'unloadtruck.2', 'drivetruck.2', 'disembarktruck.2', 'loadtruck.2'}\n",
      "{'drivetruck.1', 'drivetruck.2', 'walk.2', 'unloadtruck.2'}\n",
      "{'unloadtruck.2', 'drivetruck.2', 'walk.2', 'loadtruck.2'}\n",
      "{'unloadtruck.2', 'drivetruck.1', 'walk.1', 'drivetruck.2', 'walk.2'}\n",
      "{'unloadtruck.2', 'disembarktruck.2', 'walk.1', 'drivetruck.2', 'walk.2'}\n",
      "{'unloadtruck.2', 'walk.1', 'boardtruck.2', 'drivetruck.2', 'walk.2'}\n",
      "{'unloadtruck.2', 'disembarktruck.2', 'loadtruck.2', 'drivetruck.1', 'drivetruck.2'}\n",
      "{'unloadtruck.2', 'disembarktruck.2', 'drivetruck.1', 'walk.1', 'drivetruck.2'}\n",
      "{'unloadtruck.2', 'loadtruck.2', 'walk.1', 'boardtruck.2', 'drivetruck.2'}\n",
      "{'unloadtruck.2', 'loadtruck.2', 'boardtruck.2', 'drivetruck.2', 'walk.2'}\n",
      "{'unloadtruck.2', 'disembarktruck.2', 'drivetruck.1', 'boardtruck.2', 'drivetruck.2'}\n",
      "{'unloadtruck.2', 'disembarktruck.2', 'loadtruck.2', 'boardtruck.2', 'drivetruck.2'}\n",
      "{'unloadtruck.2', 'disembarktruck.2', 'drivetruck.1', 'drivetruck.2', 'walk.2'}\n",
      "{'unloadtruck.2', 'drivetruck.1', 'walk.1', 'boardtruck.2', 'drivetruck.2'}\n",
      "{'unloadtruck.2', 'disembarktruck.2', 'walk.1', 'boardtruck.2', 'drivetruck.2'}\n",
      "{'unloadtruck.2', 'disembarktruck.2', 'boardtruck.2', 'drivetruck.2', 'walk.2'}\n",
      "{'unloadtruck.2', 'drivetruck.1', 'boardtruck.2', 'drivetruck.2', 'walk.2'}\n",
      "{'unloadtruck.2', 'loadtruck.2', 'drivetruck.1', 'walk.1', 'drivetruck.2'}\n",
      "{'unloadtruck.2', 'disembarktruck.2', 'loadtruck.2', 'drivetruck.2', 'walk.2'}\n",
      "{'unloadtruck.2', 'loadtruck.2', 'drivetruck.1', 'boardtruck.2', 'drivetruck.2'}\n",
      "{'unloadtruck.2', 'disembarktruck.2', 'loadtruck.2', 'walk.1', 'drivetruck.2'}\n",
      "{'unloadtruck.2', 'loadtruck.2', 'drivetruck.1', 'drivetruck.2', 'walk.2'}\n",
      "{'unloadtruck.2', 'loadtruck.2', 'walk.1', 'drivetruck.2', 'walk.2'}\n",
      "{'unloadtruck.2', 'loadtruck.2', 'walk.1', 'boardtruck.2', 'drivetruck.2', 'walk.2'}\n",
      "{'unloadtruck.2', 'disembarktruck.2', 'loadtruck.2', 'drivetruck.1', 'boardtruck.2', 'drivetruck.2'}\n",
      "{'unloadtruck.2', 'drivetruck.1', 'walk.1', 'boardtruck.2', 'drivetruck.2', 'walk.2'}\n",
      "{'unloadtruck.2', 'disembarktruck.2', 'drivetruck.1', 'walk.1', 'drivetruck.2', 'walk.2'}\n",
      "{'unloadtruck.2', 'loadtruck.2', 'drivetruck.1', 'boardtruck.2', 'drivetruck.2', 'walk.2'}\n",
      "{'unloadtruck.2', 'disembarktruck.2', 'loadtruck.2', 'walk.1', 'drivetruck.2', 'walk.2'}\n",
      "{'unloadtruck.2', 'disembarktruck.2', 'loadtruck.2', 'drivetruck.1', 'drivetruck.2', 'walk.2'}\n",
      "{'unloadtruck.2', 'disembarktruck.2', 'drivetruck.1', 'boardtruck.2', 'drivetruck.2', 'walk.2'}\n",
      "{'unloadtruck.2', 'loadtruck.2', 'drivetruck.1', 'walk.1', 'boardtruck.2', 'drivetruck.2'}\n",
      "{'unloadtruck.2', 'disembarktruck.2', 'drivetruck.1', 'walk.1', 'boardtruck.2', 'drivetruck.2'}\n",
      "{'unloadtruck.2', 'disembarktruck.2', 'walk.1', 'boardtruck.2', 'drivetruck.2', 'walk.2'}\n",
      "{'unloadtruck.2', 'loadtruck.2', 'drivetruck.1', 'walk.1', 'drivetruck.2', 'walk.2'}\n",
      "{'unloadtruck.2', 'disembarktruck.2', 'loadtruck.2', 'boardtruck.2', 'drivetruck.2', 'walk.2'}\n",
      "{'unloadtruck.2', 'disembarktruck.2', 'loadtruck.2', 'walk.1', 'boardtruck.2', 'drivetruck.2'}\n",
      "{'unloadtruck.2', 'disembarktruck.2', 'loadtruck.2', 'drivetruck.1', 'walk.1', 'drivetruck.2'}\n"
     ]
    },
    {
     "data": {
      "text/markdown": [
       "Checking candidate set *{'unloadtruck.2', 'disembarktruck.2', 'loadtruck.2', 'drivetruck.1', 'walk.1', 'drivetruck.2'}* of class **Location** for well formedness and Validity"
      ],
      "text/plain": [
       "<IPython.core.display.Markdown object>"
      ]
     },
     "metadata": {},
     "output_type": "display_data"
    },
    {
     "data": {
      "text/html": [
       "<table>\n",
       "<thead>\n",
       "<tr><th>             </th><th style=\"text-align: right;\">  unloadtruck.2</th><th style=\"text-align: right;\">  drivetruck.2</th><th style=\"text-align: right;\">  loadtruck.2</th></tr>\n",
       "</thead>\n",
       "<tbody>\n",
       "<tr><td>unloadtruck.2</td><td style=\"text-align: right;\">              0</td><td style=\"text-align: right;\">             0</td><td style=\"text-align: right;\">            1</td></tr>\n",
       "<tr><td>drivetruck.2 </td><td style=\"text-align: right;\">              7</td><td style=\"text-align: right;\">             0</td><td style=\"text-align: right;\">            5</td></tr>\n",
       "<tr><td>loadtruck.2  </td><td style=\"text-align: right;\">              1</td><td style=\"text-align: right;\">             0</td><td style=\"text-align: right;\">            0</td></tr>\n",
       "</tbody>\n",
       "</table>"
      ],
      "text/plain": [
       "'<table>\\n<thead>\\n<tr><th>             </th><th style=\"text-align: right;\">  unloadtruck.2</th><th style=\"text-align: right;\">  drivetruck.2</th><th style=\"text-align: right;\">  loadtruck.2</th></tr>\\n</thead>\\n<tbody>\\n<tr><td>unloadtruck.2</td><td style=\"text-align: right;\">              0</td><td style=\"text-align: right;\">             0</td><td style=\"text-align: right;\">            1</td></tr>\\n<tr><td>drivetruck.2 </td><td style=\"text-align: right;\">              7</td><td style=\"text-align: right;\">             0</td><td style=\"text-align: right;\">            5</td></tr>\\n<tr><td>loadtruck.2  </td><td style=\"text-align: right;\">              1</td><td style=\"text-align: right;\">             0</td><td style=\"text-align: right;\">            0</td></tr>\\n</tbody>\\n</table>'"
      ]
     },
     "metadata": {},
     "output_type": "display_data"
    },
    {
     "name": "stdout",
     "output_type": "stream",
     "text": [
      "This subset is NOT well-formed\n"
     ]
    },
    {
     "data": {
      "text/html": [
       "<table>\n",
       "<thead>\n",
       "<tr><th>             </th><th style=\"text-align: right;\">  drivetruck.1</th><th style=\"text-align: right;\">  drivetruck.2</th><th style=\"text-align: right;\">  unloadtruck.2</th></tr>\n",
       "</thead>\n",
       "<tbody>\n",
       "<tr><td>drivetruck.1 </td><td style=\"text-align: right;\">             0</td><td style=\"text-align: right;\">            20</td><td style=\"text-align: right;\">              0</td></tr>\n",
       "<tr><td>drivetruck.2 </td><td style=\"text-align: right;\">            10</td><td style=\"text-align: right;\">             0</td><td style=\"text-align: right;\">              7</td></tr>\n",
       "<tr><td>unloadtruck.2</td><td style=\"text-align: right;\">             6</td><td style=\"text-align: right;\">             0</td><td style=\"text-align: right;\">              0</td></tr>\n",
       "</tbody>\n",
       "</table>"
      ],
      "text/plain": [
       "'<table>\\n<thead>\\n<tr><th>             </th><th style=\"text-align: right;\">  drivetruck.1</th><th style=\"text-align: right;\">  drivetruck.2</th><th style=\"text-align: right;\">  unloadtruck.2</th></tr>\\n</thead>\\n<tbody>\\n<tr><td>drivetruck.1 </td><td style=\"text-align: right;\">             0</td><td style=\"text-align: right;\">            20</td><td style=\"text-align: right;\">              0</td></tr>\\n<tr><td>drivetruck.2 </td><td style=\"text-align: right;\">            10</td><td style=\"text-align: right;\">             0</td><td style=\"text-align: right;\">              7</td></tr>\\n<tr><td>unloadtruck.2</td><td style=\"text-align: right;\">             6</td><td style=\"text-align: right;\">             0</td><td style=\"text-align: right;\">              0</td></tr>\\n</tbody>\\n</table>'"
      ]
     },
     "metadata": {},
     "output_type": "display_data"
    },
    {
     "name": "stdout",
     "output_type": "stream",
     "text": [
      "This subset is NOT well-formed\n"
     ]
    },
    {
     "data": {
      "text/html": [
       "<table>\n",
       "<thead>\n",
       "<tr><th>             </th><th style=\"text-align: right;\">  unloadtruck.2</th><th style=\"text-align: right;\">  drivetruck.2</th><th style=\"text-align: right;\">  walk.2</th></tr>\n",
       "</thead>\n",
       "<tbody>\n",
       "<tr><td>unloadtruck.2</td><td style=\"text-align: right;\">              0</td><td style=\"text-align: right;\">             0</td><td style=\"text-align: right;\">       0</td></tr>\n",
       "<tr><td>drivetruck.2 </td><td style=\"text-align: right;\">              7</td><td style=\"text-align: right;\">             0</td><td style=\"text-align: right;\">       0</td></tr>\n",
       "<tr><td>walk.2       </td><td style=\"text-align: right;\">              0</td><td style=\"text-align: right;\">             1</td><td style=\"text-align: right;\">       0</td></tr>\n",
       "</tbody>\n",
       "</table>"
      ],
      "text/plain": [
       "'<table>\\n<thead>\\n<tr><th>             </th><th style=\"text-align: right;\">  unloadtruck.2</th><th style=\"text-align: right;\">  drivetruck.2</th><th style=\"text-align: right;\">  walk.2</th></tr>\\n</thead>\\n<tbody>\\n<tr><td>unloadtruck.2</td><td style=\"text-align: right;\">              0</td><td style=\"text-align: right;\">             0</td><td style=\"text-align: right;\">       0</td></tr>\\n<tr><td>drivetruck.2 </td><td style=\"text-align: right;\">              7</td><td style=\"text-align: right;\">             0</td><td style=\"text-align: right;\">       0</td></tr>\\n<tr><td>walk.2       </td><td style=\"text-align: right;\">              0</td><td style=\"text-align: right;\">             1</td><td style=\"text-align: right;\">       0</td></tr>\\n</tbody>\\n</table>'"
      ]
     },
     "metadata": {},
     "output_type": "display_data"
    },
    {
     "name": "stdout",
     "output_type": "stream",
     "text": [
      "This subset is well-formed.\n",
      "This subset is valid.\n",
      "Adding this subset {'unloadtruck.2', 'drivetruck.2', 'walk.2'} to the locm2 transition set.\n",
      "Hole that is covered now:\n",
      "['unloadtruck.2', 'drivetruck.2']\n",
      "{'unloadtruck.2', 'drivetruck.2', 'loadtruck.2'}\n",
      "{'drivetruck.1', 'drivetruck.2', 'unloadtruck.2'}\n",
      "{'unloadtruck.2', 'drivetruck.2', 'walk.2'}\n",
      "{'unloadtruck.2', 'drivetruck.2', 'disembarktruck.2'}\n",
      "{'boardtruck.2', 'drivetruck.2', 'unloadtruck.2'}\n",
      "{'unloadtruck.2', 'drivetruck.2', 'walk.1'}\n",
      "{'drivetruck.1', 'drivetruck.2', 'unloadtruck.2', 'walk.1'}\n",
      "{'unloadtruck.2', 'drivetruck.2', 'walk.2', 'disembarktruck.2'}\n",
      "{'boardtruck.2', 'drivetruck.2', 'drivetruck.1', 'unloadtruck.2'}\n",
      "{'unloadtruck.2', 'drivetruck.2', 'loadtruck.2', 'walk.1'}\n",
      "{'unloadtruck.2', 'drivetruck.2', 'disembarktruck.2', 'walk.1'}\n",
      "{'drivetruck.1', 'drivetruck.2', 'unloadtruck.2', 'loadtruck.2'}\n",
      "{'boardtruck.2', 'drivetruck.2', 'unloadtruck.2', 'loadtruck.2'}\n",
      "{'boardtruck.2', 'drivetruck.2', 'walk.2', 'unloadtruck.2'}\n",
      "{'boardtruck.2', 'drivetruck.2', 'disembarktruck.2', 'unloadtruck.2'}\n",
      "{'boardtruck.2', 'drivetruck.2', 'unloadtruck.2', 'walk.1'}\n",
      "{'unloadtruck.2', 'drivetruck.2', 'walk.2', 'walk.1'}\n",
      "{'drivetruck.1', 'drivetruck.2', 'disembarktruck.2', 'unloadtruck.2'}\n",
      "{'unloadtruck.2', 'drivetruck.2', 'disembarktruck.2', 'loadtruck.2'}\n",
      "{'drivetruck.1', 'drivetruck.2', 'walk.2', 'unloadtruck.2'}\n",
      "{'unloadtruck.2', 'drivetruck.2', 'walk.2', 'loadtruck.2'}\n",
      "{'unloadtruck.2', 'drivetruck.1', 'walk.1', 'drivetruck.2', 'walk.2'}\n",
      "{'unloadtruck.2', 'disembarktruck.2', 'walk.1', 'drivetruck.2', 'walk.2'}\n",
      "{'unloadtruck.2', 'walk.1', 'boardtruck.2', 'drivetruck.2', 'walk.2'}\n",
      "{'unloadtruck.2', 'disembarktruck.2', 'loadtruck.2', 'drivetruck.1', 'drivetruck.2'}\n",
      "{'unloadtruck.2', 'disembarktruck.2', 'drivetruck.1', 'walk.1', 'drivetruck.2'}\n",
      "{'unloadtruck.2', 'loadtruck.2', 'walk.1', 'boardtruck.2', 'drivetruck.2'}\n",
      "{'unloadtruck.2', 'loadtruck.2', 'boardtruck.2', 'drivetruck.2', 'walk.2'}\n",
      "{'unloadtruck.2', 'disembarktruck.2', 'drivetruck.1', 'boardtruck.2', 'drivetruck.2'}\n",
      "{'unloadtruck.2', 'disembarktruck.2', 'loadtruck.2', 'boardtruck.2', 'drivetruck.2'}\n",
      "{'unloadtruck.2', 'disembarktruck.2', 'drivetruck.1', 'drivetruck.2', 'walk.2'}\n",
      "{'unloadtruck.2', 'drivetruck.1', 'walk.1', 'boardtruck.2', 'drivetruck.2'}\n",
      "{'unloadtruck.2', 'disembarktruck.2', 'walk.1', 'boardtruck.2', 'drivetruck.2'}\n",
      "{'unloadtruck.2', 'disembarktruck.2', 'boardtruck.2', 'drivetruck.2', 'walk.2'}\n",
      "{'unloadtruck.2', 'drivetruck.1', 'boardtruck.2', 'drivetruck.2', 'walk.2'}\n",
      "{'unloadtruck.2', 'loadtruck.2', 'drivetruck.1', 'walk.1', 'drivetruck.2'}\n",
      "{'unloadtruck.2', 'disembarktruck.2', 'loadtruck.2', 'drivetruck.2', 'walk.2'}\n",
      "{'unloadtruck.2', 'loadtruck.2', 'drivetruck.1', 'boardtruck.2', 'drivetruck.2'}\n",
      "{'unloadtruck.2', 'disembarktruck.2', 'loadtruck.2', 'walk.1', 'drivetruck.2'}\n",
      "{'unloadtruck.2', 'loadtruck.2', 'drivetruck.1', 'drivetruck.2', 'walk.2'}\n",
      "{'unloadtruck.2', 'loadtruck.2', 'walk.1', 'drivetruck.2', 'walk.2'}\n",
      "{'unloadtruck.2', 'loadtruck.2', 'walk.1', 'boardtruck.2', 'drivetruck.2', 'walk.2'}\n",
      "{'unloadtruck.2', 'disembarktruck.2', 'loadtruck.2', 'drivetruck.1', 'boardtruck.2', 'drivetruck.2'}\n",
      "{'unloadtruck.2', 'drivetruck.1', 'walk.1', 'boardtruck.2', 'drivetruck.2', 'walk.2'}\n",
      "{'unloadtruck.2', 'disembarktruck.2', 'drivetruck.1', 'walk.1', 'drivetruck.2', 'walk.2'}\n",
      "{'unloadtruck.2', 'loadtruck.2', 'drivetruck.1', 'boardtruck.2', 'drivetruck.2', 'walk.2'}\n",
      "{'unloadtruck.2', 'disembarktruck.2', 'loadtruck.2', 'walk.1', 'drivetruck.2', 'walk.2'}\n",
      "{'unloadtruck.2', 'disembarktruck.2', 'loadtruck.2', 'drivetruck.1', 'drivetruck.2', 'walk.2'}\n",
      "{'unloadtruck.2', 'disembarktruck.2', 'drivetruck.1', 'boardtruck.2', 'drivetruck.2', 'walk.2'}\n",
      "{'unloadtruck.2', 'loadtruck.2', 'drivetruck.1', 'walk.1', 'boardtruck.2', 'drivetruck.2'}\n",
      "{'unloadtruck.2', 'disembarktruck.2', 'drivetruck.1', 'walk.1', 'boardtruck.2', 'drivetruck.2'}\n",
      "{'unloadtruck.2', 'disembarktruck.2', 'walk.1', 'boardtruck.2', 'drivetruck.2', 'walk.2'}\n",
      "{'unloadtruck.2', 'loadtruck.2', 'drivetruck.1', 'walk.1', 'drivetruck.2', 'walk.2'}\n",
      "{'unloadtruck.2', 'disembarktruck.2', 'loadtruck.2', 'boardtruck.2', 'drivetruck.2', 'walk.2'}\n",
      "{'unloadtruck.2', 'disembarktruck.2', 'loadtruck.2', 'walk.1', 'boardtruck.2', 'drivetruck.2'}\n",
      "{'unloadtruck.2', 'disembarktruck.2', 'loadtruck.2', 'drivetruck.1', 'walk.1', 'drivetruck.2'}\n",
      "{'unloadtruck.2', 'disembarktruck.2', 'loadtruck.2', 'drivetruck.1', 'walk.1', 'boardtruck.2', 'drivetruck.2'}\n",
      "{'unloadtruck.2', 'disembarktruck.2', 'loadtruck.2', 'drivetruck.1', 'walk.1', 'drivetruck.2', 'walk.2'}\n",
      "{'unloadtruck.2', 'disembarktruck.2', 'loadtruck.2', 'drivetruck.1', 'boardtruck.2', 'drivetruck.2', 'walk.2'}\n",
      "{'unloadtruck.2', 'disembarktruck.2', 'drivetruck.1', 'walk.1', 'boardtruck.2', 'drivetruck.2', 'walk.2'}\n",
      "{'unloadtruck.2', 'loadtruck.2', 'drivetruck.1', 'walk.1', 'boardtruck.2', 'drivetruck.2', 'walk.2'}\n",
      "{'unloadtruck.2', 'disembarktruck.2', 'loadtruck.2', 'walk.1', 'boardtruck.2', 'drivetruck.2', 'walk.2'}\n"
     ]
    },
    {
     "data": {
      "text/markdown": [
       "Checking candidate set *{'unloadtruck.2', 'disembarktruck.2', 'loadtruck.2', 'walk.1', 'boardtruck.2', 'drivetruck.2', 'walk.2'}* of class **Location** for well formedness and Validity"
      ],
      "text/plain": [
       "<IPython.core.display.Markdown object>"
      ]
     },
     "metadata": {},
     "output_type": "display_data"
    },
    {
     "data": {
      "text/html": [
       "<table>\n",
       "<thead>\n",
       "<tr><th>             </th><th style=\"text-align: right;\">  unloadtruck.2</th><th style=\"text-align: right;\">  drivetruck.2</th><th style=\"text-align: right;\">  loadtruck.2</th></tr>\n",
       "</thead>\n",
       "<tbody>\n",
       "<tr><td>unloadtruck.2</td><td style=\"text-align: right;\">              0</td><td style=\"text-align: right;\">             0</td><td style=\"text-align: right;\">            1</td></tr>\n",
       "<tr><td>drivetruck.2 </td><td style=\"text-align: right;\">              7</td><td style=\"text-align: right;\">             0</td><td style=\"text-align: right;\">            5</td></tr>\n",
       "<tr><td>loadtruck.2  </td><td style=\"text-align: right;\">              1</td><td style=\"text-align: right;\">             0</td><td style=\"text-align: right;\">            0</td></tr>\n",
       "</tbody>\n",
       "</table>"
      ],
      "text/plain": [
       "'<table>\\n<thead>\\n<tr><th>             </th><th style=\"text-align: right;\">  unloadtruck.2</th><th style=\"text-align: right;\">  drivetruck.2</th><th style=\"text-align: right;\">  loadtruck.2</th></tr>\\n</thead>\\n<tbody>\\n<tr><td>unloadtruck.2</td><td style=\"text-align: right;\">              0</td><td style=\"text-align: right;\">             0</td><td style=\"text-align: right;\">            1</td></tr>\\n<tr><td>drivetruck.2 </td><td style=\"text-align: right;\">              7</td><td style=\"text-align: right;\">             0</td><td style=\"text-align: right;\">            5</td></tr>\\n<tr><td>loadtruck.2  </td><td style=\"text-align: right;\">              1</td><td style=\"text-align: right;\">             0</td><td style=\"text-align: right;\">            0</td></tr>\\n</tbody>\\n</table>'"
      ]
     },
     "metadata": {},
     "output_type": "display_data"
    },
    {
     "name": "stdout",
     "output_type": "stream",
     "text": [
      "This subset is NOT well-formed\n"
     ]
    },
    {
     "data": {
      "text/html": [
       "<table>\n",
       "<thead>\n",
       "<tr><th>             </th><th style=\"text-align: right;\">  drivetruck.1</th><th style=\"text-align: right;\">  drivetruck.2</th><th style=\"text-align: right;\">  unloadtruck.2</th></tr>\n",
       "</thead>\n",
       "<tbody>\n",
       "<tr><td>drivetruck.1 </td><td style=\"text-align: right;\">             0</td><td style=\"text-align: right;\">            20</td><td style=\"text-align: right;\">              0</td></tr>\n",
       "<tr><td>drivetruck.2 </td><td style=\"text-align: right;\">            10</td><td style=\"text-align: right;\">             0</td><td style=\"text-align: right;\">              7</td></tr>\n",
       "<tr><td>unloadtruck.2</td><td style=\"text-align: right;\">             6</td><td style=\"text-align: right;\">             0</td><td style=\"text-align: right;\">              0</td></tr>\n",
       "</tbody>\n",
       "</table>"
      ],
      "text/plain": [
       "'<table>\\n<thead>\\n<tr><th>             </th><th style=\"text-align: right;\">  drivetruck.1</th><th style=\"text-align: right;\">  drivetruck.2</th><th style=\"text-align: right;\">  unloadtruck.2</th></tr>\\n</thead>\\n<tbody>\\n<tr><td>drivetruck.1 </td><td style=\"text-align: right;\">             0</td><td style=\"text-align: right;\">            20</td><td style=\"text-align: right;\">              0</td></tr>\\n<tr><td>drivetruck.2 </td><td style=\"text-align: right;\">            10</td><td style=\"text-align: right;\">             0</td><td style=\"text-align: right;\">              7</td></tr>\\n<tr><td>unloadtruck.2</td><td style=\"text-align: right;\">             6</td><td style=\"text-align: right;\">             0</td><td style=\"text-align: right;\">              0</td></tr>\\n</tbody>\\n</table>'"
      ]
     },
     "metadata": {},
     "output_type": "display_data"
    },
    {
     "name": "stdout",
     "output_type": "stream",
     "text": [
      "This subset is NOT well-formed\n"
     ]
    },
    {
     "data": {
      "text/html": [
       "<table>\n",
       "<thead>\n",
       "<tr><th>             </th><th style=\"text-align: right;\">  unloadtruck.2</th><th style=\"text-align: right;\">  drivetruck.2</th><th style=\"text-align: right;\">  walk.2</th></tr>\n",
       "</thead>\n",
       "<tbody>\n",
       "<tr><td>unloadtruck.2</td><td style=\"text-align: right;\">              0</td><td style=\"text-align: right;\">             0</td><td style=\"text-align: right;\">       0</td></tr>\n",
       "<tr><td>drivetruck.2 </td><td style=\"text-align: right;\">              7</td><td style=\"text-align: right;\">             0</td><td style=\"text-align: right;\">       0</td></tr>\n",
       "<tr><td>walk.2       </td><td style=\"text-align: right;\">              0</td><td style=\"text-align: right;\">             1</td><td style=\"text-align: right;\">       0</td></tr>\n",
       "</tbody>\n",
       "</table>"
      ],
      "text/plain": [
       "'<table>\\n<thead>\\n<tr><th>             </th><th style=\"text-align: right;\">  unloadtruck.2</th><th style=\"text-align: right;\">  drivetruck.2</th><th style=\"text-align: right;\">  walk.2</th></tr>\\n</thead>\\n<tbody>\\n<tr><td>unloadtruck.2</td><td style=\"text-align: right;\">              0</td><td style=\"text-align: right;\">             0</td><td style=\"text-align: right;\">       0</td></tr>\\n<tr><td>drivetruck.2 </td><td style=\"text-align: right;\">              7</td><td style=\"text-align: right;\">             0</td><td style=\"text-align: right;\">       0</td></tr>\\n<tr><td>walk.2       </td><td style=\"text-align: right;\">              0</td><td style=\"text-align: right;\">             1</td><td style=\"text-align: right;\">       0</td></tr>\\n</tbody>\\n</table>'"
      ]
     },
     "metadata": {},
     "output_type": "display_data"
    },
    {
     "name": "stdout",
     "output_type": "stream",
     "text": [
      "This subset is well-formed.\n",
      "This subset is valid.\n",
      "Adding this subset {'unloadtruck.2', 'drivetruck.2', 'walk.2'} to the locm2 transition set.\n",
      "Hole that is covered now:\n",
      "['unloadtruck.2', 'drivetruck.2']\n"
     ]
    },
    {
     "data": {
      "text/markdown": [
       "#### Hole 2: {'drivetruck.1', 'unloadtruck.2'}"
      ],
      "text/plain": [
       "<IPython.core.display.Markdown object>"
      ]
     },
     "metadata": {},
     "output_type": "display_data"
    },
    {
     "name": "stdout",
     "output_type": "stream",
     "text": [
      "{'boardtruck.2', 'drivetruck.1', 'unloadtruck.2'}\n",
      "{'drivetruck.1', 'disembarktruck.2', 'unloadtruck.2'}\n",
      "{'drivetruck.1', 'unloadtruck.2', 'loadtruck.2'}\n",
      "{'drivetruck.1', 'drivetruck.2', 'unloadtruck.2'}\n",
      "{'drivetruck.1', 'unloadtruck.2', 'walk.1'}\n",
      "{'drivetruck.1', 'walk.2', 'unloadtruck.2'}\n"
     ]
    },
    {
     "data": {
      "text/markdown": [
       "Checking candidate set *{'drivetruck.1', 'walk.2', 'unloadtruck.2'}* of class **Location** for well formedness and Validity"
      ],
      "text/plain": [
       "<IPython.core.display.Markdown object>"
      ]
     },
     "metadata": {},
     "output_type": "display_data"
    },
    {
     "data": {
      "text/html": [
       "<table>\n",
       "<thead>\n",
       "<tr><th>             </th><th style=\"text-align: right;\">  boardtruck.2</th><th style=\"text-align: right;\">  drivetruck.1</th><th style=\"text-align: right;\">  unloadtruck.2</th></tr>\n",
       "</thead>\n",
       "<tbody>\n",
       "<tr><td>boardtruck.2 </td><td style=\"text-align: right;\">             0</td><td style=\"text-align: right;\">             7</td><td style=\"text-align: right;\">              1</td></tr>\n",
       "<tr><td>drivetruck.1 </td><td style=\"text-align: right;\">             1</td><td style=\"text-align: right;\">             0</td><td style=\"text-align: right;\">              0</td></tr>\n",
       "<tr><td>unloadtruck.2</td><td style=\"text-align: right;\">             1</td><td style=\"text-align: right;\">             6</td><td style=\"text-align: right;\">              0</td></tr>\n",
       "</tbody>\n",
       "</table>"
      ],
      "text/plain": [
       "'<table>\\n<thead>\\n<tr><th>             </th><th style=\"text-align: right;\">  boardtruck.2</th><th style=\"text-align: right;\">  drivetruck.1</th><th style=\"text-align: right;\">  unloadtruck.2</th></tr>\\n</thead>\\n<tbody>\\n<tr><td>boardtruck.2 </td><td style=\"text-align: right;\">             0</td><td style=\"text-align: right;\">             7</td><td style=\"text-align: right;\">              1</td></tr>\\n<tr><td>drivetruck.1 </td><td style=\"text-align: right;\">             1</td><td style=\"text-align: right;\">             0</td><td style=\"text-align: right;\">              0</td></tr>\\n<tr><td>unloadtruck.2</td><td style=\"text-align: right;\">             1</td><td style=\"text-align: right;\">             6</td><td style=\"text-align: right;\">              0</td></tr>\\n</tbody>\\n</table>'"
      ]
     },
     "metadata": {},
     "output_type": "display_data"
    },
    {
     "name": "stdout",
     "output_type": "stream",
     "text": [
      "This subset is NOT well-formed\n"
     ]
    },
    {
     "data": {
      "text/html": [
       "<table>\n",
       "<thead>\n",
       "<tr><th>                </th><th style=\"text-align: right;\">  drivetruck.1</th><th style=\"text-align: right;\">  disembarktruck.2</th><th style=\"text-align: right;\">  unloadtruck.2</th></tr>\n",
       "</thead>\n",
       "<tbody>\n",
       "<tr><td>drivetruck.1    </td><td style=\"text-align: right;\">             0</td><td style=\"text-align: right;\">                 0</td><td style=\"text-align: right;\">              0</td></tr>\n",
       "<tr><td>disembarktruck.2</td><td style=\"text-align: right;\">             0</td><td style=\"text-align: right;\">                 0</td><td style=\"text-align: right;\">              1</td></tr>\n",
       "<tr><td>unloadtruck.2   </td><td style=\"text-align: right;\">             6</td><td style=\"text-align: right;\">                 3</td><td style=\"text-align: right;\">              0</td></tr>\n",
       "</tbody>\n",
       "</table>"
      ],
      "text/plain": [
       "'<table>\\n<thead>\\n<tr><th>                </th><th style=\"text-align: right;\">  drivetruck.1</th><th style=\"text-align: right;\">  disembarktruck.2</th><th style=\"text-align: right;\">  unloadtruck.2</th></tr>\\n</thead>\\n<tbody>\\n<tr><td>drivetruck.1    </td><td style=\"text-align: right;\">             0</td><td style=\"text-align: right;\">                 0</td><td style=\"text-align: right;\">              0</td></tr>\\n<tr><td>disembarktruck.2</td><td style=\"text-align: right;\">             0</td><td style=\"text-align: right;\">                 0</td><td style=\"text-align: right;\">              1</td></tr>\\n<tr><td>unloadtruck.2   </td><td style=\"text-align: right;\">             6</td><td style=\"text-align: right;\">                 3</td><td style=\"text-align: right;\">              0</td></tr>\\n</tbody>\\n</table>'"
      ]
     },
     "metadata": {},
     "output_type": "display_data"
    },
    {
     "name": "stdout",
     "output_type": "stream",
     "text": [
      "This subset is well-formed.\n",
      "This subset is valid.\n",
      "Adding this subset {'drivetruck.1', 'disembarktruck.2', 'unloadtruck.2'} to the locm2 transition set.\n",
      "Hole that is covered now:\n",
      "['drivetruck.1', 'unloadtruck.2']\n",
      "{'boardtruck.2', 'drivetruck.1', 'unloadtruck.2'}\n",
      "{'drivetruck.1', 'disembarktruck.2', 'unloadtruck.2'}\n",
      "{'drivetruck.1', 'unloadtruck.2', 'loadtruck.2'}\n",
      "{'drivetruck.1', 'drivetruck.2', 'unloadtruck.2'}\n",
      "{'drivetruck.1', 'unloadtruck.2', 'walk.1'}\n",
      "{'drivetruck.1', 'walk.2', 'unloadtruck.2'}\n",
      "{'drivetruck.1', 'drivetruck.2', 'unloadtruck.2', 'walk.1'}\n",
      "{'boardtruck.2', 'drivetruck.2', 'drivetruck.1', 'unloadtruck.2'}\n",
      "{'boardtruck.2', 'drivetruck.1', 'walk.2', 'unloadtruck.2'}\n",
      "{'drivetruck.1', 'walk.2', 'disembarktruck.2', 'unloadtruck.2'}\n",
      "{'drivetruck.1', 'unloadtruck.2', 'disembarktruck.2', 'walk.1'}\n",
      "{'drivetruck.1', 'drivetruck.2', 'unloadtruck.2', 'loadtruck.2'}\n",
      "{'drivetruck.1', 'unloadtruck.2', 'disembarktruck.2', 'loadtruck.2'}\n",
      "{'drivetruck.1', 'unloadtruck.2', 'walk.2', 'loadtruck.2'}\n",
      "{'drivetruck.1', 'unloadtruck.2', 'loadtruck.2', 'walk.1'}\n",
      "{'drivetruck.1', 'unloadtruck.2', 'walk.2', 'walk.1'}\n",
      "{'boardtruck.2', 'drivetruck.1', 'unloadtruck.2', 'loadtruck.2'}\n",
      "{'drivetruck.1', 'drivetruck.2', 'disembarktruck.2', 'unloadtruck.2'}\n",
      "{'drivetruck.1', 'drivetruck.2', 'walk.2', 'unloadtruck.2'}\n",
      "{'boardtruck.2', 'drivetruck.1', 'disembarktruck.2', 'unloadtruck.2'}\n",
      "{'boardtruck.2', 'drivetruck.1', 'unloadtruck.2', 'walk.1'}\n"
     ]
    },
    {
     "data": {
      "text/markdown": [
       "Checking candidate set *{'boardtruck.2', 'drivetruck.1', 'unloadtruck.2', 'walk.1'}* of class **Location** for well formedness and Validity"
      ],
      "text/plain": [
       "<IPython.core.display.Markdown object>"
      ]
     },
     "metadata": {},
     "output_type": "display_data"
    },
    {
     "data": {
      "text/html": [
       "<table>\n",
       "<thead>\n",
       "<tr><th>             </th><th style=\"text-align: right;\">  boardtruck.2</th><th style=\"text-align: right;\">  drivetruck.1</th><th style=\"text-align: right;\">  unloadtruck.2</th></tr>\n",
       "</thead>\n",
       "<tbody>\n",
       "<tr><td>boardtruck.2 </td><td style=\"text-align: right;\">             0</td><td style=\"text-align: right;\">             7</td><td style=\"text-align: right;\">              1</td></tr>\n",
       "<tr><td>drivetruck.1 </td><td style=\"text-align: right;\">             1</td><td style=\"text-align: right;\">             0</td><td style=\"text-align: right;\">              0</td></tr>\n",
       "<tr><td>unloadtruck.2</td><td style=\"text-align: right;\">             1</td><td style=\"text-align: right;\">             6</td><td style=\"text-align: right;\">              0</td></tr>\n",
       "</tbody>\n",
       "</table>"
      ],
      "text/plain": [
       "'<table>\\n<thead>\\n<tr><th>             </th><th style=\"text-align: right;\">  boardtruck.2</th><th style=\"text-align: right;\">  drivetruck.1</th><th style=\"text-align: right;\">  unloadtruck.2</th></tr>\\n</thead>\\n<tbody>\\n<tr><td>boardtruck.2 </td><td style=\"text-align: right;\">             0</td><td style=\"text-align: right;\">             7</td><td style=\"text-align: right;\">              1</td></tr>\\n<tr><td>drivetruck.1 </td><td style=\"text-align: right;\">             1</td><td style=\"text-align: right;\">             0</td><td style=\"text-align: right;\">              0</td></tr>\\n<tr><td>unloadtruck.2</td><td style=\"text-align: right;\">             1</td><td style=\"text-align: right;\">             6</td><td style=\"text-align: right;\">              0</td></tr>\\n</tbody>\\n</table>'"
      ]
     },
     "metadata": {},
     "output_type": "display_data"
    },
    {
     "name": "stdout",
     "output_type": "stream",
     "text": [
      "This subset is NOT well-formed\n"
     ]
    },
    {
     "data": {
      "text/html": [
       "<table>\n",
       "<thead>\n",
       "<tr><th>                </th><th style=\"text-align: right;\">  drivetruck.1</th><th style=\"text-align: right;\">  disembarktruck.2</th><th style=\"text-align: right;\">  unloadtruck.2</th></tr>\n",
       "</thead>\n",
       "<tbody>\n",
       "<tr><td>drivetruck.1    </td><td style=\"text-align: right;\">             0</td><td style=\"text-align: right;\">                 0</td><td style=\"text-align: right;\">              0</td></tr>\n",
       "<tr><td>disembarktruck.2</td><td style=\"text-align: right;\">             0</td><td style=\"text-align: right;\">                 0</td><td style=\"text-align: right;\">              1</td></tr>\n",
       "<tr><td>unloadtruck.2   </td><td style=\"text-align: right;\">             6</td><td style=\"text-align: right;\">                 3</td><td style=\"text-align: right;\">              0</td></tr>\n",
       "</tbody>\n",
       "</table>"
      ],
      "text/plain": [
       "'<table>\\n<thead>\\n<tr><th>                </th><th style=\"text-align: right;\">  drivetruck.1</th><th style=\"text-align: right;\">  disembarktruck.2</th><th style=\"text-align: right;\">  unloadtruck.2</th></tr>\\n</thead>\\n<tbody>\\n<tr><td>drivetruck.1    </td><td style=\"text-align: right;\">             0</td><td style=\"text-align: right;\">                 0</td><td style=\"text-align: right;\">              0</td></tr>\\n<tr><td>disembarktruck.2</td><td style=\"text-align: right;\">             0</td><td style=\"text-align: right;\">                 0</td><td style=\"text-align: right;\">              1</td></tr>\\n<tr><td>unloadtruck.2   </td><td style=\"text-align: right;\">             6</td><td style=\"text-align: right;\">                 3</td><td style=\"text-align: right;\">              0</td></tr>\\n</tbody>\\n</table>'"
      ]
     },
     "metadata": {},
     "output_type": "display_data"
    },
    {
     "name": "stdout",
     "output_type": "stream",
     "text": [
      "This subset is well-formed.\n",
      "This subset is valid.\n",
      "Adding this subset {'drivetruck.1', 'disembarktruck.2', 'unloadtruck.2'} to the locm2 transition set.\n",
      "Hole that is covered now:\n",
      "['drivetruck.1', 'unloadtruck.2']\n",
      "{'boardtruck.2', 'drivetruck.1', 'unloadtruck.2'}\n",
      "{'drivetruck.1', 'disembarktruck.2', 'unloadtruck.2'}\n",
      "{'drivetruck.1', 'unloadtruck.2', 'loadtruck.2'}\n",
      "{'drivetruck.1', 'drivetruck.2', 'unloadtruck.2'}\n",
      "{'drivetruck.1', 'unloadtruck.2', 'walk.1'}\n",
      "{'drivetruck.1', 'walk.2', 'unloadtruck.2'}\n",
      "{'drivetruck.1', 'drivetruck.2', 'unloadtruck.2', 'walk.1'}\n",
      "{'boardtruck.2', 'drivetruck.2', 'drivetruck.1', 'unloadtruck.2'}\n",
      "{'boardtruck.2', 'drivetruck.1', 'walk.2', 'unloadtruck.2'}\n",
      "{'drivetruck.1', 'walk.2', 'disembarktruck.2', 'unloadtruck.2'}\n",
      "{'drivetruck.1', 'unloadtruck.2', 'disembarktruck.2', 'walk.1'}\n",
      "{'drivetruck.1', 'drivetruck.2', 'unloadtruck.2', 'loadtruck.2'}\n",
      "{'drivetruck.1', 'unloadtruck.2', 'disembarktruck.2', 'loadtruck.2'}\n",
      "{'drivetruck.1', 'unloadtruck.2', 'walk.2', 'loadtruck.2'}\n",
      "{'drivetruck.1', 'unloadtruck.2', 'loadtruck.2', 'walk.1'}\n",
      "{'drivetruck.1', 'unloadtruck.2', 'walk.2', 'walk.1'}\n",
      "{'boardtruck.2', 'drivetruck.1', 'unloadtruck.2', 'loadtruck.2'}\n",
      "{'drivetruck.1', 'drivetruck.2', 'disembarktruck.2', 'unloadtruck.2'}\n",
      "{'drivetruck.1', 'drivetruck.2', 'walk.2', 'unloadtruck.2'}\n",
      "{'boardtruck.2', 'drivetruck.1', 'disembarktruck.2', 'unloadtruck.2'}\n",
      "{'boardtruck.2', 'drivetruck.1', 'unloadtruck.2', 'walk.1'}\n",
      "{'unloadtruck.2', 'drivetruck.1', 'walk.1', 'drivetruck.2', 'walk.2'}\n",
      "{'unloadtruck.2', 'disembarktruck.2', 'drivetruck.1', 'walk.1', 'boardtruck.2'}\n",
      "{'unloadtruck.2', 'loadtruck.2', 'drivetruck.1', 'walk.1', 'walk.2'}\n",
      "{'unloadtruck.2', 'disembarktruck.2', 'loadtruck.2', 'drivetruck.1', 'drivetruck.2'}\n",
      "{'unloadtruck.2', 'disembarktruck.2', 'loadtruck.2', 'drivetruck.1', 'walk.1'}\n",
      "{'unloadtruck.2', 'drivetruck.1', 'walk.1', 'boardtruck.2', 'walk.2'}\n",
      "{'unloadtruck.2', 'disembarktruck.2', 'drivetruck.1', 'boardtruck.2', 'walk.2'}\n",
      "{'unloadtruck.2', 'disembarktruck.2', 'drivetruck.1', 'walk.1', 'drivetruck.2'}\n",
      "{'unloadtruck.2', 'disembarktruck.2', 'drivetruck.1', 'boardtruck.2', 'drivetruck.2'}\n",
      "{'unloadtruck.2', 'disembarktruck.2', 'drivetruck.1', 'drivetruck.2', 'walk.2'}\n",
      "{'unloadtruck.2', 'loadtruck.2', 'drivetruck.1', 'boardtruck.2', 'walk.2'}\n",
      "{'unloadtruck.2', 'drivetruck.1', 'walk.1', 'boardtruck.2', 'drivetruck.2'}\n",
      "{'unloadtruck.2', 'drivetruck.1', 'boardtruck.2', 'drivetruck.2', 'walk.2'}\n",
      "{'unloadtruck.2', 'loadtruck.2', 'drivetruck.1', 'walk.1', 'drivetruck.2'}\n",
      "{'unloadtruck.2', 'disembarktruck.2', 'loadtruck.2', 'drivetruck.1', 'boardtruck.2'}\n",
      "{'unloadtruck.2', 'loadtruck.2', 'drivetruck.1', 'boardtruck.2', 'drivetruck.2'}\n",
      "{'unloadtruck.2', 'disembarktruck.2', 'loadtruck.2', 'drivetruck.1', 'walk.2'}\n",
      "{'unloadtruck.2', 'loadtruck.2', 'drivetruck.1', 'walk.1', 'boardtruck.2'}\n",
      "{'unloadtruck.2', 'loadtruck.2', 'drivetruck.1', 'drivetruck.2', 'walk.2'}\n",
      "{'unloadtruck.2', 'disembarktruck.2', 'drivetruck.1', 'walk.1', 'walk.2'}\n"
     ]
    },
    {
     "data": {
      "text/markdown": [
       "Checking candidate set *{'unloadtruck.2', 'disembarktruck.2', 'drivetruck.1', 'walk.1', 'walk.2'}* of class **Location** for well formedness and Validity"
      ],
      "text/plain": [
       "<IPython.core.display.Markdown object>"
      ]
     },
     "metadata": {},
     "output_type": "display_data"
    },
    {
     "data": {
      "text/html": [
       "<table>\n",
       "<thead>\n",
       "<tr><th>             </th><th style=\"text-align: right;\">  boardtruck.2</th><th style=\"text-align: right;\">  drivetruck.1</th><th style=\"text-align: right;\">  unloadtruck.2</th></tr>\n",
       "</thead>\n",
       "<tbody>\n",
       "<tr><td>boardtruck.2 </td><td style=\"text-align: right;\">             0</td><td style=\"text-align: right;\">             7</td><td style=\"text-align: right;\">              1</td></tr>\n",
       "<tr><td>drivetruck.1 </td><td style=\"text-align: right;\">             1</td><td style=\"text-align: right;\">             0</td><td style=\"text-align: right;\">              0</td></tr>\n",
       "<tr><td>unloadtruck.2</td><td style=\"text-align: right;\">             1</td><td style=\"text-align: right;\">             6</td><td style=\"text-align: right;\">              0</td></tr>\n",
       "</tbody>\n",
       "</table>"
      ],
      "text/plain": [
       "'<table>\\n<thead>\\n<tr><th>             </th><th style=\"text-align: right;\">  boardtruck.2</th><th style=\"text-align: right;\">  drivetruck.1</th><th style=\"text-align: right;\">  unloadtruck.2</th></tr>\\n</thead>\\n<tbody>\\n<tr><td>boardtruck.2 </td><td style=\"text-align: right;\">             0</td><td style=\"text-align: right;\">             7</td><td style=\"text-align: right;\">              1</td></tr>\\n<tr><td>drivetruck.1 </td><td style=\"text-align: right;\">             1</td><td style=\"text-align: right;\">             0</td><td style=\"text-align: right;\">              0</td></tr>\\n<tr><td>unloadtruck.2</td><td style=\"text-align: right;\">             1</td><td style=\"text-align: right;\">             6</td><td style=\"text-align: right;\">              0</td></tr>\\n</tbody>\\n</table>'"
      ]
     },
     "metadata": {},
     "output_type": "display_data"
    },
    {
     "name": "stdout",
     "output_type": "stream",
     "text": [
      "This subset is NOT well-formed\n"
     ]
    },
    {
     "data": {
      "text/html": [
       "<table>\n",
       "<thead>\n",
       "<tr><th>                </th><th style=\"text-align: right;\">  drivetruck.1</th><th style=\"text-align: right;\">  disembarktruck.2</th><th style=\"text-align: right;\">  unloadtruck.2</th></tr>\n",
       "</thead>\n",
       "<tbody>\n",
       "<tr><td>drivetruck.1    </td><td style=\"text-align: right;\">             0</td><td style=\"text-align: right;\">                 0</td><td style=\"text-align: right;\">              0</td></tr>\n",
       "<tr><td>disembarktruck.2</td><td style=\"text-align: right;\">             0</td><td style=\"text-align: right;\">                 0</td><td style=\"text-align: right;\">              1</td></tr>\n",
       "<tr><td>unloadtruck.2   </td><td style=\"text-align: right;\">             6</td><td style=\"text-align: right;\">                 3</td><td style=\"text-align: right;\">              0</td></tr>\n",
       "</tbody>\n",
       "</table>"
      ],
      "text/plain": [
       "'<table>\\n<thead>\\n<tr><th>                </th><th style=\"text-align: right;\">  drivetruck.1</th><th style=\"text-align: right;\">  disembarktruck.2</th><th style=\"text-align: right;\">  unloadtruck.2</th></tr>\\n</thead>\\n<tbody>\\n<tr><td>drivetruck.1    </td><td style=\"text-align: right;\">             0</td><td style=\"text-align: right;\">                 0</td><td style=\"text-align: right;\">              0</td></tr>\\n<tr><td>disembarktruck.2</td><td style=\"text-align: right;\">             0</td><td style=\"text-align: right;\">                 0</td><td style=\"text-align: right;\">              1</td></tr>\\n<tr><td>unloadtruck.2   </td><td style=\"text-align: right;\">             6</td><td style=\"text-align: right;\">                 3</td><td style=\"text-align: right;\">              0</td></tr>\\n</tbody>\\n</table>'"
      ]
     },
     "metadata": {},
     "output_type": "display_data"
    },
    {
     "name": "stdout",
     "output_type": "stream",
     "text": [
      "This subset is well-formed.\n",
      "This subset is valid.\n",
      "Adding this subset {'drivetruck.1', 'disembarktruck.2', 'unloadtruck.2'} to the locm2 transition set.\n",
      "Hole that is covered now:\n",
      "['drivetruck.1', 'unloadtruck.2']\n",
      "{'boardtruck.2', 'drivetruck.1', 'unloadtruck.2'}\n",
      "{'drivetruck.1', 'disembarktruck.2', 'unloadtruck.2'}\n",
      "{'drivetruck.1', 'unloadtruck.2', 'loadtruck.2'}\n",
      "{'drivetruck.1', 'drivetruck.2', 'unloadtruck.2'}\n",
      "{'drivetruck.1', 'unloadtruck.2', 'walk.1'}\n",
      "{'drivetruck.1', 'walk.2', 'unloadtruck.2'}\n",
      "{'drivetruck.1', 'drivetruck.2', 'unloadtruck.2', 'walk.1'}\n",
      "{'boardtruck.2', 'drivetruck.2', 'drivetruck.1', 'unloadtruck.2'}\n",
      "{'boardtruck.2', 'drivetruck.1', 'walk.2', 'unloadtruck.2'}\n",
      "{'drivetruck.1', 'walk.2', 'disembarktruck.2', 'unloadtruck.2'}\n",
      "{'drivetruck.1', 'unloadtruck.2', 'disembarktruck.2', 'walk.1'}\n",
      "{'drivetruck.1', 'drivetruck.2', 'unloadtruck.2', 'loadtruck.2'}\n",
      "{'drivetruck.1', 'unloadtruck.2', 'disembarktruck.2', 'loadtruck.2'}\n",
      "{'drivetruck.1', 'unloadtruck.2', 'walk.2', 'loadtruck.2'}\n",
      "{'drivetruck.1', 'unloadtruck.2', 'loadtruck.2', 'walk.1'}\n",
      "{'drivetruck.1', 'unloadtruck.2', 'walk.2', 'walk.1'}\n",
      "{'boardtruck.2', 'drivetruck.1', 'unloadtruck.2', 'loadtruck.2'}\n",
      "{'drivetruck.1', 'drivetruck.2', 'disembarktruck.2', 'unloadtruck.2'}\n",
      "{'drivetruck.1', 'drivetruck.2', 'walk.2', 'unloadtruck.2'}\n",
      "{'boardtruck.2', 'drivetruck.1', 'disembarktruck.2', 'unloadtruck.2'}\n",
      "{'boardtruck.2', 'drivetruck.1', 'unloadtruck.2', 'walk.1'}\n",
      "{'unloadtruck.2', 'drivetruck.1', 'walk.1', 'drivetruck.2', 'walk.2'}\n",
      "{'unloadtruck.2', 'disembarktruck.2', 'drivetruck.1', 'walk.1', 'boardtruck.2'}\n",
      "{'unloadtruck.2', 'loadtruck.2', 'drivetruck.1', 'walk.1', 'walk.2'}\n",
      "{'unloadtruck.2', 'disembarktruck.2', 'loadtruck.2', 'drivetruck.1', 'drivetruck.2'}\n",
      "{'unloadtruck.2', 'disembarktruck.2', 'loadtruck.2', 'drivetruck.1', 'walk.1'}\n",
      "{'unloadtruck.2', 'drivetruck.1', 'walk.1', 'boardtruck.2', 'walk.2'}\n",
      "{'unloadtruck.2', 'disembarktruck.2', 'drivetruck.1', 'boardtruck.2', 'walk.2'}\n",
      "{'unloadtruck.2', 'disembarktruck.2', 'drivetruck.1', 'walk.1', 'drivetruck.2'}\n",
      "{'unloadtruck.2', 'disembarktruck.2', 'drivetruck.1', 'boardtruck.2', 'drivetruck.2'}\n",
      "{'unloadtruck.2', 'disembarktruck.2', 'drivetruck.1', 'drivetruck.2', 'walk.2'}\n",
      "{'unloadtruck.2', 'loadtruck.2', 'drivetruck.1', 'boardtruck.2', 'walk.2'}\n",
      "{'unloadtruck.2', 'drivetruck.1', 'walk.1', 'boardtruck.2', 'drivetruck.2'}\n",
      "{'unloadtruck.2', 'drivetruck.1', 'boardtruck.2', 'drivetruck.2', 'walk.2'}\n",
      "{'unloadtruck.2', 'loadtruck.2', 'drivetruck.1', 'walk.1', 'drivetruck.2'}\n",
      "{'unloadtruck.2', 'disembarktruck.2', 'loadtruck.2', 'drivetruck.1', 'boardtruck.2'}\n",
      "{'unloadtruck.2', 'loadtruck.2', 'drivetruck.1', 'boardtruck.2', 'drivetruck.2'}\n",
      "{'unloadtruck.2', 'disembarktruck.2', 'loadtruck.2', 'drivetruck.1', 'walk.2'}\n",
      "{'unloadtruck.2', 'loadtruck.2', 'drivetruck.1', 'walk.1', 'boardtruck.2'}\n",
      "{'unloadtruck.2', 'loadtruck.2', 'drivetruck.1', 'drivetruck.2', 'walk.2'}\n",
      "{'unloadtruck.2', 'disembarktruck.2', 'drivetruck.1', 'walk.1', 'walk.2'}\n",
      "{'unloadtruck.2', 'disembarktruck.2', 'loadtruck.2', 'drivetruck.1', 'boardtruck.2', 'drivetruck.2'}\n",
      "{'unloadtruck.2', 'disembarktruck.2', 'drivetruck.1', 'walk.1', 'boardtruck.2', 'walk.2'}\n",
      "{'unloadtruck.2', 'disembarktruck.2', 'loadtruck.2', 'drivetruck.1', 'boardtruck.2', 'walk.2'}\n",
      "{'unloadtruck.2', 'drivetruck.1', 'walk.1', 'boardtruck.2', 'drivetruck.2', 'walk.2'}\n",
      "{'unloadtruck.2', 'disembarktruck.2', 'drivetruck.1', 'walk.1', 'drivetruck.2', 'walk.2'}\n",
      "{'unloadtruck.2', 'loadtruck.2', 'drivetruck.1', 'boardtruck.2', 'drivetruck.2', 'walk.2'}\n",
      "{'unloadtruck.2', 'disembarktruck.2', 'loadtruck.2', 'drivetruck.1', 'walk.1', 'walk.2'}\n",
      "{'unloadtruck.2', 'disembarktruck.2', 'loadtruck.2', 'drivetruck.1', 'drivetruck.2', 'walk.2'}\n",
      "{'unloadtruck.2', 'disembarktruck.2', 'loadtruck.2', 'drivetruck.1', 'walk.1', 'boardtruck.2'}\n",
      "{'unloadtruck.2', 'disembarktruck.2', 'drivetruck.1', 'boardtruck.2', 'drivetruck.2', 'walk.2'}\n",
      "{'unloadtruck.2', 'loadtruck.2', 'drivetruck.1', 'walk.1', 'boardtruck.2', 'drivetruck.2'}\n",
      "{'unloadtruck.2', 'loadtruck.2', 'drivetruck.1', 'walk.1', 'boardtruck.2', 'walk.2'}\n",
      "{'unloadtruck.2', 'disembarktruck.2', 'drivetruck.1', 'walk.1', 'boardtruck.2', 'drivetruck.2'}\n",
      "{'unloadtruck.2', 'loadtruck.2', 'drivetruck.1', 'walk.1', 'drivetruck.2', 'walk.2'}\n",
      "{'unloadtruck.2', 'disembarktruck.2', 'loadtruck.2', 'drivetruck.1', 'walk.1', 'drivetruck.2'}\n"
     ]
    },
    {
     "data": {
      "text/markdown": [
       "Checking candidate set *{'unloadtruck.2', 'disembarktruck.2', 'loadtruck.2', 'drivetruck.1', 'walk.1', 'drivetruck.2'}* of class **Location** for well formedness and Validity"
      ],
      "text/plain": [
       "<IPython.core.display.Markdown object>"
      ]
     },
     "metadata": {},
     "output_type": "display_data"
    },
    {
     "data": {
      "text/html": [
       "<table>\n",
       "<thead>\n",
       "<tr><th>             </th><th style=\"text-align: right;\">  boardtruck.2</th><th style=\"text-align: right;\">  drivetruck.1</th><th style=\"text-align: right;\">  unloadtruck.2</th></tr>\n",
       "</thead>\n",
       "<tbody>\n",
       "<tr><td>boardtruck.2 </td><td style=\"text-align: right;\">             0</td><td style=\"text-align: right;\">             7</td><td style=\"text-align: right;\">              1</td></tr>\n",
       "<tr><td>drivetruck.1 </td><td style=\"text-align: right;\">             1</td><td style=\"text-align: right;\">             0</td><td style=\"text-align: right;\">              0</td></tr>\n",
       "<tr><td>unloadtruck.2</td><td style=\"text-align: right;\">             1</td><td style=\"text-align: right;\">             6</td><td style=\"text-align: right;\">              0</td></tr>\n",
       "</tbody>\n",
       "</table>"
      ],
      "text/plain": [
       "'<table>\\n<thead>\\n<tr><th>             </th><th style=\"text-align: right;\">  boardtruck.2</th><th style=\"text-align: right;\">  drivetruck.1</th><th style=\"text-align: right;\">  unloadtruck.2</th></tr>\\n</thead>\\n<tbody>\\n<tr><td>boardtruck.2 </td><td style=\"text-align: right;\">             0</td><td style=\"text-align: right;\">             7</td><td style=\"text-align: right;\">              1</td></tr>\\n<tr><td>drivetruck.1 </td><td style=\"text-align: right;\">             1</td><td style=\"text-align: right;\">             0</td><td style=\"text-align: right;\">              0</td></tr>\\n<tr><td>unloadtruck.2</td><td style=\"text-align: right;\">             1</td><td style=\"text-align: right;\">             6</td><td style=\"text-align: right;\">              0</td></tr>\\n</tbody>\\n</table>'"
      ]
     },
     "metadata": {},
     "output_type": "display_data"
    },
    {
     "name": "stdout",
     "output_type": "stream",
     "text": [
      "This subset is NOT well-formed\n"
     ]
    },
    {
     "data": {
      "text/html": [
       "<table>\n",
       "<thead>\n",
       "<tr><th>                </th><th style=\"text-align: right;\">  drivetruck.1</th><th style=\"text-align: right;\">  disembarktruck.2</th><th style=\"text-align: right;\">  unloadtruck.2</th></tr>\n",
       "</thead>\n",
       "<tbody>\n",
       "<tr><td>drivetruck.1    </td><td style=\"text-align: right;\">             0</td><td style=\"text-align: right;\">                 0</td><td style=\"text-align: right;\">              0</td></tr>\n",
       "<tr><td>disembarktruck.2</td><td style=\"text-align: right;\">             0</td><td style=\"text-align: right;\">                 0</td><td style=\"text-align: right;\">              1</td></tr>\n",
       "<tr><td>unloadtruck.2   </td><td style=\"text-align: right;\">             6</td><td style=\"text-align: right;\">                 3</td><td style=\"text-align: right;\">              0</td></tr>\n",
       "</tbody>\n",
       "</table>"
      ],
      "text/plain": [
       "'<table>\\n<thead>\\n<tr><th>                </th><th style=\"text-align: right;\">  drivetruck.1</th><th style=\"text-align: right;\">  disembarktruck.2</th><th style=\"text-align: right;\">  unloadtruck.2</th></tr>\\n</thead>\\n<tbody>\\n<tr><td>drivetruck.1    </td><td style=\"text-align: right;\">             0</td><td style=\"text-align: right;\">                 0</td><td style=\"text-align: right;\">              0</td></tr>\\n<tr><td>disembarktruck.2</td><td style=\"text-align: right;\">             0</td><td style=\"text-align: right;\">                 0</td><td style=\"text-align: right;\">              1</td></tr>\\n<tr><td>unloadtruck.2   </td><td style=\"text-align: right;\">             6</td><td style=\"text-align: right;\">                 3</td><td style=\"text-align: right;\">              0</td></tr>\\n</tbody>\\n</table>'"
      ]
     },
     "metadata": {},
     "output_type": "display_data"
    },
    {
     "name": "stdout",
     "output_type": "stream",
     "text": [
      "This subset is well-formed.\n",
      "This subset is valid.\n",
      "Adding this subset {'drivetruck.1', 'disembarktruck.2', 'unloadtruck.2'} to the locm2 transition set.\n",
      "Hole that is covered now:\n",
      "['drivetruck.1', 'unloadtruck.2']\n",
      "{'boardtruck.2', 'drivetruck.1', 'unloadtruck.2'}\n",
      "{'drivetruck.1', 'disembarktruck.2', 'unloadtruck.2'}\n",
      "{'drivetruck.1', 'unloadtruck.2', 'loadtruck.2'}\n",
      "{'drivetruck.1', 'drivetruck.2', 'unloadtruck.2'}\n",
      "{'drivetruck.1', 'unloadtruck.2', 'walk.1'}\n",
      "{'drivetruck.1', 'walk.2', 'unloadtruck.2'}\n",
      "{'drivetruck.1', 'drivetruck.2', 'unloadtruck.2', 'walk.1'}\n",
      "{'boardtruck.2', 'drivetruck.2', 'drivetruck.1', 'unloadtruck.2'}\n",
      "{'boardtruck.2', 'drivetruck.1', 'walk.2', 'unloadtruck.2'}\n",
      "{'drivetruck.1', 'walk.2', 'disembarktruck.2', 'unloadtruck.2'}\n",
      "{'drivetruck.1', 'unloadtruck.2', 'disembarktruck.2', 'walk.1'}\n",
      "{'drivetruck.1', 'drivetruck.2', 'unloadtruck.2', 'loadtruck.2'}\n",
      "{'drivetruck.1', 'unloadtruck.2', 'disembarktruck.2', 'loadtruck.2'}\n",
      "{'drivetruck.1', 'unloadtruck.2', 'walk.2', 'loadtruck.2'}\n",
      "{'drivetruck.1', 'unloadtruck.2', 'loadtruck.2', 'walk.1'}\n",
      "{'drivetruck.1', 'unloadtruck.2', 'walk.2', 'walk.1'}\n",
      "{'boardtruck.2', 'drivetruck.1', 'unloadtruck.2', 'loadtruck.2'}\n",
      "{'drivetruck.1', 'drivetruck.2', 'disembarktruck.2', 'unloadtruck.2'}\n",
      "{'drivetruck.1', 'drivetruck.2', 'walk.2', 'unloadtruck.2'}\n",
      "{'boardtruck.2', 'drivetruck.1', 'disembarktruck.2', 'unloadtruck.2'}\n",
      "{'boardtruck.2', 'drivetruck.1', 'unloadtruck.2', 'walk.1'}\n",
      "{'unloadtruck.2', 'drivetruck.1', 'walk.1', 'drivetruck.2', 'walk.2'}\n",
      "{'unloadtruck.2', 'disembarktruck.2', 'drivetruck.1', 'walk.1', 'boardtruck.2'}\n",
      "{'unloadtruck.2', 'loadtruck.2', 'drivetruck.1', 'walk.1', 'walk.2'}\n",
      "{'unloadtruck.2', 'disembarktruck.2', 'loadtruck.2', 'drivetruck.1', 'drivetruck.2'}\n",
      "{'unloadtruck.2', 'disembarktruck.2', 'loadtruck.2', 'drivetruck.1', 'walk.1'}\n",
      "{'unloadtruck.2', 'drivetruck.1', 'walk.1', 'boardtruck.2', 'walk.2'}\n",
      "{'unloadtruck.2', 'disembarktruck.2', 'drivetruck.1', 'boardtruck.2', 'walk.2'}\n",
      "{'unloadtruck.2', 'disembarktruck.2', 'drivetruck.1', 'walk.1', 'drivetruck.2'}\n",
      "{'unloadtruck.2', 'disembarktruck.2', 'drivetruck.1', 'boardtruck.2', 'drivetruck.2'}\n",
      "{'unloadtruck.2', 'disembarktruck.2', 'drivetruck.1', 'drivetruck.2', 'walk.2'}\n",
      "{'unloadtruck.2', 'loadtruck.2', 'drivetruck.1', 'boardtruck.2', 'walk.2'}\n",
      "{'unloadtruck.2', 'drivetruck.1', 'walk.1', 'boardtruck.2', 'drivetruck.2'}\n",
      "{'unloadtruck.2', 'drivetruck.1', 'boardtruck.2', 'drivetruck.2', 'walk.2'}\n",
      "{'unloadtruck.2', 'loadtruck.2', 'drivetruck.1', 'walk.1', 'drivetruck.2'}\n",
      "{'unloadtruck.2', 'disembarktruck.2', 'loadtruck.2', 'drivetruck.1', 'boardtruck.2'}\n",
      "{'unloadtruck.2', 'loadtruck.2', 'drivetruck.1', 'boardtruck.2', 'drivetruck.2'}\n",
      "{'unloadtruck.2', 'disembarktruck.2', 'loadtruck.2', 'drivetruck.1', 'walk.2'}\n",
      "{'unloadtruck.2', 'loadtruck.2', 'drivetruck.1', 'walk.1', 'boardtruck.2'}\n",
      "{'unloadtruck.2', 'loadtruck.2', 'drivetruck.1', 'drivetruck.2', 'walk.2'}\n",
      "{'unloadtruck.2', 'disembarktruck.2', 'drivetruck.1', 'walk.1', 'walk.2'}\n",
      "{'unloadtruck.2', 'disembarktruck.2', 'loadtruck.2', 'drivetruck.1', 'boardtruck.2', 'drivetruck.2'}\n",
      "{'unloadtruck.2', 'disembarktruck.2', 'drivetruck.1', 'walk.1', 'boardtruck.2', 'walk.2'}\n",
      "{'unloadtruck.2', 'disembarktruck.2', 'loadtruck.2', 'drivetruck.1', 'boardtruck.2', 'walk.2'}\n",
      "{'unloadtruck.2', 'drivetruck.1', 'walk.1', 'boardtruck.2', 'drivetruck.2', 'walk.2'}\n",
      "{'unloadtruck.2', 'disembarktruck.2', 'drivetruck.1', 'walk.1', 'drivetruck.2', 'walk.2'}\n",
      "{'unloadtruck.2', 'loadtruck.2', 'drivetruck.1', 'boardtruck.2', 'drivetruck.2', 'walk.2'}\n",
      "{'unloadtruck.2', 'disembarktruck.2', 'loadtruck.2', 'drivetruck.1', 'walk.1', 'walk.2'}\n",
      "{'unloadtruck.2', 'disembarktruck.2', 'loadtruck.2', 'drivetruck.1', 'drivetruck.2', 'walk.2'}\n",
      "{'unloadtruck.2', 'disembarktruck.2', 'loadtruck.2', 'drivetruck.1', 'walk.1', 'boardtruck.2'}\n",
      "{'unloadtruck.2', 'disembarktruck.2', 'drivetruck.1', 'boardtruck.2', 'drivetruck.2', 'walk.2'}\n",
      "{'unloadtruck.2', 'loadtruck.2', 'drivetruck.1', 'walk.1', 'boardtruck.2', 'drivetruck.2'}\n",
      "{'unloadtruck.2', 'loadtruck.2', 'drivetruck.1', 'walk.1', 'boardtruck.2', 'walk.2'}\n",
      "{'unloadtruck.2', 'disembarktruck.2', 'drivetruck.1', 'walk.1', 'boardtruck.2', 'drivetruck.2'}\n",
      "{'unloadtruck.2', 'loadtruck.2', 'drivetruck.1', 'walk.1', 'drivetruck.2', 'walk.2'}\n",
      "{'unloadtruck.2', 'disembarktruck.2', 'loadtruck.2', 'drivetruck.1', 'walk.1', 'drivetruck.2'}\n",
      "{'unloadtruck.2', 'disembarktruck.2', 'loadtruck.2', 'drivetruck.1', 'walk.1', 'boardtruck.2', 'drivetruck.2'}\n",
      "{'unloadtruck.2', 'disembarktruck.2', 'loadtruck.2', 'drivetruck.1', 'walk.1', 'drivetruck.2', 'walk.2'}\n",
      "{'unloadtruck.2', 'disembarktruck.2', 'loadtruck.2', 'drivetruck.1', 'walk.1', 'boardtruck.2', 'walk.2'}\n",
      "{'unloadtruck.2', 'disembarktruck.2', 'loadtruck.2', 'drivetruck.1', 'boardtruck.2', 'drivetruck.2', 'walk.2'}\n",
      "{'unloadtruck.2', 'disembarktruck.2', 'drivetruck.1', 'walk.1', 'boardtruck.2', 'drivetruck.2', 'walk.2'}\n",
      "{'unloadtruck.2', 'loadtruck.2', 'drivetruck.1', 'walk.1', 'boardtruck.2', 'drivetruck.2', 'walk.2'}\n"
     ]
    },
    {
     "data": {
      "text/markdown": [
       "Checking candidate set *{'unloadtruck.2', 'loadtruck.2', 'drivetruck.1', 'walk.1', 'boardtruck.2', 'drivetruck.2', 'walk.2'}* of class **Location** for well formedness and Validity"
      ],
      "text/plain": [
       "<IPython.core.display.Markdown object>"
      ]
     },
     "metadata": {},
     "output_type": "display_data"
    },
    {
     "data": {
      "text/html": [
       "<table>\n",
       "<thead>\n",
       "<tr><th>             </th><th style=\"text-align: right;\">  boardtruck.2</th><th style=\"text-align: right;\">  drivetruck.1</th><th style=\"text-align: right;\">  unloadtruck.2</th></tr>\n",
       "</thead>\n",
       "<tbody>\n",
       "<tr><td>boardtruck.2 </td><td style=\"text-align: right;\">             0</td><td style=\"text-align: right;\">             7</td><td style=\"text-align: right;\">              1</td></tr>\n",
       "<tr><td>drivetruck.1 </td><td style=\"text-align: right;\">             1</td><td style=\"text-align: right;\">             0</td><td style=\"text-align: right;\">              0</td></tr>\n",
       "<tr><td>unloadtruck.2</td><td style=\"text-align: right;\">             1</td><td style=\"text-align: right;\">             6</td><td style=\"text-align: right;\">              0</td></tr>\n",
       "</tbody>\n",
       "</table>"
      ],
      "text/plain": [
       "'<table>\\n<thead>\\n<tr><th>             </th><th style=\"text-align: right;\">  boardtruck.2</th><th style=\"text-align: right;\">  drivetruck.1</th><th style=\"text-align: right;\">  unloadtruck.2</th></tr>\\n</thead>\\n<tbody>\\n<tr><td>boardtruck.2 </td><td style=\"text-align: right;\">             0</td><td style=\"text-align: right;\">             7</td><td style=\"text-align: right;\">              1</td></tr>\\n<tr><td>drivetruck.1 </td><td style=\"text-align: right;\">             1</td><td style=\"text-align: right;\">             0</td><td style=\"text-align: right;\">              0</td></tr>\\n<tr><td>unloadtruck.2</td><td style=\"text-align: right;\">             1</td><td style=\"text-align: right;\">             6</td><td style=\"text-align: right;\">              0</td></tr>\\n</tbody>\\n</table>'"
      ]
     },
     "metadata": {},
     "output_type": "display_data"
    },
    {
     "name": "stdout",
     "output_type": "stream",
     "text": [
      "This subset is NOT well-formed\n"
     ]
    },
    {
     "data": {
      "text/html": [
       "<table>\n",
       "<thead>\n",
       "<tr><th>                </th><th style=\"text-align: right;\">  drivetruck.1</th><th style=\"text-align: right;\">  disembarktruck.2</th><th style=\"text-align: right;\">  unloadtruck.2</th></tr>\n",
       "</thead>\n",
       "<tbody>\n",
       "<tr><td>drivetruck.1    </td><td style=\"text-align: right;\">             0</td><td style=\"text-align: right;\">                 0</td><td style=\"text-align: right;\">              0</td></tr>\n",
       "<tr><td>disembarktruck.2</td><td style=\"text-align: right;\">             0</td><td style=\"text-align: right;\">                 0</td><td style=\"text-align: right;\">              1</td></tr>\n",
       "<tr><td>unloadtruck.2   </td><td style=\"text-align: right;\">             6</td><td style=\"text-align: right;\">                 3</td><td style=\"text-align: right;\">              0</td></tr>\n",
       "</tbody>\n",
       "</table>"
      ],
      "text/plain": [
       "'<table>\\n<thead>\\n<tr><th>                </th><th style=\"text-align: right;\">  drivetruck.1</th><th style=\"text-align: right;\">  disembarktruck.2</th><th style=\"text-align: right;\">  unloadtruck.2</th></tr>\\n</thead>\\n<tbody>\\n<tr><td>drivetruck.1    </td><td style=\"text-align: right;\">             0</td><td style=\"text-align: right;\">                 0</td><td style=\"text-align: right;\">              0</td></tr>\\n<tr><td>disembarktruck.2</td><td style=\"text-align: right;\">             0</td><td style=\"text-align: right;\">                 0</td><td style=\"text-align: right;\">              1</td></tr>\\n<tr><td>unloadtruck.2   </td><td style=\"text-align: right;\">             6</td><td style=\"text-align: right;\">                 3</td><td style=\"text-align: right;\">              0</td></tr>\\n</tbody>\\n</table>'"
      ]
     },
     "metadata": {},
     "output_type": "display_data"
    },
    {
     "name": "stdout",
     "output_type": "stream",
     "text": [
      "This subset is well-formed.\n",
      "This subset is valid.\n",
      "Adding this subset {'drivetruck.1', 'disembarktruck.2', 'unloadtruck.2'} to the locm2 transition set.\n",
      "Hole that is covered now:\n",
      "['drivetruck.1', 'unloadtruck.2']\n"
     ]
    },
    {
     "data": {
      "text/markdown": [
       "#### Hole 3: {'boardtruck.2', 'walk.1'}"
      ],
      "text/plain": [
       "<IPython.core.display.Markdown object>"
      ]
     },
     "metadata": {},
     "output_type": "display_data"
    },
    {
     "name": "stdout",
     "output_type": "stream",
     "text": [
      "{'boardtruck.2', 'disembarktruck.2', 'walk.1'}\n",
      "{'boardtruck.2', 'unloadtruck.2', 'walk.1'}\n",
      "{'boardtruck.2', 'drivetruck.2', 'walk.1'}\n",
      "{'boardtruck.2', 'walk.2', 'walk.1'}\n",
      "{'boardtruck.2', 'loadtruck.2', 'walk.1'}\n",
      "{'boardtruck.2', 'drivetruck.1', 'walk.1'}\n"
     ]
    },
    {
     "data": {
      "text/markdown": [
       "Checking candidate set *{'boardtruck.2', 'drivetruck.1', 'walk.1'}* of class **Location** for well formedness and Validity"
      ],
      "text/plain": [
       "<IPython.core.display.Markdown object>"
      ]
     },
     "metadata": {},
     "output_type": "display_data"
    },
    {
     "data": {
      "text/html": [
       "<table>\n",
       "<thead>\n",
       "<tr><th>                </th><th style=\"text-align: right;\">  boardtruck.2</th><th style=\"text-align: right;\">  disembarktruck.2</th><th style=\"text-align: right;\">  walk.1</th></tr>\n",
       "</thead>\n",
       "<tbody>\n",
       "<tr><td>boardtruck.2    </td><td style=\"text-align: right;\">             0</td><td style=\"text-align: right;\">                 1</td><td style=\"text-align: right;\">       0</td></tr>\n",
       "<tr><td>disembarktruck.2</td><td style=\"text-align: right;\">             4</td><td style=\"text-align: right;\">                 0</td><td style=\"text-align: right;\">       2</td></tr>\n",
       "<tr><td>walk.1          </td><td style=\"text-align: right;\">             0</td><td style=\"text-align: right;\">                 0</td><td style=\"text-align: right;\">       0</td></tr>\n",
       "</tbody>\n",
       "</table>"
      ],
      "text/plain": [
       "'<table>\\n<thead>\\n<tr><th>                </th><th style=\"text-align: right;\">  boardtruck.2</th><th style=\"text-align: right;\">  disembarktruck.2</th><th style=\"text-align: right;\">  walk.1</th></tr>\\n</thead>\\n<tbody>\\n<tr><td>boardtruck.2    </td><td style=\"text-align: right;\">             0</td><td style=\"text-align: right;\">                 1</td><td style=\"text-align: right;\">       0</td></tr>\\n<tr><td>disembarktruck.2</td><td style=\"text-align: right;\">             4</td><td style=\"text-align: right;\">                 0</td><td style=\"text-align: right;\">       2</td></tr>\\n<tr><td>walk.1          </td><td style=\"text-align: right;\">             0</td><td style=\"text-align: right;\">                 0</td><td style=\"text-align: right;\">       0</td></tr>\\n</tbody>\\n</table>'"
      ]
     },
     "metadata": {},
     "output_type": "display_data"
    },
    {
     "name": "stdout",
     "output_type": "stream",
     "text": [
      "This subset is well-formed.\n",
      "This subset is valid.\n",
      "Adding this subset {'boardtruck.2', 'disembarktruck.2', 'walk.1'} to the locm2 transition set.\n",
      "Hole that is covered now:\n",
      "['boardtruck.2', 'walk.1']\n",
      "{'boardtruck.2', 'disembarktruck.2', 'walk.1'}\n",
      "{'boardtruck.2', 'unloadtruck.2', 'walk.1'}\n",
      "{'boardtruck.2', 'drivetruck.2', 'walk.1'}\n",
      "{'boardtruck.2', 'walk.2', 'walk.1'}\n",
      "{'boardtruck.2', 'loadtruck.2', 'walk.1'}\n",
      "{'boardtruck.2', 'drivetruck.1', 'walk.1'}\n",
      "{'boardtruck.2', 'drivetruck.2', 'drivetruck.1', 'walk.1'}\n",
      "{'boardtruck.2', 'drivetruck.1', 'disembarktruck.2', 'walk.1'}\n",
      "{'boardtruck.2', 'drivetruck.1', 'walk.2', 'walk.1'}\n",
      "{'boardtruck.2', 'drivetruck.2', 'disembarktruck.2', 'walk.1'}\n",
      "{'boardtruck.2', 'walk.2', 'disembarktruck.2', 'walk.1'}\n",
      "{'boardtruck.2', 'walk.2', 'loadtruck.2', 'walk.1'}\n",
      "{'boardtruck.2', 'unloadtruck.2', 'loadtruck.2', 'walk.1'}\n",
      "{'boardtruck.2', 'drivetruck.2', 'unloadtruck.2', 'walk.1'}\n",
      "{'boardtruck.2', 'unloadtruck.2', 'walk.2', 'walk.1'}\n",
      "{'boardtruck.2', 'disembarktruck.2', 'loadtruck.2', 'walk.1'}\n",
      "{'boardtruck.2', 'unloadtruck.2', 'disembarktruck.2', 'walk.1'}\n",
      "{'boardtruck.2', 'drivetruck.2', 'walk.2', 'walk.1'}\n",
      "{'boardtruck.2', 'drivetruck.1', 'unloadtruck.2', 'walk.1'}\n",
      "{'boardtruck.2', 'drivetruck.2', 'loadtruck.2', 'walk.1'}\n",
      "{'boardtruck.2', 'drivetruck.1', 'loadtruck.2', 'walk.1'}\n"
     ]
    },
    {
     "data": {
      "text/markdown": [
       "Checking candidate set *{'boardtruck.2', 'drivetruck.1', 'loadtruck.2', 'walk.1'}* of class **Location** for well formedness and Validity"
      ],
      "text/plain": [
       "<IPython.core.display.Markdown object>"
      ]
     },
     "metadata": {},
     "output_type": "display_data"
    },
    {
     "data": {
      "text/html": [
       "<table>\n",
       "<thead>\n",
       "<tr><th>                </th><th style=\"text-align: right;\">  boardtruck.2</th><th style=\"text-align: right;\">  disembarktruck.2</th><th style=\"text-align: right;\">  walk.1</th></tr>\n",
       "</thead>\n",
       "<tbody>\n",
       "<tr><td>boardtruck.2    </td><td style=\"text-align: right;\">             0</td><td style=\"text-align: right;\">                 1</td><td style=\"text-align: right;\">       0</td></tr>\n",
       "<tr><td>disembarktruck.2</td><td style=\"text-align: right;\">             4</td><td style=\"text-align: right;\">                 0</td><td style=\"text-align: right;\">       2</td></tr>\n",
       "<tr><td>walk.1          </td><td style=\"text-align: right;\">             0</td><td style=\"text-align: right;\">                 0</td><td style=\"text-align: right;\">       0</td></tr>\n",
       "</tbody>\n",
       "</table>"
      ],
      "text/plain": [
       "'<table>\\n<thead>\\n<tr><th>                </th><th style=\"text-align: right;\">  boardtruck.2</th><th style=\"text-align: right;\">  disembarktruck.2</th><th style=\"text-align: right;\">  walk.1</th></tr>\\n</thead>\\n<tbody>\\n<tr><td>boardtruck.2    </td><td style=\"text-align: right;\">             0</td><td style=\"text-align: right;\">                 1</td><td style=\"text-align: right;\">       0</td></tr>\\n<tr><td>disembarktruck.2</td><td style=\"text-align: right;\">             4</td><td style=\"text-align: right;\">                 0</td><td style=\"text-align: right;\">       2</td></tr>\\n<tr><td>walk.1          </td><td style=\"text-align: right;\">             0</td><td style=\"text-align: right;\">                 0</td><td style=\"text-align: right;\">       0</td></tr>\\n</tbody>\\n</table>'"
      ]
     },
     "metadata": {},
     "output_type": "display_data"
    },
    {
     "name": "stdout",
     "output_type": "stream",
     "text": [
      "This subset is well-formed.\n",
      "This subset is valid.\n",
      "Adding this subset {'boardtruck.2', 'disembarktruck.2', 'walk.1'} to the locm2 transition set.\n",
      "Hole that is covered now:\n",
      "['boardtruck.2', 'walk.1']\n",
      "{'boardtruck.2', 'disembarktruck.2', 'walk.1'}\n",
      "{'boardtruck.2', 'unloadtruck.2', 'walk.1'}\n",
      "{'boardtruck.2', 'drivetruck.2', 'walk.1'}\n",
      "{'boardtruck.2', 'walk.2', 'walk.1'}\n",
      "{'boardtruck.2', 'loadtruck.2', 'walk.1'}\n",
      "{'boardtruck.2', 'drivetruck.1', 'walk.1'}\n",
      "{'boardtruck.2', 'drivetruck.2', 'drivetruck.1', 'walk.1'}\n",
      "{'boardtruck.2', 'drivetruck.1', 'disembarktruck.2', 'walk.1'}\n",
      "{'boardtruck.2', 'drivetruck.1', 'walk.2', 'walk.1'}\n",
      "{'boardtruck.2', 'drivetruck.2', 'disembarktruck.2', 'walk.1'}\n",
      "{'boardtruck.2', 'walk.2', 'disembarktruck.2', 'walk.1'}\n",
      "{'boardtruck.2', 'walk.2', 'loadtruck.2', 'walk.1'}\n",
      "{'boardtruck.2', 'unloadtruck.2', 'loadtruck.2', 'walk.1'}\n",
      "{'boardtruck.2', 'drivetruck.2', 'unloadtruck.2', 'walk.1'}\n",
      "{'boardtruck.2', 'unloadtruck.2', 'walk.2', 'walk.1'}\n",
      "{'boardtruck.2', 'disembarktruck.2', 'loadtruck.2', 'walk.1'}\n",
      "{'boardtruck.2', 'unloadtruck.2', 'disembarktruck.2', 'walk.1'}\n",
      "{'boardtruck.2', 'drivetruck.2', 'walk.2', 'walk.1'}\n",
      "{'boardtruck.2', 'drivetruck.1', 'unloadtruck.2', 'walk.1'}\n",
      "{'boardtruck.2', 'drivetruck.2', 'loadtruck.2', 'walk.1'}\n",
      "{'boardtruck.2', 'drivetruck.1', 'loadtruck.2', 'walk.1'}\n",
      "{'unloadtruck.2', 'loadtruck.2', 'walk.1', 'boardtruck.2', 'walk.2'}\n",
      "{'unloadtruck.2', 'disembarktruck.2', 'drivetruck.1', 'walk.1', 'boardtruck.2'}\n",
      "{'drivetruck.1', 'walk.1', 'boardtruck.2', 'drivetruck.2', 'walk.2'}\n",
      "{'unloadtruck.2', 'walk.1', 'boardtruck.2', 'drivetruck.2', 'walk.2'}\n",
      "{'unloadtruck.2', 'drivetruck.1', 'walk.1', 'boardtruck.2', 'walk.2'}\n",
      "{'unloadtruck.2', 'loadtruck.2', 'walk.1', 'boardtruck.2', 'drivetruck.2'}\n",
      "{'disembarktruck.2', 'loadtruck.2', 'walk.1', 'boardtruck.2', 'drivetruck.2'}\n",
      "{'unloadtruck.2', 'drivetruck.1', 'walk.1', 'boardtruck.2', 'drivetruck.2'}\n",
      "{'unloadtruck.2', 'disembarktruck.2', 'walk.1', 'boardtruck.2', 'walk.2'}\n",
      "{'unloadtruck.2', 'disembarktruck.2', 'walk.1', 'boardtruck.2', 'drivetruck.2'}\n",
      "{'disembarktruck.2', 'walk.1', 'boardtruck.2', 'drivetruck.2', 'walk.2'}\n",
      "{'disembarktruck.2', 'loadtruck.2', 'walk.1', 'boardtruck.2', 'walk.2'}\n",
      "{'loadtruck.2', 'drivetruck.1', 'walk.1', 'boardtruck.2', 'walk.2'}\n",
      "{'loadtruck.2', 'drivetruck.1', 'walk.1', 'boardtruck.2', 'drivetruck.2'}\n",
      "{'disembarktruck.2', 'loadtruck.2', 'drivetruck.1', 'walk.1', 'boardtruck.2'}\n",
      "{'loadtruck.2', 'walk.1', 'boardtruck.2', 'drivetruck.2', 'walk.2'}\n",
      "{'unloadtruck.2', 'loadtruck.2', 'drivetruck.1', 'walk.1', 'boardtruck.2'}\n",
      "{'disembarktruck.2', 'drivetruck.1', 'walk.1', 'boardtruck.2', 'drivetruck.2'}\n",
      "{'disembarktruck.2', 'drivetruck.1', 'walk.1', 'boardtruck.2', 'walk.2'}\n",
      "{'unloadtruck.2', 'disembarktruck.2', 'loadtruck.2', 'walk.1', 'boardtruck.2'}\n"
     ]
    },
    {
     "data": {
      "text/markdown": [
       "Checking candidate set *{'unloadtruck.2', 'disembarktruck.2', 'loadtruck.2', 'walk.1', 'boardtruck.2'}* of class **Location** for well formedness and Validity"
      ],
      "text/plain": [
       "<IPython.core.display.Markdown object>"
      ]
     },
     "metadata": {},
     "output_type": "display_data"
    },
    {
     "data": {
      "text/html": [
       "<table>\n",
       "<thead>\n",
       "<tr><th>                </th><th style=\"text-align: right;\">  boardtruck.2</th><th style=\"text-align: right;\">  disembarktruck.2</th><th style=\"text-align: right;\">  walk.1</th></tr>\n",
       "</thead>\n",
       "<tbody>\n",
       "<tr><td>boardtruck.2    </td><td style=\"text-align: right;\">             0</td><td style=\"text-align: right;\">                 1</td><td style=\"text-align: right;\">       0</td></tr>\n",
       "<tr><td>disembarktruck.2</td><td style=\"text-align: right;\">             4</td><td style=\"text-align: right;\">                 0</td><td style=\"text-align: right;\">       2</td></tr>\n",
       "<tr><td>walk.1          </td><td style=\"text-align: right;\">             0</td><td style=\"text-align: right;\">                 0</td><td style=\"text-align: right;\">       0</td></tr>\n",
       "</tbody>\n",
       "</table>"
      ],
      "text/plain": [
       "'<table>\\n<thead>\\n<tr><th>                </th><th style=\"text-align: right;\">  boardtruck.2</th><th style=\"text-align: right;\">  disembarktruck.2</th><th style=\"text-align: right;\">  walk.1</th></tr>\\n</thead>\\n<tbody>\\n<tr><td>boardtruck.2    </td><td style=\"text-align: right;\">             0</td><td style=\"text-align: right;\">                 1</td><td style=\"text-align: right;\">       0</td></tr>\\n<tr><td>disembarktruck.2</td><td style=\"text-align: right;\">             4</td><td style=\"text-align: right;\">                 0</td><td style=\"text-align: right;\">       2</td></tr>\\n<tr><td>walk.1          </td><td style=\"text-align: right;\">             0</td><td style=\"text-align: right;\">                 0</td><td style=\"text-align: right;\">       0</td></tr>\\n</tbody>\\n</table>'"
      ]
     },
     "metadata": {},
     "output_type": "display_data"
    },
    {
     "name": "stdout",
     "output_type": "stream",
     "text": [
      "This subset is well-formed.\n",
      "This subset is valid.\n",
      "Adding this subset {'boardtruck.2', 'disembarktruck.2', 'walk.1'} to the locm2 transition set.\n",
      "Hole that is covered now:\n",
      "['boardtruck.2', 'walk.1']\n",
      "{'boardtruck.2', 'disembarktruck.2', 'walk.1'}\n",
      "{'boardtruck.2', 'unloadtruck.2', 'walk.1'}\n",
      "{'boardtruck.2', 'drivetruck.2', 'walk.1'}\n",
      "{'boardtruck.2', 'walk.2', 'walk.1'}\n",
      "{'boardtruck.2', 'loadtruck.2', 'walk.1'}\n",
      "{'boardtruck.2', 'drivetruck.1', 'walk.1'}\n",
      "{'boardtruck.2', 'drivetruck.2', 'drivetruck.1', 'walk.1'}\n",
      "{'boardtruck.2', 'drivetruck.1', 'disembarktruck.2', 'walk.1'}\n",
      "{'boardtruck.2', 'drivetruck.1', 'walk.2', 'walk.1'}\n",
      "{'boardtruck.2', 'drivetruck.2', 'disembarktruck.2', 'walk.1'}\n",
      "{'boardtruck.2', 'walk.2', 'disembarktruck.2', 'walk.1'}\n",
      "{'boardtruck.2', 'walk.2', 'loadtruck.2', 'walk.1'}\n",
      "{'boardtruck.2', 'unloadtruck.2', 'loadtruck.2', 'walk.1'}\n",
      "{'boardtruck.2', 'drivetruck.2', 'unloadtruck.2', 'walk.1'}\n",
      "{'boardtruck.2', 'unloadtruck.2', 'walk.2', 'walk.1'}\n",
      "{'boardtruck.2', 'disembarktruck.2', 'loadtruck.2', 'walk.1'}\n",
      "{'boardtruck.2', 'unloadtruck.2', 'disembarktruck.2', 'walk.1'}\n",
      "{'boardtruck.2', 'drivetruck.2', 'walk.2', 'walk.1'}\n",
      "{'boardtruck.2', 'drivetruck.1', 'unloadtruck.2', 'walk.1'}\n",
      "{'boardtruck.2', 'drivetruck.2', 'loadtruck.2', 'walk.1'}\n",
      "{'boardtruck.2', 'drivetruck.1', 'loadtruck.2', 'walk.1'}\n",
      "{'unloadtruck.2', 'loadtruck.2', 'walk.1', 'boardtruck.2', 'walk.2'}\n",
      "{'unloadtruck.2', 'disembarktruck.2', 'drivetruck.1', 'walk.1', 'boardtruck.2'}\n",
      "{'drivetruck.1', 'walk.1', 'boardtruck.2', 'drivetruck.2', 'walk.2'}\n",
      "{'unloadtruck.2', 'walk.1', 'boardtruck.2', 'drivetruck.2', 'walk.2'}\n",
      "{'unloadtruck.2', 'drivetruck.1', 'walk.1', 'boardtruck.2', 'walk.2'}\n",
      "{'unloadtruck.2', 'loadtruck.2', 'walk.1', 'boardtruck.2', 'drivetruck.2'}\n",
      "{'disembarktruck.2', 'loadtruck.2', 'walk.1', 'boardtruck.2', 'drivetruck.2'}\n",
      "{'unloadtruck.2', 'drivetruck.1', 'walk.1', 'boardtruck.2', 'drivetruck.2'}\n",
      "{'unloadtruck.2', 'disembarktruck.2', 'walk.1', 'boardtruck.2', 'walk.2'}\n",
      "{'unloadtruck.2', 'disembarktruck.2', 'walk.1', 'boardtruck.2', 'drivetruck.2'}\n",
      "{'disembarktruck.2', 'walk.1', 'boardtruck.2', 'drivetruck.2', 'walk.2'}\n",
      "{'disembarktruck.2', 'loadtruck.2', 'walk.1', 'boardtruck.2', 'walk.2'}\n",
      "{'loadtruck.2', 'drivetruck.1', 'walk.1', 'boardtruck.2', 'walk.2'}\n",
      "{'loadtruck.2', 'drivetruck.1', 'walk.1', 'boardtruck.2', 'drivetruck.2'}\n",
      "{'disembarktruck.2', 'loadtruck.2', 'drivetruck.1', 'walk.1', 'boardtruck.2'}\n",
      "{'loadtruck.2', 'walk.1', 'boardtruck.2', 'drivetruck.2', 'walk.2'}\n",
      "{'unloadtruck.2', 'loadtruck.2', 'drivetruck.1', 'walk.1', 'boardtruck.2'}\n",
      "{'disembarktruck.2', 'drivetruck.1', 'walk.1', 'boardtruck.2', 'drivetruck.2'}\n",
      "{'disembarktruck.2', 'drivetruck.1', 'walk.1', 'boardtruck.2', 'walk.2'}\n",
      "{'unloadtruck.2', 'disembarktruck.2', 'loadtruck.2', 'walk.1', 'boardtruck.2'}\n",
      "{'unloadtruck.2', 'disembarktruck.2', 'loadtruck.2', 'walk.1', 'boardtruck.2', 'walk.2'}\n",
      "{'unloadtruck.2', 'loadtruck.2', 'walk.1', 'boardtruck.2', 'drivetruck.2', 'walk.2'}\n",
      "{'disembarktruck.2', 'loadtruck.2', 'drivetruck.1', 'walk.1', 'boardtruck.2', 'drivetruck.2'}\n",
      "{'unloadtruck.2', 'disembarktruck.2', 'drivetruck.1', 'walk.1', 'boardtruck.2', 'walk.2'}\n",
      "{'unloadtruck.2', 'drivetruck.1', 'walk.1', 'boardtruck.2', 'drivetruck.2', 'walk.2'}\n",
      "{'unloadtruck.2', 'disembarktruck.2', 'loadtruck.2', 'drivetruck.1', 'walk.1', 'boardtruck.2'}\n",
      "{'disembarktruck.2', 'loadtruck.2', 'drivetruck.1', 'walk.1', 'boardtruck.2', 'walk.2'}\n",
      "{'unloadtruck.2', 'loadtruck.2', 'drivetruck.1', 'walk.1', 'boardtruck.2', 'drivetruck.2'}\n",
      "{'unloadtruck.2', 'loadtruck.2', 'drivetruck.1', 'walk.1', 'boardtruck.2', 'walk.2'}\n",
      "{'loadtruck.2', 'drivetruck.1', 'walk.1', 'boardtruck.2', 'drivetruck.2', 'walk.2'}\n",
      "{'unloadtruck.2', 'disembarktruck.2', 'drivetruck.1', 'walk.1', 'boardtruck.2', 'drivetruck.2'}\n",
      "{'disembarktruck.2', 'drivetruck.1', 'walk.1', 'boardtruck.2', 'drivetruck.2', 'walk.2'}\n",
      "{'unloadtruck.2', 'disembarktruck.2', 'walk.1', 'boardtruck.2', 'drivetruck.2', 'walk.2'}\n",
      "{'unloadtruck.2', 'disembarktruck.2', 'loadtruck.2', 'walk.1', 'boardtruck.2', 'drivetruck.2'}\n",
      "{'disembarktruck.2', 'loadtruck.2', 'walk.1', 'boardtruck.2', 'drivetruck.2', 'walk.2'}\n"
     ]
    },
    {
     "data": {
      "text/markdown": [
       "Checking candidate set *{'disembarktruck.2', 'loadtruck.2', 'walk.1', 'boardtruck.2', 'drivetruck.2', 'walk.2'}* of class **Location** for well formedness and Validity"
      ],
      "text/plain": [
       "<IPython.core.display.Markdown object>"
      ]
     },
     "metadata": {},
     "output_type": "display_data"
    },
    {
     "data": {
      "text/html": [
       "<table>\n",
       "<thead>\n",
       "<tr><th>                </th><th style=\"text-align: right;\">  boardtruck.2</th><th style=\"text-align: right;\">  disembarktruck.2</th><th style=\"text-align: right;\">  walk.1</th></tr>\n",
       "</thead>\n",
       "<tbody>\n",
       "<tr><td>boardtruck.2    </td><td style=\"text-align: right;\">             0</td><td style=\"text-align: right;\">                 1</td><td style=\"text-align: right;\">       0</td></tr>\n",
       "<tr><td>disembarktruck.2</td><td style=\"text-align: right;\">             4</td><td style=\"text-align: right;\">                 0</td><td style=\"text-align: right;\">       2</td></tr>\n",
       "<tr><td>walk.1          </td><td style=\"text-align: right;\">             0</td><td style=\"text-align: right;\">                 0</td><td style=\"text-align: right;\">       0</td></tr>\n",
       "</tbody>\n",
       "</table>"
      ],
      "text/plain": [
       "'<table>\\n<thead>\\n<tr><th>                </th><th style=\"text-align: right;\">  boardtruck.2</th><th style=\"text-align: right;\">  disembarktruck.2</th><th style=\"text-align: right;\">  walk.1</th></tr>\\n</thead>\\n<tbody>\\n<tr><td>boardtruck.2    </td><td style=\"text-align: right;\">             0</td><td style=\"text-align: right;\">                 1</td><td style=\"text-align: right;\">       0</td></tr>\\n<tr><td>disembarktruck.2</td><td style=\"text-align: right;\">             4</td><td style=\"text-align: right;\">                 0</td><td style=\"text-align: right;\">       2</td></tr>\\n<tr><td>walk.1          </td><td style=\"text-align: right;\">             0</td><td style=\"text-align: right;\">                 0</td><td style=\"text-align: right;\">       0</td></tr>\\n</tbody>\\n</table>'"
      ]
     },
     "metadata": {},
     "output_type": "display_data"
    },
    {
     "name": "stdout",
     "output_type": "stream",
     "text": [
      "This subset is well-formed.\n",
      "This subset is valid.\n",
      "Adding this subset {'boardtruck.2', 'disembarktruck.2', 'walk.1'} to the locm2 transition set.\n",
      "Hole that is covered now:\n",
      "['boardtruck.2', 'walk.1']\n",
      "{'boardtruck.2', 'disembarktruck.2', 'walk.1'}\n",
      "{'boardtruck.2', 'unloadtruck.2', 'walk.1'}\n",
      "{'boardtruck.2', 'drivetruck.2', 'walk.1'}\n",
      "{'boardtruck.2', 'walk.2', 'walk.1'}\n",
      "{'boardtruck.2', 'loadtruck.2', 'walk.1'}\n",
      "{'boardtruck.2', 'drivetruck.1', 'walk.1'}\n",
      "{'boardtruck.2', 'drivetruck.2', 'drivetruck.1', 'walk.1'}\n",
      "{'boardtruck.2', 'drivetruck.1', 'disembarktruck.2', 'walk.1'}\n",
      "{'boardtruck.2', 'drivetruck.1', 'walk.2', 'walk.1'}\n",
      "{'boardtruck.2', 'drivetruck.2', 'disembarktruck.2', 'walk.1'}\n",
      "{'boardtruck.2', 'walk.2', 'disembarktruck.2', 'walk.1'}\n",
      "{'boardtruck.2', 'walk.2', 'loadtruck.2', 'walk.1'}\n",
      "{'boardtruck.2', 'unloadtruck.2', 'loadtruck.2', 'walk.1'}\n",
      "{'boardtruck.2', 'drivetruck.2', 'unloadtruck.2', 'walk.1'}\n",
      "{'boardtruck.2', 'unloadtruck.2', 'walk.2', 'walk.1'}\n",
      "{'boardtruck.2', 'disembarktruck.2', 'loadtruck.2', 'walk.1'}\n",
      "{'boardtruck.2', 'unloadtruck.2', 'disembarktruck.2', 'walk.1'}\n",
      "{'boardtruck.2', 'drivetruck.2', 'walk.2', 'walk.1'}\n",
      "{'boardtruck.2', 'drivetruck.1', 'unloadtruck.2', 'walk.1'}\n",
      "{'boardtruck.2', 'drivetruck.2', 'loadtruck.2', 'walk.1'}\n",
      "{'boardtruck.2', 'drivetruck.1', 'loadtruck.2', 'walk.1'}\n",
      "{'unloadtruck.2', 'loadtruck.2', 'walk.1', 'boardtruck.2', 'walk.2'}\n",
      "{'unloadtruck.2', 'disembarktruck.2', 'drivetruck.1', 'walk.1', 'boardtruck.2'}\n",
      "{'drivetruck.1', 'walk.1', 'boardtruck.2', 'drivetruck.2', 'walk.2'}\n",
      "{'unloadtruck.2', 'walk.1', 'boardtruck.2', 'drivetruck.2', 'walk.2'}\n",
      "{'unloadtruck.2', 'drivetruck.1', 'walk.1', 'boardtruck.2', 'walk.2'}\n",
      "{'unloadtruck.2', 'loadtruck.2', 'walk.1', 'boardtruck.2', 'drivetruck.2'}\n",
      "{'disembarktruck.2', 'loadtruck.2', 'walk.1', 'boardtruck.2', 'drivetruck.2'}\n",
      "{'unloadtruck.2', 'drivetruck.1', 'walk.1', 'boardtruck.2', 'drivetruck.2'}\n",
      "{'unloadtruck.2', 'disembarktruck.2', 'walk.1', 'boardtruck.2', 'walk.2'}\n",
      "{'unloadtruck.2', 'disembarktruck.2', 'walk.1', 'boardtruck.2', 'drivetruck.2'}\n",
      "{'disembarktruck.2', 'walk.1', 'boardtruck.2', 'drivetruck.2', 'walk.2'}\n",
      "{'disembarktruck.2', 'loadtruck.2', 'walk.1', 'boardtruck.2', 'walk.2'}\n",
      "{'loadtruck.2', 'drivetruck.1', 'walk.1', 'boardtruck.2', 'walk.2'}\n",
      "{'loadtruck.2', 'drivetruck.1', 'walk.1', 'boardtruck.2', 'drivetruck.2'}\n",
      "{'disembarktruck.2', 'loadtruck.2', 'drivetruck.1', 'walk.1', 'boardtruck.2'}\n",
      "{'loadtruck.2', 'walk.1', 'boardtruck.2', 'drivetruck.2', 'walk.2'}\n",
      "{'unloadtruck.2', 'loadtruck.2', 'drivetruck.1', 'walk.1', 'boardtruck.2'}\n",
      "{'disembarktruck.2', 'drivetruck.1', 'walk.1', 'boardtruck.2', 'drivetruck.2'}\n",
      "{'disembarktruck.2', 'drivetruck.1', 'walk.1', 'boardtruck.2', 'walk.2'}\n",
      "{'unloadtruck.2', 'disembarktruck.2', 'loadtruck.2', 'walk.1', 'boardtruck.2'}\n",
      "{'unloadtruck.2', 'disembarktruck.2', 'loadtruck.2', 'walk.1', 'boardtruck.2', 'walk.2'}\n",
      "{'unloadtruck.2', 'loadtruck.2', 'walk.1', 'boardtruck.2', 'drivetruck.2', 'walk.2'}\n",
      "{'disembarktruck.2', 'loadtruck.2', 'drivetruck.1', 'walk.1', 'boardtruck.2', 'drivetruck.2'}\n",
      "{'unloadtruck.2', 'disembarktruck.2', 'drivetruck.1', 'walk.1', 'boardtruck.2', 'walk.2'}\n",
      "{'unloadtruck.2', 'drivetruck.1', 'walk.1', 'boardtruck.2', 'drivetruck.2', 'walk.2'}\n",
      "{'unloadtruck.2', 'disembarktruck.2', 'loadtruck.2', 'drivetruck.1', 'walk.1', 'boardtruck.2'}\n",
      "{'disembarktruck.2', 'loadtruck.2', 'drivetruck.1', 'walk.1', 'boardtruck.2', 'walk.2'}\n",
      "{'unloadtruck.2', 'loadtruck.2', 'drivetruck.1', 'walk.1', 'boardtruck.2', 'drivetruck.2'}\n",
      "{'unloadtruck.2', 'loadtruck.2', 'drivetruck.1', 'walk.1', 'boardtruck.2', 'walk.2'}\n",
      "{'loadtruck.2', 'drivetruck.1', 'walk.1', 'boardtruck.2', 'drivetruck.2', 'walk.2'}\n",
      "{'unloadtruck.2', 'disembarktruck.2', 'drivetruck.1', 'walk.1', 'boardtruck.2', 'drivetruck.2'}\n",
      "{'disembarktruck.2', 'drivetruck.1', 'walk.1', 'boardtruck.2', 'drivetruck.2', 'walk.2'}\n",
      "{'unloadtruck.2', 'disembarktruck.2', 'walk.1', 'boardtruck.2', 'drivetruck.2', 'walk.2'}\n",
      "{'unloadtruck.2', 'disembarktruck.2', 'loadtruck.2', 'walk.1', 'boardtruck.2', 'drivetruck.2'}\n",
      "{'disembarktruck.2', 'loadtruck.2', 'walk.1', 'boardtruck.2', 'drivetruck.2', 'walk.2'}\n",
      "{'unloadtruck.2', 'disembarktruck.2', 'loadtruck.2', 'drivetruck.1', 'walk.1', 'boardtruck.2', 'drivetruck.2'}\n",
      "{'disembarktruck.2', 'loadtruck.2', 'drivetruck.1', 'walk.1', 'boardtruck.2', 'drivetruck.2', 'walk.2'}\n",
      "{'unloadtruck.2', 'disembarktruck.2', 'loadtruck.2', 'drivetruck.1', 'walk.1', 'boardtruck.2', 'walk.2'}\n",
      "{'unloadtruck.2', 'disembarktruck.2', 'drivetruck.1', 'walk.1', 'boardtruck.2', 'drivetruck.2', 'walk.2'}\n",
      "{'unloadtruck.2', 'loadtruck.2', 'drivetruck.1', 'walk.1', 'boardtruck.2', 'drivetruck.2', 'walk.2'}\n",
      "{'unloadtruck.2', 'disembarktruck.2', 'loadtruck.2', 'walk.1', 'boardtruck.2', 'drivetruck.2', 'walk.2'}\n"
     ]
    },
    {
     "data": {
      "text/markdown": [
       "Checking candidate set *{'unloadtruck.2', 'disembarktruck.2', 'loadtruck.2', 'walk.1', 'boardtruck.2', 'drivetruck.2', 'walk.2'}* of class **Location** for well formedness and Validity"
      ],
      "text/plain": [
       "<IPython.core.display.Markdown object>"
      ]
     },
     "metadata": {},
     "output_type": "display_data"
    },
    {
     "data": {
      "text/html": [
       "<table>\n",
       "<thead>\n",
       "<tr><th>                </th><th style=\"text-align: right;\">  boardtruck.2</th><th style=\"text-align: right;\">  disembarktruck.2</th><th style=\"text-align: right;\">  walk.1</th></tr>\n",
       "</thead>\n",
       "<tbody>\n",
       "<tr><td>boardtruck.2    </td><td style=\"text-align: right;\">             0</td><td style=\"text-align: right;\">                 1</td><td style=\"text-align: right;\">       0</td></tr>\n",
       "<tr><td>disembarktruck.2</td><td style=\"text-align: right;\">             4</td><td style=\"text-align: right;\">                 0</td><td style=\"text-align: right;\">       2</td></tr>\n",
       "<tr><td>walk.1          </td><td style=\"text-align: right;\">             0</td><td style=\"text-align: right;\">                 0</td><td style=\"text-align: right;\">       0</td></tr>\n",
       "</tbody>\n",
       "</table>"
      ],
      "text/plain": [
       "'<table>\\n<thead>\\n<tr><th>                </th><th style=\"text-align: right;\">  boardtruck.2</th><th style=\"text-align: right;\">  disembarktruck.2</th><th style=\"text-align: right;\">  walk.1</th></tr>\\n</thead>\\n<tbody>\\n<tr><td>boardtruck.2    </td><td style=\"text-align: right;\">             0</td><td style=\"text-align: right;\">                 1</td><td style=\"text-align: right;\">       0</td></tr>\\n<tr><td>disembarktruck.2</td><td style=\"text-align: right;\">             4</td><td style=\"text-align: right;\">                 0</td><td style=\"text-align: right;\">       2</td></tr>\\n<tr><td>walk.1          </td><td style=\"text-align: right;\">             0</td><td style=\"text-align: right;\">                 0</td><td style=\"text-align: right;\">       0</td></tr>\\n</tbody>\\n</table>'"
      ]
     },
     "metadata": {},
     "output_type": "display_data"
    },
    {
     "name": "stdout",
     "output_type": "stream",
     "text": [
      "This subset is well-formed.\n",
      "This subset is valid.\n",
      "Adding this subset {'boardtruck.2', 'disembarktruck.2', 'walk.1'} to the locm2 transition set.\n",
      "Hole that is covered now:\n",
      "['boardtruck.2', 'walk.1']\n"
     ]
    },
    {
     "data": {
      "text/markdown": [
       "#### Hole 4: {'drivetruck.1', 'disembarktruck.2'}"
      ],
      "text/plain": [
       "<IPython.core.display.Markdown object>"
      ]
     },
     "metadata": {},
     "output_type": "display_data"
    },
    {
     "data": {
      "text/markdown": [
       "Hole frozenset({'drivetruck.1', 'disembarktruck.2'}) is already covered."
      ],
      "text/plain": [
       "<IPython.core.display.Markdown object>"
      ]
     },
     "metadata": {},
     "output_type": "display_data"
    },
    {
     "data": {
      "text/markdown": [
       "#### Hole 5: {'drivetruck.2'}"
      ],
      "text/plain": [
       "<IPython.core.display.Markdown object>"
      ]
     },
     "metadata": {},
     "output_type": "display_data"
    },
    {
     "data": {
      "text/markdown": [
       "Hole frozenset({'drivetruck.2'}) is already covered."
      ],
      "text/plain": [
       "<IPython.core.display.Markdown object>"
      ]
     },
     "metadata": {},
     "output_type": "display_data"
    },
    {
     "data": {
      "text/markdown": [
       "#### Hole 6: {'unloadtruck.2'}"
      ],
      "text/plain": [
       "<IPython.core.display.Markdown object>"
      ]
     },
     "metadata": {},
     "output_type": "display_data"
    },
    {
     "data": {
      "text/markdown": [
       "Hole frozenset({'unloadtruck.2'}) is already covered."
      ],
      "text/plain": [
       "<IPython.core.display.Markdown object>"
      ]
     },
     "metadata": {},
     "output_type": "display_data"
    },
    {
     "data": {
      "text/markdown": [
       "#### Hole 7: {'drivetruck.1', 'walk.2'}"
      ],
      "text/plain": [
       "<IPython.core.display.Markdown object>"
      ]
     },
     "metadata": {},
     "output_type": "display_data"
    },
    {
     "name": "stdout",
     "output_type": "stream",
     "text": [
      "{'drivetruck.1', 'walk.2', 'disembarktruck.2'}\n",
      "{'drivetruck.1', 'walk.2', 'walk.1'}\n",
      "{'boardtruck.2', 'drivetruck.1', 'walk.2'}\n",
      "{'drivetruck.1', 'drivetruck.2', 'walk.2'}\n",
      "{'drivetruck.1', 'walk.2', 'loadtruck.2'}\n",
      "{'drivetruck.1', 'walk.2', 'unloadtruck.2'}\n"
     ]
    },
    {
     "data": {
      "text/markdown": [
       "Checking candidate set *{'drivetruck.1', 'walk.2', 'unloadtruck.2'}* of class **Location** for well formedness and Validity"
      ],
      "text/plain": [
       "<IPython.core.display.Markdown object>"
      ]
     },
     "metadata": {},
     "output_type": "display_data"
    },
    {
     "data": {
      "text/html": [
       "<table>\n",
       "<thead>\n",
       "<tr><th>                </th><th style=\"text-align: right;\">  drivetruck.1</th><th style=\"text-align: right;\">  walk.2</th><th style=\"text-align: right;\">  disembarktruck.2</th></tr>\n",
       "</thead>\n",
       "<tbody>\n",
       "<tr><td>drivetruck.1    </td><td style=\"text-align: right;\">             0</td><td style=\"text-align: right;\">       2</td><td style=\"text-align: right;\">                 0</td></tr>\n",
       "<tr><td>walk.2          </td><td style=\"text-align: right;\">             0</td><td style=\"text-align: right;\">       0</td><td style=\"text-align: right;\">                 0</td></tr>\n",
       "<tr><td>disembarktruck.2</td><td style=\"text-align: right;\">             0</td><td style=\"text-align: right;\">       0</td><td style=\"text-align: right;\">                 0</td></tr>\n",
       "</tbody>\n",
       "</table>"
      ],
      "text/plain": [
       "'<table>\\n<thead>\\n<tr><th>                </th><th style=\"text-align: right;\">  drivetruck.1</th><th style=\"text-align: right;\">  walk.2</th><th style=\"text-align: right;\">  disembarktruck.2</th></tr>\\n</thead>\\n<tbody>\\n<tr><td>drivetruck.1    </td><td style=\"text-align: right;\">             0</td><td style=\"text-align: right;\">       2</td><td style=\"text-align: right;\">                 0</td></tr>\\n<tr><td>walk.2          </td><td style=\"text-align: right;\">             0</td><td style=\"text-align: right;\">       0</td><td style=\"text-align: right;\">                 0</td></tr>\\n<tr><td>disembarktruck.2</td><td style=\"text-align: right;\">             0</td><td style=\"text-align: right;\">       0</td><td style=\"text-align: right;\">                 0</td></tr>\\n</tbody>\\n</table>'"
      ]
     },
     "metadata": {},
     "output_type": "display_data"
    },
    {
     "name": "stdout",
     "output_type": "stream",
     "text": [
      "This subset is well-formed.\n",
      "This subset is valid.\n",
      "Adding this subset {'drivetruck.1', 'walk.2', 'disembarktruck.2'} to the locm2 transition set.\n",
      "Hole that is covered now:\n",
      "['drivetruck.1', 'walk.2']\n",
      "{'drivetruck.1', 'walk.2', 'disembarktruck.2'}\n",
      "{'drivetruck.1', 'walk.2', 'walk.1'}\n",
      "{'boardtruck.2', 'drivetruck.1', 'walk.2'}\n",
      "{'drivetruck.1', 'drivetruck.2', 'walk.2'}\n",
      "{'drivetruck.1', 'walk.2', 'loadtruck.2'}\n",
      "{'drivetruck.1', 'walk.2', 'unloadtruck.2'}\n",
      "{'drivetruck.1', 'walk.2', 'loadtruck.2', 'walk.1'}\n",
      "{'boardtruck.2', 'drivetruck.1', 'walk.2', 'unloadtruck.2'}\n",
      "{'drivetruck.1', 'walk.2', 'disembarktruck.2', 'unloadtruck.2'}\n",
      "{'boardtruck.2', 'drivetruck.1', 'walk.2', 'walk.1'}\n",
      "{'boardtruck.2', 'drivetruck.1', 'walk.2', 'loadtruck.2'}\n",
      "{'drivetruck.1', 'drivetruck.2', 'walk.2', 'disembarktruck.2'}\n",
      "{'drivetruck.1', 'walk.2', 'disembarktruck.2', 'loadtruck.2'}\n",
      "{'drivetruck.1', 'unloadtruck.2', 'walk.2', 'loadtruck.2'}\n",
      "{'drivetruck.1', 'walk.2', 'disembarktruck.2', 'walk.1'}\n",
      "{'boardtruck.2', 'drivetruck.1', 'walk.2', 'disembarktruck.2'}\n",
      "{'drivetruck.1', 'unloadtruck.2', 'walk.2', 'walk.1'}\n",
      "{'drivetruck.1', 'drivetruck.2', 'walk.2', 'walk.1'}\n",
      "{'drivetruck.1', 'drivetruck.2', 'walk.2', 'unloadtruck.2'}\n",
      "{'boardtruck.2', 'drivetruck.2', 'drivetruck.1', 'walk.2'}\n",
      "{'drivetruck.1', 'drivetruck.2', 'walk.2', 'loadtruck.2'}\n"
     ]
    },
    {
     "data": {
      "text/markdown": [
       "Checking candidate set *{'drivetruck.1', 'drivetruck.2', 'walk.2', 'loadtruck.2'}* of class **Location** for well formedness and Validity"
      ],
      "text/plain": [
       "<IPython.core.display.Markdown object>"
      ]
     },
     "metadata": {},
     "output_type": "display_data"
    },
    {
     "data": {
      "text/html": [
       "<table>\n",
       "<thead>\n",
       "<tr><th>                </th><th style=\"text-align: right;\">  drivetruck.1</th><th style=\"text-align: right;\">  walk.2</th><th style=\"text-align: right;\">  disembarktruck.2</th></tr>\n",
       "</thead>\n",
       "<tbody>\n",
       "<tr><td>drivetruck.1    </td><td style=\"text-align: right;\">             0</td><td style=\"text-align: right;\">       2</td><td style=\"text-align: right;\">                 0</td></tr>\n",
       "<tr><td>walk.2          </td><td style=\"text-align: right;\">             0</td><td style=\"text-align: right;\">       0</td><td style=\"text-align: right;\">                 0</td></tr>\n",
       "<tr><td>disembarktruck.2</td><td style=\"text-align: right;\">             0</td><td style=\"text-align: right;\">       0</td><td style=\"text-align: right;\">                 0</td></tr>\n",
       "</tbody>\n",
       "</table>"
      ],
      "text/plain": [
       "'<table>\\n<thead>\\n<tr><th>                </th><th style=\"text-align: right;\">  drivetruck.1</th><th style=\"text-align: right;\">  walk.2</th><th style=\"text-align: right;\">  disembarktruck.2</th></tr>\\n</thead>\\n<tbody>\\n<tr><td>drivetruck.1    </td><td style=\"text-align: right;\">             0</td><td style=\"text-align: right;\">       2</td><td style=\"text-align: right;\">                 0</td></tr>\\n<tr><td>walk.2          </td><td style=\"text-align: right;\">             0</td><td style=\"text-align: right;\">       0</td><td style=\"text-align: right;\">                 0</td></tr>\\n<tr><td>disembarktruck.2</td><td style=\"text-align: right;\">             0</td><td style=\"text-align: right;\">       0</td><td style=\"text-align: right;\">                 0</td></tr>\\n</tbody>\\n</table>'"
      ]
     },
     "metadata": {},
     "output_type": "display_data"
    },
    {
     "name": "stdout",
     "output_type": "stream",
     "text": [
      "This subset is well-formed.\n",
      "This subset is valid.\n",
      "Adding this subset {'drivetruck.1', 'walk.2', 'disembarktruck.2'} to the locm2 transition set.\n",
      "Hole that is covered now:\n",
      "['drivetruck.1', 'walk.2']\n",
      "{'drivetruck.1', 'walk.2', 'disembarktruck.2'}\n",
      "{'drivetruck.1', 'walk.2', 'walk.1'}\n",
      "{'boardtruck.2', 'drivetruck.1', 'walk.2'}\n",
      "{'drivetruck.1', 'drivetruck.2', 'walk.2'}\n",
      "{'drivetruck.1', 'walk.2', 'loadtruck.2'}\n",
      "{'drivetruck.1', 'walk.2', 'unloadtruck.2'}\n",
      "{'drivetruck.1', 'walk.2', 'loadtruck.2', 'walk.1'}\n",
      "{'boardtruck.2', 'drivetruck.1', 'walk.2', 'unloadtruck.2'}\n",
      "{'drivetruck.1', 'walk.2', 'disembarktruck.2', 'unloadtruck.2'}\n",
      "{'boardtruck.2', 'drivetruck.1', 'walk.2', 'walk.1'}\n",
      "{'boardtruck.2', 'drivetruck.1', 'walk.2', 'loadtruck.2'}\n",
      "{'drivetruck.1', 'drivetruck.2', 'walk.2', 'disembarktruck.2'}\n",
      "{'drivetruck.1', 'walk.2', 'disembarktruck.2', 'loadtruck.2'}\n",
      "{'drivetruck.1', 'unloadtruck.2', 'walk.2', 'loadtruck.2'}\n",
      "{'drivetruck.1', 'walk.2', 'disembarktruck.2', 'walk.1'}\n",
      "{'boardtruck.2', 'drivetruck.1', 'walk.2', 'disembarktruck.2'}\n",
      "{'drivetruck.1', 'unloadtruck.2', 'walk.2', 'walk.1'}\n",
      "{'drivetruck.1', 'drivetruck.2', 'walk.2', 'walk.1'}\n",
      "{'drivetruck.1', 'drivetruck.2', 'walk.2', 'unloadtruck.2'}\n",
      "{'boardtruck.2', 'drivetruck.2', 'drivetruck.1', 'walk.2'}\n",
      "{'drivetruck.1', 'drivetruck.2', 'walk.2', 'loadtruck.2'}\n",
      "{'unloadtruck.2', 'drivetruck.1', 'walk.1', 'drivetruck.2', 'walk.2'}\n",
      "{'drivetruck.1', 'walk.1', 'boardtruck.2', 'drivetruck.2', 'walk.2'}\n",
      "{'unloadtruck.2', 'loadtruck.2', 'drivetruck.1', 'walk.1', 'walk.2'}\n",
      "{'unloadtruck.2', 'drivetruck.1', 'walk.1', 'boardtruck.2', 'walk.2'}\n",
      "{'unloadtruck.2', 'disembarktruck.2', 'drivetruck.1', 'boardtruck.2', 'walk.2'}\n",
      "{'disembarktruck.2', 'loadtruck.2', 'drivetruck.1', 'drivetruck.2', 'walk.2'}\n",
      "{'unloadtruck.2', 'disembarktruck.2', 'drivetruck.1', 'drivetruck.2', 'walk.2'}\n",
      "{'loadtruck.2', 'drivetruck.1', 'boardtruck.2', 'drivetruck.2', 'walk.2'}\n",
      "{'unloadtruck.2', 'loadtruck.2', 'drivetruck.1', 'boardtruck.2', 'walk.2'}\n",
      "{'disembarktruck.2', 'drivetruck.1', 'walk.1', 'drivetruck.2', 'walk.2'}\n",
      "{'unloadtruck.2', 'drivetruck.1', 'boardtruck.2', 'drivetruck.2', 'walk.2'}\n",
      "{'disembarktruck.2', 'drivetruck.1', 'boardtruck.2', 'drivetruck.2', 'walk.2'}\n",
      "{'disembarktruck.2', 'loadtruck.2', 'drivetruck.1', 'boardtruck.2', 'walk.2'}\n",
      "{'disembarktruck.2', 'loadtruck.2', 'drivetruck.1', 'walk.1', 'walk.2'}\n",
      "{'loadtruck.2', 'drivetruck.1', 'walk.1', 'boardtruck.2', 'walk.2'}\n",
      "{'loadtruck.2', 'drivetruck.1', 'walk.1', 'drivetruck.2', 'walk.2'}\n",
      "{'unloadtruck.2', 'disembarktruck.2', 'loadtruck.2', 'drivetruck.1', 'walk.2'}\n",
      "{'disembarktruck.2', 'drivetruck.1', 'walk.1', 'boardtruck.2', 'walk.2'}\n",
      "{'unloadtruck.2', 'loadtruck.2', 'drivetruck.1', 'drivetruck.2', 'walk.2'}\n",
      "{'unloadtruck.2', 'disembarktruck.2', 'drivetruck.1', 'walk.1', 'walk.2'}\n"
     ]
    },
    {
     "data": {
      "text/markdown": [
       "Checking candidate set *{'unloadtruck.2', 'disembarktruck.2', 'drivetruck.1', 'walk.1', 'walk.2'}* of class **Location** for well formedness and Validity"
      ],
      "text/plain": [
       "<IPython.core.display.Markdown object>"
      ]
     },
     "metadata": {},
     "output_type": "display_data"
    },
    {
     "data": {
      "text/html": [
       "<table>\n",
       "<thead>\n",
       "<tr><th>                </th><th style=\"text-align: right;\">  drivetruck.1</th><th style=\"text-align: right;\">  walk.2</th><th style=\"text-align: right;\">  disembarktruck.2</th></tr>\n",
       "</thead>\n",
       "<tbody>\n",
       "<tr><td>drivetruck.1    </td><td style=\"text-align: right;\">             0</td><td style=\"text-align: right;\">       2</td><td style=\"text-align: right;\">                 0</td></tr>\n",
       "<tr><td>walk.2          </td><td style=\"text-align: right;\">             0</td><td style=\"text-align: right;\">       0</td><td style=\"text-align: right;\">                 0</td></tr>\n",
       "<tr><td>disembarktruck.2</td><td style=\"text-align: right;\">             0</td><td style=\"text-align: right;\">       0</td><td style=\"text-align: right;\">                 0</td></tr>\n",
       "</tbody>\n",
       "</table>"
      ],
      "text/plain": [
       "'<table>\\n<thead>\\n<tr><th>                </th><th style=\"text-align: right;\">  drivetruck.1</th><th style=\"text-align: right;\">  walk.2</th><th style=\"text-align: right;\">  disembarktruck.2</th></tr>\\n</thead>\\n<tbody>\\n<tr><td>drivetruck.1    </td><td style=\"text-align: right;\">             0</td><td style=\"text-align: right;\">       2</td><td style=\"text-align: right;\">                 0</td></tr>\\n<tr><td>walk.2          </td><td style=\"text-align: right;\">             0</td><td style=\"text-align: right;\">       0</td><td style=\"text-align: right;\">                 0</td></tr>\\n<tr><td>disembarktruck.2</td><td style=\"text-align: right;\">             0</td><td style=\"text-align: right;\">       0</td><td style=\"text-align: right;\">                 0</td></tr>\\n</tbody>\\n</table>'"
      ]
     },
     "metadata": {},
     "output_type": "display_data"
    },
    {
     "name": "stdout",
     "output_type": "stream",
     "text": [
      "This subset is well-formed.\n",
      "This subset is valid.\n",
      "Adding this subset {'drivetruck.1', 'walk.2', 'disembarktruck.2'} to the locm2 transition set.\n",
      "Hole that is covered now:\n",
      "['drivetruck.1', 'walk.2']\n",
      "{'drivetruck.1', 'walk.2', 'disembarktruck.2'}\n",
      "{'drivetruck.1', 'walk.2', 'walk.1'}\n",
      "{'boardtruck.2', 'drivetruck.1', 'walk.2'}\n",
      "{'drivetruck.1', 'drivetruck.2', 'walk.2'}\n",
      "{'drivetruck.1', 'walk.2', 'loadtruck.2'}\n",
      "{'drivetruck.1', 'walk.2', 'unloadtruck.2'}\n",
      "{'drivetruck.1', 'walk.2', 'loadtruck.2', 'walk.1'}\n",
      "{'boardtruck.2', 'drivetruck.1', 'walk.2', 'unloadtruck.2'}\n",
      "{'drivetruck.1', 'walk.2', 'disembarktruck.2', 'unloadtruck.2'}\n",
      "{'boardtruck.2', 'drivetruck.1', 'walk.2', 'walk.1'}\n",
      "{'boardtruck.2', 'drivetruck.1', 'walk.2', 'loadtruck.2'}\n",
      "{'drivetruck.1', 'drivetruck.2', 'walk.2', 'disembarktruck.2'}\n",
      "{'drivetruck.1', 'walk.2', 'disembarktruck.2', 'loadtruck.2'}\n",
      "{'drivetruck.1', 'unloadtruck.2', 'walk.2', 'loadtruck.2'}\n",
      "{'drivetruck.1', 'walk.2', 'disembarktruck.2', 'walk.1'}\n",
      "{'boardtruck.2', 'drivetruck.1', 'walk.2', 'disembarktruck.2'}\n",
      "{'drivetruck.1', 'unloadtruck.2', 'walk.2', 'walk.1'}\n",
      "{'drivetruck.1', 'drivetruck.2', 'walk.2', 'walk.1'}\n",
      "{'drivetruck.1', 'drivetruck.2', 'walk.2', 'unloadtruck.2'}\n",
      "{'boardtruck.2', 'drivetruck.2', 'drivetruck.1', 'walk.2'}\n",
      "{'drivetruck.1', 'drivetruck.2', 'walk.2', 'loadtruck.2'}\n",
      "{'unloadtruck.2', 'drivetruck.1', 'walk.1', 'drivetruck.2', 'walk.2'}\n",
      "{'drivetruck.1', 'walk.1', 'boardtruck.2', 'drivetruck.2', 'walk.2'}\n",
      "{'unloadtruck.2', 'loadtruck.2', 'drivetruck.1', 'walk.1', 'walk.2'}\n",
      "{'unloadtruck.2', 'drivetruck.1', 'walk.1', 'boardtruck.2', 'walk.2'}\n",
      "{'unloadtruck.2', 'disembarktruck.2', 'drivetruck.1', 'boardtruck.2', 'walk.2'}\n",
      "{'disembarktruck.2', 'loadtruck.2', 'drivetruck.1', 'drivetruck.2', 'walk.2'}\n",
      "{'unloadtruck.2', 'disembarktruck.2', 'drivetruck.1', 'drivetruck.2', 'walk.2'}\n",
      "{'loadtruck.2', 'drivetruck.1', 'boardtruck.2', 'drivetruck.2', 'walk.2'}\n",
      "{'unloadtruck.2', 'loadtruck.2', 'drivetruck.1', 'boardtruck.2', 'walk.2'}\n",
      "{'disembarktruck.2', 'drivetruck.1', 'walk.1', 'drivetruck.2', 'walk.2'}\n",
      "{'unloadtruck.2', 'drivetruck.1', 'boardtruck.2', 'drivetruck.2', 'walk.2'}\n",
      "{'disembarktruck.2', 'drivetruck.1', 'boardtruck.2', 'drivetruck.2', 'walk.2'}\n",
      "{'disembarktruck.2', 'loadtruck.2', 'drivetruck.1', 'boardtruck.2', 'walk.2'}\n",
      "{'disembarktruck.2', 'loadtruck.2', 'drivetruck.1', 'walk.1', 'walk.2'}\n",
      "{'loadtruck.2', 'drivetruck.1', 'walk.1', 'boardtruck.2', 'walk.2'}\n",
      "{'loadtruck.2', 'drivetruck.1', 'walk.1', 'drivetruck.2', 'walk.2'}\n",
      "{'unloadtruck.2', 'disembarktruck.2', 'loadtruck.2', 'drivetruck.1', 'walk.2'}\n",
      "{'disembarktruck.2', 'drivetruck.1', 'walk.1', 'boardtruck.2', 'walk.2'}\n",
      "{'unloadtruck.2', 'loadtruck.2', 'drivetruck.1', 'drivetruck.2', 'walk.2'}\n",
      "{'unloadtruck.2', 'disembarktruck.2', 'drivetruck.1', 'walk.1', 'walk.2'}\n",
      "{'unloadtruck.2', 'disembarktruck.2', 'drivetruck.1', 'walk.1', 'boardtruck.2', 'walk.2'}\n",
      "{'unloadtruck.2', 'disembarktruck.2', 'loadtruck.2', 'drivetruck.1', 'boardtruck.2', 'walk.2'}\n",
      "{'unloadtruck.2', 'drivetruck.1', 'walk.1', 'boardtruck.2', 'drivetruck.2', 'walk.2'}\n",
      "{'unloadtruck.2', 'disembarktruck.2', 'drivetruck.1', 'walk.1', 'drivetruck.2', 'walk.2'}\n",
      "{'unloadtruck.2', 'loadtruck.2', 'drivetruck.1', 'boardtruck.2', 'drivetruck.2', 'walk.2'}\n",
      "{'unloadtruck.2', 'disembarktruck.2', 'loadtruck.2', 'drivetruck.1', 'walk.1', 'walk.2'}\n",
      "{'unloadtruck.2', 'disembarktruck.2', 'loadtruck.2', 'drivetruck.1', 'drivetruck.2', 'walk.2'}\n",
      "{'unloadtruck.2', 'disembarktruck.2', 'drivetruck.1', 'boardtruck.2', 'drivetruck.2', 'walk.2'}\n",
      "{'disembarktruck.2', 'loadtruck.2', 'drivetruck.1', 'walk.1', 'boardtruck.2', 'walk.2'}\n",
      "{'unloadtruck.2', 'loadtruck.2', 'drivetruck.1', 'walk.1', 'boardtruck.2', 'walk.2'}\n",
      "{'loadtruck.2', 'drivetruck.1', 'walk.1', 'boardtruck.2', 'drivetruck.2', 'walk.2'}\n",
      "{'disembarktruck.2', 'loadtruck.2', 'drivetruck.1', 'walk.1', 'drivetruck.2', 'walk.2'}\n",
      "{'disembarktruck.2', 'drivetruck.1', 'walk.1', 'boardtruck.2', 'drivetruck.2', 'walk.2'}\n",
      "{'unloadtruck.2', 'loadtruck.2', 'drivetruck.1', 'walk.1', 'drivetruck.2', 'walk.2'}\n",
      "{'disembarktruck.2', 'loadtruck.2', 'drivetruck.1', 'boardtruck.2', 'drivetruck.2', 'walk.2'}\n"
     ]
    },
    {
     "data": {
      "text/markdown": [
       "Checking candidate set *{'disembarktruck.2', 'loadtruck.2', 'drivetruck.1', 'boardtruck.2', 'drivetruck.2', 'walk.2'}* of class **Location** for well formedness and Validity"
      ],
      "text/plain": [
       "<IPython.core.display.Markdown object>"
      ]
     },
     "metadata": {},
     "output_type": "display_data"
    },
    {
     "data": {
      "text/html": [
       "<table>\n",
       "<thead>\n",
       "<tr><th>                </th><th style=\"text-align: right;\">  drivetruck.1</th><th style=\"text-align: right;\">  walk.2</th><th style=\"text-align: right;\">  disembarktruck.2</th></tr>\n",
       "</thead>\n",
       "<tbody>\n",
       "<tr><td>drivetruck.1    </td><td style=\"text-align: right;\">             0</td><td style=\"text-align: right;\">       2</td><td style=\"text-align: right;\">                 0</td></tr>\n",
       "<tr><td>walk.2          </td><td style=\"text-align: right;\">             0</td><td style=\"text-align: right;\">       0</td><td style=\"text-align: right;\">                 0</td></tr>\n",
       "<tr><td>disembarktruck.2</td><td style=\"text-align: right;\">             0</td><td style=\"text-align: right;\">       0</td><td style=\"text-align: right;\">                 0</td></tr>\n",
       "</tbody>\n",
       "</table>"
      ],
      "text/plain": [
       "'<table>\\n<thead>\\n<tr><th>                </th><th style=\"text-align: right;\">  drivetruck.1</th><th style=\"text-align: right;\">  walk.2</th><th style=\"text-align: right;\">  disembarktruck.2</th></tr>\\n</thead>\\n<tbody>\\n<tr><td>drivetruck.1    </td><td style=\"text-align: right;\">             0</td><td style=\"text-align: right;\">       2</td><td style=\"text-align: right;\">                 0</td></tr>\\n<tr><td>walk.2          </td><td style=\"text-align: right;\">             0</td><td style=\"text-align: right;\">       0</td><td style=\"text-align: right;\">                 0</td></tr>\\n<tr><td>disembarktruck.2</td><td style=\"text-align: right;\">             0</td><td style=\"text-align: right;\">       0</td><td style=\"text-align: right;\">                 0</td></tr>\\n</tbody>\\n</table>'"
      ]
     },
     "metadata": {},
     "output_type": "display_data"
    },
    {
     "name": "stdout",
     "output_type": "stream",
     "text": [
      "This subset is well-formed.\n",
      "This subset is valid.\n",
      "Adding this subset {'drivetruck.1', 'walk.2', 'disembarktruck.2'} to the locm2 transition set.\n",
      "Hole that is covered now:\n",
      "['drivetruck.1', 'walk.2']\n",
      "{'drivetruck.1', 'walk.2', 'disembarktruck.2'}\n",
      "{'drivetruck.1', 'walk.2', 'walk.1'}\n",
      "{'boardtruck.2', 'drivetruck.1', 'walk.2'}\n",
      "{'drivetruck.1', 'drivetruck.2', 'walk.2'}\n",
      "{'drivetruck.1', 'walk.2', 'loadtruck.2'}\n",
      "{'drivetruck.1', 'walk.2', 'unloadtruck.2'}\n",
      "{'drivetruck.1', 'walk.2', 'loadtruck.2', 'walk.1'}\n",
      "{'boardtruck.2', 'drivetruck.1', 'walk.2', 'unloadtruck.2'}\n",
      "{'drivetruck.1', 'walk.2', 'disembarktruck.2', 'unloadtruck.2'}\n",
      "{'boardtruck.2', 'drivetruck.1', 'walk.2', 'walk.1'}\n",
      "{'boardtruck.2', 'drivetruck.1', 'walk.2', 'loadtruck.2'}\n",
      "{'drivetruck.1', 'drivetruck.2', 'walk.2', 'disembarktruck.2'}\n",
      "{'drivetruck.1', 'walk.2', 'disembarktruck.2', 'loadtruck.2'}\n",
      "{'drivetruck.1', 'unloadtruck.2', 'walk.2', 'loadtruck.2'}\n",
      "{'drivetruck.1', 'walk.2', 'disembarktruck.2', 'walk.1'}\n",
      "{'boardtruck.2', 'drivetruck.1', 'walk.2', 'disembarktruck.2'}\n",
      "{'drivetruck.1', 'unloadtruck.2', 'walk.2', 'walk.1'}\n",
      "{'drivetruck.1', 'drivetruck.2', 'walk.2', 'walk.1'}\n",
      "{'drivetruck.1', 'drivetruck.2', 'walk.2', 'unloadtruck.2'}\n",
      "{'boardtruck.2', 'drivetruck.2', 'drivetruck.1', 'walk.2'}\n",
      "{'drivetruck.1', 'drivetruck.2', 'walk.2', 'loadtruck.2'}\n",
      "{'unloadtruck.2', 'drivetruck.1', 'walk.1', 'drivetruck.2', 'walk.2'}\n",
      "{'drivetruck.1', 'walk.1', 'boardtruck.2', 'drivetruck.2', 'walk.2'}\n",
      "{'unloadtruck.2', 'loadtruck.2', 'drivetruck.1', 'walk.1', 'walk.2'}\n",
      "{'unloadtruck.2', 'drivetruck.1', 'walk.1', 'boardtruck.2', 'walk.2'}\n",
      "{'unloadtruck.2', 'disembarktruck.2', 'drivetruck.1', 'boardtruck.2', 'walk.2'}\n",
      "{'disembarktruck.2', 'loadtruck.2', 'drivetruck.1', 'drivetruck.2', 'walk.2'}\n",
      "{'unloadtruck.2', 'disembarktruck.2', 'drivetruck.1', 'drivetruck.2', 'walk.2'}\n",
      "{'loadtruck.2', 'drivetruck.1', 'boardtruck.2', 'drivetruck.2', 'walk.2'}\n",
      "{'unloadtruck.2', 'loadtruck.2', 'drivetruck.1', 'boardtruck.2', 'walk.2'}\n",
      "{'disembarktruck.2', 'drivetruck.1', 'walk.1', 'drivetruck.2', 'walk.2'}\n",
      "{'unloadtruck.2', 'drivetruck.1', 'boardtruck.2', 'drivetruck.2', 'walk.2'}\n",
      "{'disembarktruck.2', 'drivetruck.1', 'boardtruck.2', 'drivetruck.2', 'walk.2'}\n",
      "{'disembarktruck.2', 'loadtruck.2', 'drivetruck.1', 'boardtruck.2', 'walk.2'}\n",
      "{'disembarktruck.2', 'loadtruck.2', 'drivetruck.1', 'walk.1', 'walk.2'}\n",
      "{'loadtruck.2', 'drivetruck.1', 'walk.1', 'boardtruck.2', 'walk.2'}\n",
      "{'loadtruck.2', 'drivetruck.1', 'walk.1', 'drivetruck.2', 'walk.2'}\n",
      "{'unloadtruck.2', 'disembarktruck.2', 'loadtruck.2', 'drivetruck.1', 'walk.2'}\n",
      "{'disembarktruck.2', 'drivetruck.1', 'walk.1', 'boardtruck.2', 'walk.2'}\n",
      "{'unloadtruck.2', 'loadtruck.2', 'drivetruck.1', 'drivetruck.2', 'walk.2'}\n",
      "{'unloadtruck.2', 'disembarktruck.2', 'drivetruck.1', 'walk.1', 'walk.2'}\n",
      "{'unloadtruck.2', 'disembarktruck.2', 'drivetruck.1', 'walk.1', 'boardtruck.2', 'walk.2'}\n",
      "{'unloadtruck.2', 'disembarktruck.2', 'loadtruck.2', 'drivetruck.1', 'boardtruck.2', 'walk.2'}\n",
      "{'unloadtruck.2', 'drivetruck.1', 'walk.1', 'boardtruck.2', 'drivetruck.2', 'walk.2'}\n",
      "{'unloadtruck.2', 'disembarktruck.2', 'drivetruck.1', 'walk.1', 'drivetruck.2', 'walk.2'}\n",
      "{'unloadtruck.2', 'loadtruck.2', 'drivetruck.1', 'boardtruck.2', 'drivetruck.2', 'walk.2'}\n",
      "{'unloadtruck.2', 'disembarktruck.2', 'loadtruck.2', 'drivetruck.1', 'walk.1', 'walk.2'}\n",
      "{'unloadtruck.2', 'disembarktruck.2', 'loadtruck.2', 'drivetruck.1', 'drivetruck.2', 'walk.2'}\n",
      "{'unloadtruck.2', 'disembarktruck.2', 'drivetruck.1', 'boardtruck.2', 'drivetruck.2', 'walk.2'}\n",
      "{'disembarktruck.2', 'loadtruck.2', 'drivetruck.1', 'walk.1', 'boardtruck.2', 'walk.2'}\n",
      "{'unloadtruck.2', 'loadtruck.2', 'drivetruck.1', 'walk.1', 'boardtruck.2', 'walk.2'}\n",
      "{'loadtruck.2', 'drivetruck.1', 'walk.1', 'boardtruck.2', 'drivetruck.2', 'walk.2'}\n",
      "{'disembarktruck.2', 'loadtruck.2', 'drivetruck.1', 'walk.1', 'drivetruck.2', 'walk.2'}\n",
      "{'disembarktruck.2', 'drivetruck.1', 'walk.1', 'boardtruck.2', 'drivetruck.2', 'walk.2'}\n",
      "{'unloadtruck.2', 'loadtruck.2', 'drivetruck.1', 'walk.1', 'drivetruck.2', 'walk.2'}\n",
      "{'disembarktruck.2', 'loadtruck.2', 'drivetruck.1', 'boardtruck.2', 'drivetruck.2', 'walk.2'}\n",
      "{'disembarktruck.2', 'loadtruck.2', 'drivetruck.1', 'walk.1', 'boardtruck.2', 'drivetruck.2', 'walk.2'}\n",
      "{'unloadtruck.2', 'disembarktruck.2', 'loadtruck.2', 'drivetruck.1', 'walk.1', 'drivetruck.2', 'walk.2'}\n",
      "{'unloadtruck.2', 'disembarktruck.2', 'loadtruck.2', 'drivetruck.1', 'walk.1', 'boardtruck.2', 'walk.2'}\n",
      "{'unloadtruck.2', 'disembarktruck.2', 'loadtruck.2', 'drivetruck.1', 'boardtruck.2', 'drivetruck.2', 'walk.2'}\n",
      "{'unloadtruck.2', 'disembarktruck.2', 'drivetruck.1', 'walk.1', 'boardtruck.2', 'drivetruck.2', 'walk.2'}\n",
      "{'unloadtruck.2', 'loadtruck.2', 'drivetruck.1', 'walk.1', 'boardtruck.2', 'drivetruck.2', 'walk.2'}\n"
     ]
    },
    {
     "data": {
      "text/markdown": [
       "Checking candidate set *{'unloadtruck.2', 'loadtruck.2', 'drivetruck.1', 'walk.1', 'boardtruck.2', 'drivetruck.2', 'walk.2'}* of class **Location** for well formedness and Validity"
      ],
      "text/plain": [
       "<IPython.core.display.Markdown object>"
      ]
     },
     "metadata": {},
     "output_type": "display_data"
    },
    {
     "data": {
      "text/html": [
       "<table>\n",
       "<thead>\n",
       "<tr><th>                </th><th style=\"text-align: right;\">  drivetruck.1</th><th style=\"text-align: right;\">  walk.2</th><th style=\"text-align: right;\">  disembarktruck.2</th></tr>\n",
       "</thead>\n",
       "<tbody>\n",
       "<tr><td>drivetruck.1    </td><td style=\"text-align: right;\">             0</td><td style=\"text-align: right;\">       2</td><td style=\"text-align: right;\">                 0</td></tr>\n",
       "<tr><td>walk.2          </td><td style=\"text-align: right;\">             0</td><td style=\"text-align: right;\">       0</td><td style=\"text-align: right;\">                 0</td></tr>\n",
       "<tr><td>disembarktruck.2</td><td style=\"text-align: right;\">             0</td><td style=\"text-align: right;\">       0</td><td style=\"text-align: right;\">                 0</td></tr>\n",
       "</tbody>\n",
       "</table>"
      ],
      "text/plain": [
       "'<table>\\n<thead>\\n<tr><th>                </th><th style=\"text-align: right;\">  drivetruck.1</th><th style=\"text-align: right;\">  walk.2</th><th style=\"text-align: right;\">  disembarktruck.2</th></tr>\\n</thead>\\n<tbody>\\n<tr><td>drivetruck.1    </td><td style=\"text-align: right;\">             0</td><td style=\"text-align: right;\">       2</td><td style=\"text-align: right;\">                 0</td></tr>\\n<tr><td>walk.2          </td><td style=\"text-align: right;\">             0</td><td style=\"text-align: right;\">       0</td><td style=\"text-align: right;\">                 0</td></tr>\\n<tr><td>disembarktruck.2</td><td style=\"text-align: right;\">             0</td><td style=\"text-align: right;\">       0</td><td style=\"text-align: right;\">                 0</td></tr>\\n</tbody>\\n</table>'"
      ]
     },
     "metadata": {},
     "output_type": "display_data"
    },
    {
     "name": "stdout",
     "output_type": "stream",
     "text": [
      "This subset is well-formed.\n",
      "This subset is valid.\n",
      "Adding this subset {'drivetruck.1', 'walk.2', 'disembarktruck.2'} to the locm2 transition set.\n",
      "Hole that is covered now:\n",
      "['drivetruck.1', 'walk.2']\n"
     ]
    },
    {
     "data": {
      "text/markdown": [
       "#### Hole 8: {'unloadtruck.2', 'walk.1'}"
      ],
      "text/plain": [
       "<IPython.core.display.Markdown object>"
      ]
     },
     "metadata": {},
     "output_type": "display_data"
    },
    {
     "name": "stdout",
     "output_type": "stream",
     "text": [
      "{'unloadtruck.2', 'loadtruck.2', 'walk.1'}\n",
      "{'drivetruck.1', 'unloadtruck.2', 'walk.1'}\n",
      "{'boardtruck.2', 'unloadtruck.2', 'walk.1'}\n",
      "{'unloadtruck.2', 'disembarktruck.2', 'walk.1'}\n",
      "{'unloadtruck.2', 'walk.2', 'walk.1'}\n",
      "{'unloadtruck.2', 'drivetruck.2', 'walk.1'}\n"
     ]
    },
    {
     "data": {
      "text/markdown": [
       "Checking candidate set *{'unloadtruck.2', 'drivetruck.2', 'walk.1'}* of class **Location** for well formedness and Validity"
      ],
      "text/plain": [
       "<IPython.core.display.Markdown object>"
      ]
     },
     "metadata": {},
     "output_type": "display_data"
    },
    {
     "data": {
      "text/html": [
       "<table>\n",
       "<thead>\n",
       "<tr><th>             </th><th style=\"text-align: right;\">  unloadtruck.2</th><th style=\"text-align: right;\">  loadtruck.2</th><th style=\"text-align: right;\">  walk.1</th></tr>\n",
       "</thead>\n",
       "<tbody>\n",
       "<tr><td>unloadtruck.2</td><td style=\"text-align: right;\">              0</td><td style=\"text-align: right;\">            1</td><td style=\"text-align: right;\">       0</td></tr>\n",
       "<tr><td>loadtruck.2  </td><td style=\"text-align: right;\">              1</td><td style=\"text-align: right;\">            0</td><td style=\"text-align: right;\">       0</td></tr>\n",
       "<tr><td>walk.1       </td><td style=\"text-align: right;\">              0</td><td style=\"text-align: right;\">            0</td><td style=\"text-align: right;\">       0</td></tr>\n",
       "</tbody>\n",
       "</table>"
      ],
      "text/plain": [
       "'<table>\\n<thead>\\n<tr><th>             </th><th style=\"text-align: right;\">  unloadtruck.2</th><th style=\"text-align: right;\">  loadtruck.2</th><th style=\"text-align: right;\">  walk.1</th></tr>\\n</thead>\\n<tbody>\\n<tr><td>unloadtruck.2</td><td style=\"text-align: right;\">              0</td><td style=\"text-align: right;\">            1</td><td style=\"text-align: right;\">       0</td></tr>\\n<tr><td>loadtruck.2  </td><td style=\"text-align: right;\">              1</td><td style=\"text-align: right;\">            0</td><td style=\"text-align: right;\">       0</td></tr>\\n<tr><td>walk.1       </td><td style=\"text-align: right;\">              0</td><td style=\"text-align: right;\">            0</td><td style=\"text-align: right;\">       0</td></tr>\\n</tbody>\\n</table>'"
      ]
     },
     "metadata": {},
     "output_type": "display_data"
    },
    {
     "name": "stdout",
     "output_type": "stream",
     "text": [
      "This subset is well-formed.\n",
      "This subset is valid.\n",
      "Adding this subset {'unloadtruck.2', 'loadtruck.2', 'walk.1'} to the locm2 transition set.\n",
      "Hole that is covered now:\n",
      "['unloadtruck.2', 'walk.1']\n",
      "{'unloadtruck.2', 'loadtruck.2', 'walk.1'}\n",
      "{'drivetruck.1', 'unloadtruck.2', 'walk.1'}\n",
      "{'boardtruck.2', 'unloadtruck.2', 'walk.1'}\n",
      "{'unloadtruck.2', 'disembarktruck.2', 'walk.1'}\n",
      "{'unloadtruck.2', 'walk.2', 'walk.1'}\n",
      "{'unloadtruck.2', 'drivetruck.2', 'walk.1'}\n",
      "{'drivetruck.1', 'drivetruck.2', 'unloadtruck.2', 'walk.1'}\n",
      "{'unloadtruck.2', 'drivetruck.2', 'loadtruck.2', 'walk.1'}\n",
      "{'unloadtruck.2', 'disembarktruck.2', 'loadtruck.2', 'walk.1'}\n",
      "{'drivetruck.1', 'unloadtruck.2', 'disembarktruck.2', 'walk.1'}\n",
      "{'unloadtruck.2', 'drivetruck.2', 'disembarktruck.2', 'walk.1'}\n",
      "{'unloadtruck.2', 'walk.2', 'loadtruck.2', 'walk.1'}\n",
      "{'boardtruck.2', 'unloadtruck.2', 'loadtruck.2', 'walk.1'}\n",
      "{'boardtruck.2', 'drivetruck.2', 'unloadtruck.2', 'walk.1'}\n",
      "{'drivetruck.1', 'unloadtruck.2', 'loadtruck.2', 'walk.1'}\n",
      "{'boardtruck.2', 'unloadtruck.2', 'walk.2', 'walk.1'}\n",
      "{'unloadtruck.2', 'drivetruck.2', 'walk.2', 'walk.1'}\n",
      "{'unloadtruck.2', 'walk.2', 'disembarktruck.2', 'walk.1'}\n",
      "{'drivetruck.1', 'unloadtruck.2', 'walk.2', 'walk.1'}\n",
      "{'boardtruck.2', 'unloadtruck.2', 'disembarktruck.2', 'walk.1'}\n",
      "{'boardtruck.2', 'drivetruck.1', 'unloadtruck.2', 'walk.1'}\n"
     ]
    },
    {
     "data": {
      "text/markdown": [
       "Checking candidate set *{'boardtruck.2', 'drivetruck.1', 'unloadtruck.2', 'walk.1'}* of class **Location** for well formedness and Validity"
      ],
      "text/plain": [
       "<IPython.core.display.Markdown object>"
      ]
     },
     "metadata": {},
     "output_type": "display_data"
    },
    {
     "data": {
      "text/html": [
       "<table>\n",
       "<thead>\n",
       "<tr><th>             </th><th style=\"text-align: right;\">  unloadtruck.2</th><th style=\"text-align: right;\">  loadtruck.2</th><th style=\"text-align: right;\">  walk.1</th></tr>\n",
       "</thead>\n",
       "<tbody>\n",
       "<tr><td>unloadtruck.2</td><td style=\"text-align: right;\">              0</td><td style=\"text-align: right;\">            1</td><td style=\"text-align: right;\">       0</td></tr>\n",
       "<tr><td>loadtruck.2  </td><td style=\"text-align: right;\">              1</td><td style=\"text-align: right;\">            0</td><td style=\"text-align: right;\">       0</td></tr>\n",
       "<tr><td>walk.1       </td><td style=\"text-align: right;\">              0</td><td style=\"text-align: right;\">            0</td><td style=\"text-align: right;\">       0</td></tr>\n",
       "</tbody>\n",
       "</table>"
      ],
      "text/plain": [
       "'<table>\\n<thead>\\n<tr><th>             </th><th style=\"text-align: right;\">  unloadtruck.2</th><th style=\"text-align: right;\">  loadtruck.2</th><th style=\"text-align: right;\">  walk.1</th></tr>\\n</thead>\\n<tbody>\\n<tr><td>unloadtruck.2</td><td style=\"text-align: right;\">              0</td><td style=\"text-align: right;\">            1</td><td style=\"text-align: right;\">       0</td></tr>\\n<tr><td>loadtruck.2  </td><td style=\"text-align: right;\">              1</td><td style=\"text-align: right;\">            0</td><td style=\"text-align: right;\">       0</td></tr>\\n<tr><td>walk.1       </td><td style=\"text-align: right;\">              0</td><td style=\"text-align: right;\">            0</td><td style=\"text-align: right;\">       0</td></tr>\\n</tbody>\\n</table>'"
      ]
     },
     "metadata": {},
     "output_type": "display_data"
    },
    {
     "name": "stdout",
     "output_type": "stream",
     "text": [
      "This subset is well-formed.\n",
      "This subset is valid.\n",
      "Adding this subset {'unloadtruck.2', 'loadtruck.2', 'walk.1'} to the locm2 transition set.\n",
      "Hole that is covered now:\n",
      "['unloadtruck.2', 'walk.1']\n",
      "{'unloadtruck.2', 'loadtruck.2', 'walk.1'}\n",
      "{'drivetruck.1', 'unloadtruck.2', 'walk.1'}\n",
      "{'boardtruck.2', 'unloadtruck.2', 'walk.1'}\n",
      "{'unloadtruck.2', 'disembarktruck.2', 'walk.1'}\n",
      "{'unloadtruck.2', 'walk.2', 'walk.1'}\n",
      "{'unloadtruck.2', 'drivetruck.2', 'walk.1'}\n",
      "{'drivetruck.1', 'drivetruck.2', 'unloadtruck.2', 'walk.1'}\n",
      "{'unloadtruck.2', 'drivetruck.2', 'loadtruck.2', 'walk.1'}\n",
      "{'unloadtruck.2', 'disembarktruck.2', 'loadtruck.2', 'walk.1'}\n",
      "{'drivetruck.1', 'unloadtruck.2', 'disembarktruck.2', 'walk.1'}\n",
      "{'unloadtruck.2', 'drivetruck.2', 'disembarktruck.2', 'walk.1'}\n",
      "{'unloadtruck.2', 'walk.2', 'loadtruck.2', 'walk.1'}\n",
      "{'boardtruck.2', 'unloadtruck.2', 'loadtruck.2', 'walk.1'}\n",
      "{'boardtruck.2', 'drivetruck.2', 'unloadtruck.2', 'walk.1'}\n",
      "{'drivetruck.1', 'unloadtruck.2', 'loadtruck.2', 'walk.1'}\n",
      "{'boardtruck.2', 'unloadtruck.2', 'walk.2', 'walk.1'}\n",
      "{'unloadtruck.2', 'drivetruck.2', 'walk.2', 'walk.1'}\n",
      "{'unloadtruck.2', 'walk.2', 'disembarktruck.2', 'walk.1'}\n",
      "{'drivetruck.1', 'unloadtruck.2', 'walk.2', 'walk.1'}\n",
      "{'boardtruck.2', 'unloadtruck.2', 'disembarktruck.2', 'walk.1'}\n",
      "{'boardtruck.2', 'drivetruck.1', 'unloadtruck.2', 'walk.1'}\n",
      "{'unloadtruck.2', 'loadtruck.2', 'walk.1', 'boardtruck.2', 'walk.2'}\n",
      "{'unloadtruck.2', 'drivetruck.1', 'walk.1', 'drivetruck.2', 'walk.2'}\n",
      "{'unloadtruck.2', 'disembarktruck.2', 'walk.1', 'drivetruck.2', 'walk.2'}\n",
      "{'unloadtruck.2', 'disembarktruck.2', 'drivetruck.1', 'walk.1', 'boardtruck.2'}\n",
      "{'unloadtruck.2', 'loadtruck.2', 'drivetruck.1', 'walk.1', 'walk.2'}\n",
      "{'unloadtruck.2', 'walk.1', 'boardtruck.2', 'drivetruck.2', 'walk.2'}\n",
      "{'unloadtruck.2', 'disembarktruck.2', 'loadtruck.2', 'drivetruck.1', 'walk.1'}\n",
      "{'unloadtruck.2', 'drivetruck.1', 'walk.1', 'boardtruck.2', 'walk.2'}\n",
      "{'unloadtruck.2', 'disembarktruck.2', 'drivetruck.1', 'walk.1', 'drivetruck.2'}\n",
      "{'unloadtruck.2', 'disembarktruck.2', 'loadtruck.2', 'walk.1', 'walk.2'}\n",
      "{'unloadtruck.2', 'loadtruck.2', 'walk.1', 'boardtruck.2', 'drivetruck.2'}\n",
      "{'unloadtruck.2', 'drivetruck.1', 'walk.1', 'boardtruck.2', 'drivetruck.2'}\n",
      "{'unloadtruck.2', 'disembarktruck.2', 'walk.1', 'boardtruck.2', 'walk.2'}\n",
      "{'unloadtruck.2', 'disembarktruck.2', 'walk.1', 'boardtruck.2', 'drivetruck.2'}\n",
      "{'unloadtruck.2', 'loadtruck.2', 'drivetruck.1', 'walk.1', 'drivetruck.2'}\n",
      "{'unloadtruck.2', 'disembarktruck.2', 'loadtruck.2', 'walk.1', 'drivetruck.2'}\n",
      "{'unloadtruck.2', 'loadtruck.2', 'drivetruck.1', 'walk.1', 'boardtruck.2'}\n",
      "{'unloadtruck.2', 'loadtruck.2', 'walk.1', 'drivetruck.2', 'walk.2'}\n",
      "{'unloadtruck.2', 'disembarktruck.2', 'loadtruck.2', 'walk.1', 'boardtruck.2'}\n",
      "{'unloadtruck.2', 'disembarktruck.2', 'drivetruck.1', 'walk.1', 'walk.2'}\n"
     ]
    },
    {
     "data": {
      "text/markdown": [
       "Checking candidate set *{'unloadtruck.2', 'disembarktruck.2', 'drivetruck.1', 'walk.1', 'walk.2'}* of class **Location** for well formedness and Validity"
      ],
      "text/plain": [
       "<IPython.core.display.Markdown object>"
      ]
     },
     "metadata": {},
     "output_type": "display_data"
    },
    {
     "data": {
      "text/html": [
       "<table>\n",
       "<thead>\n",
       "<tr><th>             </th><th style=\"text-align: right;\">  unloadtruck.2</th><th style=\"text-align: right;\">  loadtruck.2</th><th style=\"text-align: right;\">  walk.1</th></tr>\n",
       "</thead>\n",
       "<tbody>\n",
       "<tr><td>unloadtruck.2</td><td style=\"text-align: right;\">              0</td><td style=\"text-align: right;\">            1</td><td style=\"text-align: right;\">       0</td></tr>\n",
       "<tr><td>loadtruck.2  </td><td style=\"text-align: right;\">              1</td><td style=\"text-align: right;\">            0</td><td style=\"text-align: right;\">       0</td></tr>\n",
       "<tr><td>walk.1       </td><td style=\"text-align: right;\">              0</td><td style=\"text-align: right;\">            0</td><td style=\"text-align: right;\">       0</td></tr>\n",
       "</tbody>\n",
       "</table>"
      ],
      "text/plain": [
       "'<table>\\n<thead>\\n<tr><th>             </th><th style=\"text-align: right;\">  unloadtruck.2</th><th style=\"text-align: right;\">  loadtruck.2</th><th style=\"text-align: right;\">  walk.1</th></tr>\\n</thead>\\n<tbody>\\n<tr><td>unloadtruck.2</td><td style=\"text-align: right;\">              0</td><td style=\"text-align: right;\">            1</td><td style=\"text-align: right;\">       0</td></tr>\\n<tr><td>loadtruck.2  </td><td style=\"text-align: right;\">              1</td><td style=\"text-align: right;\">            0</td><td style=\"text-align: right;\">       0</td></tr>\\n<tr><td>walk.1       </td><td style=\"text-align: right;\">              0</td><td style=\"text-align: right;\">            0</td><td style=\"text-align: right;\">       0</td></tr>\\n</tbody>\\n</table>'"
      ]
     },
     "metadata": {},
     "output_type": "display_data"
    },
    {
     "name": "stdout",
     "output_type": "stream",
     "text": [
      "This subset is well-formed.\n",
      "This subset is valid.\n",
      "Adding this subset {'unloadtruck.2', 'loadtruck.2', 'walk.1'} to the locm2 transition set.\n",
      "Hole that is covered now:\n",
      "['unloadtruck.2', 'walk.1']\n",
      "{'unloadtruck.2', 'loadtruck.2', 'walk.1'}\n",
      "{'drivetruck.1', 'unloadtruck.2', 'walk.1'}\n",
      "{'boardtruck.2', 'unloadtruck.2', 'walk.1'}\n",
      "{'unloadtruck.2', 'disembarktruck.2', 'walk.1'}\n",
      "{'unloadtruck.2', 'walk.2', 'walk.1'}\n",
      "{'unloadtruck.2', 'drivetruck.2', 'walk.1'}\n",
      "{'drivetruck.1', 'drivetruck.2', 'unloadtruck.2', 'walk.1'}\n",
      "{'unloadtruck.2', 'drivetruck.2', 'loadtruck.2', 'walk.1'}\n",
      "{'unloadtruck.2', 'disembarktruck.2', 'loadtruck.2', 'walk.1'}\n",
      "{'drivetruck.1', 'unloadtruck.2', 'disembarktruck.2', 'walk.1'}\n",
      "{'unloadtruck.2', 'drivetruck.2', 'disembarktruck.2', 'walk.1'}\n",
      "{'unloadtruck.2', 'walk.2', 'loadtruck.2', 'walk.1'}\n",
      "{'boardtruck.2', 'unloadtruck.2', 'loadtruck.2', 'walk.1'}\n",
      "{'boardtruck.2', 'drivetruck.2', 'unloadtruck.2', 'walk.1'}\n",
      "{'drivetruck.1', 'unloadtruck.2', 'loadtruck.2', 'walk.1'}\n",
      "{'boardtruck.2', 'unloadtruck.2', 'walk.2', 'walk.1'}\n",
      "{'unloadtruck.2', 'drivetruck.2', 'walk.2', 'walk.1'}\n",
      "{'unloadtruck.2', 'walk.2', 'disembarktruck.2', 'walk.1'}\n",
      "{'drivetruck.1', 'unloadtruck.2', 'walk.2', 'walk.1'}\n",
      "{'boardtruck.2', 'unloadtruck.2', 'disembarktruck.2', 'walk.1'}\n",
      "{'boardtruck.2', 'drivetruck.1', 'unloadtruck.2', 'walk.1'}\n",
      "{'unloadtruck.2', 'loadtruck.2', 'walk.1', 'boardtruck.2', 'walk.2'}\n",
      "{'unloadtruck.2', 'drivetruck.1', 'walk.1', 'drivetruck.2', 'walk.2'}\n",
      "{'unloadtruck.2', 'disembarktruck.2', 'walk.1', 'drivetruck.2', 'walk.2'}\n",
      "{'unloadtruck.2', 'disembarktruck.2', 'drivetruck.1', 'walk.1', 'boardtruck.2'}\n",
      "{'unloadtruck.2', 'loadtruck.2', 'drivetruck.1', 'walk.1', 'walk.2'}\n",
      "{'unloadtruck.2', 'walk.1', 'boardtruck.2', 'drivetruck.2', 'walk.2'}\n",
      "{'unloadtruck.2', 'disembarktruck.2', 'loadtruck.2', 'drivetruck.1', 'walk.1'}\n",
      "{'unloadtruck.2', 'drivetruck.1', 'walk.1', 'boardtruck.2', 'walk.2'}\n",
      "{'unloadtruck.2', 'disembarktruck.2', 'drivetruck.1', 'walk.1', 'drivetruck.2'}\n",
      "{'unloadtruck.2', 'disembarktruck.2', 'loadtruck.2', 'walk.1', 'walk.2'}\n",
      "{'unloadtruck.2', 'loadtruck.2', 'walk.1', 'boardtruck.2', 'drivetruck.2'}\n",
      "{'unloadtruck.2', 'drivetruck.1', 'walk.1', 'boardtruck.2', 'drivetruck.2'}\n",
      "{'unloadtruck.2', 'disembarktruck.2', 'walk.1', 'boardtruck.2', 'walk.2'}\n",
      "{'unloadtruck.2', 'disembarktruck.2', 'walk.1', 'boardtruck.2', 'drivetruck.2'}\n",
      "{'unloadtruck.2', 'loadtruck.2', 'drivetruck.1', 'walk.1', 'drivetruck.2'}\n",
      "{'unloadtruck.2', 'disembarktruck.2', 'loadtruck.2', 'walk.1', 'drivetruck.2'}\n",
      "{'unloadtruck.2', 'loadtruck.2', 'drivetruck.1', 'walk.1', 'boardtruck.2'}\n",
      "{'unloadtruck.2', 'loadtruck.2', 'walk.1', 'drivetruck.2', 'walk.2'}\n",
      "{'unloadtruck.2', 'disembarktruck.2', 'loadtruck.2', 'walk.1', 'boardtruck.2'}\n",
      "{'unloadtruck.2', 'disembarktruck.2', 'drivetruck.1', 'walk.1', 'walk.2'}\n",
      "{'unloadtruck.2', 'disembarktruck.2', 'loadtruck.2', 'walk.1', 'boardtruck.2', 'walk.2'}\n",
      "{'unloadtruck.2', 'loadtruck.2', 'walk.1', 'boardtruck.2', 'drivetruck.2', 'walk.2'}\n",
      "{'unloadtruck.2', 'disembarktruck.2', 'drivetruck.1', 'walk.1', 'boardtruck.2', 'walk.2'}\n",
      "{'unloadtruck.2', 'drivetruck.1', 'walk.1', 'boardtruck.2', 'drivetruck.2', 'walk.2'}\n",
      "{'unloadtruck.2', 'disembarktruck.2', 'drivetruck.1', 'walk.1', 'drivetruck.2', 'walk.2'}\n",
      "{'unloadtruck.2', 'disembarktruck.2', 'loadtruck.2', 'drivetruck.1', 'walk.1', 'walk.2'}\n",
      "{'unloadtruck.2', 'disembarktruck.2', 'loadtruck.2', 'walk.1', 'drivetruck.2', 'walk.2'}\n",
      "{'unloadtruck.2', 'disembarktruck.2', 'loadtruck.2', 'drivetruck.1', 'walk.1', 'boardtruck.2'}\n",
      "{'unloadtruck.2', 'loadtruck.2', 'drivetruck.1', 'walk.1', 'boardtruck.2', 'drivetruck.2'}\n",
      "{'unloadtruck.2', 'loadtruck.2', 'drivetruck.1', 'walk.1', 'boardtruck.2', 'walk.2'}\n",
      "{'unloadtruck.2', 'disembarktruck.2', 'drivetruck.1', 'walk.1', 'boardtruck.2', 'drivetruck.2'}\n",
      "{'unloadtruck.2', 'disembarktruck.2', 'walk.1', 'boardtruck.2', 'drivetruck.2', 'walk.2'}\n",
      "{'unloadtruck.2', 'loadtruck.2', 'drivetruck.1', 'walk.1', 'drivetruck.2', 'walk.2'}\n",
      "{'unloadtruck.2', 'disembarktruck.2', 'loadtruck.2', 'walk.1', 'boardtruck.2', 'drivetruck.2'}\n",
      "{'unloadtruck.2', 'disembarktruck.2', 'loadtruck.2', 'drivetruck.1', 'walk.1', 'drivetruck.2'}\n"
     ]
    },
    {
     "data": {
      "text/markdown": [
       "Checking candidate set *{'unloadtruck.2', 'disembarktruck.2', 'loadtruck.2', 'drivetruck.1', 'walk.1', 'drivetruck.2'}* of class **Location** for well formedness and Validity"
      ],
      "text/plain": [
       "<IPython.core.display.Markdown object>"
      ]
     },
     "metadata": {},
     "output_type": "display_data"
    },
    {
     "data": {
      "text/html": [
       "<table>\n",
       "<thead>\n",
       "<tr><th>             </th><th style=\"text-align: right;\">  unloadtruck.2</th><th style=\"text-align: right;\">  loadtruck.2</th><th style=\"text-align: right;\">  walk.1</th></tr>\n",
       "</thead>\n",
       "<tbody>\n",
       "<tr><td>unloadtruck.2</td><td style=\"text-align: right;\">              0</td><td style=\"text-align: right;\">            1</td><td style=\"text-align: right;\">       0</td></tr>\n",
       "<tr><td>loadtruck.2  </td><td style=\"text-align: right;\">              1</td><td style=\"text-align: right;\">            0</td><td style=\"text-align: right;\">       0</td></tr>\n",
       "<tr><td>walk.1       </td><td style=\"text-align: right;\">              0</td><td style=\"text-align: right;\">            0</td><td style=\"text-align: right;\">       0</td></tr>\n",
       "</tbody>\n",
       "</table>"
      ],
      "text/plain": [
       "'<table>\\n<thead>\\n<tr><th>             </th><th style=\"text-align: right;\">  unloadtruck.2</th><th style=\"text-align: right;\">  loadtruck.2</th><th style=\"text-align: right;\">  walk.1</th></tr>\\n</thead>\\n<tbody>\\n<tr><td>unloadtruck.2</td><td style=\"text-align: right;\">              0</td><td style=\"text-align: right;\">            1</td><td style=\"text-align: right;\">       0</td></tr>\\n<tr><td>loadtruck.2  </td><td style=\"text-align: right;\">              1</td><td style=\"text-align: right;\">            0</td><td style=\"text-align: right;\">       0</td></tr>\\n<tr><td>walk.1       </td><td style=\"text-align: right;\">              0</td><td style=\"text-align: right;\">            0</td><td style=\"text-align: right;\">       0</td></tr>\\n</tbody>\\n</table>'"
      ]
     },
     "metadata": {},
     "output_type": "display_data"
    },
    {
     "name": "stdout",
     "output_type": "stream",
     "text": [
      "This subset is well-formed.\n",
      "This subset is valid.\n",
      "Adding this subset {'unloadtruck.2', 'loadtruck.2', 'walk.1'} to the locm2 transition set.\n",
      "Hole that is covered now:\n",
      "['unloadtruck.2', 'walk.1']\n",
      "{'unloadtruck.2', 'loadtruck.2', 'walk.1'}\n",
      "{'drivetruck.1', 'unloadtruck.2', 'walk.1'}\n",
      "{'boardtruck.2', 'unloadtruck.2', 'walk.1'}\n",
      "{'unloadtruck.2', 'disembarktruck.2', 'walk.1'}\n",
      "{'unloadtruck.2', 'walk.2', 'walk.1'}\n",
      "{'unloadtruck.2', 'drivetruck.2', 'walk.1'}\n",
      "{'drivetruck.1', 'drivetruck.2', 'unloadtruck.2', 'walk.1'}\n",
      "{'unloadtruck.2', 'drivetruck.2', 'loadtruck.2', 'walk.1'}\n",
      "{'unloadtruck.2', 'disembarktruck.2', 'loadtruck.2', 'walk.1'}\n",
      "{'drivetruck.1', 'unloadtruck.2', 'disembarktruck.2', 'walk.1'}\n",
      "{'unloadtruck.2', 'drivetruck.2', 'disembarktruck.2', 'walk.1'}\n",
      "{'unloadtruck.2', 'walk.2', 'loadtruck.2', 'walk.1'}\n",
      "{'boardtruck.2', 'unloadtruck.2', 'loadtruck.2', 'walk.1'}\n",
      "{'boardtruck.2', 'drivetruck.2', 'unloadtruck.2', 'walk.1'}\n",
      "{'drivetruck.1', 'unloadtruck.2', 'loadtruck.2', 'walk.1'}\n",
      "{'boardtruck.2', 'unloadtruck.2', 'walk.2', 'walk.1'}\n",
      "{'unloadtruck.2', 'drivetruck.2', 'walk.2', 'walk.1'}\n",
      "{'unloadtruck.2', 'walk.2', 'disembarktruck.2', 'walk.1'}\n",
      "{'drivetruck.1', 'unloadtruck.2', 'walk.2', 'walk.1'}\n",
      "{'boardtruck.2', 'unloadtruck.2', 'disembarktruck.2', 'walk.1'}\n",
      "{'boardtruck.2', 'drivetruck.1', 'unloadtruck.2', 'walk.1'}\n",
      "{'unloadtruck.2', 'loadtruck.2', 'walk.1', 'boardtruck.2', 'walk.2'}\n",
      "{'unloadtruck.2', 'drivetruck.1', 'walk.1', 'drivetruck.2', 'walk.2'}\n",
      "{'unloadtruck.2', 'disembarktruck.2', 'walk.1', 'drivetruck.2', 'walk.2'}\n",
      "{'unloadtruck.2', 'disembarktruck.2', 'drivetruck.1', 'walk.1', 'boardtruck.2'}\n",
      "{'unloadtruck.2', 'loadtruck.2', 'drivetruck.1', 'walk.1', 'walk.2'}\n",
      "{'unloadtruck.2', 'walk.1', 'boardtruck.2', 'drivetruck.2', 'walk.2'}\n",
      "{'unloadtruck.2', 'disembarktruck.2', 'loadtruck.2', 'drivetruck.1', 'walk.1'}\n",
      "{'unloadtruck.2', 'drivetruck.1', 'walk.1', 'boardtruck.2', 'walk.2'}\n",
      "{'unloadtruck.2', 'disembarktruck.2', 'drivetruck.1', 'walk.1', 'drivetruck.2'}\n",
      "{'unloadtruck.2', 'disembarktruck.2', 'loadtruck.2', 'walk.1', 'walk.2'}\n",
      "{'unloadtruck.2', 'loadtruck.2', 'walk.1', 'boardtruck.2', 'drivetruck.2'}\n",
      "{'unloadtruck.2', 'drivetruck.1', 'walk.1', 'boardtruck.2', 'drivetruck.2'}\n",
      "{'unloadtruck.2', 'disembarktruck.2', 'walk.1', 'boardtruck.2', 'walk.2'}\n",
      "{'unloadtruck.2', 'disembarktruck.2', 'walk.1', 'boardtruck.2', 'drivetruck.2'}\n",
      "{'unloadtruck.2', 'loadtruck.2', 'drivetruck.1', 'walk.1', 'drivetruck.2'}\n",
      "{'unloadtruck.2', 'disembarktruck.2', 'loadtruck.2', 'walk.1', 'drivetruck.2'}\n",
      "{'unloadtruck.2', 'loadtruck.2', 'drivetruck.1', 'walk.1', 'boardtruck.2'}\n",
      "{'unloadtruck.2', 'loadtruck.2', 'walk.1', 'drivetruck.2', 'walk.2'}\n",
      "{'unloadtruck.2', 'disembarktruck.2', 'loadtruck.2', 'walk.1', 'boardtruck.2'}\n",
      "{'unloadtruck.2', 'disembarktruck.2', 'drivetruck.1', 'walk.1', 'walk.2'}\n",
      "{'unloadtruck.2', 'disembarktruck.2', 'loadtruck.2', 'walk.1', 'boardtruck.2', 'walk.2'}\n",
      "{'unloadtruck.2', 'loadtruck.2', 'walk.1', 'boardtruck.2', 'drivetruck.2', 'walk.2'}\n",
      "{'unloadtruck.2', 'disembarktruck.2', 'drivetruck.1', 'walk.1', 'boardtruck.2', 'walk.2'}\n",
      "{'unloadtruck.2', 'drivetruck.1', 'walk.1', 'boardtruck.2', 'drivetruck.2', 'walk.2'}\n",
      "{'unloadtruck.2', 'disembarktruck.2', 'drivetruck.1', 'walk.1', 'drivetruck.2', 'walk.2'}\n",
      "{'unloadtruck.2', 'disembarktruck.2', 'loadtruck.2', 'drivetruck.1', 'walk.1', 'walk.2'}\n",
      "{'unloadtruck.2', 'disembarktruck.2', 'loadtruck.2', 'walk.1', 'drivetruck.2', 'walk.2'}\n",
      "{'unloadtruck.2', 'disembarktruck.2', 'loadtruck.2', 'drivetruck.1', 'walk.1', 'boardtruck.2'}\n",
      "{'unloadtruck.2', 'loadtruck.2', 'drivetruck.1', 'walk.1', 'boardtruck.2', 'drivetruck.2'}\n",
      "{'unloadtruck.2', 'loadtruck.2', 'drivetruck.1', 'walk.1', 'boardtruck.2', 'walk.2'}\n",
      "{'unloadtruck.2', 'disembarktruck.2', 'drivetruck.1', 'walk.1', 'boardtruck.2', 'drivetruck.2'}\n",
      "{'unloadtruck.2', 'disembarktruck.2', 'walk.1', 'boardtruck.2', 'drivetruck.2', 'walk.2'}\n",
      "{'unloadtruck.2', 'loadtruck.2', 'drivetruck.1', 'walk.1', 'drivetruck.2', 'walk.2'}\n",
      "{'unloadtruck.2', 'disembarktruck.2', 'loadtruck.2', 'walk.1', 'boardtruck.2', 'drivetruck.2'}\n",
      "{'unloadtruck.2', 'disembarktruck.2', 'loadtruck.2', 'drivetruck.1', 'walk.1', 'drivetruck.2'}\n",
      "{'unloadtruck.2', 'disembarktruck.2', 'loadtruck.2', 'drivetruck.1', 'walk.1', 'boardtruck.2', 'drivetruck.2'}\n",
      "{'unloadtruck.2', 'disembarktruck.2', 'loadtruck.2', 'drivetruck.1', 'walk.1', 'drivetruck.2', 'walk.2'}\n",
      "{'unloadtruck.2', 'disembarktruck.2', 'loadtruck.2', 'drivetruck.1', 'walk.1', 'boardtruck.2', 'walk.2'}\n",
      "{'unloadtruck.2', 'disembarktruck.2', 'drivetruck.1', 'walk.1', 'boardtruck.2', 'drivetruck.2', 'walk.2'}\n",
      "{'unloadtruck.2', 'loadtruck.2', 'drivetruck.1', 'walk.1', 'boardtruck.2', 'drivetruck.2', 'walk.2'}\n",
      "{'unloadtruck.2', 'disembarktruck.2', 'loadtruck.2', 'walk.1', 'boardtruck.2', 'drivetruck.2', 'walk.2'}\n"
     ]
    },
    {
     "data": {
      "text/markdown": [
       "Checking candidate set *{'unloadtruck.2', 'disembarktruck.2', 'loadtruck.2', 'walk.1', 'boardtruck.2', 'drivetruck.2', 'walk.2'}* of class **Location** for well formedness and Validity"
      ],
      "text/plain": [
       "<IPython.core.display.Markdown object>"
      ]
     },
     "metadata": {},
     "output_type": "display_data"
    },
    {
     "data": {
      "text/html": [
       "<table>\n",
       "<thead>\n",
       "<tr><th>             </th><th style=\"text-align: right;\">  unloadtruck.2</th><th style=\"text-align: right;\">  loadtruck.2</th><th style=\"text-align: right;\">  walk.1</th></tr>\n",
       "</thead>\n",
       "<tbody>\n",
       "<tr><td>unloadtruck.2</td><td style=\"text-align: right;\">              0</td><td style=\"text-align: right;\">            1</td><td style=\"text-align: right;\">       0</td></tr>\n",
       "<tr><td>loadtruck.2  </td><td style=\"text-align: right;\">              1</td><td style=\"text-align: right;\">            0</td><td style=\"text-align: right;\">       0</td></tr>\n",
       "<tr><td>walk.1       </td><td style=\"text-align: right;\">              0</td><td style=\"text-align: right;\">            0</td><td style=\"text-align: right;\">       0</td></tr>\n",
       "</tbody>\n",
       "</table>"
      ],
      "text/plain": [
       "'<table>\\n<thead>\\n<tr><th>             </th><th style=\"text-align: right;\">  unloadtruck.2</th><th style=\"text-align: right;\">  loadtruck.2</th><th style=\"text-align: right;\">  walk.1</th></tr>\\n</thead>\\n<tbody>\\n<tr><td>unloadtruck.2</td><td style=\"text-align: right;\">              0</td><td style=\"text-align: right;\">            1</td><td style=\"text-align: right;\">       0</td></tr>\\n<tr><td>loadtruck.2  </td><td style=\"text-align: right;\">              1</td><td style=\"text-align: right;\">            0</td><td style=\"text-align: right;\">       0</td></tr>\\n<tr><td>walk.1       </td><td style=\"text-align: right;\">              0</td><td style=\"text-align: right;\">            0</td><td style=\"text-align: right;\">       0</td></tr>\\n</tbody>\\n</table>'"
      ]
     },
     "metadata": {},
     "output_type": "display_data"
    },
    {
     "name": "stdout",
     "output_type": "stream",
     "text": [
      "This subset is well-formed.\n",
      "This subset is valid.\n",
      "Adding this subset {'unloadtruck.2', 'loadtruck.2', 'walk.1'} to the locm2 transition set.\n",
      "Hole that is covered now:\n",
      "['unloadtruck.2', 'walk.1']\n"
     ]
    },
    {
     "data": {
      "text/markdown": [
       "#### Hole 9: {'boardtruck.2'}"
      ],
      "text/plain": [
       "<IPython.core.display.Markdown object>"
      ]
     },
     "metadata": {},
     "output_type": "display_data"
    },
    {
     "data": {
      "text/markdown": [
       "Hole frozenset({'boardtruck.2'}) is already covered."
      ],
      "text/plain": [
       "<IPython.core.display.Markdown object>"
      ]
     },
     "metadata": {},
     "output_type": "display_data"
    },
    {
     "data": {
      "text/markdown": [
       "#### Hole 10: {'walk.2', 'loadtruck.2'}"
      ],
      "text/plain": [
       "<IPython.core.display.Markdown object>"
      ]
     },
     "metadata": {},
     "output_type": "display_data"
    },
    {
     "name": "stdout",
     "output_type": "stream",
     "text": [
      "{'boardtruck.2', 'walk.2', 'loadtruck.2'}\n",
      "{'walk.2', 'loadtruck.2', 'walk.1'}\n",
      "{'unloadtruck.2', 'walk.2', 'loadtruck.2'}\n",
      "{'drivetruck.2', 'walk.2', 'loadtruck.2'}\n",
      "{'walk.2', 'disembarktruck.2', 'loadtruck.2'}\n",
      "{'drivetruck.1', 'walk.2', 'loadtruck.2'}\n"
     ]
    },
    {
     "data": {
      "text/markdown": [
       "Checking candidate set *{'drivetruck.1', 'walk.2', 'loadtruck.2'}* of class **Location** for well formedness and Validity"
      ],
      "text/plain": [
       "<IPython.core.display.Markdown object>"
      ]
     },
     "metadata": {},
     "output_type": "display_data"
    },
    {
     "data": {
      "text/html": [
       "<table>\n",
       "<thead>\n",
       "<tr><th>            </th><th style=\"text-align: right;\">  boardtruck.2</th><th style=\"text-align: right;\">  walk.2</th><th style=\"text-align: right;\">  loadtruck.2</th></tr>\n",
       "</thead>\n",
       "<tbody>\n",
       "<tr><td>boardtruck.2</td><td style=\"text-align: right;\">             0</td><td style=\"text-align: right;\">       0</td><td style=\"text-align: right;\">            5</td></tr>\n",
       "<tr><td>walk.2      </td><td style=\"text-align: right;\">             4</td><td style=\"text-align: right;\">       0</td><td style=\"text-align: right;\">            0</td></tr>\n",
       "<tr><td>loadtruck.2 </td><td style=\"text-align: right;\">             1</td><td style=\"text-align: right;\">       0</td><td style=\"text-align: right;\">            0</td></tr>\n",
       "</tbody>\n",
       "</table>"
      ],
      "text/plain": [
       "'<table>\\n<thead>\\n<tr><th>            </th><th style=\"text-align: right;\">  boardtruck.2</th><th style=\"text-align: right;\">  walk.2</th><th style=\"text-align: right;\">  loadtruck.2</th></tr>\\n</thead>\\n<tbody>\\n<tr><td>boardtruck.2</td><td style=\"text-align: right;\">             0</td><td style=\"text-align: right;\">       0</td><td style=\"text-align: right;\">            5</td></tr>\\n<tr><td>walk.2      </td><td style=\"text-align: right;\">             4</td><td style=\"text-align: right;\">       0</td><td style=\"text-align: right;\">            0</td></tr>\\n<tr><td>loadtruck.2 </td><td style=\"text-align: right;\">             1</td><td style=\"text-align: right;\">       0</td><td style=\"text-align: right;\">            0</td></tr>\\n</tbody>\\n</table>'"
      ]
     },
     "metadata": {},
     "output_type": "display_data"
    },
    {
     "name": "stdout",
     "output_type": "stream",
     "text": [
      "This subset is well-formed.\n",
      "This subset is valid.\n",
      "Adding this subset {'boardtruck.2', 'walk.2', 'loadtruck.2'} to the locm2 transition set.\n",
      "Hole that is covered now:\n",
      "['walk.2', 'loadtruck.2']\n",
      "{'boardtruck.2', 'walk.2', 'loadtruck.2'}\n",
      "{'walk.2', 'loadtruck.2', 'walk.1'}\n",
      "{'unloadtruck.2', 'walk.2', 'loadtruck.2'}\n",
      "{'drivetruck.2', 'walk.2', 'loadtruck.2'}\n",
      "{'walk.2', 'disembarktruck.2', 'loadtruck.2'}\n",
      "{'drivetruck.1', 'walk.2', 'loadtruck.2'}\n",
      "{'disembarktruck.2', 'walk.2', 'loadtruck.2', 'walk.1'}\n",
      "{'drivetruck.1', 'walk.2', 'loadtruck.2', 'walk.1'}\n",
      "{'drivetruck.2', 'walk.2', 'disembarktruck.2', 'loadtruck.2'}\n",
      "{'boardtruck.2', 'drivetruck.1', 'walk.2', 'loadtruck.2'}\n",
      "{'drivetruck.1', 'walk.2', 'disembarktruck.2', 'loadtruck.2'}\n",
      "{'unloadtruck.2', 'walk.2', 'disembarktruck.2', 'loadtruck.2'}\n",
      "{'drivetruck.1', 'unloadtruck.2', 'walk.2', 'loadtruck.2'}\n",
      "{'boardtruck.2', 'walk.2', 'loadtruck.2', 'walk.1'}\n",
      "{'drivetruck.2', 'walk.2', 'loadtruck.2', 'walk.1'}\n",
      "{'unloadtruck.2', 'walk.2', 'loadtruck.2', 'walk.1'}\n",
      "{'boardtruck.2', 'walk.2', 'disembarktruck.2', 'loadtruck.2'}\n",
      "{'boardtruck.2', 'drivetruck.2', 'walk.2', 'loadtruck.2'}\n",
      "{'boardtruck.2', 'unloadtruck.2', 'walk.2', 'loadtruck.2'}\n",
      "{'unloadtruck.2', 'drivetruck.2', 'walk.2', 'loadtruck.2'}\n",
      "{'drivetruck.1', 'drivetruck.2', 'walk.2', 'loadtruck.2'}\n"
     ]
    },
    {
     "data": {
      "text/markdown": [
       "Checking candidate set *{'drivetruck.1', 'drivetruck.2', 'walk.2', 'loadtruck.2'}* of class **Location** for well formedness and Validity"
      ],
      "text/plain": [
       "<IPython.core.display.Markdown object>"
      ]
     },
     "metadata": {},
     "output_type": "display_data"
    },
    {
     "data": {
      "text/html": [
       "<table>\n",
       "<thead>\n",
       "<tr><th>            </th><th style=\"text-align: right;\">  boardtruck.2</th><th style=\"text-align: right;\">  walk.2</th><th style=\"text-align: right;\">  loadtruck.2</th></tr>\n",
       "</thead>\n",
       "<tbody>\n",
       "<tr><td>boardtruck.2</td><td style=\"text-align: right;\">             0</td><td style=\"text-align: right;\">       0</td><td style=\"text-align: right;\">            5</td></tr>\n",
       "<tr><td>walk.2      </td><td style=\"text-align: right;\">             4</td><td style=\"text-align: right;\">       0</td><td style=\"text-align: right;\">            0</td></tr>\n",
       "<tr><td>loadtruck.2 </td><td style=\"text-align: right;\">             1</td><td style=\"text-align: right;\">       0</td><td style=\"text-align: right;\">            0</td></tr>\n",
       "</tbody>\n",
       "</table>"
      ],
      "text/plain": [
       "'<table>\\n<thead>\\n<tr><th>            </th><th style=\"text-align: right;\">  boardtruck.2</th><th style=\"text-align: right;\">  walk.2</th><th style=\"text-align: right;\">  loadtruck.2</th></tr>\\n</thead>\\n<tbody>\\n<tr><td>boardtruck.2</td><td style=\"text-align: right;\">             0</td><td style=\"text-align: right;\">       0</td><td style=\"text-align: right;\">            5</td></tr>\\n<tr><td>walk.2      </td><td style=\"text-align: right;\">             4</td><td style=\"text-align: right;\">       0</td><td style=\"text-align: right;\">            0</td></tr>\\n<tr><td>loadtruck.2 </td><td style=\"text-align: right;\">             1</td><td style=\"text-align: right;\">       0</td><td style=\"text-align: right;\">            0</td></tr>\\n</tbody>\\n</table>'"
      ]
     },
     "metadata": {},
     "output_type": "display_data"
    },
    {
     "name": "stdout",
     "output_type": "stream",
     "text": [
      "This subset is well-formed.\n",
      "This subset is valid.\n",
      "Adding this subset {'boardtruck.2', 'walk.2', 'loadtruck.2'} to the locm2 transition set.\n",
      "Hole that is covered now:\n",
      "['walk.2', 'loadtruck.2']\n",
      "{'boardtruck.2', 'walk.2', 'loadtruck.2'}\n",
      "{'walk.2', 'loadtruck.2', 'walk.1'}\n",
      "{'unloadtruck.2', 'walk.2', 'loadtruck.2'}\n",
      "{'drivetruck.2', 'walk.2', 'loadtruck.2'}\n",
      "{'walk.2', 'disembarktruck.2', 'loadtruck.2'}\n",
      "{'drivetruck.1', 'walk.2', 'loadtruck.2'}\n",
      "{'disembarktruck.2', 'walk.2', 'loadtruck.2', 'walk.1'}\n",
      "{'drivetruck.1', 'walk.2', 'loadtruck.2', 'walk.1'}\n",
      "{'drivetruck.2', 'walk.2', 'disembarktruck.2', 'loadtruck.2'}\n",
      "{'boardtruck.2', 'drivetruck.1', 'walk.2', 'loadtruck.2'}\n",
      "{'drivetruck.1', 'walk.2', 'disembarktruck.2', 'loadtruck.2'}\n",
      "{'unloadtruck.2', 'walk.2', 'disembarktruck.2', 'loadtruck.2'}\n",
      "{'drivetruck.1', 'unloadtruck.2', 'walk.2', 'loadtruck.2'}\n",
      "{'boardtruck.2', 'walk.2', 'loadtruck.2', 'walk.1'}\n",
      "{'drivetruck.2', 'walk.2', 'loadtruck.2', 'walk.1'}\n",
      "{'unloadtruck.2', 'walk.2', 'loadtruck.2', 'walk.1'}\n",
      "{'boardtruck.2', 'walk.2', 'disembarktruck.2', 'loadtruck.2'}\n",
      "{'boardtruck.2', 'drivetruck.2', 'walk.2', 'loadtruck.2'}\n",
      "{'boardtruck.2', 'unloadtruck.2', 'walk.2', 'loadtruck.2'}\n",
      "{'unloadtruck.2', 'drivetruck.2', 'walk.2', 'loadtruck.2'}\n",
      "{'drivetruck.1', 'drivetruck.2', 'walk.2', 'loadtruck.2'}\n",
      "{'unloadtruck.2', 'loadtruck.2', 'walk.1', 'boardtruck.2', 'walk.2'}\n",
      "{'disembarktruck.2', 'loadtruck.2', 'boardtruck.2', 'drivetruck.2', 'walk.2'}\n",
      "{'unloadtruck.2', 'loadtruck.2', 'drivetruck.1', 'walk.1', 'walk.2'}\n",
      "{'disembarktruck.2', 'loadtruck.2', 'drivetruck.1', 'drivetruck.2', 'walk.2'}\n",
      "{'unloadtruck.2', 'disembarktruck.2', 'loadtruck.2', 'walk.1', 'walk.2'}\n",
      "{'unloadtruck.2', 'loadtruck.2', 'boardtruck.2', 'drivetruck.2', 'walk.2'}\n",
      "{'loadtruck.2', 'drivetruck.1', 'boardtruck.2', 'drivetruck.2', 'walk.2'}\n",
      "{'unloadtruck.2', 'loadtruck.2', 'drivetruck.1', 'boardtruck.2', 'walk.2'}\n",
      "{'disembarktruck.2', 'loadtruck.2', 'walk.1', 'drivetruck.2', 'walk.2'}\n",
      "{'unloadtruck.2', 'disembarktruck.2', 'loadtruck.2', 'drivetruck.2', 'walk.2'}\n",
      "{'disembarktruck.2', 'loadtruck.2', 'walk.1', 'boardtruck.2', 'walk.2'}\n",
      "{'disembarktruck.2', 'loadtruck.2', 'drivetruck.1', 'boardtruck.2', 'walk.2'}\n",
      "{'disembarktruck.2', 'loadtruck.2', 'drivetruck.1', 'walk.1', 'walk.2'}\n",
      "{'loadtruck.2', 'drivetruck.1', 'walk.1', 'boardtruck.2', 'walk.2'}\n",
      "{'loadtruck.2', 'drivetruck.1', 'walk.1', 'drivetruck.2', 'walk.2'}\n",
      "{'unloadtruck.2', 'disembarktruck.2', 'loadtruck.2', 'drivetruck.1', 'walk.2'}\n",
      "{'loadtruck.2', 'walk.1', 'boardtruck.2', 'drivetruck.2', 'walk.2'}\n",
      "{'unloadtruck.2', 'disembarktruck.2', 'loadtruck.2', 'boardtruck.2', 'walk.2'}\n",
      "{'unloadtruck.2', 'loadtruck.2', 'drivetruck.1', 'drivetruck.2', 'walk.2'}\n",
      "{'unloadtruck.2', 'loadtruck.2', 'walk.1', 'drivetruck.2', 'walk.2'}\n"
     ]
    },
    {
     "data": {
      "text/markdown": [
       "Checking candidate set *{'unloadtruck.2', 'loadtruck.2', 'walk.1', 'drivetruck.2', 'walk.2'}* of class **Location** for well formedness and Validity"
      ],
      "text/plain": [
       "<IPython.core.display.Markdown object>"
      ]
     },
     "metadata": {},
     "output_type": "display_data"
    },
    {
     "data": {
      "text/html": [
       "<table>\n",
       "<thead>\n",
       "<tr><th>            </th><th style=\"text-align: right;\">  boardtruck.2</th><th style=\"text-align: right;\">  walk.2</th><th style=\"text-align: right;\">  loadtruck.2</th></tr>\n",
       "</thead>\n",
       "<tbody>\n",
       "<tr><td>boardtruck.2</td><td style=\"text-align: right;\">             0</td><td style=\"text-align: right;\">       0</td><td style=\"text-align: right;\">            5</td></tr>\n",
       "<tr><td>walk.2      </td><td style=\"text-align: right;\">             4</td><td style=\"text-align: right;\">       0</td><td style=\"text-align: right;\">            0</td></tr>\n",
       "<tr><td>loadtruck.2 </td><td style=\"text-align: right;\">             1</td><td style=\"text-align: right;\">       0</td><td style=\"text-align: right;\">            0</td></tr>\n",
       "</tbody>\n",
       "</table>"
      ],
      "text/plain": [
       "'<table>\\n<thead>\\n<tr><th>            </th><th style=\"text-align: right;\">  boardtruck.2</th><th style=\"text-align: right;\">  walk.2</th><th style=\"text-align: right;\">  loadtruck.2</th></tr>\\n</thead>\\n<tbody>\\n<tr><td>boardtruck.2</td><td style=\"text-align: right;\">             0</td><td style=\"text-align: right;\">       0</td><td style=\"text-align: right;\">            5</td></tr>\\n<tr><td>walk.2      </td><td style=\"text-align: right;\">             4</td><td style=\"text-align: right;\">       0</td><td style=\"text-align: right;\">            0</td></tr>\\n<tr><td>loadtruck.2 </td><td style=\"text-align: right;\">             1</td><td style=\"text-align: right;\">       0</td><td style=\"text-align: right;\">            0</td></tr>\\n</tbody>\\n</table>'"
      ]
     },
     "metadata": {},
     "output_type": "display_data"
    },
    {
     "name": "stdout",
     "output_type": "stream",
     "text": [
      "This subset is well-formed.\n",
      "This subset is valid.\n",
      "Adding this subset {'boardtruck.2', 'walk.2', 'loadtruck.2'} to the locm2 transition set.\n",
      "Hole that is covered now:\n",
      "['walk.2', 'loadtruck.2']\n",
      "{'boardtruck.2', 'walk.2', 'loadtruck.2'}\n",
      "{'walk.2', 'loadtruck.2', 'walk.1'}\n",
      "{'unloadtruck.2', 'walk.2', 'loadtruck.2'}\n",
      "{'drivetruck.2', 'walk.2', 'loadtruck.2'}\n",
      "{'walk.2', 'disembarktruck.2', 'loadtruck.2'}\n",
      "{'drivetruck.1', 'walk.2', 'loadtruck.2'}\n",
      "{'disembarktruck.2', 'walk.2', 'loadtruck.2', 'walk.1'}\n",
      "{'drivetruck.1', 'walk.2', 'loadtruck.2', 'walk.1'}\n",
      "{'drivetruck.2', 'walk.2', 'disembarktruck.2', 'loadtruck.2'}\n",
      "{'boardtruck.2', 'drivetruck.1', 'walk.2', 'loadtruck.2'}\n",
      "{'drivetruck.1', 'walk.2', 'disembarktruck.2', 'loadtruck.2'}\n",
      "{'unloadtruck.2', 'walk.2', 'disembarktruck.2', 'loadtruck.2'}\n",
      "{'drivetruck.1', 'unloadtruck.2', 'walk.2', 'loadtruck.2'}\n",
      "{'boardtruck.2', 'walk.2', 'loadtruck.2', 'walk.1'}\n",
      "{'drivetruck.2', 'walk.2', 'loadtruck.2', 'walk.1'}\n",
      "{'unloadtruck.2', 'walk.2', 'loadtruck.2', 'walk.1'}\n",
      "{'boardtruck.2', 'walk.2', 'disembarktruck.2', 'loadtruck.2'}\n",
      "{'boardtruck.2', 'drivetruck.2', 'walk.2', 'loadtruck.2'}\n",
      "{'boardtruck.2', 'unloadtruck.2', 'walk.2', 'loadtruck.2'}\n",
      "{'unloadtruck.2', 'drivetruck.2', 'walk.2', 'loadtruck.2'}\n",
      "{'drivetruck.1', 'drivetruck.2', 'walk.2', 'loadtruck.2'}\n",
      "{'unloadtruck.2', 'loadtruck.2', 'walk.1', 'boardtruck.2', 'walk.2'}\n",
      "{'disembarktruck.2', 'loadtruck.2', 'boardtruck.2', 'drivetruck.2', 'walk.2'}\n",
      "{'unloadtruck.2', 'loadtruck.2', 'drivetruck.1', 'walk.1', 'walk.2'}\n",
      "{'disembarktruck.2', 'loadtruck.2', 'drivetruck.1', 'drivetruck.2', 'walk.2'}\n",
      "{'unloadtruck.2', 'disembarktruck.2', 'loadtruck.2', 'walk.1', 'walk.2'}\n",
      "{'unloadtruck.2', 'loadtruck.2', 'boardtruck.2', 'drivetruck.2', 'walk.2'}\n",
      "{'loadtruck.2', 'drivetruck.1', 'boardtruck.2', 'drivetruck.2', 'walk.2'}\n",
      "{'unloadtruck.2', 'loadtruck.2', 'drivetruck.1', 'boardtruck.2', 'walk.2'}\n",
      "{'disembarktruck.2', 'loadtruck.2', 'walk.1', 'drivetruck.2', 'walk.2'}\n",
      "{'unloadtruck.2', 'disembarktruck.2', 'loadtruck.2', 'drivetruck.2', 'walk.2'}\n",
      "{'disembarktruck.2', 'loadtruck.2', 'walk.1', 'boardtruck.2', 'walk.2'}\n",
      "{'disembarktruck.2', 'loadtruck.2', 'drivetruck.1', 'boardtruck.2', 'walk.2'}\n",
      "{'disembarktruck.2', 'loadtruck.2', 'drivetruck.1', 'walk.1', 'walk.2'}\n",
      "{'loadtruck.2', 'drivetruck.1', 'walk.1', 'boardtruck.2', 'walk.2'}\n",
      "{'loadtruck.2', 'drivetruck.1', 'walk.1', 'drivetruck.2', 'walk.2'}\n",
      "{'unloadtruck.2', 'disembarktruck.2', 'loadtruck.2', 'drivetruck.1', 'walk.2'}\n",
      "{'loadtruck.2', 'walk.1', 'boardtruck.2', 'drivetruck.2', 'walk.2'}\n",
      "{'unloadtruck.2', 'disembarktruck.2', 'loadtruck.2', 'boardtruck.2', 'walk.2'}\n",
      "{'unloadtruck.2', 'loadtruck.2', 'drivetruck.1', 'drivetruck.2', 'walk.2'}\n",
      "{'unloadtruck.2', 'loadtruck.2', 'walk.1', 'drivetruck.2', 'walk.2'}\n",
      "{'unloadtruck.2', 'disembarktruck.2', 'loadtruck.2', 'walk.1', 'boardtruck.2', 'walk.2'}\n",
      "{'unloadtruck.2', 'loadtruck.2', 'walk.1', 'boardtruck.2', 'drivetruck.2', 'walk.2'}\n",
      "{'unloadtruck.2', 'disembarktruck.2', 'loadtruck.2', 'drivetruck.1', 'boardtruck.2', 'walk.2'}\n",
      "{'unloadtruck.2', 'loadtruck.2', 'drivetruck.1', 'boardtruck.2', 'drivetruck.2', 'walk.2'}\n",
      "{'unloadtruck.2', 'disembarktruck.2', 'loadtruck.2', 'drivetruck.1', 'walk.1', 'walk.2'}\n",
      "{'unloadtruck.2', 'disembarktruck.2', 'loadtruck.2', 'walk.1', 'drivetruck.2', 'walk.2'}\n",
      "{'unloadtruck.2', 'disembarktruck.2', 'loadtruck.2', 'drivetruck.1', 'drivetruck.2', 'walk.2'}\n",
      "{'disembarktruck.2', 'loadtruck.2', 'drivetruck.1', 'walk.1', 'boardtruck.2', 'walk.2'}\n",
      "{'unloadtruck.2', 'loadtruck.2', 'drivetruck.1', 'walk.1', 'boardtruck.2', 'walk.2'}\n",
      "{'loadtruck.2', 'drivetruck.1', 'walk.1', 'boardtruck.2', 'drivetruck.2', 'walk.2'}\n",
      "{'disembarktruck.2', 'loadtruck.2', 'drivetruck.1', 'walk.1', 'drivetruck.2', 'walk.2'}\n",
      "{'unloadtruck.2', 'loadtruck.2', 'drivetruck.1', 'walk.1', 'drivetruck.2', 'walk.2'}\n",
      "{'disembarktruck.2', 'loadtruck.2', 'drivetruck.1', 'boardtruck.2', 'drivetruck.2', 'walk.2'}\n",
      "{'unloadtruck.2', 'disembarktruck.2', 'loadtruck.2', 'boardtruck.2', 'drivetruck.2', 'walk.2'}\n",
      "{'disembarktruck.2', 'loadtruck.2', 'walk.1', 'boardtruck.2', 'drivetruck.2', 'walk.2'}\n"
     ]
    },
    {
     "data": {
      "text/markdown": [
       "Checking candidate set *{'disembarktruck.2', 'loadtruck.2', 'walk.1', 'boardtruck.2', 'drivetruck.2', 'walk.2'}* of class **Location** for well formedness and Validity"
      ],
      "text/plain": [
       "<IPython.core.display.Markdown object>"
      ]
     },
     "metadata": {},
     "output_type": "display_data"
    },
    {
     "data": {
      "text/html": [
       "<table>\n",
       "<thead>\n",
       "<tr><th>            </th><th style=\"text-align: right;\">  boardtruck.2</th><th style=\"text-align: right;\">  walk.2</th><th style=\"text-align: right;\">  loadtruck.2</th></tr>\n",
       "</thead>\n",
       "<tbody>\n",
       "<tr><td>boardtruck.2</td><td style=\"text-align: right;\">             0</td><td style=\"text-align: right;\">       0</td><td style=\"text-align: right;\">            5</td></tr>\n",
       "<tr><td>walk.2      </td><td style=\"text-align: right;\">             4</td><td style=\"text-align: right;\">       0</td><td style=\"text-align: right;\">            0</td></tr>\n",
       "<tr><td>loadtruck.2 </td><td style=\"text-align: right;\">             1</td><td style=\"text-align: right;\">       0</td><td style=\"text-align: right;\">            0</td></tr>\n",
       "</tbody>\n",
       "</table>"
      ],
      "text/plain": [
       "'<table>\\n<thead>\\n<tr><th>            </th><th style=\"text-align: right;\">  boardtruck.2</th><th style=\"text-align: right;\">  walk.2</th><th style=\"text-align: right;\">  loadtruck.2</th></tr>\\n</thead>\\n<tbody>\\n<tr><td>boardtruck.2</td><td style=\"text-align: right;\">             0</td><td style=\"text-align: right;\">       0</td><td style=\"text-align: right;\">            5</td></tr>\\n<tr><td>walk.2      </td><td style=\"text-align: right;\">             4</td><td style=\"text-align: right;\">       0</td><td style=\"text-align: right;\">            0</td></tr>\\n<tr><td>loadtruck.2 </td><td style=\"text-align: right;\">             1</td><td style=\"text-align: right;\">       0</td><td style=\"text-align: right;\">            0</td></tr>\\n</tbody>\\n</table>'"
      ]
     },
     "metadata": {},
     "output_type": "display_data"
    },
    {
     "name": "stdout",
     "output_type": "stream",
     "text": [
      "This subset is well-formed.\n",
      "This subset is valid.\n",
      "Adding this subset {'boardtruck.2', 'walk.2', 'loadtruck.2'} to the locm2 transition set.\n",
      "Hole that is covered now:\n",
      "['walk.2', 'loadtruck.2']\n",
      "{'boardtruck.2', 'walk.2', 'loadtruck.2'}\n",
      "{'walk.2', 'loadtruck.2', 'walk.1'}\n",
      "{'unloadtruck.2', 'walk.2', 'loadtruck.2'}\n",
      "{'drivetruck.2', 'walk.2', 'loadtruck.2'}\n",
      "{'walk.2', 'disembarktruck.2', 'loadtruck.2'}\n",
      "{'drivetruck.1', 'walk.2', 'loadtruck.2'}\n",
      "{'disembarktruck.2', 'walk.2', 'loadtruck.2', 'walk.1'}\n",
      "{'drivetruck.1', 'walk.2', 'loadtruck.2', 'walk.1'}\n",
      "{'drivetruck.2', 'walk.2', 'disembarktruck.2', 'loadtruck.2'}\n",
      "{'boardtruck.2', 'drivetruck.1', 'walk.2', 'loadtruck.2'}\n",
      "{'drivetruck.1', 'walk.2', 'disembarktruck.2', 'loadtruck.2'}\n",
      "{'unloadtruck.2', 'walk.2', 'disembarktruck.2', 'loadtruck.2'}\n",
      "{'drivetruck.1', 'unloadtruck.2', 'walk.2', 'loadtruck.2'}\n",
      "{'boardtruck.2', 'walk.2', 'loadtruck.2', 'walk.1'}\n",
      "{'drivetruck.2', 'walk.2', 'loadtruck.2', 'walk.1'}\n",
      "{'unloadtruck.2', 'walk.2', 'loadtruck.2', 'walk.1'}\n",
      "{'boardtruck.2', 'walk.2', 'disembarktruck.2', 'loadtruck.2'}\n",
      "{'boardtruck.2', 'drivetruck.2', 'walk.2', 'loadtruck.2'}\n",
      "{'boardtruck.2', 'unloadtruck.2', 'walk.2', 'loadtruck.2'}\n",
      "{'unloadtruck.2', 'drivetruck.2', 'walk.2', 'loadtruck.2'}\n",
      "{'drivetruck.1', 'drivetruck.2', 'walk.2', 'loadtruck.2'}\n",
      "{'unloadtruck.2', 'loadtruck.2', 'walk.1', 'boardtruck.2', 'walk.2'}\n",
      "{'disembarktruck.2', 'loadtruck.2', 'boardtruck.2', 'drivetruck.2', 'walk.2'}\n",
      "{'unloadtruck.2', 'loadtruck.2', 'drivetruck.1', 'walk.1', 'walk.2'}\n",
      "{'disembarktruck.2', 'loadtruck.2', 'drivetruck.1', 'drivetruck.2', 'walk.2'}\n",
      "{'unloadtruck.2', 'disembarktruck.2', 'loadtruck.2', 'walk.1', 'walk.2'}\n",
      "{'unloadtruck.2', 'loadtruck.2', 'boardtruck.2', 'drivetruck.2', 'walk.2'}\n",
      "{'loadtruck.2', 'drivetruck.1', 'boardtruck.2', 'drivetruck.2', 'walk.2'}\n",
      "{'unloadtruck.2', 'loadtruck.2', 'drivetruck.1', 'boardtruck.2', 'walk.2'}\n",
      "{'disembarktruck.2', 'loadtruck.2', 'walk.1', 'drivetruck.2', 'walk.2'}\n",
      "{'unloadtruck.2', 'disembarktruck.2', 'loadtruck.2', 'drivetruck.2', 'walk.2'}\n",
      "{'disembarktruck.2', 'loadtruck.2', 'walk.1', 'boardtruck.2', 'walk.2'}\n",
      "{'disembarktruck.2', 'loadtruck.2', 'drivetruck.1', 'boardtruck.2', 'walk.2'}\n",
      "{'disembarktruck.2', 'loadtruck.2', 'drivetruck.1', 'walk.1', 'walk.2'}\n",
      "{'loadtruck.2', 'drivetruck.1', 'walk.1', 'boardtruck.2', 'walk.2'}\n",
      "{'loadtruck.2', 'drivetruck.1', 'walk.1', 'drivetruck.2', 'walk.2'}\n",
      "{'unloadtruck.2', 'disembarktruck.2', 'loadtruck.2', 'drivetruck.1', 'walk.2'}\n",
      "{'loadtruck.2', 'walk.1', 'boardtruck.2', 'drivetruck.2', 'walk.2'}\n",
      "{'unloadtruck.2', 'disembarktruck.2', 'loadtruck.2', 'boardtruck.2', 'walk.2'}\n",
      "{'unloadtruck.2', 'loadtruck.2', 'drivetruck.1', 'drivetruck.2', 'walk.2'}\n",
      "{'unloadtruck.2', 'loadtruck.2', 'walk.1', 'drivetruck.2', 'walk.2'}\n",
      "{'unloadtruck.2', 'disembarktruck.2', 'loadtruck.2', 'walk.1', 'boardtruck.2', 'walk.2'}\n",
      "{'unloadtruck.2', 'loadtruck.2', 'walk.1', 'boardtruck.2', 'drivetruck.2', 'walk.2'}\n",
      "{'unloadtruck.2', 'disembarktruck.2', 'loadtruck.2', 'drivetruck.1', 'boardtruck.2', 'walk.2'}\n",
      "{'unloadtruck.2', 'loadtruck.2', 'drivetruck.1', 'boardtruck.2', 'drivetruck.2', 'walk.2'}\n",
      "{'unloadtruck.2', 'disembarktruck.2', 'loadtruck.2', 'drivetruck.1', 'walk.1', 'walk.2'}\n",
      "{'unloadtruck.2', 'disembarktruck.2', 'loadtruck.2', 'walk.1', 'drivetruck.2', 'walk.2'}\n",
      "{'unloadtruck.2', 'disembarktruck.2', 'loadtruck.2', 'drivetruck.1', 'drivetruck.2', 'walk.2'}\n",
      "{'disembarktruck.2', 'loadtruck.2', 'drivetruck.1', 'walk.1', 'boardtruck.2', 'walk.2'}\n",
      "{'unloadtruck.2', 'loadtruck.2', 'drivetruck.1', 'walk.1', 'boardtruck.2', 'walk.2'}\n",
      "{'loadtruck.2', 'drivetruck.1', 'walk.1', 'boardtruck.2', 'drivetruck.2', 'walk.2'}\n",
      "{'disembarktruck.2', 'loadtruck.2', 'drivetruck.1', 'walk.1', 'drivetruck.2', 'walk.2'}\n",
      "{'unloadtruck.2', 'loadtruck.2', 'drivetruck.1', 'walk.1', 'drivetruck.2', 'walk.2'}\n",
      "{'disembarktruck.2', 'loadtruck.2', 'drivetruck.1', 'boardtruck.2', 'drivetruck.2', 'walk.2'}\n",
      "{'unloadtruck.2', 'disembarktruck.2', 'loadtruck.2', 'boardtruck.2', 'drivetruck.2', 'walk.2'}\n",
      "{'disembarktruck.2', 'loadtruck.2', 'walk.1', 'boardtruck.2', 'drivetruck.2', 'walk.2'}\n",
      "{'disembarktruck.2', 'loadtruck.2', 'drivetruck.1', 'walk.1', 'boardtruck.2', 'drivetruck.2', 'walk.2'}\n",
      "{'unloadtruck.2', 'disembarktruck.2', 'loadtruck.2', 'drivetruck.1', 'walk.1', 'drivetruck.2', 'walk.2'}\n",
      "{'unloadtruck.2', 'disembarktruck.2', 'loadtruck.2', 'drivetruck.1', 'walk.1', 'boardtruck.2', 'walk.2'}\n",
      "{'unloadtruck.2', 'disembarktruck.2', 'loadtruck.2', 'drivetruck.1', 'boardtruck.2', 'drivetruck.2', 'walk.2'}\n",
      "{'unloadtruck.2', 'loadtruck.2', 'drivetruck.1', 'walk.1', 'boardtruck.2', 'drivetruck.2', 'walk.2'}\n",
      "{'unloadtruck.2', 'disembarktruck.2', 'loadtruck.2', 'walk.1', 'boardtruck.2', 'drivetruck.2', 'walk.2'}\n"
     ]
    },
    {
     "data": {
      "text/markdown": [
       "Checking candidate set *{'unloadtruck.2', 'disembarktruck.2', 'loadtruck.2', 'walk.1', 'boardtruck.2', 'drivetruck.2', 'walk.2'}* of class **Location** for well formedness and Validity"
      ],
      "text/plain": [
       "<IPython.core.display.Markdown object>"
      ]
     },
     "metadata": {},
     "output_type": "display_data"
    },
    {
     "data": {
      "text/html": [
       "<table>\n",
       "<thead>\n",
       "<tr><th>            </th><th style=\"text-align: right;\">  boardtruck.2</th><th style=\"text-align: right;\">  walk.2</th><th style=\"text-align: right;\">  loadtruck.2</th></tr>\n",
       "</thead>\n",
       "<tbody>\n",
       "<tr><td>boardtruck.2</td><td style=\"text-align: right;\">             0</td><td style=\"text-align: right;\">       0</td><td style=\"text-align: right;\">            5</td></tr>\n",
       "<tr><td>walk.2      </td><td style=\"text-align: right;\">             4</td><td style=\"text-align: right;\">       0</td><td style=\"text-align: right;\">            0</td></tr>\n",
       "<tr><td>loadtruck.2 </td><td style=\"text-align: right;\">             1</td><td style=\"text-align: right;\">       0</td><td style=\"text-align: right;\">            0</td></tr>\n",
       "</tbody>\n",
       "</table>"
      ],
      "text/plain": [
       "'<table>\\n<thead>\\n<tr><th>            </th><th style=\"text-align: right;\">  boardtruck.2</th><th style=\"text-align: right;\">  walk.2</th><th style=\"text-align: right;\">  loadtruck.2</th></tr>\\n</thead>\\n<tbody>\\n<tr><td>boardtruck.2</td><td style=\"text-align: right;\">             0</td><td style=\"text-align: right;\">       0</td><td style=\"text-align: right;\">            5</td></tr>\\n<tr><td>walk.2      </td><td style=\"text-align: right;\">             4</td><td style=\"text-align: right;\">       0</td><td style=\"text-align: right;\">            0</td></tr>\\n<tr><td>loadtruck.2 </td><td style=\"text-align: right;\">             1</td><td style=\"text-align: right;\">       0</td><td style=\"text-align: right;\">            0</td></tr>\\n</tbody>\\n</table>'"
      ]
     },
     "metadata": {},
     "output_type": "display_data"
    },
    {
     "name": "stdout",
     "output_type": "stream",
     "text": [
      "This subset is well-formed.\n",
      "This subset is valid.\n",
      "Adding this subset {'boardtruck.2', 'walk.2', 'loadtruck.2'} to the locm2 transition set.\n",
      "Hole that is covered now:\n",
      "['walk.2', 'loadtruck.2']\n"
     ]
    },
    {
     "data": {
      "text/markdown": [
       "#### Hole 11: {'walk.2'}"
      ],
      "text/plain": [
       "<IPython.core.display.Markdown object>"
      ]
     },
     "metadata": {},
     "output_type": "display_data"
    },
    {
     "data": {
      "text/markdown": [
       "Hole frozenset({'walk.2'}) is already covered."
      ],
      "text/plain": [
       "<IPython.core.display.Markdown object>"
      ]
     },
     "metadata": {},
     "output_type": "display_data"
    },
    {
     "data": {
      "text/markdown": [
       "#### Hole 12: {'drivetruck.1'}"
      ],
      "text/plain": [
       "<IPython.core.display.Markdown object>"
      ]
     },
     "metadata": {},
     "output_type": "display_data"
    },
    {
     "data": {
      "text/markdown": [
       "Hole frozenset({'drivetruck.1'}) is already covered."
      ],
      "text/plain": [
       "<IPython.core.display.Markdown object>"
      ]
     },
     "metadata": {},
     "output_type": "display_data"
    },
    {
     "data": {
      "text/markdown": [
       "#### Hole 13: {'unloadtruck.2', 'walk.2'}"
      ],
      "text/plain": [
       "<IPython.core.display.Markdown object>"
      ]
     },
     "metadata": {},
     "output_type": "display_data"
    },
    {
     "data": {
      "text/markdown": [
       "Hole frozenset({'unloadtruck.2', 'walk.2'}) is already covered."
      ],
      "text/plain": [
       "<IPython.core.display.Markdown object>"
      ]
     },
     "metadata": {},
     "output_type": "display_data"
    },
    {
     "data": {
      "text/markdown": [
       "#### Hole 14: {'loadtruck.2', 'walk.1'}"
      ],
      "text/plain": [
       "<IPython.core.display.Markdown object>"
      ]
     },
     "metadata": {},
     "output_type": "display_data"
    },
    {
     "data": {
      "text/markdown": [
       "Hole frozenset({'loadtruck.2', 'walk.1'}) is already covered."
      ],
      "text/plain": [
       "<IPython.core.display.Markdown object>"
      ]
     },
     "metadata": {},
     "output_type": "display_data"
    },
    {
     "data": {
      "text/markdown": [
       "#### Hole 15: {'disembarktruck.2'}"
      ],
      "text/plain": [
       "<IPython.core.display.Markdown object>"
      ]
     },
     "metadata": {},
     "output_type": "display_data"
    },
    {
     "data": {
      "text/markdown": [
       "Hole frozenset({'disembarktruck.2'}) is already covered."
      ],
      "text/plain": [
       "<IPython.core.display.Markdown object>"
      ]
     },
     "metadata": {},
     "output_type": "display_data"
    },
    {
     "data": {
      "text/markdown": [
       "#### Hole 16: {'walk.1'}"
      ],
      "text/plain": [
       "<IPython.core.display.Markdown object>"
      ]
     },
     "metadata": {},
     "output_type": "display_data"
    },
    {
     "data": {
      "text/markdown": [
       "Hole frozenset({'walk.1'}) is already covered."
      ],
      "text/plain": [
       "<IPython.core.display.Markdown object>"
      ]
     },
     "metadata": {},
     "output_type": "display_data"
    },
    {
     "data": {
      "text/markdown": [
       "#### Hole 17: {'walk.2', 'disembarktruck.2'}"
      ],
      "text/plain": [
       "<IPython.core.display.Markdown object>"
      ]
     },
     "metadata": {},
     "output_type": "display_data"
    },
    {
     "data": {
      "text/markdown": [
       "Hole frozenset({'walk.2', 'disembarktruck.2'}) is already covered."
      ],
      "text/plain": [
       "<IPython.core.display.Markdown object>"
      ]
     },
     "metadata": {},
     "output_type": "display_data"
    },
    {
     "data": {
      "text/markdown": [
       "#### Hole 18: {'drivetruck.1', 'loadtruck.2'}"
      ],
      "text/plain": [
       "<IPython.core.display.Markdown object>"
      ]
     },
     "metadata": {},
     "output_type": "display_data"
    },
    {
     "name": "stdout",
     "output_type": "stream",
     "text": [
      "{'drivetruck.1', 'drivetruck.2', 'loadtruck.2'}\n",
      "{'drivetruck.1', 'unloadtruck.2', 'loadtruck.2'}\n",
      "{'drivetruck.1', 'loadtruck.2', 'walk.1'}\n",
      "{'boardtruck.2', 'drivetruck.1', 'loadtruck.2'}\n",
      "{'drivetruck.1', 'walk.2', 'loadtruck.2'}\n",
      "{'drivetruck.1', 'disembarktruck.2', 'loadtruck.2'}\n"
     ]
    },
    {
     "data": {
      "text/markdown": [
       "Checking candidate set *{'drivetruck.1', 'disembarktruck.2', 'loadtruck.2'}* of class **Location** for well formedness and Validity"
      ],
      "text/plain": [
       "<IPython.core.display.Markdown object>"
      ]
     },
     "metadata": {},
     "output_type": "display_data"
    },
    {
     "data": {
      "text/html": [
       "<table>\n",
       "<thead>\n",
       "<tr><th>            </th><th style=\"text-align: right;\">  drivetruck.1</th><th style=\"text-align: right;\">  drivetruck.2</th><th style=\"text-align: right;\">  loadtruck.2</th></tr>\n",
       "</thead>\n",
       "<tbody>\n",
       "<tr><td>drivetruck.1</td><td style=\"text-align: right;\">             0</td><td style=\"text-align: right;\">            20</td><td style=\"text-align: right;\">            0</td></tr>\n",
       "<tr><td>drivetruck.2</td><td style=\"text-align: right;\">            10</td><td style=\"text-align: right;\">             0</td><td style=\"text-align: right;\">            5</td></tr>\n",
       "<tr><td>loadtruck.2 </td><td style=\"text-align: right;\">             8</td><td style=\"text-align: right;\">             0</td><td style=\"text-align: right;\">            0</td></tr>\n",
       "</tbody>\n",
       "</table>"
      ],
      "text/plain": [
       "'<table>\\n<thead>\\n<tr><th>            </th><th style=\"text-align: right;\">  drivetruck.1</th><th style=\"text-align: right;\">  drivetruck.2</th><th style=\"text-align: right;\">  loadtruck.2</th></tr>\\n</thead>\\n<tbody>\\n<tr><td>drivetruck.1</td><td style=\"text-align: right;\">             0</td><td style=\"text-align: right;\">            20</td><td style=\"text-align: right;\">            0</td></tr>\\n<tr><td>drivetruck.2</td><td style=\"text-align: right;\">            10</td><td style=\"text-align: right;\">             0</td><td style=\"text-align: right;\">            5</td></tr>\\n<tr><td>loadtruck.2 </td><td style=\"text-align: right;\">             8</td><td style=\"text-align: right;\">             0</td><td style=\"text-align: right;\">            0</td></tr>\\n</tbody>\\n</table>'"
      ]
     },
     "metadata": {},
     "output_type": "display_data"
    },
    {
     "name": "stdout",
     "output_type": "stream",
     "text": [
      "This subset is NOT well-formed\n"
     ]
    },
    {
     "data": {
      "text/html": [
       "<table>\n",
       "<thead>\n",
       "<tr><th>             </th><th style=\"text-align: right;\">  drivetruck.1</th><th style=\"text-align: right;\">  unloadtruck.2</th><th style=\"text-align: right;\">  loadtruck.2</th></tr>\n",
       "</thead>\n",
       "<tbody>\n",
       "<tr><td>drivetruck.1 </td><td style=\"text-align: right;\">             0</td><td style=\"text-align: right;\">              0</td><td style=\"text-align: right;\">            0</td></tr>\n",
       "<tr><td>unloadtruck.2</td><td style=\"text-align: right;\">             6</td><td style=\"text-align: right;\">              0</td><td style=\"text-align: right;\">            1</td></tr>\n",
       "<tr><td>loadtruck.2  </td><td style=\"text-align: right;\">             8</td><td style=\"text-align: right;\">              1</td><td style=\"text-align: right;\">            0</td></tr>\n",
       "</tbody>\n",
       "</table>"
      ],
      "text/plain": [
       "'<table>\\n<thead>\\n<tr><th>             </th><th style=\"text-align: right;\">  drivetruck.1</th><th style=\"text-align: right;\">  unloadtruck.2</th><th style=\"text-align: right;\">  loadtruck.2</th></tr>\\n</thead>\\n<tbody>\\n<tr><td>drivetruck.1 </td><td style=\"text-align: right;\">             0</td><td style=\"text-align: right;\">              0</td><td style=\"text-align: right;\">            0</td></tr>\\n<tr><td>unloadtruck.2</td><td style=\"text-align: right;\">             6</td><td style=\"text-align: right;\">              0</td><td style=\"text-align: right;\">            1</td></tr>\\n<tr><td>loadtruck.2  </td><td style=\"text-align: right;\">             8</td><td style=\"text-align: right;\">              1</td><td style=\"text-align: right;\">            0</td></tr>\\n</tbody>\\n</table>'"
      ]
     },
     "metadata": {},
     "output_type": "display_data"
    },
    {
     "name": "stdout",
     "output_type": "stream",
     "text": [
      "This subset is NOT well-formed\n"
     ]
    },
    {
     "data": {
      "text/html": [
       "<table>\n",
       "<thead>\n",
       "<tr><th>            </th><th style=\"text-align: right;\">  drivetruck.1</th><th style=\"text-align: right;\">  loadtruck.2</th><th style=\"text-align: right;\">  walk.1</th></tr>\n",
       "</thead>\n",
       "<tbody>\n",
       "<tr><td>drivetruck.1</td><td style=\"text-align: right;\">             0</td><td style=\"text-align: right;\">            0</td><td style=\"text-align: right;\">       0</td></tr>\n",
       "<tr><td>loadtruck.2 </td><td style=\"text-align: right;\">             8</td><td style=\"text-align: right;\">            0</td><td style=\"text-align: right;\">       0</td></tr>\n",
       "<tr><td>walk.1      </td><td style=\"text-align: right;\">             0</td><td style=\"text-align: right;\">            0</td><td style=\"text-align: right;\">       0</td></tr>\n",
       "</tbody>\n",
       "</table>"
      ],
      "text/plain": [
       "'<table>\\n<thead>\\n<tr><th>            </th><th style=\"text-align: right;\">  drivetruck.1</th><th style=\"text-align: right;\">  loadtruck.2</th><th style=\"text-align: right;\">  walk.1</th></tr>\\n</thead>\\n<tbody>\\n<tr><td>drivetruck.1</td><td style=\"text-align: right;\">             0</td><td style=\"text-align: right;\">            0</td><td style=\"text-align: right;\">       0</td></tr>\\n<tr><td>loadtruck.2 </td><td style=\"text-align: right;\">             8</td><td style=\"text-align: right;\">            0</td><td style=\"text-align: right;\">       0</td></tr>\\n<tr><td>walk.1      </td><td style=\"text-align: right;\">             0</td><td style=\"text-align: right;\">            0</td><td style=\"text-align: right;\">       0</td></tr>\\n</tbody>\\n</table>'"
      ]
     },
     "metadata": {},
     "output_type": "display_data"
    },
    {
     "name": "stdout",
     "output_type": "stream",
     "text": [
      "This subset is well-formed.\n",
      "This subset is valid.\n",
      "Adding this subset {'drivetruck.1', 'loadtruck.2', 'walk.1'} to the locm2 transition set.\n",
      "Hole that is covered now:\n",
      "['drivetruck.1', 'loadtruck.2']\n",
      "{'drivetruck.1', 'drivetruck.2', 'loadtruck.2'}\n",
      "{'drivetruck.1', 'unloadtruck.2', 'loadtruck.2'}\n",
      "{'drivetruck.1', 'loadtruck.2', 'walk.1'}\n",
      "{'boardtruck.2', 'drivetruck.1', 'loadtruck.2'}\n",
      "{'drivetruck.1', 'walk.2', 'loadtruck.2'}\n",
      "{'drivetruck.1', 'disembarktruck.2', 'loadtruck.2'}\n",
      "{'drivetruck.1', 'walk.2', 'loadtruck.2', 'walk.1'}\n",
      "{'drivetruck.1', 'drivetruck.2', 'disembarktruck.2', 'loadtruck.2'}\n",
      "{'boardtruck.2', 'drivetruck.1', 'walk.2', 'loadtruck.2'}\n",
      "{'drivetruck.1', 'walk.2', 'disembarktruck.2', 'loadtruck.2'}\n",
      "{'boardtruck.2', 'drivetruck.2', 'drivetruck.1', 'loadtruck.2'}\n",
      "{'drivetruck.1', 'drivetruck.2', 'unloadtruck.2', 'loadtruck.2'}\n",
      "{'drivetruck.1', 'unloadtruck.2', 'disembarktruck.2', 'loadtruck.2'}\n",
      "{'drivetruck.1', 'unloadtruck.2', 'walk.2', 'loadtruck.2'}\n",
      "{'drivetruck.1', 'unloadtruck.2', 'loadtruck.2', 'walk.1'}\n",
      "{'boardtruck.2', 'drivetruck.1', 'disembarktruck.2', 'loadtruck.2'}\n",
      "{'drivetruck.1', 'disembarktruck.2', 'loadtruck.2', 'walk.1'}\n",
      "{'boardtruck.2', 'drivetruck.1', 'unloadtruck.2', 'loadtruck.2'}\n",
      "{'drivetruck.1', 'drivetruck.2', 'loadtruck.2', 'walk.1'}\n",
      "{'drivetruck.1', 'drivetruck.2', 'walk.2', 'loadtruck.2'}\n",
      "{'boardtruck.2', 'drivetruck.1', 'loadtruck.2', 'walk.1'}\n"
     ]
    },
    {
     "data": {
      "text/markdown": [
       "Checking candidate set *{'boardtruck.2', 'drivetruck.1', 'loadtruck.2', 'walk.1'}* of class **Location** for well formedness and Validity"
      ],
      "text/plain": [
       "<IPython.core.display.Markdown object>"
      ]
     },
     "metadata": {},
     "output_type": "display_data"
    },
    {
     "data": {
      "text/html": [
       "<table>\n",
       "<thead>\n",
       "<tr><th>            </th><th style=\"text-align: right;\">  drivetruck.1</th><th style=\"text-align: right;\">  drivetruck.2</th><th style=\"text-align: right;\">  loadtruck.2</th></tr>\n",
       "</thead>\n",
       "<tbody>\n",
       "<tr><td>drivetruck.1</td><td style=\"text-align: right;\">             0</td><td style=\"text-align: right;\">            20</td><td style=\"text-align: right;\">            0</td></tr>\n",
       "<tr><td>drivetruck.2</td><td style=\"text-align: right;\">            10</td><td style=\"text-align: right;\">             0</td><td style=\"text-align: right;\">            5</td></tr>\n",
       "<tr><td>loadtruck.2 </td><td style=\"text-align: right;\">             8</td><td style=\"text-align: right;\">             0</td><td style=\"text-align: right;\">            0</td></tr>\n",
       "</tbody>\n",
       "</table>"
      ],
      "text/plain": [
       "'<table>\\n<thead>\\n<tr><th>            </th><th style=\"text-align: right;\">  drivetruck.1</th><th style=\"text-align: right;\">  drivetruck.2</th><th style=\"text-align: right;\">  loadtruck.2</th></tr>\\n</thead>\\n<tbody>\\n<tr><td>drivetruck.1</td><td style=\"text-align: right;\">             0</td><td style=\"text-align: right;\">            20</td><td style=\"text-align: right;\">            0</td></tr>\\n<tr><td>drivetruck.2</td><td style=\"text-align: right;\">            10</td><td style=\"text-align: right;\">             0</td><td style=\"text-align: right;\">            5</td></tr>\\n<tr><td>loadtruck.2 </td><td style=\"text-align: right;\">             8</td><td style=\"text-align: right;\">             0</td><td style=\"text-align: right;\">            0</td></tr>\\n</tbody>\\n</table>'"
      ]
     },
     "metadata": {},
     "output_type": "display_data"
    },
    {
     "name": "stdout",
     "output_type": "stream",
     "text": [
      "This subset is NOT well-formed\n"
     ]
    },
    {
     "data": {
      "text/html": [
       "<table>\n",
       "<thead>\n",
       "<tr><th>             </th><th style=\"text-align: right;\">  drivetruck.1</th><th style=\"text-align: right;\">  unloadtruck.2</th><th style=\"text-align: right;\">  loadtruck.2</th></tr>\n",
       "</thead>\n",
       "<tbody>\n",
       "<tr><td>drivetruck.1 </td><td style=\"text-align: right;\">             0</td><td style=\"text-align: right;\">              0</td><td style=\"text-align: right;\">            0</td></tr>\n",
       "<tr><td>unloadtruck.2</td><td style=\"text-align: right;\">             6</td><td style=\"text-align: right;\">              0</td><td style=\"text-align: right;\">            1</td></tr>\n",
       "<tr><td>loadtruck.2  </td><td style=\"text-align: right;\">             8</td><td style=\"text-align: right;\">              1</td><td style=\"text-align: right;\">            0</td></tr>\n",
       "</tbody>\n",
       "</table>"
      ],
      "text/plain": [
       "'<table>\\n<thead>\\n<tr><th>             </th><th style=\"text-align: right;\">  drivetruck.1</th><th style=\"text-align: right;\">  unloadtruck.2</th><th style=\"text-align: right;\">  loadtruck.2</th></tr>\\n</thead>\\n<tbody>\\n<tr><td>drivetruck.1 </td><td style=\"text-align: right;\">             0</td><td style=\"text-align: right;\">              0</td><td style=\"text-align: right;\">            0</td></tr>\\n<tr><td>unloadtruck.2</td><td style=\"text-align: right;\">             6</td><td style=\"text-align: right;\">              0</td><td style=\"text-align: right;\">            1</td></tr>\\n<tr><td>loadtruck.2  </td><td style=\"text-align: right;\">             8</td><td style=\"text-align: right;\">              1</td><td style=\"text-align: right;\">            0</td></tr>\\n</tbody>\\n</table>'"
      ]
     },
     "metadata": {},
     "output_type": "display_data"
    },
    {
     "name": "stdout",
     "output_type": "stream",
     "text": [
      "This subset is NOT well-formed\n"
     ]
    },
    {
     "data": {
      "text/html": [
       "<table>\n",
       "<thead>\n",
       "<tr><th>            </th><th style=\"text-align: right;\">  drivetruck.1</th><th style=\"text-align: right;\">  loadtruck.2</th><th style=\"text-align: right;\">  walk.1</th></tr>\n",
       "</thead>\n",
       "<tbody>\n",
       "<tr><td>drivetruck.1</td><td style=\"text-align: right;\">             0</td><td style=\"text-align: right;\">            0</td><td style=\"text-align: right;\">       0</td></tr>\n",
       "<tr><td>loadtruck.2 </td><td style=\"text-align: right;\">             8</td><td style=\"text-align: right;\">            0</td><td style=\"text-align: right;\">       0</td></tr>\n",
       "<tr><td>walk.1      </td><td style=\"text-align: right;\">             0</td><td style=\"text-align: right;\">            0</td><td style=\"text-align: right;\">       0</td></tr>\n",
       "</tbody>\n",
       "</table>"
      ],
      "text/plain": [
       "'<table>\\n<thead>\\n<tr><th>            </th><th style=\"text-align: right;\">  drivetruck.1</th><th style=\"text-align: right;\">  loadtruck.2</th><th style=\"text-align: right;\">  walk.1</th></tr>\\n</thead>\\n<tbody>\\n<tr><td>drivetruck.1</td><td style=\"text-align: right;\">             0</td><td style=\"text-align: right;\">            0</td><td style=\"text-align: right;\">       0</td></tr>\\n<tr><td>loadtruck.2 </td><td style=\"text-align: right;\">             8</td><td style=\"text-align: right;\">            0</td><td style=\"text-align: right;\">       0</td></tr>\\n<tr><td>walk.1      </td><td style=\"text-align: right;\">             0</td><td style=\"text-align: right;\">            0</td><td style=\"text-align: right;\">       0</td></tr>\\n</tbody>\\n</table>'"
      ]
     },
     "metadata": {},
     "output_type": "display_data"
    },
    {
     "name": "stdout",
     "output_type": "stream",
     "text": [
      "This subset is well-formed.\n",
      "This subset is valid.\n",
      "Adding this subset {'drivetruck.1', 'loadtruck.2', 'walk.1'} to the locm2 transition set.\n",
      "Hole that is covered now:\n",
      "['drivetruck.1', 'loadtruck.2']\n",
      "{'drivetruck.1', 'drivetruck.2', 'loadtruck.2'}\n",
      "{'drivetruck.1', 'unloadtruck.2', 'loadtruck.2'}\n",
      "{'drivetruck.1', 'loadtruck.2', 'walk.1'}\n",
      "{'boardtruck.2', 'drivetruck.1', 'loadtruck.2'}\n",
      "{'drivetruck.1', 'walk.2', 'loadtruck.2'}\n",
      "{'drivetruck.1', 'disembarktruck.2', 'loadtruck.2'}\n",
      "{'drivetruck.1', 'walk.2', 'loadtruck.2', 'walk.1'}\n",
      "{'drivetruck.1', 'drivetruck.2', 'disembarktruck.2', 'loadtruck.2'}\n",
      "{'boardtruck.2', 'drivetruck.1', 'walk.2', 'loadtruck.2'}\n",
      "{'drivetruck.1', 'walk.2', 'disembarktruck.2', 'loadtruck.2'}\n",
      "{'boardtruck.2', 'drivetruck.2', 'drivetruck.1', 'loadtruck.2'}\n",
      "{'drivetruck.1', 'drivetruck.2', 'unloadtruck.2', 'loadtruck.2'}\n",
      "{'drivetruck.1', 'unloadtruck.2', 'disembarktruck.2', 'loadtruck.2'}\n",
      "{'drivetruck.1', 'unloadtruck.2', 'walk.2', 'loadtruck.2'}\n",
      "{'drivetruck.1', 'unloadtruck.2', 'loadtruck.2', 'walk.1'}\n",
      "{'boardtruck.2', 'drivetruck.1', 'disembarktruck.2', 'loadtruck.2'}\n",
      "{'drivetruck.1', 'disembarktruck.2', 'loadtruck.2', 'walk.1'}\n",
      "{'boardtruck.2', 'drivetruck.1', 'unloadtruck.2', 'loadtruck.2'}\n",
      "{'drivetruck.1', 'drivetruck.2', 'loadtruck.2', 'walk.1'}\n",
      "{'drivetruck.1', 'drivetruck.2', 'walk.2', 'loadtruck.2'}\n",
      "{'boardtruck.2', 'drivetruck.1', 'loadtruck.2', 'walk.1'}\n",
      "{'unloadtruck.2', 'loadtruck.2', 'drivetruck.1', 'walk.1', 'walk.2'}\n",
      "{'unloadtruck.2', 'disembarktruck.2', 'loadtruck.2', 'drivetruck.1', 'drivetruck.2'}\n",
      "{'unloadtruck.2', 'disembarktruck.2', 'loadtruck.2', 'drivetruck.1', 'walk.1'}\n",
      "{'disembarktruck.2', 'loadtruck.2', 'drivetruck.1', 'drivetruck.2', 'walk.2'}\n",
      "{'disembarktruck.2', 'loadtruck.2', 'drivetruck.1', 'boardtruck.2', 'drivetruck.2'}\n",
      "{'loadtruck.2', 'drivetruck.1', 'boardtruck.2', 'drivetruck.2', 'walk.2'}\n",
      "{'unloadtruck.2', 'loadtruck.2', 'drivetruck.1', 'boardtruck.2', 'walk.2'}\n",
      "{'unloadtruck.2', 'loadtruck.2', 'drivetruck.1', 'walk.1', 'drivetruck.2'}\n",
      "{'unloadtruck.2', 'disembarktruck.2', 'loadtruck.2', 'drivetruck.1', 'boardtruck.2'}\n",
      "{'unloadtruck.2', 'loadtruck.2', 'drivetruck.1', 'boardtruck.2', 'drivetruck.2'}\n",
      "{'disembarktruck.2', 'loadtruck.2', 'drivetruck.1', 'boardtruck.2', 'walk.2'}\n",
      "{'disembarktruck.2', 'loadtruck.2', 'drivetruck.1', 'walk.1', 'walk.2'}\n",
      "{'loadtruck.2', 'drivetruck.1', 'walk.1', 'boardtruck.2', 'walk.2'}\n",
      "{'loadtruck.2', 'drivetruck.1', 'walk.1', 'boardtruck.2', 'drivetruck.2'}\n",
      "{'loadtruck.2', 'drivetruck.1', 'walk.1', 'drivetruck.2', 'walk.2'}\n",
      "{'disembarktruck.2', 'loadtruck.2', 'drivetruck.1', 'walk.1', 'boardtruck.2'}\n",
      "{'unloadtruck.2', 'disembarktruck.2', 'loadtruck.2', 'drivetruck.1', 'walk.2'}\n",
      "{'unloadtruck.2', 'loadtruck.2', 'drivetruck.1', 'walk.1', 'boardtruck.2'}\n",
      "{'unloadtruck.2', 'loadtruck.2', 'drivetruck.1', 'drivetruck.2', 'walk.2'}\n",
      "{'disembarktruck.2', 'loadtruck.2', 'drivetruck.1', 'walk.1', 'drivetruck.2'}\n"
     ]
    },
    {
     "data": {
      "text/markdown": [
       "Checking candidate set *{'disembarktruck.2', 'loadtruck.2', 'drivetruck.1', 'walk.1', 'drivetruck.2'}* of class **Location** for well formedness and Validity"
      ],
      "text/plain": [
       "<IPython.core.display.Markdown object>"
      ]
     },
     "metadata": {},
     "output_type": "display_data"
    },
    {
     "data": {
      "text/html": [
       "<table>\n",
       "<thead>\n",
       "<tr><th>            </th><th style=\"text-align: right;\">  drivetruck.1</th><th style=\"text-align: right;\">  drivetruck.2</th><th style=\"text-align: right;\">  loadtruck.2</th></tr>\n",
       "</thead>\n",
       "<tbody>\n",
       "<tr><td>drivetruck.1</td><td style=\"text-align: right;\">             0</td><td style=\"text-align: right;\">            20</td><td style=\"text-align: right;\">            0</td></tr>\n",
       "<tr><td>drivetruck.2</td><td style=\"text-align: right;\">            10</td><td style=\"text-align: right;\">             0</td><td style=\"text-align: right;\">            5</td></tr>\n",
       "<tr><td>loadtruck.2 </td><td style=\"text-align: right;\">             8</td><td style=\"text-align: right;\">             0</td><td style=\"text-align: right;\">            0</td></tr>\n",
       "</tbody>\n",
       "</table>"
      ],
      "text/plain": [
       "'<table>\\n<thead>\\n<tr><th>            </th><th style=\"text-align: right;\">  drivetruck.1</th><th style=\"text-align: right;\">  drivetruck.2</th><th style=\"text-align: right;\">  loadtruck.2</th></tr>\\n</thead>\\n<tbody>\\n<tr><td>drivetruck.1</td><td style=\"text-align: right;\">             0</td><td style=\"text-align: right;\">            20</td><td style=\"text-align: right;\">            0</td></tr>\\n<tr><td>drivetruck.2</td><td style=\"text-align: right;\">            10</td><td style=\"text-align: right;\">             0</td><td style=\"text-align: right;\">            5</td></tr>\\n<tr><td>loadtruck.2 </td><td style=\"text-align: right;\">             8</td><td style=\"text-align: right;\">             0</td><td style=\"text-align: right;\">            0</td></tr>\\n</tbody>\\n</table>'"
      ]
     },
     "metadata": {},
     "output_type": "display_data"
    },
    {
     "name": "stdout",
     "output_type": "stream",
     "text": [
      "This subset is NOT well-formed\n"
     ]
    },
    {
     "data": {
      "text/html": [
       "<table>\n",
       "<thead>\n",
       "<tr><th>             </th><th style=\"text-align: right;\">  drivetruck.1</th><th style=\"text-align: right;\">  unloadtruck.2</th><th style=\"text-align: right;\">  loadtruck.2</th></tr>\n",
       "</thead>\n",
       "<tbody>\n",
       "<tr><td>drivetruck.1 </td><td style=\"text-align: right;\">             0</td><td style=\"text-align: right;\">              0</td><td style=\"text-align: right;\">            0</td></tr>\n",
       "<tr><td>unloadtruck.2</td><td style=\"text-align: right;\">             6</td><td style=\"text-align: right;\">              0</td><td style=\"text-align: right;\">            1</td></tr>\n",
       "<tr><td>loadtruck.2  </td><td style=\"text-align: right;\">             8</td><td style=\"text-align: right;\">              1</td><td style=\"text-align: right;\">            0</td></tr>\n",
       "</tbody>\n",
       "</table>"
      ],
      "text/plain": [
       "'<table>\\n<thead>\\n<tr><th>             </th><th style=\"text-align: right;\">  drivetruck.1</th><th style=\"text-align: right;\">  unloadtruck.2</th><th style=\"text-align: right;\">  loadtruck.2</th></tr>\\n</thead>\\n<tbody>\\n<tr><td>drivetruck.1 </td><td style=\"text-align: right;\">             0</td><td style=\"text-align: right;\">              0</td><td style=\"text-align: right;\">            0</td></tr>\\n<tr><td>unloadtruck.2</td><td style=\"text-align: right;\">             6</td><td style=\"text-align: right;\">              0</td><td style=\"text-align: right;\">            1</td></tr>\\n<tr><td>loadtruck.2  </td><td style=\"text-align: right;\">             8</td><td style=\"text-align: right;\">              1</td><td style=\"text-align: right;\">            0</td></tr>\\n</tbody>\\n</table>'"
      ]
     },
     "metadata": {},
     "output_type": "display_data"
    },
    {
     "name": "stdout",
     "output_type": "stream",
     "text": [
      "This subset is NOT well-formed\n"
     ]
    },
    {
     "data": {
      "text/html": [
       "<table>\n",
       "<thead>\n",
       "<tr><th>            </th><th style=\"text-align: right;\">  drivetruck.1</th><th style=\"text-align: right;\">  loadtruck.2</th><th style=\"text-align: right;\">  walk.1</th></tr>\n",
       "</thead>\n",
       "<tbody>\n",
       "<tr><td>drivetruck.1</td><td style=\"text-align: right;\">             0</td><td style=\"text-align: right;\">            0</td><td style=\"text-align: right;\">       0</td></tr>\n",
       "<tr><td>loadtruck.2 </td><td style=\"text-align: right;\">             8</td><td style=\"text-align: right;\">            0</td><td style=\"text-align: right;\">       0</td></tr>\n",
       "<tr><td>walk.1      </td><td style=\"text-align: right;\">             0</td><td style=\"text-align: right;\">            0</td><td style=\"text-align: right;\">       0</td></tr>\n",
       "</tbody>\n",
       "</table>"
      ],
      "text/plain": [
       "'<table>\\n<thead>\\n<tr><th>            </th><th style=\"text-align: right;\">  drivetruck.1</th><th style=\"text-align: right;\">  loadtruck.2</th><th style=\"text-align: right;\">  walk.1</th></tr>\\n</thead>\\n<tbody>\\n<tr><td>drivetruck.1</td><td style=\"text-align: right;\">             0</td><td style=\"text-align: right;\">            0</td><td style=\"text-align: right;\">       0</td></tr>\\n<tr><td>loadtruck.2 </td><td style=\"text-align: right;\">             8</td><td style=\"text-align: right;\">            0</td><td style=\"text-align: right;\">       0</td></tr>\\n<tr><td>walk.1      </td><td style=\"text-align: right;\">             0</td><td style=\"text-align: right;\">            0</td><td style=\"text-align: right;\">       0</td></tr>\\n</tbody>\\n</table>'"
      ]
     },
     "metadata": {},
     "output_type": "display_data"
    },
    {
     "name": "stdout",
     "output_type": "stream",
     "text": [
      "This subset is well-formed.\n",
      "This subset is valid.\n",
      "Adding this subset {'drivetruck.1', 'loadtruck.2', 'walk.1'} to the locm2 transition set.\n",
      "Hole that is covered now:\n",
      "['drivetruck.1', 'loadtruck.2']\n",
      "{'drivetruck.1', 'drivetruck.2', 'loadtruck.2'}\n",
      "{'drivetruck.1', 'unloadtruck.2', 'loadtruck.2'}\n",
      "{'drivetruck.1', 'loadtruck.2', 'walk.1'}\n",
      "{'boardtruck.2', 'drivetruck.1', 'loadtruck.2'}\n",
      "{'drivetruck.1', 'walk.2', 'loadtruck.2'}\n",
      "{'drivetruck.1', 'disembarktruck.2', 'loadtruck.2'}\n",
      "{'drivetruck.1', 'walk.2', 'loadtruck.2', 'walk.1'}\n",
      "{'drivetruck.1', 'drivetruck.2', 'disembarktruck.2', 'loadtruck.2'}\n",
      "{'boardtruck.2', 'drivetruck.1', 'walk.2', 'loadtruck.2'}\n",
      "{'drivetruck.1', 'walk.2', 'disembarktruck.2', 'loadtruck.2'}\n",
      "{'boardtruck.2', 'drivetruck.2', 'drivetruck.1', 'loadtruck.2'}\n",
      "{'drivetruck.1', 'drivetruck.2', 'unloadtruck.2', 'loadtruck.2'}\n",
      "{'drivetruck.1', 'unloadtruck.2', 'disembarktruck.2', 'loadtruck.2'}\n",
      "{'drivetruck.1', 'unloadtruck.2', 'walk.2', 'loadtruck.2'}\n",
      "{'drivetruck.1', 'unloadtruck.2', 'loadtruck.2', 'walk.1'}\n",
      "{'boardtruck.2', 'drivetruck.1', 'disembarktruck.2', 'loadtruck.2'}\n",
      "{'drivetruck.1', 'disembarktruck.2', 'loadtruck.2', 'walk.1'}\n",
      "{'boardtruck.2', 'drivetruck.1', 'unloadtruck.2', 'loadtruck.2'}\n",
      "{'drivetruck.1', 'drivetruck.2', 'loadtruck.2', 'walk.1'}\n",
      "{'drivetruck.1', 'drivetruck.2', 'walk.2', 'loadtruck.2'}\n",
      "{'boardtruck.2', 'drivetruck.1', 'loadtruck.2', 'walk.1'}\n",
      "{'unloadtruck.2', 'loadtruck.2', 'drivetruck.1', 'walk.1', 'walk.2'}\n",
      "{'unloadtruck.2', 'disembarktruck.2', 'loadtruck.2', 'drivetruck.1', 'drivetruck.2'}\n",
      "{'unloadtruck.2', 'disembarktruck.2', 'loadtruck.2', 'drivetruck.1', 'walk.1'}\n",
      "{'disembarktruck.2', 'loadtruck.2', 'drivetruck.1', 'drivetruck.2', 'walk.2'}\n",
      "{'disembarktruck.2', 'loadtruck.2', 'drivetruck.1', 'boardtruck.2', 'drivetruck.2'}\n",
      "{'loadtruck.2', 'drivetruck.1', 'boardtruck.2', 'drivetruck.2', 'walk.2'}\n",
      "{'unloadtruck.2', 'loadtruck.2', 'drivetruck.1', 'boardtruck.2', 'walk.2'}\n",
      "{'unloadtruck.2', 'loadtruck.2', 'drivetruck.1', 'walk.1', 'drivetruck.2'}\n",
      "{'unloadtruck.2', 'disembarktruck.2', 'loadtruck.2', 'drivetruck.1', 'boardtruck.2'}\n",
      "{'unloadtruck.2', 'loadtruck.2', 'drivetruck.1', 'boardtruck.2', 'drivetruck.2'}\n",
      "{'disembarktruck.2', 'loadtruck.2', 'drivetruck.1', 'boardtruck.2', 'walk.2'}\n",
      "{'disembarktruck.2', 'loadtruck.2', 'drivetruck.1', 'walk.1', 'walk.2'}\n",
      "{'loadtruck.2', 'drivetruck.1', 'walk.1', 'boardtruck.2', 'walk.2'}\n",
      "{'loadtruck.2', 'drivetruck.1', 'walk.1', 'boardtruck.2', 'drivetruck.2'}\n",
      "{'loadtruck.2', 'drivetruck.1', 'walk.1', 'drivetruck.2', 'walk.2'}\n",
      "{'disembarktruck.2', 'loadtruck.2', 'drivetruck.1', 'walk.1', 'boardtruck.2'}\n",
      "{'unloadtruck.2', 'disembarktruck.2', 'loadtruck.2', 'drivetruck.1', 'walk.2'}\n",
      "{'unloadtruck.2', 'loadtruck.2', 'drivetruck.1', 'walk.1', 'boardtruck.2'}\n",
      "{'unloadtruck.2', 'loadtruck.2', 'drivetruck.1', 'drivetruck.2', 'walk.2'}\n",
      "{'disembarktruck.2', 'loadtruck.2', 'drivetruck.1', 'walk.1', 'drivetruck.2'}\n",
      "{'disembarktruck.2', 'loadtruck.2', 'drivetruck.1', 'walk.1', 'boardtruck.2', 'drivetruck.2'}\n",
      "{'unloadtruck.2', 'disembarktruck.2', 'loadtruck.2', 'drivetruck.1', 'boardtruck.2', 'drivetruck.2'}\n",
      "{'unloadtruck.2', 'disembarktruck.2', 'loadtruck.2', 'drivetruck.1', 'boardtruck.2', 'walk.2'}\n",
      "{'unloadtruck.2', 'loadtruck.2', 'drivetruck.1', 'boardtruck.2', 'drivetruck.2', 'walk.2'}\n",
      "{'unloadtruck.2', 'disembarktruck.2', 'loadtruck.2', 'drivetruck.1', 'walk.1', 'walk.2'}\n",
      "{'unloadtruck.2', 'disembarktruck.2', 'loadtruck.2', 'drivetruck.1', 'drivetruck.2', 'walk.2'}\n",
      "{'unloadtruck.2', 'disembarktruck.2', 'loadtruck.2', 'drivetruck.1', 'walk.1', 'boardtruck.2'}\n",
      "{'disembarktruck.2', 'loadtruck.2', 'drivetruck.1', 'walk.1', 'boardtruck.2', 'walk.2'}\n",
      "{'unloadtruck.2', 'loadtruck.2', 'drivetruck.1', 'walk.1', 'boardtruck.2', 'drivetruck.2'}\n",
      "{'unloadtruck.2', 'loadtruck.2', 'drivetruck.1', 'walk.1', 'boardtruck.2', 'walk.2'}\n",
      "{'loadtruck.2', 'drivetruck.1', 'walk.1', 'boardtruck.2', 'drivetruck.2', 'walk.2'}\n",
      "{'disembarktruck.2', 'loadtruck.2', 'drivetruck.1', 'walk.1', 'drivetruck.2', 'walk.2'}\n",
      "{'unloadtruck.2', 'loadtruck.2', 'drivetruck.1', 'walk.1', 'drivetruck.2', 'walk.2'}\n",
      "{'disembarktruck.2', 'loadtruck.2', 'drivetruck.1', 'boardtruck.2', 'drivetruck.2', 'walk.2'}\n",
      "{'unloadtruck.2', 'disembarktruck.2', 'loadtruck.2', 'drivetruck.1', 'walk.1', 'drivetruck.2'}\n"
     ]
    },
    {
     "data": {
      "text/markdown": [
       "Checking candidate set *{'unloadtruck.2', 'disembarktruck.2', 'loadtruck.2', 'drivetruck.1', 'walk.1', 'drivetruck.2'}* of class **Location** for well formedness and Validity"
      ],
      "text/plain": [
       "<IPython.core.display.Markdown object>"
      ]
     },
     "metadata": {},
     "output_type": "display_data"
    },
    {
     "data": {
      "text/html": [
       "<table>\n",
       "<thead>\n",
       "<tr><th>            </th><th style=\"text-align: right;\">  drivetruck.1</th><th style=\"text-align: right;\">  drivetruck.2</th><th style=\"text-align: right;\">  loadtruck.2</th></tr>\n",
       "</thead>\n",
       "<tbody>\n",
       "<tr><td>drivetruck.1</td><td style=\"text-align: right;\">             0</td><td style=\"text-align: right;\">            20</td><td style=\"text-align: right;\">            0</td></tr>\n",
       "<tr><td>drivetruck.2</td><td style=\"text-align: right;\">            10</td><td style=\"text-align: right;\">             0</td><td style=\"text-align: right;\">            5</td></tr>\n",
       "<tr><td>loadtruck.2 </td><td style=\"text-align: right;\">             8</td><td style=\"text-align: right;\">             0</td><td style=\"text-align: right;\">            0</td></tr>\n",
       "</tbody>\n",
       "</table>"
      ],
      "text/plain": [
       "'<table>\\n<thead>\\n<tr><th>            </th><th style=\"text-align: right;\">  drivetruck.1</th><th style=\"text-align: right;\">  drivetruck.2</th><th style=\"text-align: right;\">  loadtruck.2</th></tr>\\n</thead>\\n<tbody>\\n<tr><td>drivetruck.1</td><td style=\"text-align: right;\">             0</td><td style=\"text-align: right;\">            20</td><td style=\"text-align: right;\">            0</td></tr>\\n<tr><td>drivetruck.2</td><td style=\"text-align: right;\">            10</td><td style=\"text-align: right;\">             0</td><td style=\"text-align: right;\">            5</td></tr>\\n<tr><td>loadtruck.2 </td><td style=\"text-align: right;\">             8</td><td style=\"text-align: right;\">             0</td><td style=\"text-align: right;\">            0</td></tr>\\n</tbody>\\n</table>'"
      ]
     },
     "metadata": {},
     "output_type": "display_data"
    },
    {
     "name": "stdout",
     "output_type": "stream",
     "text": [
      "This subset is NOT well-formed\n"
     ]
    },
    {
     "data": {
      "text/html": [
       "<table>\n",
       "<thead>\n",
       "<tr><th>             </th><th style=\"text-align: right;\">  drivetruck.1</th><th style=\"text-align: right;\">  unloadtruck.2</th><th style=\"text-align: right;\">  loadtruck.2</th></tr>\n",
       "</thead>\n",
       "<tbody>\n",
       "<tr><td>drivetruck.1 </td><td style=\"text-align: right;\">             0</td><td style=\"text-align: right;\">              0</td><td style=\"text-align: right;\">            0</td></tr>\n",
       "<tr><td>unloadtruck.2</td><td style=\"text-align: right;\">             6</td><td style=\"text-align: right;\">              0</td><td style=\"text-align: right;\">            1</td></tr>\n",
       "<tr><td>loadtruck.2  </td><td style=\"text-align: right;\">             8</td><td style=\"text-align: right;\">              1</td><td style=\"text-align: right;\">            0</td></tr>\n",
       "</tbody>\n",
       "</table>"
      ],
      "text/plain": [
       "'<table>\\n<thead>\\n<tr><th>             </th><th style=\"text-align: right;\">  drivetruck.1</th><th style=\"text-align: right;\">  unloadtruck.2</th><th style=\"text-align: right;\">  loadtruck.2</th></tr>\\n</thead>\\n<tbody>\\n<tr><td>drivetruck.1 </td><td style=\"text-align: right;\">             0</td><td style=\"text-align: right;\">              0</td><td style=\"text-align: right;\">            0</td></tr>\\n<tr><td>unloadtruck.2</td><td style=\"text-align: right;\">             6</td><td style=\"text-align: right;\">              0</td><td style=\"text-align: right;\">            1</td></tr>\\n<tr><td>loadtruck.2  </td><td style=\"text-align: right;\">             8</td><td style=\"text-align: right;\">              1</td><td style=\"text-align: right;\">            0</td></tr>\\n</tbody>\\n</table>'"
      ]
     },
     "metadata": {},
     "output_type": "display_data"
    },
    {
     "name": "stdout",
     "output_type": "stream",
     "text": [
      "This subset is NOT well-formed\n"
     ]
    },
    {
     "data": {
      "text/html": [
       "<table>\n",
       "<thead>\n",
       "<tr><th>            </th><th style=\"text-align: right;\">  drivetruck.1</th><th style=\"text-align: right;\">  loadtruck.2</th><th style=\"text-align: right;\">  walk.1</th></tr>\n",
       "</thead>\n",
       "<tbody>\n",
       "<tr><td>drivetruck.1</td><td style=\"text-align: right;\">             0</td><td style=\"text-align: right;\">            0</td><td style=\"text-align: right;\">       0</td></tr>\n",
       "<tr><td>loadtruck.2 </td><td style=\"text-align: right;\">             8</td><td style=\"text-align: right;\">            0</td><td style=\"text-align: right;\">       0</td></tr>\n",
       "<tr><td>walk.1      </td><td style=\"text-align: right;\">             0</td><td style=\"text-align: right;\">            0</td><td style=\"text-align: right;\">       0</td></tr>\n",
       "</tbody>\n",
       "</table>"
      ],
      "text/plain": [
       "'<table>\\n<thead>\\n<tr><th>            </th><th style=\"text-align: right;\">  drivetruck.1</th><th style=\"text-align: right;\">  loadtruck.2</th><th style=\"text-align: right;\">  walk.1</th></tr>\\n</thead>\\n<tbody>\\n<tr><td>drivetruck.1</td><td style=\"text-align: right;\">             0</td><td style=\"text-align: right;\">            0</td><td style=\"text-align: right;\">       0</td></tr>\\n<tr><td>loadtruck.2 </td><td style=\"text-align: right;\">             8</td><td style=\"text-align: right;\">            0</td><td style=\"text-align: right;\">       0</td></tr>\\n<tr><td>walk.1      </td><td style=\"text-align: right;\">             0</td><td style=\"text-align: right;\">            0</td><td style=\"text-align: right;\">       0</td></tr>\\n</tbody>\\n</table>'"
      ]
     },
     "metadata": {},
     "output_type": "display_data"
    },
    {
     "name": "stdout",
     "output_type": "stream",
     "text": [
      "This subset is well-formed.\n",
      "This subset is valid.\n",
      "Adding this subset {'drivetruck.1', 'loadtruck.2', 'walk.1'} to the locm2 transition set.\n",
      "Hole that is covered now:\n",
      "['drivetruck.1', 'loadtruck.2']\n",
      "{'drivetruck.1', 'drivetruck.2', 'loadtruck.2'}\n",
      "{'drivetruck.1', 'unloadtruck.2', 'loadtruck.2'}\n",
      "{'drivetruck.1', 'loadtruck.2', 'walk.1'}\n",
      "{'boardtruck.2', 'drivetruck.1', 'loadtruck.2'}\n",
      "{'drivetruck.1', 'walk.2', 'loadtruck.2'}\n",
      "{'drivetruck.1', 'disembarktruck.2', 'loadtruck.2'}\n",
      "{'drivetruck.1', 'walk.2', 'loadtruck.2', 'walk.1'}\n",
      "{'drivetruck.1', 'drivetruck.2', 'disembarktruck.2', 'loadtruck.2'}\n",
      "{'boardtruck.2', 'drivetruck.1', 'walk.2', 'loadtruck.2'}\n",
      "{'drivetruck.1', 'walk.2', 'disembarktruck.2', 'loadtruck.2'}\n",
      "{'boardtruck.2', 'drivetruck.2', 'drivetruck.1', 'loadtruck.2'}\n",
      "{'drivetruck.1', 'drivetruck.2', 'unloadtruck.2', 'loadtruck.2'}\n",
      "{'drivetruck.1', 'unloadtruck.2', 'disembarktruck.2', 'loadtruck.2'}\n",
      "{'drivetruck.1', 'unloadtruck.2', 'walk.2', 'loadtruck.2'}\n",
      "{'drivetruck.1', 'unloadtruck.2', 'loadtruck.2', 'walk.1'}\n",
      "{'boardtruck.2', 'drivetruck.1', 'disembarktruck.2', 'loadtruck.2'}\n",
      "{'drivetruck.1', 'disembarktruck.2', 'loadtruck.2', 'walk.1'}\n",
      "{'boardtruck.2', 'drivetruck.1', 'unloadtruck.2', 'loadtruck.2'}\n",
      "{'drivetruck.1', 'drivetruck.2', 'loadtruck.2', 'walk.1'}\n",
      "{'drivetruck.1', 'drivetruck.2', 'walk.2', 'loadtruck.2'}\n",
      "{'boardtruck.2', 'drivetruck.1', 'loadtruck.2', 'walk.1'}\n",
      "{'unloadtruck.2', 'loadtruck.2', 'drivetruck.1', 'walk.1', 'walk.2'}\n",
      "{'unloadtruck.2', 'disembarktruck.2', 'loadtruck.2', 'drivetruck.1', 'drivetruck.2'}\n",
      "{'unloadtruck.2', 'disembarktruck.2', 'loadtruck.2', 'drivetruck.1', 'walk.1'}\n",
      "{'disembarktruck.2', 'loadtruck.2', 'drivetruck.1', 'drivetruck.2', 'walk.2'}\n",
      "{'disembarktruck.2', 'loadtruck.2', 'drivetruck.1', 'boardtruck.2', 'drivetruck.2'}\n",
      "{'loadtruck.2', 'drivetruck.1', 'boardtruck.2', 'drivetruck.2', 'walk.2'}\n",
      "{'unloadtruck.2', 'loadtruck.2', 'drivetruck.1', 'boardtruck.2', 'walk.2'}\n",
      "{'unloadtruck.2', 'loadtruck.2', 'drivetruck.1', 'walk.1', 'drivetruck.2'}\n",
      "{'unloadtruck.2', 'disembarktruck.2', 'loadtruck.2', 'drivetruck.1', 'boardtruck.2'}\n",
      "{'unloadtruck.2', 'loadtruck.2', 'drivetruck.1', 'boardtruck.2', 'drivetruck.2'}\n",
      "{'disembarktruck.2', 'loadtruck.2', 'drivetruck.1', 'boardtruck.2', 'walk.2'}\n",
      "{'disembarktruck.2', 'loadtruck.2', 'drivetruck.1', 'walk.1', 'walk.2'}\n",
      "{'loadtruck.2', 'drivetruck.1', 'walk.1', 'boardtruck.2', 'walk.2'}\n",
      "{'loadtruck.2', 'drivetruck.1', 'walk.1', 'boardtruck.2', 'drivetruck.2'}\n",
      "{'loadtruck.2', 'drivetruck.1', 'walk.1', 'drivetruck.2', 'walk.2'}\n",
      "{'disembarktruck.2', 'loadtruck.2', 'drivetruck.1', 'walk.1', 'boardtruck.2'}\n",
      "{'unloadtruck.2', 'disembarktruck.2', 'loadtruck.2', 'drivetruck.1', 'walk.2'}\n",
      "{'unloadtruck.2', 'loadtruck.2', 'drivetruck.1', 'walk.1', 'boardtruck.2'}\n",
      "{'unloadtruck.2', 'loadtruck.2', 'drivetruck.1', 'drivetruck.2', 'walk.2'}\n",
      "{'disembarktruck.2', 'loadtruck.2', 'drivetruck.1', 'walk.1', 'drivetruck.2'}\n",
      "{'disembarktruck.2', 'loadtruck.2', 'drivetruck.1', 'walk.1', 'boardtruck.2', 'drivetruck.2'}\n",
      "{'unloadtruck.2', 'disembarktruck.2', 'loadtruck.2', 'drivetruck.1', 'boardtruck.2', 'drivetruck.2'}\n",
      "{'unloadtruck.2', 'disembarktruck.2', 'loadtruck.2', 'drivetruck.1', 'boardtruck.2', 'walk.2'}\n",
      "{'unloadtruck.2', 'loadtruck.2', 'drivetruck.1', 'boardtruck.2', 'drivetruck.2', 'walk.2'}\n",
      "{'unloadtruck.2', 'disembarktruck.2', 'loadtruck.2', 'drivetruck.1', 'walk.1', 'walk.2'}\n",
      "{'unloadtruck.2', 'disembarktruck.2', 'loadtruck.2', 'drivetruck.1', 'drivetruck.2', 'walk.2'}\n",
      "{'unloadtruck.2', 'disembarktruck.2', 'loadtruck.2', 'drivetruck.1', 'walk.1', 'boardtruck.2'}\n",
      "{'disembarktruck.2', 'loadtruck.2', 'drivetruck.1', 'walk.1', 'boardtruck.2', 'walk.2'}\n",
      "{'unloadtruck.2', 'loadtruck.2', 'drivetruck.1', 'walk.1', 'boardtruck.2', 'drivetruck.2'}\n",
      "{'unloadtruck.2', 'loadtruck.2', 'drivetruck.1', 'walk.1', 'boardtruck.2', 'walk.2'}\n",
      "{'loadtruck.2', 'drivetruck.1', 'walk.1', 'boardtruck.2', 'drivetruck.2', 'walk.2'}\n",
      "{'disembarktruck.2', 'loadtruck.2', 'drivetruck.1', 'walk.1', 'drivetruck.2', 'walk.2'}\n",
      "{'unloadtruck.2', 'loadtruck.2', 'drivetruck.1', 'walk.1', 'drivetruck.2', 'walk.2'}\n",
      "{'disembarktruck.2', 'loadtruck.2', 'drivetruck.1', 'boardtruck.2', 'drivetruck.2', 'walk.2'}\n",
      "{'unloadtruck.2', 'disembarktruck.2', 'loadtruck.2', 'drivetruck.1', 'walk.1', 'drivetruck.2'}\n",
      "{'unloadtruck.2', 'disembarktruck.2', 'loadtruck.2', 'drivetruck.1', 'walk.1', 'boardtruck.2', 'drivetruck.2'}\n",
      "{'disembarktruck.2', 'loadtruck.2', 'drivetruck.1', 'walk.1', 'boardtruck.2', 'drivetruck.2', 'walk.2'}\n",
      "{'unloadtruck.2', 'disembarktruck.2', 'loadtruck.2', 'drivetruck.1', 'walk.1', 'drivetruck.2', 'walk.2'}\n",
      "{'unloadtruck.2', 'disembarktruck.2', 'loadtruck.2', 'drivetruck.1', 'walk.1', 'boardtruck.2', 'walk.2'}\n",
      "{'unloadtruck.2', 'disembarktruck.2', 'loadtruck.2', 'drivetruck.1', 'boardtruck.2', 'drivetruck.2', 'walk.2'}\n",
      "{'unloadtruck.2', 'loadtruck.2', 'drivetruck.1', 'walk.1', 'boardtruck.2', 'drivetruck.2', 'walk.2'}\n"
     ]
    },
    {
     "data": {
      "text/markdown": [
       "Checking candidate set *{'unloadtruck.2', 'loadtruck.2', 'drivetruck.1', 'walk.1', 'boardtruck.2', 'drivetruck.2', 'walk.2'}* of class **Location** for well formedness and Validity"
      ],
      "text/plain": [
       "<IPython.core.display.Markdown object>"
      ]
     },
     "metadata": {},
     "output_type": "display_data"
    },
    {
     "data": {
      "text/html": [
       "<table>\n",
       "<thead>\n",
       "<tr><th>            </th><th style=\"text-align: right;\">  drivetruck.1</th><th style=\"text-align: right;\">  drivetruck.2</th><th style=\"text-align: right;\">  loadtruck.2</th></tr>\n",
       "</thead>\n",
       "<tbody>\n",
       "<tr><td>drivetruck.1</td><td style=\"text-align: right;\">             0</td><td style=\"text-align: right;\">            20</td><td style=\"text-align: right;\">            0</td></tr>\n",
       "<tr><td>drivetruck.2</td><td style=\"text-align: right;\">            10</td><td style=\"text-align: right;\">             0</td><td style=\"text-align: right;\">            5</td></tr>\n",
       "<tr><td>loadtruck.2 </td><td style=\"text-align: right;\">             8</td><td style=\"text-align: right;\">             0</td><td style=\"text-align: right;\">            0</td></tr>\n",
       "</tbody>\n",
       "</table>"
      ],
      "text/plain": [
       "'<table>\\n<thead>\\n<tr><th>            </th><th style=\"text-align: right;\">  drivetruck.1</th><th style=\"text-align: right;\">  drivetruck.2</th><th style=\"text-align: right;\">  loadtruck.2</th></tr>\\n</thead>\\n<tbody>\\n<tr><td>drivetruck.1</td><td style=\"text-align: right;\">             0</td><td style=\"text-align: right;\">            20</td><td style=\"text-align: right;\">            0</td></tr>\\n<tr><td>drivetruck.2</td><td style=\"text-align: right;\">            10</td><td style=\"text-align: right;\">             0</td><td style=\"text-align: right;\">            5</td></tr>\\n<tr><td>loadtruck.2 </td><td style=\"text-align: right;\">             8</td><td style=\"text-align: right;\">             0</td><td style=\"text-align: right;\">            0</td></tr>\\n</tbody>\\n</table>'"
      ]
     },
     "metadata": {},
     "output_type": "display_data"
    },
    {
     "name": "stdout",
     "output_type": "stream",
     "text": [
      "This subset is NOT well-formed\n"
     ]
    },
    {
     "data": {
      "text/html": [
       "<table>\n",
       "<thead>\n",
       "<tr><th>             </th><th style=\"text-align: right;\">  drivetruck.1</th><th style=\"text-align: right;\">  unloadtruck.2</th><th style=\"text-align: right;\">  loadtruck.2</th></tr>\n",
       "</thead>\n",
       "<tbody>\n",
       "<tr><td>drivetruck.1 </td><td style=\"text-align: right;\">             0</td><td style=\"text-align: right;\">              0</td><td style=\"text-align: right;\">            0</td></tr>\n",
       "<tr><td>unloadtruck.2</td><td style=\"text-align: right;\">             6</td><td style=\"text-align: right;\">              0</td><td style=\"text-align: right;\">            1</td></tr>\n",
       "<tr><td>loadtruck.2  </td><td style=\"text-align: right;\">             8</td><td style=\"text-align: right;\">              1</td><td style=\"text-align: right;\">            0</td></tr>\n",
       "</tbody>\n",
       "</table>"
      ],
      "text/plain": [
       "'<table>\\n<thead>\\n<tr><th>             </th><th style=\"text-align: right;\">  drivetruck.1</th><th style=\"text-align: right;\">  unloadtruck.2</th><th style=\"text-align: right;\">  loadtruck.2</th></tr>\\n</thead>\\n<tbody>\\n<tr><td>drivetruck.1 </td><td style=\"text-align: right;\">             0</td><td style=\"text-align: right;\">              0</td><td style=\"text-align: right;\">            0</td></tr>\\n<tr><td>unloadtruck.2</td><td style=\"text-align: right;\">             6</td><td style=\"text-align: right;\">              0</td><td style=\"text-align: right;\">            1</td></tr>\\n<tr><td>loadtruck.2  </td><td style=\"text-align: right;\">             8</td><td style=\"text-align: right;\">              1</td><td style=\"text-align: right;\">            0</td></tr>\\n</tbody>\\n</table>'"
      ]
     },
     "metadata": {},
     "output_type": "display_data"
    },
    {
     "name": "stdout",
     "output_type": "stream",
     "text": [
      "This subset is NOT well-formed\n"
     ]
    },
    {
     "data": {
      "text/html": [
       "<table>\n",
       "<thead>\n",
       "<tr><th>            </th><th style=\"text-align: right;\">  drivetruck.1</th><th style=\"text-align: right;\">  loadtruck.2</th><th style=\"text-align: right;\">  walk.1</th></tr>\n",
       "</thead>\n",
       "<tbody>\n",
       "<tr><td>drivetruck.1</td><td style=\"text-align: right;\">             0</td><td style=\"text-align: right;\">            0</td><td style=\"text-align: right;\">       0</td></tr>\n",
       "<tr><td>loadtruck.2 </td><td style=\"text-align: right;\">             8</td><td style=\"text-align: right;\">            0</td><td style=\"text-align: right;\">       0</td></tr>\n",
       "<tr><td>walk.1      </td><td style=\"text-align: right;\">             0</td><td style=\"text-align: right;\">            0</td><td style=\"text-align: right;\">       0</td></tr>\n",
       "</tbody>\n",
       "</table>"
      ],
      "text/plain": [
       "'<table>\\n<thead>\\n<tr><th>            </th><th style=\"text-align: right;\">  drivetruck.1</th><th style=\"text-align: right;\">  loadtruck.2</th><th style=\"text-align: right;\">  walk.1</th></tr>\\n</thead>\\n<tbody>\\n<tr><td>drivetruck.1</td><td style=\"text-align: right;\">             0</td><td style=\"text-align: right;\">            0</td><td style=\"text-align: right;\">       0</td></tr>\\n<tr><td>loadtruck.2 </td><td style=\"text-align: right;\">             8</td><td style=\"text-align: right;\">            0</td><td style=\"text-align: right;\">       0</td></tr>\\n<tr><td>walk.1      </td><td style=\"text-align: right;\">             0</td><td style=\"text-align: right;\">            0</td><td style=\"text-align: right;\">       0</td></tr>\\n</tbody>\\n</table>'"
      ]
     },
     "metadata": {},
     "output_type": "display_data"
    },
    {
     "name": "stdout",
     "output_type": "stream",
     "text": [
      "This subset is well-formed.\n",
      "This subset is valid.\n",
      "Adding this subset {'drivetruck.1', 'loadtruck.2', 'walk.1'} to the locm2 transition set.\n",
      "Hole that is covered now:\n",
      "['drivetruck.1', 'loadtruck.2']\n"
     ]
    },
    {
     "data": {
      "text/markdown": [
       "#### Hole 19: {'drivetruck.2', 'walk.1'}"
      ],
      "text/plain": [
       "<IPython.core.display.Markdown object>"
      ]
     },
     "metadata": {},
     "output_type": "display_data"
    },
    {
     "name": "stdout",
     "output_type": "stream",
     "text": [
      "{'drivetruck.2', 'disembarktruck.2', 'walk.1'}\n",
      "{'drivetruck.2', 'loadtruck.2', 'walk.1'}\n",
      "{'boardtruck.2', 'drivetruck.2', 'walk.1'}\n",
      "{'drivetruck.2', 'walk.2', 'walk.1'}\n",
      "{'drivetruck.1', 'drivetruck.2', 'walk.1'}\n",
      "{'unloadtruck.2', 'drivetruck.2', 'walk.1'}\n"
     ]
    },
    {
     "data": {
      "text/markdown": [
       "Checking candidate set *{'unloadtruck.2', 'drivetruck.2', 'walk.1'}* of class **Location** for well formedness and Validity"
      ],
      "text/plain": [
       "<IPython.core.display.Markdown object>"
      ]
     },
     "metadata": {},
     "output_type": "display_data"
    },
    {
     "data": {
      "text/html": [
       "<table>\n",
       "<thead>\n",
       "<tr><th>                </th><th style=\"text-align: right;\">  drivetruck.2</th><th style=\"text-align: right;\">  disembarktruck.2</th><th style=\"text-align: right;\">  walk.1</th></tr>\n",
       "</thead>\n",
       "<tbody>\n",
       "<tr><td>drivetruck.2    </td><td style=\"text-align: right;\">             0</td><td style=\"text-align: right;\">                 9</td><td style=\"text-align: right;\">       0</td></tr>\n",
       "<tr><td>disembarktruck.2</td><td style=\"text-align: right;\">             1</td><td style=\"text-align: right;\">                 0</td><td style=\"text-align: right;\">       2</td></tr>\n",
       "<tr><td>walk.1          </td><td style=\"text-align: right;\">             5</td><td style=\"text-align: right;\">                 0</td><td style=\"text-align: right;\">       0</td></tr>\n",
       "</tbody>\n",
       "</table>"
      ],
      "text/plain": [
       "'<table>\\n<thead>\\n<tr><th>                </th><th style=\"text-align: right;\">  drivetruck.2</th><th style=\"text-align: right;\">  disembarktruck.2</th><th style=\"text-align: right;\">  walk.1</th></tr>\\n</thead>\\n<tbody>\\n<tr><td>drivetruck.2    </td><td style=\"text-align: right;\">             0</td><td style=\"text-align: right;\">                 9</td><td style=\"text-align: right;\">       0</td></tr>\\n<tr><td>disembarktruck.2</td><td style=\"text-align: right;\">             1</td><td style=\"text-align: right;\">                 0</td><td style=\"text-align: right;\">       2</td></tr>\\n<tr><td>walk.1          </td><td style=\"text-align: right;\">             5</td><td style=\"text-align: right;\">                 0</td><td style=\"text-align: right;\">       0</td></tr>\\n</tbody>\\n</table>'"
      ]
     },
     "metadata": {},
     "output_type": "display_data"
    },
    {
     "name": "stdout",
     "output_type": "stream",
     "text": [
      "This subset is NOT well-formed\n"
     ]
    },
    {
     "data": {
      "text/html": [
       "<table>\n",
       "<thead>\n",
       "<tr><th>            </th><th style=\"text-align: right;\">  drivetruck.2</th><th style=\"text-align: right;\">  loadtruck.2</th><th style=\"text-align: right;\">  walk.1</th></tr>\n",
       "</thead>\n",
       "<tbody>\n",
       "<tr><td>drivetruck.2</td><td style=\"text-align: right;\">             0</td><td style=\"text-align: right;\">            5</td><td style=\"text-align: right;\">       0</td></tr>\n",
       "<tr><td>loadtruck.2 </td><td style=\"text-align: right;\">             0</td><td style=\"text-align: right;\">            0</td><td style=\"text-align: right;\">       0</td></tr>\n",
       "<tr><td>walk.1      </td><td style=\"text-align: right;\">             5</td><td style=\"text-align: right;\">            0</td><td style=\"text-align: right;\">       0</td></tr>\n",
       "</tbody>\n",
       "</table>"
      ],
      "text/plain": [
       "'<table>\\n<thead>\\n<tr><th>            </th><th style=\"text-align: right;\">  drivetruck.2</th><th style=\"text-align: right;\">  loadtruck.2</th><th style=\"text-align: right;\">  walk.1</th></tr>\\n</thead>\\n<tbody>\\n<tr><td>drivetruck.2</td><td style=\"text-align: right;\">             0</td><td style=\"text-align: right;\">            5</td><td style=\"text-align: right;\">       0</td></tr>\\n<tr><td>loadtruck.2 </td><td style=\"text-align: right;\">             0</td><td style=\"text-align: right;\">            0</td><td style=\"text-align: right;\">       0</td></tr>\\n<tr><td>walk.1      </td><td style=\"text-align: right;\">             5</td><td style=\"text-align: right;\">            0</td><td style=\"text-align: right;\">       0</td></tr>\\n</tbody>\\n</table>'"
      ]
     },
     "metadata": {},
     "output_type": "display_data"
    },
    {
     "name": "stdout",
     "output_type": "stream",
     "text": [
      "This subset is well-formed.\n",
      "This subset is valid.\n",
      "Adding this subset {'drivetruck.2', 'loadtruck.2', 'walk.1'} to the locm2 transition set.\n",
      "Hole that is covered now:\n",
      "['drivetruck.2', 'walk.1']\n",
      "{'drivetruck.2', 'disembarktruck.2', 'walk.1'}\n",
      "{'drivetruck.2', 'loadtruck.2', 'walk.1'}\n",
      "{'boardtruck.2', 'drivetruck.2', 'walk.1'}\n",
      "{'drivetruck.2', 'walk.2', 'walk.1'}\n",
      "{'drivetruck.1', 'drivetruck.2', 'walk.1'}\n",
      "{'unloadtruck.2', 'drivetruck.2', 'walk.1'}\n",
      "{'drivetruck.1', 'drivetruck.2', 'unloadtruck.2', 'walk.1'}\n",
      "{'drivetruck.2', 'disembarktruck.2', 'loadtruck.2', 'walk.1'}\n",
      "{'boardtruck.2', 'drivetruck.2', 'drivetruck.1', 'walk.1'}\n",
      "{'unloadtruck.2', 'drivetruck.2', 'loadtruck.2', 'walk.1'}\n",
      "{'unloadtruck.2', 'drivetruck.2', 'disembarktruck.2', 'walk.1'}\n",
      "{'boardtruck.2', 'drivetruck.2', 'disembarktruck.2', 'walk.1'}\n",
      "{'drivetruck.2', 'walk.2', 'loadtruck.2', 'walk.1'}\n",
      "{'boardtruck.2', 'drivetruck.2', 'unloadtruck.2', 'walk.1'}\n",
      "{'unloadtruck.2', 'drivetruck.2', 'walk.2', 'walk.1'}\n",
      "{'drivetruck.1', 'drivetruck.2', 'disembarktruck.2', 'walk.1'}\n",
      "{'drivetruck.1', 'drivetruck.2', 'walk.2', 'walk.1'}\n",
      "{'drivetruck.2', 'walk.2', 'disembarktruck.2', 'walk.1'}\n",
      "{'boardtruck.2', 'drivetruck.2', 'walk.2', 'walk.1'}\n",
      "{'drivetruck.1', 'drivetruck.2', 'loadtruck.2', 'walk.1'}\n",
      "{'boardtruck.2', 'drivetruck.2', 'loadtruck.2', 'walk.1'}\n"
     ]
    },
    {
     "data": {
      "text/markdown": [
       "Checking candidate set *{'boardtruck.2', 'drivetruck.2', 'loadtruck.2', 'walk.1'}* of class **Location** for well formedness and Validity"
      ],
      "text/plain": [
       "<IPython.core.display.Markdown object>"
      ]
     },
     "metadata": {},
     "output_type": "display_data"
    },
    {
     "data": {
      "text/html": [
       "<table>\n",
       "<thead>\n",
       "<tr><th>                </th><th style=\"text-align: right;\">  drivetruck.2</th><th style=\"text-align: right;\">  disembarktruck.2</th><th style=\"text-align: right;\">  walk.1</th></tr>\n",
       "</thead>\n",
       "<tbody>\n",
       "<tr><td>drivetruck.2    </td><td style=\"text-align: right;\">             0</td><td style=\"text-align: right;\">                 9</td><td style=\"text-align: right;\">       0</td></tr>\n",
       "<tr><td>disembarktruck.2</td><td style=\"text-align: right;\">             1</td><td style=\"text-align: right;\">                 0</td><td style=\"text-align: right;\">       2</td></tr>\n",
       "<tr><td>walk.1          </td><td style=\"text-align: right;\">             5</td><td style=\"text-align: right;\">                 0</td><td style=\"text-align: right;\">       0</td></tr>\n",
       "</tbody>\n",
       "</table>"
      ],
      "text/plain": [
       "'<table>\\n<thead>\\n<tr><th>                </th><th style=\"text-align: right;\">  drivetruck.2</th><th style=\"text-align: right;\">  disembarktruck.2</th><th style=\"text-align: right;\">  walk.1</th></tr>\\n</thead>\\n<tbody>\\n<tr><td>drivetruck.2    </td><td style=\"text-align: right;\">             0</td><td style=\"text-align: right;\">                 9</td><td style=\"text-align: right;\">       0</td></tr>\\n<tr><td>disembarktruck.2</td><td style=\"text-align: right;\">             1</td><td style=\"text-align: right;\">                 0</td><td style=\"text-align: right;\">       2</td></tr>\\n<tr><td>walk.1          </td><td style=\"text-align: right;\">             5</td><td style=\"text-align: right;\">                 0</td><td style=\"text-align: right;\">       0</td></tr>\\n</tbody>\\n</table>'"
      ]
     },
     "metadata": {},
     "output_type": "display_data"
    },
    {
     "name": "stdout",
     "output_type": "stream",
     "text": [
      "This subset is NOT well-formed\n"
     ]
    },
    {
     "data": {
      "text/html": [
       "<table>\n",
       "<thead>\n",
       "<tr><th>            </th><th style=\"text-align: right;\">  drivetruck.2</th><th style=\"text-align: right;\">  loadtruck.2</th><th style=\"text-align: right;\">  walk.1</th></tr>\n",
       "</thead>\n",
       "<tbody>\n",
       "<tr><td>drivetruck.2</td><td style=\"text-align: right;\">             0</td><td style=\"text-align: right;\">            5</td><td style=\"text-align: right;\">       0</td></tr>\n",
       "<tr><td>loadtruck.2 </td><td style=\"text-align: right;\">             0</td><td style=\"text-align: right;\">            0</td><td style=\"text-align: right;\">       0</td></tr>\n",
       "<tr><td>walk.1      </td><td style=\"text-align: right;\">             5</td><td style=\"text-align: right;\">            0</td><td style=\"text-align: right;\">       0</td></tr>\n",
       "</tbody>\n",
       "</table>"
      ],
      "text/plain": [
       "'<table>\\n<thead>\\n<tr><th>            </th><th style=\"text-align: right;\">  drivetruck.2</th><th style=\"text-align: right;\">  loadtruck.2</th><th style=\"text-align: right;\">  walk.1</th></tr>\\n</thead>\\n<tbody>\\n<tr><td>drivetruck.2</td><td style=\"text-align: right;\">             0</td><td style=\"text-align: right;\">            5</td><td style=\"text-align: right;\">       0</td></tr>\\n<tr><td>loadtruck.2 </td><td style=\"text-align: right;\">             0</td><td style=\"text-align: right;\">            0</td><td style=\"text-align: right;\">       0</td></tr>\\n<tr><td>walk.1      </td><td style=\"text-align: right;\">             5</td><td style=\"text-align: right;\">            0</td><td style=\"text-align: right;\">       0</td></tr>\\n</tbody>\\n</table>'"
      ]
     },
     "metadata": {},
     "output_type": "display_data"
    },
    {
     "name": "stdout",
     "output_type": "stream",
     "text": [
      "This subset is well-formed.\n",
      "This subset is valid.\n",
      "Adding this subset {'drivetruck.2', 'loadtruck.2', 'walk.1'} to the locm2 transition set.\n",
      "Hole that is covered now:\n",
      "['drivetruck.2', 'walk.1']\n",
      "{'drivetruck.2', 'disembarktruck.2', 'walk.1'}\n",
      "{'drivetruck.2', 'loadtruck.2', 'walk.1'}\n",
      "{'boardtruck.2', 'drivetruck.2', 'walk.1'}\n",
      "{'drivetruck.2', 'walk.2', 'walk.1'}\n",
      "{'drivetruck.1', 'drivetruck.2', 'walk.1'}\n",
      "{'unloadtruck.2', 'drivetruck.2', 'walk.1'}\n",
      "{'drivetruck.1', 'drivetruck.2', 'unloadtruck.2', 'walk.1'}\n",
      "{'drivetruck.2', 'disembarktruck.2', 'loadtruck.2', 'walk.1'}\n",
      "{'boardtruck.2', 'drivetruck.2', 'drivetruck.1', 'walk.1'}\n",
      "{'unloadtruck.2', 'drivetruck.2', 'loadtruck.2', 'walk.1'}\n",
      "{'unloadtruck.2', 'drivetruck.2', 'disembarktruck.2', 'walk.1'}\n",
      "{'boardtruck.2', 'drivetruck.2', 'disembarktruck.2', 'walk.1'}\n",
      "{'drivetruck.2', 'walk.2', 'loadtruck.2', 'walk.1'}\n",
      "{'boardtruck.2', 'drivetruck.2', 'unloadtruck.2', 'walk.1'}\n",
      "{'unloadtruck.2', 'drivetruck.2', 'walk.2', 'walk.1'}\n",
      "{'drivetruck.1', 'drivetruck.2', 'disembarktruck.2', 'walk.1'}\n",
      "{'drivetruck.1', 'drivetruck.2', 'walk.2', 'walk.1'}\n",
      "{'drivetruck.2', 'walk.2', 'disembarktruck.2', 'walk.1'}\n",
      "{'boardtruck.2', 'drivetruck.2', 'walk.2', 'walk.1'}\n",
      "{'drivetruck.1', 'drivetruck.2', 'loadtruck.2', 'walk.1'}\n",
      "{'boardtruck.2', 'drivetruck.2', 'loadtruck.2', 'walk.1'}\n",
      "{'unloadtruck.2', 'drivetruck.1', 'walk.1', 'drivetruck.2', 'walk.2'}\n",
      "{'unloadtruck.2', 'disembarktruck.2', 'walk.1', 'drivetruck.2', 'walk.2'}\n",
      "{'drivetruck.1', 'walk.1', 'boardtruck.2', 'drivetruck.2', 'walk.2'}\n",
      "{'unloadtruck.2', 'walk.1', 'boardtruck.2', 'drivetruck.2', 'walk.2'}\n",
      "{'unloadtruck.2', 'disembarktruck.2', 'drivetruck.1', 'walk.1', 'drivetruck.2'}\n",
      "{'unloadtruck.2', 'loadtruck.2', 'walk.1', 'boardtruck.2', 'drivetruck.2'}\n",
      "{'disembarktruck.2', 'loadtruck.2', 'walk.1', 'boardtruck.2', 'drivetruck.2'}\n",
      "{'unloadtruck.2', 'drivetruck.1', 'walk.1', 'boardtruck.2', 'drivetruck.2'}\n",
      "{'disembarktruck.2', 'drivetruck.1', 'walk.1', 'drivetruck.2', 'walk.2'}\n",
      "{'unloadtruck.2', 'disembarktruck.2', 'walk.1', 'boardtruck.2', 'drivetruck.2'}\n",
      "{'disembarktruck.2', 'loadtruck.2', 'walk.1', 'drivetruck.2', 'walk.2'}\n",
      "{'disembarktruck.2', 'walk.1', 'boardtruck.2', 'drivetruck.2', 'walk.2'}\n",
      "{'unloadtruck.2', 'loadtruck.2', 'drivetruck.1', 'walk.1', 'drivetruck.2'}\n",
      "{'loadtruck.2', 'drivetruck.1', 'walk.1', 'boardtruck.2', 'drivetruck.2'}\n",
      "{'loadtruck.2', 'drivetruck.1', 'walk.1', 'drivetruck.2', 'walk.2'}\n",
      "{'unloadtruck.2', 'disembarktruck.2', 'loadtruck.2', 'walk.1', 'drivetruck.2'}\n",
      "{'loadtruck.2', 'walk.1', 'boardtruck.2', 'drivetruck.2', 'walk.2'}\n",
      "{'disembarktruck.2', 'drivetruck.1', 'walk.1', 'boardtruck.2', 'drivetruck.2'}\n",
      "{'unloadtruck.2', 'loadtruck.2', 'walk.1', 'drivetruck.2', 'walk.2'}\n",
      "{'disembarktruck.2', 'loadtruck.2', 'drivetruck.1', 'walk.1', 'drivetruck.2'}\n"
     ]
    },
    {
     "data": {
      "text/markdown": [
       "Checking candidate set *{'disembarktruck.2', 'loadtruck.2', 'drivetruck.1', 'walk.1', 'drivetruck.2'}* of class **Location** for well formedness and Validity"
      ],
      "text/plain": [
       "<IPython.core.display.Markdown object>"
      ]
     },
     "metadata": {},
     "output_type": "display_data"
    },
    {
     "data": {
      "text/html": [
       "<table>\n",
       "<thead>\n",
       "<tr><th>                </th><th style=\"text-align: right;\">  drivetruck.2</th><th style=\"text-align: right;\">  disembarktruck.2</th><th style=\"text-align: right;\">  walk.1</th></tr>\n",
       "</thead>\n",
       "<tbody>\n",
       "<tr><td>drivetruck.2    </td><td style=\"text-align: right;\">             0</td><td style=\"text-align: right;\">                 9</td><td style=\"text-align: right;\">       0</td></tr>\n",
       "<tr><td>disembarktruck.2</td><td style=\"text-align: right;\">             1</td><td style=\"text-align: right;\">                 0</td><td style=\"text-align: right;\">       2</td></tr>\n",
       "<tr><td>walk.1          </td><td style=\"text-align: right;\">             5</td><td style=\"text-align: right;\">                 0</td><td style=\"text-align: right;\">       0</td></tr>\n",
       "</tbody>\n",
       "</table>"
      ],
      "text/plain": [
       "'<table>\\n<thead>\\n<tr><th>                </th><th style=\"text-align: right;\">  drivetruck.2</th><th style=\"text-align: right;\">  disembarktruck.2</th><th style=\"text-align: right;\">  walk.1</th></tr>\\n</thead>\\n<tbody>\\n<tr><td>drivetruck.2    </td><td style=\"text-align: right;\">             0</td><td style=\"text-align: right;\">                 9</td><td style=\"text-align: right;\">       0</td></tr>\\n<tr><td>disembarktruck.2</td><td style=\"text-align: right;\">             1</td><td style=\"text-align: right;\">                 0</td><td style=\"text-align: right;\">       2</td></tr>\\n<tr><td>walk.1          </td><td style=\"text-align: right;\">             5</td><td style=\"text-align: right;\">                 0</td><td style=\"text-align: right;\">       0</td></tr>\\n</tbody>\\n</table>'"
      ]
     },
     "metadata": {},
     "output_type": "display_data"
    },
    {
     "name": "stdout",
     "output_type": "stream",
     "text": [
      "This subset is NOT well-formed\n"
     ]
    },
    {
     "data": {
      "text/html": [
       "<table>\n",
       "<thead>\n",
       "<tr><th>            </th><th style=\"text-align: right;\">  drivetruck.2</th><th style=\"text-align: right;\">  loadtruck.2</th><th style=\"text-align: right;\">  walk.1</th></tr>\n",
       "</thead>\n",
       "<tbody>\n",
       "<tr><td>drivetruck.2</td><td style=\"text-align: right;\">             0</td><td style=\"text-align: right;\">            5</td><td style=\"text-align: right;\">       0</td></tr>\n",
       "<tr><td>loadtruck.2 </td><td style=\"text-align: right;\">             0</td><td style=\"text-align: right;\">            0</td><td style=\"text-align: right;\">       0</td></tr>\n",
       "<tr><td>walk.1      </td><td style=\"text-align: right;\">             5</td><td style=\"text-align: right;\">            0</td><td style=\"text-align: right;\">       0</td></tr>\n",
       "</tbody>\n",
       "</table>"
      ],
      "text/plain": [
       "'<table>\\n<thead>\\n<tr><th>            </th><th style=\"text-align: right;\">  drivetruck.2</th><th style=\"text-align: right;\">  loadtruck.2</th><th style=\"text-align: right;\">  walk.1</th></tr>\\n</thead>\\n<tbody>\\n<tr><td>drivetruck.2</td><td style=\"text-align: right;\">             0</td><td style=\"text-align: right;\">            5</td><td style=\"text-align: right;\">       0</td></tr>\\n<tr><td>loadtruck.2 </td><td style=\"text-align: right;\">             0</td><td style=\"text-align: right;\">            0</td><td style=\"text-align: right;\">       0</td></tr>\\n<tr><td>walk.1      </td><td style=\"text-align: right;\">             5</td><td style=\"text-align: right;\">            0</td><td style=\"text-align: right;\">       0</td></tr>\\n</tbody>\\n</table>'"
      ]
     },
     "metadata": {},
     "output_type": "display_data"
    },
    {
     "name": "stdout",
     "output_type": "stream",
     "text": [
      "This subset is well-formed.\n",
      "This subset is valid.\n",
      "Adding this subset {'drivetruck.2', 'loadtruck.2', 'walk.1'} to the locm2 transition set.\n",
      "Hole that is covered now:\n",
      "['drivetruck.2', 'walk.1']\n",
      "{'drivetruck.2', 'disembarktruck.2', 'walk.1'}\n",
      "{'drivetruck.2', 'loadtruck.2', 'walk.1'}\n",
      "{'boardtruck.2', 'drivetruck.2', 'walk.1'}\n",
      "{'drivetruck.2', 'walk.2', 'walk.1'}\n",
      "{'drivetruck.1', 'drivetruck.2', 'walk.1'}\n",
      "{'unloadtruck.2', 'drivetruck.2', 'walk.1'}\n",
      "{'drivetruck.1', 'drivetruck.2', 'unloadtruck.2', 'walk.1'}\n",
      "{'drivetruck.2', 'disembarktruck.2', 'loadtruck.2', 'walk.1'}\n",
      "{'boardtruck.2', 'drivetruck.2', 'drivetruck.1', 'walk.1'}\n",
      "{'unloadtruck.2', 'drivetruck.2', 'loadtruck.2', 'walk.1'}\n",
      "{'unloadtruck.2', 'drivetruck.2', 'disembarktruck.2', 'walk.1'}\n",
      "{'boardtruck.2', 'drivetruck.2', 'disembarktruck.2', 'walk.1'}\n",
      "{'drivetruck.2', 'walk.2', 'loadtruck.2', 'walk.1'}\n",
      "{'boardtruck.2', 'drivetruck.2', 'unloadtruck.2', 'walk.1'}\n",
      "{'unloadtruck.2', 'drivetruck.2', 'walk.2', 'walk.1'}\n",
      "{'drivetruck.1', 'drivetruck.2', 'disembarktruck.2', 'walk.1'}\n",
      "{'drivetruck.1', 'drivetruck.2', 'walk.2', 'walk.1'}\n",
      "{'drivetruck.2', 'walk.2', 'disembarktruck.2', 'walk.1'}\n",
      "{'boardtruck.2', 'drivetruck.2', 'walk.2', 'walk.1'}\n",
      "{'drivetruck.1', 'drivetruck.2', 'loadtruck.2', 'walk.1'}\n",
      "{'boardtruck.2', 'drivetruck.2', 'loadtruck.2', 'walk.1'}\n",
      "{'unloadtruck.2', 'drivetruck.1', 'walk.1', 'drivetruck.2', 'walk.2'}\n",
      "{'unloadtruck.2', 'disembarktruck.2', 'walk.1', 'drivetruck.2', 'walk.2'}\n",
      "{'drivetruck.1', 'walk.1', 'boardtruck.2', 'drivetruck.2', 'walk.2'}\n",
      "{'unloadtruck.2', 'walk.1', 'boardtruck.2', 'drivetruck.2', 'walk.2'}\n",
      "{'unloadtruck.2', 'disembarktruck.2', 'drivetruck.1', 'walk.1', 'drivetruck.2'}\n",
      "{'unloadtruck.2', 'loadtruck.2', 'walk.1', 'boardtruck.2', 'drivetruck.2'}\n",
      "{'disembarktruck.2', 'loadtruck.2', 'walk.1', 'boardtruck.2', 'drivetruck.2'}\n",
      "{'unloadtruck.2', 'drivetruck.1', 'walk.1', 'boardtruck.2', 'drivetruck.2'}\n",
      "{'disembarktruck.2', 'drivetruck.1', 'walk.1', 'drivetruck.2', 'walk.2'}\n",
      "{'unloadtruck.2', 'disembarktruck.2', 'walk.1', 'boardtruck.2', 'drivetruck.2'}\n",
      "{'disembarktruck.2', 'loadtruck.2', 'walk.1', 'drivetruck.2', 'walk.2'}\n",
      "{'disembarktruck.2', 'walk.1', 'boardtruck.2', 'drivetruck.2', 'walk.2'}\n",
      "{'unloadtruck.2', 'loadtruck.2', 'drivetruck.1', 'walk.1', 'drivetruck.2'}\n",
      "{'loadtruck.2', 'drivetruck.1', 'walk.1', 'boardtruck.2', 'drivetruck.2'}\n",
      "{'loadtruck.2', 'drivetruck.1', 'walk.1', 'drivetruck.2', 'walk.2'}\n",
      "{'unloadtruck.2', 'disembarktruck.2', 'loadtruck.2', 'walk.1', 'drivetruck.2'}\n",
      "{'loadtruck.2', 'walk.1', 'boardtruck.2', 'drivetruck.2', 'walk.2'}\n",
      "{'disembarktruck.2', 'drivetruck.1', 'walk.1', 'boardtruck.2', 'drivetruck.2'}\n",
      "{'unloadtruck.2', 'loadtruck.2', 'walk.1', 'drivetruck.2', 'walk.2'}\n",
      "{'disembarktruck.2', 'loadtruck.2', 'drivetruck.1', 'walk.1', 'drivetruck.2'}\n",
      "{'unloadtruck.2', 'loadtruck.2', 'walk.1', 'boardtruck.2', 'drivetruck.2', 'walk.2'}\n",
      "{'disembarktruck.2', 'loadtruck.2', 'drivetruck.1', 'walk.1', 'boardtruck.2', 'drivetruck.2'}\n",
      "{'unloadtruck.2', 'drivetruck.1', 'walk.1', 'boardtruck.2', 'drivetruck.2', 'walk.2'}\n",
      "{'unloadtruck.2', 'disembarktruck.2', 'drivetruck.1', 'walk.1', 'drivetruck.2', 'walk.2'}\n",
      "{'unloadtruck.2', 'disembarktruck.2', 'loadtruck.2', 'walk.1', 'drivetruck.2', 'walk.2'}\n",
      "{'unloadtruck.2', 'loadtruck.2', 'drivetruck.1', 'walk.1', 'boardtruck.2', 'drivetruck.2'}\n",
      "{'loadtruck.2', 'drivetruck.1', 'walk.1', 'boardtruck.2', 'drivetruck.2', 'walk.2'}\n",
      "{'unloadtruck.2', 'disembarktruck.2', 'drivetruck.1', 'walk.1', 'boardtruck.2', 'drivetruck.2'}\n",
      "{'disembarktruck.2', 'loadtruck.2', 'drivetruck.1', 'walk.1', 'drivetruck.2', 'walk.2'}\n",
      "{'disembarktruck.2', 'drivetruck.1', 'walk.1', 'boardtruck.2', 'drivetruck.2', 'walk.2'}\n",
      "{'unloadtruck.2', 'disembarktruck.2', 'walk.1', 'boardtruck.2', 'drivetruck.2', 'walk.2'}\n",
      "{'unloadtruck.2', 'loadtruck.2', 'drivetruck.1', 'walk.1', 'drivetruck.2', 'walk.2'}\n",
      "{'unloadtruck.2', 'disembarktruck.2', 'loadtruck.2', 'walk.1', 'boardtruck.2', 'drivetruck.2'}\n",
      "{'unloadtruck.2', 'disembarktruck.2', 'loadtruck.2', 'drivetruck.1', 'walk.1', 'drivetruck.2'}\n",
      "{'disembarktruck.2', 'loadtruck.2', 'walk.1', 'boardtruck.2', 'drivetruck.2', 'walk.2'}\n"
     ]
    },
    {
     "data": {
      "text/markdown": [
       "Checking candidate set *{'disembarktruck.2', 'loadtruck.2', 'walk.1', 'boardtruck.2', 'drivetruck.2', 'walk.2'}* of class **Location** for well formedness and Validity"
      ],
      "text/plain": [
       "<IPython.core.display.Markdown object>"
      ]
     },
     "metadata": {},
     "output_type": "display_data"
    },
    {
     "data": {
      "text/html": [
       "<table>\n",
       "<thead>\n",
       "<tr><th>                </th><th style=\"text-align: right;\">  drivetruck.2</th><th style=\"text-align: right;\">  disembarktruck.2</th><th style=\"text-align: right;\">  walk.1</th></tr>\n",
       "</thead>\n",
       "<tbody>\n",
       "<tr><td>drivetruck.2    </td><td style=\"text-align: right;\">             0</td><td style=\"text-align: right;\">                 9</td><td style=\"text-align: right;\">       0</td></tr>\n",
       "<tr><td>disembarktruck.2</td><td style=\"text-align: right;\">             1</td><td style=\"text-align: right;\">                 0</td><td style=\"text-align: right;\">       2</td></tr>\n",
       "<tr><td>walk.1          </td><td style=\"text-align: right;\">             5</td><td style=\"text-align: right;\">                 0</td><td style=\"text-align: right;\">       0</td></tr>\n",
       "</tbody>\n",
       "</table>"
      ],
      "text/plain": [
       "'<table>\\n<thead>\\n<tr><th>                </th><th style=\"text-align: right;\">  drivetruck.2</th><th style=\"text-align: right;\">  disembarktruck.2</th><th style=\"text-align: right;\">  walk.1</th></tr>\\n</thead>\\n<tbody>\\n<tr><td>drivetruck.2    </td><td style=\"text-align: right;\">             0</td><td style=\"text-align: right;\">                 9</td><td style=\"text-align: right;\">       0</td></tr>\\n<tr><td>disembarktruck.2</td><td style=\"text-align: right;\">             1</td><td style=\"text-align: right;\">                 0</td><td style=\"text-align: right;\">       2</td></tr>\\n<tr><td>walk.1          </td><td style=\"text-align: right;\">             5</td><td style=\"text-align: right;\">                 0</td><td style=\"text-align: right;\">       0</td></tr>\\n</tbody>\\n</table>'"
      ]
     },
     "metadata": {},
     "output_type": "display_data"
    },
    {
     "name": "stdout",
     "output_type": "stream",
     "text": [
      "This subset is NOT well-formed\n"
     ]
    },
    {
     "data": {
      "text/html": [
       "<table>\n",
       "<thead>\n",
       "<tr><th>            </th><th style=\"text-align: right;\">  drivetruck.2</th><th style=\"text-align: right;\">  loadtruck.2</th><th style=\"text-align: right;\">  walk.1</th></tr>\n",
       "</thead>\n",
       "<tbody>\n",
       "<tr><td>drivetruck.2</td><td style=\"text-align: right;\">             0</td><td style=\"text-align: right;\">            5</td><td style=\"text-align: right;\">       0</td></tr>\n",
       "<tr><td>loadtruck.2 </td><td style=\"text-align: right;\">             0</td><td style=\"text-align: right;\">            0</td><td style=\"text-align: right;\">       0</td></tr>\n",
       "<tr><td>walk.1      </td><td style=\"text-align: right;\">             5</td><td style=\"text-align: right;\">            0</td><td style=\"text-align: right;\">       0</td></tr>\n",
       "</tbody>\n",
       "</table>"
      ],
      "text/plain": [
       "'<table>\\n<thead>\\n<tr><th>            </th><th style=\"text-align: right;\">  drivetruck.2</th><th style=\"text-align: right;\">  loadtruck.2</th><th style=\"text-align: right;\">  walk.1</th></tr>\\n</thead>\\n<tbody>\\n<tr><td>drivetruck.2</td><td style=\"text-align: right;\">             0</td><td style=\"text-align: right;\">            5</td><td style=\"text-align: right;\">       0</td></tr>\\n<tr><td>loadtruck.2 </td><td style=\"text-align: right;\">             0</td><td style=\"text-align: right;\">            0</td><td style=\"text-align: right;\">       0</td></tr>\\n<tr><td>walk.1      </td><td style=\"text-align: right;\">             5</td><td style=\"text-align: right;\">            0</td><td style=\"text-align: right;\">       0</td></tr>\\n</tbody>\\n</table>'"
      ]
     },
     "metadata": {},
     "output_type": "display_data"
    },
    {
     "name": "stdout",
     "output_type": "stream",
     "text": [
      "This subset is well-formed.\n",
      "This subset is valid.\n",
      "Adding this subset {'drivetruck.2', 'loadtruck.2', 'walk.1'} to the locm2 transition set.\n",
      "Hole that is covered now:\n",
      "['drivetruck.2', 'walk.1']\n",
      "{'drivetruck.2', 'disembarktruck.2', 'walk.1'}\n",
      "{'drivetruck.2', 'loadtruck.2', 'walk.1'}\n",
      "{'boardtruck.2', 'drivetruck.2', 'walk.1'}\n",
      "{'drivetruck.2', 'walk.2', 'walk.1'}\n",
      "{'drivetruck.1', 'drivetruck.2', 'walk.1'}\n",
      "{'unloadtruck.2', 'drivetruck.2', 'walk.1'}\n",
      "{'drivetruck.1', 'drivetruck.2', 'unloadtruck.2', 'walk.1'}\n",
      "{'drivetruck.2', 'disembarktruck.2', 'loadtruck.2', 'walk.1'}\n",
      "{'boardtruck.2', 'drivetruck.2', 'drivetruck.1', 'walk.1'}\n",
      "{'unloadtruck.2', 'drivetruck.2', 'loadtruck.2', 'walk.1'}\n",
      "{'unloadtruck.2', 'drivetruck.2', 'disembarktruck.2', 'walk.1'}\n",
      "{'boardtruck.2', 'drivetruck.2', 'disembarktruck.2', 'walk.1'}\n",
      "{'drivetruck.2', 'walk.2', 'loadtruck.2', 'walk.1'}\n",
      "{'boardtruck.2', 'drivetruck.2', 'unloadtruck.2', 'walk.1'}\n",
      "{'unloadtruck.2', 'drivetruck.2', 'walk.2', 'walk.1'}\n",
      "{'drivetruck.1', 'drivetruck.2', 'disembarktruck.2', 'walk.1'}\n",
      "{'drivetruck.1', 'drivetruck.2', 'walk.2', 'walk.1'}\n",
      "{'drivetruck.2', 'walk.2', 'disembarktruck.2', 'walk.1'}\n",
      "{'boardtruck.2', 'drivetruck.2', 'walk.2', 'walk.1'}\n",
      "{'drivetruck.1', 'drivetruck.2', 'loadtruck.2', 'walk.1'}\n",
      "{'boardtruck.2', 'drivetruck.2', 'loadtruck.2', 'walk.1'}\n",
      "{'unloadtruck.2', 'drivetruck.1', 'walk.1', 'drivetruck.2', 'walk.2'}\n",
      "{'unloadtruck.2', 'disembarktruck.2', 'walk.1', 'drivetruck.2', 'walk.2'}\n",
      "{'drivetruck.1', 'walk.1', 'boardtruck.2', 'drivetruck.2', 'walk.2'}\n",
      "{'unloadtruck.2', 'walk.1', 'boardtruck.2', 'drivetruck.2', 'walk.2'}\n",
      "{'unloadtruck.2', 'disembarktruck.2', 'drivetruck.1', 'walk.1', 'drivetruck.2'}\n",
      "{'unloadtruck.2', 'loadtruck.2', 'walk.1', 'boardtruck.2', 'drivetruck.2'}\n",
      "{'disembarktruck.2', 'loadtruck.2', 'walk.1', 'boardtruck.2', 'drivetruck.2'}\n",
      "{'unloadtruck.2', 'drivetruck.1', 'walk.1', 'boardtruck.2', 'drivetruck.2'}\n",
      "{'disembarktruck.2', 'drivetruck.1', 'walk.1', 'drivetruck.2', 'walk.2'}\n",
      "{'unloadtruck.2', 'disembarktruck.2', 'walk.1', 'boardtruck.2', 'drivetruck.2'}\n",
      "{'disembarktruck.2', 'loadtruck.2', 'walk.1', 'drivetruck.2', 'walk.2'}\n",
      "{'disembarktruck.2', 'walk.1', 'boardtruck.2', 'drivetruck.2', 'walk.2'}\n",
      "{'unloadtruck.2', 'loadtruck.2', 'drivetruck.1', 'walk.1', 'drivetruck.2'}\n",
      "{'loadtruck.2', 'drivetruck.1', 'walk.1', 'boardtruck.2', 'drivetruck.2'}\n",
      "{'loadtruck.2', 'drivetruck.1', 'walk.1', 'drivetruck.2', 'walk.2'}\n",
      "{'unloadtruck.2', 'disembarktruck.2', 'loadtruck.2', 'walk.1', 'drivetruck.2'}\n",
      "{'loadtruck.2', 'walk.1', 'boardtruck.2', 'drivetruck.2', 'walk.2'}\n",
      "{'disembarktruck.2', 'drivetruck.1', 'walk.1', 'boardtruck.2', 'drivetruck.2'}\n",
      "{'unloadtruck.2', 'loadtruck.2', 'walk.1', 'drivetruck.2', 'walk.2'}\n",
      "{'disembarktruck.2', 'loadtruck.2', 'drivetruck.1', 'walk.1', 'drivetruck.2'}\n",
      "{'unloadtruck.2', 'loadtruck.2', 'walk.1', 'boardtruck.2', 'drivetruck.2', 'walk.2'}\n",
      "{'disembarktruck.2', 'loadtruck.2', 'drivetruck.1', 'walk.1', 'boardtruck.2', 'drivetruck.2'}\n",
      "{'unloadtruck.2', 'drivetruck.1', 'walk.1', 'boardtruck.2', 'drivetruck.2', 'walk.2'}\n",
      "{'unloadtruck.2', 'disembarktruck.2', 'drivetruck.1', 'walk.1', 'drivetruck.2', 'walk.2'}\n",
      "{'unloadtruck.2', 'disembarktruck.2', 'loadtruck.2', 'walk.1', 'drivetruck.2', 'walk.2'}\n",
      "{'unloadtruck.2', 'loadtruck.2', 'drivetruck.1', 'walk.1', 'boardtruck.2', 'drivetruck.2'}\n",
      "{'loadtruck.2', 'drivetruck.1', 'walk.1', 'boardtruck.2', 'drivetruck.2', 'walk.2'}\n",
      "{'unloadtruck.2', 'disembarktruck.2', 'drivetruck.1', 'walk.1', 'boardtruck.2', 'drivetruck.2'}\n",
      "{'disembarktruck.2', 'loadtruck.2', 'drivetruck.1', 'walk.1', 'drivetruck.2', 'walk.2'}\n",
      "{'disembarktruck.2', 'drivetruck.1', 'walk.1', 'boardtruck.2', 'drivetruck.2', 'walk.2'}\n",
      "{'unloadtruck.2', 'disembarktruck.2', 'walk.1', 'boardtruck.2', 'drivetruck.2', 'walk.2'}\n",
      "{'unloadtruck.2', 'loadtruck.2', 'drivetruck.1', 'walk.1', 'drivetruck.2', 'walk.2'}\n",
      "{'unloadtruck.2', 'disembarktruck.2', 'loadtruck.2', 'walk.1', 'boardtruck.2', 'drivetruck.2'}\n",
      "{'unloadtruck.2', 'disembarktruck.2', 'loadtruck.2', 'drivetruck.1', 'walk.1', 'drivetruck.2'}\n",
      "{'disembarktruck.2', 'loadtruck.2', 'walk.1', 'boardtruck.2', 'drivetruck.2', 'walk.2'}\n",
      "{'unloadtruck.2', 'disembarktruck.2', 'loadtruck.2', 'drivetruck.1', 'walk.1', 'boardtruck.2', 'drivetruck.2'}\n",
      "{'disembarktruck.2', 'loadtruck.2', 'drivetruck.1', 'walk.1', 'boardtruck.2', 'drivetruck.2', 'walk.2'}\n",
      "{'unloadtruck.2', 'disembarktruck.2', 'loadtruck.2', 'drivetruck.1', 'walk.1', 'drivetruck.2', 'walk.2'}\n",
      "{'unloadtruck.2', 'disembarktruck.2', 'drivetruck.1', 'walk.1', 'boardtruck.2', 'drivetruck.2', 'walk.2'}\n",
      "{'unloadtruck.2', 'loadtruck.2', 'drivetruck.1', 'walk.1', 'boardtruck.2', 'drivetruck.2', 'walk.2'}\n",
      "{'unloadtruck.2', 'disembarktruck.2', 'loadtruck.2', 'walk.1', 'boardtruck.2', 'drivetruck.2', 'walk.2'}\n"
     ]
    },
    {
     "data": {
      "text/markdown": [
       "Checking candidate set *{'unloadtruck.2', 'disembarktruck.2', 'loadtruck.2', 'walk.1', 'boardtruck.2', 'drivetruck.2', 'walk.2'}* of class **Location** for well formedness and Validity"
      ],
      "text/plain": [
       "<IPython.core.display.Markdown object>"
      ]
     },
     "metadata": {},
     "output_type": "display_data"
    },
    {
     "data": {
      "text/html": [
       "<table>\n",
       "<thead>\n",
       "<tr><th>                </th><th style=\"text-align: right;\">  drivetruck.2</th><th style=\"text-align: right;\">  disembarktruck.2</th><th style=\"text-align: right;\">  walk.1</th></tr>\n",
       "</thead>\n",
       "<tbody>\n",
       "<tr><td>drivetruck.2    </td><td style=\"text-align: right;\">             0</td><td style=\"text-align: right;\">                 9</td><td style=\"text-align: right;\">       0</td></tr>\n",
       "<tr><td>disembarktruck.2</td><td style=\"text-align: right;\">             1</td><td style=\"text-align: right;\">                 0</td><td style=\"text-align: right;\">       2</td></tr>\n",
       "<tr><td>walk.1          </td><td style=\"text-align: right;\">             5</td><td style=\"text-align: right;\">                 0</td><td style=\"text-align: right;\">       0</td></tr>\n",
       "</tbody>\n",
       "</table>"
      ],
      "text/plain": [
       "'<table>\\n<thead>\\n<tr><th>                </th><th style=\"text-align: right;\">  drivetruck.2</th><th style=\"text-align: right;\">  disembarktruck.2</th><th style=\"text-align: right;\">  walk.1</th></tr>\\n</thead>\\n<tbody>\\n<tr><td>drivetruck.2    </td><td style=\"text-align: right;\">             0</td><td style=\"text-align: right;\">                 9</td><td style=\"text-align: right;\">       0</td></tr>\\n<tr><td>disembarktruck.2</td><td style=\"text-align: right;\">             1</td><td style=\"text-align: right;\">                 0</td><td style=\"text-align: right;\">       2</td></tr>\\n<tr><td>walk.1          </td><td style=\"text-align: right;\">             5</td><td style=\"text-align: right;\">                 0</td><td style=\"text-align: right;\">       0</td></tr>\\n</tbody>\\n</table>'"
      ]
     },
     "metadata": {},
     "output_type": "display_data"
    },
    {
     "name": "stdout",
     "output_type": "stream",
     "text": [
      "This subset is NOT well-formed\n"
     ]
    },
    {
     "data": {
      "text/html": [
       "<table>\n",
       "<thead>\n",
       "<tr><th>            </th><th style=\"text-align: right;\">  drivetruck.2</th><th style=\"text-align: right;\">  loadtruck.2</th><th style=\"text-align: right;\">  walk.1</th></tr>\n",
       "</thead>\n",
       "<tbody>\n",
       "<tr><td>drivetruck.2</td><td style=\"text-align: right;\">             0</td><td style=\"text-align: right;\">            5</td><td style=\"text-align: right;\">       0</td></tr>\n",
       "<tr><td>loadtruck.2 </td><td style=\"text-align: right;\">             0</td><td style=\"text-align: right;\">            0</td><td style=\"text-align: right;\">       0</td></tr>\n",
       "<tr><td>walk.1      </td><td style=\"text-align: right;\">             5</td><td style=\"text-align: right;\">            0</td><td style=\"text-align: right;\">       0</td></tr>\n",
       "</tbody>\n",
       "</table>"
      ],
      "text/plain": [
       "'<table>\\n<thead>\\n<tr><th>            </th><th style=\"text-align: right;\">  drivetruck.2</th><th style=\"text-align: right;\">  loadtruck.2</th><th style=\"text-align: right;\">  walk.1</th></tr>\\n</thead>\\n<tbody>\\n<tr><td>drivetruck.2</td><td style=\"text-align: right;\">             0</td><td style=\"text-align: right;\">            5</td><td style=\"text-align: right;\">       0</td></tr>\\n<tr><td>loadtruck.2 </td><td style=\"text-align: right;\">             0</td><td style=\"text-align: right;\">            0</td><td style=\"text-align: right;\">       0</td></tr>\\n<tr><td>walk.1      </td><td style=\"text-align: right;\">             5</td><td style=\"text-align: right;\">            0</td><td style=\"text-align: right;\">       0</td></tr>\\n</tbody>\\n</table>'"
      ]
     },
     "metadata": {},
     "output_type": "display_data"
    },
    {
     "name": "stdout",
     "output_type": "stream",
     "text": [
      "This subset is well-formed.\n",
      "This subset is valid.\n",
      "Adding this subset {'drivetruck.2', 'loadtruck.2', 'walk.1'} to the locm2 transition set.\n",
      "Hole that is covered now:\n",
      "['drivetruck.2', 'walk.1']\n"
     ]
    },
    {
     "data": {
      "text/markdown": [
       "#### Hole 20: {'loadtruck.2'}"
      ],
      "text/plain": [
       "<IPython.core.display.Markdown object>"
      ]
     },
     "metadata": {},
     "output_type": "display_data"
    },
    {
     "data": {
      "text/markdown": [
       "Hole frozenset({'loadtruck.2'}) is already covered."
      ],
      "text/plain": [
       "<IPython.core.display.Markdown object>"
      ]
     },
     "metadata": {},
     "output_type": "display_data"
    },
    {
     "data": {
      "text/markdown": [
       "#### Hole 21: {'boardtruck.2', 'drivetruck.2'}"
      ],
      "text/plain": [
       "<IPython.core.display.Markdown object>"
      ]
     },
     "metadata": {},
     "output_type": "display_data"
    },
    {
     "name": "stdout",
     "output_type": "stream",
     "text": [
      "{'boardtruck.2', 'drivetruck.2', 'drivetruck.1'}\n",
      "{'boardtruck.2', 'drivetruck.2', 'loadtruck.2'}\n",
      "{'boardtruck.2', 'drivetruck.2', 'disembarktruck.2'}\n",
      "{'boardtruck.2', 'drivetruck.2', 'walk.2'}\n",
      "{'boardtruck.2', 'drivetruck.2', 'walk.1'}\n",
      "{'boardtruck.2', 'drivetruck.2', 'unloadtruck.2'}\n"
     ]
    },
    {
     "data": {
      "text/markdown": [
       "Checking candidate set *{'boardtruck.2', 'drivetruck.2', 'unloadtruck.2'}* of class **Location** for well formedness and Validity"
      ],
      "text/plain": [
       "<IPython.core.display.Markdown object>"
      ]
     },
     "metadata": {},
     "output_type": "display_data"
    },
    {
     "data": {
      "text/html": [
       "<table>\n",
       "<thead>\n",
       "<tr><th>            </th><th style=\"text-align: right;\">  boardtruck.2</th><th style=\"text-align: right;\">  drivetruck.2</th><th style=\"text-align: right;\">  drivetruck.1</th></tr>\n",
       "</thead>\n",
       "<tbody>\n",
       "<tr><td>boardtruck.2</td><td style=\"text-align: right;\">             0</td><td style=\"text-align: right;\">             0</td><td style=\"text-align: right;\">             7</td></tr>\n",
       "<tr><td>drivetruck.2</td><td style=\"text-align: right;\">             0</td><td style=\"text-align: right;\">             0</td><td style=\"text-align: right;\">            10</td></tr>\n",
       "<tr><td>drivetruck.1</td><td style=\"text-align: right;\">             1</td><td style=\"text-align: right;\">            20</td><td style=\"text-align: right;\">             0</td></tr>\n",
       "</tbody>\n",
       "</table>"
      ],
      "text/plain": [
       "'<table>\\n<thead>\\n<tr><th>            </th><th style=\"text-align: right;\">  boardtruck.2</th><th style=\"text-align: right;\">  drivetruck.2</th><th style=\"text-align: right;\">  drivetruck.1</th></tr>\\n</thead>\\n<tbody>\\n<tr><td>boardtruck.2</td><td style=\"text-align: right;\">             0</td><td style=\"text-align: right;\">             0</td><td style=\"text-align: right;\">             7</td></tr>\\n<tr><td>drivetruck.2</td><td style=\"text-align: right;\">             0</td><td style=\"text-align: right;\">             0</td><td style=\"text-align: right;\">            10</td></tr>\\n<tr><td>drivetruck.1</td><td style=\"text-align: right;\">             1</td><td style=\"text-align: right;\">            20</td><td style=\"text-align: right;\">             0</td></tr>\\n</tbody>\\n</table>'"
      ]
     },
     "metadata": {},
     "output_type": "display_data"
    },
    {
     "name": "stdout",
     "output_type": "stream",
     "text": [
      "This subset is well-formed.\n",
      "This subset is valid.\n",
      "Adding this subset {'boardtruck.2', 'drivetruck.2', 'drivetruck.1'} to the locm2 transition set.\n",
      "Hole that is covered now:\n",
      "['boardtruck.2', 'drivetruck.2']\n",
      "{'boardtruck.2', 'drivetruck.2', 'drivetruck.1'}\n",
      "{'boardtruck.2', 'drivetruck.2', 'loadtruck.2'}\n",
      "{'boardtruck.2', 'drivetruck.2', 'disembarktruck.2'}\n",
      "{'boardtruck.2', 'drivetruck.2', 'walk.2'}\n",
      "{'boardtruck.2', 'drivetruck.2', 'walk.1'}\n",
      "{'boardtruck.2', 'drivetruck.2', 'unloadtruck.2'}\n",
      "{'boardtruck.2', 'drivetruck.2', 'drivetruck.1', 'disembarktruck.2'}\n",
      "{'boardtruck.2', 'drivetruck.2', 'drivetruck.1', 'unloadtruck.2'}\n",
      "{'boardtruck.2', 'drivetruck.2', 'drivetruck.1', 'walk.1'}\n",
      "{'boardtruck.2', 'drivetruck.2', 'disembarktruck.2', 'loadtruck.2'}\n",
      "{'boardtruck.2', 'drivetruck.2', 'drivetruck.1', 'loadtruck.2'}\n",
      "{'boardtruck.2', 'drivetruck.2', 'disembarktruck.2', 'walk.1'}\n",
      "{'boardtruck.2', 'drivetruck.2', 'unloadtruck.2', 'loadtruck.2'}\n",
      "{'boardtruck.2', 'drivetruck.2', 'walk.2', 'unloadtruck.2'}\n",
      "{'boardtruck.2', 'drivetruck.2', 'disembarktruck.2', 'unloadtruck.2'}\n",
      "{'boardtruck.2', 'drivetruck.2', 'unloadtruck.2', 'walk.1'}\n",
      "{'boardtruck.2', 'drivetruck.2', 'walk.2', 'loadtruck.2'}\n",
      "{'boardtruck.2', 'drivetruck.2', 'walk.2', 'walk.1'}\n",
      "{'boardtruck.2', 'drivetruck.2', 'drivetruck.1', 'walk.2'}\n",
      "{'boardtruck.2', 'drivetruck.2', 'loadtruck.2', 'walk.1'}\n",
      "{'boardtruck.2', 'drivetruck.2', 'walk.2', 'disembarktruck.2'}\n"
     ]
    },
    {
     "data": {
      "text/markdown": [
       "Checking candidate set *{'boardtruck.2', 'drivetruck.2', 'walk.2', 'disembarktruck.2'}* of class **Location** for well formedness and Validity"
      ],
      "text/plain": [
       "<IPython.core.display.Markdown object>"
      ]
     },
     "metadata": {},
     "output_type": "display_data"
    },
    {
     "data": {
      "text/html": [
       "<table>\n",
       "<thead>\n",
       "<tr><th>            </th><th style=\"text-align: right;\">  boardtruck.2</th><th style=\"text-align: right;\">  drivetruck.2</th><th style=\"text-align: right;\">  drivetruck.1</th></tr>\n",
       "</thead>\n",
       "<tbody>\n",
       "<tr><td>boardtruck.2</td><td style=\"text-align: right;\">             0</td><td style=\"text-align: right;\">             0</td><td style=\"text-align: right;\">             7</td></tr>\n",
       "<tr><td>drivetruck.2</td><td style=\"text-align: right;\">             0</td><td style=\"text-align: right;\">             0</td><td style=\"text-align: right;\">            10</td></tr>\n",
       "<tr><td>drivetruck.1</td><td style=\"text-align: right;\">             1</td><td style=\"text-align: right;\">            20</td><td style=\"text-align: right;\">             0</td></tr>\n",
       "</tbody>\n",
       "</table>"
      ],
      "text/plain": [
       "'<table>\\n<thead>\\n<tr><th>            </th><th style=\"text-align: right;\">  boardtruck.2</th><th style=\"text-align: right;\">  drivetruck.2</th><th style=\"text-align: right;\">  drivetruck.1</th></tr>\\n</thead>\\n<tbody>\\n<tr><td>boardtruck.2</td><td style=\"text-align: right;\">             0</td><td style=\"text-align: right;\">             0</td><td style=\"text-align: right;\">             7</td></tr>\\n<tr><td>drivetruck.2</td><td style=\"text-align: right;\">             0</td><td style=\"text-align: right;\">             0</td><td style=\"text-align: right;\">            10</td></tr>\\n<tr><td>drivetruck.1</td><td style=\"text-align: right;\">             1</td><td style=\"text-align: right;\">            20</td><td style=\"text-align: right;\">             0</td></tr>\\n</tbody>\\n</table>'"
      ]
     },
     "metadata": {},
     "output_type": "display_data"
    },
    {
     "name": "stdout",
     "output_type": "stream",
     "text": [
      "This subset is well-formed.\n",
      "This subset is valid.\n",
      "Adding this subset {'boardtruck.2', 'drivetruck.2', 'drivetruck.1'} to the locm2 transition set.\n",
      "Hole that is covered now:\n",
      "['boardtruck.2', 'drivetruck.2']\n",
      "{'boardtruck.2', 'drivetruck.2', 'drivetruck.1'}\n",
      "{'boardtruck.2', 'drivetruck.2', 'loadtruck.2'}\n",
      "{'boardtruck.2', 'drivetruck.2', 'disembarktruck.2'}\n",
      "{'boardtruck.2', 'drivetruck.2', 'walk.2'}\n",
      "{'boardtruck.2', 'drivetruck.2', 'walk.1'}\n",
      "{'boardtruck.2', 'drivetruck.2', 'unloadtruck.2'}\n",
      "{'boardtruck.2', 'drivetruck.2', 'drivetruck.1', 'disembarktruck.2'}\n",
      "{'boardtruck.2', 'drivetruck.2', 'drivetruck.1', 'unloadtruck.2'}\n",
      "{'boardtruck.2', 'drivetruck.2', 'drivetruck.1', 'walk.1'}\n",
      "{'boardtruck.2', 'drivetruck.2', 'disembarktruck.2', 'loadtruck.2'}\n",
      "{'boardtruck.2', 'drivetruck.2', 'drivetruck.1', 'loadtruck.2'}\n",
      "{'boardtruck.2', 'drivetruck.2', 'disembarktruck.2', 'walk.1'}\n",
      "{'boardtruck.2', 'drivetruck.2', 'unloadtruck.2', 'loadtruck.2'}\n",
      "{'boardtruck.2', 'drivetruck.2', 'walk.2', 'unloadtruck.2'}\n",
      "{'boardtruck.2', 'drivetruck.2', 'disembarktruck.2', 'unloadtruck.2'}\n",
      "{'boardtruck.2', 'drivetruck.2', 'unloadtruck.2', 'walk.1'}\n",
      "{'boardtruck.2', 'drivetruck.2', 'walk.2', 'loadtruck.2'}\n",
      "{'boardtruck.2', 'drivetruck.2', 'walk.2', 'walk.1'}\n",
      "{'boardtruck.2', 'drivetruck.2', 'drivetruck.1', 'walk.2'}\n",
      "{'boardtruck.2', 'drivetruck.2', 'loadtruck.2', 'walk.1'}\n",
      "{'boardtruck.2', 'drivetruck.2', 'walk.2', 'disembarktruck.2'}\n",
      "{'disembarktruck.2', 'loadtruck.2', 'boardtruck.2', 'drivetruck.2', 'walk.2'}\n",
      "{'drivetruck.1', 'walk.1', 'boardtruck.2', 'drivetruck.2', 'walk.2'}\n",
      "{'unloadtruck.2', 'walk.1', 'boardtruck.2', 'drivetruck.2', 'walk.2'}\n",
      "{'unloadtruck.2', 'loadtruck.2', 'walk.1', 'boardtruck.2', 'drivetruck.2'}\n",
      "{'unloadtruck.2', 'loadtruck.2', 'boardtruck.2', 'drivetruck.2', 'walk.2'}\n",
      "{'unloadtruck.2', 'disembarktruck.2', 'drivetruck.1', 'boardtruck.2', 'drivetruck.2'}\n",
      "{'disembarktruck.2', 'loadtruck.2', 'drivetruck.1', 'boardtruck.2', 'drivetruck.2'}\n",
      "{'disembarktruck.2', 'loadtruck.2', 'walk.1', 'boardtruck.2', 'drivetruck.2'}\n",
      "{'unloadtruck.2', 'disembarktruck.2', 'loadtruck.2', 'boardtruck.2', 'drivetruck.2'}\n",
      "{'loadtruck.2', 'drivetruck.1', 'boardtruck.2', 'drivetruck.2', 'walk.2'}\n",
      "{'unloadtruck.2', 'drivetruck.1', 'walk.1', 'boardtruck.2', 'drivetruck.2'}\n",
      "{'unloadtruck.2', 'disembarktruck.2', 'walk.1', 'boardtruck.2', 'drivetruck.2'}\n",
      "{'unloadtruck.2', 'disembarktruck.2', 'boardtruck.2', 'drivetruck.2', 'walk.2'}\n",
      "{'unloadtruck.2', 'drivetruck.1', 'boardtruck.2', 'drivetruck.2', 'walk.2'}\n",
      "{'disembarktruck.2', 'walk.1', 'boardtruck.2', 'drivetruck.2', 'walk.2'}\n",
      "{'disembarktruck.2', 'drivetruck.1', 'boardtruck.2', 'drivetruck.2', 'walk.2'}\n",
      "{'unloadtruck.2', 'loadtruck.2', 'drivetruck.1', 'boardtruck.2', 'drivetruck.2'}\n",
      "{'loadtruck.2', 'drivetruck.1', 'walk.1', 'boardtruck.2', 'drivetruck.2'}\n",
      "{'loadtruck.2', 'walk.1', 'boardtruck.2', 'drivetruck.2', 'walk.2'}\n",
      "{'disembarktruck.2', 'drivetruck.1', 'walk.1', 'boardtruck.2', 'drivetruck.2'}\n"
     ]
    },
    {
     "data": {
      "text/markdown": [
       "Checking candidate set *{'disembarktruck.2', 'drivetruck.1', 'walk.1', 'boardtruck.2', 'drivetruck.2'}* of class **Location** for well formedness and Validity"
      ],
      "text/plain": [
       "<IPython.core.display.Markdown object>"
      ]
     },
     "metadata": {},
     "output_type": "display_data"
    },
    {
     "data": {
      "text/html": [
       "<table>\n",
       "<thead>\n",
       "<tr><th>            </th><th style=\"text-align: right;\">  boardtruck.2</th><th style=\"text-align: right;\">  drivetruck.2</th><th style=\"text-align: right;\">  drivetruck.1</th></tr>\n",
       "</thead>\n",
       "<tbody>\n",
       "<tr><td>boardtruck.2</td><td style=\"text-align: right;\">             0</td><td style=\"text-align: right;\">             0</td><td style=\"text-align: right;\">             7</td></tr>\n",
       "<tr><td>drivetruck.2</td><td style=\"text-align: right;\">             0</td><td style=\"text-align: right;\">             0</td><td style=\"text-align: right;\">            10</td></tr>\n",
       "<tr><td>drivetruck.1</td><td style=\"text-align: right;\">             1</td><td style=\"text-align: right;\">            20</td><td style=\"text-align: right;\">             0</td></tr>\n",
       "</tbody>\n",
       "</table>"
      ],
      "text/plain": [
       "'<table>\\n<thead>\\n<tr><th>            </th><th style=\"text-align: right;\">  boardtruck.2</th><th style=\"text-align: right;\">  drivetruck.2</th><th style=\"text-align: right;\">  drivetruck.1</th></tr>\\n</thead>\\n<tbody>\\n<tr><td>boardtruck.2</td><td style=\"text-align: right;\">             0</td><td style=\"text-align: right;\">             0</td><td style=\"text-align: right;\">             7</td></tr>\\n<tr><td>drivetruck.2</td><td style=\"text-align: right;\">             0</td><td style=\"text-align: right;\">             0</td><td style=\"text-align: right;\">            10</td></tr>\\n<tr><td>drivetruck.1</td><td style=\"text-align: right;\">             1</td><td style=\"text-align: right;\">            20</td><td style=\"text-align: right;\">             0</td></tr>\\n</tbody>\\n</table>'"
      ]
     },
     "metadata": {},
     "output_type": "display_data"
    },
    {
     "name": "stdout",
     "output_type": "stream",
     "text": [
      "This subset is well-formed.\n",
      "This subset is valid.\n",
      "Adding this subset {'boardtruck.2', 'drivetruck.2', 'drivetruck.1'} to the locm2 transition set.\n",
      "Hole that is covered now:\n",
      "['boardtruck.2', 'drivetruck.2']\n",
      "{'boardtruck.2', 'drivetruck.2', 'drivetruck.1'}\n",
      "{'boardtruck.2', 'drivetruck.2', 'loadtruck.2'}\n",
      "{'boardtruck.2', 'drivetruck.2', 'disembarktruck.2'}\n",
      "{'boardtruck.2', 'drivetruck.2', 'walk.2'}\n",
      "{'boardtruck.2', 'drivetruck.2', 'walk.1'}\n",
      "{'boardtruck.2', 'drivetruck.2', 'unloadtruck.2'}\n",
      "{'boardtruck.2', 'drivetruck.2', 'drivetruck.1', 'disembarktruck.2'}\n",
      "{'boardtruck.2', 'drivetruck.2', 'drivetruck.1', 'unloadtruck.2'}\n",
      "{'boardtruck.2', 'drivetruck.2', 'drivetruck.1', 'walk.1'}\n",
      "{'boardtruck.2', 'drivetruck.2', 'disembarktruck.2', 'loadtruck.2'}\n",
      "{'boardtruck.2', 'drivetruck.2', 'drivetruck.1', 'loadtruck.2'}\n",
      "{'boardtruck.2', 'drivetruck.2', 'disembarktruck.2', 'walk.1'}\n",
      "{'boardtruck.2', 'drivetruck.2', 'unloadtruck.2', 'loadtruck.2'}\n",
      "{'boardtruck.2', 'drivetruck.2', 'walk.2', 'unloadtruck.2'}\n",
      "{'boardtruck.2', 'drivetruck.2', 'disembarktruck.2', 'unloadtruck.2'}\n",
      "{'boardtruck.2', 'drivetruck.2', 'unloadtruck.2', 'walk.1'}\n",
      "{'boardtruck.2', 'drivetruck.2', 'walk.2', 'loadtruck.2'}\n",
      "{'boardtruck.2', 'drivetruck.2', 'walk.2', 'walk.1'}\n",
      "{'boardtruck.2', 'drivetruck.2', 'drivetruck.1', 'walk.2'}\n",
      "{'boardtruck.2', 'drivetruck.2', 'loadtruck.2', 'walk.1'}\n",
      "{'boardtruck.2', 'drivetruck.2', 'walk.2', 'disembarktruck.2'}\n",
      "{'disembarktruck.2', 'loadtruck.2', 'boardtruck.2', 'drivetruck.2', 'walk.2'}\n",
      "{'drivetruck.1', 'walk.1', 'boardtruck.2', 'drivetruck.2', 'walk.2'}\n",
      "{'unloadtruck.2', 'walk.1', 'boardtruck.2', 'drivetruck.2', 'walk.2'}\n",
      "{'unloadtruck.2', 'loadtruck.2', 'walk.1', 'boardtruck.2', 'drivetruck.2'}\n",
      "{'unloadtruck.2', 'loadtruck.2', 'boardtruck.2', 'drivetruck.2', 'walk.2'}\n",
      "{'unloadtruck.2', 'disembarktruck.2', 'drivetruck.1', 'boardtruck.2', 'drivetruck.2'}\n",
      "{'disembarktruck.2', 'loadtruck.2', 'drivetruck.1', 'boardtruck.2', 'drivetruck.2'}\n",
      "{'disembarktruck.2', 'loadtruck.2', 'walk.1', 'boardtruck.2', 'drivetruck.2'}\n",
      "{'unloadtruck.2', 'disembarktruck.2', 'loadtruck.2', 'boardtruck.2', 'drivetruck.2'}\n",
      "{'loadtruck.2', 'drivetruck.1', 'boardtruck.2', 'drivetruck.2', 'walk.2'}\n",
      "{'unloadtruck.2', 'drivetruck.1', 'walk.1', 'boardtruck.2', 'drivetruck.2'}\n",
      "{'unloadtruck.2', 'disembarktruck.2', 'walk.1', 'boardtruck.2', 'drivetruck.2'}\n",
      "{'unloadtruck.2', 'disembarktruck.2', 'boardtruck.2', 'drivetruck.2', 'walk.2'}\n",
      "{'unloadtruck.2', 'drivetruck.1', 'boardtruck.2', 'drivetruck.2', 'walk.2'}\n",
      "{'disembarktruck.2', 'walk.1', 'boardtruck.2', 'drivetruck.2', 'walk.2'}\n",
      "{'disembarktruck.2', 'drivetruck.1', 'boardtruck.2', 'drivetruck.2', 'walk.2'}\n",
      "{'unloadtruck.2', 'loadtruck.2', 'drivetruck.1', 'boardtruck.2', 'drivetruck.2'}\n",
      "{'loadtruck.2', 'drivetruck.1', 'walk.1', 'boardtruck.2', 'drivetruck.2'}\n",
      "{'loadtruck.2', 'walk.1', 'boardtruck.2', 'drivetruck.2', 'walk.2'}\n",
      "{'disembarktruck.2', 'drivetruck.1', 'walk.1', 'boardtruck.2', 'drivetruck.2'}\n",
      "{'unloadtruck.2', 'loadtruck.2', 'walk.1', 'boardtruck.2', 'drivetruck.2', 'walk.2'}\n",
      "{'disembarktruck.2', 'loadtruck.2', 'drivetruck.1', 'walk.1', 'boardtruck.2', 'drivetruck.2'}\n",
      "{'unloadtruck.2', 'disembarktruck.2', 'loadtruck.2', 'drivetruck.1', 'boardtruck.2', 'drivetruck.2'}\n",
      "{'unloadtruck.2', 'drivetruck.1', 'walk.1', 'boardtruck.2', 'drivetruck.2', 'walk.2'}\n",
      "{'unloadtruck.2', 'loadtruck.2', 'drivetruck.1', 'boardtruck.2', 'drivetruck.2', 'walk.2'}\n",
      "{'unloadtruck.2', 'disembarktruck.2', 'drivetruck.1', 'boardtruck.2', 'drivetruck.2', 'walk.2'}\n",
      "{'unloadtruck.2', 'loadtruck.2', 'drivetruck.1', 'walk.1', 'boardtruck.2', 'drivetruck.2'}\n",
      "{'loadtruck.2', 'drivetruck.1', 'walk.1', 'boardtruck.2', 'drivetruck.2', 'walk.2'}\n",
      "{'unloadtruck.2', 'disembarktruck.2', 'drivetruck.1', 'walk.1', 'boardtruck.2', 'drivetruck.2'}\n",
      "{'disembarktruck.2', 'drivetruck.1', 'walk.1', 'boardtruck.2', 'drivetruck.2', 'walk.2'}\n",
      "{'unloadtruck.2', 'disembarktruck.2', 'walk.1', 'boardtruck.2', 'drivetruck.2', 'walk.2'}\n",
      "{'disembarktruck.2', 'loadtruck.2', 'drivetruck.1', 'boardtruck.2', 'drivetruck.2', 'walk.2'}\n",
      "{'unloadtruck.2', 'disembarktruck.2', 'loadtruck.2', 'boardtruck.2', 'drivetruck.2', 'walk.2'}\n",
      "{'unloadtruck.2', 'disembarktruck.2', 'loadtruck.2', 'walk.1', 'boardtruck.2', 'drivetruck.2'}\n",
      "{'disembarktruck.2', 'loadtruck.2', 'walk.1', 'boardtruck.2', 'drivetruck.2', 'walk.2'}\n"
     ]
    },
    {
     "data": {
      "text/markdown": [
       "Checking candidate set *{'disembarktruck.2', 'loadtruck.2', 'walk.1', 'boardtruck.2', 'drivetruck.2', 'walk.2'}* of class **Location** for well formedness and Validity"
      ],
      "text/plain": [
       "<IPython.core.display.Markdown object>"
      ]
     },
     "metadata": {},
     "output_type": "display_data"
    },
    {
     "data": {
      "text/html": [
       "<table>\n",
       "<thead>\n",
       "<tr><th>            </th><th style=\"text-align: right;\">  boardtruck.2</th><th style=\"text-align: right;\">  drivetruck.2</th><th style=\"text-align: right;\">  drivetruck.1</th></tr>\n",
       "</thead>\n",
       "<tbody>\n",
       "<tr><td>boardtruck.2</td><td style=\"text-align: right;\">             0</td><td style=\"text-align: right;\">             0</td><td style=\"text-align: right;\">             7</td></tr>\n",
       "<tr><td>drivetruck.2</td><td style=\"text-align: right;\">             0</td><td style=\"text-align: right;\">             0</td><td style=\"text-align: right;\">            10</td></tr>\n",
       "<tr><td>drivetruck.1</td><td style=\"text-align: right;\">             1</td><td style=\"text-align: right;\">            20</td><td style=\"text-align: right;\">             0</td></tr>\n",
       "</tbody>\n",
       "</table>"
      ],
      "text/plain": [
       "'<table>\\n<thead>\\n<tr><th>            </th><th style=\"text-align: right;\">  boardtruck.2</th><th style=\"text-align: right;\">  drivetruck.2</th><th style=\"text-align: right;\">  drivetruck.1</th></tr>\\n</thead>\\n<tbody>\\n<tr><td>boardtruck.2</td><td style=\"text-align: right;\">             0</td><td style=\"text-align: right;\">             0</td><td style=\"text-align: right;\">             7</td></tr>\\n<tr><td>drivetruck.2</td><td style=\"text-align: right;\">             0</td><td style=\"text-align: right;\">             0</td><td style=\"text-align: right;\">            10</td></tr>\\n<tr><td>drivetruck.1</td><td style=\"text-align: right;\">             1</td><td style=\"text-align: right;\">            20</td><td style=\"text-align: right;\">             0</td></tr>\\n</tbody>\\n</table>'"
      ]
     },
     "metadata": {},
     "output_type": "display_data"
    },
    {
     "name": "stdout",
     "output_type": "stream",
     "text": [
      "This subset is well-formed.\n",
      "This subset is valid.\n",
      "Adding this subset {'boardtruck.2', 'drivetruck.2', 'drivetruck.1'} to the locm2 transition set.\n",
      "Hole that is covered now:\n",
      "['boardtruck.2', 'drivetruck.2']\n",
      "{'boardtruck.2', 'drivetruck.2', 'drivetruck.1'}\n",
      "{'boardtruck.2', 'drivetruck.2', 'loadtruck.2'}\n",
      "{'boardtruck.2', 'drivetruck.2', 'disembarktruck.2'}\n",
      "{'boardtruck.2', 'drivetruck.2', 'walk.2'}\n",
      "{'boardtruck.2', 'drivetruck.2', 'walk.1'}\n",
      "{'boardtruck.2', 'drivetruck.2', 'unloadtruck.2'}\n",
      "{'boardtruck.2', 'drivetruck.2', 'drivetruck.1', 'disembarktruck.2'}\n",
      "{'boardtruck.2', 'drivetruck.2', 'drivetruck.1', 'unloadtruck.2'}\n",
      "{'boardtruck.2', 'drivetruck.2', 'drivetruck.1', 'walk.1'}\n",
      "{'boardtruck.2', 'drivetruck.2', 'disembarktruck.2', 'loadtruck.2'}\n",
      "{'boardtruck.2', 'drivetruck.2', 'drivetruck.1', 'loadtruck.2'}\n",
      "{'boardtruck.2', 'drivetruck.2', 'disembarktruck.2', 'walk.1'}\n",
      "{'boardtruck.2', 'drivetruck.2', 'unloadtruck.2', 'loadtruck.2'}\n",
      "{'boardtruck.2', 'drivetruck.2', 'walk.2', 'unloadtruck.2'}\n",
      "{'boardtruck.2', 'drivetruck.2', 'disembarktruck.2', 'unloadtruck.2'}\n",
      "{'boardtruck.2', 'drivetruck.2', 'unloadtruck.2', 'walk.1'}\n",
      "{'boardtruck.2', 'drivetruck.2', 'walk.2', 'loadtruck.2'}\n",
      "{'boardtruck.2', 'drivetruck.2', 'walk.2', 'walk.1'}\n",
      "{'boardtruck.2', 'drivetruck.2', 'drivetruck.1', 'walk.2'}\n",
      "{'boardtruck.2', 'drivetruck.2', 'loadtruck.2', 'walk.1'}\n",
      "{'boardtruck.2', 'drivetruck.2', 'walk.2', 'disembarktruck.2'}\n",
      "{'disembarktruck.2', 'loadtruck.2', 'boardtruck.2', 'drivetruck.2', 'walk.2'}\n",
      "{'drivetruck.1', 'walk.1', 'boardtruck.2', 'drivetruck.2', 'walk.2'}\n",
      "{'unloadtruck.2', 'walk.1', 'boardtruck.2', 'drivetruck.2', 'walk.2'}\n",
      "{'unloadtruck.2', 'loadtruck.2', 'walk.1', 'boardtruck.2', 'drivetruck.2'}\n",
      "{'unloadtruck.2', 'loadtruck.2', 'boardtruck.2', 'drivetruck.2', 'walk.2'}\n",
      "{'unloadtruck.2', 'disembarktruck.2', 'drivetruck.1', 'boardtruck.2', 'drivetruck.2'}\n",
      "{'disembarktruck.2', 'loadtruck.2', 'drivetruck.1', 'boardtruck.2', 'drivetruck.2'}\n",
      "{'disembarktruck.2', 'loadtruck.2', 'walk.1', 'boardtruck.2', 'drivetruck.2'}\n",
      "{'unloadtruck.2', 'disembarktruck.2', 'loadtruck.2', 'boardtruck.2', 'drivetruck.2'}\n",
      "{'loadtruck.2', 'drivetruck.1', 'boardtruck.2', 'drivetruck.2', 'walk.2'}\n",
      "{'unloadtruck.2', 'drivetruck.1', 'walk.1', 'boardtruck.2', 'drivetruck.2'}\n",
      "{'unloadtruck.2', 'disembarktruck.2', 'walk.1', 'boardtruck.2', 'drivetruck.2'}\n",
      "{'unloadtruck.2', 'disembarktruck.2', 'boardtruck.2', 'drivetruck.2', 'walk.2'}\n",
      "{'unloadtruck.2', 'drivetruck.1', 'boardtruck.2', 'drivetruck.2', 'walk.2'}\n",
      "{'disembarktruck.2', 'walk.1', 'boardtruck.2', 'drivetruck.2', 'walk.2'}\n",
      "{'disembarktruck.2', 'drivetruck.1', 'boardtruck.2', 'drivetruck.2', 'walk.2'}\n",
      "{'unloadtruck.2', 'loadtruck.2', 'drivetruck.1', 'boardtruck.2', 'drivetruck.2'}\n",
      "{'loadtruck.2', 'drivetruck.1', 'walk.1', 'boardtruck.2', 'drivetruck.2'}\n",
      "{'loadtruck.2', 'walk.1', 'boardtruck.2', 'drivetruck.2', 'walk.2'}\n",
      "{'disembarktruck.2', 'drivetruck.1', 'walk.1', 'boardtruck.2', 'drivetruck.2'}\n",
      "{'unloadtruck.2', 'loadtruck.2', 'walk.1', 'boardtruck.2', 'drivetruck.2', 'walk.2'}\n",
      "{'disembarktruck.2', 'loadtruck.2', 'drivetruck.1', 'walk.1', 'boardtruck.2', 'drivetruck.2'}\n",
      "{'unloadtruck.2', 'disembarktruck.2', 'loadtruck.2', 'drivetruck.1', 'boardtruck.2', 'drivetruck.2'}\n",
      "{'unloadtruck.2', 'drivetruck.1', 'walk.1', 'boardtruck.2', 'drivetruck.2', 'walk.2'}\n",
      "{'unloadtruck.2', 'loadtruck.2', 'drivetruck.1', 'boardtruck.2', 'drivetruck.2', 'walk.2'}\n",
      "{'unloadtruck.2', 'disembarktruck.2', 'drivetruck.1', 'boardtruck.2', 'drivetruck.2', 'walk.2'}\n",
      "{'unloadtruck.2', 'loadtruck.2', 'drivetruck.1', 'walk.1', 'boardtruck.2', 'drivetruck.2'}\n",
      "{'loadtruck.2', 'drivetruck.1', 'walk.1', 'boardtruck.2', 'drivetruck.2', 'walk.2'}\n",
      "{'unloadtruck.2', 'disembarktruck.2', 'drivetruck.1', 'walk.1', 'boardtruck.2', 'drivetruck.2'}\n",
      "{'disembarktruck.2', 'drivetruck.1', 'walk.1', 'boardtruck.2', 'drivetruck.2', 'walk.2'}\n",
      "{'unloadtruck.2', 'disembarktruck.2', 'walk.1', 'boardtruck.2', 'drivetruck.2', 'walk.2'}\n",
      "{'disembarktruck.2', 'loadtruck.2', 'drivetruck.1', 'boardtruck.2', 'drivetruck.2', 'walk.2'}\n",
      "{'unloadtruck.2', 'disembarktruck.2', 'loadtruck.2', 'boardtruck.2', 'drivetruck.2', 'walk.2'}\n",
      "{'unloadtruck.2', 'disembarktruck.2', 'loadtruck.2', 'walk.1', 'boardtruck.2', 'drivetruck.2'}\n",
      "{'disembarktruck.2', 'loadtruck.2', 'walk.1', 'boardtruck.2', 'drivetruck.2', 'walk.2'}\n",
      "{'unloadtruck.2', 'disembarktruck.2', 'loadtruck.2', 'drivetruck.1', 'walk.1', 'boardtruck.2', 'drivetruck.2'}\n",
      "{'disembarktruck.2', 'loadtruck.2', 'drivetruck.1', 'walk.1', 'boardtruck.2', 'drivetruck.2', 'walk.2'}\n",
      "{'unloadtruck.2', 'disembarktruck.2', 'loadtruck.2', 'drivetruck.1', 'boardtruck.2', 'drivetruck.2', 'walk.2'}\n",
      "{'unloadtruck.2', 'disembarktruck.2', 'drivetruck.1', 'walk.1', 'boardtruck.2', 'drivetruck.2', 'walk.2'}\n",
      "{'unloadtruck.2', 'loadtruck.2', 'drivetruck.1', 'walk.1', 'boardtruck.2', 'drivetruck.2', 'walk.2'}\n",
      "{'unloadtruck.2', 'disembarktruck.2', 'loadtruck.2', 'walk.1', 'boardtruck.2', 'drivetruck.2', 'walk.2'}\n"
     ]
    },
    {
     "data": {
      "text/markdown": [
       "Checking candidate set *{'unloadtruck.2', 'disembarktruck.2', 'loadtruck.2', 'walk.1', 'boardtruck.2', 'drivetruck.2', 'walk.2'}* of class **Location** for well formedness and Validity"
      ],
      "text/plain": [
       "<IPython.core.display.Markdown object>"
      ]
     },
     "metadata": {},
     "output_type": "display_data"
    },
    {
     "data": {
      "text/html": [
       "<table>\n",
       "<thead>\n",
       "<tr><th>            </th><th style=\"text-align: right;\">  boardtruck.2</th><th style=\"text-align: right;\">  drivetruck.2</th><th style=\"text-align: right;\">  drivetruck.1</th></tr>\n",
       "</thead>\n",
       "<tbody>\n",
       "<tr><td>boardtruck.2</td><td style=\"text-align: right;\">             0</td><td style=\"text-align: right;\">             0</td><td style=\"text-align: right;\">             7</td></tr>\n",
       "<tr><td>drivetruck.2</td><td style=\"text-align: right;\">             0</td><td style=\"text-align: right;\">             0</td><td style=\"text-align: right;\">            10</td></tr>\n",
       "<tr><td>drivetruck.1</td><td style=\"text-align: right;\">             1</td><td style=\"text-align: right;\">            20</td><td style=\"text-align: right;\">             0</td></tr>\n",
       "</tbody>\n",
       "</table>"
      ],
      "text/plain": [
       "'<table>\\n<thead>\\n<tr><th>            </th><th style=\"text-align: right;\">  boardtruck.2</th><th style=\"text-align: right;\">  drivetruck.2</th><th style=\"text-align: right;\">  drivetruck.1</th></tr>\\n</thead>\\n<tbody>\\n<tr><td>boardtruck.2</td><td style=\"text-align: right;\">             0</td><td style=\"text-align: right;\">             0</td><td style=\"text-align: right;\">             7</td></tr>\\n<tr><td>drivetruck.2</td><td style=\"text-align: right;\">             0</td><td style=\"text-align: right;\">             0</td><td style=\"text-align: right;\">            10</td></tr>\\n<tr><td>drivetruck.1</td><td style=\"text-align: right;\">             1</td><td style=\"text-align: right;\">            20</td><td style=\"text-align: right;\">             0</td></tr>\\n</tbody>\\n</table>'"
      ]
     },
     "metadata": {},
     "output_type": "display_data"
    },
    {
     "name": "stdout",
     "output_type": "stream",
     "text": [
      "This subset is well-formed.\n",
      "This subset is valid.\n",
      "Adding this subset {'boardtruck.2', 'drivetruck.2', 'drivetruck.1'} to the locm2 transition set.\n",
      "Hole that is covered now:\n",
      "['boardtruck.2', 'drivetruck.2']\n"
     ]
    },
    {
     "data": {
      "text/markdown": [
       "#### Hole 22: {'drivetruck.1', 'walk.1'}"
      ],
      "text/plain": [
       "<IPython.core.display.Markdown object>"
      ]
     },
     "metadata": {},
     "output_type": "display_data"
    },
    {
     "data": {
      "text/markdown": [
       "Hole frozenset({'drivetruck.1', 'walk.1'}) is already covered."
      ],
      "text/plain": [
       "<IPython.core.display.Markdown object>"
      ]
     },
     "metadata": {},
     "output_type": "display_data"
    },
    {
     "data": {
      "text/markdown": [
       "#### Hole 23: {'drivetruck.2', 'loadtruck.2'}"
      ],
      "text/plain": [
       "<IPython.core.display.Markdown object>"
      ]
     },
     "metadata": {},
     "output_type": "display_data"
    },
    {
     "data": {
      "text/markdown": [
       "Hole frozenset({'drivetruck.2', 'loadtruck.2'}) is already covered."
      ],
      "text/plain": [
       "<IPython.core.display.Markdown object>"
      ]
     },
     "metadata": {},
     "output_type": "display_data"
    }
   ],
   "source": [
    "def locm2_get_transition_sets_per_class(holes_per_class, transitions_per_class, consecutive_transitions_per_class):\n",
    "    \"\"\"LOCM 2 Algorithm in the original LOCM2 paper\"\"\"\n",
    "    transition_sets_per_class = []\n",
    "\n",
    "    # for each hole in a class of objects.\n",
    "    for index, holes in enumerate(holes_per_class):\n",
    "        class_name = class_names[index]\n",
    "        printmd(\"### \"+  class_name)\n",
    "        transition_set_list = [] #transition_sets_of_a_class, # intially its empty\n",
    "        \n",
    "        if len(holes)==0:\n",
    "            print(\"no holes\")\n",
    "        \n",
    "        if len(holes) > 0: # if there are any holes for a class\n",
    "            print(str(len(holes)) + \" holes\")\n",
    "            for ind, hole in enumerate(holes):\n",
    "               \n",
    "\n",
    "                printmd(\"#### Hole \" + str(ind + 1) + \": \" + str(set(hole)))\n",
    "                is_hole_already_covered_flag = False\n",
    "                if len(transition_set_list)>0:\n",
    "                    for s_prime in transition_set_list:\n",
    "                        if hole.issubset(s_prime):\n",
    "                            printmd(\"Hole \"+ str(hole) + \" is already covered.\")\n",
    "                            is_hole_already_covered_flag = True\n",
    "                            break\n",
    "                     \n",
    "                \n",
    "                # discover a set which includes hole and is well-formed and valid against test data.\n",
    "                # if hole is not covered, do BFS with sets of increasing sizes starting with s=hole\n",
    "                if not is_hole_already_covered_flag: \n",
    "                    s = hole.copy()\n",
    "                    candidate_sets = []\n",
    "                    # all subsets of T_all starting from hole's len +1\n",
    "                    for i in range(len(s)+1,len(transitions_per_class[index])): \n",
    "                        subsets = findsubsets(transitions_per_class[index],i)\n",
    "\n",
    "                        # append the subsets which are subset of\n",
    "                        for candidate_set in subsets:\n",
    "                            if s.issubset(candidate_set):\n",
    "                                candidate_sets.append(set(candidate_set))\n",
    "                        \n",
    "                        \n",
    "                        for candidate_set in candidate_sets:\n",
    "                            print(candidate_set)\n",
    "\n",
    "                        printmd(\"Checking candidate set *\" + str(candidate_set) + \"* of class **\" + class_name + \"** for well formedness and Validity\")\n",
    "                        for candidate_set in candidate_sets:\n",
    "                            subset_df = adjacency_matrix_list[index].loc[list(candidate_set),list(candidate_set)]\n",
    "                            print_table(subset_df)\n",
    "\n",
    "                            # checking for well-formedness\n",
    "                            well_formed_flag = check_well_formed(subset_df)\n",
    "                            if not well_formed_flag:\n",
    "                                print(\"This subset is NOT well-formed\")\n",
    "                                pass\n",
    "\n",
    "                            # if well-formed validate across the data to remove inappropriate dead-ends\n",
    "                            # additional check\n",
    "                            valid_against_data_flag = False\n",
    "                            if well_formed_flag:\n",
    "#                                 print_table(subset_df)\n",
    "                                print(\"This subset is well-formed.\")\n",
    "\n",
    "                                # validate against all consecutive transitions per class (P)\n",
    "                                # This checks all sequences consecutive transitions. So, it is validating against (E)\n",
    "                                valid_against_data_flag = check_valid(subset_df, consecutive_transitions_per_class)\n",
    "                                if not valid_against_data_flag:\n",
    "                                    print(\"This subset is well-formed and invalid against example data\")\n",
    "\n",
    "                            if valid_against_data_flag:\n",
    "                                print(\"This subset is valid.\")\n",
    "                                print(\"Adding this subset \" + str(candidate_set) +\" to the locm2 transition set.\")\n",
    "                                \n",
    "                                if candidate_set not in transition_set_list: # do not allow copies.\n",
    "                                    transition_set_list.append(candidate_set)\n",
    "                                break\n",
    "                        print(\"Hole that is covered now:\")\n",
    "                        print(list(s))\n",
    "\n",
    "\n",
    "\n",
    "            # print(transition_set_list)\n",
    "        #step -7 : remove redundant sets\n",
    "        ts_copy = transition_set_list.copy()\n",
    "        for i in range(len(ts_copy)):\n",
    "            for j in range(len(ts_copy)):\n",
    "                if ts_copy[i] < ts_copy[j]: #if subset\n",
    "                    if ts_copy[i] in transition_set_list:\n",
    "                        transition_set_list.remove(ts_copy[i])\n",
    "                elif ts_copy[i] > ts_copy[j]:\n",
    "                    if ts_copy[j] in transition_set_list:\n",
    "                        transition_set_list.remove(ts_copy[j])\n",
    "#         print(\"\\nRemoved redundancy transition set list\")\n",
    "#         print(transition_set_list)\n",
    "\n",
    "        #step-8: include all-transitions machine, even if it is not well-formed.\n",
    "        transition_set_list.append(set(transitions_per_class[index]))\n",
    "#         print(\"\\nFinal transition set list\")\n",
    "#         print(class_name)\n",
    "#         print(transition_set_list)\n",
    "\n",
    "\n",
    "        transition_sets_per_class.append(transition_set_list)\n",
    "       \n",
    "\n",
    "    return transition_sets_per_class\n",
    "\n",
    "\n",
    "############    LOCM2 #################\n",
    "####    Input ready for LOCM2, Starting LOCM2 algorithm now\n",
    "####    Step 8:  selecting transition sets (TS) [Main LOCM2 Algorithm]\n",
    "printmd(\"### Getting transitions sets for each class using LOCM2\")\n",
    "transition_sets_per_class = locm2_get_transition_sets_per_class(holes_per_class, transitions_per_class, consecutive_transitions_per_class)"
   ]
  },
  {
   "cell_type": "markdown",
   "metadata": {},
   "source": [
    "## Step 3: Algorithm For Induction of State Machines\n",
    "\n",
    "- Input: Action training sequence of length N\n",
    "- Output: Transition Set TS, Object states OS.\n",
    "\n",
    "We already have transition set TS per class."
   ]
  },
  {
   "cell_type": "code",
   "execution_count": 36,
   "metadata": {},
   "outputs": [],
   "source": [
    "domain_name='driverlog'"
   ]
  },
  {
   "cell_type": "code",
   "execution_count": 37,
   "metadata": {},
   "outputs": [
    {
     "name": "stdout",
     "output_type": "stream",
     "text": [
      "Step 3: Induction of Finite State Machines\n",
      "Driver\n",
      "Number of FSMS:1\n",
      "Truck\n",
      "Number of FSMS:3\n",
      "Package\n",
      "Number of FSMS:1\n",
      "Location\n",
      "Number of FSMS:4\n"
     ]
    }
   ],
   "source": [
    "print(\"Step 3: Induction of Finite State Machines\")\n",
    "state_machines_overall_list = [] # list of all state machines\n",
    "state_dict_overall = [] #list of state dict per class\n",
    "\n",
    "for index, ts in enumerate(transition_sets_per_class):\n",
    "    state_machines_per_class = [] # state machines for each class.\n",
    "    state_dict_per_class = []\n",
    "    print(class_names[index])\n",
    "    # print(ts)\n",
    "    num_fsms = len(ts)\n",
    "    print(\"Number of FSMS:\" + str(num_fsms))\n",
    "\n",
    "\n",
    "    #### Add state identifiers\n",
    "    states_per_transition_set = []\n",
    "    for transition_set in ts:\n",
    "        states = set()\n",
    "        for transition in transition_set:\n",
    "            states.add(frozenset({\"start(\" + transition + \")\"}))\n",
    "            states.add(frozenset({\"end(\" + transition + \")\"}))\n",
    "        states_per_transition_set.append(states)\n",
    "\n",
    "    # print(states_per_transition_set)\n",
    "\n",
    "    #### For each pair of consecutive transitions T1, T2 in TS: Unify states end(T1) and start(T2) in set OS\n",
    "    for fsm_no, transition_set in enumerate(ts):\n",
    "        transition_df = adjacency_matrix_list[index].loc[list(transition_set), list(transition_set)] #uses transition matrix without holes\n",
    "\n",
    "        consecutive_transitions_state_machines_per_class = set()  # find consecutive transitions for a state machine in a class.\n",
    "        for i in range(transition_df.shape[0]):\n",
    "            for j in range(transition_df.shape[1]):\n",
    "                if transition_df.iloc[i, j] != 'hole':\n",
    "                    if transition_df.iloc[i, j] > 0:\n",
    "                        consecutive_transitions_state_machines_per_class.add((transition_df.index[i], transition_df.columns[j]))\n",
    "\n",
    "        # for every consecutive transition and for every state of a class, check if that state matches end(t1) or start(t2)\n",
    "        for ct in consecutive_transitions_state_machines_per_class:\n",
    "            s1, s2, s3 = -1, -1, -1\n",
    "            for s in states_per_transition_set[fsm_no]:\n",
    "                if \"end(\"+ct[0]+\")\" in s:\n",
    "                    s1 = s\n",
    "                if \"start(\"+ct[1]+\")\" in s:\n",
    "                    s2 = s\n",
    "                if s1 != -1 and s2 != - 1: #if they do, combine them.\n",
    "                    s3 = s1.union(s2) # union\n",
    "\n",
    "            if s1 != -1 and s2 != -1 and s3 != -1: #for every ct, if we have combined state, we update states_per_transition_set\n",
    "                if s1 in states_per_transition_set[fsm_no]:\n",
    "                    states_per_transition_set[fsm_no].remove(s1)\n",
    "                if s2 in states_per_transition_set[fsm_no]:\n",
    "                    states_per_transition_set[fsm_no].remove(s2)\n",
    "                states_per_transition_set[fsm_no].add(s3)\n",
    "\n",
    "        ## build a state machine now.\n",
    "        fsm_graph = nx.DiGraph()\n",
    "\n",
    "        # TODO: consider making a state dictionary for pretty print of frozen set\n",
    "        state_dict_per_class.insert(fsm_no,{})\n",
    "        for i, state in enumerate(states_per_transition_set[fsm_no]):\n",
    "            state_dict_per_class[fsm_no][\"state\"+str(i)] = state\n",
    "            fsm_graph.add_node(\"state\"+str(i))\n",
    "\n",
    "        # transition_df is defined above. Add edges from transitions.\n",
    "        # print_table(transition_df)\n",
    "        for i in range(transition_df.shape[0]):\n",
    "            for j in range(transition_df.shape[1]):\n",
    "                if transition_df.iloc[i, j] != 'hole':\n",
    "                    if transition_df.iloc[i, j] > 0:\n",
    "                        for node in fsm_graph.nodes():\n",
    "                            starting_node, ending_node = -1,-1\n",
    "                            if \"end(\"+transition_df.index[i]+\")\" in state_dict_per_class[fsm_no][node]:\n",
    "                                starting_node = node\n",
    "                            if \"start(\"+transition_df.columns[j]+\")\" in state_dict_per_class[fsm_no][node]:\n",
    "                                ending_node = node\n",
    "                            if starting_node != -1 and ending_node != -1:\n",
    "                                if fsm_graph.has_edge(starting_node, ending_node):\n",
    "                                    fsm_graph[starting_node][ending_node]['weight'] += transition_df.iloc[i, j]\n",
    "                                else:\n",
    "                                    fsm_graph.add_edge(starting_node, ending_node, weight=transition_df.iloc[i, j], name=\"\"+transition_df.index[i])\n",
    "\n",
    "        df = nx.to_pandas_adjacency(fsm_graph, nodelist=fsm_graph.nodes(), dtype=int)\n",
    "        \n",
    "        nx.write_graphml(fsm_graph, \"output/\" + domain_name + \"/\" + class_names[index] + \"_stateFSM_\" + str(fsm_no+1)+ \".graphml\")\n",
    "        state_machines_per_class.append(df)\n",
    "\n",
    "    state_machines_overall_list.append(state_machines_per_class)\n",
    "    state_dict_overall.append(state_dict_per_class)"
   ]
  },
  {
   "cell_type": "code",
   "execution_count": 38,
   "metadata": {
    "scrolled": true
   },
   "outputs": [],
   "source": [
    "# pretty print state dictionary.\n",
    "def print_state_dictionary(state_dict_overall):\n",
    "    for i,state_dict_per_class in enumerate(state_dict_overall):\n",
    "#         print(class_names[i])\n",
    "        for j,state_dict_per_fsm in enumerate(state_dict_per_class):\n",
    "#             print()\n",
    "            for k,v in state_dict_per_fsm.items():\n",
    "                print(class_names[i]+\"_fsm\"+str(j)+\"_\"+ k + \":\"+str(list(v)))\n",
    "#                 print(list(v))\n",
    "#                 print()\n",
    "                \n",
    "# print_state_dictionary(state_dict_overall)"
   ]
  },
  {
   "cell_type": "markdown",
   "metadata": {},
   "source": [
    "## Step 5: Induction of parameterized state machines\n",
    "Create and test hypothesis for state parameters"
   ]
  },
  {
   "cell_type": "code",
   "execution_count": 39,
   "metadata": {},
   "outputs": [
    {
     "name": "stdout",
     "output_type": "stream",
     "text": [
      "*****************\n",
      "Step 5: Induction of Parameterised Finite State Machines\n",
      "CLASS:Driver\n",
      "FSM:1\n",
      "|        |   state0 |   state1 |\n",
      "|--------|----------|----------|\n",
      "| state0 |       19 |        0 |\n",
      "| state1 |        0 |        3 |\n",
      "\n",
      "Transition set of this class:\n",
      "[{'boardtruck.0', 'disembarktruck.0', 'drivetruck.3'}]\n",
      "CLASS:Truck\n",
      "FSM:1\n",
      "|        |   state0 |   state1 |   state2 |   state3 |   state4 |\n",
      "|--------|----------|----------|----------|----------|----------|\n",
      "| state0 |        0 |        0 |        0 |        0 |        0 |\n",
      "| state1 |        0 |        0 |        0 |        0 |        0 |\n",
      "| state2 |        0 |        0 |        0 |        0 |        0 |\n",
      "| state3 |        0 |        0 |        0 |        1 |        0 |\n",
      "| state4 |        0 |        0 |        0 |        0 |        0 |\n",
      "FSM:2\n",
      "|        |   state0 |   state1 |   state2 |   state3 |\n",
      "|--------|----------|----------|----------|----------|\n",
      "| state0 |        0 |        0 |        0 |        0 |\n",
      "| state1 |        0 |        0 |        0 |        0 |\n",
      "| state2 |        0 |        0 |        3 |        0 |\n",
      "| state3 |        0 |        0 |        0 |        1 |\n",
      "FSM:3\n",
      "|        |   state0 |   state1 |\n",
      "|--------|----------|----------|\n",
      "| state0 |       29 |        0 |\n",
      "| state1 |        0 |        3 |\n",
      "\n",
      "Transition set of this class:\n",
      "[{'unloadtruck.1', 'loadtruck.1', 'disembarktruck.1'}, {'disembarktruck.1', 'unloadtruck.1', 'boardtruck.1'}, {'loadtruck.1', 'boardtruck.1', 'drivetruck.0', 'disembarktruck.1', 'unloadtruck.1'}]\n",
      "CLASS:Package\n",
      "FSM:1\n",
      "|        |   state0 |   state1 |   state2 |\n",
      "|--------|----------|----------|----------|\n",
      "| state0 |        0 |        0 |        0 |\n",
      "| state1 |        0 |        0 |        0 |\n",
      "| state2 |        0 |        0 |        5 |\n",
      "\n",
      "Transition set of this class:\n",
      "[{'loadtruck.0', 'unloadtruck.0'}]\n",
      "CLASS:Location\n",
      "FSM:1\n",
      "|        |   state0 |   state1 |   state2 |   state3 |\n",
      "|--------|----------|----------|----------|----------|\n",
      "| state0 |        2 |        0 |        0 |        0 |\n",
      "| state1 |        0 |        0 |        0 |        0 |\n",
      "| state2 |        0 |        0 |        0 |        0 |\n",
      "| state3 |        0 |        0 |        0 |        3 |\n",
      "FSM:2\n",
      "|        |   state0 |   state1 |   state2 |   state3 |   state4 |\n",
      "|--------|----------|----------|----------|----------|----------|\n",
      "| state0 |        0 |        0 |        0 |        0 |        0 |\n",
      "| state1 |        0 |        0 |        0 |        0 |        0 |\n",
      "| state2 |        0 |        0 |        0 |        0 |        0 |\n",
      "| state3 |        0 |        0 |        0 |        0 |        0 |\n",
      "| state4 |        0 |        0 |        0 |        0 |        5 |\n",
      "FSM:3\n",
      "|        |   state0 |   state1 |   state2 |   state3 |\n",
      "|--------|----------|----------|----------|----------|\n",
      "| state0 |        0 |        0 |        0 |        0 |\n",
      "| state1 |        0 |        0 |        0 |        0 |\n",
      "| state2 |        0 |        0 |        7 |        0 |\n",
      "| state3 |        0 |        0 |        0 |        0 |\n",
      "FSM:4\n",
      "|        |   state0 |   state1 |\n",
      "|--------|----------|----------|\n",
      "| state0 |       29 |        0 |\n",
      "| state1 |        0 |       14 |\n",
      "\n",
      "Transition set of this class:\n",
      "[{'boardtruck.2', 'disembarktruck.2', 'loadtruck.2'}, {'boardtruck.2', 'unloadtruck.2', 'drivetruck.2'}, {'unloadtruck.2', 'drivetruck.2', 'loadtruck.2'}, {'unloadtruck.2', 'disembarktruck.2', 'loadtruck.2', 'drivetruck.1', 'boardtruck.2', 'drivetruck.2'}]\n"
     ]
    }
   ],
   "source": [
    "## Step 5 Input: action sequence Seq, Transition set TS, Object set Obs\n",
    "## Output: HS retained hypotheses for state parameters\n",
    "## 5.1 Form hypotheses from state machines\n",
    "print(\"*****************\")\n",
    "print(\"Step 5: Induction of Parameterised Finite State Machines\")\n",
    "HS_list = []\n",
    "for index, fsms_per_class in enumerate(state_machines_overall_list):\n",
    "    class_name = class_names[index]\n",
    "    print(\"CLASS:\"+ class_name)\n",
    "    for fsm_no, fsm in enumerate(fsms_per_class):\n",
    "        print(\"FSM:\" + str(fsm_no + 1))\n",
    "        print_table(fsm)\n",
    "\n",
    "    print(\"\\nTransition set of this class:\")\n",
    "    print(transition_sets_per_class[index])\n",
    "\n",
    "    # Hypothesis set per class.\n",
    "    HS_per_class = []\n",
    "    for fsm_no, transition_set in enumerate(transition_sets_per_class[index]):\n",
    "        transition_df = adjacency_matrix_list[index].loc[list(transition_set), list(transition_set)]\n",
    "        consecutive_transitions_state_machines_per_class = set()  # find consecutive transitions for a state machine in a class.\n",
    "        for i in range(transition_df.shape[0]):\n",
    "            for j in range(transition_df.shape[1]):\n",
    "                if transition_df.iloc[i, j] != 'hole':\n",
    "                    if transition_df.iloc[i, j] > 0:\n",
    "                        consecutive_transitions_state_machines_per_class.add((transition_df.index[i], transition_df.columns[j]))\n",
    "\n",
    "        # Step 5.1 for each pair <B.k and C.l> of consecutive transitions in transition set of a state machine.\n",
    "        # store hypothesis in Hypothesis set\n",
    "        HS = set()\n",
    "        for ct in consecutive_transitions_state_machines_per_class:\n",
    "            B = ct[0].split('.')[0] # action name of T1\n",
    "            k = int(ct[0].split('.')[1]) # argument index of T1\n",
    "\n",
    "            C = ct[1].split('.')[0] # action name of T2\n",
    "            l = int(ct[1].split('.')[1]) # argument index of T2\n",
    "\n",
    "            # When both actions B and C contain another argument of the same sort G' in position k' and l' respectively, we hypothesise that there may be a relation between sorts G and G'.\n",
    "            for seq in sequences:\n",
    "                for actarg_tuple in seq:\n",
    "                    arglist1 = []\n",
    "                    arglist2 = []\n",
    "                    if actarg_tuple[0] == B: #if action name is same as B\n",
    "                        arglist1 = actarg_tuple[1].copy()\n",
    "                        arglist1.remove(actarg_tuple[1][k]) # remove k from arglist\n",
    "                        for actarg_tuple_prime in seq: #loop through seq again.\n",
    "                            if actarg_tuple_prime[0] == C:\n",
    "                                arglist2 = actarg_tuple_prime[1].copy()\n",
    "                                arglist2.remove(actarg_tuple_prime[1][l]) # remove l from arglist\n",
    "\n",
    "                        # for arg lists of actions B and C, if class is same add a hypothesis set.\n",
    "                        for i in range(len(arglist1)):\n",
    "                            for j in range(len(arglist2)):\n",
    "                                class1 = get_class_index(arglist1[i], classes)\n",
    "                                class2 = get_class_index(arglist2[j], classes)\n",
    "                                if class1 == class2:\n",
    "                                    HS.add((frozenset({\"end(\"+B+\".\"+ str(k)+\")\", \"start(\"+C+\".\"+str(l)+\")\"}),B,k,i,C,l,j,index,class1))\n",
    "\n",
    "        ####### Step 5.2 Test Hypothesis against example sequences!!\n",
    "        # Check hypothesis against sequences.\n",
    "        ## It performs an inductive process such that the hypotheses can be either refuted or retained according to the example sequence, but it can never be definitely confirmed.\n",
    "        ## Requires more data than usual.\n",
    "        HS_copy = HS.copy()\n",
    "        for hs in HS:\n",
    "            # for every consecutive transision for a state machine per class.\n",
    "            for ct in consecutive_transitions_state_machines_per_class:\n",
    "                A_p = ct[0].split('.')[0]\n",
    "                m = int(ct[0].split('.')[1])\n",
    "\n",
    "                A_q = ct[1].split('.')[0]\n",
    "                n = int(ct[1].split('.')[1])\n",
    "\n",
    "                if A_p == hs[1] and m == hs[2] and A_q == hs[4] and n == hs[5]:\n",
    "                    k_prime = hs[3]\n",
    "                    l_prime = hs[6]\n",
    "                    for seq in sequences:\n",
    "                        for actarg_tuple in seq:\n",
    "                            arglist1 = []\n",
    "                            arglist2 = []\n",
    "                            if actarg_tuple[0] == A_p:\n",
    "                                arglist1 = actarg_tuple[1].copy()\n",
    "                                arglist1.remove(actarg_tuple[1][m])  # remove k from arglist\n",
    "                                for actarg_tuple_prime in seq:\n",
    "                                    if actarg_tuple_prime[0] == A_q:\n",
    "                                        arglist2 = actarg_tuple_prime[1].copy()\n",
    "                                        arglist2.remove(actarg_tuple_prime[1][n])  # remove l from arglist\n",
    "\n",
    "#                                 class1, class2 = -1,-1\n",
    "#                                 if k_prime < len(arglist1) and l_prime < len(arglist2):\n",
    "#                                     class1 = get_class_index(arglist1[k_prime], classes)\n",
    "#                                     class2 = get_class_index(arglist2[l_prime], classes)\n",
    "\n",
    "#                                 # Refute the hypothesis if classes are not same at the location specified by hypothesis.\n",
    "#                                 if class1 != -1 and class2!=-1 and class1 != class2:\n",
    "#                                     if hs in HS_copy:\n",
    "#                                         HS_copy.remove(hs)\n",
    "                                object1, object2 = None, None\n",
    "                                if k_prime < len(arglist1) and l_prime < len(arglist2):\n",
    "                                    object1 = arglist1[k_prime]\n",
    "                                    object2 = arglist2[l_prime]\n",
    "                                \n",
    "                                if object1 != None and object2 !=None and object1 !=object2:\n",
    "                                    if hs in HS_copy:\n",
    "                                        HS_copy.remove(hs)\n",
    "                        \n",
    "                                 \n",
    "\n",
    "\n",
    "\n",
    "        HS_per_class.append(HS_copy)\n",
    "    HS_list.append(HS_per_class)"
   ]
  },
  {
   "cell_type": "code",
   "execution_count": 42,
   "metadata": {},
   "outputs": [],
   "source": [
    "# printing hypothesis\n",
    "# print(\"\\n****** HYPOTHESIS SET*********\")\n",
    "# for HS_per_class in HS_list:\n",
    "#     for HS_per_fsm in HS_per_class:\n",
    "#         for h in HS_per_fsm:\n",
    "#             print(h)"
   ]
  },
  {
   "cell_type": "markdown",
   "metadata": {},
   "source": [
    "## Step 6: Creation and merging of state parameters"
   ]
  },
  {
   "cell_type": "code",
   "execution_count": 192,
   "metadata": {
    "lines_to_end_of_cell_marker": 2,
    "lines_to_next_cell": 2
   },
   "outputs": [
    {
     "name": "stdout",
     "output_type": "stream",
     "text": [
      "Step 6: creating and merging state params\n"
     ]
    }
   ],
   "source": [
    "print(\"Step 6: creating and merging state params\")\n",
    "param_bindings_list_overall = []\n",
    "for classindex, HS_per_class in enumerate(HS_list):\n",
    "    param_bind_per_class = []\n",
    "    for HS_per_fsm in HS_per_class:\n",
    "        param_binding_list = []\n",
    "        for index,h in enumerate(HS_per_fsm):\n",
    "            param_binding_list.append((h,\"v\"+str(index)))\n",
    "\n",
    "        for i in range(len(param_binding_list)-1):\n",
    "            for j in range(i+1, len(param_binding_list)):\n",
    "                h_1 = param_binding_list[i][0]\n",
    "                h_2 = param_binding_list[j][0]\n",
    "\n",
    "                if ((h_1[0] == h_2[0] and h_1[1] == h_2[1] and h_1[2] == h_2[2] and h_1[3] == h_2[3]) or (h_1[0] == h_2[0] and h_1[4] == h_2[4] and h_1[5] == h_2[5] and h_1[6] == h_2[6])):\n",
    "                    new_tuple = (param_binding_list[j][0], param_binding_list[i][1])\n",
    "                    param_binding_list.remove((param_binding_list[j][0], param_binding_list[j][1]))\n",
    "                    param_binding_list.insert(j,new_tuple)\n",
    "        param_bind_per_class.append(param_binding_list)\n",
    "#         print(class_names[classindex])\n",
    "#         for pb in param_binding_list:\n",
    "#             print(pb)\n",
    "#         print()\n",
    "    param_bindings_list_overall.append(param_bind_per_class)"
   ]
  },
  {
   "cell_type": "markdown",
   "metadata": {},
   "source": [
    "## Step 7: Remove Parameter Flaws"
   ]
  },
  {
   "cell_type": "code",
   "execution_count": 193,
   "metadata": {},
   "outputs": [],
   "source": [
    "########### Step 5: Removing parameter flaws\n",
    "# A parameter P associated with an FSM state S is said to be flawed if there exists a transition into S, which does not supply P with a value.\n",
    "# This may occur when there exists a transition B.k where end(B.k)=S, but there exists no h containing end(B.k)\n",
    "\n",
    "para_bind_overall_fault_removed = []\n",
    "for class_index, para_bind_per_class in enumerate(param_bindings_list_overall):\n",
    "#     print(class_names[class_index])\n",
    "    para_bind_per_class_fault_removed = []\n",
    "\n",
    "    # print(state_machines_overall_list[class_index][fsm_index].index.values)\n",
    "    for fsm_index, transition_set in enumerate(transition_sets_per_class[class_index]):\n",
    "        transition_df = adjacency_matrix_list[class_index].loc[list(transition_set), list(transition_set)]\n",
    "        consecutive_transitions_state_machines_per_class = set()  # find consecutive transitions for a state machine in a class.\n",
    "        for i in range(transition_df.shape[0]):\n",
    "            for j in range(transition_df.shape[1]):\n",
    "                if transition_df.iloc[i, j] != 'hole':\n",
    "                    if transition_df.iloc[i, j] > 0:\n",
    "                        consecutive_transitions_state_machines_per_class.add(\n",
    "                            (transition_df.index[i], transition_df.columns[j]))\n",
    "\n",
    "        # initialize h_exists with false\n",
    "        h_exists = []\n",
    "        for param_index, param_bind in enumerate(para_bind_per_class[fsm_index]):\n",
    "            h_exists.append(False)\n",
    "\n",
    "        for ct in consecutive_transitions_state_machines_per_class:\n",
    "            for state in state_machines_overall_list[class_index][fsm_index].index.values:\n",
    "                if {\"end(\"+ ct[0] + \")\"} <= state_dict_overall[class_index][fsm_index][state]:\n",
    "                    current_state = state_dict_overall[class_index][fsm_index][state]\n",
    "\n",
    "                    # for every parameter binding which contains subset of current_state, if B and k are there, hypothesis exists\n",
    "                    for param_index,param_bind in enumerate(para_bind_per_class[fsm_index]):\n",
    "                        if param_bind[0][0] <= current_state: #subset of current_state of FSM\n",
    "                            # print(param_bind[0][1])\n",
    "                            # print(param_bind[0][2])\n",
    "                            # print(ct[0].split('.')[0])\n",
    "                            # print(ct[0].split('.')[1])\n",
    "                            # print()\n",
    "                            if param_bind[0][1] == ct[0].split('.')[0]:\n",
    "                                if param_bind[0][2] == int(ct[0].split('.')[1]): #TODO: Do we need to check other things here\n",
    "                                    h_exists[param_index] = True\n",
    "\n",
    "        param_bind_per_fsm_copy = para_bind_per_class[fsm_index].copy()\n",
    "        for param_index, param_bind in enumerate(para_bind_per_class[fsm_index]):\n",
    "            # if h_exists[param_index]:\n",
    "            #     print(param_bind[1])\n",
    "            if not h_exists[param_index]:\n",
    "                param_bind_per_fsm_copy.remove(param_bind)\n",
    "\n",
    "        para_bind_per_class_fault_removed.append(param_bind_per_fsm_copy)\n",
    "    para_bind_overall_fault_removed.append(para_bind_per_class_fault_removed)"
   ]
  },
  {
   "cell_type": "code",
   "execution_count": 194,
   "metadata": {},
   "outputs": [
    {
     "name": "stdout",
     "output_type": "stream",
     "text": [
      "Fault Removed Parameter Bindings\n"
     ]
    }
   ],
   "source": [
    "print(\"Fault Removed Parameter Bindings\")\n",
    "# for class_index, para_bind_per_class in enumerate(para_bind_overall_fault_removed):\n",
    "#     print(class_names[class_index])\n",
    "#     for fsm_no, para_bind_per_fsm in enumerate(para_bind_per_class):\n",
    "#         print(\"Fsm_no:\" + str(fsm_no))\n",
    "#         for p in para_bind_per_fsm:\n",
    "#             print(p)\n",
    "#         print()"
   ]
  },
  {
   "cell_type": "markdown",
   "metadata": {},
   "source": [
    "## Step 9:  Formation of PDDL Schema"
   ]
  },
  {
   "cell_type": "code",
   "execution_count": 195,
   "metadata": {
    "lines_to_end_of_cell_marker": 2,
    "lines_to_next_cell": 2,
    "scrolled": false
   },
   "outputs": [
    {
     "name": "stdout",
     "output_type": "stream",
     "text": [
      ";;********************Learned PDDL domain******************\n",
      "(define  (domain driverlog)\n",
      "  (:requirements :typing)\n",
      "  (:types driver truck package location)\n",
      "  (:predicates\n",
      "    (driver_fsm0_state0)\n",
      "    (driver_fsm0_state1)    (truck_fsm0_state0)    (truck_fsm0_state1)    (truck_fsm0_state2)\n",
      "    (truck_fsm0_state3)    (truck_fsm0_state4)    (truck_fsm1_state0)    (truck_fsm1_state1)\n",
      "    (truck_fsm1_state2)    (truck_fsm1_state3)    (truck_fsm2_state0)    (truck_fsm2_state1)\n",
      "    (truck_fsm2_state2)    (truck_fsm2_state3)    (truck_fsm2_state4)    (truck_fsm3_state0)\n",
      "    (truck_fsm3_state1)    (package_fsm0_state0)    (package_fsm0_state1)    (package_fsm0_state2)\n",
      "    (location_fsm0_state0)    (location_fsm0_state1)    (location_fsm0_state2)    (location_fsm0_state3)\n",
      "    (location_fsm1_state0)    (location_fsm1_state1)    (location_fsm1_state2)    (location_fsm2_state0)\n",
      "    (location_fsm2_state1)    (location_fsm2_state2)    (location_fsm2_state3)    (location_fsm2_state4)\n",
      "    (location_fsm3_state0)    (location_fsm3_state1)    (location_fsm3_state2)    (location_fsm3_state3)\n",
      "    (location_fsm3_state4)    (location_fsm4_state0)    (location_fsm4_state1)  )\n",
      "  (:action  loadtruck   :parameters  (?package5 - package ?truck2 - truck ?s4 - location )\n",
      "   :precondition   (and\n",
      "        (package_fsm0_state1)\n",
      "        (truck_fsm0_state3)\n",
      "        (truck_fsm1_state2)\n",
      "        (truck_fsm1_state3)\n",
      "        (truck_fsm2_state4)\n",
      "        (truck_fsm3_state0)\n",
      "        (truck_fsm3_state1)\n",
      "        (location_fsm0_state3)\n",
      "        (location_fsm1_state0)\n",
      "        (location_fsm1_state2)\n",
      "        (location_fsm2_state2)\n",
      "        (location_fsm3_state3)\n",
      "        (location_fsm4_state0)\n",
      "        (location_fsm4_state1)\n",
      "   )\n",
      "   :effect   (and\n",
      "        (package_fsm0_state1)\n",
      "        (truck_fsm0_state3)\n",
      "        (truck_fsm1_state2)\n",
      "        (truck_fsm1_state3)\n",
      "        (truck_fsm2_state4)\n",
      "        (truck_fsm3_state0)\n",
      "        (truck_fsm3_state1)\n",
      "        (location_fsm0_state3)\n",
      "        (location_fsm1_state0)\n",
      "        (location_fsm1_state2)\n",
      "        (location_fsm2_state2)\n",
      "        (location_fsm3_state3)\n",
      "        (location_fsm4_state0)\n",
      "        (location_fsm4_state1)\n",
      "  ))\n",
      "  (:action  drivetruck   :parameters  (?truck2 - truck ?s4 - location ?s1 - location ?driver1 - driver )\n",
      "   :precondition   (and\n",
      "        (truck_fsm0_state3)\n",
      "        (truck_fsm1_state2)\n",
      "        (truck_fsm1_state3)\n",
      "        (truck_fsm2_state4)\n",
      "        (truck_fsm3_state0)\n",
      "        (truck_fsm3_state1)\n",
      "        (location_fsm0_state3)\n",
      "        (location_fsm1_state0)\n",
      "        (location_fsm1_state2)\n",
      "        (location_fsm2_state2)\n",
      "        (location_fsm3_state3)\n",
      "        (location_fsm4_state0)\n",
      "        (location_fsm4_state1)\n",
      "        (driver_fsm0_state0)\n",
      "        (driver_fsm0_state1)\n",
      "   )\n",
      "   :effect   (and\n",
      "        (truck_fsm0_state3)\n",
      "        (truck_fsm1_state2)\n",
      "        (truck_fsm1_state3)\n",
      "        (truck_fsm2_state4)\n",
      "        (truck_fsm3_state0)\n",
      "        (truck_fsm3_state1)\n",
      "        (location_fsm0_state3)\n",
      "        (location_fsm1_state0)\n",
      "        (location_fsm1_state2)\n",
      "        (location_fsm2_state2)\n",
      "        (location_fsm3_state3)\n",
      "        (location_fsm4_state0)\n",
      "        (location_fsm4_state1)\n",
      "        (driver_fsm0_state0)\n",
      "        (driver_fsm0_state1)\n",
      "  ))\n",
      "  (:action  unloadtruck   :parameters  (?package5 - package ?truck2 - truck ?s3 - location )\n",
      "   :precondition   (and\n",
      "        (package_fsm0_state1)\n",
      "        (truck_fsm0_state3)\n",
      "        (truck_fsm1_state2)\n",
      "        (truck_fsm1_state3)\n",
      "        (truck_fsm2_state4)\n",
      "        (truck_fsm3_state0)\n",
      "        (truck_fsm3_state1)\n",
      "        (location_fsm0_state3)\n",
      "        (location_fsm1_state0)\n",
      "        (location_fsm1_state2)\n",
      "        (location_fsm2_state2)\n",
      "        (location_fsm3_state3)\n",
      "        (location_fsm4_state0)\n",
      "        (location_fsm4_state1)\n",
      "   )\n",
      "   :effect   (and\n",
      "        (package_fsm0_state1)\n",
      "        (truck_fsm0_state3)\n",
      "        (truck_fsm1_state2)\n",
      "        (truck_fsm1_state3)\n",
      "        (truck_fsm2_state4)\n",
      "        (truck_fsm3_state0)\n",
      "        (truck_fsm3_state1)\n",
      "        (location_fsm0_state3)\n",
      "        (location_fsm1_state0)\n",
      "        (location_fsm1_state2)\n",
      "        (location_fsm2_state2)\n",
      "        (location_fsm3_state3)\n",
      "        (location_fsm4_state0)\n",
      "        (location_fsm4_state1)\n",
      "  ))\n",
      "  (:action  disembarktruck   :parameters  (?driver1 - driver ?truck2 - truck ?s1 - location )\n",
      "   :precondition   (and\n",
      "        (driver_fsm0_state0)\n",
      "        (driver_fsm0_state1)\n",
      "        (truck_fsm0_state3)\n",
      "        (truck_fsm1_state2)\n",
      "        (truck_fsm1_state3)\n",
      "        (truck_fsm2_state4)\n",
      "        (truck_fsm3_state0)\n",
      "        (truck_fsm3_state1)\n",
      "        (location_fsm0_state3)\n",
      "        (location_fsm1_state0)\n",
      "        (location_fsm1_state2)\n",
      "        (location_fsm2_state2)\n",
      "        (location_fsm3_state3)\n",
      "        (location_fsm4_state0)\n",
      "        (location_fsm4_state1)\n",
      "   )\n",
      "   :effect   (and\n",
      "        (driver_fsm0_state0)\n",
      "        (driver_fsm0_state1)\n",
      "        (truck_fsm0_state3)\n",
      "        (truck_fsm1_state2)\n",
      "        (truck_fsm1_state3)\n",
      "        (truck_fsm2_state4)\n",
      "        (truck_fsm3_state0)\n",
      "        (truck_fsm3_state1)\n",
      "        (location_fsm0_state3)\n",
      "        (location_fsm1_state0)\n",
      "        (location_fsm1_state2)\n",
      "        (location_fsm2_state2)\n",
      "        (location_fsm3_state3)\n",
      "        (location_fsm4_state0)\n",
      "        (location_fsm4_state1)\n",
      "  ))\n",
      "  (:action  boardtruck   :parameters  (?driver1 - driver ?truck2 - truck ?s4 - location )\n",
      "   :precondition   (and\n",
      "        (driver_fsm0_state0)\n",
      "        (driver_fsm0_state1)\n",
      "        (truck_fsm0_state3)\n",
      "        (truck_fsm1_state2)\n",
      "        (truck_fsm1_state3)\n",
      "        (truck_fsm2_state4)\n",
      "        (truck_fsm3_state0)\n",
      "        (truck_fsm3_state1)\n",
      "        (location_fsm0_state3)\n",
      "        (location_fsm1_state0)\n",
      "        (location_fsm1_state2)\n",
      "        (location_fsm2_state2)\n",
      "        (location_fsm3_state3)\n",
      "        (location_fsm4_state0)\n",
      "        (location_fsm4_state1)\n",
      "   )\n",
      "   :effect   (and\n",
      "        (driver_fsm0_state0)\n",
      "        (driver_fsm0_state1)\n",
      "        (truck_fsm0_state3)\n",
      "        (truck_fsm1_state2)\n",
      "        (truck_fsm1_state3)\n",
      "        (truck_fsm2_state4)\n",
      "        (truck_fsm3_state0)\n",
      "        (truck_fsm3_state1)\n",
      "        (location_fsm0_state3)\n",
      "        (location_fsm1_state0)\n",
      "        (location_fsm1_state2)\n",
      "        (location_fsm2_state2)\n",
      "        (location_fsm3_state3)\n",
      "        (location_fsm4_state0)\n",
      "        (location_fsm4_state1)\n",
      "  ))\n",
      ")\n",
      "\n"
     ]
    }
   ],
   "source": [
    "# get action schema\n",
    "print(\";;********************Learned PDDL domain******************\")\n",
    "output_file = \"output/\"+ domain_name + \"/\" +  domain_name + \".pddl\"\n",
    "write_file = open(output_file, 'w')\n",
    "write_line = \"(define\"\n",
    "write_line += \"  (domain \"+ domain_name+\")\\n\"\n",
    "write_line += \"  (:requirements :typing)\\n\"\n",
    "write_line += \"  (:types\"\n",
    "for class_name in class_names:\n",
    "    write_line += \" \" + class_name\n",
    "write_line += \")\\n\"\n",
    "write_line += \"  (:predicates\\n\"\n",
    "\n",
    "predicates = []\n",
    "line_count = 0\n",
    "for class_index, para_bind_per_class in enumerate(para_bind_overall_fault_removed):\n",
    "    for fsm_no, para_bind_per_fsm in enumerate(para_bind_per_class):\n",
    "        for state_index, state in enumerate(state_machines_overall_list[class_index][fsm_no]):\n",
    "            predicate = \"\"\n",
    "            write_line += \"    (\" + class_names[class_index] + \"_fsm\" + str(fsm_no) + \"_state\" + str(state_index)\n",
    "            predicate += \"    (\" + class_names[class_index] + \"_fsm\" + str(fsm_no) + \"_state\" + str(state_index)\n",
    "            for para_bind in para_bind_per_fsm:\n",
    "                if para_bind[0][0] <= state_dict_overall[class_index][fsm_no][state]:\n",
    "                    write_line += \" ?\"+para_bind[1] + \" - \" + str(class_names[para_bind[0][8]])\n",
    "                    predicate += \" ?\"+para_bind[1] + \" - \" + str(class_names[para_bind[0][8]])\n",
    "            if (line_count % 4) == 0:\n",
    "                write_line += \")\\n\"\n",
    "            else:\n",
    "                write_line += \")\"\n",
    "            line_count+=1\n",
    "            predicate += \")\"\n",
    "            predicates.append(predicate)\n",
    "write_line += \"  )\\n\"\n",
    "            \n",
    "for action_index, action in enumerate(actions):\n",
    "    write_line += \"  (:action\"\n",
    "    write_line += \"  \" + action + \" \"\n",
    "    write_line += \"  :parameters\"\n",
    "    write_line += \"  (\"\n",
    "    arg_already_written_flag = False\n",
    "    params_per_action = []\n",
    "    args_per_action = []\n",
    "    for seq in sequences:\n",
    "        for actarg_tuple in seq:\n",
    "            if not arg_already_written_flag:\n",
    "                if actarg_tuple[0] == action:\n",
    "                    arglist = []\n",
    "                    for arg in actarg_tuple[1]:\n",
    "                        write_line += \"?\"+arg + \" - \" + class_names[get_class_index(arg,classes)] + \" \"\n",
    "                        arglist.append(arg)\n",
    "                    args_per_action.append(arglist)\n",
    "                    params_per_action.append(actarg_tuple[1])\n",
    "                    arg_already_written_flag = True\n",
    "    write_line += \")\\n\"\n",
    "\n",
    "\n",
    "    # need to use finite STATE machines to get preconditions and effects.\n",
    "    # Start-state = precondition. End state= Effect\n",
    "    preconditions = []\n",
    "    effects = []\n",
    "    for arglist in params_per_action:\n",
    "        for arg in arglist:\n",
    "            current_class_index = get_class_index(arg, classes)\n",
    "            for fsm_no, fsm in enumerate(state_machines_overall_list[current_class_index]):\n",
    "                # print_table(fsm)\n",
    "                df = fsm\n",
    "\n",
    "                for i in range(df.shape[0]):\n",
    "                    for j in range(df.shape[1]):\n",
    "                        if df.iloc[i, j] > 0:\n",
    "                            # print(\"(\" + df.index[i] + \",\" + df.columns[j] + \")\")\n",
    "                            start_state = state_dict_overall[current_class_index][fsm_no][df.index[i]]\n",
    "                            end_state = state_dict_overall[current_class_index][fsm_no][df.columns[j]]\n",
    "\n",
    "                            start_state_index, end_state_index = -1, -1\n",
    "                            for k,v in state_dict_overall[current_class_index][fsm_no].items():\n",
    "                                if v == start_state:\n",
    "                                    start_state_index = k\n",
    "                                if v == end_state:\n",
    "                                    end_state_index = k\n",
    "\n",
    "                            for predicate in predicates:\n",
    "                                pred = predicate.split()[0].lstrip('(').rstrip(')')\n",
    "                                if pred == class_names[current_class_index]+\"_fsm\"+str(fsm_no)+\"_\"+str(start_state_index):\n",
    "\n",
    "                                    if predicate not in preconditions:\n",
    "                                        preconditions.append(predicate)\n",
    "                                if pred == class_names[current_class_index]+\"_fsm\"+str(fsm_no)+\"_\"+str(end_state_index):\n",
    "                                    if predicate not in effects:\n",
    "                                        effects.append(predicate)\n",
    "\n",
    "\n",
    "\n",
    "\n",
    "#     print(preconditions)\n",
    "#     print(effects)\n",
    "    write_line += \"   :precondition\"\n",
    "    write_line += \"   (and\\n\"\n",
    "    for precondition in preconditions:\n",
    "        # precondition = precondition.replace(?)\n",
    "        write_line += \"    \"+precondition+\"\\n\"\n",
    "    write_line += \"   )\\n\"\n",
    "    write_line += \"   :effect\"\n",
    "    write_line += \"   (and\\n\"\n",
    "    for effect in effects:\n",
    "        write_line += \"    \" + effect + \"\\n\"\n",
    "    write_line += \"  )\"\n",
    "\n",
    "    write_line += \")\\n\"\n",
    "\n",
    "write_line += \")\\n\" #domain ending bracket\n",
    "\n",
    "\n",
    "print(write_line)\n",
    "\n",
    "write_file.write(write_line)\n",
    "write_file.close()"
   ]
  },
  {
   "cell_type": "code",
   "execution_count": 85,
   "metadata": {
    "scrolled": false
   },
   "outputs": [
    {
     "name": "stdout",
     "output_type": "stream",
     "text": [
      "driver_fsm0_state0:['end(drivetruck.3)', 'start(disembarktruck.0)', 'end(boardtruck.0)', 'start(drivetruck.3)']\n",
      "driver_fsm0_state1:['start(boardtruck.0)', 'end(disembarktruck.0)']\n",
      "truck_fsm0_state0:['end(disembarktruck.1)']\n",
      "truck_fsm0_state1:['end(unloadtruck.1)', 'start(disembarktruck.1)']\n",
      "truck_fsm0_state2:['start(unloadtruck.1)']\n",
      "truck_fsm0_state3:['end(loadtruck.1)']\n",
      "truck_fsm0_state4:['start(loadtruck.1)']\n",
      "truck_fsm1_state0:['start(disembarktruck.1)']\n",
      "truck_fsm1_state1:['start(boardtruck.1)', 'end(disembarktruck.1)']\n",
      "truck_fsm1_state2:['start(loadtruck.1)', 'end(boardtruck.1)']\n",
      "truck_fsm1_state3:['end(loadtruck.1)']\n",
      "truck_fsm2_state0:['start(boardtruck.1)']\n",
      "truck_fsm2_state1:['end(unloadtruck.1)']\n",
      "truck_fsm2_state2:['start(loadtruck.1)', 'end(boardtruck.1)']\n",
      "truck_fsm2_state3:['start(unloadtruck.1)']\n",
      "truck_fsm2_state4:['end(loadtruck.1)']\n",
      "truck_fsm3_state0:['end(loadtruck.1)', 'start(disembarktruck.1)', 'end(unloadtruck.1)', 'end(drivetruck.0)', 'start(drivetruck.0)', 'start(unloadtruck.1)', 'start(loadtruck.1)', 'end(boardtruck.1)']\n",
      "truck_fsm3_state1:['start(boardtruck.1)', 'end(disembarktruck.1)']\n",
      "package_fsm0_state0:['start(loadtruck.0)']\n",
      "package_fsm0_state1:['end(unloadtruck.0)']\n",
      "package_fsm0_state2:['start(unloadtruck.0)', 'end(loadtruck.0)']\n",
      "location_fsm0_state0:['end(boardtruck.2)']\n",
      "location_fsm0_state1:['start(boardtruck.2)']\n",
      "location_fsm0_state2:['end(unloadtruck.2)']\n",
      "location_fsm0_state3:['end(drivetruck.2)', 'start(unloadtruck.2)']\n",
      "location_fsm0_state4:['start(drivetruck.2)']\n",
      "location_fsm1_state0:['end(unloadtruck.2)']\n",
      "location_fsm1_state1:['end(drivetruck.2)', 'start(loadtruck.2)', 'start(unloadtruck.2)']\n",
      "location_fsm1_state2:['end(loadtruck.2)']\n",
      "location_fsm1_state3:['start(drivetruck.2)']\n",
      "location_fsm2_state0:['end(disembarktruck.2)', 'start(boardtruck.2)']\n",
      "location_fsm2_state1:['end(boardtruck.2)', 'start(loadtruck.2)']\n",
      "location_fsm2_state2:['start(disembarktruck.2)']\n",
      "location_fsm2_state3:['end(loadtruck.2)']\n",
      "location_fsm3_state0:['start(drivetruck.2)', 'end(drivetruck.1)', 'end(disembarktruck.2)', 'start(boardtruck.2)']\n",
      "location_fsm3_state1:['end(drivetruck.2)', 'end(boardtruck.2)', 'start(drivetruck.1)', 'end(unloadtruck.2)', 'start(disembarktruck.2)', 'start(unloadtruck.2)', 'start(loadtruck.2)', 'end(loadtruck.2)']\n"
     ]
    }
   ],
   "source": [
    "# state dictionary\n",
    "print_state_dictionary(state_dict_overall)"
   ]
  },
  {
   "cell_type": "markdown",
   "metadata": {},
   "source": [
    "# NER "
   ]
  },
  {
   "cell_type": "code",
   "execution_count": 86,
   "metadata": {},
   "outputs": [],
   "source": [
    "# finding entities using spacy\n",
    "import spacy\n",
    "from spacy import displacy\n",
    "import en_core_web_sm\n",
    "nlp = spacy.load('en_core_web_sm')\n",
    "doc = nlp(coref_resolved_instructions)"
   ]
  },
  {
   "cell_type": "code",
   "execution_count": 87,
   "metadata": {},
   "outputs": [
    {
     "data": {
      "text/html": [
       "<div class=\"entities\" style=\"line-height: 2.5; direction: ltr\">CURIOSITY MARS MISSION TRANSCRIPT</br>The last stage of the launch vehicle gives the spacecraft a final push and spins the spacecraft up for our eight-and-a-half month cruise to the red planet.</br>\n",
       "<mark class=\"entity\" style=\"background: #bfe1d9; padding: 0.45em 0.6em; margin: 0 0.25em; line-height: 1; border-radius: 0.35em; box-decoration-break: clone; -webkit-box-decoration-break: clone\">\n",
       "    10 minutes\n",
       "    <span style=\"font-size: 0.8em; font-weight: bold; line-height: 1; border-radius: 0.35em; text-transform: uppercase; vertical-align: middle; margin-left: 0.5rem\">TIME</span>\n",
       "</mark>\n",
       " before hitting the atmosphere the cruise stage separates and final preparations for entry begin.</br>Hitting the atmosphere at \n",
       "<mark class=\"entity\" style=\"background: #e4e7d2; padding: 0.45em 0.6em; margin: 0 0.25em; line-height: 1; border-radius: 0.35em; box-decoration-break: clone; -webkit-box-decoration-break: clone\">\n",
       "    about 13000 miles per hour\n",
       "    <span style=\"font-size: 0.8em; font-weight: bold; line-height: 1; border-radius: 0.35em; text-transform: uppercase; vertical-align: middle; margin-left: 0.5rem\">QUANTITY</span>\n",
       "</mark>\n",
       ", the spacecraft begins to slow down. While slowing down, the spacecraft uses thrusters to help steer toward the landing target.</br>We throw off weights to rebalance the spacecraft, so that the spacecraft’s lined for parachute deploy. After slowing to about Mach 2, or \n",
       "<mark class=\"entity\" style=\"background: #e4e7d2; padding: 0.45em 0.6em; margin: 0 0.25em; line-height: 1; border-radius: 0.35em; box-decoration-break: clone; -webkit-box-decoration-break: clone\">\n",
       "    about 1000 miles per hour\n",
       "    <span style=\"font-size: 0.8em; font-weight: bold; line-height: 1; border-radius: 0.35em; text-transform: uppercase; vertical-align: middle; margin-left: 0.5rem\">QUANTITY</span>\n",
       "</mark>\n",
       ", we deploy the parachute to slow down even further.</br>Once we are below the speed of sound, the heat shield separates and the spacecraft looks for the ground with the landing radar.</br>Once we reach an altitude of \n",
       "<mark class=\"entity\" style=\"background: #e4e7d2; padding: 0.45em 0.6em; margin: 0 0.25em; line-height: 1; border-radius: 0.35em; box-decoration-break: clone; -webkit-box-decoration-break: clone\">\n",
       "    about 1 mile\n",
       "    <span style=\"font-size: 0.8em; font-weight: bold; line-height: 1; border-radius: 0.35em; text-transform: uppercase; vertical-align: middle; margin-left: 0.5rem\">QUANTITY</span>\n",
       "</mark>\n",
       ", the spacecraft drops out of the back-shell at \n",
       "<mark class=\"entity\" style=\"background: #e4e7d2; padding: 0.45em 0.6em; margin: 0 0.25em; line-height: 1; border-radius: 0.35em; box-decoration-break: clone; -webkit-box-decoration-break: clone\">\n",
       "    about 200 miles an hour\n",
       "    <span style=\"font-size: 0.8em; font-weight: bold; line-height: 1; border-radius: 0.35em; text-transform: uppercase; vertical-align: middle; margin-left: 0.5rem\">QUANTITY</span>\n",
       "</mark>\n",
       ". the spacecraft then fires up the landing engine to slow the landing engine down even further.</br>Once we’ve descended to \n",
       "<mark class=\"entity\" style=\"background: #e4e7d2; padding: 0.45em 0.6em; margin: 0 0.25em; line-height: 1; border-radius: 0.35em; box-decoration-break: clone; -webkit-box-decoration-break: clone\">\n",
       "    about 60 feet\n",
       "    <span style=\"font-size: 0.8em; font-weight: bold; line-height: 1; border-radius: 0.35em; text-transform: uppercase; vertical-align: middle; margin-left: 0.5rem\">QUANTITY</span>\n",
       "</mark>\n",
       " above the ground, and going \n",
       "<mark class=\"entity\" style=\"background: #e4e7d2; padding: 0.45em 0.6em; margin: 0 0.25em; line-height: 1; border-radius: 0.35em; box-decoration-break: clone; -webkit-box-decoration-break: clone\">\n",
       "    only about 2 miles per hour\n",
       "    <span style=\"font-size: 0.8em; font-weight: bold; line-height: 1; border-radius: 0.35em; text-transform: uppercase; vertical-align: middle; margin-left: 0.5rem\">QUANTITY</span>\n",
       "</mark>\n",
       ", the rover separates from the descent stage. As the rover is lowered, the wheels deploy in preparation for landing.</br>Once the rover is safely on the ground, and touchdown has been detected, the descent stage cuts the rover loose. the descent stage flies away leaving Curiosity safe on the surface of \n",
       "<mark class=\"entity\" style=\"background: #ff9561; padding: 0.45em 0.6em; margin: 0 0.25em; line-height: 1; border-radius: 0.35em; box-decoration-break: clone; -webkit-box-decoration-break: clone\">\n",
       "    Mars\n",
       "    <span style=\"font-size: 0.8em; font-weight: bold; line-height: 1; border-radius: 0.35em; text-transform: uppercase; vertical-align: middle; margin-left: 0.5rem\">LOC</span>\n",
       "</mark>\n",
       ".</br>One of the first things Curiosity does after landing is to deploy the mast, which supports many cameras and instruments. Curiosity shoots a laser at an interesting target. This helps us quickly understand the kind and</br>composition of an interesting target from a distance of \n",
       "<mark class=\"entity\" style=\"background: #e4e7d2; padding: 0.45em 0.6em; margin: 0 0.25em; line-height: 1; border-radius: 0.35em; box-decoration-break: clone; -webkit-box-decoration-break: clone\">\n",
       "    up to 30 feet\n",
       "    <span style=\"font-size: 0.8em; font-weight: bold; line-height: 1; border-radius: 0.35em; text-transform: uppercase; vertical-align: middle; margin-left: 0.5rem\">QUANTITY</span>\n",
       "</mark>\n",
       ".</br>If an interesting target is worth a closer look, the rover can drive up and inspect an interesting target with instruments and tools at the end of the rover arm.</br>The drill on its arm allows us to grab some of that rock and deliver some of that rock to the laboratory instruments inside the body of the rover.</br>the laboratory instruments inside the body of the rover can tell us even more about the mineral composition, getting us closer to understanding whether life could have existed on \n",
       "<mark class=\"entity\" style=\"background: #ff9561; padding: 0.45em 0.6em; margin: 0 0.25em; line-height: 1; border-radius: 0.35em; box-decoration-break: clone; -webkit-box-decoration-break: clone\">\n",
       "    Mars\n",
       "    <span style=\"font-size: 0.8em; font-weight: bold; line-height: 1; border-radius: 0.35em; text-transform: uppercase; vertical-align: middle; margin-left: 0.5rem\">LOC</span>\n",
       "</mark>\n",
       ".</br>Curiosity will be exploring the red planet for \n",
       "<mark class=\"entity\" style=\"background: #bfe1d9; padding: 0.45em 0.6em; margin: 0 0.25em; line-height: 1; border-radius: 0.35em; box-decoration-break: clone; -webkit-box-decoration-break: clone\">\n",
       "    at least 2 years\n",
       "    <span style=\"font-size: 0.8em; font-weight: bold; line-height: 1; border-radius: 0.35em; text-transform: uppercase; vertical-align: middle; margin-left: 0.5rem\">DATE</span>\n",
       "</mark>\n",
       " and there’s no telling what we will discover.\n",
       "</div>"
      ],
      "text/plain": [
       "<IPython.core.display.HTML object>"
      ]
     },
     "metadata": {},
     "output_type": "display_data"
    }
   ],
   "source": [
    "displacy.render(nlp(str(doc)), jupyter=True, style='ent', options = {'ents':['QUANTITY', 'TIME', 'LOC', 'DATE']})"
   ]
  },
  {
   "cell_type": "code",
   "execution_count": null,
   "metadata": {},
   "outputs": [],
   "source": []
  }
 ],
 "metadata": {
  "jupytext": {
   "encoding": "# -*- coding: utf-8 -*-",
   "text_representation": {
    "extension": ".py",
    "format_name": "light",
    "format_version": "1.5",
    "jupytext_version": "1.4.2"
   }
  },
  "kernelspec": {
   "display_name": ".contextual_drl",
   "language": "python",
   "name": ".contextual_drl"
  },
  "language_info": {
   "codemirror_mode": {
    "name": "ipython",
    "version": 3
   },
   "file_extension": ".py",
   "mimetype": "text/x-python",
   "name": "python",
   "nbconvert_exporter": "python",
   "pygments_lexer": "ipython3",
   "version": "3.6.2"
  },
  "toc": {
   "base_numbering": 1,
   "nav_menu": {},
   "number_sections": true,
   "sideBar": true,
   "skip_h1_title": false,
   "title_cell": "Table of Contents",
   "title_sidebar": "Contents",
   "toc_cell": false,
   "toc_position": {},
   "toc_section_display": true,
   "toc_window_display": true
  }
 },
 "nbformat": 4,
 "nbformat_minor": 2
}
