{
 "cells": [
  {
   "cell_type": "code",
   "execution_count": 1,
   "metadata": {},
   "outputs": [
    {
     "data": {
      "application/javascript": [
       "IPython.notebook.set_autosave_interval(0)"
      ]
     },
     "metadata": {},
     "output_type": "display_data"
    },
    {
     "name": "stdout",
     "output_type": "stream",
     "text": [
      "Autosave disabled\n"
     ]
    }
   ],
   "source": [
    "# need to run this to make work saving of py file of this jupyter notebook.\n",
    "%autosave 0"
   ]
  },
  {
   "cell_type": "markdown",
   "metadata": {},
   "source": [
    "# Give instructions of your domain in natural language. It could be a transcript, domain process manual or wikihow style instructions."
   ]
  },
  {
   "cell_type": "code",
   "execution_count": 50,
   "metadata": {},
   "outputs": [],
   "source": [
    "\n",
    "\n",
    "instructions = u'''Fire Alarm Instructions\n",
    "Turn-off all hazardous experiments or procedures before evacuating.\n",
    "If possible, take or secure all valuables, wallets, purses, keys, etc as quickly as possible.\n",
    "Close all doors behind you as you exit.\n",
    "Check all doors for heat before you open or go through them to avoid walking into a fire.\n",
    "Evacuate the building using the nearest exit or stairway. Do not use the elevators.\n",
    "Call 911 from a safe area and provide name, location, and nature of emergency.\n",
    "Proceed to a pre-determined assembly area of building and remain there until you are told to re-enter by the emergency personnel in charge.\n",
    "Do not impede access of emergency personnel to the area.\n",
    "Inform Building Safety Personnel or Emergency Personnel of the event, conditions and location of individuals who require assistance and have not been evacuated.\n",
    "'''"
   ]
  },
  {
   "cell_type": "code",
   "execution_count": 51,
   "metadata": {},
   "outputs": [
    {
     "name": "stdout",
     "output_type": "stream",
     "text": [
      "Fire Alarm Instructions\n",
      "Turn-off all hazardous experiments or procedures before evacuating.\n",
      "If possible, take or secure all valuables, wallets, purses, keys, etc as quickly as possible.\n",
      "Close all doors behind you as you exit.\n",
      "Check all doors for heat before you open or go through them to avoid walking into a fire.\n",
      "Evacuate the building using the nearest exit or stairway. Do not use the elevators.\n",
      "Call 911 from a safe area and provide name, location, and nature of emergency.\n",
      "Proceed to a pre-determined assembly area of building and remain there until you are told to re-enter by the emergency personnel in charge.\n",
      "Do not impede access of emergency personnel to the area.\n",
      "Inform Building Safety Personnel or Emergency Personnel of the event, conditions and location of individuals who require assistance and have not been evacuated.\n",
      "\n"
     ]
    }
   ],
   "source": [
    "# remove empty lines from input instructions -- this is important for BERT which looks at previous and forward sentences.\n",
    "valid_instructions = ''\n",
    "lines = instructions.split(\"\\n\")\n",
    "non_empty_lines = [line for line in lines if line.strip() != \"\"]\n",
    "for line in non_empty_lines:\n",
    "      valid_instructions += line + u\"\\n\"\n",
    "print(valid_instructions)"
   ]
  },
  {
   "cell_type": "markdown",
   "metadata": {},
   "source": [
    "#### Remove pronoun coreferences"
   ]
  },
  {
   "cell_type": "code",
   "execution_count": 52,
   "metadata": {},
   "outputs": [
    {
     "name": "stdout",
     "output_type": "stream",
     "text": [
      "Fire Alarm Instructions\n",
      "Turn-off all hazardous experiments or procedures before evacuating.\n",
      "If possible, take or secure all valuables, wallets, purses, keys, etc as quickly as possible.\n",
      "Close all doors behind you as you exit.\n",
      "Check all doors behind you for heat before you open or go through all doors behind you to avoid walking into a fire.\n",
      "Evacuate the building using the nearest exit or stairway. Do not use the elevators.\n",
      "Call 911 from a safe area and provide name, location, and nature of emergency.\n",
      "Proceed to a pre-determined assembly area of building and remain there until you are told to re-enter by the emergency personnel in charge.\n",
      "Do not impede access of emergency personnel to a pre-determined assembly area of building.\n",
      "Inform Building Safety Personnel or Emergency Personnel of the event, conditions and location of individuals who require assistance and have not been evacuated.\n",
      "\n"
     ]
    }
   ],
   "source": [
    "import spacy\n",
    "import neuralcoref\n",
    "\n",
    "\n",
    "nlp = spacy.load('en_core_web_sm')\n",
    "neuralcoref.add_to_pipe(nlp)\n",
    "\n",
    "doc1 = nlp(valid_instructions)\n",
    "coref_resolved_instructions =  doc1._.coref_resolved\n",
    "\n",
    "print(coref_resolved_instructions)"
   ]
  },
  {
   "cell_type": "markdown",
   "metadata": {},
   "source": [
    "#### write the file into proper directory to be run by main script"
   ]
  },
  {
   "cell_type": "code",
   "execution_count": 53,
   "metadata": {},
   "outputs": [],
   "source": [
    "fname = 'fire_domain.txt'\n",
    "main_file_name = 'non_gui2.py'"
   ]
  },
  {
   "cell_type": "code",
   "execution_count": 54,
   "metadata": {},
   "outputs": [],
   "source": [
    "# replace input filename in the main file\n",
    "import re\n",
    "\n",
    "# Read in the file\n",
    "with open(main_file_name, 'r') as file :\n",
    "    filedata = file.read()\n",
    "\n",
    "# Replace the target string\n",
    "filedata = re.sub(r'input_filename = .*txt', \"input_filename = '\"+ fname, filedata)\n",
    "\n",
    "# Write the file out again\n",
    "with open(main_file_name, 'w') as file:\n",
    "    file.write(filedata)"
   ]
  },
  {
   "cell_type": "code",
   "execution_count": 55,
   "metadata": {},
   "outputs": [
    {
     "name": "stdout",
     "output_type": "stream",
     "text": [
      "Fire Alarm Instructions\n",
      "Turn-off all hazardous experiments or procedures before evacuating.\n",
      "If possible, take or secure all valuables, wallets, purses, keys, etc as quickly as possible.\n",
      "Close all doors behind you as you exit.\n",
      "Check all doors behind you for heat before you open or go through all doors behind you to avoid walking into a fire.\n",
      "Evacuate the building using the nearest exit or stairway. Do not use the elevators.\n",
      "Call 911 from a safe area and provide name, location, and nature of emergency.\n",
      "Proceed to a pre-determined assembly area of building and remain there until you are told to re-enter by the emergency personnel in charge.\n",
      "Do not impede access of emergency personnel to a pre-determined assembly area of building.\n",
      "Inform Building Safety Personnel or Emergency Personnel of the event, conditions and location of individuals who require assistance and have not been evacuated.\n",
      "\n"
     ]
    }
   ],
   "source": [
    "# Writing the instructions file into directory\n",
    "# Writing the file\n",
    "text_file = open(\"./data/final_test/\" + fname, \"w\")\n",
    "text_file.write(coref_resolved_instructions)\n",
    "text_file.close()\n",
    "\n",
    "# Reading the file\n",
    "text_file = open(\"./data/final_test/\" + fname, \"r\")\n",
    "print(text_file.read())\n",
    "text_file.close()\n"
   ]
  },
  {
   "cell_type": "markdown",
   "metadata": {},
   "source": [
    "# Extract action sequence by running c-EASDRL"
   ]
  },
  {
   "cell_type": "code",
   "execution_count": 8,
   "metadata": {},
   "outputs": [
    {
     "name": "stdout",
     "output_type": "stream",
     "text": [
      "\u001b]0;IPython: Desktop/contextual_drl\u0007Using TensorFlow backend.\n",
      "2020-03-09 22:08:23.818755: I tensorflow/core/platform/cpu_feature_guard.cc:141] Your CPU supports instructions that this TensorFlow binary was not compiled to use: AVX2 FMA\n",
      "Initializing the Environment...\n",
      "Initializing the DQN...\n",
      "WARNING:tensorflow:From /Users/shivam/Library/Python/3.6/lib/python/site-packages/tensorflow/python/framework/op_def_library.py:263: colocate_with (from tensorflow.python.framework.ops) is deprecated and will be removed in a future version.\n",
      "Instructions for updating:\n",
      "Colocations handled automatically by placer.\n",
      "2020-03-09 22:08:42,861 From /Users/shivam/Library/Python/3.6/lib/python/site-packages/tensorflow/python/framework/op_def_library.py:263: colocate_with (from tensorflow.python.framework.ops) is deprecated and will be removed in a future version.\n",
      "Instructions for updating:\n",
      "Colocations handled automatically by placer.\n",
      "__________________________________________________________________________________________________\n",
      "Layer (type)                    Output Shape         Param #     Connected to                     \n",
      "==================================================================================================\n",
      "input_1 (InputLayer)            (None, 500, 6344, 1) 0                                            \n",
      "__________________________________________________________________________________________________\n",
      "conv2d_1 (Conv2D)               (None, 499, 1, 32)   406048      input_1[0][0]                    \n",
      "__________________________________________________________________________________________________\n",
      "conv2d_2 (Conv2D)               (None, 498, 1, 32)   609056      input_1[0][0]                    \n",
      "__________________________________________________________________________________________________\n",
      "conv2d_3 (Conv2D)               (None, 497, 1, 32)   812064      input_1[0][0]                    \n",
      "__________________________________________________________________________________________________\n",
      "conv2d_4 (Conv2D)               (None, 496, 1, 32)   1015072     input_1[0][0]                    \n",
      "__________________________________________________________________________________________________\n",
      "activation_1 (Activation)       (None, 499, 1, 32)   0           conv2d_1[0][0]                   \n",
      "__________________________________________________________________________________________________\n",
      "activation_2 (Activation)       (None, 498, 1, 32)   0           conv2d_2[0][0]                   \n",
      "__________________________________________________________________________________________________\n",
      "activation_3 (Activation)       (None, 497, 1, 32)   0           conv2d_3[0][0]                   \n",
      "__________________________________________________________________________________________________\n",
      "activation_4 (Activation)       (None, 496, 1, 32)   0           conv2d_4[0][0]                   \n",
      "__________________________________________________________________________________________________\n",
      "max_pooling2d_1 (MaxPooling2D)  (None, 1, 1, 32)     0           activation_1[0][0]               \n",
      "__________________________________________________________________________________________________\n",
      "max_pooling2d_2 (MaxPooling2D)  (None, 1, 1, 32)     0           activation_2[0][0]               \n",
      "__________________________________________________________________________________________________\n",
      "max_pooling2d_3 (MaxPooling2D)  (None, 1, 1, 32)     0           activation_3[0][0]               \n",
      "__________________________________________________________________________________________________\n",
      "max_pooling2d_4 (MaxPooling2D)  (None, 1, 1, 32)     0           activation_4[0][0]               \n",
      "__________________________________________________________________________________________________\n",
      "concatenate_1 (Concatenate)     (None, 1, 4, 32)     0           max_pooling2d_1[0][0]            \n",
      "                                                                 max_pooling2d_2[0][0]            \n",
      "                                                                 max_pooling2d_3[0][0]            \n",
      "                                                                 max_pooling2d_4[0][0]            \n",
      "__________________________________________________________________________________________________\n",
      "flatten_1 (Flatten)             (None, 128)          0           concatenate_1[0][0]              \n",
      "__________________________________________________________________________________________________\n",
      "dense_1 (Dense)                 (None, 256)          33024       flatten_1[0][0]                  \n",
      "__________________________________________________________________________________________________\n",
      "dense_2 (Dense)                 (None, 2)            514         dense_1[0][0]                    \n",
      "==================================================================================================\n",
      "Total params: 2,875,778\n",
      "Trainable params: 2,875,778\n",
      "Non-trainable params: 0\n",
      "__________________________________________________________________________________________________\n",
      "None\n",
      "Initializing the Environment...\n",
      "/Users/shivam/Library/Python/3.6/lib/python/site-packages/sklearn/utils/linear_assignment_.py:21: DeprecationWarning: The linear_assignment_ module is deprecated in 0.21 and will be removed from 0.23. Use scipy.optimize.linear_sum_assignment instead.\n",
      "  DeprecationWarning)\n",
      "Initializing the DQN...\n",
      "__________________________________________________________________________________________________\n",
      "Layer (type)                    Output Shape         Param #     Connected to                     \n",
      "==================================================================================================\n",
      "input_2 (InputLayer)            (None, 100, 2604, 1) 0                                            \n",
      "__________________________________________________________________________________________________\n",
      "conv2d_5 (Conv2D)               (None, 99, 1, 32)    166688      input_2[0][0]                    \n",
      "__________________________________________________________________________________________________\n",
      "conv2d_6 (Conv2D)               (None, 98, 1, 32)    250016      input_2[0][0]                    \n",
      "__________________________________________________________________________________________________\n",
      "conv2d_7 (Conv2D)               (None, 97, 1, 32)    333344      input_2[0][0]                    \n",
      "__________________________________________________________________________________________________\n",
      "conv2d_8 (Conv2D)               (None, 96, 1, 32)    416672      input_2[0][0]                    \n",
      "__________________________________________________________________________________________________\n",
      "activation_5 (Activation)       (None, 99, 1, 32)    0           conv2d_5[0][0]                   \n",
      "__________________________________________________________________________________________________\n",
      "activation_6 (Activation)       (None, 98, 1, 32)    0           conv2d_6[0][0]                   \n",
      "__________________________________________________________________________________________________\n",
      "activation_7 (Activation)       (None, 97, 1, 32)    0           conv2d_7[0][0]                   \n",
      "__________________________________________________________________________________________________\n",
      "activation_8 (Activation)       (None, 96, 1, 32)    0           conv2d_8[0][0]                   \n",
      "__________________________________________________________________________________________________\n",
      "max_pooling2d_5 (MaxPooling2D)  (None, 1, 1, 32)     0           activation_5[0][0]               \n",
      "__________________________________________________________________________________________________\n",
      "max_pooling2d_6 (MaxPooling2D)  (None, 1, 1, 32)     0           activation_6[0][0]               \n",
      "__________________________________________________________________________________________________\n",
      "max_pooling2d_7 (MaxPooling2D)  (None, 1, 1, 32)     0           activation_7[0][0]               \n",
      "__________________________________________________________________________________________________\n",
      "max_pooling2d_8 (MaxPooling2D)  (None, 1, 1, 32)     0           activation_8[0][0]               \n",
      "__________________________________________________________________________________________________\n",
      "concatenate_2 (Concatenate)     (None, 1, 4, 32)     0           max_pooling2d_5[0][0]            \n",
      "                                                                 max_pooling2d_6[0][0]            \n",
      "                                                                 max_pooling2d_7[0][0]            \n",
      "                                                                 max_pooling2d_8[0][0]            \n",
      "__________________________________________________________________________________________________\n",
      "flatten_2 (Flatten)             (None, 128)          0           concatenate_2[0][0]              \n",
      "__________________________________________________________________________________________________\n",
      "dense_3 (Dense)                 (None, 256)          33024       flatten_2[0][0]                  \n",
      "__________________________________________________________________________________________________\n",
      "dense_4 (Dense)                 (None, 2)            514         dense_3[0][0]                    \n",
      "==================================================================================================\n",
      "Total params: 1,200,258\n",
      "Trainable params: 1,200,258\n",
      "Non-trainable params: 0\n",
      "__________________________________________________________________________________________________\n",
      "None\n",
      "Loading weights ...\n"
     ]
    },
    {
     "name": "stdout",
     "output_type": "stream",
     "text": [
      "Loaded weights from weights/cooking_act_bert.h5 ...\n",
      "Loaded weights from weights/wikihow_arg_elmo.h5 ...\n",
      "weights loaded ...\n",
      "Fire Alarm Instructions\n",
      "Turn-off all hazardous experiments or procedures before evacuating.\n",
      "If possible, take or secure all valuables, wallets, purses, keys, etc as quickly as possible.\n",
      "Close all doors behind you as you exit.\n",
      "Check all doors behind you for heat before you open or go through all doors behind you to avoid walking into a fire.\n",
      "Evacuate the building using the nearest exit or stairway. Do not use the elevators.\n",
      "Call 911 from a safe area and provide name, location, and nature of emergency.\n",
      "Proceed to a pre-determined assembly area of building and remain there until you are told to re-enter by the emergency personnel in charge.\n",
      "Do not impede access of emergency personnel to a pre-determined assembly area of building.\n",
      "Inform Building Safety Personnel or Emergency Personnel of the event, conditions and location of individuals who require assistance and have not been evacuated.\n",
      " \n",
      "100%|███████████████████████████████████████████| 11/11 [00:01<00:00,  5.45it/s]\n",
      "\n",
      "NO1: Fire(1) Alarm(2) Instructions(3) \n",
      "\n",
      "NO2: Turn-off(1) all(2) hazardous(3) experiments(4) or(5) procedures(6) before(7) evacuating.(8) \n",
      "<1>  Turn-off (experiments)    <2>  evacuating. (experiments, procedures)    \n",
      "\n",
      "NO3: If(1) possible(2) take(3) or(4) secure(5) all(6) valuables(7) wallets(8) purses(9) keys(10) etc(11) as(12) quickly(13) as(14) possible.(15) \n",
      "<3>  take (valuables)    <4>  secure (valuables, wallets)    \n",
      "\n",
      "NO4: Close(1) all(2) doors(3) behind(4) you(5) as(6) you(7) exit.(8) \n",
      "<5>  Close (doors)    \n",
      "\n",
      "NO5: Check(1) all(2) doors(3) behind(4) you(5) for(6) heat(7) before(8) you(9) open(10) or(11) go(12) through(13) all(14) doors(15) behind(16) you(17) to(18) avoid(19) walking(20) into(21) a(22) fire.(23) \n",
      "<6>  Check (doors)    <7>  open ()    \n",
      "\n",
      "NO6: Evacuate(1) the(2) building(3) using(4) the(5) nearest(6) exit(7) or(8) stairway(9) \n",
      "<8>  Evacuate (building)    <9>  using (nearest, exit)    \n",
      "\n",
      "NO7: Do(1) not(2) use(3) the(4) elevators.(5) \n",
      "<10>  use (elevators.)    \n",
      "\n",
      "NO8: Call(1) 911(2) from(3) a(4) safe(5) area(6) and(7) provide(8) name(9) location(10) and(11) nature(12) of(13) emergency.(14) \n",
      "<11>  Call (911)    <12>  provide (name, location)    \n",
      "\n",
      "NO9: Proceed(1) to(2) a(3) pre-determined(4) assembly(5) area(6) of(7) building(8) and(9) remain(10) there(11) until(12) you(13) are(14) told(15) to(16) re-enter(17) by(18) the(19) emergency(20) personnel(21) in(22) charge.(23) \n",
      "<13>  remain (there)    <14>  re-enter (emergency, personnel)    \n",
      "\n",
      "NO10: Do(1) not(2) impede(3) access(4) of(5) emergency(6) personnel(7) to(8) a(9) pre-determined(10) assembly(11) area(12) of(13) building.(14) \n",
      "\n",
      "NO11: Inform(1) Building(2) Safety(3) Personnel(4) or(5) Emergency(6) Personnel(7) of(8) the(9) event(10) conditions(11) and(12) location(13) of(14) individuals(15) who(16) require(17) assistance(18) and(19) have(20) not(21) been(22) evacuated.(23) \n",
      "<15>  Inform (Safety, Personnel)    \n",
      "\n",
      "===========================\n",
      "\n",
      "Turn-off (experiments),evacuating. (experiments, procedures),take (valuables),secure (valuables, wallets),Close (doors),Check (doors),open (),Evacuate (building),using (nearest, exit),use (elevators.),Call (911),provide (name, location),remain (there),re-enter (emergency, personnel),Inform (Safety, Personnel)\n"
     ]
    }
   ],
   "source": [
    "# don't forget to switch the dataset between wikihow in non_gui2.py for firealarm domain\n",
    "!python3.6 -W ignore non_gui2.py"
   ]
  },
  {
   "cell_type": "markdown",
   "metadata": {},
   "source": [
    "# Learn the domain model in PDDL using iLOCM"
   ]
  },
  {
   "cell_type": "code",
   "execution_count": 9,
   "metadata": {},
   "outputs": [],
   "source": [
    "from collections import defaultdict\n",
    "import itertools\n",
    "import os\n",
    "from tabulate import tabulate\n",
    "from pprint import pprint\n",
    "import matplotlib.pyplot as plt\n",
    "%matplotlib inline\n",
    "import networkx as nx\n",
    "import pandas as pd\n",
    "pd.options.display.max_columns = 100"
   ]
  },
  {
   "cell_type": "markdown",
   "metadata": {},
   "source": [
    "## interactive-LOCM \n",
    "This code combines LOCM1 and LOCM2 algorithms and is last part of the pipeline that I use in my thesis to generate PDDL models from instructional texts.\n",
    "\n",
    "- Step 0: Preprocess: Lemmatize, Coref resolve, action override rename and replacing empty parameters.\n",
    "- Step 1: Find classes and make transition graphs.\n",
    "- Step 2: Get transistion sets from LOCM2 algorithm\n",
    "- Step 3: Create FSMs\n",
    "- Step 4: Perform Zero Analysis and add new FSM if necessary.\n",
    "- Step 5: Create and test hypothesis for state parameters\n",
    "- Step 6: Create and merge state parameters\n",
    "- Step 7: Remove parameter flaws\n",
    "- Step 8: Extract static preconditions\n",
    "- Step 9: Form action schemas"
   ]
  },
  {
   "cell_type": "code",
   "execution_count": 10,
   "metadata": {},
   "outputs": [],
   "source": [
    "input_file_name = \"locm_data/\"+fname\n",
    "domain_name = input_file_name.split('/')[-1].split('.')[0] #domain name is the name of the file"
   ]
  },
  {
   "cell_type": "code",
   "execution_count": 11,
   "metadata": {},
   "outputs": [
    {
     "name": "stdout",
     "output_type": "stream",
     "text": [
      "fire_domain\n"
     ]
    }
   ],
   "source": [
    "print(domain_name)"
   ]
  },
  {
   "cell_type": "markdown",
   "metadata": {},
   "source": [
    "### Read input file"
   ]
  },
  {
   "cell_type": "code",
   "execution_count": 12,
   "metadata": {},
   "outputs": [],
   "source": [
    "import string\n",
    "def read_file(file_path):\n",
    "    '''\n",
    "    Read the input data and return list of action sequences.\n",
    "    Each sequence is a list of action-argumentlist tuples.\n",
    "    '''\n",
    "    file = open(input_file_name, 'r')\n",
    "    sequences = []\n",
    "    for line in file:\n",
    "        \n",
    "        actions = []\n",
    "        arguments = []\n",
    "        if line and not line.isspace() and len(line)>1:\n",
    "            sequence = line.rstrip(\"\\n\\r\").lstrip(\"\\n\\r\").lower() \n",
    "            action_defs = sequence.split(\"),\")\n",
    "\n",
    "            for action_def in action_defs:\n",
    "                action = action_def.split('(')[0].strip(\")\\n\\r\").strip()\n",
    "                argument = action_def.split('(')[1].strip(\")\\n\\r\")\n",
    "                actions.append(action.translate(str.maketrans('', '', string.punctuation)))\n",
    "                argument_list = argument.split(',')\n",
    "                argument_list = [x.strip() for x in argument_list]\n",
    "                argument_list = [x.strip('.') for x in argument_list]\n",
    "                #argument_list.insert(0,'zero')\n",
    "                arguments.append(argument_list)\n",
    "                \n",
    "            \n",
    "            actarg_tuples = zip(actions,arguments)\n",
    "            sequences.append(list(actarg_tuples))\n",
    "    return sequences\n",
    "\n",
    "def print_sequences(sequences):\n",
    "    for seq in sequences:\n",
    "        for index,action in enumerate(seq):\n",
    "            print(str(index) + \": \" + str(action))\n",
    "        print()"
   ]
  },
  {
   "cell_type": "code",
   "execution_count": 13,
   "metadata": {
    "lines_to_next_cell": 2
   },
   "outputs": [
    {
     "name": "stdout",
     "output_type": "stream",
     "text": [
      "0: ('turnoff', ['experiments'])\n",
      "1: ('evacuating', ['experiments', 'procedures'])\n",
      "2: ('take', ['valuables'])\n",
      "3: ('secure', ['valuables', 'wallets'])\n",
      "4: ('close', ['doors'])\n",
      "5: ('check', ['doors'])\n",
      "6: ('open', [''])\n",
      "7: ('evacuate', ['building'])\n",
      "8: ('using', ['nearest', 'exit'])\n",
      "9: ('use', ['elevators'])\n",
      "10: ('call', ['911'])\n",
      "11: ('provide', ['name', 'location'])\n",
      "12: ('remain', ['there'])\n",
      "13: ('reenter', ['emergency', 'personnel'])\n",
      "14: ('inform', ['safety', 'personnel'])\n",
      "\n"
     ]
    }
   ],
   "source": [
    "sequences = read_file(input_file_name)\n",
    "print_sequences(sequences)"
   ]
  },
  {
   "cell_type": "code",
   "execution_count": 14,
   "metadata": {},
   "outputs": [
    {
     "name": "stdout",
     "output_type": "stream",
     "text": [
      "1\n"
     ]
    }
   ],
   "source": [
    "print(len(sequences))"
   ]
  },
  {
   "cell_type": "markdown",
   "metadata": {},
   "source": [
    "### Normalize action sequences by lemmatization of extracted actions and arguments"
   ]
  },
  {
   "cell_type": "code",
   "execution_count": 15,
   "metadata": {},
   "outputs": [
    {
     "name": "stdout",
     "output_type": "stream",
     "text": [
      "0: ('turnoff', ['experiment'])\n",
      "1: ('evacuate', ['experiment', 'procedure'])\n",
      "2: ('take', ['valuable'])\n",
      "3: ('secure', ['valuable', 'wallet'])\n",
      "4: ('close', ['door'])\n",
      "5: ('check', ['door'])\n",
      "6: ('open', [''])\n",
      "7: ('evacuate', ['building'])\n",
      "8: ('use', ['nearest', 'exit'])\n",
      "9: ('use', ['elevator'])\n",
      "10: ('call', ['911'])\n",
      "11: ('provide', ['name', 'location'])\n",
      "12: ('remain', ['there'])\n",
      "13: ('reenter', ['emergency', 'personnel'])\n",
      "14: ('inform', ['safety', 'personnel'])\n",
      "\n"
     ]
    }
   ],
   "source": [
    "# normalize the words by lemmatization\n",
    "# ps = PorterStemmer()\n",
    "\n",
    "import nltk\n",
    "from nltk.stem import WordNetLemmatizer\n",
    "wordnet_lemmatizer = WordNetLemmatizer()\n",
    "\n",
    "new_sequences = []\n",
    "\n",
    "for seq in sequences:\n",
    "    acts = []\n",
    "    arg_lists = []\n",
    "    for index,action in enumerate(seq):\n",
    "        act = wordnet_lemmatizer.lemmatize(action[0],pos='v')\n",
    "        acts.append(act)\n",
    "        arg_list = [wordnet_lemmatizer.lemmatize(arg, pos='n') for arg in action[1]]\n",
    "        arg_lists.append(arg_list)\n",
    "    act_arg_tups = zip(acts,arg_lists)\n",
    "    new_sequences.append(list(act_arg_tups))\n",
    "\n",
    "\n",
    "print_sequences(new_sequences)\n",
    "sequences = new_sequences"
   ]
  },
  {
   "cell_type": "markdown",
   "metadata": {},
   "source": [
    "### rename actions with same name but different arguments by appending a counter to them"
   ]
  },
  {
   "cell_type": "code",
   "execution_count": 16,
   "metadata": {},
   "outputs": [],
   "source": [
    "# since action always have one argument, consider '' as an implicit one argument. Not renaming such actions.\n",
    "# renaming 1 or more clashing action prototypes \n",
    "\n",
    "\n",
    "all_tuples_in_all_seqs = []\n",
    "for seq in sequences:\n",
    "    for index,action in enumerate(seq):\n",
    "        all_tuples_in_all_seqs.append((action[0],len(action[1])))\n",
    "        \n",
    "all_act_len_set = set(all_tuples_in_all_seqs) # set of all actions with their arglist lens\n",
    "\n",
    "\n",
    "from collections import defaultdict\n",
    "d = defaultdict(list)\n",
    "\n",
    "for k, v in all_act_len_set:\n",
    "    d[k].append(v) #dictionary of list of lens for each key\n",
    "\n",
    "# keys with list len > 1 have clashing action names\n",
    "clashing_action_tuples = []     \n",
    "for k,v in d.items():\n",
    "    if len(d[k]) > 1:\n",
    "        for index,val in enumerate(d[k]):\n",
    "            if index > 0:\n",
    "                clashing_action_tuples.append((k,val,index))\n",
    "                \n",
    "\n",
    "# replace all clashing action tuples in original sequences\n",
    "\n",
    "\n",
    "for clashing_tup in clashing_action_tuples:\n",
    "    for i, seq in enumerate(sequences):\n",
    "        for j, actarg_tup in enumerate(seq):\n",
    "            if (clashing_tup[0] == actarg_tup[0]) and clashing_tup[1] == len(actarg_tup[1]):\n",
    "                sequences[i][j] = (sequences[i][j][0]+str(clashing_tup[2]), sequences[i][j][1])\n",
    "                \n",
    "\n",
    "# replace all '' parameters with '#'\n",
    "for i, seq in enumerate(sequences):\n",
    "    for j, actarg_tup in enumerate(seq):\n",
    "        sequences[i][j] = (sequences[i][j][0], ['#' if x=='' else x for x in sequences[i][j][1]])"
   ]
  },
  {
   "cell_type": "code",
   "execution_count": 17,
   "metadata": {},
   "outputs": [
    {
     "name": "stdout",
     "output_type": "stream",
     "text": [
      "0: ('turnoff', ['experiment'])\n",
      "1: ('evacuate', ['experiment', 'procedure'])\n",
      "2: ('take', ['valuable'])\n",
      "3: ('secure', ['valuable', 'wallet'])\n",
      "4: ('close', ['door'])\n",
      "5: ('check', ['door'])\n",
      "6: ('open', ['#'])\n",
      "7: ('evacuate1', ['building'])\n",
      "8: ('use', ['nearest', 'exit'])\n",
      "9: ('use1', ['elevator'])\n",
      "10: ('call', ['911'])\n",
      "11: ('provide', ['name', 'location'])\n",
      "12: ('remain', ['there'])\n",
      "13: ('reenter', ['emergency', 'personnel'])\n",
      "14: ('inform', ['safety', 'personnel'])\n",
      "\n"
     ]
    }
   ],
   "source": [
    "print_sequences(sequences)"
   ]
  },
  {
   "cell_type": "markdown",
   "metadata": {},
   "source": [
    "# Step 1.1: Find classes "
   ]
  },
  {
   "cell_type": "code",
   "execution_count": 18,
   "metadata": {},
   "outputs": [
    {
     "name": "stdout",
     "output_type": "stream",
     "text": [
      "\n",
      "Actions\n",
      "{'take', 'reenter', 'use', 'evacuate1', 'provide', 'inform', 'secure', 'open', 'turnoff', 'close', 'use1', 'call', 'check', 'evacuate', 'remain'}\n",
      "\n",
      "Transitions\n",
      "{'reenter.1', 'take.0', 'secure.0', 'inform.1', 'remain.0', 'open.0', 'secure.1', 'call.0', 'reenter.0', 'use1.0', 'inform.0', 'provide.0', 'use.1', 'evacuate1.0', 'check.0', 'evacuate.1', 'use.0', 'provide.1', 'close.0', 'turnoff.0', 'evacuate.0'}\n",
      "\n",
      "Arguments/Objects\n",
      "{'procedure', 'valuable', '911', 'there', 'wallet', 'exit', 'name', 'personnel', 'safety', 'building', 'experiment', 'door', 'elevator', 'nearest', 'location', 'emergency', '#'}\n"
     ]
    }
   ],
   "source": [
    "transitions = set() # A transition is denoted by action_name + argument_number.\n",
    "arguments = set()\n",
    "actions = set()\n",
    "for seq in sequences:\n",
    "    for actarg_tuple in seq:\n",
    "        actions.add(actarg_tuple[0])\n",
    "        for j, arg in enumerate(actarg_tuple[1]):\n",
    "            transitions.add(actarg_tuple[0]+\".\"+str(j))\n",
    "            arguments.add(arg)\n",
    "\n",
    "print(\"\\nActions\")\n",
    "print(actions)\n",
    "print(\"\\nTransitions\")\n",
    "print(transitions)\n",
    "print(\"\\nArguments/Objects\")\n",
    "print(arguments)"
   ]
  },
  {
   "cell_type": "code",
   "execution_count": 19,
   "metadata": {},
   "outputs": [],
   "source": [
    "def get_actarg_dictionary(sequences):\n",
    "    d = defaultdict(list)\n",
    "    for seq in sequences:\n",
    "        for actarg_tuple in seq:\n",
    "            d[actarg_tuple[0]].append(actarg_tuple[1])\n",
    "    return d\n",
    "d = get_actarg_dictionary(sequences)"
   ]
  },
  {
   "cell_type": "code",
   "execution_count": 20,
   "metadata": {},
   "outputs": [],
   "source": [
    "# class util functions.\n",
    "def get_classes(d):\n",
    "    # TODO incorporate word similarity in get classes.\n",
    "    c = defaultdict(set)\n",
    "    for k,v in d.items():\n",
    "        for arg_list in v:\n",
    "            for i,object in enumerate(arg_list):\n",
    "                c[k,i].add(object)\n",
    "\n",
    "    sets = c.values()\n",
    "    classes = []\n",
    "    # remove duplicate classes\n",
    "    for s in sets:\n",
    "        if s not in classes:\n",
    "            classes.append(s)\n",
    "\n",
    "    # now do pairwise intersections of all values. If intersection, combine them; then return the final sets.\n",
    "    classes_copy = list(classes)\n",
    "    while True:\n",
    "        combinations = list(itertools.combinations(classes_copy,2))\n",
    "        intersections_count = 0\n",
    "        for combination in combinations:\n",
    "            if combination[0].intersection(combination[1]):\n",
    "                intersections_count +=1\n",
    "\n",
    "                if combination[0] in classes_copy:\n",
    "                    classes_copy.remove(combination[0])\n",
    "                if combination[1] in classes_copy:\n",
    "                    classes_copy.remove(combination[1])\n",
    "                classes_copy.append(combination[0].union(combination[1]))\n",
    "\n",
    "        if intersections_count==0:\n",
    "            # print(\"no intersections left\")\n",
    "            break\n",
    "\n",
    "    return classes_copy\n",
    "\n",
    "# TODO: Can use better approach here. NER might help.\n",
    "def get_class_names(classes):\n",
    "    # Name the class to first object found ignoring the digits in it\n",
    "    class_names = []\n",
    "    for c in classes:\n",
    "        for object in c:\n",
    "#             object = ''.join([i for i in object if not i.isdigit()])\n",
    "            class_names.append(object)\n",
    "            break\n",
    "    return class_names\n",
    "\n",
    "def get_class_index(arg,classes):\n",
    "    for class_index, c in enumerate(classes):\n",
    "        if arg in c:\n",
    "            return class_index #it is like breaking out of the loop\n",
    "    print(\"Error:class index not found\") #this statement is only executed if class index is not returned."
   ]
  },
  {
   "cell_type": "code",
   "execution_count": 21,
   "metadata": {
    "lines_to_next_cell": 0
   },
   "outputs": [
    {
     "name": "stdout",
     "output_type": "stream",
     "text": [
      "\n",
      "Sorts/Classes\n",
      "[{'experiment'}, {'procedure'}, {'valuable'}, {'wallet'}, {'door'}, {'#'}, {'building'}, {'nearest'}, {'exit'}, {'elevator'}, {'911'}, {'name'}, {'location'}, {'there'}, {'emergency'}, {'personnel'}, {'safety'}]\n",
      "\n",
      "Extracted class names\n",
      "['experiment', 'procedure', 'valuable', 'wallet', 'door', '#', 'building', 'nearest', 'exit', 'elevator', '911', 'name', 'location', 'there', 'emergency', 'personnel', 'safety']\n"
     ]
    }
   ],
   "source": [
    "classes = get_classes(d) #sorts of object\n",
    "print(\"\\nSorts/Classes\")\n",
    "print(classes)\n",
    "\n",
    "class_names = get_class_names(classes)\n",
    "print(\"\\nExtracted class names\")\n",
    "print(class_names)"
   ]
  },
  {
   "cell_type": "markdown",
   "metadata": {},
   "source": [
    "# USER INPUT 1: ENTER CORRECT CLASS NAMES"
   ]
  },
  {
   "cell_type": "code",
   "execution_count": 22,
   "metadata": {},
   "outputs": [
    {
     "name": "stdout",
     "output_type": "stream",
     "text": [
      "\n",
      "Renamed class names\n",
      "['experiment', 'procedure', 'valuable', 'wallet', 'door', '#', 'building', 'nearest', 'exit', 'elevator', '911', 'name', 'location', 'there', 'emergency', 'personnel', 'safety']\n"
     ]
    }
   ],
   "source": [
    "############ (Optional) User Input ############\n",
    "# Give user an option to change class names.\n",
    "# class_names[0] = 'rocket'\n",
    "\n",
    "print(\"\\nRenamed class names\")\n",
    "print(class_names)\n"
   ]
  },
  {
   "cell_type": "markdown",
   "metadata": {},
   "source": [
    "#### Assumptions\n",
    "- Each object of a same class undergoes similar kind of transition.\n",
    "- Objects of same class in a same action undergo similar kind of transition."
   ]
  },
  {
   "cell_type": "code",
   "execution_count": 23,
   "metadata": {},
   "outputs": [
    {
     "name": "stdout",
     "output_type": "stream",
     "text": [
      "\n",
      "Actions\n",
      "{'take', 'reenter', 'use', 'evacuate1', 'provide', 'inform', 'secure', 'open', 'turnoff', 'close', 'use1', 'call', 'check', 'evacuate', 'remain'}\n",
      "\n",
      "Transitions\n",
      "{'reenter.1', 'take.0', 'secure.0', 'inform.1', 'remain.0', 'open.0', 'secure.1', 'call.0', 'reenter.0', 'use1.0', 'inform.0', 'provide.0', 'use.1', 'evacuate1.0', 'check.0', 'evacuate.1', 'use.0', 'provide.1', 'close.0', 'turnoff.0', 'evacuate.0'}\n",
      "{'inform.safety.0', 'use.exit.1', 'open.#.0', 'evacuate1.building.0', 'provide.name.0', 'secure.valuable.0', 'check.door.0', 'secure.wallet.1', 'inform.personnel.1', 'evacuate.procedure.1', 'close.door.0', 'remain.there.0', 'evacuate.experiment.0', 'call.911.0', 'provide.location.1', 'use1.elevator.0', 'turnoff.experiment.0', 'reenter.personnel.1', 'take.valuable.0', 'reenter.emergency.0', 'use.nearest.0'}\n",
      "\n",
      "Arguments/Objects\n",
      "{'procedure', 'valuable', '911', 'there', 'wallet', 'exit', 'name', 'personnel', 'safety', 'building', 'experiment', 'door', 'elevator', 'nearest', 'location', 'emergency', '#'}\n"
     ]
    }
   ],
   "source": [
    "# change transitions to be more meaningful by incorporating class_names.\n",
    "full_transitions = set()\n",
    "for seq in sequences:\n",
    "    for actarg_tuple in seq:\n",
    "        actions.add(actarg_tuple[0])\n",
    "        for j, arg in enumerate(actarg_tuple[1]):\n",
    "            full_transitions.add(actarg_tuple[0]+\".\"+class_names[get_class_index(arg,classes)]+\".\"+str(j))\n",
    "            arguments.add(arg)\n",
    "\n",
    "print(\"\\nActions\")\n",
    "print(actions)\n",
    "print(\"\\nTransitions\")\n",
    "print(transitions)\n",
    "print(full_transitions)\n",
    "print(\"\\nArguments/Objects\")\n",
    "print(arguments)"
   ]
  },
  {
   "cell_type": "code",
   "execution_count": 24,
   "metadata": {},
   "outputs": [
    {
     "name": "stdout",
     "output_type": "stream",
     "text": [
      "\n",
      "Number of Actions: 15,\n",
      "Number of unique transitions: 21,\n",
      "Number of unique objects (arguments): 17,\n",
      "Number of classes/sorts: 17\n"
     ]
    }
   ],
   "source": [
    "print(\"\\nNumber of Actions: {},\\nNumber of unique transitions: {},\\nNumber of unique objects (arguments): {},\\nNumber of classes/sorts: {}\".format(len(actions), len(transitions), len(arguments), len(classes)))"
   ]
  },
  {
   "cell_type": "markdown",
   "metadata": {},
   "source": [
    "# Step 1.2: Make transition graphs\n",
    "\n",
    "User can fix these easily as well. (Cytoscape)."
   ]
  },
  {
   "cell_type": "code",
   "execution_count": null,
   "metadata": {},
   "outputs": [],
   "source": []
  },
  {
   "cell_type": "markdown",
   "metadata": {},
   "source": [
    "## Connect to Cytoscape"
   ]
  },
  {
   "cell_type": "code",
   "execution_count": 25,
   "metadata": {},
   "outputs": [],
   "source": [
    "# from py2cytoscape.data.cyrest_client import CyRestClient\n",
    "# import networkx as nx\n",
    "# from py2cytoscape.util import from_networkx\n",
    "# cy = CyRestClient()\n",
    "# cy.session.delete() # Clear running session (= delete existing networks and views)\n",
    "# from IPython.display import Image\n",
    "# # network = cy.network.create(name='pizza.graphml', collection='pizza.graphml')"
   ]
  },
  {
   "cell_type": "code",
   "execution_count": 26,
   "metadata": {},
   "outputs": [],
   "source": [
    "# # You can check all available Visual Properties with this function call:\n",
    "# vps = pd.Series(cy.style.vps.get_all())\n",
    "# vps.head(20)"
   ]
  },
  {
   "cell_type": "markdown",
   "metadata": {},
   "source": [
    "## Building Transition graphs"
   ]
  },
  {
   "cell_type": "markdown",
   "metadata": {},
   "source": [
    "##### Utils"
   ]
  },
  {
   "cell_type": "code",
   "execution_count": 27,
   "metadata": {},
   "outputs": [],
   "source": [
    "def empty_directory(folder):\n",
    "    for the_file in os.listdir(folder):\n",
    "        file_path = os.path.join(folder, the_file)\n",
    "        try:\n",
    "            if os.path.isfile(file_path):\n",
    "                os.unlink(file_path)\n",
    "            # elif os.path.isdir(file_path): shutil.rmtree(file_path)\n",
    "        except Exception as e:\n",
    "            print(e)\n",
    "\n",
    "def findsubsets(S,m):\n",
    "    return set(itertools.combinations(S, m))\n",
    "\n",
    "def print_table(matrix):\n",
    "    print(tabulate(matrix, headers='keys', tablefmt='github'))"
   ]
  },
  {
   "cell_type": "markdown",
   "metadata": {},
   "source": [
    "#### Save graphs in pickle format."
   ]
  },
  {
   "cell_type": "code",
   "execution_count": 28,
   "metadata": {},
   "outputs": [],
   "source": [
    "def plot_and_save(graphs):\n",
    "    adjacency_matrix_list = [] # list of adjacency matrices per class\n",
    "    \n",
    "    for index, G in enumerate(graphs):\n",
    "#         nx.write_graphml(G, \"output/\"+ domain_name + \"/\" +  class_names[index] + \".graphml\")\n",
    "        nx.write_gpickle(G, \"output/\"+ domain_name + \"/\" +  class_names[index] + \".gpickle\")\n",
    "        \n",
    "        \n",
    "        nx.draw(G, arrow_style='fancy', with_labels=True)\n",
    "        labels = nx.get_edge_attributes(G, 'weight')\n",
    "        pos = nx.spring_layout(G)\n",
    "        nx.draw_networkx_edge_labels(G, pos, edge_labels=labels)\n",
    "\n",
    "        plt.show()\n",
    "        \n",
    "        print(\"Nodes:{}\".format(G.nodes()))\n",
    "        print(\"Edges:{}\".format(G.edges()))\n",
    "\n",
    "        # TODO: save dataframes in cache and reload them.\n",
    "        # A = nx.to_numpy_matrix(G, nodelist=G.nodes())\n",
    "        \n",
    "        df = nx.to_pandas_adjacency(G, nodelist=G.nodes(), dtype=int)\n",
    "        adjacency_matrix_list.append(df)\n",
    "    return adjacency_matrix_list"
   ]
  },
  {
   "cell_type": "markdown",
   "metadata": {},
   "source": [
    "#### Build transitions graphs and call save function"
   ]
  },
  {
   "cell_type": "code",
   "execution_count": 29,
   "metadata": {},
   "outputs": [],
   "source": [
    "def build_and_save_transition_graphs(classes, domain_name, class_names):\n",
    "    # There should be a graph for each class of objects.\n",
    "    graphs = []  # number of graphs = number of sorts.\n",
    "    # Initialize all graphs empty\n",
    "    for sort in classes:\n",
    "        graphs.append(nx.DiGraph())\n",
    "\n",
    "    consecutive_transition_lists = [] #list of consecutive transitions per object instance per sequence.\n",
    "\n",
    "    for m, arg in enumerate(arguments):  # for all arguments (objects found in sequences)\n",
    "        for n, seq in enumerate(sequences):  # for all sequences\n",
    "            consecutive_transition_list = list()  # consecutive transition list for a sequence and an object (arg)\n",
    "            for i, actarg_tuple in enumerate(seq):\n",
    "                for j, arg_prime in enumerate(actarg_tuple[1]):  # for all arguments in actarg tuples\n",
    "                    if arg == arg_prime:  # if argument matches arg\n",
    "                        node = actarg_tuple[0] + \".\" +  str(j)\n",
    "                        # node = actarg_tuple[0] +  \".\" + class_names[get_class_index(arg,classes)] + \".\" +  str(j)  # name the node of graph which represents a transition\n",
    "                        consecutive_transition_list.append(node)  # add node to the cons_transition for sequence and argument\n",
    "\n",
    "                        # for each class append the nodes to the graph of that class\n",
    "                        class_index = get_class_index(arg_prime, classes)  # get index of class to which the object belongs to\n",
    "                        graphs[class_index].add_node(node)  # add node to the graph of that class\n",
    "\n",
    "            consecutive_transition_lists.append([n, arg, consecutive_transition_list])\n",
    "\n",
    "    # print(consecutive_transition_lists)\n",
    "    # for all consecutive transitions add edges to the appropriate graphs.\n",
    "    for cons_trans_list in consecutive_transition_lists:\n",
    "        # print(cons_trans_list)\n",
    "        seq_no = cons_trans_list[0]  # get sequence number\n",
    "        arg = cons_trans_list[1]  # get argument\n",
    "        class_index = get_class_index(arg, classes)  # get index of class\n",
    "        # add directed edges to graph of that class\n",
    "        for i in range(0, len(cons_trans_list[2]) - 1):\n",
    "                if graphs[class_index].has_edge(cons_trans_list[2][i], cons_trans_list[2][i + 1]):\n",
    "                    graphs[class_index][cons_trans_list[2][i]][cons_trans_list[2][i + 1]]['weight'] += 1\n",
    "                else:\n",
    "                    graphs[class_index].add_edge(cons_trans_list[2][i], cons_trans_list[2][i + 1], weight=1)\n",
    "\n",
    "\n",
    "    \n",
    "    # make directory if doesn't exist\n",
    "    dirName = \"output/\"+ domain_name\n",
    "    if not os.path.exists(dirName):\n",
    "        os.makedirs(dirName)\n",
    "        print(\"Directory \", dirName, \" Created \")\n",
    "    else:\n",
    "        print(\"Directory \", dirName, \" already exists\")\n",
    "    empty_directory(dirName)\n",
    "\n",
    "\n",
    "    # plot and save all the graphs\n",
    "    adjacency_matrix_list = plot_and_save(graphs) # list of adjacency matrices per class\n",
    "\n",
    "    return adjacency_matrix_list"
   ]
  },
  {
   "cell_type": "markdown",
   "metadata": {},
   "source": [
    "##### Transition Graphs"
   ]
  },
  {
   "cell_type": "code",
   "execution_count": 30,
   "metadata": {},
   "outputs": [
    {
     "name": "stdout",
     "output_type": "stream",
     "text": [
      "Directory  output/fire_domain  Created \n"
     ]
    },
    {
     "name": "stderr",
     "output_type": "stream",
     "text": [
      "/Users/shivam/Library/Python/3.6/lib/python/site-packages/networkx/drawing/nx_pylab.py:579: MatplotlibDeprecationWarning: \n",
      "The iterable function was deprecated in Matplotlib 3.1 and will be removed in 3.3. Use np.iterable instead.\n",
      "  if not cb.iterable(width):\n",
      "/Users/shivam/Library/Python/3.6/lib/python/site-packages/networkx/drawing/nx_pylab.py:676: MatplotlibDeprecationWarning: \n",
      "The iterable function was deprecated in Matplotlib 3.1 and will be removed in 3.3. Use np.iterable instead.\n",
      "  if cb.iterable(node_size):  # many node sizes\n"
     ]
    },
    {
     "data": {
      "image/png": "[encoded data removed]",
      "text/plain": [
       "<Figure size 432x288 with 1 Axes>"
      ]
     },
     "metadata": {},
     "output_type": "display_data"
    },
    {
     "name": "stdout",
     "output_type": "stream",
     "text": [
      "Nodes:['turnoff.0', 'evacuate.0']\n",
      "Edges:[('turnoff.0', 'evacuate.0')]\n"
     ]
    },
    {
     "data": {
      "image/png": "[encoded data removed]",
      "text/plain": [
       "<Figure size 432x288 with 1 Axes>"
      ]
     },
     "metadata": {},
     "output_type": "display_data"
    },
    {
     "name": "stdout",
     "output_type": "stream",
     "text": [
      "Nodes:['evacuate.1']\n",
      "Edges:[]\n"
     ]
    },
    {
     "data": {
      "image/png": "[encoded data removed]",
      "text/plain": [
       "<Figure size 432x288 with 1 Axes>"
      ]
     },
     "metadata": {},
     "output_type": "display_data"
    },
    {
     "name": "stdout",
     "output_type": "stream",
     "text": [
      "Nodes:['take.0', 'secure.0']\n",
      "Edges:[('take.0', 'secure.0')]\n"
     ]
    },
    {
     "data": {
      "image/png": "[encoded data removed]",
      "text/plain": [
       "<Figure size 432x288 with 1 Axes>"
      ]
     },
     "metadata": {},
     "output_type": "display_data"
    },
    {
     "name": "stdout",
     "output_type": "stream",
     "text": [
      "Nodes:['secure.1']\n",
      "Edges:[]\n"
     ]
    },
    {
     "data": {
      "image/png": "[encoded data removed]",
      "text/plain": [
       "<Figure size 432x288 with 1 Axes>"
      ]
     },
     "metadata": {},
     "output_type": "display_data"
    },
    {
     "name": "stdout",
     "output_type": "stream",
     "text": [
      "Nodes:['close.0', 'check.0']\n",
      "Edges:[('close.0', 'check.0')]\n"
     ]
    },
    {
     "data": {
      "image/png": "[encoded data removed]",
      "text/plain": [
       "<Figure size 432x288 with 1 Axes>"
      ]
     },
     "metadata": {},
     "output_type": "display_data"
    },
    {
     "name": "stdout",
     "output_type": "stream",
     "text": [
      "Nodes:['open.0']\n",
      "Edges:[]\n"
     ]
    },
    {
     "data": {
      "image/png": "[encoded data removed]",
      "text/plain": [
       "<Figure size 432x288 with 1 Axes>"
      ]
     },
     "metadata": {},
     "output_type": "display_data"
    },
    {
     "name": "stdout",
     "output_type": "stream",
     "text": [
      "Nodes:['evacuate1.0']\n",
      "Edges:[]\n"
     ]
    },
    {
     "data": {
      "image/png": "[encoded data removed]",
      "text/plain": [
       "<Figure size 432x288 with 1 Axes>"
      ]
     },
     "metadata": {},
     "output_type": "display_data"
    },
    {
     "name": "stdout",
     "output_type": "stream",
     "text": [
      "Nodes:['use.0']\n",
      "Edges:[]\n"
     ]
    },
    {
     "data": {
      "image/png": "[encoded data removed]",
      "text/plain": [
       "<Figure size 432x288 with 1 Axes>"
      ]
     },
     "metadata": {},
     "output_type": "display_data"
    },
    {
     "name": "stdout",
     "output_type": "stream",
     "text": [
      "Nodes:['use.1']\n",
      "Edges:[]\n"
     ]
    },
    {
     "data": {
      "image/png": "[encoded data removed]",
      "text/plain": [
       "<Figure size 432x288 with 1 Axes>"
      ]
     },
     "metadata": {},
     "output_type": "display_data"
    },
    {
     "name": "stdout",
     "output_type": "stream",
     "text": [
      "Nodes:['use1.0']\n",
      "Edges:[]\n"
     ]
    },
    {
     "data": {
      "image/png": "[encoded data removed]",
      "text/plain": [
       "<Figure size 432x288 with 1 Axes>"
      ]
     },
     "metadata": {},
     "output_type": "display_data"
    },
    {
     "name": "stdout",
     "output_type": "stream",
     "text": [
      "Nodes:['call.0']\n",
      "Edges:[]\n"
     ]
    },
    {
     "data": {
      "image/png": "[encoded data removed]",
      "text/plain": [
       "<Figure size 432x288 with 1 Axes>"
      ]
     },
     "metadata": {},
     "output_type": "display_data"
    },
    {
     "name": "stdout",
     "output_type": "stream",
     "text": [
      "Nodes:['provide.0']\n",
      "Edges:[]\n"
     ]
    },
    {
     "data": {
      "image/png": "[encoded data removed]",
      "text/plain": [
       "<Figure size 432x288 with 1 Axes>"
      ]
     },
     "metadata": {},
     "output_type": "display_data"
    },
    {
     "name": "stdout",
     "output_type": "stream",
     "text": [
      "Nodes:['provide.1']\n",
      "Edges:[]\n"
     ]
    },
    {
     "data": {
      "image/png": "[encoded data removed]",
      "text/plain": [
       "<Figure size 432x288 with 1 Axes>"
      ]
     },
     "metadata": {},
     "output_type": "display_data"
    },
    {
     "name": "stdout",
     "output_type": "stream",
     "text": [
      "Nodes:['remain.0']\n",
      "Edges:[]\n"
     ]
    },
    {
     "data": {
      "image/png": "[encoded data removed]",
      "text/plain": [
       "<Figure size 432x288 with 1 Axes>"
      ]
     },
     "metadata": {},
     "output_type": "display_data"
    },
    {
     "name": "stdout",
     "output_type": "stream",
     "text": [
      "Nodes:['reenter.0']\n",
      "Edges:[]\n"
     ]
    },
    {
     "data": {
      "image/png": "[encoded data removed]",
      "text/plain": [
       "<Figure size 432x288 with 1 Axes>"
      ]
     },
     "metadata": {},
     "output_type": "display_data"
    },
    {
     "name": "stdout",
     "output_type": "stream",
     "text": [
      "Nodes:['reenter.1', 'inform.1']\n",
      "Edges:[('reenter.1', 'inform.1')]\n"
     ]
    },
    {
     "data": {
      "image/png": "[encoded data removed]",
      "text/plain": [
       "<Figure size 432x288 with 1 Axes>"
      ]
     },
     "metadata": {},
     "output_type": "display_data"
    },
    {
     "name": "stdout",
     "output_type": "stream",
     "text": [
      "Nodes:['inform.0']\n",
      "Edges:[]\n"
     ]
    }
   ],
   "source": [
    "#### Build weighted directed graphs for transitions.\n",
    "adjacency_matrix_list = build_and_save_transition_graphs(classes, domain_name, class_names)"
   ]
  },
  {
   "cell_type": "markdown",
   "metadata": {},
   "source": [
    "# User Input 2: Edit transition graphs"
   ]
  },
  {
   "cell_type": "code",
   "execution_count": null,
   "metadata": {},
   "outputs": [],
   "source": []
  },
  {
   "cell_type": "markdown",
   "metadata": {},
   "source": [
    "# Step 2: Get Transition Sets from LOCM2\n",
    "\n",
    "Algorithm: LOCM2\n",
    "Input : \n",
    "- T_all = set of observed transitions for a sort/class\n",
    "- H : Set of holes - each hole is a set of two transitions.\n",
    "- P : Set of pairs <t1,t2> i.e. consecutive transitions.\n",
    "- E : Set of example sequences of actions.\n",
    "Output:\n",
    "- S : Set of transition sets.\n",
    "#### Finding holes"
   ]
  },
  {
   "cell_type": "code",
   "execution_count": 31,
   "metadata": {},
   "outputs": [],
   "source": [
    "def get_adjacency_matrix_with_holes(adjacency_matrix_list):\n",
    "    adjacency_matrix_list_with_holes = []\n",
    "    for index,adjacency_matrix in enumerate(adjacency_matrix_list):\n",
    "        # print(\"\\n ROWS ===========\")\n",
    "        df = adjacency_matrix.copy()\n",
    "        df1 = adjacency_matrix.copy()\n",
    "\n",
    "        # for particular adjacency matrix's copy, loop over all pairs of rows\n",
    "        for i in range(df.shape[0] - 1):\n",
    "            for j in range(i+1, df.shape[0]):\n",
    "                idx1, idx2 = i, j\n",
    "                row1, row2 = df.iloc[idx1,:], df.iloc[idx2, :] #we have now all pairs of rows\n",
    "\n",
    "                common_values_flag = False #for each two rows we have a common_values_flag\n",
    "\n",
    "                # if there is a common value between two rows, turn common value flag to true\n",
    "                for col in range(row1.shape[0]):\n",
    "                    if row1.iloc[col] > 0 and row2.iloc[col] > 0:\n",
    "                        common_values_flag = True\n",
    "                        break\n",
    "\n",
    "                # now if two rows have common values, we need to check for holes.\n",
    "                if common_values_flag:\n",
    "                    for col in range(row1.shape[0]):\n",
    "                        if row1.iloc[col] > 0 and row2.iloc[col] == 0:\n",
    "                            df1.iloc[idx2,col] = 'hole'\n",
    "                        elif row1.iloc[col] == 0 and row2.iloc[col] > 0:\n",
    "                            df1.iloc[idx1, col] = 'hole'\n",
    "\n",
    "        adjacency_matrix_list_with_holes.append(df1)\n",
    "    return adjacency_matrix_list_with_holes"
   ]
  },
  {
   "cell_type": "code",
   "execution_count": 32,
   "metadata": {
    "lines_to_next_cell": 2
   },
   "outputs": [],
   "source": [
    "adjacency_matrix_list_with_holes = get_adjacency_matrix_with_holes(adjacency_matrix_list)\n",
    "\n",
    "## Printing FSM matrices with and without holes\n",
    "# for index,adjacency_matrix in enumerate(adjacency_matrix_list):\n",
    "#     print(\"\\n==========\" + class_names[index] + \"==========\")\n",
    "#     print(adjacency_matrix)\n",
    "#     print(tabulate(adjacency_matrix, headers='keys', tablefmt='github'))\n",
    "\n",
    "#     print(\"\\n===== HOLES: \" + class_names[index] + \"==========\")\n",
    "#     print(tabulate(adjacency_matrix_list_with_holes[index], headers='keys', tablefmt='github'))"
   ]
  },
  {
   "cell_type": "code",
   "execution_count": 33,
   "metadata": {},
   "outputs": [],
   "source": [
    "# Create list of set of holes per class (H)\n",
    "holes_per_class = []\n",
    "\n",
    "for index,df in enumerate(adjacency_matrix_list_with_holes):\n",
    "    holes = set()\n",
    "    for i in range(df.shape[0]):\n",
    "        for j in range(df.shape[1]):\n",
    "            if df.iloc[i,j] == 'hole':\n",
    "                holes.add(frozenset({df.index[i] , df.columns[j]}))\n",
    "    holes_per_class.append(holes)\n",
    "# for i, hole in enumerate(holes_per_class):\n",
    "#     print(class_names[i]+\":\")\n",
    "#     for h in hole:\n",
    "#         print(list(h))"
   ]
  },
  {
   "cell_type": "code",
   "execution_count": 34,
   "metadata": {},
   "outputs": [
    {
     "name": "stdout",
     "output_type": "stream",
     "text": [
      "experiment:['turnoff.0' 'evacuate.0']\n",
      "procedure:['evacuate.1']\n",
      "valuable:['take.0' 'secure.0']\n",
      "wallet:['secure.1']\n",
      "door:['close.0' 'check.0']\n",
      "#:['open.0']\n",
      "building:['evacuate1.0']\n",
      "nearest:['use.0']\n",
      "exit:['use.1']\n",
      "elevator:['use1.0']\n",
      "911:['call.0']\n",
      "name:['provide.0']\n",
      "location:['provide.1']\n",
      "there:['remain.0']\n",
      "emergency:['reenter.0']\n",
      "personnel:['reenter.1' 'inform.1']\n",
      "safety:['inform.0']\n"
     ]
    }
   ],
   "source": [
    "# List of transitions per class (T_all). It is just a set of transitions that occur for a class.\n",
    "transitions_per_class = []\n",
    "for index, df in enumerate(adjacency_matrix_list_with_holes):\n",
    "    transitions_per_class.append(df.columns.values)\n",
    "for i, transition in enumerate(transitions_per_class):\n",
    "    print('{}:{}'.format(class_names[i], transition))"
   ]
  },
  {
   "cell_type": "code",
   "execution_count": 35,
   "metadata": {},
   "outputs": [],
   "source": [
    "def get_consecutive_transitions_per_class(adjacency_matrix_list_with_holes):\n",
    "    consecutive_transitions_per_class = []\n",
    "    for index, df in enumerate(adjacency_matrix_list_with_holes):\n",
    "        consecutive_transitions = set()  # for a class\n",
    "        for i in range(df.shape[0]):\n",
    "            for j in range(df.shape[1]):\n",
    "                if df.iloc[i, j] != 'hole':\n",
    "                    if df.iloc[i, j] > 0:\n",
    "                        # print(\"(\" + df.index[i] + \",\" + df.columns[j] + \")\")\n",
    "                        consecutive_transitions.add((df.index[i], df.columns[j]))\n",
    "        consecutive_transitions_per_class.append(consecutive_transitions)\n",
    "    return consecutive_transitions_per_class"
   ]
  },
  {
   "cell_type": "code",
   "execution_count": 36,
   "metadata": {},
   "outputs": [],
   "source": [
    "#  Create list of consecutive transitions per class (P). If value is not null, ordered pair i,j would be consecutive transitions per class\n",
    "consecutive_transitions_per_class = get_consecutive_transitions_per_class(adjacency_matrix_list_with_holes)\n",
    "# for i, transition in enumerate(consecutive_transitions_per_class):\n",
    "#     print(class_names[i]+\":\")\n",
    "#     for x in list(transition):\n",
    "#         print(x)\n",
    "# #     print('{}:{}'.format(class_names[i], transition))\n",
    "#     print()"
   ]
  },
  {
   "cell_type": "code",
   "execution_count": 37,
   "metadata": {},
   "outputs": [
    {
     "name": "stdout",
     "output_type": "stream",
     "text": [
      "######## Getting transitions sets for each class using LOCM2 ######\n"
     ]
    }
   ],
   "source": [
    "def check_well_formed(subset_df):\n",
    "    # got the adjacency matrix subset\n",
    "    df = subset_df.copy()\n",
    "\n",
    "    # for particular adjacency matrix's copy, loop over all pairs of rows\n",
    "    for i in range(df.shape[0] - 1):\n",
    "        for j in range(i + 1, df.shape[0]):\n",
    "            idx1, idx2 = i, j\n",
    "            row1, row2 = df.iloc[idx1, :], df.iloc[idx2, :]  # we have now all pairs of rows\n",
    "\n",
    "            common_values_flag = False  # for each two rows we have a common_values_flag\n",
    "\n",
    "            # if there is a common value between two rows, turn common value flag to true\n",
    "            for col in range(row1.shape[0]):\n",
    "                if row1.iloc[col] > 0 and row2.iloc[col] > 0:\n",
    "                    common_values_flag = True\n",
    "                    break\n",
    "\n",
    "            # now if two rows have common values, we need to check for holes.\n",
    "            if common_values_flag:\n",
    "                for col in range(row1.shape[0]):\n",
    "                    if row1.iloc[col] > 0 and row2.iloc[col] == 0:\n",
    "                        return False\n",
    "                    elif row1.iloc[col] == 0 and row2.iloc[col] > 0:\n",
    "                        return False\n",
    "    return True\n",
    "\n",
    "def check_valid(subset_df,consecutive_transitions_per_class):\n",
    "\n",
    "    # Reasoning: If we check against all consecutive transitions of all classes, we essentially checked against all example sequences.\n",
    "    # You check the candidate set which is well-formed (subset df against all consecutive transitions)\n",
    "\n",
    "    # got the adjacency matrix subset\n",
    "    df = subset_df.copy()\n",
    "\n",
    "    # for particular adjacency matrix's copy, loop over all pairs of rows\n",
    "    for i in range(df.shape[0]):\n",
    "        for j in range(df.shape[0]):\n",
    "            if df.iloc[i,j] > 0:\n",
    "                valid_val_flag = False\n",
    "                ordered_pair = (df.index[i], df.columns[j])\n",
    "                for ct_list in consecutive_transitions_per_class:\n",
    "                    for ct in ct_list:\n",
    "                        if ordered_pair == ct:\n",
    "                            valid_val_flag=True\n",
    "                # if after all iteration ordered pair is not found, mark the subset as invalid.\n",
    "                if not valid_val_flag:\n",
    "                    return False\n",
    "    return True\n",
    "\n",
    "\n",
    "def locm2_get_transition_sets_per_class(holes_per_class, transitions_per_class, consecutive_transitions_per_class):\n",
    "    \"\"\" LOCM 2 Algorithm\"\"\"\n",
    "    transition_sets_per_class = []\n",
    "\n",
    "    # for each hole in a class of objects.\n",
    "    for index, holes in enumerate(holes_per_class):\n",
    "        class_name = class_names[index]\n",
    "#         print(\"*********************************************************************************\")\n",
    "#         print()\n",
    "#         print(class_name)\n",
    "#         print(\"Number of holes: \"+ str(len(holes))) # if number of holes == 0 then class is well-formed i.e. shouldn't change.\n",
    "#         print(holes)\n",
    "#         print(\"Transitions of the class (T_all):\")\n",
    "#         print(transitions_per_class[index])\n",
    "#         print(\"Number of values: \" + str(len(consecutive_transitions_per_class[index])))\n",
    "#         print(\"Transition Pairs per class (P):\")\n",
    "#         print(consecutive_transitions_per_class[index])\n",
    "#         print()\n",
    "\n",
    "        transition_set_list = [] #transition_sets_of_a_class, # intially its empty\n",
    "#         print(\"\\n===========CHECKING CANDIDATE SETS OF CLASS \" + class_name + \" FOR WELL_FORMEDNESS AND VALIDITY========\")\n",
    "        if len(holes) > 0: # if there are any holes for a class\n",
    "            for hole in holes:\n",
    "                is_hole_already_covered_flag = False\n",
    "                if len(transition_set_list)>0:\n",
    "                    for s_prime in transition_set_list:\n",
    "                        if hole.issubset(s_prime):\n",
    "                            is_hole_already_covered_flag = True\n",
    "                            break\n",
    "                # discover a set which includes hole and is well-formed and valid against test data.\n",
    "                if not is_hole_already_covered_flag: # if not covered, do BFS with sets of increasing sizes starting with s=hole\n",
    "                    s = hole.copy()\n",
    "                    candidate_sets = []\n",
    "                    for i in range(len(s)+1,len(transitions_per_class[index])): # all subsets of T_all starting from hole's len +1\n",
    "                        subsets = findsubsets(transitions_per_class[index],i)\n",
    "\n",
    "                        # append the subsets which are subset of\n",
    "                        for candidate_set in subsets:\n",
    "                            if s.issubset(candidate_set):\n",
    "                                candidate_sets.append(set(candidate_set))\n",
    "\n",
    "                        # print(\"\\n===========CHECKING CANDIDATE SETS FOR WELL_FORMEDNESS AND VALIDITY========\")\n",
    "                        for candidate_set in candidate_sets:\n",
    "                            # print(candidate_set)\n",
    "                            subset_df = adjacency_matrix_list[index].loc[list(candidate_set),list(candidate_set)]\n",
    "                            # print_table(subset_df)\n",
    "\n",
    "                            # checking for well-formedness\n",
    "                            well_formed_flag = check_well_formed(subset_df)\n",
    "                            if not well_formed_flag:\n",
    "                                # print(\"This subset is NOT well-formed\")\n",
    "                                pass\n",
    "\n",
    "                            # if well-formed validate across the data to remove inappropriate dead-ends\n",
    "                            # additional check\n",
    "                            valid_against_data_flag = False\n",
    "                            if well_formed_flag:\n",
    "                                # print_table(subset_df)\n",
    "                                # print(\"This subset is well-formed\")\n",
    "\n",
    "                                # validate against all consecutive transitions per class (P)\n",
    "                                # This checks all sequences consecutive transitions. So, it is validating against (E)\n",
    "                                valid_against_data_flag = check_valid(subset_df, consecutive_transitions_per_class)\n",
    "#                                 if not valid_against_data_flag:\n",
    "#                                     print(\"Invalid against data\")\n",
    "\n",
    "                            if valid_against_data_flag:\n",
    "#                                 print(\"Adding this subset as well-formed and valid.\")\n",
    "#                                 print_table(subset_df)\n",
    "#                                 print(candidate_set)\n",
    "                                if candidate_set not in transition_set_list: # do not allow copies.\n",
    "                                    transition_set_list.append(candidate_set)\n",
    "                                break\n",
    "#                         print(\"Hole that is covered now:\")\n",
    "#                         print(list(s))\n",
    "                        break\n",
    "\n",
    "\n",
    "            # print(transition_set_list)\n",
    "        #step -7 : remove redundant sets\n",
    "        ts_copy = transition_set_list.copy()\n",
    "        for i in range(len(ts_copy)):\n",
    "            for j in range(len(ts_copy)):\n",
    "                if ts_copy[i] < ts_copy[j]: #if subset\n",
    "                    if ts_copy[i] in transition_set_list:\n",
    "                        transition_set_list.remove(ts_copy[i])\n",
    "                elif ts_copy[i] > ts_copy[j]:\n",
    "                    if ts_copy[j] in transition_set_list:\n",
    "                        transition_set_list.remove(ts_copy[j])\n",
    "#         print(\"\\nRemoved redundancy transition set list\")\n",
    "#         print(transition_set_list)\n",
    "\n",
    "        #step-8: include all-transitions machine, even if it is not well-formed.\n",
    "        transition_set_list.append(set(transitions_per_class[index]))\n",
    "#         print(\"\\nFinal transition set list\")\n",
    "#         print(class_name)\n",
    "#         print(transition_set_list)\n",
    "\n",
    "\n",
    "        transition_sets_per_class.append(transition_set_list)\n",
    "    return transition_sets_per_class\n",
    "\n",
    "\n",
    "############    LOCM2 #################\n",
    "####    Input ready for LOCM2, Starting LOCM2 algorithm now\n",
    "####    Step 8:  selecting transition sets (TS) [Main LOCM2 Algorithm]\n",
    "print(\"######## Getting transitions sets for each class using LOCM2 ######\")\n",
    "transition_sets_per_class = locm2_get_transition_sets_per_class(holes_per_class, transitions_per_class, consecutive_transitions_per_class)"
   ]
  },
  {
   "cell_type": "markdown",
   "metadata": {},
   "source": [
    "# Step 3: Algorithm For Induction of State Machines\n",
    "\n",
    "- Input: Action training sequence of length N\n",
    "- Output: Transition Set TS, Object states OS.\n",
    "\n",
    "We already have transition set TS per class."
   ]
  },
  {
   "cell_type": "code",
   "execution_count": 38,
   "metadata": {},
   "outputs": [
    {
     "name": "stdout",
     "output_type": "stream",
     "text": [
      "Step 3: Induction of Finite State Machines\n",
      "experiment\n",
      "Number of FSMS:1\n",
      "procedure\n",
      "Number of FSMS:1\n",
      "valuable\n",
      "Number of FSMS:1\n",
      "wallet\n",
      "Number of FSMS:1\n",
      "door\n",
      "Number of FSMS:1\n",
      "#\n",
      "Number of FSMS:1\n",
      "building\n",
      "Number of FSMS:1\n",
      "nearest\n",
      "Number of FSMS:1\n",
      "exit\n",
      "Number of FSMS:1\n",
      "elevator\n",
      "Number of FSMS:1\n",
      "911\n",
      "Number of FSMS:1\n",
      "name\n",
      "Number of FSMS:1\n",
      "location\n",
      "Number of FSMS:1\n",
      "there\n",
      "Number of FSMS:1\n",
      "emergency\n",
      "Number of FSMS:1\n",
      "personnel\n",
      "Number of FSMS:1\n",
      "safety\n",
      "Number of FSMS:1\n"
     ]
    }
   ],
   "source": [
    "print(\"Step 3: Induction of Finite State Machines\")\n",
    "state_machines_overall_list = [] # list of all state machines\n",
    "state_dict_overall = [] #list of state dict per class\n",
    "\n",
    "for index, ts in enumerate(transition_sets_per_class):\n",
    "    state_machines_per_class = [] # state machines for each class.\n",
    "    state_dict_per_class = []\n",
    "    print(class_names[index])\n",
    "    # print(ts)\n",
    "    num_fsms = len(ts)\n",
    "    print(\"Number of FSMS:\" + str(num_fsms))\n",
    "\n",
    "\n",
    "    #### Add state identifiers\n",
    "    states_per_transition_set = []\n",
    "    for transition_set in ts:\n",
    "        states = set()\n",
    "        for transition in transition_set:\n",
    "            states.add(frozenset({\"start(\" + transition + \")\"}))\n",
    "            states.add(frozenset({\"end(\" + transition + \")\"}))\n",
    "        states_per_transition_set.append(states)\n",
    "\n",
    "    # print(states_per_transition_set)\n",
    "\n",
    "    #### For each pair of consecutive transitions T1, T2 in TS: Unify states end(T1) and start(T2) in set OS\n",
    "    for fsm_no, transition_set in enumerate(ts):\n",
    "        transition_df = adjacency_matrix_list[index].loc[list(transition_set), list(transition_set)] #uses transition matrix without holes\n",
    "\n",
    "        consecutive_transitions_state_machines_per_class = set()  # find consecutive transitions for a state machine in a class.\n",
    "        for i in range(transition_df.shape[0]):\n",
    "            for j in range(transition_df.shape[1]):\n",
    "                if transition_df.iloc[i, j] != 'hole':\n",
    "                    if transition_df.iloc[i, j] > 0:\n",
    "                        consecutive_transitions_state_machines_per_class.add((transition_df.index[i], transition_df.columns[j]))\n",
    "\n",
    "        # for every consecutive transition and for every state of a class, check if that state matches end(t1) or start(t2)\n",
    "        for ct in consecutive_transitions_state_machines_per_class:\n",
    "            s1, s2, s3 = -1, -1, -1\n",
    "            for s in states_per_transition_set[fsm_no]:\n",
    "                if \"end(\"+ct[0]+\")\" in s:\n",
    "                    s1 = s\n",
    "                if \"start(\"+ct[1]+\")\" in s:\n",
    "                    s2 = s\n",
    "                if s1 != -1 and s2 != - 1: #if they do, combine them.\n",
    "                    s3 = s1.union(s2) # union\n",
    "\n",
    "            if s1 != -1 and s2 != -1 and s3 != -1: #for every ct, if we have combined state, we update states_per_transition_set\n",
    "                if s1 in states_per_transition_set[fsm_no]:\n",
    "                    states_per_transition_set[fsm_no].remove(s1)\n",
    "                if s2 in states_per_transition_set[fsm_no]:\n",
    "                    states_per_transition_set[fsm_no].remove(s2)\n",
    "                states_per_transition_set[fsm_no].add(s3)\n",
    "\n",
    "        ## build a state machine now.\n",
    "        fsm_graph = nx.DiGraph()\n",
    "\n",
    "        # TODO: consider making a state dictionary for pretty print of frozen set\n",
    "        state_dict_per_class.insert(fsm_no,{})\n",
    "        for i, state in enumerate(states_per_transition_set[fsm_no]):\n",
    "            state_dict_per_class[fsm_no][\"state\"+str(i)] = state\n",
    "            fsm_graph.add_node(\"state\"+str(i))\n",
    "\n",
    "        # transition_df is defined above. Add edges from transitions.\n",
    "        # print_table(transition_df)\n",
    "        for i in range(transition_df.shape[0]):\n",
    "            for j in range(transition_df.shape[1]):\n",
    "                if transition_df.iloc[i, j] != 'hole':\n",
    "                    if transition_df.iloc[i, j] > 0:\n",
    "                        for node in fsm_graph.nodes():\n",
    "                            starting_node, ending_node = -1,-1\n",
    "                            if \"end(\"+transition_df.index[i]+\")\" in state_dict_per_class[fsm_no][node]:\n",
    "                                starting_node = node\n",
    "                            if \"start(\"+transition_df.columns[j]+\")\" in state_dict_per_class[fsm_no][node]:\n",
    "                                ending_node = node\n",
    "                            if starting_node != -1 and ending_node != -1:\n",
    "                                if fsm_graph.has_edge(starting_node, ending_node):\n",
    "                                    fsm_graph[starting_node][ending_node]['weight'] += transition_df.iloc[i, j]\n",
    "                                else:\n",
    "                                    fsm_graph.add_edge(starting_node, ending_node, weight=transition_df.iloc[i, j], name=\"\"+transition_df.index[i])\n",
    "\n",
    "        df = nx.to_pandas_adjacency(fsm_graph, nodelist=fsm_graph.nodes(), dtype=int)\n",
    "        \n",
    "        nx.write_graphml(fsm_graph, \"output/\" + domain_name + \"/\" + class_names[index] + \"_stateFSM_\" + str(fsm_no+1)+ \".graphml\")\n",
    "        state_machines_per_class.append(df)\n",
    "\n",
    "    state_machines_overall_list.append(state_machines_per_class)\n",
    "    state_dict_overall.append(state_dict_per_class)"
   ]
  },
  {
   "cell_type": "code",
   "execution_count": 39,
   "metadata": {
    "scrolled": true
   },
   "outputs": [],
   "source": [
    "# pretty print state dictionary.\n",
    "def print_state_dictionary(state_dict_overall):\n",
    "    for i,state_dict_per_class in enumerate(state_dict_overall):\n",
    "#         print(class_names[i])\n",
    "        for j,state_dict_per_fsm in enumerate(state_dict_per_class):\n",
    "#             print()\n",
    "            for k,v in state_dict_per_fsm.items():\n",
    "                print(class_names[i]+\"_fsm\"+str(j)+\"_\"+ k + \":\"+str(list(v)))\n",
    "#                 print(list(v))\n",
    "#                 print()\n",
    "                \n",
    "# print_state_dictionary(state_dict_overall)"
   ]
  },
  {
   "cell_type": "markdown",
   "metadata": {},
   "source": [
    "### Step 5: Induction of parameterized state machines\n",
    "Create and test hypothesis for state parameters"
   ]
  },
  {
   "cell_type": "code",
   "execution_count": 40,
   "metadata": {},
   "outputs": [
    {
     "name": "stdout",
     "output_type": "stream",
     "text": [
      "*****************\n",
      "Step 5: Induction of Parameterised Finite State Machines\n",
      "CLASS:experiment\n",
      "FSM:1\n",
      "|        |   state0 |   state1 |   state2 |\n",
      "|--------|----------|----------|----------|\n",
      "| state0 |        0 |        0 |        0 |\n",
      "| state1 |        0 |        0 |        0 |\n",
      "| state2 |        0 |        0 |        1 |\n",
      "\n",
      "Transition set of this class:\n",
      "[{'turnoff.0', 'evacuate.0'}]\n",
      "CLASS:procedure\n",
      "FSM:1\n",
      "|        |   state0 |   state1 |\n",
      "|--------|----------|----------|\n",
      "| state0 |        0 |        0 |\n",
      "| state1 |        0 |        0 |\n",
      "\n",
      "Transition set of this class:\n",
      "[{'evacuate.1'}]\n",
      "CLASS:valuable\n",
      "FSM:1\n",
      "|        |   state0 |   state1 |   state2 |\n",
      "|--------|----------|----------|----------|\n",
      "| state0 |        0 |        0 |        0 |\n",
      "| state1 |        0 |        0 |        0 |\n",
      "| state2 |        0 |        0 |        1 |\n",
      "\n",
      "Transition set of this class:\n",
      "[{'take.0', 'secure.0'}]\n",
      "CLASS:wallet\n",
      "FSM:1\n",
      "|        |   state0 |   state1 |\n",
      "|--------|----------|----------|\n",
      "| state0 |        0 |        0 |\n",
      "| state1 |        0 |        0 |\n",
      "\n",
      "Transition set of this class:\n",
      "[{'secure.1'}]\n",
      "CLASS:door\n",
      "FSM:1\n",
      "|        |   state0 |   state1 |   state2 |\n",
      "|--------|----------|----------|----------|\n",
      "| state0 |        0 |        0 |        0 |\n",
      "| state1 |        0 |        1 |        0 |\n",
      "| state2 |        0 |        0 |        0 |\n",
      "\n",
      "Transition set of this class:\n",
      "[{'close.0', 'check.0'}]\n",
      "CLASS:#\n",
      "FSM:1\n",
      "|        |   state0 |   state1 |\n",
      "|--------|----------|----------|\n",
      "| state0 |        0 |        0 |\n",
      "| state1 |        0 |        0 |\n",
      "\n",
      "Transition set of this class:\n",
      "[{'open.0'}]\n",
      "CLASS:building\n",
      "FSM:1\n",
      "|        |   state0 |   state1 |\n",
      "|--------|----------|----------|\n",
      "| state0 |        0 |        0 |\n",
      "| state1 |        0 |        0 |\n",
      "\n",
      "Transition set of this class:\n",
      "[{'evacuate1.0'}]\n",
      "CLASS:nearest\n",
      "FSM:1\n",
      "|        |   state0 |   state1 |\n",
      "|--------|----------|----------|\n",
      "| state0 |        0 |        0 |\n",
      "| state1 |        0 |        0 |\n",
      "\n",
      "Transition set of this class:\n",
      "[{'use.0'}]\n",
      "CLASS:exit\n",
      "FSM:1\n",
      "|        |   state0 |   state1 |\n",
      "|--------|----------|----------|\n",
      "| state0 |        0 |        0 |\n",
      "| state1 |        0 |        0 |\n",
      "\n",
      "Transition set of this class:\n",
      "[{'use.1'}]\n",
      "CLASS:elevator\n",
      "FSM:1\n",
      "|        |   state0 |   state1 |\n",
      "|--------|----------|----------|\n",
      "| state0 |        0 |        0 |\n",
      "| state1 |        0 |        0 |\n",
      "\n",
      "Transition set of this class:\n",
      "[{'use1.0'}]\n",
      "CLASS:911\n",
      "FSM:1\n",
      "|        |   state0 |   state1 |\n",
      "|--------|----------|----------|\n",
      "| state0 |        0 |        0 |\n",
      "| state1 |        0 |        0 |\n",
      "\n",
      "Transition set of this class:\n",
      "[{'call.0'}]\n",
      "CLASS:name\n",
      "FSM:1\n",
      "|        |   state0 |   state1 |\n",
      "|--------|----------|----------|\n",
      "| state0 |        0 |        0 |\n",
      "| state1 |        0 |        0 |\n",
      "\n",
      "Transition set of this class:\n",
      "[{'provide.0'}]\n",
      "CLASS:location\n",
      "FSM:1\n",
      "|        |   state0 |   state1 |\n",
      "|--------|----------|----------|\n",
      "| state0 |        0 |        0 |\n",
      "| state1 |        0 |        0 |\n",
      "\n",
      "Transition set of this class:\n",
      "[{'provide.1'}]\n",
      "CLASS:there\n",
      "FSM:1\n",
      "|        |   state0 |   state1 |\n",
      "|--------|----------|----------|\n",
      "| state0 |        0 |        0 |\n",
      "| state1 |        0 |        0 |\n",
      "\n",
      "Transition set of this class:\n",
      "[{'remain.0'}]\n",
      "CLASS:emergency\n",
      "FSM:1\n",
      "|        |   state0 |   state1 |\n",
      "|--------|----------|----------|\n",
      "| state0 |        0 |        0 |\n",
      "| state1 |        0 |        0 |\n",
      "\n",
      "Transition set of this class:\n",
      "[{'reenter.0'}]\n",
      "CLASS:personnel\n",
      "FSM:1\n",
      "|        |   state0 |   state1 |   state2 |\n",
      "|--------|----------|----------|----------|\n",
      "| state0 |        0 |        0 |        0 |\n",
      "| state1 |        0 |        1 |        0 |\n",
      "| state2 |        0 |        0 |        0 |\n",
      "\n",
      "Transition set of this class:\n",
      "[{'reenter.1', 'inform.1'}]\n",
      "CLASS:safety\n",
      "FSM:1\n",
      "|        |   state0 |   state1 |\n",
      "|--------|----------|----------|\n",
      "| state0 |        0 |        0 |\n",
      "| state1 |        0 |        0 |\n",
      "\n",
      "Transition set of this class:\n",
      "[{'inform.0'}]\n"
     ]
    }
   ],
   "source": [
    "## Step 5 Input: action sequence Seq, Transition set TS, Object set Obs\n",
    "## Output: HS retained hypotheses for state parameters\n",
    "## 5.1 Form hypotheses from state machines\n",
    "print(\"*****************\")\n",
    "print(\"Step 5: Induction of Parameterised Finite State Machines\")\n",
    "HS_list = []\n",
    "for index, fsms_per_class in enumerate(state_machines_overall_list):\n",
    "    class_name = class_names[index]\n",
    "    print(\"CLASS:\"+ class_name)\n",
    "    for fsm_no, fsm in enumerate(fsms_per_class):\n",
    "        print(\"FSM:\" + str(fsm_no + 1))\n",
    "        print_table(fsm)\n",
    "\n",
    "    print(\"\\nTransition set of this class:\")\n",
    "    print(transition_sets_per_class[index])\n",
    "\n",
    "    # Hypothesis set per class.\n",
    "    HS_per_class = []\n",
    "    for fsm_no, transition_set in enumerate(transition_sets_per_class[index]):\n",
    "        transition_df = adjacency_matrix_list[index].loc[list(transition_set), list(transition_set)]\n",
    "        consecutive_transitions_state_machines_per_class = set()  # find consecutive transitions for a state machine in a class.\n",
    "        for i in range(transition_df.shape[0]):\n",
    "            for j in range(transition_df.shape[1]):\n",
    "                if transition_df.iloc[i, j] != 'hole':\n",
    "                    if transition_df.iloc[i, j] > 0:\n",
    "                        consecutive_transitions_state_machines_per_class.add((transition_df.index[i], transition_df.columns[j]))\n",
    "\n",
    "        # Step 5.1 for each pair <B.k and C.l> of consecutive transitions in transition set of a state machine.\n",
    "        # store hypothesis in Hypothesis set\n",
    "        HS = set()\n",
    "        for ct in consecutive_transitions_state_machines_per_class:\n",
    "            B = ct[0].split('.')[0] # action name of T1\n",
    "            k = int(ct[0].split('.')[1]) # argument index of T1\n",
    "\n",
    "            C = ct[1].split('.')[0] # action name of T2\n",
    "            l = int(ct[1].split('.')[1]) # argument index of T2\n",
    "\n",
    "            # When both actions B and C contain another argument of the same sort G' in position k' and l' respectively, we hypothesise that there may be a relation between sorts G and G'.\n",
    "            for seq in sequences:\n",
    "                for actarg_tuple in seq:\n",
    "                    arglist1 = []\n",
    "                    arglist2 = []\n",
    "                    if actarg_tuple[0] == B: #if action name is same as B\n",
    "                        arglist1 = actarg_tuple[1].copy()\n",
    "                        arglist1.remove(actarg_tuple[1][k]) # remove k from arglist\n",
    "                        for actarg_tuple_prime in seq: #loop through seq again.\n",
    "                            if actarg_tuple_prime[0] == C:\n",
    "                                arglist2 = actarg_tuple_prime[1].copy()\n",
    "                                arglist2.remove(actarg_tuple_prime[1][l]) # remove l from arglist\n",
    "\n",
    "                        # for arg lists of actions B and C, if class is same add a hypothesis set.\n",
    "                        for i in range(len(arglist1)):\n",
    "                            for j in range(len(arglist2)):\n",
    "                                class1 = get_class_index(arglist1[i], classes)\n",
    "                                class2 = get_class_index(arglist2[j], classes)\n",
    "                                if class1 == class2:\n",
    "                                    HS.add((frozenset({\"end(\"+B+\".\"+ str(k)+\")\", \"start(\"+C+\".\"+str(l)+\")\"}),B,k,i,C,l,j,index,class1))\n",
    "\n",
    "        ####### Step 5.2 Test Hypothesis against example sequences!!\n",
    "        # Check hypothesis against sequences.\n",
    "        ## It performs an inductive process such that the hypotheses can be either refuted or retained according to the example sequence, but it can never be definitely confirmed.\n",
    "        ## Requires more data than usual.\n",
    "        HS_copy = HS.copy()\n",
    "        for hs in HS:\n",
    "            # for every consecutive transision for a state machine per class.\n",
    "            for ct in consecutive_transitions_state_machines_per_class:\n",
    "                A_p = ct[0].split('.')[0]\n",
    "                m = int(ct[0].split('.')[1])\n",
    "\n",
    "                A_q = ct[1].split('.')[0]\n",
    "                n = int(ct[1].split('.')[1])\n",
    "\n",
    "                if A_p == hs[1] and m == hs[2] and A_q == hs[4] and n == hs[5]:\n",
    "                    k_prime = hs[3]\n",
    "                    l_prime = hs[6]\n",
    "                    for seq in sequences:\n",
    "                        for actarg_tuple in seq:\n",
    "                            arglist1 = []\n",
    "                            arglist2 = []\n",
    "                            if actarg_tuple[0] == A_p:\n",
    "                                arglist1 = actarg_tuple[1].copy()\n",
    "                                arglist1.remove(actarg_tuple[1][m])  # remove k from arglist\n",
    "                                for actarg_tuple_prime in seq:\n",
    "                                    if actarg_tuple_prime[0] == A_q:\n",
    "                                        arglist2 = actarg_tuple_prime[1].copy()\n",
    "                                        arglist2.remove(actarg_tuple_prime[1][n])  # remove l from arglist\n",
    "\n",
    "#                                 class1, class2 = -1,-1\n",
    "#                                 if k_prime < len(arglist1) and l_prime < len(arglist2):\n",
    "#                                     class1 = get_class_index(arglist1[k_prime], classes)\n",
    "#                                     class2 = get_class_index(arglist2[l_prime], classes)\n",
    "\n",
    "#                                 # Refute the hypothesis if classes are not same at the location specified by hypothesis.\n",
    "#                                 if class1 != -1 and class2!=-1 and class1 != class2:\n",
    "#                                     if hs in HS_copy:\n",
    "#                                         HS_copy.remove(hs)\n",
    "                                object1, object2 = None, None\n",
    "                                if k_prime < len(arglist1) and l_prime < len(arglist2):\n",
    "                                    object1 = arglist1[k_prime]\n",
    "                                    object2 = arglist2[l_prime]\n",
    "                                \n",
    "                                if object1 != None and object2 !=None and object1 !=object2:\n",
    "                                    if hs in HS_copy:\n",
    "                                        HS_copy.remove(hs)\n",
    "                        \n",
    "                                 \n",
    "\n",
    "\n",
    "\n",
    "        HS_per_class.append(HS_copy)\n",
    "    HS_list.append(HS_per_class)"
   ]
  },
  {
   "cell_type": "code",
   "execution_count": 41,
   "metadata": {},
   "outputs": [],
   "source": [
    "# printing hypothesis\n",
    "# print(\"\\n****** HYPOTHESIS SET*********\")\n",
    "# for HS_per_class in HS_list:\n",
    "#     for HS_per_fsm in HS_per_class:\n",
    "#         for h in HS_per_fsm:\n",
    "#             print(h)"
   ]
  },
  {
   "cell_type": "markdown",
   "metadata": {},
   "source": [
    "### Step 6: Creation and merging of state parameters"
   ]
  },
  {
   "cell_type": "code",
   "execution_count": 42,
   "metadata": {},
   "outputs": [
    {
     "name": "stdout",
     "output_type": "stream",
     "text": [
      "Step 6: creating and merging state params\n"
     ]
    }
   ],
   "source": [
    "print(\"Step 6: creating and merging state params\")\n",
    "param_bindings_list_overall = []\n",
    "for classindex, HS_per_class in enumerate(HS_list):\n",
    "    param_bind_per_class = []\n",
    "    for HS_per_fsm in HS_per_class:\n",
    "        param_binding_list = []\n",
    "        for index,h in enumerate(HS_per_fsm):\n",
    "            param_binding_list.append((h,\"v\"+str(index)))\n",
    "\n",
    "        for i in range(len(param_binding_list)-1):\n",
    "            for j in range(i+1, len(param_binding_list)):\n",
    "                h_1 = param_binding_list[i][0]\n",
    "                h_2 = param_binding_list[j][0]\n",
    "\n",
    "                if ((h_1[0] == h_2[0] and h_1[1] == h_2[1] and h_1[2] == h_2[2] and h_1[3] == h_2[3]) or (h_1[0] == h_2[0] and h_1[4] == h_2[4] and h_1[5] == h_2[5] and h_1[6] == h_2[6])):\n",
    "                    new_tuple = (param_binding_list[j][0], param_binding_list[i][1])\n",
    "                    param_binding_list.remove((param_binding_list[j][0], param_binding_list[j][1]))\n",
    "                    param_binding_list.insert(j,new_tuple)\n",
    "        param_bind_per_class.append(param_binding_list)\n",
    "#         print(class_names[classindex])\n",
    "#         for pb in param_binding_list:\n",
    "#             print(pb)\n",
    "#         print()\n",
    "    param_bindings_list_overall.append(param_bind_per_class)\n",
    "    \n",
    "\n"
   ]
  },
  {
   "cell_type": "markdown",
   "metadata": {},
   "source": [
    "### Step 7: Remove Parameter Flaws"
   ]
  },
  {
   "cell_type": "code",
   "execution_count": 43,
   "metadata": {},
   "outputs": [],
   "source": [
    "########### Step 5: Removing parameter flaws\n",
    "# A parameter P associated with an FSM state S is said to be flawed if there exists a transition into S, which does not supply P with a value.\n",
    "# This may occur when there exists a transition B.k where end(B.k)=S, but there exists no h containing end(B.k)\n",
    "\n",
    "para_bind_overall_fault_removed = []\n",
    "for class_index, para_bind_per_class in enumerate(param_bindings_list_overall):\n",
    "#     print(class_names[class_index])\n",
    "    para_bind_per_class_fault_removed = []\n",
    "\n",
    "    # print(state_machines_overall_list[class_index][fsm_index].index.values)\n",
    "    for fsm_index, transition_set in enumerate(transition_sets_per_class[class_index]):\n",
    "        transition_df = adjacency_matrix_list[class_index].loc[list(transition_set), list(transition_set)]\n",
    "        consecutive_transitions_state_machines_per_class = set()  # find consecutive transitions for a state machine in a class.\n",
    "        for i in range(transition_df.shape[0]):\n",
    "            for j in range(transition_df.shape[1]):\n",
    "                if transition_df.iloc[i, j] != 'hole':\n",
    "                    if transition_df.iloc[i, j] > 0:\n",
    "                        consecutive_transitions_state_machines_per_class.add(\n",
    "                            (transition_df.index[i], transition_df.columns[j]))\n",
    "\n",
    "        # initialize h_exists with false\n",
    "        h_exists = []\n",
    "        for param_index, param_bind in enumerate(para_bind_per_class[fsm_index]):\n",
    "            h_exists.append(False)\n",
    "\n",
    "        for ct in consecutive_transitions_state_machines_per_class:\n",
    "            for state in state_machines_overall_list[class_index][fsm_index].index.values:\n",
    "                if {\"end(\"+ ct[0] + \")\"} <= state_dict_overall[class_index][fsm_index][state]:\n",
    "                    current_state = state_dict_overall[class_index][fsm_index][state]\n",
    "\n",
    "                    # for every parameter binding which contains subset of current_state, if B and k are there, hypothesis exists\n",
    "                    for param_index,param_bind in enumerate(para_bind_per_class[fsm_index]):\n",
    "                        if param_bind[0][0] <= current_state: #subset of current_state of FSM\n",
    "                            # print(param_bind[0][1])\n",
    "                            # print(param_bind[0][2])\n",
    "                            # print(ct[0].split('.')[0])\n",
    "                            # print(ct[0].split('.')[1])\n",
    "                            # print()\n",
    "                            if param_bind[0][1] == ct[0].split('.')[0]:\n",
    "                                if param_bind[0][2] == int(ct[0].split('.')[1]): #TODO: Do we need to check other things here\n",
    "                                    h_exists[param_index] = True\n",
    "\n",
    "        param_bind_per_fsm_copy = para_bind_per_class[fsm_index].copy()\n",
    "        for param_index, param_bind in enumerate(para_bind_per_class[fsm_index]):\n",
    "            # if h_exists[param_index]:\n",
    "            #     print(param_bind[1])\n",
    "            if not h_exists[param_index]:\n",
    "                param_bind_per_fsm_copy.remove(param_bind)\n",
    "\n",
    "        para_bind_per_class_fault_removed.append(param_bind_per_fsm_copy)\n",
    "    para_bind_overall_fault_removed.append(para_bind_per_class_fault_removed)"
   ]
  },
  {
   "cell_type": "code",
   "execution_count": 44,
   "metadata": {},
   "outputs": [
    {
     "name": "stdout",
     "output_type": "stream",
     "text": [
      "Fault Removed Parameter Bindings\n"
     ]
    }
   ],
   "source": [
    "print(\"Fault Removed Parameter Bindings\")\n",
    "# for class_index, para_bind_per_class in enumerate(para_bind_overall_fault_removed):\n",
    "#     print(class_names[class_index])\n",
    "#     for fsm_no, para_bind_per_fsm in enumerate(para_bind_per_class):\n",
    "#         print(\"Fsm_no:\" + str(fsm_no))\n",
    "#         for p in para_bind_per_fsm:\n",
    "#             print(p)\n",
    "#         print()"
   ]
  },
  {
   "cell_type": "markdown",
   "metadata": {},
   "source": [
    "### Step 9:  Formation of PDDL Schema"
   ]
  },
  {
   "cell_type": "code",
   "execution_count": null,
   "metadata": {},
   "outputs": [],
   "source": []
  },
  {
   "cell_type": "code",
   "execution_count": 45,
   "metadata": {
    "lines_to_end_of_cell_marker": 2
   },
   "outputs": [
    {
     "name": "stdout",
     "output_type": "stream",
     "text": [
      ";;********************Learned PDDL domain******************\n",
      "(define  (domain fire_domain)\n",
      "  (:requirements :typing)\n",
      "  (:types experiment procedure valuable wallet door # building nearest exit elevator 911 name location there emergency personnel safety)\n",
      "  (:predicates\n",
      "    (experiment_fsm0_state0)\n",
      "    (experiment_fsm0_state1)    (experiment_fsm0_state2)    (procedure_fsm0_state0)    (procedure_fsm0_state1)\n",
      "    (valuable_fsm0_state0)    (valuable_fsm0_state1)    (valuable_fsm0_state2)    (wallet_fsm0_state0)\n",
      "    (wallet_fsm0_state1)    (door_fsm0_state0)    (door_fsm0_state1)    (door_fsm0_state2)\n",
      "    (#_fsm0_state0)    (#_fsm0_state1)    (building_fsm0_state0)    (building_fsm0_state1)\n",
      "    (nearest_fsm0_state0)    (nearest_fsm0_state1)    (exit_fsm0_state0)    (exit_fsm0_state1)\n",
      "    (elevator_fsm0_state0)    (elevator_fsm0_state1)    (911_fsm0_state0)    (911_fsm0_state1)\n",
      "    (name_fsm0_state0)    (name_fsm0_state1)    (location_fsm0_state0)    (location_fsm0_state1)\n",
      "    (there_fsm0_state0)    (there_fsm0_state1)    (emergency_fsm0_state0)    (emergency_fsm0_state1)\n",
      "    (personnel_fsm0_state0)    (personnel_fsm0_state1)    (personnel_fsm0_state2)    (safety_fsm0_state0)\n",
      "    (safety_fsm0_state1)  )\n",
      "  (:action  take   :parameters  (?valuable - valuable )\n",
      "   :precondition   (and\n",
      "        (valuable_fsm0_state2)\n",
      "   )\n",
      "   :effect   (and\n",
      "        (valuable_fsm0_state2)\n",
      "  ))\n",
      "  (:action  reenter   :parameters  (?emergency - emergency ?personnel - personnel )\n",
      "   :precondition   (and\n",
      "        (personnel_fsm0_state1)\n",
      "   )\n",
      "   :effect   (and\n",
      "        (personnel_fsm0_state1)\n",
      "  ))\n",
      "  (:action  use   :parameters  (?nearest - nearest ?exit - exit )\n",
      "   :precondition   (and\n",
      "   )\n",
      "   :effect   (and\n",
      "  ))\n",
      "  (:action  evacuate1   :parameters  (?building - building )\n",
      "   :precondition   (and\n",
      "   )\n",
      "   :effect   (and\n",
      "  ))\n",
      "  (:action  provide   :parameters  (?name - name ?location - location )\n",
      "   :precondition   (and\n",
      "   )\n",
      "   :effect   (and\n",
      "  ))\n",
      "  (:action  inform   :parameters  (?safety - safety ?personnel - personnel )\n",
      "   :precondition   (and\n",
      "        (personnel_fsm0_state1)\n",
      "   )\n",
      "   :effect   (and\n",
      "        (personnel_fsm0_state1)\n",
      "  ))\n",
      "  (:action  secure   :parameters  (?valuable - valuable ?wallet - wallet )\n",
      "   :precondition   (and\n",
      "        (valuable_fsm0_state2)\n",
      "   )\n",
      "   :effect   (and\n",
      "        (valuable_fsm0_state2)\n",
      "  ))\n",
      "  (:action  open   :parameters  (?# - # )\n",
      "   :precondition   (and\n",
      "   )\n",
      "   :effect   (and\n",
      "  ))\n",
      "  (:action  turnoff   :parameters  (?experiment - experiment )\n",
      "   :precondition   (and\n",
      "        (experiment_fsm0_state2)\n",
      "   )\n",
      "   :effect   (and\n",
      "        (experiment_fsm0_state2)\n",
      "  ))\n",
      "  (:action  close   :parameters  (?door - door )\n",
      "   :precondition   (and\n",
      "        (door_fsm0_state1)\n",
      "   )\n",
      "   :effect   (and\n",
      "        (door_fsm0_state1)\n",
      "  ))\n",
      "  (:action  use1   :parameters  (?elevator - elevator )\n",
      "   :precondition   (and\n",
      "   )\n",
      "   :effect   (and\n",
      "  ))\n",
      "  (:action  call   :parameters  (?911 - 911 )\n",
      "   :precondition   (and\n",
      "   )\n",
      "   :effect   (and\n",
      "  ))\n",
      "  (:action  check   :parameters  (?door - door )\n",
      "   :precondition   (and\n",
      "        (door_fsm0_state1)\n",
      "   )\n",
      "   :effect   (and\n",
      "        (door_fsm0_state1)\n",
      "  ))\n",
      "  (:action  evacuate   :parameters  (?experiment - experiment ?procedure - procedure )\n",
      "   :precondition   (and\n",
      "        (experiment_fsm0_state2)\n",
      "   )\n",
      "   :effect   (and\n",
      "        (experiment_fsm0_state2)\n",
      "  ))\n",
      "  (:action  remain   :parameters  (?there - there )\n",
      "   :precondition   (and\n",
      "   )\n",
      "   :effect   (and\n",
      "  ))\n",
      ")\n",
      "\n"
     ]
    }
   ],
   "source": [
    "# get action schema\n",
    "print(\";;********************Learned PDDL domain******************\")\n",
    "output_file = \"output/\"+ domain_name + \"/\" +  domain_name + \".pddl\"\n",
    "write_file = open(output_file, 'w')\n",
    "write_line = \"(define\"\n",
    "write_line += \"  (domain \"+ domain_name+\")\\n\"\n",
    "write_line += \"  (:requirements :typing)\\n\"\n",
    "write_line += \"  (:types\"\n",
    "for class_name in class_names:\n",
    "    write_line += \" \" + class_name\n",
    "write_line += \")\\n\"\n",
    "write_line += \"  (:predicates\\n\"\n",
    "\n",
    "predicates = []\n",
    "line_count = 0\n",
    "for class_index, para_bind_per_class in enumerate(para_bind_overall_fault_removed):\n",
    "    for fsm_no, para_bind_per_fsm in enumerate(para_bind_per_class):\n",
    "        for state_index, state in enumerate(state_machines_overall_list[class_index][fsm_no]):\n",
    "            predicate = \"\"\n",
    "            write_line += \"    (\" + class_names[class_index] + \"_fsm\" + str(fsm_no) + \"_state\" + str(state_index)\n",
    "            predicate += \"    (\" + class_names[class_index] + \"_fsm\" + str(fsm_no) + \"_state\" + str(state_index)\n",
    "            for para_bind in para_bind_per_fsm:\n",
    "                if para_bind[0][0] <= state_dict_overall[class_index][fsm_no][state]:\n",
    "                    write_line += \" ?\"+para_bind[1] + \" - \" + str(class_names[para_bind[0][8]])\n",
    "                    predicate += \" ?\"+para_bind[1] + \" - \" + str(class_names[para_bind[0][8]])\n",
    "            if (line_count % 4) == 0:\n",
    "                write_line += \")\\n\"\n",
    "            else:\n",
    "                write_line += \")\"\n",
    "            line_count+=1\n",
    "            predicate += \")\"\n",
    "            predicates.append(predicate)\n",
    "write_line += \"  )\\n\"\n",
    "            \n",
    "for action_index, action in enumerate(actions):\n",
    "    write_line += \"  (:action\"\n",
    "    write_line += \"  \" + action + \" \"\n",
    "    write_line += \"  :parameters\"\n",
    "    write_line += \"  (\"\n",
    "    arg_already_written_flag = False\n",
    "    params_per_action = []\n",
    "    args_per_action = []\n",
    "    for seq in sequences:\n",
    "        for actarg_tuple in seq:\n",
    "            if not arg_already_written_flag:\n",
    "                if actarg_tuple[0] == action:\n",
    "                    arglist = []\n",
    "                    for arg in actarg_tuple[1]:\n",
    "                        write_line += \"?\"+arg + \" - \" + class_names[get_class_index(arg,classes)] + \" \"\n",
    "                        arglist.append(arg)\n",
    "                    args_per_action.append(arglist)\n",
    "                    params_per_action.append(actarg_tuple[1])\n",
    "                    arg_already_written_flag = True\n",
    "    write_line += \")\\n\"\n",
    "\n",
    "\n",
    "    # need to use finite STATE machines to get preconditions and effects.\n",
    "    # Start-state = precondition. End state= Effect\n",
    "    preconditions = []\n",
    "    effects = []\n",
    "    for arglist in params_per_action:\n",
    "        for arg in arglist:\n",
    "            current_class_index = get_class_index(arg, classes)\n",
    "            for fsm_no, fsm in enumerate(state_machines_overall_list[current_class_index]):\n",
    "                # print_table(fsm)\n",
    "                df = fsm\n",
    "\n",
    "                for i in range(df.shape[0]):\n",
    "                    for j in range(df.shape[1]):\n",
    "                        if df.iloc[i, j] > 0:\n",
    "                            # print(\"(\" + df.index[i] + \",\" + df.columns[j] + \")\")\n",
    "                            start_state = state_dict_overall[current_class_index][fsm_no][df.index[i]]\n",
    "                            end_state = state_dict_overall[current_class_index][fsm_no][df.columns[j]]\n",
    "\n",
    "                            start_state_index, end_state_index = -1, -1\n",
    "                            for k,v in state_dict_overall[current_class_index][fsm_no].items():\n",
    "                                if v == start_state:\n",
    "                                    start_state_index = k\n",
    "                                if v == end_state:\n",
    "                                    end_state_index = k\n",
    "\n",
    "                            for predicate in predicates:\n",
    "                                pred = predicate.split()[0].lstrip('(').rstrip(')')\n",
    "                                if pred == class_names[current_class_index]+\"_fsm\"+str(fsm_no)+\"_\"+str(start_state_index):\n",
    "\n",
    "                                    if predicate not in preconditions:\n",
    "                                        preconditions.append(predicate)\n",
    "                                if pred == class_names[current_class_index]+\"_fsm\"+str(fsm_no)+\"_\"+str(end_state_index):\n",
    "                                    if predicate not in effects:\n",
    "                                        effects.append(predicate)\n",
    "\n",
    "\n",
    "\n",
    "\n",
    "#     print(preconditions)\n",
    "#     print(effects)\n",
    "    write_line += \"   :precondition\"\n",
    "    write_line += \"   (and\\n\"\n",
    "    for precondition in preconditions:\n",
    "        # precondition = precondition.replace(?)\n",
    "        write_line += \"    \"+precondition+\"\\n\"\n",
    "    write_line += \"   )\\n\"\n",
    "    write_line += \"   :effect\"\n",
    "    write_line += \"   (and\\n\"\n",
    "    for effect in effects:\n",
    "        write_line += \"    \" + effect + \"\\n\"\n",
    "    write_line += \"  )\"\n",
    "\n",
    "    write_line += \")\\n\"\n",
    "\n",
    "write_line += \")\\n\" #domain ending bracket\n",
    "\n",
    "\n",
    "print(write_line)\n",
    "\n",
    "write_file.write(write_line)\n",
    "write_file.close()"
   ]
  },
  {
   "cell_type": "code",
   "execution_count": 46,
   "metadata": {
    "scrolled": true
   },
   "outputs": [
    {
     "name": "stdout",
     "output_type": "stream",
     "text": [
      "experiment_fsm0_state0:['start(turnoff.0)']\n",
      "experiment_fsm0_state1:['end(evacuate.0)']\n",
      "experiment_fsm0_state2:['start(evacuate.0)', 'end(turnoff.0)']\n",
      "procedure_fsm0_state0:['end(evacuate.1)']\n",
      "procedure_fsm0_state1:['start(evacuate.1)']\n",
      "valuable_fsm0_state0:['end(secure.0)']\n",
      "valuable_fsm0_state1:['start(take.0)']\n",
      "valuable_fsm0_state2:['end(take.0)', 'start(secure.0)']\n",
      "wallet_fsm0_state0:['start(secure.1)']\n",
      "wallet_fsm0_state1:['end(secure.1)']\n",
      "door_fsm0_state0:['start(close.0)']\n",
      "door_fsm0_state1:['start(check.0)', 'end(close.0)']\n",
      "door_fsm0_state2:['end(check.0)']\n",
      "#_fsm0_state0:['end(open.0)']\n",
      "#_fsm0_state1:['start(open.0)']\n",
      "building_fsm0_state0:['start(evacuate1.0)']\n",
      "building_fsm0_state1:['end(evacuate1.0)']\n",
      "nearest_fsm0_state0:['end(use.0)']\n",
      "nearest_fsm0_state1:['start(use.0)']\n",
      "exit_fsm0_state0:['end(use.1)']\n",
      "exit_fsm0_state1:['start(use.1)']\n",
      "elevator_fsm0_state0:['start(use1.0)']\n",
      "elevator_fsm0_state1:['end(use1.0)']\n",
      "911_fsm0_state0:['end(call.0)']\n",
      "911_fsm0_state1:['start(call.0)']\n",
      "name_fsm0_state0:['end(provide.0)']\n",
      "name_fsm0_state1:['start(provide.0)']\n",
      "location_fsm0_state0:['end(provide.1)']\n",
      "location_fsm0_state1:['start(provide.1)']\n",
      "there_fsm0_state0:['end(remain.0)']\n",
      "there_fsm0_state1:['start(remain.0)']\n",
      "emergency_fsm0_state0:['end(reenter.0)']\n",
      "emergency_fsm0_state1:['start(reenter.0)']\n",
      "personnel_fsm0_state0:['start(reenter.1)']\n",
      "personnel_fsm0_state1:['end(reenter.1)', 'start(inform.1)']\n",
      "personnel_fsm0_state2:['end(inform.1)']\n",
      "safety_fsm0_state0:['start(inform.0)']\n",
      "safety_fsm0_state1:['end(inform.0)']\n"
     ]
    }
   ],
   "source": [
    "# state dictionary\n",
    "print_state_dictionary(state_dict_overall)"
   ]
  },
  {
   "cell_type": "code",
   "execution_count": null,
   "metadata": {},
   "outputs": [],
   "source": []
  },
  {
   "cell_type": "markdown",
   "metadata": {},
   "source": [
    "## NER "
   ]
  },
  {
   "cell_type": "code",
   "execution_count": 47,
   "metadata": {},
   "outputs": [],
   "source": [
    "# finding entities using spacy\n",
    "import spacy\n",
    "from spacy import displacy\n",
    "import en_core_web_sm\n",
    "nlp = spacy.load('en_core_web_sm')\n",
    "doc = nlp(coref_resolved_instructions)"
   ]
  },
  {
   "cell_type": "code",
   "execution_count": 49,
   "metadata": {},
   "outputs": [
    {
     "data": {
      "text/html": [
       "<div class=\"entities\" style=\"line-height: 2.5; direction: ltr\">Fire Alarm Instructions</br>Turn-off all hazardous experiments or procedures before evacuating.</br>If possible, take or secure all valuables, wallets, purses, keys, etc as quickly as possible.</br>Close all doors behind you as you exit.</br>Check all doors behind you for heat before you open or go through all doors behind you to avoid walking into a fire.</br>Evacuate the building using the nearest exit or stairway. Do not use the elevators.</br>Call \n",
       "<mark class=\"entity\" style=\"background: #e4e7d2; padding: 0.45em 0.6em; margin: 0 0.25em; line-height: 1; border-radius: 0.35em; box-decoration-break: clone; -webkit-box-decoration-break: clone\">\n",
       "    911\n",
       "    <span style=\"font-size: 0.8em; font-weight: bold; line-height: 1; border-radius: 0.35em; text-transform: uppercase; vertical-align: middle; margin-left: 0.5rem\">CARDINAL</span>\n",
       "</mark>\n",
       " from a safe area and provide name, location, and nature of emergency.</br>Proceed to a pre-determined assembly area of building and remain there until you are told to re-enter by the emergency personnel in charge.</br>Do not impede access of emergency personnel to a pre-determined assembly area of building.</br>\n",
       "<mark class=\"entity\" style=\"background: #7aecec; padding: 0.45em 0.6em; margin: 0 0.25em; line-height: 1; border-radius: 0.35em; box-decoration-break: clone; -webkit-box-decoration-break: clone\">\n",
       "    Inform Building Safety Personnel or Emergency Personnel\n",
       "    <span style=\"font-size: 0.8em; font-weight: bold; line-height: 1; border-radius: 0.35em; text-transform: uppercase; vertical-align: middle; margin-left: 0.5rem\">ORG</span>\n",
       "</mark>\n",
       " of the event, conditions and location of individuals who require assistance and have not been evacuated.\n",
       "</div>"
      ],
      "text/plain": [
       "<IPython.core.display.HTML object>"
      ]
     },
     "metadata": {},
     "output_type": "display_data"
    }
   ],
   "source": [
    "# displacy.render(nlp(str(doc)), jupyter=True, style='ent', options = {'ents':['QUANTITY', 'TIME', 'LOC', 'DATE']})\n",
    "displacy.render(nlp(str(doc)), jupyter=True, style='ent')"
   ]
  },
  {
   "cell_type": "code",
   "execution_count": null,
   "metadata": {},
   "outputs": [],
   "source": []
  },
  {
   "cell_type": "code",
   "execution_count": null,
   "metadata": {},
   "outputs": [],
   "source": []
  },
  {
   "cell_type": "code",
   "execution_count": null,
   "metadata": {},
   "outputs": [],
   "source": []
  },
  {
   "cell_type": "code",
   "execution_count": null,
   "metadata": {},
   "outputs": [],
   "source": []
  },
  {
   "cell_type": "code",
   "execution_count": null,
   "metadata": {
    "lines_to_next_cell": 2
   },
   "outputs": [],
   "source": []
  }
 ],
 "metadata": {
  "jupytext": {
   "encoding": "# -*- coding: utf-8 -*-",
   "text_representation": {
    "extension": ".py",
    "format_name": "light",
    "format_version": "1.5",
    "jupytext_version": "1.3.5"
   }
  },
  "kernelspec": {
   "display_name": "Python 3",
   "language": "python",
   "name": "python3"
  },
  "language_info": {
   "codemirror_mode": {
    "name": "ipython",
    "version": 3
   },
   "file_extension": ".py",
   "mimetype": "text/x-python",
   "name": "python",
   "nbconvert_exporter": "python",
   "pygments_lexer": "ipython3",
   "version": "3.6.2"
  }
 },
 "nbformat": 4,
 "nbformat_minor": 2
}
