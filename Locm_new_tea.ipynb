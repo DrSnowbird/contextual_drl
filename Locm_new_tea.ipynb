{
 "cells": [
  {
   "cell_type": "markdown",
   "metadata": {},
   "source": [
    "#### Imports"
   ]
  },
  {
   "cell_type": "code",
   "execution_count": 1,
   "metadata": {},
   "outputs": [],
   "source": [
    "from collections import defaultdict\n",
    "import itertools\n",
    "import os\n",
    "from tabulate import tabulate\n",
    "from pprint import pprint\n",
    "import matplotlib.pyplot as plt\n",
    "%matplotlib inline\n",
    "import networkx as nx\n",
    "import pandas as pd\n",
    "pd.options.display.max_columns = 100"
   ]
  },
  {
   "cell_type": "markdown",
   "metadata": {},
   "source": [
    "## Learning Object-Centered Models (LOCM) \n",
    "This code combines LOCM1 and LOCM2 algorithms and is last part of the pipeline that I use in my thesis to generate PDDL models from instructional texts.\n",
    "\n",
    "- Step 1: Find classes and make transition graphs.\n",
    "- Step 2: Get transistion sets from LOCM2 algorithm\n",
    "- Step 3: Create FSMs\n",
    "- Step 4: Perform Zero Analysis and add new FSM if necessary.\n",
    "- Step 5: Create and test hypothesis for state parameters\n",
    "- Step 6: Create and merge state parameters\n",
    "- Step 7: Remove parameter flaws\n",
    "- Step 8: Extract static preconditions\n",
    "- Step 9: Form action schemas"
   ]
  },
  {
   "cell_type": "code",
   "execution_count": 2,
   "metadata": {},
   "outputs": [],
   "source": [
    "input_file_name = \"locm_data/tea_new\"\n",
    "\n",
    "domain_name = input_file_name.split('/')[-1].split('.')[0] #domain name is the name of the file"
   ]
  },
  {
   "cell_type": "code",
   "execution_count": 3,
   "metadata": {},
   "outputs": [
    {
     "name": "stdout",
     "output_type": "stream",
     "text": [
      "tea_new\n"
     ]
    }
   ],
   "source": [
    "print(domain_name)"
   ]
  },
  {
   "cell_type": "markdown",
   "metadata": {},
   "source": [
    "### Read input file"
   ]
  },
  {
   "cell_type": "code",
   "execution_count": 4,
   "metadata": {},
   "outputs": [],
   "source": [
    "def read_file(file_path):\n",
    "    '''\n",
    "    Read the input data and return list of action sequences.\n",
    "    Each sequence is a list of action-argumentlist tuples.\n",
    "    '''\n",
    "    file = open(input_file_name, 'r')\n",
    "    sequences = []\n",
    "    for line in file:\n",
    "        \n",
    "        actions = []\n",
    "        arguments = []\n",
    "        if line and not line.isspace() and len(line)>1:\n",
    "            sequence = line.rstrip(\"\\n\\r\").lstrip(\"\\n\\r\").lower() \n",
    "            action_defs = sequence.split(\"),\")\n",
    "\n",
    "            for action_def in action_defs:\n",
    "                action = action_def.split('(')[0].strip(\")\\n\\r\").strip()\n",
    "                argument = action_def.split('(')[1].strip(\")\\n\\r\")\n",
    "                actions.append(action.strip())\n",
    "                argument_list = argument.split(',')\n",
    "                argument_list = [x.strip() for x in argument_list]\n",
    "                #argument_list.insert(0,'zero')\n",
    "                arguments.append(argument_list)\n",
    "                \n",
    "            \n",
    "            actarg_tuples = zip(actions,arguments)\n",
    "            sequences.append(list(actarg_tuples))\n",
    "    return sequences\n",
    "\n",
    "def print_sequences(sequences):\n",
    "    for seq in sequences:\n",
    "        for action in seq:\n",
    "            print(action)\n",
    "        print()"
   ]
  },
  {
   "cell_type": "code",
   "execution_count": 5,
   "metadata": {},
   "outputs": [],
   "source": [
    "sequences = read_file(input_file_name)"
   ]
  },
  {
   "cell_type": "code",
   "execution_count": 6,
   "metadata": {},
   "outputs": [
    {
     "name": "stdout",
     "output_type": "stream",
     "text": [
      "('start', ['home'])\n",
      "('reach', ['cafe'])\n",
      "('buy', ['tea'])\n",
      "('wait', ['minutes'])\n",
      "('clean', ['hands'])\n",
      "('add', ['water'])\n",
      "('pour', ['milk'])\n",
      "('dip', ['teabag'])\n",
      "('mix', ['teabag', 'water', 'milk'])\n",
      "\n"
     ]
    }
   ],
   "source": [
    "print_sequences(sequences) #print first sequence actions."
   ]
  },
  {
   "cell_type": "code",
   "execution_count": 7,
   "metadata": {},
   "outputs": [
    {
     "name": "stdout",
     "output_type": "stream",
     "text": [
      "1\n"
     ]
    }
   ],
   "source": [
    "print(len(sequences)) #print number of plans"
   ]
  },
  {
   "cell_type": "markdown",
   "metadata": {},
   "source": [
    "### Step 1.1: Find classes \n",
    "\n",
    "User can fix this easily \n",
    "#### Improvement 1 : User names the classes through user input "
   ]
  },
  {
   "cell_type": "code",
   "execution_count": 8,
   "metadata": {},
   "outputs": [],
   "source": [
    "transitions = set() # A transition is denoted by action_name + argument_number.\n",
    "arguments = set()\n",
    "actions = set()"
   ]
  },
  {
   "cell_type": "code",
   "execution_count": 9,
   "metadata": {},
   "outputs": [
    {
     "name": "stdout",
     "output_type": "stream",
     "text": [
      "\n",
      "Actions\n",
      "{'add', 'clean', 'reach', 'pour', 'start', 'wait', 'mix', 'dip', 'buy'}\n",
      "\n",
      "Transitions\n",
      "{'add.0', 'reach.0', 'start.0', 'mix.1', 'dip.0', 'buy.0', 'wait.0', 'clean.0', 'pour.0', 'mix.2', 'mix.0'}\n",
      "\n",
      "Arguments/Objects\n",
      "{'cafe', 'minutes', 'milk', 'water', 'hands', 'teabag', 'tea', 'home'}\n"
     ]
    }
   ],
   "source": [
    "for seq in sequences:\n",
    "    for actarg_tuple in seq:\n",
    "        actions.add(actarg_tuple[0])\n",
    "        for j, arg in enumerate(actarg_tuple[1]):\n",
    "            transitions.add(actarg_tuple[0]+\".\"+str(j))\n",
    "            arguments.add(arg)\n",
    "\n",
    "print(\"\\nActions\")\n",
    "print(actions)\n",
    "print(\"\\nTransitions\")\n",
    "print(transitions)\n",
    "print(\"\\nArguments/Objects\")\n",
    "print(arguments)"
   ]
  },
  {
   "cell_type": "code",
   "execution_count": 10,
   "metadata": {},
   "outputs": [],
   "source": [
    "def get_actarg_dictionary(sequences):\n",
    "    d = defaultdict(list)\n",
    "    for seq in sequences:\n",
    "        for actarg_tuple in seq:\n",
    "            d[actarg_tuple[0]].append(actarg_tuple[1])\n",
    "    return d"
   ]
  },
  {
   "cell_type": "code",
   "execution_count": 11,
   "metadata": {},
   "outputs": [
    {
     "name": "stdout",
     "output_type": "stream",
     "text": [
      "start - [['home']]\n",
      "reach - [['cafe']]\n",
      "buy - [['tea']]\n",
      "wait - [['minutes']]\n",
      "clean - [['hands']]\n",
      "add - [['water']]\n",
      "pour - [['milk']]\n",
      "dip - [['teabag']]\n",
      "mix - [['teabag', 'water', 'milk']]\n"
     ]
    }
   ],
   "source": [
    "d = get_actarg_dictionary(sequences)\n",
    "for k,v in d.items():\n",
    "        print(\"{} - {}\".format(k,v))"
   ]
  },
  {
   "cell_type": "markdown",
   "metadata": {},
   "source": [
    "#### Get classes util functions"
   ]
  },
  {
   "cell_type": "code",
   "execution_count": 12,
   "metadata": {},
   "outputs": [],
   "source": [
    "def get_classes(d):\n",
    "    # TODO incorporate word similarity in get classes.\n",
    "    c = defaultdict(set)\n",
    "    for k,v in d.items():\n",
    "        for arg_list in v:\n",
    "            for i,object in enumerate(arg_list):\n",
    "                c[k,i].add(object)\n",
    "\n",
    "    sets = c.values()\n",
    "    classes = []\n",
    "    # remove duplicate classes\n",
    "    for s in sets:\n",
    "        if s not in classes:\n",
    "            classes.append(s)\n",
    "\n",
    "    # now do pairwise intersections of all values. If intersection, combine them; then return the final sets.\n",
    "    classes_copy = list(classes)\n",
    "    while True:\n",
    "        combinations = list(itertools.combinations(classes_copy,2))\n",
    "        intersections_count = 0\n",
    "        for combination in combinations:\n",
    "            if combination[0].intersection(combination[1]):\n",
    "                intersections_count +=1\n",
    "\n",
    "                if combination[0] in classes_copy:\n",
    "                    classes_copy.remove(combination[0])\n",
    "                if combination[1] in classes_copy:\n",
    "                    classes_copy.remove(combination[1])\n",
    "                classes_copy.append(combination[0].union(combination[1]))\n",
    "\n",
    "        if intersections_count==0:\n",
    "            # print(\"no intersections left\")\n",
    "            break\n",
    "\n",
    "    return classes_copy\n",
    "\n",
    "# TODO: Can use better approach here. NER will help.\n",
    "def get_class_names(classes):\n",
    "    # Name the class to first object found ignoring the digits in it\n",
    "    class_names = []\n",
    "    for c in classes:\n",
    "        for object in c:\n",
    "#             object = ''.join([i for i in object if not i.isdigit()])\n",
    "            class_names.append(object)\n",
    "            break\n",
    "    return class_names\n",
    "\n",
    "def get_class_index(arg,classes):\n",
    "    for class_index, c in enumerate(classes):\n",
    "        if arg in c:\n",
    "            return class_index #it is like breaking out of the loop\n",
    "    print(\"Error:class index not found\") #this statement is only executed if class index is not returned."
   ]
  },
  {
   "cell_type": "code",
   "execution_count": 13,
   "metadata": {},
   "outputs": [
    {
     "name": "stdout",
     "output_type": "stream",
     "text": [
      "\n",
      "Sorts/Classes\n",
      "[{'home'}, {'cafe'}, {'tea'}, {'minutes'}, {'hands'}, {'water'}, {'milk'}, {'teabag'}]\n",
      "\n",
      "Extracted class names\n",
      "['home', 'cafe', 'tea', 'minutes', 'hands', 'water', 'milk', 'teabag']\n"
     ]
    }
   ],
   "source": [
    "classes = get_classes(d) #sorts of object\n",
    "print(\"\\nSorts/Classes\")\n",
    "print(classes)\n",
    "\n",
    "class_names = get_class_names(classes)\n",
    "print(\"\\nExtracted class names\")\n",
    "print(class_names)"
   ]
  },
  {
   "cell_type": "markdown",
   "metadata": {},
   "source": [
    "# USER INPUT 1: ENTER CORRECT CLASS NAMES"
   ]
  },
  {
   "cell_type": "code",
   "execution_count": 14,
   "metadata": {},
   "outputs": [
    {
     "name": "stdout",
     "output_type": "stream",
     "text": [
      "\n",
      "Renamed class names\n",
      "['home', 'cafe', 'tea', 'minutes', 'hands', 'water', 'milk', 'teabag']\n"
     ]
    }
   ],
   "source": [
    "############ (Optional) User Input ############\n",
    "# Give user an option to change class names.\n",
    "# class_names[0] = 'rocket'\n",
    "# class_names[1] = 'bread-type'\n",
    " #class_names[2] = 'sandwich-type'\n",
    "print(\"\\nRenamed class names\")\n",
    "print(class_names)\n"
   ]
  },
  {
   "cell_type": "markdown",
   "metadata": {},
   "source": [
    "#### Assumptions\n",
    "- Each object of a same class undergoes similar kind of transition.\n",
    "- Objects of same class in a same action undergo similar kind of transition."
   ]
  },
  {
   "cell_type": "code",
   "execution_count": 15,
   "metadata": {},
   "outputs": [
    {
     "name": "stdout",
     "output_type": "stream",
     "text": [
      "\n",
      "Actions\n",
      "{'add', 'clean', 'reach', 'pour', 'start', 'wait', 'mix', 'dip', 'buy'}\n",
      "\n",
      "Transitions\n",
      "{'add.0', 'reach.0', 'start.0', 'mix.1', 'dip.0', 'buy.0', 'wait.0', 'clean.0', 'pour.0', 'mix.2', 'mix.0'}\n",
      "{'clean.hands.0', 'dip.teabag.0', 'mix.teabag.0', 'start.home.0', 'add.water.0', 'pour.milk.0', 'wait.minutes.0', 'mix.water.1', 'reach.cafe.0', 'mix.milk.2', 'buy.tea.0'}\n",
      "\n",
      "Arguments/Objects\n",
      "{'cafe', 'minutes', 'milk', 'water', 'hands', 'teabag', 'tea', 'home'}\n"
     ]
    }
   ],
   "source": [
    "# change transitions to be more meaningful by incorporating class_names.\n",
    "full_transitions = set()\n",
    "for seq in sequences:\n",
    "    for actarg_tuple in seq:\n",
    "        actions.add(actarg_tuple[0])\n",
    "        for j, arg in enumerate(actarg_tuple[1]):\n",
    "            full_transitions.add(actarg_tuple[0]+\".\"+class_names[get_class_index(arg,classes)]+\".\"+str(j))\n",
    "            arguments.add(arg)\n",
    "\n",
    "print(\"\\nActions\")\n",
    "print(actions)\n",
    "print(\"\\nTransitions\")\n",
    "print(transitions)\n",
    "print(full_transitions)\n",
    "print(\"\\nArguments/Objects\")\n",
    "print(arguments)"
   ]
  },
  {
   "cell_type": "code",
   "execution_count": 16,
   "metadata": {},
   "outputs": [
    {
     "name": "stdout",
     "output_type": "stream",
     "text": [
      "\n",
      "Number of Actions: 9,\n",
      "Number of unique transitions: 11,\n",
      "Number of unique objects (arguments): 8,\n",
      "Number of classes/sorts: 8\n"
     ]
    }
   ],
   "source": [
    "print(\"\\nNumber of Actions: {},\\nNumber of unique transitions: {},\\nNumber of unique objects (arguments): {},\\nNumber of classes/sorts: {}\".format(len(actions), len(transitions), len(arguments), len(classes)))"
   ]
  },
  {
   "cell_type": "markdown",
   "metadata": {},
   "source": [
    "### Step 1.2: Make transition graphs\n",
    "\n",
    "User can fix these easily as well. (Cytoscape)."
   ]
  },
  {
   "cell_type": "markdown",
   "metadata": {},
   "source": [
    "Building Transition graph util"
   ]
  },
  {
   "cell_type": "code",
   "execution_count": 17,
   "metadata": {},
   "outputs": [],
   "source": [
    "def build_and_save_transition_graphs(classes, domain_name, class_names):\n",
    "    # There should be a graph for each class of objects.\n",
    "    graphs = []  # number of graphs = number of sorts.\n",
    "    # Initialize all graphs empty\n",
    "    for sort in classes:\n",
    "        graphs.append(nx.DiGraph())\n",
    "\n",
    "    consecutive_transition_lists = [] #list of consecutive transitions per object instance per sequence.\n",
    "\n",
    "    for m, arg in enumerate(arguments):  # for all arguments (objects found in sequences)\n",
    "        for n, seq in enumerate(sequences):  # for all sequences\n",
    "            consecutive_transition_list = list()  # consecutive transition list for a sequence and an object (arg)\n",
    "            for i, actarg_tuple in enumerate(seq):\n",
    "                for j, arg_prime in enumerate(actarg_tuple[1]):  # for all arguments in actarg tuples\n",
    "                    if arg == arg_prime:  # if argument matches arg\n",
    "                        node = actarg_tuple[0] + \".\" +  str(j)\n",
    "#                         node = actarg_tuple[0] +  \".\" + class_names[get_class_index(arg,classes)] + \".\" +  str(j)  # name the node of graph which represents a transition\n",
    "                        consecutive_transition_list.append(node)  # add node to the cons_transition for sequence and argument\n",
    "\n",
    "                        # for each class append the nodes to the graph of that class\n",
    "                        class_index = get_class_index(arg_prime, classes)  # get index of class to which the object belongs to\n",
    "                        graphs[class_index].add_node(node)  # add node to the graph of that class\n",
    "\n",
    "            consecutive_transition_lists.append([n, arg, consecutive_transition_list])\n",
    "\n",
    "    # print(consecutive_transition_lists)\n",
    "    # for all consecutive transitions add edges to the appropriate graphs.\n",
    "    for cons_trans_list in consecutive_transition_lists:\n",
    "        # print(cons_trans_list)\n",
    "        seq_no = cons_trans_list[0]  # get sequence number\n",
    "        arg = cons_trans_list[1]  # get argument\n",
    "        class_index = get_class_index(arg, classes)  # get index of class\n",
    "        # add directed edges to graph of that class\n",
    "        for i in range(0, len(cons_trans_list[2]) - 1):\n",
    "                if graphs[class_index].has_edge(cons_trans_list[2][i], cons_trans_list[2][i + 1]):\n",
    "                    graphs[class_index][cons_trans_list[2][i]][cons_trans_list[2][i + 1]]['weight'] += 1\n",
    "                else:\n",
    "                    graphs[class_index].add_edge(cons_trans_list[2][i], cons_trans_list[2][i + 1], weight=1)\n",
    "\n",
    "\n",
    "    \n",
    "    # make directory if doesn't exist\n",
    "    dirName = \"output/\"+ domain_name\n",
    "    if not os.path.exists(dirName):\n",
    "        os.makedirs(dirName)\n",
    "        print(\"Directory \", dirName, \" Created \")\n",
    "    else:\n",
    "        print(\"Directory \", dirName, \" already exists\")\n",
    "    empty_directory(dirName)\n",
    "\n",
    "\n",
    "    # plot and save all the graphs\n",
    "    adjacency_matrix_list = plot_and_save(graphs) # list of adjacency matrices per class\n",
    "\n",
    "    return adjacency_matrix_list\n",
    "\n",
    "def plot_and_save(graphs):\n",
    "    adjacency_matrix_list = [] # list of adjacency matrices per class\n",
    "    \n",
    "    for index, G in enumerate(graphs):\n",
    "        # TODO: Can use cytoscape or gephi for changes in Transition graphs (due to errors in data extracted).\n",
    "        nx.write_graphml(G, \"output/\"+ domain_name + \"/\" +  class_names[index] + \".graphml\")\n",
    "\n",
    "        nx.draw(G, arrow_style='fancy', with_labels=True)\n",
    "        labels = nx.get_edge_attributes(G, 'weight')\n",
    "        pos = nx.spring_layout(G)\n",
    "        nx.draw_networkx_edge_labels(G, pos, edge_labels=labels)\n",
    "        plt.show()\n",
    "        print(\"Nodes:{}\".format(G.nodes()))\n",
    "        print(\"Edges:{}\".format(G.edges()))\n",
    "\n",
    "        # TODO: save dataframes in cache and reload them.\n",
    "        # A = nx.to_numpy_matrix(G, nodelist=G.nodes())\n",
    "        \n",
    "        df = nx.to_pandas_adjacency(G, nodelist=G.nodes(), dtype=int)\n",
    "        adjacency_matrix_list.append(df)\n",
    "    return adjacency_matrix_list"
   ]
  },
  {
   "cell_type": "markdown",
   "metadata": {},
   "source": [
    "##### Utils"
   ]
  },
  {
   "cell_type": "code",
   "execution_count": 18,
   "metadata": {},
   "outputs": [],
   "source": [
    "def empty_directory(folder):\n",
    "    for the_file in os.listdir(folder):\n",
    "        file_path = os.path.join(folder, the_file)\n",
    "        try:\n",
    "            if os.path.isfile(file_path):\n",
    "                os.unlink(file_path)\n",
    "            # elif os.path.isdir(file_path): shutil.rmtree(file_path)\n",
    "        except Exception as e:\n",
    "            print(e)\n",
    "\n",
    "def findsubsets(S,m):\n",
    "    return set(itertools.combinations(S, m))\n",
    "\n",
    "def print_table(matrix):\n",
    "    print(tabulate(matrix, headers='keys', tablefmt='psql'))"
   ]
  },
  {
   "cell_type": "markdown",
   "metadata": {},
   "source": [
    "##### Transition Graphs"
   ]
  },
  {
   "cell_type": "code",
   "execution_count": 19,
   "metadata": {},
   "outputs": [
    {
     "name": "stdout",
     "output_type": "stream",
     "text": [
      "Directory  output/tea_new  already exists\n"
     ]
    },
    {
     "data": {
      "image/png": "[encoded data removed]",
      "text/plain": [
       "<Figure size 432x288 with 1 Axes>"
      ]
     },
     "metadata": {},
     "output_type": "display_data"
    },
    {
     "name": "stdout",
     "output_type": "stream",
     "text": [
      "Nodes:['start.0']\n",
      "Edges:[]\n"
     ]
    },
    {
     "data": {
      "image/png": "[encoded data removed]",
      "text/plain": [
       "<Figure size 432x288 with 1 Axes>"
      ]
     },
     "metadata": {},
     "output_type": "display_data"
    },
    {
     "name": "stdout",
     "output_type": "stream",
     "text": [
      "Nodes:['reach.0']\n",
      "Edges:[]\n"
     ]
    },
    {
     "data": {
      "image/png": "[encoded data removed]",
      "text/plain": [
       "<Figure size 432x288 with 1 Axes>"
      ]
     },
     "metadata": {},
     "output_type": "display_data"
    },
    {
     "name": "stdout",
     "output_type": "stream",
     "text": [
      "Nodes:['buy.0']\n",
      "Edges:[]\n"
     ]
    },
    {
     "data": {
      "image/png": "[encoded data removed]",
      "text/plain": [
       "<Figure size 432x288 with 1 Axes>"
      ]
     },
     "metadata": {},
     "output_type": "display_data"
    },
    {
     "name": "stdout",
     "output_type": "stream",
     "text": [
      "Nodes:['wait.0']\n",
      "Edges:[]\n"
     ]
    },
    {
     "data": {
      "image/png": "[encoded data removed]",
      "text/plain": [
       "<Figure size 432x288 with 1 Axes>"
      ]
     },
     "metadata": {},
     "output_type": "display_data"
    },
    {
     "name": "stdout",
     "output_type": "stream",
     "text": [
      "Nodes:['clean.0']\n",
      "Edges:[]\n"
     ]
    },
    {
     "data": {
      "image/png": "[encoded data removed]",
      "text/plain": [
       "<Figure size 432x288 with 1 Axes>"
      ]
     },
     "metadata": {},
     "output_type": "display_data"
    },
    {
     "name": "stdout",
     "output_type": "stream",
     "text": [
      "Nodes:['add.0', 'mix.1']\n",
      "Edges:[('add.0', 'mix.1')]\n"
     ]
    },
    {
     "data": {
      "image/png": "[encoded data removed]",
      "text/plain": [
       "<Figure size 432x288 with 1 Axes>"
      ]
     },
     "metadata": {},
     "output_type": "display_data"
    },
    {
     "name": "stdout",
     "output_type": "stream",
     "text": [
      "Nodes:['pour.0', 'mix.2']\n",
      "Edges:[('pour.0', 'mix.2')]\n"
     ]
    },
    {
     "data": {
      "image/png": "[encoded data removed]",
      "text/plain": [
       "<Figure size 432x288 with 1 Axes>"
      ]
     },
     "metadata": {},
     "output_type": "display_data"
    },
    {
     "name": "stdout",
     "output_type": "stream",
     "text": [
      "Nodes:['dip.0', 'mix.0']\n",
      "Edges:[('dip.0', 'mix.0')]\n"
     ]
    }
   ],
   "source": [
    "#### Build weighted directed graphs for transitions.\n",
    "adjacency_matrix_list = build_and_save_transition_graphs(classes, domain_name, class_names)"
   ]
  },
  {
   "cell_type": "markdown",
   "metadata": {
    "heading_collapsed": true
   },
   "source": [
    "### Step 2: Get Transition Sets from LOCM2\n",
    "\n",
    "Algorithm: LOCM2\n",
    "Input : \n",
    "- T_all = set of observed transitions for a sort/class\n",
    "- H : Set of holes - each hole is a set of two transitions.\n",
    "- P : Set of pairs <t1,t2> i.e. consecutive transitions.\n",
    "- E : Set of example sequences of actions.\n",
    "Output:\n",
    "- S : Set of transition sets.\n",
    "#### Finding holes"
   ]
  },
  {
   "cell_type": "code",
   "execution_count": 20,
   "metadata": {
    "hidden": true
   },
   "outputs": [],
   "source": [
    "def get_adjacency_matrix_with_holes(adjacency_matrix_list):\n",
    "    adjacency_matrix_list_with_holes = []\n",
    "    for index,adjacency_matrix in enumerate(adjacency_matrix_list):\n",
    "        # print(\"\\n ROWS ===========\")\n",
    "        df = adjacency_matrix.copy()\n",
    "        df1 = adjacency_matrix.copy()\n",
    "\n",
    "        # for particular adjacency matrix's copy, loop over all pairs of rows\n",
    "        for i in range(df.shape[0] - 1):\n",
    "            for j in range(i+1, df.shape[0]):\n",
    "                idx1, idx2 = i, j\n",
    "                row1, row2 = df.iloc[idx1,:], df.iloc[idx2, :] #we have now all pairs of rows\n",
    "\n",
    "                common_values_flag = False #for each two rows we have a common_values_flag\n",
    "\n",
    "                # if there is a common value between two rows, turn common value flag to true\n",
    "                for col in range(row1.shape[0]):\n",
    "                    if row1.iloc[col] > 0 and row2.iloc[col] > 0:\n",
    "                        common_values_flag = True\n",
    "                        break\n",
    "\n",
    "                # now if two rows have common values, we need to check for holes.\n",
    "                if common_values_flag:\n",
    "                    for col in range(row1.shape[0]):\n",
    "                        if row1.iloc[col] > 0 and row2.iloc[col] == 0:\n",
    "                            df1.iloc[idx2,col] = 'hole'\n",
    "                        elif row1.iloc[col] == 0 and row2.iloc[col] > 0:\n",
    "                            df1.iloc[idx1, col] = 'hole'\n",
    "\n",
    "        adjacency_matrix_list_with_holes.append(df1)\n",
    "    return adjacency_matrix_list_with_holes"
   ]
  },
  {
   "cell_type": "code",
   "execution_count": 21,
   "metadata": {
    "hidden": true
   },
   "outputs": [
    {
     "name": "stdout",
     "output_type": "stream",
     "text": [
      "\n",
      "==========home==========\n",
      "|         |   start.0 |\n",
      "|---------|-----------|\n",
      "| start.0 |         0 |\n",
      "\n",
      "===== HOLES: home==========\n",
      "|         |   start.0 |\n",
      "|---------|-----------|\n",
      "| start.0 |         0 |\n",
      "\n",
      "==========cafe==========\n",
      "|         |   reach.0 |\n",
      "|---------|-----------|\n",
      "| reach.0 |         0 |\n",
      "\n",
      "===== HOLES: cafe==========\n",
      "|         |   reach.0 |\n",
      "|---------|-----------|\n",
      "| reach.0 |         0 |\n",
      "\n",
      "==========tea==========\n",
      "|       |   buy.0 |\n",
      "|-------|---------|\n",
      "| buy.0 |       0 |\n",
      "\n",
      "===== HOLES: tea==========\n",
      "|       |   buy.0 |\n",
      "|-------|---------|\n",
      "| buy.0 |       0 |\n",
      "\n",
      "==========minutes==========\n",
      "|        |   wait.0 |\n",
      "|--------|----------|\n",
      "| wait.0 |        0 |\n",
      "\n",
      "===== HOLES: minutes==========\n",
      "|        |   wait.0 |\n",
      "|--------|----------|\n",
      "| wait.0 |        0 |\n",
      "\n",
      "==========hands==========\n",
      "|         |   clean.0 |\n",
      "|---------|-----------|\n",
      "| clean.0 |         0 |\n",
      "\n",
      "===== HOLES: hands==========\n",
      "|         |   clean.0 |\n",
      "|---------|-----------|\n",
      "| clean.0 |         0 |\n",
      "\n",
      "==========water==========\n",
      "|       |   add.0 |   mix.1 |\n",
      "|-------|---------|---------|\n",
      "| add.0 |       0 |       1 |\n",
      "| mix.1 |       0 |       0 |\n",
      "\n",
      "===== HOLES: water==========\n",
      "|       |   add.0 |   mix.1 |\n",
      "|-------|---------|---------|\n",
      "| add.0 |       0 |       1 |\n",
      "| mix.1 |       0 |       0 |\n",
      "\n",
      "==========milk==========\n",
      "|        |   pour.0 |   mix.2 |\n",
      "|--------|----------|---------|\n",
      "| pour.0 |        0 |       1 |\n",
      "| mix.2  |        0 |       0 |\n",
      "\n",
      "===== HOLES: milk==========\n",
      "|        |   pour.0 |   mix.2 |\n",
      "|--------|----------|---------|\n",
      "| pour.0 |        0 |       1 |\n",
      "| mix.2  |        0 |       0 |\n",
      "\n",
      "==========teabag==========\n",
      "|       |   dip.0 |   mix.0 |\n",
      "|-------|---------|---------|\n",
      "| dip.0 |       0 |       1 |\n",
      "| mix.0 |       0 |       0 |\n",
      "\n",
      "===== HOLES: teabag==========\n",
      "|       |   dip.0 |   mix.0 |\n",
      "|-------|---------|---------|\n",
      "| dip.0 |       0 |       1 |\n",
      "| mix.0 |       0 |       0 |\n"
     ]
    }
   ],
   "source": [
    "adjacency_matrix_list_with_holes = get_adjacency_matrix_with_holes(adjacency_matrix_list)\n",
    "\n",
    "### Printing FSM matrices with and without holes\n",
    "for index,adjacency_matrix in enumerate(adjacency_matrix_list):\n",
    "    print(\"\\n==========\" + class_names[index] + \"==========\")\n",
    "    # print(adjacency_matrix)\n",
    "    print(tabulate(adjacency_matrix, headers='keys', tablefmt='github'))\n",
    "\n",
    "    print(\"\\n===== HOLES: \" + class_names[index] + \"==========\")\n",
    "    print(tabulate(adjacency_matrix_list_with_holes[index], headers='keys', tablefmt='github'))\n"
   ]
  },
  {
   "cell_type": "markdown",
   "metadata": {
    "hidden": true
   },
   "source": [
    "|                       |   grip_from_one_block.2 |   grip_from_table.0 |   put_on_blocks.0 |   put_on_one_block.2 |   grip_from_blocks.2 | grip_from_blocks.0   | put_on_table.0   |   put_on_blocks.2 | grip_from_one_block.0   |   put_on_one_block.0 |\n",
    "|-----------------------|-------------------------|---------------------|-------------------|----------------------|----------------------|----------------------|------------------|-------------------|-------------------------|----------------------|\n",
    "| grip_from_one_block.2 |                       0 |                  55 |                 0 |                   23 |                    0 | 0                    | 0                |                 0 | 0                       |                    0 |\n",
    "| grip_from_table.0     |                       0 |                   0 |                72 |                    0 |                    0 | 0                    | hole             |                 0 | 0                       |                   23 |\n",
    "| put_on_blocks.0       |                       0 |                   0 |                 0 |                    0 |                    0 | 45                   | 0                |                82 | hole                    |                    0 |\n",
    "| put_on_one_block.2    |                      33 |                   0 |                 0 |                    0 |                    0 | 0                    | 0                |                 0 | 0                       |                    0 |\n",
    "| grip_from_blocks.2    |                       0 |                   0 |                 0 |                    0 |                    0 | 25                   | 0                |                27 | 36                      |                    0 |\n",
    "| grip_from_blocks.0    |                       0 |                   0 |                40 |                    0 |                    0 | 0                    | 31               |                 0 | 0                       |                   20 |\n",
    "| put_on_table.0        |                       0 |                  29 |                 0 |                   22 |                    0 | 0                    | 0                |                 0 | 0                       |                    0 |\n",
    "| put_on_blocks.2       |                       0 |                   0 |                 0 |                    0 |                   59 | 0                    | 0                |                 0 | 0                       |                    0 |\n",
    "| grip_from_one_block.0 |                       0 |                   0 |                47 |                    0 |                    0 | 0                    | 22               |                 0 | 0                       |                   11 |\n",
    "| put_on_one_block.0    |                       0 |                   0 |                 0 |                    0 |                    0 | hole                 | 0                |                28 | 22                      |                    0 |"
   ]
  },
  {
   "cell_type": "code",
   "execution_count": 22,
   "metadata": {
    "hidden": true
   },
   "outputs": [
    {
     "name": "stdout",
     "output_type": "stream",
     "text": [
      "home:\n",
      "cafe:\n",
      "tea:\n",
      "minutes:\n",
      "hands:\n",
      "water:\n",
      "milk:\n",
      "teabag:\n"
     ]
    }
   ],
   "source": [
    "# Create list of set of holes per class (H)\n",
    "holes_per_class = []\n",
    "\n",
    "for index,df in enumerate(adjacency_matrix_list_with_holes):\n",
    "    holes = set()\n",
    "    for i in range(df.shape[0]):\n",
    "        for j in range(df.shape[1]):\n",
    "            if df.iloc[i,j] == 'hole':\n",
    "                holes.add(frozenset({df.index[i] , df.columns[j]}))\n",
    "    holes_per_class.append(holes)\n",
    "for i, hole in enumerate(holes_per_class):\n",
    "    print(class_names[i]+\":\")\n",
    "    for h in hole:\n",
    "        print(list(h))"
   ]
  },
  {
   "cell_type": "code",
   "execution_count": 23,
   "metadata": {
    "hidden": true
   },
   "outputs": [
    {
     "name": "stdout",
     "output_type": "stream",
     "text": [
      "home:['start.0']\n",
      "cafe:['reach.0']\n",
      "tea:['buy.0']\n",
      "minutes:['wait.0']\n",
      "hands:['clean.0']\n",
      "water:['add.0' 'mix.1']\n",
      "milk:['pour.0' 'mix.2']\n",
      "teabag:['dip.0' 'mix.0']\n"
     ]
    }
   ],
   "source": [
    "# List of transitions per class (T_all). It is just a set of transitions that occur for a class.\n",
    "transitions_per_class = []\n",
    "for index, df in enumerate(adjacency_matrix_list_with_holes):\n",
    "    transitions_per_class.append(df.columns.values)\n",
    "for i, transition in enumerate(transitions_per_class):\n",
    "    print('{}:{}'.format(class_names[i], transition))"
   ]
  },
  {
   "cell_type": "code",
   "execution_count": 24,
   "metadata": {
    "hidden": true
   },
   "outputs": [],
   "source": [
    "def get_consecutive_transitions_per_class(adjacency_matrix_list_with_holes):\n",
    "    consecutive_transitions_per_class = []\n",
    "    for index, df in enumerate(adjacency_matrix_list_with_holes):\n",
    "        consecutive_transitions = set()  # for a class\n",
    "        for i in range(df.shape[0]):\n",
    "            for j in range(df.shape[1]):\n",
    "                if df.iloc[i, j] != 'hole':\n",
    "                    if df.iloc[i, j] > 0:\n",
    "                        # print(\"(\" + df.index[i] + \",\" + df.columns[j] + \")\")\n",
    "                        consecutive_transitions.add((df.index[i], df.columns[j]))\n",
    "        consecutive_transitions_per_class.append(consecutive_transitions)\n",
    "    return consecutive_transitions_per_class\n",
    "\n",
    "\n"
   ]
  },
  {
   "cell_type": "code",
   "execution_count": 25,
   "metadata": {
    "hidden": true
   },
   "outputs": [
    {
     "name": "stdout",
     "output_type": "stream",
     "text": [
      "home:\n",
      "\n",
      "cafe:\n",
      "\n",
      "tea:\n",
      "\n",
      "minutes:\n",
      "\n",
      "hands:\n",
      "\n",
      "water:\n",
      "('add.0', 'mix.1')\n",
      "\n",
      "milk:\n",
      "('pour.0', 'mix.2')\n",
      "\n",
      "teabag:\n",
      "('dip.0', 'mix.0')\n",
      "\n"
     ]
    }
   ],
   "source": [
    "#  Create list of consecutive transitions per class (P). If value is not null, ordered pair i,j would be consecutive transitions per class\n",
    "consecutive_transitions_per_class = get_consecutive_transitions_per_class(adjacency_matrix_list_with_holes)\n",
    "for i, transition in enumerate(consecutive_transitions_per_class):\n",
    "    print(class_names[i]+\":\")\n",
    "    for x in list(transition):\n",
    "        print(x)\n",
    "#     print('{}:{}'.format(class_names[i], transition))\n",
    "    print()"
   ]
  },
  {
   "cell_type": "code",
   "execution_count": 26,
   "metadata": {
    "hidden": true
   },
   "outputs": [
    {
     "name": "stdout",
     "output_type": "stream",
     "text": [
      "######## Getting transitions sets for each class using LOCM2 ######\n",
      "*********************************************************************************\n",
      "\n",
      "home\n",
      "Number of holes: 0\n",
      "set()\n",
      "Transitions of the class (T_all):\n",
      "['start.0']\n",
      "Number of values: 0\n",
      "Transition Pairs per class (P):\n",
      "set()\n",
      "\n",
      "\n",
      "===========CHECKING CANDIDATE SETS OF CLASS home FOR WELL_FORMEDNESS AND VALIDITY========\n",
      "\n",
      "Removed redundancy transition set list\n",
      "[]\n",
      "\n",
      "Final transition set list\n",
      "home\n",
      "[{'start.0'}]\n",
      "*********************************************************************************\n",
      "\n",
      "cafe\n",
      "Number of holes: 0\n",
      "set()\n",
      "Transitions of the class (T_all):\n",
      "['reach.0']\n",
      "Number of values: 0\n",
      "Transition Pairs per class (P):\n",
      "set()\n",
      "\n",
      "\n",
      "===========CHECKING CANDIDATE SETS OF CLASS cafe FOR WELL_FORMEDNESS AND VALIDITY========\n",
      "\n",
      "Removed redundancy transition set list\n",
      "[]\n",
      "\n",
      "Final transition set list\n",
      "cafe\n",
      "[{'reach.0'}]\n",
      "*********************************************************************************\n",
      "\n",
      "tea\n",
      "Number of holes: 0\n",
      "set()\n",
      "Transitions of the class (T_all):\n",
      "['buy.0']\n",
      "Number of values: 0\n",
      "Transition Pairs per class (P):\n",
      "set()\n",
      "\n",
      "\n",
      "===========CHECKING CANDIDATE SETS OF CLASS tea FOR WELL_FORMEDNESS AND VALIDITY========\n",
      "\n",
      "Removed redundancy transition set list\n",
      "[]\n",
      "\n",
      "Final transition set list\n",
      "tea\n",
      "[{'buy.0'}]\n",
      "*********************************************************************************\n",
      "\n",
      "minutes\n",
      "Number of holes: 0\n",
      "set()\n",
      "Transitions of the class (T_all):\n",
      "['wait.0']\n",
      "Number of values: 0\n",
      "Transition Pairs per class (P):\n",
      "set()\n",
      "\n",
      "\n",
      "===========CHECKING CANDIDATE SETS OF CLASS minutes FOR WELL_FORMEDNESS AND VALIDITY========\n",
      "\n",
      "Removed redundancy transition set list\n",
      "[]\n",
      "\n",
      "Final transition set list\n",
      "minutes\n",
      "[{'wait.0'}]\n",
      "*********************************************************************************\n",
      "\n",
      "hands\n",
      "Number of holes: 0\n",
      "set()\n",
      "Transitions of the class (T_all):\n",
      "['clean.0']\n",
      "Number of values: 0\n",
      "Transition Pairs per class (P):\n",
      "set()\n",
      "\n",
      "\n",
      "===========CHECKING CANDIDATE SETS OF CLASS hands FOR WELL_FORMEDNESS AND VALIDITY========\n",
      "\n",
      "Removed redundancy transition set list\n",
      "[]\n",
      "\n",
      "Final transition set list\n",
      "hands\n",
      "[{'clean.0'}]\n",
      "*********************************************************************************\n",
      "\n",
      "water\n",
      "Number of holes: 0\n",
      "set()\n",
      "Transitions of the class (T_all):\n",
      "['add.0' 'mix.1']\n",
      "Number of values: 1\n",
      "Transition Pairs per class (P):\n",
      "{('add.0', 'mix.1')}\n",
      "\n",
      "\n",
      "===========CHECKING CANDIDATE SETS OF CLASS water FOR WELL_FORMEDNESS AND VALIDITY========\n",
      "\n",
      "Removed redundancy transition set list\n",
      "[]\n",
      "\n",
      "Final transition set list\n",
      "water\n",
      "[{'add.0', 'mix.1'}]\n",
      "*********************************************************************************\n",
      "\n",
      "milk\n",
      "Number of holes: 0\n",
      "set()\n",
      "Transitions of the class (T_all):\n",
      "['pour.0' 'mix.2']\n",
      "Number of values: 1\n",
      "Transition Pairs per class (P):\n",
      "{('pour.0', 'mix.2')}\n",
      "\n",
      "\n",
      "===========CHECKING CANDIDATE SETS OF CLASS milk FOR WELL_FORMEDNESS AND VALIDITY========\n",
      "\n",
      "Removed redundancy transition set list\n",
      "[]\n",
      "\n",
      "Final transition set list\n",
      "milk\n",
      "[{'pour.0', 'mix.2'}]\n",
      "*********************************************************************************\n",
      "\n",
      "teabag\n",
      "Number of holes: 0\n",
      "set()\n",
      "Transitions of the class (T_all):\n",
      "['dip.0' 'mix.0']\n",
      "Number of values: 1\n",
      "Transition Pairs per class (P):\n",
      "{('dip.0', 'mix.0')}\n",
      "\n",
      "\n",
      "===========CHECKING CANDIDATE SETS OF CLASS teabag FOR WELL_FORMEDNESS AND VALIDITY========\n",
      "\n",
      "Removed redundancy transition set list\n",
      "[]\n",
      "\n",
      "Final transition set list\n",
      "teabag\n",
      "[{'dip.0', 'mix.0'}]\n"
     ]
    }
   ],
   "source": [
    "def check_well_formed(subset_df):\n",
    "    # got the adjacency matrix subset\n",
    "    df = subset_df.copy()\n",
    "\n",
    "    # for particular adjacency matrix's copy, loop over all pairs of rows\n",
    "    for i in range(df.shape[0] - 1):\n",
    "        for j in range(i + 1, df.shape[0]):\n",
    "            idx1, idx2 = i, j\n",
    "            row1, row2 = df.iloc[idx1, :], df.iloc[idx2, :]  # we have now all pairs of rows\n",
    "\n",
    "            common_values_flag = False  # for each two rows we have a common_values_flag\n",
    "\n",
    "            # if there is a common value between two rows, turn common value flag to true\n",
    "            for col in range(row1.shape[0]):\n",
    "                if row1.iloc[col] > 0 and row2.iloc[col] > 0:\n",
    "                    common_values_flag = True\n",
    "                    break\n",
    "\n",
    "            # now if two rows have common values, we need to check for holes.\n",
    "            if common_values_flag:\n",
    "                for col in range(row1.shape[0]):\n",
    "                    if row1.iloc[col] > 0 and row2.iloc[col] == 0:\n",
    "                        return False\n",
    "                    elif row1.iloc[col] == 0 and row2.iloc[col] > 0:\n",
    "                        return False\n",
    "    return True\n",
    "\n",
    "def check_valid(subset_df,consecutive_transitions_per_class):\n",
    "\n",
    "    # Reasoning: If we check against all consecutive transitions of all classes, we essentially checked against all example sequences.\n",
    "    # You check the candidate set which is well-formed (subset df against all consecutive transitions)\n",
    "\n",
    "    # got the adjacency matrix subset\n",
    "    df = subset_df.copy()\n",
    "\n",
    "    # for particular adjacency matrix's copy, loop over all pairs of rows\n",
    "    for i in range(df.shape[0]):\n",
    "        for j in range(df.shape[0]):\n",
    "            if df.iloc[i,j] > 0:\n",
    "                valid_val_flag = False\n",
    "                ordered_pair = (df.index[i], df.columns[j])\n",
    "                for ct_list in consecutive_transitions_per_class:\n",
    "                    for ct in ct_list:\n",
    "                        if ordered_pair == ct:\n",
    "                            valid_val_flag=True\n",
    "                # if after all iteration ordered pair is not found, mark the subset as invalid.\n",
    "                if not valid_val_flag:\n",
    "                    return False\n",
    "    return True\n",
    "\n",
    "\n",
    "def locm2_get_transition_sets_per_class(holes_per_class, transitions_per_class, consecutive_transitions_per_class):\n",
    "    \"\"\" LOCM 2 Algorithm\"\"\"\n",
    "    transition_sets_per_class = []\n",
    "\n",
    "    # for each hole in a class of objects.\n",
    "    for index, holes in enumerate(holes_per_class):\n",
    "        class_name = class_names[index]\n",
    "        print(\"*********************************************************************************\")\n",
    "        print()\n",
    "        print(class_name)\n",
    "        print(\"Number of holes: \"+ str(len(holes))) # if number of holes == 0 then class is well-formed i.e. shouldn't change.\n",
    "        print(holes)\n",
    "        print(\"Transitions of the class (T_all):\")\n",
    "        print(transitions_per_class[index])\n",
    "        print(\"Number of values: \" + str(len(consecutive_transitions_per_class[index])))\n",
    "        print(\"Transition Pairs per class (P):\")\n",
    "        print(consecutive_transitions_per_class[index])\n",
    "        print()\n",
    "\n",
    "        transition_set_list = [] #transition_sets_of_a_class, # intially its empty\n",
    "        print(\"\\n===========CHECKING CANDIDATE SETS OF CLASS \" + class_name + \" FOR WELL_FORMEDNESS AND VALIDITY========\")\n",
    "        if len(holes) > 0: # if there are any holes for a class\n",
    "            for hole in holes:\n",
    "                is_hole_already_covered_flag = False\n",
    "                if len(transition_set_list)>0:\n",
    "                    for s_prime in transition_set_list:\n",
    "                        if hole.issubset(s_prime):\n",
    "                            is_hole_already_covered_flag = True\n",
    "                            break\n",
    "                # discover a set which includes hole and is well-formed and valid against test data.\n",
    "                if not is_hole_already_covered_flag: # if not covered, do BFS with sets of increasing sizes starting with s=hole\n",
    "                    s = hole.copy()\n",
    "                    candidate_sets = []\n",
    "                    for i in range(len(s)+1,len(transitions_per_class[index])): # all subsets of T_all starting from hole's len +1\n",
    "                        subsets = findsubsets(transitions_per_class[index],i)\n",
    "\n",
    "                        # append the subsets which are subset of\n",
    "                        for candidate_set in subsets:\n",
    "                            if s.issubset(candidate_set):\n",
    "                                candidate_sets.append(set(candidate_set))\n",
    "\n",
    "                        # print(\"\\n===========CHECKING CANDIDATE SETS FOR WELL_FORMEDNESS AND VALIDITY========\")\n",
    "                        for candidate_set in candidate_sets:\n",
    "                            # print(candidate_set)\n",
    "                            subset_df = adjacency_matrix_list[index].loc[list(candidate_set),list(candidate_set)]\n",
    "                            # print_table(subset_df)\n",
    "\n",
    "                            # checking for well-formedness\n",
    "                            well_formed_flag = check_well_formed(subset_df)\n",
    "                            if not well_formed_flag:\n",
    "                                # print(\"This subset is NOT well-formed\")\n",
    "                                pass\n",
    "\n",
    "                            # if well-formed validate across the data to remove inappropriate dead-ends\n",
    "                            # additional check\n",
    "                            valid_against_data_flag = False\n",
    "                            if well_formed_flag:\n",
    "                                # print_table(subset_df)\n",
    "                                # print(\"This subset is well-formed\")\n",
    "\n",
    "                                # validate against all consecutive transitions per class (P)\n",
    "                                # This checks all sequences consecutive transitions. So, it is validating against (E)\n",
    "                                valid_against_data_flag = check_valid(subset_df, consecutive_transitions_per_class)\n",
    "                                if not valid_against_data_flag:\n",
    "                                    print(\"Invalid against data\")\n",
    "\n",
    "                            if valid_against_data_flag:\n",
    "                                print(\"Adding this subset as well-formed and valid.\")\n",
    "                                print_table(subset_df)\n",
    "                                print(candidate_set)\n",
    "                                if candidate_set not in transition_set_list: # do not allow copies.\n",
    "                                    transition_set_list.append(candidate_set)\n",
    "                                break\n",
    "                        print(\"Hole that is covered now:\")\n",
    "                        print(list(s))\n",
    "                        break\n",
    "\n",
    "\n",
    "            # print(transition_set_list)\n",
    "        #step -7 : remove redundant sets\n",
    "        ts_copy = transition_set_list.copy()\n",
    "        for i in range(len(ts_copy)):\n",
    "            for j in range(len(ts_copy)):\n",
    "                if ts_copy[i] < ts_copy[j]: #if subset\n",
    "                    if ts_copy[i] in transition_set_list:\n",
    "                        transition_set_list.remove(ts_copy[i])\n",
    "                elif ts_copy[i] > ts_copy[j]:\n",
    "                    if ts_copy[j] in transition_set_list:\n",
    "                        transition_set_list.remove(ts_copy[j])\n",
    "        print(\"\\nRemoved redundancy transition set list\")\n",
    "        print(transition_set_list)\n",
    "\n",
    "        #step-8: include all-transitions machine, even if it is not well-formed.\n",
    "        transition_set_list.append(set(transitions_per_class[index]))\n",
    "        print(\"\\nFinal transition set list\")\n",
    "        print(class_name)\n",
    "        print(transition_set_list)\n",
    "\n",
    "\n",
    "        transition_sets_per_class.append(transition_set_list)\n",
    "    return transition_sets_per_class\n",
    "\n",
    "\n",
    "############    LOCM2 #################\n",
    "####    Input ready for LOCM2, Starting LOCM2 algorithm now\n",
    "####    Step 8:  selecting transition sets (TS) [Main LOCM2 Algorithm]\n",
    "print(\"######## Getting transitions sets for each class using LOCM2 ######\")\n",
    "transition_sets_per_class = locm2_get_transition_sets_per_class(holes_per_class, transitions_per_class, consecutive_transitions_per_class)"
   ]
  },
  {
   "cell_type": "markdown",
   "metadata": {},
   "source": [
    "### Step 3: Algorithm For Induction of State Machines\n",
    "\n",
    "- Input: Action training sequence of length N\n",
    "- Output: Transition Set TS, Object states OS.\n",
    "\n",
    "We already have transition set TS per class."
   ]
  },
  {
   "cell_type": "code",
   "execution_count": 27,
   "metadata": {},
   "outputs": [
    {
     "name": "stdout",
     "output_type": "stream",
     "text": [
      "Step 3: Induction of Finite State Machines\n",
      "home\n",
      "Number of FSMS:1\n",
      "cafe\n",
      "Number of FSMS:1\n",
      "tea\n",
      "Number of FSMS:1\n",
      "minutes\n",
      "Number of FSMS:1\n",
      "hands\n",
      "Number of FSMS:1\n",
      "water\n",
      "Number of FSMS:1\n",
      "milk\n",
      "Number of FSMS:1\n",
      "teabag\n",
      "Number of FSMS:1\n"
     ]
    }
   ],
   "source": [
    "print(\"Step 3: Induction of Finite State Machines\")\n",
    "state_machines_overall_list = [] # list of all state machines\n",
    "state_dict_overall = [] #list of state dict per class\n",
    "\n",
    "for index, ts in enumerate(transition_sets_per_class):\n",
    "    state_machines_per_class = [] # state machines for each class.\n",
    "    state_dict_per_class = []\n",
    "    print(class_names[index])\n",
    "    # print(ts)\n",
    "    num_fsms = len(ts)\n",
    "    print(\"Number of FSMS:\" + str(num_fsms))\n",
    "\n",
    "\n",
    "    #### Add state identifiers\n",
    "    states_per_transition_set = []\n",
    "    for transition_set in ts:\n",
    "        states = set()\n",
    "        for transition in transition_set:\n",
    "            states.add(frozenset({\"start(\" + transition + \")\"}))\n",
    "            states.add(frozenset({\"end(\" + transition + \")\"}))\n",
    "        states_per_transition_set.append(states)\n",
    "\n",
    "    # print(states_per_transition_set)\n",
    "\n",
    "    #### For each pair of consecutive transitions T1, T2 in TS: Unify states end(T1) and start(T2) in set OS\n",
    "    for fsm_no, transition_set in enumerate(ts):\n",
    "        transition_df = adjacency_matrix_list[index].loc[list(transition_set), list(transition_set)] #uses transition matrix without holes\n",
    "\n",
    "        consecutive_transitions_state_machines_per_class = set()  # find consecutive transitions for a state machine in a class.\n",
    "        for i in range(transition_df.shape[0]):\n",
    "            for j in range(transition_df.shape[1]):\n",
    "                if transition_df.iloc[i, j] != 'hole':\n",
    "                    if transition_df.iloc[i, j] > 0:\n",
    "                        consecutive_transitions_state_machines_per_class.add((transition_df.index[i], transition_df.columns[j]))\n",
    "\n",
    "        # for every consecutive transition and for every state of a class, check if that state matches end(t1) or start(t2)\n",
    "        for ct in consecutive_transitions_state_machines_per_class:\n",
    "            s1, s2, s3 = -1, -1, -1\n",
    "            for s in states_per_transition_set[fsm_no]:\n",
    "                if \"end(\"+ct[0]+\")\" in s:\n",
    "                    s1 = s\n",
    "                if \"start(\"+ct[1]+\")\" in s:\n",
    "                    s2 = s\n",
    "                if s1 != -1 and s2 != - 1: #if they do, combine them.\n",
    "                    s3 = s1.union(s2) # union\n",
    "\n",
    "            if s1 != -1 and s2 != -1 and s3 != -1: #for every ct, if we have combined state, we update states_per_transition_set\n",
    "                if s1 in states_per_transition_set[fsm_no]:\n",
    "                    states_per_transition_set[fsm_no].remove(s1)\n",
    "                if s2 in states_per_transition_set[fsm_no]:\n",
    "                    states_per_transition_set[fsm_no].remove(s2)\n",
    "                states_per_transition_set[fsm_no].add(s3)\n",
    "\n",
    "        ## build a state machine now.\n",
    "        fsm_graph = nx.DiGraph()\n",
    "\n",
    "        # TODO: consider making a state dictionary for pretty print of frozen set\n",
    "        state_dict_per_class.insert(fsm_no,{})\n",
    "        for i, state in enumerate(states_per_transition_set[fsm_no]):\n",
    "            state_dict_per_class[fsm_no][\"state\"+str(i)] = state\n",
    "            fsm_graph.add_node(\"state\"+str(i))\n",
    "\n",
    "        # transition_df is defined above. Add edges from transitions.\n",
    "        # print_table(transition_df)\n",
    "        for i in range(transition_df.shape[0]):\n",
    "            for j in range(transition_df.shape[1]):\n",
    "                if transition_df.iloc[i, j] != 'hole':\n",
    "                    if transition_df.iloc[i, j] > 0:\n",
    "                        for node in fsm_graph.nodes():\n",
    "                            starting_node, ending_node = -1,-1\n",
    "                            if \"end(\"+transition_df.index[i]+\")\" in state_dict_per_class[fsm_no][node]:\n",
    "                                starting_node = node\n",
    "                            if \"start(\"+transition_df.columns[j]+\")\" in state_dict_per_class[fsm_no][node]:\n",
    "                                ending_node = node\n",
    "                            if starting_node != -1 and ending_node != -1:\n",
    "                                if fsm_graph.has_edge(starting_node, ending_node):\n",
    "                                    fsm_graph[starting_node][ending_node]['weight'] += transition_df.iloc[i, j]\n",
    "                                else:\n",
    "                                    fsm_graph.add_edge(starting_node, ending_node, weight=transition_df.iloc[i, j], name=\"\"+transition_df.index[i])\n",
    "\n",
    "        df = nx.to_pandas_adjacency(fsm_graph, nodelist=fsm_graph.nodes(), dtype=int)\n",
    "        \n",
    "        nx.write_graphml(fsm_graph, \"output/\" + domain_name + \"/\" + class_names[index] + \"_stateFSM_\" + str(fsm_no+1)+ \".graphml\")\n",
    "        state_machines_per_class.append(df)\n",
    "\n",
    "    state_machines_overall_list.append(state_machines_per_class)\n",
    "    state_dict_overall.append(state_dict_per_class)"
   ]
  },
  {
   "cell_type": "code",
   "execution_count": 28,
   "metadata": {},
   "outputs": [
    {
     "name": "stdout",
     "output_type": "stream",
     "text": [
      "CLASS:home\n",
      "FSM:1\n",
      "+--------+----------+----------+\n",
      "|        |   state0 |   state1 |\n",
      "|--------+----------+----------|\n",
      "| state0 |        0 |        0 |\n",
      "| state1 |        0 |        0 |\n",
      "+--------+----------+----------+\n",
      "\n",
      "Transition set of this class:\n",
      "[{'start.0'}]\n",
      "CLASS:cafe\n",
      "FSM:1\n",
      "+--------+----------+----------+\n",
      "|        |   state0 |   state1 |\n",
      "|--------+----------+----------|\n",
      "| state0 |        0 |        0 |\n",
      "| state1 |        0 |        0 |\n",
      "+--------+----------+----------+\n",
      "\n",
      "Transition set of this class:\n",
      "[{'reach.0'}]\n",
      "CLASS:tea\n",
      "FSM:1\n",
      "+--------+----------+----------+\n",
      "|        |   state0 |   state1 |\n",
      "|--------+----------+----------|\n",
      "| state0 |        0 |        0 |\n",
      "| state1 |        0 |        0 |\n",
      "+--------+----------+----------+\n",
      "\n",
      "Transition set of this class:\n",
      "[{'buy.0'}]\n",
      "CLASS:minutes\n",
      "FSM:1\n",
      "+--------+----------+----------+\n",
      "|        |   state0 |   state1 |\n",
      "|--------+----------+----------|\n",
      "| state0 |        0 |        0 |\n",
      "| state1 |        0 |        0 |\n",
      "+--------+----------+----------+\n",
      "\n",
      "Transition set of this class:\n",
      "[{'wait.0'}]\n",
      "CLASS:hands\n",
      "FSM:1\n",
      "+--------+----------+----------+\n",
      "|        |   state0 |   state1 |\n",
      "|--------+----------+----------|\n",
      "| state0 |        0 |        0 |\n",
      "| state1 |        0 |        0 |\n",
      "+--------+----------+----------+\n",
      "\n",
      "Transition set of this class:\n",
      "[{'clean.0'}]\n",
      "CLASS:water\n",
      "FSM:1\n",
      "+--------+----------+----------+----------+\n",
      "|        |   state0 |   state1 |   state2 |\n",
      "|--------+----------+----------+----------|\n",
      "| state0 |        1 |        0 |        0 |\n",
      "| state1 |        0 |        0 |        0 |\n",
      "| state2 |        0 |        0 |        0 |\n",
      "+--------+----------+----------+----------+\n",
      "\n",
      "Transition set of this class:\n",
      "[{'add.0', 'mix.1'}]\n",
      "CLASS:milk\n",
      "FSM:1\n",
      "+--------+----------+----------+----------+\n",
      "|        |   state0 |   state1 |   state2 |\n",
      "|--------+----------+----------+----------|\n",
      "| state0 |        0 |        0 |        0 |\n",
      "| state1 |        0 |        0 |        0 |\n",
      "| state2 |        0 |        0 |        1 |\n",
      "+--------+----------+----------+----------+\n",
      "\n",
      "Transition set of this class:\n",
      "[{'pour.0', 'mix.2'}]\n",
      "CLASS:teabag\n",
      "FSM:1\n",
      "+--------+----------+----------+----------+\n",
      "|        |   state0 |   state1 |   state2 |\n",
      "|--------+----------+----------+----------|\n",
      "| state0 |        0 |        0 |        0 |\n",
      "| state1 |        0 |        1 |        0 |\n",
      "| state2 |        0 |        0 |        0 |\n",
      "+--------+----------+----------+----------+\n",
      "\n",
      "Transition set of this class:\n",
      "[{'dip.0', 'mix.0'}]\n"
     ]
    }
   ],
   "source": [
    "for index, fsms_per_class in enumerate(state_machines_overall_list):\n",
    "    class_name = class_names[index]\n",
    "    print(\"CLASS:\"+ class_name)\n",
    "    for fsm_no, fsm in enumerate(fsms_per_class):\n",
    "        print(\"FSM:\" + str(fsm_no + 1))\n",
    "        print_table(fsm)\n",
    "\n",
    "    print(\"\\nTransition set of this class:\")\n",
    "    print(transition_sets_per_class[index])"
   ]
  },
  {
   "cell_type": "code",
   "execution_count": 29,
   "metadata": {},
   "outputs": [
    {
     "name": "stdout",
     "output_type": "stream",
     "text": [
      "home_fsm0_state0:['end(start.0)']\n",
      "home_fsm0_state1:['start(start.0)']\n",
      "cafe_fsm0_state0:['end(reach.0)']\n",
      "cafe_fsm0_state1:['start(reach.0)']\n",
      "tea_fsm0_state0:['start(buy.0)']\n",
      "tea_fsm0_state1:['end(buy.0)']\n",
      "minutes_fsm0_state0:['end(wait.0)']\n",
      "minutes_fsm0_state1:['start(wait.0)']\n",
      "hands_fsm0_state0:['start(clean.0)']\n",
      "hands_fsm0_state1:['end(clean.0)']\n",
      "water_fsm0_state0:['end(add.0)', 'start(mix.1)']\n",
      "water_fsm0_state1:['start(add.0)']\n",
      "water_fsm0_state2:['end(mix.1)']\n",
      "milk_fsm0_state0:['start(pour.0)']\n",
      "milk_fsm0_state1:['end(mix.2)']\n",
      "milk_fsm0_state2:['start(mix.2)', 'end(pour.0)']\n",
      "teabag_fsm0_state0:['start(dip.0)']\n",
      "teabag_fsm0_state1:['start(mix.0)', 'end(dip.0)']\n",
      "teabag_fsm0_state2:['end(mix.0)']\n"
     ]
    }
   ],
   "source": [
    "# pretty print state dictionary.\n",
    "def print_state_dictionary(state_dict_overall):\n",
    "    for i,state_dict_per_class in enumerate(state_dict_overall):\n",
    "#         print(class_names[i])\n",
    "        for j,state_dict_per_fsm in enumerate(state_dict_per_class):\n",
    "#             print()\n",
    "            for k,v in state_dict_per_fsm.items():\n",
    "                print(class_names[i]+\"_fsm\"+str(j)+\"_\"+ k + \":\"+str(list(v)))\n",
    "#                 print(list(v))\n",
    "#                 print()\n",
    "                \n",
    "print_state_dictionary(state_dict_overall)"
   ]
  },
  {
   "cell_type": "markdown",
   "metadata": {
    "heading_collapsed": true
   },
   "source": [
    "### Step 4: Zero Analysis\n",
    "\n",
    "behavior of implicit background object, e.g., hand object in AOP freecell"
   ]
  },
  {
   "cell_type": "code",
   "execution_count": 30,
   "metadata": {
    "hidden": true
   },
   "outputs": [],
   "source": [
    "# #Assume every action has a zeroth object, ..in our implementation we already have zeroth object ..so we literally name it as 'zero'\n",
    "\n",
    "# def read_file_zero(file_path):\n",
    "#     '''\n",
    "#     Read the input data and return list of action sequences.\n",
    "#     Each sequence is a list of action-argumentlist tuples.\n",
    "#     '''\n",
    "#     file = open(input_file_name, 'r')\n",
    "#     sequences = []\n",
    "#     for line in file:\n",
    "        \n",
    "#         actions = []\n",
    "#         arguments = []\n",
    "#         if line and not line.isspace() and len(line)>1:\n",
    "#             sequence = line.rstrip(\"\\n\\r\").lstrip(\"\\n\\r\").lower() \n",
    "#             action_defs = sequence.split(\"),\")\n",
    "\n",
    "#             for action_def in action_defs:\n",
    "#                 action = action_def.split('(')[0].strip(\")\\n\\r\").strip()\n",
    "#                 argument = action_def.split('(')[1].strip(\")\\n\\r\")\n",
    "#                 actions.append(action.strip())\n",
    "#                 argument_list = argument.split(',')\n",
    "#                 argument_list = [x.strip() for x in argument_list]\n",
    "#                 argument_list.insert(0, 'zero')\n",
    "#                 arguments.append(argument_list)\n",
    "            \n",
    "#             actarg_tuples = zip(actions,arguments)\n",
    "#             sequences.append(list(actarg_tuples))\n",
    "#     return sequences\n",
    "\n",
    "# def print_sequences(sequences):\n",
    "#     for seq in sequences:\n",
    "#         for action in seq:\n",
    "#             print(action)\n",
    "#         print()\n",
    "\n"
   ]
  },
  {
   "cell_type": "code",
   "execution_count": 31,
   "metadata": {
    "hidden": true
   },
   "outputs": [],
   "source": [
    "# zero_sequences = read_file_zero(input_file_name)\n",
    "# print_sequences(zero_sequences)\n",
    "\n",
    "# transitions_zero = set() # A transition is denoted by action_name + argument_number.\n",
    "# arguments_zero = set()\n",
    "# actions_zero = set()\n",
    "\n",
    "# for seq in zero_sequences:\n",
    "#     for actarg_tuple in seq:\n",
    "#         actions_zero.add(actarg_tuple[0])\n",
    "#         for j, arg in enumerate(actarg_tuple[1]):\n",
    "#             transitions_zero.add(actarg_tuple[0]+\".\"+str(j))\n",
    "#             arguments_zero.add(arg)\n",
    "\n",
    "\n",
    "# print(\"\\nActions Zero\")\n",
    "# print(actions_zero)\n",
    "# print(\"\\nTransitions Zero\")\n",
    "# print(transitions_zero)\n",
    "# print(\"\\nArguments/Objects Zero\")\n",
    "# print(arguments_zero)"
   ]
  },
  {
   "cell_type": "code",
   "execution_count": 32,
   "metadata": {
    "hidden": true
   },
   "outputs": [],
   "source": [
    "# d = get_actarg_dictionary(zero_sequences)\n",
    "# for k,v in d.items():\n",
    "#         print(\"{} - {}\".format(k,v))\n"
   ]
  },
  {
   "cell_type": "code",
   "execution_count": 33,
   "metadata": {
    "hidden": true
   },
   "outputs": [],
   "source": [
    "# classes_zero = get_classes(d) #sorts of object\n",
    "# print(\"\\nSorts/Classes\")\n",
    "# print(classes_zero)\n",
    "\n",
    "# class_names_zero = get_class_names(classes_zero)\n",
    "# print(\"\\nExtracted class names\")\n",
    "\n",
    "\n",
    "# class_names_zero[4] = 'location'\n",
    "# print(class_names_zero)"
   ]
  },
  {
   "cell_type": "markdown",
   "metadata": {},
   "source": [
    "### Step 5: Induction of parameterized state machines\n",
    "Create and test hypothesis for state parameters"
   ]
  },
  {
   "cell_type": "code",
   "execution_count": 34,
   "metadata": {},
   "outputs": [
    {
     "name": "stdout",
     "output_type": "stream",
     "text": [
      "*****************\n",
      "Step 5: Induction of Parameterised Finite State Machines\n",
      "CLASS:home\n",
      "FSM:1\n",
      "+--------+----------+----------+\n",
      "|        |   state0 |   state1 |\n",
      "|--------+----------+----------|\n",
      "| state0 |        0 |        0 |\n",
      "| state1 |        0 |        0 |\n",
      "+--------+----------+----------+\n",
      "\n",
      "Transition set of this class:\n",
      "[{'start.0'}]\n",
      "CLASS:cafe\n",
      "FSM:1\n",
      "+--------+----------+----------+\n",
      "|        |   state0 |   state1 |\n",
      "|--------+----------+----------|\n",
      "| state0 |        0 |        0 |\n",
      "| state1 |        0 |        0 |\n",
      "+--------+----------+----------+\n",
      "\n",
      "Transition set of this class:\n",
      "[{'reach.0'}]\n",
      "CLASS:tea\n",
      "FSM:1\n",
      "+--------+----------+----------+\n",
      "|        |   state0 |   state1 |\n",
      "|--------+----------+----------|\n",
      "| state0 |        0 |        0 |\n",
      "| state1 |        0 |        0 |\n",
      "+--------+----------+----------+\n",
      "\n",
      "Transition set of this class:\n",
      "[{'buy.0'}]\n",
      "CLASS:minutes\n",
      "FSM:1\n",
      "+--------+----------+----------+\n",
      "|        |   state0 |   state1 |\n",
      "|--------+----------+----------|\n",
      "| state0 |        0 |        0 |\n",
      "| state1 |        0 |        0 |\n",
      "+--------+----------+----------+\n",
      "\n",
      "Transition set of this class:\n",
      "[{'wait.0'}]\n",
      "CLASS:hands\n",
      "FSM:1\n",
      "+--------+----------+----------+\n",
      "|        |   state0 |   state1 |\n",
      "|--------+----------+----------|\n",
      "| state0 |        0 |        0 |\n",
      "| state1 |        0 |        0 |\n",
      "+--------+----------+----------+\n",
      "\n",
      "Transition set of this class:\n",
      "[{'clean.0'}]\n",
      "CLASS:water\n",
      "FSM:1\n",
      "+--------+----------+----------+----------+\n",
      "|        |   state0 |   state1 |   state2 |\n",
      "|--------+----------+----------+----------|\n",
      "| state0 |        1 |        0 |        0 |\n",
      "| state1 |        0 |        0 |        0 |\n",
      "| state2 |        0 |        0 |        0 |\n",
      "+--------+----------+----------+----------+\n",
      "\n",
      "Transition set of this class:\n",
      "[{'add.0', 'mix.1'}]\n",
      "CLASS:milk\n",
      "FSM:1\n",
      "+--------+----------+----------+----------+\n",
      "|        |   state0 |   state1 |   state2 |\n",
      "|--------+----------+----------+----------|\n",
      "| state0 |        0 |        0 |        0 |\n",
      "| state1 |        0 |        0 |        0 |\n",
      "| state2 |        0 |        0 |        1 |\n",
      "+--------+----------+----------+----------+\n",
      "\n",
      "Transition set of this class:\n",
      "[{'pour.0', 'mix.2'}]\n",
      "CLASS:teabag\n",
      "FSM:1\n",
      "+--------+----------+----------+----------+\n",
      "|        |   state0 |   state1 |   state2 |\n",
      "|--------+----------+----------+----------|\n",
      "| state0 |        0 |        0 |        0 |\n",
      "| state1 |        0 |        1 |        0 |\n",
      "| state2 |        0 |        0 |        0 |\n",
      "+--------+----------+----------+----------+\n",
      "\n",
      "Transition set of this class:\n",
      "[{'dip.0', 'mix.0'}]\n"
     ]
    }
   ],
   "source": [
    "## Step 5 Input: action sequence Seq, Transition set TS, Object set Obs\n",
    "## Output: HS retained hypotheses for state parameters\n",
    "## 5.1 Form hypotheses from state machines\n",
    "print(\"*****************\")\n",
    "print(\"Step 5: Induction of Parameterised Finite State Machines\")\n",
    "HS_list = []\n",
    "for index, fsms_per_class in enumerate(state_machines_overall_list):\n",
    "    class_name = class_names[index]\n",
    "    print(\"CLASS:\"+ class_name)\n",
    "    for fsm_no, fsm in enumerate(fsms_per_class):\n",
    "        print(\"FSM:\" + str(fsm_no + 1))\n",
    "        print_table(fsm)\n",
    "\n",
    "    print(\"\\nTransition set of this class:\")\n",
    "    print(transition_sets_per_class[index])\n",
    "\n",
    "    # Hypothesis set per class.\n",
    "    HS_per_class = []\n",
    "    for fsm_no, transition_set in enumerate(transition_sets_per_class[index]):\n",
    "        transition_df = adjacency_matrix_list[index].loc[list(transition_set), list(transition_set)]\n",
    "        consecutive_transitions_state_machines_per_class = set()  # find consecutive transitions for a state machine in a class.\n",
    "        for i in range(transition_df.shape[0]):\n",
    "            for j in range(transition_df.shape[1]):\n",
    "                if transition_df.iloc[i, j] != 'hole':\n",
    "                    if transition_df.iloc[i, j] > 0:\n",
    "                        consecutive_transitions_state_machines_per_class.add((transition_df.index[i], transition_df.columns[j]))\n",
    "\n",
    "        # Step 5.1 for each pair <B.k and C.l> of consecutive transitions in transition set of a state machine.\n",
    "        # store hypothesis in Hypothesis set\n",
    "        HS = set()\n",
    "        for ct in consecutive_transitions_state_machines_per_class:\n",
    "            B = ct[0].split('.')[0] # action name of T1\n",
    "            k = int(ct[0].split('.')[1]) # argument index of T1\n",
    "\n",
    "            C = ct[1].split('.')[0] # action name of T2\n",
    "            l = int(ct[1].split('.')[1]) # argument index of T2\n",
    "\n",
    "            # When both actions B and C contain another argument of the same sort G' in position k' and l' respectively, we hypothesise that there may be a relation between sorts G and G'.\n",
    "            for seq in sequences:\n",
    "                for actarg_tuple in seq:\n",
    "                    arglist1 = []\n",
    "                    arglist2 = []\n",
    "                    if actarg_tuple[0] == B: #if action name is same as B\n",
    "                        arglist1 = actarg_tuple[1].copy()\n",
    "                        arglist1.remove(actarg_tuple[1][k]) # remove k from arglist\n",
    "                        for actarg_tuple_prime in seq: #loop through seq again.\n",
    "                            if actarg_tuple_prime[0] == C:\n",
    "                                arglist2 = actarg_tuple_prime[1].copy()\n",
    "                                arglist2.remove(actarg_tuple_prime[1][l]) # remove l from arglist\n",
    "\n",
    "                        # for arg lists of actions B and C, if class is same add a hypothesis set.\n",
    "                        for i in range(len(arglist1)):\n",
    "                            for j in range(len(arglist2)):\n",
    "                                class1 = get_class_index(arglist1[i], classes)\n",
    "                                class2 = get_class_index(arglist2[j], classes)\n",
    "                                if class1 == class2:\n",
    "                                    HS.add((frozenset({\"end(\"+B+\".\"+ str(k)+\")\", \"start(\"+C+\".\"+str(l)+\")\"}),B,k,i,C,l,j,index,class1))\n",
    "\n",
    "        ####### Step 5.2 Test Hypothesis against example sequences!!\n",
    "        # Check hypothesis against sequences.\n",
    "        ## It performs an inductive process such that the hypotheses can be either refuted or retained according to the example sequence, but it can never be definitely confirmed.\n",
    "        ## Requires more data than usual.\n",
    "        HS_copy = HS.copy()\n",
    "        for hs in HS:\n",
    "            # for every consecutive transision for a state machine per class.\n",
    "            for ct in consecutive_transitions_state_machines_per_class:\n",
    "                A_p = ct[0].split('.')[0]\n",
    "                m = int(ct[0].split('.')[1])\n",
    "\n",
    "                A_q = ct[1].split('.')[0]\n",
    "                n = int(ct[1].split('.')[1])\n",
    "\n",
    "                if A_p == hs[1] and m == hs[2] and A_q == hs[4] and n == hs[5]:\n",
    "                    k_prime = hs[3]\n",
    "                    l_prime = hs[6]\n",
    "                    for seq in sequences:\n",
    "                        for actarg_tuple in seq:\n",
    "                            arglist1 = []\n",
    "                            arglist2 = []\n",
    "                            if actarg_tuple[0] == A_p:\n",
    "                                arglist1 = actarg_tuple[1].copy()\n",
    "                                arglist1.remove(actarg_tuple[1][m])  # remove k from arglist\n",
    "                                for actarg_tuple_prime in seq:\n",
    "                                    if actarg_tuple_prime[0] == A_q:\n",
    "                                        arglist2 = actarg_tuple_prime[1].copy()\n",
    "                                        arglist2.remove(actarg_tuple_prime[1][n])  # remove l from arglist\n",
    "\n",
    "#                                 class1, class2 = -1,-1\n",
    "#                                 if k_prime < len(arglist1) and l_prime < len(arglist2):\n",
    "#                                     class1 = get_class_index(arglist1[k_prime], classes)\n",
    "#                                     class2 = get_class_index(arglist2[l_prime], classes)\n",
    "\n",
    "#                                 # Refute the hypothesis if classes are not same at the location specified by hypothesis.\n",
    "#                                 if class1 != -1 and class2!=-1 and class1 != class2:\n",
    "#                                     if hs in HS_copy:\n",
    "#                                         HS_copy.remove(hs)\n",
    "                                object1, object2 = None, None\n",
    "                                if k_prime < len(arglist1) and l_prime < len(arglist2):\n",
    "                                    object1 = arglist1[k_prime]\n",
    "                                    object2 = arglist2[l_prime]\n",
    "                                \n",
    "                                if object1 != None and object2 !=None and object1 !=object2:\n",
    "                                    if hs in HS_copy:\n",
    "                                        HS_copy.remove(hs)\n",
    "                        \n",
    "                                 \n",
    "\n",
    "\n",
    "\n",
    "        HS_per_class.append(HS_copy)\n",
    "    HS_list.append(HS_per_class)"
   ]
  },
  {
   "cell_type": "code",
   "execution_count": 35,
   "metadata": {},
   "outputs": [
    {
     "name": "stdout",
     "output_type": "stream",
     "text": [
      "\n",
      "****** HYPOTHESIS SET*********\n"
     ]
    }
   ],
   "source": [
    "# printing hypothesis\n",
    "print(\"\\n****** HYPOTHESIS SET*********\")\n",
    "for HS_per_class in HS_list:\n",
    "    for HS_per_fsm in HS_per_class:\n",
    "        for h in HS_per_fsm:\n",
    "            print(h)"
   ]
  },
  {
   "cell_type": "markdown",
   "metadata": {},
   "source": [
    "### Step 6: Creation and merging of state parameters"
   ]
  },
  {
   "cell_type": "code",
   "execution_count": 36,
   "metadata": {},
   "outputs": [
    {
     "name": "stdout",
     "output_type": "stream",
     "text": [
      "Step 6: creating and merging state params\n",
      "home\n",
      "\n",
      "cafe\n",
      "\n",
      "tea\n",
      "\n",
      "minutes\n",
      "\n",
      "hands\n",
      "\n",
      "water\n",
      "\n",
      "milk\n",
      "\n",
      "teabag\n",
      "\n"
     ]
    }
   ],
   "source": [
    "print(\"Step 6: creating and merging state params\")\n",
    "param_bindings_list_overall = []\n",
    "for classindex, HS_per_class in enumerate(HS_list):\n",
    "    param_bind_per_class = []\n",
    "    for HS_per_fsm in HS_per_class:\n",
    "        param_binding_list = []\n",
    "        for index,h in enumerate(HS_per_fsm):\n",
    "            param_binding_list.append((h,\"v\"+str(index)))\n",
    "\n",
    "        for i in range(len(param_binding_list)-1):\n",
    "            for j in range(i+1, len(param_binding_list)):\n",
    "                h_1 = param_binding_list[i][0]\n",
    "                h_2 = param_binding_list[j][0]\n",
    "\n",
    "                if ((h_1[0] == h_2[0] and h_1[1] == h_2[1] and h_1[2] == h_2[2] and h_1[3] == h_2[3]) or (h_1[0] == h_2[0] and h_1[4] == h_2[4] and h_1[5] == h_2[5] and h_1[6] == h_2[6])):\n",
    "                    new_tuple = (param_binding_list[j][0], param_binding_list[i][1])\n",
    "                    param_binding_list.remove((param_binding_list[j][0], param_binding_list[j][1]))\n",
    "                    param_binding_list.insert(j,new_tuple)\n",
    "        param_bind_per_class.append(param_binding_list)\n",
    "        print(class_names[classindex])\n",
    "        for pb in param_binding_list:\n",
    "            print(pb)\n",
    "        print()\n",
    "    param_bindings_list_overall.append(param_bind_per_class)\n",
    "    \n",
    "\n"
   ]
  },
  {
   "cell_type": "markdown",
   "metadata": {},
   "source": [
    "### Step 7: Remove Parameter Flaws"
   ]
  },
  {
   "cell_type": "code",
   "execution_count": 37,
   "metadata": {},
   "outputs": [
    {
     "name": "stdout",
     "output_type": "stream",
     "text": [
      "home\n",
      "cafe\n",
      "tea\n",
      "minutes\n",
      "hands\n",
      "water\n",
      "milk\n",
      "teabag\n"
     ]
    }
   ],
   "source": [
    "########### Step 5: Removing parameter flaws\n",
    "# A parameter P associated with an FSM state S is said to be flawed if there exists a transition into S, which does not supply P with a value.\n",
    "# This may occur when there exists a transition B.k where end(B.k)=S, but there exists no h containing end(B.k)\n",
    "\n",
    "para_bind_overall_fault_removed = []\n",
    "for class_index, para_bind_per_class in enumerate(param_bindings_list_overall):\n",
    "    print(class_names[class_index])\n",
    "    para_bind_per_class_fault_removed = []\n",
    "\n",
    "    # print(state_machines_overall_list[class_index][fsm_index].index.values)\n",
    "    for fsm_index, transition_set in enumerate(transition_sets_per_class[class_index]):\n",
    "        transition_df = adjacency_matrix_list[class_index].loc[list(transition_set), list(transition_set)]\n",
    "        consecutive_transitions_state_machines_per_class = set()  # find consecutive transitions for a state machine in a class.\n",
    "        for i in range(transition_df.shape[0]):\n",
    "            for j in range(transition_df.shape[1]):\n",
    "                if transition_df.iloc[i, j] != 'hole':\n",
    "                    if transition_df.iloc[i, j] > 0:\n",
    "                        consecutive_transitions_state_machines_per_class.add(\n",
    "                            (transition_df.index[i], transition_df.columns[j]))\n",
    "\n",
    "        # initialize h_exists with false\n",
    "        h_exists = []\n",
    "        for param_index, param_bind in enumerate(para_bind_per_class[fsm_index]):\n",
    "            h_exists.append(False)\n",
    "\n",
    "        for ct in consecutive_transitions_state_machines_per_class:\n",
    "            for state in state_machines_overall_list[class_index][fsm_index].index.values:\n",
    "                if {\"end(\"+ ct[0] + \")\"} <= state_dict_overall[class_index][fsm_index][state]:\n",
    "                    current_state = state_dict_overall[class_index][fsm_index][state]\n",
    "\n",
    "                    # for every parameter binding which contains subset of current_state, if B and k are there, hypothesis exists\n",
    "                    for param_index,param_bind in enumerate(para_bind_per_class[fsm_index]):\n",
    "                        if param_bind[0][0] <= current_state: #subset of current_state of FSM\n",
    "                            # print(param_bind[0][1])\n",
    "                            # print(param_bind[0][2])\n",
    "                            # print(ct[0].split('.')[0])\n",
    "                            # print(ct[0].split('.')[1])\n",
    "                            # print()\n",
    "                            if param_bind[0][1] == ct[0].split('.')[0]:\n",
    "                                if param_bind[0][2] == int(ct[0].split('.')[1]): #TODO: Do we need to check other things here\n",
    "                                    h_exists[param_index] = True\n",
    "\n",
    "        param_bind_per_fsm_copy = para_bind_per_class[fsm_index].copy()\n",
    "        for param_index, param_bind in enumerate(para_bind_per_class[fsm_index]):\n",
    "            # if h_exists[param_index]:\n",
    "            #     print(param_bind[1])\n",
    "            if not h_exists[param_index]:\n",
    "                param_bind_per_fsm_copy.remove(param_bind)\n",
    "\n",
    "        para_bind_per_class_fault_removed.append(param_bind_per_fsm_copy)\n",
    "    para_bind_overall_fault_removed.append(para_bind_per_class_fault_removed)"
   ]
  },
  {
   "cell_type": "code",
   "execution_count": 38,
   "metadata": {},
   "outputs": [
    {
     "name": "stdout",
     "output_type": "stream",
     "text": [
      "Fault Removed Parameter Bindings\n",
      "home\n",
      "Fsm_no:0\n",
      "\n",
      "cafe\n",
      "Fsm_no:0\n",
      "\n",
      "tea\n",
      "Fsm_no:0\n",
      "\n",
      "minutes\n",
      "Fsm_no:0\n",
      "\n",
      "hands\n",
      "Fsm_no:0\n",
      "\n",
      "water\n",
      "Fsm_no:0\n",
      "\n",
      "milk\n",
      "Fsm_no:0\n",
      "\n",
      "teabag\n",
      "Fsm_no:0\n",
      "\n"
     ]
    }
   ],
   "source": [
    "print(\"Fault Removed Parameter Bindings\")\n",
    "for class_index, para_bind_per_class in enumerate(para_bind_overall_fault_removed):\n",
    "    print(class_names[class_index])\n",
    "    for fsm_no, para_bind_per_fsm in enumerate(para_bind_per_class):\n",
    "        print(\"Fsm_no:\" + str(fsm_no))\n",
    "        for p in para_bind_per_fsm:\n",
    "            print(p)\n",
    "        print()"
   ]
  },
  {
   "cell_type": "markdown",
   "metadata": {},
   "source": [
    "### User Input 3:\n",
    "One can input static schema details here as well as edit the final state machines\n",
    "\n",
    "\n",
    "Step 8: Static Schema"
   ]
  },
  {
   "cell_type": "markdown",
   "metadata": {},
   "source": [
    "### Step 9:  Formation of PDDL Schema"
   ]
  },
  {
   "cell_type": "code",
   "execution_count": 39,
   "metadata": {},
   "outputs": [],
   "source": [
    "# state_dict_overall[0][0][state]"
   ]
  },
  {
   "cell_type": "code",
   "execution_count": 40,
   "metadata": {},
   "outputs": [
    {
     "name": "stdout",
     "output_type": "stream",
     "text": [
      ";;********************Learned PDDL domain******************\n",
      "(define\t(domain tea_new)\n",
      "\t(:requirements :typing)\n",
      "\t(:types home cafe tea minutes hands water milk teabag)\n",
      "\t(:predicates\n",
      "\t\t(home_fsm0_state0)\n",
      "\t\t(home_fsm0_state1)\n",
      "\t\t(cafe_fsm0_state0)\n",
      "\t\t(cafe_fsm0_state1)\n",
      "\t\t(tea_fsm0_state0)\n",
      "\t\t(tea_fsm0_state1)\n",
      "\t\t(minutes_fsm0_state0)\n",
      "\t\t(minutes_fsm0_state1)\n",
      "\t\t(hands_fsm0_state0)\n",
      "\t\t(hands_fsm0_state1)\n",
      "\t\t(water_fsm0_state0)\n",
      "\t\t(water_fsm0_state1)\n",
      "\t\t(water_fsm0_state2)\n",
      "\t\t(milk_fsm0_state0)\n",
      "\t\t(milk_fsm0_state1)\n",
      "\t\t(milk_fsm0_state2)\n",
      "\t\t(teabag_fsm0_state0)\n",
      "\t\t(teabag_fsm0_state1)\n",
      "\t\t(teabag_fsm0_state2)\n",
      "\t)\n",
      "\t(:action\tadd\n",
      "\t:parameters\t(?water - water )\n",
      "\t:precondition\t(and\n",
      "\t\t\t\t(water_fsm0_state0)\n",
      "\t)\n",
      "\t:effect\t(and\n",
      "\t\t\t\t(water_fsm0_state0)\n",
      "\t))\n",
      "\n",
      "\t(:action\tclean\n",
      "\t:parameters\t(?hands - hands )\n",
      "\t:precondition\t(and\n",
      "\t)\n",
      "\t:effect\t(and\n",
      "\t))\n",
      "\n",
      "\t(:action\treach\n",
      "\t:parameters\t(?cafe - cafe )\n",
      "\t:precondition\t(and\n",
      "\t)\n",
      "\t:effect\t(and\n",
      "\t))\n",
      "\n",
      "\t(:action\tpour\n",
      "\t:parameters\t(?milk - milk )\n",
      "\t:precondition\t(and\n",
      "\t\t\t\t(milk_fsm0_state2)\n",
      "\t)\n",
      "\t:effect\t(and\n",
      "\t\t\t\t(milk_fsm0_state2)\n",
      "\t))\n",
      "\n",
      "\t(:action\tstart\n",
      "\t:parameters\t(?home - home )\n",
      "\t:precondition\t(and\n",
      "\t)\n",
      "\t:effect\t(and\n",
      "\t))\n",
      "\n",
      "\t(:action\twait\n",
      "\t:parameters\t(?minutes - minutes )\n",
      "\t:precondition\t(and\n",
      "\t)\n",
      "\t:effect\t(and\n",
      "\t))\n",
      "\n",
      "\t(:action\tmix\n",
      "\t:parameters\t(?teabag - teabag ?water - water ?milk - milk )\n",
      "\t:precondition\t(and\n",
      "\t\t\t\t(teabag_fsm0_state1)\n",
      "\t\t\t\t(water_fsm0_state0)\n",
      "\t\t\t\t(milk_fsm0_state2)\n",
      "\t)\n",
      "\t:effect\t(and\n",
      "\t\t\t\t(teabag_fsm0_state1)\n",
      "\t\t\t\t(water_fsm0_state0)\n",
      "\t\t\t\t(milk_fsm0_state2)\n",
      "\t))\n",
      "\n",
      "\t(:action\tdip\n",
      "\t:parameters\t(?teabag - teabag )\n",
      "\t:precondition\t(and\n",
      "\t\t\t\t(teabag_fsm0_state1)\n",
      "\t)\n",
      "\t:effect\t(and\n",
      "\t\t\t\t(teabag_fsm0_state1)\n",
      "\t))\n",
      "\n",
      "\t(:action\tbuy\n",
      "\t:parameters\t(?tea - tea )\n",
      "\t:precondition\t(and\n",
      "\t)\n",
      "\t:effect\t(and\n",
      "\t))\n",
      "\n",
      ")\n",
      "\n"
     ]
    }
   ],
   "source": [
    "# get action schema\n",
    "print(\";;********************Learned PDDL domain******************\")\n",
    "output_file = \"output/\"+ domain_name + \"/\" +  domain_name + \".pddl\"\n",
    "write_file = open(output_file, 'w')\n",
    "write_line = \"(define\"\n",
    "write_line += \"\\t(domain \"+ domain_name+\")\\n\"\n",
    "write_line += \"\\t(:requirements :typing)\\n\"\n",
    "write_line += \"\\t(:types\"\n",
    "for class_name in class_names:\n",
    "    write_line += \" \" + class_name\n",
    "write_line += \")\\n\"\n",
    "write_line += \"\\t(:predicates\\n\"\n",
    "\n",
    "predicates = []\n",
    "for class_index, para_bind_per_class in enumerate(para_bind_overall_fault_removed):\n",
    "    for fsm_no, para_bind_per_fsm in enumerate(para_bind_per_class):\n",
    "        for state_index, state in enumerate(state_machines_overall_list[class_index][fsm_no]):\n",
    "            predicate = \"\"\n",
    "            write_line += \"\\t\\t(\" + class_names[class_index] + \"_fsm\" + str(fsm_no) + \"_state\" + str(state_index)\n",
    "            predicate += \"\\t\\t(\" + class_names[class_index] + \"_fsm\" + str(fsm_no) + \"_state\" + str(state_index)\n",
    "            for para_bind in para_bind_per_fsm:\n",
    "                if para_bind[0][0] <= state_dict_overall[class_index][fsm_no][state]:\n",
    "                    write_line += \" ?\"+para_bind[1] + \" - \" + str(class_names[para_bind[0][8]])\n",
    "                    predicate += \" ?\"+para_bind[1] + \" - \" + str(class_names[para_bind[0][8]])\n",
    "            write_line += \")\\n\"\n",
    "            predicate += \")\"\n",
    "            predicates.append(predicate)\n",
    "write_line += \"\\t)\\n\"\n",
    "            \n",
    "for action_index, action in enumerate(actions):\n",
    "    write_line += \"\\t(:action\"\n",
    "    write_line += \"\\t\" + action + \"\\n\"\n",
    "    write_line += \"\\t:parameters\"\n",
    "    write_line += \"\\t(\"\n",
    "    arg_already_written_flag = False\n",
    "    params_per_action = []\n",
    "    args_per_action = []\n",
    "    for seq in sequences:\n",
    "        for actarg_tuple in seq:\n",
    "            if not arg_already_written_flag:\n",
    "                if actarg_tuple[0] == action:\n",
    "                    arglist = []\n",
    "                    for arg in actarg_tuple[1]:\n",
    "                        write_line += \"?\"+arg + \" - \" + class_names[get_class_index(arg,classes)] + \" \"\n",
    "                        arglist.append(arg)\n",
    "                    args_per_action.append(arglist)\n",
    "                    params_per_action.append(actarg_tuple[1])\n",
    "                    arg_already_written_flag = True\n",
    "    write_line += \")\\n\"\n",
    "\n",
    "\n",
    "    # need to use finite STATE machines to get preconditions and effects.\n",
    "    # Start-state = precondition. End state= Effect\n",
    "    preconditions = []\n",
    "    effects = []\n",
    "    for arglist in params_per_action:\n",
    "        for arg in arglist:\n",
    "            current_class_index = get_class_index(arg, classes)\n",
    "            for fsm_no, fsm in enumerate(state_machines_overall_list[current_class_index]):\n",
    "                # print_table(fsm)\n",
    "                df = fsm\n",
    "\n",
    "                for i in range(df.shape[0]):\n",
    "                    for j in range(df.shape[1]):\n",
    "                        if df.iloc[i, j] > 0:\n",
    "                            # print(\"(\" + df.index[i] + \",\" + df.columns[j] + \")\")\n",
    "                            start_state = state_dict_overall[current_class_index][fsm_no][df.index[i]]\n",
    "                            end_state = state_dict_overall[current_class_index][fsm_no][df.columns[j]]\n",
    "\n",
    "                            start_state_index, end_state_index = -1, -1\n",
    "                            for k,v in state_dict_overall[current_class_index][fsm_no].items():\n",
    "                                if v == start_state:\n",
    "                                    start_state_index = k\n",
    "                                if v == end_state:\n",
    "                                    end_state_index = k\n",
    "\n",
    "                            for predicate in predicates:\n",
    "                                pred = predicate.split()[0].lstrip('(').rstrip(')')\n",
    "                                if pred == class_names[current_class_index]+\"_fsm\"+str(fsm_no)+\"_\"+str(start_state_index):\n",
    "\n",
    "                                    if predicate not in preconditions:\n",
    "                                        preconditions.append(predicate)\n",
    "                                if pred == class_names[current_class_index]+\"_fsm\"+str(fsm_no)+\"_\"+str(end_state_index):\n",
    "                                    if predicate not in effects:\n",
    "                                        effects.append(predicate)\n",
    "\n",
    "\n",
    "\n",
    "\n",
    "#     print(preconditions)\n",
    "#     print(effects)\n",
    "    write_line += \"\\t:precondition\"\n",
    "    write_line += \"\\t(and\\n\"\n",
    "    for precondition in preconditions:\n",
    "        # precondition = precondition.replace(?)\n",
    "        write_line += \"\\t\\t\"+precondition+\"\\n\"\n",
    "    write_line += \"\\t)\\n\"\n",
    "    write_line += \"\\t:effect\"\n",
    "    write_line += \"\\t(and\\n\"\n",
    "    for effect in effects:\n",
    "        write_line += \"\\t\\t\" + effect + \"\\n\"\n",
    "    write_line += \"\\t)\"\n",
    "\n",
    "    write_line += \")\\n\\n\"\n",
    "\n",
    "write_line += \")\\n\" #domain ending bracket\n",
    "\n",
    "\n",
    "print(write_line)\n",
    "\n",
    "write_file.write(write_line)\n",
    "write_file.close()\n",
    "\n"
   ]
  },
  {
   "cell_type": "code",
   "execution_count": 41,
   "metadata": {
    "scrolled": true
   },
   "outputs": [
    {
     "name": "stdout",
     "output_type": "stream",
     "text": [
      "home_fsm0_state0:['end(start.0)']\n",
      "home_fsm0_state1:['start(start.0)']\n",
      "cafe_fsm0_state0:['end(reach.0)']\n",
      "cafe_fsm0_state1:['start(reach.0)']\n",
      "tea_fsm0_state0:['start(buy.0)']\n",
      "tea_fsm0_state1:['end(buy.0)']\n",
      "minutes_fsm0_state0:['end(wait.0)']\n",
      "minutes_fsm0_state1:['start(wait.0)']\n",
      "hands_fsm0_state0:['start(clean.0)']\n",
      "hands_fsm0_state1:['end(clean.0)']\n",
      "water_fsm0_state0:['end(add.0)', 'start(mix.1)']\n",
      "water_fsm0_state1:['start(add.0)']\n",
      "water_fsm0_state2:['end(mix.1)']\n",
      "milk_fsm0_state0:['start(pour.0)']\n",
      "milk_fsm0_state1:['end(mix.2)']\n",
      "milk_fsm0_state2:['start(mix.2)', 'end(pour.0)']\n",
      "teabag_fsm0_state0:['start(dip.0)']\n",
      "teabag_fsm0_state1:['start(mix.0)', 'end(dip.0)']\n",
      "teabag_fsm0_state2:['end(mix.0)']\n"
     ]
    }
   ],
   "source": [
    "print_state_dictionary(state_dict_overall)"
   ]
  },
  {
   "cell_type": "code",
   "execution_count": 42,
   "metadata": {},
   "outputs": [
    {
     "name": "stdout",
     "output_type": "stream",
     "text": [
      "{'add', 'clean', 'reach', 'pour', 'start', 'wait', 'mix', 'dip', 'buy'}\n"
     ]
    }
   ],
   "source": [
    "print(actions)"
   ]
  },
  {
   "cell_type": "code",
   "execution_count": 43,
   "metadata": {},
   "outputs": [],
   "source": [
    "input_tea = u'''Tea domain\n",
    "Start from home and reach cafe for your tea in 25 minutes.\n",
    "Buy tea and wait 15 minutes.\n",
    "Clean your hands, if they are dirty in 1 minute.\n",
    "Add water to mug which takes 2 minutes.\n",
    "Pour milk to mug which also takes 2 minutes.\n",
    "Dip teabag into mug which also takes 2 minutes.\n",
    "Mix the teabag, water and milk in your mug for 3 minutes.\n",
    "Your delicious tea is ready.\n",
    "'''"
   ]
  },
  {
   "cell_type": "code",
   "execution_count": 44,
   "metadata": {},
   "outputs": [],
   "source": [
    "import spacy\n",
    "from spacy import displacy\n",
    "import en_core_web_sm\n",
    "nlp = spacy.load('en_core_web_sm')\n",
    "doc = nlp(input_tea)"
   ]
  },
  {
   "cell_type": "code",
   "execution_count": 45,
   "metadata": {},
   "outputs": [
    {
     "name": "stdout",
     "output_type": "stream",
     "text": [
      "[('25 minutes', 'TIME'),\n",
      " ('15 minutes', 'TIME'),\n",
      " ('1 minute', 'TIME'),\n",
      " ('2 minutes', 'TIME'),\n",
      " ('Pour', 'PERSON'),\n",
      " ('2 minutes', 'TIME'),\n",
      " ('2 minutes', 'TIME'),\n",
      " ('3 minutes', 'TIME')]\n"
     ]
    }
   ],
   "source": [
    "pprint([(X.text, X.label_) for X in doc.ents])"
   ]
  },
  {
   "cell_type": "code",
   "execution_count": 46,
   "metadata": {},
   "outputs": [
    {
     "data": {
      "text/html": [
       "<div class=\"entities\" style=\"line-height: 2.5; direction: ltr\">Tea domain</br>Start from home and reach cafe for your tea in \n",
       "<mark class=\"entity\" style=\"background: #bfe1d9; padding: 0.45em 0.6em; margin: 0 0.25em; line-height: 1; border-radius: 0.35em; box-decoration-break: clone; -webkit-box-decoration-break: clone\">\n",
       "    25 minutes\n",
       "    <span style=\"font-size: 0.8em; font-weight: bold; line-height: 1; border-radius: 0.35em; text-transform: uppercase; vertical-align: middle; margin-left: 0.5rem\">TIME</span>\n",
       "</mark>\n",
       ".</br>Buy tea and wait \n",
       "<mark class=\"entity\" style=\"background: #bfe1d9; padding: 0.45em 0.6em; margin: 0 0.25em; line-height: 1; border-radius: 0.35em; box-decoration-break: clone; -webkit-box-decoration-break: clone\">\n",
       "    15 minutes\n",
       "    <span style=\"font-size: 0.8em; font-weight: bold; line-height: 1; border-radius: 0.35em; text-transform: uppercase; vertical-align: middle; margin-left: 0.5rem\">TIME</span>\n",
       "</mark>\n",
       ".</br>Clean your hands, if they are dirty in \n",
       "<mark class=\"entity\" style=\"background: #bfe1d9; padding: 0.45em 0.6em; margin: 0 0.25em; line-height: 1; border-radius: 0.35em; box-decoration-break: clone; -webkit-box-decoration-break: clone\">\n",
       "    1 minute\n",
       "    <span style=\"font-size: 0.8em; font-weight: bold; line-height: 1; border-radius: 0.35em; text-transform: uppercase; vertical-align: middle; margin-left: 0.5rem\">TIME</span>\n",
       "</mark>\n",
       ".</br>Add water to mug which takes \n",
       "<mark class=\"entity\" style=\"background: #bfe1d9; padding: 0.45em 0.6em; margin: 0 0.25em; line-height: 1; border-radius: 0.35em; box-decoration-break: clone; -webkit-box-decoration-break: clone\">\n",
       "    2 minutes\n",
       "    <span style=\"font-size: 0.8em; font-weight: bold; line-height: 1; border-radius: 0.35em; text-transform: uppercase; vertical-align: middle; margin-left: 0.5rem\">TIME</span>\n",
       "</mark>\n",
       ".</br>\n",
       "<mark class=\"entity\" style=\"background: #aa9cfc; padding: 0.45em 0.6em; margin: 0 0.25em; line-height: 1; border-radius: 0.35em; box-decoration-break: clone; -webkit-box-decoration-break: clone\">\n",
       "    Pour\n",
       "    <span style=\"font-size: 0.8em; font-weight: bold; line-height: 1; border-radius: 0.35em; text-transform: uppercase; vertical-align: middle; margin-left: 0.5rem\">PERSON</span>\n",
       "</mark>\n",
       " milk to mug which also takes \n",
       "<mark class=\"entity\" style=\"background: #bfe1d9; padding: 0.45em 0.6em; margin: 0 0.25em; line-height: 1; border-radius: 0.35em; box-decoration-break: clone; -webkit-box-decoration-break: clone\">\n",
       "    2 minutes\n",
       "    <span style=\"font-size: 0.8em; font-weight: bold; line-height: 1; border-radius: 0.35em; text-transform: uppercase; vertical-align: middle; margin-left: 0.5rem\">TIME</span>\n",
       "</mark>\n",
       ".</br>Dip teabag into mug which also takes \n",
       "<mark class=\"entity\" style=\"background: #bfe1d9; padding: 0.45em 0.6em; margin: 0 0.25em; line-height: 1; border-radius: 0.35em; box-decoration-break: clone; -webkit-box-decoration-break: clone\">\n",
       "    2 minutes\n",
       "    <span style=\"font-size: 0.8em; font-weight: bold; line-height: 1; border-radius: 0.35em; text-transform: uppercase; vertical-align: middle; margin-left: 0.5rem\">TIME</span>\n",
       "</mark>\n",
       ".</br>Mix the teabag, water and milk in your mug for \n",
       "<mark class=\"entity\" style=\"background: #bfe1d9; padding: 0.45em 0.6em; margin: 0 0.25em; line-height: 1; border-radius: 0.35em; box-decoration-break: clone; -webkit-box-decoration-break: clone\">\n",
       "    3 minutes\n",
       "    <span style=\"font-size: 0.8em; font-weight: bold; line-height: 1; border-radius: 0.35em; text-transform: uppercase; vertical-align: middle; margin-left: 0.5rem\">TIME</span>\n",
       "</mark>\n",
       ".\n",
       "Your delicious tea is ready.\n",
       "</div>"
      ],
      "text/plain": [
       "<IPython.core.display.HTML object>"
      ]
     },
     "metadata": {},
     "output_type": "display_data"
    }
   ],
   "source": [
    "displacy.render(nlp(str(doc)), jupyter=True, style='ent')"
   ]
  },
  {
   "cell_type": "code",
   "execution_count": null,
   "metadata": {},
   "outputs": [],
   "source": []
  },
  {
   "cell_type": "code",
   "execution_count": 88,
   "metadata": {},
   "outputs": [
    {
     "name": "stdout",
     "output_type": "stream",
     "text": [
      "142\n"
     ]
    }
   ],
   "source": [
    "from py2cytoscape.data.cyrest_client import CyRestClient\n",
    "import networkx as nx\n",
    "from py2cytoscape.util import from_networkx\n",
    "cy = CyRestClient()\n",
    "network = cy.network.create(name='water.graphml', collection='water.graphml')\n",
    "print(network.get_id())"
   ]
  },
  {
   "cell_type": "code",
   "execution_count": 92,
   "metadata": {},
   "outputs": [
    {
     "data": {
      "text/plain": [
       "{'allAppsStarted': True,\n",
       " 'apiVersion': 'v1',\n",
       " 'numberOfCores': 4,\n",
       " 'memoryStatus': {'usedMemory': 485,\n",
       "  'freeMemory': 2674,\n",
       "  'totalMemory': 3160,\n",
       "  'maxMemory': 6917}}"
      ]
     },
     "execution_count": 92,
     "metadata": {},
     "output_type": "execute_result"
    }
   ],
   "source": [
    "cy.status()\n"
   ]
  },
  {
   "cell_type": "code",
   "execution_count": 94,
   "metadata": {},
   "outputs": [
    {
     "ename": "TypeError",
     "evalue": "'CyNetwork' object is not subscriptable",
     "output_type": "error",
     "traceback": [
      "\u001b[0;31m---------------------------------------------------------------------------\u001b[0m",
      "\u001b[0;31mTypeError\u001b[0m                                 Traceback (most recent call last)",
      "\u001b[0;32m<ipython-input-94-b337d1e17629>\u001b[0m in \u001b[0;36m<module>\u001b[0;34m()\u001b[0m\n\u001b[1;32m      1\u001b[0m \u001b[0;32mfrom\u001b[0m \u001b[0mpy2cytoscape\u001b[0m\u001b[0;34m.\u001b[0m\u001b[0mcytoscapejs\u001b[0m \u001b[0;32mimport\u001b[0m \u001b[0mviewer\u001b[0m \u001b[0;32mas\u001b[0m \u001b[0mcyjs\u001b[0m\u001b[0;34m\u001b[0m\u001b[0m\n\u001b[0;32m----> 2\u001b[0;31m \u001b[0mcyjs\u001b[0m\u001b[0;34m.\u001b[0m\u001b[0mrender\u001b[0m\u001b[0;34m(\u001b[0m\u001b[0mnetwork\u001b[0m\u001b[0;34m)\u001b[0m\u001b[0;34m\u001b[0m\u001b[0m\n\u001b[0m",
      "\u001b[0;32m/Library/Frameworks/Python.framework/Versions/3.6/lib/python3.6/site-packages/py2cytoscape/cytoscapejs/viewer.py\u001b[0m in \u001b[0;36mrender\u001b[0;34m(network, style, layout_algorithm, background, height, width, style_file, def_nodes, def_edges)\u001b[0m\n\u001b[1;32m    100\u001b[0m         \u001b[0medges\u001b[0m \u001b[0;34m=\u001b[0m \u001b[0mdef_edges\u001b[0m\u001b[0;34m\u001b[0m\u001b[0m\n\u001b[1;32m    101\u001b[0m     \u001b[0;32melse\u001b[0m\u001b[0;34m:\u001b[0m\u001b[0;34m\u001b[0m\u001b[0m\n\u001b[0;32m--> 102\u001b[0;31m         \u001b[0mnodes\u001b[0m \u001b[0;34m=\u001b[0m \u001b[0mnetwork\u001b[0m\u001b[0;34m[\u001b[0m\u001b[0;34m'elements'\u001b[0m\u001b[0;34m]\u001b[0m\u001b[0;34m[\u001b[0m\u001b[0;34m'nodes'\u001b[0m\u001b[0;34m]\u001b[0m\u001b[0;34m\u001b[0m\u001b[0m\n\u001b[0m\u001b[1;32m    103\u001b[0m         \u001b[0medges\u001b[0m \u001b[0;34m=\u001b[0m \u001b[0mnetwork\u001b[0m\u001b[0;34m[\u001b[0m\u001b[0;34m'elements'\u001b[0m\u001b[0;34m]\u001b[0m\u001b[0;34m[\u001b[0m\u001b[0;34m'edges'\u001b[0m\u001b[0;34m]\u001b[0m\u001b[0;34m\u001b[0m\u001b[0m\n\u001b[1;32m    104\u001b[0m \u001b[0;34m\u001b[0m\u001b[0m\n",
      "\u001b[0;31mTypeError\u001b[0m: 'CyNetwork' object is not subscriptable"
     ]
    }
   ],
   "source": [
    "from py2cytoscape.cytoscapejs import viewer as cyjs\n",
    "cyjs.render(network)"
   ]
  },
  {
   "cell_type": "code",
   "execution_count": null,
   "metadata": {},
   "outputs": [],
   "source": [
    "\n"
   ]
  },
  {
   "cell_type": "code",
   "execution_count": null,
   "metadata": {},
   "outputs": [],
   "source": []
  },
  {
   "cell_type": "code",
   "execution_count": null,
   "metadata": {},
   "outputs": [],
   "source": []
  }
 ],
 "metadata": {
  "kernelspec": {
   "display_name": "Python 3",
   "language": "python",
   "name": "python3"
  },
  "language_info": {
   "codemirror_mode": {
    "name": "ipython",
    "version": 3
   },
   "file_extension": ".py",
   "mimetype": "text/x-python",
   "name": "python",
   "nbconvert_exporter": "python",
   "pygments_lexer": "ipython3",
   "version": "3.6.2"
  }
 },
 "nbformat": 4,
 "nbformat_minor": 2
}
