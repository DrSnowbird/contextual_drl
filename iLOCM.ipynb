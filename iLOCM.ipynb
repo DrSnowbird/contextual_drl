{
 "cells": [
  {
   "cell_type": "markdown",
   "metadata": {},
   "source": [
    "# Learn the domain model in PDDL using iLOCM\n",
    "\n",
    "**interactive-LOCM**\n",
    "This code combines LOCM1 and LOCM2 algorithms and is last part of the pipeline that I use in my thesis to generate PDDL models from instructional texts.\n",
    "\n",
    "- Step 0: Preprocess: Lemmatize, Coref resolve, action override rename and replacing empty parameters.\n",
    "- Step 1: Find classes and make transition graphs.\n",
    "- Step 2: Get transistion sets from LOCM2 algorithm\n",
    "- Step 3: Create FSMs\n",
    "- Step 4: Perform Zero Analysis and add new FSM if necessary.\n",
    "- Step 5: Create and test hypothesis for state parameters\n",
    "- Step 6: Create and merge state parameters\n",
    "- Step 7: Remove parameter flaws\n",
    "- Step 8: Extract static preconditions\n",
    "- Step 9: Form action schemas"
   ]
  },
  {
   "cell_type": "code",
   "execution_count": 1,
   "metadata": {},
   "outputs": [],
   "source": [
    "from collections import defaultdict\n",
    "import itertools\n",
    "import os\n",
    "from tabulate import tabulate\n",
    "from pprint import pprint\n",
    "import matplotlib.pyplot as plt\n",
    "%matplotlib inline\n",
    "import networkx as nx\n",
    "import pandas as pd\n",
    "pd.options.display.max_columns = 100\n",
    "from IPython.display import display, Markdown\n",
    "from ipycytoscape import *"
   ]
  },
  {
   "cell_type": "markdown",
   "metadata": {},
   "source": [
    "## Read input file"
   ]
  },
  {
   "cell_type": "code",
   "execution_count": 2,
   "metadata": {},
   "outputs": [],
   "source": [
    "import string\n",
    "def read_file(input_file_name):\n",
    "    '''\n",
    "    Read the input data and return list of action sequences.\n",
    "    Each sequence is a list of action-argumentlist tuples.\n",
    "    '''\n",
    "    file = open(input_file_name, 'r')\n",
    "    sequences = []\n",
    "    for line in file:\n",
    "        \n",
    "        actions = []\n",
    "        arguments = []\n",
    "        if line and not line.isspace() and len(line)>1:\n",
    "            sequence = line.rstrip(\"\\n\\r\").lstrip(\"\\n\\r\").lower() \n",
    "            action_defs = sequence.split(\"),\")\n",
    "\n",
    "            for action_def in action_defs:\n",
    "                action = action_def.split('(')[0].strip(\")\\n\\r\").strip()\n",
    "                argument = action_def.split('(')[1].strip(\")\\n\\r\")\n",
    "                actions.append(action.translate(str.maketrans('', '', string.punctuation)))\n",
    "                argument_list = argument.split(',')\n",
    "                argument_list = [x.strip() for x in argument_list]\n",
    "                #argument_list.insert(0,'zero')\n",
    "                arguments.append(argument_list)\n",
    "                \n",
    "            \n",
    "            actarg_tuples = zip(actions,arguments)\n",
    "            sequences.append(list(actarg_tuples))\n",
    "    return sequences\n",
    "\n",
    "def print_sequences(sequences):\n",
    "    for seq in sequences:\n",
    "        for index,action in enumerate(seq):\n",
    "            print(str(index) + \": \" + str(action))\n",
    "        print()"
   ]
  },
  {
   "cell_type": "code",
   "execution_count": 64,
   "metadata": {
    "lines_to_next_cell": 2,
    "scrolled": false
   },
   "outputs": [],
   "source": [
    "# sequences = read_file(input_file_name)\n",
    "sequences = read_file('./locm_data/driverlog1.txt')\n",
    "# print_sequences(sequences)\n",
    "domain_name = 'driverlog' #specify domain name to  be used in PDDL here."
   ]
  },
  {
   "cell_type": "markdown",
   "metadata": {},
   "source": [
    "## Step 1.1: Find classes "
   ]
  },
  {
   "cell_type": "code",
   "execution_count": 65,
   "metadata": {},
   "outputs": [
    {
     "name": "stdout",
     "output_type": "stream",
     "text": [
      "\n",
      "Actions\n",
      "{'disembarktruck', 'boardtruck', 'loadtruck', 'unloadtruck', 'drivetruck', 'walk'}\n",
      "\n",
      "Arguments/Objects\n",
      "{'s1', 'package3', 'p1-2', 'p3-2', 's3', 'package1', 'p0-1', 'driver1', 's5', 'truck1', 's4', 's2', 'package5', 'package4', 'driver2', 'truck3', 's0', 'package2', 'truck2', 'p3-4', 'p1-0'}\n"
     ]
    }
   ],
   "source": [
    "transitions = set() # A transition is denoted by action_name + argument position\n",
    "arguments = set()\n",
    "actions = set()\n",
    "for seq in sequences:\n",
    "    for actarg_tuple in seq:\n",
    "        actions.add(actarg_tuple[0])\n",
    "        for j, arg in enumerate(actarg_tuple[1]):\n",
    "            transitions.add(actarg_tuple[0]+\".\"+str(j))\n",
    "            arguments.add(arg)\n",
    "\n",
    "print(\"\\nActions\")\n",
    "print(actions)\n",
    "# print(\"\\nTransitions\")\n",
    "# print(transitions)\n",
    "print(\"\\nArguments/Objects\")\n",
    "print(arguments)"
   ]
  },
  {
   "cell_type": "code",
   "execution_count": 66,
   "metadata": {},
   "outputs": [],
   "source": [
    "def get_actarg_dictionary(sequences):\n",
    "    d = defaultdict(list)\n",
    "    for seq in sequences:\n",
    "        for actarg_tuple in seq:\n",
    "            d[actarg_tuple[0]].append(actarg_tuple[1])\n",
    "    return d\n",
    "d = get_actarg_dictionary(sequences)"
   ]
  },
  {
   "cell_type": "code",
   "execution_count": 67,
   "metadata": {},
   "outputs": [],
   "source": [
    "# class util functions.\n",
    "def get_classes(d):\n",
    "    # TODO incorporate word similarity in get classes.\n",
    "    c = defaultdict(set)\n",
    "    for k,v in d.items():\n",
    "        for arg_list in v:\n",
    "            for i,object in enumerate(arg_list):\n",
    "                c[k,i].add(object)\n",
    "\n",
    "    sets = c.values()\n",
    "    classes = []\n",
    "    # remove duplicate classes\n",
    "    for s in sets:\n",
    "        if s not in classes:\n",
    "            classes.append(s)\n",
    "\n",
    "    # now do pairwise intersections of all values. If intersection, combine them; then return the final sets.\n",
    "    classes_copy = list(classes)\n",
    "    while True:\n",
    "        combinations = list(itertools.combinations(classes_copy,2))\n",
    "        intersections_count = 0\n",
    "        for combination in combinations:\n",
    "            if combination[0].intersection(combination[1]):\n",
    "                intersections_count +=1\n",
    "\n",
    "                if combination[0] in classes_copy:\n",
    "                    classes_copy.remove(combination[0])\n",
    "                if combination[1] in classes_copy:\n",
    "                    classes_copy.remove(combination[1])\n",
    "                classes_copy.append(combination[0].union(combination[1]))\n",
    "\n",
    "        if intersections_count==0:\n",
    "            # print(\"no intersections left\")\n",
    "            break\n",
    "\n",
    "    return classes_copy\n",
    "\n",
    "# TODO: Can use better approach here. NER might help.\n",
    "def get_class_names(classes):\n",
    "    # Name the class to first object found ignoring the digits in it\n",
    "    class_names = []\n",
    "    for c in classes:\n",
    "        for object in c:\n",
    "#             object = ''.join([i for i in object if not i.isdigit()])\n",
    "            class_names.append(object)\n",
    "            break\n",
    "    return class_names\n",
    "\n",
    "def get_class_index(arg,classes):\n",
    "    for class_index, c in enumerate(classes):\n",
    "        if arg in c:\n",
    "            return class_index #it is like breaking out of the loop\n",
    "    print(\"Error:class index not found\") #this statement is only executed if class index is not returned."
   ]
  },
  {
   "cell_type": "code",
   "execution_count": 68,
   "metadata": {
    "lines_to_next_cell": 0
   },
   "outputs": [
    {
     "name": "stdout",
     "output_type": "stream",
     "text": [
      "\n",
      "Sorts/Classes\n",
      "[{'driver2', 'driver1'}, {'package3', 'package2', 'package1', 'package5', 'package4'}, {'truck1', 'truck2', 'truck3'}, {'s5', 's1', 'p3-2', 's0', 's3', 'p0-1', 's2', 's4', 'p3-4', 'p1-0', 'p1-2'}]\n",
      "\n",
      "Extracted class names\n",
      "['driver2', 'package3', 'truck1', 's5']\n"
     ]
    }
   ],
   "source": [
    "classes = get_classes(d) #sorts of object\n",
    "print(\"\\nSorts/Classes\")\n",
    "print(classes)\n",
    "\n",
    "class_names = get_class_names(classes)\n",
    "print(\"\\nExtracted class names\")\n",
    "print(class_names)"
   ]
  },
  {
   "cell_type": "markdown",
   "metadata": {},
   "source": [
    "## USER INPUT 1: Enter Correct Class names\n",
    "Editing the extracted class names to more readable object classes will make the final PDDL model more readable."
   ]
  },
  {
   "cell_type": "code",
   "execution_count": 69,
   "metadata": {
    "lines_to_next_cell": 2
   },
   "outputs": [
    {
     "name": "stdout",
     "output_type": "stream",
     "text": [
      "\n",
      "Renamed class names\n",
      "['Driver', 'Truck', 'Package', 'Location']\n"
     ]
    }
   ],
   "source": [
    "############ (Optional) User Input ############\n",
    "# Give user an option to change class names.\n",
    "# class_names[0] = 'rocket'\n",
    "\n",
    "#tyre\n",
    "# class_names[0] = 'Jack'\n",
    "# class_names[1] = 'Boot'\n",
    "# class_names[2] = 'Wheel'\n",
    "# class_names[3] = 'Hub'\n",
    "# class_names[4] = 'Wrench'\n",
    "# class_names[5] = 'Nut'\n",
    "\n",
    "#driverlog\n",
    "class_names[0] = 'Driver'\n",
    "class_names[1] = 'Truck'\n",
    "class_names[2] = 'Package'\n",
    "class_names[3] = 'Location'\n",
    "\n",
    "# #blocksworld\n",
    "# class_names[0] = 'Block'\n",
    "# class_names[1] = 'Gripper'\n",
    "\n",
    "\n",
    "print(\"\\nRenamed class names\")\n",
    "print(class_names)"
   ]
  },
  {
   "cell_type": "markdown",
   "metadata": {},
   "source": [
    " **Assumptions of LOCM2**\n",
    "- Each object of a same class undergoes similar kind of transition.\n",
    "- Objects of same class in a same action undergo similar kind of transition."
   ]
  },
  {
   "cell_type": "code",
   "execution_count": 70,
   "metadata": {},
   "outputs": [
    {
     "name": "stdout",
     "output_type": "stream",
     "text": [
      "\n",
      "Actions\n",
      "{'disembarktruck', 'boardtruck', 'loadtruck', 'unloadtruck', 'drivetruck', 'walk'}\n",
      "\n",
      "Transitions\n",
      "{'unloadtruck.Package.1', 'loadtruck.Truck.0', 'boardtruck.Package.1', 'disembarktruck.Location.2', 'unloadtruck.Truck.0', 'walk.Location.2', 'drivetruck.Package.0', 'boardtruck.Location.2', 'disembarktruck.Driver.0', 'walk.Location.1', 'walk.Driver.0', 'drivetruck.Location.1', 'drivetruck.Location.2', 'unloadtruck.Location.2', 'loadtruck.Location.2', 'boardtruck.Driver.0', 'disembarktruck.Package.1', 'drivetruck.Driver.3', 'loadtruck.Package.1'}\n",
      "\n",
      "Arguments/Objects\n",
      "{'s1', 'package3', 'p1-2', 'p3-2', 's3', 'package1', 'p0-1', 'driver1', 's5', 'truck1', 's4', 's2', 'package5', 'package4', 'driver2', 'truck3', 's0', 'package2', 'truck2', 'p3-4', 'p1-0'}\n"
     ]
    }
   ],
   "source": [
    "# change transitions to be more meaningful by incorporating class_names.\n",
    "full_transitions = set()\n",
    "for seq in sequences:\n",
    "    for actarg_tuple in seq:\n",
    "        actions.add(actarg_tuple[0])\n",
    "        for j, arg in enumerate(actarg_tuple[1]):\n",
    "            full_transitions.add(actarg_tuple[0]+\".\"+class_names[get_class_index(arg,classes)]+'.'+str(j))\n",
    "            arguments.add(arg)\n",
    "\n",
    "print(\"\\nActions\")\n",
    "print(actions)\n",
    "print(\"\\nTransitions\")\n",
    "print(full_transitions)\n",
    "print(\"\\nArguments/Objects\")\n",
    "print(arguments)"
   ]
  },
  {
   "cell_type": "code",
   "execution_count": 71,
   "metadata": {},
   "outputs": [
    {
     "name": "stdout",
     "output_type": "stream",
     "text": [
      "\n",
      "Number of Actions: 6,\n",
      "Number of unique transitions: 19,\n",
      "Number of unique objects (arguments): 21,\n",
      "Number of classes/sorts: 4\n"
     ]
    }
   ],
   "source": [
    "print(\"\\nNumber of Actions: {},\\nNumber of unique transitions: {},\\nNumber of unique objects (arguments): {},\\nNumber of classes/sorts: {}\".format(len(actions), len(transitions), len(arguments), len(classes)))"
   ]
  },
  {
   "cell_type": "markdown",
   "metadata": {},
   "source": [
    "## Building Transition graphs"
   ]
  },
  {
   "cell_type": "markdown",
   "metadata": {},
   "source": [
    "### Utils"
   ]
  },
  {
   "cell_type": "code",
   "execution_count": 72,
   "metadata": {
    "lines_to_next_cell": 0
   },
   "outputs": [],
   "source": [
    "def empty_directory(folder):\n",
    "    for the_file in os.listdir(folder):\n",
    "        file_path = os.path.join(folder, the_file)\n",
    "        try:\n",
    "            if os.path.isfile(file_path):\n",
    "                os.unlink(file_path)\n",
    "            # elif os.path.isdir(file_path): shutil.rmtree(file_path)\n",
    "        except Exception as e:\n",
    "            print(e)\n",
    "\n",
    "def findsubsets(S,m):\n",
    "    return set(itertools.combinations(S, m))\n",
    "\n",
    "def print_table(matrix):\n",
    "    display(tabulate(matrix, headers='keys', tablefmt='html'))\n",
    "    \n",
    "def printmd(string):\n",
    "    display(Markdown(string))"
   ]
  },
  {
   "cell_type": "markdown",
   "metadata": {},
   "source": [
    "### Save graphs in graphml format (used in cytoscape)"
   ]
  },
  {
   "cell_type": "code",
   "execution_count": 73,
   "metadata": {},
   "outputs": [],
   "source": [
    "def save(graphs, domain_name):\n",
    "    adjacency_matrix_list = [] # list of adjacency matrices per class\n",
    "    \n",
    "    for index, G in enumerate(graphs):\n",
    "        nx.write_graphml(G, \"output/\"+ domain_name + \"/\" +  class_names[index] + \".graphml\")\n",
    "        df = nx.to_pandas_adjacency(G, nodelist=G.nodes(), dtype=int)\n",
    "        adjacency_matrix_list.append(df)\n",
    "#         print_table(df)\n",
    "    return adjacency_matrix_list"
   ]
  },
  {
   "cell_type": "code",
   "execution_count": 74,
   "metadata": {},
   "outputs": [],
   "source": [
    "def plot_cytographs(graphs, domain_name, aml):\n",
    "    cytoscapeobs = []\n",
    "    for index, G in enumerate(graphs):\n",
    "            cytoscapeobj = CytoscapeWidget()\n",
    "            cytoscapeobj.graph.add_graph_from_networkx(G)\n",
    "            edge_list = list()\n",
    "            for source, target, data in G.edges(data=True):\n",
    "                edge_instance = Edge()\n",
    "                edge_instance.data['source'] = source\n",
    "                edge_instance.data['target'] = target\n",
    "                for k, v in data.items():\n",
    "                    cyto_attrs = ['group', 'removed', 'selected', 'selectable',\n",
    "                        'locked', 'grabbed', 'grabbable', 'classes', 'position', 'data']\n",
    "                    if k in cyto_attrs:\n",
    "                        setattr(edge_instance, k, v)\n",
    "                    else:\n",
    "                        edge_instance.data[k] = v\n",
    "                    edge_list.append(edge_instance)\n",
    "            cytoscapeobj.graph.edges = edge_list\n",
    "#             cytoscapeobj.graph.add_graph_from_df(aml[index],aml[index].columns.tolist())\n",
    "            cytoscapeobs.append(cytoscapeobj)\n",
    "#             print(cytoscapeobj)\n",
    "            printmd('## class **'+class_names[index]+'**')\n",
    "            print_table(aml[index])\n",
    "    #         print(\"Nodes:{}\".format(G.nodes()))\n",
    "    #         print(\"Edges:{}\".format(G.edges()))\n",
    "            cytoscapeobj.set_style([{\n",
    "                            'width':400,\n",
    "                            'height':400,\n",
    "\n",
    "                            'selector': 'node',\n",
    "                            'style': {\n",
    "                                'label': 'data(id)',\n",
    "                                'font-family': 'helvetica',\n",
    "                                'font-size': '8px',\n",
    "                                'background-color': '#11479e',\n",
    "                                'height':'10px',\n",
    "                                'width':'10px',\n",
    "\n",
    "\n",
    "                                }\n",
    "\n",
    "                            },\n",
    "                            {\n",
    "                            'selector': 'node:parent',\n",
    "                            'css': {\n",
    "                                'background-opacity': 0.333,\n",
    "                                'background-color': '#bbb'\n",
    "                                }\n",
    "                            },\n",
    "                            {\n",
    "                            'selector': '$node > node',\n",
    "                            'css': {\n",
    "                                'padding-top': '10px',\n",
    "                                'padding-left': '10px',\n",
    "                                'padding-bottom': '10px',\n",
    "                                'padding-right': '10px',\n",
    "                                'text-valign': 'top',\n",
    "                                'text-halign': 'center',\n",
    "                                'background-color': '#bbb'\n",
    "                              }\n",
    "                            },\n",
    "                           {\n",
    "                                'selector': 'edge',\n",
    "\n",
    "                                'style': {\n",
    "                                    'label':'data(weight)',\n",
    "                                    'width': 1,\n",
    "                                    'line-color': '#9dbaea',\n",
    "                                    'target-arrow-shape': 'triangle',\n",
    "                                    'target-arrow-color': '#9dbaea',\n",
    "                                    'arrow-scale': 0.5,\n",
    "                                    'curve-style': 'bezier',\n",
    "                                    'font-family': 'helvetica',\n",
    "                                    'font-size': '8px',\n",
    "                                    'text-valign': 'top',\n",
    "                                    'text-halign':'center'\n",
    "                                }\n",
    "                            },\n",
    "                            ])\n",
    "            cytoscapeobj.max_zoom = 4.0\n",
    "            cytoscapeobj.min_zoom = 0.5\n",
    "            display(cytoscapeobj)\n",
    "    return cytoscapeobs"
   ]
  },
  {
   "cell_type": "markdown",
   "metadata": {},
   "source": [
    "#### Build transitions graphs and call save function"
   ]
  },
  {
   "cell_type": "code",
   "execution_count": 75,
   "metadata": {},
   "outputs": [],
   "source": [
    "def build_and_save_transition_graphs(classes, domain_name, class_names):\n",
    "    # There should be a graph for each class of objects.\n",
    "    graphs = []\n",
    "    # Initialize all graphs empty\n",
    "    for sort in classes:\n",
    "        graphs.append(nx.DiGraph())\n",
    "\n",
    "    consecutive_transition_lists = [] #list of consecutive transitions per object instance per sequence.\n",
    "\n",
    "    for m, arg in enumerate(arguments):  # for all arguments (objects found in sequences)\n",
    "        for n, seq in enumerate(sequences):  # for all sequences\n",
    "            consecutive_transition_list = list()  # consecutive transition list for a sequence and an object (arg)\n",
    "            for i, actarg_tuple in enumerate(seq):\n",
    "                for j, arg_prime in enumerate(actarg_tuple[1]):  # for all arguments in actarg tuples\n",
    "                    if arg == arg_prime:  # if argument matches arg\n",
    "                        node = actarg_tuple[0] + \".\" +  str(j)\n",
    "                        # node = actarg_tuple[0] +  \".\" + class_names[get_class_index(arg,classes)] + \".\" +  str(j)  # name the node of graph which represents a transition\n",
    "                        consecutive_transition_list.append(node)  # add node to the cons_transition for sequence and argument\n",
    "\n",
    "                        # for each class append the nodes to the graph of that class\n",
    "                        class_index = get_class_index(arg_prime, classes)  # get index of class to which the object belongs to\n",
    "                        graphs[class_index].add_node(node)  # add node to the graph of that class\n",
    "\n",
    "            consecutive_transition_lists.append([n, arg, consecutive_transition_list])\n",
    "\n",
    "    # print(consecutive_transition_lists)\n",
    "    # for all consecutive transitions add edges to the appropriate graphs.\n",
    "    for cons_trans_list in consecutive_transition_lists:\n",
    "        # print(cons_trans_list)\n",
    "        seq_no = cons_trans_list[0]  # get sequence number\n",
    "        arg = cons_trans_list[1]  # get argument\n",
    "        class_index = get_class_index(arg, classes)  # get index of class\n",
    "        # add directed edges to graph of that class\n",
    "        for i in range(0, len(cons_trans_list[2]) - 1):\n",
    "                if graphs[class_index].has_edge(cons_trans_list[2][i], cons_trans_list[2][i + 1]):\n",
    "                    graphs[class_index][cons_trans_list[2][i]][cons_trans_list[2][i + 1]]['weight'] += 1\n",
    "                else:\n",
    "                    graphs[class_index].add_edge(cons_trans_list[2][i], cons_trans_list[2][i + 1], weight=1)\n",
    "\n",
    "\n",
    "    \n",
    "    # make directory if doesn't exist\n",
    "    dirName = \"output/\"+ domain_name\n",
    "    if not os.path.exists(dirName):\n",
    "        os.makedirs(dirName)\n",
    "        print(\"Directory \", dirName, \" Created \")\n",
    "    else:\n",
    "        print(\"Directory \", dirName, \" already exists\")\n",
    "    empty_directory(dirName)\n",
    "     \n",
    "    # save all the graphs\n",
    "    adjacency_matrix_list = save(graphs, domain_name) # list of adjacency matrices per class\n",
    "    \n",
    "    # plot cytoscape interactive graphs\n",
    "    cytoscapeobs = plot_cytographs(graphs,domain_name, adjacency_matrix_list)\n",
    "    \n",
    "    return adjacency_matrix_list, graphs, cytoscapeobs"
   ]
  },
  {
   "cell_type": "markdown",
   "metadata": {},
   "source": [
    "##### Transition Graphs"
   ]
  },
  {
   "cell_type": "code",
   "execution_count": 76,
   "metadata": {
    "scrolled": false
   },
   "outputs": [
    {
     "data": {
      "text/markdown": [
       "## DRIVERLOG"
      ],
      "text/plain": [
       "<IPython.core.display.Markdown object>"
      ]
     },
     "metadata": {},
     "output_type": "display_data"
    },
    {
     "name": "stdout",
     "output_type": "stream",
     "text": [
      "Directory  output/driverlog  already exists\n"
     ]
    },
    {
     "data": {
      "text/markdown": [
       "## class **Driver**"
      ],
      "text/plain": [
       "<IPython.core.display.Markdown object>"
      ]
     },
     "metadata": {},
     "output_type": "display_data"
    },
    {
     "data": {
      "text/html": [
       "<table>\n",
       "<thead>\n",
       "<tr><th>                </th><th style=\"text-align: right;\">  walk.0</th><th style=\"text-align: right;\">  boardtruck.0</th><th style=\"text-align: right;\">  drivetruck.3</th><th style=\"text-align: right;\">  disembarktruck.0</th></tr>\n",
       "</thead>\n",
       "<tbody>\n",
       "<tr><td>walk.0          </td><td style=\"text-align: right;\">      10</td><td style=\"text-align: right;\">             4</td><td style=\"text-align: right;\">             0</td><td style=\"text-align: right;\">                 0</td></tr>\n",
       "<tr><td>boardtruck.0    </td><td style=\"text-align: right;\">       0</td><td style=\"text-align: right;\">             0</td><td style=\"text-align: right;\">            11</td><td style=\"text-align: right;\">                 2</td></tr>\n",
       "<tr><td>drivetruck.3    </td><td style=\"text-align: right;\">       0</td><td style=\"text-align: right;\">             0</td><td style=\"text-align: right;\">            20</td><td style=\"text-align: right;\">                11</td></tr>\n",
       "<tr><td>disembarktruck.0</td><td style=\"text-align: right;\">       2</td><td style=\"text-align: right;\">             6</td><td style=\"text-align: right;\">             0</td><td style=\"text-align: right;\">                 0</td></tr>\n",
       "</tbody>\n",
       "</table>"
      ],
      "text/plain": [
       "'<table>\\n<thead>\\n<tr><th>                </th><th style=\"text-align: right;\">  walk.0</th><th style=\"text-align: right;\">  boardtruck.0</th><th style=\"text-align: right;\">  drivetruck.3</th><th style=\"text-align: right;\">  disembarktruck.0</th></tr>\\n</thead>\\n<tbody>\\n<tr><td>walk.0          </td><td style=\"text-align: right;\">      10</td><td style=\"text-align: right;\">             4</td><td style=\"text-align: right;\">             0</td><td style=\"text-align: right;\">                 0</td></tr>\\n<tr><td>boardtruck.0    </td><td style=\"text-align: right;\">       0</td><td style=\"text-align: right;\">             0</td><td style=\"text-align: right;\">            11</td><td style=\"text-align: right;\">                 2</td></tr>\\n<tr><td>drivetruck.3    </td><td style=\"text-align: right;\">       0</td><td style=\"text-align: right;\">             0</td><td style=\"text-align: right;\">            20</td><td style=\"text-align: right;\">                11</td></tr>\\n<tr><td>disembarktruck.0</td><td style=\"text-align: right;\">       2</td><td style=\"text-align: right;\">             6</td><td style=\"text-align: right;\">             0</td><td style=\"text-align: right;\">                 0</td></tr>\\n</tbody>\\n</table>'"
      ]
     },
     "metadata": {},
     "output_type": "display_data"
    },
    {
     "data": {
      "application/vnd.jupyter.widget-view+json": {
       "model_id": "8a1f1c4c80214d22a7b885e49bfa8780",
       "version_major": 2,
       "version_minor": 0
      },
      "text/plain": [
       "CytoscapeWidget(cytoscape_layout={'name': 'cola'}, cytoscape_style=[{'width': 400, 'height': 400, 'selector': …"
      ]
     },
     "metadata": {},
     "output_type": "display_data"
    },
    {
     "data": {
      "text/markdown": [
       "## class **Truck**"
      ],
      "text/plain": [
       "<IPython.core.display.Markdown object>"
      ]
     },
     "metadata": {},
     "output_type": "display_data"
    },
    {
     "data": {
      "text/html": [
       "<table>\n",
       "<thead>\n",
       "<tr><th>             </th><th style=\"text-align: right;\">  loadtruck.0</th><th style=\"text-align: right;\">  unloadtruck.0</th></tr>\n",
       "</thead>\n",
       "<tbody>\n",
       "<tr><td>loadtruck.0  </td><td style=\"text-align: right;\">            0</td><td style=\"text-align: right;\">              9</td></tr>\n",
       "<tr><td>unloadtruck.0</td><td style=\"text-align: right;\">            2</td><td style=\"text-align: right;\">              0</td></tr>\n",
       "</tbody>\n",
       "</table>"
      ],
      "text/plain": [
       "'<table>\\n<thead>\\n<tr><th>             </th><th style=\"text-align: right;\">  loadtruck.0</th><th style=\"text-align: right;\">  unloadtruck.0</th></tr>\\n</thead>\\n<tbody>\\n<tr><td>loadtruck.0  </td><td style=\"text-align: right;\">            0</td><td style=\"text-align: right;\">              9</td></tr>\\n<tr><td>unloadtruck.0</td><td style=\"text-align: right;\">            2</td><td style=\"text-align: right;\">              0</td></tr>\\n</tbody>\\n</table>'"
      ]
     },
     "metadata": {},
     "output_type": "display_data"
    },
    {
     "data": {
      "application/vnd.jupyter.widget-view+json": {
       "model_id": "763df4c42bbb4564bcd4027ce6e2287a",
       "version_major": 2,
       "version_minor": 0
      },
      "text/plain": [
       "CytoscapeWidget(cytoscape_layout={'name': 'cola'}, cytoscape_style=[{'width': 400, 'height': 400, 'selector': …"
      ]
     },
     "metadata": {},
     "output_type": "display_data"
    },
    {
     "data": {
      "text/markdown": [
       "## class **Package**"
      ],
      "text/plain": [
       "<IPython.core.display.Markdown object>"
      ]
     },
     "metadata": {},
     "output_type": "display_data"
    },
    {
     "data": {
      "text/html": [
       "<table>\n",
       "<thead>\n",
       "<tr><th>                </th><th style=\"text-align: right;\">  boardtruck.1</th><th style=\"text-align: right;\">  drivetruck.0</th><th style=\"text-align: right;\">  disembarktruck.1</th><th style=\"text-align: right;\">  loadtruck.1</th><th style=\"text-align: right;\">  unloadtruck.1</th></tr>\n",
       "</thead>\n",
       "<tbody>\n",
       "<tr><td>boardtruck.1    </td><td style=\"text-align: right;\">             0</td><td style=\"text-align: right;\">             7</td><td style=\"text-align: right;\">                 1</td><td style=\"text-align: right;\">            5</td><td style=\"text-align: right;\">              1</td></tr>\n",
       "<tr><td>drivetruck.0    </td><td style=\"text-align: right;\">             0</td><td style=\"text-align: right;\">            10</td><td style=\"text-align: right;\">                 9</td><td style=\"text-align: right;\">            5</td><td style=\"text-align: right;\">              7</td></tr>\n",
       "<tr><td>disembarktruck.1</td><td style=\"text-align: right;\">             5</td><td style=\"text-align: right;\">             0</td><td style=\"text-align: right;\">                 0</td><td style=\"text-align: right;\">            1</td><td style=\"text-align: right;\">              1</td></tr>\n",
       "<tr><td>loadtruck.1     </td><td style=\"text-align: right;\">             1</td><td style=\"text-align: right;\">             8</td><td style=\"text-align: right;\">                 1</td><td style=\"text-align: right;\">            0</td><td style=\"text-align: right;\">              1</td></tr>\n",
       "<tr><td>unloadtruck.1   </td><td style=\"text-align: right;\">             1</td><td style=\"text-align: right;\">             6</td><td style=\"text-align: right;\">                 3</td><td style=\"text-align: right;\">            1</td><td style=\"text-align: right;\">              0</td></tr>\n",
       "</tbody>\n",
       "</table>"
      ],
      "text/plain": [
       "'<table>\\n<thead>\\n<tr><th>                </th><th style=\"text-align: right;\">  boardtruck.1</th><th style=\"text-align: right;\">  drivetruck.0</th><th style=\"text-align: right;\">  disembarktruck.1</th><th style=\"text-align: right;\">  loadtruck.1</th><th style=\"text-align: right;\">  unloadtruck.1</th></tr>\\n</thead>\\n<tbody>\\n<tr><td>boardtruck.1    </td><td style=\"text-align: right;\">             0</td><td style=\"text-align: right;\">             7</td><td style=\"text-align: right;\">                 1</td><td style=\"text-align: right;\">            5</td><td style=\"text-align: right;\">              1</td></tr>\\n<tr><td>drivetruck.0    </td><td style=\"text-align: right;\">             0</td><td style=\"text-align: right;\">            10</td><td style=\"text-align: right;\">                 9</td><td style=\"text-align: right;\">            5</td><td style=\"text-align: right;\">              7</td></tr>\\n<tr><td>disembarktruck.1</td><td style=\"text-align: right;\">             5</td><td style=\"text-align: right;\">             0</td><td style=\"text-align: right;\">                 0</td><td style=\"text-align: right;\">            1</td><td style=\"text-align: right;\">              1</td></tr>\\n<tr><td>loadtruck.1     </td><td style=\"text-align: right;\">             1</td><td style=\"text-align: right;\">             8</td><td style=\"text-align: right;\">                 1</td><td style=\"text-align: right;\">            0</td><td style=\"text-align: right;\">              1</td></tr>\\n<tr><td>unloadtruck.1   </td><td style=\"text-align: right;\">             1</td><td style=\"text-align: right;\">             6</td><td style=\"text-align: right;\">                 3</td><td style=\"text-align: right;\">            1</td><td style=\"text-align: right;\">              0</td></tr>\\n</tbody>\\n</table>'"
      ]
     },
     "metadata": {},
     "output_type": "display_data"
    },
    {
     "data": {
      "application/vnd.jupyter.widget-view+json": {
       "model_id": "41970608bc314d9f831a49a1fe1253e0",
       "version_major": 2,
       "version_minor": 0
      },
      "text/plain": [
       "CytoscapeWidget(cytoscape_layout={'name': 'cola'}, cytoscape_style=[{'width': 400, 'height': 400, 'selector': …"
      ]
     },
     "metadata": {},
     "output_type": "display_data"
    },
    {
     "data": {
      "text/markdown": [
       "## class **Location**"
      ],
      "text/plain": [
       "<IPython.core.display.Markdown object>"
      ]
     },
     "metadata": {},
     "output_type": "display_data"
    },
    {
     "data": {
      "text/html": [
       "<table>\n",
       "<thead>\n",
       "<tr><th>                </th><th style=\"text-align: right;\">  walk.2</th><th style=\"text-align: right;\">  walk.1</th><th style=\"text-align: right;\">  drivetruck.2</th><th style=\"text-align: right;\">  disembarktruck.2</th><th style=\"text-align: right;\">  unloadtruck.2</th><th style=\"text-align: right;\">  drivetruck.1</th><th style=\"text-align: right;\">  boardtruck.2</th><th style=\"text-align: right;\">  loadtruck.2</th></tr>\n",
       "</thead>\n",
       "<tbody>\n",
       "<tr><td>walk.2          </td><td style=\"text-align: right;\">       0</td><td style=\"text-align: right;\">      10</td><td style=\"text-align: right;\">             1</td><td style=\"text-align: right;\">                 0</td><td style=\"text-align: right;\">              0</td><td style=\"text-align: right;\">             0</td><td style=\"text-align: right;\">             4</td><td style=\"text-align: right;\">            0</td></tr>\n",
       "<tr><td>walk.1          </td><td style=\"text-align: right;\">       1</td><td style=\"text-align: right;\">       0</td><td style=\"text-align: right;\">             5</td><td style=\"text-align: right;\">                 0</td><td style=\"text-align: right;\">              0</td><td style=\"text-align: right;\">             0</td><td style=\"text-align: right;\">             0</td><td style=\"text-align: right;\">            0</td></tr>\n",
       "<tr><td>drivetruck.2    </td><td style=\"text-align: right;\">       0</td><td style=\"text-align: right;\">       0</td><td style=\"text-align: right;\">             0</td><td style=\"text-align: right;\">                 9</td><td style=\"text-align: right;\">              7</td><td style=\"text-align: right;\">            10</td><td style=\"text-align: right;\">             0</td><td style=\"text-align: right;\">            5</td></tr>\n",
       "<tr><td>disembarktruck.2</td><td style=\"text-align: right;\">       0</td><td style=\"text-align: right;\">       2</td><td style=\"text-align: right;\">             1</td><td style=\"text-align: right;\">                 0</td><td style=\"text-align: right;\">              1</td><td style=\"text-align: right;\">             0</td><td style=\"text-align: right;\">             4</td><td style=\"text-align: right;\">            1</td></tr>\n",
       "<tr><td>unloadtruck.2   </td><td style=\"text-align: right;\">       0</td><td style=\"text-align: right;\">       0</td><td style=\"text-align: right;\">             0</td><td style=\"text-align: right;\">                 3</td><td style=\"text-align: right;\">              0</td><td style=\"text-align: right;\">             6</td><td style=\"text-align: right;\">             1</td><td style=\"text-align: right;\">            1</td></tr>\n",
       "<tr><td>drivetruck.1    </td><td style=\"text-align: right;\">       2</td><td style=\"text-align: right;\">       0</td><td style=\"text-align: right;\">            20</td><td style=\"text-align: right;\">                 0</td><td style=\"text-align: right;\">              0</td><td style=\"text-align: right;\">             0</td><td style=\"text-align: right;\">             1</td><td style=\"text-align: right;\">            0</td></tr>\n",
       "<tr><td>boardtruck.2    </td><td style=\"text-align: right;\">       0</td><td style=\"text-align: right;\">       0</td><td style=\"text-align: right;\">             0</td><td style=\"text-align: right;\">                 1</td><td style=\"text-align: right;\">              1</td><td style=\"text-align: right;\">             7</td><td style=\"text-align: right;\">             0</td><td style=\"text-align: right;\">            5</td></tr>\n",
       "<tr><td>loadtruck.2     </td><td style=\"text-align: right;\">       0</td><td style=\"text-align: right;\">       0</td><td style=\"text-align: right;\">             0</td><td style=\"text-align: right;\">                 1</td><td style=\"text-align: right;\">              1</td><td style=\"text-align: right;\">             8</td><td style=\"text-align: right;\">             1</td><td style=\"text-align: right;\">            0</td></tr>\n",
       "</tbody>\n",
       "</table>"
      ],
      "text/plain": [
       "'<table>\\n<thead>\\n<tr><th>                </th><th style=\"text-align: right;\">  walk.2</th><th style=\"text-align: right;\">  walk.1</th><th style=\"text-align: right;\">  drivetruck.2</th><th style=\"text-align: right;\">  disembarktruck.2</th><th style=\"text-align: right;\">  unloadtruck.2</th><th style=\"text-align: right;\">  drivetruck.1</th><th style=\"text-align: right;\">  boardtruck.2</th><th style=\"text-align: right;\">  loadtruck.2</th></tr>\\n</thead>\\n<tbody>\\n<tr><td>walk.2          </td><td style=\"text-align: right;\">       0</td><td style=\"text-align: right;\">      10</td><td style=\"text-align: right;\">             1</td><td style=\"text-align: right;\">                 0</td><td style=\"text-align: right;\">              0</td><td style=\"text-align: right;\">             0</td><td style=\"text-align: right;\">             4</td><td style=\"text-align: right;\">            0</td></tr>\\n<tr><td>walk.1          </td><td style=\"text-align: right;\">       1</td><td style=\"text-align: right;\">       0</td><td style=\"text-align: right;\">             5</td><td style=\"text-align: right;\">                 0</td><td style=\"text-align: right;\">              0</td><td style=\"text-align: right;\">             0</td><td style=\"text-align: right;\">             0</td><td style=\"text-align: right;\">            0</td></tr>\\n<tr><td>drivetruck.2    </td><td style=\"text-align: right;\">       0</td><td style=\"text-align: right;\">       0</td><td style=\"text-align: right;\">             0</td><td style=\"text-align: right;\">                 9</td><td style=\"text-align: right;\">              7</td><td style=\"text-align: right;\">            10</td><td style=\"text-align: right;\">             0</td><td style=\"text-align: right;\">            5</td></tr>\\n<tr><td>disembarktruck.2</td><td style=\"text-align: right;\">       0</td><td style=\"text-align: right;\">       2</td><td style=\"text-align: right;\">             1</td><td style=\"text-align: right;\">                 0</td><td style=\"text-align: right;\">              1</td><td style=\"text-align: right;\">             0</td><td style=\"text-align: right;\">             4</td><td style=\"text-align: right;\">            1</td></tr>\\n<tr><td>unloadtruck.2   </td><td style=\"text-align: right;\">       0</td><td style=\"text-align: right;\">       0</td><td style=\"text-align: right;\">             0</td><td style=\"text-align: right;\">                 3</td><td style=\"text-align: right;\">              0</td><td style=\"text-align: right;\">             6</td><td style=\"text-align: right;\">             1</td><td style=\"text-align: right;\">            1</td></tr>\\n<tr><td>drivetruck.1    </td><td style=\"text-align: right;\">       2</td><td style=\"text-align: right;\">       0</td><td style=\"text-align: right;\">            20</td><td style=\"text-align: right;\">                 0</td><td style=\"text-align: right;\">              0</td><td style=\"text-align: right;\">             0</td><td style=\"text-align: right;\">             1</td><td style=\"text-align: right;\">            0</td></tr>\\n<tr><td>boardtruck.2    </td><td style=\"text-align: right;\">       0</td><td style=\"text-align: right;\">       0</td><td style=\"text-align: right;\">             0</td><td style=\"text-align: right;\">                 1</td><td style=\"text-align: right;\">              1</td><td style=\"text-align: right;\">             7</td><td style=\"text-align: right;\">             0</td><td style=\"text-align: right;\">            5</td></tr>\\n<tr><td>loadtruck.2     </td><td style=\"text-align: right;\">       0</td><td style=\"text-align: right;\">       0</td><td style=\"text-align: right;\">             0</td><td style=\"text-align: right;\">                 1</td><td style=\"text-align: right;\">              1</td><td style=\"text-align: right;\">             8</td><td style=\"text-align: right;\">             1</td><td style=\"text-align: right;\">            0</td></tr>\\n</tbody>\\n</table>'"
      ]
     },
     "metadata": {},
     "output_type": "display_data"
    },
    {
     "data": {
      "application/vnd.jupyter.widget-view+json": {
       "model_id": "b6a3642082f8438d9c3a92dbe6d82f67",
       "version_major": 2,
       "version_minor": 0
      },
      "text/plain": [
       "CytoscapeWidget(cytoscape_layout={'name': 'cola'}, cytoscape_style=[{'width': 400, 'height': 400, 'selector': …"
      ]
     },
     "metadata": {},
     "output_type": "display_data"
    }
   ],
   "source": [
    "#### Build weighted directed graphs for transitions.\n",
    "printmd(\"## \"+ domain_name.upper())\n",
    "adjacency_matrix_list, graphs, cytoscapeobjs = build_and_save_transition_graphs(classes, domain_name, class_names)"
   ]
  },
  {
   "cell_type": "markdown",
   "metadata": {},
   "source": [
    "## USER INPUT 2: Edit transition graphs\n",
    "For meaningful LOCM models, here one can edit the transition graphs to make them accurate. However, in the paper we don't do that in order to estimate what kind of models are learned automatically from natural language data."
   ]
  },
  {
   "cell_type": "markdown",
   "metadata": {},
   "source": [
    "Option 1. **You can add or delete nodes/edges in transition graphs by following methods like add_node, delete_edges shown in the following library.**\n",
    "https://github.com/QuantStack/ipycytoscape/blob/master/ipycytoscape/cytoscape.py\n",
    "\n",
    "Option 2. **Alternatively you can use the saved .graphml file. Open it up in Cytoscape, edit it within the GUI and load that graph into the graphs list.**"
   ]
  },
  {
   "cell_type": "markdown",
   "metadata": {},
   "source": [
    "## Step 2: Get Transition Sets from LOCM2\n",
    "\n",
    "**Algorithm**: LOCM2\n",
    "\n",
    "**Input** : \n",
    "- T_all = set of observed transitions for a sort/class\n",
    "- H : Set of holes - each hole is a set of two transitions.\n",
    "- P : Set of pairs <t1,t2> i.e. consecutive transitions.\n",
    "- E : Set of example sequences of actions.\n",
    "\n",
    "**Output**:\n",
    "- S : Set of transition sets.\n",
    "### Finding holes\n",
    "Holes are transitions that LOCM1 will assume to be true due to the flaw of overgeneralizing"
   ]
  },
  {
   "cell_type": "code",
   "execution_count": 77,
   "metadata": {},
   "outputs": [],
   "source": [
    "def get_adjacency_matrix_with_holes(adjacency_matrix_list):\n",
    "    adjacency_matrix_list_with_holes = []\n",
    "    for index,adjacency_matrix in enumerate(adjacency_matrix_list):\n",
    "        # print(\"\\n ROWS ===========\")\n",
    "        df = adjacency_matrix.copy()\n",
    "        df1 = adjacency_matrix.copy()\n",
    "\n",
    "        # for particular adjacency matrix's copy, loop over all pairs of rows\n",
    "        for i in range(df.shape[0] - 1):\n",
    "            for j in range(i+1, df.shape[0]):\n",
    "                idx1, idx2 = i, j\n",
    "                row1, row2 = df.iloc[idx1,:], df.iloc[idx2, :] #we have now all pairs of rows\n",
    "\n",
    "                common_values_flag = False #for each two rows we have a common_values_flag\n",
    "\n",
    "                # if there is a common value between two rows, turn common value flag to true\n",
    "                for col in range(row1.shape[0]):\n",
    "                    if row1.iloc[col] > 0 and row2.iloc[col] > 0:\n",
    "                        common_values_flag = True\n",
    "                        break\n",
    "\n",
    "                # now if two rows have common values, we need to check for holes.\n",
    "                if common_values_flag:\n",
    "                    for col in range(row1.shape[0]):\n",
    "                        if row1.iloc[col] > 0 and row2.iloc[col] == 0:\n",
    "                            df1.iloc[idx2,col] = 'hole'\n",
    "                        elif row1.iloc[col] == 0 and row2.iloc[col] > 0:\n",
    "                            df1.iloc[idx1, col] = 'hole'\n",
    "\n",
    "        adjacency_matrix_list_with_holes.append(df1)\n",
    "    return adjacency_matrix_list_with_holes"
   ]
  },
  {
   "cell_type": "code",
   "execution_count": 78,
   "metadata": {
    "lines_to_next_cell": 2,
    "scrolled": false
   },
   "outputs": [
    {
     "data": {
      "text/markdown": [
       "\n",
       "#### Driver"
      ],
      "text/plain": [
       "<IPython.core.display.Markdown object>"
      ]
     },
     "metadata": {},
     "output_type": "display_data"
    },
    {
     "data": {
      "text/html": [
       "<table>\n",
       "<thead>\n",
       "<tr><th>                </th><th style=\"text-align: right;\">  walk.0</th><th style=\"text-align: right;\">  boardtruck.0</th><th style=\"text-align: right;\">  drivetruck.3</th><th style=\"text-align: right;\">  disembarktruck.0</th></tr>\n",
       "</thead>\n",
       "<tbody>\n",
       "<tr><td>walk.0          </td><td style=\"text-align: right;\">      10</td><td style=\"text-align: right;\">             4</td><td style=\"text-align: right;\">             0</td><td style=\"text-align: right;\">                 0</td></tr>\n",
       "<tr><td>boardtruck.0    </td><td style=\"text-align: right;\">       0</td><td style=\"text-align: right;\">             0</td><td style=\"text-align: right;\">            11</td><td style=\"text-align: right;\">                 2</td></tr>\n",
       "<tr><td>drivetruck.3    </td><td style=\"text-align: right;\">       0</td><td style=\"text-align: right;\">             0</td><td style=\"text-align: right;\">            20</td><td style=\"text-align: right;\">                11</td></tr>\n",
       "<tr><td>disembarktruck.0</td><td style=\"text-align: right;\">       2</td><td style=\"text-align: right;\">             6</td><td style=\"text-align: right;\">             0</td><td style=\"text-align: right;\">                 0</td></tr>\n",
       "</tbody>\n",
       "</table>"
      ],
      "text/plain": [
       "'<table>\\n<thead>\\n<tr><th>                </th><th style=\"text-align: right;\">  walk.0</th><th style=\"text-align: right;\">  boardtruck.0</th><th style=\"text-align: right;\">  drivetruck.3</th><th style=\"text-align: right;\">  disembarktruck.0</th></tr>\\n</thead>\\n<tbody>\\n<tr><td>walk.0          </td><td style=\"text-align: right;\">      10</td><td style=\"text-align: right;\">             4</td><td style=\"text-align: right;\">             0</td><td style=\"text-align: right;\">                 0</td></tr>\\n<tr><td>boardtruck.0    </td><td style=\"text-align: right;\">       0</td><td style=\"text-align: right;\">             0</td><td style=\"text-align: right;\">            11</td><td style=\"text-align: right;\">                 2</td></tr>\\n<tr><td>drivetruck.3    </td><td style=\"text-align: right;\">       0</td><td style=\"text-align: right;\">             0</td><td style=\"text-align: right;\">            20</td><td style=\"text-align: right;\">                11</td></tr>\\n<tr><td>disembarktruck.0</td><td style=\"text-align: right;\">       2</td><td style=\"text-align: right;\">             6</td><td style=\"text-align: right;\">             0</td><td style=\"text-align: right;\">                 0</td></tr>\\n</tbody>\\n</table>'"
      ]
     },
     "metadata": {},
     "output_type": "display_data"
    },
    {
     "data": {
      "text/markdown": [
       "\n",
       "#### HOLES: Driver"
      ],
      "text/plain": [
       "<IPython.core.display.Markdown object>"
      ]
     },
     "metadata": {},
     "output_type": "display_data"
    },
    {
     "data": {
      "text/html": [
       "<table>\n",
       "<thead>\n",
       "<tr><th>                </th><th style=\"text-align: right;\">  walk.0</th><th style=\"text-align: right;\">  boardtruck.0</th><th style=\"text-align: right;\">  drivetruck.3</th><th style=\"text-align: right;\">  disembarktruck.0</th></tr>\n",
       "</thead>\n",
       "<tbody>\n",
       "<tr><td>walk.0          </td><td style=\"text-align: right;\">      10</td><td style=\"text-align: right;\">             4</td><td style=\"text-align: right;\">             0</td><td style=\"text-align: right;\">                 0</td></tr>\n",
       "<tr><td>boardtruck.0    </td><td style=\"text-align: right;\">       0</td><td style=\"text-align: right;\">             0</td><td style=\"text-align: right;\">            11</td><td style=\"text-align: right;\">                 2</td></tr>\n",
       "<tr><td>drivetruck.3    </td><td style=\"text-align: right;\">       0</td><td style=\"text-align: right;\">             0</td><td style=\"text-align: right;\">            20</td><td style=\"text-align: right;\">                11</td></tr>\n",
       "<tr><td>disembarktruck.0</td><td style=\"text-align: right;\">       2</td><td style=\"text-align: right;\">             6</td><td style=\"text-align: right;\">             0</td><td style=\"text-align: right;\">                 0</td></tr>\n",
       "</tbody>\n",
       "</table>"
      ],
      "text/plain": [
       "'<table>\\n<thead>\\n<tr><th>                </th><th style=\"text-align: right;\">  walk.0</th><th style=\"text-align: right;\">  boardtruck.0</th><th style=\"text-align: right;\">  drivetruck.3</th><th style=\"text-align: right;\">  disembarktruck.0</th></tr>\\n</thead>\\n<tbody>\\n<tr><td>walk.0          </td><td style=\"text-align: right;\">      10</td><td style=\"text-align: right;\">             4</td><td style=\"text-align: right;\">             0</td><td style=\"text-align: right;\">                 0</td></tr>\\n<tr><td>boardtruck.0    </td><td style=\"text-align: right;\">       0</td><td style=\"text-align: right;\">             0</td><td style=\"text-align: right;\">            11</td><td style=\"text-align: right;\">                 2</td></tr>\\n<tr><td>drivetruck.3    </td><td style=\"text-align: right;\">       0</td><td style=\"text-align: right;\">             0</td><td style=\"text-align: right;\">            20</td><td style=\"text-align: right;\">                11</td></tr>\\n<tr><td>disembarktruck.0</td><td style=\"text-align: right;\">       2</td><td style=\"text-align: right;\">             6</td><td style=\"text-align: right;\">             0</td><td style=\"text-align: right;\">                 0</td></tr>\\n</tbody>\\n</table>'"
      ]
     },
     "metadata": {},
     "output_type": "display_data"
    },
    {
     "data": {
      "text/markdown": [
       "\n",
       "#### Truck"
      ],
      "text/plain": [
       "<IPython.core.display.Markdown object>"
      ]
     },
     "metadata": {},
     "output_type": "display_data"
    },
    {
     "data": {
      "text/html": [
       "<table>\n",
       "<thead>\n",
       "<tr><th>             </th><th style=\"text-align: right;\">  loadtruck.0</th><th style=\"text-align: right;\">  unloadtruck.0</th></tr>\n",
       "</thead>\n",
       "<tbody>\n",
       "<tr><td>loadtruck.0  </td><td style=\"text-align: right;\">            0</td><td style=\"text-align: right;\">              9</td></tr>\n",
       "<tr><td>unloadtruck.0</td><td style=\"text-align: right;\">            2</td><td style=\"text-align: right;\">              0</td></tr>\n",
       "</tbody>\n",
       "</table>"
      ],
      "text/plain": [
       "'<table>\\n<thead>\\n<tr><th>             </th><th style=\"text-align: right;\">  loadtruck.0</th><th style=\"text-align: right;\">  unloadtruck.0</th></tr>\\n</thead>\\n<tbody>\\n<tr><td>loadtruck.0  </td><td style=\"text-align: right;\">            0</td><td style=\"text-align: right;\">              9</td></tr>\\n<tr><td>unloadtruck.0</td><td style=\"text-align: right;\">            2</td><td style=\"text-align: right;\">              0</td></tr>\\n</tbody>\\n</table>'"
      ]
     },
     "metadata": {},
     "output_type": "display_data"
    },
    {
     "data": {
      "text/markdown": [
       "\n",
       "#### HOLES: Truck"
      ],
      "text/plain": [
       "<IPython.core.display.Markdown object>"
      ]
     },
     "metadata": {},
     "output_type": "display_data"
    },
    {
     "data": {
      "text/html": [
       "<table>\n",
       "<thead>\n",
       "<tr><th>             </th><th style=\"text-align: right;\">  loadtruck.0</th><th style=\"text-align: right;\">  unloadtruck.0</th></tr>\n",
       "</thead>\n",
       "<tbody>\n",
       "<tr><td>loadtruck.0  </td><td style=\"text-align: right;\">            0</td><td style=\"text-align: right;\">              9</td></tr>\n",
       "<tr><td>unloadtruck.0</td><td style=\"text-align: right;\">            2</td><td style=\"text-align: right;\">              0</td></tr>\n",
       "</tbody>\n",
       "</table>"
      ],
      "text/plain": [
       "'<table>\\n<thead>\\n<tr><th>             </th><th style=\"text-align: right;\">  loadtruck.0</th><th style=\"text-align: right;\">  unloadtruck.0</th></tr>\\n</thead>\\n<tbody>\\n<tr><td>loadtruck.0  </td><td style=\"text-align: right;\">            0</td><td style=\"text-align: right;\">              9</td></tr>\\n<tr><td>unloadtruck.0</td><td style=\"text-align: right;\">            2</td><td style=\"text-align: right;\">              0</td></tr>\\n</tbody>\\n</table>'"
      ]
     },
     "metadata": {},
     "output_type": "display_data"
    },
    {
     "data": {
      "text/markdown": [
       "\n",
       "#### Package"
      ],
      "text/plain": [
       "<IPython.core.display.Markdown object>"
      ]
     },
     "metadata": {},
     "output_type": "display_data"
    },
    {
     "data": {
      "text/html": [
       "<table>\n",
       "<thead>\n",
       "<tr><th>                </th><th style=\"text-align: right;\">  boardtruck.1</th><th style=\"text-align: right;\">  drivetruck.0</th><th style=\"text-align: right;\">  disembarktruck.1</th><th style=\"text-align: right;\">  loadtruck.1</th><th style=\"text-align: right;\">  unloadtruck.1</th></tr>\n",
       "</thead>\n",
       "<tbody>\n",
       "<tr><td>boardtruck.1    </td><td style=\"text-align: right;\">             0</td><td style=\"text-align: right;\">             7</td><td style=\"text-align: right;\">                 1</td><td style=\"text-align: right;\">            5</td><td style=\"text-align: right;\">              1</td></tr>\n",
       "<tr><td>drivetruck.0    </td><td style=\"text-align: right;\">             0</td><td style=\"text-align: right;\">            10</td><td style=\"text-align: right;\">                 9</td><td style=\"text-align: right;\">            5</td><td style=\"text-align: right;\">              7</td></tr>\n",
       "<tr><td>disembarktruck.1</td><td style=\"text-align: right;\">             5</td><td style=\"text-align: right;\">             0</td><td style=\"text-align: right;\">                 0</td><td style=\"text-align: right;\">            1</td><td style=\"text-align: right;\">              1</td></tr>\n",
       "<tr><td>loadtruck.1     </td><td style=\"text-align: right;\">             1</td><td style=\"text-align: right;\">             8</td><td style=\"text-align: right;\">                 1</td><td style=\"text-align: right;\">            0</td><td style=\"text-align: right;\">              1</td></tr>\n",
       "<tr><td>unloadtruck.1   </td><td style=\"text-align: right;\">             1</td><td style=\"text-align: right;\">             6</td><td style=\"text-align: right;\">                 3</td><td style=\"text-align: right;\">            1</td><td style=\"text-align: right;\">              0</td></tr>\n",
       "</tbody>\n",
       "</table>"
      ],
      "text/plain": [
       "'<table>\\n<thead>\\n<tr><th>                </th><th style=\"text-align: right;\">  boardtruck.1</th><th style=\"text-align: right;\">  drivetruck.0</th><th style=\"text-align: right;\">  disembarktruck.1</th><th style=\"text-align: right;\">  loadtruck.1</th><th style=\"text-align: right;\">  unloadtruck.1</th></tr>\\n</thead>\\n<tbody>\\n<tr><td>boardtruck.1    </td><td style=\"text-align: right;\">             0</td><td style=\"text-align: right;\">             7</td><td style=\"text-align: right;\">                 1</td><td style=\"text-align: right;\">            5</td><td style=\"text-align: right;\">              1</td></tr>\\n<tr><td>drivetruck.0    </td><td style=\"text-align: right;\">             0</td><td style=\"text-align: right;\">            10</td><td style=\"text-align: right;\">                 9</td><td style=\"text-align: right;\">            5</td><td style=\"text-align: right;\">              7</td></tr>\\n<tr><td>disembarktruck.1</td><td style=\"text-align: right;\">             5</td><td style=\"text-align: right;\">             0</td><td style=\"text-align: right;\">                 0</td><td style=\"text-align: right;\">            1</td><td style=\"text-align: right;\">              1</td></tr>\\n<tr><td>loadtruck.1     </td><td style=\"text-align: right;\">             1</td><td style=\"text-align: right;\">             8</td><td style=\"text-align: right;\">                 1</td><td style=\"text-align: right;\">            0</td><td style=\"text-align: right;\">              1</td></tr>\\n<tr><td>unloadtruck.1   </td><td style=\"text-align: right;\">             1</td><td style=\"text-align: right;\">             6</td><td style=\"text-align: right;\">                 3</td><td style=\"text-align: right;\">            1</td><td style=\"text-align: right;\">              0</td></tr>\\n</tbody>\\n</table>'"
      ]
     },
     "metadata": {},
     "output_type": "display_data"
    },
    {
     "data": {
      "text/markdown": [
       "\n",
       "#### HOLES: Package"
      ],
      "text/plain": [
       "<IPython.core.display.Markdown object>"
      ]
     },
     "metadata": {},
     "output_type": "display_data"
    },
    {
     "data": {
      "text/html": [
       "<table>\n",
       "<thead>\n",
       "<tr><th>                </th><th>boardtruck.1  </th><th>drivetruck.0  </th><th>disembarktruck.1  </th><th>loadtruck.1  </th><th>unloadtruck.1  </th></tr>\n",
       "</thead>\n",
       "<tbody>\n",
       "<tr><td>boardtruck.1    </td><td>hole          </td><td>7             </td><td>1                 </td><td>5            </td><td>1              </td></tr>\n",
       "<tr><td>drivetruck.0    </td><td>hole          </td><td>10            </td><td>9                 </td><td>5            </td><td>7              </td></tr>\n",
       "<tr><td>disembarktruck.1</td><td>5             </td><td>hole          </td><td>hole              </td><td>1            </td><td>1              </td></tr>\n",
       "<tr><td>loadtruck.1     </td><td>1             </td><td>8             </td><td>1                 </td><td>hole         </td><td>1              </td></tr>\n",
       "<tr><td>unloadtruck.1   </td><td>1             </td><td>6             </td><td>3                 </td><td>1            </td><td>hole           </td></tr>\n",
       "</tbody>\n",
       "</table>"
      ],
      "text/plain": [
       "'<table>\\n<thead>\\n<tr><th>                </th><th>boardtruck.1  </th><th>drivetruck.0  </th><th>disembarktruck.1  </th><th>loadtruck.1  </th><th>unloadtruck.1  </th></tr>\\n</thead>\\n<tbody>\\n<tr><td>boardtruck.1    </td><td>hole          </td><td>7             </td><td>1                 </td><td>5            </td><td>1              </td></tr>\\n<tr><td>drivetruck.0    </td><td>hole          </td><td>10            </td><td>9                 </td><td>5            </td><td>7              </td></tr>\\n<tr><td>disembarktruck.1</td><td>5             </td><td>hole          </td><td>hole              </td><td>1            </td><td>1              </td></tr>\\n<tr><td>loadtruck.1     </td><td>1             </td><td>8             </td><td>1                 </td><td>hole         </td><td>1              </td></tr>\\n<tr><td>unloadtruck.1   </td><td>1             </td><td>6             </td><td>3                 </td><td>1            </td><td>hole           </td></tr>\\n</tbody>\\n</table>'"
      ]
     },
     "metadata": {},
     "output_type": "display_data"
    },
    {
     "data": {
      "text/markdown": [
       "\n",
       "#### Location"
      ],
      "text/plain": [
       "<IPython.core.display.Markdown object>"
      ]
     },
     "metadata": {},
     "output_type": "display_data"
    },
    {
     "data": {
      "text/html": [
       "<table>\n",
       "<thead>\n",
       "<tr><th>                </th><th style=\"text-align: right;\">  walk.2</th><th style=\"text-align: right;\">  walk.1</th><th style=\"text-align: right;\">  drivetruck.2</th><th style=\"text-align: right;\">  disembarktruck.2</th><th style=\"text-align: right;\">  unloadtruck.2</th><th style=\"text-align: right;\">  drivetruck.1</th><th style=\"text-align: right;\">  boardtruck.2</th><th style=\"text-align: right;\">  loadtruck.2</th></tr>\n",
       "</thead>\n",
       "<tbody>\n",
       "<tr><td>walk.2          </td><td style=\"text-align: right;\">       0</td><td style=\"text-align: right;\">      10</td><td style=\"text-align: right;\">             1</td><td style=\"text-align: right;\">                 0</td><td style=\"text-align: right;\">              0</td><td style=\"text-align: right;\">             0</td><td style=\"text-align: right;\">             4</td><td style=\"text-align: right;\">            0</td></tr>\n",
       "<tr><td>walk.1          </td><td style=\"text-align: right;\">       1</td><td style=\"text-align: right;\">       0</td><td style=\"text-align: right;\">             5</td><td style=\"text-align: right;\">                 0</td><td style=\"text-align: right;\">              0</td><td style=\"text-align: right;\">             0</td><td style=\"text-align: right;\">             0</td><td style=\"text-align: right;\">            0</td></tr>\n",
       "<tr><td>drivetruck.2    </td><td style=\"text-align: right;\">       0</td><td style=\"text-align: right;\">       0</td><td style=\"text-align: right;\">             0</td><td style=\"text-align: right;\">                 9</td><td style=\"text-align: right;\">              7</td><td style=\"text-align: right;\">            10</td><td style=\"text-align: right;\">             0</td><td style=\"text-align: right;\">            5</td></tr>\n",
       "<tr><td>disembarktruck.2</td><td style=\"text-align: right;\">       0</td><td style=\"text-align: right;\">       2</td><td style=\"text-align: right;\">             1</td><td style=\"text-align: right;\">                 0</td><td style=\"text-align: right;\">              1</td><td style=\"text-align: right;\">             0</td><td style=\"text-align: right;\">             4</td><td style=\"text-align: right;\">            1</td></tr>\n",
       "<tr><td>unloadtruck.2   </td><td style=\"text-align: right;\">       0</td><td style=\"text-align: right;\">       0</td><td style=\"text-align: right;\">             0</td><td style=\"text-align: right;\">                 3</td><td style=\"text-align: right;\">              0</td><td style=\"text-align: right;\">             6</td><td style=\"text-align: right;\">             1</td><td style=\"text-align: right;\">            1</td></tr>\n",
       "<tr><td>drivetruck.1    </td><td style=\"text-align: right;\">       2</td><td style=\"text-align: right;\">       0</td><td style=\"text-align: right;\">            20</td><td style=\"text-align: right;\">                 0</td><td style=\"text-align: right;\">              0</td><td style=\"text-align: right;\">             0</td><td style=\"text-align: right;\">             1</td><td style=\"text-align: right;\">            0</td></tr>\n",
       "<tr><td>boardtruck.2    </td><td style=\"text-align: right;\">       0</td><td style=\"text-align: right;\">       0</td><td style=\"text-align: right;\">             0</td><td style=\"text-align: right;\">                 1</td><td style=\"text-align: right;\">              1</td><td style=\"text-align: right;\">             7</td><td style=\"text-align: right;\">             0</td><td style=\"text-align: right;\">            5</td></tr>\n",
       "<tr><td>loadtruck.2     </td><td style=\"text-align: right;\">       0</td><td style=\"text-align: right;\">       0</td><td style=\"text-align: right;\">             0</td><td style=\"text-align: right;\">                 1</td><td style=\"text-align: right;\">              1</td><td style=\"text-align: right;\">             8</td><td style=\"text-align: right;\">             1</td><td style=\"text-align: right;\">            0</td></tr>\n",
       "</tbody>\n",
       "</table>"
      ],
      "text/plain": [
       "'<table>\\n<thead>\\n<tr><th>                </th><th style=\"text-align: right;\">  walk.2</th><th style=\"text-align: right;\">  walk.1</th><th style=\"text-align: right;\">  drivetruck.2</th><th style=\"text-align: right;\">  disembarktruck.2</th><th style=\"text-align: right;\">  unloadtruck.2</th><th style=\"text-align: right;\">  drivetruck.1</th><th style=\"text-align: right;\">  boardtruck.2</th><th style=\"text-align: right;\">  loadtruck.2</th></tr>\\n</thead>\\n<tbody>\\n<tr><td>walk.2          </td><td style=\"text-align: right;\">       0</td><td style=\"text-align: right;\">      10</td><td style=\"text-align: right;\">             1</td><td style=\"text-align: right;\">                 0</td><td style=\"text-align: right;\">              0</td><td style=\"text-align: right;\">             0</td><td style=\"text-align: right;\">             4</td><td style=\"text-align: right;\">            0</td></tr>\\n<tr><td>walk.1          </td><td style=\"text-align: right;\">       1</td><td style=\"text-align: right;\">       0</td><td style=\"text-align: right;\">             5</td><td style=\"text-align: right;\">                 0</td><td style=\"text-align: right;\">              0</td><td style=\"text-align: right;\">             0</td><td style=\"text-align: right;\">             0</td><td style=\"text-align: right;\">            0</td></tr>\\n<tr><td>drivetruck.2    </td><td style=\"text-align: right;\">       0</td><td style=\"text-align: right;\">       0</td><td style=\"text-align: right;\">             0</td><td style=\"text-align: right;\">                 9</td><td style=\"text-align: right;\">              7</td><td style=\"text-align: right;\">            10</td><td style=\"text-align: right;\">             0</td><td style=\"text-align: right;\">            5</td></tr>\\n<tr><td>disembarktruck.2</td><td style=\"text-align: right;\">       0</td><td style=\"text-align: right;\">       2</td><td style=\"text-align: right;\">             1</td><td style=\"text-align: right;\">                 0</td><td style=\"text-align: right;\">              1</td><td style=\"text-align: right;\">             0</td><td style=\"text-align: right;\">             4</td><td style=\"text-align: right;\">            1</td></tr>\\n<tr><td>unloadtruck.2   </td><td style=\"text-align: right;\">       0</td><td style=\"text-align: right;\">       0</td><td style=\"text-align: right;\">             0</td><td style=\"text-align: right;\">                 3</td><td style=\"text-align: right;\">              0</td><td style=\"text-align: right;\">             6</td><td style=\"text-align: right;\">             1</td><td style=\"text-align: right;\">            1</td></tr>\\n<tr><td>drivetruck.1    </td><td style=\"text-align: right;\">       2</td><td style=\"text-align: right;\">       0</td><td style=\"text-align: right;\">            20</td><td style=\"text-align: right;\">                 0</td><td style=\"text-align: right;\">              0</td><td style=\"text-align: right;\">             0</td><td style=\"text-align: right;\">             1</td><td style=\"text-align: right;\">            0</td></tr>\\n<tr><td>boardtruck.2    </td><td style=\"text-align: right;\">       0</td><td style=\"text-align: right;\">       0</td><td style=\"text-align: right;\">             0</td><td style=\"text-align: right;\">                 1</td><td style=\"text-align: right;\">              1</td><td style=\"text-align: right;\">             7</td><td style=\"text-align: right;\">             0</td><td style=\"text-align: right;\">            5</td></tr>\\n<tr><td>loadtruck.2     </td><td style=\"text-align: right;\">       0</td><td style=\"text-align: right;\">       0</td><td style=\"text-align: right;\">             0</td><td style=\"text-align: right;\">                 1</td><td style=\"text-align: right;\">              1</td><td style=\"text-align: right;\">             8</td><td style=\"text-align: right;\">             1</td><td style=\"text-align: right;\">            0</td></tr>\\n</tbody>\\n</table>'"
      ]
     },
     "metadata": {},
     "output_type": "display_data"
    },
    {
     "data": {
      "text/markdown": [
       "\n",
       "#### HOLES: Location"
      ],
      "text/plain": [
       "<IPython.core.display.Markdown object>"
      ]
     },
     "metadata": {},
     "output_type": "display_data"
    },
    {
     "data": {
      "text/html": [
       "<table>\n",
       "<thead>\n",
       "<tr><th>                </th><th>walk.2  </th><th>walk.1  </th><th>drivetruck.2  </th><th>disembarktruck.2  </th><th>unloadtruck.2  </th><th>drivetruck.1  </th><th>boardtruck.2  </th><th>loadtruck.2  </th></tr>\n",
       "</thead>\n",
       "<tbody>\n",
       "<tr><td>walk.2          </td><td>hole    </td><td>10      </td><td>1             </td><td>hole              </td><td>hole           </td><td>hole          </td><td>4             </td><td>hole         </td></tr>\n",
       "<tr><td>walk.1          </td><td>1       </td><td>hole    </td><td>5             </td><td>0                 </td><td>hole           </td><td>0             </td><td>hole          </td><td>hole         </td></tr>\n",
       "<tr><td>drivetruck.2    </td><td>0       </td><td>hole    </td><td>hole          </td><td>9                 </td><td>7              </td><td>10            </td><td>hole          </td><td>5            </td></tr>\n",
       "<tr><td>disembarktruck.2</td><td>hole    </td><td>2       </td><td>1             </td><td>hole              </td><td>1              </td><td>hole          </td><td>4             </td><td>1            </td></tr>\n",
       "<tr><td>unloadtruck.2   </td><td>hole    </td><td>hole    </td><td>hole          </td><td>3                 </td><td>hole           </td><td>6             </td><td>1             </td><td>1            </td></tr>\n",
       "<tr><td>drivetruck.1    </td><td>2       </td><td>hole    </td><td>20            </td><td>hole              </td><td>hole           </td><td>hole          </td><td>1             </td><td>hole         </td></tr>\n",
       "<tr><td>boardtruck.2    </td><td>0       </td><td>hole    </td><td>hole          </td><td>1                 </td><td>1              </td><td>7             </td><td>hole          </td><td>5            </td></tr>\n",
       "<tr><td>loadtruck.2     </td><td>hole    </td><td>hole    </td><td>hole          </td><td>1                 </td><td>1              </td><td>8             </td><td>1             </td><td>hole         </td></tr>\n",
       "</tbody>\n",
       "</table>"
      ],
      "text/plain": [
       "'<table>\\n<thead>\\n<tr><th>                </th><th>walk.2  </th><th>walk.1  </th><th>drivetruck.2  </th><th>disembarktruck.2  </th><th>unloadtruck.2  </th><th>drivetruck.1  </th><th>boardtruck.2  </th><th>loadtruck.2  </th></tr>\\n</thead>\\n<tbody>\\n<tr><td>walk.2          </td><td>hole    </td><td>10      </td><td>1             </td><td>hole              </td><td>hole           </td><td>hole          </td><td>4             </td><td>hole         </td></tr>\\n<tr><td>walk.1          </td><td>1       </td><td>hole    </td><td>5             </td><td>0                 </td><td>hole           </td><td>0             </td><td>hole          </td><td>hole         </td></tr>\\n<tr><td>drivetruck.2    </td><td>0       </td><td>hole    </td><td>hole          </td><td>9                 </td><td>7              </td><td>10            </td><td>hole          </td><td>5            </td></tr>\\n<tr><td>disembarktruck.2</td><td>hole    </td><td>2       </td><td>1             </td><td>hole              </td><td>1              </td><td>hole          </td><td>4             </td><td>1            </td></tr>\\n<tr><td>unloadtruck.2   </td><td>hole    </td><td>hole    </td><td>hole          </td><td>3                 </td><td>hole           </td><td>6             </td><td>1             </td><td>1            </td></tr>\\n<tr><td>drivetruck.1    </td><td>2       </td><td>hole    </td><td>20            </td><td>hole              </td><td>hole           </td><td>hole          </td><td>1             </td><td>hole         </td></tr>\\n<tr><td>boardtruck.2    </td><td>0       </td><td>hole    </td><td>hole          </td><td>1                 </td><td>1              </td><td>7             </td><td>hole          </td><td>5            </td></tr>\\n<tr><td>loadtruck.2     </td><td>hole    </td><td>hole    </td><td>hole          </td><td>1                 </td><td>1              </td><td>8             </td><td>1             </td><td>hole         </td></tr>\\n</tbody>\\n</table>'"
      ]
     },
     "metadata": {},
     "output_type": "display_data"
    }
   ],
   "source": [
    "adjacency_matrix_list_with_holes = get_adjacency_matrix_with_holes(adjacency_matrix_list)\n",
    "\n",
    "# Printing FSM matrices with and without holes\n",
    "for index,adjacency_matrix in enumerate(adjacency_matrix_list):\n",
    "    printmd(\"\\n#### \" + class_names[index] )\n",
    "    print_table(adjacency_matrix)\n",
    "\n",
    "    printmd(\"\\n#### HOLES: \" + class_names[index])\n",
    "    print_table(adjacency_matrix_list_with_holes[index])"
   ]
  },
  {
   "cell_type": "code",
   "execution_count": 79,
   "metadata": {},
   "outputs": [
    {
     "name": "stdout",
     "output_type": "stream",
     "text": [
      "#holes in class Driver:0\n",
      "#holes in class Truck:0\n",
      "#holes in class Package:6\n",
      "#holes in class Location:23\n"
     ]
    }
   ],
   "source": [
    "# Create list of set of holes per class (H)\n",
    "holes_per_class = []\n",
    "\n",
    "for index,df in enumerate(adjacency_matrix_list_with_holes):\n",
    "    holes = set()\n",
    "    for i in range(df.shape[0]):\n",
    "        for j in range(df.shape[1]):\n",
    "            if df.iloc[i,j] == 'hole':\n",
    "                holes.add(frozenset({df.index[i] , df.columns[j]}))\n",
    "    holes_per_class.append(holes)\n",
    "for i, hole in enumerate(holes_per_class):\n",
    "    print(\"#holes in class \" + class_names[i]+\":\" + str(len(hole)))\n",
    "#     for h in hole:\n",
    "#         print(list(h))"
   ]
  },
  {
   "cell_type": "markdown",
   "metadata": {},
   "source": [
    "#### T_all - Set of observed transitions for a class."
   ]
  },
  {
   "cell_type": "code",
   "execution_count": 80,
   "metadata": {},
   "outputs": [],
   "source": [
    "# List of transitions per class (T_all). It is just a set of transitions that occur for a class.\n",
    "transitions_per_class = []\n",
    "for index, df in enumerate(adjacency_matrix_list_with_holes):\n",
    "    transitions_per_class.append(df.columns.values)\n",
    "# for i, transition in enumerate(transitions_per_class):\n",
    "#     print('{}:{}'.format(class_names[i], transition))"
   ]
  },
  {
   "cell_type": "markdown",
   "metadata": {},
   "source": [
    "#### P - set of pairs <t1,t2> (consecutive transitions)"
   ]
  },
  {
   "cell_type": "code",
   "execution_count": 81,
   "metadata": {},
   "outputs": [],
   "source": [
    "def get_consecutive_transitions_per_class(adjacency_matrix_list_with_holes):\n",
    "    consecutive_transitions_per_class = []\n",
    "    for index, df in enumerate(adjacency_matrix_list_with_holes):\n",
    "        consecutive_transitions = set()  # for a class\n",
    "        for i in range(df.shape[0]):\n",
    "            for j in range(df.shape[1]):\n",
    "                if df.iloc[i, j] != 'hole':\n",
    "                    if df.iloc[i, j] > 0:\n",
    "#                         print(\"(\" + df.index[i] + \",\" + df.columns[j] + \")\")\n",
    "                        consecutive_transitions.add((df.index[i], df.columns[j]))\n",
    "        consecutive_transitions_per_class.append(consecutive_transitions)\n",
    "    return consecutive_transitions_per_class"
   ]
  },
  {
   "cell_type": "code",
   "execution_count": 82,
   "metadata": {},
   "outputs": [],
   "source": [
    "#  Create list of consecutive transitions per class (P). If value is not null, ordered pair i,j would be consecutive transitions per class\n",
    "consecutive_transitions_per_class = get_consecutive_transitions_per_class(adjacency_matrix_list_with_holes)\n",
    "# printmd(\"###  Consecutive transitions per class\")\n",
    "# for i, transition in enumerate(consecutive_transitions_per_class):\n",
    "#     printmd(\"#### \"+class_names[i]+\":\")\n",
    "#     for x in list(transition):\n",
    "#         print(x)\n",
    "# #     print('{}:{}'.format(class_names[i], transition))\n",
    "#     print()"
   ]
  },
  {
   "cell_type": "markdown",
   "metadata": {},
   "source": [
    "### Check Well Formed"
   ]
  },
  {
   "cell_type": "code",
   "execution_count": 83,
   "metadata": {},
   "outputs": [],
   "source": [
    "def check_well_formed(subset_df):\n",
    "    # got the adjacency matrix subset\n",
    "    df = subset_df.copy()\n",
    "    well_formed_flag = True\n",
    "    \n",
    "    \n",
    "    if (df == 0).all(axis=None): # all elements are zero\n",
    "        well_formed_flag = False\n",
    "        \n",
    "    # for particular adjacency matrix's copy, loop over all pairs of rows\n",
    "    for i in range(0, df.shape[0]-1):\n",
    "        for j in range(i + 1, df.shape[0]):\n",
    "            print(i,j)\n",
    "            idx1, idx2 = i, j\n",
    "            row1, row2 = df.iloc[idx1, :], df.iloc[idx2, :]  # we have now all pairs of rows\n",
    "\n",
    "            common_values_flag = False  # for each two rows we have a common_values_flag\n",
    "\n",
    "            # if there is a common value between two rows, turn common value flag to true\n",
    "            for col in range(row1.shape[0]):\n",
    "                if row1.iloc[col] > 0 and row2.iloc[col] > 0:\n",
    "                    common_values_flag = True\n",
    "                    break\n",
    "          \n",
    "            if common_values_flag:\n",
    "                for col in range(row1.shape[0]): # check for holes if common value\n",
    "                    if row1.iloc[col] > 0 and row2.iloc[col] == 0:\n",
    "                        well_formed_flag = False\n",
    "                    elif row1.iloc[col] == 0 and row2.iloc[col] > 0:\n",
    "                        well_formed_flag = False\n",
    "    \n",
    "    if not well_formed_flag:\n",
    "        return False\n",
    "    elif well_formed_flag:\n",
    "        return True\n",
    "     \n",
    "                    \n",
    "    "
   ]
  },
  {
   "cell_type": "markdown",
   "metadata": {},
   "source": [
    "### Check Valid Transitions"
   ]
  },
  {
   "cell_type": "code",
   "execution_count": 84,
   "metadata": {},
   "outputs": [],
   "source": [
    "def check_valid(subset_df,consecutive_transitions_per_class):\n",
    "    \n",
    "    # Note: Essentially we check validity against P instead of E. \n",
    "    # In the paper of LOCM2, it isn't mentioned how to check against E.\n",
    "    \n",
    "    # Reasoning: If we check against all consecutive transitions per class, \n",
    "    # we essentially check against all example sequences.\n",
    "    # check the candidate set which is well-formed (subset df against all consecutive transitions)\n",
    "\n",
    "    # got the adjacency matrix subset\n",
    "    df = subset_df.copy()\n",
    "\n",
    "    # for particular adjacency matrix's copy, loop over all pairs of rows\n",
    "    for i in range(df.shape[0]):\n",
    "        for j in range(df.shape[0]):\n",
    "            if df.iloc[i,j] > 0:\n",
    "                valid_val_flag = False\n",
    "                ordered_pair = (df.index[i], df.columns[j])\n",
    "                for ct_list in consecutive_transitions_per_class:\n",
    "                    for ct in ct_list:\n",
    "                        if ordered_pair == ct:\n",
    "                            valid_val_flag=True\n",
    "                # if after all iteration ordered pair is not found, mark the subset as invalid.\n",
    "                if not valid_val_flag:\n",
    "                    return False\n",
    "                \n",
    "    # return True if all ordered pairs found.\n",
    "    return True"
   ]
  },
  {
   "cell_type": "markdown",
   "metadata": {},
   "source": [
    "### LOCM2 transition sets"
   ]
  },
  {
   "cell_type": "code",
   "execution_count": 85,
   "metadata": {
    "scrolled": false
   },
   "outputs": [
    {
     "data": {
      "text/markdown": [
       "### Getting transitions sets for each class using LOCM2"
      ],
      "text/plain": [
       "<IPython.core.display.Markdown object>"
      ]
     },
     "metadata": {},
     "output_type": "display_data"
    },
    {
     "data": {
      "text/markdown": [
       "### Driver"
      ],
      "text/plain": [
       "<IPython.core.display.Markdown object>"
      ]
     },
     "metadata": {},
     "output_type": "display_data"
    },
    {
     "name": "stdout",
     "output_type": "stream",
     "text": [
      "no holes\n",
      "[]\n",
      "\n",
      "Removed redundancy transition set list\n",
      "[]\n"
     ]
    },
    {
     "data": {
      "text/markdown": [
       "#### Final transition set list"
      ],
      "text/plain": [
       "<IPython.core.display.Markdown object>"
      ]
     },
     "metadata": {},
     "output_type": "display_data"
    },
    {
     "name": "stdout",
     "output_type": "stream",
     "text": [
      "[{'drivetruck.3', 'disembarktruck.0', 'boardtruck.0', 'walk.0'}]\n"
     ]
    },
    {
     "data": {
      "text/markdown": [
       "### Truck"
      ],
      "text/plain": [
       "<IPython.core.display.Markdown object>"
      ]
     },
     "metadata": {},
     "output_type": "display_data"
    },
    {
     "name": "stdout",
     "output_type": "stream",
     "text": [
      "no holes\n",
      "[]\n",
      "\n",
      "Removed redundancy transition set list\n",
      "[]\n"
     ]
    },
    {
     "data": {
      "text/markdown": [
       "#### Final transition set list"
      ],
      "text/plain": [
       "<IPython.core.display.Markdown object>"
      ]
     },
     "metadata": {},
     "output_type": "display_data"
    },
    {
     "name": "stdout",
     "output_type": "stream",
     "text": [
      "[{'loadtruck.0', 'unloadtruck.0'}]\n"
     ]
    },
    {
     "data": {
      "text/markdown": [
       "### Package"
      ],
      "text/plain": [
       "<IPython.core.display.Markdown object>"
      ]
     },
     "metadata": {},
     "output_type": "display_data"
    },
    {
     "name": "stdout",
     "output_type": "stream",
     "text": [
      "6 holes\n"
     ]
    },
    {
     "data": {
      "text/markdown": [
       "#### Hole 1: {'drivetruck.0', 'disembarktruck.1'}"
      ],
      "text/plain": [
       "<IPython.core.display.Markdown object>"
      ]
     },
     "metadata": {},
     "output_type": "display_data"
    },
    {
     "data": {
      "text/markdown": [
       "Checking candidate set *{'loadtruck.1', 'drivetruck.0', 'disembarktruck.1'}* of class **Package** for well formedness and Validity"
      ],
      "text/plain": [
       "<IPython.core.display.Markdown object>"
      ]
     },
     "metadata": {},
     "output_type": "display_data"
    },
    {
     "data": {
      "text/html": [
       "<table>\n",
       "<thead>\n",
       "<tr><th>                </th><th style=\"text-align: right;\">  loadtruck.1</th><th style=\"text-align: right;\">  drivetruck.0</th><th style=\"text-align: right;\">  disembarktruck.1</th></tr>\n",
       "</thead>\n",
       "<tbody>\n",
       "<tr><td>loadtruck.1     </td><td style=\"text-align: right;\">            0</td><td style=\"text-align: right;\">             8</td><td style=\"text-align: right;\">                 1</td></tr>\n",
       "<tr><td>drivetruck.0    </td><td style=\"text-align: right;\">            5</td><td style=\"text-align: right;\">            10</td><td style=\"text-align: right;\">                 9</td></tr>\n",
       "<tr><td>disembarktruck.1</td><td style=\"text-align: right;\">            1</td><td style=\"text-align: right;\">             0</td><td style=\"text-align: right;\">                 0</td></tr>\n",
       "</tbody>\n",
       "</table>"
      ],
      "text/plain": [
       "'<table>\\n<thead>\\n<tr><th>                </th><th style=\"text-align: right;\">  loadtruck.1</th><th style=\"text-align: right;\">  drivetruck.0</th><th style=\"text-align: right;\">  disembarktruck.1</th></tr>\\n</thead>\\n<tbody>\\n<tr><td>loadtruck.1     </td><td style=\"text-align: right;\">            0</td><td style=\"text-align: right;\">             8</td><td style=\"text-align: right;\">                 1</td></tr>\\n<tr><td>drivetruck.0    </td><td style=\"text-align: right;\">            5</td><td style=\"text-align: right;\">            10</td><td style=\"text-align: right;\">                 9</td></tr>\\n<tr><td>disembarktruck.1</td><td style=\"text-align: right;\">            1</td><td style=\"text-align: right;\">             0</td><td style=\"text-align: right;\">                 0</td></tr>\\n</tbody>\\n</table>'"
      ]
     },
     "metadata": {},
     "output_type": "display_data"
    },
    {
     "name": "stdout",
     "output_type": "stream",
     "text": [
      "0 1\n",
      "0 2\n",
      "1 2\n",
      "This subset is NOT well-formed\n"
     ]
    },
    {
     "data": {
      "text/markdown": [
       "Checking candidate set *{'drivetruck.0', 'disembarktruck.1', 'unloadtruck.1'}* of class **Package** for well formedness and Validity"
      ],
      "text/plain": [
       "<IPython.core.display.Markdown object>"
      ]
     },
     "metadata": {},
     "output_type": "display_data"
    },
    {
     "data": {
      "text/html": [
       "<table>\n",
       "<thead>\n",
       "<tr><th>                </th><th style=\"text-align: right;\">  drivetruck.0</th><th style=\"text-align: right;\">  disembarktruck.1</th><th style=\"text-align: right;\">  unloadtruck.1</th></tr>\n",
       "</thead>\n",
       "<tbody>\n",
       "<tr><td>drivetruck.0    </td><td style=\"text-align: right;\">            10</td><td style=\"text-align: right;\">                 9</td><td style=\"text-align: right;\">              7</td></tr>\n",
       "<tr><td>disembarktruck.1</td><td style=\"text-align: right;\">             0</td><td style=\"text-align: right;\">                 0</td><td style=\"text-align: right;\">              1</td></tr>\n",
       "<tr><td>unloadtruck.1   </td><td style=\"text-align: right;\">             6</td><td style=\"text-align: right;\">                 3</td><td style=\"text-align: right;\">              0</td></tr>\n",
       "</tbody>\n",
       "</table>"
      ],
      "text/plain": [
       "'<table>\\n<thead>\\n<tr><th>                </th><th style=\"text-align: right;\">  drivetruck.0</th><th style=\"text-align: right;\">  disembarktruck.1</th><th style=\"text-align: right;\">  unloadtruck.1</th></tr>\\n</thead>\\n<tbody>\\n<tr><td>drivetruck.0    </td><td style=\"text-align: right;\">            10</td><td style=\"text-align: right;\">                 9</td><td style=\"text-align: right;\">              7</td></tr>\\n<tr><td>disembarktruck.1</td><td style=\"text-align: right;\">             0</td><td style=\"text-align: right;\">                 0</td><td style=\"text-align: right;\">              1</td></tr>\\n<tr><td>unloadtruck.1   </td><td style=\"text-align: right;\">             6</td><td style=\"text-align: right;\">                 3</td><td style=\"text-align: right;\">              0</td></tr>\\n</tbody>\\n</table>'"
      ]
     },
     "metadata": {},
     "output_type": "display_data"
    },
    {
     "name": "stdout",
     "output_type": "stream",
     "text": [
      "0 1\n",
      "0 2\n",
      "1 2\n",
      "This subset is NOT well-formed\n"
     ]
    },
    {
     "data": {
      "text/markdown": [
       "Checking candidate set *{'drivetruck.0', 'disembarktruck.1', 'boardtruck.1'}* of class **Package** for well formedness and Validity"
      ],
      "text/plain": [
       "<IPython.core.display.Markdown object>"
      ]
     },
     "metadata": {},
     "output_type": "display_data"
    },
    {
     "data": {
      "text/html": [
       "<table>\n",
       "<thead>\n",
       "<tr><th>                </th><th style=\"text-align: right;\">  drivetruck.0</th><th style=\"text-align: right;\">  disembarktruck.1</th><th style=\"text-align: right;\">  boardtruck.1</th></tr>\n",
       "</thead>\n",
       "<tbody>\n",
       "<tr><td>drivetruck.0    </td><td style=\"text-align: right;\">            10</td><td style=\"text-align: right;\">                 9</td><td style=\"text-align: right;\">             0</td></tr>\n",
       "<tr><td>disembarktruck.1</td><td style=\"text-align: right;\">             0</td><td style=\"text-align: right;\">                 0</td><td style=\"text-align: right;\">             5</td></tr>\n",
       "<tr><td>boardtruck.1    </td><td style=\"text-align: right;\">             7</td><td style=\"text-align: right;\">                 1</td><td style=\"text-align: right;\">             0</td></tr>\n",
       "</tbody>\n",
       "</table>"
      ],
      "text/plain": [
       "'<table>\\n<thead>\\n<tr><th>                </th><th style=\"text-align: right;\">  drivetruck.0</th><th style=\"text-align: right;\">  disembarktruck.1</th><th style=\"text-align: right;\">  boardtruck.1</th></tr>\\n</thead>\\n<tbody>\\n<tr><td>drivetruck.0    </td><td style=\"text-align: right;\">            10</td><td style=\"text-align: right;\">                 9</td><td style=\"text-align: right;\">             0</td></tr>\\n<tr><td>disembarktruck.1</td><td style=\"text-align: right;\">             0</td><td style=\"text-align: right;\">                 0</td><td style=\"text-align: right;\">             5</td></tr>\\n<tr><td>boardtruck.1    </td><td style=\"text-align: right;\">             7</td><td style=\"text-align: right;\">                 1</td><td style=\"text-align: right;\">             0</td></tr>\\n</tbody>\\n</table>'"
      ]
     },
     "metadata": {},
     "output_type": "display_data"
    },
    {
     "name": "stdout",
     "output_type": "stream",
     "text": [
      "0 1\n",
      "0 2\n",
      "1 2\n",
      "This subset is well-formed.\n",
      "This subset is valid.\n",
      "Adding this subset {'drivetruck.0', 'disembarktruck.1', 'boardtruck.1'} to the locm2 transition set.\n",
      "Hole that is covered now:\n",
      "['drivetruck.0', 'disembarktruck.1']\n"
     ]
    },
    {
     "data": {
      "text/markdown": [
       "#### Hole 2: {'boardtruck.1'}"
      ],
      "text/plain": [
       "<IPython.core.display.Markdown object>"
      ]
     },
     "metadata": {},
     "output_type": "display_data"
    },
    {
     "data": {
      "text/markdown": [
       "Hole {'boardtruck.1'} is already covered."
      ],
      "text/plain": [
       "<IPython.core.display.Markdown object>"
      ]
     },
     "metadata": {},
     "output_type": "display_data"
    },
    {
     "data": {
      "text/markdown": [
       "#### Hole 3: {'unloadtruck.1'}"
      ],
      "text/plain": [
       "<IPython.core.display.Markdown object>"
      ]
     },
     "metadata": {},
     "output_type": "display_data"
    },
    {
     "data": {
      "text/markdown": [
       "Checking candidate set *{'drivetruck.0', 'unloadtruck.1'}* of class **Package** for well formedness and Validity"
      ],
      "text/plain": [
       "<IPython.core.display.Markdown object>"
      ]
     },
     "metadata": {},
     "output_type": "display_data"
    },
    {
     "data": {
      "text/html": [
       "<table>\n",
       "<thead>\n",
       "<tr><th>             </th><th style=\"text-align: right;\">  drivetruck.0</th><th style=\"text-align: right;\">  unloadtruck.1</th></tr>\n",
       "</thead>\n",
       "<tbody>\n",
       "<tr><td>drivetruck.0 </td><td style=\"text-align: right;\">            10</td><td style=\"text-align: right;\">              7</td></tr>\n",
       "<tr><td>unloadtruck.1</td><td style=\"text-align: right;\">             6</td><td style=\"text-align: right;\">              0</td></tr>\n",
       "</tbody>\n",
       "</table>"
      ],
      "text/plain": [
       "'<table>\\n<thead>\\n<tr><th>             </th><th style=\"text-align: right;\">  drivetruck.0</th><th style=\"text-align: right;\">  unloadtruck.1</th></tr>\\n</thead>\\n<tbody>\\n<tr><td>drivetruck.0 </td><td style=\"text-align: right;\">            10</td><td style=\"text-align: right;\">              7</td></tr>\\n<tr><td>unloadtruck.1</td><td style=\"text-align: right;\">             6</td><td style=\"text-align: right;\">              0</td></tr>\\n</tbody>\\n</table>'"
      ]
     },
     "metadata": {},
     "output_type": "display_data"
    },
    {
     "name": "stdout",
     "output_type": "stream",
     "text": [
      "0 1\n",
      "This subset is NOT well-formed\n"
     ]
    },
    {
     "data": {
      "text/markdown": [
       "Checking candidate set *{'disembarktruck.1', 'unloadtruck.1'}* of class **Package** for well formedness and Validity"
      ],
      "text/plain": [
       "<IPython.core.display.Markdown object>"
      ]
     },
     "metadata": {},
     "output_type": "display_data"
    },
    {
     "data": {
      "text/html": [
       "<table>\n",
       "<thead>\n",
       "<tr><th>                </th><th style=\"text-align: right;\">  disembarktruck.1</th><th style=\"text-align: right;\">  unloadtruck.1</th></tr>\n",
       "</thead>\n",
       "<tbody>\n",
       "<tr><td>disembarktruck.1</td><td style=\"text-align: right;\">                 0</td><td style=\"text-align: right;\">              1</td></tr>\n",
       "<tr><td>unloadtruck.1   </td><td style=\"text-align: right;\">                 3</td><td style=\"text-align: right;\">              0</td></tr>\n",
       "</tbody>\n",
       "</table>"
      ],
      "text/plain": [
       "'<table>\\n<thead>\\n<tr><th>                </th><th style=\"text-align: right;\">  disembarktruck.1</th><th style=\"text-align: right;\">  unloadtruck.1</th></tr>\\n</thead>\\n<tbody>\\n<tr><td>disembarktruck.1</td><td style=\"text-align: right;\">                 0</td><td style=\"text-align: right;\">              1</td></tr>\\n<tr><td>unloadtruck.1   </td><td style=\"text-align: right;\">                 3</td><td style=\"text-align: right;\">              0</td></tr>\\n</tbody>\\n</table>'"
      ]
     },
     "metadata": {},
     "output_type": "display_data"
    },
    {
     "name": "stdout",
     "output_type": "stream",
     "text": [
      "0 1\n",
      "This subset is well-formed.\n",
      "This subset is valid.\n",
      "Adding this subset {'disembarktruck.1', 'unloadtruck.1'} to the locm2 transition set.\n",
      "Hole that is covered now:\n",
      "['unloadtruck.1']\n"
     ]
    },
    {
     "data": {
      "text/markdown": [
       "#### Hole 4: {'disembarktruck.1'}"
      ],
      "text/plain": [
       "<IPython.core.display.Markdown object>"
      ]
     },
     "metadata": {},
     "output_type": "display_data"
    },
    {
     "data": {
      "text/markdown": [
       "Hole {'disembarktruck.1'} is already covered."
      ],
      "text/plain": [
       "<IPython.core.display.Markdown object>"
      ]
     },
     "metadata": {},
     "output_type": "display_data"
    },
    {
     "data": {
      "text/markdown": [
       "#### Hole 5: {'drivetruck.0', 'boardtruck.1'}"
      ],
      "text/plain": [
       "<IPython.core.display.Markdown object>"
      ]
     },
     "metadata": {},
     "output_type": "display_data"
    },
    {
     "data": {
      "text/markdown": [
       "Hole {'drivetruck.0', 'boardtruck.1'} is already covered."
      ],
      "text/plain": [
       "<IPython.core.display.Markdown object>"
      ]
     },
     "metadata": {},
     "output_type": "display_data"
    },
    {
     "data": {
      "text/markdown": [
       "#### Hole 6: {'loadtruck.1'}"
      ],
      "text/plain": [
       "<IPython.core.display.Markdown object>"
      ]
     },
     "metadata": {},
     "output_type": "display_data"
    },
    {
     "data": {
      "text/markdown": [
       "Checking candidate set *{'loadtruck.1', 'boardtruck.1'}* of class **Package** for well formedness and Validity"
      ],
      "text/plain": [
       "<IPython.core.display.Markdown object>"
      ]
     },
     "metadata": {},
     "output_type": "display_data"
    },
    {
     "data": {
      "text/html": [
       "<table>\n",
       "<thead>\n",
       "<tr><th>            </th><th style=\"text-align: right;\">  loadtruck.1</th><th style=\"text-align: right;\">  boardtruck.1</th></tr>\n",
       "</thead>\n",
       "<tbody>\n",
       "<tr><td>loadtruck.1 </td><td style=\"text-align: right;\">            0</td><td style=\"text-align: right;\">             1</td></tr>\n",
       "<tr><td>boardtruck.1</td><td style=\"text-align: right;\">            5</td><td style=\"text-align: right;\">             0</td></tr>\n",
       "</tbody>\n",
       "</table>"
      ],
      "text/plain": [
       "'<table>\\n<thead>\\n<tr><th>            </th><th style=\"text-align: right;\">  loadtruck.1</th><th style=\"text-align: right;\">  boardtruck.1</th></tr>\\n</thead>\\n<tbody>\\n<tr><td>loadtruck.1 </td><td style=\"text-align: right;\">            0</td><td style=\"text-align: right;\">             1</td></tr>\\n<tr><td>boardtruck.1</td><td style=\"text-align: right;\">            5</td><td style=\"text-align: right;\">             0</td></tr>\\n</tbody>\\n</table>'"
      ]
     },
     "metadata": {},
     "output_type": "display_data"
    },
    {
     "name": "stdout",
     "output_type": "stream",
     "text": [
      "0 1\n",
      "This subset is well-formed.\n",
      "This subset is valid.\n",
      "Adding this subset {'loadtruck.1', 'boardtruck.1'} to the locm2 transition set.\n",
      "Hole that is covered now:\n",
      "['loadtruck.1']\n",
      "[{'drivetruck.0', 'disembarktruck.1', 'boardtruck.1'}, {'disembarktruck.1', 'unloadtruck.1'}, {'loadtruck.1', 'boardtruck.1'}]\n",
      "\n",
      "Removed redundancy transition set list\n",
      "[{'drivetruck.0', 'disembarktruck.1', 'boardtruck.1'}, {'disembarktruck.1', 'unloadtruck.1'}, {'loadtruck.1', 'boardtruck.1'}]\n"
     ]
    },
    {
     "data": {
      "text/markdown": [
       "#### Final transition set list"
      ],
      "text/plain": [
       "<IPython.core.display.Markdown object>"
      ]
     },
     "metadata": {},
     "output_type": "display_data"
    },
    {
     "name": "stdout",
     "output_type": "stream",
     "text": [
      "[{'drivetruck.0', 'disembarktruck.1', 'boardtruck.1'}, {'disembarktruck.1', 'unloadtruck.1'}, {'loadtruck.1', 'boardtruck.1'}, {'boardtruck.1', 'disembarktruck.1', 'unloadtruck.1', 'loadtruck.1', 'drivetruck.0'}]\n"
     ]
    },
    {
     "data": {
      "text/markdown": [
       "### Location"
      ],
      "text/plain": [
       "<IPython.core.display.Markdown object>"
      ]
     },
     "metadata": {},
     "output_type": "display_data"
    },
    {
     "name": "stdout",
     "output_type": "stream",
     "text": [
      "23 holes\n"
     ]
    },
    {
     "data": {
      "text/markdown": [
       "#### Hole 1: {'walk.2', 'unloadtruck.2'}"
      ],
      "text/plain": [
       "<IPython.core.display.Markdown object>"
      ]
     },
     "metadata": {},
     "output_type": "display_data"
    },
    {
     "data": {
      "text/markdown": [
       "Checking candidate set *{'unloadtruck.2', 'walk.2', 'disembarktruck.2'}* of class **Location** for well formedness and Validity"
      ],
      "text/plain": [
       "<IPython.core.display.Markdown object>"
      ]
     },
     "metadata": {},
     "output_type": "display_data"
    },
    {
     "data": {
      "text/html": [
       "<table>\n",
       "<thead>\n",
       "<tr><th>                </th><th style=\"text-align: right;\">  unloadtruck.2</th><th style=\"text-align: right;\">  walk.2</th><th style=\"text-align: right;\">  disembarktruck.2</th></tr>\n",
       "</thead>\n",
       "<tbody>\n",
       "<tr><td>unloadtruck.2   </td><td style=\"text-align: right;\">              0</td><td style=\"text-align: right;\">       0</td><td style=\"text-align: right;\">                 3</td></tr>\n",
       "<tr><td>walk.2          </td><td style=\"text-align: right;\">              0</td><td style=\"text-align: right;\">       0</td><td style=\"text-align: right;\">                 0</td></tr>\n",
       "<tr><td>disembarktruck.2</td><td style=\"text-align: right;\">              1</td><td style=\"text-align: right;\">       0</td><td style=\"text-align: right;\">                 0</td></tr>\n",
       "</tbody>\n",
       "</table>"
      ],
      "text/plain": [
       "'<table>\\n<thead>\\n<tr><th>                </th><th style=\"text-align: right;\">  unloadtruck.2</th><th style=\"text-align: right;\">  walk.2</th><th style=\"text-align: right;\">  disembarktruck.2</th></tr>\\n</thead>\\n<tbody>\\n<tr><td>unloadtruck.2   </td><td style=\"text-align: right;\">              0</td><td style=\"text-align: right;\">       0</td><td style=\"text-align: right;\">                 3</td></tr>\\n<tr><td>walk.2          </td><td style=\"text-align: right;\">              0</td><td style=\"text-align: right;\">       0</td><td style=\"text-align: right;\">                 0</td></tr>\\n<tr><td>disembarktruck.2</td><td style=\"text-align: right;\">              1</td><td style=\"text-align: right;\">       0</td><td style=\"text-align: right;\">                 0</td></tr>\\n</tbody>\\n</table>'"
      ]
     },
     "metadata": {},
     "output_type": "display_data"
    },
    {
     "name": "stdout",
     "output_type": "stream",
     "text": [
      "0 1\n",
      "0 2\n",
      "1 2\n",
      "This subset is well-formed.\n",
      "This subset is valid.\n",
      "Adding this subset {'unloadtruck.2', 'walk.2', 'disembarktruck.2'} to the locm2 transition set.\n",
      "Hole that is covered now:\n",
      "['walk.2', 'unloadtruck.2']\n"
     ]
    },
    {
     "data": {
      "text/markdown": [
       "#### Hole 2: {'drivetruck.1', 'disembarktruck.2'}"
      ],
      "text/plain": [
       "<IPython.core.display.Markdown object>"
      ]
     },
     "metadata": {},
     "output_type": "display_data"
    },
    {
     "data": {
      "text/markdown": [
       "Checking candidate set *{'drivetruck.1', 'walk.2', 'disembarktruck.2'}* of class **Location** for well formedness and Validity"
      ],
      "text/plain": [
       "<IPython.core.display.Markdown object>"
      ]
     },
     "metadata": {},
     "output_type": "display_data"
    },
    {
     "data": {
      "text/html": [
       "<table>\n",
       "<thead>\n",
       "<tr><th>                </th><th style=\"text-align: right;\">  drivetruck.1</th><th style=\"text-align: right;\">  walk.2</th><th style=\"text-align: right;\">  disembarktruck.2</th></tr>\n",
       "</thead>\n",
       "<tbody>\n",
       "<tr><td>drivetruck.1    </td><td style=\"text-align: right;\">             0</td><td style=\"text-align: right;\">       2</td><td style=\"text-align: right;\">                 0</td></tr>\n",
       "<tr><td>walk.2          </td><td style=\"text-align: right;\">             0</td><td style=\"text-align: right;\">       0</td><td style=\"text-align: right;\">                 0</td></tr>\n",
       "<tr><td>disembarktruck.2</td><td style=\"text-align: right;\">             0</td><td style=\"text-align: right;\">       0</td><td style=\"text-align: right;\">                 0</td></tr>\n",
       "</tbody>\n",
       "</table>"
      ],
      "text/plain": [
       "'<table>\\n<thead>\\n<tr><th>                </th><th style=\"text-align: right;\">  drivetruck.1</th><th style=\"text-align: right;\">  walk.2</th><th style=\"text-align: right;\">  disembarktruck.2</th></tr>\\n</thead>\\n<tbody>\\n<tr><td>drivetruck.1    </td><td style=\"text-align: right;\">             0</td><td style=\"text-align: right;\">       2</td><td style=\"text-align: right;\">                 0</td></tr>\\n<tr><td>walk.2          </td><td style=\"text-align: right;\">             0</td><td style=\"text-align: right;\">       0</td><td style=\"text-align: right;\">                 0</td></tr>\\n<tr><td>disembarktruck.2</td><td style=\"text-align: right;\">             0</td><td style=\"text-align: right;\">       0</td><td style=\"text-align: right;\">                 0</td></tr>\\n</tbody>\\n</table>'"
      ]
     },
     "metadata": {},
     "output_type": "display_data"
    },
    {
     "name": "stdout",
     "output_type": "stream",
     "text": [
      "0 1\n",
      "0 2\n",
      "1 2\n",
      "This subset is well-formed.\n",
      "This subset is valid.\n",
      "Adding this subset {'drivetruck.1', 'walk.2', 'disembarktruck.2'} to the locm2 transition set.\n",
      "Hole that is covered now:\n",
      "['drivetruck.1', 'disembarktruck.2']\n"
     ]
    },
    {
     "data": {
      "text/markdown": [
       "#### Hole 3: {'boardtruck.2', 'drivetruck.2'}"
      ],
      "text/plain": [
       "<IPython.core.display.Markdown object>"
      ]
     },
     "metadata": {},
     "output_type": "display_data"
    },
    {
     "data": {
      "text/markdown": [
       "Checking candidate set *{'loadtruck.2', 'boardtruck.2', 'drivetruck.2'}* of class **Location** for well formedness and Validity"
      ],
      "text/plain": [
       "<IPython.core.display.Markdown object>"
      ]
     },
     "metadata": {},
     "output_type": "display_data"
    },
    {
     "data": {
      "text/html": [
       "<table>\n",
       "<thead>\n",
       "<tr><th>            </th><th style=\"text-align: right;\">  loadtruck.2</th><th style=\"text-align: right;\">  boardtruck.2</th><th style=\"text-align: right;\">  drivetruck.2</th></tr>\n",
       "</thead>\n",
       "<tbody>\n",
       "<tr><td>loadtruck.2 </td><td style=\"text-align: right;\">            0</td><td style=\"text-align: right;\">             1</td><td style=\"text-align: right;\">             0</td></tr>\n",
       "<tr><td>boardtruck.2</td><td style=\"text-align: right;\">            5</td><td style=\"text-align: right;\">             0</td><td style=\"text-align: right;\">             0</td></tr>\n",
       "<tr><td>drivetruck.2</td><td style=\"text-align: right;\">            5</td><td style=\"text-align: right;\">             0</td><td style=\"text-align: right;\">             0</td></tr>\n",
       "</tbody>\n",
       "</table>"
      ],
      "text/plain": [
       "'<table>\\n<thead>\\n<tr><th>            </th><th style=\"text-align: right;\">  loadtruck.2</th><th style=\"text-align: right;\">  boardtruck.2</th><th style=\"text-align: right;\">  drivetruck.2</th></tr>\\n</thead>\\n<tbody>\\n<tr><td>loadtruck.2 </td><td style=\"text-align: right;\">            0</td><td style=\"text-align: right;\">             1</td><td style=\"text-align: right;\">             0</td></tr>\\n<tr><td>boardtruck.2</td><td style=\"text-align: right;\">            5</td><td style=\"text-align: right;\">             0</td><td style=\"text-align: right;\">             0</td></tr>\\n<tr><td>drivetruck.2</td><td style=\"text-align: right;\">            5</td><td style=\"text-align: right;\">             0</td><td style=\"text-align: right;\">             0</td></tr>\\n</tbody>\\n</table>'"
      ]
     },
     "metadata": {},
     "output_type": "display_data"
    },
    {
     "name": "stdout",
     "output_type": "stream",
     "text": [
      "0 1\n",
      "0 2\n",
      "1 2\n",
      "This subset is well-formed.\n",
      "This subset is valid.\n",
      "Adding this subset {'loadtruck.2', 'boardtruck.2', 'drivetruck.2'} to the locm2 transition set.\n",
      "Hole that is covered now:\n",
      "['boardtruck.2', 'drivetruck.2']\n"
     ]
    },
    {
     "data": {
      "text/markdown": [
       "#### Hole 4: {'boardtruck.2'}"
      ],
      "text/plain": [
       "<IPython.core.display.Markdown object>"
      ]
     },
     "metadata": {},
     "output_type": "display_data"
    },
    {
     "data": {
      "text/markdown": [
       "Hole {'boardtruck.2'} is already covered."
      ],
      "text/plain": [
       "<IPython.core.display.Markdown object>"
      ]
     },
     "metadata": {},
     "output_type": "display_data"
    },
    {
     "data": {
      "text/markdown": [
       "#### Hole 5: {'loadtruck.2', 'drivetruck.1'}"
      ],
      "text/plain": [
       "<IPython.core.display.Markdown object>"
      ]
     },
     "metadata": {},
     "output_type": "display_data"
    },
    {
     "data": {
      "text/markdown": [
       "Checking candidate set *{'loadtruck.2', 'drivetruck.1', 'drivetruck.2'}* of class **Location** for well formedness and Validity"
      ],
      "text/plain": [
       "<IPython.core.display.Markdown object>"
      ]
     },
     "metadata": {},
     "output_type": "display_data"
    },
    {
     "data": {
      "text/html": [
       "<table>\n",
       "<thead>\n",
       "<tr><th>            </th><th style=\"text-align: right;\">  loadtruck.2</th><th style=\"text-align: right;\">  drivetruck.1</th><th style=\"text-align: right;\">  drivetruck.2</th></tr>\n",
       "</thead>\n",
       "<tbody>\n",
       "<tr><td>loadtruck.2 </td><td style=\"text-align: right;\">            0</td><td style=\"text-align: right;\">             8</td><td style=\"text-align: right;\">             0</td></tr>\n",
       "<tr><td>drivetruck.1</td><td style=\"text-align: right;\">            0</td><td style=\"text-align: right;\">             0</td><td style=\"text-align: right;\">            20</td></tr>\n",
       "<tr><td>drivetruck.2</td><td style=\"text-align: right;\">            5</td><td style=\"text-align: right;\">            10</td><td style=\"text-align: right;\">             0</td></tr>\n",
       "</tbody>\n",
       "</table>"
      ],
      "text/plain": [
       "'<table>\\n<thead>\\n<tr><th>            </th><th style=\"text-align: right;\">  loadtruck.2</th><th style=\"text-align: right;\">  drivetruck.1</th><th style=\"text-align: right;\">  drivetruck.2</th></tr>\\n</thead>\\n<tbody>\\n<tr><td>loadtruck.2 </td><td style=\"text-align: right;\">            0</td><td style=\"text-align: right;\">             8</td><td style=\"text-align: right;\">             0</td></tr>\\n<tr><td>drivetruck.1</td><td style=\"text-align: right;\">            0</td><td style=\"text-align: right;\">             0</td><td style=\"text-align: right;\">            20</td></tr>\\n<tr><td>drivetruck.2</td><td style=\"text-align: right;\">            5</td><td style=\"text-align: right;\">            10</td><td style=\"text-align: right;\">             0</td></tr>\\n</tbody>\\n</table>'"
      ]
     },
     "metadata": {},
     "output_type": "display_data"
    },
    {
     "name": "stdout",
     "output_type": "stream",
     "text": [
      "0 1\n",
      "0 2\n",
      "1 2\n",
      "This subset is NOT well-formed\n"
     ]
    },
    {
     "data": {
      "text/markdown": [
       "Checking candidate set *{'loadtruck.2', 'drivetruck.1', 'disembarktruck.2'}* of class **Location** for well formedness and Validity"
      ],
      "text/plain": [
       "<IPython.core.display.Markdown object>"
      ]
     },
     "metadata": {},
     "output_type": "display_data"
    },
    {
     "data": {
      "text/html": [
       "<table>\n",
       "<thead>\n",
       "<tr><th>                </th><th style=\"text-align: right;\">  loadtruck.2</th><th style=\"text-align: right;\">  drivetruck.1</th><th style=\"text-align: right;\">  disembarktruck.2</th></tr>\n",
       "</thead>\n",
       "<tbody>\n",
       "<tr><td>loadtruck.2     </td><td style=\"text-align: right;\">            0</td><td style=\"text-align: right;\">             8</td><td style=\"text-align: right;\">                 1</td></tr>\n",
       "<tr><td>drivetruck.1    </td><td style=\"text-align: right;\">            0</td><td style=\"text-align: right;\">             0</td><td style=\"text-align: right;\">                 0</td></tr>\n",
       "<tr><td>disembarktruck.2</td><td style=\"text-align: right;\">            1</td><td style=\"text-align: right;\">             0</td><td style=\"text-align: right;\">                 0</td></tr>\n",
       "</tbody>\n",
       "</table>"
      ],
      "text/plain": [
       "'<table>\\n<thead>\\n<tr><th>                </th><th style=\"text-align: right;\">  loadtruck.2</th><th style=\"text-align: right;\">  drivetruck.1</th><th style=\"text-align: right;\">  disembarktruck.2</th></tr>\\n</thead>\\n<tbody>\\n<tr><td>loadtruck.2     </td><td style=\"text-align: right;\">            0</td><td style=\"text-align: right;\">             8</td><td style=\"text-align: right;\">                 1</td></tr>\\n<tr><td>drivetruck.1    </td><td style=\"text-align: right;\">            0</td><td style=\"text-align: right;\">             0</td><td style=\"text-align: right;\">                 0</td></tr>\\n<tr><td>disembarktruck.2</td><td style=\"text-align: right;\">            1</td><td style=\"text-align: right;\">             0</td><td style=\"text-align: right;\">                 0</td></tr>\\n</tbody>\\n</table>'"
      ]
     },
     "metadata": {},
     "output_type": "display_data"
    },
    {
     "name": "stdout",
     "output_type": "stream",
     "text": [
      "0 1\n",
      "0 2\n",
      "1 2\n",
      "This subset is well-formed.\n",
      "This subset is valid.\n",
      "Adding this subset {'loadtruck.2', 'drivetruck.1', 'disembarktruck.2'} to the locm2 transition set.\n",
      "Hole that is covered now:\n",
      "['loadtruck.2', 'drivetruck.1']\n"
     ]
    },
    {
     "data": {
      "text/markdown": [
       "#### Hole 6: {'walk.1'}"
      ],
      "text/plain": [
       "<IPython.core.display.Markdown object>"
      ]
     },
     "metadata": {},
     "output_type": "display_data"
    },
    {
     "data": {
      "text/markdown": [
       "Checking candidate set *{'walk.1', 'loadtruck.2'}* of class **Location** for well formedness and Validity"
      ],
      "text/plain": [
       "<IPython.core.display.Markdown object>"
      ]
     },
     "metadata": {},
     "output_type": "display_data"
    },
    {
     "data": {
      "text/html": [
       "<table>\n",
       "<thead>\n",
       "<tr><th>           </th><th style=\"text-align: right;\">  walk.1</th><th style=\"text-align: right;\">  loadtruck.2</th></tr>\n",
       "</thead>\n",
       "<tbody>\n",
       "<tr><td>walk.1     </td><td style=\"text-align: right;\">       0</td><td style=\"text-align: right;\">            0</td></tr>\n",
       "<tr><td>loadtruck.2</td><td style=\"text-align: right;\">       0</td><td style=\"text-align: right;\">            0</td></tr>\n",
       "</tbody>\n",
       "</table>"
      ],
      "text/plain": [
       "'<table>\\n<thead>\\n<tr><th>           </th><th style=\"text-align: right;\">  walk.1</th><th style=\"text-align: right;\">  loadtruck.2</th></tr>\\n</thead>\\n<tbody>\\n<tr><td>walk.1     </td><td style=\"text-align: right;\">       0</td><td style=\"text-align: right;\">            0</td></tr>\\n<tr><td>loadtruck.2</td><td style=\"text-align: right;\">       0</td><td style=\"text-align: right;\">            0</td></tr>\\n</tbody>\\n</table>'"
      ]
     },
     "metadata": {},
     "output_type": "display_data"
    },
    {
     "name": "stdout",
     "output_type": "stream",
     "text": [
      "0 1\n",
      "This subset is NOT well-formed\n"
     ]
    },
    {
     "data": {
      "text/markdown": [
       "Checking candidate set *{'walk.1', 'unloadtruck.2'}* of class **Location** for well formedness and Validity"
      ],
      "text/plain": [
       "<IPython.core.display.Markdown object>"
      ]
     },
     "metadata": {},
     "output_type": "display_data"
    },
    {
     "data": {
      "text/html": [
       "<table>\n",
       "<thead>\n",
       "<tr><th>             </th><th style=\"text-align: right;\">  walk.1</th><th style=\"text-align: right;\">  unloadtruck.2</th></tr>\n",
       "</thead>\n",
       "<tbody>\n",
       "<tr><td>walk.1       </td><td style=\"text-align: right;\">       0</td><td style=\"text-align: right;\">              0</td></tr>\n",
       "<tr><td>unloadtruck.2</td><td style=\"text-align: right;\">       0</td><td style=\"text-align: right;\">              0</td></tr>\n",
       "</tbody>\n",
       "</table>"
      ],
      "text/plain": [
       "'<table>\\n<thead>\\n<tr><th>             </th><th style=\"text-align: right;\">  walk.1</th><th style=\"text-align: right;\">  unloadtruck.2</th></tr>\\n</thead>\\n<tbody>\\n<tr><td>walk.1       </td><td style=\"text-align: right;\">       0</td><td style=\"text-align: right;\">              0</td></tr>\\n<tr><td>unloadtruck.2</td><td style=\"text-align: right;\">       0</td><td style=\"text-align: right;\">              0</td></tr>\\n</tbody>\\n</table>'"
      ]
     },
     "metadata": {},
     "output_type": "display_data"
    },
    {
     "name": "stdout",
     "output_type": "stream",
     "text": [
      "0 1\n",
      "This subset is NOT well-formed\n"
     ]
    },
    {
     "data": {
      "text/markdown": [
       "Checking candidate set *{'walk.1', 'drivetruck.1'}* of class **Location** for well formedness and Validity"
      ],
      "text/plain": [
       "<IPython.core.display.Markdown object>"
      ]
     },
     "metadata": {},
     "output_type": "display_data"
    },
    {
     "data": {
      "text/html": [
       "<table>\n",
       "<thead>\n",
       "<tr><th>            </th><th style=\"text-align: right;\">  walk.1</th><th style=\"text-align: right;\">  drivetruck.1</th></tr>\n",
       "</thead>\n",
       "<tbody>\n",
       "<tr><td>walk.1      </td><td style=\"text-align: right;\">       0</td><td style=\"text-align: right;\">             0</td></tr>\n",
       "<tr><td>drivetruck.1</td><td style=\"text-align: right;\">       0</td><td style=\"text-align: right;\">             0</td></tr>\n",
       "</tbody>\n",
       "</table>"
      ],
      "text/plain": [
       "'<table>\\n<thead>\\n<tr><th>            </th><th style=\"text-align: right;\">  walk.1</th><th style=\"text-align: right;\">  drivetruck.1</th></tr>\\n</thead>\\n<tbody>\\n<tr><td>walk.1      </td><td style=\"text-align: right;\">       0</td><td style=\"text-align: right;\">             0</td></tr>\\n<tr><td>drivetruck.1</td><td style=\"text-align: right;\">       0</td><td style=\"text-align: right;\">             0</td></tr>\\n</tbody>\\n</table>'"
      ]
     },
     "metadata": {},
     "output_type": "display_data"
    },
    {
     "name": "stdout",
     "output_type": "stream",
     "text": [
      "0 1\n",
      "This subset is NOT well-formed\n"
     ]
    },
    {
     "data": {
      "text/markdown": [
       "Checking candidate set *{'walk.1', 'disembarktruck.2'}* of class **Location** for well formedness and Validity"
      ],
      "text/plain": [
       "<IPython.core.display.Markdown object>"
      ]
     },
     "metadata": {},
     "output_type": "display_data"
    },
    {
     "data": {
      "text/html": [
       "<table>\n",
       "<thead>\n",
       "<tr><th>                </th><th style=\"text-align: right;\">  walk.1</th><th style=\"text-align: right;\">  disembarktruck.2</th></tr>\n",
       "</thead>\n",
       "<tbody>\n",
       "<tr><td>walk.1          </td><td style=\"text-align: right;\">       0</td><td style=\"text-align: right;\">                 0</td></tr>\n",
       "<tr><td>disembarktruck.2</td><td style=\"text-align: right;\">       2</td><td style=\"text-align: right;\">                 0</td></tr>\n",
       "</tbody>\n",
       "</table>"
      ],
      "text/plain": [
       "'<table>\\n<thead>\\n<tr><th>                </th><th style=\"text-align: right;\">  walk.1</th><th style=\"text-align: right;\">  disembarktruck.2</th></tr>\\n</thead>\\n<tbody>\\n<tr><td>walk.1          </td><td style=\"text-align: right;\">       0</td><td style=\"text-align: right;\">                 0</td></tr>\\n<tr><td>disembarktruck.2</td><td style=\"text-align: right;\">       2</td><td style=\"text-align: right;\">                 0</td></tr>\\n</tbody>\\n</table>'"
      ]
     },
     "metadata": {},
     "output_type": "display_data"
    },
    {
     "name": "stdout",
     "output_type": "stream",
     "text": [
      "0 1\n",
      "This subset is well-formed.\n",
      "This subset is valid.\n",
      "Adding this subset {'walk.1', 'disembarktruck.2'} to the locm2 transition set.\n",
      "Hole that is covered now:\n",
      "['walk.1']\n"
     ]
    },
    {
     "data": {
      "text/markdown": [
       "#### Hole 7: {'unloadtruck.2'}"
      ],
      "text/plain": [
       "<IPython.core.display.Markdown object>"
      ]
     },
     "metadata": {},
     "output_type": "display_data"
    },
    {
     "data": {
      "text/markdown": [
       "Hole {'unloadtruck.2'} is already covered."
      ],
      "text/plain": [
       "<IPython.core.display.Markdown object>"
      ]
     },
     "metadata": {},
     "output_type": "display_data"
    },
    {
     "data": {
      "text/markdown": [
       "#### Hole 8: {'drivetruck.1', 'walk.2'}"
      ],
      "text/plain": [
       "<IPython.core.display.Markdown object>"
      ]
     },
     "metadata": {},
     "output_type": "display_data"
    },
    {
     "data": {
      "text/markdown": [
       "Hole {'drivetruck.1', 'walk.2'} is already covered."
      ],
      "text/plain": [
       "<IPython.core.display.Markdown object>"
      ]
     },
     "metadata": {},
     "output_type": "display_data"
    },
    {
     "data": {
      "text/markdown": [
       "#### Hole 9: {'walk.1', 'drivetruck.1'}"
      ],
      "text/plain": [
       "<IPython.core.display.Markdown object>"
      ]
     },
     "metadata": {},
     "output_type": "display_data"
    },
    {
     "data": {
      "text/markdown": [
       "Checking candidate set *{'walk.1', 'drivetruck.1', 'walk.2'}* of class **Location** for well formedness and Validity"
      ],
      "text/plain": [
       "<IPython.core.display.Markdown object>"
      ]
     },
     "metadata": {},
     "output_type": "display_data"
    },
    {
     "data": {
      "text/html": [
       "<table>\n",
       "<thead>\n",
       "<tr><th>            </th><th style=\"text-align: right;\">  walk.1</th><th style=\"text-align: right;\">  drivetruck.1</th><th style=\"text-align: right;\">  walk.2</th></tr>\n",
       "</thead>\n",
       "<tbody>\n",
       "<tr><td>walk.1      </td><td style=\"text-align: right;\">       0</td><td style=\"text-align: right;\">             0</td><td style=\"text-align: right;\">       1</td></tr>\n",
       "<tr><td>drivetruck.1</td><td style=\"text-align: right;\">       0</td><td style=\"text-align: right;\">             0</td><td style=\"text-align: right;\">       2</td></tr>\n",
       "<tr><td>walk.2      </td><td style=\"text-align: right;\">      10</td><td style=\"text-align: right;\">             0</td><td style=\"text-align: right;\">       0</td></tr>\n",
       "</tbody>\n",
       "</table>"
      ],
      "text/plain": [
       "'<table>\\n<thead>\\n<tr><th>            </th><th style=\"text-align: right;\">  walk.1</th><th style=\"text-align: right;\">  drivetruck.1</th><th style=\"text-align: right;\">  walk.2</th></tr>\\n</thead>\\n<tbody>\\n<tr><td>walk.1      </td><td style=\"text-align: right;\">       0</td><td style=\"text-align: right;\">             0</td><td style=\"text-align: right;\">       1</td></tr>\\n<tr><td>drivetruck.1</td><td style=\"text-align: right;\">       0</td><td style=\"text-align: right;\">             0</td><td style=\"text-align: right;\">       2</td></tr>\\n<tr><td>walk.2      </td><td style=\"text-align: right;\">      10</td><td style=\"text-align: right;\">             0</td><td style=\"text-align: right;\">       0</td></tr>\\n</tbody>\\n</table>'"
      ]
     },
     "metadata": {},
     "output_type": "display_data"
    },
    {
     "name": "stdout",
     "output_type": "stream",
     "text": [
      "0 1\n",
      "0 2\n",
      "1 2\n",
      "This subset is well-formed.\n",
      "This subset is valid.\n",
      "Adding this subset {'walk.1', 'drivetruck.1', 'walk.2'} to the locm2 transition set.\n",
      "Hole that is covered now:\n",
      "['walk.1', 'drivetruck.1']\n"
     ]
    },
    {
     "data": {
      "text/markdown": [
       "#### Hole 10: {'loadtruck.2'}"
      ],
      "text/plain": [
       "<IPython.core.display.Markdown object>"
      ]
     },
     "metadata": {},
     "output_type": "display_data"
    },
    {
     "data": {
      "text/markdown": [
       "Hole {'loadtruck.2'} is already covered."
      ],
      "text/plain": [
       "<IPython.core.display.Markdown object>"
      ]
     },
     "metadata": {},
     "output_type": "display_data"
    },
    {
     "data": {
      "text/markdown": [
       "#### Hole 11: {'drivetruck.1', 'unloadtruck.2'}"
      ],
      "text/plain": [
       "<IPython.core.display.Markdown object>"
      ]
     },
     "metadata": {},
     "output_type": "display_data"
    },
    {
     "data": {
      "text/markdown": [
       "Checking candidate set *{'drivetruck.1', 'walk.2', 'unloadtruck.2'}* of class **Location** for well formedness and Validity"
      ],
      "text/plain": [
       "<IPython.core.display.Markdown object>"
      ]
     },
     "metadata": {},
     "output_type": "display_data"
    },
    {
     "data": {
      "text/html": [
       "<table>\n",
       "<thead>\n",
       "<tr><th>             </th><th style=\"text-align: right;\">  drivetruck.1</th><th style=\"text-align: right;\">  walk.2</th><th style=\"text-align: right;\">  unloadtruck.2</th></tr>\n",
       "</thead>\n",
       "<tbody>\n",
       "<tr><td>drivetruck.1 </td><td style=\"text-align: right;\">             0</td><td style=\"text-align: right;\">       2</td><td style=\"text-align: right;\">              0</td></tr>\n",
       "<tr><td>walk.2       </td><td style=\"text-align: right;\">             0</td><td style=\"text-align: right;\">       0</td><td style=\"text-align: right;\">              0</td></tr>\n",
       "<tr><td>unloadtruck.2</td><td style=\"text-align: right;\">             6</td><td style=\"text-align: right;\">       0</td><td style=\"text-align: right;\">              0</td></tr>\n",
       "</tbody>\n",
       "</table>"
      ],
      "text/plain": [
       "'<table>\\n<thead>\\n<tr><th>             </th><th style=\"text-align: right;\">  drivetruck.1</th><th style=\"text-align: right;\">  walk.2</th><th style=\"text-align: right;\">  unloadtruck.2</th></tr>\\n</thead>\\n<tbody>\\n<tr><td>drivetruck.1 </td><td style=\"text-align: right;\">             0</td><td style=\"text-align: right;\">       2</td><td style=\"text-align: right;\">              0</td></tr>\\n<tr><td>walk.2       </td><td style=\"text-align: right;\">             0</td><td style=\"text-align: right;\">       0</td><td style=\"text-align: right;\">              0</td></tr>\\n<tr><td>unloadtruck.2</td><td style=\"text-align: right;\">             6</td><td style=\"text-align: right;\">       0</td><td style=\"text-align: right;\">              0</td></tr>\\n</tbody>\\n</table>'"
      ]
     },
     "metadata": {},
     "output_type": "display_data"
    },
    {
     "name": "stdout",
     "output_type": "stream",
     "text": [
      "0 1\n",
      "0 2\n",
      "1 2\n",
      "This subset is well-formed.\n",
      "This subset is valid.\n",
      "Adding this subset {'drivetruck.1', 'walk.2', 'unloadtruck.2'} to the locm2 transition set.\n",
      "Hole that is covered now:\n",
      "['drivetruck.1', 'unloadtruck.2']\n"
     ]
    },
    {
     "data": {
      "text/markdown": [
       "#### Hole 12: {'walk.1', 'drivetruck.2'}"
      ],
      "text/plain": [
       "<IPython.core.display.Markdown object>"
      ]
     },
     "metadata": {},
     "output_type": "display_data"
    },
    {
     "data": {
      "text/markdown": [
       "Checking candidate set *{'walk.1', 'boardtruck.2', 'drivetruck.2'}* of class **Location** for well formedness and Validity"
      ],
      "text/plain": [
       "<IPython.core.display.Markdown object>"
      ]
     },
     "metadata": {},
     "output_type": "display_data"
    },
    {
     "data": {
      "text/html": [
       "<table>\n",
       "<thead>\n",
       "<tr><th>            </th><th style=\"text-align: right;\">  walk.1</th><th style=\"text-align: right;\">  boardtruck.2</th><th style=\"text-align: right;\">  drivetruck.2</th></tr>\n",
       "</thead>\n",
       "<tbody>\n",
       "<tr><td>walk.1      </td><td style=\"text-align: right;\">       0</td><td style=\"text-align: right;\">             0</td><td style=\"text-align: right;\">             5</td></tr>\n",
       "<tr><td>boardtruck.2</td><td style=\"text-align: right;\">       0</td><td style=\"text-align: right;\">             0</td><td style=\"text-align: right;\">             0</td></tr>\n",
       "<tr><td>drivetruck.2</td><td style=\"text-align: right;\">       0</td><td style=\"text-align: right;\">             0</td><td style=\"text-align: right;\">             0</td></tr>\n",
       "</tbody>\n",
       "</table>"
      ],
      "text/plain": [
       "'<table>\\n<thead>\\n<tr><th>            </th><th style=\"text-align: right;\">  walk.1</th><th style=\"text-align: right;\">  boardtruck.2</th><th style=\"text-align: right;\">  drivetruck.2</th></tr>\\n</thead>\\n<tbody>\\n<tr><td>walk.1      </td><td style=\"text-align: right;\">       0</td><td style=\"text-align: right;\">             0</td><td style=\"text-align: right;\">             5</td></tr>\\n<tr><td>boardtruck.2</td><td style=\"text-align: right;\">       0</td><td style=\"text-align: right;\">             0</td><td style=\"text-align: right;\">             0</td></tr>\\n<tr><td>drivetruck.2</td><td style=\"text-align: right;\">       0</td><td style=\"text-align: right;\">             0</td><td style=\"text-align: right;\">             0</td></tr>\\n</tbody>\\n</table>'"
      ]
     },
     "metadata": {},
     "output_type": "display_data"
    },
    {
     "name": "stdout",
     "output_type": "stream",
     "text": [
      "0 1\n",
      "0 2\n",
      "1 2\n",
      "This subset is well-formed.\n",
      "This subset is valid.\n",
      "Adding this subset {'walk.1', 'boardtruck.2', 'drivetruck.2'} to the locm2 transition set.\n",
      "Hole that is covered now:\n",
      "['walk.1', 'drivetruck.2']\n"
     ]
    },
    {
     "data": {
      "text/markdown": [
       "#### Hole 13: {'drivetruck.2', 'unloadtruck.2'}"
      ],
      "text/plain": [
       "<IPython.core.display.Markdown object>"
      ]
     },
     "metadata": {},
     "output_type": "display_data"
    },
    {
     "data": {
      "text/markdown": [
       "Checking candidate set *{'loadtruck.2', 'drivetruck.2', 'unloadtruck.2'}* of class **Location** for well formedness and Validity"
      ],
      "text/plain": [
       "<IPython.core.display.Markdown object>"
      ]
     },
     "metadata": {},
     "output_type": "display_data"
    },
    {
     "data": {
      "text/html": [
       "<table>\n",
       "<thead>\n",
       "<tr><th>             </th><th style=\"text-align: right;\">  loadtruck.2</th><th style=\"text-align: right;\">  drivetruck.2</th><th style=\"text-align: right;\">  unloadtruck.2</th></tr>\n",
       "</thead>\n",
       "<tbody>\n",
       "<tr><td>loadtruck.2  </td><td style=\"text-align: right;\">            0</td><td style=\"text-align: right;\">             0</td><td style=\"text-align: right;\">              1</td></tr>\n",
       "<tr><td>drivetruck.2 </td><td style=\"text-align: right;\">            5</td><td style=\"text-align: right;\">             0</td><td style=\"text-align: right;\">              7</td></tr>\n",
       "<tr><td>unloadtruck.2</td><td style=\"text-align: right;\">            1</td><td style=\"text-align: right;\">             0</td><td style=\"text-align: right;\">              0</td></tr>\n",
       "</tbody>\n",
       "</table>"
      ],
      "text/plain": [
       "'<table>\\n<thead>\\n<tr><th>             </th><th style=\"text-align: right;\">  loadtruck.2</th><th style=\"text-align: right;\">  drivetruck.2</th><th style=\"text-align: right;\">  unloadtruck.2</th></tr>\\n</thead>\\n<tbody>\\n<tr><td>loadtruck.2  </td><td style=\"text-align: right;\">            0</td><td style=\"text-align: right;\">             0</td><td style=\"text-align: right;\">              1</td></tr>\\n<tr><td>drivetruck.2 </td><td style=\"text-align: right;\">            5</td><td style=\"text-align: right;\">             0</td><td style=\"text-align: right;\">              7</td></tr>\\n<tr><td>unloadtruck.2</td><td style=\"text-align: right;\">            1</td><td style=\"text-align: right;\">             0</td><td style=\"text-align: right;\">              0</td></tr>\\n</tbody>\\n</table>'"
      ]
     },
     "metadata": {},
     "output_type": "display_data"
    },
    {
     "name": "stdout",
     "output_type": "stream",
     "text": [
      "0 1\n",
      "0 2\n",
      "1 2\n",
      "This subset is NOT well-formed\n"
     ]
    },
    {
     "data": {
      "text/markdown": [
       "Checking candidate set *{'boardtruck.2', 'drivetruck.2', 'unloadtruck.2'}* of class **Location** for well formedness and Validity"
      ],
      "text/plain": [
       "<IPython.core.display.Markdown object>"
      ]
     },
     "metadata": {},
     "output_type": "display_data"
    },
    {
     "data": {
      "text/html": [
       "<table>\n",
       "<thead>\n",
       "<tr><th>             </th><th style=\"text-align: right;\">  boardtruck.2</th><th style=\"text-align: right;\">  drivetruck.2</th><th style=\"text-align: right;\">  unloadtruck.2</th></tr>\n",
       "</thead>\n",
       "<tbody>\n",
       "<tr><td>boardtruck.2 </td><td style=\"text-align: right;\">             0</td><td style=\"text-align: right;\">             0</td><td style=\"text-align: right;\">              1</td></tr>\n",
       "<tr><td>drivetruck.2 </td><td style=\"text-align: right;\">             0</td><td style=\"text-align: right;\">             0</td><td style=\"text-align: right;\">              7</td></tr>\n",
       "<tr><td>unloadtruck.2</td><td style=\"text-align: right;\">             1</td><td style=\"text-align: right;\">             0</td><td style=\"text-align: right;\">              0</td></tr>\n",
       "</tbody>\n",
       "</table>"
      ],
      "text/plain": [
       "'<table>\\n<thead>\\n<tr><th>             </th><th style=\"text-align: right;\">  boardtruck.2</th><th style=\"text-align: right;\">  drivetruck.2</th><th style=\"text-align: right;\">  unloadtruck.2</th></tr>\\n</thead>\\n<tbody>\\n<tr><td>boardtruck.2 </td><td style=\"text-align: right;\">             0</td><td style=\"text-align: right;\">             0</td><td style=\"text-align: right;\">              1</td></tr>\\n<tr><td>drivetruck.2 </td><td style=\"text-align: right;\">             0</td><td style=\"text-align: right;\">             0</td><td style=\"text-align: right;\">              7</td></tr>\\n<tr><td>unloadtruck.2</td><td style=\"text-align: right;\">             1</td><td style=\"text-align: right;\">             0</td><td style=\"text-align: right;\">              0</td></tr>\\n</tbody>\\n</table>'"
      ]
     },
     "metadata": {},
     "output_type": "display_data"
    },
    {
     "name": "stdout",
     "output_type": "stream",
     "text": [
      "0 1\n",
      "0 2\n",
      "1 2\n",
      "This subset is well-formed.\n",
      "This subset is valid.\n",
      "Adding this subset {'boardtruck.2', 'drivetruck.2', 'unloadtruck.2'} to the locm2 transition set.\n",
      "Hole that is covered now:\n",
      "['drivetruck.2', 'unloadtruck.2']\n"
     ]
    },
    {
     "data": {
      "text/markdown": [
       "#### Hole 14: {'disembarktruck.2'}"
      ],
      "text/plain": [
       "<IPython.core.display.Markdown object>"
      ]
     },
     "metadata": {},
     "output_type": "display_data"
    },
    {
     "data": {
      "text/markdown": [
       "Hole {'disembarktruck.2'} is already covered."
      ],
      "text/plain": [
       "<IPython.core.display.Markdown object>"
      ]
     },
     "metadata": {},
     "output_type": "display_data"
    },
    {
     "data": {
      "text/markdown": [
       "#### Hole 15: {'walk.1', 'boardtruck.2'}"
      ],
      "text/plain": [
       "<IPython.core.display.Markdown object>"
      ]
     },
     "metadata": {},
     "output_type": "display_data"
    },
    {
     "data": {
      "text/markdown": [
       "Hole {'walk.1', 'boardtruck.2'} is already covered."
      ],
      "text/plain": [
       "<IPython.core.display.Markdown object>"
      ]
     },
     "metadata": {},
     "output_type": "display_data"
    },
    {
     "data": {
      "text/markdown": [
       "#### Hole 16: {'walk.2'}"
      ],
      "text/plain": [
       "<IPython.core.display.Markdown object>"
      ]
     },
     "metadata": {},
     "output_type": "display_data"
    },
    {
     "data": {
      "text/markdown": [
       "Hole {'walk.2'} is already covered."
      ],
      "text/plain": [
       "<IPython.core.display.Markdown object>"
      ]
     },
     "metadata": {},
     "output_type": "display_data"
    },
    {
     "data": {
      "text/markdown": [
       "#### Hole 17: {'walk.1', 'unloadtruck.2'}"
      ],
      "text/plain": [
       "<IPython.core.display.Markdown object>"
      ]
     },
     "metadata": {},
     "output_type": "display_data"
    },
    {
     "data": {
      "text/markdown": [
       "Checking candidate set *{'walk.1', 'boardtruck.2', 'unloadtruck.2'}* of class **Location** for well formedness and Validity"
      ],
      "text/plain": [
       "<IPython.core.display.Markdown object>"
      ]
     },
     "metadata": {},
     "output_type": "display_data"
    },
    {
     "data": {
      "text/html": [
       "<table>\n",
       "<thead>\n",
       "<tr><th>             </th><th style=\"text-align: right;\">  walk.1</th><th style=\"text-align: right;\">  boardtruck.2</th><th style=\"text-align: right;\">  unloadtruck.2</th></tr>\n",
       "</thead>\n",
       "<tbody>\n",
       "<tr><td>walk.1       </td><td style=\"text-align: right;\">       0</td><td style=\"text-align: right;\">             0</td><td style=\"text-align: right;\">              0</td></tr>\n",
       "<tr><td>boardtruck.2 </td><td style=\"text-align: right;\">       0</td><td style=\"text-align: right;\">             0</td><td style=\"text-align: right;\">              1</td></tr>\n",
       "<tr><td>unloadtruck.2</td><td style=\"text-align: right;\">       0</td><td style=\"text-align: right;\">             1</td><td style=\"text-align: right;\">              0</td></tr>\n",
       "</tbody>\n",
       "</table>"
      ],
      "text/plain": [
       "'<table>\\n<thead>\\n<tr><th>             </th><th style=\"text-align: right;\">  walk.1</th><th style=\"text-align: right;\">  boardtruck.2</th><th style=\"text-align: right;\">  unloadtruck.2</th></tr>\\n</thead>\\n<tbody>\\n<tr><td>walk.1       </td><td style=\"text-align: right;\">       0</td><td style=\"text-align: right;\">             0</td><td style=\"text-align: right;\">              0</td></tr>\\n<tr><td>boardtruck.2 </td><td style=\"text-align: right;\">       0</td><td style=\"text-align: right;\">             0</td><td style=\"text-align: right;\">              1</td></tr>\\n<tr><td>unloadtruck.2</td><td style=\"text-align: right;\">       0</td><td style=\"text-align: right;\">             1</td><td style=\"text-align: right;\">              0</td></tr>\\n</tbody>\\n</table>'"
      ]
     },
     "metadata": {},
     "output_type": "display_data"
    },
    {
     "name": "stdout",
     "output_type": "stream",
     "text": [
      "0 1\n",
      "0 2\n",
      "1 2\n",
      "This subset is well-formed.\n",
      "This subset is valid.\n",
      "Adding this subset {'walk.1', 'boardtruck.2', 'unloadtruck.2'} to the locm2 transition set.\n",
      "Hole that is covered now:\n",
      "['walk.1', 'unloadtruck.2']\n"
     ]
    },
    {
     "data": {
      "text/markdown": [
       "#### Hole 18: {'loadtruck.2', 'walk.2'}"
      ],
      "text/plain": [
       "<IPython.core.display.Markdown object>"
      ]
     },
     "metadata": {},
     "output_type": "display_data"
    },
    {
     "data": {
      "text/markdown": [
       "Checking candidate set *{'drivetruck.2', 'loadtruck.2', 'walk.2'}* of class **Location** for well formedness and Validity"
      ],
      "text/plain": [
       "<IPython.core.display.Markdown object>"
      ]
     },
     "metadata": {},
     "output_type": "display_data"
    },
    {
     "data": {
      "text/html": [
       "<table>\n",
       "<thead>\n",
       "<tr><th>            </th><th style=\"text-align: right;\">  drivetruck.2</th><th style=\"text-align: right;\">  loadtruck.2</th><th style=\"text-align: right;\">  walk.2</th></tr>\n",
       "</thead>\n",
       "<tbody>\n",
       "<tr><td>drivetruck.2</td><td style=\"text-align: right;\">             0</td><td style=\"text-align: right;\">            5</td><td style=\"text-align: right;\">       0</td></tr>\n",
       "<tr><td>loadtruck.2 </td><td style=\"text-align: right;\">             0</td><td style=\"text-align: right;\">            0</td><td style=\"text-align: right;\">       0</td></tr>\n",
       "<tr><td>walk.2      </td><td style=\"text-align: right;\">             1</td><td style=\"text-align: right;\">            0</td><td style=\"text-align: right;\">       0</td></tr>\n",
       "</tbody>\n",
       "</table>"
      ],
      "text/plain": [
       "'<table>\\n<thead>\\n<tr><th>            </th><th style=\"text-align: right;\">  drivetruck.2</th><th style=\"text-align: right;\">  loadtruck.2</th><th style=\"text-align: right;\">  walk.2</th></tr>\\n</thead>\\n<tbody>\\n<tr><td>drivetruck.2</td><td style=\"text-align: right;\">             0</td><td style=\"text-align: right;\">            5</td><td style=\"text-align: right;\">       0</td></tr>\\n<tr><td>loadtruck.2 </td><td style=\"text-align: right;\">             0</td><td style=\"text-align: right;\">            0</td><td style=\"text-align: right;\">       0</td></tr>\\n<tr><td>walk.2      </td><td style=\"text-align: right;\">             1</td><td style=\"text-align: right;\">            0</td><td style=\"text-align: right;\">       0</td></tr>\\n</tbody>\\n</table>'"
      ]
     },
     "metadata": {},
     "output_type": "display_data"
    },
    {
     "name": "stdout",
     "output_type": "stream",
     "text": [
      "0 1\n",
      "0 2\n",
      "1 2\n",
      "This subset is well-formed.\n",
      "This subset is valid.\n",
      "Adding this subset {'drivetruck.2', 'loadtruck.2', 'walk.2'} to the locm2 transition set.\n",
      "Hole that is covered now:\n",
      "['loadtruck.2', 'walk.2']\n"
     ]
    },
    {
     "data": {
      "text/markdown": [
       "#### Hole 19: {'walk.1', 'loadtruck.2'}"
      ],
      "text/plain": [
       "<IPython.core.display.Markdown object>"
      ]
     },
     "metadata": {},
     "output_type": "display_data"
    },
    {
     "data": {
      "text/markdown": [
       "Checking candidate set *{'walk.1', 'loadtruck.2', 'disembarktruck.2'}* of class **Location** for well formedness and Validity"
      ],
      "text/plain": [
       "<IPython.core.display.Markdown object>"
      ]
     },
     "metadata": {},
     "output_type": "display_data"
    },
    {
     "data": {
      "text/html": [
       "<table>\n",
       "<thead>\n",
       "<tr><th>                </th><th style=\"text-align: right;\">  walk.1</th><th style=\"text-align: right;\">  loadtruck.2</th><th style=\"text-align: right;\">  disembarktruck.2</th></tr>\n",
       "</thead>\n",
       "<tbody>\n",
       "<tr><td>walk.1          </td><td style=\"text-align: right;\">       0</td><td style=\"text-align: right;\">            0</td><td style=\"text-align: right;\">                 0</td></tr>\n",
       "<tr><td>loadtruck.2     </td><td style=\"text-align: right;\">       0</td><td style=\"text-align: right;\">            0</td><td style=\"text-align: right;\">                 1</td></tr>\n",
       "<tr><td>disembarktruck.2</td><td style=\"text-align: right;\">       2</td><td style=\"text-align: right;\">            1</td><td style=\"text-align: right;\">                 0</td></tr>\n",
       "</tbody>\n",
       "</table>"
      ],
      "text/plain": [
       "'<table>\\n<thead>\\n<tr><th>                </th><th style=\"text-align: right;\">  walk.1</th><th style=\"text-align: right;\">  loadtruck.2</th><th style=\"text-align: right;\">  disembarktruck.2</th></tr>\\n</thead>\\n<tbody>\\n<tr><td>walk.1          </td><td style=\"text-align: right;\">       0</td><td style=\"text-align: right;\">            0</td><td style=\"text-align: right;\">                 0</td></tr>\\n<tr><td>loadtruck.2     </td><td style=\"text-align: right;\">       0</td><td style=\"text-align: right;\">            0</td><td style=\"text-align: right;\">                 1</td></tr>\\n<tr><td>disembarktruck.2</td><td style=\"text-align: right;\">       2</td><td style=\"text-align: right;\">            1</td><td style=\"text-align: right;\">                 0</td></tr>\\n</tbody>\\n</table>'"
      ]
     },
     "metadata": {},
     "output_type": "display_data"
    },
    {
     "name": "stdout",
     "output_type": "stream",
     "text": [
      "0 1\n",
      "0 2\n",
      "1 2\n",
      "This subset is well-formed.\n",
      "This subset is valid.\n",
      "Adding this subset {'walk.1', 'loadtruck.2', 'disembarktruck.2'} to the locm2 transition set.\n",
      "Hole that is covered now:\n",
      "['walk.1', 'loadtruck.2']\n"
     ]
    },
    {
     "data": {
      "text/markdown": [
       "#### Hole 20: {'drivetruck.1'}"
      ],
      "text/plain": [
       "<IPython.core.display.Markdown object>"
      ]
     },
     "metadata": {},
     "output_type": "display_data"
    },
    {
     "data": {
      "text/markdown": [
       "Hole {'drivetruck.1'} is already covered."
      ],
      "text/plain": [
       "<IPython.core.display.Markdown object>"
      ]
     },
     "metadata": {},
     "output_type": "display_data"
    },
    {
     "data": {
      "text/markdown": [
       "#### Hole 21: {'walk.2', 'disembarktruck.2'}"
      ],
      "text/plain": [
       "<IPython.core.display.Markdown object>"
      ]
     },
     "metadata": {},
     "output_type": "display_data"
    },
    {
     "data": {
      "text/markdown": [
       "Hole {'walk.2', 'disembarktruck.2'} is already covered."
      ],
      "text/plain": [
       "<IPython.core.display.Markdown object>"
      ]
     },
     "metadata": {},
     "output_type": "display_data"
    },
    {
     "data": {
      "text/markdown": [
       "#### Hole 22: {'drivetruck.2'}"
      ],
      "text/plain": [
       "<IPython.core.display.Markdown object>"
      ]
     },
     "metadata": {},
     "output_type": "display_data"
    },
    {
     "data": {
      "text/markdown": [
       "Hole {'drivetruck.2'} is already covered."
      ],
      "text/plain": [
       "<IPython.core.display.Markdown object>"
      ]
     },
     "metadata": {},
     "output_type": "display_data"
    },
    {
     "data": {
      "text/markdown": [
       "#### Hole 23: {'loadtruck.2', 'drivetruck.2'}"
      ],
      "text/plain": [
       "<IPython.core.display.Markdown object>"
      ]
     },
     "metadata": {},
     "output_type": "display_data"
    },
    {
     "data": {
      "text/markdown": [
       "Hole {'loadtruck.2', 'drivetruck.2'} is already covered."
      ],
      "text/plain": [
       "<IPython.core.display.Markdown object>"
      ]
     },
     "metadata": {},
     "output_type": "display_data"
    },
    {
     "name": "stdout",
     "output_type": "stream",
     "text": [
      "[{'unloadtruck.2', 'walk.2', 'disembarktruck.2'}, {'drivetruck.1', 'walk.2', 'disembarktruck.2'}, {'loadtruck.2', 'boardtruck.2', 'drivetruck.2'}, {'loadtruck.2', 'drivetruck.1', 'disembarktruck.2'}, {'walk.1', 'disembarktruck.2'}, {'walk.1', 'drivetruck.1', 'walk.2'}, {'drivetruck.1', 'walk.2', 'unloadtruck.2'}, {'walk.1', 'boardtruck.2', 'drivetruck.2'}, {'boardtruck.2', 'drivetruck.2', 'unloadtruck.2'}, {'walk.1', 'boardtruck.2', 'unloadtruck.2'}, {'drivetruck.2', 'loadtruck.2', 'walk.2'}, {'walk.1', 'loadtruck.2', 'disembarktruck.2'}]\n",
      "\n",
      "Removed redundancy transition set list\n",
      "[{'unloadtruck.2', 'walk.2', 'disembarktruck.2'}, {'drivetruck.1', 'walk.2', 'disembarktruck.2'}, {'loadtruck.2', 'boardtruck.2', 'drivetruck.2'}, {'loadtruck.2', 'drivetruck.1', 'disembarktruck.2'}, {'walk.1', 'drivetruck.1', 'walk.2'}, {'drivetruck.1', 'walk.2', 'unloadtruck.2'}, {'walk.1', 'boardtruck.2', 'drivetruck.2'}, {'boardtruck.2', 'drivetruck.2', 'unloadtruck.2'}, {'walk.1', 'boardtruck.2', 'unloadtruck.2'}, {'drivetruck.2', 'loadtruck.2', 'walk.2'}, {'walk.1', 'loadtruck.2', 'disembarktruck.2'}]\n"
     ]
    },
    {
     "data": {
      "text/markdown": [
       "#### Final transition set list"
      ],
      "text/plain": [
       "<IPython.core.display.Markdown object>"
      ]
     },
     "metadata": {},
     "output_type": "display_data"
    },
    {
     "name": "stdout",
     "output_type": "stream",
     "text": [
      "[{'unloadtruck.2', 'walk.2', 'disembarktruck.2'}, {'drivetruck.1', 'walk.2', 'disembarktruck.2'}, {'loadtruck.2', 'boardtruck.2', 'drivetruck.2'}, {'loadtruck.2', 'drivetruck.1', 'disembarktruck.2'}, {'walk.1', 'drivetruck.1', 'walk.2'}, {'drivetruck.1', 'walk.2', 'unloadtruck.2'}, {'walk.1', 'boardtruck.2', 'drivetruck.2'}, {'boardtruck.2', 'drivetruck.2', 'unloadtruck.2'}, {'walk.1', 'boardtruck.2', 'unloadtruck.2'}, {'drivetruck.2', 'loadtruck.2', 'walk.2'}, {'walk.1', 'loadtruck.2', 'disembarktruck.2'}, {'unloadtruck.2', 'disembarktruck.2', 'drivetruck.2', 'drivetruck.1', 'loadtruck.2', 'walk.1', 'boardtruck.2', 'walk.2'}]\n"
     ]
    }
   ],
   "source": [
    "def locm2_get_transition_sets_per_class(holes_per_class, transitions_per_class, consecutive_transitions_per_class):\n",
    "    \"\"\"LOCM 2 Algorithm in the original LOCM2 paper\"\"\"\n",
    "    \n",
    "    # contains Solution Set S for each class.\n",
    "    transition_sets_per_class = []\n",
    "\n",
    "    # for each hole for a class/sort\n",
    "    for index, holes in enumerate(holes_per_class):\n",
    "        class_name = class_names[index]\n",
    "        printmd(\"### \"+  class_name)\n",
    "        \n",
    "        # S\n",
    "        transition_set_list = [] #transition_sets_of_a_class, # intially it's empty\n",
    "        \n",
    "        if len(holes)==0:\n",
    "            print(\"no holes\") # S will contain just T_all\n",
    "        \n",
    "        if len(holes) > 0: # if there are any holes for a class\n",
    "            print(str(len(holes)) + \" holes\")\n",
    "            for ind, hole in enumerate(holes):\n",
    "                printmd(\"#### Hole \" + str(ind + 1) + \": \" + str(set(hole)))\n",
    "                is_hole_already_covered_flag = False\n",
    "                if len(transition_set_list)>0:\n",
    "                    for s_prime in transition_set_list:\n",
    "                        if hole.issubset(s_prime):\n",
    "                            printmd(\"Hole \"+ str(set(hole)) + \" is already covered.\")\n",
    "                            is_hole_already_covered_flag = True\n",
    "                            break\n",
    "                     \n",
    "                # discover a set which includes hole and is well-formed and valid against test data.\n",
    "                # if hole is not covered, do BFS with sets of increasing sizes starting with s=hole\n",
    "                if not is_hole_already_covered_flag: \n",
    "                    h = hole.copy()\n",
    "                    candidate_sets = []\n",
    "                    # all subsets of T_all starting from hole's len +1 to T_all-1.\n",
    "                    for i in range(len(h)+1,len(transitions_per_class[index])): \n",
    "                        subsets = findsubsets(transitions_per_class[index],i) # all subsets of length i\n",
    "\n",
    "                        for s in subsets:\n",
    "                            if h.issubset(s): # if  is subset of s\n",
    "                                candidate_sets.append(set(s))\n",
    "                        \n",
    "                        s_well_formed_and_valid = False\n",
    "                        for s in candidate_sets:\n",
    "                            if len(s)>=i:\n",
    "                                printmd(\"Checking candidate set *\" + str(s) + \"* of class **\" + class_name + \"** for well formedness and Validity\")\n",
    "                                subset_df = adjacency_matrix_list[index].loc[list(s),list(s)]\n",
    "                                print_table(subset_df)\n",
    "\n",
    "                                # checking for well-formedness\n",
    "                                well_formed_flag = False\n",
    "                                well_formed_flag = check_well_formed(subset_df)\n",
    "                                if not well_formed_flag:\n",
    "                                    print(\"This subset is NOT well-formed\")\n",
    "                                    \n",
    "                                elif well_formed_flag:\n",
    "                                    print(\"This subset is well-formed.\")\n",
    "                                    # if well-formed validate across the data E\n",
    "                                    # to remove inappropriate dead-ends\n",
    "                                    valid_against_data_flag = False\n",
    "                                    valid_against_data_flag = check_valid(subset_df, consecutive_transitions_per_class)\n",
    "                                    if not valid_against_data_flag:\n",
    "                                        print(\"This subset is well-formed but invalid against example data\")\n",
    "\n",
    "                                    if valid_against_data_flag:\n",
    "                                        print(\"This subset is valid.\")\n",
    "                                        print(\"Adding this subset \" + str(s) +\" to the locm2 transition set.\")\n",
    "                                        if s not in transition_set_list: # do not allow copies.\n",
    "                                            transition_set_list.append(s)\n",
    "                                        \n",
    "                                        print(\"Hole that is covered now:\")\n",
    "                                        print(list(h))\n",
    "                                        s_well_formed_and_valid = True\n",
    "                                        break \n",
    "                        if s_well_formed_and_valid:\n",
    "                                break\n",
    "                                        \n",
    "                                        \n",
    "\n",
    "        print(transition_set_list)                                    \n",
    "        #step 7 : remove redundant sets S - {s1}\n",
    "        ts_copy = transition_set_list.copy()\n",
    "        for i in range(len(ts_copy)):\n",
    "            for j in range(len(ts_copy)):\n",
    "                if ts_copy[i] < ts_copy[j]: #if subset\n",
    "                    if ts_copy[i] in transition_set_list:\n",
    "                        transition_set_list.remove(ts_copy[i])\n",
    "                elif ts_copy[i] > ts_copy[j]:\n",
    "                    if ts_copy[j] in transition_set_list:\n",
    "                        transition_set_list.remove(ts_copy[j])\n",
    "        print(\"\\nRemoved redundancy transition set list\")\n",
    "        print(transition_set_list)\n",
    "\n",
    "        #step-8: include all-transitions machine, even if it is not well-formed.\n",
    "        transition_set_list.append(set(transitions_per_class[index])) #fallback\n",
    "        printmd(\"#### Final transition set list\")\n",
    "        print(transition_set_list)\n",
    "        transition_sets_per_class.append(transition_set_list)\n",
    "        \n",
    "\n",
    "    return transition_sets_per_class\n",
    "\n",
    "\n",
    "############    LOCM2 #################\n",
    "####    Input ready for LOCM2, Starting LOCM2 algorithm now\n",
    "####    Step 8:  selecting transition sets (TS) [Main LOCM2 Algorithm]\n",
    "printmd(\"### Getting transitions sets for each class using LOCM2\")\n",
    "transition_sets_per_class = locm2_get_transition_sets_per_class(holes_per_class, transitions_per_class, consecutive_transitions_per_class)"
   ]
  },
  {
   "cell_type": "markdown",
   "metadata": {},
   "source": [
    "## Step 3: Algorithm For Induction of State Machines\n",
    "\n",
    "- Input: Action training sequence of length N\n",
    "- Output: Transition Set TS, Object states OS.\n",
    "\n",
    "We already have transition set TS per class."
   ]
  },
  {
   "cell_type": "code",
   "execution_count": 86,
   "metadata": {
    "lines_to_next_cell": 2
   },
   "outputs": [],
   "source": [
    "def plot_cytographs_fsm(graph, domain_name):\n",
    "    cytoscapeobj = CytoscapeWidget()\n",
    "    cytoscapeobj.graph.add_graph_from_networkx(graph)\n",
    "    edge_list = list()\n",
    "    for source, target, data in graph.edges(data=True):\n",
    "        edge_instance = Edge()\n",
    "        edge_instance.data['source'] = source\n",
    "        edge_instance.data['target'] = target\n",
    "        for k, v in data.items():\n",
    "            cyto_attrs = ['group', 'removed', 'selected', 'selectable',\n",
    "                'locked', 'grabbed', 'grabbable', 'classes', 'position', 'data']\n",
    "            if k in cyto_attrs:\n",
    "                setattr(edge_instance, k, v)\n",
    "            else:\n",
    "                edge_instance.data[k] = v\n",
    "            edge_list.append(edge_instance)\n",
    "\n",
    "    cytoscapeobj.graph.edges = edge_list\n",
    "#     print(\"Nodes:{}\".format(graph.nodes()))\n",
    "#     print(\"Edges:{}\".format(graph.edges()))\n",
    "    cytoscapeobj.set_style([{\n",
    "                    'width':400,\n",
    "                    'height':500,\n",
    "\n",
    "                    'selector': 'node',\n",
    "                    'style': {\n",
    "                        'label': 'data(id)',\n",
    "                        'font-family': 'helvetica',\n",
    "                        'font-size': '8px',\n",
    "                        'background-color': '#11479e',\n",
    "                        'height':'10px',\n",
    "                        'width':'10px',\n",
    "\n",
    "\n",
    "                        }\n",
    "\n",
    "                    },\n",
    "                    {\n",
    "                    'selector': 'node:parent',\n",
    "                    'css': {\n",
    "                        'background-opacity': 0.333,\n",
    "                        'background-color': '#bbb'\n",
    "                        }\n",
    "                    },\n",
    "                    {\n",
    "                    'selector': '$node > node',\n",
    "                    'css': {\n",
    "                        'padding-top': '10px',\n",
    "                        'padding-left': '10px',\n",
    "                        'padding-bottom': '10px',\n",
    "                        'padding-right': '10px',\n",
    "                        'text-valign': 'top',\n",
    "                        'text-halign': 'center',\n",
    "                        'background-color': '#bbb'\n",
    "                      }\n",
    "                    },\n",
    "                   {\n",
    "                        'selector': 'edge',\n",
    "\n",
    "                        'style': {\n",
    "                            'label':'data(weight)',\n",
    "                            'width': 1,\n",
    "                            'line-color': '#9dbaea',\n",
    "                            'target-arrow-shape': 'triangle',\n",
    "                            'target-arrow-color': '#9dbaea',\n",
    "                            'arrow-scale': 0.5,\n",
    "                            'curve-style': 'bezier',\n",
    "                            'font-family': 'helvetica',\n",
    "                            'font-size': '8px',\n",
    "                            'text-valign': 'top',\n",
    "                            'text-halign':'center'\n",
    "                        }\n",
    "                    },\n",
    "                    ])\n",
    "    cytoscapeobj.max_zoom = 2.0\n",
    "    cytoscapeobj.min_zoom = 0.5\n",
    "    display(cytoscapeobj)"
   ]
  },
  {
   "cell_type": "markdown",
   "metadata": {},
   "source": [
    "#### First make start(t) and end(t) as state for each transition in FSM."
   ]
  },
  {
   "cell_type": "code",
   "execution_count": 87,
   "metadata": {
    "lines_to_next_cell": 2,
    "scrolled": false
   },
   "outputs": [
    {
     "data": {
      "text/markdown": [
       "### Driver"
      ],
      "text/plain": [
       "<IPython.core.display.Markdown object>"
      ]
     },
     "metadata": {},
     "output_type": "display_data"
    },
    {
     "name": "stdout",
     "output_type": "stream",
     "text": [
      "Number of FSMS:1\n"
     ]
    },
    {
     "data": {
      "text/markdown": [
       "#### FSM 0"
      ],
      "text/plain": [
       "<IPython.core.display.Markdown object>"
      ]
     },
     "metadata": {},
     "output_type": "display_data"
    },
    {
     "data": {
      "text/html": [
       "<table>\n",
       "<thead>\n",
       "<tr><th>                </th><th style=\"text-align: right;\">  drivetruck.3</th><th style=\"text-align: right;\">  disembarktruck.0</th><th style=\"text-align: right;\">  boardtruck.0</th><th style=\"text-align: right;\">  walk.0</th></tr>\n",
       "</thead>\n",
       "<tbody>\n",
       "<tr><td>drivetruck.3    </td><td style=\"text-align: right;\">            20</td><td style=\"text-align: right;\">                11</td><td style=\"text-align: right;\">             0</td><td style=\"text-align: right;\">       0</td></tr>\n",
       "<tr><td>disembarktruck.0</td><td style=\"text-align: right;\">             0</td><td style=\"text-align: right;\">                 0</td><td style=\"text-align: right;\">             6</td><td style=\"text-align: right;\">       2</td></tr>\n",
       "<tr><td>boardtruck.0    </td><td style=\"text-align: right;\">            11</td><td style=\"text-align: right;\">                 2</td><td style=\"text-align: right;\">             0</td><td style=\"text-align: right;\">       0</td></tr>\n",
       "<tr><td>walk.0          </td><td style=\"text-align: right;\">             0</td><td style=\"text-align: right;\">                 0</td><td style=\"text-align: right;\">             4</td><td style=\"text-align: right;\">      10</td></tr>\n",
       "</tbody>\n",
       "</table>"
      ],
      "text/plain": [
       "'<table>\\n<thead>\\n<tr><th>                </th><th style=\"text-align: right;\">  drivetruck.3</th><th style=\"text-align: right;\">  disembarktruck.0</th><th style=\"text-align: right;\">  boardtruck.0</th><th style=\"text-align: right;\">  walk.0</th></tr>\\n</thead>\\n<tbody>\\n<tr><td>drivetruck.3    </td><td style=\"text-align: right;\">            20</td><td style=\"text-align: right;\">                11</td><td style=\"text-align: right;\">             0</td><td style=\"text-align: right;\">       0</td></tr>\\n<tr><td>disembarktruck.0</td><td style=\"text-align: right;\">             0</td><td style=\"text-align: right;\">                 0</td><td style=\"text-align: right;\">             6</td><td style=\"text-align: right;\">       2</td></tr>\\n<tr><td>boardtruck.0    </td><td style=\"text-align: right;\">            11</td><td style=\"text-align: right;\">                 2</td><td style=\"text-align: right;\">             0</td><td style=\"text-align: right;\">       0</td></tr>\\n<tr><td>walk.0          </td><td style=\"text-align: right;\">             0</td><td style=\"text-align: right;\">                 0</td><td style=\"text-align: right;\">             4</td><td style=\"text-align: right;\">      10</td></tr>\\n</tbody>\\n</table>'"
      ]
     },
     "metadata": {},
     "output_type": "display_data"
    },
    {
     "data": {
      "application/vnd.jupyter.widget-view+json": {
       "model_id": "3cf9138878e741b489aba93dbc26dc93",
       "version_major": 2,
       "version_minor": 0
      },
      "text/plain": [
       "CytoscapeWidget(cytoscape_layout={'name': 'cola'}, cytoscape_style=[{'width': 400, 'height': 500, 'selector': …"
      ]
     },
     "metadata": {},
     "output_type": "display_data"
    },
    {
     "data": {
      "text/html": [
       "<table>\n",
       "<thead>\n",
       "<tr><th>                                                                   </th><th style=\"text-align: right;\">  e(boardtruck.0)|e(drivetruck.3)|s(drivetruck.3)|s(disembarktruck.0)</th><th style=\"text-align: right;\">  e(walk.0)|e(disembarktruck.0)|s(boardtruck.0)|s(walk.0)</th></tr>\n",
       "</thead>\n",
       "<tbody>\n",
       "<tr><td>e(boardtruck.0)|e(drivetruck.3)|s(drivetruck.3)|s(disembarktruck.0)</td><td style=\"text-align: right;\">                                                                    1</td><td style=\"text-align: right;\">                                                        1</td></tr>\n",
       "<tr><td>e(walk.0)|e(disembarktruck.0)|s(boardtruck.0)|s(walk.0)            </td><td style=\"text-align: right;\">                                                                    1</td><td style=\"text-align: right;\">                                                        1</td></tr>\n",
       "</tbody>\n",
       "</table>"
      ],
      "text/plain": [
       "'<table>\\n<thead>\\n<tr><th>                                                                   </th><th style=\"text-align: right;\">  e(boardtruck.0)|e(drivetruck.3)|s(drivetruck.3)|s(disembarktruck.0)</th><th style=\"text-align: right;\">  e(walk.0)|e(disembarktruck.0)|s(boardtruck.0)|s(walk.0)</th></tr>\\n</thead>\\n<tbody>\\n<tr><td>e(boardtruck.0)|e(drivetruck.3)|s(drivetruck.3)|s(disembarktruck.0)</td><td style=\"text-align: right;\">                                                                    1</td><td style=\"text-align: right;\">                                                        1</td></tr>\\n<tr><td>e(walk.0)|e(disembarktruck.0)|s(boardtruck.0)|s(walk.0)            </td><td style=\"text-align: right;\">                                                                    1</td><td style=\"text-align: right;\">                                                        1</td></tr>\\n</tbody>\\n</table>'"
      ]
     },
     "metadata": {},
     "output_type": "display_data"
    },
    {
     "data": {
      "text/markdown": [
       "### Truck"
      ],
      "text/plain": [
       "<IPython.core.display.Markdown object>"
      ]
     },
     "metadata": {},
     "output_type": "display_data"
    },
    {
     "name": "stdout",
     "output_type": "stream",
     "text": [
      "Number of FSMS:1\n"
     ]
    },
    {
     "data": {
      "text/markdown": [
       "#### FSM 0"
      ],
      "text/plain": [
       "<IPython.core.display.Markdown object>"
      ]
     },
     "metadata": {},
     "output_type": "display_data"
    },
    {
     "data": {
      "text/html": [
       "<table>\n",
       "<thead>\n",
       "<tr><th>             </th><th style=\"text-align: right;\">  loadtruck.0</th><th style=\"text-align: right;\">  unloadtruck.0</th></tr>\n",
       "</thead>\n",
       "<tbody>\n",
       "<tr><td>loadtruck.0  </td><td style=\"text-align: right;\">            0</td><td style=\"text-align: right;\">              9</td></tr>\n",
       "<tr><td>unloadtruck.0</td><td style=\"text-align: right;\">            2</td><td style=\"text-align: right;\">              0</td></tr>\n",
       "</tbody>\n",
       "</table>"
      ],
      "text/plain": [
       "'<table>\\n<thead>\\n<tr><th>             </th><th style=\"text-align: right;\">  loadtruck.0</th><th style=\"text-align: right;\">  unloadtruck.0</th></tr>\\n</thead>\\n<tbody>\\n<tr><td>loadtruck.0  </td><td style=\"text-align: right;\">            0</td><td style=\"text-align: right;\">              9</td></tr>\\n<tr><td>unloadtruck.0</td><td style=\"text-align: right;\">            2</td><td style=\"text-align: right;\">              0</td></tr>\\n</tbody>\\n</table>'"
      ]
     },
     "metadata": {},
     "output_type": "display_data"
    },
    {
     "data": {
      "application/vnd.jupyter.widget-view+json": {
       "model_id": "21e9512bad8045d7840acb177c5bf107",
       "version_major": 2,
       "version_minor": 0
      },
      "text/plain": [
       "CytoscapeWidget(cytoscape_layout={'name': 'cola'}, cytoscape_style=[{'width': 400, 'height': 500, 'selector': …"
      ]
     },
     "metadata": {},
     "output_type": "display_data"
    },
    {
     "data": {
      "text/html": [
       "<table>\n",
       "<thead>\n",
       "<tr><th>                               </th><th style=\"text-align: right;\">  e(loadtruck.0)|s(unloadtruck.0)</th><th style=\"text-align: right;\">  e(unloadtruck.0)|s(loadtruck.0)</th></tr>\n",
       "</thead>\n",
       "<tbody>\n",
       "<tr><td>e(loadtruck.0)|s(unloadtruck.0)</td><td style=\"text-align: right;\">                                0</td><td style=\"text-align: right;\">                                1</td></tr>\n",
       "<tr><td>e(unloadtruck.0)|s(loadtruck.0)</td><td style=\"text-align: right;\">                                1</td><td style=\"text-align: right;\">                                0</td></tr>\n",
       "</tbody>\n",
       "</table>"
      ],
      "text/plain": [
       "'<table>\\n<thead>\\n<tr><th>                               </th><th style=\"text-align: right;\">  e(loadtruck.0)|s(unloadtruck.0)</th><th style=\"text-align: right;\">  e(unloadtruck.0)|s(loadtruck.0)</th></tr>\\n</thead>\\n<tbody>\\n<tr><td>e(loadtruck.0)|s(unloadtruck.0)</td><td style=\"text-align: right;\">                                0</td><td style=\"text-align: right;\">                                1</td></tr>\\n<tr><td>e(unloadtruck.0)|s(loadtruck.0)</td><td style=\"text-align: right;\">                                1</td><td style=\"text-align: right;\">                                0</td></tr>\\n</tbody>\\n</table>'"
      ]
     },
     "metadata": {},
     "output_type": "display_data"
    },
    {
     "data": {
      "text/markdown": [
       "### Package"
      ],
      "text/plain": [
       "<IPython.core.display.Markdown object>"
      ]
     },
     "metadata": {},
     "output_type": "display_data"
    },
    {
     "name": "stdout",
     "output_type": "stream",
     "text": [
      "Number of FSMS:4\n"
     ]
    },
    {
     "data": {
      "text/markdown": [
       "#### FSM 0"
      ],
      "text/plain": [
       "<IPython.core.display.Markdown object>"
      ]
     },
     "metadata": {},
     "output_type": "display_data"
    },
    {
     "data": {
      "text/html": [
       "<table>\n",
       "<thead>\n",
       "<tr><th>                </th><th style=\"text-align: right;\">  drivetruck.0</th><th style=\"text-align: right;\">  disembarktruck.1</th><th style=\"text-align: right;\">  boardtruck.1</th></tr>\n",
       "</thead>\n",
       "<tbody>\n",
       "<tr><td>drivetruck.0    </td><td style=\"text-align: right;\">            10</td><td style=\"text-align: right;\">                 9</td><td style=\"text-align: right;\">             0</td></tr>\n",
       "<tr><td>disembarktruck.1</td><td style=\"text-align: right;\">             0</td><td style=\"text-align: right;\">                 0</td><td style=\"text-align: right;\">             5</td></tr>\n",
       "<tr><td>boardtruck.1    </td><td style=\"text-align: right;\">             7</td><td style=\"text-align: right;\">                 1</td><td style=\"text-align: right;\">             0</td></tr>\n",
       "</tbody>\n",
       "</table>"
      ],
      "text/plain": [
       "'<table>\\n<thead>\\n<tr><th>                </th><th style=\"text-align: right;\">  drivetruck.0</th><th style=\"text-align: right;\">  disembarktruck.1</th><th style=\"text-align: right;\">  boardtruck.1</th></tr>\\n</thead>\\n<tbody>\\n<tr><td>drivetruck.0    </td><td style=\"text-align: right;\">            10</td><td style=\"text-align: right;\">                 9</td><td style=\"text-align: right;\">             0</td></tr>\\n<tr><td>disembarktruck.1</td><td style=\"text-align: right;\">             0</td><td style=\"text-align: right;\">                 0</td><td style=\"text-align: right;\">             5</td></tr>\\n<tr><td>boardtruck.1    </td><td style=\"text-align: right;\">             7</td><td style=\"text-align: right;\">                 1</td><td style=\"text-align: right;\">             0</td></tr>\\n</tbody>\\n</table>'"
      ]
     },
     "metadata": {},
     "output_type": "display_data"
    },
    {
     "data": {
      "application/vnd.jupyter.widget-view+json": {
       "model_id": "daa28318724044959b8ea1d8c3c9c2de",
       "version_major": 2,
       "version_minor": 0
      },
      "text/plain": [
       "CytoscapeWidget(cytoscape_layout={'name': 'cola'}, cytoscape_style=[{'width': 400, 'height': 500, 'selector': …"
      ]
     },
     "metadata": {},
     "output_type": "display_data"
    },
    {
     "data": {
      "text/html": [
       "<table>\n",
       "<thead>\n",
       "<tr><th>                                                                   </th><th style=\"text-align: right;\">  e(disembarktruck.1)|s(boardtruck.1)</th><th style=\"text-align: right;\">  e(boardtruck.1)|e(drivetruck.0)|s(drivetruck.0)|s(disembarktruck.1)</th></tr>\n",
       "</thead>\n",
       "<tbody>\n",
       "<tr><td>e(disembarktruck.1)|s(boardtruck.1)                                </td><td style=\"text-align: right;\">                                    0</td><td style=\"text-align: right;\">                                                                    1</td></tr>\n",
       "<tr><td>e(boardtruck.1)|e(drivetruck.0)|s(drivetruck.0)|s(disembarktruck.1)</td><td style=\"text-align: right;\">                                    1</td><td style=\"text-align: right;\">                                                                    1</td></tr>\n",
       "</tbody>\n",
       "</table>"
      ],
      "text/plain": [
       "'<table>\\n<thead>\\n<tr><th>                                                                   </th><th style=\"text-align: right;\">  e(disembarktruck.1)|s(boardtruck.1)</th><th style=\"text-align: right;\">  e(boardtruck.1)|e(drivetruck.0)|s(drivetruck.0)|s(disembarktruck.1)</th></tr>\\n</thead>\\n<tbody>\\n<tr><td>e(disembarktruck.1)|s(boardtruck.1)                                </td><td style=\"text-align: right;\">                                    0</td><td style=\"text-align: right;\">                                                                    1</td></tr>\\n<tr><td>e(boardtruck.1)|e(drivetruck.0)|s(drivetruck.0)|s(disembarktruck.1)</td><td style=\"text-align: right;\">                                    1</td><td style=\"text-align: right;\">                                                                    1</td></tr>\\n</tbody>\\n</table>'"
      ]
     },
     "metadata": {},
     "output_type": "display_data"
    },
    {
     "data": {
      "text/markdown": [
       "#### FSM 1"
      ],
      "text/plain": [
       "<IPython.core.display.Markdown object>"
      ]
     },
     "metadata": {},
     "output_type": "display_data"
    },
    {
     "data": {
      "text/html": [
       "<table>\n",
       "<thead>\n",
       "<tr><th>                </th><th style=\"text-align: right;\">  disembarktruck.1</th><th style=\"text-align: right;\">  unloadtruck.1</th></tr>\n",
       "</thead>\n",
       "<tbody>\n",
       "<tr><td>disembarktruck.1</td><td style=\"text-align: right;\">                 0</td><td style=\"text-align: right;\">              1</td></tr>\n",
       "<tr><td>unloadtruck.1   </td><td style=\"text-align: right;\">                 3</td><td style=\"text-align: right;\">              0</td></tr>\n",
       "</tbody>\n",
       "</table>"
      ],
      "text/plain": [
       "'<table>\\n<thead>\\n<tr><th>                </th><th style=\"text-align: right;\">  disembarktruck.1</th><th style=\"text-align: right;\">  unloadtruck.1</th></tr>\\n</thead>\\n<tbody>\\n<tr><td>disembarktruck.1</td><td style=\"text-align: right;\">                 0</td><td style=\"text-align: right;\">              1</td></tr>\\n<tr><td>unloadtruck.1   </td><td style=\"text-align: right;\">                 3</td><td style=\"text-align: right;\">              0</td></tr>\\n</tbody>\\n</table>'"
      ]
     },
     "metadata": {},
     "output_type": "display_data"
    },
    {
     "data": {
      "application/vnd.jupyter.widget-view+json": {
       "model_id": "9034e1ec73c844f390318f9b5cb8cbd9",
       "version_major": 2,
       "version_minor": 0
      },
      "text/plain": [
       "CytoscapeWidget(cytoscape_layout={'name': 'cola'}, cytoscape_style=[{'width': 400, 'height': 500, 'selector': …"
      ]
     },
     "metadata": {},
     "output_type": "display_data"
    },
    {
     "data": {
      "text/html": [
       "<table>\n",
       "<thead>\n",
       "<tr><th>                                    </th><th style=\"text-align: right;\">  e(disembarktruck.1)|s(unloadtruck.1)</th><th style=\"text-align: right;\">  e(unloadtruck.1)|s(disembarktruck.1)</th></tr>\n",
       "</thead>\n",
       "<tbody>\n",
       "<tr><td>e(disembarktruck.1)|s(unloadtruck.1)</td><td style=\"text-align: right;\">                                     0</td><td style=\"text-align: right;\">                                     1</td></tr>\n",
       "<tr><td>e(unloadtruck.1)|s(disembarktruck.1)</td><td style=\"text-align: right;\">                                     1</td><td style=\"text-align: right;\">                                     0</td></tr>\n",
       "</tbody>\n",
       "</table>"
      ],
      "text/plain": [
       "'<table>\\n<thead>\\n<tr><th>                                    </th><th style=\"text-align: right;\">  e(disembarktruck.1)|s(unloadtruck.1)</th><th style=\"text-align: right;\">  e(unloadtruck.1)|s(disembarktruck.1)</th></tr>\\n</thead>\\n<tbody>\\n<tr><td>e(disembarktruck.1)|s(unloadtruck.1)</td><td style=\"text-align: right;\">                                     0</td><td style=\"text-align: right;\">                                     1</td></tr>\\n<tr><td>e(unloadtruck.1)|s(disembarktruck.1)</td><td style=\"text-align: right;\">                                     1</td><td style=\"text-align: right;\">                                     0</td></tr>\\n</tbody>\\n</table>'"
      ]
     },
     "metadata": {},
     "output_type": "display_data"
    },
    {
     "data": {
      "text/markdown": [
       "#### FSM 2"
      ],
      "text/plain": [
       "<IPython.core.display.Markdown object>"
      ]
     },
     "metadata": {},
     "output_type": "display_data"
    },
    {
     "data": {
      "text/html": [
       "<table>\n",
       "<thead>\n",
       "<tr><th>            </th><th style=\"text-align: right;\">  loadtruck.1</th><th style=\"text-align: right;\">  boardtruck.1</th></tr>\n",
       "</thead>\n",
       "<tbody>\n",
       "<tr><td>loadtruck.1 </td><td style=\"text-align: right;\">            0</td><td style=\"text-align: right;\">             1</td></tr>\n",
       "<tr><td>boardtruck.1</td><td style=\"text-align: right;\">            5</td><td style=\"text-align: right;\">             0</td></tr>\n",
       "</tbody>\n",
       "</table>"
      ],
      "text/plain": [
       "'<table>\\n<thead>\\n<tr><th>            </th><th style=\"text-align: right;\">  loadtruck.1</th><th style=\"text-align: right;\">  boardtruck.1</th></tr>\\n</thead>\\n<tbody>\\n<tr><td>loadtruck.1 </td><td style=\"text-align: right;\">            0</td><td style=\"text-align: right;\">             1</td></tr>\\n<tr><td>boardtruck.1</td><td style=\"text-align: right;\">            5</td><td style=\"text-align: right;\">             0</td></tr>\\n</tbody>\\n</table>'"
      ]
     },
     "metadata": {},
     "output_type": "display_data"
    },
    {
     "data": {
      "application/vnd.jupyter.widget-view+json": {
       "model_id": "c63c2699e6a24b98b2a0bee6847c3418",
       "version_major": 2,
       "version_minor": 0
      },
      "text/plain": [
       "CytoscapeWidget(cytoscape_layout={'name': 'cola'}, cytoscape_style=[{'width': 400, 'height': 500, 'selector': …"
      ]
     },
     "metadata": {},
     "output_type": "display_data"
    },
    {
     "data": {
      "text/html": [
       "<table>\n",
       "<thead>\n",
       "<tr><th>                              </th><th style=\"text-align: right;\">  e(loadtruck.1)|s(boardtruck.1)</th><th style=\"text-align: right;\">  e(boardtruck.1)|s(loadtruck.1)</th></tr>\n",
       "</thead>\n",
       "<tbody>\n",
       "<tr><td>e(loadtruck.1)|s(boardtruck.1)</td><td style=\"text-align: right;\">                               0</td><td style=\"text-align: right;\">                               1</td></tr>\n",
       "<tr><td>e(boardtruck.1)|s(loadtruck.1)</td><td style=\"text-align: right;\">                               1</td><td style=\"text-align: right;\">                               0</td></tr>\n",
       "</tbody>\n",
       "</table>"
      ],
      "text/plain": [
       "'<table>\\n<thead>\\n<tr><th>                              </th><th style=\"text-align: right;\">  e(loadtruck.1)|s(boardtruck.1)</th><th style=\"text-align: right;\">  e(boardtruck.1)|s(loadtruck.1)</th></tr>\\n</thead>\\n<tbody>\\n<tr><td>e(loadtruck.1)|s(boardtruck.1)</td><td style=\"text-align: right;\">                               0</td><td style=\"text-align: right;\">                               1</td></tr>\\n<tr><td>e(boardtruck.1)|s(loadtruck.1)</td><td style=\"text-align: right;\">                               1</td><td style=\"text-align: right;\">                               0</td></tr>\\n</tbody>\\n</table>'"
      ]
     },
     "metadata": {},
     "output_type": "display_data"
    },
    {
     "data": {
      "text/markdown": [
       "#### FSM 3"
      ],
      "text/plain": [
       "<IPython.core.display.Markdown object>"
      ]
     },
     "metadata": {},
     "output_type": "display_data"
    },
    {
     "data": {
      "text/html": [
       "<table>\n",
       "<thead>\n",
       "<tr><th>                </th><th style=\"text-align: right;\">  boardtruck.1</th><th style=\"text-align: right;\">  disembarktruck.1</th><th style=\"text-align: right;\">  unloadtruck.1</th><th style=\"text-align: right;\">  loadtruck.1</th><th style=\"text-align: right;\">  drivetruck.0</th></tr>\n",
       "</thead>\n",
       "<tbody>\n",
       "<tr><td>boardtruck.1    </td><td style=\"text-align: right;\">             0</td><td style=\"text-align: right;\">                 1</td><td style=\"text-align: right;\">              1</td><td style=\"text-align: right;\">            5</td><td style=\"text-align: right;\">             7</td></tr>\n",
       "<tr><td>disembarktruck.1</td><td style=\"text-align: right;\">             5</td><td style=\"text-align: right;\">                 0</td><td style=\"text-align: right;\">              1</td><td style=\"text-align: right;\">            1</td><td style=\"text-align: right;\">             0</td></tr>\n",
       "<tr><td>unloadtruck.1   </td><td style=\"text-align: right;\">             1</td><td style=\"text-align: right;\">                 3</td><td style=\"text-align: right;\">              0</td><td style=\"text-align: right;\">            1</td><td style=\"text-align: right;\">             6</td></tr>\n",
       "<tr><td>loadtruck.1     </td><td style=\"text-align: right;\">             1</td><td style=\"text-align: right;\">                 1</td><td style=\"text-align: right;\">              1</td><td style=\"text-align: right;\">            0</td><td style=\"text-align: right;\">             8</td></tr>\n",
       "<tr><td>drivetruck.0    </td><td style=\"text-align: right;\">             0</td><td style=\"text-align: right;\">                 9</td><td style=\"text-align: right;\">              7</td><td style=\"text-align: right;\">            5</td><td style=\"text-align: right;\">            10</td></tr>\n",
       "</tbody>\n",
       "</table>"
      ],
      "text/plain": [
       "'<table>\\n<thead>\\n<tr><th>                </th><th style=\"text-align: right;\">  boardtruck.1</th><th style=\"text-align: right;\">  disembarktruck.1</th><th style=\"text-align: right;\">  unloadtruck.1</th><th style=\"text-align: right;\">  loadtruck.1</th><th style=\"text-align: right;\">  drivetruck.0</th></tr>\\n</thead>\\n<tbody>\\n<tr><td>boardtruck.1    </td><td style=\"text-align: right;\">             0</td><td style=\"text-align: right;\">                 1</td><td style=\"text-align: right;\">              1</td><td style=\"text-align: right;\">            5</td><td style=\"text-align: right;\">             7</td></tr>\\n<tr><td>disembarktruck.1</td><td style=\"text-align: right;\">             5</td><td style=\"text-align: right;\">                 0</td><td style=\"text-align: right;\">              1</td><td style=\"text-align: right;\">            1</td><td style=\"text-align: right;\">             0</td></tr>\\n<tr><td>unloadtruck.1   </td><td style=\"text-align: right;\">             1</td><td style=\"text-align: right;\">                 3</td><td style=\"text-align: right;\">              0</td><td style=\"text-align: right;\">            1</td><td style=\"text-align: right;\">             6</td></tr>\\n<tr><td>loadtruck.1     </td><td style=\"text-align: right;\">             1</td><td style=\"text-align: right;\">                 1</td><td style=\"text-align: right;\">              1</td><td style=\"text-align: right;\">            0</td><td style=\"text-align: right;\">             8</td></tr>\\n<tr><td>drivetruck.0    </td><td style=\"text-align: right;\">             0</td><td style=\"text-align: right;\">                 9</td><td style=\"text-align: right;\">              7</td><td style=\"text-align: right;\">            5</td><td style=\"text-align: right;\">            10</td></tr>\\n</tbody>\\n</table>'"
      ]
     },
     "metadata": {},
     "output_type": "display_data"
    },
    {
     "data": {
      "application/vnd.jupyter.widget-view+json": {
       "model_id": "b35b49aea9ad4b39985145a5c606c08c",
       "version_major": 2,
       "version_minor": 0
      },
      "text/plain": [
       "CytoscapeWidget(cytoscape_layout={'name': 'cola'}, cytoscape_style=[{'width': 400, 'height': 500, 'selector': …"
      ]
     },
     "metadata": {},
     "output_type": "display_data"
    },
    {
     "data": {
      "text/html": [
       "<table>\n",
       "<thead>\n",
       "<tr><th>                                                                                                                                                                       </th><th style=\"text-align: right;\">  e(drivetruck.0)|e(loadtruck.1)|e(unloadtruck.1)|e(disembarktruck.1)|s(boardtruck.1)|e(boardtruck.1)|s(disembarktruck.1)|s(unloadtruck.1)|s(loadtruck.1)|s(drivetruck.0)</th></tr>\n",
       "</thead>\n",
       "<tbody>\n",
       "<tr><td>e(drivetruck.0)|e(loadtruck.1)|e(unloadtruck.1)|e(disembarktruck.1)|s(boardtruck.1)|e(boardtruck.1)|s(disembarktruck.1)|s(unloadtruck.1)|s(loadtruck.1)|s(drivetruck.0)</td><td style=\"text-align: right;\">                                                                                                                                                                        1</td></tr>\n",
       "</tbody>\n",
       "</table>"
      ],
      "text/plain": [
       "'<table>\\n<thead>\\n<tr><th>                                                                                                                                                                       </th><th style=\"text-align: right;\">  e(drivetruck.0)|e(loadtruck.1)|e(unloadtruck.1)|e(disembarktruck.1)|s(boardtruck.1)|e(boardtruck.1)|s(disembarktruck.1)|s(unloadtruck.1)|s(loadtruck.1)|s(drivetruck.0)</th></tr>\\n</thead>\\n<tbody>\\n<tr><td>e(drivetruck.0)|e(loadtruck.1)|e(unloadtruck.1)|e(disembarktruck.1)|s(boardtruck.1)|e(boardtruck.1)|s(disembarktruck.1)|s(unloadtruck.1)|s(loadtruck.1)|s(drivetruck.0)</td><td style=\"text-align: right;\">                                                                                                                                                                        1</td></tr>\\n</tbody>\\n</table>'"
      ]
     },
     "metadata": {},
     "output_type": "display_data"
    },
    {
     "data": {
      "text/markdown": [
       "### Location"
      ],
      "text/plain": [
       "<IPython.core.display.Markdown object>"
      ]
     },
     "metadata": {},
     "output_type": "display_data"
    },
    {
     "name": "stdout",
     "output_type": "stream",
     "text": [
      "Number of FSMS:12\n"
     ]
    },
    {
     "data": {
      "text/markdown": [
       "#### FSM 0"
      ],
      "text/plain": [
       "<IPython.core.display.Markdown object>"
      ]
     },
     "metadata": {},
     "output_type": "display_data"
    },
    {
     "data": {
      "text/html": [
       "<table>\n",
       "<thead>\n",
       "<tr><th>                </th><th style=\"text-align: right;\">  unloadtruck.2</th><th style=\"text-align: right;\">  walk.2</th><th style=\"text-align: right;\">  disembarktruck.2</th></tr>\n",
       "</thead>\n",
       "<tbody>\n",
       "<tr><td>unloadtruck.2   </td><td style=\"text-align: right;\">              0</td><td style=\"text-align: right;\">       0</td><td style=\"text-align: right;\">                 3</td></tr>\n",
       "<tr><td>walk.2          </td><td style=\"text-align: right;\">              0</td><td style=\"text-align: right;\">       0</td><td style=\"text-align: right;\">                 0</td></tr>\n",
       "<tr><td>disembarktruck.2</td><td style=\"text-align: right;\">              1</td><td style=\"text-align: right;\">       0</td><td style=\"text-align: right;\">                 0</td></tr>\n",
       "</tbody>\n",
       "</table>"
      ],
      "text/plain": [
       "'<table>\\n<thead>\\n<tr><th>                </th><th style=\"text-align: right;\">  unloadtruck.2</th><th style=\"text-align: right;\">  walk.2</th><th style=\"text-align: right;\">  disembarktruck.2</th></tr>\\n</thead>\\n<tbody>\\n<tr><td>unloadtruck.2   </td><td style=\"text-align: right;\">              0</td><td style=\"text-align: right;\">       0</td><td style=\"text-align: right;\">                 3</td></tr>\\n<tr><td>walk.2          </td><td style=\"text-align: right;\">              0</td><td style=\"text-align: right;\">       0</td><td style=\"text-align: right;\">                 0</td></tr>\\n<tr><td>disembarktruck.2</td><td style=\"text-align: right;\">              1</td><td style=\"text-align: right;\">       0</td><td style=\"text-align: right;\">                 0</td></tr>\\n</tbody>\\n</table>'"
      ]
     },
     "metadata": {},
     "output_type": "display_data"
    },
    {
     "data": {
      "application/vnd.jupyter.widget-view+json": {
       "model_id": "61cdc26094fb47579e70c8a983900acd",
       "version_major": 2,
       "version_minor": 0
      },
      "text/plain": [
       "CytoscapeWidget(cytoscape_layout={'name': 'cola'}, cytoscape_style=[{'width': 400, 'height': 500, 'selector': …"
      ]
     },
     "metadata": {},
     "output_type": "display_data"
    },
    {
     "data": {
      "text/html": [
       "<table>\n",
       "<thead>\n",
       "<tr><th>                                    </th><th style=\"text-align: right;\">  e(unloadtruck.2)|s(disembarktruck.2)</th><th style=\"text-align: right;\">  s(walk.2)</th><th style=\"text-align: right;\">  e(walk.2)</th><th style=\"text-align: right;\">  e(disembarktruck.2)|s(unloadtruck.2)</th></tr>\n",
       "</thead>\n",
       "<tbody>\n",
       "<tr><td>e(unloadtruck.2)|s(disembarktruck.2)</td><td style=\"text-align: right;\">                                     0</td><td style=\"text-align: right;\">          0</td><td style=\"text-align: right;\">          0</td><td style=\"text-align: right;\">                                     1</td></tr>\n",
       "<tr><td>s(walk.2)                           </td><td style=\"text-align: right;\">                                     0</td><td style=\"text-align: right;\">          0</td><td style=\"text-align: right;\">          1</td><td style=\"text-align: right;\">                                     0</td></tr>\n",
       "<tr><td>e(walk.2)                           </td><td style=\"text-align: right;\">                                     0</td><td style=\"text-align: right;\">          0</td><td style=\"text-align: right;\">          0</td><td style=\"text-align: right;\">                                     0</td></tr>\n",
       "<tr><td>e(disembarktruck.2)|s(unloadtruck.2)</td><td style=\"text-align: right;\">                                     1</td><td style=\"text-align: right;\">          0</td><td style=\"text-align: right;\">          0</td><td style=\"text-align: right;\">                                     0</td></tr>\n",
       "</tbody>\n",
       "</table>"
      ],
      "text/plain": [
       "'<table>\\n<thead>\\n<tr><th>                                    </th><th style=\"text-align: right;\">  e(unloadtruck.2)|s(disembarktruck.2)</th><th style=\"text-align: right;\">  s(walk.2)</th><th style=\"text-align: right;\">  e(walk.2)</th><th style=\"text-align: right;\">  e(disembarktruck.2)|s(unloadtruck.2)</th></tr>\\n</thead>\\n<tbody>\\n<tr><td>e(unloadtruck.2)|s(disembarktruck.2)</td><td style=\"text-align: right;\">                                     0</td><td style=\"text-align: right;\">          0</td><td style=\"text-align: right;\">          0</td><td style=\"text-align: right;\">                                     1</td></tr>\\n<tr><td>s(walk.2)                           </td><td style=\"text-align: right;\">                                     0</td><td style=\"text-align: right;\">          0</td><td style=\"text-align: right;\">          1</td><td style=\"text-align: right;\">                                     0</td></tr>\\n<tr><td>e(walk.2)                           </td><td style=\"text-align: right;\">                                     0</td><td style=\"text-align: right;\">          0</td><td style=\"text-align: right;\">          0</td><td style=\"text-align: right;\">                                     0</td></tr>\\n<tr><td>e(disembarktruck.2)|s(unloadtruck.2)</td><td style=\"text-align: right;\">                                     1</td><td style=\"text-align: right;\">          0</td><td style=\"text-align: right;\">          0</td><td style=\"text-align: right;\">                                     0</td></tr>\\n</tbody>\\n</table>'"
      ]
     },
     "metadata": {},
     "output_type": "display_data"
    },
    {
     "data": {
      "text/markdown": [
       "#### FSM 1"
      ],
      "text/plain": [
       "<IPython.core.display.Markdown object>"
      ]
     },
     "metadata": {},
     "output_type": "display_data"
    },
    {
     "data": {
      "text/html": [
       "<table>\n",
       "<thead>\n",
       "<tr><th>                </th><th style=\"text-align: right;\">  drivetruck.1</th><th style=\"text-align: right;\">  walk.2</th><th style=\"text-align: right;\">  disembarktruck.2</th></tr>\n",
       "</thead>\n",
       "<tbody>\n",
       "<tr><td>drivetruck.1    </td><td style=\"text-align: right;\">             0</td><td style=\"text-align: right;\">       2</td><td style=\"text-align: right;\">                 0</td></tr>\n",
       "<tr><td>walk.2          </td><td style=\"text-align: right;\">             0</td><td style=\"text-align: right;\">       0</td><td style=\"text-align: right;\">                 0</td></tr>\n",
       "<tr><td>disembarktruck.2</td><td style=\"text-align: right;\">             0</td><td style=\"text-align: right;\">       0</td><td style=\"text-align: right;\">                 0</td></tr>\n",
       "</tbody>\n",
       "</table>"
      ],
      "text/plain": [
       "'<table>\\n<thead>\\n<tr><th>                </th><th style=\"text-align: right;\">  drivetruck.1</th><th style=\"text-align: right;\">  walk.2</th><th style=\"text-align: right;\">  disembarktruck.2</th></tr>\\n</thead>\\n<tbody>\\n<tr><td>drivetruck.1    </td><td style=\"text-align: right;\">             0</td><td style=\"text-align: right;\">       2</td><td style=\"text-align: right;\">                 0</td></tr>\\n<tr><td>walk.2          </td><td style=\"text-align: right;\">             0</td><td style=\"text-align: right;\">       0</td><td style=\"text-align: right;\">                 0</td></tr>\\n<tr><td>disembarktruck.2</td><td style=\"text-align: right;\">             0</td><td style=\"text-align: right;\">       0</td><td style=\"text-align: right;\">                 0</td></tr>\\n</tbody>\\n</table>'"
      ]
     },
     "metadata": {},
     "output_type": "display_data"
    },
    {
     "data": {
      "application/vnd.jupyter.widget-view+json": {
       "model_id": "84d33591378f4c63a0978fa721d667da",
       "version_major": 2,
       "version_minor": 0
      },
      "text/plain": [
       "CytoscapeWidget(cytoscape_layout={'name': 'cola'}, cytoscape_style=[{'width': 400, 'height': 500, 'selector': …"
      ]
     },
     "metadata": {},
     "output_type": "display_data"
    },
    {
     "data": {
      "text/html": [
       "<table>\n",
       "<thead>\n",
       "<tr><th>                         </th><th style=\"text-align: right;\">  s(drivetruck.1)</th><th style=\"text-align: right;\">  e(drivetruck.1)|s(walk.2)</th><th style=\"text-align: right;\">  e(walk.2)</th><th style=\"text-align: right;\">  s(disembarktruck.2)</th><th style=\"text-align: right;\">  e(disembarktruck.2)</th></tr>\n",
       "</thead>\n",
       "<tbody>\n",
       "<tr><td>s(drivetruck.1)          </td><td style=\"text-align: right;\">                0</td><td style=\"text-align: right;\">                          1</td><td style=\"text-align: right;\">          0</td><td style=\"text-align: right;\">                    0</td><td style=\"text-align: right;\">                    0</td></tr>\n",
       "<tr><td>e(drivetruck.1)|s(walk.2)</td><td style=\"text-align: right;\">                0</td><td style=\"text-align: right;\">                          0</td><td style=\"text-align: right;\">          1</td><td style=\"text-align: right;\">                    0</td><td style=\"text-align: right;\">                    0</td></tr>\n",
       "<tr><td>e(walk.2)                </td><td style=\"text-align: right;\">                0</td><td style=\"text-align: right;\">                          0</td><td style=\"text-align: right;\">          0</td><td style=\"text-align: right;\">                    0</td><td style=\"text-align: right;\">                    0</td></tr>\n",
       "<tr><td>s(disembarktruck.2)      </td><td style=\"text-align: right;\">                0</td><td style=\"text-align: right;\">                          0</td><td style=\"text-align: right;\">          0</td><td style=\"text-align: right;\">                    0</td><td style=\"text-align: right;\">                    1</td></tr>\n",
       "<tr><td>e(disembarktruck.2)      </td><td style=\"text-align: right;\">                0</td><td style=\"text-align: right;\">                          0</td><td style=\"text-align: right;\">          0</td><td style=\"text-align: right;\">                    0</td><td style=\"text-align: right;\">                    0</td></tr>\n",
       "</tbody>\n",
       "</table>"
      ],
      "text/plain": [
       "'<table>\\n<thead>\\n<tr><th>                         </th><th style=\"text-align: right;\">  s(drivetruck.1)</th><th style=\"text-align: right;\">  e(drivetruck.1)|s(walk.2)</th><th style=\"text-align: right;\">  e(walk.2)</th><th style=\"text-align: right;\">  s(disembarktruck.2)</th><th style=\"text-align: right;\">  e(disembarktruck.2)</th></tr>\\n</thead>\\n<tbody>\\n<tr><td>s(drivetruck.1)          </td><td style=\"text-align: right;\">                0</td><td style=\"text-align: right;\">                          1</td><td style=\"text-align: right;\">          0</td><td style=\"text-align: right;\">                    0</td><td style=\"text-align: right;\">                    0</td></tr>\\n<tr><td>e(drivetruck.1)|s(walk.2)</td><td style=\"text-align: right;\">                0</td><td style=\"text-align: right;\">                          0</td><td style=\"text-align: right;\">          1</td><td style=\"text-align: right;\">                    0</td><td style=\"text-align: right;\">                    0</td></tr>\\n<tr><td>e(walk.2)                </td><td style=\"text-align: right;\">                0</td><td style=\"text-align: right;\">                          0</td><td style=\"text-align: right;\">          0</td><td style=\"text-align: right;\">                    0</td><td style=\"text-align: right;\">                    0</td></tr>\\n<tr><td>s(disembarktruck.2)      </td><td style=\"text-align: right;\">                0</td><td style=\"text-align: right;\">                          0</td><td style=\"text-align: right;\">          0</td><td style=\"text-align: right;\">                    0</td><td style=\"text-align: right;\">                    1</td></tr>\\n<tr><td>e(disembarktruck.2)      </td><td style=\"text-align: right;\">                0</td><td style=\"text-align: right;\">                          0</td><td style=\"text-align: right;\">          0</td><td style=\"text-align: right;\">                    0</td><td style=\"text-align: right;\">                    0</td></tr>\\n</tbody>\\n</table>'"
      ]
     },
     "metadata": {},
     "output_type": "display_data"
    },
    {
     "data": {
      "text/markdown": [
       "#### FSM 2"
      ],
      "text/plain": [
       "<IPython.core.display.Markdown object>"
      ]
     },
     "metadata": {},
     "output_type": "display_data"
    },
    {
     "data": {
      "text/html": [
       "<table>\n",
       "<thead>\n",
       "<tr><th>            </th><th style=\"text-align: right;\">  loadtruck.2</th><th style=\"text-align: right;\">  boardtruck.2</th><th style=\"text-align: right;\">  drivetruck.2</th></tr>\n",
       "</thead>\n",
       "<tbody>\n",
       "<tr><td>loadtruck.2 </td><td style=\"text-align: right;\">            0</td><td style=\"text-align: right;\">             1</td><td style=\"text-align: right;\">             0</td></tr>\n",
       "<tr><td>boardtruck.2</td><td style=\"text-align: right;\">            5</td><td style=\"text-align: right;\">             0</td><td style=\"text-align: right;\">             0</td></tr>\n",
       "<tr><td>drivetruck.2</td><td style=\"text-align: right;\">            5</td><td style=\"text-align: right;\">             0</td><td style=\"text-align: right;\">             0</td></tr>\n",
       "</tbody>\n",
       "</table>"
      ],
      "text/plain": [
       "'<table>\\n<thead>\\n<tr><th>            </th><th style=\"text-align: right;\">  loadtruck.2</th><th style=\"text-align: right;\">  boardtruck.2</th><th style=\"text-align: right;\">  drivetruck.2</th></tr>\\n</thead>\\n<tbody>\\n<tr><td>loadtruck.2 </td><td style=\"text-align: right;\">            0</td><td style=\"text-align: right;\">             1</td><td style=\"text-align: right;\">             0</td></tr>\\n<tr><td>boardtruck.2</td><td style=\"text-align: right;\">            5</td><td style=\"text-align: right;\">             0</td><td style=\"text-align: right;\">             0</td></tr>\\n<tr><td>drivetruck.2</td><td style=\"text-align: right;\">            5</td><td style=\"text-align: right;\">             0</td><td style=\"text-align: right;\">             0</td></tr>\\n</tbody>\\n</table>'"
      ]
     },
     "metadata": {},
     "output_type": "display_data"
    },
    {
     "data": {
      "application/vnd.jupyter.widget-view+json": {
       "model_id": "bbb337b1a97f41bba12cba3b7002d444",
       "version_major": 2,
       "version_minor": 0
      },
      "text/plain": [
       "CytoscapeWidget(cytoscape_layout={'name': 'cola'}, cytoscape_style=[{'width': 400, 'height': 500, 'selector': …"
      ]
     },
     "metadata": {},
     "output_type": "display_data"
    },
    {
     "data": {
      "text/html": [
       "<table>\n",
       "<thead>\n",
       "<tr><th>                                              </th><th style=\"text-align: right;\">  e(loadtruck.2)|s(boardtruck.2)</th><th style=\"text-align: right;\">  s(drivetruck.2)</th><th style=\"text-align: right;\">  e(drivetruck.2)|e(boardtruck.2)|s(loadtruck.2)</th></tr>\n",
       "</thead>\n",
       "<tbody>\n",
       "<tr><td>e(loadtruck.2)|s(boardtruck.2)                </td><td style=\"text-align: right;\">                               0</td><td style=\"text-align: right;\">                0</td><td style=\"text-align: right;\">                                               1</td></tr>\n",
       "<tr><td>s(drivetruck.2)                               </td><td style=\"text-align: right;\">                               0</td><td style=\"text-align: right;\">                0</td><td style=\"text-align: right;\">                                               1</td></tr>\n",
       "<tr><td>e(drivetruck.2)|e(boardtruck.2)|s(loadtruck.2)</td><td style=\"text-align: right;\">                               1</td><td style=\"text-align: right;\">                0</td><td style=\"text-align: right;\">                                               0</td></tr>\n",
       "</tbody>\n",
       "</table>"
      ],
      "text/plain": [
       "'<table>\\n<thead>\\n<tr><th>                                              </th><th style=\"text-align: right;\">  e(loadtruck.2)|s(boardtruck.2)</th><th style=\"text-align: right;\">  s(drivetruck.2)</th><th style=\"text-align: right;\">  e(drivetruck.2)|e(boardtruck.2)|s(loadtruck.2)</th></tr>\\n</thead>\\n<tbody>\\n<tr><td>e(loadtruck.2)|s(boardtruck.2)                </td><td style=\"text-align: right;\">                               0</td><td style=\"text-align: right;\">                0</td><td style=\"text-align: right;\">                                               1</td></tr>\\n<tr><td>s(drivetruck.2)                               </td><td style=\"text-align: right;\">                               0</td><td style=\"text-align: right;\">                0</td><td style=\"text-align: right;\">                                               1</td></tr>\\n<tr><td>e(drivetruck.2)|e(boardtruck.2)|s(loadtruck.2)</td><td style=\"text-align: right;\">                               1</td><td style=\"text-align: right;\">                0</td><td style=\"text-align: right;\">                                               0</td></tr>\\n</tbody>\\n</table>'"
      ]
     },
     "metadata": {},
     "output_type": "display_data"
    },
    {
     "data": {
      "text/markdown": [
       "#### FSM 3"
      ],
      "text/plain": [
       "<IPython.core.display.Markdown object>"
      ]
     },
     "metadata": {},
     "output_type": "display_data"
    },
    {
     "data": {
      "text/html": [
       "<table>\n",
       "<thead>\n",
       "<tr><th>                </th><th style=\"text-align: right;\">  loadtruck.2</th><th style=\"text-align: right;\">  drivetruck.1</th><th style=\"text-align: right;\">  disembarktruck.2</th></tr>\n",
       "</thead>\n",
       "<tbody>\n",
       "<tr><td>loadtruck.2     </td><td style=\"text-align: right;\">            0</td><td style=\"text-align: right;\">             8</td><td style=\"text-align: right;\">                 1</td></tr>\n",
       "<tr><td>drivetruck.1    </td><td style=\"text-align: right;\">            0</td><td style=\"text-align: right;\">             0</td><td style=\"text-align: right;\">                 0</td></tr>\n",
       "<tr><td>disembarktruck.2</td><td style=\"text-align: right;\">            1</td><td style=\"text-align: right;\">             0</td><td style=\"text-align: right;\">                 0</td></tr>\n",
       "</tbody>\n",
       "</table>"
      ],
      "text/plain": [
       "'<table>\\n<thead>\\n<tr><th>                </th><th style=\"text-align: right;\">  loadtruck.2</th><th style=\"text-align: right;\">  drivetruck.1</th><th style=\"text-align: right;\">  disembarktruck.2</th></tr>\\n</thead>\\n<tbody>\\n<tr><td>loadtruck.2     </td><td style=\"text-align: right;\">            0</td><td style=\"text-align: right;\">             8</td><td style=\"text-align: right;\">                 1</td></tr>\\n<tr><td>drivetruck.1    </td><td style=\"text-align: right;\">            0</td><td style=\"text-align: right;\">             0</td><td style=\"text-align: right;\">                 0</td></tr>\\n<tr><td>disembarktruck.2</td><td style=\"text-align: right;\">            1</td><td style=\"text-align: right;\">             0</td><td style=\"text-align: right;\">                 0</td></tr>\\n</tbody>\\n</table>'"
      ]
     },
     "metadata": {},
     "output_type": "display_data"
    },
    {
     "data": {
      "application/vnd.jupyter.widget-view+json": {
       "model_id": "887083541242416fa5cfbdebb76ac021",
       "version_major": 2,
       "version_minor": 0
      },
      "text/plain": [
       "CytoscapeWidget(cytoscape_layout={'name': 'cola'}, cytoscape_style=[{'width': 400, 'height': 500, 'selector': …"
      ]
     },
     "metadata": {},
     "output_type": "display_data"
    },
    {
     "data": {
      "text/html": [
       "<table>\n",
       "<thead>\n",
       "<tr><th>                                                  </th><th style=\"text-align: right;\">  e(loadtruck.2)|s(drivetruck.1)|s(disembarktruck.2)</th><th style=\"text-align: right;\">  e(drivetruck.1)</th><th style=\"text-align: right;\">  e(disembarktruck.2)|s(loadtruck.2)</th></tr>\n",
       "</thead>\n",
       "<tbody>\n",
       "<tr><td>e(loadtruck.2)|s(drivetruck.1)|s(disembarktruck.2)</td><td style=\"text-align: right;\">                                                   0</td><td style=\"text-align: right;\">                1</td><td style=\"text-align: right;\">                                   1</td></tr>\n",
       "<tr><td>e(drivetruck.1)                                   </td><td style=\"text-align: right;\">                                                   0</td><td style=\"text-align: right;\">                0</td><td style=\"text-align: right;\">                                   0</td></tr>\n",
       "<tr><td>e(disembarktruck.2)|s(loadtruck.2)                </td><td style=\"text-align: right;\">                                                   1</td><td style=\"text-align: right;\">                0</td><td style=\"text-align: right;\">                                   0</td></tr>\n",
       "</tbody>\n",
       "</table>"
      ],
      "text/plain": [
       "'<table>\\n<thead>\\n<tr><th>                                                  </th><th style=\"text-align: right;\">  e(loadtruck.2)|s(drivetruck.1)|s(disembarktruck.2)</th><th style=\"text-align: right;\">  e(drivetruck.1)</th><th style=\"text-align: right;\">  e(disembarktruck.2)|s(loadtruck.2)</th></tr>\\n</thead>\\n<tbody>\\n<tr><td>e(loadtruck.2)|s(drivetruck.1)|s(disembarktruck.2)</td><td style=\"text-align: right;\">                                                   0</td><td style=\"text-align: right;\">                1</td><td style=\"text-align: right;\">                                   1</td></tr>\\n<tr><td>e(drivetruck.1)                                   </td><td style=\"text-align: right;\">                                                   0</td><td style=\"text-align: right;\">                0</td><td style=\"text-align: right;\">                                   0</td></tr>\\n<tr><td>e(disembarktruck.2)|s(loadtruck.2)                </td><td style=\"text-align: right;\">                                                   1</td><td style=\"text-align: right;\">                0</td><td style=\"text-align: right;\">                                   0</td></tr>\\n</tbody>\\n</table>'"
      ]
     },
     "metadata": {},
     "output_type": "display_data"
    },
    {
     "data": {
      "text/markdown": [
       "#### FSM 4"
      ],
      "text/plain": [
       "<IPython.core.display.Markdown object>"
      ]
     },
     "metadata": {},
     "output_type": "display_data"
    },
    {
     "data": {
      "text/html": [
       "<table>\n",
       "<thead>\n",
       "<tr><th>            </th><th style=\"text-align: right;\">  walk.1</th><th style=\"text-align: right;\">  drivetruck.1</th><th style=\"text-align: right;\">  walk.2</th></tr>\n",
       "</thead>\n",
       "<tbody>\n",
       "<tr><td>walk.1      </td><td style=\"text-align: right;\">       0</td><td style=\"text-align: right;\">             0</td><td style=\"text-align: right;\">       1</td></tr>\n",
       "<tr><td>drivetruck.1</td><td style=\"text-align: right;\">       0</td><td style=\"text-align: right;\">             0</td><td style=\"text-align: right;\">       2</td></tr>\n",
       "<tr><td>walk.2      </td><td style=\"text-align: right;\">      10</td><td style=\"text-align: right;\">             0</td><td style=\"text-align: right;\">       0</td></tr>\n",
       "</tbody>\n",
       "</table>"
      ],
      "text/plain": [
       "'<table>\\n<thead>\\n<tr><th>            </th><th style=\"text-align: right;\">  walk.1</th><th style=\"text-align: right;\">  drivetruck.1</th><th style=\"text-align: right;\">  walk.2</th></tr>\\n</thead>\\n<tbody>\\n<tr><td>walk.1      </td><td style=\"text-align: right;\">       0</td><td style=\"text-align: right;\">             0</td><td style=\"text-align: right;\">       1</td></tr>\\n<tr><td>drivetruck.1</td><td style=\"text-align: right;\">       0</td><td style=\"text-align: right;\">             0</td><td style=\"text-align: right;\">       2</td></tr>\\n<tr><td>walk.2      </td><td style=\"text-align: right;\">      10</td><td style=\"text-align: right;\">             0</td><td style=\"text-align: right;\">       0</td></tr>\\n</tbody>\\n</table>'"
      ]
     },
     "metadata": {},
     "output_type": "display_data"
    },
    {
     "data": {
      "application/vnd.jupyter.widget-view+json": {
       "model_id": "e6225af87ac840849f4beb3ee58325b3",
       "version_major": 2,
       "version_minor": 0
      },
      "text/plain": [
       "CytoscapeWidget(cytoscape_layout={'name': 'cola'}, cytoscape_style=[{'width': 400, 'height': 500, 'selector': …"
      ]
     },
     "metadata": {},
     "output_type": "display_data"
    },
    {
     "data": {
      "text/html": [
       "<table>\n",
       "<thead>\n",
       "<tr><th>                                   </th><th style=\"text-align: right;\">  s(drivetruck.1)</th><th style=\"text-align: right;\">  e(drivetruck.1)|e(walk.1)|s(walk.2)</th><th style=\"text-align: right;\">  e(walk.2)|s(walk.1)</th></tr>\n",
       "</thead>\n",
       "<tbody>\n",
       "<tr><td>s(drivetruck.1)                    </td><td style=\"text-align: right;\">                0</td><td style=\"text-align: right;\">                                    1</td><td style=\"text-align: right;\">                    0</td></tr>\n",
       "<tr><td>e(drivetruck.1)|e(walk.1)|s(walk.2)</td><td style=\"text-align: right;\">                0</td><td style=\"text-align: right;\">                                    0</td><td style=\"text-align: right;\">                    1</td></tr>\n",
       "<tr><td>e(walk.2)|s(walk.1)                </td><td style=\"text-align: right;\">                0</td><td style=\"text-align: right;\">                                    1</td><td style=\"text-align: right;\">                    0</td></tr>\n",
       "</tbody>\n",
       "</table>"
      ],
      "text/plain": [
       "'<table>\\n<thead>\\n<tr><th>                                   </th><th style=\"text-align: right;\">  s(drivetruck.1)</th><th style=\"text-align: right;\">  e(drivetruck.1)|e(walk.1)|s(walk.2)</th><th style=\"text-align: right;\">  e(walk.2)|s(walk.1)</th></tr>\\n</thead>\\n<tbody>\\n<tr><td>s(drivetruck.1)                    </td><td style=\"text-align: right;\">                0</td><td style=\"text-align: right;\">                                    1</td><td style=\"text-align: right;\">                    0</td></tr>\\n<tr><td>e(drivetruck.1)|e(walk.1)|s(walk.2)</td><td style=\"text-align: right;\">                0</td><td style=\"text-align: right;\">                                    0</td><td style=\"text-align: right;\">                    1</td></tr>\\n<tr><td>e(walk.2)|s(walk.1)                </td><td style=\"text-align: right;\">                0</td><td style=\"text-align: right;\">                                    1</td><td style=\"text-align: right;\">                    0</td></tr>\\n</tbody>\\n</table>'"
      ]
     },
     "metadata": {},
     "output_type": "display_data"
    },
    {
     "data": {
      "text/markdown": [
       "#### FSM 5"
      ],
      "text/plain": [
       "<IPython.core.display.Markdown object>"
      ]
     },
     "metadata": {},
     "output_type": "display_data"
    },
    {
     "data": {
      "text/html": [
       "<table>\n",
       "<thead>\n",
       "<tr><th>             </th><th style=\"text-align: right;\">  drivetruck.1</th><th style=\"text-align: right;\">  walk.2</th><th style=\"text-align: right;\">  unloadtruck.2</th></tr>\n",
       "</thead>\n",
       "<tbody>\n",
       "<tr><td>drivetruck.1 </td><td style=\"text-align: right;\">             0</td><td style=\"text-align: right;\">       2</td><td style=\"text-align: right;\">              0</td></tr>\n",
       "<tr><td>walk.2       </td><td style=\"text-align: right;\">             0</td><td style=\"text-align: right;\">       0</td><td style=\"text-align: right;\">              0</td></tr>\n",
       "<tr><td>unloadtruck.2</td><td style=\"text-align: right;\">             6</td><td style=\"text-align: right;\">       0</td><td style=\"text-align: right;\">              0</td></tr>\n",
       "</tbody>\n",
       "</table>"
      ],
      "text/plain": [
       "'<table>\\n<thead>\\n<tr><th>             </th><th style=\"text-align: right;\">  drivetruck.1</th><th style=\"text-align: right;\">  walk.2</th><th style=\"text-align: right;\">  unloadtruck.2</th></tr>\\n</thead>\\n<tbody>\\n<tr><td>drivetruck.1 </td><td style=\"text-align: right;\">             0</td><td style=\"text-align: right;\">       2</td><td style=\"text-align: right;\">              0</td></tr>\\n<tr><td>walk.2       </td><td style=\"text-align: right;\">             0</td><td style=\"text-align: right;\">       0</td><td style=\"text-align: right;\">              0</td></tr>\\n<tr><td>unloadtruck.2</td><td style=\"text-align: right;\">             6</td><td style=\"text-align: right;\">       0</td><td style=\"text-align: right;\">              0</td></tr>\\n</tbody>\\n</table>'"
      ]
     },
     "metadata": {},
     "output_type": "display_data"
    },
    {
     "data": {
      "application/vnd.jupyter.widget-view+json": {
       "model_id": "5277d2274f26426c99765c0f4def4386",
       "version_major": 2,
       "version_minor": 0
      },
      "text/plain": [
       "CytoscapeWidget(cytoscape_layout={'name': 'cola'}, cytoscape_style=[{'width': 400, 'height': 500, 'selector': …"
      ]
     },
     "metadata": {},
     "output_type": "display_data"
    },
    {
     "data": {
      "text/html": [
       "<table>\n",
       "<thead>\n",
       "<tr><th>                                </th><th style=\"text-align: right;\">  e(drivetruck.1)|s(walk.2)</th><th style=\"text-align: right;\">  e(walk.2)</th><th style=\"text-align: right;\">  s(unloadtruck.2)</th><th style=\"text-align: right;\">  e(unloadtruck.2)|s(drivetruck.1)</th></tr>\n",
       "</thead>\n",
       "<tbody>\n",
       "<tr><td>e(drivetruck.1)|s(walk.2)       </td><td style=\"text-align: right;\">                          0</td><td style=\"text-align: right;\">          1</td><td style=\"text-align: right;\">                 0</td><td style=\"text-align: right;\">                                 0</td></tr>\n",
       "<tr><td>e(walk.2)                       </td><td style=\"text-align: right;\">                          0</td><td style=\"text-align: right;\">          0</td><td style=\"text-align: right;\">                 0</td><td style=\"text-align: right;\">                                 0</td></tr>\n",
       "<tr><td>s(unloadtruck.2)                </td><td style=\"text-align: right;\">                          0</td><td style=\"text-align: right;\">          0</td><td style=\"text-align: right;\">                 0</td><td style=\"text-align: right;\">                                 1</td></tr>\n",
       "<tr><td>e(unloadtruck.2)|s(drivetruck.1)</td><td style=\"text-align: right;\">                          1</td><td style=\"text-align: right;\">          0</td><td style=\"text-align: right;\">                 0</td><td style=\"text-align: right;\">                                 0</td></tr>\n",
       "</tbody>\n",
       "</table>"
      ],
      "text/plain": [
       "'<table>\\n<thead>\\n<tr><th>                                </th><th style=\"text-align: right;\">  e(drivetruck.1)|s(walk.2)</th><th style=\"text-align: right;\">  e(walk.2)</th><th style=\"text-align: right;\">  s(unloadtruck.2)</th><th style=\"text-align: right;\">  e(unloadtruck.2)|s(drivetruck.1)</th></tr>\\n</thead>\\n<tbody>\\n<tr><td>e(drivetruck.1)|s(walk.2)       </td><td style=\"text-align: right;\">                          0</td><td style=\"text-align: right;\">          1</td><td style=\"text-align: right;\">                 0</td><td style=\"text-align: right;\">                                 0</td></tr>\\n<tr><td>e(walk.2)                       </td><td style=\"text-align: right;\">                          0</td><td style=\"text-align: right;\">          0</td><td style=\"text-align: right;\">                 0</td><td style=\"text-align: right;\">                                 0</td></tr>\\n<tr><td>s(unloadtruck.2)                </td><td style=\"text-align: right;\">                          0</td><td style=\"text-align: right;\">          0</td><td style=\"text-align: right;\">                 0</td><td style=\"text-align: right;\">                                 1</td></tr>\\n<tr><td>e(unloadtruck.2)|s(drivetruck.1)</td><td style=\"text-align: right;\">                          1</td><td style=\"text-align: right;\">          0</td><td style=\"text-align: right;\">                 0</td><td style=\"text-align: right;\">                                 0</td></tr>\\n</tbody>\\n</table>'"
      ]
     },
     "metadata": {},
     "output_type": "display_data"
    },
    {
     "data": {
      "text/markdown": [
       "#### FSM 6"
      ],
      "text/plain": [
       "<IPython.core.display.Markdown object>"
      ]
     },
     "metadata": {},
     "output_type": "display_data"
    },
    {
     "data": {
      "text/html": [
       "<table>\n",
       "<thead>\n",
       "<tr><th>            </th><th style=\"text-align: right;\">  walk.1</th><th style=\"text-align: right;\">  boardtruck.2</th><th style=\"text-align: right;\">  drivetruck.2</th></tr>\n",
       "</thead>\n",
       "<tbody>\n",
       "<tr><td>walk.1      </td><td style=\"text-align: right;\">       0</td><td style=\"text-align: right;\">             0</td><td style=\"text-align: right;\">             5</td></tr>\n",
       "<tr><td>boardtruck.2</td><td style=\"text-align: right;\">       0</td><td style=\"text-align: right;\">             0</td><td style=\"text-align: right;\">             0</td></tr>\n",
       "<tr><td>drivetruck.2</td><td style=\"text-align: right;\">       0</td><td style=\"text-align: right;\">             0</td><td style=\"text-align: right;\">             0</td></tr>\n",
       "</tbody>\n",
       "</table>"
      ],
      "text/plain": [
       "'<table>\\n<thead>\\n<tr><th>            </th><th style=\"text-align: right;\">  walk.1</th><th style=\"text-align: right;\">  boardtruck.2</th><th style=\"text-align: right;\">  drivetruck.2</th></tr>\\n</thead>\\n<tbody>\\n<tr><td>walk.1      </td><td style=\"text-align: right;\">       0</td><td style=\"text-align: right;\">             0</td><td style=\"text-align: right;\">             5</td></tr>\\n<tr><td>boardtruck.2</td><td style=\"text-align: right;\">       0</td><td style=\"text-align: right;\">             0</td><td style=\"text-align: right;\">             0</td></tr>\\n<tr><td>drivetruck.2</td><td style=\"text-align: right;\">       0</td><td style=\"text-align: right;\">             0</td><td style=\"text-align: right;\">             0</td></tr>\\n</tbody>\\n</table>'"
      ]
     },
     "metadata": {},
     "output_type": "display_data"
    },
    {
     "data": {
      "application/vnd.jupyter.widget-view+json": {
       "model_id": "ace938ddfb6c45afa4a8f75ebe790d3a",
       "version_major": 2,
       "version_minor": 0
      },
      "text/plain": [
       "CytoscapeWidget(cytoscape_layout={'name': 'cola'}, cytoscape_style=[{'width': 400, 'height': 500, 'selector': …"
      ]
     },
     "metadata": {},
     "output_type": "display_data"
    },
    {
     "data": {
      "text/html": [
       "<table>\n",
       "<thead>\n",
       "<tr><th>                         </th><th style=\"text-align: right;\">  s(walk.1)</th><th style=\"text-align: right;\">  e(walk.1)|s(drivetruck.2)</th><th style=\"text-align: right;\">  s(boardtruck.2)</th><th style=\"text-align: right;\">  e(boardtruck.2)</th><th style=\"text-align: right;\">  e(drivetruck.2)</th></tr>\n",
       "</thead>\n",
       "<tbody>\n",
       "<tr><td>s(walk.1)                </td><td style=\"text-align: right;\">          0</td><td style=\"text-align: right;\">                          1</td><td style=\"text-align: right;\">                0</td><td style=\"text-align: right;\">                0</td><td style=\"text-align: right;\">                0</td></tr>\n",
       "<tr><td>e(walk.1)|s(drivetruck.2)</td><td style=\"text-align: right;\">          0</td><td style=\"text-align: right;\">                          0</td><td style=\"text-align: right;\">                0</td><td style=\"text-align: right;\">                0</td><td style=\"text-align: right;\">                1</td></tr>\n",
       "<tr><td>s(boardtruck.2)          </td><td style=\"text-align: right;\">          0</td><td style=\"text-align: right;\">                          0</td><td style=\"text-align: right;\">                0</td><td style=\"text-align: right;\">                1</td><td style=\"text-align: right;\">                0</td></tr>\n",
       "<tr><td>e(boardtruck.2)          </td><td style=\"text-align: right;\">          0</td><td style=\"text-align: right;\">                          0</td><td style=\"text-align: right;\">                0</td><td style=\"text-align: right;\">                0</td><td style=\"text-align: right;\">                0</td></tr>\n",
       "<tr><td>e(drivetruck.2)          </td><td style=\"text-align: right;\">          0</td><td style=\"text-align: right;\">                          0</td><td style=\"text-align: right;\">                0</td><td style=\"text-align: right;\">                0</td><td style=\"text-align: right;\">                0</td></tr>\n",
       "</tbody>\n",
       "</table>"
      ],
      "text/plain": [
       "'<table>\\n<thead>\\n<tr><th>                         </th><th style=\"text-align: right;\">  s(walk.1)</th><th style=\"text-align: right;\">  e(walk.1)|s(drivetruck.2)</th><th style=\"text-align: right;\">  s(boardtruck.2)</th><th style=\"text-align: right;\">  e(boardtruck.2)</th><th style=\"text-align: right;\">  e(drivetruck.2)</th></tr>\\n</thead>\\n<tbody>\\n<tr><td>s(walk.1)                </td><td style=\"text-align: right;\">          0</td><td style=\"text-align: right;\">                          1</td><td style=\"text-align: right;\">                0</td><td style=\"text-align: right;\">                0</td><td style=\"text-align: right;\">                0</td></tr>\\n<tr><td>e(walk.1)|s(drivetruck.2)</td><td style=\"text-align: right;\">          0</td><td style=\"text-align: right;\">                          0</td><td style=\"text-align: right;\">                0</td><td style=\"text-align: right;\">                0</td><td style=\"text-align: right;\">                1</td></tr>\\n<tr><td>s(boardtruck.2)          </td><td style=\"text-align: right;\">          0</td><td style=\"text-align: right;\">                          0</td><td style=\"text-align: right;\">                0</td><td style=\"text-align: right;\">                1</td><td style=\"text-align: right;\">                0</td></tr>\\n<tr><td>e(boardtruck.2)          </td><td style=\"text-align: right;\">          0</td><td style=\"text-align: right;\">                          0</td><td style=\"text-align: right;\">                0</td><td style=\"text-align: right;\">                0</td><td style=\"text-align: right;\">                0</td></tr>\\n<tr><td>e(drivetruck.2)          </td><td style=\"text-align: right;\">          0</td><td style=\"text-align: right;\">                          0</td><td style=\"text-align: right;\">                0</td><td style=\"text-align: right;\">                0</td><td style=\"text-align: right;\">                0</td></tr>\\n</tbody>\\n</table>'"
      ]
     },
     "metadata": {},
     "output_type": "display_data"
    },
    {
     "data": {
      "text/markdown": [
       "#### FSM 7"
      ],
      "text/plain": [
       "<IPython.core.display.Markdown object>"
      ]
     },
     "metadata": {},
     "output_type": "display_data"
    },
    {
     "data": {
      "text/html": [
       "<table>\n",
       "<thead>\n",
       "<tr><th>             </th><th style=\"text-align: right;\">  boardtruck.2</th><th style=\"text-align: right;\">  drivetruck.2</th><th style=\"text-align: right;\">  unloadtruck.2</th></tr>\n",
       "</thead>\n",
       "<tbody>\n",
       "<tr><td>boardtruck.2 </td><td style=\"text-align: right;\">             0</td><td style=\"text-align: right;\">             0</td><td style=\"text-align: right;\">              1</td></tr>\n",
       "<tr><td>drivetruck.2 </td><td style=\"text-align: right;\">             0</td><td style=\"text-align: right;\">             0</td><td style=\"text-align: right;\">              7</td></tr>\n",
       "<tr><td>unloadtruck.2</td><td style=\"text-align: right;\">             1</td><td style=\"text-align: right;\">             0</td><td style=\"text-align: right;\">              0</td></tr>\n",
       "</tbody>\n",
       "</table>"
      ],
      "text/plain": [
       "'<table>\\n<thead>\\n<tr><th>             </th><th style=\"text-align: right;\">  boardtruck.2</th><th style=\"text-align: right;\">  drivetruck.2</th><th style=\"text-align: right;\">  unloadtruck.2</th></tr>\\n</thead>\\n<tbody>\\n<tr><td>boardtruck.2 </td><td style=\"text-align: right;\">             0</td><td style=\"text-align: right;\">             0</td><td style=\"text-align: right;\">              1</td></tr>\\n<tr><td>drivetruck.2 </td><td style=\"text-align: right;\">             0</td><td style=\"text-align: right;\">             0</td><td style=\"text-align: right;\">              7</td></tr>\\n<tr><td>unloadtruck.2</td><td style=\"text-align: right;\">             1</td><td style=\"text-align: right;\">             0</td><td style=\"text-align: right;\">              0</td></tr>\\n</tbody>\\n</table>'"
      ]
     },
     "metadata": {},
     "output_type": "display_data"
    },
    {
     "data": {
      "application/vnd.jupyter.widget-view+json": {
       "model_id": "abd4ca0178ef4f058051d76032651915",
       "version_major": 2,
       "version_minor": 0
      },
      "text/plain": [
       "CytoscapeWidget(cytoscape_layout={'name': 'cola'}, cytoscape_style=[{'width': 400, 'height': 500, 'selector': …"
      ]
     },
     "metadata": {},
     "output_type": "display_data"
    },
    {
     "data": {
      "text/html": [
       "<table>\n",
       "<thead>\n",
       "<tr><th>                                                </th><th style=\"text-align: right;\">  s(drivetruck.2)</th><th style=\"text-align: right;\">  e(drivetruck.2)|e(boardtruck.2)|s(unloadtruck.2)</th><th style=\"text-align: right;\">  e(unloadtruck.2)|s(boardtruck.2)</th></tr>\n",
       "</thead>\n",
       "<tbody>\n",
       "<tr><td>s(drivetruck.2)                                 </td><td style=\"text-align: right;\">                0</td><td style=\"text-align: right;\">                                                 1</td><td style=\"text-align: right;\">                                 0</td></tr>\n",
       "<tr><td>e(drivetruck.2)|e(boardtruck.2)|s(unloadtruck.2)</td><td style=\"text-align: right;\">                0</td><td style=\"text-align: right;\">                                                 0</td><td style=\"text-align: right;\">                                 1</td></tr>\n",
       "<tr><td>e(unloadtruck.2)|s(boardtruck.2)                </td><td style=\"text-align: right;\">                0</td><td style=\"text-align: right;\">                                                 1</td><td style=\"text-align: right;\">                                 0</td></tr>\n",
       "</tbody>\n",
       "</table>"
      ],
      "text/plain": [
       "'<table>\\n<thead>\\n<tr><th>                                                </th><th style=\"text-align: right;\">  s(drivetruck.2)</th><th style=\"text-align: right;\">  e(drivetruck.2)|e(boardtruck.2)|s(unloadtruck.2)</th><th style=\"text-align: right;\">  e(unloadtruck.2)|s(boardtruck.2)</th></tr>\\n</thead>\\n<tbody>\\n<tr><td>s(drivetruck.2)                                 </td><td style=\"text-align: right;\">                0</td><td style=\"text-align: right;\">                                                 1</td><td style=\"text-align: right;\">                                 0</td></tr>\\n<tr><td>e(drivetruck.2)|e(boardtruck.2)|s(unloadtruck.2)</td><td style=\"text-align: right;\">                0</td><td style=\"text-align: right;\">                                                 0</td><td style=\"text-align: right;\">                                 1</td></tr>\\n<tr><td>e(unloadtruck.2)|s(boardtruck.2)                </td><td style=\"text-align: right;\">                0</td><td style=\"text-align: right;\">                                                 1</td><td style=\"text-align: right;\">                                 0</td></tr>\\n</tbody>\\n</table>'"
      ]
     },
     "metadata": {},
     "output_type": "display_data"
    },
    {
     "data": {
      "text/markdown": [
       "#### FSM 8"
      ],
      "text/plain": [
       "<IPython.core.display.Markdown object>"
      ]
     },
     "metadata": {},
     "output_type": "display_data"
    },
    {
     "data": {
      "text/html": [
       "<table>\n",
       "<thead>\n",
       "<tr><th>             </th><th style=\"text-align: right;\">  walk.1</th><th style=\"text-align: right;\">  boardtruck.2</th><th style=\"text-align: right;\">  unloadtruck.2</th></tr>\n",
       "</thead>\n",
       "<tbody>\n",
       "<tr><td>walk.1       </td><td style=\"text-align: right;\">       0</td><td style=\"text-align: right;\">             0</td><td style=\"text-align: right;\">              0</td></tr>\n",
       "<tr><td>boardtruck.2 </td><td style=\"text-align: right;\">       0</td><td style=\"text-align: right;\">             0</td><td style=\"text-align: right;\">              1</td></tr>\n",
       "<tr><td>unloadtruck.2</td><td style=\"text-align: right;\">       0</td><td style=\"text-align: right;\">             1</td><td style=\"text-align: right;\">              0</td></tr>\n",
       "</tbody>\n",
       "</table>"
      ],
      "text/plain": [
       "'<table>\\n<thead>\\n<tr><th>             </th><th style=\"text-align: right;\">  walk.1</th><th style=\"text-align: right;\">  boardtruck.2</th><th style=\"text-align: right;\">  unloadtruck.2</th></tr>\\n</thead>\\n<tbody>\\n<tr><td>walk.1       </td><td style=\"text-align: right;\">       0</td><td style=\"text-align: right;\">             0</td><td style=\"text-align: right;\">              0</td></tr>\\n<tr><td>boardtruck.2 </td><td style=\"text-align: right;\">       0</td><td style=\"text-align: right;\">             0</td><td style=\"text-align: right;\">              1</td></tr>\\n<tr><td>unloadtruck.2</td><td style=\"text-align: right;\">       0</td><td style=\"text-align: right;\">             1</td><td style=\"text-align: right;\">              0</td></tr>\\n</tbody>\\n</table>'"
      ]
     },
     "metadata": {},
     "output_type": "display_data"
    },
    {
     "data": {
      "application/vnd.jupyter.widget-view+json": {
       "model_id": "0d1ad88789924b0691b319a712b1656a",
       "version_major": 2,
       "version_minor": 0
      },
      "text/plain": [
       "CytoscapeWidget(cytoscape_layout={'name': 'cola'}, cytoscape_style=[{'width': 400, 'height': 500, 'selector': …"
      ]
     },
     "metadata": {},
     "output_type": "display_data"
    },
    {
     "data": {
      "text/html": [
       "<table>\n",
       "<thead>\n",
       "<tr><th>                                </th><th style=\"text-align: right;\">  s(walk.1)</th><th style=\"text-align: right;\">  e(walk.1)</th><th style=\"text-align: right;\">  e(boardtruck.2)|s(unloadtruck.2)</th><th style=\"text-align: right;\">  e(unloadtruck.2)|s(boardtruck.2)</th></tr>\n",
       "</thead>\n",
       "<tbody>\n",
       "<tr><td>s(walk.1)                       </td><td style=\"text-align: right;\">          0</td><td style=\"text-align: right;\">          1</td><td style=\"text-align: right;\">                                 0</td><td style=\"text-align: right;\">                                 0</td></tr>\n",
       "<tr><td>e(walk.1)                       </td><td style=\"text-align: right;\">          0</td><td style=\"text-align: right;\">          0</td><td style=\"text-align: right;\">                                 0</td><td style=\"text-align: right;\">                                 0</td></tr>\n",
       "<tr><td>e(boardtruck.2)|s(unloadtruck.2)</td><td style=\"text-align: right;\">          0</td><td style=\"text-align: right;\">          0</td><td style=\"text-align: right;\">                                 0</td><td style=\"text-align: right;\">                                 1</td></tr>\n",
       "<tr><td>e(unloadtruck.2)|s(boardtruck.2)</td><td style=\"text-align: right;\">          0</td><td style=\"text-align: right;\">          0</td><td style=\"text-align: right;\">                                 1</td><td style=\"text-align: right;\">                                 0</td></tr>\n",
       "</tbody>\n",
       "</table>"
      ],
      "text/plain": [
       "'<table>\\n<thead>\\n<tr><th>                                </th><th style=\"text-align: right;\">  s(walk.1)</th><th style=\"text-align: right;\">  e(walk.1)</th><th style=\"text-align: right;\">  e(boardtruck.2)|s(unloadtruck.2)</th><th style=\"text-align: right;\">  e(unloadtruck.2)|s(boardtruck.2)</th></tr>\\n</thead>\\n<tbody>\\n<tr><td>s(walk.1)                       </td><td style=\"text-align: right;\">          0</td><td style=\"text-align: right;\">          1</td><td style=\"text-align: right;\">                                 0</td><td style=\"text-align: right;\">                                 0</td></tr>\\n<tr><td>e(walk.1)                       </td><td style=\"text-align: right;\">          0</td><td style=\"text-align: right;\">          0</td><td style=\"text-align: right;\">                                 0</td><td style=\"text-align: right;\">                                 0</td></tr>\\n<tr><td>e(boardtruck.2)|s(unloadtruck.2)</td><td style=\"text-align: right;\">          0</td><td style=\"text-align: right;\">          0</td><td style=\"text-align: right;\">                                 0</td><td style=\"text-align: right;\">                                 1</td></tr>\\n<tr><td>e(unloadtruck.2)|s(boardtruck.2)</td><td style=\"text-align: right;\">          0</td><td style=\"text-align: right;\">          0</td><td style=\"text-align: right;\">                                 1</td><td style=\"text-align: right;\">                                 0</td></tr>\\n</tbody>\\n</table>'"
      ]
     },
     "metadata": {},
     "output_type": "display_data"
    },
    {
     "data": {
      "text/markdown": [
       "#### FSM 9"
      ],
      "text/plain": [
       "<IPython.core.display.Markdown object>"
      ]
     },
     "metadata": {},
     "output_type": "display_data"
    },
    {
     "data": {
      "text/html": [
       "<table>\n",
       "<thead>\n",
       "<tr><th>            </th><th style=\"text-align: right;\">  drivetruck.2</th><th style=\"text-align: right;\">  loadtruck.2</th><th style=\"text-align: right;\">  walk.2</th></tr>\n",
       "</thead>\n",
       "<tbody>\n",
       "<tr><td>drivetruck.2</td><td style=\"text-align: right;\">             0</td><td style=\"text-align: right;\">            5</td><td style=\"text-align: right;\">       0</td></tr>\n",
       "<tr><td>loadtruck.2 </td><td style=\"text-align: right;\">             0</td><td style=\"text-align: right;\">            0</td><td style=\"text-align: right;\">       0</td></tr>\n",
       "<tr><td>walk.2      </td><td style=\"text-align: right;\">             1</td><td style=\"text-align: right;\">            0</td><td style=\"text-align: right;\">       0</td></tr>\n",
       "</tbody>\n",
       "</table>"
      ],
      "text/plain": [
       "'<table>\\n<thead>\\n<tr><th>            </th><th style=\"text-align: right;\">  drivetruck.2</th><th style=\"text-align: right;\">  loadtruck.2</th><th style=\"text-align: right;\">  walk.2</th></tr>\\n</thead>\\n<tbody>\\n<tr><td>drivetruck.2</td><td style=\"text-align: right;\">             0</td><td style=\"text-align: right;\">            5</td><td style=\"text-align: right;\">       0</td></tr>\\n<tr><td>loadtruck.2 </td><td style=\"text-align: right;\">             0</td><td style=\"text-align: right;\">            0</td><td style=\"text-align: right;\">       0</td></tr>\\n<tr><td>walk.2      </td><td style=\"text-align: right;\">             1</td><td style=\"text-align: right;\">            0</td><td style=\"text-align: right;\">       0</td></tr>\\n</tbody>\\n</table>'"
      ]
     },
     "metadata": {},
     "output_type": "display_data"
    },
    {
     "data": {
      "application/vnd.jupyter.widget-view+json": {
       "model_id": "c0179b492ad84813bc828eadf9eda71f",
       "version_major": 2,
       "version_minor": 0
      },
      "text/plain": [
       "CytoscapeWidget(cytoscape_layout={'name': 'cola'}, cytoscape_style=[{'width': 400, 'height': 500, 'selector': …"
      ]
     },
     "metadata": {},
     "output_type": "display_data"
    },
    {
     "data": {
      "text/html": [
       "<table>\n",
       "<thead>\n",
       "<tr><th>                              </th><th style=\"text-align: right;\">  e(drivetruck.2)|s(loadtruck.2)</th><th style=\"text-align: right;\">  e(loadtruck.2)</th><th style=\"text-align: right;\">  s(walk.2)</th><th style=\"text-align: right;\">  e(walk.2)|s(drivetruck.2)</th></tr>\n",
       "</thead>\n",
       "<tbody>\n",
       "<tr><td>e(drivetruck.2)|s(loadtruck.2)</td><td style=\"text-align: right;\">                               0</td><td style=\"text-align: right;\">               1</td><td style=\"text-align: right;\">          0</td><td style=\"text-align: right;\">                          0</td></tr>\n",
       "<tr><td>e(loadtruck.2)                </td><td style=\"text-align: right;\">                               0</td><td style=\"text-align: right;\">               0</td><td style=\"text-align: right;\">          0</td><td style=\"text-align: right;\">                          0</td></tr>\n",
       "<tr><td>s(walk.2)                     </td><td style=\"text-align: right;\">                               0</td><td style=\"text-align: right;\">               0</td><td style=\"text-align: right;\">          0</td><td style=\"text-align: right;\">                          1</td></tr>\n",
       "<tr><td>e(walk.2)|s(drivetruck.2)     </td><td style=\"text-align: right;\">                               1</td><td style=\"text-align: right;\">               0</td><td style=\"text-align: right;\">          0</td><td style=\"text-align: right;\">                          0</td></tr>\n",
       "</tbody>\n",
       "</table>"
      ],
      "text/plain": [
       "'<table>\\n<thead>\\n<tr><th>                              </th><th style=\"text-align: right;\">  e(drivetruck.2)|s(loadtruck.2)</th><th style=\"text-align: right;\">  e(loadtruck.2)</th><th style=\"text-align: right;\">  s(walk.2)</th><th style=\"text-align: right;\">  e(walk.2)|s(drivetruck.2)</th></tr>\\n</thead>\\n<tbody>\\n<tr><td>e(drivetruck.2)|s(loadtruck.2)</td><td style=\"text-align: right;\">                               0</td><td style=\"text-align: right;\">               1</td><td style=\"text-align: right;\">          0</td><td style=\"text-align: right;\">                          0</td></tr>\\n<tr><td>e(loadtruck.2)                </td><td style=\"text-align: right;\">                               0</td><td style=\"text-align: right;\">               0</td><td style=\"text-align: right;\">          0</td><td style=\"text-align: right;\">                          0</td></tr>\\n<tr><td>s(walk.2)                     </td><td style=\"text-align: right;\">                               0</td><td style=\"text-align: right;\">               0</td><td style=\"text-align: right;\">          0</td><td style=\"text-align: right;\">                          1</td></tr>\\n<tr><td>e(walk.2)|s(drivetruck.2)     </td><td style=\"text-align: right;\">                               1</td><td style=\"text-align: right;\">               0</td><td style=\"text-align: right;\">          0</td><td style=\"text-align: right;\">                          0</td></tr>\\n</tbody>\\n</table>'"
      ]
     },
     "metadata": {},
     "output_type": "display_data"
    },
    {
     "data": {
      "text/markdown": [
       "#### FSM 10"
      ],
      "text/plain": [
       "<IPython.core.display.Markdown object>"
      ]
     },
     "metadata": {},
     "output_type": "display_data"
    },
    {
     "data": {
      "text/html": [
       "<table>\n",
       "<thead>\n",
       "<tr><th>                </th><th style=\"text-align: right;\">  walk.1</th><th style=\"text-align: right;\">  loadtruck.2</th><th style=\"text-align: right;\">  disembarktruck.2</th></tr>\n",
       "</thead>\n",
       "<tbody>\n",
       "<tr><td>walk.1          </td><td style=\"text-align: right;\">       0</td><td style=\"text-align: right;\">            0</td><td style=\"text-align: right;\">                 0</td></tr>\n",
       "<tr><td>loadtruck.2     </td><td style=\"text-align: right;\">       0</td><td style=\"text-align: right;\">            0</td><td style=\"text-align: right;\">                 1</td></tr>\n",
       "<tr><td>disembarktruck.2</td><td style=\"text-align: right;\">       2</td><td style=\"text-align: right;\">            1</td><td style=\"text-align: right;\">                 0</td></tr>\n",
       "</tbody>\n",
       "</table>"
      ],
      "text/plain": [
       "'<table>\\n<thead>\\n<tr><th>                </th><th style=\"text-align: right;\">  walk.1</th><th style=\"text-align: right;\">  loadtruck.2</th><th style=\"text-align: right;\">  disembarktruck.2</th></tr>\\n</thead>\\n<tbody>\\n<tr><td>walk.1          </td><td style=\"text-align: right;\">       0</td><td style=\"text-align: right;\">            0</td><td style=\"text-align: right;\">                 0</td></tr>\\n<tr><td>loadtruck.2     </td><td style=\"text-align: right;\">       0</td><td style=\"text-align: right;\">            0</td><td style=\"text-align: right;\">                 1</td></tr>\\n<tr><td>disembarktruck.2</td><td style=\"text-align: right;\">       2</td><td style=\"text-align: right;\">            1</td><td style=\"text-align: right;\">                 0</td></tr>\\n</tbody>\\n</table>'"
      ]
     },
     "metadata": {},
     "output_type": "display_data"
    },
    {
     "data": {
      "application/vnd.jupyter.widget-view+json": {
       "model_id": "429825a11875450f8f1120519baf5256",
       "version_major": 2,
       "version_minor": 0
      },
      "text/plain": [
       "CytoscapeWidget(cytoscape_layout={'name': 'cola'}, cytoscape_style=[{'width': 400, 'height': 500, 'selector': …"
      ]
     },
     "metadata": {},
     "output_type": "display_data"
    },
    {
     "data": {
      "text/html": [
       "<table>\n",
       "<thead>\n",
       "<tr><th>                                            </th><th style=\"text-align: right;\">  e(walk.1)</th><th style=\"text-align: right;\">  e(loadtruck.2)|s(disembarktruck.2)</th><th style=\"text-align: right;\">  e(disembarktruck.2)|s(walk.1)|s(loadtruck.2)</th></tr>\n",
       "</thead>\n",
       "<tbody>\n",
       "<tr><td>e(walk.1)                                   </td><td style=\"text-align: right;\">          0</td><td style=\"text-align: right;\">                                   0</td><td style=\"text-align: right;\">                                             0</td></tr>\n",
       "<tr><td>e(loadtruck.2)|s(disembarktruck.2)          </td><td style=\"text-align: right;\">          0</td><td style=\"text-align: right;\">                                   0</td><td style=\"text-align: right;\">                                             1</td></tr>\n",
       "<tr><td>e(disembarktruck.2)|s(walk.1)|s(loadtruck.2)</td><td style=\"text-align: right;\">          1</td><td style=\"text-align: right;\">                                   1</td><td style=\"text-align: right;\">                                             0</td></tr>\n",
       "</tbody>\n",
       "</table>"
      ],
      "text/plain": [
       "'<table>\\n<thead>\\n<tr><th>                                            </th><th style=\"text-align: right;\">  e(walk.1)</th><th style=\"text-align: right;\">  e(loadtruck.2)|s(disembarktruck.2)</th><th style=\"text-align: right;\">  e(disembarktruck.2)|s(walk.1)|s(loadtruck.2)</th></tr>\\n</thead>\\n<tbody>\\n<tr><td>e(walk.1)                                   </td><td style=\"text-align: right;\">          0</td><td style=\"text-align: right;\">                                   0</td><td style=\"text-align: right;\">                                             0</td></tr>\\n<tr><td>e(loadtruck.2)|s(disembarktruck.2)          </td><td style=\"text-align: right;\">          0</td><td style=\"text-align: right;\">                                   0</td><td style=\"text-align: right;\">                                             1</td></tr>\\n<tr><td>e(disembarktruck.2)|s(walk.1)|s(loadtruck.2)</td><td style=\"text-align: right;\">          1</td><td style=\"text-align: right;\">                                   1</td><td style=\"text-align: right;\">                                             0</td></tr>\\n</tbody>\\n</table>'"
      ]
     },
     "metadata": {},
     "output_type": "display_data"
    },
    {
     "data": {
      "text/markdown": [
       "#### FSM 11"
      ],
      "text/plain": [
       "<IPython.core.display.Markdown object>"
      ]
     },
     "metadata": {},
     "output_type": "display_data"
    },
    {
     "data": {
      "text/html": [
       "<table>\n",
       "<thead>\n",
       "<tr><th>                </th><th style=\"text-align: right;\">  unloadtruck.2</th><th style=\"text-align: right;\">  disembarktruck.2</th><th style=\"text-align: right;\">  drivetruck.2</th><th style=\"text-align: right;\">  drivetruck.1</th><th style=\"text-align: right;\">  loadtruck.2</th><th style=\"text-align: right;\">  walk.1</th><th style=\"text-align: right;\">  boardtruck.2</th><th style=\"text-align: right;\">  walk.2</th></tr>\n",
       "</thead>\n",
       "<tbody>\n",
       "<tr><td>unloadtruck.2   </td><td style=\"text-align: right;\">              0</td><td style=\"text-align: right;\">                 3</td><td style=\"text-align: right;\">             0</td><td style=\"text-align: right;\">             6</td><td style=\"text-align: right;\">            1</td><td style=\"text-align: right;\">       0</td><td style=\"text-align: right;\">             1</td><td style=\"text-align: right;\">       0</td></tr>\n",
       "<tr><td>disembarktruck.2</td><td style=\"text-align: right;\">              1</td><td style=\"text-align: right;\">                 0</td><td style=\"text-align: right;\">             1</td><td style=\"text-align: right;\">             0</td><td style=\"text-align: right;\">            1</td><td style=\"text-align: right;\">       2</td><td style=\"text-align: right;\">             4</td><td style=\"text-align: right;\">       0</td></tr>\n",
       "<tr><td>drivetruck.2    </td><td style=\"text-align: right;\">              7</td><td style=\"text-align: right;\">                 9</td><td style=\"text-align: right;\">             0</td><td style=\"text-align: right;\">            10</td><td style=\"text-align: right;\">            5</td><td style=\"text-align: right;\">       0</td><td style=\"text-align: right;\">             0</td><td style=\"text-align: right;\">       0</td></tr>\n",
       "<tr><td>drivetruck.1    </td><td style=\"text-align: right;\">              0</td><td style=\"text-align: right;\">                 0</td><td style=\"text-align: right;\">            20</td><td style=\"text-align: right;\">             0</td><td style=\"text-align: right;\">            0</td><td style=\"text-align: right;\">       0</td><td style=\"text-align: right;\">             1</td><td style=\"text-align: right;\">       2</td></tr>\n",
       "<tr><td>loadtruck.2     </td><td style=\"text-align: right;\">              1</td><td style=\"text-align: right;\">                 1</td><td style=\"text-align: right;\">             0</td><td style=\"text-align: right;\">             8</td><td style=\"text-align: right;\">            0</td><td style=\"text-align: right;\">       0</td><td style=\"text-align: right;\">             1</td><td style=\"text-align: right;\">       0</td></tr>\n",
       "<tr><td>walk.1          </td><td style=\"text-align: right;\">              0</td><td style=\"text-align: right;\">                 0</td><td style=\"text-align: right;\">             5</td><td style=\"text-align: right;\">             0</td><td style=\"text-align: right;\">            0</td><td style=\"text-align: right;\">       0</td><td style=\"text-align: right;\">             0</td><td style=\"text-align: right;\">       1</td></tr>\n",
       "<tr><td>boardtruck.2    </td><td style=\"text-align: right;\">              1</td><td style=\"text-align: right;\">                 1</td><td style=\"text-align: right;\">             0</td><td style=\"text-align: right;\">             7</td><td style=\"text-align: right;\">            5</td><td style=\"text-align: right;\">       0</td><td style=\"text-align: right;\">             0</td><td style=\"text-align: right;\">       0</td></tr>\n",
       "<tr><td>walk.2          </td><td style=\"text-align: right;\">              0</td><td style=\"text-align: right;\">                 0</td><td style=\"text-align: right;\">             1</td><td style=\"text-align: right;\">             0</td><td style=\"text-align: right;\">            0</td><td style=\"text-align: right;\">      10</td><td style=\"text-align: right;\">             4</td><td style=\"text-align: right;\">       0</td></tr>\n",
       "</tbody>\n",
       "</table>"
      ],
      "text/plain": [
       "'<table>\\n<thead>\\n<tr><th>                </th><th style=\"text-align: right;\">  unloadtruck.2</th><th style=\"text-align: right;\">  disembarktruck.2</th><th style=\"text-align: right;\">  drivetruck.2</th><th style=\"text-align: right;\">  drivetruck.1</th><th style=\"text-align: right;\">  loadtruck.2</th><th style=\"text-align: right;\">  walk.1</th><th style=\"text-align: right;\">  boardtruck.2</th><th style=\"text-align: right;\">  walk.2</th></tr>\\n</thead>\\n<tbody>\\n<tr><td>unloadtruck.2   </td><td style=\"text-align: right;\">              0</td><td style=\"text-align: right;\">                 3</td><td style=\"text-align: right;\">             0</td><td style=\"text-align: right;\">             6</td><td style=\"text-align: right;\">            1</td><td style=\"text-align: right;\">       0</td><td style=\"text-align: right;\">             1</td><td style=\"text-align: right;\">       0</td></tr>\\n<tr><td>disembarktruck.2</td><td style=\"text-align: right;\">              1</td><td style=\"text-align: right;\">                 0</td><td style=\"text-align: right;\">             1</td><td style=\"text-align: right;\">             0</td><td style=\"text-align: right;\">            1</td><td style=\"text-align: right;\">       2</td><td style=\"text-align: right;\">             4</td><td style=\"text-align: right;\">       0</td></tr>\\n<tr><td>drivetruck.2    </td><td style=\"text-align: right;\">              7</td><td style=\"text-align: right;\">                 9</td><td style=\"text-align: right;\">             0</td><td style=\"text-align: right;\">            10</td><td style=\"text-align: right;\">            5</td><td style=\"text-align: right;\">       0</td><td style=\"text-align: right;\">             0</td><td style=\"text-align: right;\">       0</td></tr>\\n<tr><td>drivetruck.1    </td><td style=\"text-align: right;\">              0</td><td style=\"text-align: right;\">                 0</td><td style=\"text-align: right;\">            20</td><td style=\"text-align: right;\">             0</td><td style=\"text-align: right;\">            0</td><td style=\"text-align: right;\">       0</td><td style=\"text-align: right;\">             1</td><td style=\"text-align: right;\">       2</td></tr>\\n<tr><td>loadtruck.2     </td><td style=\"text-align: right;\">              1</td><td style=\"text-align: right;\">                 1</td><td style=\"text-align: right;\">             0</td><td style=\"text-align: right;\">             8</td><td style=\"text-align: right;\">            0</td><td style=\"text-align: right;\">       0</td><td style=\"text-align: right;\">             1</td><td style=\"text-align: right;\">       0</td></tr>\\n<tr><td>walk.1          </td><td style=\"text-align: right;\">              0</td><td style=\"text-align: right;\">                 0</td><td style=\"text-align: right;\">             5</td><td style=\"text-align: right;\">             0</td><td style=\"text-align: right;\">            0</td><td style=\"text-align: right;\">       0</td><td style=\"text-align: right;\">             0</td><td style=\"text-align: right;\">       1</td></tr>\\n<tr><td>boardtruck.2    </td><td style=\"text-align: right;\">              1</td><td style=\"text-align: right;\">                 1</td><td style=\"text-align: right;\">             0</td><td style=\"text-align: right;\">             7</td><td style=\"text-align: right;\">            5</td><td style=\"text-align: right;\">       0</td><td style=\"text-align: right;\">             0</td><td style=\"text-align: right;\">       0</td></tr>\\n<tr><td>walk.2          </td><td style=\"text-align: right;\">              0</td><td style=\"text-align: right;\">                 0</td><td style=\"text-align: right;\">             1</td><td style=\"text-align: right;\">             0</td><td style=\"text-align: right;\">            0</td><td style=\"text-align: right;\">      10</td><td style=\"text-align: right;\">             4</td><td style=\"text-align: right;\">       0</td></tr>\\n</tbody>\\n</table>'"
      ]
     },
     "metadata": {},
     "output_type": "display_data"
    },
    {
     "data": {
      "application/vnd.jupyter.widget-view+json": {
       "model_id": "114e4967145b4053914a96d01889f2b5",
       "version_major": 2,
       "version_minor": 0
      },
      "text/plain": [
       "CytoscapeWidget(cytoscape_layout={'name': 'cola'}, cytoscape_style=[{'width': 400, 'height': 500, 'selector': …"
      ]
     },
     "metadata": {},
     "output_type": "display_data"
    },
    {
     "data": {
      "text/html": [
       "<table>\n",
       "<thead>\n",
       "<tr><th>                                                                                                                                                                                                                                               </th><th style=\"text-align: right;\">  e(walk.2)|e(boardtruck.2)|e(walk.1)|e(loadtruck.2)|e(drivetruck.1)|e(drivetruck.2)|e(disembarktruck.2)|s(unloadtruck.2)|s(drivetruck.2)|e(unloadtruck.2)|s(disembarktruck.2)|s(drivetruck.1)|s(loadtruck.2)|s(boardtruck.2)|s(walk.1)|s(walk.2)</th></tr>\n",
       "</thead>\n",
       "<tbody>\n",
       "<tr><td>e(walk.2)|e(boardtruck.2)|e(walk.1)|e(loadtruck.2)|e(drivetruck.1)|e(drivetruck.2)|e(disembarktruck.2)|s(unloadtruck.2)|s(drivetruck.2)|e(unloadtruck.2)|s(disembarktruck.2)|s(drivetruck.1)|s(loadtruck.2)|s(boardtruck.2)|s(walk.1)|s(walk.2)</td><td style=\"text-align: right;\">                                                                                                                                                                                                                                                1</td></tr>\n",
       "</tbody>\n",
       "</table>"
      ],
      "text/plain": [
       "'<table>\\n<thead>\\n<tr><th>                                                                                                                                                                                                                                               </th><th style=\"text-align: right;\">  e(walk.2)|e(boardtruck.2)|e(walk.1)|e(loadtruck.2)|e(drivetruck.1)|e(drivetruck.2)|e(disembarktruck.2)|s(unloadtruck.2)|s(drivetruck.2)|e(unloadtruck.2)|s(disembarktruck.2)|s(drivetruck.1)|s(loadtruck.2)|s(boardtruck.2)|s(walk.1)|s(walk.2)</th></tr>\\n</thead>\\n<tbody>\\n<tr><td>e(walk.2)|e(boardtruck.2)|e(walk.1)|e(loadtruck.2)|e(drivetruck.1)|e(drivetruck.2)|e(disembarktruck.2)|s(unloadtruck.2)|s(drivetruck.2)|e(unloadtruck.2)|s(disembarktruck.2)|s(drivetruck.1)|s(loadtruck.2)|s(boardtruck.2)|s(walk.1)|s(walk.2)</td><td style=\"text-align: right;\">                                                                                                                                                                                                                                                1</td></tr>\\n</tbody>\\n</table>'"
      ]
     },
     "metadata": {},
     "output_type": "display_data"
    }
   ],
   "source": [
    "state_machines_overall_list = []\n",
    "\n",
    "for index, ts_class in enumerate(transition_sets_per_class):\n",
    "    fsms_per_class = []\n",
    "    printmd(\"### \"+ class_names[index])\n",
    "    num_fsms = len(ts_class)\n",
    "    print(\"Number of FSMS:\" + str(num_fsms))\n",
    "    \n",
    "    for fsm_no, ts in enumerate(ts_class):\n",
    "        fsm_graph = nx.DiGraph()\n",
    "        \n",
    "        printmd(\"#### FSM \" + str(fsm_no))\n",
    "        for t in ts:\n",
    "            source = \"s(\" + str(t) + \")\"\n",
    "            target = \"e(\" + str(t) + \")\"\n",
    "            fsm_graph.add_edge(source,target,weight=t)\n",
    "        \n",
    "       \n",
    "        t_df = adjacency_matrix_list[index].loc[list(ts), list(ts)] #transition df for this fsm\n",
    "        print_table(t_df)\n",
    "        \n",
    "        \n",
    "        # merge end(t1) = start(t2) from transition df\n",
    "        \n",
    "        edge_t_list = [] # edge transition list\n",
    "        for i in range(t_df.shape[0]):\n",
    "            for j in range(t_df.shape[1]):\n",
    "                \n",
    "                if t_df.iloc[i, j] != 'hole':\n",
    "                    if t_df.iloc[i, j] > 0:\n",
    "                        for node in fsm_graph.nodes():\n",
    "                            if \"e(\"+t_df.index[i]+\")\" in node:\n",
    "                                merge_node1 = node\n",
    "                            if \"s(\"+t_df.index[j]+\")\" in node:\n",
    "                                merge_node2 = node\n",
    "                        \n",
    "                        \n",
    "                        \n",
    "\n",
    "                        fsm_graph = nx.contracted_nodes(fsm_graph, merge_node1, merge_node2 , self_loops=True)\n",
    "\n",
    "                        if merge_node1 != merge_node2:\n",
    "                            mapping = {merge_node1: merge_node1 + \"|\" + merge_node2} \n",
    "                            fsm_graph = nx.relabel_nodes(fsm_graph, mapping)\n",
    "\n",
    "        # we need to complete the list of transitions \n",
    "        # that can happen on self-loop nodes \n",
    "        # as these have been overwritten (as graph is not MultiDiGraph)\n",
    "        \n",
    "        sl_state_list = list(nx.nodes_with_selfloops(fsm_graph)) # self looping states.\n",
    "        # if state is self-looping\n",
    "        t_list = []\n",
    "        if len(sl_state_list)>0: \n",
    "            # if s(T1) and e(T1) are there for same node, this T1 can self-loop occur.\n",
    "            for s in sl_state_list:\n",
    "                for sub_s in s.split('|'):\n",
    "                    if sub_s[0] == 'e':\n",
    "                        if ('s' + sub_s[1:]) in s.split('|'):\n",
    "                            t_list.append(sub_s[2:-1])\n",
    "                fsm_graph[s][s]['weight'] = '|'.join(t_list)\n",
    "        \n",
    "        \n",
    "\n",
    "               \n",
    "        plot_cytographs_fsm(fsm_graph,domain_name)\n",
    "        df = nx.to_pandas_adjacency(fsm_graph, nodelist=fsm_graph.nodes(), weight = 1)\n",
    "        print_table(df)\n",
    "        fsms_per_class.append(fsm_graph)\n",
    "    state_machines_overall_list.append(fsms_per_class)"
   ]
  },
  {
   "cell_type": "markdown",
   "metadata": {},
   "source": [
    "## USER INPUT 3: Rename States. \n",
    "\n",
    "\n",
    "As states are shown in terms of end and start of transitions, user can rename them for easy readability later on.\n",
    "\n",
    "If states are renamed, certain hardcoded aspects of code won't work. It is advisable to create a  separate state dictionary and use it after step 9: (formation of PDDL model) to replace states in PDDL code.\n",
    "\n",
    "\n",
    "This also makes it easier to specify problem statements."
   ]
  },
  {
   "cell_type": "markdown",
   "metadata": {},
   "source": [
    "### Automatic creation: rename states as integers 0, 1, 2 .. etc. for each fsm."
   ]
  },
  {
   "cell_type": "code",
   "execution_count": 88,
   "metadata": {
    "scrolled": false
   },
   "outputs": [
    {
     "data": {
      "text/markdown": [
       "### Driver"
      ],
      "text/plain": [
       "<IPython.core.display.Markdown object>"
      ]
     },
     "metadata": {},
     "output_type": "display_data"
    },
    {
     "name": "stdout",
     "output_type": "stream",
     "text": [
      "Number of FSMS:1\n"
     ]
    },
    {
     "data": {
      "application/vnd.jupyter.widget-view+json": {
       "model_id": "215317a38d5e4255905ef09052a4ef6d",
       "version_major": 2,
       "version_minor": 0
      },
      "text/plain": [
       "CytoscapeWidget(cytoscape_layout={'name': 'cola'}, cytoscape_style=[{'width': 400, 'height': 500, 'selector': …"
      ]
     },
     "metadata": {},
     "output_type": "display_data"
    },
    {
     "data": {
      "application/vnd.jupyter.widget-view+json": {
       "model_id": "59e235eb99fa4726a6709e298c11dd86",
       "version_major": 2,
       "version_minor": 0
      },
      "text/plain": [
       "CytoscapeWidget(cytoscape_layout={'name': 'cola'}, cytoscape_style=[{'width': 400, 'height': 500, 'selector': …"
      ]
     },
     "metadata": {},
     "output_type": "display_data"
    },
    {
     "data": {
      "text/markdown": [
       "Fsm 0"
      ],
      "text/plain": [
       "<IPython.core.display.Markdown object>"
      ]
     },
     "metadata": {},
     "output_type": "display_data"
    },
    {
     "data": {
      "text/markdown": [
       "### Truck"
      ],
      "text/plain": [
       "<IPython.core.display.Markdown object>"
      ]
     },
     "metadata": {},
     "output_type": "display_data"
    },
    {
     "name": "stdout",
     "output_type": "stream",
     "text": [
      "Number of FSMS:1\n"
     ]
    },
    {
     "data": {
      "application/vnd.jupyter.widget-view+json": {
       "model_id": "5a225cd1b189432594524075b8492a59",
       "version_major": 2,
       "version_minor": 0
      },
      "text/plain": [
       "CytoscapeWidget(cytoscape_layout={'name': 'cola'}, cytoscape_style=[{'width': 400, 'height': 500, 'selector': …"
      ]
     },
     "metadata": {},
     "output_type": "display_data"
    },
    {
     "data": {
      "application/vnd.jupyter.widget-view+json": {
       "model_id": "f19b6d7c432f486f9f6bb8035c0d4fa5",
       "version_major": 2,
       "version_minor": 0
      },
      "text/plain": [
       "CytoscapeWidget(cytoscape_layout={'name': 'cola'}, cytoscape_style=[{'width': 400, 'height': 500, 'selector': …"
      ]
     },
     "metadata": {},
     "output_type": "display_data"
    },
    {
     "data": {
      "text/markdown": [
       "Fsm 0"
      ],
      "text/plain": [
       "<IPython.core.display.Markdown object>"
      ]
     },
     "metadata": {},
     "output_type": "display_data"
    },
    {
     "data": {
      "text/markdown": [
       "### Package"
      ],
      "text/plain": [
       "<IPython.core.display.Markdown object>"
      ]
     },
     "metadata": {},
     "output_type": "display_data"
    },
    {
     "name": "stdout",
     "output_type": "stream",
     "text": [
      "Number of FSMS:4\n"
     ]
    },
    {
     "data": {
      "application/vnd.jupyter.widget-view+json": {
       "model_id": "efdfde15b6254773b8c81b7f4b220785",
       "version_major": 2,
       "version_minor": 0
      },
      "text/plain": [
       "CytoscapeWidget(cytoscape_layout={'name': 'cola'}, cytoscape_style=[{'width': 400, 'height': 500, 'selector': …"
      ]
     },
     "metadata": {},
     "output_type": "display_data"
    },
    {
     "data": {
      "application/vnd.jupyter.widget-view+json": {
       "model_id": "67ee350d1cc34b7abdfb4507ab515fdf",
       "version_major": 2,
       "version_minor": 0
      },
      "text/plain": [
       "CytoscapeWidget(cytoscape_layout={'name': 'cola'}, cytoscape_style=[{'width': 400, 'height': 500, 'selector': …"
      ]
     },
     "metadata": {},
     "output_type": "display_data"
    },
    {
     "data": {
      "text/markdown": [
       "Fsm 0"
      ],
      "text/plain": [
       "<IPython.core.display.Markdown object>"
      ]
     },
     "metadata": {},
     "output_type": "display_data"
    },
    {
     "data": {
      "application/vnd.jupyter.widget-view+json": {
       "model_id": "c5f6f09036ef4e979e5def00ea9b4eee",
       "version_major": 2,
       "version_minor": 0
      },
      "text/plain": [
       "CytoscapeWidget(cytoscape_layout={'name': 'cola'}, cytoscape_style=[{'width': 400, 'height': 500, 'selector': …"
      ]
     },
     "metadata": {},
     "output_type": "display_data"
    },
    {
     "data": {
      "application/vnd.jupyter.widget-view+json": {
       "model_id": "444f28c7070647a087049687336a1d76",
       "version_major": 2,
       "version_minor": 0
      },
      "text/plain": [
       "CytoscapeWidget(cytoscape_layout={'name': 'cola'}, cytoscape_style=[{'width': 400, 'height': 500, 'selector': …"
      ]
     },
     "metadata": {},
     "output_type": "display_data"
    },
    {
     "data": {
      "text/markdown": [
       "Fsm 1"
      ],
      "text/plain": [
       "<IPython.core.display.Markdown object>"
      ]
     },
     "metadata": {},
     "output_type": "display_data"
    },
    {
     "data": {
      "application/vnd.jupyter.widget-view+json": {
       "model_id": "033c314304744f2991e0ae58613fda5b",
       "version_major": 2,
       "version_minor": 0
      },
      "text/plain": [
       "CytoscapeWidget(cytoscape_layout={'name': 'cola'}, cytoscape_style=[{'width': 400, 'height': 500, 'selector': …"
      ]
     },
     "metadata": {},
     "output_type": "display_data"
    },
    {
     "data": {
      "application/vnd.jupyter.widget-view+json": {
       "model_id": "291a45abe5a541ba82917cae89c2d112",
       "version_major": 2,
       "version_minor": 0
      },
      "text/plain": [
       "CytoscapeWidget(cytoscape_layout={'name': 'cola'}, cytoscape_style=[{'width': 400, 'height': 500, 'selector': …"
      ]
     },
     "metadata": {},
     "output_type": "display_data"
    },
    {
     "data": {
      "text/markdown": [
       "Fsm 2"
      ],
      "text/plain": [
       "<IPython.core.display.Markdown object>"
      ]
     },
     "metadata": {},
     "output_type": "display_data"
    },
    {
     "data": {
      "application/vnd.jupyter.widget-view+json": {
       "model_id": "1bb188b9b8b34abf82fd2b05445573fd",
       "version_major": 2,
       "version_minor": 0
      },
      "text/plain": [
       "CytoscapeWidget(cytoscape_layout={'name': 'cola'}, cytoscape_style=[{'width': 400, 'height': 500, 'selector': …"
      ]
     },
     "metadata": {},
     "output_type": "display_data"
    },
    {
     "data": {
      "application/vnd.jupyter.widget-view+json": {
       "model_id": "2ea7ff2d427544f2903ba1fbd8642e4d",
       "version_major": 2,
       "version_minor": 0
      },
      "text/plain": [
       "CytoscapeWidget(cytoscape_layout={'name': 'cola'}, cytoscape_style=[{'width': 400, 'height': 500, 'selector': …"
      ]
     },
     "metadata": {},
     "output_type": "display_data"
    },
    {
     "data": {
      "text/markdown": [
       "Fsm 3"
      ],
      "text/plain": [
       "<IPython.core.display.Markdown object>"
      ]
     },
     "metadata": {},
     "output_type": "display_data"
    },
    {
     "data": {
      "text/markdown": [
       "### Location"
      ],
      "text/plain": [
       "<IPython.core.display.Markdown object>"
      ]
     },
     "metadata": {},
     "output_type": "display_data"
    },
    {
     "name": "stdout",
     "output_type": "stream",
     "text": [
      "Number of FSMS:12\n"
     ]
    },
    {
     "data": {
      "application/vnd.jupyter.widget-view+json": {
       "model_id": "f7235ea1847b40ba81b54eef56319104",
       "version_major": 2,
       "version_minor": 0
      },
      "text/plain": [
       "CytoscapeWidget(cytoscape_layout={'name': 'cola'}, cytoscape_style=[{'width': 400, 'height': 500, 'selector': …"
      ]
     },
     "metadata": {},
     "output_type": "display_data"
    },
    {
     "data": {
      "application/vnd.jupyter.widget-view+json": {
       "model_id": "e4d764018cbb4840bb3f7f6f4450ee8c",
       "version_major": 2,
       "version_minor": 0
      },
      "text/plain": [
       "CytoscapeWidget(cytoscape_layout={'name': 'cola'}, cytoscape_style=[{'width': 400, 'height': 500, 'selector': …"
      ]
     },
     "metadata": {},
     "output_type": "display_data"
    },
    {
     "data": {
      "text/markdown": [
       "Fsm 0"
      ],
      "text/plain": [
       "<IPython.core.display.Markdown object>"
      ]
     },
     "metadata": {},
     "output_type": "display_data"
    },
    {
     "data": {
      "application/vnd.jupyter.widget-view+json": {
       "model_id": "c5fecc4d7d5f4a9b84a96a1e2457d834",
       "version_major": 2,
       "version_minor": 0
      },
      "text/plain": [
       "CytoscapeWidget(cytoscape_layout={'name': 'cola'}, cytoscape_style=[{'width': 400, 'height': 500, 'selector': …"
      ]
     },
     "metadata": {},
     "output_type": "display_data"
    },
    {
     "data": {
      "application/vnd.jupyter.widget-view+json": {
       "model_id": "ea9ee663d38f4dca8614412262a92208",
       "version_major": 2,
       "version_minor": 0
      },
      "text/plain": [
       "CytoscapeWidget(cytoscape_layout={'name': 'cola'}, cytoscape_style=[{'width': 400, 'height': 500, 'selector': …"
      ]
     },
     "metadata": {},
     "output_type": "display_data"
    },
    {
     "data": {
      "text/markdown": [
       "Fsm 1"
      ],
      "text/plain": [
       "<IPython.core.display.Markdown object>"
      ]
     },
     "metadata": {},
     "output_type": "display_data"
    },
    {
     "data": {
      "application/vnd.jupyter.widget-view+json": {
       "model_id": "3447467e8ef841ba978a3803bcd6d034",
       "version_major": 2,
       "version_minor": 0
      },
      "text/plain": [
       "CytoscapeWidget(cytoscape_layout={'name': 'cola'}, cytoscape_style=[{'width': 400, 'height': 500, 'selector': …"
      ]
     },
     "metadata": {},
     "output_type": "display_data"
    },
    {
     "data": {
      "application/vnd.jupyter.widget-view+json": {
       "model_id": "b4aa8c1f1ccb4f0c9e0574f811d3c635",
       "version_major": 2,
       "version_minor": 0
      },
      "text/plain": [
       "CytoscapeWidget(cytoscape_layout={'name': 'cola'}, cytoscape_style=[{'width': 400, 'height': 500, 'selector': …"
      ]
     },
     "metadata": {},
     "output_type": "display_data"
    },
    {
     "data": {
      "text/markdown": [
       "Fsm 2"
      ],
      "text/plain": [
       "<IPython.core.display.Markdown object>"
      ]
     },
     "metadata": {},
     "output_type": "display_data"
    },
    {
     "data": {
      "application/vnd.jupyter.widget-view+json": {
       "model_id": "930950d9b1694d75a264f992e0395567",
       "version_major": 2,
       "version_minor": 0
      },
      "text/plain": [
       "CytoscapeWidget(cytoscape_layout={'name': 'cola'}, cytoscape_style=[{'width': 400, 'height': 500, 'selector': …"
      ]
     },
     "metadata": {},
     "output_type": "display_data"
    },
    {
     "data": {
      "application/vnd.jupyter.widget-view+json": {
       "model_id": "379ffe1ae52f470caa0b9e476860066a",
       "version_major": 2,
       "version_minor": 0
      },
      "text/plain": [
       "CytoscapeWidget(cytoscape_layout={'name': 'cola'}, cytoscape_style=[{'width': 400, 'height': 500, 'selector': …"
      ]
     },
     "metadata": {},
     "output_type": "display_data"
    },
    {
     "data": {
      "text/markdown": [
       "Fsm 3"
      ],
      "text/plain": [
       "<IPython.core.display.Markdown object>"
      ]
     },
     "metadata": {},
     "output_type": "display_data"
    },
    {
     "data": {
      "application/vnd.jupyter.widget-view+json": {
       "model_id": "741840b72db14247b07bf2f0f1b8cf2a",
       "version_major": 2,
       "version_minor": 0
      },
      "text/plain": [
       "CytoscapeWidget(cytoscape_layout={'name': 'cola'}, cytoscape_style=[{'width': 400, 'height': 500, 'selector': …"
      ]
     },
     "metadata": {},
     "output_type": "display_data"
    },
    {
     "data": {
      "application/vnd.jupyter.widget-view+json": {
       "model_id": "a8f442609c9f41998137492a5d1cb81d",
       "version_major": 2,
       "version_minor": 0
      },
      "text/plain": [
       "CytoscapeWidget(cytoscape_layout={'name': 'cola'}, cytoscape_style=[{'width': 400, 'height': 500, 'selector': …"
      ]
     },
     "metadata": {},
     "output_type": "display_data"
    },
    {
     "data": {
      "text/markdown": [
       "Fsm 4"
      ],
      "text/plain": [
       "<IPython.core.display.Markdown object>"
      ]
     },
     "metadata": {},
     "output_type": "display_data"
    },
    {
     "data": {
      "application/vnd.jupyter.widget-view+json": {
       "model_id": "6704250063e542ab88c7fd6053f4dbb1",
       "version_major": 2,
       "version_minor": 0
      },
      "text/plain": [
       "CytoscapeWidget(cytoscape_layout={'name': 'cola'}, cytoscape_style=[{'width': 400, 'height': 500, 'selector': …"
      ]
     },
     "metadata": {},
     "output_type": "display_data"
    },
    {
     "data": {
      "application/vnd.jupyter.widget-view+json": {
       "model_id": "1c48505d0da34c84848ec3c20e7aa614",
       "version_major": 2,
       "version_minor": 0
      },
      "text/plain": [
       "CytoscapeWidget(cytoscape_layout={'name': 'cola'}, cytoscape_style=[{'width': 400, 'height': 500, 'selector': …"
      ]
     },
     "metadata": {},
     "output_type": "display_data"
    },
    {
     "data": {
      "text/markdown": [
       "Fsm 5"
      ],
      "text/plain": [
       "<IPython.core.display.Markdown object>"
      ]
     },
     "metadata": {},
     "output_type": "display_data"
    },
    {
     "data": {
      "application/vnd.jupyter.widget-view+json": {
       "model_id": "cfdf232a90ea46a5900015a42381b121",
       "version_major": 2,
       "version_minor": 0
      },
      "text/plain": [
       "CytoscapeWidget(cytoscape_layout={'name': 'cola'}, cytoscape_style=[{'width': 400, 'height': 500, 'selector': …"
      ]
     },
     "metadata": {},
     "output_type": "display_data"
    },
    {
     "data": {
      "application/vnd.jupyter.widget-view+json": {
       "model_id": "a35491eafc554d98acc27855b47e890a",
       "version_major": 2,
       "version_minor": 0
      },
      "text/plain": [
       "CytoscapeWidget(cytoscape_layout={'name': 'cola'}, cytoscape_style=[{'width': 400, 'height': 500, 'selector': …"
      ]
     },
     "metadata": {},
     "output_type": "display_data"
    },
    {
     "data": {
      "text/markdown": [
       "Fsm 6"
      ],
      "text/plain": [
       "<IPython.core.display.Markdown object>"
      ]
     },
     "metadata": {},
     "output_type": "display_data"
    },
    {
     "data": {
      "application/vnd.jupyter.widget-view+json": {
       "model_id": "17cdbb3dd4dd4a02a94c074522b7b46b",
       "version_major": 2,
       "version_minor": 0
      },
      "text/plain": [
       "CytoscapeWidget(cytoscape_layout={'name': 'cola'}, cytoscape_style=[{'width': 400, 'height': 500, 'selector': …"
      ]
     },
     "metadata": {},
     "output_type": "display_data"
    },
    {
     "data": {
      "application/vnd.jupyter.widget-view+json": {
       "model_id": "b42526fecc2d4ec096bd451f11058152",
       "version_major": 2,
       "version_minor": 0
      },
      "text/plain": [
       "CytoscapeWidget(cytoscape_layout={'name': 'cola'}, cytoscape_style=[{'width': 400, 'height': 500, 'selector': …"
      ]
     },
     "metadata": {},
     "output_type": "display_data"
    },
    {
     "data": {
      "text/markdown": [
       "Fsm 7"
      ],
      "text/plain": [
       "<IPython.core.display.Markdown object>"
      ]
     },
     "metadata": {},
     "output_type": "display_data"
    },
    {
     "data": {
      "application/vnd.jupyter.widget-view+json": {
       "model_id": "95ef3e41ef5244f89a33eb43e99a3f78",
       "version_major": 2,
       "version_minor": 0
      },
      "text/plain": [
       "CytoscapeWidget(cytoscape_layout={'name': 'cola'}, cytoscape_style=[{'width': 400, 'height': 500, 'selector': …"
      ]
     },
     "metadata": {},
     "output_type": "display_data"
    },
    {
     "data": {
      "application/vnd.jupyter.widget-view+json": {
       "model_id": "b0708c958bb84b279ada6584daeb57de",
       "version_major": 2,
       "version_minor": 0
      },
      "text/plain": [
       "CytoscapeWidget(cytoscape_layout={'name': 'cola'}, cytoscape_style=[{'width': 400, 'height': 500, 'selector': …"
      ]
     },
     "metadata": {},
     "output_type": "display_data"
    },
    {
     "data": {
      "text/markdown": [
       "Fsm 8"
      ],
      "text/plain": [
       "<IPython.core.display.Markdown object>"
      ]
     },
     "metadata": {},
     "output_type": "display_data"
    },
    {
     "data": {
      "application/vnd.jupyter.widget-view+json": {
       "model_id": "35e0e64d81914067b65d790f7ff89a67",
       "version_major": 2,
       "version_minor": 0
      },
      "text/plain": [
       "CytoscapeWidget(cytoscape_layout={'name': 'cola'}, cytoscape_style=[{'width': 400, 'height': 500, 'selector': …"
      ]
     },
     "metadata": {},
     "output_type": "display_data"
    },
    {
     "data": {
      "application/vnd.jupyter.widget-view+json": {
       "model_id": "96a18f1634dc4cd7a4f9b914a16b6f3e",
       "version_major": 2,
       "version_minor": 0
      },
      "text/plain": [
       "CytoscapeWidget(cytoscape_layout={'name': 'cola'}, cytoscape_style=[{'width': 400, 'height': 500, 'selector': …"
      ]
     },
     "metadata": {},
     "output_type": "display_data"
    },
    {
     "data": {
      "text/markdown": [
       "Fsm 9"
      ],
      "text/plain": [
       "<IPython.core.display.Markdown object>"
      ]
     },
     "metadata": {},
     "output_type": "display_data"
    },
    {
     "data": {
      "application/vnd.jupyter.widget-view+json": {
       "model_id": "dbc9922b843d41bfb261cf9bd447eff7",
       "version_major": 2,
       "version_minor": 0
      },
      "text/plain": [
       "CytoscapeWidget(cytoscape_layout={'name': 'cola'}, cytoscape_style=[{'width': 400, 'height': 500, 'selector': …"
      ]
     },
     "metadata": {},
     "output_type": "display_data"
    },
    {
     "data": {
      "application/vnd.jupyter.widget-view+json": {
       "model_id": "541e458a62354650a47cbaced57cea94",
       "version_major": 2,
       "version_minor": 0
      },
      "text/plain": [
       "CytoscapeWidget(cytoscape_layout={'name': 'cola'}, cytoscape_style=[{'width': 400, 'height': 500, 'selector': …"
      ]
     },
     "metadata": {},
     "output_type": "display_data"
    },
    {
     "data": {
      "text/markdown": [
       "Fsm 10"
      ],
      "text/plain": [
       "<IPython.core.display.Markdown object>"
      ]
     },
     "metadata": {},
     "output_type": "display_data"
    },
    {
     "data": {
      "application/vnd.jupyter.widget-view+json": {
       "model_id": "ed48d4d38caa43cfa068ecfeaa2015fd",
       "version_major": 2,
       "version_minor": 0
      },
      "text/plain": [
       "CytoscapeWidget(cytoscape_layout={'name': 'cola'}, cytoscape_style=[{'width': 400, 'height': 500, 'selector': …"
      ]
     },
     "metadata": {},
     "output_type": "display_data"
    },
    {
     "data": {
      "application/vnd.jupyter.widget-view+json": {
       "model_id": "6a54d870284a408d94fe361452345c49",
       "version_major": 2,
       "version_minor": 0
      },
      "text/plain": [
       "CytoscapeWidget(cytoscape_layout={'name': 'cola'}, cytoscape_style=[{'width': 400, 'height': 500, 'selector': …"
      ]
     },
     "metadata": {},
     "output_type": "display_data"
    },
    {
     "data": {
      "text/markdown": [
       "Fsm 11"
      ],
      "text/plain": [
       "<IPython.core.display.Markdown object>"
      ]
     },
     "metadata": {},
     "output_type": "display_data"
    }
   ],
   "source": [
    "# An Automatic state dictionary is added here where states are \n",
    "# renamed as 0, 1, 2 etc. for a specific FSM\n",
    "\n",
    "state_mappings_class = []\n",
    "state_machines_overall_list_2 = []\n",
    "for index, fsm_graphs in enumerate(state_machines_overall_list):\n",
    "    state_mappings_fsm = []\n",
    "    fsms_per_class_2 = []\n",
    "    printmd(\"### \"+ class_names[index])\n",
    "    num_fsms = len(fsm_graphs)\n",
    "    print(\"Number of FSMS:\" + str(num_fsms))\n",
    "    \n",
    "    for fsm_no, G in enumerate(fsm_graphs):\n",
    "        \n",
    "        state_mapping = {k: v for v, k in enumerate(G.nodes())}\n",
    "        G_copy = nx.relabel_nodes(G, state_mapping)\n",
    "        \n",
    "        plot_cytographs_fsm(G, domain_name)\n",
    "        plot_cytographs_fsm(G_copy, domain_name)\n",
    "        printmd(\"Fsm \"+ str(fsm_no))\n",
    "        fsms_per_class_2.append(G_copy)\n",
    "        state_mappings_fsm.append(state_mapping)\n",
    "        \n",
    "    state_machines_overall_list_2.append(fsms_per_class_2)\n",
    "    state_mappings_class.append(state_mappings_fsm)\n",
    "    \n"
   ]
  },
  {
   "cell_type": "markdown",
   "metadata": {},
   "source": [
    "### Looking at the graph, User can specify states here"
   ]
  },
  {
   "cell_type": "code",
   "execution_count": 89,
   "metadata": {},
   "outputs": [],
   "source": [
    "# User can specify states here.\n",
    "# assign your states in state dictionary called state_mapping\n",
    "# e.g. state_mapping['e(removewheek.2)|s(putonwheel.2)'] = 'jack_free_to_use'"
   ]
  },
  {
   "cell_type": "markdown",
   "metadata": {},
   "source": [
    "## Step 5: Induction of parameterized state machines\n",
    "Create and test hypothesis for state parameters"
   ]
  },
  {
   "cell_type": "markdown",
   "metadata": {},
   "source": [
    "### Form Hyp for HS (Hypothesis set)"
   ]
  },
  {
   "cell_type": "code",
   "execution_count": 90,
   "metadata": {
    "scrolled": false
   },
   "outputs": [
    {
     "data": {
      "text/markdown": [
       "### Driver"
      ],
      "text/plain": [
       "<IPython.core.display.Markdown object>"
      ]
     },
     "metadata": {},
     "output_type": "display_data"
    },
    {
     "data": {
      "text/markdown": [
       "#### FSM: 0 Hypothesis Set"
      ],
      "text/plain": [
       "<IPython.core.display.Markdown object>"
      ]
     },
     "metadata": {},
     "output_type": "display_data"
    },
    {
     "name": "stdout",
     "output_type": "stream",
     "text": [
      "23 hypothesis created\n"
     ]
    },
    {
     "data": {
      "text/markdown": [
       "### Truck"
      ],
      "text/plain": [
       "<IPython.core.display.Markdown object>"
      ]
     },
     "metadata": {},
     "output_type": "display_data"
    },
    {
     "data": {
      "text/markdown": [
       "#### FSM: 0 Hypothesis Set"
      ],
      "text/plain": [
       "<IPython.core.display.Markdown object>"
      ]
     },
     "metadata": {},
     "output_type": "display_data"
    },
    {
     "name": "stdout",
     "output_type": "stream",
     "text": [
      "4 hypothesis created\n"
     ]
    },
    {
     "data": {
      "text/markdown": [
       "### Package"
      ],
      "text/plain": [
       "<IPython.core.display.Markdown object>"
      ]
     },
     "metadata": {},
     "output_type": "display_data"
    },
    {
     "data": {
      "text/markdown": [
       "#### FSM: 0 Hypothesis Set"
      ],
      "text/plain": [
       "<IPython.core.display.Markdown object>"
      ]
     },
     "metadata": {},
     "output_type": "display_data"
    },
    {
     "name": "stdout",
     "output_type": "stream",
     "text": [
      "15 hypothesis created\n"
     ]
    },
    {
     "data": {
      "text/markdown": [
       "#### FSM: 1 Hypothesis Set"
      ],
      "text/plain": [
       "<IPython.core.display.Markdown object>"
      ]
     },
     "metadata": {},
     "output_type": "display_data"
    },
    {
     "name": "stdout",
     "output_type": "stream",
     "text": [
      "2 hypothesis created\n"
     ]
    },
    {
     "data": {
      "text/markdown": [
       "#### FSM: 2 Hypothesis Set"
      ],
      "text/plain": [
       "<IPython.core.display.Markdown object>"
      ]
     },
     "metadata": {},
     "output_type": "display_data"
    },
    {
     "name": "stdout",
     "output_type": "stream",
     "text": [
      "2 hypothesis created\n"
     ]
    },
    {
     "data": {
      "text/markdown": [
       "#### FSM: 3 Hypothesis Set"
      ],
      "text/plain": [
       "<IPython.core.display.Markdown object>"
      ]
     },
     "metadata": {},
     "output_type": "display_data"
    },
    {
     "name": "stdout",
     "output_type": "stream",
     "text": [
      "35 hypothesis created\n"
     ]
    },
    {
     "data": {
      "text/markdown": [
       "### Location"
      ],
      "text/plain": [
       "<IPython.core.display.Markdown object>"
      ]
     },
     "metadata": {},
     "output_type": "display_data"
    },
    {
     "data": {
      "text/markdown": [
       "#### FSM: 0 Hypothesis Set"
      ],
      "text/plain": [
       "<IPython.core.display.Markdown object>"
      ]
     },
     "metadata": {},
     "output_type": "display_data"
    },
    {
     "name": "stdout",
     "output_type": "stream",
     "text": [
      "2 hypothesis created\n"
     ]
    },
    {
     "data": {
      "text/markdown": [
       "#### FSM: 1 Hypothesis Set"
      ],
      "text/plain": [
       "<IPython.core.display.Markdown object>"
      ]
     },
     "metadata": {},
     "output_type": "display_data"
    },
    {
     "name": "stdout",
     "output_type": "stream",
     "text": [
      "2 hypothesis created\n"
     ]
    },
    {
     "data": {
      "text/markdown": [
       "#### FSM: 2 Hypothesis Set"
      ],
      "text/plain": [
       "<IPython.core.display.Markdown object>"
      ]
     },
     "metadata": {},
     "output_type": "display_data"
    },
    {
     "name": "stdout",
     "output_type": "stream",
     "text": [
      "3 hypothesis created\n"
     ]
    },
    {
     "data": {
      "text/markdown": [
       "#### FSM: 3 Hypothesis Set"
      ],
      "text/plain": [
       "<IPython.core.display.Markdown object>"
      ]
     },
     "metadata": {},
     "output_type": "display_data"
    },
    {
     "name": "stdout",
     "output_type": "stream",
     "text": [
      "3 hypothesis created\n"
     ]
    },
    {
     "data": {
      "text/markdown": [
       "#### FSM: 4 Hypothesis Set"
      ],
      "text/plain": [
       "<IPython.core.display.Markdown object>"
      ]
     },
     "metadata": {},
     "output_type": "display_data"
    },
    {
     "name": "stdout",
     "output_type": "stream",
     "text": [
      "6 hypothesis created\n"
     ]
    },
    {
     "data": {
      "text/markdown": [
       "#### FSM: 5 Hypothesis Set"
      ],
      "text/plain": [
       "<IPython.core.display.Markdown object>"
      ]
     },
     "metadata": {},
     "output_type": "display_data"
    },
    {
     "name": "stdout",
     "output_type": "stream",
     "text": [
      "3 hypothesis created\n"
     ]
    },
    {
     "data": {
      "text/markdown": [
       "#### FSM: 6 Hypothesis Set"
      ],
      "text/plain": [
       "<IPython.core.display.Markdown object>"
      ]
     },
     "metadata": {},
     "output_type": "display_data"
    },
    {
     "name": "stdout",
     "output_type": "stream",
     "text": [
      "2 hypothesis created\n"
     ]
    },
    {
     "data": {
      "text/markdown": [
       "#### FSM: 7 Hypothesis Set"
      ],
      "text/plain": [
       "<IPython.core.display.Markdown object>"
      ]
     },
     "metadata": {},
     "output_type": "display_data"
    },
    {
     "name": "stdout",
     "output_type": "stream",
     "text": [
      "3 hypothesis created\n"
     ]
    },
    {
     "data": {
      "text/markdown": [
       "#### FSM: 8 Hypothesis Set"
      ],
      "text/plain": [
       "<IPython.core.display.Markdown object>"
      ]
     },
     "metadata": {},
     "output_type": "display_data"
    },
    {
     "name": "stdout",
     "output_type": "stream",
     "text": [
      "2 hypothesis created\n"
     ]
    },
    {
     "data": {
      "text/markdown": [
       "#### FSM: 9 Hypothesis Set"
      ],
      "text/plain": [
       "<IPython.core.display.Markdown object>"
      ]
     },
     "metadata": {},
     "output_type": "display_data"
    },
    {
     "name": "stdout",
     "output_type": "stream",
     "text": [
      "3 hypothesis created\n"
     ]
    },
    {
     "data": {
      "text/markdown": [
       "#### FSM: 10 Hypothesis Set"
      ],
      "text/plain": [
       "<IPython.core.display.Markdown object>"
      ]
     },
     "metadata": {},
     "output_type": "display_data"
    },
    {
     "name": "stdout",
     "output_type": "stream",
     "text": [
      "3 hypothesis created\n"
     ]
    },
    {
     "data": {
      "text/markdown": [
       "#### FSM: 11 Hypothesis Set"
      ],
      "text/plain": [
       "<IPython.core.display.Markdown object>"
      ]
     },
     "metadata": {},
     "output_type": "display_data"
    },
    {
     "name": "stdout",
     "output_type": "stream",
     "text": [
      "46 hypothesis created\n"
     ]
    }
   ],
   "source": [
    "HS_list = []\n",
    "ct_list = []\n",
    "\n",
    "# for transition set of each class\n",
    "for index, ts_class in enumerate(transition_sets_per_class):\n",
    "    printmd(\"### \"+ class_names[index])\n",
    "    \n",
    "    ct_per_class = []\n",
    "    HS_per_class = []\n",
    "    \n",
    "    # for transition set of each fsm in a class\n",
    "    for fsm_no, ts in enumerate(ts_class):\n",
    "        printmd(\"#### FSM: \" + str(fsm_no) + \" Hypothesis Set\")\n",
    "        \n",
    "        # transition matrix for the ts\n",
    "        t_df = adjacency_matrix_list[index].loc[list(ts), list(ts)]\n",
    "        ct_in_fsm = set()  # find consecutive transition set for a state machine in a class.\n",
    "        for i in range(t_df.shape[0]):\n",
    "            for j in range(t_df.shape[1]):\n",
    "                if t_df.iloc[i, j] != 'hole':\n",
    "                    if t_df.iloc[i, j] > 0:\n",
    "                        ct_in_fsm.add((t_df.index[i], t_df.columns[j]))\n",
    "        \n",
    "        ct_per_class.append(ct_in_fsm)\n",
    "        \n",
    "        # add to hypothesis set\n",
    "        HS = set()\n",
    "        \n",
    "        # for each pair B.k and C.l in TS s.t. e(B.k) = S = s(C.l)\n",
    "        for ct in ct_in_fsm:\n",
    "            B = ct[0].split('.')[0] # action name of T1\n",
    "            k = int(ct[0].split('.')[1]) # argument index of T1\n",
    "            \n",
    "            C = ct[1].split('.')[0] # action name of T2\n",
    "            l = int(ct[1].split('.')[1]) # argument index of T2\n",
    "            \n",
    "            \n",
    "            \n",
    "            \n",
    "            # When both actions B and C contain another argument of the same sort G' in position k' and l' respectively, \n",
    "            # we hypothesise that there may be a relation between sorts G and G'.\n",
    "            for seq in sequences:\n",
    "                for actarg_tuple in seq:\n",
    "                    arglist1 = []\n",
    "                    arglist2 = []\n",
    "                    if actarg_tuple[0] == B: #if action name is same as B\n",
    "                        arglist1 = actarg_tuple[1].copy()\n",
    "#                         arglist1.remove(actarg_tuple[1][k]) # remove k from arglist\n",
    "                        for actarg_tuple_prime in seq: #loop through seq again.\n",
    "                            if actarg_tuple_prime[0] == C:\n",
    "                                arglist2 = actarg_tuple_prime[1].copy()\n",
    "#                                 arglist2.remove(actarg_tuple_prime[1][l]) # remove l from arglist\n",
    "                                \n",
    "\n",
    "                        # for arg lists of actions B and C, if class is same add a hypothesis set.\n",
    "                        for i in range(len(arglist1)): # if len is 0, we don't go in\n",
    "                            for j in range(len(arglist2)):\n",
    "                                class1 = get_class_index(arglist1[i], classes)\n",
    "                                class2 = get_class_index(arglist2[j], classes)\n",
    "                                if class1 == class2: # if object at same position have same classes\n",
    "                                    # add hypothesis to hypothesis set.\n",
    "                                    if (k!=i) and (l!=j):\n",
    "                                        HS.add((frozenset({\"e(\"+B+\".\"+ str(k)+\")\", \"s(\"+C+\".\"+str(l)+\")\"}),B,k,i,C,l,j,class_names[index],class_names[class1]))\n",
    "        print(str(len(HS))+ \" hypothesis created\")\n",
    "#         for h in HS:\n",
    "#             print(h)\n",
    "        \n",
    "        HS_per_class.append(HS)\n",
    "    HS_list.append(HS_per_class)\n",
    "    ct_list.append(ct_per_class)"
   ]
  },
  {
   "cell_type": "markdown",
   "metadata": {},
   "source": [
    "### Test hyp against E"
   ]
  },
  {
   "cell_type": "code",
   "execution_count": 91,
   "metadata": {
    "scrolled": false
   },
   "outputs": [
    {
     "data": {
      "text/markdown": [
       "### Driver"
      ],
      "text/plain": [
       "<IPython.core.display.Markdown object>"
      ]
     },
     "metadata": {},
     "output_type": "display_data"
    },
    {
     "data": {
      "text/markdown": [
       "#### FSM: 0 Hypothesis Set"
      ],
      "text/plain": [
       "<IPython.core.display.Markdown object>"
      ]
     },
     "metadata": {},
     "output_type": "display_data"
    },
    {
     "name": "stdout",
     "output_type": "stream",
     "text": [
      "10 hypothesis retained\n"
     ]
    },
    {
     "data": {
      "text/markdown": [
       "### Truck"
      ],
      "text/plain": [
       "<IPython.core.display.Markdown object>"
      ]
     },
     "metadata": {},
     "output_type": "display_data"
    },
    {
     "data": {
      "text/markdown": [
       "#### FSM: 0 Hypothesis Set"
      ],
      "text/plain": [
       "<IPython.core.display.Markdown object>"
      ]
     },
     "metadata": {},
     "output_type": "display_data"
    },
    {
     "name": "stdout",
     "output_type": "stream",
     "text": [
      "1 hypothesis retained\n"
     ]
    },
    {
     "data": {
      "text/markdown": [
       "### Package"
      ],
      "text/plain": [
       "<IPython.core.display.Markdown object>"
      ]
     },
     "metadata": {},
     "output_type": "display_data"
    },
    {
     "data": {
      "text/markdown": [
       "#### FSM: 0 Hypothesis Set"
      ],
      "text/plain": [
       "<IPython.core.display.Markdown object>"
      ]
     },
     "metadata": {},
     "output_type": "display_data"
    },
    {
     "name": "stdout",
     "output_type": "stream",
     "text": [
      "8 hypothesis retained\n"
     ]
    },
    {
     "data": {
      "text/markdown": [
       "#### FSM: 1 Hypothesis Set"
      ],
      "text/plain": [
       "<IPython.core.display.Markdown object>"
      ]
     },
     "metadata": {},
     "output_type": "display_data"
    },
    {
     "name": "stdout",
     "output_type": "stream",
     "text": [
      "2 hypothesis retained\n"
     ]
    },
    {
     "data": {
      "text/markdown": [
       "#### FSM: 2 Hypothesis Set"
      ],
      "text/plain": [
       "<IPython.core.display.Markdown object>"
      ]
     },
     "metadata": {},
     "output_type": "display_data"
    },
    {
     "name": "stdout",
     "output_type": "stream",
     "text": [
      "2 hypothesis retained\n"
     ]
    },
    {
     "data": {
      "text/markdown": [
       "#### FSM: 3 Hypothesis Set"
      ],
      "text/plain": [
       "<IPython.core.display.Markdown object>"
      ]
     },
     "metadata": {},
     "output_type": "display_data"
    },
    {
     "name": "stdout",
     "output_type": "stream",
     "text": [
      "22 hypothesis retained\n"
     ]
    },
    {
     "data": {
      "text/markdown": [
       "### Location"
      ],
      "text/plain": [
       "<IPython.core.display.Markdown object>"
      ]
     },
     "metadata": {},
     "output_type": "display_data"
    },
    {
     "data": {
      "text/markdown": [
       "#### FSM: 0 Hypothesis Set"
      ],
      "text/plain": [
       "<IPython.core.display.Markdown object>"
      ]
     },
     "metadata": {},
     "output_type": "display_data"
    },
    {
     "name": "stdout",
     "output_type": "stream",
     "text": [
      "2 hypothesis retained\n"
     ]
    },
    {
     "data": {
      "text/markdown": [
       "#### FSM: 1 Hypothesis Set"
      ],
      "text/plain": [
       "<IPython.core.display.Markdown object>"
      ]
     },
     "metadata": {},
     "output_type": "display_data"
    },
    {
     "name": "stdout",
     "output_type": "stream",
     "text": [
      "1 hypothesis retained\n"
     ]
    },
    {
     "data": {
      "text/markdown": [
       "#### FSM: 2 Hypothesis Set"
      ],
      "text/plain": [
       "<IPython.core.display.Markdown object>"
      ]
     },
     "metadata": {},
     "output_type": "display_data"
    },
    {
     "name": "stdout",
     "output_type": "stream",
     "text": [
      "3 hypothesis retained\n"
     ]
    },
    {
     "data": {
      "text/markdown": [
       "#### FSM: 3 Hypothesis Set"
      ],
      "text/plain": [
       "<IPython.core.display.Markdown object>"
      ]
     },
     "metadata": {},
     "output_type": "display_data"
    },
    {
     "name": "stdout",
     "output_type": "stream",
     "text": [
      "3 hypothesis retained\n"
     ]
    },
    {
     "data": {
      "text/markdown": [
       "#### FSM: 4 Hypothesis Set"
      ],
      "text/plain": [
       "<IPython.core.display.Markdown object>"
      ]
     },
     "metadata": {},
     "output_type": "display_data"
    },
    {
     "name": "stdout",
     "output_type": "stream",
     "text": [
      "2 hypothesis retained\n"
     ]
    },
    {
     "data": {
      "text/markdown": [
       "#### FSM: 5 Hypothesis Set"
      ],
      "text/plain": [
       "<IPython.core.display.Markdown object>"
      ]
     },
     "metadata": {},
     "output_type": "display_data"
    },
    {
     "name": "stdout",
     "output_type": "stream",
     "text": [
      "2 hypothesis retained\n"
     ]
    },
    {
     "data": {
      "text/markdown": [
       "#### FSM: 6 Hypothesis Set"
      ],
      "text/plain": [
       "<IPython.core.display.Markdown object>"
      ]
     },
     "metadata": {},
     "output_type": "display_data"
    },
    {
     "name": "stdout",
     "output_type": "stream",
     "text": [
      "0 hypothesis retained\n"
     ]
    },
    {
     "data": {
      "text/markdown": [
       "#### FSM: 7 Hypothesis Set"
      ],
      "text/plain": [
       "<IPython.core.display.Markdown object>"
      ]
     },
     "metadata": {},
     "output_type": "display_data"
    },
    {
     "name": "stdout",
     "output_type": "stream",
     "text": [
      "3 hypothesis retained\n"
     ]
    },
    {
     "data": {
      "text/markdown": [
       "#### FSM: 8 Hypothesis Set"
      ],
      "text/plain": [
       "<IPython.core.display.Markdown object>"
      ]
     },
     "metadata": {},
     "output_type": "display_data"
    },
    {
     "name": "stdout",
     "output_type": "stream",
     "text": [
      "2 hypothesis retained\n"
     ]
    },
    {
     "data": {
      "text/markdown": [
       "#### FSM: 9 Hypothesis Set"
      ],
      "text/plain": [
       "<IPython.core.display.Markdown object>"
      ]
     },
     "metadata": {},
     "output_type": "display_data"
    },
    {
     "name": "stdout",
     "output_type": "stream",
     "text": [
      "1 hypothesis retained\n"
     ]
    },
    {
     "data": {
      "text/markdown": [
       "#### FSM: 10 Hypothesis Set"
      ],
      "text/plain": [
       "<IPython.core.display.Markdown object>"
      ]
     },
     "metadata": {},
     "output_type": "display_data"
    },
    {
     "name": "stdout",
     "output_type": "stream",
     "text": [
      "2 hypothesis retained\n"
     ]
    },
    {
     "data": {
      "text/markdown": [
       "#### FSM: 11 Hypothesis Set"
      ],
      "text/plain": [
       "<IPython.core.display.Markdown object>"
      ]
     },
     "metadata": {},
     "output_type": "display_data"
    },
    {
     "name": "stdout",
     "output_type": "stream",
     "text": [
      "29 hypothesis retained\n"
     ]
    }
   ],
   "source": [
    "HS_list_retained = []\n",
    "for index, HS_class in enumerate(HS_list):\n",
    "    printmd(\"### \"+ class_names[index])\n",
    "    HS_per_class_retained = []\n",
    "\n",
    "\n",
    "    for fsm_no, HS in enumerate(HS_class):\n",
    "        printmd(\"#### FSM: \" + str(fsm_no) + \" Hypothesis Set\")\n",
    "\n",
    "        count=0\n",
    "        HS_copy = HS.copy()\n",
    "        HS_copy2 = HS.copy()\n",
    "\n",
    "        \n",
    "        # for each object O occuring in Ou\n",
    "        for O in arguments:\n",
    "            #   for each pair of transitions Ap.m and Aq.n consecutive for O in seq\n",
    "            ct = []\n",
    "            for seq in sequences:\n",
    "                for actarg_tuple in seq:\n",
    "                    act = actarg_tuple[0]\n",
    "                    for j, arg in enumerate(actarg_tuple[1]):\n",
    "                        if arg == O:\n",
    "                            ct.append((act + '.' + str(j), actarg_tuple[1]))\n",
    "\n",
    "\n",
    "            for i in range(len(ct)-1):\n",
    "                A_p = ct[i][0].split('.')[0]\n",
    "                m = int(ct[i][0].split('.')[1])\n",
    "                A_q = ct[i+1][0].split('.')[0]\n",
    "                n = int(ct[i+1][0].split('.')[1]) \n",
    "\n",
    "                # for each hypothesis H s.t. A_p = B, m = k, A_q = C, n = l\n",
    "\n",
    "                for H in HS_copy2:\n",
    "                    if A_p == H[1] and m == H[2] and A_q == H[4] and n == H[5]:\n",
    "                        k_prime = H[3]\n",
    "                        l_prime = H[6]\n",
    "\n",
    "                        # if O_p,k_prime = Q_q,l_prime\n",
    "                        if ct[i][1][k_prime] != ct[i+1][1][l_prime]:\n",
    "                            if H in HS_copy:\n",
    "                                HS_copy.remove(H)\n",
    "                                count += 1\n",
    "\n",
    "        print(str(len(HS_copy))+ \" hypothesis retained\")\n",
    "        # state machine\n",
    "#         if len(HS_copy)>0:\n",
    "#             plot_cytographs_fsm(state_machines_overall_list[index][fsm_no],domain_name)\n",
    "#         for H in HS_copy:\n",
    "#             print(H)\n",
    "        HS_per_class_retained.append(HS_copy)\n",
    "    HS_list_retained.append(HS_per_class_retained)\n",
    "            "
   ]
  },
  {
   "cell_type": "markdown",
   "metadata": {},
   "source": [
    "## Step 6: Creation and merging of state parameters"
   ]
  },
  {
   "cell_type": "code",
   "execution_count": 92,
   "metadata": {
    "lines_to_end_of_cell_marker": 2,
    "scrolled": false
   },
   "outputs": [
    {
     "name": "stdout",
     "output_type": "stream",
     "text": [
      "Step 6: creating and merging state params\n",
      "[['v0', 'v1', 'v4', 'v9'], ['v2', 'v6'], ['v3', 'v5', 'v7', 'v8']]\n",
      "Driver\n"
     ]
    },
    {
     "data": {
      "text/markdown": [
       "No. of params earlier:10"
      ],
      "text/plain": [
       "<IPython.core.display.Markdown object>"
      ]
     },
     "metadata": {},
     "output_type": "display_data"
    },
    {
     "data": {
      "text/markdown": [
       "No. of params after merging:3"
      ],
      "text/plain": [
       "<IPython.core.display.Markdown object>"
      ]
     },
     "metadata": {},
     "output_type": "display_data"
    },
    {
     "name": "stdout",
     "output_type": "stream",
     "text": [
      "[]\n",
      "Truck\n"
     ]
    },
    {
     "data": {
      "text/markdown": [
       "No. of params earlier:1"
      ],
      "text/plain": [
       "<IPython.core.display.Markdown object>"
      ]
     },
     "metadata": {},
     "output_type": "display_data"
    },
    {
     "data": {
      "text/markdown": [
       "No. of params after merging:1"
      ],
      "text/plain": [
       "<IPython.core.display.Markdown object>"
      ]
     },
     "metadata": {},
     "output_type": "display_data"
    },
    {
     "name": "stdout",
     "output_type": "stream",
     "text": [
      "[['v0', 'v2', 'v5', 'v7'], ['v1', 'v3', 'v4', 'v6']]\n",
      "Package\n"
     ]
    },
    {
     "data": {
      "text/markdown": [
       "No. of params earlier:8"
      ],
      "text/plain": [
       "<IPython.core.display.Markdown object>"
      ]
     },
     "metadata": {},
     "output_type": "display_data"
    },
    {
     "data": {
      "text/markdown": [
       "No. of params after merging:2"
      ],
      "text/plain": [
       "<IPython.core.display.Markdown object>"
      ]
     },
     "metadata": {},
     "output_type": "display_data"
    },
    {
     "name": "stdout",
     "output_type": "stream",
     "text": [
      "[]\n",
      "Package\n"
     ]
    },
    {
     "data": {
      "text/markdown": [
       "No. of params earlier:2"
      ],
      "text/plain": [
       "<IPython.core.display.Markdown object>"
      ]
     },
     "metadata": {},
     "output_type": "display_data"
    },
    {
     "data": {
      "text/markdown": [
       "No. of params after merging:2"
      ],
      "text/plain": [
       "<IPython.core.display.Markdown object>"
      ]
     },
     "metadata": {},
     "output_type": "display_data"
    },
    {
     "name": "stdout",
     "output_type": "stream",
     "text": [
      "[]\n",
      "Package\n"
     ]
    },
    {
     "data": {
      "text/markdown": [
       "No. of params earlier:2"
      ],
      "text/plain": [
       "<IPython.core.display.Markdown object>"
      ]
     },
     "metadata": {},
     "output_type": "display_data"
    },
    {
     "data": {
      "text/markdown": [
       "No. of params after merging:2"
      ],
      "text/plain": [
       "<IPython.core.display.Markdown object>"
      ]
     },
     "metadata": {},
     "output_type": "display_data"
    },
    {
     "name": "stdout",
     "output_type": "stream",
     "text": [
      "[['v0', 'v2', 'v4', 'v5', 'v6', 'v7', 'v8', 'v9', 'v10', 'v11', 'v12', 'v13', 'v14', 'v15', 'v16', 'v17', 'v21'], ['v3', 'v18', 'v19', 'v20']]\n",
      "Package\n"
     ]
    },
    {
     "data": {
      "text/markdown": [
       "No. of params earlier:22"
      ],
      "text/plain": [
       "<IPython.core.display.Markdown object>"
      ]
     },
     "metadata": {},
     "output_type": "display_data"
    },
    {
     "data": {
      "text/markdown": [
       "No. of params after merging:3"
      ],
      "text/plain": [
       "<IPython.core.display.Markdown object>"
      ]
     },
     "metadata": {},
     "output_type": "display_data"
    },
    {
     "name": "stdout",
     "output_type": "stream",
     "text": [
      "[]\n",
      "Location\n"
     ]
    },
    {
     "data": {
      "text/markdown": [
       "No. of params earlier:2"
      ],
      "text/plain": [
       "<IPython.core.display.Markdown object>"
      ]
     },
     "metadata": {},
     "output_type": "display_data"
    },
    {
     "data": {
      "text/markdown": [
       "No. of params after merging:2"
      ],
      "text/plain": [
       "<IPython.core.display.Markdown object>"
      ]
     },
     "metadata": {},
     "output_type": "display_data"
    },
    {
     "name": "stdout",
     "output_type": "stream",
     "text": [
      "[]\n",
      "Location\n"
     ]
    },
    {
     "data": {
      "text/markdown": [
       "No. of params earlier:1"
      ],
      "text/plain": [
       "<IPython.core.display.Markdown object>"
      ]
     },
     "metadata": {},
     "output_type": "display_data"
    },
    {
     "data": {
      "text/markdown": [
       "No. of params after merging:1"
      ],
      "text/plain": [
       "<IPython.core.display.Markdown object>"
      ]
     },
     "metadata": {},
     "output_type": "display_data"
    },
    {
     "name": "stdout",
     "output_type": "stream",
     "text": [
      "[['v0', 'v1']]\n",
      "Location\n"
     ]
    },
    {
     "data": {
      "text/markdown": [
       "No. of params earlier:3"
      ],
      "text/plain": [
       "<IPython.core.display.Markdown object>"
      ]
     },
     "metadata": {},
     "output_type": "display_data"
    },
    {
     "data": {
      "text/markdown": [
       "No. of params after merging:2"
      ],
      "text/plain": [
       "<IPython.core.display.Markdown object>"
      ]
     },
     "metadata": {},
     "output_type": "display_data"
    },
    {
     "name": "stdout",
     "output_type": "stream",
     "text": [
      "[['v1', 'v2']]\n",
      "Location\n"
     ]
    },
    {
     "data": {
      "text/markdown": [
       "No. of params earlier:3"
      ],
      "text/plain": [
       "<IPython.core.display.Markdown object>"
      ]
     },
     "metadata": {},
     "output_type": "display_data"
    },
    {
     "data": {
      "text/markdown": [
       "No. of params after merging:2"
      ],
      "text/plain": [
       "<IPython.core.display.Markdown object>"
      ]
     },
     "metadata": {},
     "output_type": "display_data"
    },
    {
     "name": "stdout",
     "output_type": "stream",
     "text": [
      "[]\n",
      "Location\n"
     ]
    },
    {
     "data": {
      "text/markdown": [
       "No. of params earlier:2"
      ],
      "text/plain": [
       "<IPython.core.display.Markdown object>"
      ]
     },
     "metadata": {},
     "output_type": "display_data"
    },
    {
     "data": {
      "text/markdown": [
       "No. of params after merging:2"
      ],
      "text/plain": [
       "<IPython.core.display.Markdown object>"
      ]
     },
     "metadata": {},
     "output_type": "display_data"
    },
    {
     "name": "stdout",
     "output_type": "stream",
     "text": [
      "[]\n",
      "Location\n"
     ]
    },
    {
     "data": {
      "text/markdown": [
       "No. of params earlier:2"
      ],
      "text/plain": [
       "<IPython.core.display.Markdown object>"
      ]
     },
     "metadata": {},
     "output_type": "display_data"
    },
    {
     "data": {
      "text/markdown": [
       "No. of params after merging:2"
      ],
      "text/plain": [
       "<IPython.core.display.Markdown object>"
      ]
     },
     "metadata": {},
     "output_type": "display_data"
    },
    {
     "name": "stdout",
     "output_type": "stream",
     "text": [
      "[]\n",
      "Location\n"
     ]
    },
    {
     "data": {
      "text/markdown": [
       "No. of params earlier:0"
      ],
      "text/plain": [
       "<IPython.core.display.Markdown object>"
      ]
     },
     "metadata": {},
     "output_type": "display_data"
    },
    {
     "data": {
      "text/markdown": [
       "No. of params after merging:0"
      ],
      "text/plain": [
       "<IPython.core.display.Markdown object>"
      ]
     },
     "metadata": {},
     "output_type": "display_data"
    },
    {
     "name": "stdout",
     "output_type": "stream",
     "text": [
      "[['v1', 'v2']]\n",
      "Location\n"
     ]
    },
    {
     "data": {
      "text/markdown": [
       "No. of params earlier:3"
      ],
      "text/plain": [
       "<IPython.core.display.Markdown object>"
      ]
     },
     "metadata": {},
     "output_type": "display_data"
    },
    {
     "data": {
      "text/markdown": [
       "No. of params after merging:2"
      ],
      "text/plain": [
       "<IPython.core.display.Markdown object>"
      ]
     },
     "metadata": {},
     "output_type": "display_data"
    },
    {
     "name": "stdout",
     "output_type": "stream",
     "text": [
      "[]\n",
      "Location\n"
     ]
    },
    {
     "data": {
      "text/markdown": [
       "No. of params earlier:2"
      ],
      "text/plain": [
       "<IPython.core.display.Markdown object>"
      ]
     },
     "metadata": {},
     "output_type": "display_data"
    },
    {
     "data": {
      "text/markdown": [
       "No. of params after merging:2"
      ],
      "text/plain": [
       "<IPython.core.display.Markdown object>"
      ]
     },
     "metadata": {},
     "output_type": "display_data"
    },
    {
     "name": "stdout",
     "output_type": "stream",
     "text": [
      "[]\n",
      "Location\n"
     ]
    },
    {
     "data": {
      "text/markdown": [
       "No. of params earlier:1"
      ],
      "text/plain": [
       "<IPython.core.display.Markdown object>"
      ]
     },
     "metadata": {},
     "output_type": "display_data"
    },
    {
     "data": {
      "text/markdown": [
       "No. of params after merging:1"
      ],
      "text/plain": [
       "<IPython.core.display.Markdown object>"
      ]
     },
     "metadata": {},
     "output_type": "display_data"
    },
    {
     "name": "stdout",
     "output_type": "stream",
     "text": [
      "[]\n",
      "Location\n"
     ]
    },
    {
     "data": {
      "text/markdown": [
       "No. of params earlier:2"
      ],
      "text/plain": [
       "<IPython.core.display.Markdown object>"
      ]
     },
     "metadata": {},
     "output_type": "display_data"
    },
    {
     "data": {
      "text/markdown": [
       "No. of params after merging:2"
      ],
      "text/plain": [
       "<IPython.core.display.Markdown object>"
      ]
     },
     "metadata": {},
     "output_type": "display_data"
    },
    {
     "name": "stdout",
     "output_type": "stream",
     "text": [
      "[['v0', 'v1', 'v2', 'v3', 'v4', 'v5', 'v7', 'v8', 'v10', 'v11', 'v12', 'v13', 'v19', 'v20', 'v21', 'v24', 'v25', 'v27', 'v28'], ['v9', 'v15', 'v16', 'v17'], ['v18', 'v26'], ['v6', 'v22', 'v23']]\n",
      "Location\n"
     ]
    },
    {
     "data": {
      "text/markdown": [
       "No. of params earlier:29"
      ],
      "text/plain": [
       "<IPython.core.display.Markdown object>"
      ]
     },
     "metadata": {},
     "output_type": "display_data"
    },
    {
     "data": {
      "text/markdown": [
       "No. of params after merging:5"
      ],
      "text/plain": [
       "<IPython.core.display.Markdown object>"
      ]
     },
     "metadata": {},
     "output_type": "display_data"
    }
   ],
   "source": [
    "# Each hypothesis refers to an incoming and outgoing transition \n",
    "# through a particular state of an FSM\n",
    "# and matching associated transitions can be considered\n",
    "# to set and read parameters of a state.\n",
    "# Since there maybe multiple transitions through a give state,\n",
    "# it is possible for the same parameter to have multiple\n",
    "# pairwise occurences.\n",
    "\n",
    "print(\"Step 6: creating and merging state params\")\n",
    "param_bindings_list_overall = []\n",
    "for classindex, HS_per_class in enumerate(HS_list_retained):\n",
    "    param_bind_per_class = []\n",
    "    \n",
    "    \n",
    "    for fsm_no, HS_per_fsm in enumerate(HS_per_class):\n",
    "        param_binding_list = []\n",
    "        \n",
    "        # fsm in consideration\n",
    "        G = state_machines_overall_list[classindex][fsm_no]\n",
    "        state_list = G.nodes()\n",
    "        \n",
    "        # creation\n",
    "        for index,h in enumerate(HS_per_fsm):\n",
    "            param_binding_list.append((h,\"v\"+str(index)))\n",
    "        \n",
    "        merge_pl = [] # parameter to merge list\n",
    "        if len(param_binding_list)>1:\n",
    "            # merging\n",
    "            pairs = findsubsets(param_binding_list, 2)\n",
    "            for pair in pairs:\n",
    "                h_1 = pair[0][0]\n",
    "                h_2 = pair[1][0]\n",
    "                \n",
    "                \n",
    "                # equate states\n",
    "                state_eq_flag = False\n",
    "                for s_index, state in enumerate(state_list):\n",
    "                    # if both hyp states appear in single state in fsm\n",
    "                    if list(h_1[0])[0] in state:\n",
    "                        if list(h_1[0])[0] in state:\n",
    "                            state_eq_flag =True\n",
    "                            \n",
    "                \n",
    "                if ((state_eq_flag and h_1[1] == h_2[1] and h_1[2] == h_2[2] and h_1[3] == h_2[3]) or (state_eq_flag and h_1[4] == h_2[4] and h_1[5] == h_2[5] and h_1[6] == h_2[6])):\n",
    "                    merge_pl.append(list([pair[0][1], pair[1][1]]))\n",
    "          \n",
    "        \n",
    "       \n",
    "        #inner lists to sets (to list of sets)\n",
    "        l=[set(x) for x in merge_pl]\n",
    "\n",
    "        #cartesian product merging elements if some element in common\n",
    "        for a,b in itertools.product(l,l):\n",
    "            if a.intersection( b ):\n",
    "                a.update(b)\n",
    "                b.update(a)\n",
    "\n",
    "        #back to list of lists\n",
    "        l = sorted( [sorted(list(x)) for x in l])\n",
    "\n",
    "        #remove dups\n",
    "        merge_pl = list(l for l,_ in itertools.groupby(l))\n",
    "        \n",
    "        # sort\n",
    "        for pos, l in enumerate(merge_pl):\n",
    "            merge_pl[pos] = sorted(l, key = lambda x: int(x[1:]))\n",
    "        \n",
    "        print(merge_pl) # equal params appear in a list in this list.\n",
    "          \n",
    "            \n",
    "        for z,pb in enumerate(param_binding_list):\n",
    "            for l in merge_pl:\n",
    "                if pb[1] in l:\n",
    "                    # update pb\n",
    "                    param_binding_list[z] = (param_binding_list[z][0], l[0])\n",
    "        \n",
    "\n",
    "                \n",
    "        \n",
    "        param_bind_per_class.append(param_binding_list)\n",
    "        print(class_names[classindex])\n",
    "        \n",
    "        # set of params per class\n",
    "        param = set()\n",
    "        for pb in param_binding_list:\n",
    "#             print(pb)\n",
    "            param.add(pb[1])\n",
    "            \n",
    "        # num of params per class\n",
    "        printmd(\"No. of params earlier:\" + str(len(param_binding_list)))\n",
    "        printmd(\"No. of params after merging:\" + str(len(param)))\n",
    "            \n",
    "        \n",
    "        \n",
    "        \n",
    "        \n",
    "    param_bindings_list_overall.append(param_bind_per_class)"
   ]
  },
  {
   "cell_type": "markdown",
   "metadata": {},
   "source": [
    "## Step 7: Remove Parameter Flaws"
   ]
  },
  {
   "cell_type": "code",
   "execution_count": 93,
   "metadata": {
    "scrolled": true
   },
   "outputs": [
    {
     "name": "stdout",
     "output_type": "stream",
     "text": [
      "Driver\n",
      "8/10 param retained\n",
      "((frozenset({'s(disembarktruck.0)', 'e(drivetruck.3)'}), 'drivetruck', 3, 0, 'disembarktruck', 0, 1, 'Driver', 'Package'), 'v0')\n",
      "((frozenset({'s(disembarktruck.0)', 'e(boardtruck.0)'}), 'boardtruck', 0, 1, 'disembarktruck', 0, 1, 'Driver', 'Package'), 'v0')\n",
      "((frozenset({'s(drivetruck.3)', 'e(boardtruck.0)'}), 'boardtruck', 0, 2, 'drivetruck', 3, 1, 'Driver', 'Location'), 'v3')\n",
      "((frozenset({'s(drivetruck.3)', 'e(drivetruck.3)'}), 'drivetruck', 3, 0, 'drivetruck', 3, 0, 'Driver', 'Package'), 'v0')\n",
      "((frozenset({'s(disembarktruck.0)', 'e(boardtruck.0)'}), 'boardtruck', 0, 2, 'disembarktruck', 0, 2, 'Driver', 'Location'), 'v3')\n",
      "((frozenset({'s(drivetruck.3)', 'e(drivetruck.3)'}), 'drivetruck', 3, 2, 'drivetruck', 3, 1, 'Driver', 'Location'), 'v3')\n",
      "((frozenset({'s(disembarktruck.0)', 'e(drivetruck.3)'}), 'drivetruck', 3, 2, 'disembarktruck', 0, 2, 'Driver', 'Location'), 'v3')\n",
      "((frozenset({'s(drivetruck.3)', 'e(boardtruck.0)'}), 'boardtruck', 0, 1, 'drivetruck', 3, 0, 'Driver', 'Package'), 'v0')\n",
      "Truck\n",
      "1/1 param retained\n",
      "((frozenset({'s(unloadtruck.0)', 'e(loadtruck.0)'}), 'loadtruck', 0, 1, 'unloadtruck', 0, 1, 'Truck', 'Package'), 'v0')\n",
      "Package\n",
      "8/8 param retained\n",
      "((frozenset({'s(disembarktruck.1)', 'e(drivetruck.0)'}), 'drivetruck', 0, 3, 'disembarktruck', 1, 0, 'Package', 'Driver'), 'v0')\n",
      "((frozenset({'s(drivetruck.0)', 'e(drivetruck.0)'}), 'drivetruck', 0, 2, 'drivetruck', 0, 1, 'Package', 'Location'), 'v1')\n",
      "((frozenset({'s(drivetruck.0)', 'e(drivetruck.0)'}), 'drivetruck', 0, 3, 'drivetruck', 0, 3, 'Package', 'Driver'), 'v0')\n",
      "((frozenset({'s(drivetruck.0)', 'e(boardtruck.1)'}), 'boardtruck', 1, 2, 'drivetruck', 0, 1, 'Package', 'Location'), 'v1')\n",
      "((frozenset({'s(disembarktruck.1)', 'e(drivetruck.0)'}), 'drivetruck', 0, 2, 'disembarktruck', 1, 2, 'Package', 'Location'), 'v1')\n",
      "((frozenset({'s(drivetruck.0)', 'e(boardtruck.1)'}), 'boardtruck', 1, 0, 'drivetruck', 0, 3, 'Package', 'Driver'), 'v0')\n",
      "((frozenset({'s(disembarktruck.1)', 'e(boardtruck.1)'}), 'boardtruck', 1, 2, 'disembarktruck', 1, 2, 'Package', 'Location'), 'v1')\n",
      "((frozenset({'s(disembarktruck.1)', 'e(boardtruck.1)'}), 'boardtruck', 1, 0, 'disembarktruck', 1, 0, 'Package', 'Driver'), 'v0')\n",
      "2/2 param retained\n",
      "((frozenset({'e(unloadtruck.1)', 's(disembarktruck.1)'}), 'unloadtruck', 1, 2, 'disembarktruck', 1, 2, 'Package', 'Location'), 'v0')\n",
      "((frozenset({'e(disembarktruck.1)', 's(unloadtruck.1)'}), 'disembarktruck', 1, 2, 'unloadtruck', 1, 2, 'Package', 'Location'), 'v1')\n",
      "2/2 param retained\n",
      "((frozenset({'e(loadtruck.1)', 's(boardtruck.1)'}), 'loadtruck', 1, 2, 'boardtruck', 1, 2, 'Package', 'Location'), 'v0')\n",
      "((frozenset({'s(loadtruck.1)', 'e(boardtruck.1)'}), 'boardtruck', 1, 2, 'loadtruck', 1, 2, 'Package', 'Location'), 'v1')\n",
      "22/22 param retained\n",
      "((frozenset({'s(disembarktruck.1)', 'e(loadtruck.1)'}), 'loadtruck', 1, 2, 'disembarktruck', 1, 2, 'Package', 'Location'), 'v0')\n",
      "((frozenset({'e(unloadtruck.1)', 's(loadtruck.1)'}), 'unloadtruck', 1, 0, 'loadtruck', 1, 0, 'Package', 'Truck'), 'v1')\n",
      "((frozenset({'s(disembarktruck.1)', 'e(drivetruck.0)'}), 'drivetruck', 0, 2, 'disembarktruck', 1, 2, 'Package', 'Location'), 'v0')\n",
      "((frozenset({'s(drivetruck.0)', 'e(boardtruck.1)'}), 'boardtruck', 1, 0, 'drivetruck', 0, 3, 'Package', 'Driver'), 'v3')\n",
      "((frozenset({'e(unloadtruck.1)', 's(drivetruck.0)'}), 'unloadtruck', 1, 2, 'drivetruck', 0, 1, 'Package', 'Location'), 'v0')\n",
      "((frozenset({'s(unloadtruck.1)', 'e(boardtruck.1)'}), 'boardtruck', 1, 2, 'unloadtruck', 1, 2, 'Package', 'Location'), 'v0')\n",
      "((frozenset({'s(loadtruck.1)', 'e(disembarktruck.1)'}), 'disembarktruck', 1, 2, 'loadtruck', 1, 2, 'Package', 'Location'), 'v0')\n",
      "((frozenset({'s(loadtruck.1)', 'e(boardtruck.1)'}), 'boardtruck', 1, 2, 'loadtruck', 1, 2, 'Package', 'Location'), 'v0')\n",
      "((frozenset({'e(unloadtruck.1)', 's(loadtruck.1)'}), 'unloadtruck', 1, 2, 'loadtruck', 1, 2, 'Package', 'Location'), 'v0')\n",
      "((frozenset({'e(loadtruck.1)', 's(boardtruck.1)'}), 'loadtruck', 1, 2, 'boardtruck', 1, 2, 'Package', 'Location'), 'v0')\n",
      "((frozenset({'e(unloadtruck.1)', 's(disembarktruck.1)'}), 'unloadtruck', 1, 2, 'disembarktruck', 1, 2, 'Package', 'Location'), 'v0')\n",
      "((frozenset({'e(loadtruck.1)', 's(unloadtruck.1)'}), 'loadtruck', 1, 2, 'unloadtruck', 1, 2, 'Package', 'Location'), 'v0')\n",
      "((frozenset({'e(disembarktruck.1)', 's(unloadtruck.1)'}), 'disembarktruck', 1, 2, 'unloadtruck', 1, 2, 'Package', 'Location'), 'v0')\n",
      "((frozenset({'s(drivetruck.0)', 'e(drivetruck.0)'}), 'drivetruck', 0, 2, 'drivetruck', 0, 1, 'Package', 'Location'), 'v0')\n",
      "((frozenset({'s(loadtruck.1)', 'e(drivetruck.0)'}), 'drivetruck', 0, 2, 'loadtruck', 1, 2, 'Package', 'Location'), 'v0')\n",
      "((frozenset({'s(disembarktruck.1)', 'e(boardtruck.1)'}), 'boardtruck', 1, 2, 'disembarktruck', 1, 2, 'Package', 'Location'), 'v0')\n",
      "((frozenset({'s(drivetruck.0)', 'e(boardtruck.1)'}), 'boardtruck', 1, 2, 'drivetruck', 0, 1, 'Package', 'Location'), 'v0')\n",
      "((frozenset({'e(loadtruck.1)', 's(drivetruck.0)'}), 'loadtruck', 1, 2, 'drivetruck', 0, 1, 'Package', 'Location'), 'v0')\n",
      "((frozenset({'s(disembarktruck.1)', 'e(drivetruck.0)'}), 'drivetruck', 0, 3, 'disembarktruck', 1, 0, 'Package', 'Driver'), 'v3')\n",
      "((frozenset({'s(drivetruck.0)', 'e(drivetruck.0)'}), 'drivetruck', 0, 3, 'drivetruck', 0, 3, 'Package', 'Driver'), 'v3')\n",
      "((frozenset({'s(disembarktruck.1)', 'e(boardtruck.1)'}), 'boardtruck', 1, 0, 'disembarktruck', 1, 0, 'Package', 'Driver'), 'v3')\n",
      "((frozenset({'s(unloadtruck.1)', 'e(drivetruck.0)'}), 'drivetruck', 0, 2, 'unloadtruck', 1, 2, 'Package', 'Location'), 'v0')\n",
      "Location\n",
      "2/2 param retained\n",
      "((frozenset({'s(disembarktruck.2)', 'e(unloadtruck.2)'}), 'unloadtruck', 2, 1, 'disembarktruck', 2, 1, 'Location', 'Package'), 'v0')\n",
      "((frozenset({'e(disembarktruck.2)', 's(unloadtruck.2)'}), 'disembarktruck', 2, 1, 'unloadtruck', 2, 1, 'Location', 'Package'), 'v1')\n",
      "1/1 param retained\n",
      "((frozenset({'e(drivetruck.1)', 's(walk.2)'}), 'drivetruck', 1, 3, 'walk', 2, 0, 'Location', 'Driver'), 'v0')\n",
      "3/3 param retained\n",
      "((frozenset({'s(loadtruck.2)', 'e(boardtruck.2)'}), 'boardtruck', 2, 1, 'loadtruck', 2, 1, 'Location', 'Package'), 'v0')\n",
      "((frozenset({'e(drivetruck.2)', 's(loadtruck.2)'}), 'drivetruck', 2, 0, 'loadtruck', 2, 1, 'Location', 'Package'), 'v0')\n",
      "((frozenset({'s(boardtruck.2)', 'e(loadtruck.2)'}), 'loadtruck', 2, 1, 'boardtruck', 2, 1, 'Location', 'Package'), 'v2')\n",
      "3/3 param retained\n",
      "((frozenset({'e(disembarktruck.2)', 's(loadtruck.2)'}), 'disembarktruck', 2, 1, 'loadtruck', 2, 1, 'Location', 'Package'), 'v0')\n",
      "((frozenset({'s(disembarktruck.2)', 'e(loadtruck.2)'}), 'loadtruck', 2, 1, 'disembarktruck', 2, 1, 'Location', 'Package'), 'v1')\n",
      "((frozenset({'s(drivetruck.1)', 'e(loadtruck.2)'}), 'loadtruck', 2, 1, 'drivetruck', 1, 0, 'Location', 'Package'), 'v1')\n",
      "1/2 param retained\n",
      "((frozenset({'s(walk.1)', 'e(walk.2)'}), 'walk', 2, 0, 'walk', 1, 0, 'Location', 'Driver'), 'v1')\n",
      "2/2 param retained\n",
      "((frozenset({'e(drivetruck.1)', 's(walk.2)'}), 'drivetruck', 1, 3, 'walk', 2, 0, 'Location', 'Driver'), 'v0')\n",
      "((frozenset({'s(drivetruck.1)', 'e(unloadtruck.2)'}), 'unloadtruck', 2, 1, 'drivetruck', 1, 0, 'Location', 'Package'), 'v1')\n",
      "0/0 param retained\n",
      "3/3 param retained\n",
      "((frozenset({'s(boardtruck.2)', 'e(unloadtruck.2)'}), 'unloadtruck', 2, 1, 'boardtruck', 2, 1, 'Location', 'Package'), 'v0')\n",
      "((frozenset({'s(unloadtruck.2)', 'e(boardtruck.2)'}), 'boardtruck', 2, 1, 'unloadtruck', 2, 1, 'Location', 'Package'), 'v1')\n",
      "((frozenset({'e(drivetruck.2)', 's(unloadtruck.2)'}), 'drivetruck', 2, 0, 'unloadtruck', 2, 1, 'Location', 'Package'), 'v1')\n",
      "2/2 param retained\n",
      "((frozenset({'s(boardtruck.2)', 'e(unloadtruck.2)'}), 'unloadtruck', 2, 1, 'boardtruck', 2, 1, 'Location', 'Package'), 'v0')\n",
      "((frozenset({'s(unloadtruck.2)', 'e(boardtruck.2)'}), 'boardtruck', 2, 1, 'unloadtruck', 2, 1, 'Location', 'Package'), 'v1')\n",
      "1/1 param retained\n",
      "((frozenset({'e(drivetruck.2)', 's(loadtruck.2)'}), 'drivetruck', 2, 0, 'loadtruck', 2, 1, 'Location', 'Package'), 'v0')\n",
      "2/2 param retained\n",
      "((frozenset({'s(disembarktruck.2)', 'e(loadtruck.2)'}), 'loadtruck', 2, 1, 'disembarktruck', 2, 1, 'Location', 'Package'), 'v0')\n",
      "((frozenset({'e(disembarktruck.2)', 's(loadtruck.2)'}), 'disembarktruck', 2, 1, 'loadtruck', 2, 1, 'Location', 'Package'), 'v1')\n",
      "0/29 param retained\n"
     ]
    }
   ],
   "source": [
    "# Removing State Params.\n",
    "# Flaw occurs Object can reach state S with param P having an inderminate value.\n",
    "# There is transition s.t. end(B.k) = S. \n",
    "# but there is no h = <S,B,k,k',C,l,l',G,G') and <h,P> is in bindings.\n",
    "\n",
    "para_bind_overall_fault_removed  = []\n",
    "for classindex, fsm_per_class in enumerate(state_machines_overall_list):\n",
    "    print(class_names[classindex])\n",
    "    pb_per_class_fault_removed = []\n",
    "\n",
    "    for fsm_no, G in enumerate(fsm_per_class):\n",
    "        \n",
    "        pb_per_fsm_fault_removed = []\n",
    "        # G is fsm in consideration\n",
    "        faulty_pb = []\n",
    "        for state in G.nodes():\n",
    "            inedges = G.in_edges(state, data=True)\n",
    "            \n",
    "            for ie in inedges:\n",
    "                tr = ie[2]['weight']\n",
    "                t_list = tr.split('|')\n",
    "                for t in t_list:\n",
    "                    B = t.split('.')[0]\n",
    "                    k = t.split('.')[1]\n",
    "                    S = 'e(' + t + ')'\n",
    "                    flaw = True\n",
    "                    for pb in param_bindings_list_overall[classindex][fsm_no]:\n",
    "                        H = pb[0]\n",
    "                        v = pb[1]\n",
    "                        if (S in set(H[0])) and (B==H[1]) and (int(k)==H[2]) :\n",
    "                            # this pb is okay\n",
    "                            flaw=False\n",
    "#                     print(flaw)\n",
    "                    if flaw:\n",
    "                        for pb in param_bindings_list_overall[classindex][fsm_no]:\n",
    "                            H = pb[0]\n",
    "                            H_states = list(H[0])\n",
    "                            for h_state in H_states:\n",
    "                                if h_state in state:\n",
    "                                    if pb not in faulty_pb:\n",
    "                                        faulty_pb.append(pb) # no duplicates\n",
    "        \n",
    "        for pb in param_bindings_list_overall[classindex][fsm_no]:\n",
    "            if pb not in faulty_pb:\n",
    "                pb_per_fsm_fault_removed.append(pb)\n",
    "        \n",
    "                                \n",
    "                        \n",
    "                        \n",
    "        print(str(len(pb_per_fsm_fault_removed)) + \"/\" + str(len(param_bindings_list_overall[classindex][fsm_no])) + \" param retained\")\n",
    "        for pb in pb_per_fsm_fault_removed:\n",
    "            print(pb)\n",
    "\n",
    "                \n",
    "        \n",
    "        pb_per_class_fault_removed.append(pb_per_fsm_fault_removed)\n",
    "    para_bind_overall_fault_removed.append(pb_per_class_fault_removed)"
   ]
  },
  {
   "cell_type": "markdown",
   "metadata": {},
   "source": [
    "## Step 8: (TODO) Static Preconditions via LOP\n",
    "As further enhancement, one can add step 8: Extraction of static preconditions from the LOCM paper.\n",
    "However, LOP algorithm is better version of that step.\n",
    "\n",
    "Insert [LOP](https://www.aaai.org/ocs/index.php/ICAPS/ICAPS15/paper/viewFile/10621/10401) here for finding static preconditions"
   ]
  },
  {
   "cell_type": "markdown",
   "metadata": {},
   "source": [
    "## Step 9:  Formation of PDDL Schema"
   ]
  },
  {
   "cell_type": "code",
   "execution_count": 94,
   "metadata": {
    "scrolled": false
   },
   "outputs": [
    {
     "name": "stdout",
     "output_type": "stream",
     "text": [
      ";;********************Learned PDDL domain******************\n",
      "(define  (domain driverlog)\n",
      "  (:requirements :typing)\n",
      "  (:types Driver Truck Package Location)\n",
      "  (:predicates\n",
      "    (Driver_fsm0_e(boardtruck.0)|e(drivetruck.3)|s(drivetruck.3)|s(disembarktruck.0) ?v0 - Package ?v3 - Location)\n",
      "    (Driver_fsm0_e(walk.0)|e(disembarktruck.0)|s(boardtruck.0)|s(walk.0))\n",
      "    (Truck_fsm0_e(loadtruck.0)|s(unloadtruck.0) ?v0 - Package)\n",
      "    (Truck_fsm0_e(unloadtruck.0)|s(loadtruck.0))\n",
      "    (Package_fsm0_e(disembarktruck.1)|s(boardtruck.1))\n",
      "    (Package_fsm0_e(boardtruck.1)|e(drivetruck.0)|s(drivetruck.0)|s(disembarktruck.1) ?v0 - Driver ?v1 - Location)\n",
      "    (Package_fsm1_e(disembarktruck.1)|s(unloadtruck.1) ?v1 - Location)\n",
      "    (Package_fsm1_e(unloadtruck.1)|s(disembarktruck.1) ?v0 - Location)\n",
      "    (Package_fsm2_e(loadtruck.1)|s(boardtruck.1) ?v0 - Location)\n",
      "    (Package_fsm2_e(boardtruck.1)|s(loadtruck.1) ?v1 - Location)\n",
      "    (Package_fsm3_e(drivetruck.0)|e(loadtruck.1)|e(unloadtruck.1)|e(disembarktruck.1)|s(boardtruck.1)|e(boardtruck.1)|s(disembarktruck.1)|s(unloadtruck.1)|s(loadtruck.1)|s(drivetruck.0) ?v0 - Location ?v1 - Truck ?v3 - Driver)\n",
      "    (Location_fsm0_e(unloadtruck.2)|s(disembarktruck.2) ?v0 - Package)\n",
      "    (Location_fsm0_s(walk.2))\n",
      "    (Location_fsm0_e(walk.2))\n",
      "    (Location_fsm0_e(disembarktruck.2)|s(unloadtruck.2) ?v1 - Package)\n",
      "    (Location_fsm1_s(drivetruck.1))\n",
      "    (Location_fsm1_e(drivetruck.1)|s(walk.2) ?v0 - Driver)\n",
      "    (Location_fsm1_e(walk.2))\n",
      "    (Location_fsm1_s(disembarktruck.2))\n",
      "    (Location_fsm1_e(disembarktruck.2))\n",
      "    (Location_fsm2_e(loadtruck.2)|s(boardtruck.2) ?v2 - Package)\n",
      "    (Location_fsm2_s(drivetruck.2))\n",
      "    (Location_fsm2_e(drivetruck.2)|e(boardtruck.2)|s(loadtruck.2) ?v0 - Package)\n",
      "    (Location_fsm3_e(loadtruck.2)|s(drivetruck.1)|s(disembarktruck.2) ?v1 - Package)\n",
      "    (Location_fsm3_e(drivetruck.1))\n",
      "    (Location_fsm3_e(disembarktruck.2)|s(loadtruck.2) ?v0 - Package)\n",
      "    (Location_fsm4_s(drivetruck.1))\n",
      "    (Location_fsm4_e(drivetruck.1)|e(walk.1)|s(walk.2))\n",
      "    (Location_fsm4_e(walk.2)|s(walk.1) ?v1 - Driver)\n",
      "    (Location_fsm5_e(drivetruck.1)|s(walk.2) ?v0 - Driver)\n",
      "    (Location_fsm5_e(walk.2))\n",
      "    (Location_fsm5_s(unloadtruck.2))\n",
      "    (Location_fsm5_e(unloadtruck.2)|s(drivetruck.1) ?v1 - Package)\n",
      "    (Location_fsm6_s(walk.1))\n",
      "    (Location_fsm6_e(walk.1)|s(drivetruck.2))\n",
      "    (Location_fsm6_s(boardtruck.2))\n",
      "    (Location_fsm6_e(boardtruck.2))\n",
      "    (Location_fsm6_e(drivetruck.2))\n",
      "    (Location_fsm7_s(drivetruck.2))\n",
      "    (Location_fsm7_e(drivetruck.2)|e(boardtruck.2)|s(unloadtruck.2) ?v1 - Package)\n",
      "    (Location_fsm7_e(unloadtruck.2)|s(boardtruck.2) ?v0 - Package)\n",
      "    (Location_fsm8_s(walk.1))\n",
      "    (Location_fsm8_e(walk.1))\n",
      "    (Location_fsm8_e(boardtruck.2)|s(unloadtruck.2) ?v1 - Package)\n",
      "    (Location_fsm8_e(unloadtruck.2)|s(boardtruck.2) ?v0 - Package)\n",
      "    (Location_fsm9_e(drivetruck.2)|s(loadtruck.2) ?v0 - Package)\n",
      "    (Location_fsm9_e(loadtruck.2))\n",
      "    (Location_fsm9_s(walk.2))\n",
      "    (Location_fsm9_e(walk.2)|s(drivetruck.2))\n",
      "    (Location_fsm10_e(walk.1))\n",
      "    (Location_fsm10_e(loadtruck.2)|s(disembarktruck.2) ?v0 - Package)\n",
      "    (Location_fsm10_e(disembarktruck.2)|s(walk.1)|s(loadtruck.2) ?v1 - Package)\n",
      "    (Location_fsm11_e(walk.2)|e(boardtruck.2)|e(walk.1)|e(loadtruck.2)|e(drivetruck.1)|e(drivetruck.2)|e(disembarktruck.2)|s(unloadtruck.2)|s(drivetruck.2)|e(unloadtruck.2)|s(disembarktruck.2)|s(drivetruck.1)|s(loadtruck.2)|s(boardtruck.2)|s(walk.1)|s(walk.2))\n",
      "  )\n",
      "\n",
      "  (:action  disembarktruck   :parameters  (?driver1 - Driver ?truck1 - Package ?s1 - Location )\n",
      "   :precondition   (and\n",
      "        (Driver_fsm0_e(boardtruck.0)|e(drivetruck.3)|s(drivetruck.3)|s(disembarktruck.0) ?v0 - Package ?v3 - Location)\n",
      "        (Package_fsm0_e(boardtruck.1)|e(drivetruck.0)|s(drivetruck.0)|s(disembarktruck.1) ?v0 - Driver ?v1 - Location)\n",
      "        (Package_fsm1_e(unloadtruck.1)|s(disembarktruck.1) ?v0 - Location)\n",
      "        (Package_fsm3_e(drivetruck.0)|e(loadtruck.1)|e(unloadtruck.1)|e(disembarktruck.1)|s(boardtruck.1)|e(boardtruck.1)|s(disembarktruck.1)|s(unloadtruck.1)|s(loadtruck.1)|s(drivetruck.0) ?v0 - Location ?v1 - Truck ?v3 - Driver)\n",
      "        (Location_fsm0_e(unloadtruck.2)|s(disembarktruck.2) ?v0 - Package)\n",
      "        (Location_fsm1_s(disembarktruck.2))\n",
      "        (Location_fsm3_e(loadtruck.2)|s(drivetruck.1)|s(disembarktruck.2) ?v1 - Package)\n",
      "        (Location_fsm10_e(loadtruck.2)|s(disembarktruck.2) ?v0 - Package)\n",
      "        (Location_fsm11_e(walk.2)|e(boardtruck.2)|e(walk.1)|e(loadtruck.2)|e(drivetruck.1)|e(drivetruck.2)|e(disembarktruck.2)|s(unloadtruck.2)|s(drivetruck.2)|e(unloadtruck.2)|s(disembarktruck.2)|s(drivetruck.1)|s(loadtruck.2)|s(boardtruck.2)|s(walk.1)|s(walk.2))\n",
      "   )\n",
      "   :effect   (and\n",
      "        (Driver_fsm0_e(walk.0)|e(disembarktruck.0)|s(boardtruck.0)|s(walk.0))\n",
      "        (Package_fsm0_e(disembarktruck.1)|s(boardtruck.1))\n",
      "        (Package_fsm1_e(disembarktruck.1)|s(unloadtruck.1) ?v1 - Location)\n",
      "        (Package_fsm3_e(drivetruck.0)|e(loadtruck.1)|e(unloadtruck.1)|e(disembarktruck.1)|s(boardtruck.1)|e(boardtruck.1)|s(disembarktruck.1)|s(unloadtruck.1)|s(loadtruck.1)|s(drivetruck.0) ?v0 - Location ?v1 - Truck ?v3 - Driver)\n",
      "        (Location_fsm0_e(disembarktruck.2)|s(unloadtruck.2) ?v1 - Package)\n",
      "        (Location_fsm1_e(disembarktruck.2))\n",
      "        (Location_fsm3_e(disembarktruck.2)|s(loadtruck.2) ?v0 - Package)\n",
      "        (Location_fsm10_e(disembarktruck.2)|s(walk.1)|s(loadtruck.2) ?v1 - Package)\n",
      "        (Location_fsm11_e(walk.2)|e(boardtruck.2)|e(walk.1)|e(loadtruck.2)|e(drivetruck.1)|e(drivetruck.2)|e(disembarktruck.2)|s(unloadtruck.2)|s(drivetruck.2)|e(unloadtruck.2)|s(disembarktruck.2)|s(drivetruck.1)|s(loadtruck.2)|s(boardtruck.2)|s(walk.1)|s(walk.2))\n",
      "  ))\n",
      "\n",
      "  (:action  boardtruck   :parameters  (?driver1 - Driver ?truck1 - Package ?s0 - Location )\n",
      "   :precondition   (and\n",
      "        (Driver_fsm0_e(walk.0)|e(disembarktruck.0)|s(boardtruck.0)|s(walk.0))\n",
      "        (Package_fsm0_e(disembarktruck.1)|s(boardtruck.1))\n",
      "        (Package_fsm2_e(loadtruck.1)|s(boardtruck.1) ?v0 - Location)\n",
      "        (Package_fsm3_e(drivetruck.0)|e(loadtruck.1)|e(unloadtruck.1)|e(disembarktruck.1)|s(boardtruck.1)|e(boardtruck.1)|s(disembarktruck.1)|s(unloadtruck.1)|s(loadtruck.1)|s(drivetruck.0) ?v0 - Location ?v1 - Truck ?v3 - Driver)\n",
      "        (Location_fsm2_e(loadtruck.2)|s(boardtruck.2) ?v2 - Package)\n",
      "        (Location_fsm6_s(boardtruck.2))\n",
      "        (Location_fsm7_e(unloadtruck.2)|s(boardtruck.2) ?v0 - Package)\n",
      "        (Location_fsm8_e(unloadtruck.2)|s(boardtruck.2) ?v0 - Package)\n",
      "        (Location_fsm11_e(walk.2)|e(boardtruck.2)|e(walk.1)|e(loadtruck.2)|e(drivetruck.1)|e(drivetruck.2)|e(disembarktruck.2)|s(unloadtruck.2)|s(drivetruck.2)|e(unloadtruck.2)|s(disembarktruck.2)|s(drivetruck.1)|s(loadtruck.2)|s(boardtruck.2)|s(walk.1)|s(walk.2))\n",
      "   )\n",
      "   :effect   (and\n",
      "        (Driver_fsm0_e(boardtruck.0)|e(drivetruck.3)|s(drivetruck.3)|s(disembarktruck.0) ?v0 - Package ?v3 - Location)\n",
      "        (Package_fsm0_e(boardtruck.1)|e(drivetruck.0)|s(drivetruck.0)|s(disembarktruck.1) ?v0 - Driver ?v1 - Location)\n",
      "        (Package_fsm2_e(boardtruck.1)|s(loadtruck.1) ?v1 - Location)\n",
      "        (Package_fsm3_e(drivetruck.0)|e(loadtruck.1)|e(unloadtruck.1)|e(disembarktruck.1)|s(boardtruck.1)|e(boardtruck.1)|s(disembarktruck.1)|s(unloadtruck.1)|s(loadtruck.1)|s(drivetruck.0) ?v0 - Location ?v1 - Truck ?v3 - Driver)\n",
      "        (Location_fsm2_e(drivetruck.2)|e(boardtruck.2)|s(loadtruck.2) ?v0 - Package)\n",
      "        (Location_fsm6_e(boardtruck.2))\n",
      "        (Location_fsm7_e(drivetruck.2)|e(boardtruck.2)|s(unloadtruck.2) ?v1 - Package)\n",
      "        (Location_fsm8_e(boardtruck.2)|s(unloadtruck.2) ?v1 - Package)\n",
      "        (Location_fsm11_e(walk.2)|e(boardtruck.2)|e(walk.1)|e(loadtruck.2)|e(drivetruck.1)|e(drivetruck.2)|e(disembarktruck.2)|s(unloadtruck.2)|s(drivetruck.2)|e(unloadtruck.2)|s(disembarktruck.2)|s(drivetruck.1)|s(loadtruck.2)|s(boardtruck.2)|s(walk.1)|s(walk.2))\n",
      "  ))\n",
      "\n",
      "  (:action  loadtruck   :parameters  (?package5 - Truck ?truck3 - Package ?s3 - Location )\n",
      "   :precondition   (and\n",
      "        (Truck_fsm0_e(unloadtruck.0)|s(loadtruck.0))\n",
      "        (Package_fsm2_e(boardtruck.1)|s(loadtruck.1) ?v1 - Location)\n",
      "        (Package_fsm3_e(drivetruck.0)|e(loadtruck.1)|e(unloadtruck.1)|e(disembarktruck.1)|s(boardtruck.1)|e(boardtruck.1)|s(disembarktruck.1)|s(unloadtruck.1)|s(loadtruck.1)|s(drivetruck.0) ?v0 - Location ?v1 - Truck ?v3 - Driver)\n",
      "        (Location_fsm2_e(drivetruck.2)|e(boardtruck.2)|s(loadtruck.2) ?v0 - Package)\n",
      "        (Location_fsm3_e(disembarktruck.2)|s(loadtruck.2) ?v0 - Package)\n",
      "        (Location_fsm9_e(drivetruck.2)|s(loadtruck.2) ?v0 - Package)\n",
      "        (Location_fsm10_e(disembarktruck.2)|s(walk.1)|s(loadtruck.2) ?v1 - Package)\n",
      "        (Location_fsm11_e(walk.2)|e(boardtruck.2)|e(walk.1)|e(loadtruck.2)|e(drivetruck.1)|e(drivetruck.2)|e(disembarktruck.2)|s(unloadtruck.2)|s(drivetruck.2)|e(unloadtruck.2)|s(disembarktruck.2)|s(drivetruck.1)|s(loadtruck.2)|s(boardtruck.2)|s(walk.1)|s(walk.2))\n",
      "   )\n",
      "   :effect   (and\n",
      "        (Truck_fsm0_e(loadtruck.0)|s(unloadtruck.0) ?v0 - Package)\n",
      "        (Package_fsm2_e(loadtruck.1)|s(boardtruck.1) ?v0 - Location)\n",
      "        (Package_fsm3_e(drivetruck.0)|e(loadtruck.1)|e(unloadtruck.1)|e(disembarktruck.1)|s(boardtruck.1)|e(boardtruck.1)|s(disembarktruck.1)|s(unloadtruck.1)|s(loadtruck.1)|s(drivetruck.0) ?v0 - Location ?v1 - Truck ?v3 - Driver)\n",
      "        (Location_fsm2_e(loadtruck.2)|s(boardtruck.2) ?v2 - Package)\n",
      "        (Location_fsm3_e(loadtruck.2)|s(drivetruck.1)|s(disembarktruck.2) ?v1 - Package)\n",
      "        (Location_fsm9_e(loadtruck.2))\n",
      "        (Location_fsm10_e(loadtruck.2)|s(disembarktruck.2) ?v0 - Package)\n",
      "        (Location_fsm11_e(walk.2)|e(boardtruck.2)|e(walk.1)|e(loadtruck.2)|e(drivetruck.1)|e(drivetruck.2)|e(disembarktruck.2)|s(unloadtruck.2)|s(drivetruck.2)|e(unloadtruck.2)|s(disembarktruck.2)|s(drivetruck.1)|s(loadtruck.2)|s(boardtruck.2)|s(walk.1)|s(walk.2))\n",
      "  ))\n",
      "\n",
      "  (:action  unloadtruck   :parameters  (?package5 - Truck ?truck3 - Package ?s3 - Location )\n",
      "   :precondition   (and\n",
      "        (Truck_fsm0_e(loadtruck.0)|s(unloadtruck.0) ?v0 - Package)\n",
      "        (Package_fsm1_e(disembarktruck.1)|s(unloadtruck.1) ?v1 - Location)\n",
      "        (Package_fsm3_e(drivetruck.0)|e(loadtruck.1)|e(unloadtruck.1)|e(disembarktruck.1)|s(boardtruck.1)|e(boardtruck.1)|s(disembarktruck.1)|s(unloadtruck.1)|s(loadtruck.1)|s(drivetruck.0) ?v0 - Location ?v1 - Truck ?v3 - Driver)\n",
      "        (Location_fsm0_e(disembarktruck.2)|s(unloadtruck.2) ?v1 - Package)\n",
      "        (Location_fsm5_s(unloadtruck.2))\n",
      "        (Location_fsm7_e(drivetruck.2)|e(boardtruck.2)|s(unloadtruck.2) ?v1 - Package)\n",
      "        (Location_fsm8_e(boardtruck.2)|s(unloadtruck.2) ?v1 - Package)\n",
      "        (Location_fsm11_e(walk.2)|e(boardtruck.2)|e(walk.1)|e(loadtruck.2)|e(drivetruck.1)|e(drivetruck.2)|e(disembarktruck.2)|s(unloadtruck.2)|s(drivetruck.2)|e(unloadtruck.2)|s(disembarktruck.2)|s(drivetruck.1)|s(loadtruck.2)|s(boardtruck.2)|s(walk.1)|s(walk.2))\n",
      "   )\n",
      "   :effect   (and\n",
      "        (Truck_fsm0_e(unloadtruck.0)|s(loadtruck.0))\n",
      "        (Package_fsm1_e(unloadtruck.1)|s(disembarktruck.1) ?v0 - Location)\n",
      "        (Package_fsm3_e(drivetruck.0)|e(loadtruck.1)|e(unloadtruck.1)|e(disembarktruck.1)|s(boardtruck.1)|e(boardtruck.1)|s(disembarktruck.1)|s(unloadtruck.1)|s(loadtruck.1)|s(drivetruck.0) ?v0 - Location ?v1 - Truck ?v3 - Driver)\n",
      "        (Location_fsm0_e(unloadtruck.2)|s(disembarktruck.2) ?v0 - Package)\n",
      "        (Location_fsm5_e(unloadtruck.2)|s(drivetruck.1) ?v1 - Package)\n",
      "        (Location_fsm7_e(unloadtruck.2)|s(boardtruck.2) ?v0 - Package)\n",
      "        (Location_fsm8_e(unloadtruck.2)|s(boardtruck.2) ?v0 - Package)\n",
      "        (Location_fsm11_e(walk.2)|e(boardtruck.2)|e(walk.1)|e(loadtruck.2)|e(drivetruck.1)|e(drivetruck.2)|e(disembarktruck.2)|s(unloadtruck.2)|s(drivetruck.2)|e(unloadtruck.2)|s(disembarktruck.2)|s(drivetruck.1)|s(loadtruck.2)|s(boardtruck.2)|s(walk.1)|s(walk.2))\n",
      "  ))\n",
      "\n",
      "  (:action  drivetruck   :parameters  (?truck1 - Package ?s0 - Location ?s1 - Location ?driver1 - Driver )\n",
      "   :precondition   (and\n",
      "        (Package_fsm0_e(boardtruck.1)|e(drivetruck.0)|s(drivetruck.0)|s(disembarktruck.1) ?v0 - Driver ?v1 - Location)\n",
      "        (Package_fsm3_e(drivetruck.0)|e(loadtruck.1)|e(unloadtruck.1)|e(disembarktruck.1)|s(boardtruck.1)|e(boardtruck.1)|s(disembarktruck.1)|s(unloadtruck.1)|s(loadtruck.1)|s(drivetruck.0) ?v0 - Location ?v1 - Truck ?v3 - Driver)\n",
      "        (Location_fsm1_s(drivetruck.1))\n",
      "        (Location_fsm2_s(drivetruck.2))\n",
      "        (Location_fsm3_e(loadtruck.2)|s(drivetruck.1)|s(disembarktruck.2) ?v1 - Package)\n",
      "        (Location_fsm4_s(drivetruck.1))\n",
      "        (Location_fsm5_e(unloadtruck.2)|s(drivetruck.1) ?v1 - Package)\n",
      "        (Location_fsm6_e(walk.1)|s(drivetruck.2))\n",
      "        (Location_fsm7_s(drivetruck.2))\n",
      "        (Location_fsm9_e(walk.2)|s(drivetruck.2))\n",
      "        (Location_fsm11_e(walk.2)|e(boardtruck.2)|e(walk.1)|e(loadtruck.2)|e(drivetruck.1)|e(drivetruck.2)|e(disembarktruck.2)|s(unloadtruck.2)|s(drivetruck.2)|e(unloadtruck.2)|s(disembarktruck.2)|s(drivetruck.1)|s(loadtruck.2)|s(boardtruck.2)|s(walk.1)|s(walk.2))\n",
      "        (Driver_fsm0_e(boardtruck.0)|e(drivetruck.3)|s(drivetruck.3)|s(disembarktruck.0) ?v0 - Package ?v3 - Location)\n",
      "        (Driver_fsm0_e(walk.0)|e(disembarktruck.0)|s(boardtruck.0)|s(walk.0))\n",
      "   )\n",
      "   :effect   (and\n",
      "        (Package_fsm0_e(boardtruck.1)|e(drivetruck.0)|s(drivetruck.0)|s(disembarktruck.1) ?v0 - Driver ?v1 - Location)\n",
      "        (Package_fsm3_e(drivetruck.0)|e(loadtruck.1)|e(unloadtruck.1)|e(disembarktruck.1)|s(boardtruck.1)|e(boardtruck.1)|s(disembarktruck.1)|s(unloadtruck.1)|s(loadtruck.1)|s(drivetruck.0) ?v0 - Location ?v1 - Truck ?v3 - Driver)\n",
      "        (Location_fsm1_e(drivetruck.1)|s(walk.2) ?v0 - Driver)\n",
      "        (Location_fsm2_e(drivetruck.2)|e(boardtruck.2)|s(loadtruck.2) ?v0 - Package)\n",
      "        (Location_fsm3_e(drivetruck.1))\n",
      "        (Location_fsm4_e(drivetruck.1)|e(walk.1)|s(walk.2))\n",
      "        (Location_fsm5_e(drivetruck.1)|s(walk.2) ?v0 - Driver)\n",
      "        (Location_fsm6_e(drivetruck.2))\n",
      "        (Location_fsm7_e(drivetruck.2)|e(boardtruck.2)|s(unloadtruck.2) ?v1 - Package)\n",
      "        (Location_fsm9_e(drivetruck.2)|s(loadtruck.2) ?v0 - Package)\n",
      "        (Location_fsm11_e(walk.2)|e(boardtruck.2)|e(walk.1)|e(loadtruck.2)|e(drivetruck.1)|e(drivetruck.2)|e(disembarktruck.2)|s(unloadtruck.2)|s(drivetruck.2)|e(unloadtruck.2)|s(disembarktruck.2)|s(drivetruck.1)|s(loadtruck.2)|s(boardtruck.2)|s(walk.1)|s(walk.2))\n",
      "        (Driver_fsm0_e(boardtruck.0)|e(drivetruck.3)|s(drivetruck.3)|s(disembarktruck.0) ?v0 - Package ?v3 - Location)\n",
      "        (Driver_fsm0_e(walk.0)|e(disembarktruck.0)|s(boardtruck.0)|s(walk.0))\n",
      "  ))\n",
      "\n",
      "  (:action  walk   :parameters  (?driver1 - Driver ?s2 - Location ?p1-2 - Location )\n",
      "   :precondition   (and\n",
      "        (Driver_fsm0_e(walk.0)|e(disembarktruck.0)|s(boardtruck.0)|s(walk.0))\n",
      "        (Location_fsm0_s(walk.2))\n",
      "        (Location_fsm1_e(drivetruck.1)|s(walk.2) ?v0 - Driver)\n",
      "        (Location_fsm4_e(drivetruck.1)|e(walk.1)|s(walk.2))\n",
      "        (Location_fsm4_e(walk.2)|s(walk.1) ?v1 - Driver)\n",
      "        (Location_fsm5_e(drivetruck.1)|s(walk.2) ?v0 - Driver)\n",
      "        (Location_fsm6_s(walk.1))\n",
      "        (Location_fsm8_s(walk.1))\n",
      "        (Location_fsm9_s(walk.2))\n",
      "        (Location_fsm10_e(disembarktruck.2)|s(walk.1)|s(loadtruck.2) ?v1 - Package)\n",
      "        (Location_fsm11_e(walk.2)|e(boardtruck.2)|e(walk.1)|e(loadtruck.2)|e(drivetruck.1)|e(drivetruck.2)|e(disembarktruck.2)|s(unloadtruck.2)|s(drivetruck.2)|e(unloadtruck.2)|s(disembarktruck.2)|s(drivetruck.1)|s(loadtruck.2)|s(boardtruck.2)|s(walk.1)|s(walk.2))\n",
      "   )\n",
      "   :effect   (and\n",
      "        (Driver_fsm0_e(walk.0)|e(disembarktruck.0)|s(boardtruck.0)|s(walk.0))\n",
      "        (Location_fsm0_e(walk.2))\n",
      "        (Location_fsm1_e(walk.2))\n",
      "        (Location_fsm4_e(walk.2)|s(walk.1) ?v1 - Driver)\n",
      "        (Location_fsm4_e(drivetruck.1)|e(walk.1)|s(walk.2))\n",
      "        (Location_fsm5_e(walk.2))\n",
      "        (Location_fsm6_e(walk.1)|s(drivetruck.2))\n",
      "        (Location_fsm8_e(walk.1))\n",
      "        (Location_fsm9_e(walk.2)|s(drivetruck.2))\n",
      "        (Location_fsm10_e(walk.1))\n",
      "        (Location_fsm11_e(walk.2)|e(boardtruck.2)|e(walk.1)|e(loadtruck.2)|e(drivetruck.1)|e(drivetruck.2)|e(disembarktruck.2)|s(unloadtruck.2)|s(drivetruck.2)|e(unloadtruck.2)|s(disembarktruck.2)|s(drivetruck.1)|s(loadtruck.2)|s(boardtruck.2)|s(walk.1)|s(walk.2))\n",
      "  ))\n",
      ")\n",
      "\n"
     ]
    }
   ],
   "source": [
    "# get action schema\n",
    "print(\";;********************Learned PDDL domain******************\")\n",
    "output_file = \"output/\"+ domain_name + \"/\" +  domain_name + \".pddl\"\n",
    "write_file = open(output_file, 'w')\n",
    "write_line = \"(define\"\n",
    "write_line += \"  (domain \"+ domain_name+\")\\n\"\n",
    "write_line += \"  (:requirements :typing)\\n\"\n",
    "write_line += \"  (:types\"\n",
    "for class_name in class_names:\n",
    "    write_line += \" \" + class_name\n",
    "write_line += \")\\n\"\n",
    "write_line += \"  (:predicates\\n\"\n",
    "\n",
    "# one predicate to represent each object state\n",
    "\n",
    "predicates = []\n",
    "for class_index, pb_per_class in enumerate(para_bind_overall_fault_removed):\n",
    "    for fsm_no, pbs_per_fsm in enumerate(pb_per_class):\n",
    "        for state_index, state in enumerate(state_machines_overall_list[class_index][fsm_no].nodes()):\n",
    "            \n",
    "            state_set = set(state.split('|'))\n",
    "            predicate = \"\"\n",
    "       \n",
    "            write_line += \"    (\" + class_names[class_index] + \"_fsm\" + str(fsm_no) + \"_\" +  state\n",
    "            predicate += \"    (\" + class_names[class_index] + \"_fsm\" + str(fsm_no) + \"_\" + state\n",
    "            for pb in pbs_per_fsm:\n",
    "                    if set(pb[0][0]) <= state_set:\n",
    "                        if \" ?\"+pb[1] + \" - \" + str(pb[0][8]) not in predicate:\n",
    "                            write_line += \" ?\"+pb[1] + \" - \" + str(pb[0][8])\n",
    "                            predicate += \" ?\"+pb[1] + \" - \" + str(pb[0][8])\n",
    "    \n",
    "            write_line += \")\\n\"\n",
    "            predicate += \")\"\n",
    "            predicates.append(predicate)\n",
    "write_line += \"  )\\n\"\n",
    "            \n",
    "for action_index, action in enumerate(actions):\n",
    "    write_line += \"\\n\"\n",
    "    write_line += \"  (:action\"\n",
    "    write_line += \"  \" + action + \" \"\n",
    "    write_line += \"  :parameters\"\n",
    "    write_line += \"  (\"\n",
    "    arg_already_written_flag = False\n",
    "    params_per_action = []\n",
    "    args_per_action = []\n",
    "    for seq in sequences:\n",
    "        for actarg_tuple in seq:\n",
    "            if not arg_already_written_flag:\n",
    "                if actarg_tuple[0] == action:\n",
    "                    arglist = []\n",
    "                    for arg in actarg_tuple[1]:\n",
    "                        write_line += \"?\"+arg + \" - \" + class_names[get_class_index(arg,classes)] + \" \"\n",
    "                        arglist.append(arg)\n",
    "                    args_per_action.append(arglist)\n",
    "                    params_per_action.append(actarg_tuple[1])\n",
    "                    arg_already_written_flag = True\n",
    "    write_line += \")\\n\"\n",
    "\n",
    "\n",
    "    # need to use FSMS to get preconditions and effects.\n",
    "    # Start-state = precondition. End state= Effect\n",
    "    preconditions = []\n",
    "    effects = []\n",
    "    for arglist in params_per_action:\n",
    "        for arg in arglist:\n",
    "            current_class_index = get_class_index(arg, classes)\n",
    "            for fsm_no, G in enumerate(state_machines_overall_list[current_class_index]):\n",
    "#                \n",
    "                for start, end, weight in G.edges(data='weight'):\n",
    "                    _actions = weight.split('|')\n",
    "                    for _action in _actions:\n",
    "                        \n",
    "                        if _action.split('.')[0] == action:\n",
    "                            for predicate in predicates:\n",
    "                                pred = predicate.split()[0].lstrip(\"(\")\n",
    "                                clss = pred.split('_')[0]\n",
    "                                fsm = pred.split('_')[1]\n",
    "                                state = set(pred.split('_')[2].replace('))',')').split('|'))\n",
    "\n",
    "\n",
    "\n",
    "                                if clss == class_names[current_class_index]:\n",
    "                                    if fsm == \"fsm\" + str(fsm_no):\n",
    "\n",
    "                                        if state == set(start.split('|')):\n",
    "\n",
    "                                            if predicate not in preconditions:\n",
    "                                                preconditions.append(predicate)\n",
    "\n",
    "                                        if state == set(end.split('|')):\n",
    "                                            if predicate not in effects:\n",
    "                                                effects.append(predicate)\n",
    "                            break\n",
    "                                        \n",
    "    \n",
    "                \n",
    "\n",
    "    write_line += \"   :precondition\"\n",
    "    write_line += \"   (and\\n\"\n",
    "    for precondition in preconditions:\n",
    "        # precondition = precondition.replace(?)\n",
    "        write_line += \"    \"+precondition+\"\\n\"\n",
    "    write_line += \"   )\\n\"\n",
    "    write_line += \"   :effect\"\n",
    "    write_line += \"   (and\\n\"\n",
    "    for effect in effects:\n",
    "        write_line += \"    \" + effect + \"\\n\"\n",
    "    write_line += \"  )\"\n",
    "\n",
    "    write_line += \")\\n\"\n",
    "\n",
    "write_line += \")\\n\" #domain ending bracket\n",
    "\n",
    "\n",
    "print(write_line)\n",
    "\n",
    "write_file.write(write_line)\n",
    "write_file.close()"
   ]
  },
  {
   "cell_type": "markdown",
   "metadata": {},
   "source": [
    "### Validating PDDL -- Fixing Syntax by replacing predicates with state dictionary values\n",
    "This is required because PDDL syntax doesn't support extra paranthesis () which occur in states (transitions occuring in states as 'start(t1)' or  'end(t1)')"
   ]
  },
  {
   "cell_type": "code",
   "execution_count": 95,
   "metadata": {
    "scrolled": false
   },
   "outputs": [
    {
     "name": "stdout",
     "output_type": "stream",
     "text": [
      ";;********************Learned PDDL domain******************\n",
      "(define  (domain driverlog)\n",
      "  (:requirements :typing)\n",
      "  (:types Driver Truck Package Location)\n",
      "  (:predicates\n",
      "    (Driver_fsm0_state0 ?v0 - Package ?v3 - Location)\n",
      "    (Driver_fsm0_state1)\n",
      "    (Truck_fsm0_state0 ?v0 - Package)\n",
      "    (Truck_fsm0_state1)\n",
      "    (Package_fsm0_state0)\n",
      "    (Package_fsm0_state1 ?v0 - Driver ?v1 - Location)\n",
      "    (Package_fsm1_state0 ?v1 - Location)\n",
      "    (Package_fsm1_state1 ?v0 - Location)\n",
      "    (Package_fsm2_state0 ?v0 - Location)\n",
      "    (Package_fsm2_state1 ?v1 - Location)\n",
      "    (Package_fsm3_state0 ?v0 - Location ?v1 - Truck ?v3 - Driver)\n",
      "    (Location_fsm0_state0 ?v0 - Package)\n",
      "    (Location_fsm0_state1)\n",
      "    (Location_fsm0_state2)\n",
      "    (Location_fsm0_state3 ?v1 - Package)\n",
      "    (Location_fsm1_state0)\n",
      "    (Location_fsm1_state1 ?v0 - Driver)\n",
      "    (Location_fsm1_state2)\n",
      "    (Location_fsm1_state3)\n",
      "    (Location_fsm1_state4)\n",
      "    (Location_fsm2_state0 ?v2 - Package)\n",
      "    (Location_fsm2_state1)\n",
      "    (Location_fsm2_state2 ?v0 - Package)\n",
      "    (Location_fsm3_state0 ?v1 - Package)\n",
      "    (Location_fsm3_state1)\n",
      "    (Location_fsm3_state2 ?v0 - Package)\n",
      "    (Location_fsm4_state0)\n",
      "    (Location_fsm4_state1)\n",
      "    (Location_fsm4_state2 ?v1 - Driver)\n",
      "    (Location_fsm5_state0 ?v0 - Driver)\n",
      "    (Location_fsm5_state1)\n",
      "    (Location_fsm5_state2)\n",
      "    (Location_fsm5_state3 ?v1 - Package)\n",
      "    (Location_fsm6_state0)\n",
      "    (Location_fsm6_state1)\n",
      "    (Location_fsm6_state2)\n",
      "    (Location_fsm6_state3)\n",
      "    (Location_fsm6_state4)\n",
      "    (Location_fsm7_state0)\n",
      "    (Location_fsm7_state1 ?v1 - Package)\n",
      "    (Location_fsm7_state2 ?v0 - Package)\n",
      "    (Location_fsm8_state0)\n",
      "    (Location_fsm8_state1)\n",
      "    (Location_fsm8_state2 ?v1 - Package)\n",
      "    (Location_fsm8_state3 ?v0 - Package)\n",
      "    (Location_fsm9_state0 ?v0 - Package)\n",
      "    (Location_fsm9_state1)\n",
      "    (Location_fsm9_state2)\n",
      "    (Location_fsm9_state3)\n",
      "    (Location_fsm10_state0)\n",
      "    (Location_fsm10_state1 ?v0 - Package)\n",
      "    (Location_fsm10_state2 ?v1 - Package)\n",
      "    (Location_fsm11_state0)\n",
      "  )\n",
      "  (:action  disembarktruck   :parameters  (?driver1 - Driver ?truck1 - Package ?s1 - Location )\n",
      "   :precondition   (and\n",
      "        (Driver_fsm0_state0 ?v0 - Package ?v3 - Location)\n",
      "        (Package_fsm0_state1 ?v0 - Driver ?v1 - Location)\n",
      "        (Package_fsm1_state1 ?v0 - Location)\n",
      "        (Package_fsm3_state0 ?v0 - Location ?v1 - Truck ?v3 - Driver)\n",
      "        (Location_fsm0_state0 ?v0 - Package)\n",
      "        (Location_fsm1_state3)\n",
      "        (Location_fsm3_state0 ?v1 - Package)\n",
      "        (Location_fsm10_state1 ?v0 - Package)\n",
      "        (Location_fsm11_state0)\n",
      "   )\n",
      "   :effect   (and\n",
      "        (Driver_fsm0_state1)\n",
      "        (Package_fsm0_state0)\n",
      "        (Package_fsm1_state0 ?v1 - Location)\n",
      "        (Package_fsm3_state0 ?v0 - Location ?v1 - Truck ?v3 - Driver)\n",
      "        (Location_fsm0_state3 ?v1 - Package)\n",
      "        (Location_fsm1_state4)\n",
      "        (Location_fsm3_state2 ?v0 - Package)\n",
      "        (Location_fsm10_state2 ?v1 - Package)\n",
      "        (Location_fsm11_state0)\n",
      "  ))\n",
      "\n",
      "  (:action  boardtruck   :parameters  (?driver1 - Driver ?truck1 - Package ?s0 - Location )\n",
      "   :precondition   (and\n",
      "        (Driver_fsm0_state1)\n",
      "        (Package_fsm0_state0)\n",
      "        (Package_fsm2_state0 ?v0 - Location)\n",
      "        (Package_fsm3_state0 ?v0 - Location ?v1 - Truck ?v3 - Driver)\n",
      "        (Location_fsm2_state0 ?v2 - Package)\n",
      "        (Location_fsm6_state2)\n",
      "        (Location_fsm7_state2 ?v0 - Package)\n",
      "        (Location_fsm8_state3 ?v0 - Package)\n",
      "        (Location_fsm11_state0)\n",
      "   )\n",
      "   :effect   (and\n",
      "        (Driver_fsm0_state0 ?v0 - Package ?v3 - Location)\n",
      "        (Package_fsm0_state1 ?v0 - Driver ?v1 - Location)\n",
      "        (Package_fsm2_state1 ?v1 - Location)\n",
      "        (Package_fsm3_state0 ?v0 - Location ?v1 - Truck ?v3 - Driver)\n",
      "        (Location_fsm2_state2 ?v0 - Package)\n",
      "        (Location_fsm6_state3)\n",
      "        (Location_fsm7_state1 ?v1 - Package)\n",
      "        (Location_fsm8_state2 ?v1 - Package)\n",
      "        (Location_fsm11_state0)\n",
      "  ))\n",
      "\n",
      "  (:action  loadtruck   :parameters  (?package5 - Truck ?truck3 - Package ?s3 - Location )\n",
      "   :precondition   (and\n",
      "        (Truck_fsm0_state1)\n",
      "        (Package_fsm2_state1 ?v1 - Location)\n",
      "        (Package_fsm3_state0 ?v0 - Location ?v1 - Truck ?v3 - Driver)\n",
      "        (Location_fsm2_state2 ?v0 - Package)\n",
      "        (Location_fsm3_state2 ?v0 - Package)\n",
      "        (Location_fsm9_state0 ?v0 - Package)\n",
      "        (Location_fsm10_state2 ?v1 - Package)\n",
      "        (Location_fsm11_state0)\n",
      "   )\n",
      "   :effect   (and\n",
      "        (Truck_fsm0_state0 ?v0 - Package)\n",
      "        (Package_fsm2_state0 ?v0 - Location)\n",
      "        (Package_fsm3_state0 ?v0 - Location ?v1 - Truck ?v3 - Driver)\n",
      "        (Location_fsm2_state0 ?v2 - Package)\n",
      "        (Location_fsm3_state0 ?v1 - Package)\n",
      "        (Location_fsm9_state1)\n",
      "        (Location_fsm10_state1 ?v0 - Package)\n",
      "        (Location_fsm11_state0)\n",
      "  ))\n",
      "\n",
      "  (:action  unloadtruck   :parameters  (?package5 - Truck ?truck3 - Package ?s3 - Location )\n",
      "   :precondition   (and\n",
      "        (Truck_fsm0_state0 ?v0 - Package)\n",
      "        (Package_fsm1_state0 ?v1 - Location)\n",
      "        (Package_fsm3_state0 ?v0 - Location ?v1 - Truck ?v3 - Driver)\n",
      "        (Location_fsm0_state3 ?v1 - Package)\n",
      "        (Location_fsm5_state2)\n",
      "        (Location_fsm7_state1 ?v1 - Package)\n",
      "        (Location_fsm8_state2 ?v1 - Package)\n",
      "        (Location_fsm11_state0)\n",
      "   )\n",
      "   :effect   (and\n",
      "        (Truck_fsm0_state1)\n",
      "        (Package_fsm1_state1 ?v0 - Location)\n",
      "        (Package_fsm3_state0 ?v0 - Location ?v1 - Truck ?v3 - Driver)\n",
      "        (Location_fsm0_state0 ?v0 - Package)\n",
      "        (Location_fsm5_state3 ?v1 - Package)\n",
      "        (Location_fsm7_state2 ?v0 - Package)\n",
      "        (Location_fsm8_state3 ?v0 - Package)\n",
      "        (Location_fsm11_state0)\n",
      "  ))\n",
      "\n",
      "  (:action  drivetruck   :parameters  (?truck1 - Package ?s0 - Location ?s1 - Location ?driver1 - Driver )\n",
      "   :precondition   (and\n",
      "        (Package_fsm0_state1 ?v0 - Driver ?v1 - Location)\n",
      "        (Package_fsm3_state0 ?v0 - Location ?v1 - Truck ?v3 - Driver)\n",
      "        (Location_fsm1_state0)\n",
      "        (Location_fsm2_state1)\n",
      "        (Location_fsm3_state0 ?v1 - Package)\n",
      "        (Location_fsm4_state0)\n",
      "        (Location_fsm5_state3 ?v1 - Package)\n",
      "        (Location_fsm6_state1)\n",
      "        (Location_fsm7_state0)\n",
      "        (Location_fsm9_state3)\n",
      "        (Location_fsm11_state0)\n",
      "        (Driver_fsm0_state0 ?v0 - Package ?v3 - Location)\n",
      "        (Driver_fsm0_state1)\n",
      "   )\n",
      "   :effect   (and\n",
      "        (Package_fsm0_state1 ?v0 - Driver ?v1 - Location)\n",
      "        (Package_fsm3_state0 ?v0 - Location ?v1 - Truck ?v3 - Driver)\n",
      "        (Location_fsm1_state1 ?v0 - Driver)\n",
      "        (Location_fsm2_state2 ?v0 - Package)\n",
      "        (Location_fsm3_state1)\n",
      "        (Location_fsm4_state1)\n",
      "        (Location_fsm5_state0 ?v0 - Driver)\n",
      "        (Location_fsm6_state4)\n",
      "        (Location_fsm7_state1 ?v1 - Package)\n",
      "        (Location_fsm9_state0 ?v0 - Package)\n",
      "        (Location_fsm11_state0)\n",
      "        (Driver_fsm0_state0 ?v0 - Package ?v3 - Location)\n",
      "        (Driver_fsm0_state1)\n",
      "  ))\n",
      "\n",
      "  (:action  walk   :parameters  (?driver1 - Driver ?s2 - Location ?p1-2 - Location )\n",
      "   :precondition   (and\n",
      "        (Driver_fsm0_state1)\n",
      "        (Location_fsm0_state1)\n",
      "        (Location_fsm1_state1 ?v0 - Driver)\n",
      "        (Location_fsm4_state1)\n",
      "        (Location_fsm4_state2 ?v1 - Driver)\n",
      "        (Location_fsm5_state0 ?v0 - Driver)\n",
      "        (Location_fsm6_state0)\n",
      "        (Location_fsm8_state0)\n",
      "        (Location_fsm9_state2)\n",
      "        (Location_fsm10_state2 ?v1 - Package)\n",
      "        (Location_fsm11_state0)\n",
      "   )\n",
      "   :effect   (and\n",
      "        (Driver_fsm0_state1)\n",
      "        (Location_fsm0_state2)\n",
      "        (Location_fsm1_state2)\n",
      "        (Location_fsm4_state2 ?v1 - Driver)\n",
      "        (Location_fsm4_state1)\n",
      "        (Location_fsm5_state1)\n",
      "        (Location_fsm6_state1)\n",
      "        (Location_fsm8_state1)\n",
      "        (Location_fsm9_state3)\n",
      "        (Location_fsm10_state0)\n",
      "        (Location_fsm11_state0)\n",
      "  ))\n",
      "\n",
      ")\n",
      "\n"
     ]
    }
   ],
   "source": [
    "# get action schema\n",
    "print(\";;********************Learned PDDL domain******************\")\n",
    "output_file = \"output/\"+ domain_name + \"/\" +  domain_name + \".pddl\"\n",
    "write_file = open(output_file, 'w')\n",
    "write_line = \"(define\"\n",
    "write_line += \"  (domain \"+ domain_name+\")\\n\"\n",
    "write_line += \"  (:requirements :typing)\\n\"\n",
    "write_line += \"  (:types\"\n",
    "for class_name in class_names:\n",
    "    write_line += \" \" + class_name\n",
    "write_line += \")\\n\"\n",
    "write_line += \"  (:predicates\\n\"\n",
    "\n",
    "# one predicate to represent each object state\n",
    "\n",
    "predicates = []\n",
    "for class_index, pb_per_class in enumerate(para_bind_overall_fault_removed):\n",
    "    for fsm_no, pbs_per_fsm in enumerate(pb_per_class):\n",
    "        state_mapping = state_mappings_class[class_index][fsm_no]\n",
    "        \n",
    "        for state_index, state in enumerate(state_machines_overall_list[class_index][fsm_no].nodes()):\n",
    "            \n",
    "            state_set = set(state.split('|'))\n",
    "            predicate = \"\"\n",
    "       \n",
    "            write_line += \"    (\" + class_names[class_index] + \"_fsm\" + str(fsm_no) + \"_state\" +  str(state_mapping[state])\n",
    "            predicate += \"    (\" + class_names[class_index] + \"_fsm\" + str(fsm_no) + \"_state\" + str(state_mapping[state])\n",
    "            for pb in pbs_per_fsm:\n",
    "                    if set(pb[0][0]) <= state_set:\n",
    "                        if \" ?\"+pb[1] + \" - \" + str(pb[0][8]) not in predicate:\n",
    "                            write_line += \" ?\"+pb[1] + \" - \" + str(pb[0][8])\n",
    "                            predicate += \" ?\"+pb[1] + \" - \" + str(pb[0][8])\n",
    "    \n",
    "            write_line += \")\\n\"\n",
    "            predicate += \")\"\n",
    "            predicates.append(predicate)\n",
    "write_line += \"  )\\n\"\n",
    "            \n",
    "for action_index, action in enumerate(actions):\n",
    "    write_line += \"  (:action\"\n",
    "    write_line += \"  \" + action + \" \"\n",
    "    write_line += \"  :parameters\"\n",
    "    write_line += \"  (\"\n",
    "    arg_already_written_flag = False\n",
    "    params_per_action = []\n",
    "    args_per_action = []\n",
    "    for seq in sequences:\n",
    "        for actarg_tuple in seq:\n",
    "            if not arg_already_written_flag:\n",
    "                if actarg_tuple[0] == action:\n",
    "                    arglist = []\n",
    "                    for arg in actarg_tuple[1]:\n",
    "                        write_line += \"?\"+arg + \" - \" + class_names[get_class_index(arg,classes)] + \" \"\n",
    "                        arglist.append(arg)\n",
    "                    args_per_action.append(arglist)\n",
    "                    params_per_action.append(actarg_tuple[1])\n",
    "                    arg_already_written_flag = True\n",
    "    write_line += \")\\n\"\n",
    "\n",
    "\n",
    "    # need to use FSMS to get preconditions and effects.\n",
    "    # Start-state = precondition. End state= Effect\n",
    "    preconditions = []\n",
    "    effects = []\n",
    "    for arglist in params_per_action:\n",
    "        for arg in arglist:\n",
    "            current_class_index = get_class_index(arg, classes)\n",
    "            for fsm_no, G in enumerate(state_machines_overall_list[current_class_index]):\n",
    "                G_int = state_machines_overall_list_2[current_class_index][fsm_no]\n",
    "                state_mapping = state_mappings_class[current_class_index][fsm_no]\n",
    "                for start, end, weight in G_int.edges(data='weight'):\n",
    "                    _actions = weight.split('|')\n",
    "                    for _action in _actions:\n",
    "                        if _action.split('.')[0] == action:\n",
    "                            for predicate in predicates:\n",
    "                                pred = predicate.split()[0].lstrip(\"(\")\n",
    "                                clss = pred.split('_')[0]\n",
    "                                fsm = pred.split('_')[1]\n",
    "                                state_ind = pred.split('_')[2].rstrip(\")\")[-1]\n",
    "\n",
    "                                if clss == class_names[current_class_index]:\n",
    "                                    if fsm == \"fsm\" + str(fsm_no):\n",
    "                                        if int(state_ind) == int(start):\n",
    "                                            if predicate not in preconditions:\n",
    "                                                preconditions.append(predicate)\n",
    "                                                \n",
    "                                        if int(state_ind) == int(end):\n",
    "                                            if predicate not in effects:\n",
    "                                                effects.append(predicate)\n",
    "                            break\n",
    "                            \n",
    "\n",
    "                \n",
    "\n",
    "    write_line += \"   :precondition\"\n",
    "    write_line += \"   (and\\n\"\n",
    "    for precondition in preconditions:\n",
    "        write_line += \"    \"+precondition+\"\\n\"\n",
    "    write_line += \"   )\\n\"\n",
    "    write_line += \"   :effect\"\n",
    "    write_line += \"   (and\\n\"\n",
    "    for effect in effects:\n",
    "        write_line += \"    \" + effect + \"\\n\"\n",
    "    write_line += \"  )\"\n",
    "\n",
    "    write_line += \")\\n\\n\"\n",
    "\n",
    "write_line += \")\\n\" #domain ending bracket\n",
    "\n",
    "\n",
    "print(write_line)\n",
    "\n",
    "write_file.write(write_line)\n",
    "write_file.close()"
   ]
  },
  {
   "cell_type": "markdown",
   "metadata": {},
   "source": [
    "### State Mapping: What are these states?"
   ]
  },
  {
   "cell_type": "code",
   "execution_count": 96,
   "metadata": {
    "scrolled": false
   },
   "outputs": [
    {
     "data": {
      "text/markdown": [
       "## Class 0"
      ],
      "text/plain": [
       "<IPython.core.display.Markdown object>"
      ]
     },
     "metadata": {},
     "output_type": "display_data"
    },
    {
     "data": {
      "text/markdown": [
       "### Driver"
      ],
      "text/plain": [
       "<IPython.core.display.Markdown object>"
      ]
     },
     "metadata": {},
     "output_type": "display_data"
    },
    {
     "name": "stdout",
     "output_type": "stream",
     "text": [
      "Number of FSMS:12\n"
     ]
    },
    {
     "data": {
      "text/markdown": [
       "Fsm 0"
      ],
      "text/plain": [
       "<IPython.core.display.Markdown object>"
      ]
     },
     "metadata": {},
     "output_type": "display_data"
    },
    {
     "data": {
      "application/vnd.jupyter.widget-view+json": {
       "model_id": "ce186db301f547559e3235b033a81b73",
       "version_major": 2,
       "version_minor": 0
      },
      "text/plain": [
       "CytoscapeWidget(cytoscape_layout={'name': 'cola'}, cytoscape_style=[{'width': 400, 'height': 500, 'selector': …"
      ]
     },
     "metadata": {},
     "output_type": "display_data"
    },
    {
     "data": {
      "application/vnd.jupyter.widget-view+json": {
       "model_id": "de2dd9442a70420180ae52757042dfce",
       "version_major": 2,
       "version_minor": 0
      },
      "text/plain": [
       "CytoscapeWidget(cytoscape_layout={'name': 'cola'}, cytoscape_style=[{'width': 400, 'height': 500, 'selector': …"
      ]
     },
     "metadata": {},
     "output_type": "display_data"
    },
    {
     "data": {
      "text/markdown": [
       "## Class 1"
      ],
      "text/plain": [
       "<IPython.core.display.Markdown object>"
      ]
     },
     "metadata": {},
     "output_type": "display_data"
    },
    {
     "data": {
      "text/markdown": [
       "### Truck"
      ],
      "text/plain": [
       "<IPython.core.display.Markdown object>"
      ]
     },
     "metadata": {},
     "output_type": "display_data"
    },
    {
     "name": "stdout",
     "output_type": "stream",
     "text": [
      "Number of FSMS:12\n"
     ]
    },
    {
     "data": {
      "text/markdown": [
       "Fsm 0"
      ],
      "text/plain": [
       "<IPython.core.display.Markdown object>"
      ]
     },
     "metadata": {},
     "output_type": "display_data"
    },
    {
     "data": {
      "application/vnd.jupyter.widget-view+json": {
       "model_id": "ff6b23f678ea494380ec54fc0b1fdaf2",
       "version_major": 2,
       "version_minor": 0
      },
      "text/plain": [
       "CytoscapeWidget(cytoscape_layout={'name': 'cola'}, cytoscape_style=[{'width': 400, 'height': 500, 'selector': …"
      ]
     },
     "metadata": {},
     "output_type": "display_data"
    },
    {
     "data": {
      "application/vnd.jupyter.widget-view+json": {
       "model_id": "e045bb6df5b1431cad1b1932d7e6f93c",
       "version_major": 2,
       "version_minor": 0
      },
      "text/plain": [
       "CytoscapeWidget(cytoscape_layout={'name': 'cola'}, cytoscape_style=[{'width': 400, 'height': 500, 'selector': …"
      ]
     },
     "metadata": {},
     "output_type": "display_data"
    },
    {
     "data": {
      "text/markdown": [
       "## Class 2"
      ],
      "text/plain": [
       "<IPython.core.display.Markdown object>"
      ]
     },
     "metadata": {},
     "output_type": "display_data"
    },
    {
     "data": {
      "text/markdown": [
       "### Package"
      ],
      "text/plain": [
       "<IPython.core.display.Markdown object>"
      ]
     },
     "metadata": {},
     "output_type": "display_data"
    },
    {
     "name": "stdout",
     "output_type": "stream",
     "text": [
      "Number of FSMS:12\n"
     ]
    },
    {
     "data": {
      "text/markdown": [
       "Fsm 0"
      ],
      "text/plain": [
       "<IPython.core.display.Markdown object>"
      ]
     },
     "metadata": {},
     "output_type": "display_data"
    },
    {
     "data": {
      "application/vnd.jupyter.widget-view+json": {
       "model_id": "4ae211c464d14675938921235411672a",
       "version_major": 2,
       "version_minor": 0
      },
      "text/plain": [
       "CytoscapeWidget(cytoscape_layout={'name': 'cola'}, cytoscape_style=[{'width': 400, 'height': 500, 'selector': …"
      ]
     },
     "metadata": {},
     "output_type": "display_data"
    },
    {
     "data": {
      "application/vnd.jupyter.widget-view+json": {
       "model_id": "f54549c53de34026bfc7bb82b3c0b446",
       "version_major": 2,
       "version_minor": 0
      },
      "text/plain": [
       "CytoscapeWidget(cytoscape_layout={'name': 'cola'}, cytoscape_style=[{'width': 400, 'height': 500, 'selector': …"
      ]
     },
     "metadata": {},
     "output_type": "display_data"
    },
    {
     "data": {
      "text/markdown": [
       "Fsm 1"
      ],
      "text/plain": [
       "<IPython.core.display.Markdown object>"
      ]
     },
     "metadata": {},
     "output_type": "display_data"
    },
    {
     "data": {
      "application/vnd.jupyter.widget-view+json": {
       "model_id": "06eecdfba88f4996a7f64cbdf2f1f969",
       "version_major": 2,
       "version_minor": 0
      },
      "text/plain": [
       "CytoscapeWidget(cytoscape_layout={'name': 'cola'}, cytoscape_style=[{'width': 400, 'height': 500, 'selector': …"
      ]
     },
     "metadata": {},
     "output_type": "display_data"
    },
    {
     "data": {
      "application/vnd.jupyter.widget-view+json": {
       "model_id": "d81cb8fb1f6e487ea58024f6d3a0a728",
       "version_major": 2,
       "version_minor": 0
      },
      "text/plain": [
       "CytoscapeWidget(cytoscape_layout={'name': 'cola'}, cytoscape_style=[{'width': 400, 'height': 500, 'selector': …"
      ]
     },
     "metadata": {},
     "output_type": "display_data"
    },
    {
     "data": {
      "text/markdown": [
       "Fsm 2"
      ],
      "text/plain": [
       "<IPython.core.display.Markdown object>"
      ]
     },
     "metadata": {},
     "output_type": "display_data"
    },
    {
     "data": {
      "application/vnd.jupyter.widget-view+json": {
       "model_id": "b71abd38047649e08bdbdcefdb0b8f0c",
       "version_major": 2,
       "version_minor": 0
      },
      "text/plain": [
       "CytoscapeWidget(cytoscape_layout={'name': 'cola'}, cytoscape_style=[{'width': 400, 'height': 500, 'selector': …"
      ]
     },
     "metadata": {},
     "output_type": "display_data"
    },
    {
     "data": {
      "application/vnd.jupyter.widget-view+json": {
       "model_id": "337935e109124653bdb69ba23c5f7926",
       "version_major": 2,
       "version_minor": 0
      },
      "text/plain": [
       "CytoscapeWidget(cytoscape_layout={'name': 'cola'}, cytoscape_style=[{'width': 400, 'height': 500, 'selector': …"
      ]
     },
     "metadata": {},
     "output_type": "display_data"
    },
    {
     "data": {
      "text/markdown": [
       "Fsm 3"
      ],
      "text/plain": [
       "<IPython.core.display.Markdown object>"
      ]
     },
     "metadata": {},
     "output_type": "display_data"
    },
    {
     "data": {
      "application/vnd.jupyter.widget-view+json": {
       "model_id": "b32826fe1b5b42c19c1d50dffbff3030",
       "version_major": 2,
       "version_minor": 0
      },
      "text/plain": [
       "CytoscapeWidget(cytoscape_layout={'name': 'cola'}, cytoscape_style=[{'width': 400, 'height': 500, 'selector': …"
      ]
     },
     "metadata": {},
     "output_type": "display_data"
    },
    {
     "data": {
      "application/vnd.jupyter.widget-view+json": {
       "model_id": "a7385126e1ff4eafb50d8d921dffbf5f",
       "version_major": 2,
       "version_minor": 0
      },
      "text/plain": [
       "CytoscapeWidget(cytoscape_layout={'name': 'cola'}, cytoscape_style=[{'width': 400, 'height': 500, 'selector': …"
      ]
     },
     "metadata": {},
     "output_type": "display_data"
    },
    {
     "data": {
      "text/markdown": [
       "## Class 3"
      ],
      "text/plain": [
       "<IPython.core.display.Markdown object>"
      ]
     },
     "metadata": {},
     "output_type": "display_data"
    },
    {
     "data": {
      "text/markdown": [
       "### Location"
      ],
      "text/plain": [
       "<IPython.core.display.Markdown object>"
      ]
     },
     "metadata": {},
     "output_type": "display_data"
    },
    {
     "name": "stdout",
     "output_type": "stream",
     "text": [
      "Number of FSMS:12\n"
     ]
    },
    {
     "data": {
      "text/markdown": [
       "Fsm 0"
      ],
      "text/plain": [
       "<IPython.core.display.Markdown object>"
      ]
     },
     "metadata": {},
     "output_type": "display_data"
    },
    {
     "data": {
      "application/vnd.jupyter.widget-view+json": {
       "model_id": "62d3627ef3ec49d4be158c9c97f333d8",
       "version_major": 2,
       "version_minor": 0
      },
      "text/plain": [
       "CytoscapeWidget(cytoscape_layout={'name': 'cola'}, cytoscape_style=[{'width': 400, 'height': 500, 'selector': …"
      ]
     },
     "metadata": {},
     "output_type": "display_data"
    },
    {
     "data": {
      "application/vnd.jupyter.widget-view+json": {
       "model_id": "9f3225ec72b84cd79bff482a1745b738",
       "version_major": 2,
       "version_minor": 0
      },
      "text/plain": [
       "CytoscapeWidget(cytoscape_layout={'name': 'cola'}, cytoscape_style=[{'width': 400, 'height': 500, 'selector': …"
      ]
     },
     "metadata": {},
     "output_type": "display_data"
    },
    {
     "data": {
      "text/markdown": [
       "Fsm 1"
      ],
      "text/plain": [
       "<IPython.core.display.Markdown object>"
      ]
     },
     "metadata": {},
     "output_type": "display_data"
    },
    {
     "data": {
      "application/vnd.jupyter.widget-view+json": {
       "model_id": "16b86117cf1e435fb42851e1e7993fe5",
       "version_major": 2,
       "version_minor": 0
      },
      "text/plain": [
       "CytoscapeWidget(cytoscape_layout={'name': 'cola'}, cytoscape_style=[{'width': 400, 'height': 500, 'selector': …"
      ]
     },
     "metadata": {},
     "output_type": "display_data"
    },
    {
     "data": {
      "application/vnd.jupyter.widget-view+json": {
       "model_id": "2a5ee8fcca074a2abc4580513d3236a0",
       "version_major": 2,
       "version_minor": 0
      },
      "text/plain": [
       "CytoscapeWidget(cytoscape_layout={'name': 'cola'}, cytoscape_style=[{'width': 400, 'height': 500, 'selector': …"
      ]
     },
     "metadata": {},
     "output_type": "display_data"
    },
    {
     "data": {
      "text/markdown": [
       "Fsm 2"
      ],
      "text/plain": [
       "<IPython.core.display.Markdown object>"
      ]
     },
     "metadata": {},
     "output_type": "display_data"
    },
    {
     "data": {
      "application/vnd.jupyter.widget-view+json": {
       "model_id": "270ae1f68be145da87fea3cacd296bca",
       "version_major": 2,
       "version_minor": 0
      },
      "text/plain": [
       "CytoscapeWidget(cytoscape_layout={'name': 'cola'}, cytoscape_style=[{'width': 400, 'height': 500, 'selector': …"
      ]
     },
     "metadata": {},
     "output_type": "display_data"
    },
    {
     "data": {
      "application/vnd.jupyter.widget-view+json": {
       "model_id": "94b3c109cd3f4717bf28a61eecd53d16",
       "version_major": 2,
       "version_minor": 0
      },
      "text/plain": [
       "CytoscapeWidget(cytoscape_layout={'name': 'cola'}, cytoscape_style=[{'width': 400, 'height': 500, 'selector': …"
      ]
     },
     "metadata": {},
     "output_type": "display_data"
    },
    {
     "data": {
      "text/markdown": [
       "Fsm 3"
      ],
      "text/plain": [
       "<IPython.core.display.Markdown object>"
      ]
     },
     "metadata": {},
     "output_type": "display_data"
    },
    {
     "data": {
      "application/vnd.jupyter.widget-view+json": {
       "model_id": "2a0c9edfa00b44c6bcb627c96b3252cb",
       "version_major": 2,
       "version_minor": 0
      },
      "text/plain": [
       "CytoscapeWidget(cytoscape_layout={'name': 'cola'}, cytoscape_style=[{'width': 400, 'height': 500, 'selector': …"
      ]
     },
     "metadata": {},
     "output_type": "display_data"
    },
    {
     "data": {
      "application/vnd.jupyter.widget-view+json": {
       "model_id": "6fc8fb0ecfab42beac1fe46d04f450ae",
       "version_major": 2,
       "version_minor": 0
      },
      "text/plain": [
       "CytoscapeWidget(cytoscape_layout={'name': 'cola'}, cytoscape_style=[{'width': 400, 'height': 500, 'selector': …"
      ]
     },
     "metadata": {},
     "output_type": "display_data"
    },
    {
     "data": {
      "text/markdown": [
       "Fsm 4"
      ],
      "text/plain": [
       "<IPython.core.display.Markdown object>"
      ]
     },
     "metadata": {},
     "output_type": "display_data"
    },
    {
     "data": {
      "application/vnd.jupyter.widget-view+json": {
       "model_id": "d8d78d143c284881a4f1b4d5c0829f98",
       "version_major": 2,
       "version_minor": 0
      },
      "text/plain": [
       "CytoscapeWidget(cytoscape_layout={'name': 'cola'}, cytoscape_style=[{'width': 400, 'height': 500, 'selector': …"
      ]
     },
     "metadata": {},
     "output_type": "display_data"
    },
    {
     "data": {
      "application/vnd.jupyter.widget-view+json": {
       "model_id": "0b663a88a41640a5aeeb3922becf3045",
       "version_major": 2,
       "version_minor": 0
      },
      "text/plain": [
       "CytoscapeWidget(cytoscape_layout={'name': 'cola'}, cytoscape_style=[{'width': 400, 'height': 500, 'selector': …"
      ]
     },
     "metadata": {},
     "output_type": "display_data"
    },
    {
     "data": {
      "text/markdown": [
       "Fsm 5"
      ],
      "text/plain": [
       "<IPython.core.display.Markdown object>"
      ]
     },
     "metadata": {},
     "output_type": "display_data"
    },
    {
     "data": {
      "application/vnd.jupyter.widget-view+json": {
       "model_id": "4919c2c670f94f1ca4487b198c2ec88b",
       "version_major": 2,
       "version_minor": 0
      },
      "text/plain": [
       "CytoscapeWidget(cytoscape_layout={'name': 'cola'}, cytoscape_style=[{'width': 400, 'height': 500, 'selector': …"
      ]
     },
     "metadata": {},
     "output_type": "display_data"
    },
    {
     "data": {
      "application/vnd.jupyter.widget-view+json": {
       "model_id": "cbd5609b746040a4b7cba456a8c5bf2d",
       "version_major": 2,
       "version_minor": 0
      },
      "text/plain": [
       "CytoscapeWidget(cytoscape_layout={'name': 'cola'}, cytoscape_style=[{'width': 400, 'height': 500, 'selector': …"
      ]
     },
     "metadata": {},
     "output_type": "display_data"
    },
    {
     "data": {
      "text/markdown": [
       "Fsm 6"
      ],
      "text/plain": [
       "<IPython.core.display.Markdown object>"
      ]
     },
     "metadata": {},
     "output_type": "display_data"
    },
    {
     "data": {
      "application/vnd.jupyter.widget-view+json": {
       "model_id": "fc1c25149d414a60b6d9ace0afb329ed",
       "version_major": 2,
       "version_minor": 0
      },
      "text/plain": [
       "CytoscapeWidget(cytoscape_layout={'name': 'cola'}, cytoscape_style=[{'width': 400, 'height': 500, 'selector': …"
      ]
     },
     "metadata": {},
     "output_type": "display_data"
    },
    {
     "data": {
      "application/vnd.jupyter.widget-view+json": {
       "model_id": "16d98531fed6476aad7f0b2d352d056c",
       "version_major": 2,
       "version_minor": 0
      },
      "text/plain": [
       "CytoscapeWidget(cytoscape_layout={'name': 'cola'}, cytoscape_style=[{'width': 400, 'height': 500, 'selector': …"
      ]
     },
     "metadata": {},
     "output_type": "display_data"
    },
    {
     "data": {
      "text/markdown": [
       "Fsm 7"
      ],
      "text/plain": [
       "<IPython.core.display.Markdown object>"
      ]
     },
     "metadata": {},
     "output_type": "display_data"
    },
    {
     "data": {
      "application/vnd.jupyter.widget-view+json": {
       "model_id": "5365cebff684437f94962c4c6e3b15af",
       "version_major": 2,
       "version_minor": 0
      },
      "text/plain": [
       "CytoscapeWidget(cytoscape_layout={'name': 'cola'}, cytoscape_style=[{'width': 400, 'height': 500, 'selector': …"
      ]
     },
     "metadata": {},
     "output_type": "display_data"
    },
    {
     "data": {
      "application/vnd.jupyter.widget-view+json": {
       "model_id": "3ec50adae9bf4fcc98236bd50935636d",
       "version_major": 2,
       "version_minor": 0
      },
      "text/plain": [
       "CytoscapeWidget(cytoscape_layout={'name': 'cola'}, cytoscape_style=[{'width': 400, 'height': 500, 'selector': …"
      ]
     },
     "metadata": {},
     "output_type": "display_data"
    },
    {
     "data": {
      "text/markdown": [
       "Fsm 8"
      ],
      "text/plain": [
       "<IPython.core.display.Markdown object>"
      ]
     },
     "metadata": {},
     "output_type": "display_data"
    },
    {
     "data": {
      "application/vnd.jupyter.widget-view+json": {
       "model_id": "06a685357c304a8eb8ec3d37b1fb4433",
       "version_major": 2,
       "version_minor": 0
      },
      "text/plain": [
       "CytoscapeWidget(cytoscape_layout={'name': 'cola'}, cytoscape_style=[{'width': 400, 'height': 500, 'selector': …"
      ]
     },
     "metadata": {},
     "output_type": "display_data"
    },
    {
     "data": {
      "application/vnd.jupyter.widget-view+json": {
       "model_id": "bb6b2a43a5d24c9495b0dbd7251c2f6a",
       "version_major": 2,
       "version_minor": 0
      },
      "text/plain": [
       "CytoscapeWidget(cytoscape_layout={'name': 'cola'}, cytoscape_style=[{'width': 400, 'height': 500, 'selector': …"
      ]
     },
     "metadata": {},
     "output_type": "display_data"
    },
    {
     "data": {
      "text/markdown": [
       "Fsm 9"
      ],
      "text/plain": [
       "<IPython.core.display.Markdown object>"
      ]
     },
     "metadata": {},
     "output_type": "display_data"
    },
    {
     "data": {
      "application/vnd.jupyter.widget-view+json": {
       "model_id": "e7cd6ef8601642e58c04c42b74dd20eb",
       "version_major": 2,
       "version_minor": 0
      },
      "text/plain": [
       "CytoscapeWidget(cytoscape_layout={'name': 'cola'}, cytoscape_style=[{'width': 400, 'height': 500, 'selector': …"
      ]
     },
     "metadata": {},
     "output_type": "display_data"
    },
    {
     "data": {
      "application/vnd.jupyter.widget-view+json": {
       "model_id": "cb9dbf0027dc4694a3f809937f0276d6",
       "version_major": 2,
       "version_minor": 0
      },
      "text/plain": [
       "CytoscapeWidget(cytoscape_layout={'name': 'cola'}, cytoscape_style=[{'width': 400, 'height': 500, 'selector': …"
      ]
     },
     "metadata": {},
     "output_type": "display_data"
    },
    {
     "data": {
      "text/markdown": [
       "Fsm 10"
      ],
      "text/plain": [
       "<IPython.core.display.Markdown object>"
      ]
     },
     "metadata": {},
     "output_type": "display_data"
    },
    {
     "data": {
      "application/vnd.jupyter.widget-view+json": {
       "model_id": "5e2c2f593ec24a54a4f8d681953be949",
       "version_major": 2,
       "version_minor": 0
      },
      "text/plain": [
       "CytoscapeWidget(cytoscape_layout={'name': 'cola'}, cytoscape_style=[{'width': 400, 'height': 500, 'selector': …"
      ]
     },
     "metadata": {},
     "output_type": "display_data"
    },
    {
     "data": {
      "application/vnd.jupyter.widget-view+json": {
       "model_id": "8fec6279a12a4572a0f89342b4282711",
       "version_major": 2,
       "version_minor": 0
      },
      "text/plain": [
       "CytoscapeWidget(cytoscape_layout={'name': 'cola'}, cytoscape_style=[{'width': 400, 'height': 500, 'selector': …"
      ]
     },
     "metadata": {},
     "output_type": "display_data"
    },
    {
     "data": {
      "text/markdown": [
       "Fsm 11"
      ],
      "text/plain": [
       "<IPython.core.display.Markdown object>"
      ]
     },
     "metadata": {},
     "output_type": "display_data"
    },
    {
     "data": {
      "application/vnd.jupyter.widget-view+json": {
       "model_id": "77a09630b56d4646bb16ecfedc812e7f",
       "version_major": 2,
       "version_minor": 0
      },
      "text/plain": [
       "CytoscapeWidget(cytoscape_layout={'name': 'cola'}, cytoscape_style=[{'width': 400, 'height': 500, 'selector': …"
      ]
     },
     "metadata": {},
     "output_type": "display_data"
    },
    {
     "data": {
      "application/vnd.jupyter.widget-view+json": {
       "model_id": "5b5b467663134b4abeab348896e10c27",
       "version_major": 2,
       "version_minor": 0
      },
      "text/plain": [
       "CytoscapeWidget(cytoscape_layout={'name': 'cola'}, cytoscape_style=[{'width': 400, 'height': 500, 'selector': …"
      ]
     },
     "metadata": {},
     "output_type": "display_data"
    }
   ],
   "source": [
    "# To see what these states are, look at the following graphs\n",
    "\n",
    "for index, fsm_graphs in enumerate(state_machines_overall_list):\n",
    "    printmd(\"## Class \" + str(index))\n",
    "    printmd(\"### \"+ class_names[index])\n",
    "    print(\"Number of FSMS:\" + str(num_fsms))\n",
    "    \n",
    "    for fsm_no, G in enumerate(fsm_graphs):  \n",
    "        printmd(\"Fsm \"+ str(fsm_no))\n",
    "        plot_cytographs_fsm(state_machines_overall_list_2[index][fsm_no], domain_name)\n",
    "        plot_cytographs_fsm(G, domain_name)"
   ]
  },
  {
   "cell_type": "markdown",
   "metadata": {},
   "source": [
    "### State Mappings: Text format"
   ]
  },
  {
   "cell_type": "code",
   "execution_count": 97,
   "metadata": {},
   "outputs": [
    {
     "data": {
      "text/markdown": [
       "## Class 0"
      ],
      "text/plain": [
       "<IPython.core.display.Markdown object>"
      ]
     },
     "metadata": {},
     "output_type": "display_data"
    },
    {
     "data": {
      "text/markdown": [
       "### Driver"
      ],
      "text/plain": [
       "<IPython.core.display.Markdown object>"
      ]
     },
     "metadata": {},
     "output_type": "display_data"
    },
    {
     "data": {
      "text/markdown": [
       "Fsm 0"
      ],
      "text/plain": [
       "<IPython.core.display.Markdown object>"
      ]
     },
     "metadata": {},
     "output_type": "display_data"
    },
    {
     "name": "stdout",
     "output_type": "stream",
     "text": [
      "{'e(boardtruck.0)|e(drivetruck.3)|s(drivetruck.3)|s(disembarktruck.0)': 0,\n",
      " 'e(walk.0)|e(disembarktruck.0)|s(boardtruck.0)|s(walk.0)': 1}\n"
     ]
    },
    {
     "data": {
      "text/markdown": [
       "## Class 1"
      ],
      "text/plain": [
       "<IPython.core.display.Markdown object>"
      ]
     },
     "metadata": {},
     "output_type": "display_data"
    },
    {
     "data": {
      "text/markdown": [
       "### Truck"
      ],
      "text/plain": [
       "<IPython.core.display.Markdown object>"
      ]
     },
     "metadata": {},
     "output_type": "display_data"
    },
    {
     "data": {
      "text/markdown": [
       "Fsm 0"
      ],
      "text/plain": [
       "<IPython.core.display.Markdown object>"
      ]
     },
     "metadata": {},
     "output_type": "display_data"
    },
    {
     "name": "stdout",
     "output_type": "stream",
     "text": [
      "{'e(loadtruck.0)|s(unloadtruck.0)': 0, 'e(unloadtruck.0)|s(loadtruck.0)': 1}\n"
     ]
    },
    {
     "data": {
      "text/markdown": [
       "## Class 2"
      ],
      "text/plain": [
       "<IPython.core.display.Markdown object>"
      ]
     },
     "metadata": {},
     "output_type": "display_data"
    },
    {
     "data": {
      "text/markdown": [
       "### Package"
      ],
      "text/plain": [
       "<IPython.core.display.Markdown object>"
      ]
     },
     "metadata": {},
     "output_type": "display_data"
    },
    {
     "data": {
      "text/markdown": [
       "Fsm 0"
      ],
      "text/plain": [
       "<IPython.core.display.Markdown object>"
      ]
     },
     "metadata": {},
     "output_type": "display_data"
    },
    {
     "name": "stdout",
     "output_type": "stream",
     "text": [
      "{'e(boardtruck.1)|e(drivetruck.0)|s(drivetruck.0)|s(disembarktruck.1)': 1,\n",
      " 'e(disembarktruck.1)|s(boardtruck.1)': 0}\n"
     ]
    },
    {
     "data": {
      "text/markdown": [
       "Fsm 1"
      ],
      "text/plain": [
       "<IPython.core.display.Markdown object>"
      ]
     },
     "metadata": {},
     "output_type": "display_data"
    },
    {
     "name": "stdout",
     "output_type": "stream",
     "text": [
      "{'e(disembarktruck.1)|s(unloadtruck.1)': 0,\n",
      " 'e(unloadtruck.1)|s(disembarktruck.1)': 1}\n"
     ]
    },
    {
     "data": {
      "text/markdown": [
       "Fsm 2"
      ],
      "text/plain": [
       "<IPython.core.display.Markdown object>"
      ]
     },
     "metadata": {},
     "output_type": "display_data"
    },
    {
     "name": "stdout",
     "output_type": "stream",
     "text": [
      "{'e(boardtruck.1)|s(loadtruck.1)': 1, 'e(loadtruck.1)|s(boardtruck.1)': 0}\n"
     ]
    },
    {
     "data": {
      "text/markdown": [
       "Fsm 3"
      ],
      "text/plain": [
       "<IPython.core.display.Markdown object>"
      ]
     },
     "metadata": {},
     "output_type": "display_data"
    },
    {
     "name": "stdout",
     "output_type": "stream",
     "text": [
      "{'e(drivetruck.0)|e(loadtruck.1)|e(unloadtruck.1)|e(disembarktruck.1)|s(boardtruck.1)|e(boardtruck.1)|s(disembarktruck.1)|s(unloadtruck.1)|s(loadtruck.1)|s(drivetruck.0)': 0}\n"
     ]
    },
    {
     "data": {
      "text/markdown": [
       "## Class 3"
      ],
      "text/plain": [
       "<IPython.core.display.Markdown object>"
      ]
     },
     "metadata": {},
     "output_type": "display_data"
    },
    {
     "data": {
      "text/markdown": [
       "### Location"
      ],
      "text/plain": [
       "<IPython.core.display.Markdown object>"
      ]
     },
     "metadata": {},
     "output_type": "display_data"
    },
    {
     "data": {
      "text/markdown": [
       "Fsm 0"
      ],
      "text/plain": [
       "<IPython.core.display.Markdown object>"
      ]
     },
     "metadata": {},
     "output_type": "display_data"
    },
    {
     "name": "stdout",
     "output_type": "stream",
     "text": [
      "{'e(disembarktruck.2)|s(unloadtruck.2)': 3,\n",
      " 'e(unloadtruck.2)|s(disembarktruck.2)': 0,\n",
      " 'e(walk.2)': 2,\n",
      " 's(walk.2)': 1}\n"
     ]
    },
    {
     "data": {
      "text/markdown": [
       "Fsm 1"
      ],
      "text/plain": [
       "<IPython.core.display.Markdown object>"
      ]
     },
     "metadata": {},
     "output_type": "display_data"
    },
    {
     "name": "stdout",
     "output_type": "stream",
     "text": [
      "{'e(disembarktruck.2)': 4,\n",
      " 'e(drivetruck.1)|s(walk.2)': 1,\n",
      " 'e(walk.2)': 2,\n",
      " 's(disembarktruck.2)': 3,\n",
      " 's(drivetruck.1)': 0}\n"
     ]
    },
    {
     "data": {
      "text/markdown": [
       "Fsm 2"
      ],
      "text/plain": [
       "<IPython.core.display.Markdown object>"
      ]
     },
     "metadata": {},
     "output_type": "display_data"
    },
    {
     "name": "stdout",
     "output_type": "stream",
     "text": [
      "{'e(drivetruck.2)|e(boardtruck.2)|s(loadtruck.2)': 2,\n",
      " 'e(loadtruck.2)|s(boardtruck.2)': 0,\n",
      " 's(drivetruck.2)': 1}\n"
     ]
    },
    {
     "data": {
      "text/markdown": [
       "Fsm 3"
      ],
      "text/plain": [
       "<IPython.core.display.Markdown object>"
      ]
     },
     "metadata": {},
     "output_type": "display_data"
    },
    {
     "name": "stdout",
     "output_type": "stream",
     "text": [
      "{'e(disembarktruck.2)|s(loadtruck.2)': 2,\n",
      " 'e(drivetruck.1)': 1,\n",
      " 'e(loadtruck.2)|s(drivetruck.1)|s(disembarktruck.2)': 0}\n"
     ]
    },
    {
     "data": {
      "text/markdown": [
       "Fsm 4"
      ],
      "text/plain": [
       "<IPython.core.display.Markdown object>"
      ]
     },
     "metadata": {},
     "output_type": "display_data"
    },
    {
     "name": "stdout",
     "output_type": "stream",
     "text": [
      "{'e(drivetruck.1)|e(walk.1)|s(walk.2)': 1,\n",
      " 'e(walk.2)|s(walk.1)': 2,\n",
      " 's(drivetruck.1)': 0}\n"
     ]
    },
    {
     "data": {
      "text/markdown": [
       "Fsm 5"
      ],
      "text/plain": [
       "<IPython.core.display.Markdown object>"
      ]
     },
     "metadata": {},
     "output_type": "display_data"
    },
    {
     "name": "stdout",
     "output_type": "stream",
     "text": [
      "{'e(drivetruck.1)|s(walk.2)': 0,\n",
      " 'e(unloadtruck.2)|s(drivetruck.1)': 3,\n",
      " 'e(walk.2)': 1,\n",
      " 's(unloadtruck.2)': 2}\n"
     ]
    },
    {
     "data": {
      "text/markdown": [
       "Fsm 6"
      ],
      "text/plain": [
       "<IPython.core.display.Markdown object>"
      ]
     },
     "metadata": {},
     "output_type": "display_data"
    },
    {
     "name": "stdout",
     "output_type": "stream",
     "text": [
      "{'e(boardtruck.2)': 3,\n",
      " 'e(drivetruck.2)': 4,\n",
      " 'e(walk.1)|s(drivetruck.2)': 1,\n",
      " 's(boardtruck.2)': 2,\n",
      " 's(walk.1)': 0}\n"
     ]
    },
    {
     "data": {
      "text/markdown": [
       "Fsm 7"
      ],
      "text/plain": [
       "<IPython.core.display.Markdown object>"
      ]
     },
     "metadata": {},
     "output_type": "display_data"
    },
    {
     "name": "stdout",
     "output_type": "stream",
     "text": [
      "{'e(drivetruck.2)|e(boardtruck.2)|s(unloadtruck.2)': 1,\n",
      " 'e(unloadtruck.2)|s(boardtruck.2)': 2,\n",
      " 's(drivetruck.2)': 0}\n"
     ]
    },
    {
     "data": {
      "text/markdown": [
       "Fsm 8"
      ],
      "text/plain": [
       "<IPython.core.display.Markdown object>"
      ]
     },
     "metadata": {},
     "output_type": "display_data"
    },
    {
     "name": "stdout",
     "output_type": "stream",
     "text": [
      "{'e(boardtruck.2)|s(unloadtruck.2)': 2,\n",
      " 'e(unloadtruck.2)|s(boardtruck.2)': 3,\n",
      " 'e(walk.1)': 1,\n",
      " 's(walk.1)': 0}\n"
     ]
    },
    {
     "data": {
      "text/markdown": [
       "Fsm 9"
      ],
      "text/plain": [
       "<IPython.core.display.Markdown object>"
      ]
     },
     "metadata": {},
     "output_type": "display_data"
    },
    {
     "name": "stdout",
     "output_type": "stream",
     "text": [
      "{'e(drivetruck.2)|s(loadtruck.2)': 0,\n",
      " 'e(loadtruck.2)': 1,\n",
      " 'e(walk.2)|s(drivetruck.2)': 3,\n",
      " 's(walk.2)': 2}\n"
     ]
    },
    {
     "data": {
      "text/markdown": [
       "Fsm 10"
      ],
      "text/plain": [
       "<IPython.core.display.Markdown object>"
      ]
     },
     "metadata": {},
     "output_type": "display_data"
    },
    {
     "name": "stdout",
     "output_type": "stream",
     "text": [
      "{'e(disembarktruck.2)|s(walk.1)|s(loadtruck.2)': 2,\n",
      " 'e(loadtruck.2)|s(disembarktruck.2)': 1,\n",
      " 'e(walk.1)': 0}\n"
     ]
    },
    {
     "data": {
      "text/markdown": [
       "Fsm 11"
      ],
      "text/plain": [
       "<IPython.core.display.Markdown object>"
      ]
     },
     "metadata": {},
     "output_type": "display_data"
    },
    {
     "name": "stdout",
     "output_type": "stream",
     "text": [
      "{'e(walk.2)|e(boardtruck.2)|e(walk.1)|e(loadtruck.2)|e(drivetruck.1)|e(drivetruck.2)|e(disembarktruck.2)|s(unloadtruck.2)|s(drivetruck.2)|e(unloadtruck.2)|s(disembarktruck.2)|s(drivetruck.1)|s(loadtruck.2)|s(boardtruck.2)|s(walk.1)|s(walk.2)': 0}\n"
     ]
    }
   ],
   "source": [
    "for index, sm_fsm in enumerate(state_mappings_class):\n",
    "    printmd(\"## Class \" + str(index))\n",
    "    printmd(\"### \"+ class_names[index])\n",
    "\n",
    "    \n",
    "    for fsm_no, mapping in enumerate(sm_fsm):\n",
    "        printmd(\"Fsm \"+ str(fsm_no))\n",
    "        pprint(mapping)"
   ]
  },
  {
   "cell_type": "code",
   "execution_count": null,
   "metadata": {},
   "outputs": [],
   "source": []
  }
 ],
 "metadata": {
  "jupytext": {
   "encoding": "# -*- coding: utf-8 -*-",
   "text_representation": {
    "extension": ".py",
    "format_name": "light",
    "format_version": "1.5",
    "jupytext_version": "1.4.2"
   }
  },
  "kernelspec": {
   "display_name": ".contextual_drl",
   "language": "python",
   "name": ".contextual_drl"
  },
  "language_info": {
   "codemirror_mode": {
    "name": "ipython",
    "version": 3
   },
   "file_extension": ".py",
   "mimetype": "text/x-python",
   "name": "python",
   "nbconvert_exporter": "python",
   "pygments_lexer": "ipython3",
   "version": "3.6.2"
  },
  "toc": {
   "base_numbering": 1,
   "nav_menu": {},
   "number_sections": true,
   "sideBar": true,
   "skip_h1_title": false,
   "title_cell": "Table of Contents",
   "title_sidebar": "Contents",
   "toc_cell": false,
   "toc_position": {
    "height": "calc(100% - 180px)",
    "left": "10px",
    "top": "150px",
    "width": "193px"
   },
   "toc_section_display": true,
   "toc_window_display": true
  },
  "varInspector": {
   "cols": {
    "lenName": 16,
    "lenType": 16,
    "lenVar": 40
   },
   "kernels_config": {
    "python": {
     "delete_cmd_postfix": "",
     "delete_cmd_prefix": "del ",
     "library": "var_list.py",
     "varRefreshCmd": "print(var_dic_list())"
    },
    "r": {
     "delete_cmd_postfix": ") ",
     "delete_cmd_prefix": "rm(",
     "library": "var_list.r",
     "varRefreshCmd": "cat(var_dic_list()) "
    }
   },
   "types_to_exclude": [
    "module",
    "function",
    "builtin_function_or_method",
    "instance",
    "_Feature"
   ],
   "window_display": false
  }
 },
 "nbformat": 4,
 "nbformat_minor": 2
}
