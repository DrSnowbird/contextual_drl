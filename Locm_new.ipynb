{
 "cells": [
  {
   "cell_type": "code",
   "execution_count": 1,
   "metadata": {},
   "outputs": [
    {
     "data": {
      "application/javascript": [
       "IPython.notebook.set_autosave_interval(0)"
      ]
     },
     "metadata": {},
     "output_type": "display_data"
    },
    {
     "name": "stdout",
     "output_type": "stream",
     "text": [
      "Autosave disabled\n"
     ]
    }
   ],
   "source": [
    "%autosave 0"
   ]
  },
  {
   "cell_type": "markdown",
   "metadata": {},
   "source": [
    "# Give instructions for making your favorite pizza! "
   ]
  },
  {
   "cell_type": "code",
   "execution_count": 48,
   "metadata": {},
   "outputs": [],
   "source": [
    "# instructions = u'''Pizza making instructions\n",
    "# Buy the dough and knead the dough.\n",
    "# Put tomato sauce on the dough.\n",
    "# Spread some cheese. Put toppings of mushrooms, paprika and olives.\n",
    "# Put it in the oven at 200 degrees for 20 minutes.\n",
    "# Take it out and deliver at Turing room.\n",
    "# '''\n",
    "\n",
    "instructions = u'''make breakfast the night before with a hash brown casserole\n",
    "Start by mixing together your cream of mushroom condensed soup sour cream salt pepper onion and cheese in a large bowl\n",
    "After these are well combined add in the hash browns and mix gently\n",
    "Spray your slow cooker with some non-stick cooking spray or coat with butter\n",
    "This will prevent sticking so you don't have a huge mess to clean up\n",
    "Pour the hash brown mixture into your slow cooker and put the cover on\n",
    "Turn the slow cooker on high and leave for 1 to 1.5 hours\n",
    "After this turn the heat to low and leave it on for 2.5 hours longer\n",
    "Turn off slow cooker and serve right away\n",
    "Keep on warm if you plan on waiting to enjoy for a little bit longer\n",
    "It's best when served with scrambled eggs\n",
    "If you want to add something unique to this recipe add your favorite vegetables\n",
    "It's generally best to use soft vegetables or those that have been slightly cooked before you add them\n",
    "This will ensure they don't turn out hard when the rest of the dish is cooked fully\n",
    "Broccoli and cheese work well together but peppers also taste great\n",
    "You can also add in cooked sausage or bacon if you want some meat in the dish\n",
    "Just make sure that the meat you add is already cooked before it's put in\n",
    "If you add in raw meat it likely won't fully cook when the rest of the dish is done and may be raw\n",
    "This is a very forgiving recipe that you can play around with and change if you want to add or omit something\n",
    "You can do everything from adding in some garlic to switching the flavor of condensed soup you use'''"
   ]
  },
  {
   "cell_type": "code",
   "execution_count": 49,
   "metadata": {},
   "outputs": [],
   "source": [
    "fname = 'cooking_1.txt'\n",
    "main_file_name = 'non_gui2.py'"
   ]
  },
  {
   "cell_type": "code",
   "execution_count": 50,
   "metadata": {},
   "outputs": [],
   "source": [
    "# replace input filename in the main file\n",
    "import re\n",
    "\n",
    "# Read in the file\n",
    "with open(main_file_name, 'r') as file :\n",
    "  filedata = file.read()\n",
    "\n",
    "# Replace the target string\n",
    "filedata = re.sub(r'input_filename = .*txt', \"input_filename = '\"+ fname, filedata)\n",
    "\n",
    "# Write the file out again\n",
    "with open(main_file_name, 'w') as file:\n",
    "  file.write(filedata)"
   ]
  },
  {
   "cell_type": "code",
   "execution_count": 51,
   "metadata": {},
   "outputs": [
    {
     "name": "stdout",
     "output_type": "stream",
     "text": [
      "make breakfast the night before with a hash brown casserole\n",
      "Start by mixing together your cream of mushroom condensed soup sour cream salt pepper onion and cheese in a large bowl\n",
      "After these are well combined add in the hash browns and mix gently\n",
      "Spray your slow cooker with some non-stick cooking spray or coat with butter\n",
      "This will prevent sticking so you don't have a huge mess to clean up\n",
      "Pour the hash brown mixture into your slow cooker and put the cover on\n",
      "Turn the slow cooker on high and leave for 1 to 1.5 hours\n",
      "After this turn the heat to low and leave it on for 2.5 hours longer\n",
      "Turn off slow cooker and serve right away\n",
      "Keep on warm if you plan on waiting to enjoy for a little bit longer\n",
      "It's best when served with scrambled eggs\n",
      "If you want to add something unique to this recipe add your favorite vegetables\n",
      "It's generally best to use soft vegetables or those that have been slightly cooked before you add them\n",
      "This will ensure they don't turn out hard when the rest of the dish is cooked fully\n",
      "Broccoli and cheese work well together but peppers also taste great\n",
      "You can also add in cooked sausage or bacon if you want some meat in the dish\n",
      "Just make sure that the meat you add is already cooked before it's put in\n",
      "If you add in raw meat it likely won't fully cook when the rest of the dish is done and may be raw\n",
      "This is a very forgiving recipe that you can play around with and change if you want to add or omit something\n",
      "You can do everything from adding in some garlic to switching the flavor of condensed soup you use\n"
     ]
    }
   ],
   "source": [
    "# Writing the instructions file into directory\n",
    "# Writing the file\n",
    "text_file = open(\"./data/final_test/cooking_1.txt\", \"w\")\n",
    "text_file.write(instructions)\n",
    "text_file.close()\n",
    "\n",
    "# Reading the file\n",
    "text_file = open(\"./data/final_test/cooking_1.txt\", \"r\")\n",
    "print(text_file.read())\n",
    "text_file.close()\n"
   ]
  },
  {
   "cell_type": "markdown",
   "metadata": {},
   "source": [
    "# Extract action sequence"
   ]
  },
  {
   "cell_type": "code",
   "execution_count": 52,
   "metadata": {},
   "outputs": [
    {
     "name": "stdout",
     "output_type": "stream",
     "text": [
      "/Users/shivam/Library/Python/3.6/lib/python/site-packages/tensorflow/python/framework/dtypes.py:526: FutureWarning: Passing (type, 1) or '1type' as a synonym of type is deprecated; in a future version of numpy, it will be understood as (type, (1,)) / '(1,)type'.\n",
      "  _np_qint8 = np.dtype([(\"qint8\", np.int8, 1)])\n",
      "/Users/shivam/Library/Python/3.6/lib/python/site-packages/tensorflow/python/framework/dtypes.py:527: FutureWarning: Passing (type, 1) or '1type' as a synonym of type is deprecated; in a future version of numpy, it will be understood as (type, (1,)) / '(1,)type'.\n",
      "  _np_quint8 = np.dtype([(\"quint8\", np.uint8, 1)])\n",
      "/Users/shivam/Library/Python/3.6/lib/python/site-packages/tensorflow/python/framework/dtypes.py:528: FutureWarning: Passing (type, 1) or '1type' as a synonym of type is deprecated; in a future version of numpy, it will be understood as (type, (1,)) / '(1,)type'.\n",
      "  _np_qint16 = np.dtype([(\"qint16\", np.int16, 1)])\n",
      "/Users/shivam/Library/Python/3.6/lib/python/site-packages/tensorflow/python/framework/dtypes.py:529: FutureWarning: Passing (type, 1) or '1type' as a synonym of type is deprecated; in a future version of numpy, it will be understood as (type, (1,)) / '(1,)type'.\n",
      "  _np_quint16 = np.dtype([(\"quint16\", np.uint16, 1)])\n",
      "/Users/shivam/Library/Python/3.6/lib/python/site-packages/tensorflow/python/framework/dtypes.py:530: FutureWarning: Passing (type, 1) or '1type' as a synonym of type is deprecated; in a future version of numpy, it will be understood as (type, (1,)) / '(1,)type'.\n",
      "  _np_qint32 = np.dtype([(\"qint32\", np.int32, 1)])\n",
      "/Users/shivam/Library/Python/3.6/lib/python/site-packages/tensorflow/python/framework/dtypes.py:535: FutureWarning: Passing (type, 1) or '1type' as a synonym of type is deprecated; in a future version of numpy, it will be understood as (type, (1,)) / '(1,)type'.\n",
      "  np_resource = np.dtype([(\"resource\", np.ubyte, 1)])\n",
      "\u001b]0;IPython: Desktop/contextual_drl\u0007Using TensorFlow backend.\n",
      "2020-03-08 14:40:26.886009: I tensorflow/core/platform/cpu_feature_guard.cc:141] Your CPU supports instructions that this TensorFlow binary was not compiled to use: AVX2 FMA\n",
      "Initializing the Environment...\n",
      "Initializing the DQN...\n",
      "WARNING:tensorflow:From /Users/shivam/Library/Python/3.6/lib/python/site-packages/tensorflow/python/framework/op_def_library.py:263: colocate_with (from tensorflow.python.framework.ops) is deprecated and will be removed in a future version.\n",
      "Instructions for updating:\n",
      "Colocations handled automatically by placer.\n",
      "2020-03-08 14:40:43,238 From /Users/shivam/Library/Python/3.6/lib/python/site-packages/tensorflow/python/framework/op_def_library.py:263: colocate_with (from tensorflow.python.framework.ops) is deprecated and will be removed in a future version.\n",
      "Instructions for updating:\n",
      "Colocations handled automatically by placer.\n",
      "__________________________________________________________________________________________________\n",
      "Layer (type)                    Output Shape         Param #     Connected to                     \n",
      "==================================================================================================\n",
      "input_1 (InputLayer)            (None, 500, 6344, 1) 0                                            \n",
      "__________________________________________________________________________________________________\n",
      "conv2d_1 (Conv2D)               (None, 499, 1, 32)   406048      input_1[0][0]                    \n",
      "__________________________________________________________________________________________________\n",
      "conv2d_2 (Conv2D)               (None, 498, 1, 32)   609056      input_1[0][0]                    \n",
      "__________________________________________________________________________________________________\n",
      "conv2d_3 (Conv2D)               (None, 497, 1, 32)   812064      input_1[0][0]                    \n",
      "__________________________________________________________________________________________________\n",
      "conv2d_4 (Conv2D)               (None, 496, 1, 32)   1015072     input_1[0][0]                    \n",
      "__________________________________________________________________________________________________\n",
      "activation_1 (Activation)       (None, 499, 1, 32)   0           conv2d_1[0][0]                   \n",
      "__________________________________________________________________________________________________\n",
      "activation_2 (Activation)       (None, 498, 1, 32)   0           conv2d_2[0][0]                   \n",
      "__________________________________________________________________________________________________\n",
      "activation_3 (Activation)       (None, 497, 1, 32)   0           conv2d_3[0][0]                   \n",
      "__________________________________________________________________________________________________\n",
      "activation_4 (Activation)       (None, 496, 1, 32)   0           conv2d_4[0][0]                   \n",
      "__________________________________________________________________________________________________\n",
      "max_pooling2d_1 (MaxPooling2D)  (None, 1, 1, 32)     0           activation_1[0][0]               \n",
      "__________________________________________________________________________________________________\n",
      "max_pooling2d_2 (MaxPooling2D)  (None, 1, 1, 32)     0           activation_2[0][0]               \n",
      "__________________________________________________________________________________________________\n",
      "max_pooling2d_3 (MaxPooling2D)  (None, 1, 1, 32)     0           activation_3[0][0]               \n",
      "__________________________________________________________________________________________________\n",
      "max_pooling2d_4 (MaxPooling2D)  (None, 1, 1, 32)     0           activation_4[0][0]               \n",
      "__________________________________________________________________________________________________\n",
      "concatenate_1 (Concatenate)     (None, 1, 4, 32)     0           max_pooling2d_1[0][0]            \n",
      "                                                                 max_pooling2d_2[0][0]            \n",
      "                                                                 max_pooling2d_3[0][0]            \n",
      "                                                                 max_pooling2d_4[0][0]            \n",
      "__________________________________________________________________________________________________\n",
      "flatten_1 (Flatten)             (None, 128)          0           concatenate_1[0][0]              \n",
      "__________________________________________________________________________________________________\n",
      "dense_1 (Dense)                 (None, 256)          33024       flatten_1[0][0]                  \n",
      "__________________________________________________________________________________________________\n",
      "dense_2 (Dense)                 (None, 2)            514         dense_1[0][0]                    \n",
      "==================================================================================================\n",
      "Total params: 2,875,778\n",
      "Trainable params: 2,875,778\n",
      "Non-trainable params: 0\n",
      "__________________________________________________________________________________________________\n",
      "None\n",
      "Initializing the Environment...\n",
      "/Users/shivam/Library/Python/3.6/lib/python/site-packages/sklearn/utils/linear_assignment_.py:21: DeprecationWarning: The linear_assignment_ module is deprecated in 0.21 and will be removed from 0.23. Use scipy.optimize.linear_sum_assignment instead.\n",
      "  DeprecationWarning)\n",
      "Initializing the DQN...\n",
      "__________________________________________________________________________________________________\n",
      "Layer (type)                    Output Shape         Param #     Connected to                     \n",
      "==================================================================================================\n",
      "input_2 (InputLayer)            (None, 100, 2604, 1) 0                                            \n",
      "__________________________________________________________________________________________________\n",
      "conv2d_5 (Conv2D)               (None, 99, 1, 32)    166688      input_2[0][0]                    \n",
      "__________________________________________________________________________________________________\n",
      "conv2d_6 (Conv2D)               (None, 98, 1, 32)    250016      input_2[0][0]                    \n",
      "__________________________________________________________________________________________________\n",
      "conv2d_7 (Conv2D)               (None, 97, 1, 32)    333344      input_2[0][0]                    \n",
      "__________________________________________________________________________________________________\n",
      "conv2d_8 (Conv2D)               (None, 96, 1, 32)    416672      input_2[0][0]                    \n",
      "__________________________________________________________________________________________________\n",
      "activation_5 (Activation)       (None, 99, 1, 32)    0           conv2d_5[0][0]                   \n",
      "__________________________________________________________________________________________________\n",
      "activation_6 (Activation)       (None, 98, 1, 32)    0           conv2d_6[0][0]                   \n",
      "__________________________________________________________________________________________________\n",
      "activation_7 (Activation)       (None, 97, 1, 32)    0           conv2d_7[0][0]                   \n",
      "__________________________________________________________________________________________________\n",
      "activation_8 (Activation)       (None, 96, 1, 32)    0           conv2d_8[0][0]                   \n",
      "__________________________________________________________________________________________________\n",
      "max_pooling2d_5 (MaxPooling2D)  (None, 1, 1, 32)     0           activation_5[0][0]               \n",
      "__________________________________________________________________________________________________\n",
      "max_pooling2d_6 (MaxPooling2D)  (None, 1, 1, 32)     0           activation_6[0][0]               \n",
      "__________________________________________________________________________________________________\n",
      "max_pooling2d_7 (MaxPooling2D)  (None, 1, 1, 32)     0           activation_7[0][0]               \n",
      "__________________________________________________________________________________________________\n",
      "max_pooling2d_8 (MaxPooling2D)  (None, 1, 1, 32)     0           activation_8[0][0]               \n",
      "__________________________________________________________________________________________________\n",
      "concatenate_2 (Concatenate)     (None, 1, 4, 32)     0           max_pooling2d_5[0][0]            \n",
      "                                                                 max_pooling2d_6[0][0]            \n",
      "                                                                 max_pooling2d_7[0][0]            \n",
      "                                                                 max_pooling2d_8[0][0]            \n",
      "__________________________________________________________________________________________________\n",
      "flatten_2 (Flatten)             (None, 128)          0           concatenate_2[0][0]              \n",
      "__________________________________________________________________________________________________\n",
      "dense_3 (Dense)                 (None, 256)          33024       flatten_2[0][0]                  \n",
      "__________________________________________________________________________________________________\n",
      "dense_4 (Dense)                 (None, 2)            514         dense_3[0][0]                    \n",
      "==================================================================================================\n",
      "Total params: 1,200,258\n",
      "Trainable params: 1,200,258\n",
      "Non-trainable params: 0\n",
      "__________________________________________________________________________________________________\n",
      "None\n",
      "Loading weights ...\n"
     ]
    },
    {
     "name": "stdout",
     "output_type": "stream",
     "text": [
      "Loaded weights from weights/cooking_act_bert.h5 ...\n",
      "Loaded weights from weights/cooking_arg_elmo.h5 ...\n",
      "weights loaded ...\n",
      "make breakfast the night before with a hash brown casserole\n",
      "Start by mixing together your cream of mushroom condensed soup sour cream salt pepper onion and cheese in a large bowl\n",
      "After these are well combined add in the hash browns and mix gently\n",
      "Spray your slow cooker with some non-stick cooking spray or coat with butter\n",
      "This will prevent sticking so you don't have a huge mess to clean up\n",
      "Pour the hash brown mixture into your slow cooker and put the cover on\n",
      "Turn the slow cooker on high and leave for 1 to 1.5 hours\n",
      "After this turn the heat to low and leave it on for 2.5 hours longer\n",
      "Turn off slow cooker and serve right away\n",
      "Keep on warm if you plan on waiting to enjoy for a little bit longer\n",
      "It's best when served with scrambled eggs\n",
      "If you want to add something unique to this recipe add your favorite vegetables\n",
      "It's generally best to use soft vegetables or those that have been slightly cooked before you add them\n",
      "This will ensure they don't turn out hard when the rest of the dish is cooked fully\n",
      "Broccoli and cheese work well together but peppers also taste great\n",
      "You can also add in cooked sausage or bacon if you want some meat in the dish\n",
      "Just make sure that the meat you add is already cooked before it's put in\n",
      "If you add in raw meat it likely won't fully cook when the rest of the dish is done and may be raw\n",
      "This is a very forgiving recipe that you can play around with and change if you want to add or omit something\n",
      "You can do everything from adding in some garlic to switching the flavor of condensed soup you use \n",
      "100%|███████████████████████████████████████████| 20/20 [00:02<00:00,  6.85it/s]\n",
      "\n",
      "NO1: make(1) breakfast(2) the(3) night(4) before(5) with(6) a(7) hash(8) brown(9) casserole(10) \n",
      "\n",
      "NO2: Start(1) by(2) mixing(3) together(4) your(5) cream(6) of(7) mushroom(8) condensed(9) soup(10) sour(11) cream(12) salt(13) pepper(14) onion(15) and(16) cheese(17) in(18) a(19) large(20) bowl(21) \n",
      "<1>  mixing (cream, mushroom, soup, cream, salt, pepper, onion, cheese)    \n",
      "\n",
      "NO3: After(1) these(2) are(3) well(4) combined(5) add(6) in(7) the(8) hash(9) browns(10) and(11) mix(12) gently(13) \n",
      "<2>  combined ()    <3>  add (browns)    <4>  mix ()    \n",
      "\n",
      "NO4: Spray(1) your(2) slow(3) cooker(4) with(5) some(6) non-stick(7) cooking(8) spray(9) or(10) coat(11) with(12) butter(13) \n",
      "<5>  Spray (cooker)    \n",
      "\n",
      "NO5: This(1) will(2) prevent(3) sticking(4) so(5) you(6) don't(7) have(8) a(9) huge(10) mess(11) to(12) clean(13) up(14) \n",
      "\n",
      "NO6: Pour(1) the(2) hash(3) brown(4) mixture(5) into(6) your(7) slow(8) cooker(9) and(10) put(11) the(12) cover(13) on(14) \n",
      "<6>  Pour (hash, mixture)    <7>  put (cover)    \n",
      "\n",
      "NO7: Turn(1) the(2) slow(3) cooker(4) on(5) high(6) and(7) leave(8) for(9) 1(10) to(11) 1.5(12) hours(13) \n",
      "<8>  Turn (cooker)    <9>  leave (cooker)    \n",
      "\n",
      "NO8: After(1) this(2) turn(3) the(4) heat(5) to(6) low(7) and(8) leave(9) it(10) on(11) for(12) 2.5(13) hours(14) longer(15) \n",
      "<10>  turn (heat)    <11>  leave (heat, it)    \n",
      "\n",
      "NO9: Turn(1) off(2) slow(3) cooker(4) and(5) serve(6) right(7) away(8) \n",
      "<12>  Turn (cooker)    <13>  serve ()    \n",
      "\n",
      "NO10: Keep(1) on(2) warm(3) if(4) you(5) plan(6) on(7) waiting(8) to(9) enjoy(10) for(11) a(12) little(13) bit(14) longer(15) \n",
      "<14>  Keep ()    <15>  enjoy ()    \n",
      "\n",
      "NO11: It's(1) best(2) when(3) served(4) with(5) scrambled(6) eggs(7) \n",
      "<16>  served (eggs)    \n",
      "\n",
      "NO12: If(1) you(2) want(3) to(4) add(5) something(6) unique(7) to(8) this(9) recipe(10) add(11) your(12) favorite(13) vegetables(14) \n",
      "<17>  add (something)    <18>  add (vegetables)    \n",
      "\n",
      "NO13: It's(1) generally(2) best(3) to(4) use(5) soft(6) vegetables(7) or(8) those(9) that(10) have(11) been(12) slightly(13) cooked(14) before(15) you(16) add(17) them(18) \n",
      "<19>  use (vegetables)    <20>  add ()    \n",
      "\n",
      "NO14: This(1) will(2) ensure(3) they(4) don't(5) turn(6) out(7) hard(8) when(9) the(10) rest(11) of(12) the(13) dish(14) is(15) cooked(16) fully(17) \n",
      "<21>  cooked (dish)    \n",
      "\n",
      "NO15: Broccoli(1) and(2) cheese(3) work(4) well(5) together(6) but(7) peppers(8) also(9) taste(10) great(11) \n",
      "\n",
      "NO16: You(1) can(2) also(3) add(4) in(5) cooked(6) sausage(7) or(8) bacon(9) if(10) you(11) want(12) some(13) meat(14) in(15) the(16) dish(17) \n",
      "<22>  add (sausage, bacon, meat)    \n",
      "\n",
      "NO17: Just(1) make(2) sure(3) that(4) the(5) meat(6) you(7) add(8) is(9) already(10) cooked(11) before(12) it's(13) put(14) in(15) \n",
      "<23>  put ()    \n",
      "\n",
      "NO18: If(1) you(2) add(3) in(4) raw(5) meat(6) it(7) likely(8) won't(9) fully(10) cook(11) when(12) the(13) rest(14) of(15) the(16) dish(17) is(18) done(19) and(20) may(21) be(22) raw(23) \n",
      "<24>  add (meat)    \n",
      "\n",
      "NO19: This(1) is(2) a(3) very(4) forgiving(5) recipe(6) that(7) you(8) can(9) play(10) around(11) with(12) and(13) change(14) if(15) you(16) want(17) to(18) add(19) or(20) omit(21) something(22) \n",
      "<25>  play (recipe)    <26>  change ()    <27>  add (something)    \n",
      "\n",
      "NO20: You(1) can(2) do(3) everything(4) from(5) adding(6) in(7) some(8) garlic(9) to(10) switching(11) the(12) flavor(13) of(14) condensed(15) soup(16) you(17) use(18) \n",
      "<28>  do (everything)    <29>  adding (garlic)    <30>  switching (flavor)    \n",
      "\n",
      "===========================\n",
      "\n",
      "mixing (cream, mushroom, soup, cream, salt, pepper, onion, cheese),combined (),add (browns),mix (),Spray (cooker),Pour (hash, mixture),put (cover),Turn (cooker),leave (cooker),turn (heat),leave (heat, it),Turn (cooker),serve (),Keep (),enjoy (),served (eggs),add (something),add (vegetables),use (vegetables),add (),cooked (dish),add (sausage, bacon, meat),put (),add (meat),play (recipe),change (),add (something),do (everything),adding (garlic),switching (flavor)\n"
     ]
    }
   ],
   "source": [
    "!python3.6 non_gui2.py"
   ]
  },
  {
   "cell_type": "markdown",
   "metadata": {},
   "source": [
    "# Learn the domain model in PDDL using LOCM2"
   ]
  },
  {
   "cell_type": "code",
   "execution_count": 43,
   "metadata": {},
   "outputs": [],
   "source": [
    "from collections import defaultdict\n",
    "import itertools\n",
    "import os\n",
    "from tabulate import tabulate\n",
    "from pprint import pprint\n",
    "import matplotlib.pyplot as plt\n",
    "%matplotlib inline\n",
    "import networkx as nx\n",
    "import pandas as pd\n",
    "pd.options.display.max_columns = 100"
   ]
  },
  {
   "cell_type": "markdown",
   "metadata": {},
   "source": [
    "## interactive-LOCM \n",
    "This code combines LOCM1 and LOCM2 algorithms and is last part of the pipeline that I use in my thesis to generate PDDL models from instructional texts.\n",
    "\n",
    "- Step 1: Find classes and make transition graphs.\n",
    "- Step 2: Get transistion sets from LOCM2 algorithm\n",
    "- Step 3: Create FSMs\n",
    "- Step 4: Perform Zero Analysis and add new FSM if necessary.\n",
    "- Step 5: Create and test hypothesis for state parameters\n",
    "- Step 6: Create and merge state parameters\n",
    "- Step 7: Remove parameter flaws\n",
    "- Step 8: Extract static preconditions\n",
    "- Step 9: Form action schemas"
   ]
  },
  {
   "cell_type": "code",
   "execution_count": 53,
   "metadata": {},
   "outputs": [],
   "source": [
    "input_file_name = \"locm_data/\"+fname\n",
    "domain_name = input_file_name.split('/')[-1].split('.')[0] #domain name is the name of the file"
   ]
  },
  {
   "cell_type": "code",
   "execution_count": 54,
   "metadata": {},
   "outputs": [
    {
     "name": "stdout",
     "output_type": "stream",
     "text": [
      "cooking_1\n"
     ]
    }
   ],
   "source": [
    "print(domain_name)"
   ]
  },
  {
   "cell_type": "markdown",
   "metadata": {},
   "source": [
    "### Read input file"
   ]
  },
  {
   "cell_type": "code",
   "execution_count": 55,
   "metadata": {},
   "outputs": [],
   "source": [
    "def read_file(file_path):\n",
    "    '''\n",
    "    Read the input data and return list of action sequences.\n",
    "    Each sequence is a list of action-argumentlist tuples.\n",
    "    '''\n",
    "    file = open(input_file_name, 'r')\n",
    "    sequences = []\n",
    "    for line in file:\n",
    "        \n",
    "        actions = []\n",
    "        arguments = []\n",
    "        if line and not line.isspace() and len(line)>1:\n",
    "            sequence = line.rstrip(\"\\n\\r\").lstrip(\"\\n\\r\").lower() \n",
    "            action_defs = sequence.split(\"),\")\n",
    "\n",
    "            for action_def in action_defs:\n",
    "                action = action_def.split('(')[0].strip(\")\\n\\r\").strip()\n",
    "                argument = action_def.split('(')[1].strip(\")\\n\\r\")\n",
    "                actions.append(action.strip())\n",
    "                argument_list = argument.split(',')\n",
    "                argument_list = [x.strip() for x in argument_list]\n",
    "                #argument_list.insert(0,'zero')\n",
    "                arguments.append(argument_list)\n",
    "                \n",
    "            \n",
    "            actarg_tuples = zip(actions,arguments)\n",
    "            sequences.append(list(actarg_tuples))\n",
    "    return sequences\n",
    "\n",
    "def print_sequences(sequences):\n",
    "    for seq in sequences:\n",
    "        for action in seq:\n",
    "            print(action)\n",
    "        print()\n",
    "\n",
    "        \n",
    "sequences = read_file(input_file_name)\n"
   ]
  },
  {
   "cell_type": "code",
   "execution_count": 56,
   "metadata": {},
   "outputs": [
    {
     "name": "stdout",
     "output_type": "stream",
     "text": [
      "('mixing', ['cream', 'mushroom', 'soup', 'cream', 'salt', 'pepper', 'onion', 'cheese'])\n",
      "('combined', [''])\n",
      "('add', ['browns'])\n",
      "('mix', [''])\n",
      "('spray', ['cooker'])\n",
      "('pour', ['hash', 'mixture'])\n",
      "('put', ['cover'])\n",
      "('turn', ['cooker'])\n",
      "('leave', ['cooker'])\n",
      "('turn', ['heat'])\n",
      "('leave', ['heat', 'it'])\n",
      "('turn', ['cooker'])\n",
      "('serve', [''])\n",
      "('keep', [''])\n",
      "('enjoy', [''])\n",
      "('served', ['eggs'])\n",
      "('add', ['something'])\n",
      "('add', ['vegetables'])\n",
      "('use', ['vegetables'])\n",
      "('add', [''])\n",
      "('cooked', ['dish'])\n",
      "('add', ['sausage', 'bacon', 'meat'])\n",
      "('put', [''])\n",
      "('add', ['meat'])\n",
      "('play', ['recipe'])\n",
      "('change', [''])\n",
      "('add', ['something'])\n",
      "('do', ['everything'])\n",
      "('adding', ['garlic'])\n",
      "('switching', ['flavor'])\n",
      "\n",
      "1\n"
     ]
    }
   ],
   "source": [
    "print_sequences(sequences)\n",
    "print(len(sequences))"
   ]
  },
  {
   "cell_type": "markdown",
   "metadata": {},
   "source": [
    "### Step 1.1: Find classes "
   ]
  },
  {
   "cell_type": "code",
   "execution_count": 57,
   "metadata": {},
   "outputs": [
    {
     "name": "stdout",
     "output_type": "stream",
     "text": [
      "\n",
      "Actions\n",
      "{'cooked', 'enjoy', 'mixing', 'use', 'put', 'add', 'combined', 'change', 'served', 'spray', 'serve', 'do', 'adding', 'pour', 'turn', 'keep', 'play', 'leave', 'switching', 'mix'}\n",
      "\n",
      "Transitions\n",
      "{'mixing.1', 'change.0', 'leave.0', 'do.0', 'enjoy.0', 'mix.0', 'keep.0', 'put.0', 'adding.0', 'turn.0', 'mixing.7', 'served.0', 'leave.1', 'mixing.4', 'use.0', 'spray.0', 'add.1', 'mixing.5', 'switching.0', 'combined.0', 'mixing.3', 'mixing.2', 'serve.0', 'pour.1', 'play.0', 'mixing.6', 'add.0', 'cooked.0', 'add.2', 'mixing.0', 'pour.0'}\n",
      "\n",
      "Arguments/Objects\n",
      "{'cheese', '', 'cover', 'pepper', 'it', 'heat', 'salt', 'dish', 'bacon', 'meat', 'everything', 'soup', 'flavor', 'onion', 'browns', 'something', 'eggs', 'recipe', 'garlic', 'cream', 'sausage', 'cooker', 'hash', 'mixture', 'vegetables', 'mushroom'}\n"
     ]
    }
   ],
   "source": [
    "transitions = set() # A transition is denoted by action_name + argument_number.\n",
    "arguments = set()\n",
    "actions = set()\n",
    "for seq in sequences:\n",
    "    for actarg_tuple in seq:\n",
    "        actions.add(actarg_tuple[0])\n",
    "        for j, arg in enumerate(actarg_tuple[1]):\n",
    "            transitions.add(actarg_tuple[0]+\".\"+str(j))\n",
    "            arguments.add(arg)\n",
    "\n",
    "print(\"\\nActions\")\n",
    "print(actions)\n",
    "print(\"\\nTransitions\")\n",
    "print(transitions)\n",
    "print(\"\\nArguments/Objects\")\n",
    "print(arguments)"
   ]
  },
  {
   "cell_type": "code",
   "execution_count": 58,
   "metadata": {},
   "outputs": [],
   "source": [
    "def get_actarg_dictionary(sequences):\n",
    "    d = defaultdict(list)\n",
    "    for seq in sequences:\n",
    "        for actarg_tuple in seq:\n",
    "            d[actarg_tuple[0]].append(actarg_tuple[1])\n",
    "    return d\n",
    "d = get_actarg_dictionary(sequences)"
   ]
  },
  {
   "cell_type": "code",
   "execution_count": 59,
   "metadata": {},
   "outputs": [],
   "source": [
    "# class util functions.\n",
    "def get_classes(d):\n",
    "    # TODO incorporate word similarity in get classes.\n",
    "    c = defaultdict(set)\n",
    "    for k,v in d.items():\n",
    "        for arg_list in v:\n",
    "            for i,object in enumerate(arg_list):\n",
    "                c[k,i].add(object)\n",
    "\n",
    "    sets = c.values()\n",
    "    classes = []\n",
    "    # remove duplicate classes\n",
    "    for s in sets:\n",
    "        if s not in classes:\n",
    "            classes.append(s)\n",
    "\n",
    "    # now do pairwise intersections of all values. If intersection, combine them; then return the final sets.\n",
    "    classes_copy = list(classes)\n",
    "    while True:\n",
    "        combinations = list(itertools.combinations(classes_copy,2))\n",
    "        intersections_count = 0\n",
    "        for combination in combinations:\n",
    "            if combination[0].intersection(combination[1]):\n",
    "                intersections_count +=1\n",
    "\n",
    "                if combination[0] in classes_copy:\n",
    "                    classes_copy.remove(combination[0])\n",
    "                if combination[1] in classes_copy:\n",
    "                    classes_copy.remove(combination[1])\n",
    "                classes_copy.append(combination[0].union(combination[1]))\n",
    "\n",
    "        if intersections_count==0:\n",
    "            # print(\"no intersections left\")\n",
    "            break\n",
    "\n",
    "    return classes_copy\n",
    "\n",
    "# TODO: Can use better approach here. NER will help.\n",
    "def get_class_names(classes):\n",
    "    # Name the class to first object found ignoring the digits in it\n",
    "    class_names = []\n",
    "    for c in classes:\n",
    "        for object in c:\n",
    "#             object = ''.join([i for i in object if not i.isdigit()])\n",
    "            class_names.append(object)\n",
    "            break\n",
    "    return class_names\n",
    "\n",
    "def get_class_index(arg,classes):\n",
    "    for class_index, c in enumerate(classes):\n",
    "        if arg in c:\n",
    "            return class_index #it is like breaking out of the loop\n",
    "    print(\"Error:class index not found\") #this statement is only executed if class index is not returned."
   ]
  },
  {
   "cell_type": "code",
   "execution_count": 60,
   "metadata": {},
   "outputs": [
    {
     "name": "stdout",
     "output_type": "stream",
     "text": [
      "\n",
      "Sorts/Classes\n",
      "[{'cream'}, {'mushroom'}, {'soup'}, {'salt'}, {'pepper'}, {'onion'}, {'cheese'}, {'bacon'}, {'hash'}, {'mixture'}, {'it'}, {'eggs'}, {'dish'}, {'recipe'}, {'everything'}, {'garlic'}, {'flavor'}, {'heat', 'cooker'}, {'', 'cover', 'browns', 'something', 'vegetables', 'meat', 'sausage'}]\n",
      "\n",
      "Extracted class names\n",
      "['cream', 'mushroom', 'soup', 'salt', 'pepper', 'onion', 'cheese', 'bacon', 'hash', 'mixture', 'it', 'eggs', 'dish', 'recipe', 'everything', 'garlic', 'flavor', 'heat', '']\n"
     ]
    }
   ],
   "source": [
    "classes = get_classes(d) #sorts of object\n",
    "print(\"\\nSorts/Classes\")\n",
    "print(classes)\n",
    "\n",
    "class_names = get_class_names(classes)\n",
    "print(\"\\nExtracted class names\")\n",
    "print(class_names)"
   ]
  },
  {
   "cell_type": "code",
   "execution_count": 65,
   "metadata": {},
   "outputs": [
    {
     "data": {
      "text/plain": [
       "''"
      ]
     },
     "execution_count": 65,
     "metadata": {},
     "output_type": "execute_result"
    }
   ],
   "source": []
  },
  {
   "cell_type": "markdown",
   "metadata": {},
   "source": [
    "# USER INPUT 1: ENTER CORRECT CLASS NAMES"
   ]
  },
  {
   "cell_type": "code",
   "execution_count": 66,
   "metadata": {},
   "outputs": [
    {
     "name": "stdout",
     "output_type": "stream",
     "text": [
      "\n",
      "Renamed class names\n",
      "['cream', 'mushroom', 'soup', 'salt', 'pepper', 'onion', 'cheese', 'bacon', 'hash', 'mixture', 'it', 'eggs', 'dish', 'recipe', 'everything', 'garlic', 'flavor', 'heat', 'unknown']\n"
     ]
    }
   ],
   "source": [
    "############ (Optional) User Input ############\n",
    "# Give user an option to change class names.\n",
    "# class_names[0] = 'rocket'\n",
    "# class_names[1] = 'hands'\n",
    "class_names[len(class_names)-1] = 'unknown'\n",
    "\n",
    "print(\"\\nRenamed class names\")\n",
    "print(class_names)\n"
   ]
  },
  {
   "cell_type": "markdown",
   "metadata": {},
   "source": [
    "#### Assumptions\n",
    "- Each object of a same class undergoes similar kind of transition.\n",
    "- Objects of same class in a same action undergo similar kind of transition."
   ]
  },
  {
   "cell_type": "code",
   "execution_count": 67,
   "metadata": {},
   "outputs": [
    {
     "name": "stdout",
     "output_type": "stream",
     "text": [
      "\n",
      "Actions\n",
      "{'cooked', 'enjoy', 'mixing', 'use', 'put', 'add', 'combined', 'change', 'served', 'spray', 'serve', 'do', 'adding', 'pour', 'turn', 'keep', 'play', 'leave', 'switching', 'mix'}\n",
      "\n",
      "Transitions\n",
      "{'mixing.1', 'change.0', 'leave.0', 'do.0', 'enjoy.0', 'mix.0', 'keep.0', 'put.0', 'adding.0', 'turn.0', 'mixing.7', 'served.0', 'leave.1', 'mixing.4', 'use.0', 'spray.0', 'add.1', 'mixing.5', 'switching.0', 'combined.0', 'mixing.3', 'mixing.2', 'serve.0', 'pour.1', 'play.0', 'mixing.6', 'add.0', 'cooked.0', 'add.2', 'mixing.0', 'pour.0'}\n",
      "{'serve.unknown.0', 'mixing.cream.3', 'mixing.cream.0', 'mixing.pepper.5', 'turn.heat.0', 'keep.unknown.0', 'switching.flavor.0', 'add.unknown.0', 'mixing.cheese.7', 'adding.garlic.0', 'mixing.soup.2', 'enjoy.unknown.0', 'add.unknown.2', 'combined.unknown.0', 'change.unknown.0', 'add.bacon.1', 'do.everything.0', 'mixing.salt.4', 'leave.it.1', 'leave.heat.0', 'pour.mixture.1', 'served.eggs.0', 'mixing.onion.6', 'use.unknown.0', 'play.recipe.0', 'pour.hash.0', 'put.unknown.0', 'cooked.dish.0', 'mixing.mushroom.1', 'mix.unknown.0', 'spray.heat.0'}\n",
      "\n",
      "Arguments/Objects\n",
      "{'cheese', '', 'cover', 'pepper', 'it', 'heat', 'salt', 'dish', 'bacon', 'meat', 'everything', 'soup', 'flavor', 'onion', 'browns', 'something', 'eggs', 'recipe', 'garlic', 'cream', 'sausage', 'cooker', 'hash', 'mixture', 'vegetables', 'mushroom'}\n"
     ]
    }
   ],
   "source": [
    "# change transitions to be more meaningful by incorporating class_names.\n",
    "full_transitions = set()\n",
    "for seq in sequences:\n",
    "    for actarg_tuple in seq:\n",
    "        actions.add(actarg_tuple[0])\n",
    "        for j, arg in enumerate(actarg_tuple[1]):\n",
    "            full_transitions.add(actarg_tuple[0]+\".\"+class_names[get_class_index(arg,classes)]+\".\"+str(j))\n",
    "            arguments.add(arg)\n",
    "\n",
    "print(\"\\nActions\")\n",
    "print(actions)\n",
    "print(\"\\nTransitions\")\n",
    "print(transitions)\n",
    "print(full_transitions)\n",
    "print(\"\\nArguments/Objects\")\n",
    "print(arguments)"
   ]
  },
  {
   "cell_type": "code",
   "execution_count": 68,
   "metadata": {},
   "outputs": [
    {
     "name": "stdout",
     "output_type": "stream",
     "text": [
      "\n",
      "Number of Actions: 20,\n",
      "Number of unique transitions: 31,\n",
      "Number of unique objects (arguments): 26,\n",
      "Number of classes/sorts: 19\n"
     ]
    }
   ],
   "source": [
    "print(\"\\nNumber of Actions: {},\\nNumber of unique transitions: {},\\nNumber of unique objects (arguments): {},\\nNumber of classes/sorts: {}\".format(len(actions), len(transitions), len(arguments), len(classes)))"
   ]
  },
  {
   "cell_type": "markdown",
   "metadata": {},
   "source": [
    "### Step 1.2: Make transition graphs\n",
    "\n",
    "User can fix these easily as well. (Cytoscape)."
   ]
  },
  {
   "cell_type": "markdown",
   "metadata": {},
   "source": [
    "Building Transition graph util"
   ]
  },
  {
   "cell_type": "code",
   "execution_count": 69,
   "metadata": {},
   "outputs": [],
   "source": [
    "def build_and_save_transition_graphs(classes, domain_name, class_names):\n",
    "    # There should be a graph for each class of objects.\n",
    "    graphs = []  # number of graphs = number of sorts.\n",
    "    # Initialize all graphs empty\n",
    "    for sort in classes:\n",
    "        graphs.append(nx.DiGraph())\n",
    "\n",
    "    consecutive_transition_lists = [] #list of consecutive transitions per object instance per sequence.\n",
    "\n",
    "    for m, arg in enumerate(arguments):  # for all arguments (objects found in sequences)\n",
    "        for n, seq in enumerate(sequences):  # for all sequences\n",
    "            consecutive_transition_list = list()  # consecutive transition list for a sequence and an object (arg)\n",
    "            for i, actarg_tuple in enumerate(seq):\n",
    "                for j, arg_prime in enumerate(actarg_tuple[1]):  # for all arguments in actarg tuples\n",
    "                    if arg == arg_prime:  # if argument matches arg\n",
    "                        node = actarg_tuple[0] + \".\" +  str(j)\n",
    "#                         node = actarg_tuple[0] +  \".\" + class_names[get_class_index(arg,classes)] + \".\" +  str(j)  # name the node of graph which represents a transition\n",
    "                        consecutive_transition_list.append(node)  # add node to the cons_transition for sequence and argument\n",
    "\n",
    "                        # for each class append the nodes to the graph of that class\n",
    "                        class_index = get_class_index(arg_prime, classes)  # get index of class to which the object belongs to\n",
    "                        graphs[class_index].add_node(node)  # add node to the graph of that class\n",
    "\n",
    "            consecutive_transition_lists.append([n, arg, consecutive_transition_list])\n",
    "\n",
    "    # print(consecutive_transition_lists)\n",
    "    # for all consecutive transitions add edges to the appropriate graphs.\n",
    "    for cons_trans_list in consecutive_transition_lists:\n",
    "        # print(cons_trans_list)\n",
    "        seq_no = cons_trans_list[0]  # get sequence number\n",
    "        arg = cons_trans_list[1]  # get argument\n",
    "        class_index = get_class_index(arg, classes)  # get index of class\n",
    "        # add directed edges to graph of that class\n",
    "        for i in range(0, len(cons_trans_list[2]) - 1):\n",
    "                if graphs[class_index].has_edge(cons_trans_list[2][i], cons_trans_list[2][i + 1]):\n",
    "                    graphs[class_index][cons_trans_list[2][i]][cons_trans_list[2][i + 1]]['weight'] += 1\n",
    "                else:\n",
    "                    graphs[class_index].add_edge(cons_trans_list[2][i], cons_trans_list[2][i + 1], weight=1)\n",
    "\n",
    "\n",
    "    \n",
    "    # make directory if doesn't exist\n",
    "    dirName = \"output/\"+ domain_name\n",
    "    if not os.path.exists(dirName):\n",
    "        os.makedirs(dirName)\n",
    "        print(\"Directory \", dirName, \" Created \")\n",
    "    else:\n",
    "        print(\"Directory \", dirName, \" already exists\")\n",
    "    empty_directory(dirName)\n",
    "\n",
    "\n",
    "    # plot and save all the graphs\n",
    "    adjacency_matrix_list = plot_and_save(graphs) # list of adjacency matrices per class\n",
    "\n",
    "    return adjacency_matrix_list\n",
    "\n",
    "def plot_and_save(graphs):\n",
    "    adjacency_matrix_list = [] # list of adjacency matrices per class\n",
    "    \n",
    "    for index, G in enumerate(graphs):\n",
    "        # TODO: Can use cytoscape or gephi for changes in Transition graphs (due to errors in data extracted).\n",
    "        nx.write_graphml(G, \"output/\"+ domain_name + \"/\" +  class_names[index] + \".graphml\")\n",
    "\n",
    "        nx.draw(G, arrow_style='fancy', with_labels=True)\n",
    "        labels = nx.get_edge_attributes(G, 'weight')\n",
    "        pos = nx.spring_layout(G)\n",
    "        nx.draw_networkx_edge_labels(G, pos, edge_labels=labels)\n",
    "        plt.show()\n",
    "        print(\"Nodes:{}\".format(G.nodes()))\n",
    "        print(\"Edges:{}\".format(G.edges()))\n",
    "\n",
    "        # TODO: save dataframes in cache and reload them.\n",
    "        # A = nx.to_numpy_matrix(G, nodelist=G.nodes())\n",
    "        \n",
    "        df = nx.to_pandas_adjacency(G, nodelist=G.nodes(), dtype=int)\n",
    "        adjacency_matrix_list.append(df)\n",
    "    return adjacency_matrix_list"
   ]
  },
  {
   "cell_type": "markdown",
   "metadata": {},
   "source": [
    "##### Utils"
   ]
  },
  {
   "cell_type": "code",
   "execution_count": 70,
   "metadata": {},
   "outputs": [],
   "source": [
    "def empty_directory(folder):\n",
    "    for the_file in os.listdir(folder):\n",
    "        file_path = os.path.join(folder, the_file)\n",
    "        try:\n",
    "            if os.path.isfile(file_path):\n",
    "                os.unlink(file_path)\n",
    "            # elif os.path.isdir(file_path): shutil.rmtree(file_path)\n",
    "        except Exception as e:\n",
    "            print(e)\n",
    "\n",
    "def findsubsets(S,m):\n",
    "    return set(itertools.combinations(S, m))\n",
    "\n",
    "def print_table(matrix):\n",
    "    print(tabulate(matrix, headers='keys', tablefmt='github'))"
   ]
  },
  {
   "cell_type": "markdown",
   "metadata": {},
   "source": [
    "##### Transition Graphs"
   ]
  },
  {
   "cell_type": "code",
   "execution_count": 71,
   "metadata": {},
   "outputs": [
    {
     "name": "stdout",
     "output_type": "stream",
     "text": [
      "Directory  output/cooking_1  Created \n"
     ]
    },
    {
     "name": "stderr",
     "output_type": "stream",
     "text": [
      "/Users/shivam/Library/Python/3.6/lib/python/site-packages/networkx/drawing/nx_pylab.py:579: MatplotlibDeprecationWarning: \n",
      "The iterable function was deprecated in Matplotlib 3.1 and will be removed in 3.3. Use np.iterable instead.\n",
      "  if not cb.iterable(width):\n",
      "/Users/shivam/Library/Python/3.6/lib/python/site-packages/networkx/drawing/nx_pylab.py:676: MatplotlibDeprecationWarning: \n",
      "The iterable function was deprecated in Matplotlib 3.1 and will be removed in 3.3. Use np.iterable instead.\n",
      "  if cb.iterable(node_size):  # many node sizes\n"
     ]
    },
    {
     "data": {
      "image/png": "[encoded data removed]",
      "text/plain": [
       "<Figure size 432x288 with 1 Axes>"
      ]
     },
     "metadata": {},
     "output_type": "display_data"
    },
    {
     "name": "stdout",
     "output_type": "stream",
     "text": [
      "Nodes:['mixing.0', 'mixing.3']\n",
      "Edges:[('mixing.0', 'mixing.3')]\n"
     ]
    },
    {
     "data": {
      "image/png": "[encoded data removed]",
      "text/plain": [
       "<Figure size 432x288 with 1 Axes>"
      ]
     },
     "metadata": {},
     "output_type": "display_data"
    },
    {
     "name": "stdout",
     "output_type": "stream",
     "text": [
      "Nodes:['mixing.1']\n",
      "Edges:[]\n"
     ]
    },
    {
     "data": {
      "image/png": "[encoded data removed]",
      "text/plain": [
       "<Figure size 432x288 with 1 Axes>"
      ]
     },
     "metadata": {},
     "output_type": "display_data"
    },
    {
     "name": "stdout",
     "output_type": "stream",
     "text": [
      "Nodes:['mixing.2']\n",
      "Edges:[]\n"
     ]
    },
    {
     "data": {
      "image/png": "[encoded data removed]",
      "text/plain": [
       "<Figure size 432x288 with 1 Axes>"
      ]
     },
     "metadata": {},
     "output_type": "display_data"
    },
    {
     "name": "stdout",
     "output_type": "stream",
     "text": [
      "Nodes:['mixing.4']\n",
      "Edges:[]\n"
     ]
    },
    {
     "data": {
      "image/png": "[encoded data removed]",
      "text/plain": [
       "<Figure size 432x288 with 1 Axes>"
      ]
     },
     "metadata": {},
     "output_type": "display_data"
    },
    {
     "name": "stdout",
     "output_type": "stream",
     "text": [
      "Nodes:['mixing.5']\n",
      "Edges:[]\n"
     ]
    },
    {
     "data": {
      "image/png": "[encoded data removed]",
      "text/plain": [
       "<Figure size 432x288 with 1 Axes>"
      ]
     },
     "metadata": {},
     "output_type": "display_data"
    },
    {
     "name": "stdout",
     "output_type": "stream",
     "text": [
      "Nodes:['mixing.6']\n",
      "Edges:[]\n"
     ]
    },
    {
     "data": {
      "image/png": "[encoded data removed]",
      "text/plain": [
       "<Figure size 432x288 with 1 Axes>"
      ]
     },
     "metadata": {},
     "output_type": "display_data"
    },
    {
     "name": "stdout",
     "output_type": "stream",
     "text": [
      "Nodes:['mixing.7']\n",
      "Edges:[]\n"
     ]
    },
    {
     "data": {
      "image/png": "[encoded data removed]",
      "text/plain": [
       "<Figure size 432x288 with 1 Axes>"
      ]
     },
     "metadata": {},
     "output_type": "display_data"
    },
    {
     "name": "stdout",
     "output_type": "stream",
     "text": [
      "Nodes:['add.1']\n",
      "Edges:[]\n"
     ]
    },
    {
     "data": {
      "image/png": "[encoded data removed]",
      "text/plain": [
       "<Figure size 432x288 with 1 Axes>"
      ]
     },
     "metadata": {},
     "output_type": "display_data"
    },
    {
     "name": "stdout",
     "output_type": "stream",
     "text": [
      "Nodes:['pour.0']\n",
      "Edges:[]\n"
     ]
    },
    {
     "data": {
      "image/png": "[encoded data removed]",
      "text/plain": [
       "<Figure size 432x288 with 1 Axes>"
      ]
     },
     "metadata": {},
     "output_type": "display_data"
    },
    {
     "name": "stdout",
     "output_type": "stream",
     "text": [
      "Nodes:['pour.1']\n",
      "Edges:[]\n"
     ]
    },
    {
     "data": {
      "image/png": "[encoded data removed]",
      "text/plain": [
       "<Figure size 432x288 with 1 Axes>"
      ]
     },
     "metadata": {},
     "output_type": "display_data"
    },
    {
     "name": "stdout",
     "output_type": "stream",
     "text": [
      "Nodes:['leave.1']\n",
      "Edges:[]\n"
     ]
    },
    {
     "data": {
      "image/png": "[encoded data removed]",
      "text/plain": [
       "<Figure size 432x288 with 1 Axes>"
      ]
     },
     "metadata": {},
     "output_type": "display_data"
    },
    {
     "name": "stdout",
     "output_type": "stream",
     "text": [
      "Nodes:['served.0']\n",
      "Edges:[]\n"
     ]
    },
    {
     "data": {
      "image/png": "[encoded data removed]",
      "text/plain": [
       "<Figure size 432x288 with 1 Axes>"
      ]
     },
     "metadata": {},
     "output_type": "display_data"
    },
    {
     "name": "stdout",
     "output_type": "stream",
     "text": [
      "Nodes:['cooked.0']\n",
      "Edges:[]\n"
     ]
    },
    {
     "data": {
      "image/png": "[encoded data removed]",
      "text/plain": [
       "<Figure size 432x288 with 1 Axes>"
      ]
     },
     "metadata": {},
     "output_type": "display_data"
    },
    {
     "name": "stdout",
     "output_type": "stream",
     "text": [
      "Nodes:['play.0']\n",
      "Edges:[]\n"
     ]
    },
    {
     "data": {
      "image/png": "[encoded data removed]",
      "text/plain": [
       "<Figure size 432x288 with 1 Axes>"
      ]
     },
     "metadata": {},
     "output_type": "display_data"
    },
    {
     "name": "stdout",
     "output_type": "stream",
     "text": [
      "Nodes:['do.0']\n",
      "Edges:[]\n"
     ]
    },
    {
     "data": {
      "image/png": "[encoded data removed]",
      "text/plain": [
       "<Figure size 432x288 with 1 Axes>"
      ]
     },
     "metadata": {},
     "output_type": "display_data"
    },
    {
     "name": "stdout",
     "output_type": "stream",
     "text": [
      "Nodes:['adding.0']\n",
      "Edges:[]\n"
     ]
    },
    {
     "data": {
      "image/png": "[encoded data removed]",
      "text/plain": [
       "<Figure size 432x288 with 1 Axes>"
      ]
     },
     "metadata": {},
     "output_type": "display_data"
    },
    {
     "name": "stdout",
     "output_type": "stream",
     "text": [
      "Nodes:['switching.0']\n",
      "Edges:[]\n"
     ]
    },
    {
     "data": {
      "image/png": "[encoded data removed]",
      "text/plain": [
       "<Figure size 432x288 with 1 Axes>"
      ]
     },
     "metadata": {},
     "output_type": "display_data"
    },
    {
     "name": "stdout",
     "output_type": "stream",
     "text": [
      "Nodes:['turn.0', 'leave.0', 'spray.0']\n",
      "Edges:[('turn.0', 'leave.0'), ('leave.0', 'turn.0'), ('spray.0', 'turn.0')]\n"
     ]
    },
    {
     "data": {
      "image/png": "[encoded data removed]",
      "text/plain": [
       "<Figure size 432x288 with 1 Axes>"
      ]
     },
     "metadata": {},
     "output_type": "display_data"
    },
    {
     "name": "stdout",
     "output_type": "stream",
     "text": [
      "Nodes:['combined.0', 'mix.0', 'serve.0', 'keep.0', 'enjoy.0', 'add.0', 'put.0', 'change.0', 'add.2', 'use.0']\n",
      "Edges:[('combined.0', 'mix.0'), ('mix.0', 'serve.0'), ('serve.0', 'keep.0'), ('keep.0', 'enjoy.0'), ('enjoy.0', 'add.0'), ('add.0', 'put.0'), ('add.0', 'add.0'), ('add.0', 'use.0'), ('put.0', 'change.0'), ('add.2', 'add.0')]\n"
     ]
    }
   ],
   "source": [
    "#### Build weighted directed graphs for transitions.\n",
    "adjacency_matrix_list = build_and_save_transition_graphs(classes, domain_name, class_names)"
   ]
  },
  {
   "cell_type": "markdown",
   "metadata": {},
   "source": [
    "### Step 2: Get Transition Sets from LOCM2\n",
    "\n",
    "Algorithm: LOCM2\n",
    "Input : \n",
    "- T_all = set of observed transitions for a sort/class\n",
    "- H : Set of holes - each hole is a set of two transitions.\n",
    "- P : Set of pairs <t1,t2> i.e. consecutive transitions.\n",
    "- E : Set of example sequences of actions.\n",
    "Output:\n",
    "- S : Set of transition sets.\n",
    "#### Finding holes"
   ]
  },
  {
   "cell_type": "code",
   "execution_count": 72,
   "metadata": {},
   "outputs": [],
   "source": [
    "def get_adjacency_matrix_with_holes(adjacency_matrix_list):\n",
    "    adjacency_matrix_list_with_holes = []\n",
    "    for index,adjacency_matrix in enumerate(adjacency_matrix_list):\n",
    "        # print(\"\\n ROWS ===========\")\n",
    "        df = adjacency_matrix.copy()\n",
    "        df1 = adjacency_matrix.copy()\n",
    "\n",
    "        # for particular adjacency matrix's copy, loop over all pairs of rows\n",
    "        for i in range(df.shape[0] - 1):\n",
    "            for j in range(i+1, df.shape[0]):\n",
    "                idx1, idx2 = i, j\n",
    "                row1, row2 = df.iloc[idx1,:], df.iloc[idx2, :] #we have now all pairs of rows\n",
    "\n",
    "                common_values_flag = False #for each two rows we have a common_values_flag\n",
    "\n",
    "                # if there is a common value between two rows, turn common value flag to true\n",
    "                for col in range(row1.shape[0]):\n",
    "                    if row1.iloc[col] > 0 and row2.iloc[col] > 0:\n",
    "                        common_values_flag = True\n",
    "                        break\n",
    "\n",
    "                # now if two rows have common values, we need to check for holes.\n",
    "                if common_values_flag:\n",
    "                    for col in range(row1.shape[0]):\n",
    "                        if row1.iloc[col] > 0 and row2.iloc[col] == 0:\n",
    "                            df1.iloc[idx2,col] = 'hole'\n",
    "                        elif row1.iloc[col] == 0 and row2.iloc[col] > 0:\n",
    "                            df1.iloc[idx1, col] = 'hole'\n",
    "\n",
    "        adjacency_matrix_list_with_holes.append(df1)\n",
    "    return adjacency_matrix_list_with_holes"
   ]
  },
  {
   "cell_type": "code",
   "execution_count": 73,
   "metadata": {},
   "outputs": [],
   "source": [
    "adjacency_matrix_list_with_holes = get_adjacency_matrix_with_holes(adjacency_matrix_list)\n",
    "\n",
    "### Printing FSM matrices with and without holes\n",
    "#for index,adjacency_matrix in enumerate(adjacency_matrix_list):\n",
    "    #print(\"\\n==========\" + class_names[index] + \"==========\")\n",
    "    # print(adjacency_matrix)\n",
    "    #print(tabulate(adjacency_matrix, headers='keys', tablefmt='github'))\n",
    "\n",
    "    #print(\"\\n===== HOLES: \" + class_names[index] + \"==========\")\n",
    "    #print(tabulate(adjacency_matrix_list_with_holes[index], headers='keys', tablefmt='github'))\n"
   ]
  },
  {
   "cell_type": "code",
   "execution_count": 74,
   "metadata": {},
   "outputs": [],
   "source": [
    "# Create list of set of holes per class (H)\n",
    "holes_per_class = []\n",
    "\n",
    "for index,df in enumerate(adjacency_matrix_list_with_holes):\n",
    "    holes = set()\n",
    "    for i in range(df.shape[0]):\n",
    "        for j in range(df.shape[1]):\n",
    "            if df.iloc[i,j] == 'hole':\n",
    "                holes.add(frozenset({df.index[i] , df.columns[j]}))\n",
    "    holes_per_class.append(holes)\n",
    "# for i, hole in enumerate(holes_per_class):\n",
    "#     print(class_names[i]+\":\")\n",
    "#     for h in hole:\n",
    "#         print(list(h))"
   ]
  },
  {
   "cell_type": "code",
   "execution_count": 75,
   "metadata": {},
   "outputs": [
    {
     "name": "stdout",
     "output_type": "stream",
     "text": [
      "cream:['mixing.0' 'mixing.3']\n",
      "mushroom:['mixing.1']\n",
      "soup:['mixing.2']\n",
      "salt:['mixing.4']\n",
      "pepper:['mixing.5']\n",
      "onion:['mixing.6']\n",
      "cheese:['mixing.7']\n",
      "bacon:['add.1']\n",
      "hash:['pour.0']\n",
      "mixture:['pour.1']\n",
      "it:['leave.1']\n",
      "eggs:['served.0']\n",
      "dish:['cooked.0']\n",
      "recipe:['play.0']\n",
      "everything:['do.0']\n",
      "garlic:['adding.0']\n",
      "flavor:['switching.0']\n",
      "heat:['turn.0' 'leave.0' 'spray.0']\n",
      "unknown:['combined.0' 'mix.0' 'serve.0' 'keep.0' 'enjoy.0' 'add.0' 'put.0'\n",
      " 'change.0' 'add.2' 'use.0']\n"
     ]
    }
   ],
   "source": [
    "# List of transitions per class (T_all). It is just a set of transitions that occur for a class.\n",
    "transitions_per_class = []\n",
    "for index, df in enumerate(adjacency_matrix_list_with_holes):\n",
    "    transitions_per_class.append(df.columns.values)\n",
    "for i, transition in enumerate(transitions_per_class):\n",
    "    print('{}:{}'.format(class_names[i], transition))"
   ]
  },
  {
   "cell_type": "code",
   "execution_count": 76,
   "metadata": {},
   "outputs": [],
   "source": [
    "def get_consecutive_transitions_per_class(adjacency_matrix_list_with_holes):\n",
    "    consecutive_transitions_per_class = []\n",
    "    for index, df in enumerate(adjacency_matrix_list_with_holes):\n",
    "        consecutive_transitions = set()  # for a class\n",
    "        for i in range(df.shape[0]):\n",
    "            for j in range(df.shape[1]):\n",
    "                if df.iloc[i, j] != 'hole':\n",
    "                    if df.iloc[i, j] > 0:\n",
    "                        # print(\"(\" + df.index[i] + \",\" + df.columns[j] + \")\")\n",
    "                        consecutive_transitions.add((df.index[i], df.columns[j]))\n",
    "        consecutive_transitions_per_class.append(consecutive_transitions)\n",
    "    return consecutive_transitions_per_class\n",
    "\n",
    "\n"
   ]
  },
  {
   "cell_type": "code",
   "execution_count": 77,
   "metadata": {},
   "outputs": [],
   "source": [
    "#  Create list of consecutive transitions per class (P). If value is not null, ordered pair i,j would be consecutive transitions per class\n",
    "consecutive_transitions_per_class = get_consecutive_transitions_per_class(adjacency_matrix_list_with_holes)\n",
    "# for i, transition in enumerate(consecutive_transitions_per_class):\n",
    "#     print(class_names[i]+\":\")\n",
    "#     for x in list(transition):\n",
    "#         print(x)\n",
    "# #     print('{}:{}'.format(class_names[i], transition))\n",
    "#     print()"
   ]
  },
  {
   "cell_type": "code",
   "execution_count": 78,
   "metadata": {},
   "outputs": [
    {
     "name": "stdout",
     "output_type": "stream",
     "text": [
      "######## Getting transitions sets for each class using LOCM2 ######\n"
     ]
    }
   ],
   "source": [
    "def check_well_formed(subset_df):\n",
    "    # got the adjacency matrix subset\n",
    "    df = subset_df.copy()\n",
    "\n",
    "    # for particular adjacency matrix's copy, loop over all pairs of rows\n",
    "    for i in range(df.shape[0] - 1):\n",
    "        for j in range(i + 1, df.shape[0]):\n",
    "            idx1, idx2 = i, j\n",
    "            row1, row2 = df.iloc[idx1, :], df.iloc[idx2, :]  # we have now all pairs of rows\n",
    "\n",
    "            common_values_flag = False  # for each two rows we have a common_values_flag\n",
    "\n",
    "            # if there is a common value between two rows, turn common value flag to true\n",
    "            for col in range(row1.shape[0]):\n",
    "                if row1.iloc[col] > 0 and row2.iloc[col] > 0:\n",
    "                    common_values_flag = True\n",
    "                    break\n",
    "\n",
    "            # now if two rows have common values, we need to check for holes.\n",
    "            if common_values_flag:\n",
    "                for col in range(row1.shape[0]):\n",
    "                    if row1.iloc[col] > 0 and row2.iloc[col] == 0:\n",
    "                        return False\n",
    "                    elif row1.iloc[col] == 0 and row2.iloc[col] > 0:\n",
    "                        return False\n",
    "    return True\n",
    "\n",
    "def check_valid(subset_df,consecutive_transitions_per_class):\n",
    "\n",
    "    # Reasoning: If we check against all consecutive transitions of all classes, we essentially checked against all example sequences.\n",
    "    # You check the candidate set which is well-formed (subset df against all consecutive transitions)\n",
    "\n",
    "    # got the adjacency matrix subset\n",
    "    df = subset_df.copy()\n",
    "\n",
    "    # for particular adjacency matrix's copy, loop over all pairs of rows\n",
    "    for i in range(df.shape[0]):\n",
    "        for j in range(df.shape[0]):\n",
    "            if df.iloc[i,j] > 0:\n",
    "                valid_val_flag = False\n",
    "                ordered_pair = (df.index[i], df.columns[j])\n",
    "                for ct_list in consecutive_transitions_per_class:\n",
    "                    for ct in ct_list:\n",
    "                        if ordered_pair == ct:\n",
    "                            valid_val_flag=True\n",
    "                # if after all iteration ordered pair is not found, mark the subset as invalid.\n",
    "                if not valid_val_flag:\n",
    "                    return False\n",
    "    return True\n",
    "\n",
    "\n",
    "def locm2_get_transition_sets_per_class(holes_per_class, transitions_per_class, consecutive_transitions_per_class):\n",
    "    \"\"\" LOCM 2 Algorithm\"\"\"\n",
    "    transition_sets_per_class = []\n",
    "\n",
    "    # for each hole in a class of objects.\n",
    "    for index, holes in enumerate(holes_per_class):\n",
    "        class_name = class_names[index]\n",
    "#         print(\"*********************************************************************************\")\n",
    "#         print()\n",
    "#         print(class_name)\n",
    "#         print(\"Number of holes: \"+ str(len(holes))) # if number of holes == 0 then class is well-formed i.e. shouldn't change.\n",
    "#         print(holes)\n",
    "#         print(\"Transitions of the class (T_all):\")\n",
    "#         print(transitions_per_class[index])\n",
    "#         print(\"Number of values: \" + str(len(consecutive_transitions_per_class[index])))\n",
    "#         print(\"Transition Pairs per class (P):\")\n",
    "#         print(consecutive_transitions_per_class[index])\n",
    "#         print()\n",
    "\n",
    "        transition_set_list = [] #transition_sets_of_a_class, # intially its empty\n",
    "#         print(\"\\n===========CHECKING CANDIDATE SETS OF CLASS \" + class_name + \" FOR WELL_FORMEDNESS AND VALIDITY========\")\n",
    "        if len(holes) > 0: # if there are any holes for a class\n",
    "            for hole in holes:\n",
    "                is_hole_already_covered_flag = False\n",
    "                if len(transition_set_list)>0:\n",
    "                    for s_prime in transition_set_list:\n",
    "                        if hole.issubset(s_prime):\n",
    "                            is_hole_already_covered_flag = True\n",
    "                            break\n",
    "                # discover a set which includes hole and is well-formed and valid against test data.\n",
    "                if not is_hole_already_covered_flag: # if not covered, do BFS with sets of increasing sizes starting with s=hole\n",
    "                    s = hole.copy()\n",
    "                    candidate_sets = []\n",
    "                    for i in range(len(s)+1,len(transitions_per_class[index])): # all subsets of T_all starting from hole's len +1\n",
    "                        subsets = findsubsets(transitions_per_class[index],i)\n",
    "\n",
    "                        # append the subsets which are subset of\n",
    "                        for candidate_set in subsets:\n",
    "                            if s.issubset(candidate_set):\n",
    "                                candidate_sets.append(set(candidate_set))\n",
    "\n",
    "                        # print(\"\\n===========CHECKING CANDIDATE SETS FOR WELL_FORMEDNESS AND VALIDITY========\")\n",
    "                        for candidate_set in candidate_sets:\n",
    "                            # print(candidate_set)\n",
    "                            subset_df = adjacency_matrix_list[index].loc[list(candidate_set),list(candidate_set)]\n",
    "                            # print_table(subset_df)\n",
    "\n",
    "                            # checking for well-formedness\n",
    "                            well_formed_flag = check_well_formed(subset_df)\n",
    "                            if not well_formed_flag:\n",
    "                                # print(\"This subset is NOT well-formed\")\n",
    "                                pass\n",
    "\n",
    "                            # if well-formed validate across the data to remove inappropriate dead-ends\n",
    "                            # additional check\n",
    "                            valid_against_data_flag = False\n",
    "                            if well_formed_flag:\n",
    "                                # print_table(subset_df)\n",
    "                                # print(\"This subset is well-formed\")\n",
    "\n",
    "                                # validate against all consecutive transitions per class (P)\n",
    "                                # This checks all sequences consecutive transitions. So, it is validating against (E)\n",
    "                                valid_against_data_flag = check_valid(subset_df, consecutive_transitions_per_class)\n",
    "#                                 if not valid_against_data_flag:\n",
    "#                                     print(\"Invalid against data\")\n",
    "\n",
    "                            if valid_against_data_flag:\n",
    "#                                 print(\"Adding this subset as well-formed and valid.\")\n",
    "#                                 print_table(subset_df)\n",
    "#                                 print(candidate_set)\n",
    "                                if candidate_set not in transition_set_list: # do not allow copies.\n",
    "                                    transition_set_list.append(candidate_set)\n",
    "                                break\n",
    "#                         print(\"Hole that is covered now:\")\n",
    "#                         print(list(s))\n",
    "                        break\n",
    "\n",
    "\n",
    "            # print(transition_set_list)\n",
    "        #step -7 : remove redundant sets\n",
    "        ts_copy = transition_set_list.copy()\n",
    "        for i in range(len(ts_copy)):\n",
    "            for j in range(len(ts_copy)):\n",
    "                if ts_copy[i] < ts_copy[j]: #if subset\n",
    "                    if ts_copy[i] in transition_set_list:\n",
    "                        transition_set_list.remove(ts_copy[i])\n",
    "                elif ts_copy[i] > ts_copy[j]:\n",
    "                    if ts_copy[j] in transition_set_list:\n",
    "                        transition_set_list.remove(ts_copy[j])\n",
    "#         print(\"\\nRemoved redundancy transition set list\")\n",
    "#         print(transition_set_list)\n",
    "\n",
    "        #step-8: include all-transitions machine, even if it is not well-formed.\n",
    "        transition_set_list.append(set(transitions_per_class[index]))\n",
    "#         print(\"\\nFinal transition set list\")\n",
    "#         print(class_name)\n",
    "#         print(transition_set_list)\n",
    "\n",
    "\n",
    "        transition_sets_per_class.append(transition_set_list)\n",
    "    return transition_sets_per_class\n",
    "\n",
    "\n",
    "############    LOCM2 #################\n",
    "####    Input ready for LOCM2, Starting LOCM2 algorithm now\n",
    "####    Step 8:  selecting transition sets (TS) [Main LOCM2 Algorithm]\n",
    "print(\"######## Getting transitions sets for each class using LOCM2 ######\")\n",
    "transition_sets_per_class = locm2_get_transition_sets_per_class(holes_per_class, transitions_per_class, consecutive_transitions_per_class)"
   ]
  },
  {
   "cell_type": "markdown",
   "metadata": {},
   "source": [
    "### Step 3: Algorithm For Induction of State Machines\n",
    "\n",
    "- Input: Action training sequence of length N\n",
    "- Output: Transition Set TS, Object states OS.\n",
    "\n",
    "We already have transition set TS per class."
   ]
  },
  {
   "cell_type": "code",
   "execution_count": 79,
   "metadata": {},
   "outputs": [
    {
     "name": "stdout",
     "output_type": "stream",
     "text": [
      "Step 3: Induction of Finite State Machines\n",
      "cream\n",
      "Number of FSMS:1\n",
      "mushroom\n",
      "Number of FSMS:1\n",
      "soup\n",
      "Number of FSMS:1\n",
      "salt\n",
      "Number of FSMS:1\n",
      "pepper\n",
      "Number of FSMS:1\n",
      "onion\n",
      "Number of FSMS:1\n",
      "cheese\n",
      "Number of FSMS:1\n",
      "bacon\n",
      "Number of FSMS:1\n",
      "hash\n",
      "Number of FSMS:1\n",
      "mixture\n",
      "Number of FSMS:1\n",
      "it\n",
      "Number of FSMS:1\n",
      "eggs\n",
      "Number of FSMS:1\n",
      "dish\n",
      "Number of FSMS:1\n",
      "recipe\n",
      "Number of FSMS:1\n",
      "everything\n",
      "Number of FSMS:1\n",
      "garlic\n",
      "Number of FSMS:1\n",
      "flavor\n",
      "Number of FSMS:1\n",
      "heat\n",
      "Number of FSMS:1\n",
      "unknown\n",
      "Number of FSMS:5\n"
     ]
    }
   ],
   "source": [
    "print(\"Step 3: Induction of Finite State Machines\")\n",
    "state_machines_overall_list = [] # list of all state machines\n",
    "state_dict_overall = [] #list of state dict per class\n",
    "\n",
    "for index, ts in enumerate(transition_sets_per_class):\n",
    "    state_machines_per_class = [] # state machines for each class.\n",
    "    state_dict_per_class = []\n",
    "    print(class_names[index])\n",
    "    # print(ts)\n",
    "    num_fsms = len(ts)\n",
    "    print(\"Number of FSMS:\" + str(num_fsms))\n",
    "\n",
    "\n",
    "    #### Add state identifiers\n",
    "    states_per_transition_set = []\n",
    "    for transition_set in ts:\n",
    "        states = set()\n",
    "        for transition in transition_set:\n",
    "            states.add(frozenset({\"start(\" + transition + \")\"}))\n",
    "            states.add(frozenset({\"end(\" + transition + \")\"}))\n",
    "        states_per_transition_set.append(states)\n",
    "\n",
    "    # print(states_per_transition_set)\n",
    "\n",
    "    #### For each pair of consecutive transitions T1, T2 in TS: Unify states end(T1) and start(T2) in set OS\n",
    "    for fsm_no, transition_set in enumerate(ts):\n",
    "        transition_df = adjacency_matrix_list[index].loc[list(transition_set), list(transition_set)] #uses transition matrix without holes\n",
    "\n",
    "        consecutive_transitions_state_machines_per_class = set()  # find consecutive transitions for a state machine in a class.\n",
    "        for i in range(transition_df.shape[0]):\n",
    "            for j in range(transition_df.shape[1]):\n",
    "                if transition_df.iloc[i, j] != 'hole':\n",
    "                    if transition_df.iloc[i, j] > 0:\n",
    "                        consecutive_transitions_state_machines_per_class.add((transition_df.index[i], transition_df.columns[j]))\n",
    "\n",
    "        # for every consecutive transition and for every state of a class, check if that state matches end(t1) or start(t2)\n",
    "        for ct in consecutive_transitions_state_machines_per_class:\n",
    "            s1, s2, s3 = -1, -1, -1\n",
    "            for s in states_per_transition_set[fsm_no]:\n",
    "                if \"end(\"+ct[0]+\")\" in s:\n",
    "                    s1 = s\n",
    "                if \"start(\"+ct[1]+\")\" in s:\n",
    "                    s2 = s\n",
    "                if s1 != -1 and s2 != - 1: #if they do, combine them.\n",
    "                    s3 = s1.union(s2) # union\n",
    "\n",
    "            if s1 != -1 and s2 != -1 and s3 != -1: #for every ct, if we have combined state, we update states_per_transition_set\n",
    "                if s1 in states_per_transition_set[fsm_no]:\n",
    "                    states_per_transition_set[fsm_no].remove(s1)\n",
    "                if s2 in states_per_transition_set[fsm_no]:\n",
    "                    states_per_transition_set[fsm_no].remove(s2)\n",
    "                states_per_transition_set[fsm_no].add(s3)\n",
    "\n",
    "        ## build a state machine now.\n",
    "        fsm_graph = nx.DiGraph()\n",
    "\n",
    "        # TODO: consider making a state dictionary for pretty print of frozen set\n",
    "        state_dict_per_class.insert(fsm_no,{})\n",
    "        for i, state in enumerate(states_per_transition_set[fsm_no]):\n",
    "            state_dict_per_class[fsm_no][\"state\"+str(i)] = state\n",
    "            fsm_graph.add_node(\"state\"+str(i))\n",
    "\n",
    "        # transition_df is defined above. Add edges from transitions.\n",
    "        # print_table(transition_df)\n",
    "        for i in range(transition_df.shape[0]):\n",
    "            for j in range(transition_df.shape[1]):\n",
    "                if transition_df.iloc[i, j] != 'hole':\n",
    "                    if transition_df.iloc[i, j] > 0:\n",
    "                        for node in fsm_graph.nodes():\n",
    "                            starting_node, ending_node = -1,-1\n",
    "                            if \"end(\"+transition_df.index[i]+\")\" in state_dict_per_class[fsm_no][node]:\n",
    "                                starting_node = node\n",
    "                            if \"start(\"+transition_df.columns[j]+\")\" in state_dict_per_class[fsm_no][node]:\n",
    "                                ending_node = node\n",
    "                            if starting_node != -1 and ending_node != -1:\n",
    "                                if fsm_graph.has_edge(starting_node, ending_node):\n",
    "                                    fsm_graph[starting_node][ending_node]['weight'] += transition_df.iloc[i, j]\n",
    "                                else:\n",
    "                                    fsm_graph.add_edge(starting_node, ending_node, weight=transition_df.iloc[i, j], name=\"\"+transition_df.index[i])\n",
    "\n",
    "        df = nx.to_pandas_adjacency(fsm_graph, nodelist=fsm_graph.nodes(), dtype=int)\n",
    "        \n",
    "        nx.write_graphml(fsm_graph, \"output/\" + domain_name + \"/\" + class_names[index] + \"_stateFSM_\" + str(fsm_no+1)+ \".graphml\")\n",
    "        state_machines_per_class.append(df)\n",
    "\n",
    "    state_machines_overall_list.append(state_machines_per_class)\n",
    "    state_dict_overall.append(state_dict_per_class)"
   ]
  },
  {
   "cell_type": "code",
   "execution_count": 80,
   "metadata": {
    "scrolled": true
   },
   "outputs": [],
   "source": [
    "# pretty print state dictionary.\n",
    "def print_state_dictionary(state_dict_overall):\n",
    "    for i,state_dict_per_class in enumerate(state_dict_overall):\n",
    "#         print(class_names[i])\n",
    "        for j,state_dict_per_fsm in enumerate(state_dict_per_class):\n",
    "#             print()\n",
    "            for k,v in state_dict_per_fsm.items():\n",
    "                print(class_names[i]+\"_fsm\"+str(j)+\"_\"+ k + \":\"+str(list(v)))\n",
    "#                 print(list(v))\n",
    "#                 print()\n",
    "                \n",
    "# print_state_dictionary(state_dict_overall)"
   ]
  },
  {
   "cell_type": "markdown",
   "metadata": {},
   "source": [
    "### Step 5: Induction of parameterized state machines\n",
    "Create and test hypothesis for state parameters"
   ]
  },
  {
   "cell_type": "code",
   "execution_count": 81,
   "metadata": {},
   "outputs": [
    {
     "name": "stdout",
     "output_type": "stream",
     "text": [
      "*****************\n",
      "Step 5: Induction of Parameterised Finite State Machines\n",
      "CLASS:cream\n",
      "FSM:1\n",
      "|        |   state0 |   state1 |   state2 |\n",
      "|--------|----------|----------|----------|\n",
      "| state0 |        0 |        0 |        0 |\n",
      "| state1 |        0 |        0 |        0 |\n",
      "| state2 |        0 |        0 |        1 |\n",
      "\n",
      "Transition set of this class:\n",
      "[{'mixing.0', 'mixing.3'}]\n",
      "CLASS:mushroom\n",
      "FSM:1\n",
      "|        |   state0 |   state1 |\n",
      "|--------|----------|----------|\n",
      "| state0 |        0 |        0 |\n",
      "| state1 |        0 |        0 |\n",
      "\n",
      "Transition set of this class:\n",
      "[{'mixing.1'}]\n",
      "CLASS:soup\n",
      "FSM:1\n",
      "|        |   state0 |   state1 |\n",
      "|--------|----------|----------|\n",
      "| state0 |        0 |        0 |\n",
      "| state1 |        0 |        0 |\n",
      "\n",
      "Transition set of this class:\n",
      "[{'mixing.2'}]\n",
      "CLASS:salt\n",
      "FSM:1\n",
      "|        |   state0 |   state1 |\n",
      "|--------|----------|----------|\n",
      "| state0 |        0 |        0 |\n",
      "| state1 |        0 |        0 |\n",
      "\n",
      "Transition set of this class:\n",
      "[{'mixing.4'}]\n",
      "CLASS:pepper\n",
      "FSM:1\n",
      "|        |   state0 |   state1 |\n",
      "|--------|----------|----------|\n",
      "| state0 |        0 |        0 |\n",
      "| state1 |        0 |        0 |\n",
      "\n",
      "Transition set of this class:\n",
      "[{'mixing.5'}]\n",
      "CLASS:onion\n",
      "FSM:1\n",
      "|        |   state0 |   state1 |\n",
      "|--------|----------|----------|\n",
      "| state0 |        0 |        0 |\n",
      "| state1 |        0 |        0 |\n",
      "\n",
      "Transition set of this class:\n",
      "[{'mixing.6'}]\n",
      "CLASS:cheese\n",
      "FSM:1\n",
      "|        |   state0 |   state1 |\n",
      "|--------|----------|----------|\n",
      "| state0 |        0 |        0 |\n",
      "| state1 |        0 |        0 |\n",
      "\n",
      "Transition set of this class:\n",
      "[{'mixing.7'}]\n",
      "CLASS:bacon\n",
      "FSM:1\n",
      "|        |   state0 |   state1 |\n",
      "|--------|----------|----------|\n",
      "| state0 |        0 |        0 |\n",
      "| state1 |        0 |        0 |\n",
      "\n",
      "Transition set of this class:\n",
      "[{'add.1'}]\n",
      "CLASS:hash\n",
      "FSM:1\n",
      "|        |   state0 |   state1 |\n",
      "|--------|----------|----------|\n",
      "| state0 |        0 |        0 |\n",
      "| state1 |        0 |        0 |\n",
      "\n",
      "Transition set of this class:\n",
      "[{'pour.0'}]\n",
      "CLASS:mixture\n",
      "FSM:1\n",
      "|        |   state0 |   state1 |\n",
      "|--------|----------|----------|\n",
      "| state0 |        0 |        0 |\n",
      "| state1 |        0 |        0 |\n",
      "\n",
      "Transition set of this class:\n",
      "[{'pour.1'}]\n",
      "CLASS:it\n",
      "FSM:1\n",
      "|        |   state0 |   state1 |\n",
      "|--------|----------|----------|\n",
      "| state0 |        0 |        0 |\n",
      "| state1 |        0 |        0 |\n",
      "\n",
      "Transition set of this class:\n",
      "[{'leave.1'}]\n",
      "CLASS:eggs\n",
      "FSM:1\n",
      "|        |   state0 |   state1 |\n",
      "|--------|----------|----------|\n",
      "| state0 |        0 |        0 |\n",
      "| state1 |        0 |        0 |\n",
      "\n",
      "Transition set of this class:\n",
      "[{'served.0'}]\n",
      "CLASS:dish\n",
      "FSM:1\n",
      "|        |   state0 |   state1 |\n",
      "|--------|----------|----------|\n",
      "| state0 |        0 |        0 |\n",
      "| state1 |        0 |        0 |\n",
      "\n",
      "Transition set of this class:\n",
      "[{'cooked.0'}]\n",
      "CLASS:recipe\n",
      "FSM:1\n",
      "|        |   state0 |   state1 |\n",
      "|--------|----------|----------|\n",
      "| state0 |        0 |        0 |\n",
      "| state1 |        0 |        0 |\n",
      "\n",
      "Transition set of this class:\n",
      "[{'play.0'}]\n",
      "CLASS:everything\n",
      "FSM:1\n",
      "|        |   state0 |   state1 |\n",
      "|--------|----------|----------|\n",
      "| state0 |        0 |        0 |\n",
      "| state1 |        0 |        0 |\n",
      "\n",
      "Transition set of this class:\n",
      "[{'do.0'}]\n",
      "CLASS:garlic\n",
      "FSM:1\n",
      "|        |   state0 |   state1 |\n",
      "|--------|----------|----------|\n",
      "| state0 |        0 |        0 |\n",
      "| state1 |        0 |        0 |\n",
      "\n",
      "Transition set of this class:\n",
      "[{'adding.0'}]\n",
      "CLASS:flavor\n",
      "FSM:1\n",
      "|        |   state0 |   state1 |\n",
      "|--------|----------|----------|\n",
      "| state0 |        0 |        0 |\n",
      "| state1 |        0 |        0 |\n",
      "\n",
      "Transition set of this class:\n",
      "[{'switching.0'}]\n",
      "CLASS:heat\n",
      "FSM:1\n",
      "|        |   state0 |   state1 |   state2 |\n",
      "|--------|----------|----------|----------|\n",
      "| state0 |        2 |        0 |        0 |\n",
      "| state1 |        0 |        0 |        0 |\n",
      "| state2 |        0 |        0 |        2 |\n",
      "\n",
      "Transition set of this class:\n",
      "[{'turn.0', 'spray.0', 'leave.0'}]\n",
      "CLASS:unknown\n",
      "FSM:1\n",
      "|        |   state0 |   state1 |   state2 |   state3 |   state4 |   state5 |\n",
      "|--------|----------|----------|----------|----------|----------|----------|\n",
      "| state0 |        0 |        0 |        0 |        0 |        0 |        0 |\n",
      "| state1 |        0 |        0 |        0 |        0 |        0 |        0 |\n",
      "| state2 |        0 |        0 |        0 |        0 |        0 |        0 |\n",
      "| state3 |        0 |        0 |        0 |        0 |        0 |        0 |\n",
      "| state4 |        0 |        0 |        0 |        0 |        0 |        0 |\n",
      "| state5 |        0 |        0 |        0 |        0 |        0 |        0 |\n",
      "FSM:2\n",
      "|        |   state0 |   state1 |   state2 |   state3 |   state4 |   state5 |\n",
      "|--------|----------|----------|----------|----------|----------|----------|\n",
      "| state0 |        0 |        0 |        0 |        0 |        0 |        0 |\n",
      "| state1 |        0 |        0 |        0 |        0 |        0 |        0 |\n",
      "| state2 |        0 |        0 |        0 |        0 |        0 |        0 |\n",
      "| state3 |        0 |        0 |        0 |        0 |        0 |        0 |\n",
      "| state4 |        0 |        0 |        0 |        0 |        0 |        0 |\n",
      "| state5 |        0 |        0 |        0 |        0 |        0 |        0 |\n",
      "FSM:3\n",
      "|        |   state0 |   state1 |   state2 |   state3 |   state4 |   state5 |\n",
      "|--------|----------|----------|----------|----------|----------|----------|\n",
      "| state0 |        0 |        0 |        0 |        0 |        0 |        0 |\n",
      "| state1 |        0 |        0 |        0 |        0 |        0 |        0 |\n",
      "| state2 |        0 |        0 |        0 |        0 |        0 |        0 |\n",
      "| state3 |        0 |        0 |        0 |        0 |        0 |        0 |\n",
      "| state4 |        0 |        0 |        0 |        0 |        0 |        0 |\n",
      "| state5 |        0 |        0 |        0 |        0 |        0 |        0 |\n",
      "FSM:4\n",
      "|        |   state0 |   state1 |   state2 |   state3 |   state4 |   state5 |\n",
      "|--------|----------|----------|----------|----------|----------|----------|\n",
      "| state0 |        0 |        0 |        0 |        0 |        0 |        0 |\n",
      "| state1 |        0 |        0 |        0 |        0 |        0 |        0 |\n",
      "| state2 |        0 |        0 |        0 |        0 |        0 |        0 |\n",
      "| state3 |        0 |        0 |        0 |        0 |        0 |        0 |\n",
      "| state4 |        0 |        0 |        0 |        0 |        0 |        0 |\n",
      "| state5 |        0 |        0 |        0 |        0 |        0 |        0 |\n",
      "FSM:5\n",
      "|        |   state0 |   state1 |   state2 |   state3 |   state4 |   state5 |   state6 |   state7 |   state8 |   state9 |\n",
      "|--------|----------|----------|----------|----------|----------|----------|----------|----------|----------|----------|\n",
      "| state0 |        1 |        0 |        0 |        0 |        0 |        0 |        0 |        0 |        0 |        0 |\n",
      "| state1 |        0 |        1 |        0 |        0 |        0 |        0 |        0 |        0 |        0 |        0 |\n",
      "| state2 |        0 |        0 |        5 |        0 |        0 |        0 |        0 |        0 |        0 |        0 |\n",
      "| state3 |        0 |        0 |        0 |        1 |        0 |        0 |        0 |        0 |        0 |        0 |\n",
      "| state4 |        0 |        0 |        0 |        0 |        0 |        0 |        0 |        0 |        0 |        0 |\n",
      "| state5 |        0 |        0 |        0 |        0 |        0 |        1 |        0 |        0 |        0 |        0 |\n",
      "| state6 |        0 |        0 |        0 |        0 |        0 |        0 |        1 |        0 |        0 |        0 |\n",
      "| state7 |        0 |        0 |        0 |        0 |        0 |        0 |        0 |        0 |        0 |        0 |\n",
      "| state8 |        0 |        0 |        0 |        0 |        0 |        0 |        0 |        0 |        0 |        0 |\n",
      "| state9 |        0 |        0 |        0 |        0 |        0 |        0 |        0 |        0 |        0 |        0 |\n",
      "\n",
      "Transition set of this class:\n",
      "[{'put.0', 'mix.0', 'enjoy.0'}, {'keep.0', 'use.0', 'add.2'}, {'put.0', 'add.2', 'combined.0'}, {'use.0', 'change.0', 'enjoy.0'}, {'keep.0', 'use.0', 'serve.0', 'change.0', 'put.0', 'add.0', 'add.2', 'combined.0', 'enjoy.0', 'mix.0'}]\n"
     ]
    },
    {
     "ename": "IndexError",
     "evalue": "list index out of range",
     "output_type": "error",
     "traceback": [
      "\u001b[0;31m---------------------------------------------------------------------------\u001b[0m",
      "\u001b[0;31mIndexError\u001b[0m                                Traceback (most recent call last)",
      "\u001b[0;32m<ipython-input-81-6f83a0858663>\u001b[0m in \u001b[0;36m<module>\u001b[0;34m()\u001b[0m\n\u001b[1;32m     43\u001b[0m                     \u001b[0;32mif\u001b[0m \u001b[0mactarg_tuple\u001b[0m\u001b[0;34m[\u001b[0m\u001b[0;36m0\u001b[0m\u001b[0;34m]\u001b[0m \u001b[0;34m==\u001b[0m \u001b[0mB\u001b[0m\u001b[0;34m:\u001b[0m \u001b[0;31m#if action name is same as B\u001b[0m\u001b[0;34m\u001b[0m\u001b[0m\n\u001b[1;32m     44\u001b[0m                         \u001b[0marglist1\u001b[0m \u001b[0;34m=\u001b[0m \u001b[0mactarg_tuple\u001b[0m\u001b[0;34m[\u001b[0m\u001b[0;36m1\u001b[0m\u001b[0;34m]\u001b[0m\u001b[0;34m.\u001b[0m\u001b[0mcopy\u001b[0m\u001b[0;34m(\u001b[0m\u001b[0;34m)\u001b[0m\u001b[0;34m\u001b[0m\u001b[0m\n\u001b[0;32m---> 45\u001b[0;31m                         \u001b[0marglist1\u001b[0m\u001b[0;34m.\u001b[0m\u001b[0mremove\u001b[0m\u001b[0;34m(\u001b[0m\u001b[0mactarg_tuple\u001b[0m\u001b[0;34m[\u001b[0m\u001b[0;36m1\u001b[0m\u001b[0;34m]\u001b[0m\u001b[0;34m[\u001b[0m\u001b[0mk\u001b[0m\u001b[0;34m]\u001b[0m\u001b[0;34m)\u001b[0m \u001b[0;31m# remove k from arglist\u001b[0m\u001b[0;34m\u001b[0m\u001b[0m\n\u001b[0m\u001b[1;32m     46\u001b[0m                         \u001b[0;32mfor\u001b[0m \u001b[0mactarg_tuple_prime\u001b[0m \u001b[0;32min\u001b[0m \u001b[0mseq\u001b[0m\u001b[0;34m:\u001b[0m \u001b[0;31m#loop through seq again.\u001b[0m\u001b[0;34m\u001b[0m\u001b[0m\n\u001b[1;32m     47\u001b[0m                             \u001b[0;32mif\u001b[0m \u001b[0mactarg_tuple_prime\u001b[0m\u001b[0;34m[\u001b[0m\u001b[0;36m0\u001b[0m\u001b[0;34m]\u001b[0m \u001b[0;34m==\u001b[0m \u001b[0mC\u001b[0m\u001b[0;34m:\u001b[0m\u001b[0;34m\u001b[0m\u001b[0m\n",
      "\u001b[0;31mIndexError\u001b[0m: list index out of range"
     ]
    }
   ],
   "source": [
    "## Step 5 Input: action sequence Seq, Transition set TS, Object set Obs\n",
    "## Output: HS retained hypotheses for state parameters\n",
    "## 5.1 Form hypotheses from state machines\n",
    "print(\"*****************\")\n",
    "print(\"Step 5: Induction of Parameterised Finite State Machines\")\n",
    "HS_list = []\n",
    "for index, fsms_per_class in enumerate(state_machines_overall_list):\n",
    "    class_name = class_names[index]\n",
    "    print(\"CLASS:\"+ class_name)\n",
    "    for fsm_no, fsm in enumerate(fsms_per_class):\n",
    "        print(\"FSM:\" + str(fsm_no + 1))\n",
    "        print_table(fsm)\n",
    "\n",
    "    print(\"\\nTransition set of this class:\")\n",
    "    print(transition_sets_per_class[index])\n",
    "\n",
    "    # Hypothesis set per class.\n",
    "    HS_per_class = []\n",
    "    for fsm_no, transition_set in enumerate(transition_sets_per_class[index]):\n",
    "        transition_df = adjacency_matrix_list[index].loc[list(transition_set), list(transition_set)]\n",
    "        consecutive_transitions_state_machines_per_class = set()  # find consecutive transitions for a state machine in a class.\n",
    "        for i in range(transition_df.shape[0]):\n",
    "            for j in range(transition_df.shape[1]):\n",
    "                if transition_df.iloc[i, j] != 'hole':\n",
    "                    if transition_df.iloc[i, j] > 0:\n",
    "                        consecutive_transitions_state_machines_per_class.add((transition_df.index[i], transition_df.columns[j]))\n",
    "\n",
    "        # Step 5.1 for each pair <B.k and C.l> of consecutive transitions in transition set of a state machine.\n",
    "        # store hypothesis in Hypothesis set\n",
    "        HS = set()\n",
    "        for ct in consecutive_transitions_state_machines_per_class:\n",
    "            B = ct[0].split('.')[0] # action name of T1\n",
    "            k = int(ct[0].split('.')[1]) # argument index of T1\n",
    "\n",
    "            C = ct[1].split('.')[0] # action name of T2\n",
    "            l = int(ct[1].split('.')[1]) # argument index of T2\n",
    "\n",
    "            # When both actions B and C contain another argument of the same sort G' in position k' and l' respectively, we hypothesise that there may be a relation between sorts G and G'.\n",
    "            for seq in sequences:\n",
    "                for actarg_tuple in seq:\n",
    "                    arglist1 = []\n",
    "                    arglist2 = []\n",
    "                    if actarg_tuple[0] == B: #if action name is same as B\n",
    "                        arglist1 = actarg_tuple[1].copy()\n",
    "                        arglist1.remove(actarg_tuple[1][k]) # remove k from arglist\n",
    "                        for actarg_tuple_prime in seq: #loop through seq again.\n",
    "                            if actarg_tuple_prime[0] == C:\n",
    "                                arglist2 = actarg_tuple_prime[1].copy()\n",
    "                                arglist2.remove(actarg_tuple_prime[1][l]) # remove l from arglist\n",
    "\n",
    "                        # for arg lists of actions B and C, if class is same add a hypothesis set.\n",
    "                        for i in range(len(arglist1)):\n",
    "                            for j in range(len(arglist2)):\n",
    "                                class1 = get_class_index(arglist1[i], classes)\n",
    "                                class2 = get_class_index(arglist2[j], classes)\n",
    "                                if class1 == class2:\n",
    "                                    HS.add((frozenset({\"end(\"+B+\".\"+ str(k)+\")\", \"start(\"+C+\".\"+str(l)+\")\"}),B,k,i,C,l,j,index,class1))\n",
    "\n",
    "        ####### Step 5.2 Test Hypothesis against example sequences!!\n",
    "        # Check hypothesis against sequences.\n",
    "        ## It performs an inductive process such that the hypotheses can be either refuted or retained according to the example sequence, but it can never be definitely confirmed.\n",
    "        ## Requires more data than usual.\n",
    "        HS_copy = HS.copy()\n",
    "        for hs in HS:\n",
    "            # for every consecutive transision for a state machine per class.\n",
    "            for ct in consecutive_transitions_state_machines_per_class:\n",
    "                A_p = ct[0].split('.')[0]\n",
    "                m = int(ct[0].split('.')[1])\n",
    "\n",
    "                A_q = ct[1].split('.')[0]\n",
    "                n = int(ct[1].split('.')[1])\n",
    "\n",
    "                if A_p == hs[1] and m == hs[2] and A_q == hs[4] and n == hs[5]:\n",
    "                    k_prime = hs[3]\n",
    "                    l_prime = hs[6]\n",
    "                    for seq in sequences:\n",
    "                        for actarg_tuple in seq:\n",
    "                            arglist1 = []\n",
    "                            arglist2 = []\n",
    "                            if actarg_tuple[0] == A_p:\n",
    "                                arglist1 = actarg_tuple[1].copy()\n",
    "                                arglist1.remove(actarg_tuple[1][m])  # remove k from arglist\n",
    "                                for actarg_tuple_prime in seq:\n",
    "                                    if actarg_tuple_prime[0] == A_q:\n",
    "                                        arglist2 = actarg_tuple_prime[1].copy()\n",
    "                                        arglist2.remove(actarg_tuple_prime[1][n])  # remove l from arglist\n",
    "\n",
    "#                                 class1, class2 = -1,-1\n",
    "#                                 if k_prime < len(arglist1) and l_prime < len(arglist2):\n",
    "#                                     class1 = get_class_index(arglist1[k_prime], classes)\n",
    "#                                     class2 = get_class_index(arglist2[l_prime], classes)\n",
    "\n",
    "#                                 # Refute the hypothesis if classes are not same at the location specified by hypothesis.\n",
    "#                                 if class1 != -1 and class2!=-1 and class1 != class2:\n",
    "#                                     if hs in HS_copy:\n",
    "#                                         HS_copy.remove(hs)\n",
    "                                object1, object2 = None, None\n",
    "                                if k_prime < len(arglist1) and l_prime < len(arglist2):\n",
    "                                    object1 = arglist1[k_prime]\n",
    "                                    object2 = arglist2[l_prime]\n",
    "                                \n",
    "                                if object1 != None and object2 !=None and object1 !=object2:\n",
    "                                    if hs in HS_copy:\n",
    "                                        HS_copy.remove(hs)\n",
    "                        \n",
    "                                 \n",
    "\n",
    "\n",
    "\n",
    "        HS_per_class.append(HS_copy)\n",
    "    HS_list.append(HS_per_class)"
   ]
  },
  {
   "cell_type": "code",
   "execution_count": 29,
   "metadata": {},
   "outputs": [],
   "source": [
    "# printing hypothesis\n",
    "# print(\"\\n****** HYPOTHESIS SET*********\")\n",
    "# for HS_per_class in HS_list:\n",
    "#     for HS_per_fsm in HS_per_class:\n",
    "#         for h in HS_per_fsm:\n",
    "#             print(h)"
   ]
  },
  {
   "cell_type": "markdown",
   "metadata": {},
   "source": [
    "### Step 6: Creation and merging of state parameters"
   ]
  },
  {
   "cell_type": "code",
   "execution_count": 82,
   "metadata": {},
   "outputs": [
    {
     "name": "stdout",
     "output_type": "stream",
     "text": [
      "Step 6: creating and merging state params\n"
     ]
    }
   ],
   "source": [
    "print(\"Step 6: creating and merging state params\")\n",
    "param_bindings_list_overall = []\n",
    "for classindex, HS_per_class in enumerate(HS_list):\n",
    "    param_bind_per_class = []\n",
    "    for HS_per_fsm in HS_per_class:\n",
    "        param_binding_list = []\n",
    "        for index,h in enumerate(HS_per_fsm):\n",
    "            param_binding_list.append((h,\"v\"+str(index)))\n",
    "\n",
    "        for i in range(len(param_binding_list)-1):\n",
    "            for j in range(i+1, len(param_binding_list)):\n",
    "                h_1 = param_binding_list[i][0]\n",
    "                h_2 = param_binding_list[j][0]\n",
    "\n",
    "                if ((h_1[0] == h_2[0] and h_1[1] == h_2[1] and h_1[2] == h_2[2] and h_1[3] == h_2[3]) or (h_1[0] == h_2[0] and h_1[4] == h_2[4] and h_1[5] == h_2[5] and h_1[6] == h_2[6])):\n",
    "                    new_tuple = (param_binding_list[j][0], param_binding_list[i][1])\n",
    "                    param_binding_list.remove((param_binding_list[j][0], param_binding_list[j][1]))\n",
    "                    param_binding_list.insert(j,new_tuple)\n",
    "        param_bind_per_class.append(param_binding_list)\n",
    "#         print(class_names[classindex])\n",
    "#         for pb in param_binding_list:\n",
    "#             print(pb)\n",
    "#         print()\n",
    "    param_bindings_list_overall.append(param_bind_per_class)\n",
    "    \n",
    "\n"
   ]
  },
  {
   "cell_type": "markdown",
   "metadata": {},
   "source": [
    "### Step 7: Remove Parameter Flaws"
   ]
  },
  {
   "cell_type": "code",
   "execution_count": 83,
   "metadata": {},
   "outputs": [],
   "source": [
    "########### Step 5: Removing parameter flaws\n",
    "# A parameter P associated with an FSM state S is said to be flawed if there exists a transition into S, which does not supply P with a value.\n",
    "# This may occur when there exists a transition B.k where end(B.k)=S, but there exists no h containing end(B.k)\n",
    "\n",
    "para_bind_overall_fault_removed = []\n",
    "for class_index, para_bind_per_class in enumerate(param_bindings_list_overall):\n",
    "#     print(class_names[class_index])\n",
    "    para_bind_per_class_fault_removed = []\n",
    "\n",
    "    # print(state_machines_overall_list[class_index][fsm_index].index.values)\n",
    "    for fsm_index, transition_set in enumerate(transition_sets_per_class[class_index]):\n",
    "        transition_df = adjacency_matrix_list[class_index].loc[list(transition_set), list(transition_set)]\n",
    "        consecutive_transitions_state_machines_per_class = set()  # find consecutive transitions for a state machine in a class.\n",
    "        for i in range(transition_df.shape[0]):\n",
    "            for j in range(transition_df.shape[1]):\n",
    "                if transition_df.iloc[i, j] != 'hole':\n",
    "                    if transition_df.iloc[i, j] > 0:\n",
    "                        consecutive_transitions_state_machines_per_class.add(\n",
    "                            (transition_df.index[i], transition_df.columns[j]))\n",
    "\n",
    "        # initialize h_exists with false\n",
    "        h_exists = []\n",
    "        for param_index, param_bind in enumerate(para_bind_per_class[fsm_index]):\n",
    "            h_exists.append(False)\n",
    "\n",
    "        for ct in consecutive_transitions_state_machines_per_class:\n",
    "            for state in state_machines_overall_list[class_index][fsm_index].index.values:\n",
    "                if {\"end(\"+ ct[0] + \")\"} <= state_dict_overall[class_index][fsm_index][state]:\n",
    "                    current_state = state_dict_overall[class_index][fsm_index][state]\n",
    "\n",
    "                    # for every parameter binding which contains subset of current_state, if B and k are there, hypothesis exists\n",
    "                    for param_index,param_bind in enumerate(para_bind_per_class[fsm_index]):\n",
    "                        if param_bind[0][0] <= current_state: #subset of current_state of FSM\n",
    "                            # print(param_bind[0][1])\n",
    "                            # print(param_bind[0][2])\n",
    "                            # print(ct[0].split('.')[0])\n",
    "                            # print(ct[0].split('.')[1])\n",
    "                            # print()\n",
    "                            if param_bind[0][1] == ct[0].split('.')[0]:\n",
    "                                if param_bind[0][2] == int(ct[0].split('.')[1]): #TODO: Do we need to check other things here\n",
    "                                    h_exists[param_index] = True\n",
    "\n",
    "        param_bind_per_fsm_copy = para_bind_per_class[fsm_index].copy()\n",
    "        for param_index, param_bind in enumerate(para_bind_per_class[fsm_index]):\n",
    "            # if h_exists[param_index]:\n",
    "            #     print(param_bind[1])\n",
    "            if not h_exists[param_index]:\n",
    "                param_bind_per_fsm_copy.remove(param_bind)\n",
    "\n",
    "        para_bind_per_class_fault_removed.append(param_bind_per_fsm_copy)\n",
    "    para_bind_overall_fault_removed.append(para_bind_per_class_fault_removed)"
   ]
  },
  {
   "cell_type": "code",
   "execution_count": 84,
   "metadata": {},
   "outputs": [
    {
     "name": "stdout",
     "output_type": "stream",
     "text": [
      "Fault Removed Parameter Bindings\n"
     ]
    }
   ],
   "source": [
    "print(\"Fault Removed Parameter Bindings\")\n",
    "# for class_index, para_bind_per_class in enumerate(para_bind_overall_fault_removed):\n",
    "#     print(class_names[class_index])\n",
    "#     for fsm_no, para_bind_per_fsm in enumerate(para_bind_per_class):\n",
    "#         print(\"Fsm_no:\" + str(fsm_no))\n",
    "#         for p in para_bind_per_fsm:\n",
    "#             print(p)\n",
    "#         print()"
   ]
  },
  {
   "cell_type": "markdown",
   "metadata": {},
   "source": [
    "### Step 9:  Formation of PDDL Schema"
   ]
  },
  {
   "cell_type": "code",
   "execution_count": 85,
   "metadata": {},
   "outputs": [
    {
     "name": "stdout",
     "output_type": "stream",
     "text": [
      ";;********************Learned PDDL domain******************\n",
      "(define\t(domain cooking_1)\n",
      "\t(:requirements :typing)\n",
      "\t(:types cream mushroom soup salt pepper onion cheese bacon hash mixture it eggs dish recipe everything garlic flavor heat unknown)\n",
      "\t(:predicates\n",
      "\t\t(cream_fsm0_state0)\n",
      "\t\t(cream_fsm0_state1)\n",
      "\t\t(cream_fsm0_state2 ?v0 - salt ?v1 - soup ?v2 - pepper ?v3 - onion ?v4 - mushroom ?v5 - cream ?v6 - cheese)\n",
      "\t\t(mushroom_fsm0_state0)\n",
      "\t\t(mushroom_fsm0_state1)\n",
      "\t\t(soup_fsm0_state0)\n",
      "\t\t(soup_fsm0_state1)\n",
      "\t\t(salt_fsm0_state0)\n",
      "\t\t(salt_fsm0_state1)\n",
      "\t\t(pepper_fsm0_state0)\n",
      "\t\t(pepper_fsm0_state1)\n",
      "\t\t(onion_fsm0_state0)\n",
      "\t\t(onion_fsm0_state1)\n",
      "\t\t(cheese_fsm0_state0)\n",
      "\t\t(cheese_fsm0_state1)\n",
      "\t\t(bacon_fsm0_state0)\n",
      "\t\t(bacon_fsm0_state1)\n",
      "\t\t(hash_fsm0_state0)\n",
      "\t\t(hash_fsm0_state1)\n",
      "\t\t(mixture_fsm0_state0)\n",
      "\t\t(mixture_fsm0_state1)\n",
      "\t\t(it_fsm0_state0)\n",
      "\t\t(it_fsm0_state1)\n",
      "\t\t(eggs_fsm0_state0)\n",
      "\t\t(eggs_fsm0_state1)\n",
      "\t\t(dish_fsm0_state0)\n",
      "\t\t(dish_fsm0_state1)\n",
      "\t\t(recipe_fsm0_state0)\n",
      "\t\t(recipe_fsm0_state1)\n",
      "\t\t(everything_fsm0_state0)\n",
      "\t\t(everything_fsm0_state1)\n",
      "\t\t(garlic_fsm0_state0)\n",
      "\t\t(garlic_fsm0_state1)\n",
      "\t\t(flavor_fsm0_state0)\n",
      "\t\t(flavor_fsm0_state1)\n",
      "\t\t(heat_fsm0_state0)\n",
      "\t\t(heat_fsm0_state1)\n",
      "\t\t(heat_fsm0_state2)\n",
      "\t)\n",
      "\t(:action\tcooked\n",
      "\t:parameters\t(?dish - dish )\n",
      "\t:precondition\t(and\n",
      "\t)\n",
      "\t:effect\t(and\n",
      "\t))\n",
      "\n",
      "\t(:action\tenjoy\n",
      "\t:parameters\t(? - unknown )\n",
      "\t:precondition\t(and\n",
      "\t)\n",
      "\t:effect\t(and\n",
      "\t))\n",
      "\n",
      "\t(:action\tmixing\n",
      "\t:parameters\t(?cream - cream ?mushroom - mushroom ?soup - soup ?cream - cream ?salt - salt ?pepper - pepper ?onion - onion ?cheese - cheese )\n",
      "\t:precondition\t(and\n",
      "\t\t\t\t(cream_fsm0_state2 ?v0 - salt ?v1 - soup ?v2 - pepper ?v3 - onion ?v4 - mushroom ?v5 - cream ?v6 - cheese)\n",
      "\t)\n",
      "\t:effect\t(and\n",
      "\t\t\t\t(cream_fsm0_state2 ?v0 - salt ?v1 - soup ?v2 - pepper ?v3 - onion ?v4 - mushroom ?v5 - cream ?v6 - cheese)\n",
      "\t))\n",
      "\n",
      "\t(:action\tuse\n",
      "\t:parameters\t(?vegetables - unknown )\n",
      "\t:precondition\t(and\n",
      "\t)\n",
      "\t:effect\t(and\n",
      "\t))\n",
      "\n",
      "\t(:action\tput\n",
      "\t:parameters\t(?cover - unknown )\n",
      "\t:precondition\t(and\n",
      "\t)\n",
      "\t:effect\t(and\n",
      "\t))\n",
      "\n",
      "\t(:action\tadd\n",
      "\t:parameters\t(?browns - unknown )\n",
      "\t:precondition\t(and\n",
      "\t)\n",
      "\t:effect\t(and\n",
      "\t))\n",
      "\n",
      "\t(:action\tcombined\n",
      "\t:parameters\t(? - unknown )\n",
      "\t:precondition\t(and\n",
      "\t)\n",
      "\t:effect\t(and\n",
      "\t))\n",
      "\n",
      "\t(:action\tchange\n",
      "\t:parameters\t(? - unknown )\n",
      "\t:precondition\t(and\n",
      "\t)\n",
      "\t:effect\t(and\n",
      "\t))\n",
      "\n",
      "\t(:action\tserved\n",
      "\t:parameters\t(?eggs - eggs )\n",
      "\t:precondition\t(and\n",
      "\t)\n",
      "\t:effect\t(and\n",
      "\t))\n",
      "\n",
      "\t(:action\tspray\n",
      "\t:parameters\t(?cooker - heat )\n",
      "\t:precondition\t(and\n",
      "\t\t\t\t(heat_fsm0_state0)\n",
      "\t\t\t\t(heat_fsm0_state2)\n",
      "\t)\n",
      "\t:effect\t(and\n",
      "\t\t\t\t(heat_fsm0_state0)\n",
      "\t\t\t\t(heat_fsm0_state2)\n",
      "\t))\n",
      "\n",
      "\t(:action\tserve\n",
      "\t:parameters\t(? - unknown )\n",
      "\t:precondition\t(and\n",
      "\t)\n",
      "\t:effect\t(and\n",
      "\t))\n",
      "\n",
      "\t(:action\tdo\n",
      "\t:parameters\t(?everything - everything )\n",
      "\t:precondition\t(and\n",
      "\t)\n",
      "\t:effect\t(and\n",
      "\t))\n",
      "\n",
      "\t(:action\tadding\n",
      "\t:parameters\t(?garlic - garlic )\n",
      "\t:precondition\t(and\n",
      "\t)\n",
      "\t:effect\t(and\n",
      "\t))\n",
      "\n",
      "\t(:action\tpour\n",
      "\t:parameters\t(?hash - hash ?mixture - mixture )\n",
      "\t:precondition\t(and\n",
      "\t)\n",
      "\t:effect\t(and\n",
      "\t))\n",
      "\n",
      "\t(:action\tturn\n",
      "\t:parameters\t(?cooker - heat )\n",
      "\t:precondition\t(and\n",
      "\t\t\t\t(heat_fsm0_state0)\n",
      "\t\t\t\t(heat_fsm0_state2)\n",
      "\t)\n",
      "\t:effect\t(and\n",
      "\t\t\t\t(heat_fsm0_state0)\n",
      "\t\t\t\t(heat_fsm0_state2)\n",
      "\t))\n",
      "\n",
      "\t(:action\tkeep\n",
      "\t:parameters\t(? - unknown )\n",
      "\t:precondition\t(and\n",
      "\t)\n",
      "\t:effect\t(and\n",
      "\t))\n",
      "\n",
      "\t(:action\tplay\n",
      "\t:parameters\t(?recipe - recipe )\n",
      "\t:precondition\t(and\n",
      "\t)\n",
      "\t:effect\t(and\n",
      "\t))\n",
      "\n",
      "\t(:action\tleave\n",
      "\t:parameters\t(?cooker - heat )\n",
      "\t:precondition\t(and\n",
      "\t\t\t\t(heat_fsm0_state0)\n",
      "\t\t\t\t(heat_fsm0_state2)\n",
      "\t)\n",
      "\t:effect\t(and\n",
      "\t\t\t\t(heat_fsm0_state0)\n",
      "\t\t\t\t(heat_fsm0_state2)\n",
      "\t))\n",
      "\n",
      "\t(:action\tswitching\n",
      "\t:parameters\t(?flavor - flavor )\n",
      "\t:precondition\t(and\n",
      "\t)\n",
      "\t:effect\t(and\n",
      "\t))\n",
      "\n",
      "\t(:action\tmix\n",
      "\t:parameters\t(? - unknown )\n",
      "\t:precondition\t(and\n",
      "\t)\n",
      "\t:effect\t(and\n",
      "\t))\n",
      "\n",
      ")\n",
      "\n"
     ]
    }
   ],
   "source": [
    "# get action schema\n",
    "print(\";;********************Learned PDDL domain******************\")\n",
    "output_file = \"output/\"+ domain_name + \"/\" +  domain_name + \".pddl\"\n",
    "write_file = open(output_file, 'w')\n",
    "write_line = \"(define\"\n",
    "write_line += \"\\t(domain \"+ domain_name+\")\\n\"\n",
    "write_line += \"\\t(:requirements :typing)\\n\"\n",
    "write_line += \"\\t(:types\"\n",
    "for class_name in class_names:\n",
    "    write_line += \" \" + class_name\n",
    "write_line += \")\\n\"\n",
    "write_line += \"\\t(:predicates\\n\"\n",
    "\n",
    "predicates = []\n",
    "for class_index, para_bind_per_class in enumerate(para_bind_overall_fault_removed):\n",
    "    for fsm_no, para_bind_per_fsm in enumerate(para_bind_per_class):\n",
    "        for state_index, state in enumerate(state_machines_overall_list[class_index][fsm_no]):\n",
    "            predicate = \"\"\n",
    "            write_line += \"\\t\\t(\" + class_names[class_index] + \"_fsm\" + str(fsm_no) + \"_state\" + str(state_index)\n",
    "            predicate += \"\\t\\t(\" + class_names[class_index] + \"_fsm\" + str(fsm_no) + \"_state\" + str(state_index)\n",
    "            for para_bind in para_bind_per_fsm:\n",
    "                if para_bind[0][0] <= state_dict_overall[class_index][fsm_no][state]:\n",
    "                    write_line += \" ?\"+para_bind[1] + \" - \" + str(class_names[para_bind[0][8]])\n",
    "                    predicate += \" ?\"+para_bind[1] + \" - \" + str(class_names[para_bind[0][8]])\n",
    "            write_line += \")\\n\"\n",
    "            predicate += \")\"\n",
    "            predicates.append(predicate)\n",
    "write_line += \"\\t)\\n\"\n",
    "            \n",
    "for action_index, action in enumerate(actions):\n",
    "    write_line += \"\\t(:action\"\n",
    "    write_line += \"\\t\" + action + \"\\n\"\n",
    "    write_line += \"\\t:parameters\"\n",
    "    write_line += \"\\t(\"\n",
    "    arg_already_written_flag = False\n",
    "    params_per_action = []\n",
    "    args_per_action = []\n",
    "    for seq in sequences:\n",
    "        for actarg_tuple in seq:\n",
    "            if not arg_already_written_flag:\n",
    "                if actarg_tuple[0] == action:\n",
    "                    arglist = []\n",
    "                    for arg in actarg_tuple[1]:\n",
    "                        write_line += \"?\"+arg + \" - \" + class_names[get_class_index(arg,classes)] + \" \"\n",
    "                        arglist.append(arg)\n",
    "                    args_per_action.append(arglist)\n",
    "                    params_per_action.append(actarg_tuple[1])\n",
    "                    arg_already_written_flag = True\n",
    "    write_line += \")\\n\"\n",
    "\n",
    "\n",
    "    # need to use finite STATE machines to get preconditions and effects.\n",
    "    # Start-state = precondition. End state= Effect\n",
    "    preconditions = []\n",
    "    effects = []\n",
    "    for arglist in params_per_action:\n",
    "        for arg in arglist:\n",
    "            current_class_index = get_class_index(arg, classes)\n",
    "            for fsm_no, fsm in enumerate(state_machines_overall_list[current_class_index]):\n",
    "                # print_table(fsm)\n",
    "                df = fsm\n",
    "\n",
    "                for i in range(df.shape[0]):\n",
    "                    for j in range(df.shape[1]):\n",
    "                        if df.iloc[i, j] > 0:\n",
    "                            # print(\"(\" + df.index[i] + \",\" + df.columns[j] + \")\")\n",
    "                            start_state = state_dict_overall[current_class_index][fsm_no][df.index[i]]\n",
    "                            end_state = state_dict_overall[current_class_index][fsm_no][df.columns[j]]\n",
    "\n",
    "                            start_state_index, end_state_index = -1, -1\n",
    "                            for k,v in state_dict_overall[current_class_index][fsm_no].items():\n",
    "                                if v == start_state:\n",
    "                                    start_state_index = k\n",
    "                                if v == end_state:\n",
    "                                    end_state_index = k\n",
    "\n",
    "                            for predicate in predicates:\n",
    "                                pred = predicate.split()[0].lstrip('(').rstrip(')')\n",
    "                                if pred == class_names[current_class_index]+\"_fsm\"+str(fsm_no)+\"_\"+str(start_state_index):\n",
    "\n",
    "                                    if predicate not in preconditions:\n",
    "                                        preconditions.append(predicate)\n",
    "                                if pred == class_names[current_class_index]+\"_fsm\"+str(fsm_no)+\"_\"+str(end_state_index):\n",
    "                                    if predicate not in effects:\n",
    "                                        effects.append(predicate)\n",
    "\n",
    "\n",
    "\n",
    "\n",
    "#     print(preconditions)\n",
    "#     print(effects)\n",
    "    write_line += \"\\t:precondition\"\n",
    "    write_line += \"\\t(and\\n\"\n",
    "    for precondition in preconditions:\n",
    "        # precondition = precondition.replace(?)\n",
    "        write_line += \"\\t\\t\"+precondition+\"\\n\"\n",
    "    write_line += \"\\t)\\n\"\n",
    "    write_line += \"\\t:effect\"\n",
    "    write_line += \"\\t(and\\n\"\n",
    "    for effect in effects:\n",
    "        write_line += \"\\t\\t\" + effect + \"\\n\"\n",
    "    write_line += \"\\t)\"\n",
    "\n",
    "    write_line += \")\\n\\n\"\n",
    "\n",
    "write_line += \")\\n\" #domain ending bracket\n",
    "\n",
    "\n",
    "print(write_line)\n",
    "\n",
    "write_file.write(write_line)\n",
    "write_file.close()\n",
    "\n"
   ]
  },
  {
   "cell_type": "code",
   "execution_count": 34,
   "metadata": {
    "scrolled": true
   },
   "outputs": [
    {
     "name": "stdout",
     "output_type": "stream",
     "text": [
      "dough_fsm0_state0:['start(buy.0)']\n",
      "dough_fsm0_state1:['end(buy.0)']\n",
      "dough._fsm0_state0:['start(knead.0)']\n",
      "dough._fsm0_state1:['end(knead.0)']\n",
      "sauce_fsm0_state0:['start(put.1)']\n",
      "sauce_fsm0_state1:['end(put.1)']\n",
      "paprika_fsm0_state0:['start(put.2)']\n",
      "paprika_fsm0_state1:['end(put.2)']\n",
      "olives._fsm0_state0:['end(put.3)']\n",
      "olives._fsm0_state1:['start(put.3)']\n",
      "cheese_fsm0_state0:['start(spread.0)']\n",
      "cheese_fsm0_state1:['end(spread.0)']\n",
      "_fsm0_state0:['start(deliver.0)']\n",
      "_fsm0_state1:['end(deliver.0)']\n",
      "it_fsm0_state0:['end(take.0)']\n",
      "it_fsm0_state1:['end(put.0)', 'start(take.0)']\n",
      "it_fsm0_state2:['start(put.0)']\n"
     ]
    }
   ],
   "source": [
    "# state dictionary\n",
    "print_state_dictionary(state_dict_overall)"
   ]
  },
  {
   "cell_type": "markdown",
   "metadata": {},
   "source": [
    "## NER "
   ]
  },
  {
   "cell_type": "code",
   "execution_count": 86,
   "metadata": {},
   "outputs": [],
   "source": [
    "# finding entities using spacy\n",
    "import spacy\n",
    "from spacy import displacy\n",
    "import en_core_web_sm\n",
    "nlp = spacy.load('en_core_web_sm')\n",
    "doc = nlp(instructions)"
   ]
  },
  {
   "cell_type": "code",
   "execution_count": 87,
   "metadata": {},
   "outputs": [
    {
     "data": {
      "text/html": [
       "<div class=\"entities\" style=\"line-height: 2.5; direction: ltr\">make breakfast \n",
       "<mark class=\"entity\" style=\"background: #bfe1d9; padding: 0.45em 0.6em; margin: 0 0.25em; line-height: 1; border-radius: 0.35em; box-decoration-break: clone; -webkit-box-decoration-break: clone\">\n",
       "    the night\n",
       "    <span style=\"font-size: 0.8em; font-weight: bold; line-height: 1; border-radius: 0.35em; text-transform: uppercase; vertical-align: middle; margin-left: 0.5rem\">TIME</span>\n",
       "</mark>\n",
       " before with a hash brown casserole</br>Start by mixing together your cream of mushroom condensed soup sour cream salt pepper onion and cheese in a large bowl</br>After these are well combined add in the hash browns and mix gently</br>Spray your slow cooker with some non-stick cooking spray or coat with butter</br>This will prevent sticking so you don't have a huge mess to clean up</br>\n",
       "<mark class=\"entity\" style=\"background: #aa9cfc; padding: 0.45em 0.6em; margin: 0 0.25em; line-height: 1; border-radius: 0.35em; box-decoration-break: clone; -webkit-box-decoration-break: clone\">\n",
       "    Pour\n",
       "    <span style=\"font-size: 0.8em; font-weight: bold; line-height: 1; border-radius: 0.35em; text-transform: uppercase; vertical-align: middle; margin-left: 0.5rem\">PERSON</span>\n",
       "</mark>\n",
       " the hash brown mixture into your slow cooker and put the cover on</br>Turn the slow cooker on high and leave for \n",
       "<mark class=\"entity\" style=\"background: #bfe1d9; padding: 0.45em 0.6em; margin: 0 0.25em; line-height: 1; border-radius: 0.35em; box-decoration-break: clone; -webkit-box-decoration-break: clone\">\n",
       "    1 to 1.5 hours\n",
       "    <span style=\"font-size: 0.8em; font-weight: bold; line-height: 1; border-radius: 0.35em; text-transform: uppercase; vertical-align: middle; margin-left: 0.5rem\">TIME</span>\n",
       "</mark>\n",
       "</br>After this turn the heat to low and leave it on for \n",
       "<mark class=\"entity\" style=\"background: #bfe1d9; padding: 0.45em 0.6em; margin: 0 0.25em; line-height: 1; border-radius: 0.35em; box-decoration-break: clone; -webkit-box-decoration-break: clone\">\n",
       "    2.5 hours\n",
       "    <span style=\"font-size: 0.8em; font-weight: bold; line-height: 1; border-radius: 0.35em; text-transform: uppercase; vertical-align: middle; margin-left: 0.5rem\">TIME</span>\n",
       "</mark>\n",
       " longer\n",
       "Turn off slow cooker and serve right away\n",
       "Keep on warm if you plan on waiting to enjoy for a little bit longer\n",
       "It's best when served with scrambled eggs\n",
       "If you want to add something unique to this recipe add your favorite vegetables\n",
       "It's generally best to use soft vegetables or those that have been slightly cooked before you add them\n",
       "This will ensure they don't turn out hard when the rest of the dish is cooked fully\n",
       "Broccoli and cheese work well together but peppers also taste great\n",
       "You can also add in cooked sausage or bacon if you want some meat in the dish\n",
       "Just make sure that the meat you add is already cooked before it's put in\n",
       "If you add in raw meat it likely won't fully cook when the rest of the dish is done and may be raw\n",
       "This is a very forgiving recipe that you can play around with and change if you want to add or omit something\n",
       "You can do everything from adding in some garlic to switching the flavor of condensed soup you use</div>"
      ],
      "text/plain": [
       "<IPython.core.display.HTML object>"
      ]
     },
     "metadata": {},
     "output_type": "display_data"
    }
   ],
   "source": [
    "displacy.render(nlp(str(doc)), jupyter=True, style='ent')"
   ]
  },
  {
   "cell_type": "markdown",
   "metadata": {},
   "source": [
    "## Connect to Cytoscape"
   ]
  },
  {
   "cell_type": "code",
   "execution_count": 152,
   "metadata": {},
   "outputs": [
    {
     "name": "stdout",
     "output_type": "stream",
     "text": [
      "52\n"
     ]
    }
   ],
   "source": [
    "from py2cytoscape.data.cyrest_client import CyRestClient\n",
    "import networkx as nx\n",
    "from py2cytoscape.util import from_networkx\n",
    "cy = CyRestClient()\n",
    "network = cy.network.create(name='pizza.graphml', collection='pizza.graphml')\n",
    "print(network.get_id())"
   ]
  },
  {
   "cell_type": "code",
   "execution_count": 92,
   "metadata": {},
   "outputs": [
    {
     "data": {
      "text/plain": [
       "{'allAppsStarted': True,\n",
       " 'apiVersion': 'v1',\n",
       " 'numberOfCores': 4,\n",
       " 'memoryStatus': {'usedMemory': 485,\n",
       "  'freeMemory': 2674,\n",
       "  'totalMemory': 3160,\n",
       "  'maxMemory': 6917}}"
      ]
     },
     "execution_count": 92,
     "metadata": {},
     "output_type": "execute_result"
    }
   ],
   "source": [
    "cy.status()\n"
   ]
  },
  {
   "cell_type": "code",
   "execution_count": 94,
   "metadata": {},
   "outputs": [
    {
     "ename": "TypeError",
     "evalue": "'CyNetwork' object is not subscriptable",
     "output_type": "error",
     "traceback": [
      "\u001b[0;31m---------------------------------------------------------------------------\u001b[0m",
      "\u001b[0;31mTypeError\u001b[0m                                 Traceback (most recent call last)",
      "\u001b[0;32m<ipython-input-94-b337d1e17629>\u001b[0m in \u001b[0;36m<module>\u001b[0;34m()\u001b[0m\n\u001b[1;32m      1\u001b[0m \u001b[0;32mfrom\u001b[0m \u001b[0mpy2cytoscape\u001b[0m\u001b[0;34m.\u001b[0m\u001b[0mcytoscapejs\u001b[0m \u001b[0;32mimport\u001b[0m \u001b[0mviewer\u001b[0m \u001b[0;32mas\u001b[0m \u001b[0mcyjs\u001b[0m\u001b[0;34m\u001b[0m\u001b[0m\n\u001b[0;32m----> 2\u001b[0;31m \u001b[0mcyjs\u001b[0m\u001b[0;34m.\u001b[0m\u001b[0mrender\u001b[0m\u001b[0;34m(\u001b[0m\u001b[0mnetwork\u001b[0m\u001b[0;34m)\u001b[0m\u001b[0;34m\u001b[0m\u001b[0m\n\u001b[0m",
      "\u001b[0;32m/Library/Frameworks/Python.framework/Versions/3.6/lib/python3.6/site-packages/py2cytoscape/cytoscapejs/viewer.py\u001b[0m in \u001b[0;36mrender\u001b[0;34m(network, style, layout_algorithm, background, height, width, style_file, def_nodes, def_edges)\u001b[0m\n\u001b[1;32m    100\u001b[0m         \u001b[0medges\u001b[0m \u001b[0;34m=\u001b[0m \u001b[0mdef_edges\u001b[0m\u001b[0;34m\u001b[0m\u001b[0m\n\u001b[1;32m    101\u001b[0m     \u001b[0;32melse\u001b[0m\u001b[0;34m:\u001b[0m\u001b[0;34m\u001b[0m\u001b[0m\n\u001b[0;32m--> 102\u001b[0;31m         \u001b[0mnodes\u001b[0m \u001b[0;34m=\u001b[0m \u001b[0mnetwork\u001b[0m\u001b[0;34m[\u001b[0m\u001b[0;34m'elements'\u001b[0m\u001b[0;34m]\u001b[0m\u001b[0;34m[\u001b[0m\u001b[0;34m'nodes'\u001b[0m\u001b[0;34m]\u001b[0m\u001b[0;34m\u001b[0m\u001b[0m\n\u001b[0m\u001b[1;32m    103\u001b[0m         \u001b[0medges\u001b[0m \u001b[0;34m=\u001b[0m \u001b[0mnetwork\u001b[0m\u001b[0;34m[\u001b[0m\u001b[0;34m'elements'\u001b[0m\u001b[0;34m]\u001b[0m\u001b[0;34m[\u001b[0m\u001b[0;34m'edges'\u001b[0m\u001b[0;34m]\u001b[0m\u001b[0;34m\u001b[0m\u001b[0m\n\u001b[1;32m    104\u001b[0m \u001b[0;34m\u001b[0m\u001b[0m\n",
      "\u001b[0;31mTypeError\u001b[0m: 'CyNetwork' object is not subscriptable"
     ]
    }
   ],
   "source": [
    "from py2cytoscape.cytoscapejs import viewer as cyjs\n",
    "cyjs.render(network)"
   ]
  },
  {
   "cell_type": "code",
   "execution_count": null,
   "metadata": {},
   "outputs": [],
   "source": [
    "\n"
   ]
  },
  {
   "cell_type": "code",
   "execution_count": null,
   "metadata": {},
   "outputs": [],
   "source": []
  },
  {
   "cell_type": "code",
   "execution_count": null,
   "metadata": {},
   "outputs": [],
   "source": []
  }
 ],
 "metadata": {
  "kernelspec": {
   "display_name": "Python 3",
   "language": "python",
   "name": "python3"
  },
  "language_info": {
   "codemirror_mode": {
    "name": "ipython",
    "version": 3
   },
   "file_extension": ".py",
   "mimetype": "text/x-python",
   "name": "python",
   "nbconvert_exporter": "python",
   "pygments_lexer": "ipython3",
   "version": "3.6.2"
  }
 },
 "nbformat": 4,
 "nbformat_minor": 2
}
